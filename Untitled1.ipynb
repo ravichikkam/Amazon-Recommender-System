{
 "cells": [
  {
   "cell_type": "code",
   "execution_count": 1,
   "metadata": {
    "collapsed": false
   },
   "outputs": [],
   "source": [
    "import graphlab as gl\n",
    "from graphlab import SFrame"
   ]
  },
  {
   "cell_type": "code",
   "execution_count": 2,
   "metadata": {
    "collapsed": true
   },
   "outputs": [],
   "source": [
    "import pandas as pd"
   ]
  },
  {
   "cell_type": "code",
   "execution_count": 3,
   "metadata": {
    "collapsed": false
   },
   "outputs": [
    {
     "data": {
      "text/html": [
       "<div>\n",
       "<table border=\"1\" class=\"dataframe\">\n",
       "  <thead>\n",
       "    <tr style=\"text-align: right;\">\n",
       "      <th></th>\n",
       "      <th>0</th>\n",
       "      <th>1</th>\n",
       "      <th>2</th>\n",
       "      <th>3</th>\n",
       "    </tr>\n",
       "  </thead>\n",
       "  <tbody>\n",
       "    <tr>\n",
       "      <th>0</th>\n",
       "      <td>A3R5OBKS7OM2IR</td>\n",
       "      <td>0000143502</td>\n",
       "      <td>5.0</td>\n",
       "      <td>1358380800</td>\n",
       "    </tr>\n",
       "    <tr>\n",
       "      <th>1</th>\n",
       "      <td>A3R5OBKS7OM2IR</td>\n",
       "      <td>0000143529</td>\n",
       "      <td>5.0</td>\n",
       "      <td>1380672000</td>\n",
       "    </tr>\n",
       "    <tr>\n",
       "      <th>2</th>\n",
       "      <td>AH3QC2PC1VTGP</td>\n",
       "      <td>0000143561</td>\n",
       "      <td>2.0</td>\n",
       "      <td>1216252800</td>\n",
       "    </tr>\n",
       "    <tr>\n",
       "      <th>3</th>\n",
       "      <td>A3LKP6WPMP9UKX</td>\n",
       "      <td>0000143588</td>\n",
       "      <td>5.0</td>\n",
       "      <td>1236902400</td>\n",
       "    </tr>\n",
       "    <tr>\n",
       "      <th>4</th>\n",
       "      <td>AVIY68KEPQ5ZD</td>\n",
       "      <td>0000143588</td>\n",
       "      <td>5.0</td>\n",
       "      <td>1232236800</td>\n",
       "    </tr>\n",
       "    <tr>\n",
       "      <th>5</th>\n",
       "      <td>A1CV1WROP5KTTW</td>\n",
       "      <td>0000589012</td>\n",
       "      <td>5.0</td>\n",
       "      <td>1309651200</td>\n",
       "    </tr>\n",
       "    <tr>\n",
       "      <th>6</th>\n",
       "      <td>AP57WZ2X4G0AA</td>\n",
       "      <td>0000589012</td>\n",
       "      <td>2.0</td>\n",
       "      <td>1366675200</td>\n",
       "    </tr>\n",
       "    <tr>\n",
       "      <th>7</th>\n",
       "      <td>A3NMBJ2LCRCATT</td>\n",
       "      <td>0000589012</td>\n",
       "      <td>5.0</td>\n",
       "      <td>1393804800</td>\n",
       "    </tr>\n",
       "    <tr>\n",
       "      <th>8</th>\n",
       "      <td>A5Y15SAOMX6XA</td>\n",
       "      <td>0000589012</td>\n",
       "      <td>2.0</td>\n",
       "      <td>1307404800</td>\n",
       "    </tr>\n",
       "    <tr>\n",
       "      <th>9</th>\n",
       "      <td>A3P671HJ32TCSF</td>\n",
       "      <td>0000589012</td>\n",
       "      <td>5.0</td>\n",
       "      <td>1393718400</td>\n",
       "    </tr>\n",
       "  </tbody>\n",
       "</table>\n",
       "</div>"
      ],
      "text/plain": [
       "                0           1    2           3\n",
       "0  A3R5OBKS7OM2IR  0000143502  5.0  1358380800\n",
       "1  A3R5OBKS7OM2IR  0000143529  5.0  1380672000\n",
       "2   AH3QC2PC1VTGP  0000143561  2.0  1216252800\n",
       "3  A3LKP6WPMP9UKX  0000143588  5.0  1236902400\n",
       "4   AVIY68KEPQ5ZD  0000143588  5.0  1232236800\n",
       "5  A1CV1WROP5KTTW  0000589012  5.0  1309651200\n",
       "6   AP57WZ2X4G0AA  0000589012  2.0  1366675200\n",
       "7  A3NMBJ2LCRCATT  0000589012  5.0  1393804800\n",
       "8   A5Y15SAOMX6XA  0000589012  2.0  1307404800\n",
       "9  A3P671HJ32TCSF  0000589012  5.0  1393718400"
      ]
     },
     "execution_count": 3,
     "metadata": {},
     "output_type": "execute_result"
    }
   ],
   "source": [
    "data = pd.read_csv(\"C:/Users/Sai/Downloads/ratings_Movies_and_TV.csv\", header=None)\n",
    "data.head(10)"
   ]
  },
  {
   "cell_type": "code",
   "execution_count": 4,
   "metadata": {
    "collapsed": false
   },
   "outputs": [
    {
     "data": {
      "text/html": [
       "<div>\n",
       "<table border=\"1\" class=\"dataframe\">\n",
       "  <thead>\n",
       "    <tr style=\"text-align: right;\">\n",
       "      <th></th>\n",
       "      <th>userid</th>\n",
       "      <th>productid</th>\n",
       "      <th>rating</th>\n",
       "    </tr>\n",
       "  </thead>\n",
       "  <tbody>\n",
       "    <tr>\n",
       "      <th>0</th>\n",
       "      <td>A3R5OBKS7OM2IR</td>\n",
       "      <td>0000143502</td>\n",
       "      <td>5.0</td>\n",
       "    </tr>\n",
       "    <tr>\n",
       "      <th>1</th>\n",
       "      <td>A3R5OBKS7OM2IR</td>\n",
       "      <td>0000143529</td>\n",
       "      <td>5.0</td>\n",
       "    </tr>\n",
       "    <tr>\n",
       "      <th>2</th>\n",
       "      <td>AH3QC2PC1VTGP</td>\n",
       "      <td>0000143561</td>\n",
       "      <td>2.0</td>\n",
       "    </tr>\n",
       "    <tr>\n",
       "      <th>3</th>\n",
       "      <td>A3LKP6WPMP9UKX</td>\n",
       "      <td>0000143588</td>\n",
       "      <td>5.0</td>\n",
       "    </tr>\n",
       "    <tr>\n",
       "      <th>4</th>\n",
       "      <td>AVIY68KEPQ5ZD</td>\n",
       "      <td>0000143588</td>\n",
       "      <td>5.0</td>\n",
       "    </tr>\n",
       "    <tr>\n",
       "      <th>5</th>\n",
       "      <td>A1CV1WROP5KTTW</td>\n",
       "      <td>0000589012</td>\n",
       "      <td>5.0</td>\n",
       "    </tr>\n",
       "    <tr>\n",
       "      <th>6</th>\n",
       "      <td>AP57WZ2X4G0AA</td>\n",
       "      <td>0000589012</td>\n",
       "      <td>2.0</td>\n",
       "    </tr>\n",
       "    <tr>\n",
       "      <th>7</th>\n",
       "      <td>A3NMBJ2LCRCATT</td>\n",
       "      <td>0000589012</td>\n",
       "      <td>5.0</td>\n",
       "    </tr>\n",
       "    <tr>\n",
       "      <th>8</th>\n",
       "      <td>A5Y15SAOMX6XA</td>\n",
       "      <td>0000589012</td>\n",
       "      <td>2.0</td>\n",
       "    </tr>\n",
       "    <tr>\n",
       "      <th>9</th>\n",
       "      <td>A3P671HJ32TCSF</td>\n",
       "      <td>0000589012</td>\n",
       "      <td>5.0</td>\n",
       "    </tr>\n",
       "    <tr>\n",
       "      <th>10</th>\n",
       "      <td>A3VCKTRD24BG7K</td>\n",
       "      <td>0000589012</td>\n",
       "      <td>5.0</td>\n",
       "    </tr>\n",
       "    <tr>\n",
       "      <th>11</th>\n",
       "      <td>ANF0AGIV0JCH2</td>\n",
       "      <td>0000589012</td>\n",
       "      <td>5.0</td>\n",
       "    </tr>\n",
       "    <tr>\n",
       "      <th>12</th>\n",
       "      <td>A3LDEBLV6MVUBE</td>\n",
       "      <td>0000589012</td>\n",
       "      <td>5.0</td>\n",
       "    </tr>\n",
       "    <tr>\n",
       "      <th>13</th>\n",
       "      <td>A1R2XZWQ6NM5M1</td>\n",
       "      <td>0000589012</td>\n",
       "      <td>5.0</td>\n",
       "    </tr>\n",
       "    <tr>\n",
       "      <th>14</th>\n",
       "      <td>A36L1XGA5AQIJY</td>\n",
       "      <td>0000589012</td>\n",
       "      <td>1.0</td>\n",
       "    </tr>\n",
       "    <tr>\n",
       "      <th>15</th>\n",
       "      <td>A2HWI21H23GDS4</td>\n",
       "      <td>0000589012</td>\n",
       "      <td>4.0</td>\n",
       "    </tr>\n",
       "    <tr>\n",
       "      <th>16</th>\n",
       "      <td>A1DNYFL3RSXRMO</td>\n",
       "      <td>0000589012</td>\n",
       "      <td>5.0</td>\n",
       "    </tr>\n",
       "    <tr>\n",
       "      <th>17</th>\n",
       "      <td>A39VF226GBM1JH</td>\n",
       "      <td>0000589012</td>\n",
       "      <td>1.0</td>\n",
       "    </tr>\n",
       "    <tr>\n",
       "      <th>18</th>\n",
       "      <td>ASB0E2O2FLNA7</td>\n",
       "      <td>0000589012</td>\n",
       "      <td>5.0</td>\n",
       "    </tr>\n",
       "    <tr>\n",
       "      <th>19</th>\n",
       "      <td>A19E15Y9V09CVJ</td>\n",
       "      <td>0000589012</td>\n",
       "      <td>5.0</td>\n",
       "    </tr>\n",
       "    <tr>\n",
       "      <th>20</th>\n",
       "      <td>A3K979KQ7K0S5K</td>\n",
       "      <td>0000589012</td>\n",
       "      <td>5.0</td>\n",
       "    </tr>\n",
       "    <tr>\n",
       "      <th>21</th>\n",
       "      <td>A39ZX6X5H2N4TS</td>\n",
       "      <td>0000589012</td>\n",
       "      <td>5.0</td>\n",
       "    </tr>\n",
       "    <tr>\n",
       "      <th>22</th>\n",
       "      <td>A2Z3ZHQI6YXKHH</td>\n",
       "      <td>0000589012</td>\n",
       "      <td>5.0</td>\n",
       "    </tr>\n",
       "    <tr>\n",
       "      <th>23</th>\n",
       "      <td>A2RNKU9KJHQ2BV</td>\n",
       "      <td>0000589012</td>\n",
       "      <td>5.0</td>\n",
       "    </tr>\n",
       "    <tr>\n",
       "      <th>24</th>\n",
       "      <td>A30WLYNJA3B17H</td>\n",
       "      <td>0000589012</td>\n",
       "      <td>5.0</td>\n",
       "    </tr>\n",
       "    <tr>\n",
       "      <th>25</th>\n",
       "      <td>A3LI15T4YR5WD6</td>\n",
       "      <td>0000589012</td>\n",
       "      <td>5.0</td>\n",
       "    </tr>\n",
       "    <tr>\n",
       "      <th>26</th>\n",
       "      <td>AV3UWBH6K0ETD</td>\n",
       "      <td>0000589012</td>\n",
       "      <td>2.0</td>\n",
       "    </tr>\n",
       "    <tr>\n",
       "      <th>27</th>\n",
       "      <td>A312A70K5UUL1N</td>\n",
       "      <td>0000589012</td>\n",
       "      <td>1.0</td>\n",
       "    </tr>\n",
       "    <tr>\n",
       "      <th>28</th>\n",
       "      <td>A23PSBNOBPLCOM</td>\n",
       "      <td>0000589012</td>\n",
       "      <td>5.0</td>\n",
       "    </tr>\n",
       "    <tr>\n",
       "      <th>29</th>\n",
       "      <td>ATEOWCA0EHRQR</td>\n",
       "      <td>0000589012</td>\n",
       "      <td>5.0</td>\n",
       "    </tr>\n",
       "    <tr>\n",
       "      <th>...</th>\n",
       "      <td>...</td>\n",
       "      <td>...</td>\n",
       "      <td>...</td>\n",
       "    </tr>\n",
       "    <tr>\n",
       "      <th>4607017</th>\n",
       "      <td>A373WTUU2A4TB1</td>\n",
       "      <td>B00LT1JHLW</td>\n",
       "      <td>1.0</td>\n",
       "    </tr>\n",
       "    <tr>\n",
       "      <th>4607018</th>\n",
       "      <td>APO10VQE3MAKE</td>\n",
       "      <td>B00LT1JHLW</td>\n",
       "      <td>5.0</td>\n",
       "    </tr>\n",
       "    <tr>\n",
       "      <th>4607019</th>\n",
       "      <td>A3SXHFEBPOKVUH</td>\n",
       "      <td>B00LT1JHLW</td>\n",
       "      <td>2.0</td>\n",
       "    </tr>\n",
       "    <tr>\n",
       "      <th>4607020</th>\n",
       "      <td>A27BVKLQCW1LCK</td>\n",
       "      <td>B00LT1JHLW</td>\n",
       "      <td>1.0</td>\n",
       "    </tr>\n",
       "    <tr>\n",
       "      <th>4607021</th>\n",
       "      <td>A2MDEBN84TK4HY</td>\n",
       "      <td>B00LT1JHLW</td>\n",
       "      <td>5.0</td>\n",
       "    </tr>\n",
       "    <tr>\n",
       "      <th>4607022</th>\n",
       "      <td>A1WIEH8LK7GX7F</td>\n",
       "      <td>B00LT1JHLW</td>\n",
       "      <td>3.0</td>\n",
       "    </tr>\n",
       "    <tr>\n",
       "      <th>4607023</th>\n",
       "      <td>A2HQOBGW2YYVWQ</td>\n",
       "      <td>B00LT1JHLW</td>\n",
       "      <td>5.0</td>\n",
       "    </tr>\n",
       "    <tr>\n",
       "      <th>4607024</th>\n",
       "      <td>A3PPYOJBMFBP6U</td>\n",
       "      <td>B00LT1JHLW</td>\n",
       "      <td>4.0</td>\n",
       "    </tr>\n",
       "    <tr>\n",
       "      <th>4607025</th>\n",
       "      <td>AZ53XS4PR44Y6</td>\n",
       "      <td>B00LT1JHLW</td>\n",
       "      <td>5.0</td>\n",
       "    </tr>\n",
       "    <tr>\n",
       "      <th>4607026</th>\n",
       "      <td>A1SUH1KA8QVMB7</td>\n",
       "      <td>B00LT1JHLW</td>\n",
       "      <td>5.0</td>\n",
       "    </tr>\n",
       "    <tr>\n",
       "      <th>4607027</th>\n",
       "      <td>ABR3VSYZC1U8E</td>\n",
       "      <td>B00LT1JHLW</td>\n",
       "      <td>5.0</td>\n",
       "    </tr>\n",
       "    <tr>\n",
       "      <th>4607028</th>\n",
       "      <td>A3UHLJGZ2E84A5</td>\n",
       "      <td>B00LT1JHLW</td>\n",
       "      <td>3.0</td>\n",
       "    </tr>\n",
       "    <tr>\n",
       "      <th>4607029</th>\n",
       "      <td>A3GETW3JAL83CW</td>\n",
       "      <td>B00LT1JHLW</td>\n",
       "      <td>5.0</td>\n",
       "    </tr>\n",
       "    <tr>\n",
       "      <th>4607030</th>\n",
       "      <td>A2W4094HU4OLC2</td>\n",
       "      <td>B00LT1JHLW</td>\n",
       "      <td>5.0</td>\n",
       "    </tr>\n",
       "    <tr>\n",
       "      <th>4607031</th>\n",
       "      <td>A22OB0DIJ5FO0G</td>\n",
       "      <td>B00LT1JHLW</td>\n",
       "      <td>4.0</td>\n",
       "    </tr>\n",
       "    <tr>\n",
       "      <th>4607032</th>\n",
       "      <td>A3N9VZS1HE5FHN</td>\n",
       "      <td>B00LT1JHLW</td>\n",
       "      <td>5.0</td>\n",
       "    </tr>\n",
       "    <tr>\n",
       "      <th>4607033</th>\n",
       "      <td>A2CA2Q6JS6CQAE</td>\n",
       "      <td>B00LT1JHLW</td>\n",
       "      <td>5.0</td>\n",
       "    </tr>\n",
       "    <tr>\n",
       "      <th>4607034</th>\n",
       "      <td>AV657BUYHHXZ2</td>\n",
       "      <td>B00LT1JHLW</td>\n",
       "      <td>1.0</td>\n",
       "    </tr>\n",
       "    <tr>\n",
       "      <th>4607035</th>\n",
       "      <td>A1WJYTH5MZ4XMG</td>\n",
       "      <td>B00LT1JHLW</td>\n",
       "      <td>2.0</td>\n",
       "    </tr>\n",
       "    <tr>\n",
       "      <th>4607036</th>\n",
       "      <td>A39ZVXBZ7SJJZ9</td>\n",
       "      <td>B00LT1JHLW</td>\n",
       "      <td>1.0</td>\n",
       "    </tr>\n",
       "    <tr>\n",
       "      <th>4607037</th>\n",
       "      <td>A17W587EH23J0Q</td>\n",
       "      <td>B00LT1JHLW</td>\n",
       "      <td>5.0</td>\n",
       "    </tr>\n",
       "    <tr>\n",
       "      <th>4607038</th>\n",
       "      <td>A3E4Q2YOYCKXON</td>\n",
       "      <td>B00LT1JHLW</td>\n",
       "      <td>5.0</td>\n",
       "    </tr>\n",
       "    <tr>\n",
       "      <th>4607039</th>\n",
       "      <td>A1U1UNV1RLCKRL</td>\n",
       "      <td>B00LT1JHLW</td>\n",
       "      <td>3.0</td>\n",
       "    </tr>\n",
       "    <tr>\n",
       "      <th>4607040</th>\n",
       "      <td>A14THKG1X8861X</td>\n",
       "      <td>B00LT1JHLW</td>\n",
       "      <td>5.0</td>\n",
       "    </tr>\n",
       "    <tr>\n",
       "      <th>4607041</th>\n",
       "      <td>A3DE438TF1A958</td>\n",
       "      <td>B00LT1JHLW</td>\n",
       "      <td>5.0</td>\n",
       "    </tr>\n",
       "    <tr>\n",
       "      <th>4607042</th>\n",
       "      <td>AHCV1RTGY3PJ8</td>\n",
       "      <td>B00LT1JHLW</td>\n",
       "      <td>5.0</td>\n",
       "    </tr>\n",
       "    <tr>\n",
       "      <th>4607043</th>\n",
       "      <td>A2RWCXDMANY0LW</td>\n",
       "      <td>B00LT1JHLW</td>\n",
       "      <td>5.0</td>\n",
       "    </tr>\n",
       "    <tr>\n",
       "      <th>4607044</th>\n",
       "      <td>A3V9PIFRME2XCW</td>\n",
       "      <td>B00LT1JHLW</td>\n",
       "      <td>5.0</td>\n",
       "    </tr>\n",
       "    <tr>\n",
       "      <th>4607045</th>\n",
       "      <td>A3ROPC55BE2OM9</td>\n",
       "      <td>B00LT1JHLW</td>\n",
       "      <td>5.0</td>\n",
       "    </tr>\n",
       "    <tr>\n",
       "      <th>4607046</th>\n",
       "      <td>A2ARBNMH5Q5YM1</td>\n",
       "      <td>B00LVGP8EA</td>\n",
       "      <td>5.0</td>\n",
       "    </tr>\n",
       "  </tbody>\n",
       "</table>\n",
       "<p>4607047 rows × 3 columns</p>\n",
       "</div>"
      ],
      "text/plain": [
       "                 userid   productid  rating\n",
       "0        A3R5OBKS7OM2IR  0000143502     5.0\n",
       "1        A3R5OBKS7OM2IR  0000143529     5.0\n",
       "2         AH3QC2PC1VTGP  0000143561     2.0\n",
       "3        A3LKP6WPMP9UKX  0000143588     5.0\n",
       "4         AVIY68KEPQ5ZD  0000143588     5.0\n",
       "5        A1CV1WROP5KTTW  0000589012     5.0\n",
       "6         AP57WZ2X4G0AA  0000589012     2.0\n",
       "7        A3NMBJ2LCRCATT  0000589012     5.0\n",
       "8         A5Y15SAOMX6XA  0000589012     2.0\n",
       "9        A3P671HJ32TCSF  0000589012     5.0\n",
       "10       A3VCKTRD24BG7K  0000589012     5.0\n",
       "11        ANF0AGIV0JCH2  0000589012     5.0\n",
       "12       A3LDEBLV6MVUBE  0000589012     5.0\n",
       "13       A1R2XZWQ6NM5M1  0000589012     5.0\n",
       "14       A36L1XGA5AQIJY  0000589012     1.0\n",
       "15       A2HWI21H23GDS4  0000589012     4.0\n",
       "16       A1DNYFL3RSXRMO  0000589012     5.0\n",
       "17       A39VF226GBM1JH  0000589012     1.0\n",
       "18        ASB0E2O2FLNA7  0000589012     5.0\n",
       "19       A19E15Y9V09CVJ  0000589012     5.0\n",
       "20       A3K979KQ7K0S5K  0000589012     5.0\n",
       "21       A39ZX6X5H2N4TS  0000589012     5.0\n",
       "22       A2Z3ZHQI6YXKHH  0000589012     5.0\n",
       "23       A2RNKU9KJHQ2BV  0000589012     5.0\n",
       "24       A30WLYNJA3B17H  0000589012     5.0\n",
       "25       A3LI15T4YR5WD6  0000589012     5.0\n",
       "26        AV3UWBH6K0ETD  0000589012     2.0\n",
       "27       A312A70K5UUL1N  0000589012     1.0\n",
       "28       A23PSBNOBPLCOM  0000589012     5.0\n",
       "29        ATEOWCA0EHRQR  0000589012     5.0\n",
       "...                 ...         ...     ...\n",
       "4607017  A373WTUU2A4TB1  B00LT1JHLW     1.0\n",
       "4607018   APO10VQE3MAKE  B00LT1JHLW     5.0\n",
       "4607019  A3SXHFEBPOKVUH  B00LT1JHLW     2.0\n",
       "4607020  A27BVKLQCW1LCK  B00LT1JHLW     1.0\n",
       "4607021  A2MDEBN84TK4HY  B00LT1JHLW     5.0\n",
       "4607022  A1WIEH8LK7GX7F  B00LT1JHLW     3.0\n",
       "4607023  A2HQOBGW2YYVWQ  B00LT1JHLW     5.0\n",
       "4607024  A3PPYOJBMFBP6U  B00LT1JHLW     4.0\n",
       "4607025   AZ53XS4PR44Y6  B00LT1JHLW     5.0\n",
       "4607026  A1SUH1KA8QVMB7  B00LT1JHLW     5.0\n",
       "4607027   ABR3VSYZC1U8E  B00LT1JHLW     5.0\n",
       "4607028  A3UHLJGZ2E84A5  B00LT1JHLW     3.0\n",
       "4607029  A3GETW3JAL83CW  B00LT1JHLW     5.0\n",
       "4607030  A2W4094HU4OLC2  B00LT1JHLW     5.0\n",
       "4607031  A22OB0DIJ5FO0G  B00LT1JHLW     4.0\n",
       "4607032  A3N9VZS1HE5FHN  B00LT1JHLW     5.0\n",
       "4607033  A2CA2Q6JS6CQAE  B00LT1JHLW     5.0\n",
       "4607034   AV657BUYHHXZ2  B00LT1JHLW     1.0\n",
       "4607035  A1WJYTH5MZ4XMG  B00LT1JHLW     2.0\n",
       "4607036  A39ZVXBZ7SJJZ9  B00LT1JHLW     1.0\n",
       "4607037  A17W587EH23J0Q  B00LT1JHLW     5.0\n",
       "4607038  A3E4Q2YOYCKXON  B00LT1JHLW     5.0\n",
       "4607039  A1U1UNV1RLCKRL  B00LT1JHLW     3.0\n",
       "4607040  A14THKG1X8861X  B00LT1JHLW     5.0\n",
       "4607041  A3DE438TF1A958  B00LT1JHLW     5.0\n",
       "4607042   AHCV1RTGY3PJ8  B00LT1JHLW     5.0\n",
       "4607043  A2RWCXDMANY0LW  B00LT1JHLW     5.0\n",
       "4607044  A3V9PIFRME2XCW  B00LT1JHLW     5.0\n",
       "4607045  A3ROPC55BE2OM9  B00LT1JHLW     5.0\n",
       "4607046  A2ARBNMH5Q5YM1  B00LVGP8EA     5.0\n",
       "\n",
       "[4607047 rows x 3 columns]"
      ]
     },
     "execution_count": 4,
     "metadata": {},
     "output_type": "execute_result"
    }
   ],
   "source": [
    "data.columns = [\"userid\", \"productid\", \"rating\", \"timestamp\"]\n",
    "data.drop([\"timestamp\"], axis = 1)"
   ]
  },
  {
   "cell_type": "code",
   "execution_count": 5,
   "metadata": {
    "collapsed": false
   },
   "outputs": [
    {
     "name": "stdout",
     "output_type": "stream",
     "text": [
      "This non-commercial license of GraphLab Create for academic use is assigned to skypa2@asu.edu and will expire on April 30, 2019.\n"
     ]
    },
    {
     "name": "stderr",
     "output_type": "stream",
     "text": [
      "[INFO] graphlab.cython.cy_server: GraphLab Create v2.0.1 started. Logging: C:\\Users\\Sai\\AppData\\Local\\Temp\\graphlab_server_1525114704.log.0\n"
     ]
    }
   ],
   "source": [
    "sf = gl.SFrame({'user_id': data['userid'],\n",
    "                      'item_id': data['productid'],\n",
    "                      'rating': data['rating']})"
   ]
  },
  {
   "cell_type": "code",
   "execution_count": null,
   "metadata": {
    "collapsed": false
   },
   "outputs": [
    {
     "data": {
      "text/html": [
       "<pre>Recsys training: model = item_similarity</pre>"
      ],
      "text/plain": [
       "Recsys training: model = item_similarity"
      ]
     },
     "metadata": {},
     "output_type": "display_data"
    },
    {
     "data": {
      "text/html": [
       "<pre>Warning: Column 'rating' ignored.</pre>"
      ],
      "text/plain": [
       "Warning: Column 'rating' ignored."
      ]
     },
     "metadata": {},
     "output_type": "display_data"
    },
    {
     "data": {
      "text/html": [
       "<pre>    To use this column as the target, set target = \"rating\" and use a method that allows the use of a target.</pre>"
      ],
      "text/plain": [
       "    To use this column as the target, set target = \"rating\" and use a method that allows the use of a target."
      ]
     },
     "metadata": {},
     "output_type": "display_data"
    },
    {
     "data": {
      "text/html": [
       "<pre>Preparing data set.</pre>"
      ],
      "text/plain": [
       "Preparing data set."
      ]
     },
     "metadata": {},
     "output_type": "display_data"
    },
    {
     "data": {
      "text/html": [
       "<pre>    Data has 4606670 observations with 2088478 users and 200937 items.</pre>"
      ],
      "text/plain": [
       "    Data has 4606670 observations with 2088478 users and 200937 items."
      ]
     },
     "metadata": {},
     "output_type": "display_data"
    },
    {
     "data": {
      "text/html": [
       "<pre>    Data prepared in: 7.26334s</pre>"
      ],
      "text/plain": [
       "    Data prepared in: 7.26334s"
      ]
     },
     "metadata": {},
     "output_type": "display_data"
    },
    {
     "data": {
      "text/html": [
       "<pre>Training model from provided data.</pre>"
      ],
      "text/plain": [
       "Training model from provided data."
      ]
     },
     "metadata": {},
     "output_type": "display_data"
    },
    {
     "data": {
      "text/html": [
       "<pre>Gathering per-item and per-user statistics.</pre>"
      ],
      "text/plain": [
       "Gathering per-item and per-user statistics."
      ]
     },
     "metadata": {},
     "output_type": "display_data"
    },
    {
     "data": {
      "text/html": [
       "<pre>+--------------------------------+------------+</pre>"
      ],
      "text/plain": [
       "+--------------------------------+------------+"
      ]
     },
     "metadata": {},
     "output_type": "display_data"
    },
    {
     "data": {
      "text/html": [
       "<pre>| Elapsed Time (Item Statistics) | % Complete |</pre>"
      ],
      "text/plain": [
       "| Elapsed Time (Item Statistics) | % Complete |"
      ]
     },
     "metadata": {},
     "output_type": "display_data"
    },
    {
     "data": {
      "text/html": [
       "<pre>+--------------------------------+------------+</pre>"
      ],
      "text/plain": [
       "+--------------------------------+------------+"
      ]
     },
     "metadata": {},
     "output_type": "display_data"
    },
    {
     "data": {
      "text/html": [
       "<pre>| 117.866ms                      | 0.75       |</pre>"
      ],
      "text/plain": [
       "| 117.866ms                      | 0.75       |"
      ]
     },
     "metadata": {},
     "output_type": "display_data"
    },
    {
     "data": {
      "text/html": [
       "<pre>| 335.753ms                      | 100        |</pre>"
      ],
      "text/plain": [
       "| 335.753ms                      | 100        |"
      ]
     },
     "metadata": {},
     "output_type": "display_data"
    },
    {
     "data": {
      "text/html": [
       "<pre>+--------------------------------+------------+</pre>"
      ],
      "text/plain": [
       "+--------------------------------+------------+"
      ]
     },
     "metadata": {},
     "output_type": "display_data"
    },
    {
     "data": {
      "text/html": [
       "<pre>Setting up lookup tables.</pre>"
      ],
      "text/plain": [
       "Setting up lookup tables."
      ]
     },
     "metadata": {},
     "output_type": "display_data"
    },
    {
     "data": {
      "text/html": [
       "<pre>Processing data in one pass using sparse lookup tables.</pre>"
      ],
      "text/plain": [
       "Processing data in one pass using sparse lookup tables."
      ]
     },
     "metadata": {},
     "output_type": "display_data"
    },
    {
     "data": {
      "text/html": [
       "<pre>+-------------------------------------+------------------+-----------------+</pre>"
      ],
      "text/plain": [
       "+-------------------------------------+------------------+-----------------+"
      ]
     },
     "metadata": {},
     "output_type": "display_data"
    },
    {
     "data": {
      "text/html": [
       "<pre>| Elapsed Time (Constructing Lookups) | Total % Complete | Items Processed |</pre>"
      ],
      "text/plain": [
       "| Elapsed Time (Constructing Lookups) | Total % Complete | Items Processed |"
      ]
     },
     "metadata": {},
     "output_type": "display_data"
    },
    {
     "data": {
      "text/html": [
       "<pre>+-------------------------------------+------------------+-----------------+</pre>"
      ],
      "text/plain": [
       "+-------------------------------------+------------------+-----------------+"
      ]
     },
     "metadata": {},
     "output_type": "display_data"
    },
    {
     "data": {
      "text/html": [
       "<pre>| 2.88s                               | 0                | 0               |</pre>"
      ],
      "text/plain": [
       "| 2.88s                               | 0                | 0               |"
      ]
     },
     "metadata": {},
     "output_type": "display_data"
    },
    {
     "data": {
      "text/html": [
       "<pre>| 3.89s                               | 5.5              | 11254           |</pre>"
      ],
      "text/plain": [
       "| 3.89s                               | 5.5              | 11254           |"
      ]
     },
     "metadata": {},
     "output_type": "display_data"
    },
    {
     "data": {
      "text/html": [
       "<pre>| 4.90s                               | 13.25            | 27013           |</pre>"
      ],
      "text/plain": [
       "| 4.90s                               | 13.25            | 27013           |"
      ]
     },
     "metadata": {},
     "output_type": "display_data"
    },
    {
     "data": {
      "text/html": [
       "<pre>| 5.94s                               | 18.25            | 36782           |</pre>"
      ],
      "text/plain": [
       "| 5.94s                               | 18.25            | 36782           |"
      ]
     },
     "metadata": {},
     "output_type": "display_data"
    },
    {
     "data": {
      "text/html": [
       "<pre>| 6.92s                               | 23.75            | 48188           |</pre>"
      ],
      "text/plain": [
       "| 6.92s                               | 23.75            | 48188           |"
      ]
     },
     "metadata": {},
     "output_type": "display_data"
    },
    {
     "data": {
      "text/html": [
       "<pre>| 7.94s                               | 26.75            | 53750           |</pre>"
      ],
      "text/plain": [
       "| 7.94s                               | 26.75            | 53750           |"
      ]
     },
     "metadata": {},
     "output_type": "display_data"
    },
    {
     "data": {
      "text/html": [
       "<pre>| 8.93s                               | 30               | 60373           |</pre>"
      ],
      "text/plain": [
       "| 8.93s                               | 30               | 60373           |"
      ]
     },
     "metadata": {},
     "output_type": "display_data"
    },
    {
     "data": {
      "text/html": [
       "<pre>| 9.95s                               | 36.5             | 73390           |</pre>"
      ],
      "text/plain": [
       "| 9.95s                               | 36.5             | 73390           |"
      ]
     },
     "metadata": {},
     "output_type": "display_data"
    },
    {
     "data": {
      "text/html": [
       "<pre>| 10.96s                              | 44.25            | 89034           |</pre>"
      ],
      "text/plain": [
       "| 10.96s                              | 44.25            | 89034           |"
      ]
     },
     "metadata": {},
     "output_type": "display_data"
    },
    {
     "data": {
      "text/html": [
       "<pre>| 11.96s                              | 52.25            | 105429          |</pre>"
      ],
      "text/plain": [
       "| 11.96s                              | 52.25            | 105429          |"
      ]
     },
     "metadata": {},
     "output_type": "display_data"
    },
    {
     "data": {
      "text/html": [
       "<pre>| 12.98s                              | 58.5             | 117813          |</pre>"
      ],
      "text/plain": [
       "| 12.98s                              | 58.5             | 117813          |"
      ]
     },
     "metadata": {},
     "output_type": "display_data"
    },
    {
     "data": {
      "text/html": [
       "<pre>| 14.01s                              | 59.5             | 120019          |</pre>"
      ],
      "text/plain": [
       "| 14.01s                              | 59.5             | 120019          |"
      ]
     },
     "metadata": {},
     "output_type": "display_data"
    },
    {
     "data": {
      "text/html": [
       "<pre>| 15.03s                              | 60.75            | 122420          |</pre>"
      ],
      "text/plain": [
       "| 15.03s                              | 60.75            | 122420          |"
      ]
     },
     "metadata": {},
     "output_type": "display_data"
    },
    {
     "data": {
      "text/html": [
       "<pre>| 16.46s                              | 64               | 128980          |</pre>"
      ],
      "text/plain": [
       "| 16.46s                              | 64               | 128980          |"
      ]
     },
     "metadata": {},
     "output_type": "display_data"
    },
    {
     "data": {
      "text/html": [
       "<pre>| 17.04s                              | 64.5             | 129691          |</pre>"
      ],
      "text/plain": [
       "| 17.04s                              | 64.5             | 129691          |"
      ]
     },
     "metadata": {},
     "output_type": "display_data"
    },
    {
     "data": {
      "text/html": [
       "<pre>| 18.04s                              | 65.25            | 131119          |</pre>"
      ],
      "text/plain": [
       "| 18.04s                              | 65.25            | 131119          |"
      ]
     },
     "metadata": {},
     "output_type": "display_data"
    }
   ],
   "source": [
    "training_data, validation_data = gl.recommender.util.random_split_by_user(sf, 'user_id', 'item_id')\n",
    "model = gl.recommender.create(training_data, 'user_id', 'item_id')"
   ]
  },
  {
   "cell_type": "code",
   "execution_count": 8,
   "metadata": {
    "collapsed": false
   },
   "outputs": [
    {
     "ename": "NameError",
     "evalue": "name 'kernel' is not defined",
     "output_type": "error",
     "traceback": [
      "\u001b[1;31m---------------------------------------------------------------------------\u001b[0m",
      "\u001b[1;31mNameError\u001b[0m                                 Traceback (most recent call last)",
      "\u001b[1;32m<ipython-input-8-70fbc26ff891>\u001b[0m in \u001b[0;36m<module>\u001b[1;34m()\u001b[0m\n\u001b[1;32m----> 1\u001b[1;33m \u001b[0mkernel\u001b[0m \u001b[1;33m>\u001b[0m \u001b[0mrestart\u001b[0m\u001b[1;33m\u001b[0m\u001b[0m\n\u001b[0m",
      "\u001b[1;31mNameError\u001b[0m: name 'kernel' is not defined"
     ]
    }
   ],
   "source": [
    "kernel > restart"
   ]
  },
  {
   "cell_type": "code",
   "execution_count": 1,
   "metadata": {
    "collapsed": true
   },
   "outputs": [],
   "source": [
    "import graphlab\n",
    "graphlab.product_key.set_product_key('5819-A9D8-C35D-E0AA-712C-AB9E-880C-BC3A')"
   ]
  },
  {
   "cell_type": "code",
   "execution_count": 5,
   "metadata": {
    "collapsed": false
   },
   "outputs": [
    {
     "name": "stdout",
     "output_type": "stream",
     "text": [
      "\n",
      "By running this function, you agree to the following licenses.\n",
      "\n",
      "* libstdc++: https://gcc.gnu.org/onlinedocs/libstdc++/manual/license.html\n",
      "* xz: http://git.tukaani.org/?p=xz.git;a=blob;f=COPYING\n",
      "    \n",
      "Downloading xz.\n",
      "Extracting xz.\n",
      "Downloading gcc-libs.\n",
      "Extracting gcc-libs.\n",
      "Copying gcc-libs into the installation directory.\n"
     ]
    }
   ],
   "source": [
    "gl.get_dependencies()"
   ]
  }
 ],
 "metadata": {
  "kernelspec": {
   "display_name": "Python 2",
   "language": "python",
   "name": "python2"
  },
  "language_info": {
   "codemirror_mode": {
    "name": "ipython",
    "version": 2
   },
   "file_extension": ".py",
   "mimetype": "text/x-python",
   "name": "python",
   "nbconvert_exporter": "python",
   "pygments_lexer": "ipython2",
   "version": "2.7.11"
  }
 },
 "nbformat": 4,
 "nbformat_minor": 0
}
