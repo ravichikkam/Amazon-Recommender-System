{
 "cells": [
  {
   "cell_type": "markdown",
   "metadata": {},
   "source": [
    "This file contains the code to create test recommender system on amazon books data. We will be using python crab pacakge to build a item based and user based recommender system using collaberative filtering."
   ]
  },
  {
   "cell_type": "code",
   "execution_count": 7,
   "metadata": {},
   "outputs": [],
   "source": [
    "import gzip\n",
    "import simplejson\n",
    "\n",
    "data = []\n",
    "def parse(filename):\n",
    "  f = gzip.open(filename, 'r')\n",
    "  entry = {}\n",
    "  for l in f:\n",
    "    l = l.strip()\n",
    "    colonPos = l.find(':')\n",
    "    if colonPos == -1:\n",
    "      yield entry\n",
    "      entry = {}\n",
    "      continue\n",
    "    eName = l[:colonPos]\n",
    "    rest = l[colonPos+2:]\n",
    "    entry[eName] = rest\n",
    "  yield entry\n",
    "\n",
    "f = open(\"output.json\", 'w')\n",
    "for e in parse(\"/Users/ravitejachikkam/Electronics.txt.gz\"):\n",
    "  f.write(simplejson.dumps(e) + '\\n')"
   ]
  },
  {
   "cell_type": "code",
   "execution_count": 2,
   "metadata": {
    "collapsed": true,
    "scrolled": false
   },
   "outputs": [],
   "source": [
    "import gzip\n",
    "with gzip.open(\"/Users/ravitejachikkam/Electronics.txt.gz\", \"r\") as f:\n",
    "    data = [str(next(f)) for x in range(500000)]\n",
    "#print(data)"
   ]
  },
  {
   "cell_type": "code",
   "execution_count": 3,
   "metadata": {},
   "outputs": [
    {
     "data": {
      "text/plain": [
       "2"
      ]
     },
     "execution_count": 3,
     "metadata": {},
     "output_type": "execute_result"
    }
   ],
   "source": [
    "len(data)\n",
    "#type(data)"
   ]
  },
  {
   "cell_type": "code",
   "execution_count": 5,
   "metadata": {},
   "outputs": [
    {
     "data": {
      "text/plain": [
       "'{}'"
      ]
     },
     "execution_count": 5,
     "metadata": {},
     "output_type": "execute_result"
    }
   ],
   "source": [
    "data"
   ]
  },
  {
   "cell_type": "raw",
   "metadata": {},
   "source": [
    "Data Format:\n",
    "product/productId: B00006HAXW\n",
    "product/title: Rock Rhythm & Doo Wop: Greatest Early Rock\n",
    "product/price: unknown\n",
    "review/userId: A1RSDE90N6RSZF\n",
    "review/profileName: Joseph M. Kotow\n",
    "review/helpfulness: 9/9\n",
    "review/score: 5.0\n",
    "review/time: 1042502400\n",
    "review/summary: Pittsburgh - Home of the OLDIES\n",
    "review/text: I have all of the doo wop DVD's and this one is as good or better than the\n",
    "1st ones. Remember once these performers are gone, we'll never get to see them again.\n",
    "Rhino did an excellent job and if you like or love doo wop and Rock n Roll you'll LOVE\n",
    "this DVD !!"
   ]
  },
  {
   "cell_type": "code",
   "execution_count": 21,
   "metadata": {},
   "outputs": [
    {
     "data": {
      "text/plain": [
       "['product/productId: 1882931173\\n',\n",
       " 'product/title: Its Only Art If Its Well Hung!\\n',\n",
       " 'product/price: unknown\\n',\n",
       " 'review/userId: AVCGYZL8FQQTD\\n',\n",
       " 'review/profileName: Jim of Oz \"jim-of-oz\"\\n',\n",
       " 'review/helpfulness: 7/7\\n',\n",
       " 'review/score: 4.0\\n',\n",
       " 'review/time: 940636800\\n',\n",
       " 'review/summary: Nice collection of Julie Strain images\\n',\n",
       " \"review/text: This is only for Julie Strain fans. It's a collection of her photos -- about 80 pages worth with a nice section of paintings by Olivia.If you're looking for heavy literary content, this isn't the place to find it -- there's only about 2 pages with text and everything else is photos.Bottom line: if you only want one book, the Six Foot One ... is probably a better choice, however, if you like Julie like I like Julie, you won't go wrong on this one either.\\n\",\n",
       " '\\n',\n",
       " 'product/productId: 0826414346\\n',\n",
       " 'product/title: Dr. Seuss: American Icon\\n',\n",
       " 'product/price: unknown\\n',\n",
       " 'review/userId: A30TK6U7DNS82R\\n',\n",
       " 'review/profileName: Kevin Killian\\n',\n",
       " 'review/helpfulness: 10/10\\n',\n",
       " 'review/score: 5.0\\n',\n",
       " 'review/time: 1095724800\\n',\n",
       " 'review/summary: Really Enjoyed It\\n',\n",
       " \"review/text: I don't care much for Dr. Seuss but after reading Philip Nel's book I changed my mind--that's a good testimonial to the power of Rel's writing and thinking. Rel plays Dr. Seuss the ultimate compliment of treating him as a serious poet as well as one of the 20th century's most interesting visual artists, and after reading his book I decided that a trip to the Mandeville Collections of the library at University of California in San Diego was in order, so I could visit some of the incredible Seuss/Geisel holdings they have there.There's almost too much to take in, for, like William Butler Yeats, Seuss led a career that constantly shifted and metamoprhized itself to meet new historical and political cirsumstances, so he seems to have been both a leftist and a conservative at different junctures of his career, both in politics and in art. As Nel shows us, he was once a cartoonist for the fabled PM magazine and, like Andy Warhol, he served his time slaving in the ad business too. All was in the service of amusing and broadening the minds of US children. Nel doesn't hesitate to administer a sound spanking to the Seuss industry that, since his death, has seen fit to license all kinds of awful products including the recent CAT IN THE HAT film with Mike Myers. Oh, what a cat-astrophe!The book is great and I can especially recommend the work of the picture editor who has given us a bounty of good illustrations.\\n\"]"
      ]
     },
     "execution_count": 21,
     "metadata": {},
     "output_type": "execute_result"
    }
   ],
   "source": [
    "# removing b' from the data\n",
    "data = [x.replace(\"b'\", \"\").replace(\"\\\\n\", \"\") for x in data]\n",
    "data[:21]"
   ]
  },
  {
   "cell_type": "code",
   "execution_count": 22,
   "metadata": {
    "collapsed": true
   },
   "outputs": [],
   "source": [
    "# split the data to create key value pairs\n",
    "\n",
    "data_list = []\n",
    "data_dict = {}\n",
    "i = 0\n",
    "for lines in data:\n",
    "    if i!=3:\n",
    "        if (\"productId\" in lines) or (\"userId\" in lines) or (\"score:\" in lines):\n",
    "            temp_str = lines.split(\":\")\n",
    "            temp_str[1] = temp_str[1].strip(\" \").strip(\"\\'\")\n",
    "            data_dict[temp_str[0]] = temp_str[1]\n",
    "            i = i+1\n",
    "    else:\n",
    "        i = 0\n",
    "        data_list.append(data_dict)\n",
    "        data_dict = {}\n",
    "\n"
   ]
  },
  {
   "cell_type": "code",
   "execution_count": 23,
   "metadata": {},
   "outputs": [
    {
     "data": {
      "text/plain": [
       "[{'product/productId': '1882931173\\n',\n",
       "  'review/score': '4.0\\n',\n",
       "  'review/userId': 'AVCGYZL8FQQTD\\n'},\n",
       " {'product/productId': '0826414346\\n',\n",
       "  'review/score': '5.0\\n',\n",
       "  'review/userId': 'A30TK6U7DNS82R\\n'},\n",
       " {'product/productId': '0826414346\\n',\n",
       "  'review/score': '5.0\\n',\n",
       "  'review/userId': 'A3UH4UZ4RSVO82\\n'},\n",
       " {'product/productId': '0826414346\\n',\n",
       "  'review/score': '4.0\\n',\n",
       "  'review/userId': 'A2MVUWT453QH61\\n'},\n",
       " {'product/productId': '0826414346\\n',\n",
       "  'review/score': '4.0\\n',\n",
       "  'review/userId': 'A22X4XUPKF66MR\\n'},\n",
       " {'product/productId': '0826414346\\n',\n",
       "  'review/score': '4.0\\n',\n",
       "  'review/userId': 'A2F6NONFUDB6UK\\n'},\n",
       " {'product/productId': '0826414346\\n',\n",
       "  'review/score': '5.0\\n',\n",
       "  'review/userId': 'A14OJS0VWMOSWO\\n'},\n",
       " {'product/productId': '0826414346\\n',\n",
       "  'review/score': '5.0\\n',\n",
       "  'review/userId': 'A2RSSXTDZDUSH4\\n'},\n",
       " {'product/productId': '0826414346\\n',\n",
       "  'review/score': '5.0\\n',\n",
       "  'review/userId': 'A25MD5I2GUIW6W\\n'},\n",
       " {'product/productId': '0826414346\\n',\n",
       "  'review/score': '4.0\\n',\n",
       "  'review/userId': 'A3VA4XFS5WNJO3\\n'}]"
      ]
     },
     "execution_count": 23,
     "metadata": {},
     "output_type": "execute_result"
    }
   ],
   "source": [
    "len(data_list)\n",
    "data_list[:10]"
   ]
  },
  {
   "cell_type": "code",
   "execution_count": 24,
   "metadata": {
    "collapsed": true
   },
   "outputs": [],
   "source": [
    "# importing pandas and converting this to a data_frame\n",
    "import pandas as pd\n",
    "from pandas.io.json import json_normalize"
   ]
  },
  {
   "cell_type": "code",
   "execution_count": 25,
   "metadata": {
    "collapsed": true
   },
   "outputs": [],
   "source": [
    "data_df = pd.DataFrame(json_normalize(data_list))"
   ]
  },
  {
   "cell_type": "code",
   "execution_count": 27,
   "metadata": {},
   "outputs": [
    {
     "data": {
      "text/html": [
       "<div>\n",
       "<table border=\"1\" class=\"dataframe\">\n",
       "  <thead>\n",
       "    <tr style=\"text-align: right;\">\n",
       "      <th></th>\n",
       "      <th>product/productId</th>\n",
       "      <th>review/score</th>\n",
       "      <th>review/text</th>\n",
       "      <th>review/userId</th>\n",
       "    </tr>\n",
       "  </thead>\n",
       "  <tbody>\n",
       "    <tr>\n",
       "      <th>0</th>\n",
       "      <td>1882931173\\n</td>\n",
       "      <td>4.0\\n</td>\n",
       "      <td>NaN</td>\n",
       "      <td>AVCGYZL8FQQTD\\n</td>\n",
       "    </tr>\n",
       "    <tr>\n",
       "      <th>1</th>\n",
       "      <td>0826414346\\n</td>\n",
       "      <td>5.0\\n</td>\n",
       "      <td>NaN</td>\n",
       "      <td>A30TK6U7DNS82R\\n</td>\n",
       "    </tr>\n",
       "    <tr>\n",
       "      <th>2</th>\n",
       "      <td>0826414346\\n</td>\n",
       "      <td>5.0\\n</td>\n",
       "      <td>NaN</td>\n",
       "      <td>A3UH4UZ4RSVO82\\n</td>\n",
       "    </tr>\n",
       "    <tr>\n",
       "      <th>3</th>\n",
       "      <td>0826414346\\n</td>\n",
       "      <td>4.0\\n</td>\n",
       "      <td>NaN</td>\n",
       "      <td>A2MVUWT453QH61\\n</td>\n",
       "    </tr>\n",
       "    <tr>\n",
       "      <th>4</th>\n",
       "      <td>0826414346\\n</td>\n",
       "      <td>4.0\\n</td>\n",
       "      <td>NaN</td>\n",
       "      <td>A22X4XUPKF66MR\\n</td>\n",
       "    </tr>\n",
       "    <tr>\n",
       "      <th>5</th>\n",
       "      <td>0826414346\\n</td>\n",
       "      <td>4.0\\n</td>\n",
       "      <td>NaN</td>\n",
       "      <td>A2F6NONFUDB6UK\\n</td>\n",
       "    </tr>\n",
       "    <tr>\n",
       "      <th>6</th>\n",
       "      <td>0826414346\\n</td>\n",
       "      <td>5.0\\n</td>\n",
       "      <td>NaN</td>\n",
       "      <td>A14OJS0VWMOSWO\\n</td>\n",
       "    </tr>\n",
       "    <tr>\n",
       "      <th>7</th>\n",
       "      <td>0826414346\\n</td>\n",
       "      <td>5.0\\n</td>\n",
       "      <td>NaN</td>\n",
       "      <td>A2RSSXTDZDUSH4\\n</td>\n",
       "    </tr>\n",
       "    <tr>\n",
       "      <th>8</th>\n",
       "      <td>0826414346\\n</td>\n",
       "      <td>5.0\\n</td>\n",
       "      <td>NaN</td>\n",
       "      <td>A25MD5I2GUIW6W\\n</td>\n",
       "    </tr>\n",
       "    <tr>\n",
       "      <th>9</th>\n",
       "      <td>0826414346\\n</td>\n",
       "      <td>4.0\\n</td>\n",
       "      <td>NaN</td>\n",
       "      <td>A3VA4XFS5WNJO3\\n</td>\n",
       "    </tr>\n",
       "  </tbody>\n",
       "</table>\n",
       "</div>"
      ],
      "text/plain": [
       "  product/productId review/score review/text     review/userId\n",
       "0      1882931173\\n        4.0\\n         NaN   AVCGYZL8FQQTD\\n\n",
       "1      0826414346\\n        5.0\\n         NaN  A30TK6U7DNS82R\\n\n",
       "2      0826414346\\n        5.0\\n         NaN  A3UH4UZ4RSVO82\\n\n",
       "3      0826414346\\n        4.0\\n         NaN  A2MVUWT453QH61\\n\n",
       "4      0826414346\\n        4.0\\n         NaN  A22X4XUPKF66MR\\n\n",
       "5      0826414346\\n        4.0\\n         NaN  A2F6NONFUDB6UK\\n\n",
       "6      0826414346\\n        5.0\\n         NaN  A14OJS0VWMOSWO\\n\n",
       "7      0826414346\\n        5.0\\n         NaN  A2RSSXTDZDUSH4\\n\n",
       "8      0826414346\\n        5.0\\n         NaN  A25MD5I2GUIW6W\\n\n",
       "9      0826414346\\n        4.0\\n         NaN  A3VA4XFS5WNJO3\\n"
      ]
     },
     "execution_count": 27,
     "metadata": {},
     "output_type": "execute_result"
    }
   ],
   "source": [
    "data_df.head(10)"
   ]
  },
  {
   "cell_type": "code",
   "execution_count": 29,
   "metadata": {
    "collapsed": true
   },
   "outputs": [],
   "source": [
    "data_df.columns = [\"ProductID\", \"Review\",\"Review/Text\",\"UserID\"]\n",
    "data_df[\"Review\"] = data_df[\"Review\"].astype('float64')\n",
    "data_df.head(10)\n",
    "data_df = data_df.drop([\"Review/Text\"], axis = 1)"
   ]
  },
  {
   "cell_type": "code",
   "execution_count": 30,
   "metadata": {},
   "outputs": [
    {
     "data": {
      "text/html": [
       "<div>\n",
       "<table border=\"1\" class=\"dataframe\">\n",
       "  <thead>\n",
       "    <tr style=\"text-align: right;\">\n",
       "      <th></th>\n",
       "      <th>ProductID</th>\n",
       "      <th>Review</th>\n",
       "      <th>UserID</th>\n",
       "    </tr>\n",
       "  </thead>\n",
       "  <tbody>\n",
       "    <tr>\n",
       "      <th>0</th>\n",
       "      <td>1882931173\\n</td>\n",
       "      <td>4.0</td>\n",
       "      <td>AVCGYZL8FQQTD\\n</td>\n",
       "    </tr>\n",
       "    <tr>\n",
       "      <th>1</th>\n",
       "      <td>0826414346\\n</td>\n",
       "      <td>5.0</td>\n",
       "      <td>A30TK6U7DNS82R\\n</td>\n",
       "    </tr>\n",
       "    <tr>\n",
       "      <th>2</th>\n",
       "      <td>0826414346\\n</td>\n",
       "      <td>5.0</td>\n",
       "      <td>A3UH4UZ4RSVO82\\n</td>\n",
       "    </tr>\n",
       "    <tr>\n",
       "      <th>3</th>\n",
       "      <td>0826414346\\n</td>\n",
       "      <td>4.0</td>\n",
       "      <td>A2MVUWT453QH61\\n</td>\n",
       "    </tr>\n",
       "    <tr>\n",
       "      <th>4</th>\n",
       "      <td>0826414346\\n</td>\n",
       "      <td>4.0</td>\n",
       "      <td>A22X4XUPKF66MR\\n</td>\n",
       "    </tr>\n",
       "    <tr>\n",
       "      <th>5</th>\n",
       "      <td>0826414346\\n</td>\n",
       "      <td>4.0</td>\n",
       "      <td>A2F6NONFUDB6UK\\n</td>\n",
       "    </tr>\n",
       "    <tr>\n",
       "      <th>6</th>\n",
       "      <td>0826414346\\n</td>\n",
       "      <td>5.0</td>\n",
       "      <td>A14OJS0VWMOSWO\\n</td>\n",
       "    </tr>\n",
       "    <tr>\n",
       "      <th>7</th>\n",
       "      <td>0826414346\\n</td>\n",
       "      <td>5.0</td>\n",
       "      <td>A2RSSXTDZDUSH4\\n</td>\n",
       "    </tr>\n",
       "    <tr>\n",
       "      <th>8</th>\n",
       "      <td>0826414346\\n</td>\n",
       "      <td>5.0</td>\n",
       "      <td>A25MD5I2GUIW6W\\n</td>\n",
       "    </tr>\n",
       "    <tr>\n",
       "      <th>9</th>\n",
       "      <td>0826414346\\n</td>\n",
       "      <td>4.0</td>\n",
       "      <td>A3VA4XFS5WNJO3\\n</td>\n",
       "    </tr>\n",
       "    <tr>\n",
       "      <th>10</th>\n",
       "      <td>0829814000\\n</td>\n",
       "      <td>5.0</td>\n",
       "      <td>AZ0IOBU20TBOP\\n</td>\n",
       "    </tr>\n",
       "    <tr>\n",
       "      <th>11</th>\n",
       "      <td>0829814000\\n</td>\n",
       "      <td>5.0</td>\n",
       "      <td>A373VVEU6Z9M0N\\n</td>\n",
       "    </tr>\n",
       "    <tr>\n",
       "      <th>12</th>\n",
       "      <td>0829814000\\n</td>\n",
       "      <td>5.0</td>\n",
       "      <td>AGKGOH65VTRR4\\n</td>\n",
       "    </tr>\n",
       "    <tr>\n",
       "      <th>13</th>\n",
       "      <td>0829814000\\n</td>\n",
       "      <td>5.0</td>\n",
       "      <td>A3OQWLU31BU1Y\\n</td>\n",
       "    </tr>\n",
       "    <tr>\n",
       "      <th>14</th>\n",
       "      <td>0595344550\\n</td>\n",
       "      <td>1.0</td>\n",
       "      <td>A3Q12RK71N74LB\\n</td>\n",
       "    </tr>\n",
       "    <tr>\n",
       "      <th>15</th>\n",
       "      <td>0595344550\\n</td>\n",
       "      <td>4.0</td>\n",
       "      <td>A1E9M6APK30ZAU\\n</td>\n",
       "    </tr>\n",
       "    <tr>\n",
       "      <th>16</th>\n",
       "      <td>0595344550\\n</td>\n",
       "      <td>1.0</td>\n",
       "      <td>AUR0VA5H0C66C\\n</td>\n",
       "    </tr>\n",
       "    <tr>\n",
       "      <th>17</th>\n",
       "      <td>0595344550\\n</td>\n",
       "      <td>5.0</td>\n",
       "      <td>A1YLDZ3VHR6QPZ\\n</td>\n",
       "    </tr>\n",
       "    <tr>\n",
       "      <th>18</th>\n",
       "      <td>0595344550\\n</td>\n",
       "      <td>5.0</td>\n",
       "      <td>ACO23CG8K8T77\\n</td>\n",
       "    </tr>\n",
       "    <tr>\n",
       "      <th>19</th>\n",
       "      <td>0595344550\\n</td>\n",
       "      <td>5.0</td>\n",
       "      <td>A1VK81CRRC7MLM\\n</td>\n",
       "    </tr>\n",
       "  </tbody>\n",
       "</table>\n",
       "</div>"
      ],
      "text/plain": [
       "       ProductID  Review            UserID\n",
       "0   1882931173\\n     4.0   AVCGYZL8FQQTD\\n\n",
       "1   0826414346\\n     5.0  A30TK6U7DNS82R\\n\n",
       "2   0826414346\\n     5.0  A3UH4UZ4RSVO82\\n\n",
       "3   0826414346\\n     4.0  A2MVUWT453QH61\\n\n",
       "4   0826414346\\n     4.0  A22X4XUPKF66MR\\n\n",
       "5   0826414346\\n     4.0  A2F6NONFUDB6UK\\n\n",
       "6   0826414346\\n     5.0  A14OJS0VWMOSWO\\n\n",
       "7   0826414346\\n     5.0  A2RSSXTDZDUSH4\\n\n",
       "8   0826414346\\n     5.0  A25MD5I2GUIW6W\\n\n",
       "9   0826414346\\n     4.0  A3VA4XFS5WNJO3\\n\n",
       "10  0829814000\\n     5.0   AZ0IOBU20TBOP\\n\n",
       "11  0829814000\\n     5.0  A373VVEU6Z9M0N\\n\n",
       "12  0829814000\\n     5.0   AGKGOH65VTRR4\\n\n",
       "13  0829814000\\n     5.0   A3OQWLU31BU1Y\\n\n",
       "14  0595344550\\n     1.0  A3Q12RK71N74LB\\n\n",
       "15  0595344550\\n     4.0  A1E9M6APK30ZAU\\n\n",
       "16  0595344550\\n     1.0   AUR0VA5H0C66C\\n\n",
       "17  0595344550\\n     5.0  A1YLDZ3VHR6QPZ\\n\n",
       "18  0595344550\\n     5.0   ACO23CG8K8T77\\n\n",
       "19  0595344550\\n     5.0  A1VK81CRRC7MLM\\n"
      ]
     },
     "execution_count": 30,
     "metadata": {},
     "output_type": "execute_result"
    }
   ],
   "source": [
    "data_df.head(20)"
   ]
  },
  {
   "cell_type": "code",
   "execution_count": 12,
   "metadata": {},
   "outputs": [
    {
     "name": "stdout",
     "output_type": "stream",
     "text": [
      "        ProductID  Review          UserID\n",
      "1739   B000N6DDJQ     5.0  A1YB29BIDULEYE\n",
      "12383  158855032X     5.0  A1YB29BIDULEYE\n",
      "21933  1885217714     4.0  A1YB29BIDULEYE\n",
      "        ProductID  Review          UserID\n",
      "1741   B000N6DDJQ     5.0  A1PFPR44FLJNZP\n",
      "16233  9562910334     5.0  A1PFPR44FLJNZP\n",
      "        ProductID  Review         UserID\n",
      "1747   B000N6DDJQ     5.0  AUM3YMZ0YRJE0\n",
      "7950   B000PBZH5M     5.0  AUM3YMZ0YRJE0\n",
      "9785   1595580212     4.0  AUM3YMZ0YRJE0\n",
      "10234  B000PBZH6Q     5.0  AUM3YMZ0YRJE0\n",
      "12868  B00087DAOS     5.0  AUM3YMZ0YRJE0\n",
      "20538  B000I3JBUO     5.0  AUM3YMZ0YRJE0\n",
      "39463  075311383X     4.0  AUM3YMZ0YRJE0\n",
      "       ProductID  Review          UserID\n",
      "1759  B000N6DDJQ     3.0  A13IZYHNIQGK4Q\n",
      "2477  B000N6DDJQ     3.0  A13IZYHNIQGK4Q\n",
      "        ProductID  Review          UserID\n",
      "1761   B000N6DDJQ     1.0  A1FEEFAK5Y45M2\n",
      "25933  B000L1WSBC     5.0  A1FEEFAK5Y45M2\n",
      "        ProductID  Review          UserID\n",
      "1768   B000N6DDJQ     1.0  A14I2UO0KK2BNO\n",
      "20515  B000I3JBUO     1.0  A14I2UO0KK2BNO\n",
      "        ProductID  Review          UserID\n",
      "1772   B000N6DDJQ     3.0  A122H2TEE3VUKW\n",
      "17816  B000TZ19TC     5.0  A122H2TEE3VUKW\n",
      "        ProductID  Review          UserID\n",
      "1782   B000N6DDJQ     5.0  A38SZKJML7JF8Y\n",
      "24026  B000PHIIM0     4.0  A38SZKJML7JF8Y\n",
      "        ProductID  Review          UserID\n",
      "1789   B000N6DDJQ     5.0  A1JIPFV4OL520T\n",
      "19242  B000GSNTYA     2.0  A1JIPFV4OL520T\n",
      "        ProductID  Review         UserID\n",
      "1794   B000N6DDJQ     3.0  A59LBV682DWGM\n",
      "15684  9562910334     5.0  A59LBV682DWGM\n",
      "        ProductID  Review          UserID\n",
      "1795   B000N6DDJQ     3.0  A1BJLZ8UNAZX2D\n",
      "12384  158855032X     5.0  A1BJLZ8UNAZX2D\n",
      "        ProductID  Review         UserID\n",
      "1807   B000N6DDJQ     5.0  AMKZHBOK7VMQR\n",
      "21080  1588550346     5.0  AMKZHBOK7VMQR\n",
      "21624  B000J0WATA     5.0  AMKZHBOK7VMQR\n",
      "22616  1581180012     5.0  AMKZHBOK7VMQR\n",
      "27830  1568959443     5.0  AMKZHBOK7VMQR\n",
      "28366  0333168925     5.0  AMKZHBOK7VMQR\n",
      "34658  B0008BZ3US     5.0  AMKZHBOK7VMQR\n",
      "35182  1404318364     5.0  AMKZHBOK7VMQR\n",
      "37451  B0007J1MEM     5.0  AMKZHBOK7VMQR\n",
      "39162  0192833502     4.0  AMKZHBOK7VMQR\n",
      "39684  1404318372     5.0  AMKZHBOK7VMQR\n",
      "43822  B0009KKVZU     5.0  AMKZHBOK7VMQR\n",
      "       ProductID  Review         UserID\n",
      "1809  B000N6DDJQ     5.0  A5ZUZ49YRDPCV\n",
      "9086  1588550311     5.0  A5ZUZ49YRDPCV\n",
      "        ProductID  Review          UserID\n",
      "1813   B000N6DDJQ     5.0  A2HUXP2IH2JTNW\n",
      "15507  9562910334     5.0  A2HUXP2IH2JTNW\n",
      "        ProductID  Review          UserID\n",
      "1815   B000N6DDJQ     5.0  A2F35SS0RKWSO2\n",
      "27751  1568959443     5.0  A2F35SS0RKWSO2\n",
      "29126  0140860096     5.0  A2F35SS0RKWSO2\n",
      "35602  0943069165     4.0  A2F35SS0RKWSO2\n",
      "        ProductID  Review          UserID\n",
      "1816   B000N6DDJQ     5.0  A3POE7TZ7FFZDT\n",
      "6529   B0006DG9OM     5.0  A3POE7TZ7FFZDT\n",
      "38544  0333168968     5.0  A3POE7TZ7FFZDT\n",
      "        ProductID  Review         UserID\n",
      "1820   B000N6DDJQ     4.0  AWLFVCT9128JV\n",
      "5401   B000J5KSK8     4.0  AWLFVCT9128JV\n",
      "7647   B000PBZH5M     3.0  AWLFVCT9128JV\n",
      "7816   B000PBZH5M     4.0  AWLFVCT9128JV\n",
      "10191  B000PBZH6Q     3.0  AWLFVCT9128JV\n",
      "10360  B000PBZH6Q     4.0  AWLFVCT9128JV\n",
      "14098  0786191511     2.0  AWLFVCT9128JV\n",
      "15939  9562910334     5.0  AWLFVCT9128JV\n",
      "17853  B000TZ19TC     5.0  AWLFVCT9128JV\n",
      "36380  0786197005     4.0  AWLFVCT9128JV\n",
      "        ProductID  Review          UserID\n",
      "1828   B000N6DDJQ     3.0  A32O0SCWAEM5RV\n",
      "29847  0140860096     1.0  A32O0SCWAEM5RV\n",
      "        ProductID  Review         UserID\n",
      "1829   B000N6DDJQ     5.0  ABN5K7K1TM1QA\n",
      "2259   B000N6DDJQ     5.0  ABN5K7K1TM1QA\n",
      "12411  1861975805     5.0  ABN5K7K1TM1QA\n",
      "16394  9562910334     5.0  ABN5K7K1TM1QA\n",
      "25862  B000L1WSBC     4.0  ABN5K7K1TM1QA\n",
      "        ProductID  Review          UserID\n",
      "1830   B000N6DDJQ     4.0  A3IKBHODOTYYHM\n",
      "6604   B0006DG9OM     4.0  A3IKBHODOTYYHM\n",
      "16332  9562910334     4.0  A3IKBHODOTYYHM\n",
      "17183  B000TZ19TC     5.0  A3IKBHODOTYYHM\n",
      "22840  1581180012     4.0  A3IKBHODOTYYHM\n",
      "28355  0333168925     4.0  A3IKBHODOTYYHM\n",
      "29855  0140860096     5.0  A3IKBHODOTYYHM\n",
      "35253  1404318364     4.0  A3IKBHODOTYYHM\n",
      "38469  0333168968     4.0  A3IKBHODOTYYHM\n",
      "39591  1404318372     4.0  A3IKBHODOTYYHM\n",
      "        ProductID  Review          UserID\n",
      "1833   B000N6DDJQ     5.0  A3KF4IP2MUS8QQ\n",
      "12083  B000PDFO2Q     5.0  A3KF4IP2MUS8QQ\n",
      "16905  B000TZ19TC     5.0  A3KF4IP2MUS8QQ\n",
      "20865  061334006X     5.0  A3KF4IP2MUS8QQ\n",
      "22897  B0007DLJFK     4.0  A3KF4IP2MUS8QQ\n",
      "31561  B000E6JMXQ     5.0  A3KF4IP2MUS8QQ\n",
      "44976  B000KCSGPE     5.0  A3KF4IP2MUS8QQ\n",
      "        ProductID  Review          UserID\n",
      "1834   B000N6DDJQ     5.0  A1ARA52HB238HT\n",
      "15674  9562910334     4.0  A1ARA52HB238HT\n",
      "20028  B000I3JBUO     5.0  A1ARA52HB238HT\n",
      "28362  0333168925     4.0  A1ARA52HB238HT\n",
      "35260  1404318364     4.0  A1ARA52HB238HT\n",
      "39598  1404318372     4.0  A1ARA52HB238HT\n",
      "        ProductID  Review          UserID\n",
      "1836   B000N6DDJQ     3.0  A1AAND6JLJGCV2\n",
      "9002   1588550311     5.0  A1AAND6JLJGCV2\n",
      "29383  0140860096     5.0  A1AAND6JLJGCV2\n",
      "        ProductID  Review          UserID\n",
      "875    B000MCKQRS     5.0  A1N1YEMTI9DJ86\n",
      "1038   B000O3QCH8     4.0  A1N1YEMTI9DJ86\n",
      "1839   B000N6DDJQ     5.0  A1N1YEMTI9DJ86\n",
      "9171   1588550311     5.0  A1N1YEMTI9DJ86\n",
      "13557  B000O1UCCQ     5.0  A1N1YEMTI9DJ86\n",
      "13558  B000O1UCCQ     5.0  A1N1YEMTI9DJ86\n",
      "21061  1588550346     5.0  A1N1YEMTI9DJ86\n",
      "22956  B00004WISA     4.0  A1N1YEMTI9DJ86\n",
      "23082  B000CNRBZM     5.0  A1N1YEMTI9DJ86\n",
      "25982  B000L1WSBC     5.0  A1N1YEMTI9DJ86\n",
      "27345  B000JJ9ISM     5.0  A1N1YEMTI9DJ86\n",
      "28692  1568959451     4.0  A1N1YEMTI9DJ86\n",
      "29080  0140860096     5.0  A1N1YEMTI9DJ86\n",
      "30379  B0008B9EJO     5.0  A1N1YEMTI9DJ86\n",
      "34533  B0006AUIF6     3.0  A1N1YEMTI9DJ86\n",
      "34829  0747249059     5.0  A1N1YEMTI9DJ86\n",
      "35143  B000PDESPU     4.0  A1N1YEMTI9DJ86\n",
      "39007  B000GLTDBU     4.0  A1N1YEMTI9DJ86\n",
      "40769  B000PGC9SU     4.0  A1N1YEMTI9DJ86\n",
      "41813  B000NWO8CG     5.0  A1N1YEMTI9DJ86\n",
      "42901  B000F9HECI     4.0  A1N1YEMTI9DJ86\n",
      "43007  B00005N5OH     3.0  A1N1YEMTI9DJ86\n",
      "43817  B0009KKVZU     5.0  A1N1YEMTI9DJ86\n",
      "        ProductID  Review          UserID\n",
      "1840   B000N6DDJQ     5.0  A1FZI1F22GRO4C\n",
      "16317  9562910334     5.0  A1FZI1F22GRO4C\n",
      "        ProductID  Review          UserID\n",
      "1843   B000N6DDJQ     4.0  A2XAWBF5J47ECS\n",
      "17931  B000TZ19TC     5.0  A2XAWBF5J47ECS\n",
      "29894  0140860096     5.0  A2XAWBF5J47ECS\n",
      "        ProductID  Review         UserID\n",
      "1844   B000N6DDJQ     2.0  AJAF1T6Q7XM94\n",
      "6015   0897501225     5.0  AJAF1T6Q7XM94\n",
      "7989   B000PBZH5M     5.0  AJAF1T6Q7XM94\n",
      "9022   1588550311     3.0  AJAF1T6Q7XM94\n",
      "10133  B000PBZH6Q     5.0  AJAF1T6Q7XM94\n",
      "20567  B000I3JBUO     3.0  AJAF1T6Q7XM94\n",
      "        ProductID  Review         UserID\n",
      "1846   B000N6DDJQ     5.0  A527VID8R4K67\n",
      "25985  B000L1WSBC     5.0  A527VID8R4K67\n",
      "        ProductID  Review          UserID\n",
      "617    B000GSNTRC     4.0  A1D2C0WDCSHUWZ\n",
      "1850   B000N6DDJQ     5.0  A1D2C0WDCSHUWZ\n",
      "1853   B000N6DDJQ     5.0  A1D2C0WDCSHUWZ\n",
      "2167   B000N6DDJQ     5.0  A1D2C0WDCSHUWZ\n",
      "2397   B000N6DDJQ     5.0  A1D2C0WDCSHUWZ\n",
      "3364   B000NSKB12     5.0  A1D2C0WDCSHUWZ\n",
      "3371   B000NSKB12     5.0  A1D2C0WDCSHUWZ\n",
      "5392   B000J5KSK8     4.0  A1D2C0WDCSHUWZ\n",
      "5873   B000I83ZJC     5.0  A1D2C0WDCSHUWZ\n",
      "5893   B000I83ZJC     4.0  A1D2C0WDCSHUWZ\n",
      "5901   B000I83ZJC     5.0  A1D2C0WDCSHUWZ\n",
      "8490   B0006AONEI     5.0  A1D2C0WDCSHUWZ\n",
      "9008   1588550311     5.0  A1D2C0WDCSHUWZ\n",
      "9009   1588550311     5.0  A1D2C0WDCSHUWZ\n",
      "9026   1588550311     5.0  A1D2C0WDCSHUWZ\n",
      "9104   1588550311     5.0  A1D2C0WDCSHUWZ\n",
      "9118   1588550311     5.0  A1D2C0WDCSHUWZ\n",
      "9160   1588550311     5.0  A1D2C0WDCSHUWZ\n",
      "9161   1588550311     5.0  A1D2C0WDCSHUWZ\n",
      "9221   1588550311     5.0  A1D2C0WDCSHUWZ\n",
      "22623  1581180012     4.0  A1D2C0WDCSHUWZ\n",
      "22636  1581180012     4.0  A1D2C0WDCSHUWZ\n",
      "22643  1581180012     4.0  A1D2C0WDCSHUWZ\n",
      "22666  1581180012     4.0  A1D2C0WDCSHUWZ\n",
      "22682  1581180012     4.0  A1D2C0WDCSHUWZ\n",
      "22737  1581180012     4.0  A1D2C0WDCSHUWZ\n",
      "22753  1581180012     4.0  A1D2C0WDCSHUWZ\n",
      "22831  1581180012     4.0  A1D2C0WDCSHUWZ\n",
      "22862  1581180012     4.0  A1D2C0WDCSHUWZ\n",
      "26616  B000NP1FT2     5.0  A1D2C0WDCSHUWZ\n",
      "31063  1892065142     5.0  A1D2C0WDCSHUWZ\n",
      "31395  B000E6JMXQ     4.0  A1D2C0WDCSHUWZ\n",
      "31431  B000E6JMXQ     4.0  A1D2C0WDCSHUWZ\n",
      "31432  B000E6JMXQ     5.0  A1D2C0WDCSHUWZ\n",
      "31472  B000E6JMXQ     5.0  A1D2C0WDCSHUWZ\n",
      "31701  B000E6JMXQ     5.0  A1D2C0WDCSHUWZ\n",
      "35744  0943069165     5.0  A1D2C0WDCSHUWZ\n",
      "36151  0786197005     4.0  A1D2C0WDCSHUWZ\n",
      "36152  0786197005     4.0  A1D2C0WDCSHUWZ\n",
      "36487  0786197005     4.0  A1D2C0WDCSHUWZ\n",
      "36490  0786197005     5.0  A1D2C0WDCSHUWZ\n",
      "36493  0786197005     5.0  A1D2C0WDCSHUWZ\n",
      "42500  B000Q12ZQA     5.0  A1D2C0WDCSHUWZ\n",
      "        ProductID  Review          UserID\n",
      "1851   B000N6DDJQ     5.0  A2AYSFGUP5VTY3\n",
      "6603   B0006DG9OM     4.0  A2AYSFGUP5VTY3\n",
      "9121   1588550311     5.0  A2AYSFGUP5VTY3\n",
      "16771  1419123548     3.0  A2AYSFGUP5VTY3\n",
      "26859  B000GQMUG0     5.0  A2AYSFGUP5VTY3\n",
      "27549  B000JJ9ISM     5.0  A2AYSFGUP5VTY3\n",
      "29638  0140860096     5.0  A2AYSFGUP5VTY3\n",
      "31755  B0006A0126     2.0  A2AYSFGUP5VTY3\n",
      "38468  0333168968     4.0  A2AYSFGUP5VTY3\n",
      "42446  B000NWO8CG     5.0  A2AYSFGUP5VTY3\n",
      "        ProductID  Review          UserID\n",
      "617    B000GSNTRC     4.0  A1D2C0WDCSHUWZ\n",
      "1850   B000N6DDJQ     5.0  A1D2C0WDCSHUWZ\n",
      "1853   B000N6DDJQ     5.0  A1D2C0WDCSHUWZ\n",
      "2167   B000N6DDJQ     5.0  A1D2C0WDCSHUWZ\n",
      "2397   B000N6DDJQ     5.0  A1D2C0WDCSHUWZ\n",
      "3364   B000NSKB12     5.0  A1D2C0WDCSHUWZ\n",
      "3371   B000NSKB12     5.0  A1D2C0WDCSHUWZ\n",
      "5392   B000J5KSK8     4.0  A1D2C0WDCSHUWZ\n",
      "5873   B000I83ZJC     5.0  A1D2C0WDCSHUWZ\n",
      "5893   B000I83ZJC     4.0  A1D2C0WDCSHUWZ\n",
      "5901   B000I83ZJC     5.0  A1D2C0WDCSHUWZ\n",
      "8490   B0006AONEI     5.0  A1D2C0WDCSHUWZ\n",
      "9008   1588550311     5.0  A1D2C0WDCSHUWZ\n",
      "9009   1588550311     5.0  A1D2C0WDCSHUWZ\n",
      "9026   1588550311     5.0  A1D2C0WDCSHUWZ\n",
      "9104   1588550311     5.0  A1D2C0WDCSHUWZ\n",
      "9118   1588550311     5.0  A1D2C0WDCSHUWZ\n",
      "9160   1588550311     5.0  A1D2C0WDCSHUWZ\n",
      "9161   1588550311     5.0  A1D2C0WDCSHUWZ\n",
      "9221   1588550311     5.0  A1D2C0WDCSHUWZ\n",
      "22623  1581180012     4.0  A1D2C0WDCSHUWZ\n",
      "22636  1581180012     4.0  A1D2C0WDCSHUWZ\n",
      "22643  1581180012     4.0  A1D2C0WDCSHUWZ\n",
      "22666  1581180012     4.0  A1D2C0WDCSHUWZ\n",
      "22682  1581180012     4.0  A1D2C0WDCSHUWZ\n",
      "22737  1581180012     4.0  A1D2C0WDCSHUWZ\n",
      "22753  1581180012     4.0  A1D2C0WDCSHUWZ\n",
      "22831  1581180012     4.0  A1D2C0WDCSHUWZ\n",
      "22862  1581180012     4.0  A1D2C0WDCSHUWZ\n",
      "26616  B000NP1FT2     5.0  A1D2C0WDCSHUWZ\n",
      "31063  1892065142     5.0  A1D2C0WDCSHUWZ\n",
      "31395  B000E6JMXQ     4.0  A1D2C0WDCSHUWZ\n",
      "31431  B000E6JMXQ     4.0  A1D2C0WDCSHUWZ\n",
      "31432  B000E6JMXQ     5.0  A1D2C0WDCSHUWZ\n",
      "31472  B000E6JMXQ     5.0  A1D2C0WDCSHUWZ\n",
      "31701  B000E6JMXQ     5.0  A1D2C0WDCSHUWZ\n",
      "35744  0943069165     5.0  A1D2C0WDCSHUWZ\n",
      "36151  0786197005     4.0  A1D2C0WDCSHUWZ\n",
      "36152  0786197005     4.0  A1D2C0WDCSHUWZ\n",
      "36487  0786197005     4.0  A1D2C0WDCSHUWZ\n",
      "36490  0786197005     5.0  A1D2C0WDCSHUWZ\n",
      "36493  0786197005     5.0  A1D2C0WDCSHUWZ\n",
      "42500  B000Q12ZQA     5.0  A1D2C0WDCSHUWZ\n"
     ]
    },
    {
     "name": "stdout",
     "output_type": "stream",
     "text": [
      "        ProductID  Review         UserID\n",
      "1860   B000N6DDJQ     5.0  APGKUH3ECVS61\n",
      "29984  0140860096     5.0  APGKUH3ECVS61\n",
      "        ProductID  Review          UserID\n",
      "1867   B000N6DDJQ     5.0  A3NI29U4P5NQF1\n",
      "13176  1557429227     5.0  A3NI29U4P5NQF1\n",
      "23946  B000PHIIM0     5.0  A3NI29U4P5NQF1\n",
      "31521  B000E6JMXQ     5.0  A3NI29U4P5NQF1\n",
      "41081  B000PGC9SU     5.0  A3NI29U4P5NQF1\n",
      "        ProductID  Review          UserID\n",
      "1872   B000N6DDJQ     3.0  A18MG1GPSEAPE9\n",
      "13177  1557429227     3.0  A18MG1GPSEAPE9\n",
      "40954  B000PGC9SU     3.0  A18MG1GPSEAPE9\n",
      "        ProductID  Review         UserID\n",
      "1884   B000N6DDJQ     4.0  A9RUU8JSKU7G1\n",
      "13151  1557429227     4.0  A9RUU8JSKU7G1\n",
      "        ProductID  Review         UserID\n",
      "1886   B000N6DDJQ     5.0  AGEIT17HENDIS\n",
      "5135   B0006W4076     5.0  AGEIT17HENDIS\n",
      "6183   B000EMZWV6     5.0  AGEIT17HENDIS\n",
      "6971   B0000CKD7E     3.0  AGEIT17HENDIS\n",
      "9789   1595580212     4.0  AGEIT17HENDIS\n",
      "29850  0140860096     4.0  AGEIT17HENDIS\n",
      "30833  B0006DC67Q     5.0  AGEIT17HENDIS\n",
      "        ProductID  Review         UserID\n",
      "1887   B000N6DDJQ     4.0  A3YW07H3DKVEH\n",
      "25986  B000L1WSBC     4.0  A3YW07H3DKVEH\n",
      "34967  0553234080     4.0  A3YW07H3DKVEH\n",
      "        ProductID  Review         UserID\n",
      "1890   B000N6DDJQ     5.0  AJ7SKEX269O9U\n",
      "16264  9562910334     5.0  AJ7SKEX269O9U\n",
      "        ProductID  Review         UserID\n",
      "1904   B000N6DDJQ     5.0  AC7MP9R2FKEAI\n",
      "27659  B000879GRS     5.0  AC7MP9R2FKEAI\n",
      "43826  B0009KKVZU     5.0  AC7MP9R2FKEAI\n",
      "        ProductID  Review          UserID\n",
      "1926   B000N6DDJQ     4.0  A2SHQJP6PNQTLD\n",
      "20755  B000I3JBUO     5.0  A2SHQJP6PNQTLD\n",
      "26873  B000GQMUG0     3.0  A2SHQJP6PNQTLD\n",
      "30609  0060953675     2.0  A2SHQJP6PNQTLD\n",
      "32295  0312179421     3.0  A2SHQJP6PNQTLD\n",
      "45417  B000I2UNB6     5.0  A2SHQJP6PNQTLD\n",
      "        ProductID  Review         UserID\n",
      "1937   B000N6DDJQ     5.0  A7N5UKGJZB6RQ\n",
      "18353  B000TZ19TC     5.0  A7N5UKGJZB6RQ\n",
      "        ProductID  Review          UserID\n",
      "1939   B000N6DDJQ     5.0  A3R1D7LZUJ2H6H\n",
      "41011  B000PGC9SU     5.0  A3R1D7LZUJ2H6H\n",
      "        ProductID  Review          UserID\n",
      "1947   B000N6DDJQ     5.0  A25KEEQK88U659\n",
      "36341  0786197005     5.0  A25KEEQK88U659\n",
      "        ProductID  Review          UserID\n",
      "1949   B000N6DDJQ     5.0  A3LX0RSPLHEE5S\n",
      "23922  B000PHIIM0     5.0  A3LX0RSPLHEE5S\n",
      "        ProductID  Review          UserID\n",
      "1952   B000N6DDJQ     5.0  A2QR0OBX1BB99O\n",
      "40963  B000PGC9SU     5.0  A2QR0OBX1BB99O\n",
      "        ProductID  Review          UserID\n",
      "1956   B000N6DDJQ     5.0  A1LRJUDU0TS25O\n",
      "24017  B000PHIIM0     2.0  A1LRJUDU0TS25O\n",
      "        ProductID  Review          UserID\n",
      "1965   B000N6DDJQ     5.0  A29R36DKPVNVWD\n",
      "13202  1557429227     5.0  A29R36DKPVNVWD\n",
      "        ProductID  Review          UserID\n",
      "1980   B000N6DDJQ     5.0  A3CNEVQOBHI6AT\n",
      "29324  0140860096     5.0  A3CNEVQOBHI6AT\n",
      "       ProductID  Review          UserID\n",
      "1983  B000N6DDJQ     5.0  A2M3NCTFUGI4SR\n",
      "2066  B000N6DDJQ     5.0  A2M3NCTFUGI4SR\n",
      "        ProductID  Review         UserID\n",
      "1995   B000N6DDJQ     5.0  AA3YR5Q1K4KLC\n",
      "21070  1588550346     5.0  AA3YR5Q1K4KLC\n",
      "        ProductID  Review         UserID\n",
      "2010   B000N6DDJQ     5.0  APXRT4OPH9WZ8\n",
      "29642  0140860096     5.0  APXRT4OPH9WZ8\n",
      "        ProductID  Review         UserID\n",
      "2011   B000N6DDJQ     4.0  ACZ2CLZ2WNBBD\n",
      "15690  9562910334     5.0  ACZ2CLZ2WNBBD\n",
      "22717  1581180012     4.0  ACZ2CLZ2WNBBD\n",
      "        ProductID  Review          UserID\n",
      "2021   B000N6DDJQ     3.0  A30VUMM1U58VPK\n",
      "31631  B000E6JMXQ     3.0  A30VUMM1U58VPK\n",
      "        ProductID  Review          UserID\n",
      "2023   B000N6DDJQ     3.0  A20EEWWSFMZ1PN\n",
      "5396   B000J5KSK8     5.0  A20EEWWSFMZ1PN\n",
      "14720  9562910334     5.0  A20EEWWSFMZ1PN\n",
      "15005  9562910334     5.0  A20EEWWSFMZ1PN\n",
      "15151  9562910334     5.0  A20EEWWSFMZ1PN\n",
      "15583  9562910334     5.0  A20EEWWSFMZ1PN\n",
      "15836  9562910334     5.0  A20EEWWSFMZ1PN\n",
      "16024  9562910334     5.0  A20EEWWSFMZ1PN\n",
      "16237  9562910334     5.0  A20EEWWSFMZ1PN\n",
      "16238  9562910334     5.0  A20EEWWSFMZ1PN\n",
      "16328  9562910334     5.0  A20EEWWSFMZ1PN\n",
      "16814  B000TZ19TC     5.0  A20EEWWSFMZ1PN\n",
      "18287  B000TZ19TC     5.0  A20EEWWSFMZ1PN\n",
      "36246  0786197005     5.0  A20EEWWSFMZ1PN\n",
      "36250  0786197005     5.0  A20EEWWSFMZ1PN\n",
      "36251  0786197005     5.0  A20EEWWSFMZ1PN\n",
      "36268  0786197005     5.0  A20EEWWSFMZ1PN\n",
      "36303  0786197005     5.0  A20EEWWSFMZ1PN\n",
      "36347  0786197005     5.0  A20EEWWSFMZ1PN\n",
      "36349  0786197005     5.0  A20EEWWSFMZ1PN\n",
      "36350  0786197005     5.0  A20EEWWSFMZ1PN\n",
      "36351  0786197005     5.0  A20EEWWSFMZ1PN\n",
      "36355  0786197005     5.0  A20EEWWSFMZ1PN\n",
      "36473  0786197005     5.0  A20EEWWSFMZ1PN\n",
      "36499  0786197005     5.0  A20EEWWSFMZ1PN\n",
      "41553  B0006AVE5E     5.0  A20EEWWSFMZ1PN\n",
      "41554  B0006AVE5E     5.0  A20EEWWSFMZ1PN\n",
      "41555  B0006AVE5E     5.0  A20EEWWSFMZ1PN\n",
      "41556  B0006AVE5E     5.0  A20EEWWSFMZ1PN\n",
      "41557  B0006AVE5E     5.0  A20EEWWSFMZ1PN\n",
      "        ProductID  Review          UserID\n",
      "1083   B000O3QCH8     4.0  A37PV5GMP2ILJC\n",
      "2024   B000N6DDJQ     5.0  A37PV5GMP2ILJC\n",
      "31244  1932172211     5.0  A37PV5GMP2ILJC\n",
      "        ProductID  Review         UserID\n",
      "2038   B000N6DDJQ     5.0  A96K1ZGW56S2I\n",
      "4335   156292656X     4.0  A96K1ZGW56S2I\n",
      "18232  B000TZ19TC     4.0  A96K1ZGW56S2I\n",
      "19042  1881649644     4.0  A96K1ZGW56S2I\n",
      "25083  1567230288     3.0  A96K1ZGW56S2I\n",
      "42826  B0006QOT5K     5.0  A96K1ZGW56S2I\n",
      "        ProductID  Review          UserID\n",
      "2042   B000N6DDJQ     5.0  A1JUYF5D6TFFHB\n",
      "15608  9562910334     5.0  A1JUYF5D6TFFHB\n",
      "        ProductID  Review          UserID\n",
      "2048   B000N6DDJQ     4.0  A3JSRMS7FO6EKQ\n",
      "15145  9562910334     5.0  A3JSRMS7FO6EKQ\n",
      "20475  B000I3JBUO     4.0  A3JSRMS7FO6EKQ\n",
      "        ProductID  Review          UserID\n",
      "1625   B000NRYUHO     2.0  A1K1JW1C5CUSUZ\n",
      "2062   B000N6DDJQ     5.0  A1K1JW1C5CUSUZ\n",
      "2811   087584782X     5.0  A1K1JW1C5CUSUZ\n",
      "7757   B000PBZH5M     5.0  A1K1JW1C5CUSUZ\n",
      "7784   B000PBZH5M     5.0  A1K1JW1C5CUSUZ\n",
      "10121  B000PBZH6Q     5.0  A1K1JW1C5CUSUZ\n",
      "10378  B000PBZH6Q     5.0  A1K1JW1C5CUSUZ\n",
      "20901  0875847889     5.0  A1K1JW1C5CUSUZ\n",
      "21075  1588550346     5.0  A1K1JW1C5CUSUZ\n",
      "22585  1581180012     5.0  A1K1JW1C5CUSUZ\n",
      "25686  0385720904     3.0  A1K1JW1C5CUSUZ\n",
      "25951  B000L1WSBC     5.0  A1K1JW1C5CUSUZ\n",
      "27894  1568959443     5.0  A1K1JW1C5CUSUZ\n",
      "27988  1568959443     5.0  A1K1JW1C5CUSUZ\n",
      "32086  B000HVLLEQ     5.0  A1K1JW1C5CUSUZ\n",
      "34860  0316602574     3.0  A1K1JW1C5CUSUZ\n",
      "35390  B000KT2MFC     5.0  A1K1JW1C5CUSUZ\n",
      "39017  B000GLTDBU     5.0  A1K1JW1C5CUSUZ\n",
      "41545  8483101351     5.0  A1K1JW1C5CUSUZ\n",
      "        ProductID  Review         UserID\n",
      "2064   B000N6DDJQ     1.0  A2XZKGL6DJA03\n",
      "14934  9562910334     5.0  A2XZKGL6DJA03\n",
      "17431  B000TZ19TC     2.0  A2XZKGL6DJA03\n",
      "38125  B000879GVE     3.0  A2XZKGL6DJA03\n",
      "       ProductID  Review          UserID\n",
      "1983  B000N6DDJQ     5.0  A2M3NCTFUGI4SR\n",
      "2066  B000N6DDJQ     5.0  A2M3NCTFUGI4SR\n",
      "        ProductID  Review          UserID\n",
      "2068   B000N6DDJQ     5.0  A2L7JEPVTYG14L\n",
      "35510  0943069165     5.0  A2L7JEPVTYG14L\n",
      "        ProductID  Review          UserID\n",
      "2069   B000N6DDJQ     5.0  A2F540P3L6P5CL\n",
      "3738   B0007FSDKC     5.0  A2F540P3L6P5CL\n",
      "6324   B0006DG9OM     5.0  A2F540P3L6P5CL\n",
      "21200  0671535323     3.0  A2F540P3L6P5CL\n",
      "24626  B000L1A8RS     4.0  A2F540P3L6P5CL\n",
      "26445  B0006A011C     5.0  A2F540P3L6P5CL\n",
      "38176  B0006AUIHY     3.0  A2F540P3L6P5CL\n",
      "38343  0333168968     5.0  A2F540P3L6P5CL\n",
      "        ProductID  Review          UserID\n",
      "2084   B000N6DDJQ     4.0  A3UJ50L3ST5G95\n",
      "20051  B000I3JBUO     5.0  A3UJ50L3ST5G95\n",
      "        ProductID  Review          UserID\n",
      "2086   B000N6DDJQ     4.0  A1NZH03BZTSPS2\n",
      "17318  B000TZ19TC     4.0  A1NZH03BZTSPS2\n",
      "29938  0140860096     3.0  A1NZH03BZTSPS2\n",
      "        ProductID  Review          UserID\n",
      "2087   B000N6DDJQ     4.0  A370Z6I5GBWU44\n",
      "4406   B000GLTD5Q     4.0  A370Z6I5GBWU44\n",
      "5826   B000MU8334     5.0  A370Z6I5GBWU44\n",
      "8080   B000PBZH5M     5.0  A370Z6I5GBWU44\n",
      "9904   0736645586     4.0  A370Z6I5GBWU44\n",
      "10064  B000PBZH6Q     5.0  A370Z6I5GBWU44\n",
      "13644  B000O1UCCQ     5.0  A370Z6I5GBWU44\n",
      "15730  9562910334     5.0  A370Z6I5GBWU44\n",
      "18070  B000TZ19TC     4.0  A370Z6I5GBWU44\n",
      "29934  0140860096     3.0  A370Z6I5GBWU44\n",
      "31388  B000E6JMXQ     5.0  A370Z6I5GBWU44\n",
      "41892  B000NWO8CG     5.0  A370Z6I5GBWU44\n",
      "        ProductID  Review         UserID\n",
      "2089   B000N6DDJQ     5.0  A9W8VBYB5URD8\n",
      "14749  9562910334     5.0  A9W8VBYB5URD8\n",
      "17274  B000TZ19TC     5.0  A9W8VBYB5URD8\n",
      "        ProductID  Review          UserID\n",
      "2092   B000N6DDJQ     5.0  A188JKV8QVVOT7\n",
      "15216  9562910334     5.0  A188JKV8QVVOT7\n",
      "17312  B000TZ19TC     5.0  A188JKV8QVVOT7\n",
      "        ProductID  Review          UserID\n",
      "2093   B000N6DDJQ     3.0  A31N1I5DNGF83K\n",
      "31533  B000E6JMXQ     3.0  A31N1I5DNGF83K\n",
      "        ProductID  Review          UserID\n",
      "2095   B000N6DDJQ     4.0  A24S9MXU99UPN2\n",
      "42271  B000NWO8CG     4.0  A24S9MXU99UPN2\n",
      "        ProductID  Review          UserID\n",
      "2106   B000N6DDJQ     5.0  A1N2L9A6I686G5\n",
      "27591  0964202042     5.0  A1N2L9A6I686G5\n",
      "39956  0517884070     5.0  A1N2L9A6I686G5\n"
     ]
    },
    {
     "name": "stdout",
     "output_type": "stream",
     "text": [
      "        ProductID  Review          UserID\n",
      "2115   B000N6DDJQ     5.0  A2FQWV725FGE8S\n",
      "15652  9562910334     5.0  A2FQWV725FGE8S\n",
      "28995  0140860096     5.0  A2FQWV725FGE8S\n",
      "37436  B0007J1MEM     4.0  A2FQWV725FGE8S\n",
      "        ProductID  Review          UserID\n",
      "2116   B000N6DDJQ     4.0  A1EEW7AS30AK5Q\n",
      "40312  B000U2H696     4.0  A1EEW7AS30AK5Q\n",
      "40866  B000PGC9SU     4.0  A1EEW7AS30AK5Q\n",
      "42490  B000NWO8CG     5.0  A1EEW7AS30AK5Q\n",
      "        ProductID  Review          UserID\n",
      "304    B000PHTCGG     5.0  A1TIZI060W4BD9\n",
      "2124   B000N6DDJQ     3.0  A1TIZI060W4BD9\n",
      "5977   B000UVGLZM     5.0  A1TIZI060W4BD9\n",
      "8285   1891053000     3.0  A1TIZI060W4BD9\n",
      "10726  1891053019     4.0  A1TIZI060W4BD9\n",
      "16513  B0007J7H46     3.0  A1TIZI060W4BD9\n",
      "22872  1557131287     5.0  A1TIZI060W4BD9\n",
      "29399  0140860096     5.0  A1TIZI060W4BD9\n",
      "45234  0451525132     5.0  A1TIZI060W4BD9\n",
      "        ProductID  Review          UserID\n",
      "2150   B000N6DDJQ     3.0  A29CUCGRX04TS8\n",
      "8403   0671441310     5.0  A29CUCGRX04TS8\n",
      "14586  B000GR9G3E     5.0  A29CUCGRX04TS8\n",
      "25503  B000MCASDU     4.0  A29CUCGRX04TS8\n",
      "27912  1568959443     3.0  A29CUCGRX04TS8\n",
      "        ProductID  Review          UserID\n",
      "2151   B000N6DDJQ     5.0  A3EJT905S6ZS4K\n",
      "16293  9562910334     5.0  A3EJT905S6ZS4K\n",
      "39474  0679421203     5.0  A3EJT905S6ZS4K\n",
      "        ProductID  Review          UserID\n",
      "617    B000GSNTRC     4.0  A1D2C0WDCSHUWZ\n",
      "1850   B000N6DDJQ     5.0  A1D2C0WDCSHUWZ\n",
      "1853   B000N6DDJQ     5.0  A1D2C0WDCSHUWZ\n",
      "2167   B000N6DDJQ     5.0  A1D2C0WDCSHUWZ\n",
      "2397   B000N6DDJQ     5.0  A1D2C0WDCSHUWZ\n",
      "3364   B000NSKB12     5.0  A1D2C0WDCSHUWZ\n",
      "3371   B000NSKB12     5.0  A1D2C0WDCSHUWZ\n",
      "5392   B000J5KSK8     4.0  A1D2C0WDCSHUWZ\n",
      "5873   B000I83ZJC     5.0  A1D2C0WDCSHUWZ\n",
      "5893   B000I83ZJC     4.0  A1D2C0WDCSHUWZ\n",
      "5901   B000I83ZJC     5.0  A1D2C0WDCSHUWZ\n",
      "8490   B0006AONEI     5.0  A1D2C0WDCSHUWZ\n",
      "9008   1588550311     5.0  A1D2C0WDCSHUWZ\n",
      "9009   1588550311     5.0  A1D2C0WDCSHUWZ\n",
      "9026   1588550311     5.0  A1D2C0WDCSHUWZ\n",
      "9104   1588550311     5.0  A1D2C0WDCSHUWZ\n",
      "9118   1588550311     5.0  A1D2C0WDCSHUWZ\n",
      "9160   1588550311     5.0  A1D2C0WDCSHUWZ\n",
      "9161   1588550311     5.0  A1D2C0WDCSHUWZ\n",
      "9221   1588550311     5.0  A1D2C0WDCSHUWZ\n",
      "22623  1581180012     4.0  A1D2C0WDCSHUWZ\n",
      "22636  1581180012     4.0  A1D2C0WDCSHUWZ\n",
      "22643  1581180012     4.0  A1D2C0WDCSHUWZ\n",
      "22666  1581180012     4.0  A1D2C0WDCSHUWZ\n",
      "22682  1581180012     4.0  A1D2C0WDCSHUWZ\n",
      "22737  1581180012     4.0  A1D2C0WDCSHUWZ\n",
      "22753  1581180012     4.0  A1D2C0WDCSHUWZ\n",
      "22831  1581180012     4.0  A1D2C0WDCSHUWZ\n",
      "22862  1581180012     4.0  A1D2C0WDCSHUWZ\n",
      "26616  B000NP1FT2     5.0  A1D2C0WDCSHUWZ\n",
      "31063  1892065142     5.0  A1D2C0WDCSHUWZ\n",
      "31395  B000E6JMXQ     4.0  A1D2C0WDCSHUWZ\n",
      "31431  B000E6JMXQ     4.0  A1D2C0WDCSHUWZ\n",
      "31432  B000E6JMXQ     5.0  A1D2C0WDCSHUWZ\n",
      "31472  B000E6JMXQ     5.0  A1D2C0WDCSHUWZ\n",
      "31701  B000E6JMXQ     5.0  A1D2C0WDCSHUWZ\n",
      "35744  0943069165     5.0  A1D2C0WDCSHUWZ\n",
      "36151  0786197005     4.0  A1D2C0WDCSHUWZ\n",
      "36152  0786197005     4.0  A1D2C0WDCSHUWZ\n",
      "36487  0786197005     4.0  A1D2C0WDCSHUWZ\n",
      "36490  0786197005     5.0  A1D2C0WDCSHUWZ\n",
      "36493  0786197005     5.0  A1D2C0WDCSHUWZ\n",
      "42500  B000Q12ZQA     5.0  A1D2C0WDCSHUWZ\n",
      "        ProductID  Review          UserID\n",
      "2175   B000N6DDJQ     5.0  A3JGOKYJPPARHO\n",
      "21056  1588550346     5.0  A3JGOKYJPPARHO\n",
      "        ProductID  Review          UserID\n",
      "2177   B000N6DDJQ     3.0  A1BA72K4VK1UN1\n",
      "11521  0207150761     5.0  A1BA72K4VK1UN1\n",
      "27329  B000JJ9ISM     5.0  A1BA72K4VK1UN1\n",
      "        ProductID  Review         UserID\n",
      "2200   B000N6DDJQ     4.0  AI37YX1U4KB1L\n",
      "11886  1890626503     4.0  AI37YX1U4KB1L\n",
      "15551  9562910334     5.0  AI37YX1U4KB1L\n",
      "16895  B000TZ19TC     5.0  AI37YX1U4KB1L\n",
      "25964  B000L1WSBC     5.0  AI37YX1U4KB1L\n",
      "29969  0140860096     4.0  AI37YX1U4KB1L\n",
      "       ProductID  Review          UserID\n",
      "2209  B000N6DDJQ     1.0  A2QL96SGZP59SR\n",
      "2744  B0006DM4DW     4.0  A2QL96SGZP59SR\n",
      "        ProductID  Review         UserID\n",
      "2217   B000N6DDJQ     3.0  AK0K3UWJHGRVO\n",
      "34980  0553234080     4.0  AK0K3UWJHGRVO\n",
      "        ProductID  Review         UserID\n",
      "2221   B000N6DDJQ     5.0  A3FVAWZNKW9GX\n",
      "26985  B0006A011M     5.0  A3FVAWZNKW9GX\n",
      "28778  0140860096     5.0  A3FVAWZNKW9GX\n",
      "28891  0140860096     5.0  A3FVAWZNKW9GX\n",
      "36087  B000GT6C02     5.0  A3FVAWZNKW9GX\n",
      "        ProductID  Review          UserID\n",
      "2238   B000N6DDJQ     5.0  A2IKY4WH4E11AI\n",
      "3032   1574883232     5.0  A2IKY4WH4E11AI\n",
      "17204  B000TZ19TC     4.0  A2IKY4WH4E11AI\n",
      "44355  B000K9UV8C     4.0  A2IKY4WH4E11AI\n",
      "        ProductID  Review          UserID\n",
      "2240   B000N6DDJQ     5.0  A1CHM200OEN65X\n",
      "2527   B00070YCSO     5.0  A1CHM200OEN65X\n",
      "13246  B000O1UCCQ     5.0  A1CHM200OEN65X\n",
      "14681  9562910334     5.0  A1CHM200OEN65X\n",
      "17680  B000TZ19TC     5.0  A1CHM200OEN65X\n",
      "27868  1568959443     5.0  A1CHM200OEN65X\n",
      "30949  0786191570     4.0  A1CHM200OEN65X\n",
      "33086  B000JJU8RC     4.0  A1CHM200OEN65X\n",
      "        ProductID  Review       UserID\n",
      "809    050552421X     5.0  AFVQZQ8PW0L\n",
      "843    B000MCKQRS     5.0  AFVQZQ8PW0L\n",
      "1648   B000NRYUHO     5.0  AFVQZQ8PW0L\n",
      "2241   B000N6DDJQ     5.0  AFVQZQ8PW0L\n",
      "2495   1902934229     4.0  AFVQZQ8PW0L\n",
      "2839   0976324644     5.0  AFVQZQ8PW0L\n",
      "3148   0756402905     5.0  AFVQZQ8PW0L\n",
      "4035   0505524228     5.0  AFVQZQ8PW0L\n",
      "6753   0425197964     4.0  AFVQZQ8PW0L\n",
      "7518   0373713215     5.0  AFVQZQ8PW0L\n",
      "7521   0505524244     5.0  AFVQZQ8PW0L\n",
      "8254   0786174994     5.0  AFVQZQ8PW0L\n",
      "8545   B000NQIG2A     5.0  AFVQZQ8PW0L\n",
      "9255   0688165648     5.0  AFVQZQ8PW0L\n",
      "9280   0312283989     5.0  AFVQZQ8PW0L\n",
      "10798  0373690975     4.0  AFVQZQ8PW0L\n",
      "11691  0316806501     4.0  AFVQZQ8PW0L\n",
      "14352  B000GG4J00     5.0  AFVQZQ8PW0L\n",
      "16733  0373690991     4.0  AFVQZQ8PW0L\n",
      "18553  B000OXJ92S     5.0  AFVQZQ8PW0L\n",
      "21142  0373713258     5.0  AFVQZQ8PW0L\n",
      "21562  0505524295     5.0  AFVQZQ8PW0L\n",
      "21663  B000OWCT12     5.0  AFVQZQ8PW0L\n",
      "22097  0380815613     5.0  AFVQZQ8PW0L\n",
      "23193  0553107488     5.0  AFVQZQ8PW0L\n",
      "23599  B000IOF10C     5.0  AFVQZQ8PW0L\n",
      "27080  0373713290     4.0  AFVQZQ8PW0L\n",
      "28708  1568959451     5.0  AFVQZQ8PW0L\n",
      "30787  B000GSDVFC     5.0  AFVQZQ8PW0L\n",
      "34479  0380815664     4.0  AFVQZQ8PW0L\n",
      "34680  0380815672     5.0  AFVQZQ8PW0L\n",
      "37514  B0001V03ZU     4.0  AFVQZQ8PW0L\n",
      "38707  0764229893     5.0  AFVQZQ8PW0L\n",
      "39020  B000GLTDBU     5.0  AFVQZQ8PW0L\n",
      "39744  0380815680     4.0  AFVQZQ8PW0L\n",
      "40490  1590521986     4.0  AFVQZQ8PW0L\n",
      "40562  B000OV7IAK     3.0  AFVQZQ8PW0L\n",
      "41291  0380815699     5.0  AFVQZQ8PW0L\n",
      "41294  B00005N5OA     5.0  AFVQZQ8PW0L\n",
      "42763  0955005108     4.0  AFVQZQ8PW0L\n",
      "42846  B000MV8HLG     4.0  AFVQZQ8PW0L\n",
      "44680  0955005116     4.0  AFVQZQ8PW0L\n",
      "        ProductID  Review          UserID\n",
      "2242   B000N6DDJQ     5.0  A328S9RN3U5M68\n",
      "2855   0976324644     5.0  A328S9RN3U5M68\n",
      "10717  1891053019     5.0  A328S9RN3U5M68\n",
      "33674  1931982317     5.0  A328S9RN3U5M68\n",
      "        ProductID  Review          UserID\n",
      "2244   B000N6DDJQ     4.0  A2AKR1RUTMKEEJ\n",
      "29770  0140860096     5.0  A2AKR1RUTMKEEJ\n",
      "       ProductID  Review          UserID\n",
      "2245  B000N6DDJQ     5.0  A3LW120MGD36SV\n",
      "4412  B000GLTD5Q     2.0  A3LW120MGD36SV\n",
      "        ProductID  Review          UserID\n",
      "2255   B000N6DDJQ     5.0  A14NCQUQ1XG09W\n",
      "19766  B0006E8Q9C     5.0  A14NCQUQ1XG09W\n",
      "40829  B000PGC9SU     5.0  A14NCQUQ1XG09W\n",
      "        ProductID  Review         UserID\n",
      "2258   B000N6DDJQ     5.0  A8F2AZWB20X1H\n",
      "21071  1588550346     5.0  A8F2AZWB20X1H\n",
      "27535  B000JJ9ISM     4.0  A8F2AZWB20X1H\n",
      "32789  B000GE7NB4     5.0  A8F2AZWB20X1H\n",
      "32807  B000GE7NB4     5.0  A8F2AZWB20X1H\n",
      "43905  0195085140     5.0  A8F2AZWB20X1H\n",
      "        ProductID  Review         UserID\n",
      "1829   B000N6DDJQ     5.0  ABN5K7K1TM1QA\n",
      "2259   B000N6DDJQ     5.0  ABN5K7K1TM1QA\n",
      "12411  1861975805     5.0  ABN5K7K1TM1QA\n",
      "16394  9562910334     5.0  ABN5K7K1TM1QA\n",
      "25862  B000L1WSBC     4.0  ABN5K7K1TM1QA\n",
      "        ProductID  Review          UserID\n",
      "2260   B000N6DDJQ     5.0  A26BVUB2YJMGB7\n",
      "21645  B000J0WATA     5.0  A26BVUB2YJMGB7\n",
      "22967  B00004WISA     4.0  A26BVUB2YJMGB7\n",
      "26901  B000GQMUG0     5.0  A26BVUB2YJMGB7\n",
      "27737  1568959443     5.0  A26BVUB2YJMGB7\n",
      "28816  0140860096     5.0  A26BVUB2YJMGB7\n",
      "32207  B00086TLE2     5.0  A26BVUB2YJMGB7\n",
      "       ProductID  Review          UserID\n",
      "2265  B000N6DDJQ     5.0  A27Z2M7PNPA6LM\n",
      "2279  B000N6DDJQ     5.0  A27Z2M7PNPA6LM\n",
      "       ProductID  Review          UserID\n",
      "2266  B000N6DDJQ     5.0  A1OXI0N58TMYY9\n",
      "2302  B000N6DDJQ     5.0  A1OXI0N58TMYY9\n",
      "2385  B000N6DDJQ     5.0  A1OXI0N58TMYY9\n",
      "        ProductID  Review          UserID\n",
      "2272   B000N6DDJQ     5.0  A1VPXCFO261VWH\n",
      "37702  B0000CJHX7     5.0  A1VPXCFO261VWH\n",
      "        ProductID  Review          UserID\n",
      "2276   B000N6DDJQ     5.0  A2PR9MFSBUUUP3\n",
      "29778  0140860096     5.0  A2PR9MFSBUUUP3\n",
      "       ProductID  Review          UserID\n",
      "2265  B000N6DDJQ     5.0  A27Z2M7PNPA6LM\n",
      "2279  B000N6DDJQ     5.0  A27Z2M7PNPA6LM\n",
      "        ProductID  Review          UserID\n",
      "2283   B000N6DDJQ     2.0  A3JZ5E2TUJJELD\n",
      "16208  9562910334     5.0  A3JZ5E2TUJJELD\n",
      "25963  B000L1WSBC     4.0  A3JZ5E2TUJJELD\n",
      "        ProductID  Review          UserID\n",
      "2284   B000N6DDJQ     2.0  A2O2TC8O86P1H4\n",
      "29641  0140860096     4.0  A2O2TC8O86P1H4\n",
      "        ProductID  Review          UserID\n",
      "2288   B000N6DDJQ     4.0  A18VVDLRLG9SVO\n",
      "25451  B000MCASDU     4.0  A18VVDLRLG9SVO\n",
      "       ProductID  Review         UserID\n",
      "2289  B000N6DDJQ     4.0  AS1YKFH6RSKFB\n",
      "2476  B000N6DDJQ     4.0  AS1YKFH6RSKFB\n"
     ]
    },
    {
     "name": "stdout",
     "output_type": "stream",
     "text": [
      "        ProductID  Review         UserID\n",
      "2292   B000N6DDJQ     4.0  A1R90KXMPXCAP\n",
      "16179  9562910334     5.0  A1R90KXMPXCAP\n",
      "18001  B000TZ19TC     5.0  A1R90KXMPXCAP\n",
      "18169  B000TZ19TC     5.0  A1R90KXMPXCAP\n",
      "        ProductID  Review          UserID\n",
      "2293   B000N6DDJQ     4.0  A1XN6MBYDBTX16\n",
      "19351  0684813459     5.0  A1XN6MBYDBTX16\n",
      "        ProductID  Review          UserID\n",
      "2295   B000N6DDJQ     4.0  A3FHAMLNGHCFU7\n",
      "9075   1588550311     3.0  A3FHAMLNGHCFU7\n",
      "12396  158855032X     3.0  A3FHAMLNGHCFU7\n",
      "15414  9562910334     5.0  A3FHAMLNGHCFU7\n",
      "24445  B0006DWYN2     3.0  A3FHAMLNGHCFU7\n",
      "43870  B0009KKVZU     3.0  A3FHAMLNGHCFU7\n",
      "       ProductID  Review          UserID\n",
      "2266  B000N6DDJQ     5.0  A1OXI0N58TMYY9\n",
      "2302  B000N6DDJQ     5.0  A1OXI0N58TMYY9\n",
      "2385  B000N6DDJQ     5.0  A1OXI0N58TMYY9\n",
      "        ProductID  Review         UserID\n",
      "2325   B000N6DDJQ     1.0  A6YHWNVDS6GU4\n",
      "29888  0140860096     5.0  A6YHWNVDS6GU4\n",
      "        ProductID  Review          UserID\n",
      "2329   B000N6DDJQ     3.0  A1IKD6BDEE18CI\n",
      "14453  0060953616     1.0  A1IKD6BDEE18CI\n",
      "23628  0373255802     4.0  A1IKD6BDEE18CI\n",
      "        ProductID  Review         UserID\n",
      "2333   B000N6DDJQ     1.0  A525O40Q3XE0L\n",
      "5825   B000MU8334     5.0  A525O40Q3XE0L\n",
      "9145   1588550311     2.0  A525O40Q3XE0L\n",
      "16832  B000TZ19TC     5.0  A525O40Q3XE0L\n",
      "29412  0140860096     1.0  A525O40Q3XE0L\n",
      "       ProductID  Review          UserID\n",
      "2334  B000N6DDJQ     5.0  A1T867N1STHSON\n",
      "9182  1588550311     5.0  A1T867N1STHSON\n",
      "        ProductID  Review          UserID\n",
      "2347   B000N6DDJQ     5.0  A3O2RCKAMSE9X7\n",
      "12334  158855032X     5.0  A3O2RCKAMSE9X7\n",
      "16211  9562910334     5.0  A3O2RCKAMSE9X7\n",
      "17867  B000TZ19TC     5.0  A3O2RCKAMSE9X7\n",
      "18674  1883011094     5.0  A3O2RCKAMSE9X7\n",
      "28300  0333168925     5.0  A3O2RCKAMSE9X7\n",
      "29405  0140860096     5.0  A3O2RCKAMSE9X7\n",
      "35208  1404318364     5.0  A3O2RCKAMSE9X7\n",
      "39660  1404318372     5.0  A3O2RCKAMSE9X7\n",
      "43880  B0009KKVZU     5.0  A3O2RCKAMSE9X7\n",
      "        ProductID  Review          UserID\n",
      "2349   B000N6DDJQ     5.0  A2X36H1LTGU4GC\n",
      "16050  9562910334     5.0  A2X36H1LTGU4GC\n",
      "        ProductID  Review         UserID\n",
      "385    B000H45MXO     5.0  AHD101501WCN1\n",
      "2351   B000N6DDJQ     5.0  AHD101501WCN1\n",
      "3491   067001012X     5.0  AHD101501WCN1\n",
      "4257   0671005693     5.0  AHD101501WCN1\n",
      "4543   B0006W407G     5.0  AHD101501WCN1\n",
      "5371   B000GP1Q7A     4.0  AHD101501WCN1\n",
      "5988   B000UVGLZM     5.0  AHD101501WCN1\n",
      "11464  188301106X     5.0  AHD101501WCN1\n",
      "12195  B000IOJ4M8     4.0  AHD101501WCN1\n",
      "12839  B00087DAOS     5.0  AHD101501WCN1\n",
      "14327  0879233427     5.0  AHD101501WCN1\n",
      "16206  9562910334     5.0  AHD101501WCN1\n",
      "18705  B000HJR45I     5.0  AHD101501WCN1\n",
      "18944  B000KXL7G8     3.0  AHD101501WCN1\n",
      "21174  0385014201     4.0  AHD101501WCN1\n",
      "21913  B000879GOQ     1.0  AHD101501WCN1\n",
      "23761  B000PS9N5U     5.0  AHD101501WCN1\n",
      "23781  B0006DXU8U     5.0  AHD101501WCN1\n",
      "23973  B000PHIIM0     5.0  AHD101501WCN1\n",
      "23997  B000PHIIM0     4.0  AHD101501WCN1\n",
      "25070  1567230288     5.0  AHD101501WCN1\n",
      "25983  B000L1WSBC     4.0  AHD101501WCN1\n",
      "27642  B0006DG9WO     5.0  AHD101501WCN1\n",
      "28194  B0007IKVHW     4.0  AHD101501WCN1\n",
      "34989  0553234080     5.0  AHD101501WCN1\n",
      "35122  B000896CJ6     5.0  AHD101501WCN1\n",
      "35125  B000896CJ6     4.0  AHD101501WCN1\n",
      "36074  B000GWIH52     5.0  AHD101501WCN1\n",
      "36075  B000GWIH52     5.0  AHD101501WCN1\n",
      "36807  B000K5Q9JQ     5.0  AHD101501WCN1\n",
      "36979  B000KDO2L0     5.0  AHD101501WCN1\n",
      "37005  B0006AVE2M     4.0  AHD101501WCN1\n",
      "40911  B000PGC9SU     5.0  AHD101501WCN1\n",
      "41377  0806520574     5.0  AHD101501WCN1\n",
      "42501  B000Q12ZQA     5.0  AHD101501WCN1\n",
      "44424  1932994416     4.0  AHD101501WCN1\n",
      "44651  B000B7SBZI     5.0  AHD101501WCN1\n",
      "        ProductID  Review          UserID\n",
      "2365   B000N6DDJQ     4.0  A1YE1GIKUPBX3F\n",
      "38667  0764229893     4.0  A1YE1GIKUPBX3F\n",
      "        ProductID  Review          UserID\n",
      "2384   B000N6DDJQ     5.0  A232HUAELH5J6V\n",
      "13257  B000O1UCCQ     2.0  A232HUAELH5J6V\n",
      "14577  0931255058     4.0  A232HUAELH5J6V\n",
      "21036  1588550346     5.0  A232HUAELH5J6V\n",
      "27505  B000JJ9ISM     4.0  A232HUAELH5J6V\n",
      "       ProductID  Review          UserID\n",
      "2266  B000N6DDJQ     5.0  A1OXI0N58TMYY9\n",
      "2302  B000N6DDJQ     5.0  A1OXI0N58TMYY9\n",
      "2385  B000N6DDJQ     5.0  A1OXI0N58TMYY9\n",
      "        ProductID  Review         UserID\n",
      "2389   B000N6DDJQ     4.0  A3EOHYIHQM3KK\n",
      "9230   1588550311     3.0  A3EOHYIHQM3KK\n",
      "12338  158855032X     5.0  A3EOHYIHQM3KK\n",
      "12364  158855032X     5.0  A3EOHYIHQM3KK\n",
      "39168  0192833502     5.0  A3EOHYIHQM3KK\n",
      "43816  B0009KKVZU     2.0  A3EOHYIHQM3KK\n",
      "        ProductID  Review          UserID\n",
      "2395   B000N6DDJQ     5.0  A12A08OL0TZY0W\n",
      "5359   B000GP1Q7A     5.0  A12A08OL0TZY0W\n",
      "18259  B000TZ19TC     5.0  A12A08OL0TZY0W\n",
      "24824  B0000CJHS6     5.0  A12A08OL0TZY0W\n",
      "25993  B000L1WSBC     5.0  A12A08OL0TZY0W\n",
      "27264  0380633132     4.0  A12A08OL0TZY0W\n",
      "28169  0192816977     5.0  A12A08OL0TZY0W\n",
      "31094  B000MV8HG6     4.0  A12A08OL0TZY0W\n",
      "35120  B000896CJ6     5.0  A12A08OL0TZY0W\n",
      "35467  0140000364     5.0  A12A08OL0TZY0W\n",
      "41047  B000PGC9SU     5.0  A12A08OL0TZY0W\n",
      "43875  B0009KKVZU     5.0  A12A08OL0TZY0W\n",
      "43882  B0009KKVZU     5.0  A12A08OL0TZY0W\n",
      "        ProductID  Review          UserID\n",
      "617    B000GSNTRC     4.0  A1D2C0WDCSHUWZ\n",
      "1850   B000N6DDJQ     5.0  A1D2C0WDCSHUWZ\n",
      "1853   B000N6DDJQ     5.0  A1D2C0WDCSHUWZ\n",
      "2167   B000N6DDJQ     5.0  A1D2C0WDCSHUWZ\n",
      "2397   B000N6DDJQ     5.0  A1D2C0WDCSHUWZ\n",
      "3364   B000NSKB12     5.0  A1D2C0WDCSHUWZ\n",
      "3371   B000NSKB12     5.0  A1D2C0WDCSHUWZ\n",
      "5392   B000J5KSK8     4.0  A1D2C0WDCSHUWZ\n",
      "5873   B000I83ZJC     5.0  A1D2C0WDCSHUWZ\n",
      "5893   B000I83ZJC     4.0  A1D2C0WDCSHUWZ\n",
      "5901   B000I83ZJC     5.0  A1D2C0WDCSHUWZ\n",
      "8490   B0006AONEI     5.0  A1D2C0WDCSHUWZ\n",
      "9008   1588550311     5.0  A1D2C0WDCSHUWZ\n",
      "9009   1588550311     5.0  A1D2C0WDCSHUWZ\n",
      "9026   1588550311     5.0  A1D2C0WDCSHUWZ\n",
      "9104   1588550311     5.0  A1D2C0WDCSHUWZ\n",
      "9118   1588550311     5.0  A1D2C0WDCSHUWZ\n",
      "9160   1588550311     5.0  A1D2C0WDCSHUWZ\n",
      "9161   1588550311     5.0  A1D2C0WDCSHUWZ\n",
      "9221   1588550311     5.0  A1D2C0WDCSHUWZ\n",
      "22623  1581180012     4.0  A1D2C0WDCSHUWZ\n",
      "22636  1581180012     4.0  A1D2C0WDCSHUWZ\n",
      "22643  1581180012     4.0  A1D2C0WDCSHUWZ\n",
      "22666  1581180012     4.0  A1D2C0WDCSHUWZ\n",
      "22682  1581180012     4.0  A1D2C0WDCSHUWZ\n",
      "22737  1581180012     4.0  A1D2C0WDCSHUWZ\n",
      "22753  1581180012     4.0  A1D2C0WDCSHUWZ\n",
      "22831  1581180012     4.0  A1D2C0WDCSHUWZ\n",
      "22862  1581180012     4.0  A1D2C0WDCSHUWZ\n",
      "26616  B000NP1FT2     5.0  A1D2C0WDCSHUWZ\n",
      "31063  1892065142     5.0  A1D2C0WDCSHUWZ\n",
      "31395  B000E6JMXQ     4.0  A1D2C0WDCSHUWZ\n",
      "31431  B000E6JMXQ     4.0  A1D2C0WDCSHUWZ\n",
      "31432  B000E6JMXQ     5.0  A1D2C0WDCSHUWZ\n",
      "31472  B000E6JMXQ     5.0  A1D2C0WDCSHUWZ\n",
      "31701  B000E6JMXQ     5.0  A1D2C0WDCSHUWZ\n",
      "35744  0943069165     5.0  A1D2C0WDCSHUWZ\n",
      "36151  0786197005     4.0  A1D2C0WDCSHUWZ\n",
      "36152  0786197005     4.0  A1D2C0WDCSHUWZ\n",
      "36487  0786197005     4.0  A1D2C0WDCSHUWZ\n",
      "36490  0786197005     5.0  A1D2C0WDCSHUWZ\n",
      "36493  0786197005     5.0  A1D2C0WDCSHUWZ\n",
      "42500  B000Q12ZQA     5.0  A1D2C0WDCSHUWZ\n",
      "        ProductID  Review         UserID\n",
      "2409   B000N6DDJQ     3.0  ANDZZ303EP3KX\n",
      "17480  B000TZ19TC     5.0  ANDZZ303EP3KX\n",
      "30049  0140860096     5.0  ANDZZ303EP3KX\n",
      "41039  B000PGC9SU     1.0  ANDZZ303EP3KX\n",
      "44942  B000KCSGPE     4.0  ANDZZ303EP3KX\n",
      "        ProductID  Review         UserID\n",
      "2412   B000N6DDJQ     5.0  AAZXZU9CMWIC1\n",
      "40791  B000PGC9SU     5.0  AAZXZU9CMWIC1\n",
      "        ProductID  Review          UserID\n",
      "2415   B000N6DDJQ     5.0  A34989LDU92LBH\n",
      "40793  B000PGC9SU     5.0  A34989LDU92LBH\n",
      "        ProductID  Review          UserID\n",
      "2417   B000N6DDJQ     5.0  A15IK0978DBL14\n",
      "13189  1557429227     5.0  A15IK0978DBL14\n",
      "40925  B000PGC9SU     5.0  A15IK0978DBL14\n",
      "        ProductID  Review          UserID\n",
      "2419   B000N6DDJQ     3.0  A2WQNTPK7K3O1W\n",
      "8099   B000PBZH5M     2.0  A2WQNTPK7K3O1W\n",
      "10003  B000PBZH6Q     2.0  A2WQNTPK7K3O1W\n",
      "        ProductID  Review         UserID\n",
      "2422   B000N6DDJQ     5.0  AOYTGNBDDE5PE\n",
      "29005  0140860096     5.0  AOYTGNBDDE5PE\n",
      "        ProductID  Review          UserID\n",
      "2436   B000N6DDJQ     3.0  A2HFQ405AKX4IW\n",
      "9196   1588550311     4.0  A2HFQ405AKX4IW\n",
      "15492  9562910334     5.0  A2HFQ405AKX4IW\n",
      "32195  B00086TLE2     4.0  A2HFQ405AKX4IW\n",
      "32273  B00086TLE2     4.0  A2HFQ405AKX4IW\n",
      "40751  B000PGC9SU     4.0  A2HFQ405AKX4IW\n",
      "41144  1933405163     5.0  A2HFQ405AKX4IW\n",
      "        ProductID  Review         UserID\n",
      "2467   B000N6DDJQ     4.0  AK0CENM3LUM28\n",
      "12898  B0006CKNQI     4.0  AK0CENM3LUM28\n",
      "16329  9562910334     5.0  AK0CENM3LUM28\n",
      "30407  1591020913     3.0  AK0CENM3LUM28\n",
      "43824  B0009KKVZU     4.0  AK0CENM3LUM28\n",
      "        ProductID  Review          UserID\n",
      "2468   B000N6DDJQ     5.0  A3IQM57FGCAZJ9\n",
      "3490   067001012X     5.0  A3IQM57FGCAZJ9\n",
      "7902   B000PBZH5M     3.0  A3IQM57FGCAZJ9\n",
      "10256  B000PBZH6Q     3.0  A3IQM57FGCAZJ9\n",
      "18820  B000HJR45I     4.0  A3IQM57FGCAZJ9\n",
      "        ProductID  Review          UserID\n",
      "2470   B000N6DDJQ     5.0  A16YAI8OAD421D\n",
      "17349  B000TZ19TC     4.0  A16YAI8OAD421D\n",
      "       ProductID  Review         UserID\n",
      "2289  B000N6DDJQ     4.0  AS1YKFH6RSKFB\n",
      "2476  B000N6DDJQ     4.0  AS1YKFH6RSKFB\n",
      "       ProductID  Review          UserID\n",
      "1759  B000N6DDJQ     3.0  A13IZYHNIQGK4Q\n",
      "2477  B000N6DDJQ     3.0  A13IZYHNIQGK4Q\n"
     ]
    }
   ],
   "source": [
    "# data_df['ProductID'].value_counts()\n",
    "# df = data_df[data_df['ProductID'] == 'B000N6DDJQ'] \n",
    "# for val in df['UserID']:\n",
    "#     df2 = data_df[data_df['UserID'] == val]\n",
    "#     if (df2.shape[0] > 1) and (val != \"unknown\"):\n",
    "#         print(df2)"
   ]
  },
  {
   "cell_type": "code",
   "execution_count": 13,
   "metadata": {},
   "outputs": [
    {
     "data": {
      "text/html": [
       "<div>\n",
       "<style>\n",
       "    .dataframe thead tr:only-child th {\n",
       "        text-align: right;\n",
       "    }\n",
       "\n",
       "    .dataframe thead th {\n",
       "        text-align: left;\n",
       "    }\n",
       "\n",
       "    .dataframe tbody tr th {\n",
       "        vertical-align: top;\n",
       "    }\n",
       "</style>\n",
       "<table border=\"1\" class=\"dataframe\">\n",
       "  <thead>\n",
       "    <tr style=\"text-align: right;\">\n",
       "      <th></th>\n",
       "      <th>ProductID</th>\n",
       "      <th>Review</th>\n",
       "      <th>UserID</th>\n",
       "    </tr>\n",
       "  </thead>\n",
       "  <tbody>\n",
       "    <tr>\n",
       "      <th>2485</th>\n",
       "      <td>B000N6DDJQ</td>\n",
       "      <td>5.0</td>\n",
       "      <td>AVWZ1I3S6YN7I</td>\n",
       "    </tr>\n",
       "  </tbody>\n",
       "</table>\n",
       "</div>"
      ],
      "text/plain": [
       "       ProductID  Review         UserID\n",
       "2485  B000N6DDJQ     5.0  AVWZ1I3S6YN7I"
      ]
     },
     "execution_count": 13,
     "metadata": {},
     "output_type": "execute_result"
    }
   ],
   "source": [
    "# data_df[data_df['UserID'] == \"AVWZ1I3S6YN7I\"]"
   ]
  },
  {
   "cell_type": "code",
   "execution_count": 14,
   "metadata": {},
   "outputs": [
    {
     "data": {
      "text/html": [
       "<div>\n",
       "<style>\n",
       "    .dataframe thead tr:only-child th {\n",
       "        text-align: right;\n",
       "    }\n",
       "\n",
       "    .dataframe thead th {\n",
       "        text-align: left;\n",
       "    }\n",
       "\n",
       "    .dataframe tbody tr th {\n",
       "        vertical-align: top;\n",
       "    }\n",
       "</style>\n",
       "<table border=\"1\" class=\"dataframe\">\n",
       "  <thead>\n",
       "    <tr>\n",
       "      <th></th>\n",
       "      <th colspan=\"21\" halign=\"left\">Review</th>\n",
       "    </tr>\n",
       "    <tr>\n",
       "      <th>ProductID</th>\n",
       "      <th>0001515195</th>\n",
       "      <th>0005060982</th>\n",
       "      <th>0006514413</th>\n",
       "      <th>0006530451</th>\n",
       "      <th>0007101929</th>\n",
       "      <th>0007106823</th>\n",
       "      <th>0007123469</th>\n",
       "      <th>0007123477</th>\n",
       "      <th>0007128355</th>\n",
       "      <th>0020480202</th>\n",
       "      <th>...</th>\n",
       "      <th>B000RAQAUC</th>\n",
       "      <th>B000TMQQAC</th>\n",
       "      <th>B000TNAFUS</th>\n",
       "      <th>B000TZ19TC</th>\n",
       "      <th>B000TZ25D6</th>\n",
       "      <th>B000U2H682</th>\n",
       "      <th>B000U2H696</th>\n",
       "      <th>B000U2M5DS</th>\n",
       "      <th>B000UVGLZM</th>\n",
       "      <th>B000UY65EQ</th>\n",
       "    </tr>\n",
       "    <tr>\n",
       "      <th>UserID</th>\n",
       "      <th></th>\n",
       "      <th></th>\n",
       "      <th></th>\n",
       "      <th></th>\n",
       "      <th></th>\n",
       "      <th></th>\n",
       "      <th></th>\n",
       "      <th></th>\n",
       "      <th></th>\n",
       "      <th></th>\n",
       "      <th></th>\n",
       "      <th></th>\n",
       "      <th></th>\n",
       "      <th></th>\n",
       "      <th></th>\n",
       "      <th></th>\n",
       "      <th></th>\n",
       "      <th></th>\n",
       "      <th></th>\n",
       "      <th></th>\n",
       "      <th></th>\n",
       "    </tr>\n",
       "  </thead>\n",
       "  <tbody>\n",
       "    <tr>\n",
       "      <th>A105E427BB6J65</th>\n",
       "      <td>NaN</td>\n",
       "      <td>NaN</td>\n",
       "      <td>NaN</td>\n",
       "      <td>NaN</td>\n",
       "      <td>NaN</td>\n",
       "      <td>NaN</td>\n",
       "      <td>NaN</td>\n",
       "      <td>NaN</td>\n",
       "      <td>NaN</td>\n",
       "      <td>NaN</td>\n",
       "      <td>...</td>\n",
       "      <td>NaN</td>\n",
       "      <td>NaN</td>\n",
       "      <td>NaN</td>\n",
       "      <td>NaN</td>\n",
       "      <td>NaN</td>\n",
       "      <td>NaN</td>\n",
       "      <td>NaN</td>\n",
       "      <td>NaN</td>\n",
       "      <td>NaN</td>\n",
       "      <td>NaN</td>\n",
       "    </tr>\n",
       "    <tr>\n",
       "      <th>A105FAAQ06FTWA</th>\n",
       "      <td>NaN</td>\n",
       "      <td>NaN</td>\n",
       "      <td>NaN</td>\n",
       "      <td>NaN</td>\n",
       "      <td>NaN</td>\n",
       "      <td>NaN</td>\n",
       "      <td>NaN</td>\n",
       "      <td>NaN</td>\n",
       "      <td>NaN</td>\n",
       "      <td>NaN</td>\n",
       "      <td>...</td>\n",
       "      <td>NaN</td>\n",
       "      <td>NaN</td>\n",
       "      <td>NaN</td>\n",
       "      <td>NaN</td>\n",
       "      <td>NaN</td>\n",
       "      <td>NaN</td>\n",
       "      <td>NaN</td>\n",
       "      <td>NaN</td>\n",
       "      <td>NaN</td>\n",
       "      <td>NaN</td>\n",
       "    </tr>\n",
       "    <tr>\n",
       "      <th>A105MPYIG2WENU</th>\n",
       "      <td>NaN</td>\n",
       "      <td>NaN</td>\n",
       "      <td>NaN</td>\n",
       "      <td>NaN</td>\n",
       "      <td>NaN</td>\n",
       "      <td>NaN</td>\n",
       "      <td>NaN</td>\n",
       "      <td>NaN</td>\n",
       "      <td>NaN</td>\n",
       "      <td>NaN</td>\n",
       "      <td>...</td>\n",
       "      <td>NaN</td>\n",
       "      <td>NaN</td>\n",
       "      <td>NaN</td>\n",
       "      <td>NaN</td>\n",
       "      <td>NaN</td>\n",
       "      <td>NaN</td>\n",
       "      <td>NaN</td>\n",
       "      <td>NaN</td>\n",
       "      <td>NaN</td>\n",
       "      <td>NaN</td>\n",
       "    </tr>\n",
       "    <tr>\n",
       "      <th>A106016KSI0YQ</th>\n",
       "      <td>NaN</td>\n",
       "      <td>NaN</td>\n",
       "      <td>NaN</td>\n",
       "      <td>NaN</td>\n",
       "      <td>NaN</td>\n",
       "      <td>NaN</td>\n",
       "      <td>NaN</td>\n",
       "      <td>NaN</td>\n",
       "      <td>NaN</td>\n",
       "      <td>NaN</td>\n",
       "      <td>...</td>\n",
       "      <td>NaN</td>\n",
       "      <td>NaN</td>\n",
       "      <td>NaN</td>\n",
       "      <td>NaN</td>\n",
       "      <td>NaN</td>\n",
       "      <td>NaN</td>\n",
       "      <td>NaN</td>\n",
       "      <td>NaN</td>\n",
       "      <td>NaN</td>\n",
       "      <td>NaN</td>\n",
       "    </tr>\n",
       "    <tr>\n",
       "      <th>A1069WS6765UDL</th>\n",
       "      <td>NaN</td>\n",
       "      <td>NaN</td>\n",
       "      <td>NaN</td>\n",
       "      <td>NaN</td>\n",
       "      <td>NaN</td>\n",
       "      <td>NaN</td>\n",
       "      <td>NaN</td>\n",
       "      <td>NaN</td>\n",
       "      <td>NaN</td>\n",
       "      <td>NaN</td>\n",
       "      <td>...</td>\n",
       "      <td>NaN</td>\n",
       "      <td>NaN</td>\n",
       "      <td>NaN</td>\n",
       "      <td>NaN</td>\n",
       "      <td>NaN</td>\n",
       "      <td>NaN</td>\n",
       "      <td>NaN</td>\n",
       "      <td>NaN</td>\n",
       "      <td>NaN</td>\n",
       "      <td>NaN</td>\n",
       "    </tr>\n",
       "    <tr>\n",
       "      <th>A106C1NLEHPDJP</th>\n",
       "      <td>NaN</td>\n",
       "      <td>NaN</td>\n",
       "      <td>NaN</td>\n",
       "      <td>NaN</td>\n",
       "      <td>NaN</td>\n",
       "      <td>NaN</td>\n",
       "      <td>NaN</td>\n",
       "      <td>NaN</td>\n",
       "      <td>NaN</td>\n",
       "      <td>NaN</td>\n",
       "      <td>...</td>\n",
       "      <td>NaN</td>\n",
       "      <td>NaN</td>\n",
       "      <td>NaN</td>\n",
       "      <td>NaN</td>\n",
       "      <td>NaN</td>\n",
       "      <td>NaN</td>\n",
       "      <td>NaN</td>\n",
       "      <td>NaN</td>\n",
       "      <td>NaN</td>\n",
       "      <td>NaN</td>\n",
       "    </tr>\n",
       "    <tr>\n",
       "      <th>A106E1N0ZQ4D9W</th>\n",
       "      <td>NaN</td>\n",
       "      <td>NaN</td>\n",
       "      <td>NaN</td>\n",
       "      <td>NaN</td>\n",
       "      <td>NaN</td>\n",
       "      <td>NaN</td>\n",
       "      <td>NaN</td>\n",
       "      <td>NaN</td>\n",
       "      <td>NaN</td>\n",
       "      <td>NaN</td>\n",
       "      <td>...</td>\n",
       "      <td>NaN</td>\n",
       "      <td>NaN</td>\n",
       "      <td>NaN</td>\n",
       "      <td>NaN</td>\n",
       "      <td>NaN</td>\n",
       "      <td>NaN</td>\n",
       "      <td>NaN</td>\n",
       "      <td>NaN</td>\n",
       "      <td>NaN</td>\n",
       "      <td>NaN</td>\n",
       "    </tr>\n",
       "    <tr>\n",
       "      <th>A106HD4S643MHK</th>\n",
       "      <td>NaN</td>\n",
       "      <td>NaN</td>\n",
       "      <td>NaN</td>\n",
       "      <td>NaN</td>\n",
       "      <td>NaN</td>\n",
       "      <td>NaN</td>\n",
       "      <td>NaN</td>\n",
       "      <td>NaN</td>\n",
       "      <td>NaN</td>\n",
       "      <td>NaN</td>\n",
       "      <td>...</td>\n",
       "      <td>NaN</td>\n",
       "      <td>NaN</td>\n",
       "      <td>NaN</td>\n",
       "      <td>NaN</td>\n",
       "      <td>NaN</td>\n",
       "      <td>NaN</td>\n",
       "      <td>NaN</td>\n",
       "      <td>NaN</td>\n",
       "      <td>NaN</td>\n",
       "      <td>NaN</td>\n",
       "    </tr>\n",
       "    <tr>\n",
       "      <th>A106N4B4EG4DR8</th>\n",
       "      <td>NaN</td>\n",
       "      <td>NaN</td>\n",
       "      <td>NaN</td>\n",
       "      <td>NaN</td>\n",
       "      <td>NaN</td>\n",
       "      <td>NaN</td>\n",
       "      <td>NaN</td>\n",
       "      <td>NaN</td>\n",
       "      <td>NaN</td>\n",
       "      <td>NaN</td>\n",
       "      <td>...</td>\n",
       "      <td>NaN</td>\n",
       "      <td>NaN</td>\n",
       "      <td>NaN</td>\n",
       "      <td>NaN</td>\n",
       "      <td>NaN</td>\n",
       "      <td>NaN</td>\n",
       "      <td>NaN</td>\n",
       "      <td>NaN</td>\n",
       "      <td>NaN</td>\n",
       "      <td>NaN</td>\n",
       "    </tr>\n",
       "    <tr>\n",
       "      <th>A106P1BJ6P9DQH</th>\n",
       "      <td>NaN</td>\n",
       "      <td>NaN</td>\n",
       "      <td>NaN</td>\n",
       "      <td>NaN</td>\n",
       "      <td>NaN</td>\n",
       "      <td>NaN</td>\n",
       "      <td>NaN</td>\n",
       "      <td>NaN</td>\n",
       "      <td>NaN</td>\n",
       "      <td>NaN</td>\n",
       "      <td>...</td>\n",
       "      <td>NaN</td>\n",
       "      <td>NaN</td>\n",
       "      <td>NaN</td>\n",
       "      <td>NaN</td>\n",
       "      <td>NaN</td>\n",
       "      <td>NaN</td>\n",
       "      <td>NaN</td>\n",
       "      <td>NaN</td>\n",
       "      <td>NaN</td>\n",
       "      <td>NaN</td>\n",
       "    </tr>\n",
       "    <tr>\n",
       "      <th>A106T2G4GR3VXP</th>\n",
       "      <td>NaN</td>\n",
       "      <td>NaN</td>\n",
       "      <td>NaN</td>\n",
       "      <td>NaN</td>\n",
       "      <td>NaN</td>\n",
       "      <td>NaN</td>\n",
       "      <td>NaN</td>\n",
       "      <td>NaN</td>\n",
       "      <td>NaN</td>\n",
       "      <td>NaN</td>\n",
       "      <td>...</td>\n",
       "      <td>NaN</td>\n",
       "      <td>NaN</td>\n",
       "      <td>NaN</td>\n",
       "      <td>NaN</td>\n",
       "      <td>NaN</td>\n",
       "      <td>NaN</td>\n",
       "      <td>NaN</td>\n",
       "      <td>NaN</td>\n",
       "      <td>NaN</td>\n",
       "      <td>NaN</td>\n",
       "    </tr>\n",
       "    <tr>\n",
       "      <th>A10788CRDVLLPI</th>\n",
       "      <td>NaN</td>\n",
       "      <td>NaN</td>\n",
       "      <td>NaN</td>\n",
       "      <td>NaN</td>\n",
       "      <td>NaN</td>\n",
       "      <td>NaN</td>\n",
       "      <td>NaN</td>\n",
       "      <td>NaN</td>\n",
       "      <td>NaN</td>\n",
       "      <td>NaN</td>\n",
       "      <td>...</td>\n",
       "      <td>NaN</td>\n",
       "      <td>NaN</td>\n",
       "      <td>NaN</td>\n",
       "      <td>NaN</td>\n",
       "      <td>NaN</td>\n",
       "      <td>NaN</td>\n",
       "      <td>NaN</td>\n",
       "      <td>NaN</td>\n",
       "      <td>NaN</td>\n",
       "      <td>NaN</td>\n",
       "    </tr>\n",
       "    <tr>\n",
       "      <th>A107BOOU9O23BM</th>\n",
       "      <td>NaN</td>\n",
       "      <td>NaN</td>\n",
       "      <td>NaN</td>\n",
       "      <td>NaN</td>\n",
       "      <td>NaN</td>\n",
       "      <td>NaN</td>\n",
       "      <td>NaN</td>\n",
       "      <td>NaN</td>\n",
       "      <td>NaN</td>\n",
       "      <td>NaN</td>\n",
       "      <td>...</td>\n",
       "      <td>NaN</td>\n",
       "      <td>NaN</td>\n",
       "      <td>NaN</td>\n",
       "      <td>NaN</td>\n",
       "      <td>NaN</td>\n",
       "      <td>NaN</td>\n",
       "      <td>NaN</td>\n",
       "      <td>NaN</td>\n",
       "      <td>NaN</td>\n",
       "      <td>NaN</td>\n",
       "    </tr>\n",
       "    <tr>\n",
       "      <th>A107F528SN3XJU</th>\n",
       "      <td>NaN</td>\n",
       "      <td>NaN</td>\n",
       "      <td>NaN</td>\n",
       "      <td>NaN</td>\n",
       "      <td>NaN</td>\n",
       "      <td>NaN</td>\n",
       "      <td>NaN</td>\n",
       "      <td>NaN</td>\n",
       "      <td>NaN</td>\n",
       "      <td>NaN</td>\n",
       "      <td>...</td>\n",
       "      <td>NaN</td>\n",
       "      <td>NaN</td>\n",
       "      <td>NaN</td>\n",
       "      <td>NaN</td>\n",
       "      <td>NaN</td>\n",
       "      <td>NaN</td>\n",
       "      <td>NaN</td>\n",
       "      <td>NaN</td>\n",
       "      <td>NaN</td>\n",
       "      <td>NaN</td>\n",
       "    </tr>\n",
       "    <tr>\n",
       "      <th>A107H3XGCV6Y4Q</th>\n",
       "      <td>NaN</td>\n",
       "      <td>NaN</td>\n",
       "      <td>NaN</td>\n",
       "      <td>NaN</td>\n",
       "      <td>NaN</td>\n",
       "      <td>NaN</td>\n",
       "      <td>NaN</td>\n",
       "      <td>NaN</td>\n",
       "      <td>NaN</td>\n",
       "      <td>NaN</td>\n",
       "      <td>...</td>\n",
       "      <td>NaN</td>\n",
       "      <td>NaN</td>\n",
       "      <td>NaN</td>\n",
       "      <td>NaN</td>\n",
       "      <td>NaN</td>\n",
       "      <td>NaN</td>\n",
       "      <td>NaN</td>\n",
       "      <td>NaN</td>\n",
       "      <td>NaN</td>\n",
       "      <td>NaN</td>\n",
       "    </tr>\n",
       "    <tr>\n",
       "      <th>A107I3EOYE62A</th>\n",
       "      <td>NaN</td>\n",
       "      <td>NaN</td>\n",
       "      <td>NaN</td>\n",
       "      <td>NaN</td>\n",
       "      <td>NaN</td>\n",
       "      <td>NaN</td>\n",
       "      <td>NaN</td>\n",
       "      <td>NaN</td>\n",
       "      <td>NaN</td>\n",
       "      <td>NaN</td>\n",
       "      <td>...</td>\n",
       "      <td>NaN</td>\n",
       "      <td>NaN</td>\n",
       "      <td>NaN</td>\n",
       "      <td>NaN</td>\n",
       "      <td>NaN</td>\n",
       "      <td>NaN</td>\n",
       "      <td>NaN</td>\n",
       "      <td>NaN</td>\n",
       "      <td>NaN</td>\n",
       "      <td>NaN</td>\n",
       "    </tr>\n",
       "    <tr>\n",
       "      <th>A107QWK7JAITW6</th>\n",
       "      <td>NaN</td>\n",
       "      <td>NaN</td>\n",
       "      <td>NaN</td>\n",
       "      <td>NaN</td>\n",
       "      <td>NaN</td>\n",
       "      <td>NaN</td>\n",
       "      <td>NaN</td>\n",
       "      <td>NaN</td>\n",
       "      <td>NaN</td>\n",
       "      <td>NaN</td>\n",
       "      <td>...</td>\n",
       "      <td>NaN</td>\n",
       "      <td>NaN</td>\n",
       "      <td>NaN</td>\n",
       "      <td>NaN</td>\n",
       "      <td>NaN</td>\n",
       "      <td>NaN</td>\n",
       "      <td>NaN</td>\n",
       "      <td>NaN</td>\n",
       "      <td>NaN</td>\n",
       "      <td>NaN</td>\n",
       "    </tr>\n",
       "    <tr>\n",
       "      <th>A107VUL4I6CO9T</th>\n",
       "      <td>NaN</td>\n",
       "      <td>NaN</td>\n",
       "      <td>NaN</td>\n",
       "      <td>NaN</td>\n",
       "      <td>NaN</td>\n",
       "      <td>NaN</td>\n",
       "      <td>NaN</td>\n",
       "      <td>NaN</td>\n",
       "      <td>NaN</td>\n",
       "      <td>NaN</td>\n",
       "      <td>...</td>\n",
       "      <td>NaN</td>\n",
       "      <td>NaN</td>\n",
       "      <td>NaN</td>\n",
       "      <td>NaN</td>\n",
       "      <td>NaN</td>\n",
       "      <td>NaN</td>\n",
       "      <td>NaN</td>\n",
       "      <td>NaN</td>\n",
       "      <td>NaN</td>\n",
       "      <td>NaN</td>\n",
       "    </tr>\n",
       "    <tr>\n",
       "      <th>A1086PC9A0HLU5</th>\n",
       "      <td>NaN</td>\n",
       "      <td>NaN</td>\n",
       "      <td>NaN</td>\n",
       "      <td>NaN</td>\n",
       "      <td>NaN</td>\n",
       "      <td>NaN</td>\n",
       "      <td>NaN</td>\n",
       "      <td>NaN</td>\n",
       "      <td>NaN</td>\n",
       "      <td>NaN</td>\n",
       "      <td>...</td>\n",
       "      <td>NaN</td>\n",
       "      <td>NaN</td>\n",
       "      <td>NaN</td>\n",
       "      <td>NaN</td>\n",
       "      <td>NaN</td>\n",
       "      <td>NaN</td>\n",
       "      <td>NaN</td>\n",
       "      <td>NaN</td>\n",
       "      <td>NaN</td>\n",
       "      <td>NaN</td>\n",
       "    </tr>\n",
       "    <tr>\n",
       "      <th>A1087SLSJ7JQ7O</th>\n",
       "      <td>NaN</td>\n",
       "      <td>NaN</td>\n",
       "      <td>NaN</td>\n",
       "      <td>NaN</td>\n",
       "      <td>NaN</td>\n",
       "      <td>NaN</td>\n",
       "      <td>NaN</td>\n",
       "      <td>NaN</td>\n",
       "      <td>NaN</td>\n",
       "      <td>NaN</td>\n",
       "      <td>...</td>\n",
       "      <td>NaN</td>\n",
       "      <td>NaN</td>\n",
       "      <td>NaN</td>\n",
       "      <td>NaN</td>\n",
       "      <td>NaN</td>\n",
       "      <td>NaN</td>\n",
       "      <td>NaN</td>\n",
       "      <td>NaN</td>\n",
       "      <td>NaN</td>\n",
       "      <td>NaN</td>\n",
       "    </tr>\n",
       "    <tr>\n",
       "      <th>A108B6JHMTP4EY</th>\n",
       "      <td>NaN</td>\n",
       "      <td>NaN</td>\n",
       "      <td>NaN</td>\n",
       "      <td>NaN</td>\n",
       "      <td>NaN</td>\n",
       "      <td>NaN</td>\n",
       "      <td>NaN</td>\n",
       "      <td>NaN</td>\n",
       "      <td>NaN</td>\n",
       "      <td>NaN</td>\n",
       "      <td>...</td>\n",
       "      <td>NaN</td>\n",
       "      <td>NaN</td>\n",
       "      <td>NaN</td>\n",
       "      <td>NaN</td>\n",
       "      <td>NaN</td>\n",
       "      <td>NaN</td>\n",
       "      <td>NaN</td>\n",
       "      <td>NaN</td>\n",
       "      <td>NaN</td>\n",
       "      <td>NaN</td>\n",
       "    </tr>\n",
       "    <tr>\n",
       "      <th>A108D0GS1RXLNI</th>\n",
       "      <td>NaN</td>\n",
       "      <td>NaN</td>\n",
       "      <td>NaN</td>\n",
       "      <td>NaN</td>\n",
       "      <td>NaN</td>\n",
       "      <td>NaN</td>\n",
       "      <td>NaN</td>\n",
       "      <td>NaN</td>\n",
       "      <td>NaN</td>\n",
       "      <td>NaN</td>\n",
       "      <td>...</td>\n",
       "      <td>NaN</td>\n",
       "      <td>NaN</td>\n",
       "      <td>NaN</td>\n",
       "      <td>NaN</td>\n",
       "      <td>NaN</td>\n",
       "      <td>NaN</td>\n",
       "      <td>NaN</td>\n",
       "      <td>NaN</td>\n",
       "      <td>NaN</td>\n",
       "      <td>NaN</td>\n",
       "    </tr>\n",
       "    <tr>\n",
       "      <th>A108EF85USF2JE</th>\n",
       "      <td>NaN</td>\n",
       "      <td>NaN</td>\n",
       "      <td>NaN</td>\n",
       "      <td>NaN</td>\n",
       "      <td>NaN</td>\n",
       "      <td>NaN</td>\n",
       "      <td>NaN</td>\n",
       "      <td>NaN</td>\n",
       "      <td>NaN</td>\n",
       "      <td>NaN</td>\n",
       "      <td>...</td>\n",
       "      <td>NaN</td>\n",
       "      <td>NaN</td>\n",
       "      <td>NaN</td>\n",
       "      <td>NaN</td>\n",
       "      <td>NaN</td>\n",
       "      <td>NaN</td>\n",
       "      <td>NaN</td>\n",
       "      <td>NaN</td>\n",
       "      <td>NaN</td>\n",
       "      <td>NaN</td>\n",
       "    </tr>\n",
       "    <tr>\n",
       "      <th>A108JOJL6TLC91</th>\n",
       "      <td>NaN</td>\n",
       "      <td>NaN</td>\n",
       "      <td>NaN</td>\n",
       "      <td>NaN</td>\n",
       "      <td>NaN</td>\n",
       "      <td>NaN</td>\n",
       "      <td>NaN</td>\n",
       "      <td>NaN</td>\n",
       "      <td>NaN</td>\n",
       "      <td>NaN</td>\n",
       "      <td>...</td>\n",
       "      <td>NaN</td>\n",
       "      <td>NaN</td>\n",
       "      <td>NaN</td>\n",
       "      <td>NaN</td>\n",
       "      <td>NaN</td>\n",
       "      <td>NaN</td>\n",
       "      <td>NaN</td>\n",
       "      <td>NaN</td>\n",
       "      <td>NaN</td>\n",
       "      <td>NaN</td>\n",
       "    </tr>\n",
       "    <tr>\n",
       "      <th>A108JXYEJ9RZ8L</th>\n",
       "      <td>NaN</td>\n",
       "      <td>NaN</td>\n",
       "      <td>NaN</td>\n",
       "      <td>NaN</td>\n",
       "      <td>NaN</td>\n",
       "      <td>NaN</td>\n",
       "      <td>NaN</td>\n",
       "      <td>NaN</td>\n",
       "      <td>NaN</td>\n",
       "      <td>NaN</td>\n",
       "      <td>...</td>\n",
       "      <td>NaN</td>\n",
       "      <td>NaN</td>\n",
       "      <td>NaN</td>\n",
       "      <td>NaN</td>\n",
       "      <td>NaN</td>\n",
       "      <td>NaN</td>\n",
       "      <td>NaN</td>\n",
       "      <td>NaN</td>\n",
       "      <td>NaN</td>\n",
       "      <td>NaN</td>\n",
       "    </tr>\n",
       "  </tbody>\n",
       "</table>\n",
       "<p>25 rows × 3457 columns</p>\n",
       "</div>"
      ],
      "text/plain": [
       "                   Review                                              \\\n",
       "ProductID      0001515195 0005060982 0006514413 0006530451 0007101929   \n",
       "UserID                                                                  \n",
       "A105E427BB6J65        NaN        NaN        NaN        NaN        NaN   \n",
       "A105FAAQ06FTWA        NaN        NaN        NaN        NaN        NaN   \n",
       "A105MPYIG2WENU        NaN        NaN        NaN        NaN        NaN   \n",
       "A106016KSI0YQ         NaN        NaN        NaN        NaN        NaN   \n",
       "A1069WS6765UDL        NaN        NaN        NaN        NaN        NaN   \n",
       "A106C1NLEHPDJP        NaN        NaN        NaN        NaN        NaN   \n",
       "A106E1N0ZQ4D9W        NaN        NaN        NaN        NaN        NaN   \n",
       "A106HD4S643MHK        NaN        NaN        NaN        NaN        NaN   \n",
       "A106N4B4EG4DR8        NaN        NaN        NaN        NaN        NaN   \n",
       "A106P1BJ6P9DQH        NaN        NaN        NaN        NaN        NaN   \n",
       "A106T2G4GR3VXP        NaN        NaN        NaN        NaN        NaN   \n",
       "A10788CRDVLLPI        NaN        NaN        NaN        NaN        NaN   \n",
       "A107BOOU9O23BM        NaN        NaN        NaN        NaN        NaN   \n",
       "A107F528SN3XJU        NaN        NaN        NaN        NaN        NaN   \n",
       "A107H3XGCV6Y4Q        NaN        NaN        NaN        NaN        NaN   \n",
       "A107I3EOYE62A         NaN        NaN        NaN        NaN        NaN   \n",
       "A107QWK7JAITW6        NaN        NaN        NaN        NaN        NaN   \n",
       "A107VUL4I6CO9T        NaN        NaN        NaN        NaN        NaN   \n",
       "A1086PC9A0HLU5        NaN        NaN        NaN        NaN        NaN   \n",
       "A1087SLSJ7JQ7O        NaN        NaN        NaN        NaN        NaN   \n",
       "A108B6JHMTP4EY        NaN        NaN        NaN        NaN        NaN   \n",
       "A108D0GS1RXLNI        NaN        NaN        NaN        NaN        NaN   \n",
       "A108EF85USF2JE        NaN        NaN        NaN        NaN        NaN   \n",
       "A108JOJL6TLC91        NaN        NaN        NaN        NaN        NaN   \n",
       "A108JXYEJ9RZ8L        NaN        NaN        NaN        NaN        NaN   \n",
       "\n",
       "                                                                       \\\n",
       "ProductID      0007106823 0007123469 0007123477 0007128355 0020480202   \n",
       "UserID                                                                  \n",
       "A105E427BB6J65        NaN        NaN        NaN        NaN        NaN   \n",
       "A105FAAQ06FTWA        NaN        NaN        NaN        NaN        NaN   \n",
       "A105MPYIG2WENU        NaN        NaN        NaN        NaN        NaN   \n",
       "A106016KSI0YQ         NaN        NaN        NaN        NaN        NaN   \n",
       "A1069WS6765UDL        NaN        NaN        NaN        NaN        NaN   \n",
       "A106C1NLEHPDJP        NaN        NaN        NaN        NaN        NaN   \n",
       "A106E1N0ZQ4D9W        NaN        NaN        NaN        NaN        NaN   \n",
       "A106HD4S643MHK        NaN        NaN        NaN        NaN        NaN   \n",
       "A106N4B4EG4DR8        NaN        NaN        NaN        NaN        NaN   \n",
       "A106P1BJ6P9DQH        NaN        NaN        NaN        NaN        NaN   \n",
       "A106T2G4GR3VXP        NaN        NaN        NaN        NaN        NaN   \n",
       "A10788CRDVLLPI        NaN        NaN        NaN        NaN        NaN   \n",
       "A107BOOU9O23BM        NaN        NaN        NaN        NaN        NaN   \n",
       "A107F528SN3XJU        NaN        NaN        NaN        NaN        NaN   \n",
       "A107H3XGCV6Y4Q        NaN        NaN        NaN        NaN        NaN   \n",
       "A107I3EOYE62A         NaN        NaN        NaN        NaN        NaN   \n",
       "A107QWK7JAITW6        NaN        NaN        NaN        NaN        NaN   \n",
       "A107VUL4I6CO9T        NaN        NaN        NaN        NaN        NaN   \n",
       "A1086PC9A0HLU5        NaN        NaN        NaN        NaN        NaN   \n",
       "A1087SLSJ7JQ7O        NaN        NaN        NaN        NaN        NaN   \n",
       "A108B6JHMTP4EY        NaN        NaN        NaN        NaN        NaN   \n",
       "A108D0GS1RXLNI        NaN        NaN        NaN        NaN        NaN   \n",
       "A108EF85USF2JE        NaN        NaN        NaN        NaN        NaN   \n",
       "A108JOJL6TLC91        NaN        NaN        NaN        NaN        NaN   \n",
       "A108JXYEJ9RZ8L        NaN        NaN        NaN        NaN        NaN   \n",
       "\n",
       "                  ...                                                  \\\n",
       "ProductID         ...     B000RAQAUC B000TMQQAC B000TNAFUS B000TZ19TC   \n",
       "UserID            ...                                                   \n",
       "A105E427BB6J65    ...            NaN        NaN        NaN        NaN   \n",
       "A105FAAQ06FTWA    ...            NaN        NaN        NaN        NaN   \n",
       "A105MPYIG2WENU    ...            NaN        NaN        NaN        NaN   \n",
       "A106016KSI0YQ     ...            NaN        NaN        NaN        NaN   \n",
       "A1069WS6765UDL    ...            NaN        NaN        NaN        NaN   \n",
       "A106C1NLEHPDJP    ...            NaN        NaN        NaN        NaN   \n",
       "A106E1N0ZQ4D9W    ...            NaN        NaN        NaN        NaN   \n",
       "A106HD4S643MHK    ...            NaN        NaN        NaN        NaN   \n",
       "A106N4B4EG4DR8    ...            NaN        NaN        NaN        NaN   \n",
       "A106P1BJ6P9DQH    ...            NaN        NaN        NaN        NaN   \n",
       "A106T2G4GR3VXP    ...            NaN        NaN        NaN        NaN   \n",
       "A10788CRDVLLPI    ...            NaN        NaN        NaN        NaN   \n",
       "A107BOOU9O23BM    ...            NaN        NaN        NaN        NaN   \n",
       "A107F528SN3XJU    ...            NaN        NaN        NaN        NaN   \n",
       "A107H3XGCV6Y4Q    ...            NaN        NaN        NaN        NaN   \n",
       "A107I3EOYE62A     ...            NaN        NaN        NaN        NaN   \n",
       "A107QWK7JAITW6    ...            NaN        NaN        NaN        NaN   \n",
       "A107VUL4I6CO9T    ...            NaN        NaN        NaN        NaN   \n",
       "A1086PC9A0HLU5    ...            NaN        NaN        NaN        NaN   \n",
       "A1087SLSJ7JQ7O    ...            NaN        NaN        NaN        NaN   \n",
       "A108B6JHMTP4EY    ...            NaN        NaN        NaN        NaN   \n",
       "A108D0GS1RXLNI    ...            NaN        NaN        NaN        NaN   \n",
       "A108EF85USF2JE    ...            NaN        NaN        NaN        NaN   \n",
       "A108JOJL6TLC91    ...            NaN        NaN        NaN        NaN   \n",
       "A108JXYEJ9RZ8L    ...            NaN        NaN        NaN        NaN   \n",
       "\n",
       "                                                                       \\\n",
       "ProductID      B000TZ25D6 B000U2H682 B000U2H696 B000U2M5DS B000UVGLZM   \n",
       "UserID                                                                  \n",
       "A105E427BB6J65        NaN        NaN        NaN        NaN        NaN   \n",
       "A105FAAQ06FTWA        NaN        NaN        NaN        NaN        NaN   \n",
       "A105MPYIG2WENU        NaN        NaN        NaN        NaN        NaN   \n",
       "A106016KSI0YQ         NaN        NaN        NaN        NaN        NaN   \n",
       "A1069WS6765UDL        NaN        NaN        NaN        NaN        NaN   \n",
       "A106C1NLEHPDJP        NaN        NaN        NaN        NaN        NaN   \n",
       "A106E1N0ZQ4D9W        NaN        NaN        NaN        NaN        NaN   \n",
       "A106HD4S643MHK        NaN        NaN        NaN        NaN        NaN   \n",
       "A106N4B4EG4DR8        NaN        NaN        NaN        NaN        NaN   \n",
       "A106P1BJ6P9DQH        NaN        NaN        NaN        NaN        NaN   \n",
       "A106T2G4GR3VXP        NaN        NaN        NaN        NaN        NaN   \n",
       "A10788CRDVLLPI        NaN        NaN        NaN        NaN        NaN   \n",
       "A107BOOU9O23BM        NaN        NaN        NaN        NaN        NaN   \n",
       "A107F528SN3XJU        NaN        NaN        NaN        NaN        NaN   \n",
       "A107H3XGCV6Y4Q        NaN        NaN        NaN        NaN        NaN   \n",
       "A107I3EOYE62A         NaN        NaN        NaN        NaN        NaN   \n",
       "A107QWK7JAITW6        NaN        NaN        NaN        NaN        NaN   \n",
       "A107VUL4I6CO9T        NaN        NaN        NaN        NaN        NaN   \n",
       "A1086PC9A0HLU5        NaN        NaN        NaN        NaN        NaN   \n",
       "A1087SLSJ7JQ7O        NaN        NaN        NaN        NaN        NaN   \n",
       "A108B6JHMTP4EY        NaN        NaN        NaN        NaN        NaN   \n",
       "A108D0GS1RXLNI        NaN        NaN        NaN        NaN        NaN   \n",
       "A108EF85USF2JE        NaN        NaN        NaN        NaN        NaN   \n",
       "A108JOJL6TLC91        NaN        NaN        NaN        NaN        NaN   \n",
       "A108JXYEJ9RZ8L        NaN        NaN        NaN        NaN        NaN   \n",
       "\n",
       "                           \n",
       "ProductID      B000UY65EQ  \n",
       "UserID                     \n",
       "A105E427BB6J65        NaN  \n",
       "A105FAAQ06FTWA        NaN  \n",
       "A105MPYIG2WENU        NaN  \n",
       "A106016KSI0YQ         NaN  \n",
       "A1069WS6765UDL        NaN  \n",
       "A106C1NLEHPDJP        NaN  \n",
       "A106E1N0ZQ4D9W        NaN  \n",
       "A106HD4S643MHK        NaN  \n",
       "A106N4B4EG4DR8        NaN  \n",
       "A106P1BJ6P9DQH        NaN  \n",
       "A106T2G4GR3VXP        NaN  \n",
       "A10788CRDVLLPI        NaN  \n",
       "A107BOOU9O23BM        NaN  \n",
       "A107F528SN3XJU        NaN  \n",
       "A107H3XGCV6Y4Q        NaN  \n",
       "A107I3EOYE62A         NaN  \n",
       "A107QWK7JAITW6        NaN  \n",
       "A107VUL4I6CO9T        NaN  \n",
       "A1086PC9A0HLU5        NaN  \n",
       "A1087SLSJ7JQ7O        NaN  \n",
       "A108B6JHMTP4EY        NaN  \n",
       "A108D0GS1RXLNI        NaN  \n",
       "A108EF85USF2JE        NaN  \n",
       "A108JOJL6TLC91        NaN  \n",
       "A108JXYEJ9RZ8L        NaN  \n",
       "\n",
       "[25 rows x 3457 columns]"
      ]
     },
     "execution_count": 14,
     "metadata": {},
     "output_type": "execute_result"
    }
   ],
   "source": [
    "# data_pivot = data_df.pivot_table(index = [\"UserID\"], columns=[\"ProductID\"], values=[\"Review\"])\n",
    "# data_pivot[50:75]"
   ]
  },
  {
   "cell_type": "code",
   "execution_count": 15,
   "metadata": {},
   "outputs": [
    {
     "data": {
      "text/plain": [
       "(30762, 3457)"
      ]
     },
     "execution_count": 15,
     "metadata": {},
     "output_type": "execute_result"
    }
   ],
   "source": [
    "# data_pivot.columns = data_pivot.columns.droplevel()\n",
    "# #[print(x) for x in data_pivot.columns]\n",
    "# data_pivot.shape"
   ]
  },
  {
   "cell_type": "markdown",
   "metadata": {},
   "source": [
    "Building item based collaberative recommender without using any packages"
   ]
  },
  {
   "cell_type": "code",
   "execution_count": 14,
   "metadata": {
    "collapsed": true
   },
   "outputs": [],
   "source": [
    "# # function to get pearson correlation between two items\n",
    "\n",
    "# def get_cor(i1, i2):\n",
    "#     corr = data_pivot[i1].corr(data_pivot[i2])\n",
    "#     return corr\n",
    "\n",
    "# # function to calculate correlation against all other columns for a given item\n",
    "\n",
    "# def all_corr(i1, df, m):\n",
    "#     rank_corr = []\n",
    "#     for col in df.columns:\n",
    "#         if (col != None) and (col != i1):\n",
    "#             corr = get_cor(i1, col)\n",
    "#             cor_ls = {'item': col,\n",
    "#                       'cor': corr}\n",
    "#             rank_corr.append(cor_ls)\n",
    "    \n",
    "#     order_rank_corr = sorted(rank_corr, key = lambda item: (item['cor']), reverse=True)\n",
    "#     #print(order_rank_corr)\n",
    "#     return(order_rank_corr[:m])\n"
   ]
  },
  {
   "cell_type": "code",
   "execution_count": 16,
   "metadata": {},
   "outputs": [
    {
     "data": {
      "text/plain": [
       "B000N6DDJQ\\n    758\n",
       "B0007H4QBK\\n    330\n",
       "B000O3QCH8\\n    157\n",
       "0671551345\\n    134\n",
       "B000MCKQRS\\n    124\n",
       "B000NSKB12\\n    118\n",
       "B000HU0H2E\\n    103\n",
       "050552421X\\n     97\n",
       "0505524228\\n     91\n",
       "B000NRYUHO\\n     76\n",
       "B0000630MU\\n     55\n",
       "B000NKGYNE\\n     55\n",
       "B0006DM4E6\\n     52\n",
       "0679751254\\n     49\n",
       "0974267600\\n     48\n",
       "1883011035\\n     45\n",
       "0671551353\\n     43\n",
       "B0006DM4DW\\n     40\n",
       "0375422811\\n     40\n",
       "B000N7612G\\n     39\n",
       "0931580161\\n     34\n",
       "B000GLTD5Q\\n     32\n",
       "0595344550\\n     32\n",
       "0792799860\\n     31\n",
       "1564966763\\n     29\n",
       "0976324644\\n     28\n",
       "1890460052\\n     27\n",
       "0789480662\\n     27\n",
       "B000NKGYMK\\n     27\n",
       "B0006ANRXG\\n     26\n",
       "               ... \n",
       "0878403825\\n      1\n",
       "0253338352\\n      1\n",
       "0813318726\\n      1\n",
       "B0007IVPAO\\n      1\n",
       "0812830849\\n      1\n",
       "B0007FXCVM\\n      1\n",
       "1859673643\\n      1\n",
       "0768911001\\n      1\n",
       "B000H45MXO\\n      1\n",
       "0882292196\\n      1\n",
       "0975318004\\n      1\n",
       "0867093455\\n      1\n",
       "156292656X\\n      1\n",
       "1423410203\\n      1\n",
       "B0006DM4DC\\n      1\n",
       "0582485541\\n      1\n",
       "B00088DVTQ\\n      1\n",
       "B000OXCBJQ\\n      1\n",
       "0710613776\\n      1\n",
       "0567087786\\n      1\n",
       "0026204207\\n      1\n",
       "0966137116\\n      1\n",
       "0691021155\\n      1\n",
       "B0007DQIIS\\n      1\n",
       "157003088X\\n      1\n",
       "B0007DRE5E\\n      1\n",
       "1843762366\\n      1\n",
       "0908968000\\n      1\n",
       "B0007E2A8E\\n      1\n",
       "B0008BT8Q8\\n      1\n",
       "Name: ProductID, dtype: int64"
      ]
     },
     "execution_count": 16,
     "metadata": {},
     "output_type": "execute_result"
    }
   ],
   "source": [
    "# data_df['ProductID'].value_counts()"
   ]
  },
  {
   "cell_type": "markdown",
   "metadata": {},
   "source": [
    "Using GraphLab to perform item based collaborative filtering"
   ]
  },
  {
   "cell_type": "code",
   "execution_count": 31,
   "metadata": {
    "collapsed": true
   },
   "outputs": [],
   "source": [
    "import graphlab as gl"
   ]
  },
  {
   "cell_type": "code",
   "execution_count": 32,
   "metadata": {},
   "outputs": [
    {
     "ename": "TypeError",
     "evalue": "A common type cannot be infered from types float, string.",
     "output_type": "error",
     "traceback": [
      "\u001b[0;31m---------------------------------------------------------------------------\u001b[0m",
      "\u001b[0;31mTypeError\u001b[0m                                 Traceback (most recent call last)",
      "\u001b[0;32m<ipython-input-32-8a8871c1ef6a>\u001b[0m in \u001b[0;36m<module>\u001b[0;34m()\u001b[0m\n\u001b[1;32m      1\u001b[0m sf = gl.SFrame({'user_id': data_df['UserID'],\n\u001b[1;32m      2\u001b[0m                       \u001b[0;34m'item_id'\u001b[0m\u001b[0;34m:\u001b[0m \u001b[0mdata_df\u001b[0m\u001b[0;34m[\u001b[0m\u001b[0;34m'ProductID'\u001b[0m\u001b[0;34m]\u001b[0m\u001b[0;34m,\u001b[0m\u001b[0;34m\u001b[0m\u001b[0m\n\u001b[0;32m----> 3\u001b[0;31m                       'rating': data_df['Review']})\n\u001b[0m",
      "\u001b[0;32m/Users/ravitejachikkam/Anaconda/anaconda/envs/gl-env/lib/python2.7/site-packages/graphlab/data_structures/sframe.pyc\u001b[0m in \u001b[0;36m__init__\u001b[0;34m(self, data, format, _proxy)\u001b[0m\n\u001b[1;32m    951\u001b[0m                     \u001b[0;32mpass\u001b[0m\u001b[0;34m\u001b[0m\u001b[0m\n\u001b[1;32m    952\u001b[0m                 \u001b[0;32melse\u001b[0m\u001b[0;34m:\u001b[0m\u001b[0;34m\u001b[0m\u001b[0m\n\u001b[0;32m--> 953\u001b[0;31m                     \u001b[0;32mraise\u001b[0m \u001b[0mValueError\u001b[0m\u001b[0;34m(\u001b[0m\u001b[0;34m'Unknown input type: '\u001b[0m \u001b[0;34m+\u001b[0m \u001b[0mformat\u001b[0m\u001b[0;34m)\u001b[0m\u001b[0;34m\u001b[0m\u001b[0m\n\u001b[0m\u001b[1;32m    954\u001b[0m \u001b[0;34m\u001b[0m\u001b[0m\n\u001b[1;32m    955\u001b[0m         \u001b[0msframe_size\u001b[0m \u001b[0;34m=\u001b[0m \u001b[0;34m-\u001b[0m\u001b[0;36m1\u001b[0m\u001b[0;34m\u001b[0m\u001b[0m\n",
      "\u001b[0;32m/Users/ravitejachikkam/Anaconda/anaconda/envs/gl-env/lib/python2.7/site-packages/graphlab/cython/context.pyc\u001b[0m in \u001b[0;36m__exit__\u001b[0;34m(self, exc_type, exc_value, traceback)\u001b[0m\n\u001b[1;32m     47\u001b[0m             \u001b[0;32mif\u001b[0m \u001b[0;32mnot\u001b[0m \u001b[0mself\u001b[0m\u001b[0;34m.\u001b[0m\u001b[0mshow_cython_trace\u001b[0m\u001b[0;34m:\u001b[0m\u001b[0;34m\u001b[0m\u001b[0m\n\u001b[1;32m     48\u001b[0m                 \u001b[0;31m# To hide cython trace, we re-raise from here\u001b[0m\u001b[0;34m\u001b[0m\u001b[0;34m\u001b[0m\u001b[0m\n\u001b[0;32m---> 49\u001b[0;31m                 \u001b[0;32mraise\u001b[0m \u001b[0mexc_type\u001b[0m\u001b[0;34m(\u001b[0m\u001b[0mexc_value\u001b[0m\u001b[0;34m)\u001b[0m\u001b[0;34m\u001b[0m\u001b[0m\n\u001b[0m\u001b[1;32m     50\u001b[0m             \u001b[0;32melse\u001b[0m\u001b[0;34m:\u001b[0m\u001b[0;34m\u001b[0m\u001b[0m\n\u001b[1;32m     51\u001b[0m                 \u001b[0;31m# To show the full trace, we do nothing and let exception propagate\u001b[0m\u001b[0;34m\u001b[0m\u001b[0;34m\u001b[0m\u001b[0m\n",
      "\u001b[0;31mTypeError\u001b[0m: A common type cannot be infered from types float, string."
     ]
    }
   ],
   "source": [
    "sf = gl.SFrame({'user_id': data_df['UserID'],\n",
    "                      'item_id': data_df['ProductID'],\n",
    "                      'rating': data_df['Review']})"
   ]
  },
  {
   "cell_type": "code",
   "execution_count": 12,
   "metadata": {
    "collapsed": true
   },
   "outputs": [],
   "source": [
    "#from gl.recommender import item_similarity_recommender"
   ]
  },
  {
   "cell_type": "code",
   "execution_count": 13,
   "metadata": {},
   "outputs": [
    {
     "data": {
      "text/html": [
       "<pre>Recsys training: model = factorization_recommender</pre>"
      ],
      "text/plain": [
       "Recsys training: model = factorization_recommender"
      ]
     },
     "metadata": {},
     "output_type": "display_data"
    },
    {
     "data": {
      "text/html": [
       "<pre>Preparing data set.</pre>"
      ],
      "text/plain": [
       "Preparing data set."
      ]
     },
     "metadata": {},
     "output_type": "display_data"
    },
    {
     "data": {
      "text/html": [
       "<pre>    Data has 45454 observations with 30762 users and 3457 items.</pre>"
      ],
      "text/plain": [
       "    Data has 45454 observations with 30762 users and 3457 items."
      ]
     },
     "metadata": {},
     "output_type": "display_data"
    },
    {
     "data": {
      "text/html": [
       "<pre>    Data prepared in: 0.12604s</pre>"
      ],
      "text/plain": [
       "    Data prepared in: 0.12604s"
      ]
     },
     "metadata": {},
     "output_type": "display_data"
    },
    {
     "data": {
      "text/html": [
       "<pre>Training factorization_recommender for recommendations.</pre>"
      ],
      "text/plain": [
       "Training factorization_recommender for recommendations."
      ]
     },
     "metadata": {},
     "output_type": "display_data"
    },
    {
     "data": {
      "text/html": [
       "<pre>+--------------------------------+--------------------------------------------------+----------+</pre>"
      ],
      "text/plain": [
       "+--------------------------------+--------------------------------------------------+----------+"
      ]
     },
     "metadata": {},
     "output_type": "display_data"
    },
    {
     "data": {
      "text/html": [
       "<pre>| Parameter                      | Description                                      | Value    |</pre>"
      ],
      "text/plain": [
       "| Parameter                      | Description                                      | Value    |"
      ]
     },
     "metadata": {},
     "output_type": "display_data"
    },
    {
     "data": {
      "text/html": [
       "<pre>+--------------------------------+--------------------------------------------------+----------+</pre>"
      ],
      "text/plain": [
       "+--------------------------------+--------------------------------------------------+----------+"
      ]
     },
     "metadata": {},
     "output_type": "display_data"
    },
    {
     "data": {
      "text/html": [
       "<pre>| num_factors                    | Factor Dimension                                 | 8        |</pre>"
      ],
      "text/plain": [
       "| num_factors                    | Factor Dimension                                 | 8        |"
      ]
     },
     "metadata": {},
     "output_type": "display_data"
    },
    {
     "data": {
      "text/html": [
       "<pre>| regularization                 | L2 Regularization on Factors                     | 1e-08    |</pre>"
      ],
      "text/plain": [
       "| regularization                 | L2 Regularization on Factors                     | 1e-08    |"
      ]
     },
     "metadata": {},
     "output_type": "display_data"
    },
    {
     "data": {
      "text/html": [
       "<pre>| solver                         | Solver used for training                         | sgd      |</pre>"
      ],
      "text/plain": [
       "| solver                         | Solver used for training                         | sgd      |"
      ]
     },
     "metadata": {},
     "output_type": "display_data"
    },
    {
     "data": {
      "text/html": [
       "<pre>| linear_regularization          | L2 Regularization on Linear Coefficients         | 1e-10    |</pre>"
      ],
      "text/plain": [
       "| linear_regularization          | L2 Regularization on Linear Coefficients         | 1e-10    |"
      ]
     },
     "metadata": {},
     "output_type": "display_data"
    },
    {
     "data": {
      "text/html": [
       "<pre>| max_iterations                 | Maximum Number of Iterations                     | 50       |</pre>"
      ],
      "text/plain": [
       "| max_iterations                 | Maximum Number of Iterations                     | 50       |"
      ]
     },
     "metadata": {},
     "output_type": "display_data"
    },
    {
     "data": {
      "text/html": [
       "<pre>+--------------------------------+--------------------------------------------------+----------+</pre>"
      ],
      "text/plain": [
       "+--------------------------------+--------------------------------------------------+----------+"
      ]
     },
     "metadata": {},
     "output_type": "display_data"
    },
    {
     "data": {
      "text/html": [
       "<pre>  Optimizing model using SGD; tuning step size.</pre>"
      ],
      "text/plain": [
       "  Optimizing model using SGD; tuning step size."
      ]
     },
     "metadata": {},
     "output_type": "display_data"
    },
    {
     "data": {
      "text/html": [
       "<pre>  Using 10000 / 45454 points for tuning the step size.</pre>"
      ],
      "text/plain": [
       "  Using 10000 / 45454 points for tuning the step size."
      ]
     },
     "metadata": {},
     "output_type": "display_data"
    },
    {
     "data": {
      "text/html": [
       "<pre>+---------+-------------------+------------------------------------------+</pre>"
      ],
      "text/plain": [
       "+---------+-------------------+------------------------------------------+"
      ]
     },
     "metadata": {},
     "output_type": "display_data"
    },
    {
     "data": {
      "text/html": [
       "<pre>| Attempt | Initial Step Size | Estimated Objective Value                |</pre>"
      ],
      "text/plain": [
       "| Attempt | Initial Step Size | Estimated Objective Value                |"
      ]
     },
     "metadata": {},
     "output_type": "display_data"
    },
    {
     "data": {
      "text/html": [
       "<pre>+---------+-------------------+------------------------------------------+</pre>"
      ],
      "text/plain": [
       "+---------+-------------------+------------------------------------------+"
      ]
     },
     "metadata": {},
     "output_type": "display_data"
    },
    {
     "data": {
      "text/html": [
       "<pre>| 0       | 25                | Not Viable                               |</pre>"
      ],
      "text/plain": [
       "| 0       | 25                | Not Viable                               |"
      ]
     },
     "metadata": {},
     "output_type": "display_data"
    },
    {
     "data": {
      "text/html": [
       "<pre>| 1       | 6.25              | Not Viable                               |</pre>"
      ],
      "text/plain": [
       "| 1       | 6.25              | Not Viable                               |"
      ]
     },
     "metadata": {},
     "output_type": "display_data"
    },
    {
     "data": {
      "text/html": [
       "<pre>| 2       | 1.5625            | Not Viable                               |</pre>"
      ],
      "text/plain": [
       "| 2       | 1.5625            | Not Viable                               |"
      ]
     },
     "metadata": {},
     "output_type": "display_data"
    },
    {
     "data": {
      "text/html": [
       "<pre>| 3       | 0.390625          | 0.585834                                 |</pre>"
      ],
      "text/plain": [
       "| 3       | 0.390625          | 0.585834                                 |"
      ]
     },
     "metadata": {},
     "output_type": "display_data"
    },
    {
     "data": {
      "text/html": [
       "<pre>| 4       | 0.195312          | 0.345173                                 |</pre>"
      ],
      "text/plain": [
       "| 4       | 0.195312          | 0.345173                                 |"
      ]
     },
     "metadata": {},
     "output_type": "display_data"
    },
    {
     "data": {
      "text/html": [
       "<pre>| 5       | 0.0976562         | 0.525189                                 |</pre>"
      ],
      "text/plain": [
       "| 5       | 0.0976562         | 0.525189                                 |"
      ]
     },
     "metadata": {},
     "output_type": "display_data"
    },
    {
     "data": {
      "text/html": [
       "<pre>| 6       | 0.0488281         | 0.76793                                  |</pre>"
      ],
      "text/plain": [
       "| 6       | 0.0488281         | 0.76793                                  |"
      ]
     },
     "metadata": {},
     "output_type": "display_data"
    },
    {
     "data": {
      "text/html": [
       "<pre>+---------+-------------------+------------------------------------------+</pre>"
      ],
      "text/plain": [
       "+---------+-------------------+------------------------------------------+"
      ]
     },
     "metadata": {},
     "output_type": "display_data"
    },
    {
     "data": {
      "text/html": [
       "<pre>| Final   | 0.195312          | 0.345173                                 |</pre>"
      ],
      "text/plain": [
       "| Final   | 0.195312          | 0.345173                                 |"
      ]
     },
     "metadata": {},
     "output_type": "display_data"
    },
    {
     "data": {
      "text/html": [
       "<pre>+---------+-------------------+------------------------------------------+</pre>"
      ],
      "text/plain": [
       "+---------+-------------------+------------------------------------------+"
      ]
     },
     "metadata": {},
     "output_type": "display_data"
    },
    {
     "data": {
      "text/html": [
       "<pre>Starting Optimization.</pre>"
      ],
      "text/plain": [
       "Starting Optimization."
      ]
     },
     "metadata": {},
     "output_type": "display_data"
    },
    {
     "data": {
      "text/html": [
       "<pre>+---------+--------------+-------------------+-----------------------+-------------+</pre>"
      ],
      "text/plain": [
       "+---------+--------------+-------------------+-----------------------+-------------+"
      ]
     },
     "metadata": {},
     "output_type": "display_data"
    },
    {
     "data": {
      "text/html": [
       "<pre>| Iter.   | Elapsed Time | Approx. Objective | Approx. Training RMSE | Step Size   |</pre>"
      ],
      "text/plain": [
       "| Iter.   | Elapsed Time | Approx. Objective | Approx. Training RMSE | Step Size   |"
      ]
     },
     "metadata": {},
     "output_type": "display_data"
    },
    {
     "data": {
      "text/html": [
       "<pre>+---------+--------------+-------------------+-----------------------+-------------+</pre>"
      ],
      "text/plain": [
       "+---------+--------------+-------------------+-----------------------+-------------+"
      ]
     },
     "metadata": {},
     "output_type": "display_data"
    },
    {
     "data": {
      "text/html": [
       "<pre>| Initial | 123us        | 1.39239           | 1.18                  |             |</pre>"
      ],
      "text/plain": [
       "| Initial | 123us        | 1.39239           | 1.18                  |             |"
      ]
     },
     "metadata": {},
     "output_type": "display_data"
    },
    {
     "data": {
      "text/html": [
       "<pre>+---------+--------------+-------------------+-----------------------+-------------+</pre>"
      ],
      "text/plain": [
       "+---------+--------------+-------------------+-----------------------+-------------+"
      ]
     },
     "metadata": {},
     "output_type": "display_data"
    },
    {
     "data": {
      "text/html": [
       "<pre>| 1       | 85.219ms     | 1.72329           | 1.3127                | 0.195312    |</pre>"
      ],
      "text/plain": [
       "| 1       | 85.219ms     | 1.72329           | 1.3127                | 0.195312    |"
      ]
     },
     "metadata": {},
     "output_type": "display_data"
    },
    {
     "data": {
      "text/html": [
       "<pre>| 2       | 151.739ms    | 0.843815          | 0.918548              | 0.116134    |</pre>"
      ],
      "text/plain": [
       "| 2       | 151.739ms    | 0.843815          | 0.918548              | 0.116134    |"
      ]
     },
     "metadata": {},
     "output_type": "display_data"
    },
    {
     "data": {
      "text/html": [
       "<pre>| 3       | 214.46ms     | 0.515294          | 0.717793              | 0.0856819   |</pre>"
      ],
      "text/plain": [
       "| 3       | 214.46ms     | 0.515294          | 0.717793              | 0.0856819   |"
      ]
     },
     "metadata": {},
     "output_type": "display_data"
    },
    {
     "data": {
      "text/html": [
       "<pre>| 4       | 301.412ms    | 0.403103          | 0.634856              | 0.0580668   |</pre>"
      ],
      "text/plain": [
       "| 4       | 301.412ms    | 0.403103          | 0.634856              | 0.0580668   |"
      ]
     },
     "metadata": {},
     "output_type": "display_data"
    },
    {
     "data": {
      "text/html": [
       "<pre>| 5       | 389.791ms    | 0.356588          | 0.597098              | 0.0491185   |</pre>"
      ],
      "text/plain": [
       "| 5       | 389.791ms    | 0.356588          | 0.597098              | 0.0491185   |"
      ]
     },
     "metadata": {},
     "output_type": "display_data"
    },
    {
     "data": {
      "text/html": [
       "<pre>| 6       | 485.034ms    | 0.337232          | 0.580663              | 0.042841    |</pre>"
      ],
      "text/plain": [
       "| 6       | 485.034ms    | 0.337232          | 0.580663              | 0.042841    |"
      ]
     },
     "metadata": {},
     "output_type": "display_data"
    },
    {
     "data": {
      "text/html": [
       "<pre>| 11      | 756.973ms    | 0.289437          | 0.537931              | 0.0271912   |</pre>"
      ],
      "text/plain": [
       "| 11      | 756.973ms    | 0.289437          | 0.537931              | 0.0271912   |"
      ]
     },
     "metadata": {},
     "output_type": "display_data"
    },
    {
     "data": {
      "text/html": [
       "<pre>| 25      | 1.56s        | 0.255308          | 0.505209              | 0.00519365  |</pre>"
      ],
      "text/plain": [
       "| 25      | 1.56s        | 0.255308          | 0.505209              | 0.00519365  |"
      ]
     },
     "metadata": {},
     "output_type": "display_data"
    },
    {
     "data": {
      "text/html": [
       "<pre>| 50      | 3.20s        | 0.247044          | 0.496962              | 0.000272958 |</pre>"
      ],
      "text/plain": [
       "| 50      | 3.20s        | 0.247044          | 0.496962              | 0.000272958 |"
      ]
     },
     "metadata": {},
     "output_type": "display_data"
    },
    {
     "data": {
      "text/html": [
       "<pre>+---------+--------------+-------------------+-----------------------+-------------+</pre>"
      ],
      "text/plain": [
       "+---------+--------------+-------------------+-----------------------+-------------+"
      ]
     },
     "metadata": {},
     "output_type": "display_data"
    },
    {
     "data": {
      "text/html": [
       "<pre>Optimization Complete: Maximum number of passes through the data reached.</pre>"
      ],
      "text/plain": [
       "Optimization Complete: Maximum number of passes through the data reached."
      ]
     },
     "metadata": {},
     "output_type": "display_data"
    },
    {
     "data": {
      "text/html": [
       "<pre>Computing final objective value and training RMSE.</pre>"
      ],
      "text/plain": [
       "Computing final objective value and training RMSE."
      ]
     },
     "metadata": {},
     "output_type": "display_data"
    },
    {
     "data": {
      "text/html": [
       "<pre>       Final objective value: 0.24668</pre>"
      ],
      "text/plain": [
       "       Final objective value: 0.24668"
      ]
     },
     "metadata": {},
     "output_type": "display_data"
    },
    {
     "data": {
      "text/html": [
       "<pre>       Final training RMSE: 0.496595</pre>"
      ],
      "text/plain": [
       "       Final training RMSE: 0.496595"
      ]
     },
     "metadata": {},
     "output_type": "display_data"
    }
   ],
   "source": [
    "m = gl.recommender.create(sf, target=\"rating\", ranking = False)"
   ]
  },
  {
   "cell_type": "code",
   "execution_count": 14,
   "metadata": {},
   "outputs": [
    {
     "data": {
      "text/html": [
       "<pre>Recsys training: model = item_similarity</pre>"
      ],
      "text/plain": [
       "Recsys training: model = item_similarity"
      ]
     },
     "metadata": {},
     "output_type": "display_data"
    },
    {
     "data": {
      "text/html": [
       "<pre>Preparing data set.</pre>"
      ],
      "text/plain": [
       "Preparing data set."
      ]
     },
     "metadata": {},
     "output_type": "display_data"
    },
    {
     "data": {
      "text/html": [
       "<pre>    Data has 45454 observations with 30762 users and 3457 items.</pre>"
      ],
      "text/plain": [
       "    Data has 45454 observations with 30762 users and 3457 items."
      ]
     },
     "metadata": {},
     "output_type": "display_data"
    },
    {
     "data": {
      "text/html": [
       "<pre>    Data prepared in: 0.128495s</pre>"
      ],
      "text/plain": [
       "    Data prepared in: 0.128495s"
      ]
     },
     "metadata": {},
     "output_type": "display_data"
    },
    {
     "data": {
      "text/html": [
       "<pre>Training model from provided data.</pre>"
      ],
      "text/plain": [
       "Training model from provided data."
      ]
     },
     "metadata": {},
     "output_type": "display_data"
    },
    {
     "data": {
      "text/html": [
       "<pre>Gathering per-item and per-user statistics.</pre>"
      ],
      "text/plain": [
       "Gathering per-item and per-user statistics."
      ]
     },
     "metadata": {},
     "output_type": "display_data"
    },
    {
     "data": {
      "text/html": [
       "<pre>+--------------------------------+------------+</pre>"
      ],
      "text/plain": [
       "+--------------------------------+------------+"
      ]
     },
     "metadata": {},
     "output_type": "display_data"
    },
    {
     "data": {
      "text/html": [
       "<pre>| Elapsed Time (Item Statistics) | % Complete |</pre>"
      ],
      "text/plain": [
       "| Elapsed Time (Item Statistics) | % Complete |"
      ]
     },
     "metadata": {},
     "output_type": "display_data"
    },
    {
     "data": {
      "text/html": [
       "<pre>+--------------------------------+------------+</pre>"
      ],
      "text/plain": [
       "+--------------------------------+------------+"
      ]
     },
     "metadata": {},
     "output_type": "display_data"
    },
    {
     "data": {
      "text/html": [
       "<pre>| 4.815ms                        | 3.25       |</pre>"
      ],
      "text/plain": [
       "| 4.815ms                        | 3.25       |"
      ]
     },
     "metadata": {},
     "output_type": "display_data"
    },
    {
     "data": {
      "text/html": [
       "<pre>| 15.939ms                       | 100        |</pre>"
      ],
      "text/plain": [
       "| 15.939ms                       | 100        |"
      ]
     },
     "metadata": {},
     "output_type": "display_data"
    },
    {
     "data": {
      "text/html": [
       "<pre>+--------------------------------+------------+</pre>"
      ],
      "text/plain": [
       "+--------------------------------+------------+"
      ]
     },
     "metadata": {},
     "output_type": "display_data"
    },
    {
     "data": {
      "text/html": [
       "<pre>Setting up lookup tables.</pre>"
      ],
      "text/plain": [
       "Setting up lookup tables."
      ]
     },
     "metadata": {},
     "output_type": "display_data"
    },
    {
     "data": {
      "text/html": [
       "<pre>Processing data in one pass using dense lookup tables.</pre>"
      ],
      "text/plain": [
       "Processing data in one pass using dense lookup tables."
      ]
     },
     "metadata": {},
     "output_type": "display_data"
    },
    {
     "data": {
      "text/html": [
       "<pre>+-------------------------------------+------------------+-----------------+</pre>"
      ],
      "text/plain": [
       "+-------------------------------------+------------------+-----------------+"
      ]
     },
     "metadata": {},
     "output_type": "display_data"
    },
    {
     "data": {
      "text/html": [
       "<pre>| Elapsed Time (Constructing Lookups) | Total % Complete | Items Processed |</pre>"
      ],
      "text/plain": [
       "| Elapsed Time (Constructing Lookups) | Total % Complete | Items Processed |"
      ]
     },
     "metadata": {},
     "output_type": "display_data"
    },
    {
     "data": {
      "text/html": [
       "<pre>+-------------------------------------+------------------+-----------------+</pre>"
      ],
      "text/plain": [
       "+-------------------------------------+------------------+-----------------+"
      ]
     },
     "metadata": {},
     "output_type": "display_data"
    },
    {
     "data": {
      "text/html": [
       "<pre>| 59.319ms                            | 0                | 0               |</pre>"
      ],
      "text/plain": [
       "| 59.319ms                            | 0                | 0               |"
      ]
     },
     "metadata": {},
     "output_type": "display_data"
    },
    {
     "data": {
      "text/html": [
       "<pre>| 137.699ms                           | 100              | 3457            |</pre>"
      ],
      "text/plain": [
       "| 137.699ms                           | 100              | 3457            |"
      ]
     },
     "metadata": {},
     "output_type": "display_data"
    },
    {
     "data": {
      "text/html": [
       "<pre>+-------------------------------------+------------------+-----------------+</pre>"
      ],
      "text/plain": [
       "+-------------------------------------+------------------+-----------------+"
      ]
     },
     "metadata": {},
     "output_type": "display_data"
    },
    {
     "data": {
      "text/html": [
       "<pre>Finalizing lookup tables.</pre>"
      ],
      "text/plain": [
       "Finalizing lookup tables."
      ]
     },
     "metadata": {},
     "output_type": "display_data"
    },
    {
     "data": {
      "text/html": [
       "<pre>Generating candidate set for working with new users.</pre>"
      ],
      "text/plain": [
       "Generating candidate set for working with new users."
      ]
     },
     "metadata": {},
     "output_type": "display_data"
    },
    {
     "data": {
      "text/html": [
       "<pre>Finished training in 0.160671s</pre>"
      ],
      "text/plain": [
       "Finished training in 0.160671s"
      ]
     },
     "metadata": {},
     "output_type": "display_data"
    }
   ],
   "source": [
    "m_item = gl.recommender.item_similarity_recommender.create(sf, only_top_k=2, target = \"rating\")"
   ]
  },
  {
   "cell_type": "code",
   "execution_count": null,
   "metadata": {
    "collapsed": true
   },
   "outputs": [],
   "source": []
  }
 ],
 "metadata": {
  "kernelspec": {
   "display_name": "Python [conda env:gl-env]",
   "language": "python",
   "name": "conda-env-gl-env-py"
  },
  "language_info": {
   "codemirror_mode": {
    "name": "ipython",
    "version": 2
   },
   "file_extension": ".py",
   "mimetype": "text/x-python",
   "name": "python",
   "nbconvert_exporter": "python",
   "pygments_lexer": "ipython2",
   "version": "2.7.11"
  }
 },
 "nbformat": 4,
 "nbformat_minor": 2
}
