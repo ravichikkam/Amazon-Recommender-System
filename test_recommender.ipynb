{
 "cells": [
  {
   "cell_type": "markdown",
   "metadata": {},
   "source": [
    "This file contains the code to create test recommender system on amazon books data. We will be using python crab pacakge to build a item based and user based recommender system using collaberative filtering."
   ]
  },
  {
   "cell_type": "code",
<<<<<<< HEAD
<<<<<<< HEAD
   "execution_count": 17,
   "metadata": {},
   "outputs": [
    {
     "name": "stdout",
     "output_type": "stream",
     "text": [
      "[\"b'product/productId: 1882931173\\\\n'\", \"b'product/title: Its Only Art If Its Well Hung!\\\\n'\", \"b'product/price: unknown\\\\n'\", \"b'review/userId: AVCGYZL8FQQTD\\\\n'\", 'b\\'review/profileName: Jim of Oz \"jim-of-oz\"\\\\n\\'', \"b'review/helpfulness: 7/7\\\\n'\", \"b'review/score: 4.0\\\\n'\", \"b'review/time: 940636800\\\\n'\", \"b'review/summary: Nice collection of Julie Strain images\\\\n'\", 'b\"review/text: This is only for Julie Strain fans. It\\'s a collection of her photos -- about 80 pages worth with a nice section of paintings by Olivia.If you\\'re looking for heavy literary content, this isn\\'t the place to find it -- there\\'s only about 2 pages with text and everything else is photos.Bottom line: if you only want one book, the Six Foot One ... is probably a better choice, however, if you like Julie like I like Julie, you won\\'t go wrong on this one either.\\\\n\"', \"b'\\\\n'\", \"b'product/productId: 0826414346\\\\n'\", \"b'product/title: Dr. Seuss: American Icon\\\\n'\", \"b'product/price: unknown\\\\n'\", \"b'review/userId: A30TK6U7DNS82R\\\\n'\", \"b'review/profileName: Kevin Killian\\\\n'\", \"b'review/helpfulness: 10/10\\\\n'\", \"b'review/score: 5.0\\\\n'\", \"b'review/time: 1095724800\\\\n'\", \"b'review/summary: Really Enjoyed It\\\\n'\", 'b\"review/text: I don\\'t care much for Dr. Seuss but after reading Philip Nel\\'s book I changed my mind--that\\'s a good testimonial to the power of Rel\\'s writing and thinking. Rel plays Dr. Seuss the ultimate compliment of treating him as a serious poet as well as one of the 20th century\\'s most interesting visual artists, and after reading his book I decided that a trip to the Mandeville Collections of the library at University of California in San Diego was in order, so I could visit some of the incredible Seuss/Geisel holdings they have there.There\\'s almost too much to take in, for, like William Butler Yeats, Seuss led a career that constantly shifted and metamoprhized itself to meet new historical and political cirsumstances, so he seems to have been both a leftist and a conservative at different junctures of his career, both in politics and in art. As Nel shows us, he was once a cartoonist for the fabled PM magazine and, like Andy Warhol, he served his time slaving in the ad business too. All was in the service of amusing and broadening the minds of US children. Nel doesn\\'t hesitate to administer a sound spanking to the Seuss industry that, since his death, has seen fit to license all kinds of awful products including the recent CAT IN THE HAT film with Mike Myers. Oh, what a cat-astrophe!The book is great and I can especially recommend the work of the picture editor who has given us a bounty of good illustrations.\\\\n\"', \"b'\\\\n'\", \"b'product/productId: 0826414346\\\\n'\", \"b'product/title: Dr. Seuss: American Icon\\\\n'\", \"b'product/price: unknown\\\\n'\", \"b'review/userId: A3UH4UZ4RSVO82\\\\n'\", \"b'review/profileName: John Granger\\\\n'\", \"b'review/helpfulness: 10/11\\\\n'\", \"b'review/score: 5.0\\\\n'\", \"b'review/time: 1078790400\\\\n'\", \"b'review/summary: Essential for every personal and Public Library\\\\n'\", 'b\\'review/text: If people become the books they read and if \"the child is father to the man,\" then Dr. Seuss (Theodor Seuss Geisel) is the most influential author, poet, and artist of modern times. For me, a daddy to a large family who learned to read with Dr. Seuss and who has memorized too many of the books via repeated readings to young children, Prof. Nel\\\\\\'s brilliant \\\\\\'American Icon\\\\\\' is a long awaited treat. At last a serious treatment of this remarkable genius that is both an engaging read and filled with remarkable insights! I especially enjoyed (and learned more than I care to admit from) Prof. Nel\\\\\\'s discussions of the Disneyfication of Seuss - which Nel links to failings in American copyright law, \"the other sides of Dr. Seuss\" - all of which sides were new to me, and the political genesis of his secular morality in the WWII cartoon work he did at PM magazine. The chapters on Geisel\\\\\\'s poetry and artwork and the link Nel makes between Seuss and the historical avant guarde alone make this book a \"must buy\" for parents and serious readers, not to mention public libraries. Readers of Nel\\\\\\'s other books will find the same engaging writing style that makes the book a fun read while imparting a mountain of information and important ideas. This is simply the best and most comprehensive book yet written on the work of Seuss Geisel and what will certainly be the standard for many years to come. Thank you, Prof. Nel, wherever you are, from a reader who grew up with the good doctor and who is growing up with him again years later. Your book, written from your encyclopeadic knowledge of children\\\\\\'s literature and the media of this genre - from scanning verse to cubist painting! - explains the power, limits, and popularity of the Seuss phenomenon.\\\\n\\'', \"b'\\\\n'\", \"b'product/productId: 0826414346\\\\n'\", \"b'product/title: Dr. Seuss: American Icon\\\\n'\", \"b'product/price: unknown\\\\n'\", \"b'review/userId: A2MVUWT453QH61\\\\n'\", 'b\\'review/profileName: Roy E. Perry \"amateur philosopher\"\\\\n\\'', \"b'review/helpfulness: 7/7\\\\n'\", \"b'review/score: 4.0\\\\n'\", \"b'review/time: 1090713600\\\\n'\", \"b'review/summary: Phlip Nel gives silly Seuss a serious treatment\\\\n'\", 'b\"review/text: Theodore Seuss Geisel (1904-1991), aka &quot;Dr. Seuss,&quot; was one of the most influential writers and artists of the 20th century.In 1959, Rudolf Flesch wrote, &quot;A hundred years from now, children and their parents will still eagerly read the books of a fellow called Ted Geisel, popularly known as Dr. Seuss.&quot;Flesch was too conservative in his prediction. A century, and more, from today, Dr. Seuss will still be read when many authors on today\\'s bestseller lists will be forgotten.Published on the centenary of Geisel\\'s birth, Dr. Seuss: American Icon analyzes six key aspects of Seuss\\'s career: poetry, politics, art, biography, marketing, and influence.In six insightful chapters, Philip Nel, Assistant Professor of English at Kansas State University, discusses &quot;U.S. Laureate of Nonsense,&quot; &quot;Dr. Seuss vs. Adolf Hitler,&quot; &quot;The Doc in the Smock,&quot; &quot;The 5,000 Fingers of Dr. S.,&quot; &quot;The Disneyfication of Dr. Seuss,&quot; and &quot;The Cat in the Hat for President.&quot;Nel gives short shrift to Geisel\\'s childhood and family background--and, indeed, to biography in general--preferring to focus on Seuss\\'s writing and art, from his first book, And to Think That I Saw It on Mulberry Street (1937) to his last book, Oh, the Places You\\'ll Go! (1990).Dr. Seuss\\'s breakthrough year was 1957, when he published the two books with which he is most often identified: The Cat in the Hat and How the Grinch Stole Christmas!Other classic works in the Seussian canon are: Horton Hears a Who! (&quot;A person\\'s a person, no matter how small&quot;), Yertle the Turtle (modeled on the rise of Adolf Hitler), Green Eggs and Ham (Seuss\\'s bestselling book), The Sneeches (a criticism of anti-Semitism), The Lorax (a protest against corporate abuse of the environment), and The Butter Battle Book (a critique of Reagan\\'s enthusiasm for the nuclear arms trace).His favorite work, among the books he authored, was The Cat in the Hat, for it, more than any other, taught children to read.While many of his books have a clear and powerful moral, Seuss had a horror of heavy-handed preaching. He sought to teach and ignite the imagination, but was a lifelong opponent of smug, self-righteous bourgeois moralism.&quot;Seuss was a contrarian,&quot; writes Nel, &quot;who enjoyed challenging people to reconsider their assumptions. [He had a] rebellious imagination and a dispositional distaste for rules and regulations.&quot; His work was a &quot;rational insanity&quot; that exhibited &quot;joyous anarchy&quot; and a &quot;lifelong thrill in misbehaving.&quot;A better subtitle for Nel\\'s work would have been American Icon and Iconoclast.Nel tells of Seuss\\'s early years as an advertising artist and as a agitprop cartoonist. The book, however, is not a biography; it is a serious study in the genres of literary and art criticism.For readers who want more biographical information, Nel recommends Dr. Seuss and Mr. Geisel, by Judith Morgan and Neil Morgan (1995), which he describes as &quot;the definitive biography and the single best secondary source on Seuss. Any discussion of Seuss\\'s life and work must begin with this book.&quot;Dr. Seuss: American Icon includes 103 pages of notes, index, and the most comprehensive annotated Seuss bibliography ever assembled. One learns a lot from this book; the author\\'s lucid style makes it not only an enlightening work but a fun read.Philip Nel is the author of J. K. Rowling\\'s Harry Potter Novels: A Reader\\'s Guide (2001) and The Avant-Garde and American Postmodernity (2002).Roy E. Perry of Nolensville, Tennessee, is an advertising copywriter at a Nashville publishing house.\\\\n\"', \"b'\\\\n'\", \"b'product/productId: 0826414346\\\\n'\", \"b'product/title: Dr. Seuss: American Icon\\\\n'\", \"b'product/price: unknown\\\\n'\", \"b'review/userId: A22X4XUPKF66MR\\\\n'\", 'b\\'review/profileName: D. H. Richards \"ninthwavestore\"\\\\n\\'', \"b'review/helpfulness: 3/3\\\\n'\", \"b'review/score: 4.0\\\\n'\", \"b'review/time: 1107993600\\\\n'\", \"b'review/summary: Good academic overview\\\\n'\", 'b\\'review/text: Philip Nel - Dr. Seuss: American IconThis is basically an academic overview of Seuss poetry, art, cartoons, and the problems with the commercialization of the Seuss name and works after his death. It is not, to any real extent, a biography. Those seeking such should move on.As an academic book it leans on the dry side. It assumes the reader has a fairly good knowledge of Children\\\\\\'s Literature and 20th Century cartoons (not the animated kind). Not a book to begin your Dr. Seuss experience with. But if you have read them to your children and are interested about the writing style (there is a good chapter about his poetry) or his art style (not as good a chapter, but still interesting).What interested me the most was the deconstruction of the recent rush to \"cash in\" on Seuss by Hollywood and advertisers. I think that Nel wants to come down against it, but based on Seuss\\\\\\' background (he started out drawing Flit ads) and the projects he approved during his lifetime; it is a tough argument to make. In the end though Nel does point out that maybe the movies and tie- ins did not have to be so... crass?The book is well researched; lots of neat tidbits are to be gleamed. Early cartoons by Seuss for PM magazine were occasionally (by today\\\\\\'s standards) shockingly racist. It makes him a little more human and puts his latter works like the Lorax in a new light.Those in Education may enjoy this background. Fans of Seuss will enjoy the exhaustive bibliography of Seuss\\\\\\'s many, many works. Also good list of other works about the man.\\\\n\\'', \"b'\\\\n'\", \"b'product/productId: 0826414346\\\\n'\", \"b'product/title: Dr. Seuss: American Icon\\\\n'\", \"b'product/price: unknown\\\\n'\", \"b'review/userId: A2F6NONFUDB6UK\\\\n'\", \"b'review/profileName: Malvin\\\\n'\", \"b'review/helpfulness: 2/2\\\\n'\", \"b'review/score: 4.0\\\\n'\", \"b'review/time: 1127174400\\\\n'\", 'b\"review/summary: One of America\\'s greatest creative talents\\\\n\"', 'b\\'review/text: \"Dr. Seuss: American Icon\" by Philip Nel is a thoughtful deconstruction of the life and work of Theodore Geisel (aka Dr. Seuss). In this thoughtful book, Mr. Nel deepens our appreciation for Seuss as a distinctively American poet, artist and educator. The author demonstrates Seuss\\\\\\' wide ranging influence and argues for his rightful place among the most important cultural figures of the 20th century.An English professor at Kansas State University, Mr. Nel uses his historic knowledge to discuss how Seuss\\\\\\' text belongs to a tradition of great nonsense writers. Mr. Nel states that Seuss\\\\\\' carefully-constructed absurdist tales encourage children to challenge the status quo by gently skewering the grown-up world; elsewhere, he uses charts to show how Seuss effectively used meter and rhyme to complement his intentionally ridiculous plots and create masterful stories that have stood up well to the test of time.Mr. Nel recounts Seuss\\\\\\' early career as advertising illustrator and political cartoonist to help us better understand the influences that shaped his classic children\\\\\\'s work. As an artist, Mr. Nel suggests that the term \"energetic cartoon surrealism\" appropriately describes Seuss\\\\\\' creative synthesis of cubism, art nouveau, surrealism and other styles. While Seuss\\\\\\' influence can be detected in modern rap music, children\\\\\\'s books, political cartoons and more, Mr. Nel contends that Seuss would not have been happy about the manner in which his works have been posthumously marketed, opining that the \"Disneyification\" or simplification of Seuss\\\\\\' stories for marketable purposes \"threatens to make \\\\\\'Seuss\\\\\\' synomynous with the ambiguous power of global capitalism\". Such commercialism would appear to collide with Seuss\\\\\\' desire to develop critical thinking among young people and to help us all imagine a better world.I highly recommend this book for everyone interested in gaining greater insight and perspective into one of America\\\\\\'s greatest creative talents.\\\\n\\'', \"b'\\\\n'\", \"b'product/productId: 0826414346\\\\n'\", \"b'product/title: Dr. Seuss: American Icon\\\\n'\", \"b'product/price: unknown\\\\n'\", \"b'review/userId: A14OJS0VWMOSWO\\\\n'\", \"b'review/profileName: Midwest Book Review\\\\n'\", \"b'review/helpfulness: 3/4\\\\n'\", \"b'review/score: 5.0\\\\n'\", \"b'review/time: 1100131200\\\\n'\", 'b\"review/summary: A memorably excellent survey of Dr. Seuss\\' many achievements\\\\n\"', 'b\"review/text: Theodor Seuss Giesel was best known as \\'Dr. Seuss\\', one of the most influential and enduringly popular children\\'s authors of the 20th century. Giesel created not only his famous imaginative picturebooks, but a unique art and poetry, and even a place for himself in politics. Philip Nel argues that these added activities make Dr. Seuss one of the most influential people in America - certainly the most influential poet - and Dr. Seuss: American Icon provides the reader an memorably excellent survey of Dr. Seuss\\' many achievements.\\\\n\"', \"b'\\\\n'\", \"b'product/productId: 0826414346\\\\n'\", \"b'product/title: Dr. Seuss: American Icon\\\\n'\", \"b'product/price: unknown\\\\n'\", \"b'review/userId: A2RSSXTDZDUSH4\\\\n'\", \"b'review/profileName: J. Squire\\\\n'\", \"b'review/helpfulness: 0/0\\\\n'\", \"b'review/score: 5.0\\\\n'\", \"b'review/time: 1231200000\\\\n'\", 'b\"review/summary: Academia At It\\'s Best\\\\n\"', 'b\\'review/text: When I recieved this book as a gift for Christmas my first impression went along these line: \"Oh great some professor who probably wrote alot of mumbo-jumbo that I don\\\\\\'t want to know about Dr. Suess and I know it won\\\\\\'t be an enjoyable read.\"Thanks goodness I read it nonetheless.To my pleasure, Nel hardly writes in the airy academia style with which I expected him to. In fact, he\\\\\\'s writes so far from it, with a smart and precise style, I am tempted to revise how I feel about professor-writers. However, in accordance with his academia roots, Nel has a 100 page annotated bibliogarphy that goes along with his work, a nice shrine to prove his homework was well done.As far the actual book goes it is an excellent piece work. \"Dr. Seuss: American Icon\" looks at the man behind Dr. Suess not as a straight-forward biography, but rather it focuses on different areas of Dr. Suess (i.e. poet, poetry of, artist, artistic style, adult, activist, etc.) and interjects those discussions with biogrphical anecdotes. A very effective attention keeping method.If you\\\\\\'re interested in learning more about the work and the man behind the work of Dr. Suess, this is the book that speaks to both and even more. Highly recommended!\\\\n\\'', \"b'\\\\n'\", \"b'product/productId: 0826414346\\\\n'\", \"b'product/title: Dr. Seuss: American Icon\\\\n'\", \"b'product/price: unknown\\\\n'\", \"b'review/userId: A25MD5I2GUIW6W\\\\n'\", 'b\\'review/profileName: J. P. HIGBED \"big fellow\"\\\\n\\'', \"b'review/helpfulness: 0/0\\\\n'\", \"b'review/score: 5.0\\\\n'\", \"b'review/time: 1209859200\\\\n'\", \"b'review/summary: And to think that I read it on the tram!\\\\n'\", 'b\\'review/text: Trams (or any public transport) are not usually the best place to read and absorb scholarly texts. But this one has accompanied me on my daily commute, and I have been absorbed in it. It is well written and comprehensive, and tells the tale of a modern author, with plenty of \"Fancy that\" and \"Well, well\" moments. Highly recommended for stationary reading, too.\\\\n\\'', \"b'\\\\n'\", \"b'product/productId: 0826414346\\\\n'\", \"b'product/title: Dr. Seuss: American Icon\\\\n'\", \"b'product/price: unknown\\\\n'\", \"b'review/userId: A3VA4XFS5WNJO3\\\\n'\", \"b'review/profileName: Donald Burnside\\\\n'\", \"b'review/helpfulness: 3/5\\\\n'\", \"b'review/score: 4.0\\\\n'\", \"b'review/time: 1076371200\\\\n'\", \"b'review/summary: Fascinating account of a genius at work\\\\n'\", 'b\"review/text: As far as I am aware, this is the first book-length study of the work of Dr. Seuss, and Philip Nel has done an excellent job. If the word \\'study\\' makes you nervous, rest assured: this is not a jargon-filled, pretentious analysis. It is, instead, a nicely written work that views Seuss from several different angles: as a poet, a visual artist, a cartoonist, and so on. Nel writes intelligently on how Seuss fits into the canon of nonsense poets, and provides good background on the roots of Seuss\\'s visual style. Some of the WW2/political cartoon material I had read about before, but Nel covers it thoroughly. The most fascinating chapter to me deals with the marketing of Seuss, particularly since his death. Nel holds forth strongly on the abominable \\'Grinch\\' movie (and I trust he feels the same way about the \\'Cat in the Hat\\' film too), and gets into a very interesting discussion of the possible motivations behind the ever-expanding empire of Dr. Seuss Enterprises. (And no, I don\\'t believe it is purely about the profits!)Two small quibbles prevent me from awarding five stars. Firstly, I would have liked the book to be a little longer. The in-depth bibliography is interesting in itself and will be a goldmine to future researchers, but I\\'m sure Nel could have found a few more things to say - perhaps about Seuss\\'s gender politics. Secondly, the dust jacket on my copy was a little loose.\\\\n\"', \"b'\\\\n'\", \"b'product/productId: 0829814000\\\\n'\", \"b'product/title: Wonderful Worship in Smaller Churches\\\\n'\", \"b'product/price: 19.40\\\\n'\", \"b'review/userId: AZ0IOBU20TBOP\\\\n'\", \"b'review/profileName: Rev. Pamela Tinnin\\\\n'\", \"b'review/helpfulness: 8/10\\\\n'\", \"b'review/score: 5.0\\\\n'\", \"b'review/time: 991440000\\\\n'\", \"b'review/summary: Outstanding Resource for Small Church Pastors\\\\n'\", 'b\"review/text: I just finished the book, &quot;Wonderful Worship in Smaller Churches,&quot; by David Ray, an outstanding resource for small church pastors, as is his other book, &quot;The Big Small Church Book.&quot; I will be rereading both regularly and referring to them often. I may have to reorder the &quot;Big Small Church Book&quot; as my copy is nearly worn out. If I had only two choices for resources for pastors of small churches, it would be these two.I hope the author considers focusing on Christian Education in another book. There is a section in the &quot;Big Small Church Book&quot; on Christian Education, but concentrating on one of the most important church functions individually makes a huge difference, as is proven by this new book. I tell all my colleagues that Rev. Ray\\'s books are worth every dollar and more.\\\\n\"', \"b'\\\\n'\", \"b'product/productId: 0829814000\\\\n'\", \"b'product/title: Wonderful Worship in Smaller Churches\\\\n'\", \"b'product/price: 19.40\\\\n'\", \"b'review/userId: A373VVEU6Z9M0N\\\\n'\", \"b'review/profileName: Dr. Terry W. Dorsett\\\\n'\", \"b'review/helpfulness: 1/1\\\\n'\", \"b'review/score: 5.0\\\\n'\", \"b'review/time: 1291766400\\\\n'\", \"b'review/summary: Small Churches CAN Have Wonderful Worship\\\\n'\", 'b\\'review/text: Many small churches feel like they can not have great worship because they lack the resources that larger churches take for granted.Ray\\\\\\'s list of \"thou shalts\" is worth the price of the book.The description of various \"personalities\" in the small church is both humorous, and so true.This book gives encouragement as well as practical advice.\\\\n\\'', \"b'\\\\n'\", \"b'product/productId: 0829814000\\\\n'\", \"b'product/title: Wonderful Worship in Smaller Churches\\\\n'\", \"b'product/price: 19.40\\\\n'\", \"b'review/userId: AGKGOH65VTRR4\\\\n'\", 'b\\'review/profileName: Cynthia L. Lajoy \"Cindy La Joy\"\\\\n\\'', \"b'review/helpfulness: 1/1\\\\n'\", \"b'review/score: 5.0\\\\n'\", \"b'review/time: 1248307200\\\\n'\", \"b'review/summary: Not Just for Pastors!\\\\n'\", 'b\"review/text: I just finished reading this amazing book and came away with an entirely different perspective on our smaller congregation. As a ministry leader it is easy to become depressed over what can not be accomplished, and how overworked everyone is in a small church...but we often fail to see all that IS being accomplished and how extraordinary our smaller congregations are.There are many pluses outlined in this book about what works about being smaller, and in this day of mega churches the reminder is a good one. There are some very good tips about altering worship for smaller congregations and valuing it\\'s unique size and working with it well.For the thousands of us who find ourselves in churches with membership of 100 or less, for those who are discouraged when worship attendence is 30 or 40 during the summer, this book is such an uplifting perspective you can\\'t help but be energized!Unlike many tomes of this nature, this is an easy read and the layperson can gobble it up and immediately put it to use. David Ray\\'s writing style is accessible and doesn\\'t make assumptions about the knowledge of the reader, offering explanations where needed that were very helpful.Pick it up even if you are not a pastor, you will gain something from it, I guarantee it!\\\\n\"', \"b'\\\\n'\", \"b'product/productId: 0829814000\\\\n'\", \"b'product/title: Wonderful Worship in Smaller Churches\\\\n'\", \"b'product/price: 19.40\\\\n'\", \"b'review/userId: A3OQWLU31BU1Y\\\\n'\", \"b'review/profileName: Maxwell Grant\\\\n'\", \"b'review/helpfulness: 1/1\\\\n'\", \"b'review/score: 5.0\\\\n'\", \"b'review/time: 1222560000\\\\n'\", \"b'review/summary: Small church pastor? This is the book on worship\\\\n'\", 'b\\'review/text: I hadn\\\\\\'t been a small church pastor very long before I began to hear about David R. Ray. If you do any reading in this area, you\\\\\\'ll start to see other authors refer to him and a handful of others, especially Anthony Pappas and Carl Dudley (who are also excellent). But Ray is different. Reading his work, I felt as if he had actually visited MY home church. He describes some of the personalities in a church family, and I could supply their names. He lists some of the \"Thou Shalts\" of a strong worship service, and I heard echoes of my most recent deacons\\\\\\' meeting. He not only gets small church culture, he celebrates it, and he is eager to help small churches learn to get and to celebrate themselves. If you are part of a church where low-morale often coexists with feisty pride, this is a resource that will help. It offers some ways of identifying what church families with 50 or fewer need and hope for from their churches, and how to offer it in ways that are inclusive, warm, fun and authentic. Hallelujah!\\\\n\\'', \"b'\\\\n'\", \"b'product/productId: 0595344550\\\\n'\", \"b'product/title: Whispers of the Wicked Saints\\\\n'\", \"b'product/price: 10.95\\\\n'\", \"b'review/userId: A3Q12RK71N74LB\\\\n'\", \"b'review/profileName: Book Reader\\\\n'\", \"b'review/helpfulness: 7/11\\\\n'\", \"b'review/score: 1.0\\\\n'\", \"b'review/time: 1117065600\\\\n'\", \"b'review/summary: not good\\\\n'\", 'b\"review/text: I bought this book because I read some glowing praise on an online library site. Unfortunately, I was deeply disappointed by page three. I always buy books in the hope and expectation of having an enjoyable read, not to criticise. However, this book is in urgent need of good editing -- though quite possibly editing alone wouldn\\'t save it. Examples: a bed squeaks slightly and sharply in the same sentence; a nightgown hangs freely over her girlish figure and olive colored complexion; coffee aromas huddle; rumbling clouds huddle (as well as the coffee?); she prepared to sip her coffee beneath the wrath of God... cuddled within the arms of a strong breeze; (the wrath of God is a breeze?); the Columbian (stet) coffee aroma danced beneath her sculpted tan nose; the coffee bean fragrance tangoed within her body; she placed her thick pink lips against the warm cup;... and so on, all by page three. It is quite possible that the storyline is deeply moving. I\\'ll never know because I can\\'t bring myself to continue. Sorry.\\\\n\"', \"b'\\\\n'\", \"b'product/productId: 0595344550\\\\n'\", \"b'product/title: Whispers of the Wicked Saints\\\\n'\", \"b'product/price: 10.95\\\\n'\", \"b'review/userId: A1E9M6APK30ZAU\\\\n'\", \"b'review/profileName: V. Powell\\\\n'\", \"b'review/helpfulness: 1/2\\\\n'\", \"b'review/score: 4.0\\\\n'\", \"b'review/time: 1119571200\\\\n'\", \"b'review/summary: Here is my opinion\\\\n'\", 'b\\'review/text: I have to admit, I am not one to write reviews on book. I do however like to read them. Some of the reviews are great, some are cruel, but the reviews on this book were absolutlely hysterical. I read this book and after watching the war of the words I couldn\\\\\\'t help, but to jump in. I am on the good side of the book. I loved how it kept my intersted. On the bad side I have to say, there was a typo featured on the back cover and the secret to liking this book is making it through the first chapter. I have to admit I was a little curious when I read some of the reviews. They were so mean and false that it spiked my curiosity. I then like the last review noticed that the \"Traveling librarian\" wrote a completely ignorant review on this book. My first thought was wait a minute, that was not the book that I read. I read my copy once again and realized her entire review was fabricated. Then I knew, it was some kind of game. Maybe it is someone who dislikes the author for personal reasons, that has posted more then one awful review, or maybe this is another who is jealous, Who knows? All I know is that I liked the book, and future readers take the advice of the ignorant with a grain of salt.\\\\n\\'', \"b'\\\\n'\", \"b'product/productId: 0595344550\\\\n'\", \"b'product/title: Whispers of the Wicked Saints\\\\n'\", \"b'product/price: 10.95\\\\n'\", \"b'review/userId: AUR0VA5H0C66C\\\\n'\", 'b\\'review/profileName: LoveToRead \"Actually Read Books\"\\\\n\\'', \"b'review/helpfulness: 1/2\\\\n'\", \"b'review/score: 1.0\\\\n'\", \"b'review/time: 1119225600\\\\n'\", \"b'review/summary: Buyer beware\\\\n'\", 'b\\'review/text: This is a self-published book, and if you want to know why--read a few paragraphs! Those 5 star reviews must have been written by Ms. Haddon\\\\\\'s family and friends--or perhaps, by herself! I can\\\\\\'t imagine anyone reading the whole thing--I spent an evening with the book and a friend and we were in hysterics reading bits and pieces of it to one another. It is most definitely bad enough to be entered into some kind of a \"worst book\" contest. I can\\\\\\'t believe Amazon even sells this kind of thing. Maybe I can offer them my 8th grade term paper on \"To Kill a Mockingbird\"--a book I am quite sure Ms. Haddon never heard of. Anyway, unless you are in a mood to send a book to someone as a joke---stay far, far away from this one!\\\\n\\'', \"b'\\\\n'\", \"b'product/productId: 0595344550\\\\n'\", \"b'product/title: Whispers of the Wicked Saints\\\\n'\", \"b'product/price: 10.95\\\\n'\", \"b'review/userId: A1YLDZ3VHR6QPZ\\\\n'\", \"b'review/profileName: Clara\\\\n'\", \"b'review/helpfulness: 2/4\\\\n'\", \"b'review/score: 5.0\\\\n'\", \"b'review/time: 1115942400\\\\n'\", 'b\"review/summary: Fall on your knee\\'s\\\\n\"', \"b'review/text: When I first read this the I was mezmerized at the style of writting. I soon became so hooked on this book that I wanted to fall on my knees and shut out the rest of the world. Haddon delivers a portrayal of a woman that is hurt loney and abused and I think she does a wonderful job making the reader feel like the character.\\\\n'\", \"b'\\\\n'\", \"b'product/productId: 0595344550\\\\n'\", \"b'product/title: Whispers of the Wicked Saints\\\\n'\", \"b'product/price: 10.95\\\\n'\", \"b'review/userId: ACO23CG8K8T77\\\\n'\", \"b'review/profileName: Tonya\\\\n'\", \"b'review/helpfulness: 5/9\\\\n'\", \"b'review/score: 5.0\\\\n'\", \"b'review/time: 1117065600\\\\n'\", \"b'review/summary: Bravo Veronica\\\\n'\", \"b'review/text: I read the review directly under mine and I have to say I laughed. How can someone write a honest review on a book they read only three pages of? That was funny but also sad that people are mean enough to keep others from an enjoyable read. I loved this book. I thought the first chapter was a little long, but I read the WHOLE book and I loved it. This book is about an afair of the heart and the right to be happy. It is a glimps into the lives of those who are forbiden to love each other. This is a heart warming story. This is a first book and it had a few flaws, but this writer will only get better and better as she goes forward. It was lovely and I am blessed that I read it.\\\\n'\", \"b'\\\\n'\", \"b'product/productId: 0595344550\\\\n'\", \"b'product/title: Whispers of the Wicked Saints\\\\n'\", \"b'product/price: 10.95\\\\n'\", \"b'review/userId: A1VK81CRRC7MLM\\\\n'\", 'b\\'review/profileName: missyLou \"apple\"\\\\n\\'', \"b'review/helpfulness: 1/3\\\\n'\", \"b'review/score: 5.0\\\\n'\", \"b'review/time: 1130025600\\\\n'\", \"b'review/summary: Wonderful\\\\n'\", 'b\\'review/text: I really enjoyed the book. I believe the author did a good job at tackeling the subject of poor conduct in the church. I was reminded that we are all human, and even the mighty shall fall. Now I have to speak my mind regarding the poor reviews. I was shocked at the bahavior of \"adults\" What happened to respect for others. In my opinion I have to say those who wrote the mean reviews are nothing short of ignorent and without a doubt low class. Yes, there are minor errors in the book, but it did not change the greatness of the story for me. Who cares if a word on the back cover is missing an E? Did anyone stop to think that this book whent through a publisher most likely after it left the hands of Mrs, Haddon? I have to say, I am not one to leave reviews, but I just had too when I saw how this book was misrepresented. Not only was the author butchered, but those who liked the book as well were called illiterate. I agree with a fellow reviewer when I ask, how many of you have written a book? Obviously not many because you all have way too much time on your hands. I liked the book, and remember that those of you in glass houses should not throw stones.\\\\n\\'', \"b'\\\\n'\", \"b'product/productId: 0595344550\\\\n'\", \"b'product/title: Whispers of the Wicked Saints\\\\n'\", \"b'product/price: 10.95\\\\n'\", \"b'review/userId: A2GKUH6OBW7POH\\\\n'\", \"b'review/profileName: julee glee\\\\n'\", \"b'review/helpfulness: 0/2\\\\n'\", \"b'review/score: 5.0\\\\n'\", \"b'review/time: 1118102400\\\\n'\", \"b'review/summary: Awesome !\\\\n'\", 'b\"review/text: This was not a typical romance read. It is deep, loving and full of suspense. This book touches on wemon\\'s issues and it caresses the heart. By the third chapter I was hooked. I did not think the first chapted was too long. It was great. I loved it and I recommend it to anyone who wants a great read.\\\\n\"', \"b'\\\\n'\", \"b'product/productId: 0595344550\\\\n'\", \"b'product/title: Whispers of the Wicked Saints\\\\n'\", \"b'product/price: 10.95\\\\n'\", \"b'review/userId: A2BAF61XBWSLH\\\\n'\", \"b'review/profileName: Vanna\\\\n'\", \"b'review/helpfulness: 1/4\\\\n'\", \"b'review/score: 5.0\\\\n'\", \"b'review/time: 1118448000\\\\n'\", \"b'review/summary: Glorious story\\\\n'\", \"b'review/text: I loved Whisper of the wicked saints. The story was amazing and I was pleasantly surprised at the changes in the book. I am not normaly someone who is into romance novels, but the world was raving about this book and so I bought it. I loved it !! This is a brilliant story because it is so true. This book was so wonderful that I have told all of my friends to read it. It is not a typical romance, it is so much more. Not reading this book is a crime, becuase you are missing out on a heart warming story.\\\\n'\", \"b'\\\\n'\", \"b'product/productId: 0595344550\\\\n'\", \"b'product/title: Whispers of the Wicked Saints\\\\n'\", \"b'product/price: 10.95\\\\n'\", \"b'review/userId: A6OQ83FD8E2OC\\\\n'\", \"b'review/profileName: Read-Aholic\\\\n'\", \"b'review/helpfulness: 1/4\\\\n'\", \"b'review/score: 5.0\\\\n'\", \"b'review/time: 1117497600\\\\n'\", \"b'review/summary: Loved it !!\\\\n'\", \"b'review/text: I loved this book for a few reasons. The first was that I felt as if I was not reading the story, but I was part of the story. I loved the way it twisted and turned at every corner, I loved that I simply did not know what to expect. The choice of words was spectacular and just when I thought that I was in control of my own emotions, something would jump up and surprise me. I am anxiously waiting for the next book, this was one of the best romance suspense books that I have read in years. I highly recomend it. I give this one five stars !!!!!!!!\\\\n'\", \"b'\\\\n'\", \"b'product/productId: 0595344550\\\\n'\", \"b'product/title: Whispers of the Wicked Saints\\\\n'\", \"b'product/price: 10.95\\\\n'\", \"b'review/userId: AVRN9E6X9I6KF\\\\n'\", \"b'review/profileName: Karisa\\\\n'\", \"b'review/helpfulness: 0/3\\\\n'\", \"b'review/score: 5.0\\\\n'\", \"b'review/time: 1119139200\\\\n'\", \"b'review/summary: Five stars it not enough\\\\n'\", 'b\"review/text: I thought this book was brilliant. The plot was so good that it kept me guessing until the end. It worked its way into my heart and I can\\'t help every now and then thinking about Maxwell, Heath and Julia. This is so great, I love this new writer and I can\\'t wait for the next book. &lt;hint, hint> A must read for anyone with a beating heart.\\\\n\"', \"b'\\\\n'\", \"b'product/productId: 0595344550\\\\n'\", \"b'product/title: Whispers of the Wicked Saints\\\\n'\", \"b'product/price: 10.95\\\\n'\", \"b'review/userId: A2YWUISTJ728T5\\\\n'\", \"b'review/profileName: darby\\\\n'\", \"b'review/helpfulness: 4/6\\\\n'\", \"b'review/score: 5.0\\\\n'\", \"b'review/time: 1115856000\\\\n'\", \"b'review/summary: A FIVE STAR BOOK\\\\n'\", 'b\"review/text: I just finished reading Whisper of the Wicked saints. I fell in love with the caracters. I expected an average romance read, but instead I found one of my favorite books of all time. Just when I thought I could predict the outcome I was shocked ! The writting was so descriptive that my heart broke when Julia\\'s did and I felt as if I was there with them instead of just a distant reader. If you are a lover of romance novels then this is a must read. Don\\'t let the cover fool you this book is spectacular!\\\\n\"', \"b'\\\\n'\", \"b'product/productId: 0595344550\\\\n'\", \"b'product/title: Whispers of the Wicked Saints\\\\n'\", \"b'product/price: 10.95\\\\n'\", \"b'review/userId: ASEIU33YVKKWW\\\\n'\", 'b\\'review/profileName: Barbara Steinbach \"A True Fan\"\\\\n\\'', \"b'review/helpfulness: 2/3\\\\n'\", \"b'review/score: 5.0\\\\n'\", \"b'review/time: 1124668800\\\\n'\", \"b'review/summary: Whispers of the Wicked Saints\\\\n'\", \"b'review/text: This was a easy to read book that made me want to keep reading on and on, not easy to put down.It left me wanting to read the follow on, which I hope is coming soon. I used to read a lot but have gotten away from it. This book made me want to read again. Very enjoyable.\\\\n'\", \"b'\\\\n'\", \"b'product/productId: 0595344550\\\\n'\", \"b'product/title: Whispers of the Wicked Saints\\\\n'\", \"b'product/price: 10.95\\\\n'\", \"b'review/userId: AJV5HX8BBZKEP\\\\n'\", 'b\\'review/profileName: jaylynn Roberts \"jaylynn roberts\"\\\\n\\'', \"b'review/helpfulness: 0/0\\\\n'\", \"b'review/score: 4.0\\\\n'\", \"b'review/time: 1151712000\\\\n'\", \"b'review/summary: Errors, but great story\\\\n'\", 'b\"review/text: I was a dissapointed to see errors on the back cover, but since I paid for the book I read it anyway. I have to say I love it. I couldn\\'t put it down. I read the whole book in two hours. I say buy it. I say read it. It is sad, but it gives an interesting point of view on church today. We spend too much time looking at the faults of others. I also enjoyed beloved.Sincerly,Jaylynn R\\\\n\"', \"b'\\\\n'\", \"b'product/productId: 0595344550\\\\n'\", \"b'product/title: Whispers of the Wicked Saints\\\\n'\", \"b'product/price: 10.95\\\\n'\", \"b'review/userId: A1P2KGE2Z8RTA\\\\n'\", \"b'review/profileName: C. Robertson\\\\n'\", \"b'review/helpfulness: 0/0\\\\n'\", \"b'review/score: 1.0\\\\n'\", \"b'review/time: 1119916800\\\\n'\", \"b'review/summary: The Worst!\\\\n'\", 'b\"review/text: A complete waste of time. Typographical errors, poor grammar, and a totally pathetic plot add up to absolutely nothing. I\\'m embarrassed for this author and very disappointed I actually paid for this book.\\\\n\"', \"b'\\\\n'\", \"b'product/productId: 0595344550\\\\n'\", \"b'product/title: Whispers of the Wicked Saints\\\\n'\", \"b'product/price: 10.95\\\\n'\", \"b'review/userId: AE5JROER4ERSO\\\\n'\", \"b'review/profileName: carrie\\\\n'\", \"b'review/helpfulness: 0/0\\\\n'\", \"b'review/score: 5.0\\\\n'\", \"b'review/time: 1119484800\\\\n'\", \"b'review/summary: The truth about WOTWS\\\\n'\", \"b'review/text: I have to say that my friends at work all read this book and loved it. It was brought to our attention that there are negative reviews on this book that are false. For example the traveling librarian? We had a discussion about this book at work and the review of the traveling librarian is completely false. I pulled out the book and realized that these are lies and that someone is trying to ruin this book. The book never states that a garden is ten miles long. On page 62 it clearly states that the garden is five acres. No heartbeat of a fetus was heard at a week. How could it be? Julia was not even aware of the pregnancy at that time. The preacher never went to the house to give condolences, after reading the book once again it is obvious that he was there to fix the barn. So...on and ect... I also looked at the reviews &lt;history> all but one of the bad reviews is writen by someone who has never reviewed a book on amazon before. Veronica Haddon if you are reading this you need to write a letter to Amazon. Someon is playing a prank on you !!\\\\n'\", \"b'\\\\n'\", \"b'product/productId: 0595344550\\\\n'\", \"b'product/title: Whispers of the Wicked Saints\\\\n'\", \"b'product/price: 10.95\\\\n'\", \"b'review/userId: A38P0UQN2C364Y\\\\n'\", \"b'review/profileName: nessy\\\\n'\", \"b'review/helpfulness: 0/0\\\\n'\", \"b'review/score: 5.0\\\\n'\", \"b'review/time: 1115856000\\\\n'\", \"b'review/summary: How could someone not love this ??\\\\n'\", 'b\"review/text: I am an avid reader and I was shocked at how hooked I became on this book. I thought the first chapter was a little long and a little too discriptive, but truth be told after that I could not put this down. I read the other reviews on Whispers of the wicked saints before I wrote this and I saw one bad review that was written by someone who admitedly did not read this book. Don\\'t take the advice of the ignorant, this book is an absolute must for romance fans. I give it five stars !!\\\\n\"', \"b'\\\\n'\", \"b'product/productId: 0595344550\\\\n'\", \"b'product/title: Whispers of the Wicked Saints\\\\n'\", \"b'product/price: 10.95\\\\n'\", \"b'review/userId: A16FTKP8BXKGHG\\\\n'\", 'b\\'review/profileName: Rebecca Lover \"Becky\"\\\\n\\'', \"b'review/helpfulness: 0/0\\\\n'\", \"b'review/score: 5.0\\\\n'\", \"b'review/time: 1115856000\\\\n'\", \"b'review/summary: Luscious, hot forbidden love.!\\\\n'\", \"b'review/text: This book was very discriptive and I actually found myself involved in the lives of the characters. If you ever get a chance to read this book, please do! I have found that the beginning of the book was a little too discriptive, but push through. The best is yet to come. You will definately find yourself wanting more. There was some parts in the book that made me HOT!! Veronica had a way with describing the places and the characters. I could actually see this story as if it were an actual movie. I really loved this book. If you are a romantic at heart and you love a great outcome, you must read Whispers of the Wicked Saints. GREAT, GREAT story!!\\\\n'\", \"b'\\\\n'\", \"b'product/productId: 0595344550\\\\n'\", \"b'product/title: Whispers of the Wicked Saints\\\\n'\", \"b'product/price: 10.95\\\\n'\", \"b'review/userId: A1N38F1DJ9H2KM\\\\n'\", \"b'review/profileName: Macy Lynn\\\\n'\", \"b'review/helpfulness: 0/0\\\\n'\", \"b'review/score: 5.0\\\\n'\", \"b'review/time: 1115078400\\\\n'\", \"b'review/summary: The best book I have ever read !\\\\n'\", \"b'review/text: I happen to love romance novels, but only if they are goos romance. I am not one who loves everything, but this made my heart rejoice. I absolutlely could not put it down. Wow what a book !! You have to read this awesome story of forbiden love. I warn you now. It is steamy.\\\\n'\", \"b'\\\\n'\", \"b'product/productId: 0595344550\\\\n'\", \"b'product/title: Whispers of the Wicked Saints\\\\n'\", \"b'product/price: 10.95\\\\n'\", \"b'review/userId: A3V4NY81KXZAUL\\\\n'\", \"b'review/profileName: pen delta\\\\n'\", \"b'review/helpfulness: 0/0\\\\n'\", \"b'review/score: 4.0\\\\n'\", \"b'review/time: 1114992000\\\\n'\", \"b'review/summary: Great book\\\\n'\", \"b'review/text: This was a great book,I just could not put it down,and could not read it fast enough. Boy what a book the twist and turns in this just keeps you guessing and wanting to know what is going to happen next. This book makes you fall in love and can heat you up,it can also make you so angery. this book can make you go throu several of your emotions. This is a quick read romance. It is something that you will want to end your day off with if you read at night.\\\\n'\", \"b'\\\\n'\", \"b'product/productId: 0595344550\\\\n'\", \"b'product/title: Whispers of the Wicked Saints\\\\n'\", \"b'product/price: 10.95\\\\n'\", \"b'review/userId: A29I6N5F8P386Y\\\\n'\", \"b'review/profileName: J. serratos\\\\n'\", \"b'review/helpfulness: 0/0\\\\n'\", \"b'review/score: 5.0\\\\n'\", \"b'review/time: 1111017600\\\\n'\", 'b\"review/summary: The best book I\\'ve read in years !!\\\\n\"', \"b'review/text: This is a wonderful book that will keep you guessing. It is Rare to find a book that will make you laugh and cry at the same time and still leave you wondering what will happen next. What was even more amazing about it, is the fact that it is written in such a poetic way. This is a rare find and I look forward to the next book written by Veronica Haddon.\\\\n'\", \"b'\\\\n'\", \"b'product/productId: 0595344550\\\\n'\", \"b'product/title: Whispers of the Wicked Saints\\\\n'\", \"b'product/price: 10.95\\\\n'\", \"b'review/userId: A2ABV8FXF88O9P\\\\n'\", \"b'review/profileName: Victoria\\\\n'\", \"b'review/helpfulness: 1/5\\\\n'\", \"b'review/score: 4.0\\\\n'\", \"b'review/time: 1116892800\\\\n'\", \"b'review/summary: Wonderful, wonderful book !!\\\\n'\", \"b'review/text: Just as predicted the first chapter of the book was long. I continued reading and then fell in love with WOTWS. It is heart warming and realistic. I thought it was a little depressing, but I quickly realized the writers point. There is a rainbow at the end of each storm. I did notice the error on the cover, but it only made me love the writer more. This writer is talented and she is not corporate, nor does it appear that she has a staff working for her. Her book was writen from the heart and that is what makes an American literary legend. I would rather read a book with an error then to read hollow perfection any day of the week.\\\\n'\", \"b'\\\\n'\", \"b'product/productId: 0595344550\\\\n'\", \"b'product/title: Whispers of the Wicked Saints\\\\n'\", \"b'product/price: 10.95\\\\n'\", \"b'review/userId: A1EONVY639PQDY\\\\n'\", \"b'review/profileName: Sophie\\\\n'\", \"b'review/helpfulness: 0/4\\\\n'\", \"b'review/score: 5.0\\\\n'\", \"b'review/time: 1116201600\\\\n'\", \"b'review/summary: Great Read\\\\n'\", \"b'review/text: I thought this book was brilliant, but yet realistic. It showed me that to error is human. I loved the fact that this writer showed the loving side of God and not the revengeful side of him. I loved how it twisted and turned and I could not put it down. I also loved The glass castle.\\\\n'\", \"b'\\\\n'\", \"b'product/productId: 0595344550\\\\n'\", \"b'product/title: Whispers of the Wicked Saints\\\\n'\", \"b'product/price: 10.95\\\\n'\", \"b'review/userId: A2XXVRH6VJ8S7Q\\\\n'\", \"b'review/profileName: S. Steinbach\\\\n'\", \"b'review/helpfulness: 8/8\\\\n'\", \"b'review/score: 5.0\\\\n'\", \"b'review/time: 1108339200\\\\n'\", 'b\"review/summary: Couldn\\'t put this book down!\\\\n\"', 'b\"review/text: Normally I\\'m not much into romance stories but I absolutely loved this book. This book had the right kind of suspense that made it impossible to put down. Kept me wondering what would happen right up until the end. Loved it! I am looking for anything else this author puts out.\\\\n\"', \"b'\\\\n'\", \"b'product/productId: 0595344550\\\\n'\", \"b'product/title: Whispers of the Wicked Saints\\\\n'\", \"b'product/price: 10.95\\\\n'\", \"b'review/userId: A3OS2QHEH495TD\\\\n'\", \"b'review/profileName: PW\\\\n'\", \"b'review/helpfulness: 5/5\\\\n'\", \"b'review/score: 1.0\\\\n'\", \"b'review/time: 1115856000\\\\n'\", \"b'review/summary: Oh please\\\\n'\", 'b\"review/text: I guess you have to be a romance novel lover for this one, and not a very discerning one. All others beware! It is absolute drivel. I figured I was in trouble when a typo is prominently featured on the back cover, but the first page of the book removed all doubt. Wait - maybe I\\'m missing the point. A quick re-read of the beginning now makes it clear. This has to be an intentional churning of over-heated prose for satiric purposes. Phew, so glad I didn\\'t waste $10.95 after all.\\\\n\"', \"b'\\\\n'\", \"b'product/productId: 0595344550\\\\n'\", \"b'product/title: Whispers of the Wicked Saints\\\\n'\", \"b'product/price: 10.95\\\\n'\", \"b'review/userId: A3S5YQQWBO0LGI\\\\n'\", \"b'review/profileName: N. Ray\\\\n'\", \"b'review/helpfulness: 4/4\\\\n'\", \"b'review/score: 1.0\\\\n'\", \"b'review/time: 1119571200\\\\n'\", \"b'review/summary: Awful beyond belief!\\\\n'\", 'b\\'review/text: I feel I have to write to keep others from wasting their money. This book seems to have been written by a 7th grader with poor grammatical skills for her age! As another reviewer points out, there is a misspelling on the cover, and I believe there is at least one per chapter. For example, it was mentioned twice that she had a \"lean\" on her house. I was so distracted by the poor writing and weak plot, that I decided to read with a pencil in hand to mark all of the horrible grammar and spelling. Please don\\\\\\'t waste your money. I too, believe that the good reviews must have been written by the author\\\\\\'s relatives. I will not put much faith in the reviews from now on!\\\\n\\'', \"b'\\\\n'\", \"b'product/productId: 0595344550\\\\n'\", \"b'product/title: Whispers of the Wicked Saints\\\\n'\", \"b'product/price: 10.95\\\\n'\", \"b'review/userId: A9L6GHJC42RRC\\\\n'\", 'b\\'review/profileName: denpq \"A READER\"\\\\n\\'', \"b'review/helpfulness: 6/7\\\\n'\", \"b'review/score: 1.0\\\\n'\", \"b'review/time: 1119830400\\\\n'\", 'b\"review/summary: You\\'ve got to hand it to the author...\\\\n\"', 'b\"review/text: I purchased this book after reading rave reviews of it included within a review of a really good book I\\'d read. Apparently, the author (or her friends and family) are placing reviews of good books and encouraging people to buy this book if you liked the one they were reviewing. Great marketing by the author. However, the author should probably stick to marketing and give up the idea of being a writer. This book could have been written by a middle-schooler. It is a self-published, self-edited (and extremely poorly edited, I might add), and self-promoted lame excuse for a novel. My eyes rolled constantly while reading this book. Just when I thought it couldn\\'t get worse...it did. The best part of this book is the short length. There is no substance, no character development, and the plot (if there actually is one) is pathetic. I generally trust the reviewers on Amazon. I really feel duped for purchasing this book after reading about it in Amazon\\'s readers\\' reviews. Don\\'t waste your money. The author should have printed only enough copies for family and friends. The rest of the population should be spared having to read this drivel.\\\\n\"', \"b'\\\\n'\", \"b'product/productId: 0595344550\\\\n'\", \"b'product/title: Whispers of the Wicked Saints\\\\n'\", \"b'product/price: 10.95\\\\n'\", \"b'review/userId: A3T591DTKPYCVW\\\\n'\", 'b\\'review/profileName: Fran \"Avid reader\"\\\\n\\'', \"b'review/helpfulness: 6/7\\\\n'\", \"b'review/score: 1.0\\\\n'\", \"b'review/time: 1118275200\\\\n'\", 'b\"review/summary: You\\'ve got to be kidding!\\\\n\"', 'b\\'review/text: It has been years since I\\\\\\'ve read a romance novel. If this is typical of the genre these days, I will never pick up another one. Not only is the plot contrived and juvenile, the writing shows the lack of skill expected only in a child\\\\\\'s writing. Many of my seventh grade writing students would be embarrassed if this trash was attributed to them. \"The bed squeaked slightly, but her husband was unmoved by the sharp squeaks from the bed as well as the howling noises caused by the wind that were surrounding him.\" Were the squeaks slight or sharp, and were she and her husband sleeping outside that the wind could be howling around him not the house? This is just one mangled sentence in a book filled with such tripe. If my criticism seems harsh, it\\\\\\'s because I actually paid money for this book. What a waste!I would suggest that Miss Haddon go back to Junior High School and begin a serious course of writing instruction. Perhaps by the time she graduates from college she will have gained an understanding of good sentence construction, proper punctuation, and the value of using adjectives sparingly. And if she reads a great deal along the way, she might also learn how to construct a plausible plot.\\\\n\\'', \"b'\\\\n'\", \"b'product/productId: 0595344550\\\\n'\", \"b'product/title: Whispers of the Wicked Saints\\\\n'\", \"b'product/price: 10.95\\\\n'\", \"b'review/userId: A1XNI3654I4ME2\\\\n'\", \"b'review/profileName: Bronx Girl\\\\n'\", \"b'review/helpfulness: 2/2\\\\n'\", \"b'review/score: 1.0\\\\n'\", \"b'review/time: 1125273600\\\\n'\", 'b\"review/summary: Don\\'t try to fool us with fake reviews.\\\\n\"', 'b\"review/text: It\\'s glaringly obvious that all of the glowing reviews have been written by the same person, perhaps the author herself. They all have the same misspellings and poor sentence structure that is featured in the book. Who made Veronica Haddon think she is an author?\\\\n\"', \"b'\\\\n'\", \"b'product/productId: 0595344550\\\\n'\", \"b'product/title: Whispers of the Wicked Saints\\\\n'\", \"b'product/price: 10.95\\\\n'\", \"b'review/userId: A3VSJF0K4H28XK\\\\n'\", \"b'review/profileName: Mary J. Daniels\\\\n'\", \"b'review/helpfulness: 2/2\\\\n'\", \"b'review/score: 4.0\\\\n'\", \"b'review/time: 1122422400\\\\n'\", \"b'review/summary: Whispers of the Wicked Saints\\\\n'\", 'b\"review/text: I really enjoyed this book, sure this author is just starting out, but I still really liked it. How many books have the reviewers that hated this book wrote and got published? I read a lot, and I always have. I don\\'t usually like modern love stories, but I gave it a chance and found that I didn\\'t want to put it down until I finished it. I look forward to reading her next book and no I\\'m not a family member or a friend. Just give her book a chance and you might just find that it really is pretty good.\\\\n\"', \"b'\\\\n'\", \"b'product/productId: 0595344550\\\\n'\", \"b'product/title: Whispers of the Wicked Saints\\\\n'\", \"b'product/price: 10.95\\\\n'\", \"b'review/userId: A1KAKU5SCNNEZM\\\\n'\", \"b'review/profileName: Tori\\\\n'\", \"b'review/helpfulness: 2/2\\\\n'\", \"b'review/score: 5.0\\\\n'\", \"b'review/time: 1115337600\\\\n'\", \"b'review/summary: Spectacular !\\\\n'\", \"b'review/text: I loved this little book, I thought the first chapter was a little long, but even though it was long I loved it. This writer is a 3D writer. Her words make you feel as if you are the character and I loved that. This is a first novel for Veronica, and I am forever a fan !!\\\\n'\", \"b'\\\\n'\", \"b'product/productId: 0595344550\\\\n'\", \"b'product/title: Whispers of the Wicked Saints\\\\n'\", \"b'product/price: 10.95\\\\n'\", \"b'review/userId: A3U1XS6XK6YUU4\\\\n'\", \"b'review/profileName: kassie\\\\n'\", \"b'review/helpfulness: 1/1\\\\n'\", \"b'review/score: 5.0\\\\n'\", \"b'review/time: 1115078400\\\\n'\", \"b'review/summary: You have to read this book\\\\n'\", \"b'review/text: I can not talk this book up enough. It was well writen and a major page turner. It was a book about a pastor that falls for a member of his congregation. It will leave your heart full and your mind pondering question of infidelity and what is right and wrong and where God draws the line. It is a must read.\\\\n'\", \"b'\\\\n'\", \"b'product/productId: 0595344550\\\\n'\", \"b'product/title: Whispers of the Wicked Saints\\\\n'\", \"b'product/price: 10.95\\\\n'\", \"b'review/userId: A3OZDTEEAF8GS9\\\\n'\", \"b'review/profileName: travelling librarian\\\\n'\", \"b'review/helpfulness: 6/9\\\\n'\", \"b'review/score: 1.0\\\\n'\", \"b'review/time: 1119312000\\\\n'\", \"b'review/summary: awful beyond belief\\\\n'\", 'b\\'review/text: I can\\\\\\'t remember the last time I read such a dire book. I howled with laughter all the way through, wondering how much worse it could get - and sure enough, it got worse. If the writing is bad, the plot is ludicrous. A preacher comes to offer condolences the same afternoon that the heroine\\\\\\'s husband is shot dead. Within moments they are having sex. The sex is not sensually treated or beautifully described - no, all they do is stick their tongues down each other\\\\\\'s throats. The preacher goes to tell his paralysed wife. Her bizarre response - wait for it - is to stick her tongue down his throat. No wonder he veers away. The heroine runs off to work in the heart of Liverpool in a rose garden ten miles long (I kid you not). Did I mention she is dying? But never mind, she\\\\\\'ll make a miraculous recovery. She meets another man - even though, conveniently, he\\\\\\'s dying too, and she\\\\\\'s pregnant by the preacher by now (and, oh joy, she hears the heartbeat of the fetus at a week... truly, a miracle)! The other man lives in castle and is very rich. Of course. They consumate their affair when she sticks her tongue down his throat. Not to worry, she doesn\\\\\\'t have to perform this crude tonsil-tickling for long. The preacher turns up again. Everyone in the way drops dead, leaving the coast free for the \"wicked saints\" of the title to romp without blame or shame into the sunset.I could have kicked myself for buying this book; but I had been fooled by reading a mention of it by a so-called reviewer of The Mermaid Chair (which is a good book.) Then I checked all the other reviews done by reviewers of Ms Haddon\\\\\\'s book (you can click on \"other reviews\" to see what I mean) and believe I have spotted a scam. The reviewers appear to have chosen the same half dozen best sellers to review -- each on the same day! - and in each review of these other genuinely good books they mention Wicked Saints in the most glowing terms. This is cynical piggy-back riding on bona fide books, made worse because this is a very badly edited (and badly written) self published book. I hope few people will be fooled as I was - and as Amazon has been. Be warned!\\\\n\\'', \"b'\\\\n'\", \"b'product/productId: 0253338352\\\\n'\", \"b'product/title: Nation Dance: Religion, Identity and Cultural Difference in the Caribbean\\\\n'\", \"b'product/price: 39.95\\\\n'\", \"b'review/userId: AN9WUW5BG7M39\\\\n'\", \"b'review/profileName: Pink Noodle\\\\n'\", \"b'review/helpfulness: 1/1\\\\n'\", \"b'review/score: 5.0\\\\n'\", \"b'review/time: 1202083200\\\\n'\", \"b'review/summary: interplay of traditions across Caribbean\\\\n'\", 'b\\'review/text: from publisher:Addresses the interplay of diverse spiritual, religious, and cultural traditions across the Caribbean.Dealing with the ongoing interaction of rich and diverse cultural traditions from Cuba and Jamaica to Guyana and Surinam, Nation Dance addresses some of the major contemporary issues in the study of Caribbean religion and identity. The book\\\\\\'s three sections move from a focus on spirituality and healing, to theology in social and political context, and on to questions of identity and diaspora.The book begins with the voices of female practitioners and then offers a broad, interdisciplinary examination of Caribbean religion and culture. Afro-Caribbean religions, Hinduism, Judaism, Islam, and Christianity are all addressed, with specific reflections on Santer&iacute;a, Palo Monte, Vodou, Winti, Obeah, Kali Mai, Orisha work, Spiritual Baptist faith, Spiritualism, Rastafari, Confucianism, Congregationalism, Pentecostalism, Catholicism, and liberation theology. Some essays are based on fieldwork, archival research, and textual or linguistic analysis, while others are concerned with methodological or theoretical issues. Contributors include practitioners and scholars, some very established in the field, others with fresh, new approaches; all of them come from the region or have done extensive fieldwork or research there. In these essays the poetic vitality of the practitioner\\\\\\'s voice meets the attentive commitment of the postcolonial scholar in a dance of \"nations\" across the waters.\\\\n\\'', \"b'\\\\n'\", \"b'product/productId: 0802841899\\\\n'\", \"b'product/title: The Church of Christ: A Biblical Ecclesiology for Today\\\\n'\", \"b'product/price: 25.97\\\\n'\", \"b'review/userId: ARI272XF8TOL4\\\\n'\", \"b'review/profileName: Christopher J. Bray\\\\n'\", \"b'review/helpfulness: 74/81\\\\n'\", \"b'review/score: 5.0\\\\n'\", \"b'review/time: 955411200\\\\n'\", \"b'review/summary: Ecclesiological Milestone\\\\n'\", 'b\\'review/text: With the publication of Everett Ferguson\\\\\\'s book on ecclesiology, another milestone has been reached in the scholarly presentation of the distinctive theological perspective of Churches of Christ. The book is divided into six chapters, each roughly sixty to seventy pages in length. Within each chapter, Ferguson neatly and systematically outlines his thoughts and arguments. The first chapter, entitled \"The People and the Messiah: History and Eschatology,\" deals mainly with background issues. It examines the Old Testament teaching on the importance of covenant and the meaning of the phrase \"kingdom of God\" in its relationship to an and distinction from the church. Ferguson enters into the New Testament and ecclesiology proper via a consideration of Jesus as Messiah, including a careful exegesis of Matt. 16:13-23, where he concludes that the \"rock\" of Matt. 16:18 is not Peter, but the fact of Jesus\\\\\\' Messiahship. Ferguson\\\\\\'s analysis of Matt. 16:13-23 is insightful and carefully articulated. Within this section, he gives attention to \"the gates of Hades will not prevail\" and concludes with some interesting yet encouraging insight. In the second chapter, \"The Church and Her Lord: The Nature of the Church,\" Ferguson deals with and focuses on three images, \"people of God,\" \"body of Christ,\" and \"community of the Spirit.\" A peculiar feature in this chapter is placing the discussion of the word ekklesia last rather than first. The latter would seem more appropriate and would seem to set the stage for the chapter, especially for a work of biblical ecclesiology. This great section will open the eyes of the reader and renew his focus of church. That is to say, this chapter correctly puts Christ as the head of the church and gives Him His appropriate place. The third chapter concentrates on, \"The Church and Her Savior: Salvation and Church Membership.\" Essentially this section covers soteriology, which determines ecclesiology, but it is not ecclesiology itself. His full treatment of the nature of sin, the meaning of the cross, and the human response to God\\\\\\'s saving work is only loosely linked to his topic of ecclesiology. This is not to say that this section is uninteresting or uninformative because it is quite helpful for a fuller understanding of these matters. Far more important is the content of Ferguson\\\\\\'s soteriology. Ferguson is strong when it comes to the necessity of baptism. A few statements will give the reader an idea of his position: \"Baptism is the time at which one is incorporated into Christ and so becomes a child of God\" (pg. 170); \"Baptism is a `calling on the name\\\\\\' of the Lord\" (pg. 180); and, \"Baptism is the appointed time at which God pronounces forgiveness\" (pg. 183). He concludes: There must be an objective necessity about baptism, or New Testament writers could not speak of baptism in the way they do\" (pg. 185). How refreshing! In our world of relativity and ecumenism, people need to hear Ferguson\\\\\\'s words, especially those in Churches of Christ. The last three chapters move into a more familiar territory for a treatise on the church. Chapter four, \"The Church and Her High Priest: Worship and Assembly\" is a great section for anyone interested in the dynamics of worship. Here, Ferguson begins with a type of etymology as a way of introduction, concentrating on both the Greek and English words. This introduction to the subject sets the stage for the entire chapter. Worship is a hot topic today, thus chapter four is rather applicable for our day with all the differing views. This section is multitudinously faceted and exhaustive. \"The Church and Her Bishop: The Continuing Ministry\" is appropriately the title for the fifth chapter. In this section, Ferguson again touches on some hot topics in the church. It is unfortunate however that he only briefly deals with the debates on miraculous gifts and women\\\\\\'s roles. Ferguson advocates a cessasionist position on miraculous gifts and a complementarian position on women\\\\\\'s roles, but leaves the reader thirsting for more information and a more comprehensive treatment of the issues. In a day where these two in particular issues are so widely discussed and debated, one would think that they might have received a little concentration. Again, this is not to eradicate what was accomplished in this chapter because it was insightful and obliging, especially given the fact that his discussion on deaconesses was amazingly insightful and well balanced. In chapter six Ferguson adequately covers, \"The Church and Her Teacher: The New Way of Life.\" In this section, he includes an unusually prominent consideration of ethics and a very healthy discussion of the importance of Christian fellowship and its concomitant, church discipline. One last thing that must be mentioned about this chapter is Ferguson\\\\\\'s section on unity. Although this section is brief, it is significant and insightful. Ferguson lays out the various aspects of unity and does so in just a few short pages. It serves as an excellent conclusion to a monumental work. Of course, any reader is free to take issue with some of Ferguson\\\\\\'s conclusions. For example, the distinction that is made between the temporary and permanent endowments of the Spirit still awaits additional clarification, and there will be those who will score Ferguson, despite his disclaimer, for his synchronic rather than diachronic approach to the New Testament writings. This is a courageous book. Its Reformed-Restorationist slant that the proper doctrine of the church entails a return to the faith and practice of the apostolic church is unmistakable. There are numerous nuggets of exegesis and important points of emphases that make this book worth reading. It is astounding that Ferguson deals with so many facets of ecclesiology in a one-volume work. Not only that, but he also includes a helpful subject index as well as a number of bibliographies. Just a glance at his copious footnotes and it is clear that this book is well researched and well documented. This book should be one that every minister, church leader, and ministry student is required to read and ponder.\\\\n\\'', \"b'\\\\n'\", \"b'product/productId: 0802841899\\\\n'\", \"b'product/title: The Church of Christ: A Biblical Ecclesiology for Today\\\\n'\", \"b'product/price: 25.97\\\\n'\", \"b'review/userId: A36TPZSH8LBT1\\\\n'\", \"b'review/profileName: haskell\\\\n'\", \"b'review/helpfulness: 2/3\\\\n'\", \"b'review/score: 5.0\\\\n'\", \"b'review/time: 1311465600\\\\n'\", \"b'review/summary: Early Christian development of the Church\\\\n'\", 'b\"review/text: Everett Ferguson approaches the subject of early christian development with quotes from their early documents in their own words. Ferguson gives us a peek into the minds of early Christians and puts it together in a form one can understand today. The only criticism is that he can get too technical and detailed at times. With patience his writing is able to be followed by a serious student of the subject of God\\'s church. I highly recommend this book for any serious student of the subject!\\\\n\"', \"b'\\\\n'\", \"b'product/productId: 0802841899\\\\n'\", \"b'product/title: The Church of Christ: A Biblical Ecclesiology for Today\\\\n'\", \"b'product/price: 25.97\\\\n'\", \"b'review/userId: ANX3DDV12ZRRU\\\\n'\", \"b'review/profileName: GodsBreath.wordpress\\\\n'\", \"b'review/helpfulness: 2/3\\\\n'\", \"b'review/score: 4.0\\\\n'\", \"b'review/time: 1289952000\\\\n'\", \"b'review/summary: An Excellent Presentation of the Beliefs of the Mainsteam chuches of Christ\\\\n'\", 'b\"review/text: This book is a continual resource. It is so biblical and so simple. Dr. Ferguson\\'s candid honesty is transparent to the bright shining light of Christ\\'s words for His glorious Church.\\\\n\"', \"b'\\\\n'\", \"b'product/productId: 0802841899\\\\n'\", \"b'product/title: The Church of Christ: A Biblical Ecclesiology for Today\\\\n'\", \"b'product/price: 25.97\\\\n'\", \"b'review/userId: A2H2LORTA5EZY2\\\\n'\", \"b'review/profileName: Edward E. Howe\\\\n'\", \"b'review/helpfulness: 3/5\\\\n'\", \"b'review/score: 4.0\\\\n'\", \"b'review/time: 1266192000\\\\n'\", \"b'review/summary: Christ is Lord\\\\n'\", 'b\"review/text: This is a very useful and thorough text book. I would recommend it for anyone who wants an in depth study of the Lord\\'s church.\\\\n\"', \"b'\\\\n'\", \"b'product/productId: B0007FIF28\\\\n'\", \"b'product/title: The Overbury affair (Avon)\\\\n'\", \"b'product/price: unknown\\\\n'\", \"b'review/userId: A2GERYVE64DIPL\\\\n'\", \"b'review/profileName: lisamac\\\\n'\", \"b'review/helpfulness: 0/0\\\\n'\", \"b'review/score: 3.0\\\\n'\", \"b'review/time: 1313366400\\\\n'\", \"b'review/summary: Overbury\\\\n'\", \"b'review/text: Full of intrigue and a good overview of the court of James 1 and the key players. Provides a good general history of all the facts of the case.\\\\n'\", \"b'\\\\n'\", \"b'product/productId: B000JINSBG\\\\n'\", \"b'product/title: A Walk in the Woods: a Play in Two Acts\\\\n'\", \"b'product/price: unknown\\\\n'\", \"b'review/userId: A15A5KPP3AL76U\\\\n'\", \"b'review/profileName: Vinny Wolf\\\\n'\", \"b'review/helpfulness: 0/0\\\\n'\", \"b'review/score: 5.0\\\\n'\", \"b'review/time: 1361491200\\\\n'\", \"b'review/summary: meaty and fast\\\\n'\", 'b\"review/text: This play was excellent. It\\'s very smart, intellectually and morally meaty, and fast. I highly recommend it. Especially good material to ponder for people who in today\\'s age can still think of the US or any country as being moral and right and good.\\\\n\"', \"b'\\\\n'\", \"b'product/productId: B000JINSBG\\\\n'\", \"b'product/title: A Walk in the Woods: a Play in Two Acts\\\\n'\", \"b'product/price: unknown\\\\n'\", \"b'review/userId: A2HF2IYAYUH8P8\\\\n'\", \"b'review/profileName: Shirleyann Costigan\\\\n'\", \"b'review/helpfulness: 0/0\\\\n'\", \"b'review/score: 4.0\\\\n'\", \"b'review/time: 1357862400\\\\n'\", \"b'review/summary: Surprisingly delightful\\\\n'\", \"b'review/text: This is a fast read filled with unexpected humour and profound insights into the art of politics and policy. In brief, it is sly, wry, and wise.\\\\n'\", \"b'\\\\n'\", \"b'product/productId: B000JINSBG\\\\n'\", \"b'product/title: A Walk in the Woods: a Play in Two Acts\\\\n'\", \"b'product/price: unknown\\\\n'\", \"b'review/userId: A3V0MK4KOD61KO\\\\n'\", 'b\\'review/profileName: porsche driver \"porsche driver\"\\\\n\\'', \"b'review/helpfulness: 1/3\\\\n'\", \"b'review/score: 5.0\\\\n'\", \"b'review/time: 1243728000\\\\n'\", \"b'review/summary: A walk in the woods\\\\n'\", 'b\"review/text: This is an old play I saw on stage many years ago. It still brings a laugh at times. But also a reality check at other times. Truly a great play. Glad it\\'s still available.\\\\n\"', \"b'\\\\n'\", \"b'product/productId: 0895554224\\\\n'\", \"b'product/title: Saint Hyacinth of Poland\\\\n'\", \"b'product/price: 13.95\\\\n'\", \"b'review/userId: unknown\\\\n'\", \"b'review/profileName: unknown\\\\n'\", \"b'review/helpfulness: 3/3\\\\n'\", \"b'review/score: 5.0\\\\n'\", \"b'review/time: 984009600\\\\n'\", \"b'review/summary: Review from the Publisher\\\\n'\", 'b\"review/text: Tells the wonderful story of how St. Hyacinth and his fellow Dominicans planted the Holy Catholic Faith in Poland, Lithuania, Russia, and all over Northern Europe. Many were the remarkable events in this Saint\\'s life, including the raising of the dead! For children ages 10 and up. 17 illustrations. 189pp. PB. Imprimatur.\\\\n\"', \"b'\\\\n'\", \"b'product/productId: 0895554224\\\\n'\", \"b'product/title: Saint Hyacinth of Poland\\\\n'\", \"b'product/price: 13.95\\\\n'\", \"b'review/userId: A1IVIK8YJRIQWU\\\\n'\", 'b\\'review/profileName: Nov 10 \"Tom\"\\\\n\\'', \"b'review/helpfulness: 2/2\\\\n'\", \"b'review/score: 4.0\\\\n'\", \"b'review/time: 945648000\\\\n'\", \"b'review/summary: A miracle on every page!\\\\n'\", 'b\"review/text: Who was Saint Hyacinth? The story starts with a chance meeting in Rome where he witnesses (the future) Saint Dominic raising a man from death. From that point the book is one miracle and amazing encounter on Hyacinth\\'s journey across North Europe. He raised the dead, walks on water, fled the invading Tatars from a Cathedral carrying a 500 lb. Statue. All thoughout he dispenses his own brand of spiruatilty and humility. The book reads liks a combination of a self help book like the One minute Manager and the excitement of the Raiders of the Lost Arc. Kids will love this book to be read to them. They will never forget Saint Hyacinth. I know I never will.\\\\n\"', \"b'\\\\n'\", \"b'product/productId: 0963923080\\\\n'\", 'b\"product/title: Rising Sons and Daughters: Life Among Japan\\'s New Young\\\\n\"', \"b'product/price: unknown\\\\n'\", \"b'review/userId: unknown\\\\n'\", \"b'review/profileName: unknown\\\\n'\", \"b'review/helpfulness: 2/2\\\\n'\", \"b'review/score: 4.0\\\\n'\", \"b'review/time: 936144000\\\\n'\", 'b\"review/summary: Wardell\\'s book is a pure delight.\\\\n\"', 'b\"review/text: Steven Wardell\\'s book is a pure delight and I\\'ve recommended itto friends of all ages. In Rising Sons and Daughters, we learn thatJapanese young people are preserving their country\\'s tradition of respect for their elders while also creating their own identity as Japan\\'s &quot;Generation X&quot;. Like our own young people, they are bombarded with some of the excesses of &quot;Western culture&quot; - Clothing fads, rock groups, a culture of shopping, etc. What they seem to be developing, however, is a healthy hybrid of old and new that retains a firm foundation in good values. The Ando family members are wonderful, memorable people and Stevern Wardell writes poignantly about their lives and hopes of each of them.\\\\n\"', \"b'\\\\n'\", \"b'product/productId: 0963923080\\\\n'\", 'b\"product/title: Rising Sons and Daughters: Life Among Japan\\'s New Young\\\\n\"', \"b'product/price: unknown\\\\n'\", \"b'review/userId: unknown\\\\n'\", \"b'review/profileName: unknown\\\\n'\", \"b'review/helpfulness: 1/1\\\\n'\", \"b'review/score: 5.0\\\\n'\", \"b'review/time: 935884800\\\\n'\", \"b'review/summary: A fascinating insight into the life of modern Japanese teens\\\\n'\", 'b\"review/text: I thoroughly enjoyed Rising Sons and Daughters. I don\\'t know of any other book that looks at Japanese society from the point of view of its young people poised as they are between their parents\\' age-old Japanese culture of restraint and obedience to the will of the community, and their peers\\' adulation of Western culture. True to form, the &quot;New Young&quot; of Japan seem to be creating an &quot;international&quot; blend, as the Ando family demonstrates in this beautifully written book of vignettes of the private lives of members of this family. Steven Wardell is clearly a talented young author, adopted for some of his schooling into this family of four teens, and thus able to view family life in Japan from the inside out. A great read!\\\\n\"', \"b'\\\\n'\", \"b'product/productId: 0963923080\\\\n'\", 'b\"product/title: Rising Sons and Daughters: Life Among Japan\\'s New Young\\\\n\"', \"b'product/price: unknown\\\\n'\", \"b'review/userId: A3NIQK6ZLYEP1L\\\\n'\", \"b'review/profileName: Michael Valdivielso\\\\n'\", \"b'review/helpfulness: 0/0\\\\n'\", \"b'review/score: 4.0\\\\n'\", \"b'review/time: 1239667200\\\\n'\", \"b'review/summary: Almost a day by day view\\\\n'\", 'b\"review/text: Steven Wardell went to Japan without reading any of the hundreds of books about Japan. He went without any idea of how Japan would treat him. So what he writes seems to come to us without much editing by any pre-made belief. No filters are between us and the experiences he had day to day. All the details about school, family life and learning the language comes to us without any forethought.Compared to other books on Japan this is raw, unmolded, information and is full of insight that I doubt even Wardell realized was amazing for such a young writer. I would say that this is a must for anybody planning on going to Japan for ANY reason.Did find some humor in the fact that Wardell felt the need to explain everything, even what a corn dog was, and that when he met other exchange students one complained about how the Japanese, and I quote, Couldn\\'t even speak English good, end of quote. Couldn\\'t even speak English GOOD? Neither can the exchange students it seems.All in all, you need to get it. Used, paperback, in hardcover, any version you can. Just get it.\\\\n\"', \"b'\\\\n'\", \"b'product/productId: 0854968350\\\\n'\", 'b\"product/title: Muslim Women\\'s Choices: Religious Belief and Social Reality (Cross Cultural Perspectives on Women)\\\\n\"', \"b'product/price: unknown\\\\n'\", \"b'review/userId: A2OP3N8OXCQEZB\\\\n'\", \"b'review/profileName: Lyta\\\\n'\", \"b'review/helpfulness: 6/8\\\\n'\", \"b'review/score: 5.0\\\\n'\", \"b'review/time: 1121385600\\\\n'\", \"b'review/summary: Excellent\\\\n'\", 'b\"review/text: This is an excellent book. It offers the opinions of a diverse sample of real Muslim Women with very different attitudes. It will not appeal to those who don\\'t want to listen or who want an anti-islamic feminist political tract. The value of this is that you hear the opinions, educated and not, of the real people involved.Most of the time, the real voices are ignored and what is presented in the name of feminism is non-muslim american female TV personalities yacking endlessly on about the lives and experiences of people they really don\\'t know and don\\'t want to know.What must be understood above all else is that if you wish to change a society or a culture, you must at the very least understand how the people in that culture who disagree with you think. That is what this book does so well. I may not agree at all with the opinion of every woman in the book, but I at least understand how they think after finishing it.What many will never understand is that Islamic Society has changed and is still changing. But it can only change by consensus from within. No amount of cultural imperialism from western countries is going to change anything for the better.There is also more than a little hypocracy. For all the lectures about the veil from American Women, few of them stop to think about why they are themselves forced into certain choices. A veil isn\\'t great, but its a whole lot more confortable than the pantyhose that many Western women must wear effectively as a condition of employment. One wonders at a certain point if its the veil itself they object to or that as constrasted to their money-driven appearance decisons, the veil has a meaning beyond the secular.\\\\n\"', \"b'\\\\n'\", \"b'product/productId: 0854968350\\\\n'\", 'b\"product/title: Muslim Women\\'s Choices: Religious Belief and Social Reality (Cross Cultural Perspectives on Women)\\\\n\"', \"b'product/price: unknown\\\\n'\", \"b'review/userId: ATDE9JYCPI0L1\\\\n'\", \"b'review/profileName: Alyssa A. Lappen\\\\n'\", \"b'review/helpfulness: 0/0\\\\n'\", \"b'review/score: 2.0\\\\n'\", \"b'review/time: 1109808000\\\\n'\", \"b'review/summary: Oh dear\\\\n'\", 'b\\'review/text: I was excited to find a book ostensibly about Muslim feminism, but this volume did not live up to the expectations.One essay, among other things, describes the veil as potentially liberating. It doesn\\\\\\'t begin to explain how or why.Another, on Muslim women in Cape Town, claims that Muslim women there are separate but \"more than equal.\" Gee whiz, what a disappointment.I had expected and hoped for at least one Muslim feminist condemnation of gender apartheid. But there is not a single one in the book.I\\\\\\'m surprised it didn\\\\\\'t have an essay extolling the virtues of female genital mutilation.--Alyssa A. Lappen\\\\n\\'', \"b'\\\\n'\", \"b'product/productId: 0918973031\\\\n'\", \"b'product/title: Dramatica for Screenwriters\\\\n'\", \"b'product/price: 17.95\\\\n'\", \"b'review/userId: A252PRC1XBMTQJ\\\\n'\", 'b\\'review/profileName: Joy Higgins \"Wordweaver\"\\\\n\\'', \"b'review/helpfulness: 8/8\\\\n'\", \"b'review/score: 5.0\\\\n'\", \"b'review/time: 1143763200\\\\n'\", \"b'review/summary: Fun to read and easy to understand\\\\n'\", 'b\"review/text: Although written with script authors et al in mind, Dramatica for Screenwriters is the perfect companion book for Dramatica: A New Theory of Story.Using witty and easy to understand examples, the author takes you systematically through the process of turning a meager idea into a full-blown, grand argument story via Dramatica Theory definitions. With a slight mental adjustment, the tips and advice in this book fit the novelist\\'s dilemma as well as the screenwriter\\'s. If you are exploring the world of Dramatica, you need this book on your shelf.\\\\n\"', \"b'\\\\n'\", \"b'product/productId: 0918973031\\\\n'\", \"b'product/title: Dramatica for Screenwriters\\\\n'\", \"b'product/price: 17.95\\\\n'\", \"b'review/userId: A38FACH4R3BB6V\\\\n'\", \"b'review/profileName: Richard Hierro\\\\n'\", \"b'review/helpfulness: 5/5\\\\n'\", \"b'review/score: 5.0\\\\n'\", \"b'review/time: 1143676800\\\\n'\", \"b'review/summary: A must have\\\\n'\", 'b\\'review/text: Sorry for any mistake I could do here, English is not my first language.While Dramatica is a powerful tool for building a story, it is complex and sometimes overwhelming. Armando Salda&ntilde;a-Mora found a way to demystify Dramatica and give a lot of practical advices and principles for creating a story with Dramatica.\"Dramatica for Screenwriters\" is easy to understand, fun and thought-provoking. The only drawback is that this book is not useful if you do not know the Dramatica Theory or do not use Dramatica software. Now, if you\\\\\\'re a Dramatica user or if you plan to seriously evaluate the software, it is a must-have.\\\\n\\'', \"b'\\\\n'\", \"b'product/productId: 0918973031\\\\n'\", \"b'product/title: Dramatica for Screenwriters\\\\n'\", \"b'product/price: 17.95\\\\n'\", \"b'review/userId: A2JCSLVBZ1BZ46\\\\n'\", \"b'review/profileName: David I. Salter\\\\n'\", \"b'review/helpfulness: 8/10\\\\n'\", \"b'review/score: 2.0\\\\n'\", \"b'review/time: 1207353600\\\\n'\", \"b'review/summary: Thoroughly Confusing\\\\n'\", 'b\\'review/text: I purchased this book based on the other reviews claiming that it \"demystifies\" the Dramatica theory and software. Unfortunately, I found the opposite to be the case.I\\\\\\'ve made numerous attempts to get my head around the principles of the Dramatica theory, with the intention of finally being able to put to use the rather pricey Dramatica Pro software I bought years ago. Both the software itself, and the book of theory explaining it (\"Dramatica: A New Theory of Story\") are so riddled with specialized (and somewhat proprietary) jargon that I\\\\\\'ve long counted myself among the number of users for whom the effort to grasp the principles involved outweighed the potential benefits. (And BTW, I\\\\\\'m no newcomer to the basic premises of story structure; I\\\\\\'ve got an MFA from a respectable film school, and have worked for many years as a film editor.)I\\\\\\'d had high hopes for \"Dramatica For Screenwriters\", figuring it would serve as a practical layman\\\\\\'s guide to understanding and using the software. Unfortunately (there\\\\\\'s that word again), despite claims in the author\\\\\\'s introduction to the contrary, a few pages in the jargon begins coming at the reader hot and heavy, and unlike in \"Dramatica: A New Theory of Story\", which I already found to be too opaque, here much of the jargon is not even explained in a cursory manner. Reader familiarity is assumed, which would seem to defeat the purpose of the book in the first place. So the reader is left with a bit of a Catch-22: if you need the book, you probably won\\\\\\'t understand it, and if you can understand the book, you probably don\\\\\\'t need it.\\\\n\\'', \"b'\\\\n'\", \"b'product/productId: 0918973031\\\\n'\", \"b'product/title: Dramatica for Screenwriters\\\\n'\", \"b'product/price: 17.95\\\\n'\", \"b'review/userId: A1PYZR7NRX62CN\\\\n'\", \"b'review/profileName: Tim Rohde\\\\n'\", \"b'review/helpfulness: 1/1\\\\n'\", \"b'review/score: 5.0\\\\n'\", \"b'review/time: 1344211200\\\\n'\", \"b'review/summary: Practical Guide to a Complicated Process\\\\n'\", 'b\"review/text: Dramatica is a pain in the ass to learn. The main book is dense, repetitive, dilatory and slow. DRAMATICA FOR SCREENWRITERS is the opposite! The writing flows easily. It\\'s directs you to the easiest possible paths for getting started. It encourages you to take action and walks you through it. It provides good theoretical guidance without getting bogged down.This is the book that should come with the software for everyone, not just screenwriters. It gives anyone who reads it the ability to jump into A STORY and get it done. Once you\\'ve gotten A STORY done you can use Dramatica to alter it for it\\'s media (you may need the main book to get you there). You can also get more stories done with it. Dramatica is not intuitive software. You need to use it from a number of angles to get the hang of it. DRAMATICA FOR SCREENWRITERS gets you there. The main Dramatica book doesn\\'t. READ THIS BOOK FIRST.\\\\n\"', \"b'\\\\n'\", \"b'product/productId: 0918973031\\\\n'\", \"b'product/title: Dramatica for Screenwriters\\\\n'\", \"b'product/price: 17.95\\\\n'\", \"b'review/userId: A32ZQ5DEXBL60Z\\\\n'\", 'b\\'review/profileName: Jeffery Cotton \"Jeffery Cotton\"\\\\n\\'', \"b'review/helpfulness: 1/1\\\\n'\", \"b'review/score: 5.0\\\\n'\", \"b'review/time: 1297728000\\\\n'\", \"b'review/summary: Even as a fiction writer, I found this book invaluable\\\\n'\", 'b\\'review/text: I think the hardest thing for people coming to Dramatica the first time is understanding that the theory and software are not designed to write your story for you (or tell you what your story is about), but rather to tell you, based on the way you answer all the hundreds of questions, what the best storyform or context is from which to tell your story in the way you want.[...]I did the work to know the theory, but \"Dramatica for Screenwriters\" really helped me understand it. Even though I am a fiction writer and not a screenwriter, I found that most of this book applies to any kind of fictional world building. I highly recommend it.Don\\\\\\'t buy the book thinking it\\\\\\'s going to take the place of doing the work of getting to know the theory. It assumes prior knowledge.\\\\n\\'', \"b'\\\\n'\", \"b'product/productId: 0918973031\\\\n'\", \"b'product/title: Dramatica for Screenwriters\\\\n'\", \"b'product/price: 17.95\\\\n'\", \"b'review/userId: A2KSXSRTMD3ZJ4\\\\n'\", \"b'review/profileName: Alicia Butcher Ehrhardt\\\\n'\", \"b'review/helpfulness: 4/6\\\\n'\", \"b'review/score: 5.0\\\\n'\", \"b'review/time: 1143504000\\\\n'\", \"b'review/summary: Good structure makes good bones for story\\\\n'\", 'b\\'review/text: Beauty is in the bones. This book gives your story good bones, and you end up knowing why. It is a clear explanation of how to do the structure of a story so the end product is a top model. You have to supply the writing, a big commitment, but you won\\\\\\'t have the feeling when you\\\\\\'re done that something is incomplete or wrong - and all your work goes to something which misses the mark.We have all seen too many movies where the verdict is \"Interesting!\" To a writer, this is deadly. It means that all the work of director and actors and film crew, editors and producers, went for naught because the starting place, the script, had the final flaws buried in its pages. Use this book and your story will have a coherence and an internal logic that will be solid and subtle - and when you put on it the forensic anthopologist\\\\\\'s \\\\\\'layer of flesh,\\\\\\' what will stare back at you will be a thing of beauty.\\\\n\\'', \"b'\\\\n'\", \"b'product/productId: 0918973031\\\\n'\", \"b'product/title: Dramatica for Screenwriters\\\\n'\", \"b'product/price: 17.95\\\\n'\", \"b'review/userId: A9MBRG3MYS472\\\\n'\", \"b'review/profileName: joanne flowers\\\\n'\", \"b'review/helpfulness: 0/0\\\\n'\", \"b'review/score: 5.0\\\\n'\", \"b'review/time: 1360972800\\\\n'\", \"b'review/summary: LUV IT\\\\n'\", \"b'review/text: A really good book to go with the software an excellent guide I highly recommend . . . . .\\\\n'\", \"b'\\\\n'\", \"b'product/productId: 0918973031\\\\n'\", \"b'product/title: Dramatica for Screenwriters\\\\n'\", \"b'product/price: 17.95\\\\n'\", \"b'review/userId: A1X1CW1GXKC50V\\\\n'\", \"b'review/profileName: Thomas Eno\\\\n'\", \"b'review/helpfulness: 0/0\\\\n'\", \"b'review/score: 5.0\\\\n'\", \"b'review/time: 1359504000\\\\n'\", \"b'review/summary: Armando is Great\\\\n'\", \"b'review/text: This is the way to get a handle on the incredibly complex yet useful theory of Dramatica and its program. At one time I almost went crazy trying to figure out how to use it with my writing and finally gave up, until I found this book. Armando is a genius.\\\\n'\", \"b'\\\\n'\", \"b'product/productId: 0918973031\\\\n'\", \"b'product/title: Dramatica for Screenwriters\\\\n'\", \"b'product/price: 17.95\\\\n'\", \"b'review/userId: A1H4HMVBMQFUGR\\\\n'\", 'b\\'review/profileName: jaidi \"jaidi\"\\\\n\\'', \"b'review/helpfulness: 0/0\\\\n'\", \"b'review/score: 5.0\\\\n'\", \"b'review/time: 1323302400\\\\n'\", \"b'review/summary: Finally the investment pays off...!\\\\n'\", \"b'review/text: I am finding out that my 10 years old copy of Dramatica may be worth Something. I know about Armando from early adopters and listserve participants. I have poured over many times my dogeared notes of Instant dramatica before....Then I got distracted but knew this book was coming...That was 2005...but I am starting with this book now.I am at just part 3 of the book now and I am already feeling like a skilled storyteller.Thanks to Armando for sharing invaluable wealth of PRO information getting me back on the road....And restoring my belief in usefulness of Dramatica.....\\\\n'\", \"b'\\\\n'\", \"b'product/productId: 0918973031\\\\n'\", \"b'product/title: Dramatica for Screenwriters\\\\n'\", \"b'product/price: 17.95\\\\n'\", \"b'review/userId: A309DQ3THGNXD\\\\n'\", 'b\\'review/profileName: Stefan Mueller \"Werbe-Texter\"\\\\n\\'', \"b'review/helpfulness: 0/0\\\\n'\", \"b'review/score: 5.0\\\\n'\", \"b'review/time: 1300665600\\\\n'\", \"b'review/summary: Awesome - wanna use dramatica? You definitely need this book\\\\n'\", 'b\"review/text: It\\'s just awesome, even better than what you can read online about using dramatica of Armando. If you want to use Dramatica - and don\\'t want to get lost eventually - you really, really, really need this guide to get to some point you can call your plot really a plot. This book just makes you very, very happy. For it will boost your efforts to really WORK with dramatica. I only wish we had had that book ten years before. So I do highly recommend it. Even if you aren\\'t a native speaker like me, having german as my mother tongue. I would never have made it with the DRAMATICA SOFTWARE if I haven\\'t had this book. Believe me. It\\'s worth every Cent (I payed in Euro). Though I tried very hard for roundabout 2 years I was coming to fail with Dramatica 4.0. This book saved my ass. Let it save yours too. It\\'s making me happy. Thank you so much, Armando. Greetings from Germany, Cologne\\\\n\"', \"b'\\\\n'\", \"b'product/productId: 1858683092\\\\n'\", \"b'product/title: Mensa Number Puzzles (Mensa Word Games for Kids)\\\\n'\", \"b'product/price: unknown\\\\n'\", \"b'review/userId: A1AYN4J7T43M11\\\\n'\", 'b\\'review/profileName: \"dirtpile\"\\\\n\\'', \"b'review/helpfulness: 4/4\\\\n'\", \"b'review/score: 3.0\\\\n'\", \"b'review/time: 981417600\\\\n'\", \"b'review/summary: Made me wish I was Einstein.\\\\n'\", 'b\"review/text: Not much I can say about this book... It\\'s full of VVVery difficult number puzzles... at least for me. Okay, so I don\\'t get \\'A\\'s for my grades at school, but I think that even you might find it a little difficult. The way I see it, you will need lots of paper, patience and time, say 30 minutes or so to solve even the easiest of these.Why? Because basically, you are asked how many combinations can be formed from such and such. Example: How many ways get 31241 by adding prime numbers only? This is not really what the problems are like in the book, they are far more complicated than that.For me, it\\'s just too much. I can\\'t even do 1 single problem. I can\\'t even look up the answers because uses some sort of a legend that I can\\'t understand. But if you have an above average intelligence or are mathematically gifted, you will probably find some obscure short cut to the problem a la Gauss. For the rest, forget it.Word of warning: these are purely number problems. I can\\'t tell if logic will help or even plays a part in this book, but the problems are NUMBER problems.\\\\n\"', \"b'\\\\n'\", \"b'product/productId: 1858683092\\\\n'\", \"b'product/title: Mensa Number Puzzles (Mensa Word Games for Kids)\\\\n'\", \"b'product/price: unknown\\\\n'\", \"b'review/userId: unknown\\\\n'\", \"b'review/profileName: unknown\\\\n'\", \"b'review/helpfulness: 1/1\\\\n'\", \"b'review/score: 4.0\\\\n'\", \"b'review/time: 1015718400\\\\n'\", \"b'review/summary: Numbers Puzzles Galore\\\\n'\", \"b'review/text: This is a good book if you like numbers puzzles.It contains different types of puzzles such asgrids, sequences, logic and many others.They can be difficult at times; with a littlepatience, they can be solved.\\\\n'\", \"b'\\\\n'\", \"b'product/productId: 0792391810\\\\n'\", \"b'product/title: Vector Quantization and Signal Compression (The Springer International Series in Engineering and Computer Science)\\\\n'\", \"b'product/price: 76.94\\\\n'\", \"b'review/userId: A1CHPTJILEAL74\\\\n'\", \"b'review/profileName: Jean\\\\n'\", \"b'review/helpfulness: 5/5\\\\n'\", \"b'review/score: 5.0\\\\n'\", \"b'review/time: 949536000\\\\n'\", \"b'review/summary: The most complete book on vector quantization\\\\n'\", 'b\"review/text: An essential book for researchers and engineers working on vector quantization. It provides a (nearly) exhaustive description of the available VQ methods, with analyses and discussions. The book concentrates on VQ, so don\\'t buy it if you\\'re not interested in that only. Most math tools explained. Could be a little bit outdated on some aspects -&gt; things are moving fast in the field.\\\\n\"', \"b'\\\\n'\", \"b'product/productId: 0792391810\\\\n'\", \"b'product/title: Vector Quantization and Signal Compression (The Springer International Series in Engineering and Computer Science)\\\\n'\", \"b'product/price: 76.94\\\\n'\", \"b'review/userId: unknown\\\\n'\", \"b'review/profileName: unknown\\\\n'\", \"b'review/helpfulness: 0/0\\\\n'\", \"b'review/score: 5.0\\\\n'\", \"b'review/time: 934848000\\\\n'\", \"b'review/summary: This is a very good book for students and engineers.\\\\n'\", \"b'review/text: Many useful concepts of digital compression can be found in this book. It is easy to read and understand, especially for students and engineers in EE.\\\\n'\", \"b'\\\\n'\", \"b'product/productId: 0792391810\\\\n'\", \"b'product/title: Vector Quantization and Signal Compression (The Springer International Series in Engineering and Computer Science)\\\\n'\", \"b'product/price: 76.94\\\\n'\", \"b'review/userId: A30DX2BO4Y4NLU\\\\n'\", \"b'review/profileName: Moosh\\\\n'\", \"b'review/helpfulness: 3/5\\\\n'\", \"b'review/score: 3.0\\\\n'\", \"b'review/time: 1113609600\\\\n'\", \"b'review/summary: Comprehensive but marred by poor printing\\\\n'\", 'b\\'review/text: This book appears to be a \"print on demand\" style book which manifests itself, in this case, as a poor quality hardcover. Some of the text is laughably bad, the few images near the end look like they are snapshots from a black and white TV screen, but most bothersome is the \"muddy\" look of the text. The price seems a bit steep for such a poor quality print. That said, the actual content is very comprehensive. One of the authors (Gray) is co-creator of the now commonplace LBG (Linde Buzo Gray) VQ algorithm. Fortunately, the quality of the content shines through the terrible printing.\\\\n\\'', \"b'\\\\n'\", \"b'product/productId: 0792391810\\\\n'\", \"b'product/title: Vector Quantization and Signal Compression (The Springer International Series in Engineering and Computer Science)\\\\n'\", \"b'product/price: 76.94\\\\n'\", \"b'review/userId: A29Z0B2L367ZO\\\\n'\", 'b\\'review/profileName: David Jimenez \"DJ\"\\\\n\\'', \"b'review/helpfulness: 1/2\\\\n'\", \"b'review/score: 5.0\\\\n'\", \"b'review/time: 1227484800\\\\n'\", \"b'review/summary: Great reference book for its topic\\\\n'\", 'b\"review/text: It seems somebody was complaining for the printing quality. This is not a calculus book. If you take most theoretical books, and certainly most Springer\\'s book, they don\\'t have nice full color Barney images. This is technical (mostly theoretical) stuff. There is, in my opinion, no problem with the printing at all, clear, quality monochromatic printing.With respect to the contents of the book, it has almost everything you may want to know about Vector (and even Scalar) quantization and Signal compression. It was a great help while I was writing my doctoral thesis. Gray is probably one of the most respected authorities in the field.\\\\n\"', \"b'\\\\n'\", \"b'product/productId: 0792391810\\\\n'\", \"b'product/title: Vector Quantization and Signal Compression (The Springer International Series in Engineering and Computer Science)\\\\n'\", \"b'product/price: 76.94\\\\n'\", \"b'review/userId: unknown\\\\n'\", \"b'review/profileName: unknown\\\\n'\", \"b'review/helpfulness: 0/3\\\\n'\", \"b'review/score: 4.0\\\\n'\", \"b'review/time: 928195200\\\\n'\", \"b'review/summary: large volume,not enough proof, introductory, good organizati\\\\n'\", \"b'review/text: It seems that authors have pictures unrelated to content of the text repeatedly printed. It does not cover major topics, such as .gif/ graphic file compression. On the positive side it is well-written, organized, multiple equation in some chapters, descriptive in others. Very little mathematical proof.\\\\n'\", \"b'\\\\n'\", \"b'product/productId: B000879GGE\\\\n'\", \"b'product/title: A husband for Kutani\\\\n'\", \"b'product/price: unknown\\\\n'\", \"b'review/userId: A2HDZHLMT3L5IO\\\\n'\", 'b\\'review/profileName: Laurence Bush \"horror critic\"\\\\n\\'', \"b'review/helpfulness: 0/0\\\\n'\", \"b'review/score: 5.0\\\\n'\", \"b'review/time: 1141603200\\\\n'\", 'b\"review/summary: Unique Weird Orientalia from the 1930\\'s\\\\n\"', 'b\\'review/text: Exotic tales of the Orient from the 1930\\\\\\'s. \"Dr Shen Fu\", a Weird Tales magazine reprint, is about the elixir of life that grants immortality at a price. If you\\\\\\'re tired of modern authors who all sound alike, this is the antidote for you. Owen\\\\\\'s palette is loaded with splashes of Chinese and Japanese colours. Marvelous.\\\\n\\'', \"b'\\\\n'\", \"b'product/productId: 0908968000\\\\n'\", \"b'product/title: Gold and greenstone\\\\n'\", \"b'product/price: unknown\\\\n'\", \"b'review/userId: A3Q7EWPN8MK8MS\\\\n'\", \"b'review/profileName: Rob\\\\n'\", \"b'review/helpfulness: 0/2\\\\n'\", \"b'review/score: 5.0\\\\n'\", \"b'review/time: 948585600\\\\n'\", \"b'review/summary: &quot;Gold and Greenstone&quot; Barry Crump\\\\n'\", \"b'review/text: A great New Zealand book writen in the true Barry Crump way\\\\n'\", \"b'\\\\n'\", \"b'product/productId: 0974289108\\\\n'\", 'b\\'product/title: The Ultimate Guide to Law School Admission: Insider Secrets for Getting a \"Big Envelope\" with Your Acceptance to Law School!\\\\n\\'', \"b'product/price: 14.95\\\\n'\", \"b'review/userId: A1KZ0RDJZQSY4O\\\\n'\", \"b'review/profileName: sayock\\\\n'\", \"b'review/helpfulness: 27/29\\\\n'\", \"b'review/score: 3.0\\\\n'\", \"b'review/time: 1090368000\\\\n'\", \"b'review/summary: No &quot;Insider&quot; Secrets\\\\n'\", 'b\"review/text: If you are someone who is fairly new to the law school admissions process and haven\\'t done much research on what it takes to get into law school, this information might seem very helpful and insightful to you. However, as someone who has read several other books (Richard Montauk\\'s &quot;How To Get Into the Top Law Schools,&quot; Robert Miller\\'s &quot;Law School Confidential&quot; and more) and done the necessary research on the internet, this book brought very little new information to the table. Perhaps the most unique thing about this book is the &quot;15 essential factors&quot;...unfortunately, many of those 15 factors--though essential--are things the average person applying to law school--particularly top law schools--doesn\\'t care about and might cast aside even after reading this book.I do agree with her that many pre-law advisers are ill-prepared to advise pre-law students and don\\'t know nearly as much as they should. However, if the info in this book is the information she provided other pre-law advisers with, then it\\'s nothing that the advisers nor the students couldn\\'t have come up with themselves or elsewhere. I still say Montauk\\'s book is the best on law school admissions out there, regardless of what schools you\\'re interested in. HIS book is the one with all the insider secrets in it. Wright\\'s book is just a very broad overview of the admissions process, in my opinion.The one thing this book totally has in common with Montauk\\'s book that is very disappointing is that they do nothing to help minorities know what the admissons process will truly be like for them or how to handle it. For that, you have to look up books by Evangeline Mitchell. Most books have a tendency to treat everyone the same, as if all the information applies to them the same, and that is deceiving.In conclusion, if you feel pretty well-informed already about admissions or are looking for an extra bit of information that might give you that edge or illuminate your particular situation...this book is not the one for you. Only if you really know very little about law school admissions might this book be worth it...but I\\'d still say it\\'d be best to go with Montauk\\'s eye-opening admissions guide.\\\\n\"', \"b'\\\\n'\", \"b'product/productId: 0974289108\\\\n'\", 'b\\'product/title: The Ultimate Guide to Law School Admission: Insider Secrets for Getting a \"Big Envelope\" with Your Acceptance to Law School!\\\\n\\'', \"b'product/price: 14.95\\\\n'\", \"b'review/userId: A2Y6KQPZUZP1MM\\\\n'\", \"b'review/profileName: T.Bird\\\\n'\", \"b'review/helpfulness: 6/7\\\\n'\", \"b'review/score: 2.0\\\\n'\", \"b'review/time: 1121126400\\\\n'\", 'b\\'review/summary: Not an \"ultimate guide\"\\\\n\\'', \"b'review/text: Firstly,I enjoyed the format and tone of the book (how the author addressed the reader). However, I did not feel that she imparted any insider secrets that the book promised to reveal. If you are just starting to research law school, and do not know all the requirements of admission, then this book may be a tremendous help. If you have done your homework and are looking for an edge when it comes to admissions, I recommend some more topic-specific books. For example, books on how to write your personal statment, books geared specifically towards LSAT preparation (Powerscore books were the most helpful for me), and there are some websites with great advice geared towards aiding the individuals whom you are asking to write letters of recommendation. Yet, for those new to the entire affair, this book can definitely clarify the requirements for you.\\\\n'\", \"b'\\\\n'\", \"b'product/productId: 0974289108\\\\n'\", 'b\\'product/title: The Ultimate Guide to Law School Admission: Insider Secrets for Getting a \"Big Envelope\" with Your Acceptance to Law School!\\\\n\\'', \"b'product/price: 14.95\\\\n'\", \"b'review/userId: A79QZ7YQFIXG6\\\\n'\", \"b'review/profileName: Adam Glickman\\\\n'\", \"b'review/helpfulness: 5/6\\\\n'\", \"b'review/score: 5.0\\\\n'\", \"b'review/time: 1129075200\\\\n'\", \"b'review/summary: Everything my advisor SHOULD have told me!\\\\n'\", 'b\\'review/text: My advisor never asked any of the right questions or gave me the kind of information that would have helped me with my plan to study law. While looking for books on the LSAT I found this book and it really helped. It told me everything that the best advisor would have told me. It really helped me evaluate how I felt about law school and how to properly prepare myself. The last time I went back to my advisor he was shocked at how much I knew. I feel really good about my applications and think I have a really good chance of getting a \"big envelope\".\\\\n\\'', \"b'\\\\n'\", \"b'product/productId: 0974289108\\\\n'\", 'b\\'product/title: The Ultimate Guide to Law School Admission: Insider Secrets for Getting a \"Big Envelope\" with Your Acceptance to Law School!\\\\n\\'', \"b'product/price: 14.95\\\\n'\", \"b'review/userId: unknown\\\\n'\", \"b'review/profileName: unknown\\\\n'\", \"b'review/helpfulness: 9/12\\\\n'\", \"b'review/score: 5.0\\\\n'\", \"b'review/time: 1066176000\\\\n'\", \"b'review/summary: Exactly what I needed.\\\\n'\", 'b\"review/text: This book answered all my questions about getting into law school in a plain and straightforward way. It was easy to read, and clear in its explanations. It even answered many questions I hadn\\'t even thought to ask. The stories that are included in its &quot;Tales From the Trenches&quot; are really interesting, sometimes funny, and really help you to know how to avoid mistakes you might otherwise make. It\\'s much more help than any other source I have found. The only thing it doesn\\'t do is have a full LSAT prep course, but it does give you examples of the questions, and tells you how you can structure your own preparation program. Buying this book actually saved me money by helping me choose only to the right law schools for me, and by giving me a way to evaluate LSAT courses.(It turns out that a lot of expensive courses are not as good as you might think!) The appendix alone is worth the cost of the book. It has information on all the law schools sorted by the &quot;15 Essential Factors&quot; for picking law schools as they are outlined in the book. It makes it easier to sort through all the schools to find the right ones to apply to. This book really gave me confidence that I will get into law school. I can\\'t wait to get my &quot;big envelopes&quot;!\\\\n\"', \"b'\\\\n'\", \"b'product/productId: 0974289108\\\\n'\", 'b\\'product/title: The Ultimate Guide to Law School Admission: Insider Secrets for Getting a \"Big Envelope\" with Your Acceptance to Law School!\\\\n\\'', \"b'product/price: 14.95\\\\n'\", \"b'review/userId: A142FRLMOAOLC7\\\\n'\", \"b'review/profileName: JudgeJoe\\\\n'\", \"b'review/helpfulness: 0/0\\\\n'\", \"b'review/score: 4.0\\\\n'\", \"b'review/time: 1356998400\\\\n'\", \"b'review/summary: It works\\\\n'\", \"b'review/text: What can I say? It works. This helped me when applying to law schools. A great guide to utilize. Cutting a great score on the LSAT is just part of the equation to get into law school.\\\\n'\", \"b'\\\\n'\", \"b'product/productId: 0974289108\\\\n'\", 'b\\'product/title: The Ultimate Guide to Law School Admission: Insider Secrets for Getting a \"Big Envelope\" with Your Acceptance to Law School!\\\\n\\'', \"b'product/price: 14.95\\\\n'\", \"b'review/userId: A3AJA5ADM3Q8LM\\\\n'\", \"b'review/profileName: stargazer\\\\n'\", \"b'review/helpfulness: 7/12\\\\n'\", \"b'review/score: 5.0\\\\n'\", \"b'review/time: 1090886400\\\\n'\", \"b'review/summary: THIS BOOK SAVED ME OVER $100,000.00!!!\\\\n'\", 'b\"review/text: Boy am I lucky to have found The Ultimate Guide to Law School Admission. I picked it up because a friend recommended it to me as being the best book for the law school application process, and was she right! When I got the book I skipped right to the chapters on the admission process and found the whole thing very informative and encouraging. It let me know that even though I\\'m not the best student, there are plenty of schools that I would definitly get in to, and it told me how to make my application the best it could possibly be. I am sure that I would have gotten into at least a couple of the schools I had picked to apply to. However, lucky for me, before I sent in my applications I decided to read the book again. This time I started with the first chapter &quot;Should I go to law school.&quot; Guess what? Being a lawyer isn\\'t what I thought it was! I mean, this book told me things about what lawyers personal lives are like, and what their average work day is like... stuff that I had never gotten anywhere else! This chapter convinced me that I would not be happy being a lawyer! Not only did this chapter save me from the expensive application fees... it saved me from spending the next three years wasting my time, and tuition money, pursuing a degree that would have put me in a job that apparently isn\\'t right for me at all! Thank you Mrs. Wright, you saved me $100,000.00! I definitly recommend that EVERYONE read this chapter first! Don\\'t go to law school without it!!!\\\\n\"', \"b'\\\\n'\", \"b'product/productId: 0974289108\\\\n'\", 'b\\'product/title: The Ultimate Guide to Law School Admission: Insider Secrets for Getting a \"Big Envelope\" with Your Acceptance to Law School!\\\\n\\'', \"b'product/price: 14.95\\\\n'\", \"b'review/userId: A22WHL8P1DONEK\\\\n'\", \"b'review/profileName: Carlo A. Taboada Jr.\\\\n'\", \"b'review/helpfulness: 0/1\\\\n'\", \"b'review/score: 1.0\\\\n'\", \"b'review/time: 1214265600\\\\n'\", 'b\"review/summary: Nothing you don\\'t already know\\\\n\"', \"b'review/text: If you have even casually looked into applying to law school, have already read everything there is in this book, do not waste your money, seriously!!\\\\n'\", \"b'\\\\n'\", \"b'product/productId: 0809080699\\\\n'\", 'b\"product/title: The Repeal of Reticence: A History of America\\'s Cultural and Legal Struggles over Free Speech, Obscenity, Sexual Liberation, and Modern Art\\\\n\"', \"b'product/price: unknown\\\\n'\", \"b'review/userId: A18YY5TBNSDW3O\\\\n'\", \"b'review/profileName: Bartleby\\\\n'\", \"b'review/helpfulness: 29/29\\\\n'\", \"b'review/score: 5.0\\\\n'\", \"b'review/time: 899164800\\\\n'\", \"b'review/summary: Great treatment of the defeat of reticence by exposure\\\\n'\", 'b\"review/text: Using a quiet, restrained writing style that is a pure pleasure to read, Gurstein chronicles the one-sided battle between the party of exposure and the party of reticence. She is on the side of reticence and writes with the pained nostalgia of a Southerner describing aspects of the War Between the States. Guerstein knows that reticence is a lost cause; she asks only whether it should be.Gurstein makes a quiet case for the reintroduction of taste, judgement, and sensibility into our public lives. This is a common theme these days. What is uncommon is that she derives her &quot;argument&quot; (always presented with the greatest of civility) from the distortion of privacy that somehow led from Brandeis\\'s great legal work on privacy to the transformation of social man to private men and women and eventually to the public dissemination of all sorts of private matters. This is innovative and intriguing.Reticence should emerge from the coordinated behavior of civilized persons; it should not be coerced by legislation and litigation. It is thus especially appropriate that Gurstein never hectors or lectures. Instead, she paints such a delightful alternative portrait of life, far from morning talk radio, nightly real tv, and ever-present commercial messages in nearly all media, that she inspires the reader to aspire toward at least some aspects of reticence.I felt that Gurstein did not define reticence early enough and failed to take advantage of the opportunities to add more detail as the book progressed. I assume that the party of reticence acquired useful knowledge over time, such as after its (happily) failed efforts to prosecute the publisher of Joyce\\'s Ulysses. But these reservations are minor.My most serious concern is whether the domestic party of reticence has foreign (and sometimes not-so-foreign) counterparts in governments that have successfully enforced taste through stern rule of law. I would have appreciated a treatment of these cultural (or anti-cultural) forces. Althoug! h very difficult, such an effort would have greatly sharpened my understanding of the tenets of the party of reticence and its role in our society. Gurstein surely knows that the mere existence of such potential counterparts to her domestic party of reticence may chill further inquiry; after all, she records numerous instances in which the party of exposure has dangled straw men for talismanic protection from true debate. It would be very useful if Gurstein, accounting for the human rights of those oppressed by governmental regimes, could make a better case for the human rights of those increasingly oppressed by the party of exposure, whose methodology of oppression is vastly different. The incremental personal losses to the party of exposure do not lend themselves to the same degree of drama, but possibly, over a sufficiently long period of time, they can present, cumulatively, a meaningful loss of freedom.Henry James wrote that the words, &quot;summer afternoon&quot; were the most pleasant in the English language. Take a summer afternoon (or two) to read this euphonious essay for a refreshing breather from the cacophony of Howard Stern, Don Imus, and their local knock-offs; follow-up news stories on Viagra; Judge Judy; infomercials; network news; and the culture of money, sex, power, and fame hustled by the print and electronic media.\\\\n\"', \"b'\\\\n'\", \"b'product/productId: 0809080699\\\\n'\", 'b\"product/title: The Repeal of Reticence: A History of America\\'s Cultural and Legal Struggles over Free Speech, Obscenity, Sexual Liberation, and Modern Art\\\\n\"', \"b'product/price: unknown\\\\n'\", \"b'review/userId: A29LG535LJRITI\\\\n'\", \"b'review/profileName: Edward J. Uecker\\\\n'\", \"b'review/helpfulness: 0/0\\\\n'\", \"b'review/score: 5.0\\\\n'\", \"b'review/time: 1357776000\\\\n'\", \"b'review/summary: Rochelle explains It All for You\\\\n'\", 'b\"review/text: Wondering what the hell has happened to the moral aspect of modern American culture ? This book is a lucid, well argued explanation of the simple fact that we have become so totally focused on our individual RIGHTS that we have completely ignored, and even mocked, our personal and public responsibilities. The final response and indictment of Robert Ringer\\'s best seller, LOOKING OUT FOR #1. This is a great time for anyone who is disgusted with the boorish state of American media, politics and discourse in general, to clear their heads for the substantial challenges that lie before us not only as Americans, but as human beings. A great book\\\\n\"', \"b'\\\\n'\", \"b'product/productId: 0553763121\\\\n'\", 'b\"product/title: Overcoming Hypertension (Dr. Kenneth H. Cooper\\'s Preventive Medicine Program)\\\\n\"', \"b'product/price: 23.00\\\\n'\", \"b'review/userId: A3TQFPF0QGVSJV\\\\n'\", 'b\\'review/profileName: Woody \"Woody\"\\\\n\\'', \"b'review/helpfulness: 2/2\\\\n'\", \"b'review/score: 5.0\\\\n'\", \"b'review/time: 1352073600\\\\n'\", \"b'review/summary: A must read for anyone with blood pressure issues\\\\n'\", 'b\\'review/text: Books by Dr Kenneth Cooper have been a tremendous source of guidance for me for over 30 years.When I first started being affected by the stress side effects of working too hard and too long in the 70\\\\\\'s I started exercising. At the time jogging/running was becoming quite popular, so I took that up. I like to read so I read the Jim Fixx book on running which led me to Dr Cooper\\\\\\'s book \"Aerobics\" (a term he coined), then to \"Aerobics Program for total Well Being...\", which became sort of a bible for a long time. After retirement I quit smoking and started going to a doctor. Found to be out of shape - again - I looked up Dr Cooper and saw his book \"Start Strong, Finish Strong\" which I absorbed like a sponge dropped in a bucket of water. Joined a gym and started the prescription of 55% aerobics, 45% strength and have never felt better. Now I\\\\\\'ve got one doctor trying to tie me down to hypertension drugs. That diagnosis was contrary to my own readings, so I\\\\\\'m in the middle of a complete cardio workup. (The initial stress test results were great, waiting for the in depth analysis.) When I saw this book it was a gotta have.In this book Dr. Cooper very thoughtfully presents all factors in a very helpful manner with a goal of controlling blood pressure without medications, but points out factors that could make them necessary. After my first reading I feel like I can more intelligently discuss the stress test results with my cardiologist, then better deal with my general physician.I would hardily, strongly recommend this book for any person who has had a too high blood pressure reading.\\\\n\\'']\n"
     ]
    }
   ],
   "source": [
    "import gzip\n",
    "with gzip.open(\"C:/Users/Sai/Downloads/Books.txt.gz\",\"rb\") as f :\n",
    "    data = [str(next(f)) for x in range(1000)]\n",
    "print(data)"
=======
   "execution_count": 1,
=======
   "execution_count": 7,
   "metadata": {},
   "outputs": [],
   "source": [
    "import gzip\n",
    "import simplejson\n",
    "\n",
    "data = []\n",
    "def parse(filename):\n",
    "  f = gzip.open(filename, 'r')\n",
    "  entry = {}\n",
    "  for l in f:\n",
    "    l = l.strip()\n",
    "    colonPos = l.find(':')\n",
    "    if colonPos == -1:\n",
    "      yield entry\n",
    "      entry = {}\n",
    "      continue\n",
    "    eName = l[:colonPos]\n",
    "    rest = l[colonPos+2:]\n",
    "    entry[eName] = rest\n",
    "  yield entry\n",
    "\n",
    "f = open(\"output.json\", 'w')\n",
    "for e in parse(\"/Users/ravitejachikkam/Electronics.txt.gz\"):\n",
    "  f.write(simplejson.dumps(e) + '\\n')"
   ]
  },
  {
   "cell_type": "code",
   "execution_count": 2,
>>>>>>> 7d1eca13aa1ad664c10476486f10e11364130788
   "metadata": {
    "collapsed": true,
    "scrolled": false
   },
   "outputs": [],
   "source": [
    "import gzip\n",
    "with gzip.open(\"/Users/ravitejachikkam/Electronics.txt.gz\", \"r\") as f:\n",
    "    data = [str(next(f)) for x in range(500000)]\n",
    "#print(data)"
>>>>>>> 235e01ca51b0cae94945786308413b56515ef0a2
   ]
  },
  {
   "cell_type": "code",
<<<<<<< HEAD
<<<<<<< HEAD
   "execution_count": 18,
   "metadata": {},
=======
   "execution_count": 2,
   "metadata": {
    "collapsed": false
   },
>>>>>>> 235e01ca51b0cae94945786308413b56515ef0a2
=======
   "execution_count": 3,
   "metadata": {},
>>>>>>> 7d1eca13aa1ad664c10476486f10e11364130788
   "outputs": [
    {
     "data": {
      "text/plain": [
       "2"
      ]
     },
<<<<<<< HEAD
<<<<<<< HEAD
     "execution_count": 18,
=======
     "execution_count": 2,
>>>>>>> 235e01ca51b0cae94945786308413b56515ef0a2
=======
     "execution_count": 3,
>>>>>>> 7d1eca13aa1ad664c10476486f10e11364130788
     "metadata": {},
     "output_type": "execute_result"
    }
   ],
   "source": [
    "len(data)\n",
    "#type(data)"
   ]
  },
  {
   "cell_type": "code",
<<<<<<< HEAD
<<<<<<< HEAD
   "execution_count": 19,
   "metadata": {},
=======
   "execution_count": 3,
   "metadata": {
    "collapsed": false
   },
>>>>>>> 235e01ca51b0cae94945786308413b56515ef0a2
=======
   "execution_count": 5,
   "metadata": {},
>>>>>>> 7d1eca13aa1ad664c10476486f10e11364130788
   "outputs": [
    {
     "data": {
      "text/plain": [
       "'{}'"
      ]
     },
<<<<<<< HEAD
<<<<<<< HEAD
     "execution_count": 19,
=======
     "execution_count": 3,
>>>>>>> 235e01ca51b0cae94945786308413b56515ef0a2
=======
     "execution_count": 5,
>>>>>>> 7d1eca13aa1ad664c10476486f10e11364130788
     "metadata": {},
     "output_type": "execute_result"
    }
   ],
   "source": [
    "data"
   ]
  },
  {
   "cell_type": "raw",
   "metadata": {},
   "source": [
    "Data Format:\n",
    "product/productId: B00006HAXW\n",
    "product/title: Rock Rhythm & Doo Wop: Greatest Early Rock\n",
    "product/price: unknown\n",
    "review/userId: A1RSDE90N6RSZF\n",
    "review/profileName: Joseph M. Kotow\n",
    "review/helpfulness: 9/9\n",
    "review/score: 5.0\n",
    "review/time: 1042502400\n",
    "review/summary: Pittsburgh - Home of the OLDIES\n",
    "review/text: I have all of the doo wop DVD's and this one is as good or better than the\n",
    "1st ones. Remember once these performers are gone, we'll never get to see them again.\n",
    "Rhino did an excellent job and if you like or love doo wop and Rock n Roll you'll LOVE\n",
    "this DVD !!"
   ]
  },
  {
   "cell_type": "code",
   "execution_count": 21,
   "metadata": {},
   "outputs": [
    {
     "data": {
      "text/plain": [
       "['product/productId: 1882931173\\n',\n",
       " 'product/title: Its Only Art If Its Well Hung!\\n',\n",
       " 'product/price: unknown\\n',\n",
       " 'review/userId: AVCGYZL8FQQTD\\n',\n",
       " 'review/profileName: Jim of Oz \"jim-of-oz\"\\n',\n",
       " 'review/helpfulness: 7/7\\n',\n",
       " 'review/score: 4.0\\n',\n",
       " 'review/time: 940636800\\n',\n",
       " 'review/summary: Nice collection of Julie Strain images\\n',\n",
       " \"review/text: This is only for Julie Strain fans. It's a collection of her photos -- about 80 pages worth with a nice section of paintings by Olivia.If you're looking for heavy literary content, this isn't the place to find it -- there's only about 2 pages with text and everything else is photos.Bottom line: if you only want one book, the Six Foot One ... is probably a better choice, however, if you like Julie like I like Julie, you won't go wrong on this one either.\\n\",\n",
       " '\\n',\n",
       " 'product/productId: 0826414346\\n',\n",
       " 'product/title: Dr. Seuss: American Icon\\n',\n",
       " 'product/price: unknown\\n',\n",
       " 'review/userId: A30TK6U7DNS82R\\n',\n",
       " 'review/profileName: Kevin Killian\\n',\n",
       " 'review/helpfulness: 10/10\\n',\n",
       " 'review/score: 5.0\\n',\n",
       " 'review/time: 1095724800\\n',\n",
       " 'review/summary: Really Enjoyed It\\n',\n",
       " \"review/text: I don't care much for Dr. Seuss but after reading Philip Nel's book I changed my mind--that's a good testimonial to the power of Rel's writing and thinking. Rel plays Dr. Seuss the ultimate compliment of treating him as a serious poet as well as one of the 20th century's most interesting visual artists, and after reading his book I decided that a trip to the Mandeville Collections of the library at University of California in San Diego was in order, so I could visit some of the incredible Seuss/Geisel holdings they have there.There's almost too much to take in, for, like William Butler Yeats, Seuss led a career that constantly shifted and metamoprhized itself to meet new historical and political cirsumstances, so he seems to have been both a leftist and a conservative at different junctures of his career, both in politics and in art. As Nel shows us, he was once a cartoonist for the fabled PM magazine and, like Andy Warhol, he served his time slaving in the ad business too. All was in the service of amusing and broadening the minds of US children. Nel doesn't hesitate to administer a sound spanking to the Seuss industry that, since his death, has seen fit to license all kinds of awful products including the recent CAT IN THE HAT film with Mike Myers. Oh, what a cat-astrophe!The book is great and I can especially recommend the work of the picture editor who has given us a bounty of good illustrations.\\n\"]"
      ]
     },
     "execution_count": 21,
     "metadata": {},
     "output_type": "execute_result"
    }
   ],
   "source": [
    "# removing b' from the data\n",
    "data = [x.replace(\"b'\", \"\").replace(\"\\\\n\", \"\") for x in data]\n",
    "data[:21]"
   ]
  },
  {
   "cell_type": "code",
   "execution_count": 22,
   "metadata": {
    "collapsed": true
   },
   "outputs": [],
   "source": [
    "# split the data to create key value pairs\n",
    "\n",
    "data_list = []\n",
    "data_dict = {}\n",
    "i = 0\n",
    "for lines in data:\n",
    "    if i!=3:\n",
    "        if (\"productId\" in lines) or (\"userId\" in lines) or (\"score:\" in lines):\n",
    "            temp_str = lines.split(\":\")\n",
    "            temp_str[1] = temp_str[1].strip(\" \").strip(\"\\'\")\n",
    "            data_dict[temp_str[0]] = temp_str[1]\n",
    "            i = i+1\n",
    "    else:\n",
    "        i = 0\n",
    "        data_list.append(data_dict)\n",
    "        data_dict = {}\n",
    "\n"
   ]
  },
  {
   "cell_type": "code",
   "execution_count": 23,
   "metadata": {},
   "outputs": [
    {
     "data": {
      "text/plain": [
       "[{'product/productId': '1882931173\\n',\n",
       "  'review/score': '4.0\\n',\n",
       "  'review/userId': 'AVCGYZL8FQQTD\\n'},\n",
       " {'product/productId': '0826414346\\n',\n",
       "  'review/score': '5.0\\n',\n",
       "  'review/userId': 'A30TK6U7DNS82R\\n'},\n",
       " {'product/productId': '0826414346\\n',\n",
       "  'review/score': '5.0\\n',\n",
       "  'review/userId': 'A3UH4UZ4RSVO82\\n'},\n",
       " {'product/productId': '0826414346\\n',\n",
       "  'review/score': '4.0\\n',\n",
       "  'review/userId': 'A2MVUWT453QH61\\n'},\n",
       " {'product/productId': '0826414346\\n',\n",
       "  'review/score': '4.0\\n',\n",
       "  'review/userId': 'A22X4XUPKF66MR\\n'},\n",
       " {'product/productId': '0826414346\\n',\n",
       "  'review/score': '4.0\\n',\n",
       "  'review/userId': 'A2F6NONFUDB6UK\\n'},\n",
       " {'product/productId': '0826414346\\n',\n",
       "  'review/score': '5.0\\n',\n",
       "  'review/userId': 'A14OJS0VWMOSWO\\n'},\n",
       " {'product/productId': '0826414346\\n',\n",
       "  'review/score': '5.0\\n',\n",
       "  'review/userId': 'A2RSSXTDZDUSH4\\n'},\n",
       " {'product/productId': '0826414346\\n',\n",
       "  'review/score': '5.0\\n',\n",
       "  'review/userId': 'A25MD5I2GUIW6W\\n'},\n",
       " {'product/productId': '0826414346\\n',\n",
       "  'review/score': '4.0\\n',\n",
       "  'review/userId': 'A3VA4XFS5WNJO3\\n'}]"
      ]
     },
     "execution_count": 23,
     "metadata": {},
     "output_type": "execute_result"
    }
   ],
   "source": [
    "len(data_list)\n",
    "data_list[:10]"
   ]
  },
  {
   "cell_type": "code",
   "execution_count": 24,
   "metadata": {
    "collapsed": true
   },
   "outputs": [],
   "source": [
    "# importing pandas and converting this to a data_frame\n",
    "import pandas as pd\n",
    "from pandas.io.json import json_normalize"
   ]
  },
  {
   "cell_type": "code",
   "execution_count": 25,
   "metadata": {
    "collapsed": true
   },
   "outputs": [],
   "source": [
    "data_df = pd.DataFrame(json_normalize(data_list))"
   ]
  },
  {
   "cell_type": "code",
   "execution_count": 27,
   "metadata": {},
   "outputs": [
    {
     "data": {
      "text/html": [
       "<div>\n",
       "<table border=\"1\" class=\"dataframe\">\n",
       "  <thead>\n",
       "    <tr style=\"text-align: right;\">\n",
       "      <th></th>\n",
       "      <th>product/productId</th>\n",
       "      <th>review/score</th>\n",
       "      <th>review/text</th>\n",
       "      <th>review/userId</th>\n",
       "    </tr>\n",
       "  </thead>\n",
       "  <tbody>\n",
       "    <tr>\n",
       "      <th>0</th>\n",
       "      <td>1882931173\\n</td>\n",
       "      <td>4.0\\n</td>\n",
       "      <td>NaN</td>\n",
       "      <td>AVCGYZL8FQQTD\\n</td>\n",
       "    </tr>\n",
       "    <tr>\n",
       "      <th>1</th>\n",
       "      <td>0826414346\\n</td>\n",
       "      <td>5.0\\n</td>\n",
       "      <td>NaN</td>\n",
       "      <td>A30TK6U7DNS82R\\n</td>\n",
       "    </tr>\n",
       "    <tr>\n",
       "      <th>2</th>\n",
       "      <td>0826414346\\n</td>\n",
       "      <td>5.0\\n</td>\n",
       "      <td>NaN</td>\n",
       "      <td>A3UH4UZ4RSVO82\\n</td>\n",
       "    </tr>\n",
       "    <tr>\n",
       "      <th>3</th>\n",
       "      <td>0826414346\\n</td>\n",
       "      <td>4.0\\n</td>\n",
       "      <td>NaN</td>\n",
       "      <td>A2MVUWT453QH61\\n</td>\n",
       "    </tr>\n",
       "    <tr>\n",
       "      <th>4</th>\n",
       "      <td>0826414346\\n</td>\n",
       "      <td>4.0\\n</td>\n",
       "      <td>NaN</td>\n",
       "      <td>A22X4XUPKF66MR\\n</td>\n",
       "    </tr>\n",
       "    <tr>\n",
       "      <th>5</th>\n",
       "      <td>0826414346\\n</td>\n",
       "      <td>4.0\\n</td>\n",
       "      <td>NaN</td>\n",
       "      <td>A2F6NONFUDB6UK\\n</td>\n",
       "    </tr>\n",
       "    <tr>\n",
       "      <th>6</th>\n",
       "      <td>0826414346\\n</td>\n",
       "      <td>5.0\\n</td>\n",
       "      <td>NaN</td>\n",
       "      <td>A14OJS0VWMOSWO\\n</td>\n",
       "    </tr>\n",
       "    <tr>\n",
       "      <th>7</th>\n",
       "      <td>0826414346\\n</td>\n",
       "      <td>5.0\\n</td>\n",
       "      <td>NaN</td>\n",
       "      <td>A2RSSXTDZDUSH4\\n</td>\n",
       "    </tr>\n",
       "    <tr>\n",
       "      <th>8</th>\n",
       "      <td>0826414346\\n</td>\n",
       "      <td>5.0\\n</td>\n",
       "      <td>NaN</td>\n",
       "      <td>A25MD5I2GUIW6W\\n</td>\n",
       "    </tr>\n",
       "    <tr>\n",
       "      <th>9</th>\n",
       "      <td>0826414346\\n</td>\n",
       "      <td>4.0\\n</td>\n",
       "      <td>NaN</td>\n",
       "      <td>A3VA4XFS5WNJO3\\n</td>\n",
       "    </tr>\n",
       "  </tbody>\n",
       "</table>\n",
       "</div>"
      ],
      "text/plain": [
       "  product/productId review/score review/text     review/userId\n",
       "0      1882931173\\n        4.0\\n         NaN   AVCGYZL8FQQTD\\n\n",
       "1      0826414346\\n        5.0\\n         NaN  A30TK6U7DNS82R\\n\n",
       "2      0826414346\\n        5.0\\n         NaN  A3UH4UZ4RSVO82\\n\n",
       "3      0826414346\\n        4.0\\n         NaN  A2MVUWT453QH61\\n\n",
       "4      0826414346\\n        4.0\\n         NaN  A22X4XUPKF66MR\\n\n",
       "5      0826414346\\n        4.0\\n         NaN  A2F6NONFUDB6UK\\n\n",
       "6      0826414346\\n        5.0\\n         NaN  A14OJS0VWMOSWO\\n\n",
       "7      0826414346\\n        5.0\\n         NaN  A2RSSXTDZDUSH4\\n\n",
       "8      0826414346\\n        5.0\\n         NaN  A25MD5I2GUIW6W\\n\n",
       "9      0826414346\\n        4.0\\n         NaN  A3VA4XFS5WNJO3\\n"
      ]
     },
     "execution_count": 27,
     "metadata": {},
     "output_type": "execute_result"
    }
   ],
   "source": [
    "data_df.head(10)"
   ]
  },
  {
   "cell_type": "code",
   "execution_count": 29,
   "metadata": {
    "collapsed": true
   },
   "outputs": [],
   "source": [
    "data_df.columns = [\"ProductID\", \"Review\",\"Review/Text\",\"UserID\"]\n",
    "data_df[\"Review\"] = data_df[\"Review\"].astype('float64')\n",
    "data_df.head(10)\n",
    "data_df = data_df.drop([\"Review/Text\"], axis = 1)"
   ]
  },
  {
   "cell_type": "code",
   "execution_count": 30,
   "metadata": {},
   "outputs": [
    {
     "data": {
      "text/html": [
       "<div>\n",
       "<table border=\"1\" class=\"dataframe\">\n",
       "  <thead>\n",
       "    <tr style=\"text-align: right;\">\n",
       "      <th></th>\n",
       "      <th>ProductID</th>\n",
       "      <th>Review</th>\n",
       "      <th>UserID</th>\n",
       "    </tr>\n",
       "  </thead>\n",
       "  <tbody>\n",
       "    <tr>\n",
       "      <th>0</th>\n",
       "      <td>1882931173\\n</td>\n",
       "      <td>4.0</td>\n",
       "      <td>AVCGYZL8FQQTD\\n</td>\n",
       "    </tr>\n",
       "    <tr>\n",
       "      <th>1</th>\n",
       "      <td>0826414346\\n</td>\n",
       "      <td>5.0</td>\n",
       "      <td>A30TK6U7DNS82R\\n</td>\n",
       "    </tr>\n",
       "    <tr>\n",
       "      <th>2</th>\n",
       "      <td>0826414346\\n</td>\n",
       "      <td>5.0</td>\n",
       "      <td>A3UH4UZ4RSVO82\\n</td>\n",
       "    </tr>\n",
       "    <tr>\n",
       "      <th>3</th>\n",
       "      <td>0826414346\\n</td>\n",
       "      <td>4.0</td>\n",
       "      <td>A2MVUWT453QH61\\n</td>\n",
       "    </tr>\n",
       "    <tr>\n",
       "      <th>4</th>\n",
       "      <td>0826414346\\n</td>\n",
       "      <td>4.0</td>\n",
       "      <td>A22X4XUPKF66MR\\n</td>\n",
       "    </tr>\n",
       "    <tr>\n",
       "      <th>5</th>\n",
       "      <td>0826414346\\n</td>\n",
       "      <td>4.0</td>\n",
       "      <td>A2F6NONFUDB6UK\\n</td>\n",
       "    </tr>\n",
       "    <tr>\n",
       "      <th>6</th>\n",
       "      <td>0826414346\\n</td>\n",
       "      <td>5.0</td>\n",
       "      <td>A14OJS0VWMOSWO\\n</td>\n",
       "    </tr>\n",
       "    <tr>\n",
       "      <th>7</th>\n",
       "      <td>0826414346\\n</td>\n",
       "      <td>5.0</td>\n",
       "      <td>A2RSSXTDZDUSH4\\n</td>\n",
       "    </tr>\n",
       "    <tr>\n",
       "      <th>8</th>\n",
       "      <td>0826414346\\n</td>\n",
       "      <td>5.0</td>\n",
       "      <td>A25MD5I2GUIW6W\\n</td>\n",
       "    </tr>\n",
       "    <tr>\n",
       "      <th>9</th>\n",
       "      <td>0826414346\\n</td>\n",
       "      <td>4.0</td>\n",
       "      <td>A3VA4XFS5WNJO3\\n</td>\n",
       "    </tr>\n",
       "    <tr>\n",
       "      <th>10</th>\n",
       "      <td>0829814000\\n</td>\n",
       "      <td>5.0</td>\n",
       "      <td>AZ0IOBU20TBOP\\n</td>\n",
       "    </tr>\n",
       "    <tr>\n",
       "      <th>11</th>\n",
       "      <td>0829814000\\n</td>\n",
       "      <td>5.0</td>\n",
       "      <td>A373VVEU6Z9M0N\\n</td>\n",
       "    </tr>\n",
       "    <tr>\n",
       "      <th>12</th>\n",
       "      <td>0829814000\\n</td>\n",
       "      <td>5.0</td>\n",
       "      <td>AGKGOH65VTRR4\\n</td>\n",
       "    </tr>\n",
       "    <tr>\n",
       "      <th>13</th>\n",
       "      <td>0829814000\\n</td>\n",
       "      <td>5.0</td>\n",
       "      <td>A3OQWLU31BU1Y\\n</td>\n",
       "    </tr>\n",
       "    <tr>\n",
       "      <th>14</th>\n",
       "      <td>0595344550\\n</td>\n",
       "      <td>1.0</td>\n",
       "      <td>A3Q12RK71N74LB\\n</td>\n",
       "    </tr>\n",
       "    <tr>\n",
       "      <th>15</th>\n",
       "      <td>0595344550\\n</td>\n",
       "      <td>4.0</td>\n",
       "      <td>A1E9M6APK30ZAU\\n</td>\n",
       "    </tr>\n",
       "    <tr>\n",
       "      <th>16</th>\n",
       "      <td>0595344550\\n</td>\n",
       "      <td>1.0</td>\n",
       "      <td>AUR0VA5H0C66C\\n</td>\n",
       "    </tr>\n",
       "    <tr>\n",
       "      <th>17</th>\n",
       "      <td>0595344550\\n</td>\n",
       "      <td>5.0</td>\n",
       "      <td>A1YLDZ3VHR6QPZ\\n</td>\n",
       "    </tr>\n",
       "    <tr>\n",
       "      <th>18</th>\n",
       "      <td>0595344550\\n</td>\n",
       "      <td>5.0</td>\n",
       "      <td>ACO23CG8K8T77\\n</td>\n",
       "    </tr>\n",
       "    <tr>\n",
       "      <th>19</th>\n",
       "      <td>0595344550\\n</td>\n",
       "      <td>5.0</td>\n",
       "      <td>A1VK81CRRC7MLM\\n</td>\n",
       "    </tr>\n",
       "  </tbody>\n",
       "</table>\n",
       "</div>"
      ],
      "text/plain": [
       "       ProductID  Review            UserID\n",
       "0   1882931173\\n     4.0   AVCGYZL8FQQTD\\n\n",
       "1   0826414346\\n     5.0  A30TK6U7DNS82R\\n\n",
       "2   0826414346\\n     5.0  A3UH4UZ4RSVO82\\n\n",
       "3   0826414346\\n     4.0  A2MVUWT453QH61\\n\n",
       "4   0826414346\\n     4.0  A22X4XUPKF66MR\\n\n",
       "5   0826414346\\n     4.0  A2F6NONFUDB6UK\\n\n",
       "6   0826414346\\n     5.0  A14OJS0VWMOSWO\\n\n",
       "7   0826414346\\n     5.0  A2RSSXTDZDUSH4\\n\n",
       "8   0826414346\\n     5.0  A25MD5I2GUIW6W\\n\n",
       "9   0826414346\\n     4.0  A3VA4XFS5WNJO3\\n\n",
       "10  0829814000\\n     5.0   AZ0IOBU20TBOP\\n\n",
       "11  0829814000\\n     5.0  A373VVEU6Z9M0N\\n\n",
       "12  0829814000\\n     5.0   AGKGOH65VTRR4\\n\n",
       "13  0829814000\\n     5.0   A3OQWLU31BU1Y\\n\n",
       "14  0595344550\\n     1.0  A3Q12RK71N74LB\\n\n",
       "15  0595344550\\n     4.0  A1E9M6APK30ZAU\\n\n",
       "16  0595344550\\n     1.0   AUR0VA5H0C66C\\n\n",
       "17  0595344550\\n     5.0  A1YLDZ3VHR6QPZ\\n\n",
       "18  0595344550\\n     5.0   ACO23CG8K8T77\\n\n",
       "19  0595344550\\n     5.0  A1VK81CRRC7MLM\\n"
      ]
     },
     "execution_count": 30,
     "metadata": {},
     "output_type": "execute_result"
    }
   ],
   "source": [
    "data_df.head(20)"
   ]
  },
  {
   "cell_type": "code",
   "execution_count": 12,
   "metadata": {},
   "outputs": [
    {
     "name": "stdout",
     "output_type": "stream",
     "text": [
      "        ProductID  Review          UserID\n",
      "1739   B000N6DDJQ     5.0  A1YB29BIDULEYE\n",
      "12383  158855032X     5.0  A1YB29BIDULEYE\n",
      "21933  1885217714     4.0  A1YB29BIDULEYE\n",
      "        ProductID  Review          UserID\n",
      "1741   B000N6DDJQ     5.0  A1PFPR44FLJNZP\n",
      "16233  9562910334     5.0  A1PFPR44FLJNZP\n",
      "        ProductID  Review         UserID\n",
      "1747   B000N6DDJQ     5.0  AUM3YMZ0YRJE0\n",
      "7950   B000PBZH5M     5.0  AUM3YMZ0YRJE0\n",
      "9785   1595580212     4.0  AUM3YMZ0YRJE0\n",
      "10234  B000PBZH6Q     5.0  AUM3YMZ0YRJE0\n",
      "12868  B00087DAOS     5.0  AUM3YMZ0YRJE0\n",
      "20538  B000I3JBUO     5.0  AUM3YMZ0YRJE0\n",
      "39463  075311383X     4.0  AUM3YMZ0YRJE0\n",
      "       ProductID  Review          UserID\n",
      "1759  B000N6DDJQ     3.0  A13IZYHNIQGK4Q\n",
      "2477  B000N6DDJQ     3.0  A13IZYHNIQGK4Q\n",
      "        ProductID  Review          UserID\n",
      "1761   B000N6DDJQ     1.0  A1FEEFAK5Y45M2\n",
      "25933  B000L1WSBC     5.0  A1FEEFAK5Y45M2\n",
      "        ProductID  Review          UserID\n",
      "1768   B000N6DDJQ     1.0  A14I2UO0KK2BNO\n",
      "20515  B000I3JBUO     1.0  A14I2UO0KK2BNO\n",
      "        ProductID  Review          UserID\n",
      "1772   B000N6DDJQ     3.0  A122H2TEE3VUKW\n",
      "17816  B000TZ19TC     5.0  A122H2TEE3VUKW\n",
      "        ProductID  Review          UserID\n",
      "1782   B000N6DDJQ     5.0  A38SZKJML7JF8Y\n",
      "24026  B000PHIIM0     4.0  A38SZKJML7JF8Y\n",
      "        ProductID  Review          UserID\n",
      "1789   B000N6DDJQ     5.0  A1JIPFV4OL520T\n",
      "19242  B000GSNTYA     2.0  A1JIPFV4OL520T\n",
      "        ProductID  Review         UserID\n",
      "1794   B000N6DDJQ     3.0  A59LBV682DWGM\n",
      "15684  9562910334     5.0  A59LBV682DWGM\n",
      "        ProductID  Review          UserID\n",
      "1795   B000N6DDJQ     3.0  A1BJLZ8UNAZX2D\n",
      "12384  158855032X     5.0  A1BJLZ8UNAZX2D\n",
      "        ProductID  Review         UserID\n",
      "1807   B000N6DDJQ     5.0  AMKZHBOK7VMQR\n",
      "21080  1588550346     5.0  AMKZHBOK7VMQR\n",
      "21624  B000J0WATA     5.0  AMKZHBOK7VMQR\n",
      "22616  1581180012     5.0  AMKZHBOK7VMQR\n",
      "27830  1568959443     5.0  AMKZHBOK7VMQR\n",
      "28366  0333168925     5.0  AMKZHBOK7VMQR\n",
      "34658  B0008BZ3US     5.0  AMKZHBOK7VMQR\n",
      "35182  1404318364     5.0  AMKZHBOK7VMQR\n",
      "37451  B0007J1MEM     5.0  AMKZHBOK7VMQR\n",
      "39162  0192833502     4.0  AMKZHBOK7VMQR\n",
      "39684  1404318372     5.0  AMKZHBOK7VMQR\n",
      "43822  B0009KKVZU     5.0  AMKZHBOK7VMQR\n",
      "       ProductID  Review         UserID\n",
      "1809  B000N6DDJQ     5.0  A5ZUZ49YRDPCV\n",
      "9086  1588550311     5.0  A5ZUZ49YRDPCV\n",
      "        ProductID  Review          UserID\n",
      "1813   B000N6DDJQ     5.0  A2HUXP2IH2JTNW\n",
      "15507  9562910334     5.0  A2HUXP2IH2JTNW\n",
      "        ProductID  Review          UserID\n",
      "1815   B000N6DDJQ     5.0  A2F35SS0RKWSO2\n",
      "27751  1568959443     5.0  A2F35SS0RKWSO2\n",
      "29126  0140860096     5.0  A2F35SS0RKWSO2\n",
      "35602  0943069165     4.0  A2F35SS0RKWSO2\n",
      "        ProductID  Review          UserID\n",
      "1816   B000N6DDJQ     5.0  A3POE7TZ7FFZDT\n",
      "6529   B0006DG9OM     5.0  A3POE7TZ7FFZDT\n",
      "38544  0333168968     5.0  A3POE7TZ7FFZDT\n",
      "        ProductID  Review         UserID\n",
      "1820   B000N6DDJQ     4.0  AWLFVCT9128JV\n",
      "5401   B000J5KSK8     4.0  AWLFVCT9128JV\n",
      "7647   B000PBZH5M     3.0  AWLFVCT9128JV\n",
      "7816   B000PBZH5M     4.0  AWLFVCT9128JV\n",
      "10191  B000PBZH6Q     3.0  AWLFVCT9128JV\n",
      "10360  B000PBZH6Q     4.0  AWLFVCT9128JV\n",
      "14098  0786191511     2.0  AWLFVCT9128JV\n",
      "15939  9562910334     5.0  AWLFVCT9128JV\n",
      "17853  B000TZ19TC     5.0  AWLFVCT9128JV\n",
      "36380  0786197005     4.0  AWLFVCT9128JV\n",
      "        ProductID  Review          UserID\n",
      "1828   B000N6DDJQ     3.0  A32O0SCWAEM5RV\n",
      "29847  0140860096     1.0  A32O0SCWAEM5RV\n",
      "        ProductID  Review         UserID\n",
      "1829   B000N6DDJQ     5.0  ABN5K7K1TM1QA\n",
      "2259   B000N6DDJQ     5.0  ABN5K7K1TM1QA\n",
      "12411  1861975805     5.0  ABN5K7K1TM1QA\n",
      "16394  9562910334     5.0  ABN5K7K1TM1QA\n",
      "25862  B000L1WSBC     4.0  ABN5K7K1TM1QA\n",
      "        ProductID  Review          UserID\n",
      "1830   B000N6DDJQ     4.0  A3IKBHODOTYYHM\n",
      "6604   B0006DG9OM     4.0  A3IKBHODOTYYHM\n",
      "16332  9562910334     4.0  A3IKBHODOTYYHM\n",
      "17183  B000TZ19TC     5.0  A3IKBHODOTYYHM\n",
      "22840  1581180012     4.0  A3IKBHODOTYYHM\n",
      "28355  0333168925     4.0  A3IKBHODOTYYHM\n",
      "29855  0140860096     5.0  A3IKBHODOTYYHM\n",
      "35253  1404318364     4.0  A3IKBHODOTYYHM\n",
      "38469  0333168968     4.0  A3IKBHODOTYYHM\n",
      "39591  1404318372     4.0  A3IKBHODOTYYHM\n",
      "        ProductID  Review          UserID\n",
      "1833   B000N6DDJQ     5.0  A3KF4IP2MUS8QQ\n",
      "12083  B000PDFO2Q     5.0  A3KF4IP2MUS8QQ\n",
      "16905  B000TZ19TC     5.0  A3KF4IP2MUS8QQ\n",
      "20865  061334006X     5.0  A3KF4IP2MUS8QQ\n",
      "22897  B0007DLJFK     4.0  A3KF4IP2MUS8QQ\n",
      "31561  B000E6JMXQ     5.0  A3KF4IP2MUS8QQ\n",
      "44976  B000KCSGPE     5.0  A3KF4IP2MUS8QQ\n",
      "        ProductID  Review          UserID\n",
      "1834   B000N6DDJQ     5.0  A1ARA52HB238HT\n",
      "15674  9562910334     4.0  A1ARA52HB238HT\n",
      "20028  B000I3JBUO     5.0  A1ARA52HB238HT\n",
      "28362  0333168925     4.0  A1ARA52HB238HT\n",
      "35260  1404318364     4.0  A1ARA52HB238HT\n",
      "39598  1404318372     4.0  A1ARA52HB238HT\n",
      "        ProductID  Review          UserID\n",
      "1836   B000N6DDJQ     3.0  A1AAND6JLJGCV2\n",
      "9002   1588550311     5.0  A1AAND6JLJGCV2\n",
      "29383  0140860096     5.0  A1AAND6JLJGCV2\n",
      "        ProductID  Review          UserID\n",
      "875    B000MCKQRS     5.0  A1N1YEMTI9DJ86\n",
      "1038   B000O3QCH8     4.0  A1N1YEMTI9DJ86\n",
      "1839   B000N6DDJQ     5.0  A1N1YEMTI9DJ86\n",
      "9171   1588550311     5.0  A1N1YEMTI9DJ86\n",
      "13557  B000O1UCCQ     5.0  A1N1YEMTI9DJ86\n",
      "13558  B000O1UCCQ     5.0  A1N1YEMTI9DJ86\n",
      "21061  1588550346     5.0  A1N1YEMTI9DJ86\n",
      "22956  B00004WISA     4.0  A1N1YEMTI9DJ86\n",
      "23082  B000CNRBZM     5.0  A1N1YEMTI9DJ86\n",
      "25982  B000L1WSBC     5.0  A1N1YEMTI9DJ86\n",
      "27345  B000JJ9ISM     5.0  A1N1YEMTI9DJ86\n",
      "28692  1568959451     4.0  A1N1YEMTI9DJ86\n",
      "29080  0140860096     5.0  A1N1YEMTI9DJ86\n",
      "30379  B0008B9EJO     5.0  A1N1YEMTI9DJ86\n",
      "34533  B0006AUIF6     3.0  A1N1YEMTI9DJ86\n",
      "34829  0747249059     5.0  A1N1YEMTI9DJ86\n",
      "35143  B000PDESPU     4.0  A1N1YEMTI9DJ86\n",
      "39007  B000GLTDBU     4.0  A1N1YEMTI9DJ86\n",
      "40769  B000PGC9SU     4.0  A1N1YEMTI9DJ86\n",
      "41813  B000NWO8CG     5.0  A1N1YEMTI9DJ86\n",
      "42901  B000F9HECI     4.0  A1N1YEMTI9DJ86\n",
      "43007  B00005N5OH     3.0  A1N1YEMTI9DJ86\n",
      "43817  B0009KKVZU     5.0  A1N1YEMTI9DJ86\n",
      "        ProductID  Review          UserID\n",
      "1840   B000N6DDJQ     5.0  A1FZI1F22GRO4C\n",
      "16317  9562910334     5.0  A1FZI1F22GRO4C\n",
      "        ProductID  Review          UserID\n",
      "1843   B000N6DDJQ     4.0  A2XAWBF5J47ECS\n",
      "17931  B000TZ19TC     5.0  A2XAWBF5J47ECS\n",
      "29894  0140860096     5.0  A2XAWBF5J47ECS\n",
      "        ProductID  Review         UserID\n",
      "1844   B000N6DDJQ     2.0  AJAF1T6Q7XM94\n",
      "6015   0897501225     5.0  AJAF1T6Q7XM94\n",
      "7989   B000PBZH5M     5.0  AJAF1T6Q7XM94\n",
      "9022   1588550311     3.0  AJAF1T6Q7XM94\n",
      "10133  B000PBZH6Q     5.0  AJAF1T6Q7XM94\n",
      "20567  B000I3JBUO     3.0  AJAF1T6Q7XM94\n",
      "        ProductID  Review         UserID\n",
      "1846   B000N6DDJQ     5.0  A527VID8R4K67\n",
      "25985  B000L1WSBC     5.0  A527VID8R4K67\n",
      "        ProductID  Review          UserID\n",
      "617    B000GSNTRC     4.0  A1D2C0WDCSHUWZ\n",
      "1850   B000N6DDJQ     5.0  A1D2C0WDCSHUWZ\n",
      "1853   B000N6DDJQ     5.0  A1D2C0WDCSHUWZ\n",
      "2167   B000N6DDJQ     5.0  A1D2C0WDCSHUWZ\n",
      "2397   B000N6DDJQ     5.0  A1D2C0WDCSHUWZ\n",
      "3364   B000NSKB12     5.0  A1D2C0WDCSHUWZ\n",
      "3371   B000NSKB12     5.0  A1D2C0WDCSHUWZ\n",
      "5392   B000J5KSK8     4.0  A1D2C0WDCSHUWZ\n",
      "5873   B000I83ZJC     5.0  A1D2C0WDCSHUWZ\n",
      "5893   B000I83ZJC     4.0  A1D2C0WDCSHUWZ\n",
      "5901   B000I83ZJC     5.0  A1D2C0WDCSHUWZ\n",
      "8490   B0006AONEI     5.0  A1D2C0WDCSHUWZ\n",
      "9008   1588550311     5.0  A1D2C0WDCSHUWZ\n",
      "9009   1588550311     5.0  A1D2C0WDCSHUWZ\n",
      "9026   1588550311     5.0  A1D2C0WDCSHUWZ\n",
      "9104   1588550311     5.0  A1D2C0WDCSHUWZ\n",
      "9118   1588550311     5.0  A1D2C0WDCSHUWZ\n",
      "9160   1588550311     5.0  A1D2C0WDCSHUWZ\n",
      "9161   1588550311     5.0  A1D2C0WDCSHUWZ\n",
      "9221   1588550311     5.0  A1D2C0WDCSHUWZ\n",
      "22623  1581180012     4.0  A1D2C0WDCSHUWZ\n",
      "22636  1581180012     4.0  A1D2C0WDCSHUWZ\n",
      "22643  1581180012     4.0  A1D2C0WDCSHUWZ\n",
      "22666  1581180012     4.0  A1D2C0WDCSHUWZ\n",
      "22682  1581180012     4.0  A1D2C0WDCSHUWZ\n",
      "22737  1581180012     4.0  A1D2C0WDCSHUWZ\n",
      "22753  1581180012     4.0  A1D2C0WDCSHUWZ\n",
      "22831  1581180012     4.0  A1D2C0WDCSHUWZ\n",
      "22862  1581180012     4.0  A1D2C0WDCSHUWZ\n",
      "26616  B000NP1FT2     5.0  A1D2C0WDCSHUWZ\n",
      "31063  1892065142     5.0  A1D2C0WDCSHUWZ\n",
      "31395  B000E6JMXQ     4.0  A1D2C0WDCSHUWZ\n",
      "31431  B000E6JMXQ     4.0  A1D2C0WDCSHUWZ\n",
      "31432  B000E6JMXQ     5.0  A1D2C0WDCSHUWZ\n",
      "31472  B000E6JMXQ     5.0  A1D2C0WDCSHUWZ\n",
      "31701  B000E6JMXQ     5.0  A1D2C0WDCSHUWZ\n",
      "35744  0943069165     5.0  A1D2C0WDCSHUWZ\n",
      "36151  0786197005     4.0  A1D2C0WDCSHUWZ\n",
      "36152  0786197005     4.0  A1D2C0WDCSHUWZ\n",
      "36487  0786197005     4.0  A1D2C0WDCSHUWZ\n",
      "36490  0786197005     5.0  A1D2C0WDCSHUWZ\n",
      "36493  0786197005     5.0  A1D2C0WDCSHUWZ\n",
      "42500  B000Q12ZQA     5.0  A1D2C0WDCSHUWZ\n",
      "        ProductID  Review          UserID\n",
      "1851   B000N6DDJQ     5.0  A2AYSFGUP5VTY3\n",
      "6603   B0006DG9OM     4.0  A2AYSFGUP5VTY3\n",
      "9121   1588550311     5.0  A2AYSFGUP5VTY3\n",
      "16771  1419123548     3.0  A2AYSFGUP5VTY3\n",
      "26859  B000GQMUG0     5.0  A2AYSFGUP5VTY3\n",
      "27549  B000JJ9ISM     5.0  A2AYSFGUP5VTY3\n",
      "29638  0140860096     5.0  A2AYSFGUP5VTY3\n",
      "31755  B0006A0126     2.0  A2AYSFGUP5VTY3\n",
      "38468  0333168968     4.0  A2AYSFGUP5VTY3\n",
      "42446  B000NWO8CG     5.0  A2AYSFGUP5VTY3\n",
      "        ProductID  Review          UserID\n",
      "617    B000GSNTRC     4.0  A1D2C0WDCSHUWZ\n",
      "1850   B000N6DDJQ     5.0  A1D2C0WDCSHUWZ\n",
      "1853   B000N6DDJQ     5.0  A1D2C0WDCSHUWZ\n",
      "2167   B000N6DDJQ     5.0  A1D2C0WDCSHUWZ\n",
      "2397   B000N6DDJQ     5.0  A1D2C0WDCSHUWZ\n",
      "3364   B000NSKB12     5.0  A1D2C0WDCSHUWZ\n",
      "3371   B000NSKB12     5.0  A1D2C0WDCSHUWZ\n",
      "5392   B000J5KSK8     4.0  A1D2C0WDCSHUWZ\n",
      "5873   B000I83ZJC     5.0  A1D2C0WDCSHUWZ\n",
      "5893   B000I83ZJC     4.0  A1D2C0WDCSHUWZ\n",
      "5901   B000I83ZJC     5.0  A1D2C0WDCSHUWZ\n",
      "8490   B0006AONEI     5.0  A1D2C0WDCSHUWZ\n",
      "9008   1588550311     5.0  A1D2C0WDCSHUWZ\n",
      "9009   1588550311     5.0  A1D2C0WDCSHUWZ\n",
      "9026   1588550311     5.0  A1D2C0WDCSHUWZ\n",
      "9104   1588550311     5.0  A1D2C0WDCSHUWZ\n",
      "9118   1588550311     5.0  A1D2C0WDCSHUWZ\n",
      "9160   1588550311     5.0  A1D2C0WDCSHUWZ\n",
      "9161   1588550311     5.0  A1D2C0WDCSHUWZ\n",
      "9221   1588550311     5.0  A1D2C0WDCSHUWZ\n",
      "22623  1581180012     4.0  A1D2C0WDCSHUWZ\n",
      "22636  1581180012     4.0  A1D2C0WDCSHUWZ\n",
      "22643  1581180012     4.0  A1D2C0WDCSHUWZ\n",
      "22666  1581180012     4.0  A1D2C0WDCSHUWZ\n",
      "22682  1581180012     4.0  A1D2C0WDCSHUWZ\n",
      "22737  1581180012     4.0  A1D2C0WDCSHUWZ\n",
      "22753  1581180012     4.0  A1D2C0WDCSHUWZ\n",
      "22831  1581180012     4.0  A1D2C0WDCSHUWZ\n",
      "22862  1581180012     4.0  A1D2C0WDCSHUWZ\n",
      "26616  B000NP1FT2     5.0  A1D2C0WDCSHUWZ\n",
      "31063  1892065142     5.0  A1D2C0WDCSHUWZ\n",
      "31395  B000E6JMXQ     4.0  A1D2C0WDCSHUWZ\n",
      "31431  B000E6JMXQ     4.0  A1D2C0WDCSHUWZ\n",
      "31432  B000E6JMXQ     5.0  A1D2C0WDCSHUWZ\n",
      "31472  B000E6JMXQ     5.0  A1D2C0WDCSHUWZ\n",
      "31701  B000E6JMXQ     5.0  A1D2C0WDCSHUWZ\n",
      "35744  0943069165     5.0  A1D2C0WDCSHUWZ\n",
      "36151  0786197005     4.0  A1D2C0WDCSHUWZ\n",
      "36152  0786197005     4.0  A1D2C0WDCSHUWZ\n",
      "36487  0786197005     4.0  A1D2C0WDCSHUWZ\n",
      "36490  0786197005     5.0  A1D2C0WDCSHUWZ\n",
      "36493  0786197005     5.0  A1D2C0WDCSHUWZ\n",
      "42500  B000Q12ZQA     5.0  A1D2C0WDCSHUWZ\n"
     ]
    },
    {
     "name": "stdout",
     "output_type": "stream",
     "text": [
      "        ProductID  Review         UserID\n",
      "1860   B000N6DDJQ     5.0  APGKUH3ECVS61\n",
      "29984  0140860096     5.0  APGKUH3ECVS61\n",
      "        ProductID  Review          UserID\n",
      "1867   B000N6DDJQ     5.0  A3NI29U4P5NQF1\n",
      "13176  1557429227     5.0  A3NI29U4P5NQF1\n",
      "23946  B000PHIIM0     5.0  A3NI29U4P5NQF1\n",
      "31521  B000E6JMXQ     5.0  A3NI29U4P5NQF1\n",
      "41081  B000PGC9SU     5.0  A3NI29U4P5NQF1\n",
      "        ProductID  Review          UserID\n",
      "1872   B000N6DDJQ     3.0  A18MG1GPSEAPE9\n",
      "13177  1557429227     3.0  A18MG1GPSEAPE9\n",
      "40954  B000PGC9SU     3.0  A18MG1GPSEAPE9\n",
      "        ProductID  Review         UserID\n",
      "1884   B000N6DDJQ     4.0  A9RUU8JSKU7G1\n",
      "13151  1557429227     4.0  A9RUU8JSKU7G1\n",
      "        ProductID  Review         UserID\n",
      "1886   B000N6DDJQ     5.0  AGEIT17HENDIS\n",
      "5135   B0006W4076     5.0  AGEIT17HENDIS\n",
      "6183   B000EMZWV6     5.0  AGEIT17HENDIS\n",
      "6971   B0000CKD7E     3.0  AGEIT17HENDIS\n",
      "9789   1595580212     4.0  AGEIT17HENDIS\n",
      "29850  0140860096     4.0  AGEIT17HENDIS\n",
      "30833  B0006DC67Q     5.0  AGEIT17HENDIS\n",
      "        ProductID  Review         UserID\n",
      "1887   B000N6DDJQ     4.0  A3YW07H3DKVEH\n",
      "25986  B000L1WSBC     4.0  A3YW07H3DKVEH\n",
      "34967  0553234080     4.0  A3YW07H3DKVEH\n",
      "        ProductID  Review         UserID\n",
      "1890   B000N6DDJQ     5.0  AJ7SKEX269O9U\n",
      "16264  9562910334     5.0  AJ7SKEX269O9U\n",
      "        ProductID  Review         UserID\n",
      "1904   B000N6DDJQ     5.0  AC7MP9R2FKEAI\n",
      "27659  B000879GRS     5.0  AC7MP9R2FKEAI\n",
      "43826  B0009KKVZU     5.0  AC7MP9R2FKEAI\n",
      "        ProductID  Review          UserID\n",
      "1926   B000N6DDJQ     4.0  A2SHQJP6PNQTLD\n",
      "20755  B000I3JBUO     5.0  A2SHQJP6PNQTLD\n",
      "26873  B000GQMUG0     3.0  A2SHQJP6PNQTLD\n",
      "30609  0060953675     2.0  A2SHQJP6PNQTLD\n",
      "32295  0312179421     3.0  A2SHQJP6PNQTLD\n",
      "45417  B000I2UNB6     5.0  A2SHQJP6PNQTLD\n",
      "        ProductID  Review         UserID\n",
      "1937   B000N6DDJQ     5.0  A7N5UKGJZB6RQ\n",
      "18353  B000TZ19TC     5.0  A7N5UKGJZB6RQ\n",
      "        ProductID  Review          UserID\n",
      "1939   B000N6DDJQ     5.0  A3R1D7LZUJ2H6H\n",
      "41011  B000PGC9SU     5.0  A3R1D7LZUJ2H6H\n",
      "        ProductID  Review          UserID\n",
      "1947   B000N6DDJQ     5.0  A25KEEQK88U659\n",
      "36341  0786197005     5.0  A25KEEQK88U659\n",
      "        ProductID  Review          UserID\n",
      "1949   B000N6DDJQ     5.0  A3LX0RSPLHEE5S\n",
      "23922  B000PHIIM0     5.0  A3LX0RSPLHEE5S\n",
      "        ProductID  Review          UserID\n",
      "1952   B000N6DDJQ     5.0  A2QR0OBX1BB99O\n",
      "40963  B000PGC9SU     5.0  A2QR0OBX1BB99O\n",
      "        ProductID  Review          UserID\n",
      "1956   B000N6DDJQ     5.0  A1LRJUDU0TS25O\n",
      "24017  B000PHIIM0     2.0  A1LRJUDU0TS25O\n",
      "        ProductID  Review          UserID\n",
      "1965   B000N6DDJQ     5.0  A29R36DKPVNVWD\n",
      "13202  1557429227     5.0  A29R36DKPVNVWD\n",
      "        ProductID  Review          UserID\n",
      "1980   B000N6DDJQ     5.0  A3CNEVQOBHI6AT\n",
      "29324  0140860096     5.0  A3CNEVQOBHI6AT\n",
      "       ProductID  Review          UserID\n",
      "1983  B000N6DDJQ     5.0  A2M3NCTFUGI4SR\n",
      "2066  B000N6DDJQ     5.0  A2M3NCTFUGI4SR\n",
      "        ProductID  Review         UserID\n",
      "1995   B000N6DDJQ     5.0  AA3YR5Q1K4KLC\n",
      "21070  1588550346     5.0  AA3YR5Q1K4KLC\n",
      "        ProductID  Review         UserID\n",
      "2010   B000N6DDJQ     5.0  APXRT4OPH9WZ8\n",
      "29642  0140860096     5.0  APXRT4OPH9WZ8\n",
      "        ProductID  Review         UserID\n",
      "2011   B000N6DDJQ     4.0  ACZ2CLZ2WNBBD\n",
      "15690  9562910334     5.0  ACZ2CLZ2WNBBD\n",
      "22717  1581180012     4.0  ACZ2CLZ2WNBBD\n",
      "        ProductID  Review          UserID\n",
      "2021   B000N6DDJQ     3.0  A30VUMM1U58VPK\n",
      "31631  B000E6JMXQ     3.0  A30VUMM1U58VPK\n",
      "        ProductID  Review          UserID\n",
      "2023   B000N6DDJQ     3.0  A20EEWWSFMZ1PN\n",
      "5396   B000J5KSK8     5.0  A20EEWWSFMZ1PN\n",
      "14720  9562910334     5.0  A20EEWWSFMZ1PN\n",
      "15005  9562910334     5.0  A20EEWWSFMZ1PN\n",
      "15151  9562910334     5.0  A20EEWWSFMZ1PN\n",
      "15583  9562910334     5.0  A20EEWWSFMZ1PN\n",
      "15836  9562910334     5.0  A20EEWWSFMZ1PN\n",
      "16024  9562910334     5.0  A20EEWWSFMZ1PN\n",
      "16237  9562910334     5.0  A20EEWWSFMZ1PN\n",
      "16238  9562910334     5.0  A20EEWWSFMZ1PN\n",
      "16328  9562910334     5.0  A20EEWWSFMZ1PN\n",
      "16814  B000TZ19TC     5.0  A20EEWWSFMZ1PN\n",
      "18287  B000TZ19TC     5.0  A20EEWWSFMZ1PN\n",
      "36246  0786197005     5.0  A20EEWWSFMZ1PN\n",
      "36250  0786197005     5.0  A20EEWWSFMZ1PN\n",
      "36251  0786197005     5.0  A20EEWWSFMZ1PN\n",
      "36268  0786197005     5.0  A20EEWWSFMZ1PN\n",
      "36303  0786197005     5.0  A20EEWWSFMZ1PN\n",
      "36347  0786197005     5.0  A20EEWWSFMZ1PN\n",
      "36349  0786197005     5.0  A20EEWWSFMZ1PN\n",
      "36350  0786197005     5.0  A20EEWWSFMZ1PN\n",
      "36351  0786197005     5.0  A20EEWWSFMZ1PN\n",
      "36355  0786197005     5.0  A20EEWWSFMZ1PN\n",
      "36473  0786197005     5.0  A20EEWWSFMZ1PN\n",
      "36499  0786197005     5.0  A20EEWWSFMZ1PN\n",
      "41553  B0006AVE5E     5.0  A20EEWWSFMZ1PN\n",
      "41554  B0006AVE5E     5.0  A20EEWWSFMZ1PN\n",
      "41555  B0006AVE5E     5.0  A20EEWWSFMZ1PN\n",
      "41556  B0006AVE5E     5.0  A20EEWWSFMZ1PN\n",
      "41557  B0006AVE5E     5.0  A20EEWWSFMZ1PN\n",
      "        ProductID  Review          UserID\n",
      "1083   B000O3QCH8     4.0  A37PV5GMP2ILJC\n",
      "2024   B000N6DDJQ     5.0  A37PV5GMP2ILJC\n",
      "31244  1932172211     5.0  A37PV5GMP2ILJC\n",
      "        ProductID  Review         UserID\n",
      "2038   B000N6DDJQ     5.0  A96K1ZGW56S2I\n",
      "4335   156292656X     4.0  A96K1ZGW56S2I\n",
      "18232  B000TZ19TC     4.0  A96K1ZGW56S2I\n",
      "19042  1881649644     4.0  A96K1ZGW56S2I\n",
      "25083  1567230288     3.0  A96K1ZGW56S2I\n",
      "42826  B0006QOT5K     5.0  A96K1ZGW56S2I\n",
      "        ProductID  Review          UserID\n",
      "2042   B000N6DDJQ     5.0  A1JUYF5D6TFFHB\n",
      "15608  9562910334     5.0  A1JUYF5D6TFFHB\n",
      "        ProductID  Review          UserID\n",
      "2048   B000N6DDJQ     4.0  A3JSRMS7FO6EKQ\n",
      "15145  9562910334     5.0  A3JSRMS7FO6EKQ\n",
      "20475  B000I3JBUO     4.0  A3JSRMS7FO6EKQ\n",
      "        ProductID  Review          UserID\n",
      "1625   B000NRYUHO     2.0  A1K1JW1C5CUSUZ\n",
      "2062   B000N6DDJQ     5.0  A1K1JW1C5CUSUZ\n",
      "2811   087584782X     5.0  A1K1JW1C5CUSUZ\n",
      "7757   B000PBZH5M     5.0  A1K1JW1C5CUSUZ\n",
      "7784   B000PBZH5M     5.0  A1K1JW1C5CUSUZ\n",
      "10121  B000PBZH6Q     5.0  A1K1JW1C5CUSUZ\n",
      "10378  B000PBZH6Q     5.0  A1K1JW1C5CUSUZ\n",
      "20901  0875847889     5.0  A1K1JW1C5CUSUZ\n",
      "21075  1588550346     5.0  A1K1JW1C5CUSUZ\n",
      "22585  1581180012     5.0  A1K1JW1C5CUSUZ\n",
      "25686  0385720904     3.0  A1K1JW1C5CUSUZ\n",
      "25951  B000L1WSBC     5.0  A1K1JW1C5CUSUZ\n",
      "27894  1568959443     5.0  A1K1JW1C5CUSUZ\n",
      "27988  1568959443     5.0  A1K1JW1C5CUSUZ\n",
      "32086  B000HVLLEQ     5.0  A1K1JW1C5CUSUZ\n",
      "34860  0316602574     3.0  A1K1JW1C5CUSUZ\n",
      "35390  B000KT2MFC     5.0  A1K1JW1C5CUSUZ\n",
      "39017  B000GLTDBU     5.0  A1K1JW1C5CUSUZ\n",
      "41545  8483101351     5.0  A1K1JW1C5CUSUZ\n",
      "        ProductID  Review         UserID\n",
      "2064   B000N6DDJQ     1.0  A2XZKGL6DJA03\n",
      "14934  9562910334     5.0  A2XZKGL6DJA03\n",
      "17431  B000TZ19TC     2.0  A2XZKGL6DJA03\n",
      "38125  B000879GVE     3.0  A2XZKGL6DJA03\n",
      "       ProductID  Review          UserID\n",
      "1983  B000N6DDJQ     5.0  A2M3NCTFUGI4SR\n",
      "2066  B000N6DDJQ     5.0  A2M3NCTFUGI4SR\n",
      "        ProductID  Review          UserID\n",
      "2068   B000N6DDJQ     5.0  A2L7JEPVTYG14L\n",
      "35510  0943069165     5.0  A2L7JEPVTYG14L\n",
      "        ProductID  Review          UserID\n",
      "2069   B000N6DDJQ     5.0  A2F540P3L6P5CL\n",
      "3738   B0007FSDKC     5.0  A2F540P3L6P5CL\n",
      "6324   B0006DG9OM     5.0  A2F540P3L6P5CL\n",
      "21200  0671535323     3.0  A2F540P3L6P5CL\n",
      "24626  B000L1A8RS     4.0  A2F540P3L6P5CL\n",
      "26445  B0006A011C     5.0  A2F540P3L6P5CL\n",
      "38176  B0006AUIHY     3.0  A2F540P3L6P5CL\n",
      "38343  0333168968     5.0  A2F540P3L6P5CL\n",
      "        ProductID  Review          UserID\n",
      "2084   B000N6DDJQ     4.0  A3UJ50L3ST5G95\n",
      "20051  B000I3JBUO     5.0  A3UJ50L3ST5G95\n",
      "        ProductID  Review          UserID\n",
      "2086   B000N6DDJQ     4.0  A1NZH03BZTSPS2\n",
      "17318  B000TZ19TC     4.0  A1NZH03BZTSPS2\n",
      "29938  0140860096     3.0  A1NZH03BZTSPS2\n",
      "        ProductID  Review          UserID\n",
      "2087   B000N6DDJQ     4.0  A370Z6I5GBWU44\n",
      "4406   B000GLTD5Q     4.0  A370Z6I5GBWU44\n",
      "5826   B000MU8334     5.0  A370Z6I5GBWU44\n",
      "8080   B000PBZH5M     5.0  A370Z6I5GBWU44\n",
      "9904   0736645586     4.0  A370Z6I5GBWU44\n",
      "10064  B000PBZH6Q     5.0  A370Z6I5GBWU44\n",
      "13644  B000O1UCCQ     5.0  A370Z6I5GBWU44\n",
      "15730  9562910334     5.0  A370Z6I5GBWU44\n",
      "18070  B000TZ19TC     4.0  A370Z6I5GBWU44\n",
      "29934  0140860096     3.0  A370Z6I5GBWU44\n",
      "31388  B000E6JMXQ     5.0  A370Z6I5GBWU44\n",
      "41892  B000NWO8CG     5.0  A370Z6I5GBWU44\n",
      "        ProductID  Review         UserID\n",
      "2089   B000N6DDJQ     5.0  A9W8VBYB5URD8\n",
      "14749  9562910334     5.0  A9W8VBYB5URD8\n",
      "17274  B000TZ19TC     5.0  A9W8VBYB5URD8\n",
      "        ProductID  Review          UserID\n",
      "2092   B000N6DDJQ     5.0  A188JKV8QVVOT7\n",
      "15216  9562910334     5.0  A188JKV8QVVOT7\n",
      "17312  B000TZ19TC     5.0  A188JKV8QVVOT7\n",
      "        ProductID  Review          UserID\n",
      "2093   B000N6DDJQ     3.0  A31N1I5DNGF83K\n",
      "31533  B000E6JMXQ     3.0  A31N1I5DNGF83K\n",
      "        ProductID  Review          UserID\n",
      "2095   B000N6DDJQ     4.0  A24S9MXU99UPN2\n",
      "42271  B000NWO8CG     4.0  A24S9MXU99UPN2\n",
      "        ProductID  Review          UserID\n",
      "2106   B000N6DDJQ     5.0  A1N2L9A6I686G5\n",
      "27591  0964202042     5.0  A1N2L9A6I686G5\n",
      "39956  0517884070     5.0  A1N2L9A6I686G5\n"
     ]
    },
    {
     "name": "stdout",
     "output_type": "stream",
     "text": [
      "        ProductID  Review          UserID\n",
      "2115   B000N6DDJQ     5.0  A2FQWV725FGE8S\n",
      "15652  9562910334     5.0  A2FQWV725FGE8S\n",
      "28995  0140860096     5.0  A2FQWV725FGE8S\n",
      "37436  B0007J1MEM     4.0  A2FQWV725FGE8S\n",
      "        ProductID  Review          UserID\n",
      "2116   B000N6DDJQ     4.0  A1EEW7AS30AK5Q\n",
      "40312  B000U2H696     4.0  A1EEW7AS30AK5Q\n",
      "40866  B000PGC9SU     4.0  A1EEW7AS30AK5Q\n",
      "42490  B000NWO8CG     5.0  A1EEW7AS30AK5Q\n",
      "        ProductID  Review          UserID\n",
      "304    B000PHTCGG     5.0  A1TIZI060W4BD9\n",
      "2124   B000N6DDJQ     3.0  A1TIZI060W4BD9\n",
      "5977   B000UVGLZM     5.0  A1TIZI060W4BD9\n",
      "8285   1891053000     3.0  A1TIZI060W4BD9\n",
      "10726  1891053019     4.0  A1TIZI060W4BD9\n",
      "16513  B0007J7H46     3.0  A1TIZI060W4BD9\n",
      "22872  1557131287     5.0  A1TIZI060W4BD9\n",
      "29399  0140860096     5.0  A1TIZI060W4BD9\n",
      "45234  0451525132     5.0  A1TIZI060W4BD9\n",
      "        ProductID  Review          UserID\n",
      "2150   B000N6DDJQ     3.0  A29CUCGRX04TS8\n",
      "8403   0671441310     5.0  A29CUCGRX04TS8\n",
      "14586  B000GR9G3E     5.0  A29CUCGRX04TS8\n",
      "25503  B000MCASDU     4.0  A29CUCGRX04TS8\n",
      "27912  1568959443     3.0  A29CUCGRX04TS8\n",
      "        ProductID  Review          UserID\n",
      "2151   B000N6DDJQ     5.0  A3EJT905S6ZS4K\n",
      "16293  9562910334     5.0  A3EJT905S6ZS4K\n",
      "39474  0679421203     5.0  A3EJT905S6ZS4K\n",
      "        ProductID  Review          UserID\n",
      "617    B000GSNTRC     4.0  A1D2C0WDCSHUWZ\n",
      "1850   B000N6DDJQ     5.0  A1D2C0WDCSHUWZ\n",
      "1853   B000N6DDJQ     5.0  A1D2C0WDCSHUWZ\n",
      "2167   B000N6DDJQ     5.0  A1D2C0WDCSHUWZ\n",
      "2397   B000N6DDJQ     5.0  A1D2C0WDCSHUWZ\n",
      "3364   B000NSKB12     5.0  A1D2C0WDCSHUWZ\n",
      "3371   B000NSKB12     5.0  A1D2C0WDCSHUWZ\n",
      "5392   B000J5KSK8     4.0  A1D2C0WDCSHUWZ\n",
      "5873   B000I83ZJC     5.0  A1D2C0WDCSHUWZ\n",
      "5893   B000I83ZJC     4.0  A1D2C0WDCSHUWZ\n",
      "5901   B000I83ZJC     5.0  A1D2C0WDCSHUWZ\n",
      "8490   B0006AONEI     5.0  A1D2C0WDCSHUWZ\n",
      "9008   1588550311     5.0  A1D2C0WDCSHUWZ\n",
      "9009   1588550311     5.0  A1D2C0WDCSHUWZ\n",
      "9026   1588550311     5.0  A1D2C0WDCSHUWZ\n",
      "9104   1588550311     5.0  A1D2C0WDCSHUWZ\n",
      "9118   1588550311     5.0  A1D2C0WDCSHUWZ\n",
      "9160   1588550311     5.0  A1D2C0WDCSHUWZ\n",
      "9161   1588550311     5.0  A1D2C0WDCSHUWZ\n",
      "9221   1588550311     5.0  A1D2C0WDCSHUWZ\n",
      "22623  1581180012     4.0  A1D2C0WDCSHUWZ\n",
      "22636  1581180012     4.0  A1D2C0WDCSHUWZ\n",
      "22643  1581180012     4.0  A1D2C0WDCSHUWZ\n",
      "22666  1581180012     4.0  A1D2C0WDCSHUWZ\n",
      "22682  1581180012     4.0  A1D2C0WDCSHUWZ\n",
      "22737  1581180012     4.0  A1D2C0WDCSHUWZ\n",
      "22753  1581180012     4.0  A1D2C0WDCSHUWZ\n",
      "22831  1581180012     4.0  A1D2C0WDCSHUWZ\n",
      "22862  1581180012     4.0  A1D2C0WDCSHUWZ\n",
      "26616  B000NP1FT2     5.0  A1D2C0WDCSHUWZ\n",
      "31063  1892065142     5.0  A1D2C0WDCSHUWZ\n",
      "31395  B000E6JMXQ     4.0  A1D2C0WDCSHUWZ\n",
      "31431  B000E6JMXQ     4.0  A1D2C0WDCSHUWZ\n",
      "31432  B000E6JMXQ     5.0  A1D2C0WDCSHUWZ\n",
      "31472  B000E6JMXQ     5.0  A1D2C0WDCSHUWZ\n",
      "31701  B000E6JMXQ     5.0  A1D2C0WDCSHUWZ\n",
      "35744  0943069165     5.0  A1D2C0WDCSHUWZ\n",
      "36151  0786197005     4.0  A1D2C0WDCSHUWZ\n",
      "36152  0786197005     4.0  A1D2C0WDCSHUWZ\n",
      "36487  0786197005     4.0  A1D2C0WDCSHUWZ\n",
      "36490  0786197005     5.0  A1D2C0WDCSHUWZ\n",
      "36493  0786197005     5.0  A1D2C0WDCSHUWZ\n",
      "42500  B000Q12ZQA     5.0  A1D2C0WDCSHUWZ\n",
      "        ProductID  Review          UserID\n",
      "2175   B000N6DDJQ     5.0  A3JGOKYJPPARHO\n",
      "21056  1588550346     5.0  A3JGOKYJPPARHO\n",
      "        ProductID  Review          UserID\n",
      "2177   B000N6DDJQ     3.0  A1BA72K4VK1UN1\n",
      "11521  0207150761     5.0  A1BA72K4VK1UN1\n",
      "27329  B000JJ9ISM     5.0  A1BA72K4VK1UN1\n",
      "        ProductID  Review         UserID\n",
      "2200   B000N6DDJQ     4.0  AI37YX1U4KB1L\n",
      "11886  1890626503     4.0  AI37YX1U4KB1L\n",
      "15551  9562910334     5.0  AI37YX1U4KB1L\n",
      "16895  B000TZ19TC     5.0  AI37YX1U4KB1L\n",
      "25964  B000L1WSBC     5.0  AI37YX1U4KB1L\n",
      "29969  0140860096     4.0  AI37YX1U4KB1L\n",
      "       ProductID  Review          UserID\n",
      "2209  B000N6DDJQ     1.0  A2QL96SGZP59SR\n",
      "2744  B0006DM4DW     4.0  A2QL96SGZP59SR\n",
      "        ProductID  Review         UserID\n",
      "2217   B000N6DDJQ     3.0  AK0K3UWJHGRVO\n",
      "34980  0553234080     4.0  AK0K3UWJHGRVO\n",
      "        ProductID  Review         UserID\n",
      "2221   B000N6DDJQ     5.0  A3FVAWZNKW9GX\n",
      "26985  B0006A011M     5.0  A3FVAWZNKW9GX\n",
      "28778  0140860096     5.0  A3FVAWZNKW9GX\n",
      "28891  0140860096     5.0  A3FVAWZNKW9GX\n",
      "36087  B000GT6C02     5.0  A3FVAWZNKW9GX\n",
      "        ProductID  Review          UserID\n",
      "2238   B000N6DDJQ     5.0  A2IKY4WH4E11AI\n",
      "3032   1574883232     5.0  A2IKY4WH4E11AI\n",
      "17204  B000TZ19TC     4.0  A2IKY4WH4E11AI\n",
      "44355  B000K9UV8C     4.0  A2IKY4WH4E11AI\n",
      "        ProductID  Review          UserID\n",
      "2240   B000N6DDJQ     5.0  A1CHM200OEN65X\n",
      "2527   B00070YCSO     5.0  A1CHM200OEN65X\n",
      "13246  B000O1UCCQ     5.0  A1CHM200OEN65X\n",
      "14681  9562910334     5.0  A1CHM200OEN65X\n",
      "17680  B000TZ19TC     5.0  A1CHM200OEN65X\n",
      "27868  1568959443     5.0  A1CHM200OEN65X\n",
      "30949  0786191570     4.0  A1CHM200OEN65X\n",
      "33086  B000JJU8RC     4.0  A1CHM200OEN65X\n",
      "        ProductID  Review       UserID\n",
      "809    050552421X     5.0  AFVQZQ8PW0L\n",
      "843    B000MCKQRS     5.0  AFVQZQ8PW0L\n",
      "1648   B000NRYUHO     5.0  AFVQZQ8PW0L\n",
      "2241   B000N6DDJQ     5.0  AFVQZQ8PW0L\n",
      "2495   1902934229     4.0  AFVQZQ8PW0L\n",
      "2839   0976324644     5.0  AFVQZQ8PW0L\n",
      "3148   0756402905     5.0  AFVQZQ8PW0L\n",
      "4035   0505524228     5.0  AFVQZQ8PW0L\n",
      "6753   0425197964     4.0  AFVQZQ8PW0L\n",
      "7518   0373713215     5.0  AFVQZQ8PW0L\n",
      "7521   0505524244     5.0  AFVQZQ8PW0L\n",
      "8254   0786174994     5.0  AFVQZQ8PW0L\n",
      "8545   B000NQIG2A     5.0  AFVQZQ8PW0L\n",
      "9255   0688165648     5.0  AFVQZQ8PW0L\n",
      "9280   0312283989     5.0  AFVQZQ8PW0L\n",
      "10798  0373690975     4.0  AFVQZQ8PW0L\n",
      "11691  0316806501     4.0  AFVQZQ8PW0L\n",
      "14352  B000GG4J00     5.0  AFVQZQ8PW0L\n",
      "16733  0373690991     4.0  AFVQZQ8PW0L\n",
      "18553  B000OXJ92S     5.0  AFVQZQ8PW0L\n",
      "21142  0373713258     5.0  AFVQZQ8PW0L\n",
      "21562  0505524295     5.0  AFVQZQ8PW0L\n",
      "21663  B000OWCT12     5.0  AFVQZQ8PW0L\n",
      "22097  0380815613     5.0  AFVQZQ8PW0L\n",
      "23193  0553107488     5.0  AFVQZQ8PW0L\n",
      "23599  B000IOF10C     5.0  AFVQZQ8PW0L\n",
      "27080  0373713290     4.0  AFVQZQ8PW0L\n",
      "28708  1568959451     5.0  AFVQZQ8PW0L\n",
      "30787  B000GSDVFC     5.0  AFVQZQ8PW0L\n",
      "34479  0380815664     4.0  AFVQZQ8PW0L\n",
      "34680  0380815672     5.0  AFVQZQ8PW0L\n",
      "37514  B0001V03ZU     4.0  AFVQZQ8PW0L\n",
      "38707  0764229893     5.0  AFVQZQ8PW0L\n",
      "39020  B000GLTDBU     5.0  AFVQZQ8PW0L\n",
      "39744  0380815680     4.0  AFVQZQ8PW0L\n",
      "40490  1590521986     4.0  AFVQZQ8PW0L\n",
      "40562  B000OV7IAK     3.0  AFVQZQ8PW0L\n",
      "41291  0380815699     5.0  AFVQZQ8PW0L\n",
      "41294  B00005N5OA     5.0  AFVQZQ8PW0L\n",
      "42763  0955005108     4.0  AFVQZQ8PW0L\n",
      "42846  B000MV8HLG     4.0  AFVQZQ8PW0L\n",
      "44680  0955005116     4.0  AFVQZQ8PW0L\n",
      "        ProductID  Review          UserID\n",
      "2242   B000N6DDJQ     5.0  A328S9RN3U5M68\n",
      "2855   0976324644     5.0  A328S9RN3U5M68\n",
      "10717  1891053019     5.0  A328S9RN3U5M68\n",
      "33674  1931982317     5.0  A328S9RN3U5M68\n",
      "        ProductID  Review          UserID\n",
      "2244   B000N6DDJQ     4.0  A2AKR1RUTMKEEJ\n",
      "29770  0140860096     5.0  A2AKR1RUTMKEEJ\n",
      "       ProductID  Review          UserID\n",
      "2245  B000N6DDJQ     5.0  A3LW120MGD36SV\n",
      "4412  B000GLTD5Q     2.0  A3LW120MGD36SV\n",
      "        ProductID  Review          UserID\n",
      "2255   B000N6DDJQ     5.0  A14NCQUQ1XG09W\n",
      "19766  B0006E8Q9C     5.0  A14NCQUQ1XG09W\n",
      "40829  B000PGC9SU     5.0  A14NCQUQ1XG09W\n",
      "        ProductID  Review         UserID\n",
      "2258   B000N6DDJQ     5.0  A8F2AZWB20X1H\n",
      "21071  1588550346     5.0  A8F2AZWB20X1H\n",
      "27535  B000JJ9ISM     4.0  A8F2AZWB20X1H\n",
      "32789  B000GE7NB4     5.0  A8F2AZWB20X1H\n",
      "32807  B000GE7NB4     5.0  A8F2AZWB20X1H\n",
      "43905  0195085140     5.0  A8F2AZWB20X1H\n",
      "        ProductID  Review         UserID\n",
      "1829   B000N6DDJQ     5.0  ABN5K7K1TM1QA\n",
      "2259   B000N6DDJQ     5.0  ABN5K7K1TM1QA\n",
      "12411  1861975805     5.0  ABN5K7K1TM1QA\n",
      "16394  9562910334     5.0  ABN5K7K1TM1QA\n",
      "25862  B000L1WSBC     4.0  ABN5K7K1TM1QA\n",
      "        ProductID  Review          UserID\n",
      "2260   B000N6DDJQ     5.0  A26BVUB2YJMGB7\n",
      "21645  B000J0WATA     5.0  A26BVUB2YJMGB7\n",
      "22967  B00004WISA     4.0  A26BVUB2YJMGB7\n",
      "26901  B000GQMUG0     5.0  A26BVUB2YJMGB7\n",
      "27737  1568959443     5.0  A26BVUB2YJMGB7\n",
      "28816  0140860096     5.0  A26BVUB2YJMGB7\n",
      "32207  B00086TLE2     5.0  A26BVUB2YJMGB7\n",
      "       ProductID  Review          UserID\n",
      "2265  B000N6DDJQ     5.0  A27Z2M7PNPA6LM\n",
      "2279  B000N6DDJQ     5.0  A27Z2M7PNPA6LM\n",
      "       ProductID  Review          UserID\n",
      "2266  B000N6DDJQ     5.0  A1OXI0N58TMYY9\n",
      "2302  B000N6DDJQ     5.0  A1OXI0N58TMYY9\n",
      "2385  B000N6DDJQ     5.0  A1OXI0N58TMYY9\n",
      "        ProductID  Review          UserID\n",
      "2272   B000N6DDJQ     5.0  A1VPXCFO261VWH\n",
      "37702  B0000CJHX7     5.0  A1VPXCFO261VWH\n",
      "        ProductID  Review          UserID\n",
      "2276   B000N6DDJQ     5.0  A2PR9MFSBUUUP3\n",
      "29778  0140860096     5.0  A2PR9MFSBUUUP3\n",
      "       ProductID  Review          UserID\n",
      "2265  B000N6DDJQ     5.0  A27Z2M7PNPA6LM\n",
      "2279  B000N6DDJQ     5.0  A27Z2M7PNPA6LM\n",
      "        ProductID  Review          UserID\n",
      "2283   B000N6DDJQ     2.0  A3JZ5E2TUJJELD\n",
      "16208  9562910334     5.0  A3JZ5E2TUJJELD\n",
      "25963  B000L1WSBC     4.0  A3JZ5E2TUJJELD\n",
      "        ProductID  Review          UserID\n",
      "2284   B000N6DDJQ     2.0  A2O2TC8O86P1H4\n",
      "29641  0140860096     4.0  A2O2TC8O86P1H4\n",
      "        ProductID  Review          UserID\n",
      "2288   B000N6DDJQ     4.0  A18VVDLRLG9SVO\n",
      "25451  B000MCASDU     4.0  A18VVDLRLG9SVO\n",
      "       ProductID  Review         UserID\n",
      "2289  B000N6DDJQ     4.0  AS1YKFH6RSKFB\n",
      "2476  B000N6DDJQ     4.0  AS1YKFH6RSKFB\n"
     ]
    },
    {
     "name": "stdout",
     "output_type": "stream",
     "text": [
      "        ProductID  Review         UserID\n",
      "2292   B000N6DDJQ     4.0  A1R90KXMPXCAP\n",
      "16179  9562910334     5.0  A1R90KXMPXCAP\n",
      "18001  B000TZ19TC     5.0  A1R90KXMPXCAP\n",
      "18169  B000TZ19TC     5.0  A1R90KXMPXCAP\n",
      "        ProductID  Review          UserID\n",
      "2293   B000N6DDJQ     4.0  A1XN6MBYDBTX16\n",
      "19351  0684813459     5.0  A1XN6MBYDBTX16\n",
      "        ProductID  Review          UserID\n",
      "2295   B000N6DDJQ     4.0  A3FHAMLNGHCFU7\n",
      "9075   1588550311     3.0  A3FHAMLNGHCFU7\n",
      "12396  158855032X     3.0  A3FHAMLNGHCFU7\n",
      "15414  9562910334     5.0  A3FHAMLNGHCFU7\n",
      "24445  B0006DWYN2     3.0  A3FHAMLNGHCFU7\n",
      "43870  B0009KKVZU     3.0  A3FHAMLNGHCFU7\n",
      "       ProductID  Review          UserID\n",
      "2266  B000N6DDJQ     5.0  A1OXI0N58TMYY9\n",
      "2302  B000N6DDJQ     5.0  A1OXI0N58TMYY9\n",
      "2385  B000N6DDJQ     5.0  A1OXI0N58TMYY9\n",
      "        ProductID  Review         UserID\n",
      "2325   B000N6DDJQ     1.0  A6YHWNVDS6GU4\n",
      "29888  0140860096     5.0  A6YHWNVDS6GU4\n",
      "        ProductID  Review          UserID\n",
      "2329   B000N6DDJQ     3.0  A1IKD6BDEE18CI\n",
      "14453  0060953616     1.0  A1IKD6BDEE18CI\n",
      "23628  0373255802     4.0  A1IKD6BDEE18CI\n",
      "        ProductID  Review         UserID\n",
      "2333   B000N6DDJQ     1.0  A525O40Q3XE0L\n",
      "5825   B000MU8334     5.0  A525O40Q3XE0L\n",
      "9145   1588550311     2.0  A525O40Q3XE0L\n",
      "16832  B000TZ19TC     5.0  A525O40Q3XE0L\n",
      "29412  0140860096     1.0  A525O40Q3XE0L\n",
      "       ProductID  Review          UserID\n",
      "2334  B000N6DDJQ     5.0  A1T867N1STHSON\n",
      "9182  1588550311     5.0  A1T867N1STHSON\n",
      "        ProductID  Review          UserID\n",
      "2347   B000N6DDJQ     5.0  A3O2RCKAMSE9X7\n",
      "12334  158855032X     5.0  A3O2RCKAMSE9X7\n",
      "16211  9562910334     5.0  A3O2RCKAMSE9X7\n",
      "17867  B000TZ19TC     5.0  A3O2RCKAMSE9X7\n",
      "18674  1883011094     5.0  A3O2RCKAMSE9X7\n",
      "28300  0333168925     5.0  A3O2RCKAMSE9X7\n",
      "29405  0140860096     5.0  A3O2RCKAMSE9X7\n",
      "35208  1404318364     5.0  A3O2RCKAMSE9X7\n",
      "39660  1404318372     5.0  A3O2RCKAMSE9X7\n",
      "43880  B0009KKVZU     5.0  A3O2RCKAMSE9X7\n",
      "        ProductID  Review          UserID\n",
      "2349   B000N6DDJQ     5.0  A2X36H1LTGU4GC\n",
      "16050  9562910334     5.0  A2X36H1LTGU4GC\n",
      "        ProductID  Review         UserID\n",
      "385    B000H45MXO     5.0  AHD101501WCN1\n",
      "2351   B000N6DDJQ     5.0  AHD101501WCN1\n",
      "3491   067001012X     5.0  AHD101501WCN1\n",
      "4257   0671005693     5.0  AHD101501WCN1\n",
      "4543   B0006W407G     5.0  AHD101501WCN1\n",
      "5371   B000GP1Q7A     4.0  AHD101501WCN1\n",
      "5988   B000UVGLZM     5.0  AHD101501WCN1\n",
      "11464  188301106X     5.0  AHD101501WCN1\n",
      "12195  B000IOJ4M8     4.0  AHD101501WCN1\n",
      "12839  B00087DAOS     5.0  AHD101501WCN1\n",
      "14327  0879233427     5.0  AHD101501WCN1\n",
      "16206  9562910334     5.0  AHD101501WCN1\n",
      "18705  B000HJR45I     5.0  AHD101501WCN1\n",
      "18944  B000KXL7G8     3.0  AHD101501WCN1\n",
      "21174  0385014201     4.0  AHD101501WCN1\n",
      "21913  B000879GOQ     1.0  AHD101501WCN1\n",
      "23761  B000PS9N5U     5.0  AHD101501WCN1\n",
      "23781  B0006DXU8U     5.0  AHD101501WCN1\n",
      "23973  B000PHIIM0     5.0  AHD101501WCN1\n",
      "23997  B000PHIIM0     4.0  AHD101501WCN1\n",
      "25070  1567230288     5.0  AHD101501WCN1\n",
      "25983  B000L1WSBC     4.0  AHD101501WCN1\n",
      "27642  B0006DG9WO     5.0  AHD101501WCN1\n",
      "28194  B0007IKVHW     4.0  AHD101501WCN1\n",
      "34989  0553234080     5.0  AHD101501WCN1\n",
      "35122  B000896CJ6     5.0  AHD101501WCN1\n",
      "35125  B000896CJ6     4.0  AHD101501WCN1\n",
      "36074  B000GWIH52     5.0  AHD101501WCN1\n",
      "36075  B000GWIH52     5.0  AHD101501WCN1\n",
      "36807  B000K5Q9JQ     5.0  AHD101501WCN1\n",
      "36979  B000KDO2L0     5.0  AHD101501WCN1\n",
      "37005  B0006AVE2M     4.0  AHD101501WCN1\n",
      "40911  B000PGC9SU     5.0  AHD101501WCN1\n",
      "41377  0806520574     5.0  AHD101501WCN1\n",
      "42501  B000Q12ZQA     5.0  AHD101501WCN1\n",
      "44424  1932994416     4.0  AHD101501WCN1\n",
      "44651  B000B7SBZI     5.0  AHD101501WCN1\n",
      "        ProductID  Review          UserID\n",
      "2365   B000N6DDJQ     4.0  A1YE1GIKUPBX3F\n",
      "38667  0764229893     4.0  A1YE1GIKUPBX3F\n",
      "        ProductID  Review          UserID\n",
      "2384   B000N6DDJQ     5.0  A232HUAELH5J6V\n",
      "13257  B000O1UCCQ     2.0  A232HUAELH5J6V\n",
      "14577  0931255058     4.0  A232HUAELH5J6V\n",
      "21036  1588550346     5.0  A232HUAELH5J6V\n",
      "27505  B000JJ9ISM     4.0  A232HUAELH5J6V\n",
      "       ProductID  Review          UserID\n",
      "2266  B000N6DDJQ     5.0  A1OXI0N58TMYY9\n",
      "2302  B000N6DDJQ     5.0  A1OXI0N58TMYY9\n",
      "2385  B000N6DDJQ     5.0  A1OXI0N58TMYY9\n",
      "        ProductID  Review         UserID\n",
      "2389   B000N6DDJQ     4.0  A3EOHYIHQM3KK\n",
      "9230   1588550311     3.0  A3EOHYIHQM3KK\n",
      "12338  158855032X     5.0  A3EOHYIHQM3KK\n",
      "12364  158855032X     5.0  A3EOHYIHQM3KK\n",
      "39168  0192833502     5.0  A3EOHYIHQM3KK\n",
      "43816  B0009KKVZU     2.0  A3EOHYIHQM3KK\n",
      "        ProductID  Review          UserID\n",
      "2395   B000N6DDJQ     5.0  A12A08OL0TZY0W\n",
      "5359   B000GP1Q7A     5.0  A12A08OL0TZY0W\n",
      "18259  B000TZ19TC     5.0  A12A08OL0TZY0W\n",
      "24824  B0000CJHS6     5.0  A12A08OL0TZY0W\n",
      "25993  B000L1WSBC     5.0  A12A08OL0TZY0W\n",
      "27264  0380633132     4.0  A12A08OL0TZY0W\n",
      "28169  0192816977     5.0  A12A08OL0TZY0W\n",
      "31094  B000MV8HG6     4.0  A12A08OL0TZY0W\n",
      "35120  B000896CJ6     5.0  A12A08OL0TZY0W\n",
      "35467  0140000364     5.0  A12A08OL0TZY0W\n",
      "41047  B000PGC9SU     5.0  A12A08OL0TZY0W\n",
      "43875  B0009KKVZU     5.0  A12A08OL0TZY0W\n",
      "43882  B0009KKVZU     5.0  A12A08OL0TZY0W\n",
      "        ProductID  Review          UserID\n",
      "617    B000GSNTRC     4.0  A1D2C0WDCSHUWZ\n",
      "1850   B000N6DDJQ     5.0  A1D2C0WDCSHUWZ\n",
      "1853   B000N6DDJQ     5.0  A1D2C0WDCSHUWZ\n",
      "2167   B000N6DDJQ     5.0  A1D2C0WDCSHUWZ\n",
      "2397   B000N6DDJQ     5.0  A1D2C0WDCSHUWZ\n",
      "3364   B000NSKB12     5.0  A1D2C0WDCSHUWZ\n",
      "3371   B000NSKB12     5.0  A1D2C0WDCSHUWZ\n",
      "5392   B000J5KSK8     4.0  A1D2C0WDCSHUWZ\n",
      "5873   B000I83ZJC     5.0  A1D2C0WDCSHUWZ\n",
      "5893   B000I83ZJC     4.0  A1D2C0WDCSHUWZ\n",
      "5901   B000I83ZJC     5.0  A1D2C0WDCSHUWZ\n",
      "8490   B0006AONEI     5.0  A1D2C0WDCSHUWZ\n",
      "9008   1588550311     5.0  A1D2C0WDCSHUWZ\n",
      "9009   1588550311     5.0  A1D2C0WDCSHUWZ\n",
      "9026   1588550311     5.0  A1D2C0WDCSHUWZ\n",
      "9104   1588550311     5.0  A1D2C0WDCSHUWZ\n",
      "9118   1588550311     5.0  A1D2C0WDCSHUWZ\n",
      "9160   1588550311     5.0  A1D2C0WDCSHUWZ\n",
      "9161   1588550311     5.0  A1D2C0WDCSHUWZ\n",
      "9221   1588550311     5.0  A1D2C0WDCSHUWZ\n",
      "22623  1581180012     4.0  A1D2C0WDCSHUWZ\n",
      "22636  1581180012     4.0  A1D2C0WDCSHUWZ\n",
      "22643  1581180012     4.0  A1D2C0WDCSHUWZ\n",
      "22666  1581180012     4.0  A1D2C0WDCSHUWZ\n",
      "22682  1581180012     4.0  A1D2C0WDCSHUWZ\n",
      "22737  1581180012     4.0  A1D2C0WDCSHUWZ\n",
      "22753  1581180012     4.0  A1D2C0WDCSHUWZ\n",
      "22831  1581180012     4.0  A1D2C0WDCSHUWZ\n",
      "22862  1581180012     4.0  A1D2C0WDCSHUWZ\n",
      "26616  B000NP1FT2     5.0  A1D2C0WDCSHUWZ\n",
      "31063  1892065142     5.0  A1D2C0WDCSHUWZ\n",
      "31395  B000E6JMXQ     4.0  A1D2C0WDCSHUWZ\n",
      "31431  B000E6JMXQ     4.0  A1D2C0WDCSHUWZ\n",
      "31432  B000E6JMXQ     5.0  A1D2C0WDCSHUWZ\n",
      "31472  B000E6JMXQ     5.0  A1D2C0WDCSHUWZ\n",
      "31701  B000E6JMXQ     5.0  A1D2C0WDCSHUWZ\n",
      "35744  0943069165     5.0  A1D2C0WDCSHUWZ\n",
      "36151  0786197005     4.0  A1D2C0WDCSHUWZ\n",
      "36152  0786197005     4.0  A1D2C0WDCSHUWZ\n",
      "36487  0786197005     4.0  A1D2C0WDCSHUWZ\n",
      "36490  0786197005     5.0  A1D2C0WDCSHUWZ\n",
      "36493  0786197005     5.0  A1D2C0WDCSHUWZ\n",
      "42500  B000Q12ZQA     5.0  A1D2C0WDCSHUWZ\n",
      "        ProductID  Review         UserID\n",
      "2409   B000N6DDJQ     3.0  ANDZZ303EP3KX\n",
      "17480  B000TZ19TC     5.0  ANDZZ303EP3KX\n",
      "30049  0140860096     5.0  ANDZZ303EP3KX\n",
      "41039  B000PGC9SU     1.0  ANDZZ303EP3KX\n",
      "44942  B000KCSGPE     4.0  ANDZZ303EP3KX\n",
      "        ProductID  Review         UserID\n",
      "2412   B000N6DDJQ     5.0  AAZXZU9CMWIC1\n",
      "40791  B000PGC9SU     5.0  AAZXZU9CMWIC1\n",
      "        ProductID  Review          UserID\n",
      "2415   B000N6DDJQ     5.0  A34989LDU92LBH\n",
      "40793  B000PGC9SU     5.0  A34989LDU92LBH\n",
      "        ProductID  Review          UserID\n",
      "2417   B000N6DDJQ     5.0  A15IK0978DBL14\n",
      "13189  1557429227     5.0  A15IK0978DBL14\n",
      "40925  B000PGC9SU     5.0  A15IK0978DBL14\n",
      "        ProductID  Review          UserID\n",
      "2419   B000N6DDJQ     3.0  A2WQNTPK7K3O1W\n",
      "8099   B000PBZH5M     2.0  A2WQNTPK7K3O1W\n",
      "10003  B000PBZH6Q     2.0  A2WQNTPK7K3O1W\n",
      "        ProductID  Review         UserID\n",
      "2422   B000N6DDJQ     5.0  AOYTGNBDDE5PE\n",
      "29005  0140860096     5.0  AOYTGNBDDE5PE\n",
      "        ProductID  Review          UserID\n",
      "2436   B000N6DDJQ     3.0  A2HFQ405AKX4IW\n",
      "9196   1588550311     4.0  A2HFQ405AKX4IW\n",
      "15492  9562910334     5.0  A2HFQ405AKX4IW\n",
      "32195  B00086TLE2     4.0  A2HFQ405AKX4IW\n",
      "32273  B00086TLE2     4.0  A2HFQ405AKX4IW\n",
      "40751  B000PGC9SU     4.0  A2HFQ405AKX4IW\n",
      "41144  1933405163     5.0  A2HFQ405AKX4IW\n",
      "        ProductID  Review         UserID\n",
      "2467   B000N6DDJQ     4.0  AK0CENM3LUM28\n",
      "12898  B0006CKNQI     4.0  AK0CENM3LUM28\n",
      "16329  9562910334     5.0  AK0CENM3LUM28\n",
      "30407  1591020913     3.0  AK0CENM3LUM28\n",
      "43824  B0009KKVZU     4.0  AK0CENM3LUM28\n",
      "        ProductID  Review          UserID\n",
      "2468   B000N6DDJQ     5.0  A3IQM57FGCAZJ9\n",
      "3490   067001012X     5.0  A3IQM57FGCAZJ9\n",
      "7902   B000PBZH5M     3.0  A3IQM57FGCAZJ9\n",
      "10256  B000PBZH6Q     3.0  A3IQM57FGCAZJ9\n",
      "18820  B000HJR45I     4.0  A3IQM57FGCAZJ9\n",
      "        ProductID  Review          UserID\n",
      "2470   B000N6DDJQ     5.0  A16YAI8OAD421D\n",
      "17349  B000TZ19TC     4.0  A16YAI8OAD421D\n",
      "       ProductID  Review         UserID\n",
      "2289  B000N6DDJQ     4.0  AS1YKFH6RSKFB\n",
      "2476  B000N6DDJQ     4.0  AS1YKFH6RSKFB\n",
      "       ProductID  Review          UserID\n",
      "1759  B000N6DDJQ     3.0  A13IZYHNIQGK4Q\n",
      "2477  B000N6DDJQ     3.0  A13IZYHNIQGK4Q\n"
     ]
    }
   ],
   "source": [
    "# data_df['ProductID'].value_counts()\n",
    "# df = data_df[data_df['ProductID'] == 'B000N6DDJQ'] \n",
    "# for val in df['UserID']:\n",
    "#     df2 = data_df[data_df['UserID'] == val]\n",
    "#     if (df2.shape[0] > 1) and (val != \"unknown\"):\n",
    "#         print(df2)"
   ]
  },
  {
   "cell_type": "code",
   "execution_count": 13,
   "metadata": {},
   "outputs": [
    {
     "data": {
      "text/html": [
       "<div>\n",
       "<style>\n",
       "    .dataframe thead tr:only-child th {\n",
       "        text-align: right;\n",
       "    }\n",
       "\n",
       "    .dataframe thead th {\n",
       "        text-align: left;\n",
       "    }\n",
       "\n",
       "    .dataframe tbody tr th {\n",
       "        vertical-align: top;\n",
       "    }\n",
       "</style>\n",
       "<table border=\"1\" class=\"dataframe\">\n",
       "  <thead>\n",
       "    <tr style=\"text-align: right;\">\n",
       "      <th></th>\n",
       "      <th>ProductID</th>\n",
       "      <th>Review</th>\n",
       "      <th>UserID</th>\n",
       "    </tr>\n",
       "  </thead>\n",
       "  <tbody>\n",
       "    <tr>\n",
       "      <th>2485</th>\n",
       "      <td>B000N6DDJQ</td>\n",
       "      <td>5.0</td>\n",
       "      <td>AVWZ1I3S6YN7I</td>\n",
       "    </tr>\n",
       "  </tbody>\n",
       "</table>\n",
       "</div>"
      ],
      "text/plain": [
       "       ProductID  Review         UserID\n",
       "2485  B000N6DDJQ     5.0  AVWZ1I3S6YN7I"
      ]
     },
     "execution_count": 13,
     "metadata": {},
     "output_type": "execute_result"
    }
   ],
   "source": [
    "# data_df[data_df['UserID'] == \"AVWZ1I3S6YN7I\"]"
   ]
  },
  {
   "cell_type": "code",
   "execution_count": 14,
   "metadata": {},
   "outputs": [
    {
     "data": {
      "text/html": [
       "<div>\n",
       "<style>\n",
       "    .dataframe thead tr:only-child th {\n",
       "        text-align: right;\n",
       "    }\n",
       "\n",
       "    .dataframe thead th {\n",
       "        text-align: left;\n",
       "    }\n",
       "\n",
       "    .dataframe tbody tr th {\n",
       "        vertical-align: top;\n",
       "    }\n",
       "</style>\n",
       "<table border=\"1\" class=\"dataframe\">\n",
       "  <thead>\n",
       "    <tr>\n",
       "      <th></th>\n",
       "      <th colspan=\"21\" halign=\"left\">Review</th>\n",
       "    </tr>\n",
       "    <tr>\n",
       "      <th>ProductID</th>\n",
       "      <th>0001515195</th>\n",
       "      <th>0005060982</th>\n",
       "      <th>0006514413</th>\n",
       "      <th>0006530451</th>\n",
       "      <th>0007101929</th>\n",
       "      <th>0007106823</th>\n",
       "      <th>0007123469</th>\n",
       "      <th>0007123477</th>\n",
       "      <th>0007128355</th>\n",
       "      <th>0020480202</th>\n",
       "      <th>...</th>\n",
       "      <th>B000RAQAUC</th>\n",
       "      <th>B000TMQQAC</th>\n",
       "      <th>B000TNAFUS</th>\n",
       "      <th>B000TZ19TC</th>\n",
       "      <th>B000TZ25D6</th>\n",
       "      <th>B000U2H682</th>\n",
       "      <th>B000U2H696</th>\n",
       "      <th>B000U2M5DS</th>\n",
       "      <th>B000UVGLZM</th>\n",
       "      <th>B000UY65EQ</th>\n",
       "    </tr>\n",
       "    <tr>\n",
       "      <th>UserID</th>\n",
       "      <th></th>\n",
       "      <th></th>\n",
       "      <th></th>\n",
       "      <th></th>\n",
       "      <th></th>\n",
       "      <th></th>\n",
       "      <th></th>\n",
       "      <th></th>\n",
       "      <th></th>\n",
       "      <th></th>\n",
       "      <th></th>\n",
       "      <th></th>\n",
       "      <th></th>\n",
       "      <th></th>\n",
       "      <th></th>\n",
       "      <th></th>\n",
       "      <th></th>\n",
       "      <th></th>\n",
       "      <th></th>\n",
       "      <th></th>\n",
       "      <th></th>\n",
       "    </tr>\n",
       "  </thead>\n",
       "  <tbody>\n",
       "    <tr>\n",
       "      <th>A105E427BB6J65</th>\n",
       "      <td>NaN</td>\n",
       "      <td>NaN</td>\n",
       "      <td>NaN</td>\n",
       "      <td>NaN</td>\n",
       "      <td>NaN</td>\n",
       "      <td>NaN</td>\n",
       "      <td>NaN</td>\n",
       "      <td>NaN</td>\n",
       "      <td>NaN</td>\n",
       "      <td>NaN</td>\n",
       "      <td>...</td>\n",
       "      <td>NaN</td>\n",
       "      <td>NaN</td>\n",
       "      <td>NaN</td>\n",
       "      <td>NaN</td>\n",
       "      <td>NaN</td>\n",
       "      <td>NaN</td>\n",
       "      <td>NaN</td>\n",
       "      <td>NaN</td>\n",
       "      <td>NaN</td>\n",
       "      <td>NaN</td>\n",
       "    </tr>\n",
       "    <tr>\n",
       "      <th>A105FAAQ06FTWA</th>\n",
       "      <td>NaN</td>\n",
       "      <td>NaN</td>\n",
       "      <td>NaN</td>\n",
       "      <td>NaN</td>\n",
       "      <td>NaN</td>\n",
       "      <td>NaN</td>\n",
       "      <td>NaN</td>\n",
       "      <td>NaN</td>\n",
       "      <td>NaN</td>\n",
       "      <td>NaN</td>\n",
       "      <td>...</td>\n",
       "      <td>NaN</td>\n",
       "      <td>NaN</td>\n",
       "      <td>NaN</td>\n",
       "      <td>NaN</td>\n",
       "      <td>NaN</td>\n",
       "      <td>NaN</td>\n",
       "      <td>NaN</td>\n",
       "      <td>NaN</td>\n",
       "      <td>NaN</td>\n",
       "      <td>NaN</td>\n",
       "    </tr>\n",
       "    <tr>\n",
       "      <th>A105MPYIG2WENU</th>\n",
       "      <td>NaN</td>\n",
       "      <td>NaN</td>\n",
       "      <td>NaN</td>\n",
       "      <td>NaN</td>\n",
       "      <td>NaN</td>\n",
       "      <td>NaN</td>\n",
       "      <td>NaN</td>\n",
       "      <td>NaN</td>\n",
       "      <td>NaN</td>\n",
       "      <td>NaN</td>\n",
       "      <td>...</td>\n",
       "      <td>NaN</td>\n",
       "      <td>NaN</td>\n",
       "      <td>NaN</td>\n",
       "      <td>NaN</td>\n",
       "      <td>NaN</td>\n",
       "      <td>NaN</td>\n",
       "      <td>NaN</td>\n",
       "      <td>NaN</td>\n",
       "      <td>NaN</td>\n",
       "      <td>NaN</td>\n",
       "    </tr>\n",
       "    <tr>\n",
       "      <th>A106016KSI0YQ</th>\n",
       "      <td>NaN</td>\n",
       "      <td>NaN</td>\n",
       "      <td>NaN</td>\n",
       "      <td>NaN</td>\n",
       "      <td>NaN</td>\n",
       "      <td>NaN</td>\n",
       "      <td>NaN</td>\n",
       "      <td>NaN</td>\n",
       "      <td>NaN</td>\n",
       "      <td>NaN</td>\n",
       "      <td>...</td>\n",
       "      <td>NaN</td>\n",
       "      <td>NaN</td>\n",
       "      <td>NaN</td>\n",
       "      <td>NaN</td>\n",
       "      <td>NaN</td>\n",
       "      <td>NaN</td>\n",
       "      <td>NaN</td>\n",
       "      <td>NaN</td>\n",
       "      <td>NaN</td>\n",
       "      <td>NaN</td>\n",
       "    </tr>\n",
       "    <tr>\n",
       "      <th>A1069WS6765UDL</th>\n",
       "      <td>NaN</td>\n",
       "      <td>NaN</td>\n",
       "      <td>NaN</td>\n",
       "      <td>NaN</td>\n",
       "      <td>NaN</td>\n",
       "      <td>NaN</td>\n",
       "      <td>NaN</td>\n",
       "      <td>NaN</td>\n",
       "      <td>NaN</td>\n",
       "      <td>NaN</td>\n",
       "      <td>...</td>\n",
       "      <td>NaN</td>\n",
       "      <td>NaN</td>\n",
       "      <td>NaN</td>\n",
       "      <td>NaN</td>\n",
       "      <td>NaN</td>\n",
       "      <td>NaN</td>\n",
       "      <td>NaN</td>\n",
       "      <td>NaN</td>\n",
       "      <td>NaN</td>\n",
       "      <td>NaN</td>\n",
       "    </tr>\n",
       "    <tr>\n",
       "      <th>A106C1NLEHPDJP</th>\n",
       "      <td>NaN</td>\n",
       "      <td>NaN</td>\n",
       "      <td>NaN</td>\n",
       "      <td>NaN</td>\n",
       "      <td>NaN</td>\n",
       "      <td>NaN</td>\n",
       "      <td>NaN</td>\n",
       "      <td>NaN</td>\n",
       "      <td>NaN</td>\n",
       "      <td>NaN</td>\n",
       "      <td>...</td>\n",
       "      <td>NaN</td>\n",
       "      <td>NaN</td>\n",
       "      <td>NaN</td>\n",
       "      <td>NaN</td>\n",
       "      <td>NaN</td>\n",
       "      <td>NaN</td>\n",
       "      <td>NaN</td>\n",
       "      <td>NaN</td>\n",
       "      <td>NaN</td>\n",
       "      <td>NaN</td>\n",
       "    </tr>\n",
       "    <tr>\n",
       "      <th>A106E1N0ZQ4D9W</th>\n",
       "      <td>NaN</td>\n",
       "      <td>NaN</td>\n",
       "      <td>NaN</td>\n",
       "      <td>NaN</td>\n",
       "      <td>NaN</td>\n",
       "      <td>NaN</td>\n",
       "      <td>NaN</td>\n",
       "      <td>NaN</td>\n",
       "      <td>NaN</td>\n",
       "      <td>NaN</td>\n",
       "      <td>...</td>\n",
       "      <td>NaN</td>\n",
       "      <td>NaN</td>\n",
       "      <td>NaN</td>\n",
       "      <td>NaN</td>\n",
       "      <td>NaN</td>\n",
       "      <td>NaN</td>\n",
       "      <td>NaN</td>\n",
       "      <td>NaN</td>\n",
       "      <td>NaN</td>\n",
       "      <td>NaN</td>\n",
       "    </tr>\n",
       "    <tr>\n",
       "      <th>A106HD4S643MHK</th>\n",
       "      <td>NaN</td>\n",
       "      <td>NaN</td>\n",
       "      <td>NaN</td>\n",
       "      <td>NaN</td>\n",
       "      <td>NaN</td>\n",
       "      <td>NaN</td>\n",
       "      <td>NaN</td>\n",
       "      <td>NaN</td>\n",
       "      <td>NaN</td>\n",
       "      <td>NaN</td>\n",
       "      <td>...</td>\n",
       "      <td>NaN</td>\n",
       "      <td>NaN</td>\n",
       "      <td>NaN</td>\n",
       "      <td>NaN</td>\n",
       "      <td>NaN</td>\n",
       "      <td>NaN</td>\n",
       "      <td>NaN</td>\n",
       "      <td>NaN</td>\n",
       "      <td>NaN</td>\n",
       "      <td>NaN</td>\n",
       "    </tr>\n",
       "    <tr>\n",
       "      <th>A106N4B4EG4DR8</th>\n",
       "      <td>NaN</td>\n",
       "      <td>NaN</td>\n",
       "      <td>NaN</td>\n",
       "      <td>NaN</td>\n",
       "      <td>NaN</td>\n",
       "      <td>NaN</td>\n",
       "      <td>NaN</td>\n",
       "      <td>NaN</td>\n",
       "      <td>NaN</td>\n",
       "      <td>NaN</td>\n",
       "      <td>...</td>\n",
       "      <td>NaN</td>\n",
       "      <td>NaN</td>\n",
       "      <td>NaN</td>\n",
       "      <td>NaN</td>\n",
       "      <td>NaN</td>\n",
       "      <td>NaN</td>\n",
       "      <td>NaN</td>\n",
       "      <td>NaN</td>\n",
       "      <td>NaN</td>\n",
       "      <td>NaN</td>\n",
       "    </tr>\n",
       "    <tr>\n",
       "      <th>A106P1BJ6P9DQH</th>\n",
       "      <td>NaN</td>\n",
       "      <td>NaN</td>\n",
       "      <td>NaN</td>\n",
       "      <td>NaN</td>\n",
       "      <td>NaN</td>\n",
       "      <td>NaN</td>\n",
       "      <td>NaN</td>\n",
       "      <td>NaN</td>\n",
       "      <td>NaN</td>\n",
       "      <td>NaN</td>\n",
       "      <td>...</td>\n",
       "      <td>NaN</td>\n",
       "      <td>NaN</td>\n",
       "      <td>NaN</td>\n",
       "      <td>NaN</td>\n",
       "      <td>NaN</td>\n",
       "      <td>NaN</td>\n",
       "      <td>NaN</td>\n",
       "      <td>NaN</td>\n",
       "      <td>NaN</td>\n",
       "      <td>NaN</td>\n",
       "    </tr>\n",
       "    <tr>\n",
       "      <th>A106T2G4GR3VXP</th>\n",
       "      <td>NaN</td>\n",
       "      <td>NaN</td>\n",
       "      <td>NaN</td>\n",
       "      <td>NaN</td>\n",
       "      <td>NaN</td>\n",
       "      <td>NaN</td>\n",
       "      <td>NaN</td>\n",
       "      <td>NaN</td>\n",
       "      <td>NaN</td>\n",
       "      <td>NaN</td>\n",
       "      <td>...</td>\n",
       "      <td>NaN</td>\n",
       "      <td>NaN</td>\n",
       "      <td>NaN</td>\n",
       "      <td>NaN</td>\n",
       "      <td>NaN</td>\n",
       "      <td>NaN</td>\n",
       "      <td>NaN</td>\n",
       "      <td>NaN</td>\n",
       "      <td>NaN</td>\n",
       "      <td>NaN</td>\n",
       "    </tr>\n",
       "    <tr>\n",
       "      <th>A10788CRDVLLPI</th>\n",
       "      <td>NaN</td>\n",
       "      <td>NaN</td>\n",
       "      <td>NaN</td>\n",
       "      <td>NaN</td>\n",
       "      <td>NaN</td>\n",
       "      <td>NaN</td>\n",
       "      <td>NaN</td>\n",
       "      <td>NaN</td>\n",
       "      <td>NaN</td>\n",
       "      <td>NaN</td>\n",
       "      <td>...</td>\n",
       "      <td>NaN</td>\n",
       "      <td>NaN</td>\n",
       "      <td>NaN</td>\n",
       "      <td>NaN</td>\n",
       "      <td>NaN</td>\n",
       "      <td>NaN</td>\n",
       "      <td>NaN</td>\n",
       "      <td>NaN</td>\n",
       "      <td>NaN</td>\n",
       "      <td>NaN</td>\n",
       "    </tr>\n",
       "    <tr>\n",
       "      <th>A107BOOU9O23BM</th>\n",
       "      <td>NaN</td>\n",
       "      <td>NaN</td>\n",
       "      <td>NaN</td>\n",
       "      <td>NaN</td>\n",
       "      <td>NaN</td>\n",
       "      <td>NaN</td>\n",
       "      <td>NaN</td>\n",
       "      <td>NaN</td>\n",
       "      <td>NaN</td>\n",
       "      <td>NaN</td>\n",
       "      <td>...</td>\n",
       "      <td>NaN</td>\n",
       "      <td>NaN</td>\n",
       "      <td>NaN</td>\n",
       "      <td>NaN</td>\n",
       "      <td>NaN</td>\n",
       "      <td>NaN</td>\n",
       "      <td>NaN</td>\n",
       "      <td>NaN</td>\n",
       "      <td>NaN</td>\n",
       "      <td>NaN</td>\n",
       "    </tr>\n",
       "    <tr>\n",
       "      <th>A107F528SN3XJU</th>\n",
       "      <td>NaN</td>\n",
       "      <td>NaN</td>\n",
       "      <td>NaN</td>\n",
       "      <td>NaN</td>\n",
       "      <td>NaN</td>\n",
       "      <td>NaN</td>\n",
       "      <td>NaN</td>\n",
       "      <td>NaN</td>\n",
       "      <td>NaN</td>\n",
       "      <td>NaN</td>\n",
       "      <td>...</td>\n",
       "      <td>NaN</td>\n",
       "      <td>NaN</td>\n",
       "      <td>NaN</td>\n",
       "      <td>NaN</td>\n",
       "      <td>NaN</td>\n",
       "      <td>NaN</td>\n",
       "      <td>NaN</td>\n",
       "      <td>NaN</td>\n",
       "      <td>NaN</td>\n",
       "      <td>NaN</td>\n",
       "    </tr>\n",
       "    <tr>\n",
       "      <th>A107H3XGCV6Y4Q</th>\n",
       "      <td>NaN</td>\n",
       "      <td>NaN</td>\n",
       "      <td>NaN</td>\n",
       "      <td>NaN</td>\n",
       "      <td>NaN</td>\n",
       "      <td>NaN</td>\n",
       "      <td>NaN</td>\n",
       "      <td>NaN</td>\n",
       "      <td>NaN</td>\n",
       "      <td>NaN</td>\n",
       "      <td>...</td>\n",
       "      <td>NaN</td>\n",
       "      <td>NaN</td>\n",
       "      <td>NaN</td>\n",
       "      <td>NaN</td>\n",
       "      <td>NaN</td>\n",
       "      <td>NaN</td>\n",
       "      <td>NaN</td>\n",
       "      <td>NaN</td>\n",
       "      <td>NaN</td>\n",
       "      <td>NaN</td>\n",
       "    </tr>\n",
       "    <tr>\n",
       "      <th>A107I3EOYE62A</th>\n",
       "      <td>NaN</td>\n",
       "      <td>NaN</td>\n",
       "      <td>NaN</td>\n",
       "      <td>NaN</td>\n",
       "      <td>NaN</td>\n",
       "      <td>NaN</td>\n",
       "      <td>NaN</td>\n",
       "      <td>NaN</td>\n",
       "      <td>NaN</td>\n",
       "      <td>NaN</td>\n",
       "      <td>...</td>\n",
       "      <td>NaN</td>\n",
       "      <td>NaN</td>\n",
       "      <td>NaN</td>\n",
       "      <td>NaN</td>\n",
       "      <td>NaN</td>\n",
       "      <td>NaN</td>\n",
       "      <td>NaN</td>\n",
       "      <td>NaN</td>\n",
       "      <td>NaN</td>\n",
       "      <td>NaN</td>\n",
       "    </tr>\n",
       "    <tr>\n",
       "      <th>A107QWK7JAITW6</th>\n",
       "      <td>NaN</td>\n",
       "      <td>NaN</td>\n",
       "      <td>NaN</td>\n",
       "      <td>NaN</td>\n",
       "      <td>NaN</td>\n",
       "      <td>NaN</td>\n",
       "      <td>NaN</td>\n",
       "      <td>NaN</td>\n",
       "      <td>NaN</td>\n",
       "      <td>NaN</td>\n",
       "      <td>...</td>\n",
       "      <td>NaN</td>\n",
       "      <td>NaN</td>\n",
       "      <td>NaN</td>\n",
       "      <td>NaN</td>\n",
       "      <td>NaN</td>\n",
       "      <td>NaN</td>\n",
       "      <td>NaN</td>\n",
       "      <td>NaN</td>\n",
       "      <td>NaN</td>\n",
       "      <td>NaN</td>\n",
       "    </tr>\n",
       "    <tr>\n",
       "      <th>A107VUL4I6CO9T</th>\n",
       "      <td>NaN</td>\n",
       "      <td>NaN</td>\n",
       "      <td>NaN</td>\n",
       "      <td>NaN</td>\n",
       "      <td>NaN</td>\n",
       "      <td>NaN</td>\n",
       "      <td>NaN</td>\n",
       "      <td>NaN</td>\n",
       "      <td>NaN</td>\n",
       "      <td>NaN</td>\n",
       "      <td>...</td>\n",
       "      <td>NaN</td>\n",
       "      <td>NaN</td>\n",
       "      <td>NaN</td>\n",
       "      <td>NaN</td>\n",
       "      <td>NaN</td>\n",
       "      <td>NaN</td>\n",
       "      <td>NaN</td>\n",
       "      <td>NaN</td>\n",
       "      <td>NaN</td>\n",
       "      <td>NaN</td>\n",
       "    </tr>\n",
       "    <tr>\n",
       "      <th>A1086PC9A0HLU5</th>\n",
       "      <td>NaN</td>\n",
       "      <td>NaN</td>\n",
       "      <td>NaN</td>\n",
       "      <td>NaN</td>\n",
       "      <td>NaN</td>\n",
       "      <td>NaN</td>\n",
       "      <td>NaN</td>\n",
       "      <td>NaN</td>\n",
       "      <td>NaN</td>\n",
       "      <td>NaN</td>\n",
       "      <td>...</td>\n",
       "      <td>NaN</td>\n",
       "      <td>NaN</td>\n",
       "      <td>NaN</td>\n",
       "      <td>NaN</td>\n",
       "      <td>NaN</td>\n",
       "      <td>NaN</td>\n",
       "      <td>NaN</td>\n",
       "      <td>NaN</td>\n",
       "      <td>NaN</td>\n",
       "      <td>NaN</td>\n",
       "    </tr>\n",
       "    <tr>\n",
       "      <th>A1087SLSJ7JQ7O</th>\n",
       "      <td>NaN</td>\n",
       "      <td>NaN</td>\n",
       "      <td>NaN</td>\n",
       "      <td>NaN</td>\n",
       "      <td>NaN</td>\n",
       "      <td>NaN</td>\n",
       "      <td>NaN</td>\n",
       "      <td>NaN</td>\n",
       "      <td>NaN</td>\n",
       "      <td>NaN</td>\n",
       "      <td>...</td>\n",
       "      <td>NaN</td>\n",
       "      <td>NaN</td>\n",
       "      <td>NaN</td>\n",
       "      <td>NaN</td>\n",
       "      <td>NaN</td>\n",
       "      <td>NaN</td>\n",
       "      <td>NaN</td>\n",
       "      <td>NaN</td>\n",
       "      <td>NaN</td>\n",
       "      <td>NaN</td>\n",
       "    </tr>\n",
       "    <tr>\n",
       "      <th>A108B6JHMTP4EY</th>\n",
       "      <td>NaN</td>\n",
       "      <td>NaN</td>\n",
       "      <td>NaN</td>\n",
       "      <td>NaN</td>\n",
       "      <td>NaN</td>\n",
       "      <td>NaN</td>\n",
       "      <td>NaN</td>\n",
       "      <td>NaN</td>\n",
       "      <td>NaN</td>\n",
       "      <td>NaN</td>\n",
       "      <td>...</td>\n",
       "      <td>NaN</td>\n",
       "      <td>NaN</td>\n",
       "      <td>NaN</td>\n",
       "      <td>NaN</td>\n",
       "      <td>NaN</td>\n",
       "      <td>NaN</td>\n",
       "      <td>NaN</td>\n",
       "      <td>NaN</td>\n",
       "      <td>NaN</td>\n",
       "      <td>NaN</td>\n",
       "    </tr>\n",
       "    <tr>\n",
       "      <th>A108D0GS1RXLNI</th>\n",
       "      <td>NaN</td>\n",
       "      <td>NaN</td>\n",
       "      <td>NaN</td>\n",
       "      <td>NaN</td>\n",
       "      <td>NaN</td>\n",
       "      <td>NaN</td>\n",
       "      <td>NaN</td>\n",
       "      <td>NaN</td>\n",
       "      <td>NaN</td>\n",
       "      <td>NaN</td>\n",
       "      <td>...</td>\n",
       "      <td>NaN</td>\n",
       "      <td>NaN</td>\n",
       "      <td>NaN</td>\n",
       "      <td>NaN</td>\n",
       "      <td>NaN</td>\n",
       "      <td>NaN</td>\n",
       "      <td>NaN</td>\n",
       "      <td>NaN</td>\n",
       "      <td>NaN</td>\n",
       "      <td>NaN</td>\n",
       "    </tr>\n",
       "    <tr>\n",
       "      <th>A108EF85USF2JE</th>\n",
       "      <td>NaN</td>\n",
       "      <td>NaN</td>\n",
       "      <td>NaN</td>\n",
       "      <td>NaN</td>\n",
       "      <td>NaN</td>\n",
       "      <td>NaN</td>\n",
       "      <td>NaN</td>\n",
       "      <td>NaN</td>\n",
       "      <td>NaN</td>\n",
       "      <td>NaN</td>\n",
       "      <td>...</td>\n",
       "      <td>NaN</td>\n",
       "      <td>NaN</td>\n",
       "      <td>NaN</td>\n",
       "      <td>NaN</td>\n",
       "      <td>NaN</td>\n",
       "      <td>NaN</td>\n",
       "      <td>NaN</td>\n",
       "      <td>NaN</td>\n",
       "      <td>NaN</td>\n",
       "      <td>NaN</td>\n",
       "    </tr>\n",
       "    <tr>\n",
       "      <th>A108JOJL6TLC91</th>\n",
       "      <td>NaN</td>\n",
       "      <td>NaN</td>\n",
       "      <td>NaN</td>\n",
       "      <td>NaN</td>\n",
       "      <td>NaN</td>\n",
       "      <td>NaN</td>\n",
       "      <td>NaN</td>\n",
       "      <td>NaN</td>\n",
       "      <td>NaN</td>\n",
       "      <td>NaN</td>\n",
       "      <td>...</td>\n",
       "      <td>NaN</td>\n",
       "      <td>NaN</td>\n",
       "      <td>NaN</td>\n",
       "      <td>NaN</td>\n",
       "      <td>NaN</td>\n",
       "      <td>NaN</td>\n",
       "      <td>NaN</td>\n",
       "      <td>NaN</td>\n",
       "      <td>NaN</td>\n",
       "      <td>NaN</td>\n",
       "    </tr>\n",
       "    <tr>\n",
       "      <th>A108JXYEJ9RZ8L</th>\n",
       "      <td>NaN</td>\n",
       "      <td>NaN</td>\n",
       "      <td>NaN</td>\n",
       "      <td>NaN</td>\n",
       "      <td>NaN</td>\n",
       "      <td>NaN</td>\n",
       "      <td>NaN</td>\n",
       "      <td>NaN</td>\n",
       "      <td>NaN</td>\n",
       "      <td>NaN</td>\n",
       "      <td>...</td>\n",
       "      <td>NaN</td>\n",
       "      <td>NaN</td>\n",
       "      <td>NaN</td>\n",
       "      <td>NaN</td>\n",
       "      <td>NaN</td>\n",
       "      <td>NaN</td>\n",
       "      <td>NaN</td>\n",
       "      <td>NaN</td>\n",
       "      <td>NaN</td>\n",
       "      <td>NaN</td>\n",
       "    </tr>\n",
       "  </tbody>\n",
       "</table>\n",
       "<p>25 rows × 3457 columns</p>\n",
       "</div>"
      ],
      "text/plain": [
       "                   Review                                              \\\n",
       "ProductID      0001515195 0005060982 0006514413 0006530451 0007101929   \n",
       "UserID                                                                  \n",
       "A105E427BB6J65        NaN        NaN        NaN        NaN        NaN   \n",
       "A105FAAQ06FTWA        NaN        NaN        NaN        NaN        NaN   \n",
       "A105MPYIG2WENU        NaN        NaN        NaN        NaN        NaN   \n",
       "A106016KSI0YQ         NaN        NaN        NaN        NaN        NaN   \n",
       "A1069WS6765UDL        NaN        NaN        NaN        NaN        NaN   \n",
       "A106C1NLEHPDJP        NaN        NaN        NaN        NaN        NaN   \n",
       "A106E1N0ZQ4D9W        NaN        NaN        NaN        NaN        NaN   \n",
       "A106HD4S643MHK        NaN        NaN        NaN        NaN        NaN   \n",
       "A106N4B4EG4DR8        NaN        NaN        NaN        NaN        NaN   \n",
       "A106P1BJ6P9DQH        NaN        NaN        NaN        NaN        NaN   \n",
       "A106T2G4GR3VXP        NaN        NaN        NaN        NaN        NaN   \n",
       "A10788CRDVLLPI        NaN        NaN        NaN        NaN        NaN   \n",
       "A107BOOU9O23BM        NaN        NaN        NaN        NaN        NaN   \n",
       "A107F528SN3XJU        NaN        NaN        NaN        NaN        NaN   \n",
       "A107H3XGCV6Y4Q        NaN        NaN        NaN        NaN        NaN   \n",
       "A107I3EOYE62A         NaN        NaN        NaN        NaN        NaN   \n",
       "A107QWK7JAITW6        NaN        NaN        NaN        NaN        NaN   \n",
       "A107VUL4I6CO9T        NaN        NaN        NaN        NaN        NaN   \n",
       "A1086PC9A0HLU5        NaN        NaN        NaN        NaN        NaN   \n",
       "A1087SLSJ7JQ7O        NaN        NaN        NaN        NaN        NaN   \n",
       "A108B6JHMTP4EY        NaN        NaN        NaN        NaN        NaN   \n",
       "A108D0GS1RXLNI        NaN        NaN        NaN        NaN        NaN   \n",
       "A108EF85USF2JE        NaN        NaN        NaN        NaN        NaN   \n",
       "A108JOJL6TLC91        NaN        NaN        NaN        NaN        NaN   \n",
       "A108JXYEJ9RZ8L        NaN        NaN        NaN        NaN        NaN   \n",
       "\n",
       "                                                                       \\\n",
       "ProductID      0007106823 0007123469 0007123477 0007128355 0020480202   \n",
       "UserID                                                                  \n",
       "A105E427BB6J65        NaN        NaN        NaN        NaN        NaN   \n",
       "A105FAAQ06FTWA        NaN        NaN        NaN        NaN        NaN   \n",
       "A105MPYIG2WENU        NaN        NaN        NaN        NaN        NaN   \n",
       "A106016KSI0YQ         NaN        NaN        NaN        NaN        NaN   \n",
       "A1069WS6765UDL        NaN        NaN        NaN        NaN        NaN   \n",
       "A106C1NLEHPDJP        NaN        NaN        NaN        NaN        NaN   \n",
       "A106E1N0ZQ4D9W        NaN        NaN        NaN        NaN        NaN   \n",
       "A106HD4S643MHK        NaN        NaN        NaN        NaN        NaN   \n",
       "A106N4B4EG4DR8        NaN        NaN        NaN        NaN        NaN   \n",
       "A106P1BJ6P9DQH        NaN        NaN        NaN        NaN        NaN   \n",
       "A106T2G4GR3VXP        NaN        NaN        NaN        NaN        NaN   \n",
       "A10788CRDVLLPI        NaN        NaN        NaN        NaN        NaN   \n",
       "A107BOOU9O23BM        NaN        NaN        NaN        NaN        NaN   \n",
       "A107F528SN3XJU        NaN        NaN        NaN        NaN        NaN   \n",
       "A107H3XGCV6Y4Q        NaN        NaN        NaN        NaN        NaN   \n",
       "A107I3EOYE62A         NaN        NaN        NaN        NaN        NaN   \n",
       "A107QWK7JAITW6        NaN        NaN        NaN        NaN        NaN   \n",
       "A107VUL4I6CO9T        NaN        NaN        NaN        NaN        NaN   \n",
       "A1086PC9A0HLU5        NaN        NaN        NaN        NaN        NaN   \n",
       "A1087SLSJ7JQ7O        NaN        NaN        NaN        NaN        NaN   \n",
       "A108B6JHMTP4EY        NaN        NaN        NaN        NaN        NaN   \n",
       "A108D0GS1RXLNI        NaN        NaN        NaN        NaN        NaN   \n",
       "A108EF85USF2JE        NaN        NaN        NaN        NaN        NaN   \n",
       "A108JOJL6TLC91        NaN        NaN        NaN        NaN        NaN   \n",
       "A108JXYEJ9RZ8L        NaN        NaN        NaN        NaN        NaN   \n",
       "\n",
       "                  ...                                                  \\\n",
       "ProductID         ...     B000RAQAUC B000TMQQAC B000TNAFUS B000TZ19TC   \n",
       "UserID            ...                                                   \n",
       "A105E427BB6J65    ...            NaN        NaN        NaN        NaN   \n",
       "A105FAAQ06FTWA    ...            NaN        NaN        NaN        NaN   \n",
       "A105MPYIG2WENU    ...            NaN        NaN        NaN        NaN   \n",
       "A106016KSI0YQ     ...            NaN        NaN        NaN        NaN   \n",
       "A1069WS6765UDL    ...            NaN        NaN        NaN        NaN   \n",
       "A106C1NLEHPDJP    ...            NaN        NaN        NaN        NaN   \n",
       "A106E1N0ZQ4D9W    ...            NaN        NaN        NaN        NaN   \n",
       "A106HD4S643MHK    ...            NaN        NaN        NaN        NaN   \n",
       "A106N4B4EG4DR8    ...            NaN        NaN        NaN        NaN   \n",
       "A106P1BJ6P9DQH    ...            NaN        NaN        NaN        NaN   \n",
       "A106T2G4GR3VXP    ...            NaN        NaN        NaN        NaN   \n",
       "A10788CRDVLLPI    ...            NaN        NaN        NaN        NaN   \n",
       "A107BOOU9O23BM    ...            NaN        NaN        NaN        NaN   \n",
       "A107F528SN3XJU    ...            NaN        NaN        NaN        NaN   \n",
       "A107H3XGCV6Y4Q    ...            NaN        NaN        NaN        NaN   \n",
       "A107I3EOYE62A     ...            NaN        NaN        NaN        NaN   \n",
       "A107QWK7JAITW6    ...            NaN        NaN        NaN        NaN   \n",
       "A107VUL4I6CO9T    ...            NaN        NaN        NaN        NaN   \n",
       "A1086PC9A0HLU5    ...            NaN        NaN        NaN        NaN   \n",
       "A1087SLSJ7JQ7O    ...            NaN        NaN        NaN        NaN   \n",
       "A108B6JHMTP4EY    ...            NaN        NaN        NaN        NaN   \n",
       "A108D0GS1RXLNI    ...            NaN        NaN        NaN        NaN   \n",
       "A108EF85USF2JE    ...            NaN        NaN        NaN        NaN   \n",
       "A108JOJL6TLC91    ...            NaN        NaN        NaN        NaN   \n",
       "A108JXYEJ9RZ8L    ...            NaN        NaN        NaN        NaN   \n",
       "\n",
       "                                                                       \\\n",
       "ProductID      B000TZ25D6 B000U2H682 B000U2H696 B000U2M5DS B000UVGLZM   \n",
       "UserID                                                                  \n",
       "A105E427BB6J65        NaN        NaN        NaN        NaN        NaN   \n",
       "A105FAAQ06FTWA        NaN        NaN        NaN        NaN        NaN   \n",
       "A105MPYIG2WENU        NaN        NaN        NaN        NaN        NaN   \n",
       "A106016KSI0YQ         NaN        NaN        NaN        NaN        NaN   \n",
       "A1069WS6765UDL        NaN        NaN        NaN        NaN        NaN   \n",
       "A106C1NLEHPDJP        NaN        NaN        NaN        NaN        NaN   \n",
       "A106E1N0ZQ4D9W        NaN        NaN        NaN        NaN        NaN   \n",
       "A106HD4S643MHK        NaN        NaN        NaN        NaN        NaN   \n",
       "A106N4B4EG4DR8        NaN        NaN        NaN        NaN        NaN   \n",
       "A106P1BJ6P9DQH        NaN        NaN        NaN        NaN        NaN   \n",
       "A106T2G4GR3VXP        NaN        NaN        NaN        NaN        NaN   \n",
       "A10788CRDVLLPI        NaN        NaN        NaN        NaN        NaN   \n",
       "A107BOOU9O23BM        NaN        NaN        NaN        NaN        NaN   \n",
       "A107F528SN3XJU        NaN        NaN        NaN        NaN        NaN   \n",
       "A107H3XGCV6Y4Q        NaN        NaN        NaN        NaN        NaN   \n",
       "A107I3EOYE62A         NaN        NaN        NaN        NaN        NaN   \n",
       "A107QWK7JAITW6        NaN        NaN        NaN        NaN        NaN   \n",
       "A107VUL4I6CO9T        NaN        NaN        NaN        NaN        NaN   \n",
       "A1086PC9A0HLU5        NaN        NaN        NaN        NaN        NaN   \n",
       "A1087SLSJ7JQ7O        NaN        NaN        NaN        NaN        NaN   \n",
       "A108B6JHMTP4EY        NaN        NaN        NaN        NaN        NaN   \n",
       "A108D0GS1RXLNI        NaN        NaN        NaN        NaN        NaN   \n",
       "A108EF85USF2JE        NaN        NaN        NaN        NaN        NaN   \n",
       "A108JOJL6TLC91        NaN        NaN        NaN        NaN        NaN   \n",
       "A108JXYEJ9RZ8L        NaN        NaN        NaN        NaN        NaN   \n",
       "\n",
       "                           \n",
       "ProductID      B000UY65EQ  \n",
       "UserID                     \n",
       "A105E427BB6J65        NaN  \n",
       "A105FAAQ06FTWA        NaN  \n",
       "A105MPYIG2WENU        NaN  \n",
       "A106016KSI0YQ         NaN  \n",
       "A1069WS6765UDL        NaN  \n",
       "A106C1NLEHPDJP        NaN  \n",
       "A106E1N0ZQ4D9W        NaN  \n",
       "A106HD4S643MHK        NaN  \n",
       "A106N4B4EG4DR8        NaN  \n",
       "A106P1BJ6P9DQH        NaN  \n",
       "A106T2G4GR3VXP        NaN  \n",
       "A10788CRDVLLPI        NaN  \n",
       "A107BOOU9O23BM        NaN  \n",
       "A107F528SN3XJU        NaN  \n",
       "A107H3XGCV6Y4Q        NaN  \n",
       "A107I3EOYE62A         NaN  \n",
       "A107QWK7JAITW6        NaN  \n",
       "A107VUL4I6CO9T        NaN  \n",
       "A1086PC9A0HLU5        NaN  \n",
       "A1087SLSJ7JQ7O        NaN  \n",
       "A108B6JHMTP4EY        NaN  \n",
       "A108D0GS1RXLNI        NaN  \n",
       "A108EF85USF2JE        NaN  \n",
       "A108JOJL6TLC91        NaN  \n",
       "A108JXYEJ9RZ8L        NaN  \n",
       "\n",
       "[25 rows x 3457 columns]"
      ]
     },
     "execution_count": 14,
     "metadata": {},
     "output_type": "execute_result"
    }
   ],
   "source": [
    "# data_pivot = data_df.pivot_table(index = [\"UserID\"], columns=[\"ProductID\"], values=[\"Review\"])\n",
    "# data_pivot[50:75]"
   ]
  },
  {
   "cell_type": "code",
   "execution_count": 15,
   "metadata": {},
   "outputs": [
    {
     "data": {
      "text/plain": [
       "(30762, 3457)"
      ]
     },
     "execution_count": 15,
     "metadata": {},
     "output_type": "execute_result"
    }
   ],
   "source": [
    "# data_pivot.columns = data_pivot.columns.droplevel()\n",
    "# #[print(x) for x in data_pivot.columns]\n",
    "# data_pivot.shape"
   ]
  },
  {
   "cell_type": "markdown",
   "metadata": {},
   "source": [
    "Building item based collaberative recommender without using any packages"
   ]
  },
  {
   "cell_type": "code",
   "execution_count": 14,
   "metadata": {
    "collapsed": true
   },
   "outputs": [],
   "source": [
    "# # function to get pearson correlation between two items\n",
    "\n",
    "# def get_cor(i1, i2):\n",
    "#     corr = data_pivot[i1].corr(data_pivot[i2])\n",
    "#     return corr\n",
    "\n",
    "# # function to calculate correlation against all other columns for a given item\n",
    "\n",
    "# def all_corr(i1, df, m):\n",
    "#     rank_corr = []\n",
    "#     for col in df.columns:\n",
    "#         if (col != None) and (col != i1):\n",
    "#             corr = get_cor(i1, col)\n",
    "#             cor_ls = {'item': col,\n",
    "#                       'cor': corr}\n",
    "#             rank_corr.append(cor_ls)\n",
    "    \n",
    "#     order_rank_corr = sorted(rank_corr, key = lambda item: (item['cor']), reverse=True)\n",
    "#     #print(order_rank_corr)\n",
    "#     return(order_rank_corr[:m])\n"
   ]
  },
  {
   "cell_type": "code",
   "execution_count": 16,
   "metadata": {},
   "outputs": [
    {
     "data": {
      "text/plain": [
       "B000N6DDJQ\\n    758\n",
       "B0007H4QBK\\n    330\n",
       "B000O3QCH8\\n    157\n",
       "0671551345\\n    134\n",
       "B000MCKQRS\\n    124\n",
       "B000NSKB12\\n    118\n",
       "B000HU0H2E\\n    103\n",
       "050552421X\\n     97\n",
       "0505524228\\n     91\n",
       "B000NRYUHO\\n     76\n",
       "B0000630MU\\n     55\n",
       "B000NKGYNE\\n     55\n",
       "B0006DM4E6\\n     52\n",
       "0679751254\\n     49\n",
       "0974267600\\n     48\n",
       "1883011035\\n     45\n",
       "0671551353\\n     43\n",
       "B0006DM4DW\\n     40\n",
       "0375422811\\n     40\n",
       "B000N7612G\\n     39\n",
       "0931580161\\n     34\n",
       "B000GLTD5Q\\n     32\n",
       "0595344550\\n     32\n",
       "0792799860\\n     31\n",
       "1564966763\\n     29\n",
       "0976324644\\n     28\n",
       "1890460052\\n     27\n",
       "0789480662\\n     27\n",
       "B000NKGYMK\\n     27\n",
       "B0006ANRXG\\n     26\n",
       "               ... \n",
       "0878403825\\n      1\n",
       "0253338352\\n      1\n",
       "0813318726\\n      1\n",
       "B0007IVPAO\\n      1\n",
       "0812830849\\n      1\n",
       "B0007FXCVM\\n      1\n",
       "1859673643\\n      1\n",
       "0768911001\\n      1\n",
       "B000H45MXO\\n      1\n",
       "0882292196\\n      1\n",
       "0975318004\\n      1\n",
       "0867093455\\n      1\n",
       "156292656X\\n      1\n",
       "1423410203\\n      1\n",
       "B0006DM4DC\\n      1\n",
       "0582485541\\n      1\n",
       "B00088DVTQ\\n      1\n",
       "B000OXCBJQ\\n      1\n",
       "0710613776\\n      1\n",
       "0567087786\\n      1\n",
       "0026204207\\n      1\n",
       "0966137116\\n      1\n",
       "0691021155\\n      1\n",
       "B0007DQIIS\\n      1\n",
       "157003088X\\n      1\n",
       "B0007DRE5E\\n      1\n",
       "1843762366\\n      1\n",
       "0908968000\\n      1\n",
       "B0007E2A8E\\n      1\n",
       "B0008BT8Q8\\n      1\n",
       "Name: ProductID, dtype: int64"
      ]
     },
     "execution_count": 16,
     "metadata": {},
     "output_type": "execute_result"
    }
   ],
   "source": [
    "# data_df['ProductID'].value_counts()"
   ]
  },
  {
   "cell_type": "markdown",
   "metadata": {},
   "source": [
    "Using GraphLab to perform item based collaborative filtering"
   ]
  },
  {
   "cell_type": "code",
   "execution_count": 31,
   "metadata": {
    "collapsed": true
   },
   "outputs": [],
   "source": [
    "import graphlab as gl"
   ]
  },
  {
   "cell_type": "code",
   "execution_count": 32,
   "metadata": {},
   "outputs": [
    {
     "ename": "TypeError",
     "evalue": "A common type cannot be infered from types float, string.",
     "output_type": "error",
     "traceback": [
      "\u001b[0;31m---------------------------------------------------------------------------\u001b[0m",
      "\u001b[0;31mTypeError\u001b[0m                                 Traceback (most recent call last)",
      "\u001b[0;32m<ipython-input-32-8a8871c1ef6a>\u001b[0m in \u001b[0;36m<module>\u001b[0;34m()\u001b[0m\n\u001b[1;32m      1\u001b[0m sf = gl.SFrame({'user_id': data_df['UserID'],\n\u001b[1;32m      2\u001b[0m                       \u001b[0;34m'item_id'\u001b[0m\u001b[0;34m:\u001b[0m \u001b[0mdata_df\u001b[0m\u001b[0;34m[\u001b[0m\u001b[0;34m'ProductID'\u001b[0m\u001b[0;34m]\u001b[0m\u001b[0;34m,\u001b[0m\u001b[0;34m\u001b[0m\u001b[0m\n\u001b[0;32m----> 3\u001b[0;31m                       'rating': data_df['Review']})\n\u001b[0m",
      "\u001b[0;32m/Users/ravitejachikkam/Anaconda/anaconda/envs/gl-env/lib/python2.7/site-packages/graphlab/data_structures/sframe.pyc\u001b[0m in \u001b[0;36m__init__\u001b[0;34m(self, data, format, _proxy)\u001b[0m\n\u001b[1;32m    951\u001b[0m                     \u001b[0;32mpass\u001b[0m\u001b[0;34m\u001b[0m\u001b[0m\n\u001b[1;32m    952\u001b[0m                 \u001b[0;32melse\u001b[0m\u001b[0;34m:\u001b[0m\u001b[0;34m\u001b[0m\u001b[0m\n\u001b[0;32m--> 953\u001b[0;31m                     \u001b[0;32mraise\u001b[0m \u001b[0mValueError\u001b[0m\u001b[0;34m(\u001b[0m\u001b[0;34m'Unknown input type: '\u001b[0m \u001b[0;34m+\u001b[0m \u001b[0mformat\u001b[0m\u001b[0;34m)\u001b[0m\u001b[0;34m\u001b[0m\u001b[0m\n\u001b[0m\u001b[1;32m    954\u001b[0m \u001b[0;34m\u001b[0m\u001b[0m\n\u001b[1;32m    955\u001b[0m         \u001b[0msframe_size\u001b[0m \u001b[0;34m=\u001b[0m \u001b[0;34m-\u001b[0m\u001b[0;36m1\u001b[0m\u001b[0;34m\u001b[0m\u001b[0m\n",
      "\u001b[0;32m/Users/ravitejachikkam/Anaconda/anaconda/envs/gl-env/lib/python2.7/site-packages/graphlab/cython/context.pyc\u001b[0m in \u001b[0;36m__exit__\u001b[0;34m(self, exc_type, exc_value, traceback)\u001b[0m\n\u001b[1;32m     47\u001b[0m             \u001b[0;32mif\u001b[0m \u001b[0;32mnot\u001b[0m \u001b[0mself\u001b[0m\u001b[0;34m.\u001b[0m\u001b[0mshow_cython_trace\u001b[0m\u001b[0;34m:\u001b[0m\u001b[0;34m\u001b[0m\u001b[0m\n\u001b[1;32m     48\u001b[0m                 \u001b[0;31m# To hide cython trace, we re-raise from here\u001b[0m\u001b[0;34m\u001b[0m\u001b[0;34m\u001b[0m\u001b[0m\n\u001b[0;32m---> 49\u001b[0;31m                 \u001b[0;32mraise\u001b[0m \u001b[0mexc_type\u001b[0m\u001b[0;34m(\u001b[0m\u001b[0mexc_value\u001b[0m\u001b[0;34m)\u001b[0m\u001b[0;34m\u001b[0m\u001b[0m\n\u001b[0m\u001b[1;32m     50\u001b[0m             \u001b[0;32melse\u001b[0m\u001b[0;34m:\u001b[0m\u001b[0;34m\u001b[0m\u001b[0m\n\u001b[1;32m     51\u001b[0m                 \u001b[0;31m# To show the full trace, we do nothing and let exception propagate\u001b[0m\u001b[0;34m\u001b[0m\u001b[0;34m\u001b[0m\u001b[0m\n",
      "\u001b[0;31mTypeError\u001b[0m: A common type cannot be infered from types float, string."
     ]
    }
   ],
   "source": [
    "sf = gl.SFrame({'user_id': data_df['UserID'],\n",
    "                      'item_id': data_df['ProductID'],\n",
    "                      'rating': data_df['Review']})"
   ]
  },
  {
   "cell_type": "code",
   "execution_count": 12,
   "metadata": {
    "collapsed": true
   },
   "outputs": [],
   "source": [
    "#from gl.recommender import item_similarity_recommender"
   ]
  },
  {
   "cell_type": "code",
   "execution_count": 13,
   "metadata": {},
   "outputs": [
    {
     "data": {
      "text/html": [
       "<pre>Recsys training: model = factorization_recommender</pre>"
      ],
      "text/plain": [
       "Recsys training: model = factorization_recommender"
      ]
     },
     "metadata": {},
     "output_type": "display_data"
    },
    {
     "data": {
      "text/html": [
       "<pre>Preparing data set.</pre>"
      ],
      "text/plain": [
       "Preparing data set."
      ]
     },
     "metadata": {},
     "output_type": "display_data"
    },
    {
     "data": {
      "text/html": [
       "<pre>    Data has 45454 observations with 30762 users and 3457 items.</pre>"
      ],
      "text/plain": [
       "    Data has 45454 observations with 30762 users and 3457 items."
      ]
     },
     "metadata": {},
     "output_type": "display_data"
    },
    {
     "data": {
      "text/html": [
       "<pre>    Data prepared in: 0.12604s</pre>"
      ],
      "text/plain": [
       "    Data prepared in: 0.12604s"
      ]
     },
     "metadata": {},
     "output_type": "display_data"
    },
    {
     "data": {
      "text/html": [
       "<pre>Training factorization_recommender for recommendations.</pre>"
      ],
      "text/plain": [
       "Training factorization_recommender for recommendations."
      ]
     },
     "metadata": {},
     "output_type": "display_data"
    },
    {
     "data": {
      "text/html": [
       "<pre>+--------------------------------+--------------------------------------------------+----------+</pre>"
      ],
      "text/plain": [
       "+--------------------------------+--------------------------------------------------+----------+"
      ]
     },
     "metadata": {},
     "output_type": "display_data"
    },
    {
     "data": {
      "text/html": [
       "<pre>| Parameter                      | Description                                      | Value    |</pre>"
      ],
      "text/plain": [
       "| Parameter                      | Description                                      | Value    |"
      ]
     },
     "metadata": {},
     "output_type": "display_data"
    },
    {
     "data": {
      "text/html": [
       "<pre>+--------------------------------+--------------------------------------------------+----------+</pre>"
      ],
      "text/plain": [
       "+--------------------------------+--------------------------------------------------+----------+"
      ]
     },
     "metadata": {},
     "output_type": "display_data"
    },
    {
     "data": {
      "text/html": [
       "<pre>| num_factors                    | Factor Dimension                                 | 8        |</pre>"
      ],
      "text/plain": [
       "| num_factors                    | Factor Dimension                                 | 8        |"
      ]
     },
     "metadata": {},
     "output_type": "display_data"
    },
    {
     "data": {
      "text/html": [
       "<pre>| regularization                 | L2 Regularization on Factors                     | 1e-08    |</pre>"
      ],
      "text/plain": [
       "| regularization                 | L2 Regularization on Factors                     | 1e-08    |"
      ]
     },
     "metadata": {},
     "output_type": "display_data"
    },
    {
     "data": {
      "text/html": [
       "<pre>| solver                         | Solver used for training                         | sgd      |</pre>"
      ],
      "text/plain": [
       "| solver                         | Solver used for training                         | sgd      |"
      ]
     },
     "metadata": {},
     "output_type": "display_data"
    },
    {
     "data": {
      "text/html": [
       "<pre>| linear_regularization          | L2 Regularization on Linear Coefficients         | 1e-10    |</pre>"
      ],
      "text/plain": [
       "| linear_regularization          | L2 Regularization on Linear Coefficients         | 1e-10    |"
      ]
     },
     "metadata": {},
     "output_type": "display_data"
    },
    {
     "data": {
      "text/html": [
       "<pre>| max_iterations                 | Maximum Number of Iterations                     | 50       |</pre>"
      ],
      "text/plain": [
       "| max_iterations                 | Maximum Number of Iterations                     | 50       |"
      ]
     },
     "metadata": {},
     "output_type": "display_data"
    },
    {
     "data": {
      "text/html": [
       "<pre>+--------------------------------+--------------------------------------------------+----------+</pre>"
      ],
      "text/plain": [
       "+--------------------------------+--------------------------------------------------+----------+"
      ]
     },
     "metadata": {},
     "output_type": "display_data"
    },
    {
     "data": {
      "text/html": [
       "<pre>  Optimizing model using SGD; tuning step size.</pre>"
      ],
      "text/plain": [
       "  Optimizing model using SGD; tuning step size."
      ]
     },
     "metadata": {},
     "output_type": "display_data"
    },
    {
     "data": {
      "text/html": [
       "<pre>  Using 10000 / 45454 points for tuning the step size.</pre>"
      ],
      "text/plain": [
       "  Using 10000 / 45454 points for tuning the step size."
      ]
     },
     "metadata": {},
     "output_type": "display_data"
    },
    {
     "data": {
      "text/html": [
       "<pre>+---------+-------------------+------------------------------------------+</pre>"
      ],
      "text/plain": [
       "+---------+-------------------+------------------------------------------+"
      ]
     },
     "metadata": {},
     "output_type": "display_data"
    },
    {
     "data": {
      "text/html": [
       "<pre>| Attempt | Initial Step Size | Estimated Objective Value                |</pre>"
      ],
      "text/plain": [
       "| Attempt | Initial Step Size | Estimated Objective Value                |"
      ]
     },
     "metadata": {},
     "output_type": "display_data"
    },
    {
     "data": {
      "text/html": [
       "<pre>+---------+-------------------+------------------------------------------+</pre>"
      ],
      "text/plain": [
       "+---------+-------------------+------------------------------------------+"
      ]
     },
     "metadata": {},
     "output_type": "display_data"
    },
    {
     "data": {
      "text/html": [
       "<pre>| 0       | 25                | Not Viable                               |</pre>"
      ],
      "text/plain": [
       "| 0       | 25                | Not Viable                               |"
      ]
     },
     "metadata": {},
     "output_type": "display_data"
    },
    {
     "data": {
      "text/html": [
       "<pre>| 1       | 6.25              | Not Viable                               |</pre>"
      ],
      "text/plain": [
       "| 1       | 6.25              | Not Viable                               |"
      ]
     },
     "metadata": {},
     "output_type": "display_data"
    },
    {
     "data": {
      "text/html": [
       "<pre>| 2       | 1.5625            | Not Viable                               |</pre>"
      ],
      "text/plain": [
       "| 2       | 1.5625            | Not Viable                               |"
      ]
     },
     "metadata": {},
     "output_type": "display_data"
    },
    {
     "data": {
      "text/html": [
       "<pre>| 3       | 0.390625          | 0.585834                                 |</pre>"
      ],
      "text/plain": [
       "| 3       | 0.390625          | 0.585834                                 |"
      ]
     },
     "metadata": {},
     "output_type": "display_data"
    },
    {
     "data": {
      "text/html": [
       "<pre>| 4       | 0.195312          | 0.345173                                 |</pre>"
      ],
      "text/plain": [
       "| 4       | 0.195312          | 0.345173                                 |"
      ]
     },
     "metadata": {},
     "output_type": "display_data"
    },
    {
     "data": {
      "text/html": [
       "<pre>| 5       | 0.0976562         | 0.525189                                 |</pre>"
      ],
      "text/plain": [
       "| 5       | 0.0976562         | 0.525189                                 |"
      ]
     },
     "metadata": {},
     "output_type": "display_data"
    },
    {
     "data": {
      "text/html": [
       "<pre>| 6       | 0.0488281         | 0.76793                                  |</pre>"
      ],
      "text/plain": [
       "| 6       | 0.0488281         | 0.76793                                  |"
      ]
     },
     "metadata": {},
     "output_type": "display_data"
    },
    {
     "data": {
      "text/html": [
       "<pre>+---------+-------------------+------------------------------------------+</pre>"
      ],
      "text/plain": [
       "+---------+-------------------+------------------------------------------+"
      ]
     },
     "metadata": {},
     "output_type": "display_data"
    },
    {
     "data": {
      "text/html": [
       "<pre>| Final   | 0.195312          | 0.345173                                 |</pre>"
      ],
      "text/plain": [
       "| Final   | 0.195312          | 0.345173                                 |"
      ]
     },
     "metadata": {},
     "output_type": "display_data"
    },
    {
     "data": {
      "text/html": [
       "<pre>+---------+-------------------+------------------------------------------+</pre>"
      ],
      "text/plain": [
       "+---------+-------------------+------------------------------------------+"
      ]
     },
     "metadata": {},
     "output_type": "display_data"
    },
    {
     "data": {
      "text/html": [
       "<pre>Starting Optimization.</pre>"
      ],
      "text/plain": [
       "Starting Optimization."
      ]
     },
     "metadata": {},
     "output_type": "display_data"
    },
    {
     "data": {
      "text/html": [
       "<pre>+---------+--------------+-------------------+-----------------------+-------------+</pre>"
      ],
      "text/plain": [
       "+---------+--------------+-------------------+-----------------------+-------------+"
      ]
     },
     "metadata": {},
     "output_type": "display_data"
    },
    {
     "data": {
      "text/html": [
       "<pre>| Iter.   | Elapsed Time | Approx. Objective | Approx. Training RMSE | Step Size   |</pre>"
      ],
      "text/plain": [
       "| Iter.   | Elapsed Time | Approx. Objective | Approx. Training RMSE | Step Size   |"
      ]
     },
     "metadata": {},
     "output_type": "display_data"
    },
    {
     "data": {
      "text/html": [
       "<pre>+---------+--------------+-------------------+-----------------------+-------------+</pre>"
      ],
      "text/plain": [
       "+---------+--------------+-------------------+-----------------------+-------------+"
      ]
     },
     "metadata": {},
     "output_type": "display_data"
    },
    {
     "data": {
      "text/html": [
       "<pre>| Initial | 123us        | 1.39239           | 1.18                  |             |</pre>"
      ],
      "text/plain": [
       "| Initial | 123us        | 1.39239           | 1.18                  |             |"
      ]
     },
     "metadata": {},
     "output_type": "display_data"
    },
    {
     "data": {
      "text/html": [
       "<pre>+---------+--------------+-------------------+-----------------------+-------------+</pre>"
      ],
      "text/plain": [
       "+---------+--------------+-------------------+-----------------------+-------------+"
      ]
     },
     "metadata": {},
     "output_type": "display_data"
    },
    {
     "data": {
      "text/html": [
       "<pre>| 1       | 85.219ms     | 1.72329           | 1.3127                | 0.195312    |</pre>"
      ],
      "text/plain": [
       "| 1       | 85.219ms     | 1.72329           | 1.3127                | 0.195312    |"
      ]
     },
     "metadata": {},
     "output_type": "display_data"
    },
    {
     "data": {
      "text/html": [
       "<pre>| 2       | 151.739ms    | 0.843815          | 0.918548              | 0.116134    |</pre>"
      ],
      "text/plain": [
       "| 2       | 151.739ms    | 0.843815          | 0.918548              | 0.116134    |"
      ]
     },
     "metadata": {},
     "output_type": "display_data"
    },
    {
     "data": {
      "text/html": [
       "<pre>| 3       | 214.46ms     | 0.515294          | 0.717793              | 0.0856819   |</pre>"
      ],
      "text/plain": [
       "| 3       | 214.46ms     | 0.515294          | 0.717793              | 0.0856819   |"
      ]
     },
     "metadata": {},
     "output_type": "display_data"
    },
    {
     "data": {
      "text/html": [
       "<pre>| 4       | 301.412ms    | 0.403103          | 0.634856              | 0.0580668   |</pre>"
      ],
      "text/plain": [
       "| 4       | 301.412ms    | 0.403103          | 0.634856              | 0.0580668   |"
      ]
     },
     "metadata": {},
     "output_type": "display_data"
    },
    {
     "data": {
      "text/html": [
       "<pre>| 5       | 389.791ms    | 0.356588          | 0.597098              | 0.0491185   |</pre>"
      ],
      "text/plain": [
       "| 5       | 389.791ms    | 0.356588          | 0.597098              | 0.0491185   |"
      ]
     },
     "metadata": {},
     "output_type": "display_data"
    },
    {
     "data": {
      "text/html": [
       "<pre>| 6       | 485.034ms    | 0.337232          | 0.580663              | 0.042841    |</pre>"
      ],
      "text/plain": [
       "| 6       | 485.034ms    | 0.337232          | 0.580663              | 0.042841    |"
      ]
     },
     "metadata": {},
     "output_type": "display_data"
    },
    {
     "data": {
      "text/html": [
       "<pre>| 11      | 756.973ms    | 0.289437          | 0.537931              | 0.0271912   |</pre>"
      ],
      "text/plain": [
       "| 11      | 756.973ms    | 0.289437          | 0.537931              | 0.0271912   |"
      ]
     },
     "metadata": {},
     "output_type": "display_data"
    },
    {
     "data": {
      "text/html": [
       "<pre>| 25      | 1.56s        | 0.255308          | 0.505209              | 0.00519365  |</pre>"
      ],
      "text/plain": [
       "| 25      | 1.56s        | 0.255308          | 0.505209              | 0.00519365  |"
      ]
     },
     "metadata": {},
     "output_type": "display_data"
    },
    {
     "data": {
      "text/html": [
       "<pre>| 50      | 3.20s        | 0.247044          | 0.496962              | 0.000272958 |</pre>"
      ],
      "text/plain": [
       "| 50      | 3.20s        | 0.247044          | 0.496962              | 0.000272958 |"
      ]
     },
     "metadata": {},
     "output_type": "display_data"
    },
    {
     "data": {
      "text/html": [
       "<pre>+---------+--------------+-------------------+-----------------------+-------------+</pre>"
      ],
      "text/plain": [
       "+---------+--------------+-------------------+-----------------------+-------------+"
      ]
     },
     "metadata": {},
     "output_type": "display_data"
    },
    {
     "data": {
      "text/html": [
       "<pre>Optimization Complete: Maximum number of passes through the data reached.</pre>"
      ],
      "text/plain": [
       "Optimization Complete: Maximum number of passes through the data reached."
      ]
     },
     "metadata": {},
     "output_type": "display_data"
    },
    {
     "data": {
      "text/html": [
       "<pre>Computing final objective value and training RMSE.</pre>"
      ],
      "text/plain": [
       "Computing final objective value and training RMSE."
      ]
     },
     "metadata": {},
     "output_type": "display_data"
    },
    {
     "data": {
      "text/html": [
       "<pre>       Final objective value: 0.24668</pre>"
      ],
      "text/plain": [
       "       Final objective value: 0.24668"
      ]
     },
     "metadata": {},
     "output_type": "display_data"
    },
    {
     "data": {
      "text/html": [
       "<pre>       Final training RMSE: 0.496595</pre>"
      ],
      "text/plain": [
       "       Final training RMSE: 0.496595"
      ]
     },
     "metadata": {},
     "output_type": "display_data"
    }
   ],
   "source": [
    "m = gl.recommender.create(sf, target=\"rating\", ranking = False)"
   ]
  },
  {
   "cell_type": "code",
   "execution_count": 14,
   "metadata": {},
   "outputs": [
    {
     "data": {
      "text/html": [
       "<pre>Recsys training: model = item_similarity</pre>"
      ],
      "text/plain": [
       "Recsys training: model = item_similarity"
      ]
     },
     "metadata": {},
     "output_type": "display_data"
    },
    {
     "data": {
      "text/html": [
       "<pre>Preparing data set.</pre>"
      ],
      "text/plain": [
       "Preparing data set."
      ]
     },
     "metadata": {},
     "output_type": "display_data"
    },
    {
     "data": {
      "text/html": [
       "<pre>    Data has 45454 observations with 30762 users and 3457 items.</pre>"
      ],
      "text/plain": [
       "    Data has 45454 observations with 30762 users and 3457 items."
      ]
     },
     "metadata": {},
     "output_type": "display_data"
    },
    {
     "data": {
      "text/html": [
       "<pre>    Data prepared in: 0.128495s</pre>"
      ],
      "text/plain": [
       "    Data prepared in: 0.128495s"
      ]
     },
     "metadata": {},
     "output_type": "display_data"
    },
    {
     "data": {
      "text/html": [
       "<pre>Training model from provided data.</pre>"
      ],
      "text/plain": [
       "Training model from provided data."
      ]
     },
     "metadata": {},
     "output_type": "display_data"
    },
    {
     "data": {
      "text/html": [
       "<pre>Gathering per-item and per-user statistics.</pre>"
      ],
      "text/plain": [
       "Gathering per-item and per-user statistics."
      ]
     },
     "metadata": {},
     "output_type": "display_data"
    },
    {
     "data": {
      "text/html": [
       "<pre>+--------------------------------+------------+</pre>"
      ],
      "text/plain": [
       "+--------------------------------+------------+"
      ]
     },
     "metadata": {},
     "output_type": "display_data"
    },
    {
     "data": {
      "text/html": [
       "<pre>| Elapsed Time (Item Statistics) | % Complete |</pre>"
      ],
      "text/plain": [
       "| Elapsed Time (Item Statistics) | % Complete |"
      ]
     },
     "metadata": {},
     "output_type": "display_data"
    },
    {
     "data": {
      "text/html": [
       "<pre>+--------------------------------+------------+</pre>"
      ],
      "text/plain": [
       "+--------------------------------+------------+"
      ]
     },
     "metadata": {},
     "output_type": "display_data"
    },
    {
     "data": {
      "text/html": [
       "<pre>| 4.815ms                        | 3.25       |</pre>"
      ],
      "text/plain": [
       "| 4.815ms                        | 3.25       |"
      ]
     },
     "metadata": {},
     "output_type": "display_data"
    },
    {
     "data": {
      "text/html": [
       "<pre>| 15.939ms                       | 100        |</pre>"
      ],
      "text/plain": [
       "| 15.939ms                       | 100        |"
      ]
     },
     "metadata": {},
     "output_type": "display_data"
    },
    {
     "data": {
      "text/html": [
       "<pre>+--------------------------------+------------+</pre>"
      ],
      "text/plain": [
       "+--------------------------------+------------+"
      ]
     },
     "metadata": {},
     "output_type": "display_data"
    },
    {
     "data": {
      "text/html": [
       "<pre>Setting up lookup tables.</pre>"
      ],
      "text/plain": [
       "Setting up lookup tables."
      ]
     },
     "metadata": {},
     "output_type": "display_data"
    },
    {
     "data": {
      "text/html": [
       "<pre>Processing data in one pass using dense lookup tables.</pre>"
      ],
      "text/plain": [
       "Processing data in one pass using dense lookup tables."
      ]
     },
     "metadata": {},
     "output_type": "display_data"
    },
    {
     "data": {
      "text/html": [
       "<pre>+-------------------------------------+------------------+-----------------+</pre>"
      ],
      "text/plain": [
       "+-------------------------------------+------------------+-----------------+"
      ]
     },
     "metadata": {},
     "output_type": "display_data"
    },
    {
     "data": {
      "text/html": [
       "<pre>| Elapsed Time (Constructing Lookups) | Total % Complete | Items Processed |</pre>"
      ],
      "text/plain": [
       "| Elapsed Time (Constructing Lookups) | Total % Complete | Items Processed |"
      ]
     },
     "metadata": {},
     "output_type": "display_data"
    },
    {
     "data": {
      "text/html": [
       "<pre>+-------------------------------------+------------------+-----------------+</pre>"
      ],
      "text/plain": [
       "+-------------------------------------+------------------+-----------------+"
      ]
     },
     "metadata": {},
     "output_type": "display_data"
    },
    {
     "data": {
      "text/html": [
       "<pre>| 59.319ms                            | 0                | 0               |</pre>"
      ],
      "text/plain": [
       "| 59.319ms                            | 0                | 0               |"
      ]
     },
     "metadata": {},
     "output_type": "display_data"
    },
    {
     "data": {
      "text/html": [
       "<pre>| 137.699ms                           | 100              | 3457            |</pre>"
      ],
      "text/plain": [
       "| 137.699ms                           | 100              | 3457            |"
      ]
     },
     "metadata": {},
     "output_type": "display_data"
    },
    {
     "data": {
      "text/html": [
       "<pre>+-------------------------------------+------------------+-----------------+</pre>"
      ],
      "text/plain": [
       "+-------------------------------------+------------------+-----------------+"
      ]
     },
     "metadata": {},
     "output_type": "display_data"
    },
    {
     "data": {
      "text/html": [
       "<pre>Finalizing lookup tables.</pre>"
      ],
      "text/plain": [
       "Finalizing lookup tables."
      ]
     },
     "metadata": {},
     "output_type": "display_data"
    },
    {
     "data": {
      "text/html": [
       "<pre>Generating candidate set for working with new users.</pre>"
      ],
      "text/plain": [
       "Generating candidate set for working with new users."
      ]
     },
     "metadata": {},
     "output_type": "display_data"
    },
    {
     "data": {
      "text/html": [
       "<pre>Finished training in 0.160671s</pre>"
      ],
      "text/plain": [
       "Finished training in 0.160671s"
      ]
     },
     "metadata": {},
     "output_type": "display_data"
    }
   ],
   "source": [
    "m_item = gl.recommender.item_similarity_recommender.create(sf, only_top_k=2, target = \"rating\")"
   ]
  },
  {
   "cell_type": "code",
   "execution_count": null,
   "metadata": {
    "collapsed": true
   },
   "outputs": [],
   "source": []
  }
 ],
 "metadata": {
  "kernelspec": {
   "display_name": "Python [conda env:gl-env]",
   "language": "python",
<<<<<<< HEAD
<<<<<<< HEAD
   "name": "python3"
=======
   "name": "python2"
=======
   "name": "conda-env-gl-env-py"
>>>>>>> 7d1eca13aa1ad664c10476486f10e11364130788
  },
  "language_info": {
   "codemirror_mode": {
    "name": "ipython",
    "version": 2
   },
   "file_extension": ".py",
   "mimetype": "text/x-python",
   "name": "python",
   "nbconvert_exporter": "python",
   "pygments_lexer": "ipython2",
   "version": "2.7.11"
>>>>>>> 235e01ca51b0cae94945786308413b56515ef0a2
  }
 },
 "nbformat": 4,
 "nbformat_minor": 2
}
