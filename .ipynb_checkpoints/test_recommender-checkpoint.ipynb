{
 "cells": [
  {
   "cell_type": "markdown",
   "metadata": {},
   "source": [
    "This file contains the code to create test recommender system on amazon books data. We will be using python crab pacakge to build a item based and user based recommender system using collaberative filtering."
   ]
  },
  {
   "cell_type": "code",
<<<<<<< HEAD
<<<<<<< HEAD
   "execution_count": 5,
   "metadata": {},
   "outputs": [
    {
     "ename": "FileNotFoundError",
     "evalue": "[Errno 2] No such file or directory: 'Books.txt.gz'",
     "output_type": "error",
     "traceback": [
      "\u001b[1;31m---------------------------------------------------------------------------\u001b[0m",
      "\u001b[1;31mFileNotFoundError\u001b[0m                         Traceback (most recent call last)",
      "\u001b[1;32m<ipython-input-5-7bbbda36bb01>\u001b[0m in \u001b[0;36m<module>\u001b[1;34m()\u001b[0m\n\u001b[0;32m      1\u001b[0m \u001b[1;32mimport\u001b[0m \u001b[0mgzip\u001b[0m\u001b[1;33m\u001b[0m\u001b[0m\n\u001b[1;32m----> 2\u001b[1;33m \u001b[1;32mwith\u001b[0m \u001b[0mgzip\u001b[0m\u001b[1;33m.\u001b[0m\u001b[0mopen\u001b[0m\u001b[1;33m(\u001b[0m\u001b[1;34m'Books.txt.gz'\u001b[0m\u001b[1;33m,\u001b[0m\u001b[1;34m'rb'\u001b[0m\u001b[1;33m)\u001b[0m \u001b[1;32mas\u001b[0m \u001b[0mf\u001b[0m \u001b[1;33m:\u001b[0m\u001b[1;33m\u001b[0m\u001b[0m\n\u001b[0m\u001b[0;32m      3\u001b[0m     \u001b[0mdata\u001b[0m \u001b[1;33m=\u001b[0m \u001b[1;33m[\u001b[0m\u001b[0mstr\u001b[0m\u001b[1;33m(\u001b[0m\u001b[0mnext\u001b[0m\u001b[1;33m(\u001b[0m\u001b[0mf\u001b[0m\u001b[1;33m)\u001b[0m\u001b[1;33m)\u001b[0m \u001b[1;32mfor\u001b[0m \u001b[0mx\u001b[0m \u001b[1;32min\u001b[0m \u001b[0mrange\u001b[0m\u001b[1;33m(\u001b[0m\u001b[1;36m1000\u001b[0m\u001b[1;33m)\u001b[0m\u001b[1;33m]\u001b[0m\u001b[1;33m\u001b[0m\u001b[0m\n\u001b[0;32m      4\u001b[0m \u001b[0mprint\u001b[0m\u001b[1;33m(\u001b[0m\u001b[0mdata\u001b[0m\u001b[1;33m)\u001b[0m\u001b[1;33m\u001b[0m\u001b[0m\n",
      "\u001b[1;32m~\\Anaconda3.6\\lib\\gzip.py\u001b[0m in \u001b[0;36mopen\u001b[1;34m(filename, mode, compresslevel, encoding, errors, newline)\u001b[0m\n\u001b[0;32m     51\u001b[0m     \u001b[0mgz_mode\u001b[0m \u001b[1;33m=\u001b[0m \u001b[0mmode\u001b[0m\u001b[1;33m.\u001b[0m\u001b[0mreplace\u001b[0m\u001b[1;33m(\u001b[0m\u001b[1;34m\"t\"\u001b[0m\u001b[1;33m,\u001b[0m \u001b[1;34m\"\"\u001b[0m\u001b[1;33m)\u001b[0m\u001b[1;33m\u001b[0m\u001b[0m\n\u001b[0;32m     52\u001b[0m     \u001b[1;32mif\u001b[0m \u001b[0misinstance\u001b[0m\u001b[1;33m(\u001b[0m\u001b[0mfilename\u001b[0m\u001b[1;33m,\u001b[0m \u001b[1;33m(\u001b[0m\u001b[0mstr\u001b[0m\u001b[1;33m,\u001b[0m \u001b[0mbytes\u001b[0m\u001b[1;33m,\u001b[0m \u001b[0mos\u001b[0m\u001b[1;33m.\u001b[0m\u001b[0mPathLike\u001b[0m\u001b[1;33m)\u001b[0m\u001b[1;33m)\u001b[0m\u001b[1;33m:\u001b[0m\u001b[1;33m\u001b[0m\u001b[0m\n\u001b[1;32m---> 53\u001b[1;33m         \u001b[0mbinary_file\u001b[0m \u001b[1;33m=\u001b[0m \u001b[0mGzipFile\u001b[0m\u001b[1;33m(\u001b[0m\u001b[0mfilename\u001b[0m\u001b[1;33m,\u001b[0m \u001b[0mgz_mode\u001b[0m\u001b[1;33m,\u001b[0m \u001b[0mcompresslevel\u001b[0m\u001b[1;33m)\u001b[0m\u001b[1;33m\u001b[0m\u001b[0m\n\u001b[0m\u001b[0;32m     54\u001b[0m     \u001b[1;32melif\u001b[0m \u001b[0mhasattr\u001b[0m\u001b[1;33m(\u001b[0m\u001b[0mfilename\u001b[0m\u001b[1;33m,\u001b[0m \u001b[1;34m\"read\"\u001b[0m\u001b[1;33m)\u001b[0m \u001b[1;32mor\u001b[0m \u001b[0mhasattr\u001b[0m\u001b[1;33m(\u001b[0m\u001b[0mfilename\u001b[0m\u001b[1;33m,\u001b[0m \u001b[1;34m\"write\"\u001b[0m\u001b[1;33m)\u001b[0m\u001b[1;33m:\u001b[0m\u001b[1;33m\u001b[0m\u001b[0m\n\u001b[0;32m     55\u001b[0m         \u001b[0mbinary_file\u001b[0m \u001b[1;33m=\u001b[0m \u001b[0mGzipFile\u001b[0m\u001b[1;33m(\u001b[0m\u001b[1;32mNone\u001b[0m\u001b[1;33m,\u001b[0m \u001b[0mgz_mode\u001b[0m\u001b[1;33m,\u001b[0m \u001b[0mcompresslevel\u001b[0m\u001b[1;33m,\u001b[0m \u001b[0mfilename\u001b[0m\u001b[1;33m)\u001b[0m\u001b[1;33m\u001b[0m\u001b[0m\n",
      "\u001b[1;32m~\\Anaconda3.6\\lib\\gzip.py\u001b[0m in \u001b[0;36m__init__\u001b[1;34m(self, filename, mode, compresslevel, fileobj, mtime)\u001b[0m\n\u001b[0;32m    161\u001b[0m             \u001b[0mmode\u001b[0m \u001b[1;33m+=\u001b[0m \u001b[1;34m'b'\u001b[0m\u001b[1;33m\u001b[0m\u001b[0m\n\u001b[0;32m    162\u001b[0m         \u001b[1;32mif\u001b[0m \u001b[0mfileobj\u001b[0m \u001b[1;32mis\u001b[0m \u001b[1;32mNone\u001b[0m\u001b[1;33m:\u001b[0m\u001b[1;33m\u001b[0m\u001b[0m\n\u001b[1;32m--> 163\u001b[1;33m             \u001b[0mfileobj\u001b[0m \u001b[1;33m=\u001b[0m \u001b[0mself\u001b[0m\u001b[1;33m.\u001b[0m\u001b[0mmyfileobj\u001b[0m \u001b[1;33m=\u001b[0m \u001b[0mbuiltins\u001b[0m\u001b[1;33m.\u001b[0m\u001b[0mopen\u001b[0m\u001b[1;33m(\u001b[0m\u001b[0mfilename\u001b[0m\u001b[1;33m,\u001b[0m \u001b[0mmode\u001b[0m \u001b[1;32mor\u001b[0m \u001b[1;34m'rb'\u001b[0m\u001b[1;33m)\u001b[0m\u001b[1;33m\u001b[0m\u001b[0m\n\u001b[0m\u001b[0;32m    164\u001b[0m         \u001b[1;32mif\u001b[0m \u001b[0mfilename\u001b[0m \u001b[1;32mis\u001b[0m \u001b[1;32mNone\u001b[0m\u001b[1;33m:\u001b[0m\u001b[1;33m\u001b[0m\u001b[0m\n\u001b[0;32m    165\u001b[0m             \u001b[0mfilename\u001b[0m \u001b[1;33m=\u001b[0m \u001b[0mgetattr\u001b[0m\u001b[1;33m(\u001b[0m\u001b[0mfileobj\u001b[0m\u001b[1;33m,\u001b[0m \u001b[1;34m'name'\u001b[0m\u001b[1;33m,\u001b[0m \u001b[1;34m''\u001b[0m\u001b[1;33m)\u001b[0m\u001b[1;33m\u001b[0m\u001b[0m\n",
      "\u001b[1;31mFileNotFoundError\u001b[0m: [Errno 2] No such file or directory: 'Books.txt.gz'"
     ]
    }
   ],
   "source": [
    "import gzip\n",
    "with gzip.open('Books.txt.gz','rb') as f :\n",
    "    data = [str(next(f)) for x in range(1000)]\n",
    "print(data)"
=======
   "execution_count": 1,
=======
   "execution_count": 2,
   "metadata": {},
   "outputs": [],
   "source": [
    "import gzip\n",
    "import simplejson\n",
    "\n",
    "data = []\n",
    "def parse(filename):\n",
    "  f = gzip.open(filename, 'r')\n",
    "  entry = {}\n",
    "  for l in f:\n",
    "    l = l.strip()\n",
    "    colonPos = l.find(':')\n",
    "    if colonPos == -1:\n",
    "      yield entry\n",
    "      entry = {}\n",
    "      continue\n",
    "    eName = l[:colonPos]\n",
    "    rest = l[colonPos+2:]\n",
    "    entry[eName] = rest\n",
    "  yield entry\n",
    "\n",
    "f = open(\"output.strict\", 'w')\n",
    "for e in parse(\"/Users/ravitejachikkam/Electronics.txt.gz\"):\n",
    "  f.write(simplejson.dumps(e) + '\\n')"
   ]
  },
  {
   "cell_type": "code",
   "execution_count": 2,
>>>>>>> 7d1eca13aa1ad664c10476486f10e11364130788
   "metadata": {
    "collapsed": true,
    "scrolled": false
   },
   "outputs": [],
   "source": [
    "import gzip\n",
    "with gzip.open(\"/Users/ravitejachikkam/Electronics.txt.gz\", \"r\") as f:\n",
    "    data = [str(next(f)) for x in range(500000)]\n",
    "#print(data)"
>>>>>>> 235e01ca51b0cae94945786308413b56515ef0a2
   ]
  },
  {
   "cell_type": "code",
<<<<<<< HEAD
<<<<<<< HEAD
   "execution_count": 38,
   "metadata": {},
=======
   "execution_count": 2,
   "metadata": {
    "collapsed": false
   },
>>>>>>> 235e01ca51b0cae94945786308413b56515ef0a2
=======
   "execution_count": 3,
   "metadata": {},
>>>>>>> 7d1eca13aa1ad664c10476486f10e11364130788
   "outputs": [
    {
     "data": {
      "text/plain": [
       "2"
      ]
     },
<<<<<<< HEAD
<<<<<<< HEAD
     "execution_count": 38,
=======
     "execution_count": 2,
>>>>>>> 235e01ca51b0cae94945786308413b56515ef0a2
=======
     "execution_count": 3,
>>>>>>> 7d1eca13aa1ad664c10476486f10e11364130788
     "metadata": {},
     "output_type": "execute_result"
    }
   ],
   "source": [
    "len(data)\n",
    "#type(data)"
   ]
  },
  {
   "cell_type": "code",
<<<<<<< HEAD
<<<<<<< HEAD
   "execution_count": 39,
   "metadata": {},
=======
   "execution_count": 3,
   "metadata": {
    "collapsed": false
   },
>>>>>>> 235e01ca51b0cae94945786308413b56515ef0a2
=======
   "execution_count": 5,
   "metadata": {},
>>>>>>> 7d1eca13aa1ad664c10476486f10e11364130788
   "outputs": [
    {
     "data": {
      "text/plain": [
<<<<<<< HEAD
<<<<<<< HEAD
       "[\"b'product/productId: 1882931173\\\\n'\",\n",
       " \"b'product/title: Its Only Art If Its Well Hung!\\\\n'\",\n",
       " \"b'product/price: unknown\\\\n'\",\n",
       " \"b'review/userId: AVCGYZL8FQQTD\\\\n'\",\n",
       " 'b\\'review/profileName: Jim of Oz \"jim-of-oz\"\\\\n\\'',\n",
       " \"b'review/helpfulness: 7/7\\\\n'\",\n",
       " \"b'review/score: 4.0\\\\n'\",\n",
       " \"b'review/time: 940636800\\\\n'\",\n",
       " \"b'review/summary: Nice collection of Julie Strain images\\\\n'\",\n",
       " 'b\"review/text: This is only for Julie Strain fans. It\\'s a collection of her photos -- about 80 pages worth with a nice section of paintings by Olivia.If you\\'re looking for heavy literary content, this isn\\'t the place to find it -- there\\'s only about 2 pages with text and everything else is photos.Bottom line: if you only want one book, the Six Foot One ... is probably a better choice, however, if you like Julie like I like Julie, you won\\'t go wrong on this one either.\\\\n\"',\n",
       " \"b'\\\\n'\",\n",
       " \"b'product/productId: 0826414346\\\\n'\",\n",
       " \"b'product/title: Dr. Seuss: American Icon\\\\n'\",\n",
       " \"b'product/price: unknown\\\\n'\",\n",
       " \"b'review/userId: A30TK6U7DNS82R\\\\n'\",\n",
       " \"b'review/profileName: Kevin Killian\\\\n'\",\n",
       " \"b'review/helpfulness: 10/10\\\\n'\",\n",
       " \"b'review/score: 5.0\\\\n'\",\n",
       " \"b'review/time: 1095724800\\\\n'\",\n",
       " \"b'review/summary: Really Enjoyed It\\\\n'\"]"
      ]
     },
     "execution_count": 39,
=======
       "['product/productId: 1882931173\\n',\n",
       " 'product/title: Its Only Art If Its Well Hung!\\n',\n",
       " 'product/price: unknown\\n',\n",
       " 'review/userId: AVCGYZL8FQQTD\\n',\n",
       " 'review/profileName: Jim of Oz \"jim-of-oz\"\\n',\n",
       " 'review/helpfulness: 7/7\\n',\n",
       " 'review/score: 4.0\\n',\n",
       " 'review/time: 940636800\\n',\n",
       " 'review/summary: Nice collection of Julie Strain images\\n',\n",
       " \"review/text: This is only for Julie Strain fans. It's a collection of her photos -- about 80 pages worth with a nice section of paintings by Olivia.If you're looking for heavy literary content, this isn't the place to find it -- there's only about 2 pages with text and everything else is photos.Bottom line: if you only want one book, the Six Foot One ... is probably a better choice, however, if you like Julie like I like Julie, you won't go wrong on this one either.\\n\",\n",
       " '\\n',\n",
       " 'product/productId: 0826414346\\n',\n",
       " 'product/title: Dr. Seuss: American Icon\\n',\n",
       " 'product/price: unknown\\n',\n",
       " 'review/userId: A30TK6U7DNS82R\\n',\n",
       " 'review/profileName: Kevin Killian\\n',\n",
       " 'review/helpfulness: 10/10\\n',\n",
       " 'review/score: 5.0\\n',\n",
       " 'review/time: 1095724800\\n',\n",
       " 'review/summary: Really Enjoyed It\\n']"
      ]
     },
     "execution_count": 3,
>>>>>>> 235e01ca51b0cae94945786308413b56515ef0a2
=======
       "'{}'"
      ]
     },
     "execution_count": 5,
>>>>>>> 7d1eca13aa1ad664c10476486f10e11364130788
     "metadata": {},
     "output_type": "execute_result"
    }
   ],
   "source": [
    "data"
   ]
  },
  {
   "cell_type": "raw",
   "metadata": {},
   "source": [
    "Data Format:\n",
    "product/productId: B00006HAXW\n",
    "product/title: Rock Rhythm & Doo Wop: Greatest Early Rock\n",
    "product/price: unknown\n",
    "review/userId: A1RSDE90N6RSZF\n",
    "review/profileName: Joseph M. Kotow\n",
    "review/helpfulness: 9/9\n",
    "review/score: 5.0\n",
    "review/time: 1042502400\n",
    "review/summary: Pittsburgh - Home of the OLDIES\n",
    "review/text: I have all of the doo wop DVD's and this one is as good or better than the\n",
    "1st ones. Remember once these performers are gone, we'll never get to see them again.\n",
    "Rhino did an excellent job and if you like or love doo wop and Rock n Roll you'll LOVE\n",
    "this DVD !!"
   ]
  },
  {
   "cell_type": "code",
<<<<<<< HEAD
<<<<<<< HEAD
   "execution_count": 41,
   "metadata": {},
=======
   "execution_count": 4,
   "metadata": {
    "collapsed": false
   },
>>>>>>> 235e01ca51b0cae94945786308413b56515ef0a2
=======
   "execution_count": 21,
   "metadata": {},
>>>>>>> 7d1eca13aa1ad664c10476486f10e11364130788
   "outputs": [
    {
     "data": {
      "text/plain": [
<<<<<<< HEAD
       "[\"product/productId: 1882931173'\",\n",
       " \"product/title: Its Only Art If Its Well Hung!'\",\n",
       " \"product/price: unknown'\",\n",
       " \"review/userId: AVCGYZL8FQQTD'\",\n",
       " 'review/profileName: Jim of Oz \"jim-of-oz\"\\'',\n",
       " \"review/helpfulness: 7/7'\",\n",
       " \"review/score: 4.0'\",\n",
       " \"review/time: 940636800'\",\n",
       " \"review/summary: Nice collection of Julie Strain images'\",\n",
       " 'b\"review/text: This is only for Julie Strain fans. It\\'s a collection of her photos -- about 80 pages worth with a nice section of paintings by Olivia.If you\\'re looking for heavy literary content, this isn\\'t the place to find it -- there\\'s only about 2 pages with text and everything else is photos.Bottom line: if you only want one book, the Six Foot One ... is probably a better choice, however, if you like Julie like I like Julie, you won\\'t go wrong on this one either.\"',\n",
       " \"'\",\n",
       " \"product/productId: 0826414346'\",\n",
       " \"product/title: Dr. Seuss: American Icon'\",\n",
       " \"product/price: unknown'\",\n",
       " \"review/userId: A30TK6U7DNS82R'\",\n",
       " \"review/profileName: Kevin Killian'\",\n",
       " \"review/helpfulness: 10/10'\",\n",
       " \"review/score: 5.0'\",\n",
       " \"review/time: 1095724800'\",\n",
       " \"review/summary: Really Enjoyed It'\",\n",
       " 'b\"review/text: I don\\'t care much for Dr. Seuss but after reading Philip Nel\\'s book I changed my mind--that\\'s a good testimonial to the power of Rel\\'s writing and thinking. Rel plays Dr. Seuss the ultimate compliment of treating him as a serious poet as well as one of the 20th century\\'s most interesting visual artists, and after reading his book I decided that a trip to the Mandeville Collections of the library at University of California in San Diego was in order, so I could visit some of the incredible Seuss/Geisel holdings they have there.There\\'s almost too much to take in, for, like William Butler Yeats, Seuss led a career that constantly shifted and metamoprhized itself to meet new historical and political cirsumstances, so he seems to have been both a leftist and a conservative at different junctures of his career, both in politics and in art. As Nel shows us, he was once a cartoonist for the fabled PM magazine and, like Andy Warhol, he served his time slaving in the ad business too. All was in the service of amusing and broadening the minds of US children. Nel doesn\\'t hesitate to administer a sound spanking to the Seuss industry that, since his death, has seen fit to license all kinds of awful products including the recent CAT IN THE HAT film with Mike Myers. Oh, what a cat-astrophe!The book is great and I can especially recommend the work of the picture editor who has given us a bounty of good illustrations.\"']"
      ]
     },
     "execution_count": 41,
=======
       "['product/productId: 1882931173\\n',\n",
       " 'product/title: Its Only Art If Its Well Hung!\\n',\n",
       " 'product/price: unknown\\n',\n",
       " 'review/userId: AVCGYZL8FQQTD\\n',\n",
       " 'review/profileName: Jim of Oz \"jim-of-oz\"\\n',\n",
       " 'review/helpfulness: 7/7\\n',\n",
       " 'review/score: 4.0\\n',\n",
       " 'review/time: 940636800\\n',\n",
       " 'review/summary: Nice collection of Julie Strain images\\n',\n",
       " \"review/text: This is only for Julie Strain fans. It's a collection of her photos -- about 80 pages worth with a nice section of paintings by Olivia.If you're looking for heavy literary content, this isn't the place to find it -- there's only about 2 pages with text and everything else is photos.Bottom line: if you only want one book, the Six Foot One ... is probably a better choice, however, if you like Julie like I like Julie, you won't go wrong on this one either.\\n\",\n",
       " '\\n',\n",
       " 'product/productId: 0826414346\\n',\n",
       " 'product/title: Dr. Seuss: American Icon\\n',\n",
       " 'product/price: unknown\\n',\n",
       " 'review/userId: A30TK6U7DNS82R\\n',\n",
       " 'review/profileName: Kevin Killian\\n',\n",
       " 'review/helpfulness: 10/10\\n',\n",
       " 'review/score: 5.0\\n',\n",
       " 'review/time: 1095724800\\n',\n",
       " 'review/summary: Really Enjoyed It\\n',\n",
       " \"review/text: I don't care much for Dr. Seuss but after reading Philip Nel's book I changed my mind--that's a good testimonial to the power of Rel's writing and thinking. Rel plays Dr. Seuss the ultimate compliment of treating him as a serious poet as well as one of the 20th century's most interesting visual artists, and after reading his book I decided that a trip to the Mandeville Collections of the library at University of California in San Diego was in order, so I could visit some of the incredible Seuss/Geisel holdings they have there.There's almost too much to take in, for, like William Butler Yeats, Seuss led a career that constantly shifted and metamoprhized itself to meet new historical and political cirsumstances, so he seems to have been both a leftist and a conservative at different junctures of his career, both in politics and in art. As Nel shows us, he was once a cartoonist for the fabled PM magazine and, like Andy Warhol, he served his time slaving in the ad business too. All was in the service of amusing and broadening the minds of US children. Nel doesn't hesitate to administer a sound spanking to the Seuss industry that, since his death, has seen fit to license all kinds of awful products including the recent CAT IN THE HAT film with Mike Myers. Oh, what a cat-astrophe!The book is great and I can especially recommend the work of the picture editor who has given us a bounty of good illustrations.\\n\"]"
      ]
     },
<<<<<<< HEAD
     "execution_count": 4,
>>>>>>> 235e01ca51b0cae94945786308413b56515ef0a2
=======
     "execution_count": 21,
>>>>>>> 7d1eca13aa1ad664c10476486f10e11364130788
     "metadata": {},
     "output_type": "execute_result"
    }
   ],
   "source": [
    "# removing b' from the data\n",
    "data = [x.replace(\"b'\", \"\").replace(\"\\\\n\", \"\") for x in data]\n",
    "data[:21]"
   ]
  },
  {
   "cell_type": "code",
<<<<<<< HEAD
<<<<<<< HEAD
   "execution_count": 48,
   "metadata": {},
   "outputs": [
    {
     "name": "stdout",
     "output_type": "stream",
     "text": [
      "'\n",
      "product/title: Dr. Seuss: American Icon'\n",
      "'\n",
      "product/title: Dr. Seuss: American Icon'\n",
      "'\n",
      "product/title: Dr. Seuss: American Icon'\n",
      "b\"review/text: Theodore Seuss Geisel (1904-1991), aka &quot;Dr. Seuss,&quot; was one of the most influential writers and artists of the 20th century.In 1959, Rudolf Flesch wrote, &quot;A hundred years from now, children and their parents will still eagerly read the books of a fellow called Ted Geisel, popularly known as Dr. Seuss.&quot;Flesch was too conservative in his prediction. A century, and more, from today, Dr. Seuss will still be read when many authors on today's bestseller lists will be forgotten.Published on the centenary of Geisel's birth, Dr. Seuss: American Icon analyzes six key aspects of Seuss's career: poetry, politics, art, biography, marketing, and influence.In six insightful chapters, Philip Nel, Assistant Professor of English at Kansas State University, discusses &quot;U.S. Laureate of Nonsense,&quot; &quot;Dr. Seuss vs. Adolf Hitler,&quot; &quot;The Doc in the Smock,&quot; &quot;The 5,000 Fingers of Dr. S.,&quot; &quot;The Disneyfication of Dr. Seuss,&quot; and &quot;The Cat in the Hat for President.&quot;Nel gives short shrift to Geisel's childhood and family background--and, indeed, to biography in general--preferring to focus on Seuss's writing and art, from his first book, And to Think That I Saw It on Mulberry Street (1937) to his last book, Oh, the Places You'll Go! (1990).Dr. Seuss's breakthrough year was 1957, when he published the two books with which he is most often identified: The Cat in the Hat and How the Grinch Stole Christmas!Other classic works in the Seussian canon are: Horton Hears a Who! (&quot;A person's a person, no matter how small&quot;), Yertle the Turtle (modeled on the rise of Adolf Hitler), Green Eggs and Ham (Seuss's bestselling book), The Sneeches (a criticism of anti-Semitism), The Lorax (a protest against corporate abuse of the environment), and The Butter Battle Book (a critique of Reagan's enthusiasm for the nuclear arms trace).His favorite work, among the books he authored, was The Cat in the Hat, for it, more than any other, taught children to read.While many of his books have a clear and powerful moral, Seuss had a horror of heavy-handed preaching. He sought to teach and ignite the imagination, but was a lifelong opponent of smug, self-righteous bourgeois moralism.&quot;Seuss was a contrarian,&quot; writes Nel, &quot;who enjoyed challenging people to reconsider their assumptions. [He had a] rebellious imagination and a dispositional distaste for rules and regulations.&quot; His work was a &quot;rational insanity&quot; that exhibited &quot;joyous anarchy&quot; and a &quot;lifelong thrill in misbehaving.&quot;A better subtitle for Nel's work would have been American Icon and Iconoclast.Nel tells of Seuss's early years as an advertising artist and as a agitprop cartoonist. The book, however, is not a biography; it is a serious study in the genres of literary and art criticism.For readers who want more biographical information, Nel recommends Dr. Seuss and Mr. Geisel, by Judith Morgan and Neil Morgan (1995), which he describes as &quot;the definitive biography and the single best secondary source on Seuss. Any discussion of Seuss's life and work must begin with this book.&quot;Dr. Seuss: American Icon includes 103 pages of notes, index, and the most comprehensive annotated Seuss bibliography ever assembled. One learns a lot from this book; the author's lucid style makes it not only an enlightening work but a fun read.Philip Nel is the author of J. K. Rowling's Harry Potter Novels: A Reader's Guide (2001) and The Avant-Garde and American Postmodernity (2002).Roy E. Perry of Nolensville, Tennessee, is an advertising copywriter at a Nashville publishing house.\"\n",
      "'\n",
      "product/title: Dr. Seuss: American Icon'\n",
      "review/text: Philip Nel - Dr. Seuss: American IconThis is basically an academic overview of Seuss poetry, art, cartoons, and the problems with the commercialization of the Seuss name and works after his death. It is not, to any real extent, a biography. Those seeking such should move on.As an academic book it leans on the dry side. It assumes the reader has a fairly good knowledge of Children\\'s Literature and 20th Century cartoons (not the animated kind). Not a book to begin your Dr. Seuss experience with. But if you have read them to your children and are interested about the writing style (there is a good chapter about his poetry) or his art style (not as good a chapter, but still interesting).What interested me the most was the deconstruction of the recent rush to \"cash in\" on Seuss by Hollywood and advertisers. I think that Nel wants to come down against it, but based on Seuss\\' background (he started out drawing Flit ads) and the projects he approved during his lifetime; it is a tough argument to make. In the end though Nel does point out that maybe the movies and tie- ins did not have to be so... crass?The book is well researched; lots of neat tidbits are to be gleamed. Early cartoons by Seuss for PM magazine were occasionally (by today\\'s standards) shockingly racist. It makes him a little more human and puts his latter works like the Lorax in a new light.Those in Education may enjoy this background. Fans of Seuss will enjoy the exhaustive bibliography of Seuss\\'s many, many works. Also good list of other works about the man.'\n",
      "'\n",
      "product/title: Dr. Seuss: American Icon'\n",
      "review/text: \"Dr. Seuss: American Icon\" by Philip Nel is a thoughtful deconstruction of the life and work of Theodore Geisel (aka Dr. Seuss). In this thoughtful book, Mr. Nel deepens our appreciation for Seuss as a distinctively American poet, artist and educator. The author demonstrates Seuss\\' wide ranging influence and argues for his rightful place among the most important cultural figures of the 20th century.An English professor at Kansas State University, Mr. Nel uses his historic knowledge to discuss how Seuss\\' text belongs to a tradition of great nonsense writers. Mr. Nel states that Seuss\\' carefully-constructed absurdist tales encourage children to challenge the status quo by gently skewering the grown-up world; elsewhere, he uses charts to show how Seuss effectively used meter and rhyme to complement his intentionally ridiculous plots and create masterful stories that have stood up well to the test of time.Mr. Nel recounts Seuss\\' early career as advertising illustrator and political cartoonist to help us better understand the influences that shaped his classic children\\'s work. As an artist, Mr. Nel suggests that the term \"energetic cartoon surrealism\" appropriately describes Seuss\\' creative synthesis of cubism, art nouveau, surrealism and other styles. While Seuss\\' influence can be detected in modern rap music, children\\'s books, political cartoons and more, Mr. Nel contends that Seuss would not have been happy about the manner in which his works have been posthumously marketed, opining that the \"Disneyification\" or simplification of Seuss\\' stories for marketable purposes \"threatens to make \\'Seuss\\' synomynous with the ambiguous power of global capitalism\". Such commercialism would appear to collide with Seuss\\' desire to develop critical thinking among young people and to help us all imagine a better world.I highly recommend this book for everyone interested in gaining greater insight and perspective into one of America\\'s greatest creative talents.'\n",
      "'\n",
      "product/title: Dr. Seuss: American Icon'\n",
      "b\"review/text: Theodor Seuss Giesel was best known as 'Dr. Seuss', one of the most influential and enduringly popular children's authors of the 20th century. Giesel created not only his famous imaginative picturebooks, but a unique art and poetry, and even a place for himself in politics. Philip Nel argues that these added activities make Dr. Seuss one of the most influential people in America - certainly the most influential poet - and Dr. Seuss: American Icon provides the reader an memorably excellent survey of Dr. Seuss' many achievements.\"\n",
      "'\n",
      "product/title: Dr. Seuss: American Icon'\n",
      "review/text: When I recieved this book as a gift for Christmas my first impression went along these line: \"Oh great some professor who probably wrote alot of mumbo-jumbo that I don\\'t want to know about Dr. Suess and I know it won\\'t be an enjoyable read.\"Thanks goodness I read it nonetheless.To my pleasure, Nel hardly writes in the airy academia style with which I expected him to. In fact, he\\'s writes so far from it, with a smart and precise style, I am tempted to revise how I feel about professor-writers. However, in accordance with his academia roots, Nel has a 100 page annotated bibliogarphy that goes along with his work, a nice shrine to prove his homework was well done.As far the actual book goes it is an excellent piece work. \"Dr. Seuss: American Icon\" looks at the man behind Dr. Suess not as a straight-forward biography, but rather it focuses on different areas of Dr. Suess (i.e. poet, poetry of, artist, artistic style, adult, activist, etc.) and interjects those discussions with biogrphical anecdotes. A very effective attention keeping method.If you\\'re interested in learning more about the work and the man behind the work of Dr. Suess, this is the book that speaks to both and even more. Highly recommended!'\n",
      "'\n",
      "'\n",
      "product/title: Dr. Seuss: American Icon'\n",
      "b\"review/text: As far as I am aware, this is the first book-length study of the work of Dr. Seuss, and Philip Nel has done an excellent job. If the word 'study' makes you nervous, rest assured: this is not a jargon-filled, pretentious analysis. It is, instead, a nicely written work that views Seuss from several different angles: as a poet, a visual artist, a cartoonist, and so on. Nel writes intelligently on how Seuss fits into the canon of nonsense poets, and provides good background on the roots of Seuss's visual style. Some of the WW2/political cartoon material I had read about before, but Nel covers it thoroughly. The most fascinating chapter to me deals with the marketing of Seuss, particularly since his death. Nel holds forth strongly on the abominable 'Grinch' movie (and I trust he feels the same way about the 'Cat in the Hat' film too), and gets into a very interesting discussion of the possible motivations behind the ever-expanding empire of Dr. Seuss Enterprises. (And no, I don't believe it is purely about the profits!)Two small quibbles prevent me from awarding five stars. Firstly, I would have liked the book to be a little longer. The in-depth bibliography is interesting in itself and will be a goldmine to future researchers, but I'm sure Nel could have found a few more things to say - perhaps about Seuss's gender politics. Secondly, the dust jacket on my copy was a little loose.\"\n",
      "'\n",
      "'\n",
      "'\n",
      "'\n",
      "b\"review/text: I bought this book because I read some glowing praise on an online library site. Unfortunately, I was deeply disappointed by page three. I always buy books in the hope and expectation of having an enjoyable read, not to criticise. However, this book is in urgent need of good editing -- though quite possibly editing alone wouldn't save it. Examples: a bed squeaks slightly and sharply in the same sentence; a nightgown hangs freely over her girlish figure and olive colored complexion; coffee aromas huddle; rumbling clouds huddle (as well as the coffee?); she prepared to sip her coffee beneath the wrath of God... cuddled within the arms of a strong breeze; (the wrath of God is a breeze?); the Columbian (stet) coffee aroma danced beneath her sculpted tan nose; the coffee bean fragrance tangoed within her body; she placed her thick pink lips against the warm cup;... and so on, all by page three. It is quite possible that the storyline is deeply moving. I'll never know because I can't bring myself to continue. Sorry.\"\n",
      "'\n",
      "'\n",
      "'\n",
      "'\n",
      "'\n",
      "'\n",
      "'\n",
      "'\n",
      "'\n",
      "'\n",
      "'\n",
      "'\n",
      "'\n",
      "'\n",
      "'\n",
      "'\n",
      "'\n",
      "'\n",
      "'\n",
      "'\n",
      "'\n",
      "'\n",
      "'\n",
      "'\n",
      "'\n",
      "'\n",
      "'\n",
      "'\n",
      "'\n",
      "product/title: Nation Dance: Religion, Identity and Cultural Difference in the Caribbean'\n",
      "review/text: from publisher:Addresses the interplay of diverse spiritual, religious, and cultural traditions across the Caribbean.Dealing with the ongoing interaction of rich and diverse cultural traditions from Cuba and Jamaica to Guyana and Surinam, Nation Dance addresses some of the major contemporary issues in the study of Caribbean religion and identity. The book\\'s three sections move from a focus on spirituality and healing, to theology in social and political context, and on to questions of identity and diaspora.The book begins with the voices of female practitioners and then offers a broad, interdisciplinary examination of Caribbean religion and culture. Afro-Caribbean religions, Hinduism, Judaism, Islam, and Christianity are all addressed, with specific reflections on Santer&iacute;a, Palo Monte, Vodou, Winti, Obeah, Kali Mai, Orisha work, Spiritual Baptist faith, Spiritualism, Rastafari, Confucianism, Congregationalism, Pentecostalism, Catholicism, and liberation theology. Some essays are based on fieldwork, archival research, and textual or linguistic analysis, while others are concerned with methodological or theoretical issues. Contributors include practitioners and scholars, some very established in the field, others with fresh, new approaches; all of them come from the region or have done extensive fieldwork or research there. In these essays the poetic vitality of the practitioner\\'s voice meets the attentive commitment of the postcolonial scholar in a dance of \"nations\" across the waters.'\n",
      "'\n",
      "product/title: The Church of Christ: A Biblical Ecclesiology for Today'\n",
      "review/text: With the publication of Everett Ferguson\\'s book on ecclesiology, another milestone has been reached in the scholarly presentation of the distinctive theological perspective of Churches of Christ. The book is divided into six chapters, each roughly sixty to seventy pages in length. Within each chapter, Ferguson neatly and systematically outlines his thoughts and arguments. The first chapter, entitled \"The People and the Messiah: History and Eschatology,\" deals mainly with background issues. It examines the Old Testament teaching on the importance of covenant and the meaning of the phrase \"kingdom of God\" in its relationship to an and distinction from the church. Ferguson enters into the New Testament and ecclesiology proper via a consideration of Jesus as Messiah, including a careful exegesis of Matt. 16:13-23, where he concludes that the \"rock\" of Matt. 16:18 is not Peter, but the fact of Jesus\\' Messiahship. Ferguson\\'s analysis of Matt. 16:13-23 is insightful and carefully articulated. Within this section, he gives attention to \"the gates of Hades will not prevail\" and concludes with some interesting yet encouraging insight. In the second chapter, \"The Church and Her Lord: The Nature of the Church,\" Ferguson deals with and focuses on three images, \"people of God,\" \"body of Christ,\" and \"community of the Spirit.\" A peculiar feature in this chapter is placing the discussion of the word ekklesia last rather than first. The latter would seem more appropriate and would seem to set the stage for the chapter, especially for a work of biblical ecclesiology. This great section will open the eyes of the reader and renew his focus of church. That is to say, this chapter correctly puts Christ as the head of the church and gives Him His appropriate place. The third chapter concentrates on, \"The Church and Her Savior: Salvation and Church Membership.\" Essentially this section covers soteriology, which determines ecclesiology, but it is not ecclesiology itself. His full treatment of the nature of sin, the meaning of the cross, and the human response to God\\'s saving work is only loosely linked to his topic of ecclesiology. This is not to say that this section is uninteresting or uninformative because it is quite helpful for a fuller understanding of these matters. Far more important is the content of Ferguson\\'s soteriology. Ferguson is strong when it comes to the necessity of baptism. A few statements will give the reader an idea of his position: \"Baptism is the time at which one is incorporated into Christ and so becomes a child of God\" (pg. 170); \"Baptism is a `calling on the name\\' of the Lord\" (pg. 180); and, \"Baptism is the appointed time at which God pronounces forgiveness\" (pg. 183). He concludes: There must be an objective necessity about baptism, or New Testament writers could not speak of baptism in the way they do\" (pg. 185). How refreshing! In our world of relativity and ecumenism, people need to hear Ferguson\\'s words, especially those in Churches of Christ. The last three chapters move into a more familiar territory for a treatise on the church. Chapter four, \"The Church and Her High Priest: Worship and Assembly\" is a great section for anyone interested in the dynamics of worship. Here, Ferguson begins with a type of etymology as a way of introduction, concentrating on both the Greek and English words. This introduction to the subject sets the stage for the entire chapter. Worship is a hot topic today, thus chapter four is rather applicable for our day with all the differing views. This section is multitudinously faceted and exhaustive. \"The Church and Her Bishop: The Continuing Ministry\" is appropriately the title for the fifth chapter. In this section, Ferguson again touches on some hot topics in the church. It is unfortunate however that he only briefly deals with the debates on miraculous gifts and women\\'s roles. Ferguson advocates a cessasionist position on miraculous gifts and a complementarian position on women\\'s roles, but leaves the reader thirsting for more information and a more comprehensive treatment of the issues. In a day where these two in particular issues are so widely discussed and debated, one would think that they might have received a little concentration. Again, this is not to eradicate what was accomplished in this chapter because it was insightful and obliging, especially given the fact that his discussion on deaconesses was amazingly insightful and well balanced. In chapter six Ferguson adequately covers, \"The Church and Her Teacher: The New Way of Life.\" In this section, he includes an unusually prominent consideration of ethics and a very healthy discussion of the importance of Christian fellowship and its concomitant, church discipline. One last thing that must be mentioned about this chapter is Ferguson\\'s section on unity. Although this section is brief, it is significant and insightful. Ferguson lays out the various aspects of unity and does so in just a few short pages. It serves as an excellent conclusion to a monumental work. Of course, any reader is free to take issue with some of Ferguson\\'s conclusions. For example, the distinction that is made between the temporary and permanent endowments of the Spirit still awaits additional clarification, and there will be those who will score Ferguson, despite his disclaimer, for his synchronic rather than diachronic approach to the New Testament writings. This is a courageous book. Its Reformed-Restorationist slant that the proper doctrine of the church entails a return to the faith and practice of the apostolic church is unmistakable. There are numerous nuggets of exegesis and important points of emphases that make this book worth reading. It is astounding that Ferguson deals with so many facets of ecclesiology in a one-volume work. Not only that, but he also includes a helpful subject index as well as a number of bibliographies. Just a glance at his copious footnotes and it is clear that this book is well researched and well documented. This book should be one that every minister, church leader, and ministry student is required to read and ponder.'\n",
      "'\n",
      "'\n",
      "product/title: The Church of Christ: A Biblical Ecclesiology for Today'\n",
      "product/title: The Church of Christ: A Biblical Ecclesiology for Today'\n",
      "'\n",
      "'\n",
      "product/title: A Walk in the Woods: a Play in Two Acts'\n",
      "'\n",
      "product/title: A Walk in the Woods: a Play in Two Acts'\n",
      "'\n",
      "product/title: A Walk in the Woods: a Play in Two Acts'\n",
      "'\n",
      "'\n",
      "'\n",
      "b\"product/title: Rising Sons and Daughters: Life Among Japan's New Young\"\n",
      "'\n",
      "'\n",
      "b\"product/title: Rising Sons and Daughters: Life Among Japan's New Young\"\n",
      "b\"product/title: Muslim Women's Choices: Religious Belief and Social Reality (Cross Cultural Perspectives on Women)\"\n",
      "'\n",
      "b\"product/title: Muslim Women's Choices: Religious Belief and Social Reality (Cross Cultural Perspectives on Women)\"\n",
      "'\n",
      "b\"review/text: Although written with script authors et al in mind, Dramatica for Screenwriters is the perfect companion book for Dramatica: A New Theory of Story.Using witty and easy to understand examples, the author takes you systematically through the process of turning a meager idea into a full-blown, grand argument story via Dramatica Theory definitions. With a slight mental adjustment, the tips and advice in this book fit the novelist's dilemma as well as the screenwriter's. If you are exploring the world of Dramatica, you need this book on your shelf.\"\n",
      "'\n",
      "'\n",
      "review/text: I purchased this book based on the other reviews claiming that it \"demystifies\" the Dramatica theory and software. Unfortunately, I found the opposite to be the case.I\\'ve made numerous attempts to get my head around the principles of the Dramatica theory, with the intention of finally being able to put to use the rather pricey Dramatica Pro software I bought years ago. Both the software itself, and the book of theory explaining it (\"Dramatica: A New Theory of Story\") are so riddled with specialized (and somewhat proprietary) jargon that I\\'ve long counted myself among the number of users for whom the effort to grasp the principles involved outweighed the potential benefits. (And BTW, I\\'m no newcomer to the basic premises of story structure; I\\'ve got an MFA from a respectable film school, and have worked for many years as a film editor.)I\\'d had high hopes for \"Dramatica For Screenwriters\", figuring it would serve as a practical layman\\'s guide to understanding and using the software. Unfortunately (there\\'s that word again), despite claims in the author\\'s introduction to the contrary, a few pages in the jargon begins coming at the reader hot and heavy, and unlike in \"Dramatica: A New Theory of Story\", which I already found to be too opaque, here much of the jargon is not even explained in a cursory manner. Reader familiarity is assumed, which would seem to defeat the purpose of the book in the first place. So the reader is left with a bit of a Catch-22: if you need the book, you probably won\\'t understand it, and if you can understand the book, you probably don\\'t need it.'\n",
      "'\n",
      "'\n",
      "'\n",
      "'\n",
      "'\n",
      "'\n",
      "'\n",
      "b\"review/text: Not much I can say about this book... It's full of VVVery difficult number puzzles... at least for me. Okay, so I don't get 'A's for my grades at school, but I think that even you might find it a little difficult. The way I see it, you will need lots of paper, patience and time, say 30 minutes or so to solve even the easiest of these.Why? Because basically, you are asked how many combinations can be formed from such and such. Example: How many ways get 31241 by adding prime numbers only? This is not really what the problems are like in the book, they are far more complicated than that.For me, it's just too much. I can't even do 1 single problem. I can't even look up the answers because uses some sort of a legend that I can't understand. But if you have an above average intelligence or are mathematically gifted, you will probably find some obscure short cut to the problem a la Gauss. For the rest, forget it.Word of warning: these are purely number problems. I can't tell if logic will help or even plays a part in this book, but the problems are NUMBER problems.\"\n",
      "'\n",
      "'\n",
      "'\n",
      "'\n",
      "'\n",
      "'\n",
      "'\n",
      "'\n",
      "product/title: The Ultimate Guide to Law School Admission: Insider Secrets for Getting a \"Big Envelope\" with Your Acceptance to Law School!'\n",
      "'\n",
      "product/title: The Ultimate Guide to Law School Admission: Insider Secrets for Getting a \"Big Envelope\" with Your Acceptance to Law School!'\n",
      "'\n",
      "product/title: The Ultimate Guide to Law School Admission: Insider Secrets for Getting a \"Big Envelope\" with Your Acceptance to Law School!'\n",
      "'\n",
      "product/title: The Ultimate Guide to Law School Admission: Insider Secrets for Getting a \"Big Envelope\" with Your Acceptance to Law School!'\n",
      "'\n",
      "product/title: The Ultimate Guide to Law School Admission: Insider Secrets for Getting a \"Big Envelope\" with Your Acceptance to Law School!'\n",
      "'\n",
      "product/title: The Ultimate Guide to Law School Admission: Insider Secrets for Getting a \"Big Envelope\" with Your Acceptance to Law School!'\n",
      "'\n",
      "product/title: The Ultimate Guide to Law School Admission: Insider Secrets for Getting a \"Big Envelope\" with Your Acceptance to Law School!'\n",
      "'\n",
      "'\n",
      "b\"product/title: The Repeal of Reticence: A History of America's Cultural and Legal Struggles over Free Speech, Obscenity, Sexual Liberation, and Modern Art\"\n"
     ]
    }
   ],
=======
   "execution_count": 5,
=======
   "execution_count": 22,
>>>>>>> 7d1eca13aa1ad664c10476486f10e11364130788
   "metadata": {
    "collapsed": true
   },
   "outputs": [],
>>>>>>> 235e01ca51b0cae94945786308413b56515ef0a2
   "source": [
    "# split the data to create key value pairs\n",
    "\n",
    "data_list = []\n",
    "data_dict = {}\n",
    "i = 0\n",
    "for lines in data:\n",
<<<<<<< HEAD
    "    if i != 9:\n",
    "        temp_str = lines.split(\":\")\n",
    "        if len(temp_str) == 2:\n",
    "            data_dict[temp_str[0]] = temp_str[1]\n",
    "        else:\n",
    "            print(lines)\n",
    "        i = i+1\n",
=======
    "    if i!=3:\n",
    "        if (\"productId\" in lines) or (\"userId\" in lines) or (\"score:\" in lines):\n",
    "            temp_str = lines.split(\":\")\n",
    "            temp_str[1] = temp_str[1].strip(\" \").strip(\"\\'\")\n",
    "            data_dict[temp_str[0]] = temp_str[1]\n",
    "            i = i+1\n",
>>>>>>> 235e01ca51b0cae94945786308413b56515ef0a2
    "    else:\n",
    "        i = 0\n",
    "        data_list.append(data_dict)\n",
    "        data_dict = {}\n",
    "\n"
   ]
  },
  {
   "cell_type": "code",
<<<<<<< HEAD
<<<<<<< HEAD
   "execution_count": 51,
   "metadata": {},
=======
   "execution_count": 6,
   "metadata": {
    "collapsed": false
   },
>>>>>>> 235e01ca51b0cae94945786308413b56515ef0a2
=======
   "execution_count": 23,
   "metadata": {},
>>>>>>> 7d1eca13aa1ad664c10476486f10e11364130788
   "outputs": [
    {
     "data": {
      "text/plain": [
<<<<<<< HEAD
       "[{'product/price': \" unknown'\",\n",
       "  'product/productId': \" 1882931173'\",\n",
       "  'product/title': \" Its Only Art If Its Well Hung!'\",\n",
       "  'review/helpfulness': \" 7/7'\",\n",
       "  'review/profileName': ' Jim of Oz \"jim-of-oz\"\\'',\n",
       "  'review/score': \" 4.0'\",\n",
       "  'review/summary': \" Nice collection of Julie Strain images'\",\n",
       "  'review/time': \" 940636800'\",\n",
       "  'review/userId': \" AVCGYZL8FQQTD'\"},\n",
       " {'product/price': \" unknown'\",\n",
       "  'product/productId': \" 0826414346'\",\n",
       "  'review/helpfulness': \" 10/10'\",\n",
       "  'review/profileName': \" Kevin Killian'\",\n",
       "  'review/score': \" 5.0'\",\n",
       "  'review/time': \" 1095724800'\",\n",
       "  'review/userId': \" A30TK6U7DNS82R'\"},\n",
       " {'b\"review/text': ' I don\\'t care much for Dr. Seuss but after reading Philip Nel\\'s book I changed my mind--that\\'s a good testimonial to the power of Rel\\'s writing and thinking. Rel plays Dr. Seuss the ultimate compliment of treating him as a serious poet as well as one of the 20th century\\'s most interesting visual artists, and after reading his book I decided that a trip to the Mandeville Collections of the library at University of California in San Diego was in order, so I could visit some of the incredible Seuss/Geisel holdings they have there.There\\'s almost too much to take in, for, like William Butler Yeats, Seuss led a career that constantly shifted and metamoprhized itself to meet new historical and political cirsumstances, so he seems to have been both a leftist and a conservative at different junctures of his career, both in politics and in art. As Nel shows us, he was once a cartoonist for the fabled PM magazine and, like Andy Warhol, he served his time slaving in the ad business too. All was in the service of amusing and broadening the minds of US children. Nel doesn\\'t hesitate to administer a sound spanking to the Seuss industry that, since his death, has seen fit to license all kinds of awful products including the recent CAT IN THE HAT film with Mike Myers. Oh, what a cat-astrophe!The book is great and I can especially recommend the work of the picture editor who has given us a bounty of good illustrations.\"',\n",
       "  'product/price': \" unknown'\",\n",
       "  'product/productId': \" 0826414346'\",\n",
       "  'review/helpfulness': \" 10/11'\",\n",
       "  'review/profileName': \" John Granger'\",\n",
       "  'review/score': \" 5.0'\",\n",
       "  'review/userId': \" A3UH4UZ4RSVO82'\"},\n",
       " {'product/price': \" unknown'\",\n",
       "  'product/productId': \" 0826414346'\",\n",
       "  'review/helpfulness': \" 7/7'\",\n",
       "  'review/profileName': ' Roy E. Perry \"amateur philosopher\"\\'',\n",
       "  'review/summary': \" Essential for every personal and Public Library'\",\n",
       "  'review/text': ' If people become the books they read and if \"the child is father to the man,\" then Dr. Seuss (Theodor Seuss Geisel) is the most influential author, poet, and artist of modern times. For me, a daddy to a large family who learned to read with Dr. Seuss and who has memorized too many of the books via repeated readings to young children, Prof. Nel\\\\\\'s brilliant \\\\\\'American Icon\\\\\\' is a long awaited treat. At last a serious treatment of this remarkable genius that is both an engaging read and filled with remarkable insights! I especially enjoyed (and learned more than I care to admit from) Prof. Nel\\\\\\'s discussions of the Disneyfication of Seuss - which Nel links to failings in American copyright law, \"the other sides of Dr. Seuss\" - all of which sides were new to me, and the political genesis of his secular morality in the WWII cartoon work he did at PM magazine. The chapters on Geisel\\\\\\'s poetry and artwork and the link Nel makes between Seuss and the historical avant guarde alone make this book a \"must buy\" for parents and serious readers, not to mention public libraries. Readers of Nel\\\\\\'s other books will find the same engaging writing style that makes the book a fun read while imparting a mountain of information and important ideas. This is simply the best and most comprehensive book yet written on the work of Seuss Geisel and what will certainly be the standard for many years to come. Thank you, Prof. Nel, wherever you are, from a reader who grew up with the good doctor and who is growing up with him again years later. Your book, written from your encyclopeadic knowledge of children\\\\\\'s literature and the media of this genre - from scanning verse to cubist painting! - explains the power, limits, and popularity of the Seuss phenomenon.\\'',\n",
       "  'review/userId': \" A2MVUWT453QH61'\"},\n",
       " {'product/price': \" unknown'\",\n",
       "  'product/productId': \" 0826414346'\",\n",
       "  'review/profileName': ' D. H. Richards \"ninthwavestore\"\\'',\n",
       "  'review/summary': \" Phlip Nel gives silly Seuss a serious treatment'\",\n",
       "  'review/time': \" 1090713600'\",\n",
       "  'review/userId': \" A22X4XUPKF66MR'\"},\n",
       " {'product/price': \" unknown'\",\n",
       "  'product/productId': \" 0826414346'\",\n",
       "  'review/score': \" 4.0'\",\n",
       "  'review/summary': \" Good academic overview'\",\n",
       "  'review/time': \" 1107993600'\",\n",
       "  'review/userId': \" A2F6NONFUDB6UK'\"},\n",
       " {'b\"review/summary': ' One of America\\'s greatest creative talents\"',\n",
       "  'product/price': \" unknown'\",\n",
       "  'product/productId': \" 0826414346'\",\n",
       "  'review/helpfulness': \" 2/2'\",\n",
       "  'review/score': \" 4.0'\",\n",
       "  'review/time': \" 1127174400'\"},\n",
       " {'b\"review/summary': ' A memorably excellent survey of Dr. Seuss\\' many achievements\"',\n",
       "  'product/productId': \" 0826414346'\",\n",
       "  'review/helpfulness': \" 3/4'\",\n",
       "  'review/profileName': \" Midwest Book Review'\",\n",
       "  'review/score': \" 5.0'\",\n",
       "  'review/time': \" 1100131200'\"},\n",
       " {'b\"review/summary': ' Academia At It\\'s Best\"',\n",
       "  'product/productId': \" 0826414346'\",\n",
       "  'review/helpfulness': \" 0/0'\",\n",
       "  'review/profileName': \" J. Squire'\",\n",
       "  'review/score': \" 5.0'\",\n",
       "  'review/time': \" 1231200000'\",\n",
       "  'review/userId': \" A2RSSXTDZDUSH4'\"},\n",
       " {'product/price': \" unknown'\",\n",
       "  'review/helpfulness': \" 0/0'\",\n",
       "  'review/profileName': ' J. P. HIGBED \"big fellow\"\\'',\n",
       "  'review/score': \" 5.0'\",\n",
       "  'review/summary': \" And to think that I read it on the tram!'\",\n",
       "  'review/text': ' Trams (or any public transport) are not usually the best place to read and absorb scholarly texts. But this one has accompanied me on my daily commute, and I have been absorbed in it. It is well written and comprehensive, and tells the tale of a modern author, with plenty of \"Fancy that\" and \"Well, well\" moments. Highly recommended for stationary reading, too.\\'',\n",
       "  'review/time': \" 1209859200'\",\n",
       "  'review/userId': \" A25MD5I2GUIW6W'\"}]"
      ]
     },
     "execution_count": 51,
=======
       "[{'product/productId': '1882931173\\n',\n",
       "  'review/score': '4.0\\n',\n",
       "  'review/userId': 'AVCGYZL8FQQTD\\n'},\n",
       " {'product/productId': '0826414346\\n',\n",
       "  'review/score': '5.0\\n',\n",
       "  'review/userId': 'A30TK6U7DNS82R\\n'},\n",
       " {'product/productId': '0826414346\\n',\n",
       "  'review/score': '5.0\\n',\n",
       "  'review/userId': 'A3UH4UZ4RSVO82\\n'},\n",
       " {'product/productId': '0826414346\\n',\n",
       "  'review/score': '4.0\\n',\n",
       "  'review/userId': 'A2MVUWT453QH61\\n'},\n",
       " {'product/productId': '0826414346\\n',\n",
       "  'review/score': '4.0\\n',\n",
       "  'review/userId': 'A22X4XUPKF66MR\\n'},\n",
       " {'product/productId': '0826414346\\n',\n",
       "  'review/score': '4.0\\n',\n",
       "  'review/userId': 'A2F6NONFUDB6UK\\n'},\n",
       " {'product/productId': '0826414346\\n',\n",
       "  'review/score': '5.0\\n',\n",
       "  'review/userId': 'A14OJS0VWMOSWO\\n'},\n",
       " {'product/productId': '0826414346\\n',\n",
       "  'review/score': '5.0\\n',\n",
       "  'review/userId': 'A2RSSXTDZDUSH4\\n'},\n",
       " {'product/productId': '0826414346\\n',\n",
       "  'review/score': '5.0\\n',\n",
       "  'review/userId': 'A25MD5I2GUIW6W\\n'},\n",
       " {'product/productId': '0826414346\\n',\n",
       "  'review/score': '4.0\\n',\n",
       "  'review/userId': 'A3VA4XFS5WNJO3\\n'}]"
      ]
     },
<<<<<<< HEAD
     "execution_count": 6,
>>>>>>> 235e01ca51b0cae94945786308413b56515ef0a2
=======
     "execution_count": 23,
>>>>>>> 7d1eca13aa1ad664c10476486f10e11364130788
     "metadata": {},
     "output_type": "execute_result"
    }
   ],
   "source": [
    "len(data_list)\n",
    "data_list[:10]"
   ]
  },
  {
   "cell_type": "code",
<<<<<<< HEAD
<<<<<<< HEAD
   "execution_count": null,
=======
   "execution_count": 7,
>>>>>>> 235e01ca51b0cae94945786308413b56515ef0a2
=======
   "execution_count": 24,
>>>>>>> 7d1eca13aa1ad664c10476486f10e11364130788
   "metadata": {
    "collapsed": true
   },
   "outputs": [],
<<<<<<< HEAD
   "source": []
  }
 ],
 "metadata": {
  "kernelspec": {
   "display_name": "Python 3",
   "language": "python",
   "name": "python3"
=======
   "source": [
    "# importing pandas and converting this to a data_frame\n",
    "import pandas as pd\n",
    "from pandas.io.json import json_normalize"
   ]
  },
  {
   "cell_type": "code",
   "execution_count": 25,
   "metadata": {
    "collapsed": true
   },
   "outputs": [],
   "source": [
    "data_df = pd.DataFrame(json_normalize(data_list))"
   ]
  },
  {
   "cell_type": "code",
   "execution_count": 27,
   "metadata": {},
   "outputs": [
    {
     "data": {
      "text/html": [
       "<div>\n",
       "<table border=\"1\" class=\"dataframe\">\n",
       "  <thead>\n",
       "    <tr style=\"text-align: right;\">\n",
       "      <th></th>\n",
       "      <th>product/productId</th>\n",
       "      <th>review/score</th>\n",
       "      <th>review/text</th>\n",
       "      <th>review/userId</th>\n",
       "    </tr>\n",
       "  </thead>\n",
       "  <tbody>\n",
       "    <tr>\n",
       "      <th>0</th>\n",
       "      <td>1882931173\\n</td>\n",
       "      <td>4.0\\n</td>\n",
       "      <td>NaN</td>\n",
       "      <td>AVCGYZL8FQQTD\\n</td>\n",
       "    </tr>\n",
       "    <tr>\n",
       "      <th>1</th>\n",
       "      <td>0826414346\\n</td>\n",
       "      <td>5.0\\n</td>\n",
       "      <td>NaN</td>\n",
       "      <td>A30TK6U7DNS82R\\n</td>\n",
       "    </tr>\n",
       "    <tr>\n",
       "      <th>2</th>\n",
       "      <td>0826414346\\n</td>\n",
       "      <td>5.0\\n</td>\n",
       "      <td>NaN</td>\n",
       "      <td>A3UH4UZ4RSVO82\\n</td>\n",
       "    </tr>\n",
       "    <tr>\n",
       "      <th>3</th>\n",
       "      <td>0826414346\\n</td>\n",
       "      <td>4.0\\n</td>\n",
       "      <td>NaN</td>\n",
       "      <td>A2MVUWT453QH61\\n</td>\n",
       "    </tr>\n",
       "    <tr>\n",
       "      <th>4</th>\n",
       "      <td>0826414346\\n</td>\n",
       "      <td>4.0\\n</td>\n",
       "      <td>NaN</td>\n",
       "      <td>A22X4XUPKF66MR\\n</td>\n",
       "    </tr>\n",
       "    <tr>\n",
       "      <th>5</th>\n",
       "      <td>0826414346\\n</td>\n",
       "      <td>4.0\\n</td>\n",
       "      <td>NaN</td>\n",
       "      <td>A2F6NONFUDB6UK\\n</td>\n",
       "    </tr>\n",
       "    <tr>\n",
       "      <th>6</th>\n",
       "      <td>0826414346\\n</td>\n",
       "      <td>5.0\\n</td>\n",
       "      <td>NaN</td>\n",
       "      <td>A14OJS0VWMOSWO\\n</td>\n",
       "    </tr>\n",
       "    <tr>\n",
       "      <th>7</th>\n",
       "      <td>0826414346\\n</td>\n",
       "      <td>5.0\\n</td>\n",
       "      <td>NaN</td>\n",
       "      <td>A2RSSXTDZDUSH4\\n</td>\n",
       "    </tr>\n",
       "    <tr>\n",
       "      <th>8</th>\n",
       "      <td>0826414346\\n</td>\n",
       "      <td>5.0\\n</td>\n",
       "      <td>NaN</td>\n",
       "      <td>A25MD5I2GUIW6W\\n</td>\n",
       "    </tr>\n",
       "    <tr>\n",
       "      <th>9</th>\n",
       "      <td>0826414346\\n</td>\n",
       "      <td>4.0\\n</td>\n",
       "      <td>NaN</td>\n",
       "      <td>A3VA4XFS5WNJO3\\n</td>\n",
       "    </tr>\n",
       "  </tbody>\n",
       "</table>\n",
       "</div>"
      ],
      "text/plain": [
       "  product/productId review/score review/text     review/userId\n",
       "0      1882931173\\n        4.0\\n         NaN   AVCGYZL8FQQTD\\n\n",
       "1      0826414346\\n        5.0\\n         NaN  A30TK6U7DNS82R\\n\n",
       "2      0826414346\\n        5.0\\n         NaN  A3UH4UZ4RSVO82\\n\n",
       "3      0826414346\\n        4.0\\n         NaN  A2MVUWT453QH61\\n\n",
       "4      0826414346\\n        4.0\\n         NaN  A22X4XUPKF66MR\\n\n",
       "5      0826414346\\n        4.0\\n         NaN  A2F6NONFUDB6UK\\n\n",
       "6      0826414346\\n        5.0\\n         NaN  A14OJS0VWMOSWO\\n\n",
       "7      0826414346\\n        5.0\\n         NaN  A2RSSXTDZDUSH4\\n\n",
       "8      0826414346\\n        5.0\\n         NaN  A25MD5I2GUIW6W\\n\n",
       "9      0826414346\\n        4.0\\n         NaN  A3VA4XFS5WNJO3\\n"
      ]
     },
     "execution_count": 27,
     "metadata": {},
     "output_type": "execute_result"
    }
   ],
   "source": [
    "data_df.head(10)"
   ]
  },
  {
   "cell_type": "code",
   "execution_count": 29,
   "metadata": {
    "collapsed": true
   },
   "outputs": [],
   "source": [
    "data_df.columns = [\"ProductID\", \"Review\",\"Review/Text\",\"UserID\"]\n",
    "data_df[\"Review\"] = data_df[\"Review\"].astype('float64')\n",
    "data_df.head(10)\n",
    "data_df = data_df.drop([\"Review/Text\"], axis = 1)"
   ]
  },
  {
   "cell_type": "code",
   "execution_count": 30,
   "metadata": {},
   "outputs": [
    {
     "data": {
      "text/html": [
       "<div>\n",
       "<table border=\"1\" class=\"dataframe\">\n",
       "  <thead>\n",
       "    <tr style=\"text-align: right;\">\n",
       "      <th></th>\n",
       "      <th>ProductID</th>\n",
       "      <th>Review</th>\n",
       "      <th>UserID</th>\n",
       "    </tr>\n",
       "  </thead>\n",
       "  <tbody>\n",
       "    <tr>\n",
       "      <th>0</th>\n",
       "      <td>1882931173\\n</td>\n",
       "      <td>4.0</td>\n",
       "      <td>AVCGYZL8FQQTD\\n</td>\n",
       "    </tr>\n",
       "    <tr>\n",
       "      <th>1</th>\n",
       "      <td>0826414346\\n</td>\n",
       "      <td>5.0</td>\n",
       "      <td>A30TK6U7DNS82R\\n</td>\n",
       "    </tr>\n",
       "    <tr>\n",
       "      <th>2</th>\n",
       "      <td>0826414346\\n</td>\n",
       "      <td>5.0</td>\n",
       "      <td>A3UH4UZ4RSVO82\\n</td>\n",
       "    </tr>\n",
       "    <tr>\n",
       "      <th>3</th>\n",
       "      <td>0826414346\\n</td>\n",
       "      <td>4.0</td>\n",
       "      <td>A2MVUWT453QH61\\n</td>\n",
       "    </tr>\n",
       "    <tr>\n",
       "      <th>4</th>\n",
       "      <td>0826414346\\n</td>\n",
       "      <td>4.0</td>\n",
       "      <td>A22X4XUPKF66MR\\n</td>\n",
       "    </tr>\n",
       "    <tr>\n",
       "      <th>5</th>\n",
       "      <td>0826414346\\n</td>\n",
       "      <td>4.0</td>\n",
       "      <td>A2F6NONFUDB6UK\\n</td>\n",
       "    </tr>\n",
       "    <tr>\n",
       "      <th>6</th>\n",
       "      <td>0826414346\\n</td>\n",
       "      <td>5.0</td>\n",
       "      <td>A14OJS0VWMOSWO\\n</td>\n",
       "    </tr>\n",
       "    <tr>\n",
       "      <th>7</th>\n",
       "      <td>0826414346\\n</td>\n",
       "      <td>5.0</td>\n",
       "      <td>A2RSSXTDZDUSH4\\n</td>\n",
       "    </tr>\n",
       "    <tr>\n",
       "      <th>8</th>\n",
       "      <td>0826414346\\n</td>\n",
       "      <td>5.0</td>\n",
       "      <td>A25MD5I2GUIW6W\\n</td>\n",
       "    </tr>\n",
       "    <tr>\n",
       "      <th>9</th>\n",
       "      <td>0826414346\\n</td>\n",
       "      <td>4.0</td>\n",
       "      <td>A3VA4XFS5WNJO3\\n</td>\n",
       "    </tr>\n",
       "    <tr>\n",
       "      <th>10</th>\n",
       "      <td>0829814000\\n</td>\n",
       "      <td>5.0</td>\n",
       "      <td>AZ0IOBU20TBOP\\n</td>\n",
       "    </tr>\n",
       "    <tr>\n",
       "      <th>11</th>\n",
       "      <td>0829814000\\n</td>\n",
       "      <td>5.0</td>\n",
       "      <td>A373VVEU6Z9M0N\\n</td>\n",
       "    </tr>\n",
       "    <tr>\n",
       "      <th>12</th>\n",
       "      <td>0829814000\\n</td>\n",
       "      <td>5.0</td>\n",
       "      <td>AGKGOH65VTRR4\\n</td>\n",
       "    </tr>\n",
       "    <tr>\n",
       "      <th>13</th>\n",
       "      <td>0829814000\\n</td>\n",
       "      <td>5.0</td>\n",
       "      <td>A3OQWLU31BU1Y\\n</td>\n",
       "    </tr>\n",
       "    <tr>\n",
       "      <th>14</th>\n",
       "      <td>0595344550\\n</td>\n",
       "      <td>1.0</td>\n",
       "      <td>A3Q12RK71N74LB\\n</td>\n",
       "    </tr>\n",
       "    <tr>\n",
       "      <th>15</th>\n",
       "      <td>0595344550\\n</td>\n",
       "      <td>4.0</td>\n",
       "      <td>A1E9M6APK30ZAU\\n</td>\n",
       "    </tr>\n",
       "    <tr>\n",
       "      <th>16</th>\n",
       "      <td>0595344550\\n</td>\n",
       "      <td>1.0</td>\n",
       "      <td>AUR0VA5H0C66C\\n</td>\n",
       "    </tr>\n",
       "    <tr>\n",
       "      <th>17</th>\n",
       "      <td>0595344550\\n</td>\n",
       "      <td>5.0</td>\n",
       "      <td>A1YLDZ3VHR6QPZ\\n</td>\n",
       "    </tr>\n",
       "    <tr>\n",
       "      <th>18</th>\n",
       "      <td>0595344550\\n</td>\n",
       "      <td>5.0</td>\n",
       "      <td>ACO23CG8K8T77\\n</td>\n",
       "    </tr>\n",
       "    <tr>\n",
       "      <th>19</th>\n",
       "      <td>0595344550\\n</td>\n",
       "      <td>5.0</td>\n",
       "      <td>A1VK81CRRC7MLM\\n</td>\n",
       "    </tr>\n",
       "  </tbody>\n",
       "</table>\n",
       "</div>"
      ],
      "text/plain": [
       "       ProductID  Review            UserID\n",
       "0   1882931173\\n     4.0   AVCGYZL8FQQTD\\n\n",
       "1   0826414346\\n     5.0  A30TK6U7DNS82R\\n\n",
       "2   0826414346\\n     5.0  A3UH4UZ4RSVO82\\n\n",
       "3   0826414346\\n     4.0  A2MVUWT453QH61\\n\n",
       "4   0826414346\\n     4.0  A22X4XUPKF66MR\\n\n",
       "5   0826414346\\n     4.0  A2F6NONFUDB6UK\\n\n",
       "6   0826414346\\n     5.0  A14OJS0VWMOSWO\\n\n",
       "7   0826414346\\n     5.0  A2RSSXTDZDUSH4\\n\n",
       "8   0826414346\\n     5.0  A25MD5I2GUIW6W\\n\n",
       "9   0826414346\\n     4.0  A3VA4XFS5WNJO3\\n\n",
       "10  0829814000\\n     5.0   AZ0IOBU20TBOP\\n\n",
       "11  0829814000\\n     5.0  A373VVEU6Z9M0N\\n\n",
       "12  0829814000\\n     5.0   AGKGOH65VTRR4\\n\n",
       "13  0829814000\\n     5.0   A3OQWLU31BU1Y\\n\n",
       "14  0595344550\\n     1.0  A3Q12RK71N74LB\\n\n",
       "15  0595344550\\n     4.0  A1E9M6APK30ZAU\\n\n",
       "16  0595344550\\n     1.0   AUR0VA5H0C66C\\n\n",
       "17  0595344550\\n     5.0  A1YLDZ3VHR6QPZ\\n\n",
       "18  0595344550\\n     5.0   ACO23CG8K8T77\\n\n",
       "19  0595344550\\n     5.0  A1VK81CRRC7MLM\\n"
      ]
     },
     "execution_count": 30,
     "metadata": {},
     "output_type": "execute_result"
    }
   ],
   "source": [
    "data_df.head(20)"
   ]
  },
  {
   "cell_type": "code",
   "execution_count": 12,
   "metadata": {},
   "outputs": [
    {
     "name": "stdout",
     "output_type": "stream",
     "text": [
      "        ProductID  Review          UserID\n",
      "1739   B000N6DDJQ     5.0  A1YB29BIDULEYE\n",
      "12383  158855032X     5.0  A1YB29BIDULEYE\n",
      "21933  1885217714     4.0  A1YB29BIDULEYE\n",
      "        ProductID  Review          UserID\n",
      "1741   B000N6DDJQ     5.0  A1PFPR44FLJNZP\n",
      "16233  9562910334     5.0  A1PFPR44FLJNZP\n",
      "        ProductID  Review         UserID\n",
      "1747   B000N6DDJQ     5.0  AUM3YMZ0YRJE0\n",
      "7950   B000PBZH5M     5.0  AUM3YMZ0YRJE0\n",
      "9785   1595580212     4.0  AUM3YMZ0YRJE0\n",
      "10234  B000PBZH6Q     5.0  AUM3YMZ0YRJE0\n",
      "12868  B00087DAOS     5.0  AUM3YMZ0YRJE0\n",
      "20538  B000I3JBUO     5.0  AUM3YMZ0YRJE0\n",
      "39463  075311383X     4.0  AUM3YMZ0YRJE0\n",
      "       ProductID  Review          UserID\n",
      "1759  B000N6DDJQ     3.0  A13IZYHNIQGK4Q\n",
      "2477  B000N6DDJQ     3.0  A13IZYHNIQGK4Q\n",
      "        ProductID  Review          UserID\n",
      "1761   B000N6DDJQ     1.0  A1FEEFAK5Y45M2\n",
      "25933  B000L1WSBC     5.0  A1FEEFAK5Y45M2\n",
      "        ProductID  Review          UserID\n",
      "1768   B000N6DDJQ     1.0  A14I2UO0KK2BNO\n",
      "20515  B000I3JBUO     1.0  A14I2UO0KK2BNO\n",
      "        ProductID  Review          UserID\n",
      "1772   B000N6DDJQ     3.0  A122H2TEE3VUKW\n",
      "17816  B000TZ19TC     5.0  A122H2TEE3VUKW\n",
      "        ProductID  Review          UserID\n",
      "1782   B000N6DDJQ     5.0  A38SZKJML7JF8Y\n",
      "24026  B000PHIIM0     4.0  A38SZKJML7JF8Y\n",
      "        ProductID  Review          UserID\n",
      "1789   B000N6DDJQ     5.0  A1JIPFV4OL520T\n",
      "19242  B000GSNTYA     2.0  A1JIPFV4OL520T\n",
      "        ProductID  Review         UserID\n",
      "1794   B000N6DDJQ     3.0  A59LBV682DWGM\n",
      "15684  9562910334     5.0  A59LBV682DWGM\n",
      "        ProductID  Review          UserID\n",
      "1795   B000N6DDJQ     3.0  A1BJLZ8UNAZX2D\n",
      "12384  158855032X     5.0  A1BJLZ8UNAZX2D\n",
      "        ProductID  Review         UserID\n",
      "1807   B000N6DDJQ     5.0  AMKZHBOK7VMQR\n",
      "21080  1588550346     5.0  AMKZHBOK7VMQR\n",
      "21624  B000J0WATA     5.0  AMKZHBOK7VMQR\n",
      "22616  1581180012     5.0  AMKZHBOK7VMQR\n",
      "27830  1568959443     5.0  AMKZHBOK7VMQR\n",
      "28366  0333168925     5.0  AMKZHBOK7VMQR\n",
      "34658  B0008BZ3US     5.0  AMKZHBOK7VMQR\n",
      "35182  1404318364     5.0  AMKZHBOK7VMQR\n",
      "37451  B0007J1MEM     5.0  AMKZHBOK7VMQR\n",
      "39162  0192833502     4.0  AMKZHBOK7VMQR\n",
      "39684  1404318372     5.0  AMKZHBOK7VMQR\n",
      "43822  B0009KKVZU     5.0  AMKZHBOK7VMQR\n",
      "       ProductID  Review         UserID\n",
      "1809  B000N6DDJQ     5.0  A5ZUZ49YRDPCV\n",
      "9086  1588550311     5.0  A5ZUZ49YRDPCV\n",
      "        ProductID  Review          UserID\n",
      "1813   B000N6DDJQ     5.0  A2HUXP2IH2JTNW\n",
      "15507  9562910334     5.0  A2HUXP2IH2JTNW\n",
      "        ProductID  Review          UserID\n",
      "1815   B000N6DDJQ     5.0  A2F35SS0RKWSO2\n",
      "27751  1568959443     5.0  A2F35SS0RKWSO2\n",
      "29126  0140860096     5.0  A2F35SS0RKWSO2\n",
      "35602  0943069165     4.0  A2F35SS0RKWSO2\n",
      "        ProductID  Review          UserID\n",
      "1816   B000N6DDJQ     5.0  A3POE7TZ7FFZDT\n",
      "6529   B0006DG9OM     5.0  A3POE7TZ7FFZDT\n",
      "38544  0333168968     5.0  A3POE7TZ7FFZDT\n",
      "        ProductID  Review         UserID\n",
      "1820   B000N6DDJQ     4.0  AWLFVCT9128JV\n",
      "5401   B000J5KSK8     4.0  AWLFVCT9128JV\n",
      "7647   B000PBZH5M     3.0  AWLFVCT9128JV\n",
      "7816   B000PBZH5M     4.0  AWLFVCT9128JV\n",
      "10191  B000PBZH6Q     3.0  AWLFVCT9128JV\n",
      "10360  B000PBZH6Q     4.0  AWLFVCT9128JV\n",
      "14098  0786191511     2.0  AWLFVCT9128JV\n",
      "15939  9562910334     5.0  AWLFVCT9128JV\n",
      "17853  B000TZ19TC     5.0  AWLFVCT9128JV\n",
      "36380  0786197005     4.0  AWLFVCT9128JV\n",
      "        ProductID  Review          UserID\n",
      "1828   B000N6DDJQ     3.0  A32O0SCWAEM5RV\n",
      "29847  0140860096     1.0  A32O0SCWAEM5RV\n",
      "        ProductID  Review         UserID\n",
      "1829   B000N6DDJQ     5.0  ABN5K7K1TM1QA\n",
      "2259   B000N6DDJQ     5.0  ABN5K7K1TM1QA\n",
      "12411  1861975805     5.0  ABN5K7K1TM1QA\n",
      "16394  9562910334     5.0  ABN5K7K1TM1QA\n",
      "25862  B000L1WSBC     4.0  ABN5K7K1TM1QA\n",
      "        ProductID  Review          UserID\n",
      "1830   B000N6DDJQ     4.0  A3IKBHODOTYYHM\n",
      "6604   B0006DG9OM     4.0  A3IKBHODOTYYHM\n",
      "16332  9562910334     4.0  A3IKBHODOTYYHM\n",
      "17183  B000TZ19TC     5.0  A3IKBHODOTYYHM\n",
      "22840  1581180012     4.0  A3IKBHODOTYYHM\n",
      "28355  0333168925     4.0  A3IKBHODOTYYHM\n",
      "29855  0140860096     5.0  A3IKBHODOTYYHM\n",
      "35253  1404318364     4.0  A3IKBHODOTYYHM\n",
      "38469  0333168968     4.0  A3IKBHODOTYYHM\n",
      "39591  1404318372     4.0  A3IKBHODOTYYHM\n",
      "        ProductID  Review          UserID\n",
      "1833   B000N6DDJQ     5.0  A3KF4IP2MUS8QQ\n",
      "12083  B000PDFO2Q     5.0  A3KF4IP2MUS8QQ\n",
      "16905  B000TZ19TC     5.0  A3KF4IP2MUS8QQ\n",
      "20865  061334006X     5.0  A3KF4IP2MUS8QQ\n",
      "22897  B0007DLJFK     4.0  A3KF4IP2MUS8QQ\n",
      "31561  B000E6JMXQ     5.0  A3KF4IP2MUS8QQ\n",
      "44976  B000KCSGPE     5.0  A3KF4IP2MUS8QQ\n",
      "        ProductID  Review          UserID\n",
      "1834   B000N6DDJQ     5.0  A1ARA52HB238HT\n",
      "15674  9562910334     4.0  A1ARA52HB238HT\n",
      "20028  B000I3JBUO     5.0  A1ARA52HB238HT\n",
      "28362  0333168925     4.0  A1ARA52HB238HT\n",
      "35260  1404318364     4.0  A1ARA52HB238HT\n",
      "39598  1404318372     4.0  A1ARA52HB238HT\n",
      "        ProductID  Review          UserID\n",
      "1836   B000N6DDJQ     3.0  A1AAND6JLJGCV2\n",
      "9002   1588550311     5.0  A1AAND6JLJGCV2\n",
      "29383  0140860096     5.0  A1AAND6JLJGCV2\n",
      "        ProductID  Review          UserID\n",
      "875    B000MCKQRS     5.0  A1N1YEMTI9DJ86\n",
      "1038   B000O3QCH8     4.0  A1N1YEMTI9DJ86\n",
      "1839   B000N6DDJQ     5.0  A1N1YEMTI9DJ86\n",
      "9171   1588550311     5.0  A1N1YEMTI9DJ86\n",
      "13557  B000O1UCCQ     5.0  A1N1YEMTI9DJ86\n",
      "13558  B000O1UCCQ     5.0  A1N1YEMTI9DJ86\n",
      "21061  1588550346     5.0  A1N1YEMTI9DJ86\n",
      "22956  B00004WISA     4.0  A1N1YEMTI9DJ86\n",
      "23082  B000CNRBZM     5.0  A1N1YEMTI9DJ86\n",
      "25982  B000L1WSBC     5.0  A1N1YEMTI9DJ86\n",
      "27345  B000JJ9ISM     5.0  A1N1YEMTI9DJ86\n",
      "28692  1568959451     4.0  A1N1YEMTI9DJ86\n",
      "29080  0140860096     5.0  A1N1YEMTI9DJ86\n",
      "30379  B0008B9EJO     5.0  A1N1YEMTI9DJ86\n",
      "34533  B0006AUIF6     3.0  A1N1YEMTI9DJ86\n",
      "34829  0747249059     5.0  A1N1YEMTI9DJ86\n",
      "35143  B000PDESPU     4.0  A1N1YEMTI9DJ86\n",
      "39007  B000GLTDBU     4.0  A1N1YEMTI9DJ86\n",
      "40769  B000PGC9SU     4.0  A1N1YEMTI9DJ86\n",
      "41813  B000NWO8CG     5.0  A1N1YEMTI9DJ86\n",
      "42901  B000F9HECI     4.0  A1N1YEMTI9DJ86\n",
      "43007  B00005N5OH     3.0  A1N1YEMTI9DJ86\n",
      "43817  B0009KKVZU     5.0  A1N1YEMTI9DJ86\n",
      "        ProductID  Review          UserID\n",
      "1840   B000N6DDJQ     5.0  A1FZI1F22GRO4C\n",
      "16317  9562910334     5.0  A1FZI1F22GRO4C\n",
      "        ProductID  Review          UserID\n",
      "1843   B000N6DDJQ     4.0  A2XAWBF5J47ECS\n",
      "17931  B000TZ19TC     5.0  A2XAWBF5J47ECS\n",
      "29894  0140860096     5.0  A2XAWBF5J47ECS\n",
      "        ProductID  Review         UserID\n",
      "1844   B000N6DDJQ     2.0  AJAF1T6Q7XM94\n",
      "6015   0897501225     5.0  AJAF1T6Q7XM94\n",
      "7989   B000PBZH5M     5.0  AJAF1T6Q7XM94\n",
      "9022   1588550311     3.0  AJAF1T6Q7XM94\n",
      "10133  B000PBZH6Q     5.0  AJAF1T6Q7XM94\n",
      "20567  B000I3JBUO     3.0  AJAF1T6Q7XM94\n",
      "        ProductID  Review         UserID\n",
      "1846   B000N6DDJQ     5.0  A527VID8R4K67\n",
      "25985  B000L1WSBC     5.0  A527VID8R4K67\n",
      "        ProductID  Review          UserID\n",
      "617    B000GSNTRC     4.0  A1D2C0WDCSHUWZ\n",
      "1850   B000N6DDJQ     5.0  A1D2C0WDCSHUWZ\n",
      "1853   B000N6DDJQ     5.0  A1D2C0WDCSHUWZ\n",
      "2167   B000N6DDJQ     5.0  A1D2C0WDCSHUWZ\n",
      "2397   B000N6DDJQ     5.0  A1D2C0WDCSHUWZ\n",
      "3364   B000NSKB12     5.0  A1D2C0WDCSHUWZ\n",
      "3371   B000NSKB12     5.0  A1D2C0WDCSHUWZ\n",
      "5392   B000J5KSK8     4.0  A1D2C0WDCSHUWZ\n",
      "5873   B000I83ZJC     5.0  A1D2C0WDCSHUWZ\n",
      "5893   B000I83ZJC     4.0  A1D2C0WDCSHUWZ\n",
      "5901   B000I83ZJC     5.0  A1D2C0WDCSHUWZ\n",
      "8490   B0006AONEI     5.0  A1D2C0WDCSHUWZ\n",
      "9008   1588550311     5.0  A1D2C0WDCSHUWZ\n",
      "9009   1588550311     5.0  A1D2C0WDCSHUWZ\n",
      "9026   1588550311     5.0  A1D2C0WDCSHUWZ\n",
      "9104   1588550311     5.0  A1D2C0WDCSHUWZ\n",
      "9118   1588550311     5.0  A1D2C0WDCSHUWZ\n",
      "9160   1588550311     5.0  A1D2C0WDCSHUWZ\n",
      "9161   1588550311     5.0  A1D2C0WDCSHUWZ\n",
      "9221   1588550311     5.0  A1D2C0WDCSHUWZ\n",
      "22623  1581180012     4.0  A1D2C0WDCSHUWZ\n",
      "22636  1581180012     4.0  A1D2C0WDCSHUWZ\n",
      "22643  1581180012     4.0  A1D2C0WDCSHUWZ\n",
      "22666  1581180012     4.0  A1D2C0WDCSHUWZ\n",
      "22682  1581180012     4.0  A1D2C0WDCSHUWZ\n",
      "22737  1581180012     4.0  A1D2C0WDCSHUWZ\n",
      "22753  1581180012     4.0  A1D2C0WDCSHUWZ\n",
      "22831  1581180012     4.0  A1D2C0WDCSHUWZ\n",
      "22862  1581180012     4.0  A1D2C0WDCSHUWZ\n",
      "26616  B000NP1FT2     5.0  A1D2C0WDCSHUWZ\n",
      "31063  1892065142     5.0  A1D2C0WDCSHUWZ\n",
      "31395  B000E6JMXQ     4.0  A1D2C0WDCSHUWZ\n",
      "31431  B000E6JMXQ     4.0  A1D2C0WDCSHUWZ\n",
      "31432  B000E6JMXQ     5.0  A1D2C0WDCSHUWZ\n",
      "31472  B000E6JMXQ     5.0  A1D2C0WDCSHUWZ\n",
      "31701  B000E6JMXQ     5.0  A1D2C0WDCSHUWZ\n",
      "35744  0943069165     5.0  A1D2C0WDCSHUWZ\n",
      "36151  0786197005     4.0  A1D2C0WDCSHUWZ\n",
      "36152  0786197005     4.0  A1D2C0WDCSHUWZ\n",
      "36487  0786197005     4.0  A1D2C0WDCSHUWZ\n",
      "36490  0786197005     5.0  A1D2C0WDCSHUWZ\n",
      "36493  0786197005     5.0  A1D2C0WDCSHUWZ\n",
      "42500  B000Q12ZQA     5.0  A1D2C0WDCSHUWZ\n",
      "        ProductID  Review          UserID\n",
      "1851   B000N6DDJQ     5.0  A2AYSFGUP5VTY3\n",
      "6603   B0006DG9OM     4.0  A2AYSFGUP5VTY3\n",
      "9121   1588550311     5.0  A2AYSFGUP5VTY3\n",
      "16771  1419123548     3.0  A2AYSFGUP5VTY3\n",
      "26859  B000GQMUG0     5.0  A2AYSFGUP5VTY3\n",
      "27549  B000JJ9ISM     5.0  A2AYSFGUP5VTY3\n",
      "29638  0140860096     5.0  A2AYSFGUP5VTY3\n",
      "31755  B0006A0126     2.0  A2AYSFGUP5VTY3\n",
      "38468  0333168968     4.0  A2AYSFGUP5VTY3\n",
      "42446  B000NWO8CG     5.0  A2AYSFGUP5VTY3\n",
      "        ProductID  Review          UserID\n",
      "617    B000GSNTRC     4.0  A1D2C0WDCSHUWZ\n",
      "1850   B000N6DDJQ     5.0  A1D2C0WDCSHUWZ\n",
      "1853   B000N6DDJQ     5.0  A1D2C0WDCSHUWZ\n",
      "2167   B000N6DDJQ     5.0  A1D2C0WDCSHUWZ\n",
      "2397   B000N6DDJQ     5.0  A1D2C0WDCSHUWZ\n",
      "3364   B000NSKB12     5.0  A1D2C0WDCSHUWZ\n",
      "3371   B000NSKB12     5.0  A1D2C0WDCSHUWZ\n",
      "5392   B000J5KSK8     4.0  A1D2C0WDCSHUWZ\n",
      "5873   B000I83ZJC     5.0  A1D2C0WDCSHUWZ\n",
      "5893   B000I83ZJC     4.0  A1D2C0WDCSHUWZ\n",
      "5901   B000I83ZJC     5.0  A1D2C0WDCSHUWZ\n",
      "8490   B0006AONEI     5.0  A1D2C0WDCSHUWZ\n",
      "9008   1588550311     5.0  A1D2C0WDCSHUWZ\n",
      "9009   1588550311     5.0  A1D2C0WDCSHUWZ\n",
      "9026   1588550311     5.0  A1D2C0WDCSHUWZ\n",
      "9104   1588550311     5.0  A1D2C0WDCSHUWZ\n",
      "9118   1588550311     5.0  A1D2C0WDCSHUWZ\n",
      "9160   1588550311     5.0  A1D2C0WDCSHUWZ\n",
      "9161   1588550311     5.0  A1D2C0WDCSHUWZ\n",
      "9221   1588550311     5.0  A1D2C0WDCSHUWZ\n",
      "22623  1581180012     4.0  A1D2C0WDCSHUWZ\n",
      "22636  1581180012     4.0  A1D2C0WDCSHUWZ\n",
      "22643  1581180012     4.0  A1D2C0WDCSHUWZ\n",
      "22666  1581180012     4.0  A1D2C0WDCSHUWZ\n",
      "22682  1581180012     4.0  A1D2C0WDCSHUWZ\n",
      "22737  1581180012     4.0  A1D2C0WDCSHUWZ\n",
      "22753  1581180012     4.0  A1D2C0WDCSHUWZ\n",
      "22831  1581180012     4.0  A1D2C0WDCSHUWZ\n",
      "22862  1581180012     4.0  A1D2C0WDCSHUWZ\n",
      "26616  B000NP1FT2     5.0  A1D2C0WDCSHUWZ\n",
      "31063  1892065142     5.0  A1D2C0WDCSHUWZ\n",
      "31395  B000E6JMXQ     4.0  A1D2C0WDCSHUWZ\n",
      "31431  B000E6JMXQ     4.0  A1D2C0WDCSHUWZ\n",
      "31432  B000E6JMXQ     5.0  A1D2C0WDCSHUWZ\n",
      "31472  B000E6JMXQ     5.0  A1D2C0WDCSHUWZ\n",
      "31701  B000E6JMXQ     5.0  A1D2C0WDCSHUWZ\n",
      "35744  0943069165     5.0  A1D2C0WDCSHUWZ\n",
      "36151  0786197005     4.0  A1D2C0WDCSHUWZ\n",
      "36152  0786197005     4.0  A1D2C0WDCSHUWZ\n",
      "36487  0786197005     4.0  A1D2C0WDCSHUWZ\n",
      "36490  0786197005     5.0  A1D2C0WDCSHUWZ\n",
      "36493  0786197005     5.0  A1D2C0WDCSHUWZ\n",
      "42500  B000Q12ZQA     5.0  A1D2C0WDCSHUWZ\n"
     ]
    },
    {
     "name": "stdout",
     "output_type": "stream",
     "text": [
      "        ProductID  Review         UserID\n",
      "1860   B000N6DDJQ     5.0  APGKUH3ECVS61\n",
      "29984  0140860096     5.0  APGKUH3ECVS61\n",
      "        ProductID  Review          UserID\n",
      "1867   B000N6DDJQ     5.0  A3NI29U4P5NQF1\n",
      "13176  1557429227     5.0  A3NI29U4P5NQF1\n",
      "23946  B000PHIIM0     5.0  A3NI29U4P5NQF1\n",
      "31521  B000E6JMXQ     5.0  A3NI29U4P5NQF1\n",
      "41081  B000PGC9SU     5.0  A3NI29U4P5NQF1\n",
      "        ProductID  Review          UserID\n",
      "1872   B000N6DDJQ     3.0  A18MG1GPSEAPE9\n",
      "13177  1557429227     3.0  A18MG1GPSEAPE9\n",
      "40954  B000PGC9SU     3.0  A18MG1GPSEAPE9\n",
      "        ProductID  Review         UserID\n",
      "1884   B000N6DDJQ     4.0  A9RUU8JSKU7G1\n",
      "13151  1557429227     4.0  A9RUU8JSKU7G1\n",
      "        ProductID  Review         UserID\n",
      "1886   B000N6DDJQ     5.0  AGEIT17HENDIS\n",
      "5135   B0006W4076     5.0  AGEIT17HENDIS\n",
      "6183   B000EMZWV6     5.0  AGEIT17HENDIS\n",
      "6971   B0000CKD7E     3.0  AGEIT17HENDIS\n",
      "9789   1595580212     4.0  AGEIT17HENDIS\n",
      "29850  0140860096     4.0  AGEIT17HENDIS\n",
      "30833  B0006DC67Q     5.0  AGEIT17HENDIS\n",
      "        ProductID  Review         UserID\n",
      "1887   B000N6DDJQ     4.0  A3YW07H3DKVEH\n",
      "25986  B000L1WSBC     4.0  A3YW07H3DKVEH\n",
      "34967  0553234080     4.0  A3YW07H3DKVEH\n",
      "        ProductID  Review         UserID\n",
      "1890   B000N6DDJQ     5.0  AJ7SKEX269O9U\n",
      "16264  9562910334     5.0  AJ7SKEX269O9U\n",
      "        ProductID  Review         UserID\n",
      "1904   B000N6DDJQ     5.0  AC7MP9R2FKEAI\n",
      "27659  B000879GRS     5.0  AC7MP9R2FKEAI\n",
      "43826  B0009KKVZU     5.0  AC7MP9R2FKEAI\n",
      "        ProductID  Review          UserID\n",
      "1926   B000N6DDJQ     4.0  A2SHQJP6PNQTLD\n",
      "20755  B000I3JBUO     5.0  A2SHQJP6PNQTLD\n",
      "26873  B000GQMUG0     3.0  A2SHQJP6PNQTLD\n",
      "30609  0060953675     2.0  A2SHQJP6PNQTLD\n",
      "32295  0312179421     3.0  A2SHQJP6PNQTLD\n",
      "45417  B000I2UNB6     5.0  A2SHQJP6PNQTLD\n",
      "        ProductID  Review         UserID\n",
      "1937   B000N6DDJQ     5.0  A7N5UKGJZB6RQ\n",
      "18353  B000TZ19TC     5.0  A7N5UKGJZB6RQ\n",
      "        ProductID  Review          UserID\n",
      "1939   B000N6DDJQ     5.0  A3R1D7LZUJ2H6H\n",
      "41011  B000PGC9SU     5.0  A3R1D7LZUJ2H6H\n",
      "        ProductID  Review          UserID\n",
      "1947   B000N6DDJQ     5.0  A25KEEQK88U659\n",
      "36341  0786197005     5.0  A25KEEQK88U659\n",
      "        ProductID  Review          UserID\n",
      "1949   B000N6DDJQ     5.0  A3LX0RSPLHEE5S\n",
      "23922  B000PHIIM0     5.0  A3LX0RSPLHEE5S\n",
      "        ProductID  Review          UserID\n",
      "1952   B000N6DDJQ     5.0  A2QR0OBX1BB99O\n",
      "40963  B000PGC9SU     5.0  A2QR0OBX1BB99O\n",
      "        ProductID  Review          UserID\n",
      "1956   B000N6DDJQ     5.0  A1LRJUDU0TS25O\n",
      "24017  B000PHIIM0     2.0  A1LRJUDU0TS25O\n",
      "        ProductID  Review          UserID\n",
      "1965   B000N6DDJQ     5.0  A29R36DKPVNVWD\n",
      "13202  1557429227     5.0  A29R36DKPVNVWD\n",
      "        ProductID  Review          UserID\n",
      "1980   B000N6DDJQ     5.0  A3CNEVQOBHI6AT\n",
      "29324  0140860096     5.0  A3CNEVQOBHI6AT\n",
      "       ProductID  Review          UserID\n",
      "1983  B000N6DDJQ     5.0  A2M3NCTFUGI4SR\n",
      "2066  B000N6DDJQ     5.0  A2M3NCTFUGI4SR\n",
      "        ProductID  Review         UserID\n",
      "1995   B000N6DDJQ     5.0  AA3YR5Q1K4KLC\n",
      "21070  1588550346     5.0  AA3YR5Q1K4KLC\n",
      "        ProductID  Review         UserID\n",
      "2010   B000N6DDJQ     5.0  APXRT4OPH9WZ8\n",
      "29642  0140860096     5.0  APXRT4OPH9WZ8\n",
      "        ProductID  Review         UserID\n",
      "2011   B000N6DDJQ     4.0  ACZ2CLZ2WNBBD\n",
      "15690  9562910334     5.0  ACZ2CLZ2WNBBD\n",
      "22717  1581180012     4.0  ACZ2CLZ2WNBBD\n",
      "        ProductID  Review          UserID\n",
      "2021   B000N6DDJQ     3.0  A30VUMM1U58VPK\n",
      "31631  B000E6JMXQ     3.0  A30VUMM1U58VPK\n",
      "        ProductID  Review          UserID\n",
      "2023   B000N6DDJQ     3.0  A20EEWWSFMZ1PN\n",
      "5396   B000J5KSK8     5.0  A20EEWWSFMZ1PN\n",
      "14720  9562910334     5.0  A20EEWWSFMZ1PN\n",
      "15005  9562910334     5.0  A20EEWWSFMZ1PN\n",
      "15151  9562910334     5.0  A20EEWWSFMZ1PN\n",
      "15583  9562910334     5.0  A20EEWWSFMZ1PN\n",
      "15836  9562910334     5.0  A20EEWWSFMZ1PN\n",
      "16024  9562910334     5.0  A20EEWWSFMZ1PN\n",
      "16237  9562910334     5.0  A20EEWWSFMZ1PN\n",
      "16238  9562910334     5.0  A20EEWWSFMZ1PN\n",
      "16328  9562910334     5.0  A20EEWWSFMZ1PN\n",
      "16814  B000TZ19TC     5.0  A20EEWWSFMZ1PN\n",
      "18287  B000TZ19TC     5.0  A20EEWWSFMZ1PN\n",
      "36246  0786197005     5.0  A20EEWWSFMZ1PN\n",
      "36250  0786197005     5.0  A20EEWWSFMZ1PN\n",
      "36251  0786197005     5.0  A20EEWWSFMZ1PN\n",
      "36268  0786197005     5.0  A20EEWWSFMZ1PN\n",
      "36303  0786197005     5.0  A20EEWWSFMZ1PN\n",
      "36347  0786197005     5.0  A20EEWWSFMZ1PN\n",
      "36349  0786197005     5.0  A20EEWWSFMZ1PN\n",
      "36350  0786197005     5.0  A20EEWWSFMZ1PN\n",
      "36351  0786197005     5.0  A20EEWWSFMZ1PN\n",
      "36355  0786197005     5.0  A20EEWWSFMZ1PN\n",
      "36473  0786197005     5.0  A20EEWWSFMZ1PN\n",
      "36499  0786197005     5.0  A20EEWWSFMZ1PN\n",
      "41553  B0006AVE5E     5.0  A20EEWWSFMZ1PN\n",
      "41554  B0006AVE5E     5.0  A20EEWWSFMZ1PN\n",
      "41555  B0006AVE5E     5.0  A20EEWWSFMZ1PN\n",
      "41556  B0006AVE5E     5.0  A20EEWWSFMZ1PN\n",
      "41557  B0006AVE5E     5.0  A20EEWWSFMZ1PN\n",
      "        ProductID  Review          UserID\n",
      "1083   B000O3QCH8     4.0  A37PV5GMP2ILJC\n",
      "2024   B000N6DDJQ     5.0  A37PV5GMP2ILJC\n",
      "31244  1932172211     5.0  A37PV5GMP2ILJC\n",
      "        ProductID  Review         UserID\n",
      "2038   B000N6DDJQ     5.0  A96K1ZGW56S2I\n",
      "4335   156292656X     4.0  A96K1ZGW56S2I\n",
      "18232  B000TZ19TC     4.0  A96K1ZGW56S2I\n",
      "19042  1881649644     4.0  A96K1ZGW56S2I\n",
      "25083  1567230288     3.0  A96K1ZGW56S2I\n",
      "42826  B0006QOT5K     5.0  A96K1ZGW56S2I\n",
      "        ProductID  Review          UserID\n",
      "2042   B000N6DDJQ     5.0  A1JUYF5D6TFFHB\n",
      "15608  9562910334     5.0  A1JUYF5D6TFFHB\n",
      "        ProductID  Review          UserID\n",
      "2048   B000N6DDJQ     4.0  A3JSRMS7FO6EKQ\n",
      "15145  9562910334     5.0  A3JSRMS7FO6EKQ\n",
      "20475  B000I3JBUO     4.0  A3JSRMS7FO6EKQ\n",
      "        ProductID  Review          UserID\n",
      "1625   B000NRYUHO     2.0  A1K1JW1C5CUSUZ\n",
      "2062   B000N6DDJQ     5.0  A1K1JW1C5CUSUZ\n",
      "2811   087584782X     5.0  A1K1JW1C5CUSUZ\n",
      "7757   B000PBZH5M     5.0  A1K1JW1C5CUSUZ\n",
      "7784   B000PBZH5M     5.0  A1K1JW1C5CUSUZ\n",
      "10121  B000PBZH6Q     5.0  A1K1JW1C5CUSUZ\n",
      "10378  B000PBZH6Q     5.0  A1K1JW1C5CUSUZ\n",
      "20901  0875847889     5.0  A1K1JW1C5CUSUZ\n",
      "21075  1588550346     5.0  A1K1JW1C5CUSUZ\n",
      "22585  1581180012     5.0  A1K1JW1C5CUSUZ\n",
      "25686  0385720904     3.0  A1K1JW1C5CUSUZ\n",
      "25951  B000L1WSBC     5.0  A1K1JW1C5CUSUZ\n",
      "27894  1568959443     5.0  A1K1JW1C5CUSUZ\n",
      "27988  1568959443     5.0  A1K1JW1C5CUSUZ\n",
      "32086  B000HVLLEQ     5.0  A1K1JW1C5CUSUZ\n",
      "34860  0316602574     3.0  A1K1JW1C5CUSUZ\n",
      "35390  B000KT2MFC     5.0  A1K1JW1C5CUSUZ\n",
      "39017  B000GLTDBU     5.0  A1K1JW1C5CUSUZ\n",
      "41545  8483101351     5.0  A1K1JW1C5CUSUZ\n",
      "        ProductID  Review         UserID\n",
      "2064   B000N6DDJQ     1.0  A2XZKGL6DJA03\n",
      "14934  9562910334     5.0  A2XZKGL6DJA03\n",
      "17431  B000TZ19TC     2.0  A2XZKGL6DJA03\n",
      "38125  B000879GVE     3.0  A2XZKGL6DJA03\n",
      "       ProductID  Review          UserID\n",
      "1983  B000N6DDJQ     5.0  A2M3NCTFUGI4SR\n",
      "2066  B000N6DDJQ     5.0  A2M3NCTFUGI4SR\n",
      "        ProductID  Review          UserID\n",
      "2068   B000N6DDJQ     5.0  A2L7JEPVTYG14L\n",
      "35510  0943069165     5.0  A2L7JEPVTYG14L\n",
      "        ProductID  Review          UserID\n",
      "2069   B000N6DDJQ     5.0  A2F540P3L6P5CL\n",
      "3738   B0007FSDKC     5.0  A2F540P3L6P5CL\n",
      "6324   B0006DG9OM     5.0  A2F540P3L6P5CL\n",
      "21200  0671535323     3.0  A2F540P3L6P5CL\n",
      "24626  B000L1A8RS     4.0  A2F540P3L6P5CL\n",
      "26445  B0006A011C     5.0  A2F540P3L6P5CL\n",
      "38176  B0006AUIHY     3.0  A2F540P3L6P5CL\n",
      "38343  0333168968     5.0  A2F540P3L6P5CL\n",
      "        ProductID  Review          UserID\n",
      "2084   B000N6DDJQ     4.0  A3UJ50L3ST5G95\n",
      "20051  B000I3JBUO     5.0  A3UJ50L3ST5G95\n",
      "        ProductID  Review          UserID\n",
      "2086   B000N6DDJQ     4.0  A1NZH03BZTSPS2\n",
      "17318  B000TZ19TC     4.0  A1NZH03BZTSPS2\n",
      "29938  0140860096     3.0  A1NZH03BZTSPS2\n",
      "        ProductID  Review          UserID\n",
      "2087   B000N6DDJQ     4.0  A370Z6I5GBWU44\n",
      "4406   B000GLTD5Q     4.0  A370Z6I5GBWU44\n",
      "5826   B000MU8334     5.0  A370Z6I5GBWU44\n",
      "8080   B000PBZH5M     5.0  A370Z6I5GBWU44\n",
      "9904   0736645586     4.0  A370Z6I5GBWU44\n",
      "10064  B000PBZH6Q     5.0  A370Z6I5GBWU44\n",
      "13644  B000O1UCCQ     5.0  A370Z6I5GBWU44\n",
      "15730  9562910334     5.0  A370Z6I5GBWU44\n",
      "18070  B000TZ19TC     4.0  A370Z6I5GBWU44\n",
      "29934  0140860096     3.0  A370Z6I5GBWU44\n",
      "31388  B000E6JMXQ     5.0  A370Z6I5GBWU44\n",
      "41892  B000NWO8CG     5.0  A370Z6I5GBWU44\n",
      "        ProductID  Review         UserID\n",
      "2089   B000N6DDJQ     5.0  A9W8VBYB5URD8\n",
      "14749  9562910334     5.0  A9W8VBYB5URD8\n",
      "17274  B000TZ19TC     5.0  A9W8VBYB5URD8\n",
      "        ProductID  Review          UserID\n",
      "2092   B000N6DDJQ     5.0  A188JKV8QVVOT7\n",
      "15216  9562910334     5.0  A188JKV8QVVOT7\n",
      "17312  B000TZ19TC     5.0  A188JKV8QVVOT7\n",
      "        ProductID  Review          UserID\n",
      "2093   B000N6DDJQ     3.0  A31N1I5DNGF83K\n",
      "31533  B000E6JMXQ     3.0  A31N1I5DNGF83K\n",
      "        ProductID  Review          UserID\n",
      "2095   B000N6DDJQ     4.0  A24S9MXU99UPN2\n",
      "42271  B000NWO8CG     4.0  A24S9MXU99UPN2\n",
      "        ProductID  Review          UserID\n",
      "2106   B000N6DDJQ     5.0  A1N2L9A6I686G5\n",
      "27591  0964202042     5.0  A1N2L9A6I686G5\n",
      "39956  0517884070     5.0  A1N2L9A6I686G5\n"
     ]
    },
    {
     "name": "stdout",
     "output_type": "stream",
     "text": [
      "        ProductID  Review          UserID\n",
      "2115   B000N6DDJQ     5.0  A2FQWV725FGE8S\n",
      "15652  9562910334     5.0  A2FQWV725FGE8S\n",
      "28995  0140860096     5.0  A2FQWV725FGE8S\n",
      "37436  B0007J1MEM     4.0  A2FQWV725FGE8S\n",
      "        ProductID  Review          UserID\n",
      "2116   B000N6DDJQ     4.0  A1EEW7AS30AK5Q\n",
      "40312  B000U2H696     4.0  A1EEW7AS30AK5Q\n",
      "40866  B000PGC9SU     4.0  A1EEW7AS30AK5Q\n",
      "42490  B000NWO8CG     5.0  A1EEW7AS30AK5Q\n",
      "        ProductID  Review          UserID\n",
      "304    B000PHTCGG     5.0  A1TIZI060W4BD9\n",
      "2124   B000N6DDJQ     3.0  A1TIZI060W4BD9\n",
      "5977   B000UVGLZM     5.0  A1TIZI060W4BD9\n",
      "8285   1891053000     3.0  A1TIZI060W4BD9\n",
      "10726  1891053019     4.0  A1TIZI060W4BD9\n",
      "16513  B0007J7H46     3.0  A1TIZI060W4BD9\n",
      "22872  1557131287     5.0  A1TIZI060W4BD9\n",
      "29399  0140860096     5.0  A1TIZI060W4BD9\n",
      "45234  0451525132     5.0  A1TIZI060W4BD9\n",
      "        ProductID  Review          UserID\n",
      "2150   B000N6DDJQ     3.0  A29CUCGRX04TS8\n",
      "8403   0671441310     5.0  A29CUCGRX04TS8\n",
      "14586  B000GR9G3E     5.0  A29CUCGRX04TS8\n",
      "25503  B000MCASDU     4.0  A29CUCGRX04TS8\n",
      "27912  1568959443     3.0  A29CUCGRX04TS8\n",
      "        ProductID  Review          UserID\n",
      "2151   B000N6DDJQ     5.0  A3EJT905S6ZS4K\n",
      "16293  9562910334     5.0  A3EJT905S6ZS4K\n",
      "39474  0679421203     5.0  A3EJT905S6ZS4K\n",
      "        ProductID  Review          UserID\n",
      "617    B000GSNTRC     4.0  A1D2C0WDCSHUWZ\n",
      "1850   B000N6DDJQ     5.0  A1D2C0WDCSHUWZ\n",
      "1853   B000N6DDJQ     5.0  A1D2C0WDCSHUWZ\n",
      "2167   B000N6DDJQ     5.0  A1D2C0WDCSHUWZ\n",
      "2397   B000N6DDJQ     5.0  A1D2C0WDCSHUWZ\n",
      "3364   B000NSKB12     5.0  A1D2C0WDCSHUWZ\n",
      "3371   B000NSKB12     5.0  A1D2C0WDCSHUWZ\n",
      "5392   B000J5KSK8     4.0  A1D2C0WDCSHUWZ\n",
      "5873   B000I83ZJC     5.0  A1D2C0WDCSHUWZ\n",
      "5893   B000I83ZJC     4.0  A1D2C0WDCSHUWZ\n",
      "5901   B000I83ZJC     5.0  A1D2C0WDCSHUWZ\n",
      "8490   B0006AONEI     5.0  A1D2C0WDCSHUWZ\n",
      "9008   1588550311     5.0  A1D2C0WDCSHUWZ\n",
      "9009   1588550311     5.0  A1D2C0WDCSHUWZ\n",
      "9026   1588550311     5.0  A1D2C0WDCSHUWZ\n",
      "9104   1588550311     5.0  A1D2C0WDCSHUWZ\n",
      "9118   1588550311     5.0  A1D2C0WDCSHUWZ\n",
      "9160   1588550311     5.0  A1D2C0WDCSHUWZ\n",
      "9161   1588550311     5.0  A1D2C0WDCSHUWZ\n",
      "9221   1588550311     5.0  A1D2C0WDCSHUWZ\n",
      "22623  1581180012     4.0  A1D2C0WDCSHUWZ\n",
      "22636  1581180012     4.0  A1D2C0WDCSHUWZ\n",
      "22643  1581180012     4.0  A1D2C0WDCSHUWZ\n",
      "22666  1581180012     4.0  A1D2C0WDCSHUWZ\n",
      "22682  1581180012     4.0  A1D2C0WDCSHUWZ\n",
      "22737  1581180012     4.0  A1D2C0WDCSHUWZ\n",
      "22753  1581180012     4.0  A1D2C0WDCSHUWZ\n",
      "22831  1581180012     4.0  A1D2C0WDCSHUWZ\n",
      "22862  1581180012     4.0  A1D2C0WDCSHUWZ\n",
      "26616  B000NP1FT2     5.0  A1D2C0WDCSHUWZ\n",
      "31063  1892065142     5.0  A1D2C0WDCSHUWZ\n",
      "31395  B000E6JMXQ     4.0  A1D2C0WDCSHUWZ\n",
      "31431  B000E6JMXQ     4.0  A1D2C0WDCSHUWZ\n",
      "31432  B000E6JMXQ     5.0  A1D2C0WDCSHUWZ\n",
      "31472  B000E6JMXQ     5.0  A1D2C0WDCSHUWZ\n",
      "31701  B000E6JMXQ     5.0  A1D2C0WDCSHUWZ\n",
      "35744  0943069165     5.0  A1D2C0WDCSHUWZ\n",
      "36151  0786197005     4.0  A1D2C0WDCSHUWZ\n",
      "36152  0786197005     4.0  A1D2C0WDCSHUWZ\n",
      "36487  0786197005     4.0  A1D2C0WDCSHUWZ\n",
      "36490  0786197005     5.0  A1D2C0WDCSHUWZ\n",
      "36493  0786197005     5.0  A1D2C0WDCSHUWZ\n",
      "42500  B000Q12ZQA     5.0  A1D2C0WDCSHUWZ\n",
      "        ProductID  Review          UserID\n",
      "2175   B000N6DDJQ     5.0  A3JGOKYJPPARHO\n",
      "21056  1588550346     5.0  A3JGOKYJPPARHO\n",
      "        ProductID  Review          UserID\n",
      "2177   B000N6DDJQ     3.0  A1BA72K4VK1UN1\n",
      "11521  0207150761     5.0  A1BA72K4VK1UN1\n",
      "27329  B000JJ9ISM     5.0  A1BA72K4VK1UN1\n",
      "        ProductID  Review         UserID\n",
      "2200   B000N6DDJQ     4.0  AI37YX1U4KB1L\n",
      "11886  1890626503     4.0  AI37YX1U4KB1L\n",
      "15551  9562910334     5.0  AI37YX1U4KB1L\n",
      "16895  B000TZ19TC     5.0  AI37YX1U4KB1L\n",
      "25964  B000L1WSBC     5.0  AI37YX1U4KB1L\n",
      "29969  0140860096     4.0  AI37YX1U4KB1L\n",
      "       ProductID  Review          UserID\n",
      "2209  B000N6DDJQ     1.0  A2QL96SGZP59SR\n",
      "2744  B0006DM4DW     4.0  A2QL96SGZP59SR\n",
      "        ProductID  Review         UserID\n",
      "2217   B000N6DDJQ     3.0  AK0K3UWJHGRVO\n",
      "34980  0553234080     4.0  AK0K3UWJHGRVO\n",
      "        ProductID  Review         UserID\n",
      "2221   B000N6DDJQ     5.0  A3FVAWZNKW9GX\n",
      "26985  B0006A011M     5.0  A3FVAWZNKW9GX\n",
      "28778  0140860096     5.0  A3FVAWZNKW9GX\n",
      "28891  0140860096     5.0  A3FVAWZNKW9GX\n",
      "36087  B000GT6C02     5.0  A3FVAWZNKW9GX\n",
      "        ProductID  Review          UserID\n",
      "2238   B000N6DDJQ     5.0  A2IKY4WH4E11AI\n",
      "3032   1574883232     5.0  A2IKY4WH4E11AI\n",
      "17204  B000TZ19TC     4.0  A2IKY4WH4E11AI\n",
      "44355  B000K9UV8C     4.0  A2IKY4WH4E11AI\n",
      "        ProductID  Review          UserID\n",
      "2240   B000N6DDJQ     5.0  A1CHM200OEN65X\n",
      "2527   B00070YCSO     5.0  A1CHM200OEN65X\n",
      "13246  B000O1UCCQ     5.0  A1CHM200OEN65X\n",
      "14681  9562910334     5.0  A1CHM200OEN65X\n",
      "17680  B000TZ19TC     5.0  A1CHM200OEN65X\n",
      "27868  1568959443     5.0  A1CHM200OEN65X\n",
      "30949  0786191570     4.0  A1CHM200OEN65X\n",
      "33086  B000JJU8RC     4.0  A1CHM200OEN65X\n",
      "        ProductID  Review       UserID\n",
      "809    050552421X     5.0  AFVQZQ8PW0L\n",
      "843    B000MCKQRS     5.0  AFVQZQ8PW0L\n",
      "1648   B000NRYUHO     5.0  AFVQZQ8PW0L\n",
      "2241   B000N6DDJQ     5.0  AFVQZQ8PW0L\n",
      "2495   1902934229     4.0  AFVQZQ8PW0L\n",
      "2839   0976324644     5.0  AFVQZQ8PW0L\n",
      "3148   0756402905     5.0  AFVQZQ8PW0L\n",
      "4035   0505524228     5.0  AFVQZQ8PW0L\n",
      "6753   0425197964     4.0  AFVQZQ8PW0L\n",
      "7518   0373713215     5.0  AFVQZQ8PW0L\n",
      "7521   0505524244     5.0  AFVQZQ8PW0L\n",
      "8254   0786174994     5.0  AFVQZQ8PW0L\n",
      "8545   B000NQIG2A     5.0  AFVQZQ8PW0L\n",
      "9255   0688165648     5.0  AFVQZQ8PW0L\n",
      "9280   0312283989     5.0  AFVQZQ8PW0L\n",
      "10798  0373690975     4.0  AFVQZQ8PW0L\n",
      "11691  0316806501     4.0  AFVQZQ8PW0L\n",
      "14352  B000GG4J00     5.0  AFVQZQ8PW0L\n",
      "16733  0373690991     4.0  AFVQZQ8PW0L\n",
      "18553  B000OXJ92S     5.0  AFVQZQ8PW0L\n",
      "21142  0373713258     5.0  AFVQZQ8PW0L\n",
      "21562  0505524295     5.0  AFVQZQ8PW0L\n",
      "21663  B000OWCT12     5.0  AFVQZQ8PW0L\n",
      "22097  0380815613     5.0  AFVQZQ8PW0L\n",
      "23193  0553107488     5.0  AFVQZQ8PW0L\n",
      "23599  B000IOF10C     5.0  AFVQZQ8PW0L\n",
      "27080  0373713290     4.0  AFVQZQ8PW0L\n",
      "28708  1568959451     5.0  AFVQZQ8PW0L\n",
      "30787  B000GSDVFC     5.0  AFVQZQ8PW0L\n",
      "34479  0380815664     4.0  AFVQZQ8PW0L\n",
      "34680  0380815672     5.0  AFVQZQ8PW0L\n",
      "37514  B0001V03ZU     4.0  AFVQZQ8PW0L\n",
      "38707  0764229893     5.0  AFVQZQ8PW0L\n",
      "39020  B000GLTDBU     5.0  AFVQZQ8PW0L\n",
      "39744  0380815680     4.0  AFVQZQ8PW0L\n",
      "40490  1590521986     4.0  AFVQZQ8PW0L\n",
      "40562  B000OV7IAK     3.0  AFVQZQ8PW0L\n",
      "41291  0380815699     5.0  AFVQZQ8PW0L\n",
      "41294  B00005N5OA     5.0  AFVQZQ8PW0L\n",
      "42763  0955005108     4.0  AFVQZQ8PW0L\n",
      "42846  B000MV8HLG     4.0  AFVQZQ8PW0L\n",
      "44680  0955005116     4.0  AFVQZQ8PW0L\n",
      "        ProductID  Review          UserID\n",
      "2242   B000N6DDJQ     5.0  A328S9RN3U5M68\n",
      "2855   0976324644     5.0  A328S9RN3U5M68\n",
      "10717  1891053019     5.0  A328S9RN3U5M68\n",
      "33674  1931982317     5.0  A328S9RN3U5M68\n",
      "        ProductID  Review          UserID\n",
      "2244   B000N6DDJQ     4.0  A2AKR1RUTMKEEJ\n",
      "29770  0140860096     5.0  A2AKR1RUTMKEEJ\n",
      "       ProductID  Review          UserID\n",
      "2245  B000N6DDJQ     5.0  A3LW120MGD36SV\n",
      "4412  B000GLTD5Q     2.0  A3LW120MGD36SV\n",
      "        ProductID  Review          UserID\n",
      "2255   B000N6DDJQ     5.0  A14NCQUQ1XG09W\n",
      "19766  B0006E8Q9C     5.0  A14NCQUQ1XG09W\n",
      "40829  B000PGC9SU     5.0  A14NCQUQ1XG09W\n",
      "        ProductID  Review         UserID\n",
      "2258   B000N6DDJQ     5.0  A8F2AZWB20X1H\n",
      "21071  1588550346     5.0  A8F2AZWB20X1H\n",
      "27535  B000JJ9ISM     4.0  A8F2AZWB20X1H\n",
      "32789  B000GE7NB4     5.0  A8F2AZWB20X1H\n",
      "32807  B000GE7NB4     5.0  A8F2AZWB20X1H\n",
      "43905  0195085140     5.0  A8F2AZWB20X1H\n",
      "        ProductID  Review         UserID\n",
      "1829   B000N6DDJQ     5.0  ABN5K7K1TM1QA\n",
      "2259   B000N6DDJQ     5.0  ABN5K7K1TM1QA\n",
      "12411  1861975805     5.0  ABN5K7K1TM1QA\n",
      "16394  9562910334     5.0  ABN5K7K1TM1QA\n",
      "25862  B000L1WSBC     4.0  ABN5K7K1TM1QA\n",
      "        ProductID  Review          UserID\n",
      "2260   B000N6DDJQ     5.0  A26BVUB2YJMGB7\n",
      "21645  B000J0WATA     5.0  A26BVUB2YJMGB7\n",
      "22967  B00004WISA     4.0  A26BVUB2YJMGB7\n",
      "26901  B000GQMUG0     5.0  A26BVUB2YJMGB7\n",
      "27737  1568959443     5.0  A26BVUB2YJMGB7\n",
      "28816  0140860096     5.0  A26BVUB2YJMGB7\n",
      "32207  B00086TLE2     5.0  A26BVUB2YJMGB7\n",
      "       ProductID  Review          UserID\n",
      "2265  B000N6DDJQ     5.0  A27Z2M7PNPA6LM\n",
      "2279  B000N6DDJQ     5.0  A27Z2M7PNPA6LM\n",
      "       ProductID  Review          UserID\n",
      "2266  B000N6DDJQ     5.0  A1OXI0N58TMYY9\n",
      "2302  B000N6DDJQ     5.0  A1OXI0N58TMYY9\n",
      "2385  B000N6DDJQ     5.0  A1OXI0N58TMYY9\n",
      "        ProductID  Review          UserID\n",
      "2272   B000N6DDJQ     5.0  A1VPXCFO261VWH\n",
      "37702  B0000CJHX7     5.0  A1VPXCFO261VWH\n",
      "        ProductID  Review          UserID\n",
      "2276   B000N6DDJQ     5.0  A2PR9MFSBUUUP3\n",
      "29778  0140860096     5.0  A2PR9MFSBUUUP3\n",
      "       ProductID  Review          UserID\n",
      "2265  B000N6DDJQ     5.0  A27Z2M7PNPA6LM\n",
      "2279  B000N6DDJQ     5.0  A27Z2M7PNPA6LM\n",
      "        ProductID  Review          UserID\n",
      "2283   B000N6DDJQ     2.0  A3JZ5E2TUJJELD\n",
      "16208  9562910334     5.0  A3JZ5E2TUJJELD\n",
      "25963  B000L1WSBC     4.0  A3JZ5E2TUJJELD\n",
      "        ProductID  Review          UserID\n",
      "2284   B000N6DDJQ     2.0  A2O2TC8O86P1H4\n",
      "29641  0140860096     4.0  A2O2TC8O86P1H4\n",
      "        ProductID  Review          UserID\n",
      "2288   B000N6DDJQ     4.0  A18VVDLRLG9SVO\n",
      "25451  B000MCASDU     4.0  A18VVDLRLG9SVO\n",
      "       ProductID  Review         UserID\n",
      "2289  B000N6DDJQ     4.0  AS1YKFH6RSKFB\n",
      "2476  B000N6DDJQ     4.0  AS1YKFH6RSKFB\n"
     ]
    },
    {
     "name": "stdout",
     "output_type": "stream",
     "text": [
      "        ProductID  Review         UserID\n",
      "2292   B000N6DDJQ     4.0  A1R90KXMPXCAP\n",
      "16179  9562910334     5.0  A1R90KXMPXCAP\n",
      "18001  B000TZ19TC     5.0  A1R90KXMPXCAP\n",
      "18169  B000TZ19TC     5.0  A1R90KXMPXCAP\n",
      "        ProductID  Review          UserID\n",
      "2293   B000N6DDJQ     4.0  A1XN6MBYDBTX16\n",
      "19351  0684813459     5.0  A1XN6MBYDBTX16\n",
      "        ProductID  Review          UserID\n",
      "2295   B000N6DDJQ     4.0  A3FHAMLNGHCFU7\n",
      "9075   1588550311     3.0  A3FHAMLNGHCFU7\n",
      "12396  158855032X     3.0  A3FHAMLNGHCFU7\n",
      "15414  9562910334     5.0  A3FHAMLNGHCFU7\n",
      "24445  B0006DWYN2     3.0  A3FHAMLNGHCFU7\n",
      "43870  B0009KKVZU     3.0  A3FHAMLNGHCFU7\n",
      "       ProductID  Review          UserID\n",
      "2266  B000N6DDJQ     5.0  A1OXI0N58TMYY9\n",
      "2302  B000N6DDJQ     5.0  A1OXI0N58TMYY9\n",
      "2385  B000N6DDJQ     5.0  A1OXI0N58TMYY9\n",
      "        ProductID  Review         UserID\n",
      "2325   B000N6DDJQ     1.0  A6YHWNVDS6GU4\n",
      "29888  0140860096     5.0  A6YHWNVDS6GU4\n",
      "        ProductID  Review          UserID\n",
      "2329   B000N6DDJQ     3.0  A1IKD6BDEE18CI\n",
      "14453  0060953616     1.0  A1IKD6BDEE18CI\n",
      "23628  0373255802     4.0  A1IKD6BDEE18CI\n",
      "        ProductID  Review         UserID\n",
      "2333   B000N6DDJQ     1.0  A525O40Q3XE0L\n",
      "5825   B000MU8334     5.0  A525O40Q3XE0L\n",
      "9145   1588550311     2.0  A525O40Q3XE0L\n",
      "16832  B000TZ19TC     5.0  A525O40Q3XE0L\n",
      "29412  0140860096     1.0  A525O40Q3XE0L\n",
      "       ProductID  Review          UserID\n",
      "2334  B000N6DDJQ     5.0  A1T867N1STHSON\n",
      "9182  1588550311     5.0  A1T867N1STHSON\n",
      "        ProductID  Review          UserID\n",
      "2347   B000N6DDJQ     5.0  A3O2RCKAMSE9X7\n",
      "12334  158855032X     5.0  A3O2RCKAMSE9X7\n",
      "16211  9562910334     5.0  A3O2RCKAMSE9X7\n",
      "17867  B000TZ19TC     5.0  A3O2RCKAMSE9X7\n",
      "18674  1883011094     5.0  A3O2RCKAMSE9X7\n",
      "28300  0333168925     5.0  A3O2RCKAMSE9X7\n",
      "29405  0140860096     5.0  A3O2RCKAMSE9X7\n",
      "35208  1404318364     5.0  A3O2RCKAMSE9X7\n",
      "39660  1404318372     5.0  A3O2RCKAMSE9X7\n",
      "43880  B0009KKVZU     5.0  A3O2RCKAMSE9X7\n",
      "        ProductID  Review          UserID\n",
      "2349   B000N6DDJQ     5.0  A2X36H1LTGU4GC\n",
      "16050  9562910334     5.0  A2X36H1LTGU4GC\n",
      "        ProductID  Review         UserID\n",
      "385    B000H45MXO     5.0  AHD101501WCN1\n",
      "2351   B000N6DDJQ     5.0  AHD101501WCN1\n",
      "3491   067001012X     5.0  AHD101501WCN1\n",
      "4257   0671005693     5.0  AHD101501WCN1\n",
      "4543   B0006W407G     5.0  AHD101501WCN1\n",
      "5371   B000GP1Q7A     4.0  AHD101501WCN1\n",
      "5988   B000UVGLZM     5.0  AHD101501WCN1\n",
      "11464  188301106X     5.0  AHD101501WCN1\n",
      "12195  B000IOJ4M8     4.0  AHD101501WCN1\n",
      "12839  B00087DAOS     5.0  AHD101501WCN1\n",
      "14327  0879233427     5.0  AHD101501WCN1\n",
      "16206  9562910334     5.0  AHD101501WCN1\n",
      "18705  B000HJR45I     5.0  AHD101501WCN1\n",
      "18944  B000KXL7G8     3.0  AHD101501WCN1\n",
      "21174  0385014201     4.0  AHD101501WCN1\n",
      "21913  B000879GOQ     1.0  AHD101501WCN1\n",
      "23761  B000PS9N5U     5.0  AHD101501WCN1\n",
      "23781  B0006DXU8U     5.0  AHD101501WCN1\n",
      "23973  B000PHIIM0     5.0  AHD101501WCN1\n",
      "23997  B000PHIIM0     4.0  AHD101501WCN1\n",
      "25070  1567230288     5.0  AHD101501WCN1\n",
      "25983  B000L1WSBC     4.0  AHD101501WCN1\n",
      "27642  B0006DG9WO     5.0  AHD101501WCN1\n",
      "28194  B0007IKVHW     4.0  AHD101501WCN1\n",
      "34989  0553234080     5.0  AHD101501WCN1\n",
      "35122  B000896CJ6     5.0  AHD101501WCN1\n",
      "35125  B000896CJ6     4.0  AHD101501WCN1\n",
      "36074  B000GWIH52     5.0  AHD101501WCN1\n",
      "36075  B000GWIH52     5.0  AHD101501WCN1\n",
      "36807  B000K5Q9JQ     5.0  AHD101501WCN1\n",
      "36979  B000KDO2L0     5.0  AHD101501WCN1\n",
      "37005  B0006AVE2M     4.0  AHD101501WCN1\n",
      "40911  B000PGC9SU     5.0  AHD101501WCN1\n",
      "41377  0806520574     5.0  AHD101501WCN1\n",
      "42501  B000Q12ZQA     5.0  AHD101501WCN1\n",
      "44424  1932994416     4.0  AHD101501WCN1\n",
      "44651  B000B7SBZI     5.0  AHD101501WCN1\n",
      "        ProductID  Review          UserID\n",
      "2365   B000N6DDJQ     4.0  A1YE1GIKUPBX3F\n",
      "38667  0764229893     4.0  A1YE1GIKUPBX3F\n",
      "        ProductID  Review          UserID\n",
      "2384   B000N6DDJQ     5.0  A232HUAELH5J6V\n",
      "13257  B000O1UCCQ     2.0  A232HUAELH5J6V\n",
      "14577  0931255058     4.0  A232HUAELH5J6V\n",
      "21036  1588550346     5.0  A232HUAELH5J6V\n",
      "27505  B000JJ9ISM     4.0  A232HUAELH5J6V\n",
      "       ProductID  Review          UserID\n",
      "2266  B000N6DDJQ     5.0  A1OXI0N58TMYY9\n",
      "2302  B000N6DDJQ     5.0  A1OXI0N58TMYY9\n",
      "2385  B000N6DDJQ     5.0  A1OXI0N58TMYY9\n",
      "        ProductID  Review         UserID\n",
      "2389   B000N6DDJQ     4.0  A3EOHYIHQM3KK\n",
      "9230   1588550311     3.0  A3EOHYIHQM3KK\n",
      "12338  158855032X     5.0  A3EOHYIHQM3KK\n",
      "12364  158855032X     5.0  A3EOHYIHQM3KK\n",
      "39168  0192833502     5.0  A3EOHYIHQM3KK\n",
      "43816  B0009KKVZU     2.0  A3EOHYIHQM3KK\n",
      "        ProductID  Review          UserID\n",
      "2395   B000N6DDJQ     5.0  A12A08OL0TZY0W\n",
      "5359   B000GP1Q7A     5.0  A12A08OL0TZY0W\n",
      "18259  B000TZ19TC     5.0  A12A08OL0TZY0W\n",
      "24824  B0000CJHS6     5.0  A12A08OL0TZY0W\n",
      "25993  B000L1WSBC     5.0  A12A08OL0TZY0W\n",
      "27264  0380633132     4.0  A12A08OL0TZY0W\n",
      "28169  0192816977     5.0  A12A08OL0TZY0W\n",
      "31094  B000MV8HG6     4.0  A12A08OL0TZY0W\n",
      "35120  B000896CJ6     5.0  A12A08OL0TZY0W\n",
      "35467  0140000364     5.0  A12A08OL0TZY0W\n",
      "41047  B000PGC9SU     5.0  A12A08OL0TZY0W\n",
      "43875  B0009KKVZU     5.0  A12A08OL0TZY0W\n",
      "43882  B0009KKVZU     5.0  A12A08OL0TZY0W\n",
      "        ProductID  Review          UserID\n",
      "617    B000GSNTRC     4.0  A1D2C0WDCSHUWZ\n",
      "1850   B000N6DDJQ     5.0  A1D2C0WDCSHUWZ\n",
      "1853   B000N6DDJQ     5.0  A1D2C0WDCSHUWZ\n",
      "2167   B000N6DDJQ     5.0  A1D2C0WDCSHUWZ\n",
      "2397   B000N6DDJQ     5.0  A1D2C0WDCSHUWZ\n",
      "3364   B000NSKB12     5.0  A1D2C0WDCSHUWZ\n",
      "3371   B000NSKB12     5.0  A1D2C0WDCSHUWZ\n",
      "5392   B000J5KSK8     4.0  A1D2C0WDCSHUWZ\n",
      "5873   B000I83ZJC     5.0  A1D2C0WDCSHUWZ\n",
      "5893   B000I83ZJC     4.0  A1D2C0WDCSHUWZ\n",
      "5901   B000I83ZJC     5.0  A1D2C0WDCSHUWZ\n",
      "8490   B0006AONEI     5.0  A1D2C0WDCSHUWZ\n",
      "9008   1588550311     5.0  A1D2C0WDCSHUWZ\n",
      "9009   1588550311     5.0  A1D2C0WDCSHUWZ\n",
      "9026   1588550311     5.0  A1D2C0WDCSHUWZ\n",
      "9104   1588550311     5.0  A1D2C0WDCSHUWZ\n",
      "9118   1588550311     5.0  A1D2C0WDCSHUWZ\n",
      "9160   1588550311     5.0  A1D2C0WDCSHUWZ\n",
      "9161   1588550311     5.0  A1D2C0WDCSHUWZ\n",
      "9221   1588550311     5.0  A1D2C0WDCSHUWZ\n",
      "22623  1581180012     4.0  A1D2C0WDCSHUWZ\n",
      "22636  1581180012     4.0  A1D2C0WDCSHUWZ\n",
      "22643  1581180012     4.0  A1D2C0WDCSHUWZ\n",
      "22666  1581180012     4.0  A1D2C0WDCSHUWZ\n",
      "22682  1581180012     4.0  A1D2C0WDCSHUWZ\n",
      "22737  1581180012     4.0  A1D2C0WDCSHUWZ\n",
      "22753  1581180012     4.0  A1D2C0WDCSHUWZ\n",
      "22831  1581180012     4.0  A1D2C0WDCSHUWZ\n",
      "22862  1581180012     4.0  A1D2C0WDCSHUWZ\n",
      "26616  B000NP1FT2     5.0  A1D2C0WDCSHUWZ\n",
      "31063  1892065142     5.0  A1D2C0WDCSHUWZ\n",
      "31395  B000E6JMXQ     4.0  A1D2C0WDCSHUWZ\n",
      "31431  B000E6JMXQ     4.0  A1D2C0WDCSHUWZ\n",
      "31432  B000E6JMXQ     5.0  A1D2C0WDCSHUWZ\n",
      "31472  B000E6JMXQ     5.0  A1D2C0WDCSHUWZ\n",
      "31701  B000E6JMXQ     5.0  A1D2C0WDCSHUWZ\n",
      "35744  0943069165     5.0  A1D2C0WDCSHUWZ\n",
      "36151  0786197005     4.0  A1D2C0WDCSHUWZ\n",
      "36152  0786197005     4.0  A1D2C0WDCSHUWZ\n",
      "36487  0786197005     4.0  A1D2C0WDCSHUWZ\n",
      "36490  0786197005     5.0  A1D2C0WDCSHUWZ\n",
      "36493  0786197005     5.0  A1D2C0WDCSHUWZ\n",
      "42500  B000Q12ZQA     5.0  A1D2C0WDCSHUWZ\n",
      "        ProductID  Review         UserID\n",
      "2409   B000N6DDJQ     3.0  ANDZZ303EP3KX\n",
      "17480  B000TZ19TC     5.0  ANDZZ303EP3KX\n",
      "30049  0140860096     5.0  ANDZZ303EP3KX\n",
      "41039  B000PGC9SU     1.0  ANDZZ303EP3KX\n",
      "44942  B000KCSGPE     4.0  ANDZZ303EP3KX\n",
      "        ProductID  Review         UserID\n",
      "2412   B000N6DDJQ     5.0  AAZXZU9CMWIC1\n",
      "40791  B000PGC9SU     5.0  AAZXZU9CMWIC1\n",
      "        ProductID  Review          UserID\n",
      "2415   B000N6DDJQ     5.0  A34989LDU92LBH\n",
      "40793  B000PGC9SU     5.0  A34989LDU92LBH\n",
      "        ProductID  Review          UserID\n",
      "2417   B000N6DDJQ     5.0  A15IK0978DBL14\n",
      "13189  1557429227     5.0  A15IK0978DBL14\n",
      "40925  B000PGC9SU     5.0  A15IK0978DBL14\n",
      "        ProductID  Review          UserID\n",
      "2419   B000N6DDJQ     3.0  A2WQNTPK7K3O1W\n",
      "8099   B000PBZH5M     2.0  A2WQNTPK7K3O1W\n",
      "10003  B000PBZH6Q     2.0  A2WQNTPK7K3O1W\n",
      "        ProductID  Review         UserID\n",
      "2422   B000N6DDJQ     5.0  AOYTGNBDDE5PE\n",
      "29005  0140860096     5.0  AOYTGNBDDE5PE\n",
      "        ProductID  Review          UserID\n",
      "2436   B000N6DDJQ     3.0  A2HFQ405AKX4IW\n",
      "9196   1588550311     4.0  A2HFQ405AKX4IW\n",
      "15492  9562910334     5.0  A2HFQ405AKX4IW\n",
      "32195  B00086TLE2     4.0  A2HFQ405AKX4IW\n",
      "32273  B00086TLE2     4.0  A2HFQ405AKX4IW\n",
      "40751  B000PGC9SU     4.0  A2HFQ405AKX4IW\n",
      "41144  1933405163     5.0  A2HFQ405AKX4IW\n",
      "        ProductID  Review         UserID\n",
      "2467   B000N6DDJQ     4.0  AK0CENM3LUM28\n",
      "12898  B0006CKNQI     4.0  AK0CENM3LUM28\n",
      "16329  9562910334     5.0  AK0CENM3LUM28\n",
      "30407  1591020913     3.0  AK0CENM3LUM28\n",
      "43824  B0009KKVZU     4.0  AK0CENM3LUM28\n",
      "        ProductID  Review          UserID\n",
      "2468   B000N6DDJQ     5.0  A3IQM57FGCAZJ9\n",
      "3490   067001012X     5.0  A3IQM57FGCAZJ9\n",
      "7902   B000PBZH5M     3.0  A3IQM57FGCAZJ9\n",
      "10256  B000PBZH6Q     3.0  A3IQM57FGCAZJ9\n",
      "18820  B000HJR45I     4.0  A3IQM57FGCAZJ9\n",
      "        ProductID  Review          UserID\n",
      "2470   B000N6DDJQ     5.0  A16YAI8OAD421D\n",
      "17349  B000TZ19TC     4.0  A16YAI8OAD421D\n",
      "       ProductID  Review         UserID\n",
      "2289  B000N6DDJQ     4.0  AS1YKFH6RSKFB\n",
      "2476  B000N6DDJQ     4.0  AS1YKFH6RSKFB\n",
      "       ProductID  Review          UserID\n",
      "1759  B000N6DDJQ     3.0  A13IZYHNIQGK4Q\n",
      "2477  B000N6DDJQ     3.0  A13IZYHNIQGK4Q\n"
     ]
    }
   ],
   "source": [
    "# data_df['ProductID'].value_counts()\n",
    "# df = data_df[data_df['ProductID'] == 'B000N6DDJQ'] \n",
    "# for val in df['UserID']:\n",
    "#     df2 = data_df[data_df['UserID'] == val]\n",
    "#     if (df2.shape[0] > 1) and (val != \"unknown\"):\n",
    "#         print(df2)"
   ]
  },
  {
   "cell_type": "code",
   "execution_count": 13,
   "metadata": {},
   "outputs": [
    {
     "data": {
      "text/html": [
       "<div>\n",
       "<style>\n",
       "    .dataframe thead tr:only-child th {\n",
       "        text-align: right;\n",
       "    }\n",
       "\n",
       "    .dataframe thead th {\n",
       "        text-align: left;\n",
       "    }\n",
       "\n",
       "    .dataframe tbody tr th {\n",
       "        vertical-align: top;\n",
       "    }\n",
       "</style>\n",
       "<table border=\"1\" class=\"dataframe\">\n",
       "  <thead>\n",
       "    <tr style=\"text-align: right;\">\n",
       "      <th></th>\n",
       "      <th>ProductID</th>\n",
       "      <th>Review</th>\n",
       "      <th>UserID</th>\n",
       "    </tr>\n",
       "  </thead>\n",
       "  <tbody>\n",
       "    <tr>\n",
       "      <th>2485</th>\n",
       "      <td>B000N6DDJQ</td>\n",
       "      <td>5.0</td>\n",
       "      <td>AVWZ1I3S6YN7I</td>\n",
       "    </tr>\n",
       "  </tbody>\n",
       "</table>\n",
       "</div>"
      ],
      "text/plain": [
       "       ProductID  Review         UserID\n",
       "2485  B000N6DDJQ     5.0  AVWZ1I3S6YN7I"
      ]
     },
     "execution_count": 13,
     "metadata": {},
     "output_type": "execute_result"
    }
   ],
   "source": [
    "# data_df[data_df['UserID'] == \"AVWZ1I3S6YN7I\"]"
   ]
  },
  {
   "cell_type": "code",
   "execution_count": 14,
   "metadata": {},
   "outputs": [
    {
     "data": {
      "text/html": [
       "<div>\n",
       "<style>\n",
       "    .dataframe thead tr:only-child th {\n",
       "        text-align: right;\n",
       "    }\n",
       "\n",
       "    .dataframe thead th {\n",
       "        text-align: left;\n",
       "    }\n",
       "\n",
       "    .dataframe tbody tr th {\n",
       "        vertical-align: top;\n",
       "    }\n",
       "</style>\n",
       "<table border=\"1\" class=\"dataframe\">\n",
       "  <thead>\n",
       "    <tr>\n",
       "      <th></th>\n",
       "      <th colspan=\"21\" halign=\"left\">Review</th>\n",
       "    </tr>\n",
       "    <tr>\n",
       "      <th>ProductID</th>\n",
       "      <th>0001515195</th>\n",
       "      <th>0005060982</th>\n",
       "      <th>0006514413</th>\n",
       "      <th>0006530451</th>\n",
       "      <th>0007101929</th>\n",
       "      <th>0007106823</th>\n",
       "      <th>0007123469</th>\n",
       "      <th>0007123477</th>\n",
       "      <th>0007128355</th>\n",
       "      <th>0020480202</th>\n",
       "      <th>...</th>\n",
       "      <th>B000RAQAUC</th>\n",
       "      <th>B000TMQQAC</th>\n",
       "      <th>B000TNAFUS</th>\n",
       "      <th>B000TZ19TC</th>\n",
       "      <th>B000TZ25D6</th>\n",
       "      <th>B000U2H682</th>\n",
       "      <th>B000U2H696</th>\n",
       "      <th>B000U2M5DS</th>\n",
       "      <th>B000UVGLZM</th>\n",
       "      <th>B000UY65EQ</th>\n",
       "    </tr>\n",
       "    <tr>\n",
       "      <th>UserID</th>\n",
       "      <th></th>\n",
       "      <th></th>\n",
       "      <th></th>\n",
       "      <th></th>\n",
       "      <th></th>\n",
       "      <th></th>\n",
       "      <th></th>\n",
       "      <th></th>\n",
       "      <th></th>\n",
       "      <th></th>\n",
       "      <th></th>\n",
       "      <th></th>\n",
       "      <th></th>\n",
       "      <th></th>\n",
       "      <th></th>\n",
       "      <th></th>\n",
       "      <th></th>\n",
       "      <th></th>\n",
       "      <th></th>\n",
       "      <th></th>\n",
       "      <th></th>\n",
       "    </tr>\n",
       "  </thead>\n",
       "  <tbody>\n",
       "    <tr>\n",
       "      <th>A105E427BB6J65</th>\n",
       "      <td>NaN</td>\n",
       "      <td>NaN</td>\n",
       "      <td>NaN</td>\n",
       "      <td>NaN</td>\n",
       "      <td>NaN</td>\n",
       "      <td>NaN</td>\n",
       "      <td>NaN</td>\n",
       "      <td>NaN</td>\n",
       "      <td>NaN</td>\n",
       "      <td>NaN</td>\n",
       "      <td>...</td>\n",
       "      <td>NaN</td>\n",
       "      <td>NaN</td>\n",
       "      <td>NaN</td>\n",
       "      <td>NaN</td>\n",
       "      <td>NaN</td>\n",
       "      <td>NaN</td>\n",
       "      <td>NaN</td>\n",
       "      <td>NaN</td>\n",
       "      <td>NaN</td>\n",
       "      <td>NaN</td>\n",
       "    </tr>\n",
       "    <tr>\n",
       "      <th>A105FAAQ06FTWA</th>\n",
       "      <td>NaN</td>\n",
       "      <td>NaN</td>\n",
       "      <td>NaN</td>\n",
       "      <td>NaN</td>\n",
       "      <td>NaN</td>\n",
       "      <td>NaN</td>\n",
       "      <td>NaN</td>\n",
       "      <td>NaN</td>\n",
       "      <td>NaN</td>\n",
       "      <td>NaN</td>\n",
       "      <td>...</td>\n",
       "      <td>NaN</td>\n",
       "      <td>NaN</td>\n",
       "      <td>NaN</td>\n",
       "      <td>NaN</td>\n",
       "      <td>NaN</td>\n",
       "      <td>NaN</td>\n",
       "      <td>NaN</td>\n",
       "      <td>NaN</td>\n",
       "      <td>NaN</td>\n",
       "      <td>NaN</td>\n",
       "    </tr>\n",
       "    <tr>\n",
       "      <th>A105MPYIG2WENU</th>\n",
       "      <td>NaN</td>\n",
       "      <td>NaN</td>\n",
       "      <td>NaN</td>\n",
       "      <td>NaN</td>\n",
       "      <td>NaN</td>\n",
       "      <td>NaN</td>\n",
       "      <td>NaN</td>\n",
       "      <td>NaN</td>\n",
       "      <td>NaN</td>\n",
       "      <td>NaN</td>\n",
       "      <td>...</td>\n",
       "      <td>NaN</td>\n",
       "      <td>NaN</td>\n",
       "      <td>NaN</td>\n",
       "      <td>NaN</td>\n",
       "      <td>NaN</td>\n",
       "      <td>NaN</td>\n",
       "      <td>NaN</td>\n",
       "      <td>NaN</td>\n",
       "      <td>NaN</td>\n",
       "      <td>NaN</td>\n",
       "    </tr>\n",
       "    <tr>\n",
       "      <th>A106016KSI0YQ</th>\n",
       "      <td>NaN</td>\n",
       "      <td>NaN</td>\n",
       "      <td>NaN</td>\n",
       "      <td>NaN</td>\n",
       "      <td>NaN</td>\n",
       "      <td>NaN</td>\n",
       "      <td>NaN</td>\n",
       "      <td>NaN</td>\n",
       "      <td>NaN</td>\n",
       "      <td>NaN</td>\n",
       "      <td>...</td>\n",
       "      <td>NaN</td>\n",
       "      <td>NaN</td>\n",
       "      <td>NaN</td>\n",
       "      <td>NaN</td>\n",
       "      <td>NaN</td>\n",
       "      <td>NaN</td>\n",
       "      <td>NaN</td>\n",
       "      <td>NaN</td>\n",
       "      <td>NaN</td>\n",
       "      <td>NaN</td>\n",
       "    </tr>\n",
       "    <tr>\n",
       "      <th>A1069WS6765UDL</th>\n",
       "      <td>NaN</td>\n",
       "      <td>NaN</td>\n",
       "      <td>NaN</td>\n",
       "      <td>NaN</td>\n",
       "      <td>NaN</td>\n",
       "      <td>NaN</td>\n",
       "      <td>NaN</td>\n",
       "      <td>NaN</td>\n",
       "      <td>NaN</td>\n",
       "      <td>NaN</td>\n",
       "      <td>...</td>\n",
       "      <td>NaN</td>\n",
       "      <td>NaN</td>\n",
       "      <td>NaN</td>\n",
       "      <td>NaN</td>\n",
       "      <td>NaN</td>\n",
       "      <td>NaN</td>\n",
       "      <td>NaN</td>\n",
       "      <td>NaN</td>\n",
       "      <td>NaN</td>\n",
       "      <td>NaN</td>\n",
       "    </tr>\n",
       "    <tr>\n",
       "      <th>A106C1NLEHPDJP</th>\n",
       "      <td>NaN</td>\n",
       "      <td>NaN</td>\n",
       "      <td>NaN</td>\n",
       "      <td>NaN</td>\n",
       "      <td>NaN</td>\n",
       "      <td>NaN</td>\n",
       "      <td>NaN</td>\n",
       "      <td>NaN</td>\n",
       "      <td>NaN</td>\n",
       "      <td>NaN</td>\n",
       "      <td>...</td>\n",
       "      <td>NaN</td>\n",
       "      <td>NaN</td>\n",
       "      <td>NaN</td>\n",
       "      <td>NaN</td>\n",
       "      <td>NaN</td>\n",
       "      <td>NaN</td>\n",
       "      <td>NaN</td>\n",
       "      <td>NaN</td>\n",
       "      <td>NaN</td>\n",
       "      <td>NaN</td>\n",
       "    </tr>\n",
       "    <tr>\n",
       "      <th>A106E1N0ZQ4D9W</th>\n",
       "      <td>NaN</td>\n",
       "      <td>NaN</td>\n",
       "      <td>NaN</td>\n",
       "      <td>NaN</td>\n",
       "      <td>NaN</td>\n",
       "      <td>NaN</td>\n",
       "      <td>NaN</td>\n",
       "      <td>NaN</td>\n",
       "      <td>NaN</td>\n",
       "      <td>NaN</td>\n",
       "      <td>...</td>\n",
       "      <td>NaN</td>\n",
       "      <td>NaN</td>\n",
       "      <td>NaN</td>\n",
       "      <td>NaN</td>\n",
       "      <td>NaN</td>\n",
       "      <td>NaN</td>\n",
       "      <td>NaN</td>\n",
       "      <td>NaN</td>\n",
       "      <td>NaN</td>\n",
       "      <td>NaN</td>\n",
       "    </tr>\n",
       "    <tr>\n",
       "      <th>A106HD4S643MHK</th>\n",
       "      <td>NaN</td>\n",
       "      <td>NaN</td>\n",
       "      <td>NaN</td>\n",
       "      <td>NaN</td>\n",
       "      <td>NaN</td>\n",
       "      <td>NaN</td>\n",
       "      <td>NaN</td>\n",
       "      <td>NaN</td>\n",
       "      <td>NaN</td>\n",
       "      <td>NaN</td>\n",
       "      <td>...</td>\n",
       "      <td>NaN</td>\n",
       "      <td>NaN</td>\n",
       "      <td>NaN</td>\n",
       "      <td>NaN</td>\n",
       "      <td>NaN</td>\n",
       "      <td>NaN</td>\n",
       "      <td>NaN</td>\n",
       "      <td>NaN</td>\n",
       "      <td>NaN</td>\n",
       "      <td>NaN</td>\n",
       "    </tr>\n",
       "    <tr>\n",
       "      <th>A106N4B4EG4DR8</th>\n",
       "      <td>NaN</td>\n",
       "      <td>NaN</td>\n",
       "      <td>NaN</td>\n",
       "      <td>NaN</td>\n",
       "      <td>NaN</td>\n",
       "      <td>NaN</td>\n",
       "      <td>NaN</td>\n",
       "      <td>NaN</td>\n",
       "      <td>NaN</td>\n",
       "      <td>NaN</td>\n",
       "      <td>...</td>\n",
       "      <td>NaN</td>\n",
       "      <td>NaN</td>\n",
       "      <td>NaN</td>\n",
       "      <td>NaN</td>\n",
       "      <td>NaN</td>\n",
       "      <td>NaN</td>\n",
       "      <td>NaN</td>\n",
       "      <td>NaN</td>\n",
       "      <td>NaN</td>\n",
       "      <td>NaN</td>\n",
       "    </tr>\n",
       "    <tr>\n",
       "      <th>A106P1BJ6P9DQH</th>\n",
       "      <td>NaN</td>\n",
       "      <td>NaN</td>\n",
       "      <td>NaN</td>\n",
       "      <td>NaN</td>\n",
       "      <td>NaN</td>\n",
       "      <td>NaN</td>\n",
       "      <td>NaN</td>\n",
       "      <td>NaN</td>\n",
       "      <td>NaN</td>\n",
       "      <td>NaN</td>\n",
       "      <td>...</td>\n",
       "      <td>NaN</td>\n",
       "      <td>NaN</td>\n",
       "      <td>NaN</td>\n",
       "      <td>NaN</td>\n",
       "      <td>NaN</td>\n",
       "      <td>NaN</td>\n",
       "      <td>NaN</td>\n",
       "      <td>NaN</td>\n",
       "      <td>NaN</td>\n",
       "      <td>NaN</td>\n",
       "    </tr>\n",
       "    <tr>\n",
       "      <th>A106T2G4GR3VXP</th>\n",
       "      <td>NaN</td>\n",
       "      <td>NaN</td>\n",
       "      <td>NaN</td>\n",
       "      <td>NaN</td>\n",
       "      <td>NaN</td>\n",
       "      <td>NaN</td>\n",
       "      <td>NaN</td>\n",
       "      <td>NaN</td>\n",
       "      <td>NaN</td>\n",
       "      <td>NaN</td>\n",
       "      <td>...</td>\n",
       "      <td>NaN</td>\n",
       "      <td>NaN</td>\n",
       "      <td>NaN</td>\n",
       "      <td>NaN</td>\n",
       "      <td>NaN</td>\n",
       "      <td>NaN</td>\n",
       "      <td>NaN</td>\n",
       "      <td>NaN</td>\n",
       "      <td>NaN</td>\n",
       "      <td>NaN</td>\n",
       "    </tr>\n",
       "    <tr>\n",
       "      <th>A10788CRDVLLPI</th>\n",
       "      <td>NaN</td>\n",
       "      <td>NaN</td>\n",
       "      <td>NaN</td>\n",
       "      <td>NaN</td>\n",
       "      <td>NaN</td>\n",
       "      <td>NaN</td>\n",
       "      <td>NaN</td>\n",
       "      <td>NaN</td>\n",
       "      <td>NaN</td>\n",
       "      <td>NaN</td>\n",
       "      <td>...</td>\n",
       "      <td>NaN</td>\n",
       "      <td>NaN</td>\n",
       "      <td>NaN</td>\n",
       "      <td>NaN</td>\n",
       "      <td>NaN</td>\n",
       "      <td>NaN</td>\n",
       "      <td>NaN</td>\n",
       "      <td>NaN</td>\n",
       "      <td>NaN</td>\n",
       "      <td>NaN</td>\n",
       "    </tr>\n",
       "    <tr>\n",
       "      <th>A107BOOU9O23BM</th>\n",
       "      <td>NaN</td>\n",
       "      <td>NaN</td>\n",
       "      <td>NaN</td>\n",
       "      <td>NaN</td>\n",
       "      <td>NaN</td>\n",
       "      <td>NaN</td>\n",
       "      <td>NaN</td>\n",
       "      <td>NaN</td>\n",
       "      <td>NaN</td>\n",
       "      <td>NaN</td>\n",
       "      <td>...</td>\n",
       "      <td>NaN</td>\n",
       "      <td>NaN</td>\n",
       "      <td>NaN</td>\n",
       "      <td>NaN</td>\n",
       "      <td>NaN</td>\n",
       "      <td>NaN</td>\n",
       "      <td>NaN</td>\n",
       "      <td>NaN</td>\n",
       "      <td>NaN</td>\n",
       "      <td>NaN</td>\n",
       "    </tr>\n",
       "    <tr>\n",
       "      <th>A107F528SN3XJU</th>\n",
       "      <td>NaN</td>\n",
       "      <td>NaN</td>\n",
       "      <td>NaN</td>\n",
       "      <td>NaN</td>\n",
       "      <td>NaN</td>\n",
       "      <td>NaN</td>\n",
       "      <td>NaN</td>\n",
       "      <td>NaN</td>\n",
       "      <td>NaN</td>\n",
       "      <td>NaN</td>\n",
       "      <td>...</td>\n",
       "      <td>NaN</td>\n",
       "      <td>NaN</td>\n",
       "      <td>NaN</td>\n",
       "      <td>NaN</td>\n",
       "      <td>NaN</td>\n",
       "      <td>NaN</td>\n",
       "      <td>NaN</td>\n",
       "      <td>NaN</td>\n",
       "      <td>NaN</td>\n",
       "      <td>NaN</td>\n",
       "    </tr>\n",
       "    <tr>\n",
       "      <th>A107H3XGCV6Y4Q</th>\n",
       "      <td>NaN</td>\n",
       "      <td>NaN</td>\n",
       "      <td>NaN</td>\n",
       "      <td>NaN</td>\n",
       "      <td>NaN</td>\n",
       "      <td>NaN</td>\n",
       "      <td>NaN</td>\n",
       "      <td>NaN</td>\n",
       "      <td>NaN</td>\n",
       "      <td>NaN</td>\n",
       "      <td>...</td>\n",
       "      <td>NaN</td>\n",
       "      <td>NaN</td>\n",
       "      <td>NaN</td>\n",
       "      <td>NaN</td>\n",
       "      <td>NaN</td>\n",
       "      <td>NaN</td>\n",
       "      <td>NaN</td>\n",
       "      <td>NaN</td>\n",
       "      <td>NaN</td>\n",
       "      <td>NaN</td>\n",
       "    </tr>\n",
       "    <tr>\n",
       "      <th>A107I3EOYE62A</th>\n",
       "      <td>NaN</td>\n",
       "      <td>NaN</td>\n",
       "      <td>NaN</td>\n",
       "      <td>NaN</td>\n",
       "      <td>NaN</td>\n",
       "      <td>NaN</td>\n",
       "      <td>NaN</td>\n",
       "      <td>NaN</td>\n",
       "      <td>NaN</td>\n",
       "      <td>NaN</td>\n",
       "      <td>...</td>\n",
       "      <td>NaN</td>\n",
       "      <td>NaN</td>\n",
       "      <td>NaN</td>\n",
       "      <td>NaN</td>\n",
       "      <td>NaN</td>\n",
       "      <td>NaN</td>\n",
       "      <td>NaN</td>\n",
       "      <td>NaN</td>\n",
       "      <td>NaN</td>\n",
       "      <td>NaN</td>\n",
       "    </tr>\n",
       "    <tr>\n",
       "      <th>A107QWK7JAITW6</th>\n",
       "      <td>NaN</td>\n",
       "      <td>NaN</td>\n",
       "      <td>NaN</td>\n",
       "      <td>NaN</td>\n",
       "      <td>NaN</td>\n",
       "      <td>NaN</td>\n",
       "      <td>NaN</td>\n",
       "      <td>NaN</td>\n",
       "      <td>NaN</td>\n",
       "      <td>NaN</td>\n",
       "      <td>...</td>\n",
       "      <td>NaN</td>\n",
       "      <td>NaN</td>\n",
       "      <td>NaN</td>\n",
       "      <td>NaN</td>\n",
       "      <td>NaN</td>\n",
       "      <td>NaN</td>\n",
       "      <td>NaN</td>\n",
       "      <td>NaN</td>\n",
       "      <td>NaN</td>\n",
       "      <td>NaN</td>\n",
       "    </tr>\n",
       "    <tr>\n",
       "      <th>A107VUL4I6CO9T</th>\n",
       "      <td>NaN</td>\n",
       "      <td>NaN</td>\n",
       "      <td>NaN</td>\n",
       "      <td>NaN</td>\n",
       "      <td>NaN</td>\n",
       "      <td>NaN</td>\n",
       "      <td>NaN</td>\n",
       "      <td>NaN</td>\n",
       "      <td>NaN</td>\n",
       "      <td>NaN</td>\n",
       "      <td>...</td>\n",
       "      <td>NaN</td>\n",
       "      <td>NaN</td>\n",
       "      <td>NaN</td>\n",
       "      <td>NaN</td>\n",
       "      <td>NaN</td>\n",
       "      <td>NaN</td>\n",
       "      <td>NaN</td>\n",
       "      <td>NaN</td>\n",
       "      <td>NaN</td>\n",
       "      <td>NaN</td>\n",
       "    </tr>\n",
       "    <tr>\n",
       "      <th>A1086PC9A0HLU5</th>\n",
       "      <td>NaN</td>\n",
       "      <td>NaN</td>\n",
       "      <td>NaN</td>\n",
       "      <td>NaN</td>\n",
       "      <td>NaN</td>\n",
       "      <td>NaN</td>\n",
       "      <td>NaN</td>\n",
       "      <td>NaN</td>\n",
       "      <td>NaN</td>\n",
       "      <td>NaN</td>\n",
       "      <td>...</td>\n",
       "      <td>NaN</td>\n",
       "      <td>NaN</td>\n",
       "      <td>NaN</td>\n",
       "      <td>NaN</td>\n",
       "      <td>NaN</td>\n",
       "      <td>NaN</td>\n",
       "      <td>NaN</td>\n",
       "      <td>NaN</td>\n",
       "      <td>NaN</td>\n",
       "      <td>NaN</td>\n",
       "    </tr>\n",
       "    <tr>\n",
       "      <th>A1087SLSJ7JQ7O</th>\n",
       "      <td>NaN</td>\n",
       "      <td>NaN</td>\n",
       "      <td>NaN</td>\n",
       "      <td>NaN</td>\n",
       "      <td>NaN</td>\n",
       "      <td>NaN</td>\n",
       "      <td>NaN</td>\n",
       "      <td>NaN</td>\n",
       "      <td>NaN</td>\n",
       "      <td>NaN</td>\n",
       "      <td>...</td>\n",
       "      <td>NaN</td>\n",
       "      <td>NaN</td>\n",
       "      <td>NaN</td>\n",
       "      <td>NaN</td>\n",
       "      <td>NaN</td>\n",
       "      <td>NaN</td>\n",
       "      <td>NaN</td>\n",
       "      <td>NaN</td>\n",
       "      <td>NaN</td>\n",
       "      <td>NaN</td>\n",
       "    </tr>\n",
       "    <tr>\n",
       "      <th>A108B6JHMTP4EY</th>\n",
       "      <td>NaN</td>\n",
       "      <td>NaN</td>\n",
       "      <td>NaN</td>\n",
       "      <td>NaN</td>\n",
       "      <td>NaN</td>\n",
       "      <td>NaN</td>\n",
       "      <td>NaN</td>\n",
       "      <td>NaN</td>\n",
       "      <td>NaN</td>\n",
       "      <td>NaN</td>\n",
       "      <td>...</td>\n",
       "      <td>NaN</td>\n",
       "      <td>NaN</td>\n",
       "      <td>NaN</td>\n",
       "      <td>NaN</td>\n",
       "      <td>NaN</td>\n",
       "      <td>NaN</td>\n",
       "      <td>NaN</td>\n",
       "      <td>NaN</td>\n",
       "      <td>NaN</td>\n",
       "      <td>NaN</td>\n",
       "    </tr>\n",
       "    <tr>\n",
       "      <th>A108D0GS1RXLNI</th>\n",
       "      <td>NaN</td>\n",
       "      <td>NaN</td>\n",
       "      <td>NaN</td>\n",
       "      <td>NaN</td>\n",
       "      <td>NaN</td>\n",
       "      <td>NaN</td>\n",
       "      <td>NaN</td>\n",
       "      <td>NaN</td>\n",
       "      <td>NaN</td>\n",
       "      <td>NaN</td>\n",
       "      <td>...</td>\n",
       "      <td>NaN</td>\n",
       "      <td>NaN</td>\n",
       "      <td>NaN</td>\n",
       "      <td>NaN</td>\n",
       "      <td>NaN</td>\n",
       "      <td>NaN</td>\n",
       "      <td>NaN</td>\n",
       "      <td>NaN</td>\n",
       "      <td>NaN</td>\n",
       "      <td>NaN</td>\n",
       "    </tr>\n",
       "    <tr>\n",
       "      <th>A108EF85USF2JE</th>\n",
       "      <td>NaN</td>\n",
       "      <td>NaN</td>\n",
       "      <td>NaN</td>\n",
       "      <td>NaN</td>\n",
       "      <td>NaN</td>\n",
       "      <td>NaN</td>\n",
       "      <td>NaN</td>\n",
       "      <td>NaN</td>\n",
       "      <td>NaN</td>\n",
       "      <td>NaN</td>\n",
       "      <td>...</td>\n",
       "      <td>NaN</td>\n",
       "      <td>NaN</td>\n",
       "      <td>NaN</td>\n",
       "      <td>NaN</td>\n",
       "      <td>NaN</td>\n",
       "      <td>NaN</td>\n",
       "      <td>NaN</td>\n",
       "      <td>NaN</td>\n",
       "      <td>NaN</td>\n",
       "      <td>NaN</td>\n",
       "    </tr>\n",
       "    <tr>\n",
       "      <th>A108JOJL6TLC91</th>\n",
       "      <td>NaN</td>\n",
       "      <td>NaN</td>\n",
       "      <td>NaN</td>\n",
       "      <td>NaN</td>\n",
       "      <td>NaN</td>\n",
       "      <td>NaN</td>\n",
       "      <td>NaN</td>\n",
       "      <td>NaN</td>\n",
       "      <td>NaN</td>\n",
       "      <td>NaN</td>\n",
       "      <td>...</td>\n",
       "      <td>NaN</td>\n",
       "      <td>NaN</td>\n",
       "      <td>NaN</td>\n",
       "      <td>NaN</td>\n",
       "      <td>NaN</td>\n",
       "      <td>NaN</td>\n",
       "      <td>NaN</td>\n",
       "      <td>NaN</td>\n",
       "      <td>NaN</td>\n",
       "      <td>NaN</td>\n",
       "    </tr>\n",
       "    <tr>\n",
       "      <th>A108JXYEJ9RZ8L</th>\n",
       "      <td>NaN</td>\n",
       "      <td>NaN</td>\n",
       "      <td>NaN</td>\n",
       "      <td>NaN</td>\n",
       "      <td>NaN</td>\n",
       "      <td>NaN</td>\n",
       "      <td>NaN</td>\n",
       "      <td>NaN</td>\n",
       "      <td>NaN</td>\n",
       "      <td>NaN</td>\n",
       "      <td>...</td>\n",
       "      <td>NaN</td>\n",
       "      <td>NaN</td>\n",
       "      <td>NaN</td>\n",
       "      <td>NaN</td>\n",
       "      <td>NaN</td>\n",
       "      <td>NaN</td>\n",
       "      <td>NaN</td>\n",
       "      <td>NaN</td>\n",
       "      <td>NaN</td>\n",
       "      <td>NaN</td>\n",
       "    </tr>\n",
       "  </tbody>\n",
       "</table>\n",
       "<p>25 rows × 3457 columns</p>\n",
       "</div>"
      ],
      "text/plain": [
       "                   Review                                              \\\n",
       "ProductID      0001515195 0005060982 0006514413 0006530451 0007101929   \n",
       "UserID                                                                  \n",
       "A105E427BB6J65        NaN        NaN        NaN        NaN        NaN   \n",
       "A105FAAQ06FTWA        NaN        NaN        NaN        NaN        NaN   \n",
       "A105MPYIG2WENU        NaN        NaN        NaN        NaN        NaN   \n",
       "A106016KSI0YQ         NaN        NaN        NaN        NaN        NaN   \n",
       "A1069WS6765UDL        NaN        NaN        NaN        NaN        NaN   \n",
       "A106C1NLEHPDJP        NaN        NaN        NaN        NaN        NaN   \n",
       "A106E1N0ZQ4D9W        NaN        NaN        NaN        NaN        NaN   \n",
       "A106HD4S643MHK        NaN        NaN        NaN        NaN        NaN   \n",
       "A106N4B4EG4DR8        NaN        NaN        NaN        NaN        NaN   \n",
       "A106P1BJ6P9DQH        NaN        NaN        NaN        NaN        NaN   \n",
       "A106T2G4GR3VXP        NaN        NaN        NaN        NaN        NaN   \n",
       "A10788CRDVLLPI        NaN        NaN        NaN        NaN        NaN   \n",
       "A107BOOU9O23BM        NaN        NaN        NaN        NaN        NaN   \n",
       "A107F528SN3XJU        NaN        NaN        NaN        NaN        NaN   \n",
       "A107H3XGCV6Y4Q        NaN        NaN        NaN        NaN        NaN   \n",
       "A107I3EOYE62A         NaN        NaN        NaN        NaN        NaN   \n",
       "A107QWK7JAITW6        NaN        NaN        NaN        NaN        NaN   \n",
       "A107VUL4I6CO9T        NaN        NaN        NaN        NaN        NaN   \n",
       "A1086PC9A0HLU5        NaN        NaN        NaN        NaN        NaN   \n",
       "A1087SLSJ7JQ7O        NaN        NaN        NaN        NaN        NaN   \n",
       "A108B6JHMTP4EY        NaN        NaN        NaN        NaN        NaN   \n",
       "A108D0GS1RXLNI        NaN        NaN        NaN        NaN        NaN   \n",
       "A108EF85USF2JE        NaN        NaN        NaN        NaN        NaN   \n",
       "A108JOJL6TLC91        NaN        NaN        NaN        NaN        NaN   \n",
       "A108JXYEJ9RZ8L        NaN        NaN        NaN        NaN        NaN   \n",
       "\n",
       "                                                                       \\\n",
       "ProductID      0007106823 0007123469 0007123477 0007128355 0020480202   \n",
       "UserID                                                                  \n",
       "A105E427BB6J65        NaN        NaN        NaN        NaN        NaN   \n",
       "A105FAAQ06FTWA        NaN        NaN        NaN        NaN        NaN   \n",
       "A105MPYIG2WENU        NaN        NaN        NaN        NaN        NaN   \n",
       "A106016KSI0YQ         NaN        NaN        NaN        NaN        NaN   \n",
       "A1069WS6765UDL        NaN        NaN        NaN        NaN        NaN   \n",
       "A106C1NLEHPDJP        NaN        NaN        NaN        NaN        NaN   \n",
       "A106E1N0ZQ4D9W        NaN        NaN        NaN        NaN        NaN   \n",
       "A106HD4S643MHK        NaN        NaN        NaN        NaN        NaN   \n",
       "A106N4B4EG4DR8        NaN        NaN        NaN        NaN        NaN   \n",
       "A106P1BJ6P9DQH        NaN        NaN        NaN        NaN        NaN   \n",
       "A106T2G4GR3VXP        NaN        NaN        NaN        NaN        NaN   \n",
       "A10788CRDVLLPI        NaN        NaN        NaN        NaN        NaN   \n",
       "A107BOOU9O23BM        NaN        NaN        NaN        NaN        NaN   \n",
       "A107F528SN3XJU        NaN        NaN        NaN        NaN        NaN   \n",
       "A107H3XGCV6Y4Q        NaN        NaN        NaN        NaN        NaN   \n",
       "A107I3EOYE62A         NaN        NaN        NaN        NaN        NaN   \n",
       "A107QWK7JAITW6        NaN        NaN        NaN        NaN        NaN   \n",
       "A107VUL4I6CO9T        NaN        NaN        NaN        NaN        NaN   \n",
       "A1086PC9A0HLU5        NaN        NaN        NaN        NaN        NaN   \n",
       "A1087SLSJ7JQ7O        NaN        NaN        NaN        NaN        NaN   \n",
       "A108B6JHMTP4EY        NaN        NaN        NaN        NaN        NaN   \n",
       "A108D0GS1RXLNI        NaN        NaN        NaN        NaN        NaN   \n",
       "A108EF85USF2JE        NaN        NaN        NaN        NaN        NaN   \n",
       "A108JOJL6TLC91        NaN        NaN        NaN        NaN        NaN   \n",
       "A108JXYEJ9RZ8L        NaN        NaN        NaN        NaN        NaN   \n",
       "\n",
       "                  ...                                                  \\\n",
       "ProductID         ...     B000RAQAUC B000TMQQAC B000TNAFUS B000TZ19TC   \n",
       "UserID            ...                                                   \n",
       "A105E427BB6J65    ...            NaN        NaN        NaN        NaN   \n",
       "A105FAAQ06FTWA    ...            NaN        NaN        NaN        NaN   \n",
       "A105MPYIG2WENU    ...            NaN        NaN        NaN        NaN   \n",
       "A106016KSI0YQ     ...            NaN        NaN        NaN        NaN   \n",
       "A1069WS6765UDL    ...            NaN        NaN        NaN        NaN   \n",
       "A106C1NLEHPDJP    ...            NaN        NaN        NaN        NaN   \n",
       "A106E1N0ZQ4D9W    ...            NaN        NaN        NaN        NaN   \n",
       "A106HD4S643MHK    ...            NaN        NaN        NaN        NaN   \n",
       "A106N4B4EG4DR8    ...            NaN        NaN        NaN        NaN   \n",
       "A106P1BJ6P9DQH    ...            NaN        NaN        NaN        NaN   \n",
       "A106T2G4GR3VXP    ...            NaN        NaN        NaN        NaN   \n",
       "A10788CRDVLLPI    ...            NaN        NaN        NaN        NaN   \n",
       "A107BOOU9O23BM    ...            NaN        NaN        NaN        NaN   \n",
       "A107F528SN3XJU    ...            NaN        NaN        NaN        NaN   \n",
       "A107H3XGCV6Y4Q    ...            NaN        NaN        NaN        NaN   \n",
       "A107I3EOYE62A     ...            NaN        NaN        NaN        NaN   \n",
       "A107QWK7JAITW6    ...            NaN        NaN        NaN        NaN   \n",
       "A107VUL4I6CO9T    ...            NaN        NaN        NaN        NaN   \n",
       "A1086PC9A0HLU5    ...            NaN        NaN        NaN        NaN   \n",
       "A1087SLSJ7JQ7O    ...            NaN        NaN        NaN        NaN   \n",
       "A108B6JHMTP4EY    ...            NaN        NaN        NaN        NaN   \n",
       "A108D0GS1RXLNI    ...            NaN        NaN        NaN        NaN   \n",
       "A108EF85USF2JE    ...            NaN        NaN        NaN        NaN   \n",
       "A108JOJL6TLC91    ...            NaN        NaN        NaN        NaN   \n",
       "A108JXYEJ9RZ8L    ...            NaN        NaN        NaN        NaN   \n",
       "\n",
       "                                                                       \\\n",
       "ProductID      B000TZ25D6 B000U2H682 B000U2H696 B000U2M5DS B000UVGLZM   \n",
       "UserID                                                                  \n",
       "A105E427BB6J65        NaN        NaN        NaN        NaN        NaN   \n",
       "A105FAAQ06FTWA        NaN        NaN        NaN        NaN        NaN   \n",
       "A105MPYIG2WENU        NaN        NaN        NaN        NaN        NaN   \n",
       "A106016KSI0YQ         NaN        NaN        NaN        NaN        NaN   \n",
       "A1069WS6765UDL        NaN        NaN        NaN        NaN        NaN   \n",
       "A106C1NLEHPDJP        NaN        NaN        NaN        NaN        NaN   \n",
       "A106E1N0ZQ4D9W        NaN        NaN        NaN        NaN        NaN   \n",
       "A106HD4S643MHK        NaN        NaN        NaN        NaN        NaN   \n",
       "A106N4B4EG4DR8        NaN        NaN        NaN        NaN        NaN   \n",
       "A106P1BJ6P9DQH        NaN        NaN        NaN        NaN        NaN   \n",
       "A106T2G4GR3VXP        NaN        NaN        NaN        NaN        NaN   \n",
       "A10788CRDVLLPI        NaN        NaN        NaN        NaN        NaN   \n",
       "A107BOOU9O23BM        NaN        NaN        NaN        NaN        NaN   \n",
       "A107F528SN3XJU        NaN        NaN        NaN        NaN        NaN   \n",
       "A107H3XGCV6Y4Q        NaN        NaN        NaN        NaN        NaN   \n",
       "A107I3EOYE62A         NaN        NaN        NaN        NaN        NaN   \n",
       "A107QWK7JAITW6        NaN        NaN        NaN        NaN        NaN   \n",
       "A107VUL4I6CO9T        NaN        NaN        NaN        NaN        NaN   \n",
       "A1086PC9A0HLU5        NaN        NaN        NaN        NaN        NaN   \n",
       "A1087SLSJ7JQ7O        NaN        NaN        NaN        NaN        NaN   \n",
       "A108B6JHMTP4EY        NaN        NaN        NaN        NaN        NaN   \n",
       "A108D0GS1RXLNI        NaN        NaN        NaN        NaN        NaN   \n",
       "A108EF85USF2JE        NaN        NaN        NaN        NaN        NaN   \n",
       "A108JOJL6TLC91        NaN        NaN        NaN        NaN        NaN   \n",
       "A108JXYEJ9RZ8L        NaN        NaN        NaN        NaN        NaN   \n",
       "\n",
       "                           \n",
       "ProductID      B000UY65EQ  \n",
       "UserID                     \n",
       "A105E427BB6J65        NaN  \n",
       "A105FAAQ06FTWA        NaN  \n",
       "A105MPYIG2WENU        NaN  \n",
       "A106016KSI0YQ         NaN  \n",
       "A1069WS6765UDL        NaN  \n",
       "A106C1NLEHPDJP        NaN  \n",
       "A106E1N0ZQ4D9W        NaN  \n",
       "A106HD4S643MHK        NaN  \n",
       "A106N4B4EG4DR8        NaN  \n",
       "A106P1BJ6P9DQH        NaN  \n",
       "A106T2G4GR3VXP        NaN  \n",
       "A10788CRDVLLPI        NaN  \n",
       "A107BOOU9O23BM        NaN  \n",
       "A107F528SN3XJU        NaN  \n",
       "A107H3XGCV6Y4Q        NaN  \n",
       "A107I3EOYE62A         NaN  \n",
       "A107QWK7JAITW6        NaN  \n",
       "A107VUL4I6CO9T        NaN  \n",
       "A1086PC9A0HLU5        NaN  \n",
       "A1087SLSJ7JQ7O        NaN  \n",
       "A108B6JHMTP4EY        NaN  \n",
       "A108D0GS1RXLNI        NaN  \n",
       "A108EF85USF2JE        NaN  \n",
       "A108JOJL6TLC91        NaN  \n",
       "A108JXYEJ9RZ8L        NaN  \n",
       "\n",
       "[25 rows x 3457 columns]"
      ]
     },
     "execution_count": 14,
     "metadata": {},
     "output_type": "execute_result"
    }
   ],
   "source": [
    "# data_pivot = data_df.pivot_table(index = [\"UserID\"], columns=[\"ProductID\"], values=[\"Review\"])\n",
    "# data_pivot[50:75]"
   ]
  },
  {
   "cell_type": "code",
   "execution_count": 15,
   "metadata": {},
   "outputs": [
    {
     "data": {
      "text/plain": [
       "(30762, 3457)"
      ]
     },
     "execution_count": 15,
     "metadata": {},
     "output_type": "execute_result"
    }
   ],
   "source": [
    "# data_pivot.columns = data_pivot.columns.droplevel()\n",
    "# #[print(x) for x in data_pivot.columns]\n",
    "# data_pivot.shape"
   ]
  },
  {
   "cell_type": "markdown",
   "metadata": {},
   "source": [
    "Building item based collaberative recommender without using any packages"
   ]
  },
  {
   "cell_type": "code",
   "execution_count": 14,
   "metadata": {
    "collapsed": true
   },
   "outputs": [],
   "source": [
    "# # function to get pearson correlation between two items\n",
    "\n",
    "# def get_cor(i1, i2):\n",
    "#     corr = data_pivot[i1].corr(data_pivot[i2])\n",
    "#     return corr\n",
    "\n",
    "# # function to calculate correlation against all other columns for a given item\n",
    "\n",
    "# def all_corr(i1, df, m):\n",
    "#     rank_corr = []\n",
    "#     for col in df.columns:\n",
    "#         if (col != None) and (col != i1):\n",
    "#             corr = get_cor(i1, col)\n",
    "#             cor_ls = {'item': col,\n",
    "#                       'cor': corr}\n",
    "#             rank_corr.append(cor_ls)\n",
    "    \n",
    "#     order_rank_corr = sorted(rank_corr, key = lambda item: (item['cor']), reverse=True)\n",
    "#     #print(order_rank_corr)\n",
    "#     return(order_rank_corr[:m])\n"
   ]
  },
  {
   "cell_type": "code",
   "execution_count": 16,
   "metadata": {},
   "outputs": [
    {
     "data": {
      "text/plain": [
       "B000N6DDJQ\\n    758\n",
       "B0007H4QBK\\n    330\n",
       "B000O3QCH8\\n    157\n",
       "0671551345\\n    134\n",
       "B000MCKQRS\\n    124\n",
       "B000NSKB12\\n    118\n",
       "B000HU0H2E\\n    103\n",
       "050552421X\\n     97\n",
       "0505524228\\n     91\n",
       "B000NRYUHO\\n     76\n",
       "B0000630MU\\n     55\n",
       "B000NKGYNE\\n     55\n",
       "B0006DM4E6\\n     52\n",
       "0679751254\\n     49\n",
       "0974267600\\n     48\n",
       "1883011035\\n     45\n",
       "0671551353\\n     43\n",
       "B0006DM4DW\\n     40\n",
       "0375422811\\n     40\n",
       "B000N7612G\\n     39\n",
       "0931580161\\n     34\n",
       "B000GLTD5Q\\n     32\n",
       "0595344550\\n     32\n",
       "0792799860\\n     31\n",
       "1564966763\\n     29\n",
       "0976324644\\n     28\n",
       "1890460052\\n     27\n",
       "0789480662\\n     27\n",
       "B000NKGYMK\\n     27\n",
       "B0006ANRXG\\n     26\n",
       "               ... \n",
       "0878403825\\n      1\n",
       "0253338352\\n      1\n",
       "0813318726\\n      1\n",
       "B0007IVPAO\\n      1\n",
       "0812830849\\n      1\n",
       "B0007FXCVM\\n      1\n",
       "1859673643\\n      1\n",
       "0768911001\\n      1\n",
       "B000H45MXO\\n      1\n",
       "0882292196\\n      1\n",
       "0975318004\\n      1\n",
       "0867093455\\n      1\n",
       "156292656X\\n      1\n",
       "1423410203\\n      1\n",
       "B0006DM4DC\\n      1\n",
       "0582485541\\n      1\n",
       "B00088DVTQ\\n      1\n",
       "B000OXCBJQ\\n      1\n",
       "0710613776\\n      1\n",
       "0567087786\\n      1\n",
       "0026204207\\n      1\n",
       "0966137116\\n      1\n",
       "0691021155\\n      1\n",
       "B0007DQIIS\\n      1\n",
       "157003088X\\n      1\n",
       "B0007DRE5E\\n      1\n",
       "1843762366\\n      1\n",
       "0908968000\\n      1\n",
       "B0007E2A8E\\n      1\n",
       "B0008BT8Q8\\n      1\n",
       "Name: ProductID, dtype: int64"
      ]
     },
     "execution_count": 16,
     "metadata": {},
     "output_type": "execute_result"
    }
   ],
   "source": [
    "# data_df['ProductID'].value_counts()"
   ]
  },
  {
   "cell_type": "markdown",
   "metadata": {},
   "source": [
    "Using GraphLab to perform item based collaborative filtering"
   ]
  },
  {
   "cell_type": "code",
   "execution_count": 31,
   "metadata": {
    "collapsed": true
   },
   "outputs": [],
   "source": [
    "import graphlab as gl"
   ]
  },
  {
   "cell_type": "code",
   "execution_count": 32,
   "metadata": {},
   "outputs": [
    {
     "ename": "TypeError",
     "evalue": "A common type cannot be infered from types float, string.",
     "output_type": "error",
     "traceback": [
      "\u001b[0;31m---------------------------------------------------------------------------\u001b[0m",
      "\u001b[0;31mTypeError\u001b[0m                                 Traceback (most recent call last)",
      "\u001b[0;32m<ipython-input-32-8a8871c1ef6a>\u001b[0m in \u001b[0;36m<module>\u001b[0;34m()\u001b[0m\n\u001b[1;32m      1\u001b[0m sf = gl.SFrame({'user_id': data_df['UserID'],\n\u001b[1;32m      2\u001b[0m                       \u001b[0;34m'item_id'\u001b[0m\u001b[0;34m:\u001b[0m \u001b[0mdata_df\u001b[0m\u001b[0;34m[\u001b[0m\u001b[0;34m'ProductID'\u001b[0m\u001b[0;34m]\u001b[0m\u001b[0;34m,\u001b[0m\u001b[0;34m\u001b[0m\u001b[0m\n\u001b[0;32m----> 3\u001b[0;31m                       'rating': data_df['Review']})\n\u001b[0m",
      "\u001b[0;32m/Users/ravitejachikkam/Anaconda/anaconda/envs/gl-env/lib/python2.7/site-packages/graphlab/data_structures/sframe.pyc\u001b[0m in \u001b[0;36m__init__\u001b[0;34m(self, data, format, _proxy)\u001b[0m\n\u001b[1;32m    951\u001b[0m                     \u001b[0;32mpass\u001b[0m\u001b[0;34m\u001b[0m\u001b[0m\n\u001b[1;32m    952\u001b[0m                 \u001b[0;32melse\u001b[0m\u001b[0;34m:\u001b[0m\u001b[0;34m\u001b[0m\u001b[0m\n\u001b[0;32m--> 953\u001b[0;31m                     \u001b[0;32mraise\u001b[0m \u001b[0mValueError\u001b[0m\u001b[0;34m(\u001b[0m\u001b[0;34m'Unknown input type: '\u001b[0m \u001b[0;34m+\u001b[0m \u001b[0mformat\u001b[0m\u001b[0;34m)\u001b[0m\u001b[0;34m\u001b[0m\u001b[0m\n\u001b[0m\u001b[1;32m    954\u001b[0m \u001b[0;34m\u001b[0m\u001b[0m\n\u001b[1;32m    955\u001b[0m         \u001b[0msframe_size\u001b[0m \u001b[0;34m=\u001b[0m \u001b[0;34m-\u001b[0m\u001b[0;36m1\u001b[0m\u001b[0;34m\u001b[0m\u001b[0m\n",
      "\u001b[0;32m/Users/ravitejachikkam/Anaconda/anaconda/envs/gl-env/lib/python2.7/site-packages/graphlab/cython/context.pyc\u001b[0m in \u001b[0;36m__exit__\u001b[0;34m(self, exc_type, exc_value, traceback)\u001b[0m\n\u001b[1;32m     47\u001b[0m             \u001b[0;32mif\u001b[0m \u001b[0;32mnot\u001b[0m \u001b[0mself\u001b[0m\u001b[0;34m.\u001b[0m\u001b[0mshow_cython_trace\u001b[0m\u001b[0;34m:\u001b[0m\u001b[0;34m\u001b[0m\u001b[0m\n\u001b[1;32m     48\u001b[0m                 \u001b[0;31m# To hide cython trace, we re-raise from here\u001b[0m\u001b[0;34m\u001b[0m\u001b[0;34m\u001b[0m\u001b[0m\n\u001b[0;32m---> 49\u001b[0;31m                 \u001b[0;32mraise\u001b[0m \u001b[0mexc_type\u001b[0m\u001b[0;34m(\u001b[0m\u001b[0mexc_value\u001b[0m\u001b[0;34m)\u001b[0m\u001b[0;34m\u001b[0m\u001b[0m\n\u001b[0m\u001b[1;32m     50\u001b[0m             \u001b[0;32melse\u001b[0m\u001b[0;34m:\u001b[0m\u001b[0;34m\u001b[0m\u001b[0m\n\u001b[1;32m     51\u001b[0m                 \u001b[0;31m# To show the full trace, we do nothing and let exception propagate\u001b[0m\u001b[0;34m\u001b[0m\u001b[0;34m\u001b[0m\u001b[0m\n",
      "\u001b[0;31mTypeError\u001b[0m: A common type cannot be infered from types float, string."
     ]
    }
   ],
   "source": [
    "sf = gl.SFrame({'user_id': data_df['UserID'],\n",
    "                      'item_id': data_df['ProductID'],\n",
    "                      'rating': data_df['Review']})"
   ]
  },
  {
   "cell_type": "code",
   "execution_count": 12,
   "metadata": {
    "collapsed": true
   },
   "outputs": [],
   "source": [
    "#from gl.recommender import item_similarity_recommender"
   ]
  },
  {
   "cell_type": "code",
   "execution_count": 13,
   "metadata": {},
   "outputs": [
    {
     "data": {
      "text/html": [
       "<pre>Recsys training: model = factorization_recommender</pre>"
      ],
      "text/plain": [
       "Recsys training: model = factorization_recommender"
      ]
     },
     "metadata": {},
     "output_type": "display_data"
    },
    {
     "data": {
      "text/html": [
       "<pre>Preparing data set.</pre>"
      ],
      "text/plain": [
       "Preparing data set."
      ]
     },
     "metadata": {},
     "output_type": "display_data"
    },
    {
     "data": {
      "text/html": [
       "<pre>    Data has 45454 observations with 30762 users and 3457 items.</pre>"
      ],
      "text/plain": [
       "    Data has 45454 observations with 30762 users and 3457 items."
      ]
     },
     "metadata": {},
     "output_type": "display_data"
    },
    {
     "data": {
      "text/html": [
       "<pre>    Data prepared in: 0.12604s</pre>"
      ],
      "text/plain": [
       "    Data prepared in: 0.12604s"
      ]
     },
     "metadata": {},
     "output_type": "display_data"
    },
    {
     "data": {
      "text/html": [
       "<pre>Training factorization_recommender for recommendations.</pre>"
      ],
      "text/plain": [
       "Training factorization_recommender for recommendations."
      ]
     },
     "metadata": {},
     "output_type": "display_data"
    },
    {
     "data": {
      "text/html": [
       "<pre>+--------------------------------+--------------------------------------------------+----------+</pre>"
      ],
      "text/plain": [
       "+--------------------------------+--------------------------------------------------+----------+"
      ]
     },
     "metadata": {},
     "output_type": "display_data"
    },
    {
     "data": {
      "text/html": [
       "<pre>| Parameter                      | Description                                      | Value    |</pre>"
      ],
      "text/plain": [
       "| Parameter                      | Description                                      | Value    |"
      ]
     },
     "metadata": {},
     "output_type": "display_data"
    },
    {
     "data": {
      "text/html": [
       "<pre>+--------------------------------+--------------------------------------------------+----------+</pre>"
      ],
      "text/plain": [
       "+--------------------------------+--------------------------------------------------+----------+"
      ]
     },
     "metadata": {},
     "output_type": "display_data"
    },
    {
     "data": {
      "text/html": [
       "<pre>| num_factors                    | Factor Dimension                                 | 8        |</pre>"
      ],
      "text/plain": [
       "| num_factors                    | Factor Dimension                                 | 8        |"
      ]
     },
     "metadata": {},
     "output_type": "display_data"
    },
    {
     "data": {
      "text/html": [
       "<pre>| regularization                 | L2 Regularization on Factors                     | 1e-08    |</pre>"
      ],
      "text/plain": [
       "| regularization                 | L2 Regularization on Factors                     | 1e-08    |"
      ]
     },
     "metadata": {},
     "output_type": "display_data"
    },
    {
     "data": {
      "text/html": [
       "<pre>| solver                         | Solver used for training                         | sgd      |</pre>"
      ],
      "text/plain": [
       "| solver                         | Solver used for training                         | sgd      |"
      ]
     },
     "metadata": {},
     "output_type": "display_data"
    },
    {
     "data": {
      "text/html": [
       "<pre>| linear_regularization          | L2 Regularization on Linear Coefficients         | 1e-10    |</pre>"
      ],
      "text/plain": [
       "| linear_regularization          | L2 Regularization on Linear Coefficients         | 1e-10    |"
      ]
     },
     "metadata": {},
     "output_type": "display_data"
    },
    {
     "data": {
      "text/html": [
       "<pre>| max_iterations                 | Maximum Number of Iterations                     | 50       |</pre>"
      ],
      "text/plain": [
       "| max_iterations                 | Maximum Number of Iterations                     | 50       |"
      ]
     },
     "metadata": {},
     "output_type": "display_data"
    },
    {
     "data": {
      "text/html": [
       "<pre>+--------------------------------+--------------------------------------------------+----------+</pre>"
      ],
      "text/plain": [
       "+--------------------------------+--------------------------------------------------+----------+"
      ]
     },
     "metadata": {},
     "output_type": "display_data"
    },
    {
     "data": {
      "text/html": [
       "<pre>  Optimizing model using SGD; tuning step size.</pre>"
      ],
      "text/plain": [
       "  Optimizing model using SGD; tuning step size."
      ]
     },
     "metadata": {},
     "output_type": "display_data"
    },
    {
     "data": {
      "text/html": [
       "<pre>  Using 10000 / 45454 points for tuning the step size.</pre>"
      ],
      "text/plain": [
       "  Using 10000 / 45454 points for tuning the step size."
      ]
     },
     "metadata": {},
     "output_type": "display_data"
    },
    {
     "data": {
      "text/html": [
       "<pre>+---------+-------------------+------------------------------------------+</pre>"
      ],
      "text/plain": [
       "+---------+-------------------+------------------------------------------+"
      ]
     },
     "metadata": {},
     "output_type": "display_data"
    },
    {
     "data": {
      "text/html": [
       "<pre>| Attempt | Initial Step Size | Estimated Objective Value                |</pre>"
      ],
      "text/plain": [
       "| Attempt | Initial Step Size | Estimated Objective Value                |"
      ]
     },
     "metadata": {},
     "output_type": "display_data"
    },
    {
     "data": {
      "text/html": [
       "<pre>+---------+-------------------+------------------------------------------+</pre>"
      ],
      "text/plain": [
       "+---------+-------------------+------------------------------------------+"
      ]
     },
     "metadata": {},
     "output_type": "display_data"
    },
    {
     "data": {
      "text/html": [
       "<pre>| 0       | 25                | Not Viable                               |</pre>"
      ],
      "text/plain": [
       "| 0       | 25                | Not Viable                               |"
      ]
     },
     "metadata": {},
     "output_type": "display_data"
    },
    {
     "data": {
      "text/html": [
       "<pre>| 1       | 6.25              | Not Viable                               |</pre>"
      ],
      "text/plain": [
       "| 1       | 6.25              | Not Viable                               |"
      ]
     },
     "metadata": {},
     "output_type": "display_data"
    },
    {
     "data": {
      "text/html": [
       "<pre>| 2       | 1.5625            | Not Viable                               |</pre>"
      ],
      "text/plain": [
       "| 2       | 1.5625            | Not Viable                               |"
      ]
     },
     "metadata": {},
     "output_type": "display_data"
    },
    {
     "data": {
      "text/html": [
       "<pre>| 3       | 0.390625          | 0.585834                                 |</pre>"
      ],
      "text/plain": [
       "| 3       | 0.390625          | 0.585834                                 |"
      ]
     },
     "metadata": {},
     "output_type": "display_data"
    },
    {
     "data": {
      "text/html": [
       "<pre>| 4       | 0.195312          | 0.345173                                 |</pre>"
      ],
      "text/plain": [
       "| 4       | 0.195312          | 0.345173                                 |"
      ]
     },
     "metadata": {},
     "output_type": "display_data"
    },
    {
     "data": {
      "text/html": [
       "<pre>| 5       | 0.0976562         | 0.525189                                 |</pre>"
      ],
      "text/plain": [
       "| 5       | 0.0976562         | 0.525189                                 |"
      ]
     },
     "metadata": {},
     "output_type": "display_data"
    },
    {
     "data": {
      "text/html": [
       "<pre>| 6       | 0.0488281         | 0.76793                                  |</pre>"
      ],
      "text/plain": [
       "| 6       | 0.0488281         | 0.76793                                  |"
      ]
     },
     "metadata": {},
     "output_type": "display_data"
    },
    {
     "data": {
      "text/html": [
       "<pre>+---------+-------------------+------------------------------------------+</pre>"
      ],
      "text/plain": [
       "+---------+-------------------+------------------------------------------+"
      ]
     },
     "metadata": {},
     "output_type": "display_data"
    },
    {
     "data": {
      "text/html": [
       "<pre>| Final   | 0.195312          | 0.345173                                 |</pre>"
      ],
      "text/plain": [
       "| Final   | 0.195312          | 0.345173                                 |"
      ]
     },
     "metadata": {},
     "output_type": "display_data"
    },
    {
     "data": {
      "text/html": [
       "<pre>+---------+-------------------+------------------------------------------+</pre>"
      ],
      "text/plain": [
       "+---------+-------------------+------------------------------------------+"
      ]
     },
     "metadata": {},
     "output_type": "display_data"
    },
    {
     "data": {
      "text/html": [
       "<pre>Starting Optimization.</pre>"
      ],
      "text/plain": [
       "Starting Optimization."
      ]
     },
     "metadata": {},
     "output_type": "display_data"
    },
    {
     "data": {
      "text/html": [
       "<pre>+---------+--------------+-------------------+-----------------------+-------------+</pre>"
      ],
      "text/plain": [
       "+---------+--------------+-------------------+-----------------------+-------------+"
      ]
     },
     "metadata": {},
     "output_type": "display_data"
    },
    {
     "data": {
      "text/html": [
       "<pre>| Iter.   | Elapsed Time | Approx. Objective | Approx. Training RMSE | Step Size   |</pre>"
      ],
      "text/plain": [
       "| Iter.   | Elapsed Time | Approx. Objective | Approx. Training RMSE | Step Size   |"
      ]
     },
     "metadata": {},
     "output_type": "display_data"
    },
    {
     "data": {
      "text/html": [
       "<pre>+---------+--------------+-------------------+-----------------------+-------------+</pre>"
      ],
      "text/plain": [
       "+---------+--------------+-------------------+-----------------------+-------------+"
      ]
     },
     "metadata": {},
     "output_type": "display_data"
    },
    {
     "data": {
      "text/html": [
       "<pre>| Initial | 123us        | 1.39239           | 1.18                  |             |</pre>"
      ],
      "text/plain": [
       "| Initial | 123us        | 1.39239           | 1.18                  |             |"
      ]
     },
     "metadata": {},
     "output_type": "display_data"
    },
    {
     "data": {
      "text/html": [
       "<pre>+---------+--------------+-------------------+-----------------------+-------------+</pre>"
      ],
      "text/plain": [
       "+---------+--------------+-------------------+-----------------------+-------------+"
      ]
     },
     "metadata": {},
     "output_type": "display_data"
    },
    {
     "data": {
      "text/html": [
       "<pre>| 1       | 85.219ms     | 1.72329           | 1.3127                | 0.195312    |</pre>"
      ],
      "text/plain": [
       "| 1       | 85.219ms     | 1.72329           | 1.3127                | 0.195312    |"
      ]
     },
     "metadata": {},
     "output_type": "display_data"
    },
    {
     "data": {
      "text/html": [
       "<pre>| 2       | 151.739ms    | 0.843815          | 0.918548              | 0.116134    |</pre>"
      ],
      "text/plain": [
       "| 2       | 151.739ms    | 0.843815          | 0.918548              | 0.116134    |"
      ]
     },
     "metadata": {},
     "output_type": "display_data"
    },
    {
     "data": {
      "text/html": [
       "<pre>| 3       | 214.46ms     | 0.515294          | 0.717793              | 0.0856819   |</pre>"
      ],
      "text/plain": [
       "| 3       | 214.46ms     | 0.515294          | 0.717793              | 0.0856819   |"
      ]
     },
     "metadata": {},
     "output_type": "display_data"
    },
    {
     "data": {
      "text/html": [
       "<pre>| 4       | 301.412ms    | 0.403103          | 0.634856              | 0.0580668   |</pre>"
      ],
      "text/plain": [
       "| 4       | 301.412ms    | 0.403103          | 0.634856              | 0.0580668   |"
      ]
     },
     "metadata": {},
     "output_type": "display_data"
    },
    {
     "data": {
      "text/html": [
       "<pre>| 5       | 389.791ms    | 0.356588          | 0.597098              | 0.0491185   |</pre>"
      ],
      "text/plain": [
       "| 5       | 389.791ms    | 0.356588          | 0.597098              | 0.0491185   |"
      ]
     },
     "metadata": {},
     "output_type": "display_data"
    },
    {
     "data": {
      "text/html": [
       "<pre>| 6       | 485.034ms    | 0.337232          | 0.580663              | 0.042841    |</pre>"
      ],
      "text/plain": [
       "| 6       | 485.034ms    | 0.337232          | 0.580663              | 0.042841    |"
      ]
     },
     "metadata": {},
     "output_type": "display_data"
    },
    {
     "data": {
      "text/html": [
       "<pre>| 11      | 756.973ms    | 0.289437          | 0.537931              | 0.0271912   |</pre>"
      ],
      "text/plain": [
       "| 11      | 756.973ms    | 0.289437          | 0.537931              | 0.0271912   |"
      ]
     },
     "metadata": {},
     "output_type": "display_data"
    },
    {
     "data": {
      "text/html": [
       "<pre>| 25      | 1.56s        | 0.255308          | 0.505209              | 0.00519365  |</pre>"
      ],
      "text/plain": [
       "| 25      | 1.56s        | 0.255308          | 0.505209              | 0.00519365  |"
      ]
     },
     "metadata": {},
     "output_type": "display_data"
    },
    {
     "data": {
      "text/html": [
       "<pre>| 50      | 3.20s        | 0.247044          | 0.496962              | 0.000272958 |</pre>"
      ],
      "text/plain": [
       "| 50      | 3.20s        | 0.247044          | 0.496962              | 0.000272958 |"
      ]
     },
     "metadata": {},
     "output_type": "display_data"
    },
    {
     "data": {
      "text/html": [
       "<pre>+---------+--------------+-------------------+-----------------------+-------------+</pre>"
      ],
      "text/plain": [
       "+---------+--------------+-------------------+-----------------------+-------------+"
      ]
     },
     "metadata": {},
     "output_type": "display_data"
    },
    {
     "data": {
      "text/html": [
       "<pre>Optimization Complete: Maximum number of passes through the data reached.</pre>"
      ],
      "text/plain": [
       "Optimization Complete: Maximum number of passes through the data reached."
      ]
     },
     "metadata": {},
     "output_type": "display_data"
    },
    {
     "data": {
      "text/html": [
       "<pre>Computing final objective value and training RMSE.</pre>"
      ],
      "text/plain": [
       "Computing final objective value and training RMSE."
      ]
     },
     "metadata": {},
     "output_type": "display_data"
    },
    {
     "data": {
      "text/html": [
       "<pre>       Final objective value: 0.24668</pre>"
      ],
      "text/plain": [
       "       Final objective value: 0.24668"
      ]
     },
     "metadata": {},
     "output_type": "display_data"
    },
    {
     "data": {
      "text/html": [
       "<pre>       Final training RMSE: 0.496595</pre>"
      ],
      "text/plain": [
       "       Final training RMSE: 0.496595"
      ]
     },
     "metadata": {},
     "output_type": "display_data"
    }
   ],
   "source": [
    "m = gl.recommender.create(sf, target=\"rating\", ranking = False)"
   ]
  },
  {
   "cell_type": "code",
   "execution_count": 14,
   "metadata": {},
   "outputs": [
    {
     "data": {
      "text/html": [
       "<pre>Recsys training: model = item_similarity</pre>"
      ],
      "text/plain": [
       "Recsys training: model = item_similarity"
      ]
     },
     "metadata": {},
     "output_type": "display_data"
    },
    {
     "data": {
      "text/html": [
       "<pre>Preparing data set.</pre>"
      ],
      "text/plain": [
       "Preparing data set."
      ]
     },
     "metadata": {},
     "output_type": "display_data"
    },
    {
     "data": {
      "text/html": [
       "<pre>    Data has 45454 observations with 30762 users and 3457 items.</pre>"
      ],
      "text/plain": [
       "    Data has 45454 observations with 30762 users and 3457 items."
      ]
     },
     "metadata": {},
     "output_type": "display_data"
    },
    {
     "data": {
      "text/html": [
       "<pre>    Data prepared in: 0.128495s</pre>"
      ],
      "text/plain": [
       "    Data prepared in: 0.128495s"
      ]
     },
     "metadata": {},
     "output_type": "display_data"
    },
    {
     "data": {
      "text/html": [
       "<pre>Training model from provided data.</pre>"
      ],
      "text/plain": [
       "Training model from provided data."
      ]
     },
     "metadata": {},
     "output_type": "display_data"
    },
    {
     "data": {
      "text/html": [
       "<pre>Gathering per-item and per-user statistics.</pre>"
      ],
      "text/plain": [
       "Gathering per-item and per-user statistics."
      ]
     },
     "metadata": {},
     "output_type": "display_data"
    },
    {
     "data": {
      "text/html": [
       "<pre>+--------------------------------+------------+</pre>"
      ],
      "text/plain": [
       "+--------------------------------+------------+"
      ]
     },
     "metadata": {},
     "output_type": "display_data"
    },
    {
     "data": {
      "text/html": [
       "<pre>| Elapsed Time (Item Statistics) | % Complete |</pre>"
      ],
      "text/plain": [
       "| Elapsed Time (Item Statistics) | % Complete |"
      ]
     },
     "metadata": {},
     "output_type": "display_data"
    },
    {
     "data": {
      "text/html": [
       "<pre>+--------------------------------+------------+</pre>"
      ],
      "text/plain": [
       "+--------------------------------+------------+"
      ]
     },
     "metadata": {},
     "output_type": "display_data"
    },
    {
     "data": {
      "text/html": [
       "<pre>| 4.815ms                        | 3.25       |</pre>"
      ],
      "text/plain": [
       "| 4.815ms                        | 3.25       |"
      ]
     },
     "metadata": {},
     "output_type": "display_data"
    },
    {
     "data": {
      "text/html": [
       "<pre>| 15.939ms                       | 100        |</pre>"
      ],
      "text/plain": [
       "| 15.939ms                       | 100        |"
      ]
     },
     "metadata": {},
     "output_type": "display_data"
    },
    {
     "data": {
      "text/html": [
       "<pre>+--------------------------------+------------+</pre>"
      ],
      "text/plain": [
       "+--------------------------------+------------+"
      ]
     },
     "metadata": {},
     "output_type": "display_data"
    },
    {
     "data": {
      "text/html": [
       "<pre>Setting up lookup tables.</pre>"
      ],
      "text/plain": [
       "Setting up lookup tables."
      ]
     },
     "metadata": {},
     "output_type": "display_data"
    },
    {
     "data": {
      "text/html": [
       "<pre>Processing data in one pass using dense lookup tables.</pre>"
      ],
      "text/plain": [
       "Processing data in one pass using dense lookup tables."
      ]
     },
     "metadata": {},
     "output_type": "display_data"
    },
    {
     "data": {
      "text/html": [
       "<pre>+-------------------------------------+------------------+-----------------+</pre>"
      ],
      "text/plain": [
       "+-------------------------------------+------------------+-----------------+"
      ]
     },
     "metadata": {},
     "output_type": "display_data"
    },
    {
     "data": {
      "text/html": [
       "<pre>| Elapsed Time (Constructing Lookups) | Total % Complete | Items Processed |</pre>"
      ],
      "text/plain": [
       "| Elapsed Time (Constructing Lookups) | Total % Complete | Items Processed |"
      ]
     },
     "metadata": {},
     "output_type": "display_data"
    },
    {
     "data": {
      "text/html": [
       "<pre>+-------------------------------------+------------------+-----------------+</pre>"
      ],
      "text/plain": [
       "+-------------------------------------+------------------+-----------------+"
      ]
     },
     "metadata": {},
     "output_type": "display_data"
    },
    {
     "data": {
      "text/html": [
       "<pre>| 59.319ms                            | 0                | 0               |</pre>"
      ],
      "text/plain": [
       "| 59.319ms                            | 0                | 0               |"
      ]
     },
     "metadata": {},
     "output_type": "display_data"
    },
    {
     "data": {
      "text/html": [
       "<pre>| 137.699ms                           | 100              | 3457            |</pre>"
      ],
      "text/plain": [
       "| 137.699ms                           | 100              | 3457            |"
      ]
     },
     "metadata": {},
     "output_type": "display_data"
    },
    {
     "data": {
      "text/html": [
       "<pre>+-------------------------------------+------------------+-----------------+</pre>"
      ],
      "text/plain": [
       "+-------------------------------------+------------------+-----------------+"
      ]
     },
     "metadata": {},
     "output_type": "display_data"
    },
    {
     "data": {
      "text/html": [
       "<pre>Finalizing lookup tables.</pre>"
      ],
      "text/plain": [
       "Finalizing lookup tables."
      ]
     },
     "metadata": {},
     "output_type": "display_data"
    },
    {
     "data": {
      "text/html": [
       "<pre>Generating candidate set for working with new users.</pre>"
      ],
      "text/plain": [
       "Generating candidate set for working with new users."
      ]
     },
     "metadata": {},
     "output_type": "display_data"
    },
    {
     "data": {
      "text/html": [
       "<pre>Finished training in 0.160671s</pre>"
      ],
      "text/plain": [
       "Finished training in 0.160671s"
      ]
     },
     "metadata": {},
     "output_type": "display_data"
    }
   ],
   "source": [
    "m_item = gl.recommender.item_similarity_recommender.create(sf, only_top_k=2, target = \"rating\")"
   ]
  },
  {
   "cell_type": "code",
   "execution_count": null,
   "metadata": {
    "collapsed": true
   },
   "outputs": [],
   "source": []
  }
 ],
 "metadata": {
  "kernelspec": {
   "display_name": "Python [conda env:gl-env]",
   "language": "python",
   "name": "conda-env-gl-env-py"
  },
  "language_info": {
   "codemirror_mode": {
    "name": "ipython",
    "version": 2
   },
   "file_extension": ".py",
   "mimetype": "text/x-python",
   "name": "python",
   "nbconvert_exporter": "python",
   "pygments_lexer": "ipython2",
   "version": "2.7.11"
>>>>>>> 235e01ca51b0cae94945786308413b56515ef0a2
  }
 },
 "nbformat": 4,
 "nbformat_minor": 2
}
