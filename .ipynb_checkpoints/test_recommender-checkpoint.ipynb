{
 "cells": [
  {
   "cell_type": "markdown",
   "metadata": {},
   "source": [
    "This file contains the code to create test recommender system on amazon books data. We will be using python crab pacakge to build a item based and user based recommender system using collaberative filtering."
   ]
  },
  {
   "cell_type": "code",
   "execution_count": 1,
   "metadata": {
    "collapsed": true,
    "scrolled": false
   },
   "outputs": [],
   "source": [
    "import gzip\n",
    "with gzip.open(\"/Users/ravitejachikkam/Documents/ASU/Academics/Spring_2018/IEE598/project/Books.txt.gz\", \"r\") as f:\n",
    "    data = [str(next(f)) for x in range(50000)]\n",
    "#print(data)"
   ]
  },
  {
   "cell_type": "code",
   "execution_count": 2,
   "metadata": {
    "collapsed": false
   },
   "outputs": [
    {
     "data": {
      "text/plain": [
       "list"
      ]
     },
     "execution_count": 2,
     "metadata": {},
     "output_type": "execute_result"
    }
   ],
   "source": [
    "len(data)\n",
    "type(data)"
   ]
  },
  {
   "cell_type": "code",
   "execution_count": 3,
   "metadata": {
    "collapsed": false
   },
   "outputs": [
    {
     "data": {
      "text/plain": [
       "['product/productId: 1882931173\\n',\n",
       " 'product/title: Its Only Art If Its Well Hung!\\n',\n",
       " 'product/price: unknown\\n',\n",
       " 'review/userId: AVCGYZL8FQQTD\\n',\n",
       " 'review/profileName: Jim of Oz \"jim-of-oz\"\\n',\n",
       " 'review/helpfulness: 7/7\\n',\n",
       " 'review/score: 4.0\\n',\n",
       " 'review/time: 940636800\\n',\n",
       " 'review/summary: Nice collection of Julie Strain images\\n',\n",
       " \"review/text: This is only for Julie Strain fans. It's a collection of her photos -- about 80 pages worth with a nice section of paintings by Olivia.If you're looking for heavy literary content, this isn't the place to find it -- there's only about 2 pages with text and everything else is photos.Bottom line: if you only want one book, the Six Foot One ... is probably a better choice, however, if you like Julie like I like Julie, you won't go wrong on this one either.\\n\",\n",
       " '\\n',\n",
       " 'product/productId: 0826414346\\n',\n",
       " 'product/title: Dr. Seuss: American Icon\\n',\n",
       " 'product/price: unknown\\n',\n",
       " 'review/userId: A30TK6U7DNS82R\\n',\n",
       " 'review/profileName: Kevin Killian\\n',\n",
       " 'review/helpfulness: 10/10\\n',\n",
       " 'review/score: 5.0\\n',\n",
       " 'review/time: 1095724800\\n',\n",
       " 'review/summary: Really Enjoyed It\\n']"
      ]
     },
     "execution_count": 3,
     "metadata": {},
     "output_type": "execute_result"
    }
   ],
   "source": [
    "data[:20]"
   ]
  },
  {
   "cell_type": "raw",
   "metadata": {},
   "source": [
    "Data Format:\n",
    "product/productId: B00006HAXW\n",
    "product/title: Rock Rhythm & Doo Wop: Greatest Early Rock\n",
    "product/price: unknown\n",
    "review/userId: A1RSDE90N6RSZF\n",
    "review/profileName: Joseph M. Kotow\n",
    "review/helpfulness: 9/9\n",
    "review/score: 5.0\n",
    "review/time: 1042502400\n",
    "review/summary: Pittsburgh - Home of the OLDIES\n",
    "review/text: I have all of the doo wop DVD's and this one is as good or better than the\n",
    "1st ones. Remember once these performers are gone, we'll never get to see them again.\n",
    "Rhino did an excellent job and if you like or love doo wop and Rock n Roll you'll LOVE\n",
    "this DVD !!"
   ]
  },
  {
   "cell_type": "code",
   "execution_count": 4,
   "metadata": {
    "collapsed": false
   },
   "outputs": [
    {
     "data": {
      "text/plain": [
       "['product/productId: 1882931173\\n',\n",
       " 'product/title: Its Only Art If Its Well Hung!\\n',\n",
       " 'product/price: unknown\\n',\n",
       " 'review/userId: AVCGYZL8FQQTD\\n',\n",
       " 'review/profileName: Jim of Oz \"jim-of-oz\"\\n',\n",
       " 'review/helpfulness: 7/7\\n',\n",
       " 'review/score: 4.0\\n',\n",
       " 'review/time: 940636800\\n',\n",
       " 'review/summary: Nice collection of Julie Strain images\\n',\n",
       " \"review/text: This is only for Julie Strain fans. It's a collection of her photos -- about 80 pages worth with a nice section of paintings by Olivia.If you're looking for heavy literary content, this isn't the place to find it -- there's only about 2 pages with text and everything else is photos.Bottom line: if you only want one book, the Six Foot One ... is probably a better choice, however, if you like Julie like I like Julie, you won't go wrong on this one either.\\n\",\n",
       " '\\n',\n",
       " 'product/productId: 0826414346\\n',\n",
       " 'product/title: Dr. Seuss: American Icon\\n',\n",
       " 'product/price: unknown\\n',\n",
       " 'review/userId: A30TK6U7DNS82R\\n',\n",
       " 'review/profileName: Kevin Killian\\n',\n",
       " 'review/helpfulness: 10/10\\n',\n",
       " 'review/score: 5.0\\n',\n",
       " 'review/time: 1095724800\\n',\n",
       " 'review/summary: Really Enjoyed It\\n',\n",
       " \"review/text: I don't care much for Dr. Seuss but after reading Philip Nel's book I changed my mind--that's a good testimonial to the power of Rel's writing and thinking. Rel plays Dr. Seuss the ultimate compliment of treating him as a serious poet as well as one of the 20th century's most interesting visual artists, and after reading his book I decided that a trip to the Mandeville Collections of the library at University of California in San Diego was in order, so I could visit some of the incredible Seuss/Geisel holdings they have there.There's almost too much to take in, for, like William Butler Yeats, Seuss led a career that constantly shifted and metamoprhized itself to meet new historical and political cirsumstances, so he seems to have been both a leftist and a conservative at different junctures of his career, both in politics and in art. As Nel shows us, he was once a cartoonist for the fabled PM magazine and, like Andy Warhol, he served his time slaving in the ad business too. All was in the service of amusing and broadening the minds of US children. Nel doesn't hesitate to administer a sound spanking to the Seuss industry that, since his death, has seen fit to license all kinds of awful products including the recent CAT IN THE HAT film with Mike Myers. Oh, what a cat-astrophe!The book is great and I can especially recommend the work of the picture editor who has given us a bounty of good illustrations.\\n\"]"
      ]
     },
     "execution_count": 4,
     "metadata": {},
     "output_type": "execute_result"
    }
   ],
   "source": [
    "# removing b' from the data\n",
    "data = [x.replace(\"b'\", \"\").replace(\"\\\\n\", \"\") for x in data]\n",
    "data[:21]"
   ]
  },
  {
   "cell_type": "code",
   "execution_count": 5,
   "metadata": {
    "collapsed": true
   },
   "outputs": [],
   "source": [
    "# split the data to create key value pairs\n",
    "\n",
    "data_list = []\n",
    "data_dict = {}\n",
    "i = 0\n",
    "for lines in data:\n",
    "    if i!=3:\n",
    "        if (\"productId\" in lines) or (\"userId\" in lines) or (\"score:\" in lines):\n",
    "            temp_str = lines.split(\":\")\n",
    "            temp_str[1] = temp_str[1].strip(\" \").strip(\"\\'\")\n",
    "            data_dict[temp_str[0]] = temp_str[1]\n",
    "            i = i+1\n",
    "    else:\n",
    "        i = 0\n",
    "        data_list.append(data_dict)\n",
    "        data_dict = {}\n",
    "\n"
   ]
  },
  {
   "cell_type": "code",
   "execution_count": 6,
   "metadata": {
    "collapsed": false
   },
   "outputs": [
    {
     "data": {
      "text/plain": [
       "[{'product/productId': '1882931173\\n',\n",
       "  'review/score': '4.0\\n',\n",
       "  'review/userId': 'AVCGYZL8FQQTD\\n'},\n",
       " {'product/productId': '0826414346\\n',\n",
       "  'review/score': '5.0\\n',\n",
       "  'review/userId': 'A30TK6U7DNS82R\\n'},\n",
       " {'product/productId': '0826414346\\n',\n",
       "  'review/score': '5.0\\n',\n",
       "  'review/userId': 'A3UH4UZ4RSVO82\\n'},\n",
       " {'product/productId': '0826414346\\n',\n",
       "  'review/score': '4.0\\n',\n",
       "  'review/userId': 'A2MVUWT453QH61\\n'},\n",
       " {'product/productId': '0826414346\\n',\n",
       "  'review/score': '4.0\\n',\n",
       "  'review/userId': 'A22X4XUPKF66MR\\n'},\n",
       " {'product/productId': '0826414346\\n',\n",
       "  'review/score': '4.0\\n',\n",
       "  'review/userId': 'A2F6NONFUDB6UK\\n'},\n",
       " {'product/productId': '0826414346\\n',\n",
       "  'review/score': '5.0\\n',\n",
       "  'review/userId': 'A14OJS0VWMOSWO\\n'},\n",
       " {'product/productId': '0826414346\\n',\n",
       "  'review/score': '5.0\\n',\n",
       "  'review/userId': 'A2RSSXTDZDUSH4\\n'},\n",
       " {'product/productId': '0826414346\\n',\n",
       "  'review/score': '5.0\\n',\n",
       "  'review/userId': 'A25MD5I2GUIW6W\\n'},\n",
       " {'product/productId': '0826414346\\n',\n",
       "  'review/score': '4.0\\n',\n",
       "  'review/userId': 'A3VA4XFS5WNJO3\\n'}]"
      ]
     },
     "execution_count": 6,
     "metadata": {},
     "output_type": "execute_result"
    }
   ],
   "source": [
    "len(data_list)\n",
    "data_list[:10]"
   ]
  },
  {
   "cell_type": "code",
   "execution_count": 7,
   "metadata": {
    "collapsed": true
   },
   "outputs": [],
   "source": [
    "# importing pandas and converting this to a data_frame\n",
    "import pandas as pd\n",
    "from pandas.io.json import json_normalize"
   ]
  },
  {
   "cell_type": "code",
   "execution_count": 8,
   "metadata": {
    "collapsed": true
   },
   "outputs": [],
   "source": [
    "data_df = pd.DataFrame(json_normalize(data_list))"
   ]
  },
  {
   "cell_type": "code",
   "execution_count": 9,
   "metadata": {
    "collapsed": false
   },
   "outputs": [
    {
     "data": {
      "text/html": [
       "<div>\n",
       "<table border=\"1\" class=\"dataframe\">\n",
       "  <thead>\n",
       "    <tr style=\"text-align: right;\">\n",
       "      <th></th>\n",
       "      <th>ProductID</th>\n",
       "      <th>Review</th>\n",
       "      <th>UserID</th>\n",
       "    </tr>\n",
       "  </thead>\n",
       "  <tbody>\n",
       "    <tr>\n",
       "      <th>0</th>\n",
       "      <td>1882931173\\n</td>\n",
       "      <td>4.0</td>\n",
       "      <td>AVCGYZL8FQQTD\\n</td>\n",
       "    </tr>\n",
       "    <tr>\n",
       "      <th>1</th>\n",
       "      <td>0826414346\\n</td>\n",
       "      <td>5.0</td>\n",
       "      <td>A30TK6U7DNS82R\\n</td>\n",
       "    </tr>\n",
       "    <tr>\n",
       "      <th>2</th>\n",
       "      <td>0826414346\\n</td>\n",
       "      <td>5.0</td>\n",
       "      <td>A3UH4UZ4RSVO82\\n</td>\n",
       "    </tr>\n",
       "    <tr>\n",
       "      <th>3</th>\n",
       "      <td>0826414346\\n</td>\n",
       "      <td>4.0</td>\n",
       "      <td>A2MVUWT453QH61\\n</td>\n",
       "    </tr>\n",
       "    <tr>\n",
       "      <th>4</th>\n",
       "      <td>0826414346\\n</td>\n",
       "      <td>4.0</td>\n",
       "      <td>A22X4XUPKF66MR\\n</td>\n",
       "    </tr>\n",
       "    <tr>\n",
       "      <th>5</th>\n",
       "      <td>0826414346\\n</td>\n",
       "      <td>4.0</td>\n",
       "      <td>A2F6NONFUDB6UK\\n</td>\n",
       "    </tr>\n",
       "    <tr>\n",
       "      <th>6</th>\n",
       "      <td>0826414346\\n</td>\n",
       "      <td>5.0</td>\n",
       "      <td>A14OJS0VWMOSWO\\n</td>\n",
       "    </tr>\n",
       "    <tr>\n",
       "      <th>7</th>\n",
       "      <td>0826414346\\n</td>\n",
       "      <td>5.0</td>\n",
       "      <td>A2RSSXTDZDUSH4\\n</td>\n",
       "    </tr>\n",
       "    <tr>\n",
       "      <th>8</th>\n",
       "      <td>0826414346\\n</td>\n",
       "      <td>5.0</td>\n",
       "      <td>A25MD5I2GUIW6W\\n</td>\n",
       "    </tr>\n",
       "    <tr>\n",
       "      <th>9</th>\n",
       "      <td>0826414346\\n</td>\n",
       "      <td>4.0</td>\n",
       "      <td>A3VA4XFS5WNJO3\\n</td>\n",
       "    </tr>\n",
       "  </tbody>\n",
       "</table>\n",
       "</div>"
      ],
      "text/plain": [
       "      ProductID  Review            UserID\n",
       "0  1882931173\\n     4.0   AVCGYZL8FQQTD\\n\n",
       "1  0826414346\\n     5.0  A30TK6U7DNS82R\\n\n",
       "2  0826414346\\n     5.0  A3UH4UZ4RSVO82\\n\n",
       "3  0826414346\\n     4.0  A2MVUWT453QH61\\n\n",
       "4  0826414346\\n     4.0  A22X4XUPKF66MR\\n\n",
       "5  0826414346\\n     4.0  A2F6NONFUDB6UK\\n\n",
       "6  0826414346\\n     5.0  A14OJS0VWMOSWO\\n\n",
       "7  0826414346\\n     5.0  A2RSSXTDZDUSH4\\n\n",
       "8  0826414346\\n     5.0  A25MD5I2GUIW6W\\n\n",
       "9  0826414346\\n     4.0  A3VA4XFS5WNJO3\\n"
      ]
     },
     "execution_count": 9,
     "metadata": {},
     "output_type": "execute_result"
    }
   ],
   "source": [
    "data_df.columns = [\"ProductID\", \"Review\",\"UserID\"]\n",
    "data_df[\"Review\"] = data_df[\"Review\"].astype('float64')\n",
    "data_df.head(10)"
   ]
  },
  {
   "cell_type": "code",
   "execution_count": 10,
   "metadata": {
    "collapsed": false
   },
   "outputs": [],
   "source": [
    "data_df['ProductID'].value_counts()\n",
    "df = data_df[data_df['ProductID'] == 'B000N6DDJQ'] \n",
    "for val in df['UserID']:\n",
    "    df2 = data_df[data_df['UserID'] == val]\n",
    "    if (df2.shape[0] > 1) and (val != \"unknown\"):\n",
    "        print(df2)"
   ]
  },
  {
   "cell_type": "code",
   "execution_count": 11,
   "metadata": {
    "collapsed": false
   },
   "outputs": [
    {
     "data": {
      "text/html": [
       "<div>\n",
       "<table border=\"1\" class=\"dataframe\">\n",
       "  <thead>\n",
       "    <tr style=\"text-align: right;\">\n",
       "      <th></th>\n",
       "      <th>ProductID</th>\n",
       "      <th>Review</th>\n",
       "      <th>UserID</th>\n",
       "    </tr>\n",
       "  </thead>\n",
       "  <tbody>\n",
       "  </tbody>\n",
       "</table>\n",
       "</div>"
      ],
      "text/plain": [
       "Empty DataFrame\n",
       "Columns: [ProductID, Review, UserID]\n",
       "Index: []"
      ]
     },
     "execution_count": 11,
     "metadata": {},
     "output_type": "execute_result"
    }
   ],
   "source": [
    "data_df[data_df['UserID'] == \"AVWZ1I3S6YN7I\"]"
   ]
  },
  {
   "cell_type": "code",
   "execution_count": 12,
   "metadata": {
    "collapsed": false
   },
   "outputs": [
    {
     "data": {
      "text/html": [
       "<div>\n",
       "<table border=\"1\" class=\"dataframe\">\n",
       "  <thead>\n",
       "    <tr>\n",
       "      <th></th>\n",
       "      <th colspan=\"21\" halign=\"left\">Review</th>\n",
       "    </tr>\n",
       "    <tr>\n",
       "      <th>ProductID</th>\n",
       "      <th>0007106823\\n</th>\n",
       "      <th>0020794207\\n</th>\n",
       "      <th>0026204207\\n</th>\n",
       "      <th>006000486X\\n</th>\n",
       "      <th>0060539453\\n</th>\n",
       "      <th>0060539461\\n</th>\n",
       "      <th>0060550546\\n</th>\n",
       "      <th>0070434425\\n</th>\n",
       "      <th>0071374035\\n</th>\n",
       "      <th>0130215325\\n</th>\n",
       "      <th>...</th>\n",
       "      <th>B000OU191K\\n</th>\n",
       "      <th>B000OV6MFM\\n</th>\n",
       "      <th>B000OVBC52\\n</th>\n",
       "      <th>B000OXCBJQ\\n</th>\n",
       "      <th>B000P1D9AC\\n</th>\n",
       "      <th>B000PHTCGG\\n</th>\n",
       "      <th>B000PXNN4C\\n</th>\n",
       "      <th>B000Q9U9W4\\n</th>\n",
       "      <th>B000QFQ7XS\\n</th>\n",
       "      <th>B000R0GO80\\n</th>\n",
       "    </tr>\n",
       "    <tr>\n",
       "      <th>UserID</th>\n",
       "      <th></th>\n",
       "      <th></th>\n",
       "      <th></th>\n",
       "      <th></th>\n",
       "      <th></th>\n",
       "      <th></th>\n",
       "      <th></th>\n",
       "      <th></th>\n",
       "      <th></th>\n",
       "      <th></th>\n",
       "      <th></th>\n",
       "      <th></th>\n",
       "      <th></th>\n",
       "      <th></th>\n",
       "      <th></th>\n",
       "      <th></th>\n",
       "      <th></th>\n",
       "      <th></th>\n",
       "      <th></th>\n",
       "      <th></th>\n",
       "      <th></th>\n",
       "    </tr>\n",
       "  </thead>\n",
       "  <tbody>\n",
       "    <tr>\n",
       "      <th>A11O8YZRKJZGWB\\n</th>\n",
       "      <td>NaN</td>\n",
       "      <td>NaN</td>\n",
       "      <td>NaN</td>\n",
       "      <td>NaN</td>\n",
       "      <td>NaN</td>\n",
       "      <td>NaN</td>\n",
       "      <td>NaN</td>\n",
       "      <td>NaN</td>\n",
       "      <td>NaN</td>\n",
       "      <td>NaN</td>\n",
       "      <td>...</td>\n",
       "      <td>NaN</td>\n",
       "      <td>NaN</td>\n",
       "      <td>NaN</td>\n",
       "      <td>NaN</td>\n",
       "      <td>NaN</td>\n",
       "      <td>NaN</td>\n",
       "      <td>NaN</td>\n",
       "      <td>NaN</td>\n",
       "      <td>NaN</td>\n",
       "      <td>NaN</td>\n",
       "    </tr>\n",
       "    <tr>\n",
       "      <th>A11OJX0HSJR4VC\\n</th>\n",
       "      <td>NaN</td>\n",
       "      <td>NaN</td>\n",
       "      <td>NaN</td>\n",
       "      <td>NaN</td>\n",
       "      <td>NaN</td>\n",
       "      <td>NaN</td>\n",
       "      <td>NaN</td>\n",
       "      <td>NaN</td>\n",
       "      <td>NaN</td>\n",
       "      <td>NaN</td>\n",
       "      <td>...</td>\n",
       "      <td>NaN</td>\n",
       "      <td>NaN</td>\n",
       "      <td>NaN</td>\n",
       "      <td>NaN</td>\n",
       "      <td>NaN</td>\n",
       "      <td>NaN</td>\n",
       "      <td>NaN</td>\n",
       "      <td>NaN</td>\n",
       "      <td>NaN</td>\n",
       "      <td>NaN</td>\n",
       "    </tr>\n",
       "    <tr>\n",
       "      <th>A11Q8YDDWF0WKJ\\n</th>\n",
       "      <td>NaN</td>\n",
       "      <td>NaN</td>\n",
       "      <td>NaN</td>\n",
       "      <td>NaN</td>\n",
       "      <td>NaN</td>\n",
       "      <td>NaN</td>\n",
       "      <td>NaN</td>\n",
       "      <td>NaN</td>\n",
       "      <td>NaN</td>\n",
       "      <td>NaN</td>\n",
       "      <td>...</td>\n",
       "      <td>NaN</td>\n",
       "      <td>NaN</td>\n",
       "      <td>NaN</td>\n",
       "      <td>NaN</td>\n",
       "      <td>NaN</td>\n",
       "      <td>NaN</td>\n",
       "      <td>NaN</td>\n",
       "      <td>NaN</td>\n",
       "      <td>NaN</td>\n",
       "      <td>NaN</td>\n",
       "    </tr>\n",
       "    <tr>\n",
       "      <th>A11QJKE828DJJ7\\n</th>\n",
       "      <td>NaN</td>\n",
       "      <td>NaN</td>\n",
       "      <td>NaN</td>\n",
       "      <td>NaN</td>\n",
       "      <td>NaN</td>\n",
       "      <td>NaN</td>\n",
       "      <td>NaN</td>\n",
       "      <td>NaN</td>\n",
       "      <td>NaN</td>\n",
       "      <td>NaN</td>\n",
       "      <td>...</td>\n",
       "      <td>NaN</td>\n",
       "      <td>NaN</td>\n",
       "      <td>NaN</td>\n",
       "      <td>NaN</td>\n",
       "      <td>NaN</td>\n",
       "      <td>NaN</td>\n",
       "      <td>NaN</td>\n",
       "      <td>NaN</td>\n",
       "      <td>NaN</td>\n",
       "      <td>NaN</td>\n",
       "    </tr>\n",
       "    <tr>\n",
       "      <th>A11TWX8H0LNKW0\\n</th>\n",
       "      <td>NaN</td>\n",
       "      <td>NaN</td>\n",
       "      <td>NaN</td>\n",
       "      <td>NaN</td>\n",
       "      <td>NaN</td>\n",
       "      <td>NaN</td>\n",
       "      <td>NaN</td>\n",
       "      <td>NaN</td>\n",
       "      <td>NaN</td>\n",
       "      <td>NaN</td>\n",
       "      <td>...</td>\n",
       "      <td>NaN</td>\n",
       "      <td>NaN</td>\n",
       "      <td>NaN</td>\n",
       "      <td>NaN</td>\n",
       "      <td>NaN</td>\n",
       "      <td>NaN</td>\n",
       "      <td>NaN</td>\n",
       "      <td>NaN</td>\n",
       "      <td>NaN</td>\n",
       "      <td>NaN</td>\n",
       "    </tr>\n",
       "    <tr>\n",
       "      <th>A11VN50ZKFNYH5\\n</th>\n",
       "      <td>NaN</td>\n",
       "      <td>NaN</td>\n",
       "      <td>NaN</td>\n",
       "      <td>NaN</td>\n",
       "      <td>NaN</td>\n",
       "      <td>NaN</td>\n",
       "      <td>NaN</td>\n",
       "      <td>NaN</td>\n",
       "      <td>NaN</td>\n",
       "      <td>NaN</td>\n",
       "      <td>...</td>\n",
       "      <td>NaN</td>\n",
       "      <td>NaN</td>\n",
       "      <td>NaN</td>\n",
       "      <td>NaN</td>\n",
       "      <td>NaN</td>\n",
       "      <td>NaN</td>\n",
       "      <td>NaN</td>\n",
       "      <td>NaN</td>\n",
       "      <td>NaN</td>\n",
       "      <td>NaN</td>\n",
       "    </tr>\n",
       "    <tr>\n",
       "      <th>A11WWPGDSJMYVN\\n</th>\n",
       "      <td>NaN</td>\n",
       "      <td>NaN</td>\n",
       "      <td>NaN</td>\n",
       "      <td>NaN</td>\n",
       "      <td>NaN</td>\n",
       "      <td>NaN</td>\n",
       "      <td>NaN</td>\n",
       "      <td>NaN</td>\n",
       "      <td>NaN</td>\n",
       "      <td>NaN</td>\n",
       "      <td>...</td>\n",
       "      <td>NaN</td>\n",
       "      <td>NaN</td>\n",
       "      <td>NaN</td>\n",
       "      <td>NaN</td>\n",
       "      <td>NaN</td>\n",
       "      <td>NaN</td>\n",
       "      <td>NaN</td>\n",
       "      <td>NaN</td>\n",
       "      <td>NaN</td>\n",
       "      <td>NaN</td>\n",
       "    </tr>\n",
       "    <tr>\n",
       "      <th>A11YFPCJ1G0OK1\\n</th>\n",
       "      <td>NaN</td>\n",
       "      <td>NaN</td>\n",
       "      <td>NaN</td>\n",
       "      <td>NaN</td>\n",
       "      <td>NaN</td>\n",
       "      <td>NaN</td>\n",
       "      <td>NaN</td>\n",
       "      <td>NaN</td>\n",
       "      <td>NaN</td>\n",
       "      <td>NaN</td>\n",
       "      <td>...</td>\n",
       "      <td>NaN</td>\n",
       "      <td>NaN</td>\n",
       "      <td>NaN</td>\n",
       "      <td>NaN</td>\n",
       "      <td>NaN</td>\n",
       "      <td>NaN</td>\n",
       "      <td>NaN</td>\n",
       "      <td>NaN</td>\n",
       "      <td>NaN</td>\n",
       "      <td>NaN</td>\n",
       "    </tr>\n",
       "    <tr>\n",
       "      <th>A11YHA1ZGKTY6\\n</th>\n",
       "      <td>NaN</td>\n",
       "      <td>NaN</td>\n",
       "      <td>NaN</td>\n",
       "      <td>NaN</td>\n",
       "      <td>NaN</td>\n",
       "      <td>NaN</td>\n",
       "      <td>NaN</td>\n",
       "      <td>NaN</td>\n",
       "      <td>NaN</td>\n",
       "      <td>NaN</td>\n",
       "      <td>...</td>\n",
       "      <td>NaN</td>\n",
       "      <td>NaN</td>\n",
       "      <td>NaN</td>\n",
       "      <td>NaN</td>\n",
       "      <td>NaN</td>\n",
       "      <td>NaN</td>\n",
       "      <td>NaN</td>\n",
       "      <td>NaN</td>\n",
       "      <td>NaN</td>\n",
       "      <td>NaN</td>\n",
       "    </tr>\n",
       "    <tr>\n",
       "      <th>A11ZBFET1A9IVS\\n</th>\n",
       "      <td>NaN</td>\n",
       "      <td>NaN</td>\n",
       "      <td>NaN</td>\n",
       "      <td>NaN</td>\n",
       "      <td>NaN</td>\n",
       "      <td>NaN</td>\n",
       "      <td>NaN</td>\n",
       "      <td>NaN</td>\n",
       "      <td>NaN</td>\n",
       "      <td>NaN</td>\n",
       "      <td>...</td>\n",
       "      <td>NaN</td>\n",
       "      <td>NaN</td>\n",
       "      <td>NaN</td>\n",
       "      <td>NaN</td>\n",
       "      <td>NaN</td>\n",
       "      <td>NaN</td>\n",
       "      <td>NaN</td>\n",
       "      <td>NaN</td>\n",
       "      <td>NaN</td>\n",
       "      <td>NaN</td>\n",
       "    </tr>\n",
       "    <tr>\n",
       "      <th>A122H2TEE3VUKW\\n</th>\n",
       "      <td>NaN</td>\n",
       "      <td>NaN</td>\n",
       "      <td>NaN</td>\n",
       "      <td>NaN</td>\n",
       "      <td>NaN</td>\n",
       "      <td>NaN</td>\n",
       "      <td>NaN</td>\n",
       "      <td>NaN</td>\n",
       "      <td>NaN</td>\n",
       "      <td>NaN</td>\n",
       "      <td>...</td>\n",
       "      <td>NaN</td>\n",
       "      <td>NaN</td>\n",
       "      <td>NaN</td>\n",
       "      <td>NaN</td>\n",
       "      <td>NaN</td>\n",
       "      <td>NaN</td>\n",
       "      <td>NaN</td>\n",
       "      <td>NaN</td>\n",
       "      <td>NaN</td>\n",
       "      <td>NaN</td>\n",
       "    </tr>\n",
       "    <tr>\n",
       "      <th>A1233PVJQKHML1\\n</th>\n",
       "      <td>NaN</td>\n",
       "      <td>NaN</td>\n",
       "      <td>NaN</td>\n",
       "      <td>NaN</td>\n",
       "      <td>NaN</td>\n",
       "      <td>NaN</td>\n",
       "      <td>NaN</td>\n",
       "      <td>NaN</td>\n",
       "      <td>NaN</td>\n",
       "      <td>NaN</td>\n",
       "      <td>...</td>\n",
       "      <td>NaN</td>\n",
       "      <td>NaN</td>\n",
       "      <td>NaN</td>\n",
       "      <td>NaN</td>\n",
       "      <td>NaN</td>\n",
       "      <td>NaN</td>\n",
       "      <td>NaN</td>\n",
       "      <td>NaN</td>\n",
       "      <td>NaN</td>\n",
       "      <td>NaN</td>\n",
       "    </tr>\n",
       "    <tr>\n",
       "      <th>A1237ROTM7659\\n</th>\n",
       "      <td>NaN</td>\n",
       "      <td>NaN</td>\n",
       "      <td>NaN</td>\n",
       "      <td>NaN</td>\n",
       "      <td>NaN</td>\n",
       "      <td>NaN</td>\n",
       "      <td>NaN</td>\n",
       "      <td>NaN</td>\n",
       "      <td>NaN</td>\n",
       "      <td>NaN</td>\n",
       "      <td>...</td>\n",
       "      <td>NaN</td>\n",
       "      <td>NaN</td>\n",
       "      <td>NaN</td>\n",
       "      <td>NaN</td>\n",
       "      <td>NaN</td>\n",
       "      <td>NaN</td>\n",
       "      <td>NaN</td>\n",
       "      <td>NaN</td>\n",
       "      <td>NaN</td>\n",
       "      <td>NaN</td>\n",
       "    </tr>\n",
       "    <tr>\n",
       "      <th>A124AVJOERDIS8\\n</th>\n",
       "      <td>NaN</td>\n",
       "      <td>NaN</td>\n",
       "      <td>NaN</td>\n",
       "      <td>NaN</td>\n",
       "      <td>NaN</td>\n",
       "      <td>NaN</td>\n",
       "      <td>NaN</td>\n",
       "      <td>NaN</td>\n",
       "      <td>NaN</td>\n",
       "      <td>NaN</td>\n",
       "      <td>...</td>\n",
       "      <td>NaN</td>\n",
       "      <td>NaN</td>\n",
       "      <td>NaN</td>\n",
       "      <td>NaN</td>\n",
       "      <td>NaN</td>\n",
       "      <td>NaN</td>\n",
       "      <td>NaN</td>\n",
       "      <td>NaN</td>\n",
       "      <td>NaN</td>\n",
       "      <td>NaN</td>\n",
       "    </tr>\n",
       "    <tr>\n",
       "      <th>A126KX6FVI4T66\\n</th>\n",
       "      <td>NaN</td>\n",
       "      <td>NaN</td>\n",
       "      <td>NaN</td>\n",
       "      <td>NaN</td>\n",
       "      <td>NaN</td>\n",
       "      <td>NaN</td>\n",
       "      <td>NaN</td>\n",
       "      <td>NaN</td>\n",
       "      <td>NaN</td>\n",
       "      <td>NaN</td>\n",
       "      <td>...</td>\n",
       "      <td>NaN</td>\n",
       "      <td>NaN</td>\n",
       "      <td>NaN</td>\n",
       "      <td>NaN</td>\n",
       "      <td>NaN</td>\n",
       "      <td>NaN</td>\n",
       "      <td>NaN</td>\n",
       "      <td>NaN</td>\n",
       "      <td>NaN</td>\n",
       "      <td>NaN</td>\n",
       "    </tr>\n",
       "    <tr>\n",
       "      <th>A127ML5GWE8QWH\\n</th>\n",
       "      <td>NaN</td>\n",
       "      <td>NaN</td>\n",
       "      <td>NaN</td>\n",
       "      <td>NaN</td>\n",
       "      <td>NaN</td>\n",
       "      <td>NaN</td>\n",
       "      <td>NaN</td>\n",
       "      <td>NaN</td>\n",
       "      <td>NaN</td>\n",
       "      <td>NaN</td>\n",
       "      <td>...</td>\n",
       "      <td>NaN</td>\n",
       "      <td>NaN</td>\n",
       "      <td>NaN</td>\n",
       "      <td>NaN</td>\n",
       "      <td>NaN</td>\n",
       "      <td>NaN</td>\n",
       "      <td>NaN</td>\n",
       "      <td>NaN</td>\n",
       "      <td>NaN</td>\n",
       "      <td>NaN</td>\n",
       "    </tr>\n",
       "    <tr>\n",
       "      <th>A128K8GL4DJYTQ\\n</th>\n",
       "      <td>NaN</td>\n",
       "      <td>NaN</td>\n",
       "      <td>NaN</td>\n",
       "      <td>NaN</td>\n",
       "      <td>NaN</td>\n",
       "      <td>NaN</td>\n",
       "      <td>NaN</td>\n",
       "      <td>NaN</td>\n",
       "      <td>NaN</td>\n",
       "      <td>NaN</td>\n",
       "      <td>...</td>\n",
       "      <td>NaN</td>\n",
       "      <td>NaN</td>\n",
       "      <td>NaN</td>\n",
       "      <td>NaN</td>\n",
       "      <td>NaN</td>\n",
       "      <td>NaN</td>\n",
       "      <td>NaN</td>\n",
       "      <td>NaN</td>\n",
       "      <td>NaN</td>\n",
       "      <td>NaN</td>\n",
       "    </tr>\n",
       "    <tr>\n",
       "      <th>A12A08OL0TZY0W\\n</th>\n",
       "      <td>NaN</td>\n",
       "      <td>NaN</td>\n",
       "      <td>NaN</td>\n",
       "      <td>NaN</td>\n",
       "      <td>NaN</td>\n",
       "      <td>NaN</td>\n",
       "      <td>NaN</td>\n",
       "      <td>NaN</td>\n",
       "      <td>NaN</td>\n",
       "      <td>NaN</td>\n",
       "      <td>...</td>\n",
       "      <td>NaN</td>\n",
       "      <td>NaN</td>\n",
       "      <td>NaN</td>\n",
       "      <td>NaN</td>\n",
       "      <td>NaN</td>\n",
       "      <td>NaN</td>\n",
       "      <td>NaN</td>\n",
       "      <td>NaN</td>\n",
       "      <td>NaN</td>\n",
       "      <td>NaN</td>\n",
       "    </tr>\n",
       "    <tr>\n",
       "      <th>A12BU50HNBM1Y9\\n</th>\n",
       "      <td>NaN</td>\n",
       "      <td>NaN</td>\n",
       "      <td>NaN</td>\n",
       "      <td>NaN</td>\n",
       "      <td>NaN</td>\n",
       "      <td>NaN</td>\n",
       "      <td>NaN</td>\n",
       "      <td>NaN</td>\n",
       "      <td>NaN</td>\n",
       "      <td>NaN</td>\n",
       "      <td>...</td>\n",
       "      <td>NaN</td>\n",
       "      <td>NaN</td>\n",
       "      <td>NaN</td>\n",
       "      <td>NaN</td>\n",
       "      <td>NaN</td>\n",
       "      <td>NaN</td>\n",
       "      <td>NaN</td>\n",
       "      <td>NaN</td>\n",
       "      <td>NaN</td>\n",
       "      <td>NaN</td>\n",
       "    </tr>\n",
       "    <tr>\n",
       "      <th>A12HLBWCOXVD8\\n</th>\n",
       "      <td>NaN</td>\n",
       "      <td>NaN</td>\n",
       "      <td>NaN</td>\n",
       "      <td>NaN</td>\n",
       "      <td>NaN</td>\n",
       "      <td>NaN</td>\n",
       "      <td>NaN</td>\n",
       "      <td>NaN</td>\n",
       "      <td>NaN</td>\n",
       "      <td>NaN</td>\n",
       "      <td>...</td>\n",
       "      <td>NaN</td>\n",
       "      <td>NaN</td>\n",
       "      <td>NaN</td>\n",
       "      <td>NaN</td>\n",
       "      <td>NaN</td>\n",
       "      <td>NaN</td>\n",
       "      <td>NaN</td>\n",
       "      <td>NaN</td>\n",
       "      <td>NaN</td>\n",
       "      <td>NaN</td>\n",
       "    </tr>\n",
       "    <tr>\n",
       "      <th>A12KDW2EB3JOLH\\n</th>\n",
       "      <td>NaN</td>\n",
       "      <td>NaN</td>\n",
       "      <td>NaN</td>\n",
       "      <td>NaN</td>\n",
       "      <td>NaN</td>\n",
       "      <td>NaN</td>\n",
       "      <td>NaN</td>\n",
       "      <td>NaN</td>\n",
       "      <td>NaN</td>\n",
       "      <td>NaN</td>\n",
       "      <td>...</td>\n",
       "      <td>NaN</td>\n",
       "      <td>NaN</td>\n",
       "      <td>NaN</td>\n",
       "      <td>NaN</td>\n",
       "      <td>NaN</td>\n",
       "      <td>NaN</td>\n",
       "      <td>NaN</td>\n",
       "      <td>NaN</td>\n",
       "      <td>NaN</td>\n",
       "      <td>NaN</td>\n",
       "    </tr>\n",
       "    <tr>\n",
       "      <th>A12LY5F2ZSV0QA\\n</th>\n",
       "      <td>NaN</td>\n",
       "      <td>NaN</td>\n",
       "      <td>NaN</td>\n",
       "      <td>NaN</td>\n",
       "      <td>NaN</td>\n",
       "      <td>NaN</td>\n",
       "      <td>NaN</td>\n",
       "      <td>NaN</td>\n",
       "      <td>NaN</td>\n",
       "      <td>NaN</td>\n",
       "      <td>...</td>\n",
       "      <td>NaN</td>\n",
       "      <td>NaN</td>\n",
       "      <td>NaN</td>\n",
       "      <td>NaN</td>\n",
       "      <td>NaN</td>\n",
       "      <td>NaN</td>\n",
       "      <td>NaN</td>\n",
       "      <td>NaN</td>\n",
       "      <td>NaN</td>\n",
       "      <td>NaN</td>\n",
       "    </tr>\n",
       "    <tr>\n",
       "      <th>A12M1WWAGSH35S\\n</th>\n",
       "      <td>NaN</td>\n",
       "      <td>NaN</td>\n",
       "      <td>NaN</td>\n",
       "      <td>NaN</td>\n",
       "      <td>NaN</td>\n",
       "      <td>NaN</td>\n",
       "      <td>NaN</td>\n",
       "      <td>NaN</td>\n",
       "      <td>NaN</td>\n",
       "      <td>NaN</td>\n",
       "      <td>...</td>\n",
       "      <td>NaN</td>\n",
       "      <td>NaN</td>\n",
       "      <td>NaN</td>\n",
       "      <td>NaN</td>\n",
       "      <td>NaN</td>\n",
       "      <td>NaN</td>\n",
       "      <td>NaN</td>\n",
       "      <td>NaN</td>\n",
       "      <td>NaN</td>\n",
       "      <td>NaN</td>\n",
       "    </tr>\n",
       "    <tr>\n",
       "      <th>A12MB2XSTTED3U\\n</th>\n",
       "      <td>NaN</td>\n",
       "      <td>NaN</td>\n",
       "      <td>NaN</td>\n",
       "      <td>NaN</td>\n",
       "      <td>NaN</td>\n",
       "      <td>NaN</td>\n",
       "      <td>NaN</td>\n",
       "      <td>NaN</td>\n",
       "      <td>NaN</td>\n",
       "      <td>NaN</td>\n",
       "      <td>...</td>\n",
       "      <td>NaN</td>\n",
       "      <td>NaN</td>\n",
       "      <td>NaN</td>\n",
       "      <td>NaN</td>\n",
       "      <td>NaN</td>\n",
       "      <td>NaN</td>\n",
       "      <td>NaN</td>\n",
       "      <td>NaN</td>\n",
       "      <td>NaN</td>\n",
       "      <td>NaN</td>\n",
       "    </tr>\n",
       "    <tr>\n",
       "      <th>A12OXTS9Z6X88T\\n</th>\n",
       "      <td>NaN</td>\n",
       "      <td>NaN</td>\n",
       "      <td>NaN</td>\n",
       "      <td>NaN</td>\n",
       "      <td>NaN</td>\n",
       "      <td>NaN</td>\n",
       "      <td>NaN</td>\n",
       "      <td>NaN</td>\n",
       "      <td>NaN</td>\n",
       "      <td>NaN</td>\n",
       "      <td>...</td>\n",
       "      <td>NaN</td>\n",
       "      <td>NaN</td>\n",
       "      <td>NaN</td>\n",
       "      <td>NaN</td>\n",
       "      <td>NaN</td>\n",
       "      <td>NaN</td>\n",
       "      <td>NaN</td>\n",
       "      <td>NaN</td>\n",
       "      <td>NaN</td>\n",
       "      <td>NaN</td>\n",
       "    </tr>\n",
       "  </tbody>\n",
       "</table>\n",
       "<p>25 rows × 419 columns</p>\n",
       "</div>"
      ],
      "text/plain": [
       "                       Review                                         \\\n",
       "ProductID        0007106823\\n 0020794207\\n 0026204207\\n 006000486X\\n   \n",
       "UserID                                                                 \n",
       "A11O8YZRKJZGWB\\n          NaN          NaN          NaN          NaN   \n",
       "A11OJX0HSJR4VC\\n          NaN          NaN          NaN          NaN   \n",
       "A11Q8YDDWF0WKJ\\n          NaN          NaN          NaN          NaN   \n",
       "A11QJKE828DJJ7\\n          NaN          NaN          NaN          NaN   \n",
       "A11TWX8H0LNKW0\\n          NaN          NaN          NaN          NaN   \n",
       "A11VN50ZKFNYH5\\n          NaN          NaN          NaN          NaN   \n",
       "A11WWPGDSJMYVN\\n          NaN          NaN          NaN          NaN   \n",
       "A11YFPCJ1G0OK1\\n          NaN          NaN          NaN          NaN   \n",
       "A11YHA1ZGKTY6\\n           NaN          NaN          NaN          NaN   \n",
       "A11ZBFET1A9IVS\\n          NaN          NaN          NaN          NaN   \n",
       "A122H2TEE3VUKW\\n          NaN          NaN          NaN          NaN   \n",
       "A1233PVJQKHML1\\n          NaN          NaN          NaN          NaN   \n",
       "A1237ROTM7659\\n           NaN          NaN          NaN          NaN   \n",
       "A124AVJOERDIS8\\n          NaN          NaN          NaN          NaN   \n",
       "A126KX6FVI4T66\\n          NaN          NaN          NaN          NaN   \n",
       "A127ML5GWE8QWH\\n          NaN          NaN          NaN          NaN   \n",
       "A128K8GL4DJYTQ\\n          NaN          NaN          NaN          NaN   \n",
       "A12A08OL0TZY0W\\n          NaN          NaN          NaN          NaN   \n",
       "A12BU50HNBM1Y9\\n          NaN          NaN          NaN          NaN   \n",
       "A12HLBWCOXVD8\\n           NaN          NaN          NaN          NaN   \n",
       "A12KDW2EB3JOLH\\n          NaN          NaN          NaN          NaN   \n",
       "A12LY5F2ZSV0QA\\n          NaN          NaN          NaN          NaN   \n",
       "A12M1WWAGSH35S\\n          NaN          NaN          NaN          NaN   \n",
       "A12MB2XSTTED3U\\n          NaN          NaN          NaN          NaN   \n",
       "A12OXTS9Z6X88T\\n          NaN          NaN          NaN          NaN   \n",
       "\n",
       "                                                                      \\\n",
       "ProductID        0060539453\\n 0060539461\\n 0060550546\\n 0070434425\\n   \n",
       "UserID                                                                 \n",
       "A11O8YZRKJZGWB\\n          NaN          NaN          NaN          NaN   \n",
       "A11OJX0HSJR4VC\\n          NaN          NaN          NaN          NaN   \n",
       "A11Q8YDDWF0WKJ\\n          NaN          NaN          NaN          NaN   \n",
       "A11QJKE828DJJ7\\n          NaN          NaN          NaN          NaN   \n",
       "A11TWX8H0LNKW0\\n          NaN          NaN          NaN          NaN   \n",
       "A11VN50ZKFNYH5\\n          NaN          NaN          NaN          NaN   \n",
       "A11WWPGDSJMYVN\\n          NaN          NaN          NaN          NaN   \n",
       "A11YFPCJ1G0OK1\\n          NaN          NaN          NaN          NaN   \n",
       "A11YHA1ZGKTY6\\n           NaN          NaN          NaN          NaN   \n",
       "A11ZBFET1A9IVS\\n          NaN          NaN          NaN          NaN   \n",
       "A122H2TEE3VUKW\\n          NaN          NaN          NaN          NaN   \n",
       "A1233PVJQKHML1\\n          NaN          NaN          NaN          NaN   \n",
       "A1237ROTM7659\\n           NaN          NaN          NaN          NaN   \n",
       "A124AVJOERDIS8\\n          NaN          NaN          NaN          NaN   \n",
       "A126KX6FVI4T66\\n          NaN          NaN          NaN          NaN   \n",
       "A127ML5GWE8QWH\\n          NaN          NaN          NaN          NaN   \n",
       "A128K8GL4DJYTQ\\n          NaN          NaN          NaN          NaN   \n",
       "A12A08OL0TZY0W\\n          NaN          NaN          NaN          NaN   \n",
       "A12BU50HNBM1Y9\\n          NaN          NaN          NaN          NaN   \n",
       "A12HLBWCOXVD8\\n           NaN          NaN          NaN          NaN   \n",
       "A12KDW2EB3JOLH\\n          NaN          NaN          NaN          NaN   \n",
       "A12LY5F2ZSV0QA\\n          NaN          NaN          NaN          NaN   \n",
       "A12M1WWAGSH35S\\n          NaN          NaN          NaN          NaN   \n",
       "A12MB2XSTTED3U\\n          NaN          NaN          NaN          NaN   \n",
       "A12OXTS9Z6X88T\\n          NaN          NaN          NaN          NaN   \n",
       "\n",
       "                                               ...                    \\\n",
       "ProductID        0071374035\\n 0130215325\\n     ...      B000OU191K\\n   \n",
       "UserID                                         ...                     \n",
       "A11O8YZRKJZGWB\\n          NaN          NaN     ...               NaN   \n",
       "A11OJX0HSJR4VC\\n          NaN          NaN     ...               NaN   \n",
       "A11Q8YDDWF0WKJ\\n          NaN          NaN     ...               NaN   \n",
       "A11QJKE828DJJ7\\n          NaN          NaN     ...               NaN   \n",
       "A11TWX8H0LNKW0\\n          NaN          NaN     ...               NaN   \n",
       "A11VN50ZKFNYH5\\n          NaN          NaN     ...               NaN   \n",
       "A11WWPGDSJMYVN\\n          NaN          NaN     ...               NaN   \n",
       "A11YFPCJ1G0OK1\\n          NaN          NaN     ...               NaN   \n",
       "A11YHA1ZGKTY6\\n           NaN          NaN     ...               NaN   \n",
       "A11ZBFET1A9IVS\\n          NaN          NaN     ...               NaN   \n",
       "A122H2TEE3VUKW\\n          NaN          NaN     ...               NaN   \n",
       "A1233PVJQKHML1\\n          NaN          NaN     ...               NaN   \n",
       "A1237ROTM7659\\n           NaN          NaN     ...               NaN   \n",
       "A124AVJOERDIS8\\n          NaN          NaN     ...               NaN   \n",
       "A126KX6FVI4T66\\n          NaN          NaN     ...               NaN   \n",
       "A127ML5GWE8QWH\\n          NaN          NaN     ...               NaN   \n",
       "A128K8GL4DJYTQ\\n          NaN          NaN     ...               NaN   \n",
       "A12A08OL0TZY0W\\n          NaN          NaN     ...               NaN   \n",
       "A12BU50HNBM1Y9\\n          NaN          NaN     ...               NaN   \n",
       "A12HLBWCOXVD8\\n           NaN          NaN     ...               NaN   \n",
       "A12KDW2EB3JOLH\\n          NaN          NaN     ...               NaN   \n",
       "A12LY5F2ZSV0QA\\n          NaN          NaN     ...               NaN   \n",
       "A12M1WWAGSH35S\\n          NaN          NaN     ...               NaN   \n",
       "A12MB2XSTTED3U\\n          NaN          NaN     ...               NaN   \n",
       "A12OXTS9Z6X88T\\n          NaN          NaN     ...               NaN   \n",
       "\n",
       "                                                                      \\\n",
       "ProductID        B000OV6MFM\\n B000OVBC52\\n B000OXCBJQ\\n B000P1D9AC\\n   \n",
       "UserID                                                                 \n",
       "A11O8YZRKJZGWB\\n          NaN          NaN          NaN          NaN   \n",
       "A11OJX0HSJR4VC\\n          NaN          NaN          NaN          NaN   \n",
       "A11Q8YDDWF0WKJ\\n          NaN          NaN          NaN          NaN   \n",
       "A11QJKE828DJJ7\\n          NaN          NaN          NaN          NaN   \n",
       "A11TWX8H0LNKW0\\n          NaN          NaN          NaN          NaN   \n",
       "A11VN50ZKFNYH5\\n          NaN          NaN          NaN          NaN   \n",
       "A11WWPGDSJMYVN\\n          NaN          NaN          NaN          NaN   \n",
       "A11YFPCJ1G0OK1\\n          NaN          NaN          NaN          NaN   \n",
       "A11YHA1ZGKTY6\\n           NaN          NaN          NaN          NaN   \n",
       "A11ZBFET1A9IVS\\n          NaN          NaN          NaN          NaN   \n",
       "A122H2TEE3VUKW\\n          NaN          NaN          NaN          NaN   \n",
       "A1233PVJQKHML1\\n          NaN          NaN          NaN          NaN   \n",
       "A1237ROTM7659\\n           NaN          NaN          NaN          NaN   \n",
       "A124AVJOERDIS8\\n          NaN          NaN          NaN          NaN   \n",
       "A126KX6FVI4T66\\n          NaN          NaN          NaN          NaN   \n",
       "A127ML5GWE8QWH\\n          NaN          NaN          NaN          NaN   \n",
       "A128K8GL4DJYTQ\\n          NaN          NaN          NaN          NaN   \n",
       "A12A08OL0TZY0W\\n          NaN          NaN          NaN          NaN   \n",
       "A12BU50HNBM1Y9\\n          NaN          NaN          NaN          NaN   \n",
       "A12HLBWCOXVD8\\n           NaN          NaN          NaN          NaN   \n",
       "A12KDW2EB3JOLH\\n          NaN          NaN          NaN          NaN   \n",
       "A12LY5F2ZSV0QA\\n          NaN          NaN          NaN          NaN   \n",
       "A12M1WWAGSH35S\\n          NaN          NaN          NaN          NaN   \n",
       "A12MB2XSTTED3U\\n          NaN          NaN          NaN          NaN   \n",
       "A12OXTS9Z6X88T\\n          NaN          NaN          NaN          NaN   \n",
       "\n",
       "                                                                      \\\n",
       "ProductID        B000PHTCGG\\n B000PXNN4C\\n B000Q9U9W4\\n B000QFQ7XS\\n   \n",
       "UserID                                                                 \n",
       "A11O8YZRKJZGWB\\n          NaN          NaN          NaN          NaN   \n",
       "A11OJX0HSJR4VC\\n          NaN          NaN          NaN          NaN   \n",
       "A11Q8YDDWF0WKJ\\n          NaN          NaN          NaN          NaN   \n",
       "A11QJKE828DJJ7\\n          NaN          NaN          NaN          NaN   \n",
       "A11TWX8H0LNKW0\\n          NaN          NaN          NaN          NaN   \n",
       "A11VN50ZKFNYH5\\n          NaN          NaN          NaN          NaN   \n",
       "A11WWPGDSJMYVN\\n          NaN          NaN          NaN          NaN   \n",
       "A11YFPCJ1G0OK1\\n          NaN          NaN          NaN          NaN   \n",
       "A11YHA1ZGKTY6\\n           NaN          NaN          NaN          NaN   \n",
       "A11ZBFET1A9IVS\\n          NaN          NaN          NaN          NaN   \n",
       "A122H2TEE3VUKW\\n          NaN          NaN          NaN          NaN   \n",
       "A1233PVJQKHML1\\n          NaN          NaN          NaN          NaN   \n",
       "A1237ROTM7659\\n           NaN          NaN          NaN          NaN   \n",
       "A124AVJOERDIS8\\n          NaN          NaN          NaN          NaN   \n",
       "A126KX6FVI4T66\\n          NaN          NaN          NaN          NaN   \n",
       "A127ML5GWE8QWH\\n          NaN          NaN          NaN          NaN   \n",
       "A128K8GL4DJYTQ\\n          NaN          NaN          NaN          NaN   \n",
       "A12A08OL0TZY0W\\n          NaN          NaN          NaN          NaN   \n",
       "A12BU50HNBM1Y9\\n          NaN          NaN          NaN          NaN   \n",
       "A12HLBWCOXVD8\\n           NaN          NaN          NaN          NaN   \n",
       "A12KDW2EB3JOLH\\n          NaN          NaN          NaN          NaN   \n",
       "A12LY5F2ZSV0QA\\n          NaN          NaN          NaN          NaN   \n",
       "A12M1WWAGSH35S\\n          NaN          NaN          NaN          NaN   \n",
       "A12MB2XSTTED3U\\n          NaN          NaN          NaN          NaN   \n",
       "A12OXTS9Z6X88T\\n          NaN          NaN          NaN          NaN   \n",
       "\n",
       "                               \n",
       "ProductID        B000R0GO80\\n  \n",
       "UserID                         \n",
       "A11O8YZRKJZGWB\\n          NaN  \n",
       "A11OJX0HSJR4VC\\n          NaN  \n",
       "A11Q8YDDWF0WKJ\\n          NaN  \n",
       "A11QJKE828DJJ7\\n          NaN  \n",
       "A11TWX8H0LNKW0\\n          NaN  \n",
       "A11VN50ZKFNYH5\\n          NaN  \n",
       "A11WWPGDSJMYVN\\n          NaN  \n",
       "A11YFPCJ1G0OK1\\n          NaN  \n",
       "A11YHA1ZGKTY6\\n           NaN  \n",
       "A11ZBFET1A9IVS\\n          NaN  \n",
       "A122H2TEE3VUKW\\n          NaN  \n",
       "A1233PVJQKHML1\\n          NaN  \n",
       "A1237ROTM7659\\n           NaN  \n",
       "A124AVJOERDIS8\\n          NaN  \n",
       "A126KX6FVI4T66\\n          NaN  \n",
       "A127ML5GWE8QWH\\n          NaN  \n",
       "A128K8GL4DJYTQ\\n          NaN  \n",
       "A12A08OL0TZY0W\\n          NaN  \n",
       "A12BU50HNBM1Y9\\n          NaN  \n",
       "A12HLBWCOXVD8\\n           NaN  \n",
       "A12KDW2EB3JOLH\\n          NaN  \n",
       "A12LY5F2ZSV0QA\\n          NaN  \n",
       "A12M1WWAGSH35S\\n          NaN  \n",
       "A12MB2XSTTED3U\\n          NaN  \n",
       "A12OXTS9Z6X88T\\n          NaN  \n",
       "\n",
       "[25 rows x 419 columns]"
      ]
     },
     "execution_count": 12,
     "metadata": {},
     "output_type": "execute_result"
    }
   ],
   "source": [
    "data_pivot = data_df.pivot_table(index = [\"UserID\"], columns=[\"ProductID\"], values=[\"Review\"])\n",
    "data_pivot[50:75]"
   ]
  },
  {
   "cell_type": "code",
   "execution_count": 13,
   "metadata": {
    "collapsed": false
   },
   "outputs": [
    {
     "data": {
      "text/plain": [
       "(3475, 419)"
      ]
     },
     "execution_count": 13,
     "metadata": {},
     "output_type": "execute_result"
    }
   ],
   "source": [
    "data_pivot.columns = data_pivot.columns.droplevel()\n",
    "#[print(x) for x in data_pivot.columns]\n",
    "data_pivot.shape"
   ]
  },
  {
   "cell_type": "markdown",
   "metadata": {},
   "source": [
    "Building item based collaberative recommender without using any packages"
   ]
  },
  {
   "cell_type": "code",
   "execution_count": 14,
   "metadata": {
    "collapsed": true
   },
   "outputs": [],
   "source": [
    "# function to get pearson correlation between two items\n",
    "\n",
    "def get_cor(i1, i2):\n",
    "    corr = data_pivot[i1].corr(data_pivot[i2])\n",
    "    return corr\n",
    "\n",
    "# function to calculate correlation against all other columns for a given item\n",
    "\n",
    "def all_corr(i1, df, m):\n",
    "    rank_corr = []\n",
    "    for col in df.columns:\n",
    "        if (col != None) and (col != i1):\n",
    "            corr = get_cor(i1, col)\n",
    "            cor_ls = {'item': col,\n",
    "                      'cor': corr}\n",
    "            rank_corr.append(cor_ls)\n",
    "    \n",
    "    order_rank_corr = sorted(rank_corr, key = lambda item: (item['cor']), reverse=True)\n",
    "    #print(order_rank_corr)\n",
    "    return(order_rank_corr[:m])\n"
   ]
  },
  {
   "cell_type": "code",
   "execution_count": 15,
   "metadata": {
    "collapsed": false
   },
   "outputs": [
    {
     "data": {
      "text/plain": [
       "Index([u'ProductID', u'Review', u'UserID'], dtype='object')"
      ]
     },
     "execution_count": 15,
     "metadata": {},
     "output_type": "execute_result"
    }
   ],
   "source": [
    "data_df.columns"
   ]
  },
  {
   "cell_type": "code",
   "execution_count": 16,
   "metadata": {
    "collapsed": false
   },
   "outputs": [
    {
     "data": {
      "text/plain": [
       "B000N6DDJQ\\n    758\n",
       "B0007H4QBK\\n    330\n",
       "B000O3QCH8\\n    157\n",
       "0671551345\\n    134\n",
       "B000MCKQRS\\n    124\n",
       "B000NSKB12\\n    118\n",
       "B000HU0H2E\\n    103\n",
       "050552421X\\n     97\n",
       "0505524228\\n     91\n",
       "B000NRYUHO\\n     76\n",
       "B0000630MU\\n     55\n",
       "B000NKGYNE\\n     55\n",
       "B0006DM4E6\\n     52\n",
       "0679751254\\n     49\n",
       "0974267600\\n     48\n",
       "1883011035\\n     45\n",
       "0671551353\\n     43\n",
       "B0006DM4DW\\n     40\n",
       "0375422811\\n     40\n",
       "B000N7612G\\n     39\n",
       "0931580161\\n     34\n",
       "B000GLTD5Q\\n     32\n",
       "0595344550\\n     32\n",
       "0792799860\\n     31\n",
       "1564966763\\n     29\n",
       "0976324644\\n     28\n",
       "1890460052\\n     27\n",
       "0789480662\\n     27\n",
       "B000NKGYMK\\n     27\n",
       "B0006ANRXG\\n     26\n",
       "               ... \n",
       "0878403825\\n      1\n",
       "0253338352\\n      1\n",
       "0813318726\\n      1\n",
       "B0007IVPAO\\n      1\n",
       "0812830849\\n      1\n",
       "B0007FXCVM\\n      1\n",
       "1859673643\\n      1\n",
       "0768911001\\n      1\n",
       "B000H45MXO\\n      1\n",
       "0882292196\\n      1\n",
       "0975318004\\n      1\n",
       "0867093455\\n      1\n",
       "156292656X\\n      1\n",
       "1423410203\\n      1\n",
       "B0006DM4DC\\n      1\n",
       "0582485541\\n      1\n",
       "B00088DVTQ\\n      1\n",
       "B000OXCBJQ\\n      1\n",
       "0710613776\\n      1\n",
       "0567087786\\n      1\n",
       "0026204207\\n      1\n",
       "0966137116\\n      1\n",
       "0691021155\\n      1\n",
       "B0007DQIIS\\n      1\n",
       "157003088X\\n      1\n",
       "B0007DRE5E\\n      1\n",
       "1843762366\\n      1\n",
       "0908968000\\n      1\n",
       "B0007E2A8E\\n      1\n",
       "B0008BT8Q8\\n      1\n",
       "Name: ProductID, dtype: int64"
      ]
     },
     "execution_count": 16,
     "metadata": {},
     "output_type": "execute_result"
    }
   ],
   "source": [
    "data_df['ProductID'].value_counts()"
   ]
  },
  {
   "cell_type": "markdown",
   "metadata": {},
   "source": [
    "Using GraphLab to perform item based collaborative filtering"
   ]
  },
  {
   "cell_type": "code",
   "execution_count": 17,
   "metadata": {
    "collapsed": false
   },
   "outputs": [],
   "source": [
    "import graphlab as gl"
   ]
  },
  {
   "cell_type": "code",
   "execution_count": 28,
   "metadata": {
    "collapsed": false
   },
   "outputs": [],
   "source": [
    "sf = gl.SFrame({'user_id': data_df['UserID'],\n",
    "                      'item_id': data_df['ProductID'],\n",
    "                      'rating': data_df['Review']})"
   ]
  },
  {
   "cell_type": "code",
   "execution_count": 29,
   "metadata": {
    "collapsed": false
   },
   "outputs": [],
   "source": [
    "#from gl.recommender import item_similarity_recommender"
   ]
  },
  {
   "cell_type": "code",
   "execution_count": 30,
   "metadata": {
    "collapsed": false
   },
   "outputs": [
    {
     "data": {
      "text/html": [
       "<pre>Recsys training: model = factorization_recommender</pre>"
      ],
      "text/plain": [
       "Recsys training: model = factorization_recommender"
      ]
     },
     "metadata": {},
     "output_type": "display_data"
    },
    {
     "data": {
      "text/html": [
       "<pre>Preparing data set.</pre>"
      ],
      "text/plain": [
       "Preparing data set."
      ]
     },
     "metadata": {},
     "output_type": "display_data"
    },
    {
     "data": {
      "text/html": [
       "<pre>    Data has 4545 observations with 3475 users and 419 items.</pre>"
      ],
      "text/plain": [
       "    Data has 4545 observations with 3475 users and 419 items."
      ]
     },
     "metadata": {},
     "output_type": "display_data"
    },
    {
     "data": {
      "text/html": [
       "<pre>    Data prepared in: 0.050181s</pre>"
      ],
      "text/plain": [
       "    Data prepared in: 0.050181s"
      ]
     },
     "metadata": {},
     "output_type": "display_data"
    },
    {
     "data": {
      "text/html": [
       "<pre>Training factorization_recommender for recommendations.</pre>"
      ],
      "text/plain": [
       "Training factorization_recommender for recommendations."
      ]
     },
     "metadata": {},
     "output_type": "display_data"
    },
    {
     "data": {
      "text/html": [
       "<pre>+--------------------------------+--------------------------------------------------+----------+</pre>"
      ],
      "text/plain": [
       "+--------------------------------+--------------------------------------------------+----------+"
      ]
     },
     "metadata": {},
     "output_type": "display_data"
    },
    {
     "data": {
      "text/html": [
       "<pre>| Parameter                      | Description                                      | Value    |</pre>"
      ],
      "text/plain": [
       "| Parameter                      | Description                                      | Value    |"
      ]
     },
     "metadata": {},
     "output_type": "display_data"
    },
    {
     "data": {
      "text/html": [
       "<pre>+--------------------------------+--------------------------------------------------+----------+</pre>"
      ],
      "text/plain": [
       "+--------------------------------+--------------------------------------------------+----------+"
      ]
     },
     "metadata": {},
     "output_type": "display_data"
    },
    {
     "data": {
      "text/html": [
       "<pre>| num_factors                    | Factor Dimension                                 | 8        |</pre>"
      ],
      "text/plain": [
       "| num_factors                    | Factor Dimension                                 | 8        |"
      ]
     },
     "metadata": {},
     "output_type": "display_data"
    },
    {
     "data": {
      "text/html": [
       "<pre>| regularization                 | L2 Regularization on Factors                     | 1e-08    |</pre>"
      ],
      "text/plain": [
       "| regularization                 | L2 Regularization on Factors                     | 1e-08    |"
      ]
     },
     "metadata": {},
     "output_type": "display_data"
    },
    {
     "data": {
      "text/html": [
       "<pre>| solver                         | Solver used for training                         | sgd      |</pre>"
      ],
      "text/plain": [
       "| solver                         | Solver used for training                         | sgd      |"
      ]
     },
     "metadata": {},
     "output_type": "display_data"
    },
    {
     "data": {
      "text/html": [
       "<pre>| linear_regularization          | L2 Regularization on Linear Coefficients         | 1e-10    |</pre>"
      ],
      "text/plain": [
       "| linear_regularization          | L2 Regularization on Linear Coefficients         | 1e-10    |"
      ]
     },
     "metadata": {},
     "output_type": "display_data"
    },
    {
     "data": {
      "text/html": [
       "<pre>| max_iterations                 | Maximum Number of Iterations                     | 50       |</pre>"
      ],
      "text/plain": [
       "| max_iterations                 | Maximum Number of Iterations                     | 50       |"
      ]
     },
     "metadata": {},
     "output_type": "display_data"
    },
    {
     "data": {
      "text/html": [
       "<pre>+--------------------------------+--------------------------------------------------+----------+</pre>"
      ],
      "text/plain": [
       "+--------------------------------+--------------------------------------------------+----------+"
      ]
     },
     "metadata": {},
     "output_type": "display_data"
    },
    {
     "data": {
      "text/html": [
       "<pre>  Optimizing model using SGD; tuning step size.</pre>"
      ],
      "text/plain": [
       "  Optimizing model using SGD; tuning step size."
      ]
     },
     "metadata": {},
     "output_type": "display_data"
    },
    {
     "data": {
      "text/html": [
       "<pre>  Using 4545 / 4545 points for tuning the step size.</pre>"
      ],
      "text/plain": [
       "  Using 4545 / 4545 points for tuning the step size."
      ]
     },
     "metadata": {},
     "output_type": "display_data"
    },
    {
     "data": {
      "text/html": [
       "<pre>+---------+-------------------+------------------------------------------+</pre>"
      ],
      "text/plain": [
       "+---------+-------------------+------------------------------------------+"
      ]
     },
     "metadata": {},
     "output_type": "display_data"
    },
    {
     "data": {
      "text/html": [
       "<pre>| Attempt | Initial Step Size | Estimated Objective Value                |</pre>"
      ],
      "text/plain": [
       "| Attempt | Initial Step Size | Estimated Objective Value                |"
      ]
     },
     "metadata": {},
     "output_type": "display_data"
    },
    {
     "data": {
      "text/html": [
       "<pre>+---------+-------------------+------------------------------------------+</pre>"
      ],
      "text/plain": [
       "+---------+-------------------+------------------------------------------+"
      ]
     },
     "metadata": {},
     "output_type": "display_data"
    },
    {
     "data": {
      "text/html": [
       "<pre>| 0       | 25                | Not Viable                               |</pre>"
      ],
      "text/plain": [
       "| 0       | 25                | Not Viable                               |"
      ]
     },
     "metadata": {},
     "output_type": "display_data"
    },
    {
     "data": {
      "text/html": [
       "<pre>| 1       | 6.25              | Not Viable                               |</pre>"
      ],
      "text/plain": [
       "| 1       | 6.25              | Not Viable                               |"
      ]
     },
     "metadata": {},
     "output_type": "display_data"
    },
    {
     "data": {
      "text/html": [
       "<pre>| 2       | 1.5625            | Not Viable                               |</pre>"
      ],
      "text/plain": [
       "| 2       | 1.5625            | Not Viable                               |"
      ]
     },
     "metadata": {},
     "output_type": "display_data"
    },
    {
     "data": {
      "text/html": [
       "<pre>| 3       | 0.390625          | 0.71722                                  |</pre>"
      ],
      "text/plain": [
       "| 3       | 0.390625          | 0.71722                                  |"
      ]
     },
     "metadata": {},
     "output_type": "display_data"
    },
    {
     "data": {
      "text/html": [
       "<pre>| 4       | 0.195312          | 0.431719                                 |</pre>"
      ],
      "text/plain": [
       "| 4       | 0.195312          | 0.431719                                 |"
      ]
     },
     "metadata": {},
     "output_type": "display_data"
    },
    {
     "data": {
      "text/html": [
       "<pre>| 5       | 0.0976562         | 0.639562                                 |</pre>"
      ],
      "text/plain": [
       "| 5       | 0.0976562         | 0.639562                                 |"
      ]
     },
     "metadata": {},
     "output_type": "display_data"
    },
    {
     "data": {
      "text/html": [
       "<pre>| 6       | 0.0488281         | 0.897704                                 |</pre>"
      ],
      "text/plain": [
       "| 6       | 0.0488281         | 0.897704                                 |"
      ]
     },
     "metadata": {},
     "output_type": "display_data"
    },
    {
     "data": {
      "text/html": [
       "<pre>+---------+-------------------+------------------------------------------+</pre>"
      ],
      "text/plain": [
       "+---------+-------------------+------------------------------------------+"
      ]
     },
     "metadata": {},
     "output_type": "display_data"
    },
    {
     "data": {
      "text/html": [
       "<pre>| Final   | 0.195312          | 0.431719                                 |</pre>"
      ],
      "text/plain": [
       "| Final   | 0.195312          | 0.431719                                 |"
      ]
     },
     "metadata": {},
     "output_type": "display_data"
    },
    {
     "data": {
      "text/html": [
       "<pre>+---------+-------------------+------------------------------------------+</pre>"
      ],
      "text/plain": [
       "+---------+-------------------+------------------------------------------+"
      ]
     },
     "metadata": {},
     "output_type": "display_data"
    },
    {
     "data": {
      "text/html": [
       "<pre>Starting Optimization.</pre>"
      ],
      "text/plain": [
       "Starting Optimization."
      ]
     },
     "metadata": {},
     "output_type": "display_data"
    },
    {
     "data": {
      "text/html": [
       "<pre>+---------+--------------+-------------------+-----------------------+-------------+</pre>"
      ],
      "text/plain": [
       "+---------+--------------+-------------------+-----------------------+-------------+"
      ]
     },
     "metadata": {},
     "output_type": "display_data"
    },
    {
     "data": {
      "text/html": [
       "<pre>| Iter.   | Elapsed Time | Approx. Objective | Approx. Training RMSE | Step Size   |</pre>"
      ],
      "text/plain": [
       "| Iter.   | Elapsed Time | Approx. Objective | Approx. Training RMSE | Step Size   |"
      ]
     },
     "metadata": {},
     "output_type": "display_data"
    },
    {
     "data": {
      "text/html": [
       "<pre>+---------+--------------+-------------------+-----------------------+-------------+</pre>"
      ],
      "text/plain": [
       "+---------+--------------+-------------------+-----------------------+-------------+"
      ]
     },
     "metadata": {},
     "output_type": "display_data"
    },
    {
     "data": {
      "text/html": [
       "<pre>| Initial | 140us        | 1.53854           | 1.24038               |             |</pre>"
      ],
      "text/plain": [
       "| Initial | 140us        | 1.53854           | 1.24038               |             |"
      ]
     },
     "metadata": {},
     "output_type": "display_data"
    },
    {
     "data": {
      "text/html": [
       "<pre>+---------+--------------+-------------------+-----------------------+-------------+</pre>"
      ],
      "text/plain": [
       "+---------+--------------+-------------------+-----------------------+-------------+"
      ]
     },
     "metadata": {},
     "output_type": "display_data"
    },
    {
     "data": {
      "text/html": [
       "<pre>| 1       | 78.982ms     | 1.64931           | 1.28425               | 0.195312    |</pre>"
      ],
      "text/plain": [
       "| 1       | 78.982ms     | 1.64931           | 1.28425               | 0.195312    |"
      ]
     },
     "metadata": {},
     "output_type": "display_data"
    },
    {
     "data": {
      "text/html": [
       "<pre>| 2       | 160.334ms    | 0.84606           | 0.919813              | 0.116134    |</pre>"
      ],
      "text/plain": [
       "| 2       | 160.334ms    | 0.84606           | 0.919813              | 0.116134    |"
      ]
     },
     "metadata": {},
     "output_type": "display_data"
    },
    {
     "data": {
      "text/html": [
       "<pre>| 3       | 246.64ms     | 0.591203          | 0.768896              | 0.0856819   |</pre>"
      ],
      "text/plain": [
       "| 3       | 246.64ms     | 0.591203          | 0.768896              | 0.0856819   |"
      ]
     },
     "metadata": {},
     "output_type": "display_data"
    },
    {
     "data": {
      "text/html": [
       "<pre>| 4       | 332.177ms    | 0.49131           | 0.700935              | 0.0580668   |</pre>"
      ],
      "text/plain": [
       "| 4       | 332.177ms    | 0.49131           | 0.700935              | 0.0580668   |"
      ]
     },
     "metadata": {},
     "output_type": "display_data"
    },
    {
     "data": {
      "text/html": [
       "<pre>| 5       | 472.335ms    | 0.438565          | 0.662242              | 0.0491185   |</pre>"
      ],
      "text/plain": [
       "| 5       | 472.335ms    | 0.438565          | 0.662242              | 0.0491185   |"
      ]
     },
     "metadata": {},
     "output_type": "display_data"
    },
    {
     "data": {
      "text/html": [
       "<pre>| 6       | 634.184ms    | 0.407004          | 0.637968              | 0.042841    |</pre>"
      ],
      "text/plain": [
       "| 6       | 634.184ms    | 0.407004          | 0.637968              | 0.042841    |"
      ]
     },
     "metadata": {},
     "output_type": "display_data"
    },
    {
     "data": {
      "text/html": [
       "<pre>| 11      | 975.444ms    | 0.312573          | 0.559081              | 0.0271912   |</pre>"
      ],
      "text/plain": [
       "| 11      | 975.444ms    | 0.312573          | 0.559081              | 0.0271912   |"
      ]
     },
     "metadata": {},
     "output_type": "display_data"
    },
    {
     "data": {
      "text/html": [
       "<pre>| 25      | 1.70s        | 0.254575          | 0.504554              | 0.00873464  |</pre>"
      ],
      "text/plain": [
       "| 25      | 1.70s        | 0.254575          | 0.504554              | 0.00873464  |"
      ]
     },
     "metadata": {},
     "output_type": "display_data"
    },
    {
     "data": {
      "text/html": [
       "<pre>| 50      | 3.19s        | 0.239953          | 0.489848              | 0.000324603 |</pre>"
      ],
      "text/plain": [
       "| 50      | 3.19s        | 0.239953          | 0.489848              | 0.000324603 |"
      ]
     },
     "metadata": {},
     "output_type": "display_data"
    },
    {
     "data": {
      "text/html": [
       "<pre>+---------+--------------+-------------------+-----------------------+-------------+</pre>"
      ],
      "text/plain": [
       "+---------+--------------+-------------------+-----------------------+-------------+"
      ]
     },
     "metadata": {},
     "output_type": "display_data"
    },
    {
     "data": {
      "text/html": [
       "<pre>Optimization Complete: Maximum number of passes through the data reached.</pre>"
      ],
      "text/plain": [
       "Optimization Complete: Maximum number of passes through the data reached."
      ]
     },
     "metadata": {},
     "output_type": "display_data"
    },
    {
     "data": {
      "text/html": [
       "<pre>Computing final objective value and training RMSE.</pre>"
      ],
      "text/plain": [
       "Computing final objective value and training RMSE."
      ]
     },
     "metadata": {},
     "output_type": "display_data"
    },
    {
     "data": {
      "text/html": [
       "<pre>       Final objective value: 0.239366</pre>"
      ],
      "text/plain": [
       "       Final objective value: 0.239366"
      ]
     },
     "metadata": {},
     "output_type": "display_data"
    },
    {
     "data": {
      "text/html": [
       "<pre>       Final training RMSE: 0.489249</pre>"
      ],
      "text/plain": [
       "       Final training RMSE: 0.489249"
      ]
     },
     "metadata": {},
     "output_type": "display_data"
    }
   ],
   "source": [
    "m = gl.recommender.create(sf, target=\"rating\", ranking = False)"
   ]
  },
  {
   "cell_type": "code",
   "execution_count": 32,
   "metadata": {
    "collapsed": false
   },
   "outputs": [
    {
     "data": {
      "text/html": [
       "<pre>Recsys training: model = item_similarity</pre>"
      ],
      "text/plain": [
       "Recsys training: model = item_similarity"
      ]
     },
     "metadata": {},
     "output_type": "display_data"
    },
    {
     "data": {
      "text/html": [
       "<pre>Preparing data set.</pre>"
      ],
      "text/plain": [
       "Preparing data set."
      ]
     },
     "metadata": {},
     "output_type": "display_data"
    },
    {
     "data": {
      "text/html": [
       "<pre>    Data has 4545 observations with 3475 users and 419 items.</pre>"
      ],
      "text/plain": [
       "    Data has 4545 observations with 3475 users and 419 items."
      ]
     },
     "metadata": {},
     "output_type": "display_data"
    },
    {
     "data": {
      "text/html": [
       "<pre>    Data prepared in: 0.024558s</pre>"
      ],
      "text/plain": [
       "    Data prepared in: 0.024558s"
      ]
     },
     "metadata": {},
     "output_type": "display_data"
    },
    {
     "data": {
      "text/html": [
       "<pre>Training model from provided data.</pre>"
      ],
      "text/plain": [
       "Training model from provided data."
      ]
     },
     "metadata": {},
     "output_type": "display_data"
    },
    {
     "data": {
      "text/html": [
       "<pre>Gathering per-item and per-user statistics.</pre>"
      ],
      "text/plain": [
       "Gathering per-item and per-user statistics."
      ]
     },
     "metadata": {},
     "output_type": "display_data"
    },
    {
     "data": {
      "text/html": [
       "<pre>+--------------------------------+------------+</pre>"
      ],
      "text/plain": [
       "+--------------------------------+------------+"
      ]
     },
     "metadata": {},
     "output_type": "display_data"
    },
    {
     "data": {
      "text/html": [
       "<pre>| Elapsed Time (Item Statistics) | % Complete |</pre>"
      ],
      "text/plain": [
       "| Elapsed Time (Item Statistics) | % Complete |"
      ]
     },
     "metadata": {},
     "output_type": "display_data"
    },
    {
     "data": {
      "text/html": [
       "<pre>+--------------------------------+------------+</pre>"
      ],
      "text/plain": [
       "+--------------------------------+------------+"
      ]
     },
     "metadata": {},
     "output_type": "display_data"
    },
    {
     "data": {
      "text/html": [
       "<pre>| 757us                          | 28.75      |</pre>"
      ],
      "text/plain": [
       "| 757us                          | 28.75      |"
      ]
     },
     "metadata": {},
     "output_type": "display_data"
    },
    {
     "data": {
      "text/html": [
       "<pre>| 9.853ms                        | 100        |</pre>"
      ],
      "text/plain": [
       "| 9.853ms                        | 100        |"
      ]
     },
     "metadata": {},
     "output_type": "display_data"
    },
    {
     "data": {
      "text/html": [
       "<pre>+--------------------------------+------------+</pre>"
      ],
      "text/plain": [
       "+--------------------------------+------------+"
      ]
     },
     "metadata": {},
     "output_type": "display_data"
    },
    {
     "data": {
      "text/html": [
       "<pre>Setting up lookup tables.</pre>"
      ],
      "text/plain": [
       "Setting up lookup tables."
      ]
     },
     "metadata": {},
     "output_type": "display_data"
    },
    {
     "data": {
      "text/html": [
       "<pre>Processing data in one pass using dense lookup tables.</pre>"
      ],
      "text/plain": [
       "Processing data in one pass using dense lookup tables."
      ]
     },
     "metadata": {},
     "output_type": "display_data"
    },
    {
     "data": {
      "text/html": [
       "<pre>+-------------------------------------+------------------+-----------------+</pre>"
      ],
      "text/plain": [
       "+-------------------------------------+------------------+-----------------+"
      ]
     },
     "metadata": {},
     "output_type": "display_data"
    },
    {
     "data": {
      "text/html": [
       "<pre>| Elapsed Time (Constructing Lookups) | Total % Complete | Items Processed |</pre>"
      ],
      "text/plain": [
       "| Elapsed Time (Constructing Lookups) | Total % Complete | Items Processed |"
      ]
     },
     "metadata": {},
     "output_type": "display_data"
    },
    {
     "data": {
      "text/html": [
       "<pre>+-------------------------------------+------------------+-----------------+</pre>"
      ],
      "text/plain": [
       "+-------------------------------------+------------------+-----------------+"
      ]
     },
     "metadata": {},
     "output_type": "display_data"
    },
    {
     "data": {
      "text/html": [
       "<pre>| 12.405ms                            | 0                | 0               |</pre>"
      ],
      "text/plain": [
       "| 12.405ms                            | 0                | 0               |"
      ]
     },
     "metadata": {},
     "output_type": "display_data"
    },
    {
     "data": {
      "text/html": [
       "<pre>| 16.509ms                            | 100              | 419             |</pre>"
      ],
      "text/plain": [
       "| 16.509ms                            | 100              | 419             |"
      ]
     },
     "metadata": {},
     "output_type": "display_data"
    },
    {
     "data": {
      "text/html": [
       "<pre>+-------------------------------------+------------------+-----------------+</pre>"
      ],
      "text/plain": [
       "+-------------------------------------+------------------+-----------------+"
      ]
     },
     "metadata": {},
     "output_type": "display_data"
    },
    {
     "data": {
      "text/html": [
       "<pre>Finalizing lookup tables.</pre>"
      ],
      "text/plain": [
       "Finalizing lookup tables."
      ]
     },
     "metadata": {},
     "output_type": "display_data"
    },
    {
     "data": {
      "text/html": [
       "<pre>Generating candidate set for working with new users.</pre>"
      ],
      "text/plain": [
       "Generating candidate set for working with new users."
      ]
     },
     "metadata": {},
     "output_type": "display_data"
    },
    {
     "data": {
      "text/html": [
       "<pre>Finished training in 0.020378s</pre>"
      ],
      "text/plain": [
       "Finished training in 0.020378s"
      ]
     },
     "metadata": {},
     "output_type": "display_data"
    }
   ],
   "source": [
    "m_item = gl.recommender.item_similarity_recommender.create(sf, only_top_k=2, target = \"rating\")"
   ]
  },
  {
   "cell_type": "code",
   "execution_count": null,
   "metadata": {
    "collapsed": true
   },
   "outputs": [],
   "source": []
  }
 ],
 "metadata": {
  "kernelspec": {
   "display_name": "Python 2",
   "language": "python",
   "name": "python2"
  },
  "language_info": {
   "codemirror_mode": {
    "name": "ipython",
    "version": 2
   },
   "file_extension": ".py",
   "mimetype": "text/x-python",
   "name": "python",
   "nbconvert_exporter": "python",
   "pygments_lexer": "ipython2",
   "version": "2.7.11"
  }
 },
 "nbformat": 4,
 "nbformat_minor": 2
}
