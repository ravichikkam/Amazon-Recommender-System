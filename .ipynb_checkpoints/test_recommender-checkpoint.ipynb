{
 "cells": [
  {
   "cell_type": "markdown",
   "metadata": {},
   "source": [
    "This file contains the code to create test recommender system on amazon books data. We will be using python crab pacakge to build a item based and user based recommender system using collaberative filtering."
   ]
  },
  {
   "cell_type": "code",
<<<<<<< HEAD
   "execution_count": 5,
   "metadata": {},
   "outputs": [
    {
     "ename": "FileNotFoundError",
     "evalue": "[Errno 2] No such file or directory: 'Books.txt.gz'",
     "output_type": "error",
     "traceback": [
      "\u001b[1;31m---------------------------------------------------------------------------\u001b[0m",
      "\u001b[1;31mFileNotFoundError\u001b[0m                         Traceback (most recent call last)",
      "\u001b[1;32m<ipython-input-5-7bbbda36bb01>\u001b[0m in \u001b[0;36m<module>\u001b[1;34m()\u001b[0m\n\u001b[0;32m      1\u001b[0m \u001b[1;32mimport\u001b[0m \u001b[0mgzip\u001b[0m\u001b[1;33m\u001b[0m\u001b[0m\n\u001b[1;32m----> 2\u001b[1;33m \u001b[1;32mwith\u001b[0m \u001b[0mgzip\u001b[0m\u001b[1;33m.\u001b[0m\u001b[0mopen\u001b[0m\u001b[1;33m(\u001b[0m\u001b[1;34m'Books.txt.gz'\u001b[0m\u001b[1;33m,\u001b[0m\u001b[1;34m'rb'\u001b[0m\u001b[1;33m)\u001b[0m \u001b[1;32mas\u001b[0m \u001b[0mf\u001b[0m \u001b[1;33m:\u001b[0m\u001b[1;33m\u001b[0m\u001b[0m\n\u001b[0m\u001b[0;32m      3\u001b[0m     \u001b[0mdata\u001b[0m \u001b[1;33m=\u001b[0m \u001b[1;33m[\u001b[0m\u001b[0mstr\u001b[0m\u001b[1;33m(\u001b[0m\u001b[0mnext\u001b[0m\u001b[1;33m(\u001b[0m\u001b[0mf\u001b[0m\u001b[1;33m)\u001b[0m\u001b[1;33m)\u001b[0m \u001b[1;32mfor\u001b[0m \u001b[0mx\u001b[0m \u001b[1;32min\u001b[0m \u001b[0mrange\u001b[0m\u001b[1;33m(\u001b[0m\u001b[1;36m1000\u001b[0m\u001b[1;33m)\u001b[0m\u001b[1;33m]\u001b[0m\u001b[1;33m\u001b[0m\u001b[0m\n\u001b[0;32m      4\u001b[0m \u001b[0mprint\u001b[0m\u001b[1;33m(\u001b[0m\u001b[0mdata\u001b[0m\u001b[1;33m)\u001b[0m\u001b[1;33m\u001b[0m\u001b[0m\n",
      "\u001b[1;32m~\\Anaconda3.6\\lib\\gzip.py\u001b[0m in \u001b[0;36mopen\u001b[1;34m(filename, mode, compresslevel, encoding, errors, newline)\u001b[0m\n\u001b[0;32m     51\u001b[0m     \u001b[0mgz_mode\u001b[0m \u001b[1;33m=\u001b[0m \u001b[0mmode\u001b[0m\u001b[1;33m.\u001b[0m\u001b[0mreplace\u001b[0m\u001b[1;33m(\u001b[0m\u001b[1;34m\"t\"\u001b[0m\u001b[1;33m,\u001b[0m \u001b[1;34m\"\"\u001b[0m\u001b[1;33m)\u001b[0m\u001b[1;33m\u001b[0m\u001b[0m\n\u001b[0;32m     52\u001b[0m     \u001b[1;32mif\u001b[0m \u001b[0misinstance\u001b[0m\u001b[1;33m(\u001b[0m\u001b[0mfilename\u001b[0m\u001b[1;33m,\u001b[0m \u001b[1;33m(\u001b[0m\u001b[0mstr\u001b[0m\u001b[1;33m,\u001b[0m \u001b[0mbytes\u001b[0m\u001b[1;33m,\u001b[0m \u001b[0mos\u001b[0m\u001b[1;33m.\u001b[0m\u001b[0mPathLike\u001b[0m\u001b[1;33m)\u001b[0m\u001b[1;33m)\u001b[0m\u001b[1;33m:\u001b[0m\u001b[1;33m\u001b[0m\u001b[0m\n\u001b[1;32m---> 53\u001b[1;33m         \u001b[0mbinary_file\u001b[0m \u001b[1;33m=\u001b[0m \u001b[0mGzipFile\u001b[0m\u001b[1;33m(\u001b[0m\u001b[0mfilename\u001b[0m\u001b[1;33m,\u001b[0m \u001b[0mgz_mode\u001b[0m\u001b[1;33m,\u001b[0m \u001b[0mcompresslevel\u001b[0m\u001b[1;33m)\u001b[0m\u001b[1;33m\u001b[0m\u001b[0m\n\u001b[0m\u001b[0;32m     54\u001b[0m     \u001b[1;32melif\u001b[0m \u001b[0mhasattr\u001b[0m\u001b[1;33m(\u001b[0m\u001b[0mfilename\u001b[0m\u001b[1;33m,\u001b[0m \u001b[1;34m\"read\"\u001b[0m\u001b[1;33m)\u001b[0m \u001b[1;32mor\u001b[0m \u001b[0mhasattr\u001b[0m\u001b[1;33m(\u001b[0m\u001b[0mfilename\u001b[0m\u001b[1;33m,\u001b[0m \u001b[1;34m\"write\"\u001b[0m\u001b[1;33m)\u001b[0m\u001b[1;33m:\u001b[0m\u001b[1;33m\u001b[0m\u001b[0m\n\u001b[0;32m     55\u001b[0m         \u001b[0mbinary_file\u001b[0m \u001b[1;33m=\u001b[0m \u001b[0mGzipFile\u001b[0m\u001b[1;33m(\u001b[0m\u001b[1;32mNone\u001b[0m\u001b[1;33m,\u001b[0m \u001b[0mgz_mode\u001b[0m\u001b[1;33m,\u001b[0m \u001b[0mcompresslevel\u001b[0m\u001b[1;33m,\u001b[0m \u001b[0mfilename\u001b[0m\u001b[1;33m)\u001b[0m\u001b[1;33m\u001b[0m\u001b[0m\n",
      "\u001b[1;32m~\\Anaconda3.6\\lib\\gzip.py\u001b[0m in \u001b[0;36m__init__\u001b[1;34m(self, filename, mode, compresslevel, fileobj, mtime)\u001b[0m\n\u001b[0;32m    161\u001b[0m             \u001b[0mmode\u001b[0m \u001b[1;33m+=\u001b[0m \u001b[1;34m'b'\u001b[0m\u001b[1;33m\u001b[0m\u001b[0m\n\u001b[0;32m    162\u001b[0m         \u001b[1;32mif\u001b[0m \u001b[0mfileobj\u001b[0m \u001b[1;32mis\u001b[0m \u001b[1;32mNone\u001b[0m\u001b[1;33m:\u001b[0m\u001b[1;33m\u001b[0m\u001b[0m\n\u001b[1;32m--> 163\u001b[1;33m             \u001b[0mfileobj\u001b[0m \u001b[1;33m=\u001b[0m \u001b[0mself\u001b[0m\u001b[1;33m.\u001b[0m\u001b[0mmyfileobj\u001b[0m \u001b[1;33m=\u001b[0m \u001b[0mbuiltins\u001b[0m\u001b[1;33m.\u001b[0m\u001b[0mopen\u001b[0m\u001b[1;33m(\u001b[0m\u001b[0mfilename\u001b[0m\u001b[1;33m,\u001b[0m \u001b[0mmode\u001b[0m \u001b[1;32mor\u001b[0m \u001b[1;34m'rb'\u001b[0m\u001b[1;33m)\u001b[0m\u001b[1;33m\u001b[0m\u001b[0m\n\u001b[0m\u001b[0;32m    164\u001b[0m         \u001b[1;32mif\u001b[0m \u001b[0mfilename\u001b[0m \u001b[1;32mis\u001b[0m \u001b[1;32mNone\u001b[0m\u001b[1;33m:\u001b[0m\u001b[1;33m\u001b[0m\u001b[0m\n\u001b[0;32m    165\u001b[0m             \u001b[0mfilename\u001b[0m \u001b[1;33m=\u001b[0m \u001b[0mgetattr\u001b[0m\u001b[1;33m(\u001b[0m\u001b[0mfileobj\u001b[0m\u001b[1;33m,\u001b[0m \u001b[1;34m'name'\u001b[0m\u001b[1;33m,\u001b[0m \u001b[1;34m''\u001b[0m\u001b[1;33m)\u001b[0m\u001b[1;33m\u001b[0m\u001b[0m\n",
      "\u001b[1;31mFileNotFoundError\u001b[0m: [Errno 2] No such file or directory: 'Books.txt.gz'"
     ]
    }
   ],
   "source": [
    "import gzip\n",
    "with gzip.open('Books.txt.gz','rb') as f :\n",
    "    data = [str(next(f)) for x in range(1000)]\n",
    "print(data)"
=======
   "execution_count": 1,
   "metadata": {
    "collapsed": true,
    "scrolled": false
   },
   "outputs": [],
   "source": [
    "import gzip\n",
    "with gzip.open(\"/Users/ravitejachikkam/Documents/ASU/Academics/Spring_2018/IEE598/project/Books.txt.gz\", \"r\") as f:\n",
    "    data = [str(next(f)) for x in range(50000)]\n",
    "#print(data)"
>>>>>>> 235e01ca51b0cae94945786308413b56515ef0a2
   ]
  },
  {
   "cell_type": "code",
<<<<<<< HEAD
   "execution_count": 38,
   "metadata": {},
=======
   "execution_count": 2,
   "metadata": {
    "collapsed": false
   },
>>>>>>> 235e01ca51b0cae94945786308413b56515ef0a2
   "outputs": [
    {
     "data": {
      "text/plain": [
       "list"
      ]
     },
<<<<<<< HEAD
     "execution_count": 38,
=======
     "execution_count": 2,
>>>>>>> 235e01ca51b0cae94945786308413b56515ef0a2
     "metadata": {},
     "output_type": "execute_result"
    }
   ],
   "source": [
    "len(data)\n",
    "type(data)"
   ]
  },
  {
   "cell_type": "code",
<<<<<<< HEAD
   "execution_count": 39,
   "metadata": {},
=======
   "execution_count": 3,
   "metadata": {
    "collapsed": false
   },
>>>>>>> 235e01ca51b0cae94945786308413b56515ef0a2
   "outputs": [
    {
     "data": {
      "text/plain": [
<<<<<<< HEAD
       "[\"b'product/productId: 1882931173\\\\n'\",\n",
       " \"b'product/title: Its Only Art If Its Well Hung!\\\\n'\",\n",
       " \"b'product/price: unknown\\\\n'\",\n",
       " \"b'review/userId: AVCGYZL8FQQTD\\\\n'\",\n",
       " 'b\\'review/profileName: Jim of Oz \"jim-of-oz\"\\\\n\\'',\n",
       " \"b'review/helpfulness: 7/7\\\\n'\",\n",
       " \"b'review/score: 4.0\\\\n'\",\n",
       " \"b'review/time: 940636800\\\\n'\",\n",
       " \"b'review/summary: Nice collection of Julie Strain images\\\\n'\",\n",
       " 'b\"review/text: This is only for Julie Strain fans. It\\'s a collection of her photos -- about 80 pages worth with a nice section of paintings by Olivia.If you\\'re looking for heavy literary content, this isn\\'t the place to find it -- there\\'s only about 2 pages with text and everything else is photos.Bottom line: if you only want one book, the Six Foot One ... is probably a better choice, however, if you like Julie like I like Julie, you won\\'t go wrong on this one either.\\\\n\"',\n",
       " \"b'\\\\n'\",\n",
       " \"b'product/productId: 0826414346\\\\n'\",\n",
       " \"b'product/title: Dr. Seuss: American Icon\\\\n'\",\n",
       " \"b'product/price: unknown\\\\n'\",\n",
       " \"b'review/userId: A30TK6U7DNS82R\\\\n'\",\n",
       " \"b'review/profileName: Kevin Killian\\\\n'\",\n",
       " \"b'review/helpfulness: 10/10\\\\n'\",\n",
       " \"b'review/score: 5.0\\\\n'\",\n",
       " \"b'review/time: 1095724800\\\\n'\",\n",
       " \"b'review/summary: Really Enjoyed It\\\\n'\"]"
      ]
     },
     "execution_count": 39,
=======
       "['product/productId: 1882931173\\n',\n",
       " 'product/title: Its Only Art If Its Well Hung!\\n',\n",
       " 'product/price: unknown\\n',\n",
       " 'review/userId: AVCGYZL8FQQTD\\n',\n",
       " 'review/profileName: Jim of Oz \"jim-of-oz\"\\n',\n",
       " 'review/helpfulness: 7/7\\n',\n",
       " 'review/score: 4.0\\n',\n",
       " 'review/time: 940636800\\n',\n",
       " 'review/summary: Nice collection of Julie Strain images\\n',\n",
       " \"review/text: This is only for Julie Strain fans. It's a collection of her photos -- about 80 pages worth with a nice section of paintings by Olivia.If you're looking for heavy literary content, this isn't the place to find it -- there's only about 2 pages with text and everything else is photos.Bottom line: if you only want one book, the Six Foot One ... is probably a better choice, however, if you like Julie like I like Julie, you won't go wrong on this one either.\\n\",\n",
       " '\\n',\n",
       " 'product/productId: 0826414346\\n',\n",
       " 'product/title: Dr. Seuss: American Icon\\n',\n",
       " 'product/price: unknown\\n',\n",
       " 'review/userId: A30TK6U7DNS82R\\n',\n",
       " 'review/profileName: Kevin Killian\\n',\n",
       " 'review/helpfulness: 10/10\\n',\n",
       " 'review/score: 5.0\\n',\n",
       " 'review/time: 1095724800\\n',\n",
       " 'review/summary: Really Enjoyed It\\n']"
      ]
     },
     "execution_count": 3,
>>>>>>> 235e01ca51b0cae94945786308413b56515ef0a2
     "metadata": {},
     "output_type": "execute_result"
    }
   ],
   "source": [
    "data[:20]"
   ]
  },
  {
   "cell_type": "raw",
   "metadata": {},
   "source": [
    "Data Format:\n",
    "product/productId: B00006HAXW\n",
    "product/title: Rock Rhythm & Doo Wop: Greatest Early Rock\n",
    "product/price: unknown\n",
    "review/userId: A1RSDE90N6RSZF\n",
    "review/profileName: Joseph M. Kotow\n",
    "review/helpfulness: 9/9\n",
    "review/score: 5.0\n",
    "review/time: 1042502400\n",
    "review/summary: Pittsburgh - Home of the OLDIES\n",
    "review/text: I have all of the doo wop DVD's and this one is as good or better than the\n",
    "1st ones. Remember once these performers are gone, we'll never get to see them again.\n",
    "Rhino did an excellent job and if you like or love doo wop and Rock n Roll you'll LOVE\n",
    "this DVD !!"
   ]
  },
  {
   "cell_type": "code",
<<<<<<< HEAD
   "execution_count": 41,
   "metadata": {},
=======
   "execution_count": 4,
   "metadata": {
    "collapsed": false
   },
>>>>>>> 235e01ca51b0cae94945786308413b56515ef0a2
   "outputs": [
    {
     "data": {
      "text/plain": [
<<<<<<< HEAD
       "[\"product/productId: 1882931173'\",\n",
       " \"product/title: Its Only Art If Its Well Hung!'\",\n",
       " \"product/price: unknown'\",\n",
       " \"review/userId: AVCGYZL8FQQTD'\",\n",
       " 'review/profileName: Jim of Oz \"jim-of-oz\"\\'',\n",
       " \"review/helpfulness: 7/7'\",\n",
       " \"review/score: 4.0'\",\n",
       " \"review/time: 940636800'\",\n",
       " \"review/summary: Nice collection of Julie Strain images'\",\n",
       " 'b\"review/text: This is only for Julie Strain fans. It\\'s a collection of her photos -- about 80 pages worth with a nice section of paintings by Olivia.If you\\'re looking for heavy literary content, this isn\\'t the place to find it -- there\\'s only about 2 pages with text and everything else is photos.Bottom line: if you only want one book, the Six Foot One ... is probably a better choice, however, if you like Julie like I like Julie, you won\\'t go wrong on this one either.\"',\n",
       " \"'\",\n",
       " \"product/productId: 0826414346'\",\n",
       " \"product/title: Dr. Seuss: American Icon'\",\n",
       " \"product/price: unknown'\",\n",
       " \"review/userId: A30TK6U7DNS82R'\",\n",
       " \"review/profileName: Kevin Killian'\",\n",
       " \"review/helpfulness: 10/10'\",\n",
       " \"review/score: 5.0'\",\n",
       " \"review/time: 1095724800'\",\n",
       " \"review/summary: Really Enjoyed It'\",\n",
       " 'b\"review/text: I don\\'t care much for Dr. Seuss but after reading Philip Nel\\'s book I changed my mind--that\\'s a good testimonial to the power of Rel\\'s writing and thinking. Rel plays Dr. Seuss the ultimate compliment of treating him as a serious poet as well as one of the 20th century\\'s most interesting visual artists, and after reading his book I decided that a trip to the Mandeville Collections of the library at University of California in San Diego was in order, so I could visit some of the incredible Seuss/Geisel holdings they have there.There\\'s almost too much to take in, for, like William Butler Yeats, Seuss led a career that constantly shifted and metamoprhized itself to meet new historical and political cirsumstances, so he seems to have been both a leftist and a conservative at different junctures of his career, both in politics and in art. As Nel shows us, he was once a cartoonist for the fabled PM magazine and, like Andy Warhol, he served his time slaving in the ad business too. All was in the service of amusing and broadening the minds of US children. Nel doesn\\'t hesitate to administer a sound spanking to the Seuss industry that, since his death, has seen fit to license all kinds of awful products including the recent CAT IN THE HAT film with Mike Myers. Oh, what a cat-astrophe!The book is great and I can especially recommend the work of the picture editor who has given us a bounty of good illustrations.\"']"
      ]
     },
     "execution_count": 41,
=======
       "['product/productId: 1882931173\\n',\n",
       " 'product/title: Its Only Art If Its Well Hung!\\n',\n",
       " 'product/price: unknown\\n',\n",
       " 'review/userId: AVCGYZL8FQQTD\\n',\n",
       " 'review/profileName: Jim of Oz \"jim-of-oz\"\\n',\n",
       " 'review/helpfulness: 7/7\\n',\n",
       " 'review/score: 4.0\\n',\n",
       " 'review/time: 940636800\\n',\n",
       " 'review/summary: Nice collection of Julie Strain images\\n',\n",
       " \"review/text: This is only for Julie Strain fans. It's a collection of her photos -- about 80 pages worth with a nice section of paintings by Olivia.If you're looking for heavy literary content, this isn't the place to find it -- there's only about 2 pages with text and everything else is photos.Bottom line: if you only want one book, the Six Foot One ... is probably a better choice, however, if you like Julie like I like Julie, you won't go wrong on this one either.\\n\",\n",
       " '\\n',\n",
       " 'product/productId: 0826414346\\n',\n",
       " 'product/title: Dr. Seuss: American Icon\\n',\n",
       " 'product/price: unknown\\n',\n",
       " 'review/userId: A30TK6U7DNS82R\\n',\n",
       " 'review/profileName: Kevin Killian\\n',\n",
       " 'review/helpfulness: 10/10\\n',\n",
       " 'review/score: 5.0\\n',\n",
       " 'review/time: 1095724800\\n',\n",
       " 'review/summary: Really Enjoyed It\\n',\n",
       " \"review/text: I don't care much for Dr. Seuss but after reading Philip Nel's book I changed my mind--that's a good testimonial to the power of Rel's writing and thinking. Rel plays Dr. Seuss the ultimate compliment of treating him as a serious poet as well as one of the 20th century's most interesting visual artists, and after reading his book I decided that a trip to the Mandeville Collections of the library at University of California in San Diego was in order, so I could visit some of the incredible Seuss/Geisel holdings they have there.There's almost too much to take in, for, like William Butler Yeats, Seuss led a career that constantly shifted and metamoprhized itself to meet new historical and political cirsumstances, so he seems to have been both a leftist and a conservative at different junctures of his career, both in politics and in art. As Nel shows us, he was once a cartoonist for the fabled PM magazine and, like Andy Warhol, he served his time slaving in the ad business too. All was in the service of amusing and broadening the minds of US children. Nel doesn't hesitate to administer a sound spanking to the Seuss industry that, since his death, has seen fit to license all kinds of awful products including the recent CAT IN THE HAT film with Mike Myers. Oh, what a cat-astrophe!The book is great and I can especially recommend the work of the picture editor who has given us a bounty of good illustrations.\\n\"]"
      ]
     },
     "execution_count": 4,
>>>>>>> 235e01ca51b0cae94945786308413b56515ef0a2
     "metadata": {},
     "output_type": "execute_result"
    }
   ],
   "source": [
    "# removing b' from the data\n",
    "data = [x.replace(\"b'\", \"\").replace(\"\\\\n\", \"\") for x in data]\n",
    "data[:21]"
   ]
  },
  {
   "cell_type": "code",
<<<<<<< HEAD
   "execution_count": 48,
   "metadata": {},
   "outputs": [
    {
     "name": "stdout",
     "output_type": "stream",
     "text": [
      "'\n",
      "product/title: Dr. Seuss: American Icon'\n",
      "'\n",
      "product/title: Dr. Seuss: American Icon'\n",
      "'\n",
      "product/title: Dr. Seuss: American Icon'\n",
      "b\"review/text: Theodore Seuss Geisel (1904-1991), aka &quot;Dr. Seuss,&quot; was one of the most influential writers and artists of the 20th century.In 1959, Rudolf Flesch wrote, &quot;A hundred years from now, children and their parents will still eagerly read the books of a fellow called Ted Geisel, popularly known as Dr. Seuss.&quot;Flesch was too conservative in his prediction. A century, and more, from today, Dr. Seuss will still be read when many authors on today's bestseller lists will be forgotten.Published on the centenary of Geisel's birth, Dr. Seuss: American Icon analyzes six key aspects of Seuss's career: poetry, politics, art, biography, marketing, and influence.In six insightful chapters, Philip Nel, Assistant Professor of English at Kansas State University, discusses &quot;U.S. Laureate of Nonsense,&quot; &quot;Dr. Seuss vs. Adolf Hitler,&quot; &quot;The Doc in the Smock,&quot; &quot;The 5,000 Fingers of Dr. S.,&quot; &quot;The Disneyfication of Dr. Seuss,&quot; and &quot;The Cat in the Hat for President.&quot;Nel gives short shrift to Geisel's childhood and family background--and, indeed, to biography in general--preferring to focus on Seuss's writing and art, from his first book, And to Think That I Saw It on Mulberry Street (1937) to his last book, Oh, the Places You'll Go! (1990).Dr. Seuss's breakthrough year was 1957, when he published the two books with which he is most often identified: The Cat in the Hat and How the Grinch Stole Christmas!Other classic works in the Seussian canon are: Horton Hears a Who! (&quot;A person's a person, no matter how small&quot;), Yertle the Turtle (modeled on the rise of Adolf Hitler), Green Eggs and Ham (Seuss's bestselling book), The Sneeches (a criticism of anti-Semitism), The Lorax (a protest against corporate abuse of the environment), and The Butter Battle Book (a critique of Reagan's enthusiasm for the nuclear arms trace).His favorite work, among the books he authored, was The Cat in the Hat, for it, more than any other, taught children to read.While many of his books have a clear and powerful moral, Seuss had a horror of heavy-handed preaching. He sought to teach and ignite the imagination, but was a lifelong opponent of smug, self-righteous bourgeois moralism.&quot;Seuss was a contrarian,&quot; writes Nel, &quot;who enjoyed challenging people to reconsider their assumptions. [He had a] rebellious imagination and a dispositional distaste for rules and regulations.&quot; His work was a &quot;rational insanity&quot; that exhibited &quot;joyous anarchy&quot; and a &quot;lifelong thrill in misbehaving.&quot;A better subtitle for Nel's work would have been American Icon and Iconoclast.Nel tells of Seuss's early years as an advertising artist and as a agitprop cartoonist. The book, however, is not a biography; it is a serious study in the genres of literary and art criticism.For readers who want more biographical information, Nel recommends Dr. Seuss and Mr. Geisel, by Judith Morgan and Neil Morgan (1995), which he describes as &quot;the definitive biography and the single best secondary source on Seuss. Any discussion of Seuss's life and work must begin with this book.&quot;Dr. Seuss: American Icon includes 103 pages of notes, index, and the most comprehensive annotated Seuss bibliography ever assembled. One learns a lot from this book; the author's lucid style makes it not only an enlightening work but a fun read.Philip Nel is the author of J. K. Rowling's Harry Potter Novels: A Reader's Guide (2001) and The Avant-Garde and American Postmodernity (2002).Roy E. Perry of Nolensville, Tennessee, is an advertising copywriter at a Nashville publishing house.\"\n",
      "'\n",
      "product/title: Dr. Seuss: American Icon'\n",
      "review/text: Philip Nel - Dr. Seuss: American IconThis is basically an academic overview of Seuss poetry, art, cartoons, and the problems with the commercialization of the Seuss name and works after his death. It is not, to any real extent, a biography. Those seeking such should move on.As an academic book it leans on the dry side. It assumes the reader has a fairly good knowledge of Children\\'s Literature and 20th Century cartoons (not the animated kind). Not a book to begin your Dr. Seuss experience with. But if you have read them to your children and are interested about the writing style (there is a good chapter about his poetry) or his art style (not as good a chapter, but still interesting).What interested me the most was the deconstruction of the recent rush to \"cash in\" on Seuss by Hollywood and advertisers. I think that Nel wants to come down against it, but based on Seuss\\' background (he started out drawing Flit ads) and the projects he approved during his lifetime; it is a tough argument to make. In the end though Nel does point out that maybe the movies and tie- ins did not have to be so... crass?The book is well researched; lots of neat tidbits are to be gleamed. Early cartoons by Seuss for PM magazine were occasionally (by today\\'s standards) shockingly racist. It makes him a little more human and puts his latter works like the Lorax in a new light.Those in Education may enjoy this background. Fans of Seuss will enjoy the exhaustive bibliography of Seuss\\'s many, many works. Also good list of other works about the man.'\n",
      "'\n",
      "product/title: Dr. Seuss: American Icon'\n",
      "review/text: \"Dr. Seuss: American Icon\" by Philip Nel is a thoughtful deconstruction of the life and work of Theodore Geisel (aka Dr. Seuss). In this thoughtful book, Mr. Nel deepens our appreciation for Seuss as a distinctively American poet, artist and educator. The author demonstrates Seuss\\' wide ranging influence and argues for his rightful place among the most important cultural figures of the 20th century.An English professor at Kansas State University, Mr. Nel uses his historic knowledge to discuss how Seuss\\' text belongs to a tradition of great nonsense writers. Mr. Nel states that Seuss\\' carefully-constructed absurdist tales encourage children to challenge the status quo by gently skewering the grown-up world; elsewhere, he uses charts to show how Seuss effectively used meter and rhyme to complement his intentionally ridiculous plots and create masterful stories that have stood up well to the test of time.Mr. Nel recounts Seuss\\' early career as advertising illustrator and political cartoonist to help us better understand the influences that shaped his classic children\\'s work. As an artist, Mr. Nel suggests that the term \"energetic cartoon surrealism\" appropriately describes Seuss\\' creative synthesis of cubism, art nouveau, surrealism and other styles. While Seuss\\' influence can be detected in modern rap music, children\\'s books, political cartoons and more, Mr. Nel contends that Seuss would not have been happy about the manner in which his works have been posthumously marketed, opining that the \"Disneyification\" or simplification of Seuss\\' stories for marketable purposes \"threatens to make \\'Seuss\\' synomynous with the ambiguous power of global capitalism\". Such commercialism would appear to collide with Seuss\\' desire to develop critical thinking among young people and to help us all imagine a better world.I highly recommend this book for everyone interested in gaining greater insight and perspective into one of America\\'s greatest creative talents.'\n",
      "'\n",
      "product/title: Dr. Seuss: American Icon'\n",
      "b\"review/text: Theodor Seuss Giesel was best known as 'Dr. Seuss', one of the most influential and enduringly popular children's authors of the 20th century. Giesel created not only his famous imaginative picturebooks, but a unique art and poetry, and even a place for himself in politics. Philip Nel argues that these added activities make Dr. Seuss one of the most influential people in America - certainly the most influential poet - and Dr. Seuss: American Icon provides the reader an memorably excellent survey of Dr. Seuss' many achievements.\"\n",
      "'\n",
      "product/title: Dr. Seuss: American Icon'\n",
      "review/text: When I recieved this book as a gift for Christmas my first impression went along these line: \"Oh great some professor who probably wrote alot of mumbo-jumbo that I don\\'t want to know about Dr. Suess and I know it won\\'t be an enjoyable read.\"Thanks goodness I read it nonetheless.To my pleasure, Nel hardly writes in the airy academia style with which I expected him to. In fact, he\\'s writes so far from it, with a smart and precise style, I am tempted to revise how I feel about professor-writers. However, in accordance with his academia roots, Nel has a 100 page annotated bibliogarphy that goes along with his work, a nice shrine to prove his homework was well done.As far the actual book goes it is an excellent piece work. \"Dr. Seuss: American Icon\" looks at the man behind Dr. Suess not as a straight-forward biography, but rather it focuses on different areas of Dr. Suess (i.e. poet, poetry of, artist, artistic style, adult, activist, etc.) and interjects those discussions with biogrphical anecdotes. A very effective attention keeping method.If you\\'re interested in learning more about the work and the man behind the work of Dr. Suess, this is the book that speaks to both and even more. Highly recommended!'\n",
      "'\n",
      "'\n",
      "product/title: Dr. Seuss: American Icon'\n",
      "b\"review/text: As far as I am aware, this is the first book-length study of the work of Dr. Seuss, and Philip Nel has done an excellent job. If the word 'study' makes you nervous, rest assured: this is not a jargon-filled, pretentious analysis. It is, instead, a nicely written work that views Seuss from several different angles: as a poet, a visual artist, a cartoonist, and so on. Nel writes intelligently on how Seuss fits into the canon of nonsense poets, and provides good background on the roots of Seuss's visual style. Some of the WW2/political cartoon material I had read about before, but Nel covers it thoroughly. The most fascinating chapter to me deals with the marketing of Seuss, particularly since his death. Nel holds forth strongly on the abominable 'Grinch' movie (and I trust he feels the same way about the 'Cat in the Hat' film too), and gets into a very interesting discussion of the possible motivations behind the ever-expanding empire of Dr. Seuss Enterprises. (And no, I don't believe it is purely about the profits!)Two small quibbles prevent me from awarding five stars. Firstly, I would have liked the book to be a little longer. The in-depth bibliography is interesting in itself and will be a goldmine to future researchers, but I'm sure Nel could have found a few more things to say - perhaps about Seuss's gender politics. Secondly, the dust jacket on my copy was a little loose.\"\n",
      "'\n",
      "'\n",
      "'\n",
      "'\n",
      "b\"review/text: I bought this book because I read some glowing praise on an online library site. Unfortunately, I was deeply disappointed by page three. I always buy books in the hope and expectation of having an enjoyable read, not to criticise. However, this book is in urgent need of good editing -- though quite possibly editing alone wouldn't save it. Examples: a bed squeaks slightly and sharply in the same sentence; a nightgown hangs freely over her girlish figure and olive colored complexion; coffee aromas huddle; rumbling clouds huddle (as well as the coffee?); she prepared to sip her coffee beneath the wrath of God... cuddled within the arms of a strong breeze; (the wrath of God is a breeze?); the Columbian (stet) coffee aroma danced beneath her sculpted tan nose; the coffee bean fragrance tangoed within her body; she placed her thick pink lips against the warm cup;... and so on, all by page three. It is quite possible that the storyline is deeply moving. I'll never know because I can't bring myself to continue. Sorry.\"\n",
      "'\n",
      "'\n",
      "'\n",
      "'\n",
      "'\n",
      "'\n",
      "'\n",
      "'\n",
      "'\n",
      "'\n",
      "'\n",
      "'\n",
      "'\n",
      "'\n",
      "'\n",
      "'\n",
      "'\n",
      "'\n",
      "'\n",
      "'\n",
      "'\n",
      "'\n",
      "'\n",
      "'\n",
      "'\n",
      "'\n",
      "'\n",
      "'\n",
      "'\n",
      "product/title: Nation Dance: Religion, Identity and Cultural Difference in the Caribbean'\n",
      "review/text: from publisher:Addresses the interplay of diverse spiritual, religious, and cultural traditions across the Caribbean.Dealing with the ongoing interaction of rich and diverse cultural traditions from Cuba and Jamaica to Guyana and Surinam, Nation Dance addresses some of the major contemporary issues in the study of Caribbean religion and identity. The book\\'s three sections move from a focus on spirituality and healing, to theology in social and political context, and on to questions of identity and diaspora.The book begins with the voices of female practitioners and then offers a broad, interdisciplinary examination of Caribbean religion and culture. Afro-Caribbean religions, Hinduism, Judaism, Islam, and Christianity are all addressed, with specific reflections on Santer&iacute;a, Palo Monte, Vodou, Winti, Obeah, Kali Mai, Orisha work, Spiritual Baptist faith, Spiritualism, Rastafari, Confucianism, Congregationalism, Pentecostalism, Catholicism, and liberation theology. Some essays are based on fieldwork, archival research, and textual or linguistic analysis, while others are concerned with methodological or theoretical issues. Contributors include practitioners and scholars, some very established in the field, others with fresh, new approaches; all of them come from the region or have done extensive fieldwork or research there. In these essays the poetic vitality of the practitioner\\'s voice meets the attentive commitment of the postcolonial scholar in a dance of \"nations\" across the waters.'\n",
      "'\n",
      "product/title: The Church of Christ: A Biblical Ecclesiology for Today'\n",
      "review/text: With the publication of Everett Ferguson\\'s book on ecclesiology, another milestone has been reached in the scholarly presentation of the distinctive theological perspective of Churches of Christ. The book is divided into six chapters, each roughly sixty to seventy pages in length. Within each chapter, Ferguson neatly and systematically outlines his thoughts and arguments. The first chapter, entitled \"The People and the Messiah: History and Eschatology,\" deals mainly with background issues. It examines the Old Testament teaching on the importance of covenant and the meaning of the phrase \"kingdom of God\" in its relationship to an and distinction from the church. Ferguson enters into the New Testament and ecclesiology proper via a consideration of Jesus as Messiah, including a careful exegesis of Matt. 16:13-23, where he concludes that the \"rock\" of Matt. 16:18 is not Peter, but the fact of Jesus\\' Messiahship. Ferguson\\'s analysis of Matt. 16:13-23 is insightful and carefully articulated. Within this section, he gives attention to \"the gates of Hades will not prevail\" and concludes with some interesting yet encouraging insight. In the second chapter, \"The Church and Her Lord: The Nature of the Church,\" Ferguson deals with and focuses on three images, \"people of God,\" \"body of Christ,\" and \"community of the Spirit.\" A peculiar feature in this chapter is placing the discussion of the word ekklesia last rather than first. The latter would seem more appropriate and would seem to set the stage for the chapter, especially for a work of biblical ecclesiology. This great section will open the eyes of the reader and renew his focus of church. That is to say, this chapter correctly puts Christ as the head of the church and gives Him His appropriate place. The third chapter concentrates on, \"The Church and Her Savior: Salvation and Church Membership.\" Essentially this section covers soteriology, which determines ecclesiology, but it is not ecclesiology itself. His full treatment of the nature of sin, the meaning of the cross, and the human response to God\\'s saving work is only loosely linked to his topic of ecclesiology. This is not to say that this section is uninteresting or uninformative because it is quite helpful for a fuller understanding of these matters. Far more important is the content of Ferguson\\'s soteriology. Ferguson is strong when it comes to the necessity of baptism. A few statements will give the reader an idea of his position: \"Baptism is the time at which one is incorporated into Christ and so becomes a child of God\" (pg. 170); \"Baptism is a `calling on the name\\' of the Lord\" (pg. 180); and, \"Baptism is the appointed time at which God pronounces forgiveness\" (pg. 183). He concludes: There must be an objective necessity about baptism, or New Testament writers could not speak of baptism in the way they do\" (pg. 185). How refreshing! In our world of relativity and ecumenism, people need to hear Ferguson\\'s words, especially those in Churches of Christ. The last three chapters move into a more familiar territory for a treatise on the church. Chapter four, \"The Church and Her High Priest: Worship and Assembly\" is a great section for anyone interested in the dynamics of worship. Here, Ferguson begins with a type of etymology as a way of introduction, concentrating on both the Greek and English words. This introduction to the subject sets the stage for the entire chapter. Worship is a hot topic today, thus chapter four is rather applicable for our day with all the differing views. This section is multitudinously faceted and exhaustive. \"The Church and Her Bishop: The Continuing Ministry\" is appropriately the title for the fifth chapter. In this section, Ferguson again touches on some hot topics in the church. It is unfortunate however that he only briefly deals with the debates on miraculous gifts and women\\'s roles. Ferguson advocates a cessasionist position on miraculous gifts and a complementarian position on women\\'s roles, but leaves the reader thirsting for more information and a more comprehensive treatment of the issues. In a day where these two in particular issues are so widely discussed and debated, one would think that they might have received a little concentration. Again, this is not to eradicate what was accomplished in this chapter because it was insightful and obliging, especially given the fact that his discussion on deaconesses was amazingly insightful and well balanced. In chapter six Ferguson adequately covers, \"The Church and Her Teacher: The New Way of Life.\" In this section, he includes an unusually prominent consideration of ethics and a very healthy discussion of the importance of Christian fellowship and its concomitant, church discipline. One last thing that must be mentioned about this chapter is Ferguson\\'s section on unity. Although this section is brief, it is significant and insightful. Ferguson lays out the various aspects of unity and does so in just a few short pages. It serves as an excellent conclusion to a monumental work. Of course, any reader is free to take issue with some of Ferguson\\'s conclusions. For example, the distinction that is made between the temporary and permanent endowments of the Spirit still awaits additional clarification, and there will be those who will score Ferguson, despite his disclaimer, for his synchronic rather than diachronic approach to the New Testament writings. This is a courageous book. Its Reformed-Restorationist slant that the proper doctrine of the church entails a return to the faith and practice of the apostolic church is unmistakable. There are numerous nuggets of exegesis and important points of emphases that make this book worth reading. It is astounding that Ferguson deals with so many facets of ecclesiology in a one-volume work. Not only that, but he also includes a helpful subject index as well as a number of bibliographies. Just a glance at his copious footnotes and it is clear that this book is well researched and well documented. This book should be one that every minister, church leader, and ministry student is required to read and ponder.'\n",
      "'\n",
      "'\n",
      "product/title: The Church of Christ: A Biblical Ecclesiology for Today'\n",
      "product/title: The Church of Christ: A Biblical Ecclesiology for Today'\n",
      "'\n",
      "'\n",
      "product/title: A Walk in the Woods: a Play in Two Acts'\n",
      "'\n",
      "product/title: A Walk in the Woods: a Play in Two Acts'\n",
      "'\n",
      "product/title: A Walk in the Woods: a Play in Two Acts'\n",
      "'\n",
      "'\n",
      "'\n",
      "b\"product/title: Rising Sons and Daughters: Life Among Japan's New Young\"\n",
      "'\n",
      "'\n",
      "b\"product/title: Rising Sons and Daughters: Life Among Japan's New Young\"\n",
      "b\"product/title: Muslim Women's Choices: Religious Belief and Social Reality (Cross Cultural Perspectives on Women)\"\n",
      "'\n",
      "b\"product/title: Muslim Women's Choices: Religious Belief and Social Reality (Cross Cultural Perspectives on Women)\"\n",
      "'\n",
      "b\"review/text: Although written with script authors et al in mind, Dramatica for Screenwriters is the perfect companion book for Dramatica: A New Theory of Story.Using witty and easy to understand examples, the author takes you systematically through the process of turning a meager idea into a full-blown, grand argument story via Dramatica Theory definitions. With a slight mental adjustment, the tips and advice in this book fit the novelist's dilemma as well as the screenwriter's. If you are exploring the world of Dramatica, you need this book on your shelf.\"\n",
      "'\n",
      "'\n",
      "review/text: I purchased this book based on the other reviews claiming that it \"demystifies\" the Dramatica theory and software. Unfortunately, I found the opposite to be the case.I\\'ve made numerous attempts to get my head around the principles of the Dramatica theory, with the intention of finally being able to put to use the rather pricey Dramatica Pro software I bought years ago. Both the software itself, and the book of theory explaining it (\"Dramatica: A New Theory of Story\") are so riddled with specialized (and somewhat proprietary) jargon that I\\'ve long counted myself among the number of users for whom the effort to grasp the principles involved outweighed the potential benefits. (And BTW, I\\'m no newcomer to the basic premises of story structure; I\\'ve got an MFA from a respectable film school, and have worked for many years as a film editor.)I\\'d had high hopes for \"Dramatica For Screenwriters\", figuring it would serve as a practical layman\\'s guide to understanding and using the software. Unfortunately (there\\'s that word again), despite claims in the author\\'s introduction to the contrary, a few pages in the jargon begins coming at the reader hot and heavy, and unlike in \"Dramatica: A New Theory of Story\", which I already found to be too opaque, here much of the jargon is not even explained in a cursory manner. Reader familiarity is assumed, which would seem to defeat the purpose of the book in the first place. So the reader is left with a bit of a Catch-22: if you need the book, you probably won\\'t understand it, and if you can understand the book, you probably don\\'t need it.'\n",
      "'\n",
      "'\n",
      "'\n",
      "'\n",
      "'\n",
      "'\n",
      "'\n",
      "b\"review/text: Not much I can say about this book... It's full of VVVery difficult number puzzles... at least for me. Okay, so I don't get 'A's for my grades at school, but I think that even you might find it a little difficult. The way I see it, you will need lots of paper, patience and time, say 30 minutes or so to solve even the easiest of these.Why? Because basically, you are asked how many combinations can be formed from such and such. Example: How many ways get 31241 by adding prime numbers only? This is not really what the problems are like in the book, they are far more complicated than that.For me, it's just too much. I can't even do 1 single problem. I can't even look up the answers because uses some sort of a legend that I can't understand. But if you have an above average intelligence or are mathematically gifted, you will probably find some obscure short cut to the problem a la Gauss. For the rest, forget it.Word of warning: these are purely number problems. I can't tell if logic will help or even plays a part in this book, but the problems are NUMBER problems.\"\n",
      "'\n",
      "'\n",
      "'\n",
      "'\n",
      "'\n",
      "'\n",
      "'\n",
      "'\n",
      "product/title: The Ultimate Guide to Law School Admission: Insider Secrets for Getting a \"Big Envelope\" with Your Acceptance to Law School!'\n",
      "'\n",
      "product/title: The Ultimate Guide to Law School Admission: Insider Secrets for Getting a \"Big Envelope\" with Your Acceptance to Law School!'\n",
      "'\n",
      "product/title: The Ultimate Guide to Law School Admission: Insider Secrets for Getting a \"Big Envelope\" with Your Acceptance to Law School!'\n",
      "'\n",
      "product/title: The Ultimate Guide to Law School Admission: Insider Secrets for Getting a \"Big Envelope\" with Your Acceptance to Law School!'\n",
      "'\n",
      "product/title: The Ultimate Guide to Law School Admission: Insider Secrets for Getting a \"Big Envelope\" with Your Acceptance to Law School!'\n",
      "'\n",
      "product/title: The Ultimate Guide to Law School Admission: Insider Secrets for Getting a \"Big Envelope\" with Your Acceptance to Law School!'\n",
      "'\n",
      "product/title: The Ultimate Guide to Law School Admission: Insider Secrets for Getting a \"Big Envelope\" with Your Acceptance to Law School!'\n",
      "'\n",
      "'\n",
      "b\"product/title: The Repeal of Reticence: A History of America's Cultural and Legal Struggles over Free Speech, Obscenity, Sexual Liberation, and Modern Art\"\n"
     ]
    }
   ],
=======
   "execution_count": 5,
   "metadata": {
    "collapsed": true
   },
   "outputs": [],
>>>>>>> 235e01ca51b0cae94945786308413b56515ef0a2
   "source": [
    "# split the data to create key value pairs\n",
    "\n",
    "data_list = []\n",
    "data_dict = {}\n",
    "i = 0\n",
    "for lines in data:\n",
<<<<<<< HEAD
    "    if i != 9:\n",
    "        temp_str = lines.split(\":\")\n",
    "        if len(temp_str) == 2:\n",
    "            data_dict[temp_str[0]] = temp_str[1]\n",
    "        else:\n",
    "            print(lines)\n",
    "        i = i+1\n",
=======
    "    if i!=3:\n",
    "        if (\"productId\" in lines) or (\"userId\" in lines) or (\"score:\" in lines):\n",
    "            temp_str = lines.split(\":\")\n",
    "            temp_str[1] = temp_str[1].strip(\" \").strip(\"\\'\")\n",
    "            data_dict[temp_str[0]] = temp_str[1]\n",
    "            i = i+1\n",
>>>>>>> 235e01ca51b0cae94945786308413b56515ef0a2
    "    else:\n",
    "        i = 0\n",
    "        data_list.append(data_dict)\n",
    "        data_dict = {}\n",
    "\n"
   ]
  },
  {
   "cell_type": "code",
<<<<<<< HEAD
   "execution_count": 51,
   "metadata": {},
=======
   "execution_count": 6,
   "metadata": {
    "collapsed": false
   },
>>>>>>> 235e01ca51b0cae94945786308413b56515ef0a2
   "outputs": [
    {
     "data": {
      "text/plain": [
<<<<<<< HEAD
       "[{'product/price': \" unknown'\",\n",
       "  'product/productId': \" 1882931173'\",\n",
       "  'product/title': \" Its Only Art If Its Well Hung!'\",\n",
       "  'review/helpfulness': \" 7/7'\",\n",
       "  'review/profileName': ' Jim of Oz \"jim-of-oz\"\\'',\n",
       "  'review/score': \" 4.0'\",\n",
       "  'review/summary': \" Nice collection of Julie Strain images'\",\n",
       "  'review/time': \" 940636800'\",\n",
       "  'review/userId': \" AVCGYZL8FQQTD'\"},\n",
       " {'product/price': \" unknown'\",\n",
       "  'product/productId': \" 0826414346'\",\n",
       "  'review/helpfulness': \" 10/10'\",\n",
       "  'review/profileName': \" Kevin Killian'\",\n",
       "  'review/score': \" 5.0'\",\n",
       "  'review/time': \" 1095724800'\",\n",
       "  'review/userId': \" A30TK6U7DNS82R'\"},\n",
       " {'b\"review/text': ' I don\\'t care much for Dr. Seuss but after reading Philip Nel\\'s book I changed my mind--that\\'s a good testimonial to the power of Rel\\'s writing and thinking. Rel plays Dr. Seuss the ultimate compliment of treating him as a serious poet as well as one of the 20th century\\'s most interesting visual artists, and after reading his book I decided that a trip to the Mandeville Collections of the library at University of California in San Diego was in order, so I could visit some of the incredible Seuss/Geisel holdings they have there.There\\'s almost too much to take in, for, like William Butler Yeats, Seuss led a career that constantly shifted and metamoprhized itself to meet new historical and political cirsumstances, so he seems to have been both a leftist and a conservative at different junctures of his career, both in politics and in art. As Nel shows us, he was once a cartoonist for the fabled PM magazine and, like Andy Warhol, he served his time slaving in the ad business too. All was in the service of amusing and broadening the minds of US children. Nel doesn\\'t hesitate to administer a sound spanking to the Seuss industry that, since his death, has seen fit to license all kinds of awful products including the recent CAT IN THE HAT film with Mike Myers. Oh, what a cat-astrophe!The book is great and I can especially recommend the work of the picture editor who has given us a bounty of good illustrations.\"',\n",
       "  'product/price': \" unknown'\",\n",
       "  'product/productId': \" 0826414346'\",\n",
       "  'review/helpfulness': \" 10/11'\",\n",
       "  'review/profileName': \" John Granger'\",\n",
       "  'review/score': \" 5.0'\",\n",
       "  'review/userId': \" A3UH4UZ4RSVO82'\"},\n",
       " {'product/price': \" unknown'\",\n",
       "  'product/productId': \" 0826414346'\",\n",
       "  'review/helpfulness': \" 7/7'\",\n",
       "  'review/profileName': ' Roy E. Perry \"amateur philosopher\"\\'',\n",
       "  'review/summary': \" Essential for every personal and Public Library'\",\n",
       "  'review/text': ' If people become the books they read and if \"the child is father to the man,\" then Dr. Seuss (Theodor Seuss Geisel) is the most influential author, poet, and artist of modern times. For me, a daddy to a large family who learned to read with Dr. Seuss and who has memorized too many of the books via repeated readings to young children, Prof. Nel\\\\\\'s brilliant \\\\\\'American Icon\\\\\\' is a long awaited treat. At last a serious treatment of this remarkable genius that is both an engaging read and filled with remarkable insights! I especially enjoyed (and learned more than I care to admit from) Prof. Nel\\\\\\'s discussions of the Disneyfication of Seuss - which Nel links to failings in American copyright law, \"the other sides of Dr. Seuss\" - all of which sides were new to me, and the political genesis of his secular morality in the WWII cartoon work he did at PM magazine. The chapters on Geisel\\\\\\'s poetry and artwork and the link Nel makes between Seuss and the historical avant guarde alone make this book a \"must buy\" for parents and serious readers, not to mention public libraries. Readers of Nel\\\\\\'s other books will find the same engaging writing style that makes the book a fun read while imparting a mountain of information and important ideas. This is simply the best and most comprehensive book yet written on the work of Seuss Geisel and what will certainly be the standard for many years to come. Thank you, Prof. Nel, wherever you are, from a reader who grew up with the good doctor and who is growing up with him again years later. Your book, written from your encyclopeadic knowledge of children\\\\\\'s literature and the media of this genre - from scanning verse to cubist painting! - explains the power, limits, and popularity of the Seuss phenomenon.\\'',\n",
       "  'review/userId': \" A2MVUWT453QH61'\"},\n",
       " {'product/price': \" unknown'\",\n",
       "  'product/productId': \" 0826414346'\",\n",
       "  'review/profileName': ' D. H. Richards \"ninthwavestore\"\\'',\n",
       "  'review/summary': \" Phlip Nel gives silly Seuss a serious treatment'\",\n",
       "  'review/time': \" 1090713600'\",\n",
       "  'review/userId': \" A22X4XUPKF66MR'\"},\n",
       " {'product/price': \" unknown'\",\n",
       "  'product/productId': \" 0826414346'\",\n",
       "  'review/score': \" 4.0'\",\n",
       "  'review/summary': \" Good academic overview'\",\n",
       "  'review/time': \" 1107993600'\",\n",
       "  'review/userId': \" A2F6NONFUDB6UK'\"},\n",
       " {'b\"review/summary': ' One of America\\'s greatest creative talents\"',\n",
       "  'product/price': \" unknown'\",\n",
       "  'product/productId': \" 0826414346'\",\n",
       "  'review/helpfulness': \" 2/2'\",\n",
       "  'review/score': \" 4.0'\",\n",
       "  'review/time': \" 1127174400'\"},\n",
       " {'b\"review/summary': ' A memorably excellent survey of Dr. Seuss\\' many achievements\"',\n",
       "  'product/productId': \" 0826414346'\",\n",
       "  'review/helpfulness': \" 3/4'\",\n",
       "  'review/profileName': \" Midwest Book Review'\",\n",
       "  'review/score': \" 5.0'\",\n",
       "  'review/time': \" 1100131200'\"},\n",
       " {'b\"review/summary': ' Academia At It\\'s Best\"',\n",
       "  'product/productId': \" 0826414346'\",\n",
       "  'review/helpfulness': \" 0/0'\",\n",
       "  'review/profileName': \" J. Squire'\",\n",
       "  'review/score': \" 5.0'\",\n",
       "  'review/time': \" 1231200000'\",\n",
       "  'review/userId': \" A2RSSXTDZDUSH4'\"},\n",
       " {'product/price': \" unknown'\",\n",
       "  'review/helpfulness': \" 0/0'\",\n",
       "  'review/profileName': ' J. P. HIGBED \"big fellow\"\\'',\n",
       "  'review/score': \" 5.0'\",\n",
       "  'review/summary': \" And to think that I read it on the tram!'\",\n",
       "  'review/text': ' Trams (or any public transport) are not usually the best place to read and absorb scholarly texts. But this one has accompanied me on my daily commute, and I have been absorbed in it. It is well written and comprehensive, and tells the tale of a modern author, with plenty of \"Fancy that\" and \"Well, well\" moments. Highly recommended for stationary reading, too.\\'',\n",
       "  'review/time': \" 1209859200'\",\n",
       "  'review/userId': \" A25MD5I2GUIW6W'\"}]"
      ]
     },
     "execution_count": 51,
=======
       "[{'product/productId': '1882931173\\n',\n",
       "  'review/score': '4.0\\n',\n",
       "  'review/userId': 'AVCGYZL8FQQTD\\n'},\n",
       " {'product/productId': '0826414346\\n',\n",
       "  'review/score': '5.0\\n',\n",
       "  'review/userId': 'A30TK6U7DNS82R\\n'},\n",
       " {'product/productId': '0826414346\\n',\n",
       "  'review/score': '5.0\\n',\n",
       "  'review/userId': 'A3UH4UZ4RSVO82\\n'},\n",
       " {'product/productId': '0826414346\\n',\n",
       "  'review/score': '4.0\\n',\n",
       "  'review/userId': 'A2MVUWT453QH61\\n'},\n",
       " {'product/productId': '0826414346\\n',\n",
       "  'review/score': '4.0\\n',\n",
       "  'review/userId': 'A22X4XUPKF66MR\\n'},\n",
       " {'product/productId': '0826414346\\n',\n",
       "  'review/score': '4.0\\n',\n",
       "  'review/userId': 'A2F6NONFUDB6UK\\n'},\n",
       " {'product/productId': '0826414346\\n',\n",
       "  'review/score': '5.0\\n',\n",
       "  'review/userId': 'A14OJS0VWMOSWO\\n'},\n",
       " {'product/productId': '0826414346\\n',\n",
       "  'review/score': '5.0\\n',\n",
       "  'review/userId': 'A2RSSXTDZDUSH4\\n'},\n",
       " {'product/productId': '0826414346\\n',\n",
       "  'review/score': '5.0\\n',\n",
       "  'review/userId': 'A25MD5I2GUIW6W\\n'},\n",
       " {'product/productId': '0826414346\\n',\n",
       "  'review/score': '4.0\\n',\n",
       "  'review/userId': 'A3VA4XFS5WNJO3\\n'}]"
      ]
     },
     "execution_count": 6,
>>>>>>> 235e01ca51b0cae94945786308413b56515ef0a2
     "metadata": {},
     "output_type": "execute_result"
    }
   ],
   "source": [
    "len(data_list)\n",
    "data_list[:10]"
   ]
  },
  {
   "cell_type": "code",
<<<<<<< HEAD
   "execution_count": null,
=======
   "execution_count": 7,
>>>>>>> 235e01ca51b0cae94945786308413b56515ef0a2
   "metadata": {
    "collapsed": true
   },
   "outputs": [],
<<<<<<< HEAD
   "source": []
  }
 ],
 "metadata": {
  "kernelspec": {
   "display_name": "Python 3",
   "language": "python",
   "name": "python3"
=======
   "source": [
    "# importing pandas and converting this to a data_frame\n",
    "import pandas as pd\n",
    "from pandas.io.json import json_normalize"
   ]
  },
  {
   "cell_type": "code",
   "execution_count": 8,
   "metadata": {
    "collapsed": true
   },
   "outputs": [],
   "source": [
    "data_df = pd.DataFrame(json_normalize(data_list))"
   ]
  },
  {
   "cell_type": "code",
   "execution_count": 9,
   "metadata": {
    "collapsed": false
   },
   "outputs": [
    {
     "data": {
      "text/html": [
       "<div>\n",
       "<table border=\"1\" class=\"dataframe\">\n",
       "  <thead>\n",
       "    <tr style=\"text-align: right;\">\n",
       "      <th></th>\n",
       "      <th>ProductID</th>\n",
       "      <th>Review</th>\n",
       "      <th>UserID</th>\n",
       "    </tr>\n",
       "  </thead>\n",
       "  <tbody>\n",
       "    <tr>\n",
       "      <th>0</th>\n",
       "      <td>1882931173\\n</td>\n",
       "      <td>4.0</td>\n",
       "      <td>AVCGYZL8FQQTD\\n</td>\n",
       "    </tr>\n",
       "    <tr>\n",
       "      <th>1</th>\n",
       "      <td>0826414346\\n</td>\n",
       "      <td>5.0</td>\n",
       "      <td>A30TK6U7DNS82R\\n</td>\n",
       "    </tr>\n",
       "    <tr>\n",
       "      <th>2</th>\n",
       "      <td>0826414346\\n</td>\n",
       "      <td>5.0</td>\n",
       "      <td>A3UH4UZ4RSVO82\\n</td>\n",
       "    </tr>\n",
       "    <tr>\n",
       "      <th>3</th>\n",
       "      <td>0826414346\\n</td>\n",
       "      <td>4.0</td>\n",
       "      <td>A2MVUWT453QH61\\n</td>\n",
       "    </tr>\n",
       "    <tr>\n",
       "      <th>4</th>\n",
       "      <td>0826414346\\n</td>\n",
       "      <td>4.0</td>\n",
       "      <td>A22X4XUPKF66MR\\n</td>\n",
       "    </tr>\n",
       "    <tr>\n",
       "      <th>5</th>\n",
       "      <td>0826414346\\n</td>\n",
       "      <td>4.0</td>\n",
       "      <td>A2F6NONFUDB6UK\\n</td>\n",
       "    </tr>\n",
       "    <tr>\n",
       "      <th>6</th>\n",
       "      <td>0826414346\\n</td>\n",
       "      <td>5.0</td>\n",
       "      <td>A14OJS0VWMOSWO\\n</td>\n",
       "    </tr>\n",
       "    <tr>\n",
       "      <th>7</th>\n",
       "      <td>0826414346\\n</td>\n",
       "      <td>5.0</td>\n",
       "      <td>A2RSSXTDZDUSH4\\n</td>\n",
       "    </tr>\n",
       "    <tr>\n",
       "      <th>8</th>\n",
       "      <td>0826414346\\n</td>\n",
       "      <td>5.0</td>\n",
       "      <td>A25MD5I2GUIW6W\\n</td>\n",
       "    </tr>\n",
       "    <tr>\n",
       "      <th>9</th>\n",
       "      <td>0826414346\\n</td>\n",
       "      <td>4.0</td>\n",
       "      <td>A3VA4XFS5WNJO3\\n</td>\n",
       "    </tr>\n",
       "  </tbody>\n",
       "</table>\n",
       "</div>"
      ],
      "text/plain": [
       "      ProductID  Review            UserID\n",
       "0  1882931173\\n     4.0   AVCGYZL8FQQTD\\n\n",
       "1  0826414346\\n     5.0  A30TK6U7DNS82R\\n\n",
       "2  0826414346\\n     5.0  A3UH4UZ4RSVO82\\n\n",
       "3  0826414346\\n     4.0  A2MVUWT453QH61\\n\n",
       "4  0826414346\\n     4.0  A22X4XUPKF66MR\\n\n",
       "5  0826414346\\n     4.0  A2F6NONFUDB6UK\\n\n",
       "6  0826414346\\n     5.0  A14OJS0VWMOSWO\\n\n",
       "7  0826414346\\n     5.0  A2RSSXTDZDUSH4\\n\n",
       "8  0826414346\\n     5.0  A25MD5I2GUIW6W\\n\n",
       "9  0826414346\\n     4.0  A3VA4XFS5WNJO3\\n"
      ]
     },
     "execution_count": 9,
     "metadata": {},
     "output_type": "execute_result"
    }
   ],
   "source": [
    "data_df.columns = [\"ProductID\", \"Review\",\"UserID\"]\n",
    "data_df[\"Review\"] = data_df[\"Review\"].astype('float64')\n",
    "data_df.head(10)"
   ]
  },
  {
   "cell_type": "code",
   "execution_count": 10,
   "metadata": {
    "collapsed": false
   },
   "outputs": [],
   "source": [
    "data_df['ProductID'].value_counts()\n",
    "df = data_df[data_df['ProductID'] == 'B000N6DDJQ'] \n",
    "for val in df['UserID']:\n",
    "    df2 = data_df[data_df['UserID'] == val]\n",
    "    if (df2.shape[0] > 1) and (val != \"unknown\"):\n",
    "        print(df2)"
   ]
  },
  {
   "cell_type": "code",
   "execution_count": 11,
   "metadata": {
    "collapsed": false
   },
   "outputs": [
    {
     "data": {
      "text/html": [
       "<div>\n",
       "<table border=\"1\" class=\"dataframe\">\n",
       "  <thead>\n",
       "    <tr style=\"text-align: right;\">\n",
       "      <th></th>\n",
       "      <th>ProductID</th>\n",
       "      <th>Review</th>\n",
       "      <th>UserID</th>\n",
       "    </tr>\n",
       "  </thead>\n",
       "  <tbody>\n",
       "  </tbody>\n",
       "</table>\n",
       "</div>"
      ],
      "text/plain": [
       "Empty DataFrame\n",
       "Columns: [ProductID, Review, UserID]\n",
       "Index: []"
      ]
     },
     "execution_count": 11,
     "metadata": {},
     "output_type": "execute_result"
    }
   ],
   "source": [
    "data_df[data_df['UserID'] == \"AVWZ1I3S6YN7I\"]"
   ]
  },
  {
   "cell_type": "code",
   "execution_count": 12,
   "metadata": {
    "collapsed": false
   },
   "outputs": [
    {
     "data": {
      "text/html": [
       "<div>\n",
       "<table border=\"1\" class=\"dataframe\">\n",
       "  <thead>\n",
       "    <tr>\n",
       "      <th></th>\n",
       "      <th colspan=\"21\" halign=\"left\">Review</th>\n",
       "    </tr>\n",
       "    <tr>\n",
       "      <th>ProductID</th>\n",
       "      <th>0007106823\\n</th>\n",
       "      <th>0020794207\\n</th>\n",
       "      <th>0026204207\\n</th>\n",
       "      <th>006000486X\\n</th>\n",
       "      <th>0060539453\\n</th>\n",
       "      <th>0060539461\\n</th>\n",
       "      <th>0060550546\\n</th>\n",
       "      <th>0070434425\\n</th>\n",
       "      <th>0071374035\\n</th>\n",
       "      <th>0130215325\\n</th>\n",
       "      <th>...</th>\n",
       "      <th>B000OU191K\\n</th>\n",
       "      <th>B000OV6MFM\\n</th>\n",
       "      <th>B000OVBC52\\n</th>\n",
       "      <th>B000OXCBJQ\\n</th>\n",
       "      <th>B000P1D9AC\\n</th>\n",
       "      <th>B000PHTCGG\\n</th>\n",
       "      <th>B000PXNN4C\\n</th>\n",
       "      <th>B000Q9U9W4\\n</th>\n",
       "      <th>B000QFQ7XS\\n</th>\n",
       "      <th>B000R0GO80\\n</th>\n",
       "    </tr>\n",
       "    <tr>\n",
       "      <th>UserID</th>\n",
       "      <th></th>\n",
       "      <th></th>\n",
       "      <th></th>\n",
       "      <th></th>\n",
       "      <th></th>\n",
       "      <th></th>\n",
       "      <th></th>\n",
       "      <th></th>\n",
       "      <th></th>\n",
       "      <th></th>\n",
       "      <th></th>\n",
       "      <th></th>\n",
       "      <th></th>\n",
       "      <th></th>\n",
       "      <th></th>\n",
       "      <th></th>\n",
       "      <th></th>\n",
       "      <th></th>\n",
       "      <th></th>\n",
       "      <th></th>\n",
       "      <th></th>\n",
       "    </tr>\n",
       "  </thead>\n",
       "  <tbody>\n",
       "    <tr>\n",
       "      <th>A11O8YZRKJZGWB\\n</th>\n",
       "      <td>NaN</td>\n",
       "      <td>NaN</td>\n",
       "      <td>NaN</td>\n",
       "      <td>NaN</td>\n",
       "      <td>NaN</td>\n",
       "      <td>NaN</td>\n",
       "      <td>NaN</td>\n",
       "      <td>NaN</td>\n",
       "      <td>NaN</td>\n",
       "      <td>NaN</td>\n",
       "      <td>...</td>\n",
       "      <td>NaN</td>\n",
       "      <td>NaN</td>\n",
       "      <td>NaN</td>\n",
       "      <td>NaN</td>\n",
       "      <td>NaN</td>\n",
       "      <td>NaN</td>\n",
       "      <td>NaN</td>\n",
       "      <td>NaN</td>\n",
       "      <td>NaN</td>\n",
       "      <td>NaN</td>\n",
       "    </tr>\n",
       "    <tr>\n",
       "      <th>A11OJX0HSJR4VC\\n</th>\n",
       "      <td>NaN</td>\n",
       "      <td>NaN</td>\n",
       "      <td>NaN</td>\n",
       "      <td>NaN</td>\n",
       "      <td>NaN</td>\n",
       "      <td>NaN</td>\n",
       "      <td>NaN</td>\n",
       "      <td>NaN</td>\n",
       "      <td>NaN</td>\n",
       "      <td>NaN</td>\n",
       "      <td>...</td>\n",
       "      <td>NaN</td>\n",
       "      <td>NaN</td>\n",
       "      <td>NaN</td>\n",
       "      <td>NaN</td>\n",
       "      <td>NaN</td>\n",
       "      <td>NaN</td>\n",
       "      <td>NaN</td>\n",
       "      <td>NaN</td>\n",
       "      <td>NaN</td>\n",
       "      <td>NaN</td>\n",
       "    </tr>\n",
       "    <tr>\n",
       "      <th>A11Q8YDDWF0WKJ\\n</th>\n",
       "      <td>NaN</td>\n",
       "      <td>NaN</td>\n",
       "      <td>NaN</td>\n",
       "      <td>NaN</td>\n",
       "      <td>NaN</td>\n",
       "      <td>NaN</td>\n",
       "      <td>NaN</td>\n",
       "      <td>NaN</td>\n",
       "      <td>NaN</td>\n",
       "      <td>NaN</td>\n",
       "      <td>...</td>\n",
       "      <td>NaN</td>\n",
       "      <td>NaN</td>\n",
       "      <td>NaN</td>\n",
       "      <td>NaN</td>\n",
       "      <td>NaN</td>\n",
       "      <td>NaN</td>\n",
       "      <td>NaN</td>\n",
       "      <td>NaN</td>\n",
       "      <td>NaN</td>\n",
       "      <td>NaN</td>\n",
       "    </tr>\n",
       "    <tr>\n",
       "      <th>A11QJKE828DJJ7\\n</th>\n",
       "      <td>NaN</td>\n",
       "      <td>NaN</td>\n",
       "      <td>NaN</td>\n",
       "      <td>NaN</td>\n",
       "      <td>NaN</td>\n",
       "      <td>NaN</td>\n",
       "      <td>NaN</td>\n",
       "      <td>NaN</td>\n",
       "      <td>NaN</td>\n",
       "      <td>NaN</td>\n",
       "      <td>...</td>\n",
       "      <td>NaN</td>\n",
       "      <td>NaN</td>\n",
       "      <td>NaN</td>\n",
       "      <td>NaN</td>\n",
       "      <td>NaN</td>\n",
       "      <td>NaN</td>\n",
       "      <td>NaN</td>\n",
       "      <td>NaN</td>\n",
       "      <td>NaN</td>\n",
       "      <td>NaN</td>\n",
       "    </tr>\n",
       "    <tr>\n",
       "      <th>A11TWX8H0LNKW0\\n</th>\n",
       "      <td>NaN</td>\n",
       "      <td>NaN</td>\n",
       "      <td>NaN</td>\n",
       "      <td>NaN</td>\n",
       "      <td>NaN</td>\n",
       "      <td>NaN</td>\n",
       "      <td>NaN</td>\n",
       "      <td>NaN</td>\n",
       "      <td>NaN</td>\n",
       "      <td>NaN</td>\n",
       "      <td>...</td>\n",
       "      <td>NaN</td>\n",
       "      <td>NaN</td>\n",
       "      <td>NaN</td>\n",
       "      <td>NaN</td>\n",
       "      <td>NaN</td>\n",
       "      <td>NaN</td>\n",
       "      <td>NaN</td>\n",
       "      <td>NaN</td>\n",
       "      <td>NaN</td>\n",
       "      <td>NaN</td>\n",
       "    </tr>\n",
       "    <tr>\n",
       "      <th>A11VN50ZKFNYH5\\n</th>\n",
       "      <td>NaN</td>\n",
       "      <td>NaN</td>\n",
       "      <td>NaN</td>\n",
       "      <td>NaN</td>\n",
       "      <td>NaN</td>\n",
       "      <td>NaN</td>\n",
       "      <td>NaN</td>\n",
       "      <td>NaN</td>\n",
       "      <td>NaN</td>\n",
       "      <td>NaN</td>\n",
       "      <td>...</td>\n",
       "      <td>NaN</td>\n",
       "      <td>NaN</td>\n",
       "      <td>NaN</td>\n",
       "      <td>NaN</td>\n",
       "      <td>NaN</td>\n",
       "      <td>NaN</td>\n",
       "      <td>NaN</td>\n",
       "      <td>NaN</td>\n",
       "      <td>NaN</td>\n",
       "      <td>NaN</td>\n",
       "    </tr>\n",
       "    <tr>\n",
       "      <th>A11WWPGDSJMYVN\\n</th>\n",
       "      <td>NaN</td>\n",
       "      <td>NaN</td>\n",
       "      <td>NaN</td>\n",
       "      <td>NaN</td>\n",
       "      <td>NaN</td>\n",
       "      <td>NaN</td>\n",
       "      <td>NaN</td>\n",
       "      <td>NaN</td>\n",
       "      <td>NaN</td>\n",
       "      <td>NaN</td>\n",
       "      <td>...</td>\n",
       "      <td>NaN</td>\n",
       "      <td>NaN</td>\n",
       "      <td>NaN</td>\n",
       "      <td>NaN</td>\n",
       "      <td>NaN</td>\n",
       "      <td>NaN</td>\n",
       "      <td>NaN</td>\n",
       "      <td>NaN</td>\n",
       "      <td>NaN</td>\n",
       "      <td>NaN</td>\n",
       "    </tr>\n",
       "    <tr>\n",
       "      <th>A11YFPCJ1G0OK1\\n</th>\n",
       "      <td>NaN</td>\n",
       "      <td>NaN</td>\n",
       "      <td>NaN</td>\n",
       "      <td>NaN</td>\n",
       "      <td>NaN</td>\n",
       "      <td>NaN</td>\n",
       "      <td>NaN</td>\n",
       "      <td>NaN</td>\n",
       "      <td>NaN</td>\n",
       "      <td>NaN</td>\n",
       "      <td>...</td>\n",
       "      <td>NaN</td>\n",
       "      <td>NaN</td>\n",
       "      <td>NaN</td>\n",
       "      <td>NaN</td>\n",
       "      <td>NaN</td>\n",
       "      <td>NaN</td>\n",
       "      <td>NaN</td>\n",
       "      <td>NaN</td>\n",
       "      <td>NaN</td>\n",
       "      <td>NaN</td>\n",
       "    </tr>\n",
       "    <tr>\n",
       "      <th>A11YHA1ZGKTY6\\n</th>\n",
       "      <td>NaN</td>\n",
       "      <td>NaN</td>\n",
       "      <td>NaN</td>\n",
       "      <td>NaN</td>\n",
       "      <td>NaN</td>\n",
       "      <td>NaN</td>\n",
       "      <td>NaN</td>\n",
       "      <td>NaN</td>\n",
       "      <td>NaN</td>\n",
       "      <td>NaN</td>\n",
       "      <td>...</td>\n",
       "      <td>NaN</td>\n",
       "      <td>NaN</td>\n",
       "      <td>NaN</td>\n",
       "      <td>NaN</td>\n",
       "      <td>NaN</td>\n",
       "      <td>NaN</td>\n",
       "      <td>NaN</td>\n",
       "      <td>NaN</td>\n",
       "      <td>NaN</td>\n",
       "      <td>NaN</td>\n",
       "    </tr>\n",
       "    <tr>\n",
       "      <th>A11ZBFET1A9IVS\\n</th>\n",
       "      <td>NaN</td>\n",
       "      <td>NaN</td>\n",
       "      <td>NaN</td>\n",
       "      <td>NaN</td>\n",
       "      <td>NaN</td>\n",
       "      <td>NaN</td>\n",
       "      <td>NaN</td>\n",
       "      <td>NaN</td>\n",
       "      <td>NaN</td>\n",
       "      <td>NaN</td>\n",
       "      <td>...</td>\n",
       "      <td>NaN</td>\n",
       "      <td>NaN</td>\n",
       "      <td>NaN</td>\n",
       "      <td>NaN</td>\n",
       "      <td>NaN</td>\n",
       "      <td>NaN</td>\n",
       "      <td>NaN</td>\n",
       "      <td>NaN</td>\n",
       "      <td>NaN</td>\n",
       "      <td>NaN</td>\n",
       "    </tr>\n",
       "    <tr>\n",
       "      <th>A122H2TEE3VUKW\\n</th>\n",
       "      <td>NaN</td>\n",
       "      <td>NaN</td>\n",
       "      <td>NaN</td>\n",
       "      <td>NaN</td>\n",
       "      <td>NaN</td>\n",
       "      <td>NaN</td>\n",
       "      <td>NaN</td>\n",
       "      <td>NaN</td>\n",
       "      <td>NaN</td>\n",
       "      <td>NaN</td>\n",
       "      <td>...</td>\n",
       "      <td>NaN</td>\n",
       "      <td>NaN</td>\n",
       "      <td>NaN</td>\n",
       "      <td>NaN</td>\n",
       "      <td>NaN</td>\n",
       "      <td>NaN</td>\n",
       "      <td>NaN</td>\n",
       "      <td>NaN</td>\n",
       "      <td>NaN</td>\n",
       "      <td>NaN</td>\n",
       "    </tr>\n",
       "    <tr>\n",
       "      <th>A1233PVJQKHML1\\n</th>\n",
       "      <td>NaN</td>\n",
       "      <td>NaN</td>\n",
       "      <td>NaN</td>\n",
       "      <td>NaN</td>\n",
       "      <td>NaN</td>\n",
       "      <td>NaN</td>\n",
       "      <td>NaN</td>\n",
       "      <td>NaN</td>\n",
       "      <td>NaN</td>\n",
       "      <td>NaN</td>\n",
       "      <td>...</td>\n",
       "      <td>NaN</td>\n",
       "      <td>NaN</td>\n",
       "      <td>NaN</td>\n",
       "      <td>NaN</td>\n",
       "      <td>NaN</td>\n",
       "      <td>NaN</td>\n",
       "      <td>NaN</td>\n",
       "      <td>NaN</td>\n",
       "      <td>NaN</td>\n",
       "      <td>NaN</td>\n",
       "    </tr>\n",
       "    <tr>\n",
       "      <th>A1237ROTM7659\\n</th>\n",
       "      <td>NaN</td>\n",
       "      <td>NaN</td>\n",
       "      <td>NaN</td>\n",
       "      <td>NaN</td>\n",
       "      <td>NaN</td>\n",
       "      <td>NaN</td>\n",
       "      <td>NaN</td>\n",
       "      <td>NaN</td>\n",
       "      <td>NaN</td>\n",
       "      <td>NaN</td>\n",
       "      <td>...</td>\n",
       "      <td>NaN</td>\n",
       "      <td>NaN</td>\n",
       "      <td>NaN</td>\n",
       "      <td>NaN</td>\n",
       "      <td>NaN</td>\n",
       "      <td>NaN</td>\n",
       "      <td>NaN</td>\n",
       "      <td>NaN</td>\n",
       "      <td>NaN</td>\n",
       "      <td>NaN</td>\n",
       "    </tr>\n",
       "    <tr>\n",
       "      <th>A124AVJOERDIS8\\n</th>\n",
       "      <td>NaN</td>\n",
       "      <td>NaN</td>\n",
       "      <td>NaN</td>\n",
       "      <td>NaN</td>\n",
       "      <td>NaN</td>\n",
       "      <td>NaN</td>\n",
       "      <td>NaN</td>\n",
       "      <td>NaN</td>\n",
       "      <td>NaN</td>\n",
       "      <td>NaN</td>\n",
       "      <td>...</td>\n",
       "      <td>NaN</td>\n",
       "      <td>NaN</td>\n",
       "      <td>NaN</td>\n",
       "      <td>NaN</td>\n",
       "      <td>NaN</td>\n",
       "      <td>NaN</td>\n",
       "      <td>NaN</td>\n",
       "      <td>NaN</td>\n",
       "      <td>NaN</td>\n",
       "      <td>NaN</td>\n",
       "    </tr>\n",
       "    <tr>\n",
       "      <th>A126KX6FVI4T66\\n</th>\n",
       "      <td>NaN</td>\n",
       "      <td>NaN</td>\n",
       "      <td>NaN</td>\n",
       "      <td>NaN</td>\n",
       "      <td>NaN</td>\n",
       "      <td>NaN</td>\n",
       "      <td>NaN</td>\n",
       "      <td>NaN</td>\n",
       "      <td>NaN</td>\n",
       "      <td>NaN</td>\n",
       "      <td>...</td>\n",
       "      <td>NaN</td>\n",
       "      <td>NaN</td>\n",
       "      <td>NaN</td>\n",
       "      <td>NaN</td>\n",
       "      <td>NaN</td>\n",
       "      <td>NaN</td>\n",
       "      <td>NaN</td>\n",
       "      <td>NaN</td>\n",
       "      <td>NaN</td>\n",
       "      <td>NaN</td>\n",
       "    </tr>\n",
       "    <tr>\n",
       "      <th>A127ML5GWE8QWH\\n</th>\n",
       "      <td>NaN</td>\n",
       "      <td>NaN</td>\n",
       "      <td>NaN</td>\n",
       "      <td>NaN</td>\n",
       "      <td>NaN</td>\n",
       "      <td>NaN</td>\n",
       "      <td>NaN</td>\n",
       "      <td>NaN</td>\n",
       "      <td>NaN</td>\n",
       "      <td>NaN</td>\n",
       "      <td>...</td>\n",
       "      <td>NaN</td>\n",
       "      <td>NaN</td>\n",
       "      <td>NaN</td>\n",
       "      <td>NaN</td>\n",
       "      <td>NaN</td>\n",
       "      <td>NaN</td>\n",
       "      <td>NaN</td>\n",
       "      <td>NaN</td>\n",
       "      <td>NaN</td>\n",
       "      <td>NaN</td>\n",
       "    </tr>\n",
       "    <tr>\n",
       "      <th>A128K8GL4DJYTQ\\n</th>\n",
       "      <td>NaN</td>\n",
       "      <td>NaN</td>\n",
       "      <td>NaN</td>\n",
       "      <td>NaN</td>\n",
       "      <td>NaN</td>\n",
       "      <td>NaN</td>\n",
       "      <td>NaN</td>\n",
       "      <td>NaN</td>\n",
       "      <td>NaN</td>\n",
       "      <td>NaN</td>\n",
       "      <td>...</td>\n",
       "      <td>NaN</td>\n",
       "      <td>NaN</td>\n",
       "      <td>NaN</td>\n",
       "      <td>NaN</td>\n",
       "      <td>NaN</td>\n",
       "      <td>NaN</td>\n",
       "      <td>NaN</td>\n",
       "      <td>NaN</td>\n",
       "      <td>NaN</td>\n",
       "      <td>NaN</td>\n",
       "    </tr>\n",
       "    <tr>\n",
       "      <th>A12A08OL0TZY0W\\n</th>\n",
       "      <td>NaN</td>\n",
       "      <td>NaN</td>\n",
       "      <td>NaN</td>\n",
       "      <td>NaN</td>\n",
       "      <td>NaN</td>\n",
       "      <td>NaN</td>\n",
       "      <td>NaN</td>\n",
       "      <td>NaN</td>\n",
       "      <td>NaN</td>\n",
       "      <td>NaN</td>\n",
       "      <td>...</td>\n",
       "      <td>NaN</td>\n",
       "      <td>NaN</td>\n",
       "      <td>NaN</td>\n",
       "      <td>NaN</td>\n",
       "      <td>NaN</td>\n",
       "      <td>NaN</td>\n",
       "      <td>NaN</td>\n",
       "      <td>NaN</td>\n",
       "      <td>NaN</td>\n",
       "      <td>NaN</td>\n",
       "    </tr>\n",
       "    <tr>\n",
       "      <th>A12BU50HNBM1Y9\\n</th>\n",
       "      <td>NaN</td>\n",
       "      <td>NaN</td>\n",
       "      <td>NaN</td>\n",
       "      <td>NaN</td>\n",
       "      <td>NaN</td>\n",
       "      <td>NaN</td>\n",
       "      <td>NaN</td>\n",
       "      <td>NaN</td>\n",
       "      <td>NaN</td>\n",
       "      <td>NaN</td>\n",
       "      <td>...</td>\n",
       "      <td>NaN</td>\n",
       "      <td>NaN</td>\n",
       "      <td>NaN</td>\n",
       "      <td>NaN</td>\n",
       "      <td>NaN</td>\n",
       "      <td>NaN</td>\n",
       "      <td>NaN</td>\n",
       "      <td>NaN</td>\n",
       "      <td>NaN</td>\n",
       "      <td>NaN</td>\n",
       "    </tr>\n",
       "    <tr>\n",
       "      <th>A12HLBWCOXVD8\\n</th>\n",
       "      <td>NaN</td>\n",
       "      <td>NaN</td>\n",
       "      <td>NaN</td>\n",
       "      <td>NaN</td>\n",
       "      <td>NaN</td>\n",
       "      <td>NaN</td>\n",
       "      <td>NaN</td>\n",
       "      <td>NaN</td>\n",
       "      <td>NaN</td>\n",
       "      <td>NaN</td>\n",
       "      <td>...</td>\n",
       "      <td>NaN</td>\n",
       "      <td>NaN</td>\n",
       "      <td>NaN</td>\n",
       "      <td>NaN</td>\n",
       "      <td>NaN</td>\n",
       "      <td>NaN</td>\n",
       "      <td>NaN</td>\n",
       "      <td>NaN</td>\n",
       "      <td>NaN</td>\n",
       "      <td>NaN</td>\n",
       "    </tr>\n",
       "    <tr>\n",
       "      <th>A12KDW2EB3JOLH\\n</th>\n",
       "      <td>NaN</td>\n",
       "      <td>NaN</td>\n",
       "      <td>NaN</td>\n",
       "      <td>NaN</td>\n",
       "      <td>NaN</td>\n",
       "      <td>NaN</td>\n",
       "      <td>NaN</td>\n",
       "      <td>NaN</td>\n",
       "      <td>NaN</td>\n",
       "      <td>NaN</td>\n",
       "      <td>...</td>\n",
       "      <td>NaN</td>\n",
       "      <td>NaN</td>\n",
       "      <td>NaN</td>\n",
       "      <td>NaN</td>\n",
       "      <td>NaN</td>\n",
       "      <td>NaN</td>\n",
       "      <td>NaN</td>\n",
       "      <td>NaN</td>\n",
       "      <td>NaN</td>\n",
       "      <td>NaN</td>\n",
       "    </tr>\n",
       "    <tr>\n",
       "      <th>A12LY5F2ZSV0QA\\n</th>\n",
       "      <td>NaN</td>\n",
       "      <td>NaN</td>\n",
       "      <td>NaN</td>\n",
       "      <td>NaN</td>\n",
       "      <td>NaN</td>\n",
       "      <td>NaN</td>\n",
       "      <td>NaN</td>\n",
       "      <td>NaN</td>\n",
       "      <td>NaN</td>\n",
       "      <td>NaN</td>\n",
       "      <td>...</td>\n",
       "      <td>NaN</td>\n",
       "      <td>NaN</td>\n",
       "      <td>NaN</td>\n",
       "      <td>NaN</td>\n",
       "      <td>NaN</td>\n",
       "      <td>NaN</td>\n",
       "      <td>NaN</td>\n",
       "      <td>NaN</td>\n",
       "      <td>NaN</td>\n",
       "      <td>NaN</td>\n",
       "    </tr>\n",
       "    <tr>\n",
       "      <th>A12M1WWAGSH35S\\n</th>\n",
       "      <td>NaN</td>\n",
       "      <td>NaN</td>\n",
       "      <td>NaN</td>\n",
       "      <td>NaN</td>\n",
       "      <td>NaN</td>\n",
       "      <td>NaN</td>\n",
       "      <td>NaN</td>\n",
       "      <td>NaN</td>\n",
       "      <td>NaN</td>\n",
       "      <td>NaN</td>\n",
       "      <td>...</td>\n",
       "      <td>NaN</td>\n",
       "      <td>NaN</td>\n",
       "      <td>NaN</td>\n",
       "      <td>NaN</td>\n",
       "      <td>NaN</td>\n",
       "      <td>NaN</td>\n",
       "      <td>NaN</td>\n",
       "      <td>NaN</td>\n",
       "      <td>NaN</td>\n",
       "      <td>NaN</td>\n",
       "    </tr>\n",
       "    <tr>\n",
       "      <th>A12MB2XSTTED3U\\n</th>\n",
       "      <td>NaN</td>\n",
       "      <td>NaN</td>\n",
       "      <td>NaN</td>\n",
       "      <td>NaN</td>\n",
       "      <td>NaN</td>\n",
       "      <td>NaN</td>\n",
       "      <td>NaN</td>\n",
       "      <td>NaN</td>\n",
       "      <td>NaN</td>\n",
       "      <td>NaN</td>\n",
       "      <td>...</td>\n",
       "      <td>NaN</td>\n",
       "      <td>NaN</td>\n",
       "      <td>NaN</td>\n",
       "      <td>NaN</td>\n",
       "      <td>NaN</td>\n",
       "      <td>NaN</td>\n",
       "      <td>NaN</td>\n",
       "      <td>NaN</td>\n",
       "      <td>NaN</td>\n",
       "      <td>NaN</td>\n",
       "    </tr>\n",
       "    <tr>\n",
       "      <th>A12OXTS9Z6X88T\\n</th>\n",
       "      <td>NaN</td>\n",
       "      <td>NaN</td>\n",
       "      <td>NaN</td>\n",
       "      <td>NaN</td>\n",
       "      <td>NaN</td>\n",
       "      <td>NaN</td>\n",
       "      <td>NaN</td>\n",
       "      <td>NaN</td>\n",
       "      <td>NaN</td>\n",
       "      <td>NaN</td>\n",
       "      <td>...</td>\n",
       "      <td>NaN</td>\n",
       "      <td>NaN</td>\n",
       "      <td>NaN</td>\n",
       "      <td>NaN</td>\n",
       "      <td>NaN</td>\n",
       "      <td>NaN</td>\n",
       "      <td>NaN</td>\n",
       "      <td>NaN</td>\n",
       "      <td>NaN</td>\n",
       "      <td>NaN</td>\n",
       "    </tr>\n",
       "  </tbody>\n",
       "</table>\n",
       "<p>25 rows × 419 columns</p>\n",
       "</div>"
      ],
      "text/plain": [
       "                       Review                                         \\\n",
       "ProductID        0007106823\\n 0020794207\\n 0026204207\\n 006000486X\\n   \n",
       "UserID                                                                 \n",
       "A11O8YZRKJZGWB\\n          NaN          NaN          NaN          NaN   \n",
       "A11OJX0HSJR4VC\\n          NaN          NaN          NaN          NaN   \n",
       "A11Q8YDDWF0WKJ\\n          NaN          NaN          NaN          NaN   \n",
       "A11QJKE828DJJ7\\n          NaN          NaN          NaN          NaN   \n",
       "A11TWX8H0LNKW0\\n          NaN          NaN          NaN          NaN   \n",
       "A11VN50ZKFNYH5\\n          NaN          NaN          NaN          NaN   \n",
       "A11WWPGDSJMYVN\\n          NaN          NaN          NaN          NaN   \n",
       "A11YFPCJ1G0OK1\\n          NaN          NaN          NaN          NaN   \n",
       "A11YHA1ZGKTY6\\n           NaN          NaN          NaN          NaN   \n",
       "A11ZBFET1A9IVS\\n          NaN          NaN          NaN          NaN   \n",
       "A122H2TEE3VUKW\\n          NaN          NaN          NaN          NaN   \n",
       "A1233PVJQKHML1\\n          NaN          NaN          NaN          NaN   \n",
       "A1237ROTM7659\\n           NaN          NaN          NaN          NaN   \n",
       "A124AVJOERDIS8\\n          NaN          NaN          NaN          NaN   \n",
       "A126KX6FVI4T66\\n          NaN          NaN          NaN          NaN   \n",
       "A127ML5GWE8QWH\\n          NaN          NaN          NaN          NaN   \n",
       "A128K8GL4DJYTQ\\n          NaN          NaN          NaN          NaN   \n",
       "A12A08OL0TZY0W\\n          NaN          NaN          NaN          NaN   \n",
       "A12BU50HNBM1Y9\\n          NaN          NaN          NaN          NaN   \n",
       "A12HLBWCOXVD8\\n           NaN          NaN          NaN          NaN   \n",
       "A12KDW2EB3JOLH\\n          NaN          NaN          NaN          NaN   \n",
       "A12LY5F2ZSV0QA\\n          NaN          NaN          NaN          NaN   \n",
       "A12M1WWAGSH35S\\n          NaN          NaN          NaN          NaN   \n",
       "A12MB2XSTTED3U\\n          NaN          NaN          NaN          NaN   \n",
       "A12OXTS9Z6X88T\\n          NaN          NaN          NaN          NaN   \n",
       "\n",
       "                                                                      \\\n",
       "ProductID        0060539453\\n 0060539461\\n 0060550546\\n 0070434425\\n   \n",
       "UserID                                                                 \n",
       "A11O8YZRKJZGWB\\n          NaN          NaN          NaN          NaN   \n",
       "A11OJX0HSJR4VC\\n          NaN          NaN          NaN          NaN   \n",
       "A11Q8YDDWF0WKJ\\n          NaN          NaN          NaN          NaN   \n",
       "A11QJKE828DJJ7\\n          NaN          NaN          NaN          NaN   \n",
       "A11TWX8H0LNKW0\\n          NaN          NaN          NaN          NaN   \n",
       "A11VN50ZKFNYH5\\n          NaN          NaN          NaN          NaN   \n",
       "A11WWPGDSJMYVN\\n          NaN          NaN          NaN          NaN   \n",
       "A11YFPCJ1G0OK1\\n          NaN          NaN          NaN          NaN   \n",
       "A11YHA1ZGKTY6\\n           NaN          NaN          NaN          NaN   \n",
       "A11ZBFET1A9IVS\\n          NaN          NaN          NaN          NaN   \n",
       "A122H2TEE3VUKW\\n          NaN          NaN          NaN          NaN   \n",
       "A1233PVJQKHML1\\n          NaN          NaN          NaN          NaN   \n",
       "A1237ROTM7659\\n           NaN          NaN          NaN          NaN   \n",
       "A124AVJOERDIS8\\n          NaN          NaN          NaN          NaN   \n",
       "A126KX6FVI4T66\\n          NaN          NaN          NaN          NaN   \n",
       "A127ML5GWE8QWH\\n          NaN          NaN          NaN          NaN   \n",
       "A128K8GL4DJYTQ\\n          NaN          NaN          NaN          NaN   \n",
       "A12A08OL0TZY0W\\n          NaN          NaN          NaN          NaN   \n",
       "A12BU50HNBM1Y9\\n          NaN          NaN          NaN          NaN   \n",
       "A12HLBWCOXVD8\\n           NaN          NaN          NaN          NaN   \n",
       "A12KDW2EB3JOLH\\n          NaN          NaN          NaN          NaN   \n",
       "A12LY5F2ZSV0QA\\n          NaN          NaN          NaN          NaN   \n",
       "A12M1WWAGSH35S\\n          NaN          NaN          NaN          NaN   \n",
       "A12MB2XSTTED3U\\n          NaN          NaN          NaN          NaN   \n",
       "A12OXTS9Z6X88T\\n          NaN          NaN          NaN          NaN   \n",
       "\n",
       "                                               ...                    \\\n",
       "ProductID        0071374035\\n 0130215325\\n     ...      B000OU191K\\n   \n",
       "UserID                                         ...                     \n",
       "A11O8YZRKJZGWB\\n          NaN          NaN     ...               NaN   \n",
       "A11OJX0HSJR4VC\\n          NaN          NaN     ...               NaN   \n",
       "A11Q8YDDWF0WKJ\\n          NaN          NaN     ...               NaN   \n",
       "A11QJKE828DJJ7\\n          NaN          NaN     ...               NaN   \n",
       "A11TWX8H0LNKW0\\n          NaN          NaN     ...               NaN   \n",
       "A11VN50ZKFNYH5\\n          NaN          NaN     ...               NaN   \n",
       "A11WWPGDSJMYVN\\n          NaN          NaN     ...               NaN   \n",
       "A11YFPCJ1G0OK1\\n          NaN          NaN     ...               NaN   \n",
       "A11YHA1ZGKTY6\\n           NaN          NaN     ...               NaN   \n",
       "A11ZBFET1A9IVS\\n          NaN          NaN     ...               NaN   \n",
       "A122H2TEE3VUKW\\n          NaN          NaN     ...               NaN   \n",
       "A1233PVJQKHML1\\n          NaN          NaN     ...               NaN   \n",
       "A1237ROTM7659\\n           NaN          NaN     ...               NaN   \n",
       "A124AVJOERDIS8\\n          NaN          NaN     ...               NaN   \n",
       "A126KX6FVI4T66\\n          NaN          NaN     ...               NaN   \n",
       "A127ML5GWE8QWH\\n          NaN          NaN     ...               NaN   \n",
       "A128K8GL4DJYTQ\\n          NaN          NaN     ...               NaN   \n",
       "A12A08OL0TZY0W\\n          NaN          NaN     ...               NaN   \n",
       "A12BU50HNBM1Y9\\n          NaN          NaN     ...               NaN   \n",
       "A12HLBWCOXVD8\\n           NaN          NaN     ...               NaN   \n",
       "A12KDW2EB3JOLH\\n          NaN          NaN     ...               NaN   \n",
       "A12LY5F2ZSV0QA\\n          NaN          NaN     ...               NaN   \n",
       "A12M1WWAGSH35S\\n          NaN          NaN     ...               NaN   \n",
       "A12MB2XSTTED3U\\n          NaN          NaN     ...               NaN   \n",
       "A12OXTS9Z6X88T\\n          NaN          NaN     ...               NaN   \n",
       "\n",
       "                                                                      \\\n",
       "ProductID        B000OV6MFM\\n B000OVBC52\\n B000OXCBJQ\\n B000P1D9AC\\n   \n",
       "UserID                                                                 \n",
       "A11O8YZRKJZGWB\\n          NaN          NaN          NaN          NaN   \n",
       "A11OJX0HSJR4VC\\n          NaN          NaN          NaN          NaN   \n",
       "A11Q8YDDWF0WKJ\\n          NaN          NaN          NaN          NaN   \n",
       "A11QJKE828DJJ7\\n          NaN          NaN          NaN          NaN   \n",
       "A11TWX8H0LNKW0\\n          NaN          NaN          NaN          NaN   \n",
       "A11VN50ZKFNYH5\\n          NaN          NaN          NaN          NaN   \n",
       "A11WWPGDSJMYVN\\n          NaN          NaN          NaN          NaN   \n",
       "A11YFPCJ1G0OK1\\n          NaN          NaN          NaN          NaN   \n",
       "A11YHA1ZGKTY6\\n           NaN          NaN          NaN          NaN   \n",
       "A11ZBFET1A9IVS\\n          NaN          NaN          NaN          NaN   \n",
       "A122H2TEE3VUKW\\n          NaN          NaN          NaN          NaN   \n",
       "A1233PVJQKHML1\\n          NaN          NaN          NaN          NaN   \n",
       "A1237ROTM7659\\n           NaN          NaN          NaN          NaN   \n",
       "A124AVJOERDIS8\\n          NaN          NaN          NaN          NaN   \n",
       "A126KX6FVI4T66\\n          NaN          NaN          NaN          NaN   \n",
       "A127ML5GWE8QWH\\n          NaN          NaN          NaN          NaN   \n",
       "A128K8GL4DJYTQ\\n          NaN          NaN          NaN          NaN   \n",
       "A12A08OL0TZY0W\\n          NaN          NaN          NaN          NaN   \n",
       "A12BU50HNBM1Y9\\n          NaN          NaN          NaN          NaN   \n",
       "A12HLBWCOXVD8\\n           NaN          NaN          NaN          NaN   \n",
       "A12KDW2EB3JOLH\\n          NaN          NaN          NaN          NaN   \n",
       "A12LY5F2ZSV0QA\\n          NaN          NaN          NaN          NaN   \n",
       "A12M1WWAGSH35S\\n          NaN          NaN          NaN          NaN   \n",
       "A12MB2XSTTED3U\\n          NaN          NaN          NaN          NaN   \n",
       "A12OXTS9Z6X88T\\n          NaN          NaN          NaN          NaN   \n",
       "\n",
       "                                                                      \\\n",
       "ProductID        B000PHTCGG\\n B000PXNN4C\\n B000Q9U9W4\\n B000QFQ7XS\\n   \n",
       "UserID                                                                 \n",
       "A11O8YZRKJZGWB\\n          NaN          NaN          NaN          NaN   \n",
       "A11OJX0HSJR4VC\\n          NaN          NaN          NaN          NaN   \n",
       "A11Q8YDDWF0WKJ\\n          NaN          NaN          NaN          NaN   \n",
       "A11QJKE828DJJ7\\n          NaN          NaN          NaN          NaN   \n",
       "A11TWX8H0LNKW0\\n          NaN          NaN          NaN          NaN   \n",
       "A11VN50ZKFNYH5\\n          NaN          NaN          NaN          NaN   \n",
       "A11WWPGDSJMYVN\\n          NaN          NaN          NaN          NaN   \n",
       "A11YFPCJ1G0OK1\\n          NaN          NaN          NaN          NaN   \n",
       "A11YHA1ZGKTY6\\n           NaN          NaN          NaN          NaN   \n",
       "A11ZBFET1A9IVS\\n          NaN          NaN          NaN          NaN   \n",
       "A122H2TEE3VUKW\\n          NaN          NaN          NaN          NaN   \n",
       "A1233PVJQKHML1\\n          NaN          NaN          NaN          NaN   \n",
       "A1237ROTM7659\\n           NaN          NaN          NaN          NaN   \n",
       "A124AVJOERDIS8\\n          NaN          NaN          NaN          NaN   \n",
       "A126KX6FVI4T66\\n          NaN          NaN          NaN          NaN   \n",
       "A127ML5GWE8QWH\\n          NaN          NaN          NaN          NaN   \n",
       "A128K8GL4DJYTQ\\n          NaN          NaN          NaN          NaN   \n",
       "A12A08OL0TZY0W\\n          NaN          NaN          NaN          NaN   \n",
       "A12BU50HNBM1Y9\\n          NaN          NaN          NaN          NaN   \n",
       "A12HLBWCOXVD8\\n           NaN          NaN          NaN          NaN   \n",
       "A12KDW2EB3JOLH\\n          NaN          NaN          NaN          NaN   \n",
       "A12LY5F2ZSV0QA\\n          NaN          NaN          NaN          NaN   \n",
       "A12M1WWAGSH35S\\n          NaN          NaN          NaN          NaN   \n",
       "A12MB2XSTTED3U\\n          NaN          NaN          NaN          NaN   \n",
       "A12OXTS9Z6X88T\\n          NaN          NaN          NaN          NaN   \n",
       "\n",
       "                               \n",
       "ProductID        B000R0GO80\\n  \n",
       "UserID                         \n",
       "A11O8YZRKJZGWB\\n          NaN  \n",
       "A11OJX0HSJR4VC\\n          NaN  \n",
       "A11Q8YDDWF0WKJ\\n          NaN  \n",
       "A11QJKE828DJJ7\\n          NaN  \n",
       "A11TWX8H0LNKW0\\n          NaN  \n",
       "A11VN50ZKFNYH5\\n          NaN  \n",
       "A11WWPGDSJMYVN\\n          NaN  \n",
       "A11YFPCJ1G0OK1\\n          NaN  \n",
       "A11YHA1ZGKTY6\\n           NaN  \n",
       "A11ZBFET1A9IVS\\n          NaN  \n",
       "A122H2TEE3VUKW\\n          NaN  \n",
       "A1233PVJQKHML1\\n          NaN  \n",
       "A1237ROTM7659\\n           NaN  \n",
       "A124AVJOERDIS8\\n          NaN  \n",
       "A126KX6FVI4T66\\n          NaN  \n",
       "A127ML5GWE8QWH\\n          NaN  \n",
       "A128K8GL4DJYTQ\\n          NaN  \n",
       "A12A08OL0TZY0W\\n          NaN  \n",
       "A12BU50HNBM1Y9\\n          NaN  \n",
       "A12HLBWCOXVD8\\n           NaN  \n",
       "A12KDW2EB3JOLH\\n          NaN  \n",
       "A12LY5F2ZSV0QA\\n          NaN  \n",
       "A12M1WWAGSH35S\\n          NaN  \n",
       "A12MB2XSTTED3U\\n          NaN  \n",
       "A12OXTS9Z6X88T\\n          NaN  \n",
       "\n",
       "[25 rows x 419 columns]"
      ]
     },
     "execution_count": 12,
     "metadata": {},
     "output_type": "execute_result"
    }
   ],
   "source": [
    "data_pivot = data_df.pivot_table(index = [\"UserID\"], columns=[\"ProductID\"], values=[\"Review\"])\n",
    "data_pivot[50:75]"
   ]
  },
  {
   "cell_type": "code",
   "execution_count": 13,
   "metadata": {
    "collapsed": false
   },
   "outputs": [
    {
     "data": {
      "text/plain": [
       "(3475, 419)"
      ]
     },
     "execution_count": 13,
     "metadata": {},
     "output_type": "execute_result"
    }
   ],
   "source": [
    "data_pivot.columns = data_pivot.columns.droplevel()\n",
    "#[print(x) for x in data_pivot.columns]\n",
    "data_pivot.shape"
   ]
  },
  {
   "cell_type": "markdown",
   "metadata": {},
   "source": [
    "Building item based collaberative recommender without using any packages"
   ]
  },
  {
   "cell_type": "code",
   "execution_count": 14,
   "metadata": {
    "collapsed": true
   },
   "outputs": [],
   "source": [
    "# function to get pearson correlation between two items\n",
    "\n",
    "def get_cor(i1, i2):\n",
    "    corr = data_pivot[i1].corr(data_pivot[i2])\n",
    "    return corr\n",
    "\n",
    "# function to calculate correlation against all other columns for a given item\n",
    "\n",
    "def all_corr(i1, df, m):\n",
    "    rank_corr = []\n",
    "    for col in df.columns:\n",
    "        if (col != None) and (col != i1):\n",
    "            corr = get_cor(i1, col)\n",
    "            cor_ls = {'item': col,\n",
    "                      'cor': corr}\n",
    "            rank_corr.append(cor_ls)\n",
    "    \n",
    "    order_rank_corr = sorted(rank_corr, key = lambda item: (item['cor']), reverse=True)\n",
    "    #print(order_rank_corr)\n",
    "    return(order_rank_corr[:m])\n"
   ]
  },
  {
   "cell_type": "code",
   "execution_count": 15,
   "metadata": {
    "collapsed": false
   },
   "outputs": [
    {
     "data": {
      "text/plain": [
       "Index([u'ProductID', u'Review', u'UserID'], dtype='object')"
      ]
     },
     "execution_count": 15,
     "metadata": {},
     "output_type": "execute_result"
    }
   ],
   "source": [
    "data_df.columns"
   ]
  },
  {
   "cell_type": "code",
   "execution_count": 16,
   "metadata": {
    "collapsed": false
   },
   "outputs": [
    {
     "data": {
      "text/plain": [
       "B000N6DDJQ\\n    758\n",
       "B0007H4QBK\\n    330\n",
       "B000O3QCH8\\n    157\n",
       "0671551345\\n    134\n",
       "B000MCKQRS\\n    124\n",
       "B000NSKB12\\n    118\n",
       "B000HU0H2E\\n    103\n",
       "050552421X\\n     97\n",
       "0505524228\\n     91\n",
       "B000NRYUHO\\n     76\n",
       "B0000630MU\\n     55\n",
       "B000NKGYNE\\n     55\n",
       "B0006DM4E6\\n     52\n",
       "0679751254\\n     49\n",
       "0974267600\\n     48\n",
       "1883011035\\n     45\n",
       "0671551353\\n     43\n",
       "B0006DM4DW\\n     40\n",
       "0375422811\\n     40\n",
       "B000N7612G\\n     39\n",
       "0931580161\\n     34\n",
       "B000GLTD5Q\\n     32\n",
       "0595344550\\n     32\n",
       "0792799860\\n     31\n",
       "1564966763\\n     29\n",
       "0976324644\\n     28\n",
       "1890460052\\n     27\n",
       "0789480662\\n     27\n",
       "B000NKGYMK\\n     27\n",
       "B0006ANRXG\\n     26\n",
       "               ... \n",
       "0878403825\\n      1\n",
       "0253338352\\n      1\n",
       "0813318726\\n      1\n",
       "B0007IVPAO\\n      1\n",
       "0812830849\\n      1\n",
       "B0007FXCVM\\n      1\n",
       "1859673643\\n      1\n",
       "0768911001\\n      1\n",
       "B000H45MXO\\n      1\n",
       "0882292196\\n      1\n",
       "0975318004\\n      1\n",
       "0867093455\\n      1\n",
       "156292656X\\n      1\n",
       "1423410203\\n      1\n",
       "B0006DM4DC\\n      1\n",
       "0582485541\\n      1\n",
       "B00088DVTQ\\n      1\n",
       "B000OXCBJQ\\n      1\n",
       "0710613776\\n      1\n",
       "0567087786\\n      1\n",
       "0026204207\\n      1\n",
       "0966137116\\n      1\n",
       "0691021155\\n      1\n",
       "B0007DQIIS\\n      1\n",
       "157003088X\\n      1\n",
       "B0007DRE5E\\n      1\n",
       "1843762366\\n      1\n",
       "0908968000\\n      1\n",
       "B0007E2A8E\\n      1\n",
       "B0008BT8Q8\\n      1\n",
       "Name: ProductID, dtype: int64"
      ]
     },
     "execution_count": 16,
     "metadata": {},
     "output_type": "execute_result"
    }
   ],
   "source": [
    "data_df['ProductID'].value_counts()"
   ]
  },
  {
   "cell_type": "markdown",
   "metadata": {},
   "source": [
    "Using GraphLab to perform item based collaborative filtering"
   ]
  },
  {
   "cell_type": "code",
   "execution_count": 17,
   "metadata": {
    "collapsed": false
   },
   "outputs": [],
   "source": [
    "import graphlab as gl"
   ]
  },
  {
   "cell_type": "code",
   "execution_count": 28,
   "metadata": {
    "collapsed": false
   },
   "outputs": [],
   "source": [
    "sf = gl.SFrame({'user_id': data_df['UserID'],\n",
    "                      'item_id': data_df['ProductID'],\n",
    "                      'rating': data_df['Review']})"
   ]
  },
  {
   "cell_type": "code",
   "execution_count": 29,
   "metadata": {
    "collapsed": false
   },
   "outputs": [],
   "source": [
    "#from gl.recommender import item_similarity_recommender"
   ]
  },
  {
   "cell_type": "code",
   "execution_count": 30,
   "metadata": {
    "collapsed": false
   },
   "outputs": [
    {
     "data": {
      "text/html": [
       "<pre>Recsys training: model = factorization_recommender</pre>"
      ],
      "text/plain": [
       "Recsys training: model = factorization_recommender"
      ]
     },
     "metadata": {},
     "output_type": "display_data"
    },
    {
     "data": {
      "text/html": [
       "<pre>Preparing data set.</pre>"
      ],
      "text/plain": [
       "Preparing data set."
      ]
     },
     "metadata": {},
     "output_type": "display_data"
    },
    {
     "data": {
      "text/html": [
       "<pre>    Data has 4545 observations with 3475 users and 419 items.</pre>"
      ],
      "text/plain": [
       "    Data has 4545 observations with 3475 users and 419 items."
      ]
     },
     "metadata": {},
     "output_type": "display_data"
    },
    {
     "data": {
      "text/html": [
       "<pre>    Data prepared in: 0.050181s</pre>"
      ],
      "text/plain": [
       "    Data prepared in: 0.050181s"
      ]
     },
     "metadata": {},
     "output_type": "display_data"
    },
    {
     "data": {
      "text/html": [
       "<pre>Training factorization_recommender for recommendations.</pre>"
      ],
      "text/plain": [
       "Training factorization_recommender for recommendations."
      ]
     },
     "metadata": {},
     "output_type": "display_data"
    },
    {
     "data": {
      "text/html": [
       "<pre>+--------------------------------+--------------------------------------------------+----------+</pre>"
      ],
      "text/plain": [
       "+--------------------------------+--------------------------------------------------+----------+"
      ]
     },
     "metadata": {},
     "output_type": "display_data"
    },
    {
     "data": {
      "text/html": [
       "<pre>| Parameter                      | Description                                      | Value    |</pre>"
      ],
      "text/plain": [
       "| Parameter                      | Description                                      | Value    |"
      ]
     },
     "metadata": {},
     "output_type": "display_data"
    },
    {
     "data": {
      "text/html": [
       "<pre>+--------------------------------+--------------------------------------------------+----------+</pre>"
      ],
      "text/plain": [
       "+--------------------------------+--------------------------------------------------+----------+"
      ]
     },
     "metadata": {},
     "output_type": "display_data"
    },
    {
     "data": {
      "text/html": [
       "<pre>| num_factors                    | Factor Dimension                                 | 8        |</pre>"
      ],
      "text/plain": [
       "| num_factors                    | Factor Dimension                                 | 8        |"
      ]
     },
     "metadata": {},
     "output_type": "display_data"
    },
    {
     "data": {
      "text/html": [
       "<pre>| regularization                 | L2 Regularization on Factors                     | 1e-08    |</pre>"
      ],
      "text/plain": [
       "| regularization                 | L2 Regularization on Factors                     | 1e-08    |"
      ]
     },
     "metadata": {},
     "output_type": "display_data"
    },
    {
     "data": {
      "text/html": [
       "<pre>| solver                         | Solver used for training                         | sgd      |</pre>"
      ],
      "text/plain": [
       "| solver                         | Solver used for training                         | sgd      |"
      ]
     },
     "metadata": {},
     "output_type": "display_data"
    },
    {
     "data": {
      "text/html": [
       "<pre>| linear_regularization          | L2 Regularization on Linear Coefficients         | 1e-10    |</pre>"
      ],
      "text/plain": [
       "| linear_regularization          | L2 Regularization on Linear Coefficients         | 1e-10    |"
      ]
     },
     "metadata": {},
     "output_type": "display_data"
    },
    {
     "data": {
      "text/html": [
       "<pre>| max_iterations                 | Maximum Number of Iterations                     | 50       |</pre>"
      ],
      "text/plain": [
       "| max_iterations                 | Maximum Number of Iterations                     | 50       |"
      ]
     },
     "metadata": {},
     "output_type": "display_data"
    },
    {
     "data": {
      "text/html": [
       "<pre>+--------------------------------+--------------------------------------------------+----------+</pre>"
      ],
      "text/plain": [
       "+--------------------------------+--------------------------------------------------+----------+"
      ]
     },
     "metadata": {},
     "output_type": "display_data"
    },
    {
     "data": {
      "text/html": [
       "<pre>  Optimizing model using SGD; tuning step size.</pre>"
      ],
      "text/plain": [
       "  Optimizing model using SGD; tuning step size."
      ]
     },
     "metadata": {},
     "output_type": "display_data"
    },
    {
     "data": {
      "text/html": [
       "<pre>  Using 4545 / 4545 points for tuning the step size.</pre>"
      ],
      "text/plain": [
       "  Using 4545 / 4545 points for tuning the step size."
      ]
     },
     "metadata": {},
     "output_type": "display_data"
    },
    {
     "data": {
      "text/html": [
       "<pre>+---------+-------------------+------------------------------------------+</pre>"
      ],
      "text/plain": [
       "+---------+-------------------+------------------------------------------+"
      ]
     },
     "metadata": {},
     "output_type": "display_data"
    },
    {
     "data": {
      "text/html": [
       "<pre>| Attempt | Initial Step Size | Estimated Objective Value                |</pre>"
      ],
      "text/plain": [
       "| Attempt | Initial Step Size | Estimated Objective Value                |"
      ]
     },
     "metadata": {},
     "output_type": "display_data"
    },
    {
     "data": {
      "text/html": [
       "<pre>+---------+-------------------+------------------------------------------+</pre>"
      ],
      "text/plain": [
       "+---------+-------------------+------------------------------------------+"
      ]
     },
     "metadata": {},
     "output_type": "display_data"
    },
    {
     "data": {
      "text/html": [
       "<pre>| 0       | 25                | Not Viable                               |</pre>"
      ],
      "text/plain": [
       "| 0       | 25                | Not Viable                               |"
      ]
     },
     "metadata": {},
     "output_type": "display_data"
    },
    {
     "data": {
      "text/html": [
       "<pre>| 1       | 6.25              | Not Viable                               |</pre>"
      ],
      "text/plain": [
       "| 1       | 6.25              | Not Viable                               |"
      ]
     },
     "metadata": {},
     "output_type": "display_data"
    },
    {
     "data": {
      "text/html": [
       "<pre>| 2       | 1.5625            | Not Viable                               |</pre>"
      ],
      "text/plain": [
       "| 2       | 1.5625            | Not Viable                               |"
      ]
     },
     "metadata": {},
     "output_type": "display_data"
    },
    {
     "data": {
      "text/html": [
       "<pre>| 3       | 0.390625          | 0.71722                                  |</pre>"
      ],
      "text/plain": [
       "| 3       | 0.390625          | 0.71722                                  |"
      ]
     },
     "metadata": {},
     "output_type": "display_data"
    },
    {
     "data": {
      "text/html": [
       "<pre>| 4       | 0.195312          | 0.431719                                 |</pre>"
      ],
      "text/plain": [
       "| 4       | 0.195312          | 0.431719                                 |"
      ]
     },
     "metadata": {},
     "output_type": "display_data"
    },
    {
     "data": {
      "text/html": [
       "<pre>| 5       | 0.0976562         | 0.639562                                 |</pre>"
      ],
      "text/plain": [
       "| 5       | 0.0976562         | 0.639562                                 |"
      ]
     },
     "metadata": {},
     "output_type": "display_data"
    },
    {
     "data": {
      "text/html": [
       "<pre>| 6       | 0.0488281         | 0.897704                                 |</pre>"
      ],
      "text/plain": [
       "| 6       | 0.0488281         | 0.897704                                 |"
      ]
     },
     "metadata": {},
     "output_type": "display_data"
    },
    {
     "data": {
      "text/html": [
       "<pre>+---------+-------------------+------------------------------------------+</pre>"
      ],
      "text/plain": [
       "+---------+-------------------+------------------------------------------+"
      ]
     },
     "metadata": {},
     "output_type": "display_data"
    },
    {
     "data": {
      "text/html": [
       "<pre>| Final   | 0.195312          | 0.431719                                 |</pre>"
      ],
      "text/plain": [
       "| Final   | 0.195312          | 0.431719                                 |"
      ]
     },
     "metadata": {},
     "output_type": "display_data"
    },
    {
     "data": {
      "text/html": [
       "<pre>+---------+-------------------+------------------------------------------+</pre>"
      ],
      "text/plain": [
       "+---------+-------------------+------------------------------------------+"
      ]
     },
     "metadata": {},
     "output_type": "display_data"
    },
    {
     "data": {
      "text/html": [
       "<pre>Starting Optimization.</pre>"
      ],
      "text/plain": [
       "Starting Optimization."
      ]
     },
     "metadata": {},
     "output_type": "display_data"
    },
    {
     "data": {
      "text/html": [
       "<pre>+---------+--------------+-------------------+-----------------------+-------------+</pre>"
      ],
      "text/plain": [
       "+---------+--------------+-------------------+-----------------------+-------------+"
      ]
     },
     "metadata": {},
     "output_type": "display_data"
    },
    {
     "data": {
      "text/html": [
       "<pre>| Iter.   | Elapsed Time | Approx. Objective | Approx. Training RMSE | Step Size   |</pre>"
      ],
      "text/plain": [
       "| Iter.   | Elapsed Time | Approx. Objective | Approx. Training RMSE | Step Size   |"
      ]
     },
     "metadata": {},
     "output_type": "display_data"
    },
    {
     "data": {
      "text/html": [
       "<pre>+---------+--------------+-------------------+-----------------------+-------------+</pre>"
      ],
      "text/plain": [
       "+---------+--------------+-------------------+-----------------------+-------------+"
      ]
     },
     "metadata": {},
     "output_type": "display_data"
    },
    {
     "data": {
      "text/html": [
       "<pre>| Initial | 140us        | 1.53854           | 1.24038               |             |</pre>"
      ],
      "text/plain": [
       "| Initial | 140us        | 1.53854           | 1.24038               |             |"
      ]
     },
     "metadata": {},
     "output_type": "display_data"
    },
    {
     "data": {
      "text/html": [
       "<pre>+---------+--------------+-------------------+-----------------------+-------------+</pre>"
      ],
      "text/plain": [
       "+---------+--------------+-------------------+-----------------------+-------------+"
      ]
     },
     "metadata": {},
     "output_type": "display_data"
    },
    {
     "data": {
      "text/html": [
       "<pre>| 1       | 78.982ms     | 1.64931           | 1.28425               | 0.195312    |</pre>"
      ],
      "text/plain": [
       "| 1       | 78.982ms     | 1.64931           | 1.28425               | 0.195312    |"
      ]
     },
     "metadata": {},
     "output_type": "display_data"
    },
    {
     "data": {
      "text/html": [
       "<pre>| 2       | 160.334ms    | 0.84606           | 0.919813              | 0.116134    |</pre>"
      ],
      "text/plain": [
       "| 2       | 160.334ms    | 0.84606           | 0.919813              | 0.116134    |"
      ]
     },
     "metadata": {},
     "output_type": "display_data"
    },
    {
     "data": {
      "text/html": [
       "<pre>| 3       | 246.64ms     | 0.591203          | 0.768896              | 0.0856819   |</pre>"
      ],
      "text/plain": [
       "| 3       | 246.64ms     | 0.591203          | 0.768896              | 0.0856819   |"
      ]
     },
     "metadata": {},
     "output_type": "display_data"
    },
    {
     "data": {
      "text/html": [
       "<pre>| 4       | 332.177ms    | 0.49131           | 0.700935              | 0.0580668   |</pre>"
      ],
      "text/plain": [
       "| 4       | 332.177ms    | 0.49131           | 0.700935              | 0.0580668   |"
      ]
     },
     "metadata": {},
     "output_type": "display_data"
    },
    {
     "data": {
      "text/html": [
       "<pre>| 5       | 472.335ms    | 0.438565          | 0.662242              | 0.0491185   |</pre>"
      ],
      "text/plain": [
       "| 5       | 472.335ms    | 0.438565          | 0.662242              | 0.0491185   |"
      ]
     },
     "metadata": {},
     "output_type": "display_data"
    },
    {
     "data": {
      "text/html": [
       "<pre>| 6       | 634.184ms    | 0.407004          | 0.637968              | 0.042841    |</pre>"
      ],
      "text/plain": [
       "| 6       | 634.184ms    | 0.407004          | 0.637968              | 0.042841    |"
      ]
     },
     "metadata": {},
     "output_type": "display_data"
    },
    {
     "data": {
      "text/html": [
       "<pre>| 11      | 975.444ms    | 0.312573          | 0.559081              | 0.0271912   |</pre>"
      ],
      "text/plain": [
       "| 11      | 975.444ms    | 0.312573          | 0.559081              | 0.0271912   |"
      ]
     },
     "metadata": {},
     "output_type": "display_data"
    },
    {
     "data": {
      "text/html": [
       "<pre>| 25      | 1.70s        | 0.254575          | 0.504554              | 0.00873464  |</pre>"
      ],
      "text/plain": [
       "| 25      | 1.70s        | 0.254575          | 0.504554              | 0.00873464  |"
      ]
     },
     "metadata": {},
     "output_type": "display_data"
    },
    {
     "data": {
      "text/html": [
       "<pre>| 50      | 3.19s        | 0.239953          | 0.489848              | 0.000324603 |</pre>"
      ],
      "text/plain": [
       "| 50      | 3.19s        | 0.239953          | 0.489848              | 0.000324603 |"
      ]
     },
     "metadata": {},
     "output_type": "display_data"
    },
    {
     "data": {
      "text/html": [
       "<pre>+---------+--------------+-------------------+-----------------------+-------------+</pre>"
      ],
      "text/plain": [
       "+---------+--------------+-------------------+-----------------------+-------------+"
      ]
     },
     "metadata": {},
     "output_type": "display_data"
    },
    {
     "data": {
      "text/html": [
       "<pre>Optimization Complete: Maximum number of passes through the data reached.</pre>"
      ],
      "text/plain": [
       "Optimization Complete: Maximum number of passes through the data reached."
      ]
     },
     "metadata": {},
     "output_type": "display_data"
    },
    {
     "data": {
      "text/html": [
       "<pre>Computing final objective value and training RMSE.</pre>"
      ],
      "text/plain": [
       "Computing final objective value and training RMSE."
      ]
     },
     "metadata": {},
     "output_type": "display_data"
    },
    {
     "data": {
      "text/html": [
       "<pre>       Final objective value: 0.239366</pre>"
      ],
      "text/plain": [
       "       Final objective value: 0.239366"
      ]
     },
     "metadata": {},
     "output_type": "display_data"
    },
    {
     "data": {
      "text/html": [
       "<pre>       Final training RMSE: 0.489249</pre>"
      ],
      "text/plain": [
       "       Final training RMSE: 0.489249"
      ]
     },
     "metadata": {},
     "output_type": "display_data"
    }
   ],
   "source": [
    "m = gl.recommender.create(sf, target=\"rating\", ranking = False)"
   ]
  },
  {
   "cell_type": "code",
   "execution_count": 32,
   "metadata": {
    "collapsed": false
   },
   "outputs": [
    {
     "data": {
      "text/html": [
       "<pre>Recsys training: model = item_similarity</pre>"
      ],
      "text/plain": [
       "Recsys training: model = item_similarity"
      ]
     },
     "metadata": {},
     "output_type": "display_data"
    },
    {
     "data": {
      "text/html": [
       "<pre>Preparing data set.</pre>"
      ],
      "text/plain": [
       "Preparing data set."
      ]
     },
     "metadata": {},
     "output_type": "display_data"
    },
    {
     "data": {
      "text/html": [
       "<pre>    Data has 4545 observations with 3475 users and 419 items.</pre>"
      ],
      "text/plain": [
       "    Data has 4545 observations with 3475 users and 419 items."
      ]
     },
     "metadata": {},
     "output_type": "display_data"
    },
    {
     "data": {
      "text/html": [
       "<pre>    Data prepared in: 0.024558s</pre>"
      ],
      "text/plain": [
       "    Data prepared in: 0.024558s"
      ]
     },
     "metadata": {},
     "output_type": "display_data"
    },
    {
     "data": {
      "text/html": [
       "<pre>Training model from provided data.</pre>"
      ],
      "text/plain": [
       "Training model from provided data."
      ]
     },
     "metadata": {},
     "output_type": "display_data"
    },
    {
     "data": {
      "text/html": [
       "<pre>Gathering per-item and per-user statistics.</pre>"
      ],
      "text/plain": [
       "Gathering per-item and per-user statistics."
      ]
     },
     "metadata": {},
     "output_type": "display_data"
    },
    {
     "data": {
      "text/html": [
       "<pre>+--------------------------------+------------+</pre>"
      ],
      "text/plain": [
       "+--------------------------------+------------+"
      ]
     },
     "metadata": {},
     "output_type": "display_data"
    },
    {
     "data": {
      "text/html": [
       "<pre>| Elapsed Time (Item Statistics) | % Complete |</pre>"
      ],
      "text/plain": [
       "| Elapsed Time (Item Statistics) | % Complete |"
      ]
     },
     "metadata": {},
     "output_type": "display_data"
    },
    {
     "data": {
      "text/html": [
       "<pre>+--------------------------------+------------+</pre>"
      ],
      "text/plain": [
       "+--------------------------------+------------+"
      ]
     },
     "metadata": {},
     "output_type": "display_data"
    },
    {
     "data": {
      "text/html": [
       "<pre>| 757us                          | 28.75      |</pre>"
      ],
      "text/plain": [
       "| 757us                          | 28.75      |"
      ]
     },
     "metadata": {},
     "output_type": "display_data"
    },
    {
     "data": {
      "text/html": [
       "<pre>| 9.853ms                        | 100        |</pre>"
      ],
      "text/plain": [
       "| 9.853ms                        | 100        |"
      ]
     },
     "metadata": {},
     "output_type": "display_data"
    },
    {
     "data": {
      "text/html": [
       "<pre>+--------------------------------+------------+</pre>"
      ],
      "text/plain": [
       "+--------------------------------+------------+"
      ]
     },
     "metadata": {},
     "output_type": "display_data"
    },
    {
     "data": {
      "text/html": [
       "<pre>Setting up lookup tables.</pre>"
      ],
      "text/plain": [
       "Setting up lookup tables."
      ]
     },
     "metadata": {},
     "output_type": "display_data"
    },
    {
     "data": {
      "text/html": [
       "<pre>Processing data in one pass using dense lookup tables.</pre>"
      ],
      "text/plain": [
       "Processing data in one pass using dense lookup tables."
      ]
     },
     "metadata": {},
     "output_type": "display_data"
    },
    {
     "data": {
      "text/html": [
       "<pre>+-------------------------------------+------------------+-----------------+</pre>"
      ],
      "text/plain": [
       "+-------------------------------------+------------------+-----------------+"
      ]
     },
     "metadata": {},
     "output_type": "display_data"
    },
    {
     "data": {
      "text/html": [
       "<pre>| Elapsed Time (Constructing Lookups) | Total % Complete | Items Processed |</pre>"
      ],
      "text/plain": [
       "| Elapsed Time (Constructing Lookups) | Total % Complete | Items Processed |"
      ]
     },
     "metadata": {},
     "output_type": "display_data"
    },
    {
     "data": {
      "text/html": [
       "<pre>+-------------------------------------+------------------+-----------------+</pre>"
      ],
      "text/plain": [
       "+-------------------------------------+------------------+-----------------+"
      ]
     },
     "metadata": {},
     "output_type": "display_data"
    },
    {
     "data": {
      "text/html": [
       "<pre>| 12.405ms                            | 0                | 0               |</pre>"
      ],
      "text/plain": [
       "| 12.405ms                            | 0                | 0               |"
      ]
     },
     "metadata": {},
     "output_type": "display_data"
    },
    {
     "data": {
      "text/html": [
       "<pre>| 16.509ms                            | 100              | 419             |</pre>"
      ],
      "text/plain": [
       "| 16.509ms                            | 100              | 419             |"
      ]
     },
     "metadata": {},
     "output_type": "display_data"
    },
    {
     "data": {
      "text/html": [
       "<pre>+-------------------------------------+------------------+-----------------+</pre>"
      ],
      "text/plain": [
       "+-------------------------------------+------------------+-----------------+"
      ]
     },
     "metadata": {},
     "output_type": "display_data"
    },
    {
     "data": {
      "text/html": [
       "<pre>Finalizing lookup tables.</pre>"
      ],
      "text/plain": [
       "Finalizing lookup tables."
      ]
     },
     "metadata": {},
     "output_type": "display_data"
    },
    {
     "data": {
      "text/html": [
       "<pre>Generating candidate set for working with new users.</pre>"
      ],
      "text/plain": [
       "Generating candidate set for working with new users."
      ]
     },
     "metadata": {},
     "output_type": "display_data"
    },
    {
     "data": {
      "text/html": [
       "<pre>Finished training in 0.020378s</pre>"
      ],
      "text/plain": [
       "Finished training in 0.020378s"
      ]
     },
     "metadata": {},
     "output_type": "display_data"
    }
   ],
   "source": [
    "m_item = gl.recommender.item_similarity_recommender.create(sf, only_top_k=2, target = \"rating\")"
   ]
  },
  {
   "cell_type": "code",
   "execution_count": null,
   "metadata": {
    "collapsed": true
   },
   "outputs": [],
   "source": []
  }
 ],
 "metadata": {
  "kernelspec": {
   "display_name": "Python 2",
   "language": "python",
   "name": "python2"
  },
  "language_info": {
   "codemirror_mode": {
    "name": "ipython",
    "version": 2
   },
   "file_extension": ".py",
   "mimetype": "text/x-python",
   "name": "python",
   "nbconvert_exporter": "python",
   "pygments_lexer": "ipython2",
   "version": "2.7.11"
>>>>>>> 235e01ca51b0cae94945786308413b56515ef0a2
  }
 },
 "nbformat": 4,
 "nbformat_minor": 2
}
