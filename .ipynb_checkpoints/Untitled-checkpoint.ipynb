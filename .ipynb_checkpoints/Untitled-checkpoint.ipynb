{
 "cells": [
  {
   "cell_type": "code",
   "execution_count": null,
   "metadata": {
    "collapsed": true
   },
   "outputs": [],
   "source": [
    "import gzip\n",
    "import simplejson\n",
    "\n",
    "def parse(filename):\n",
    "  f = gzip.open(filename, 'r')\n",
    "  entry = {}\n",
    "  for l in f:\n",
    "    l = l.strip()\n",
    "    colonPos = l.find(':')\n",
    "    if colonPos == -1:\n",
    "      yield entry\n",
    "      entry = {}\n",
    "      continue\n",
    "    eName = l[:colonPos]\n",
    "    rest = l[colonPos+2:]\n",
    "    entry[eName] = rest\n",
    "  yield entry\n",
    "\n",
    "for e in parse(\"/Users/ravitejachikkam/Books.txt.gz\"):\n",
    "  print simplejson.dumps(e)"
   ]
  }
 ],
 "metadata": {
  "kernelspec": {
   "display_name": "Python [conda env:gl-env]",
   "language": "python",
   "name": "conda-env-gl-env-py"
  },
  "language_info": {
   "codemirror_mode": {
    "name": "ipython",
    "version": 2
   },
   "file_extension": ".py",
   "mimetype": "text/x-python",
   "name": "python",
   "nbconvert_exporter": "python",
   "pygments_lexer": "ipython2",
   "version": "2.7.11"
  }
 },
 "nbformat": 4,
 "nbformat_minor": 2
}
