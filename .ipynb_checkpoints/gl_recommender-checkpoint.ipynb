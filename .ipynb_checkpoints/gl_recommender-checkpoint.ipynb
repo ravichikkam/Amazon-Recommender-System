{
 "cells": [
  {
   "cell_type": "code",
   "execution_count": 1,
   "metadata": {
    "collapsed": true
   },
   "outputs": [],
   "source": [
    "import graphlab as gl"
   ]
  },
  {
   "cell_type": "code",
   "execution_count": 2,
   "metadata": {},
   "outputs": [
    {
     "name": "stdout",
     "output_type": "stream",
     "text": [
      "This non-commercial license of GraphLab Create for academic use is assigned to rchikkam@asu.edu and will expire on April 14, 2019.\n"
     ]
    },
    {
     "name": "stderr",
     "output_type": "stream",
     "text": [
      "[INFO] graphlab.cython.cy_server: GraphLab Create v2.1 started. Logging: /tmp/graphlab_server_1524977912.log\n"
     ]
    },
    {
     "data": {
      "text/html": [
       "<pre>Unable to parse line \"product/title: Its Only Art If Its Well Hung!\"</pre>"
      ],
      "text/plain": [
       "Unable to parse line \"product/title: Its Only Art If Its Well Hung!\""
      ]
     },
     "metadata": {},
     "output_type": "display_data"
    },
    {
     "data": {
      "text/html": [
       "<pre>Unable to parse line \"review/profileName: C. Taylor\"</pre>"
      ],
      "text/plain": [
       "Unable to parse line \"review/profileName: C. Taylor\""
      ]
     },
     "metadata": {},
     "output_type": "display_data"
    },
    {
     "data": {
      "text/html": [
       "<pre>Unable to parse line \"product/title: Lord of Light\"</pre>"
      ],
      "text/plain": [
       "Unable to parse line \"product/title: Lord of Light\""
      ]
     },
     "metadata": {},
     "output_type": "display_data"
    },
    {
     "data": {
      "text/html": [
       "<pre>Unable to parse line \"review/profileName: Jim of Oz \"jim-of-oz\"\"</pre>"
      ],
      "text/plain": [
       "Unable to parse line \"review/profileName: Jim of Oz \"jim-of-oz\"\""
      ]
     },
     "metadata": {},
     "output_type": "display_data"
    },
    {
     "data": {
      "text/html": [
       "<pre>Unable to parse line \"review/summary: Timeless and Enduring Social Commentary\"</pre>"
      ],
      "text/plain": [
       "Unable to parse line \"review/summary: Timeless and Enduring Social Commentary\""
      ]
     },
     "metadata": {},
     "output_type": "display_data"
    },
    {
     "data": {
      "text/html": [
       "<pre>Unable to parse line \"review/summary: Best SF Book Ever\"</pre>"
      ],
      "text/plain": [
       "Unable to parse line \"review/summary: Best SF Book Ever\""
      ]
     },
     "metadata": {},
     "output_type": "display_data"
    },
    {
     "data": {
      "text/html": [
       "<pre>Unable to parse line \"review/summary: Nice collection of Julie Strain images\"</pre>"
      ],
      "text/plain": [
       "Unable to parse line \"review/summary: Nice collection of Julie Strain images\""
      ]
     },
     "metadata": {},
     "output_type": "display_data"
    },
    {
     "data": {
      "text/html": [
       "<pre>Unable to parse line \"review/text: Orwell's tale of a society where not only behaviour, but also thought is controlled, seems to grow ever more relevant as the years pass and new technologies of surveillance emerge. 1984's concept of `Big Brother' has passed into everyday use, ...\"</pre>"
      ],
      "text/plain": [
       "Unable to parse line \"review/text: Orwell's tale of a society where not only behaviour, but also thought is controlled, seems to grow ever more relevant as the years pass and new technologies of surveillance emerge. 1984's concept of `Big Brother' has passed into everyday use, ...\""
      ]
     },
     "metadata": {},
     "output_type": "display_data"
    },
    {
     "data": {
      "text/html": [
       "<pre>Unable to parse line \"review/text: In my opinion, this is simply the best SF book ever written. Complex but well worth it. Read it twice for the full effect.\"</pre>"
      ],
      "text/plain": [
       "Unable to parse line \"review/text: In my opinion, this is simply the best SF book ever written. Complex but well worth it. Read it twice for the full effect.\""
      ]
     },
     "metadata": {},
     "output_type": "display_data"
    },
    {
     "data": {
      "text/html": [
       "<pre>Unable to parse line \"review/text: This is only for Julie Strain fans. It's a collection of her photos -- about 80 pages worth with a nice section of paintings by Olivia.If you're looking for heavy literary content, this isn't the place to find it -- there's only about 2 pages ...\"</pre>"
      ],
      "text/plain": [
       "Unable to parse line \"review/text: This is only for Julie Strain fans. It's a collection of her photos -- about 80 pages worth with a nice section of paintings by Olivia.If you're looking for heavy literary content, this isn't the place to find it -- there's only about 2 pages ...\""
      ]
     },
     "metadata": {},
     "output_type": "display_data"
    },
    {
     "data": {
      "text/html": [
       "<pre>Unable to parse line \"product/title: Lord of Light\"</pre>"
      ],
      "text/plain": [
       "Unable to parse line \"product/title: Lord of Light\""
      ]
     },
     "metadata": {},
     "output_type": "display_data"
    },
    {
     "data": {
      "text/html": [
       "<pre>Unable to parse line \"review/profileName: JJGemini \"Dude in a monkey suit\"\"</pre>"
      ],
      "text/plain": [
       "Unable to parse line \"review/profileName: JJGemini \"Dude in a monkey suit\"\""
      ]
     },
     "metadata": {},
     "output_type": "display_data"
    },
    {
     "data": {
      "text/html": [
       "<pre>158702 lines failed to parse correctly</pre>"
      ],
      "text/plain": [
       "158702 lines failed to parse correctly"
      ]
     },
     "metadata": {},
     "output_type": "display_data"
    },
    {
     "data": {
      "text/html": [
       "<pre>Finished parsing file /Users/ravitejachikkam/Books.txt.gz</pre>"
      ],
      "text/plain": [
       "Finished parsing file /Users/ravitejachikkam/Books.txt.gz"
      ]
     },
     "metadata": {},
     "output_type": "display_data"
    },
    {
     "data": {
      "text/html": [
       "<pre>Parsing completed. Parsed 100000 lines in 1.41491 secs.</pre>"
      ],
      "text/plain": [
       "Parsing completed. Parsed 100000 lines in 1.41491 secs."
      ]
     },
     "metadata": {},
     "output_type": "display_data"
    }
   ],
   "source": [
    "sf = gl.SFrame.read_csv(\"/Users/ravitejachikkam/Books.txt.gz\", delimiter = ' ', \n",
    "                        nrows = 100000, header = False, column_type_hints=[str,str], quote_char = \"'\")"
   ]
  },
  {
   "cell_type": "code",
   "execution_count": 3,
   "metadata": {},
   "outputs": [
    {
     "data": {
      "text/plain": [
       "(100000, 2)"
      ]
     },
     "execution_count": 3,
     "metadata": {},
     "output_type": "execute_result"
    }
   ],
   "source": [
    "sf.shape"
   ]
  },
  {
   "cell_type": "code",
   "execution_count": 4,
   "metadata": {},
   "outputs": [
    {
     "data": {
      "text/plain": [
       "<bound method SFrame.tail of Columns:\n",
       "\tX1\tstr\n",
       "\tX2\tstr\n",
       "\n",
       "Rows: 100000\n",
       "\n",
       "Data:\n",
       "+---------------------+----------------+\n",
       "|          X1         |       X2       |\n",
       "+---------------------+----------------+\n",
       "|  product/productId: |   1882931173   |\n",
       "|    product/price:   |    unknown     |\n",
       "|    review/userId:   | AVCGYZL8FQQTD  |\n",
       "| review/helpfulness: |      7/7       |\n",
       "|    review/score:    |      4.0       |\n",
       "|     review/time:    |   940636800    |\n",
       "|  product/productId: |   0826414346   |\n",
       "|    product/price:   |    unknown     |\n",
       "|    review/userId:   | A30TK6U7DNS82R |\n",
       "| review/helpfulness: |     10/10      |\n",
       "+---------------------+----------------+\n",
       "[100000 rows x 2 columns]\n",
       "Note: Only the head of the SFrame is printed.\n",
       "You can use print_rows(num_rows=m, num_columns=n) to print more rows and columns.>"
      ]
     },
     "execution_count": 4,
     "metadata": {},
     "output_type": "execute_result"
    }
   ],
   "source": [
    "sf.tail"
   ]
  },
  {
   "cell_type": "code",
   "execution_count": 6,
   "metadata": {},
   "outputs": [
    {
     "ename": "AttributeError",
     "evalue": "'SArray' object has no attribute 'value_counts'",
     "output_type": "error",
     "traceback": [
      "\u001b[0;31m---------------------------------------------------------------------------\u001b[0m",
      "\u001b[0;31mAttributeError\u001b[0m                            Traceback (most recent call last)",
      "\u001b[0;32m<ipython-input-6-c84aead68831>\u001b[0m in \u001b[0;36m<module>\u001b[0;34m()\u001b[0m\n\u001b[0;32m----> 1\u001b[0;31m \u001b[0msf\u001b[0m\u001b[0;34m[\u001b[0m\u001b[0;34m'X1'\u001b[0m\u001b[0;34m]\u001b[0m\u001b[0;34m.\u001b[0m\u001b[0mvalue_counts\u001b[0m\u001b[0;34m(\u001b[0m\u001b[0;34m)\u001b[0m\u001b[0;34m\u001b[0m\u001b[0m\n\u001b[0m",
      "\u001b[0;31mAttributeError\u001b[0m: 'SArray' object has no attribute 'value_counts'"
     ]
    }
   ],
   "source": []
  },
  {
   "cell_type": "code",
   "execution_count": null,
   "metadata": {
    "collapsed": true
   },
   "outputs": [],
   "source": []
  }
 ],
 "metadata": {
  "kernelspec": {
   "display_name": "Python [conda env:gl-env]",
   "language": "python",
   "name": "conda-env-gl-env-py"
  },
  "language_info": {
   "codemirror_mode": {
    "name": "ipython",
    "version": 2
   },
   "file_extension": ".py",
   "mimetype": "text/x-python",
   "name": "python",
   "nbconvert_exporter": "python",
   "pygments_lexer": "ipython2",
   "version": "2.7.11"
  }
 },
 "nbformat": 4,
 "nbformat_minor": 1
}
