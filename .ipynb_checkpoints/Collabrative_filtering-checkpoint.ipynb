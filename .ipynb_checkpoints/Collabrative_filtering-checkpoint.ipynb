{
 "cells": [
  {
   "cell_type": "markdown",
   "metadata": {},
   "source": [
    "# Amazon recommender system"
   ]
  },
  {
   "cell_type": "markdown",
   "metadata": {},
   "source": [
    "### Parse code and write to json"
   ]
  },
  {
   "cell_type": "code",
   "execution_count": 1,
   "metadata": {
    "collapsed": true
   },
   "outputs": [],
   "source": [
    "# import gzip\n",
    "# import simplejson\n",
    "\n",
    "# data = []\n",
    "# def parse(filename):\n",
    "#   f = gzip.open(filename, 'r')\n",
    "#   entry = {}\n",
    "#   for l in f:\n",
    "#     l = l.strip()\n",
    "#     colonPos = l.find(':')\n",
    "#     if colonPos == -1:\n",
    "#       yield entry\n",
    "#       entry = {}\n",
    "#       continue\n",
    "#     eName = l[:colonPos]\n",
    "#     rest = l[colonPos+2:]\n",
    "#     entry[eName] = rest\n",
    "#   yield entry\n",
    "\n",
    "# f = open(\"output.json\", 'w')\n",
    "# for e in parse(\"/Users/ravitejachikkam/Electronics.txt.gz\"):\n",
    "#   f.write(simplejson.dumps(e) + '\\n')"
   ]
  },
  {
   "cell_type": "code",
   "execution_count": 2,
   "metadata": {
    "collapsed": true
   },
   "outputs": [],
   "source": [
    "import pandas as pd"
   ]
  },
  {
   "cell_type": "markdown",
   "metadata": {},
   "source": [
    "### Read json file, parse and convert to SFrame"
   ]
  },
  {
   "cell_type": "code",
   "execution_count": 5,
   "metadata": {},
   "outputs": [
    {
     "data": {
      "text/html": [
       "<div>\n",
       "<table border=\"1\" class=\"dataframe\">\n",
       "  <thead>\n",
       "    <tr style=\"text-align: right;\">\n",
       "      <th></th>\n",
       "      <th>0</th>\n",
       "      <th>1</th>\n",
       "      <th>2</th>\n",
       "      <th>3</th>\n",
       "    </tr>\n",
       "  </thead>\n",
       "  <tbody>\n",
       "    <tr>\n",
       "      <th>0</th>\n",
       "      <td>A3R5OBKS7OM2IR</td>\n",
       "      <td>0000143502</td>\n",
       "      <td>5.0</td>\n",
       "      <td>1358380800</td>\n",
       "    </tr>\n",
       "    <tr>\n",
       "      <th>1</th>\n",
       "      <td>A3R5OBKS7OM2IR</td>\n",
       "      <td>0000143529</td>\n",
       "      <td>5.0</td>\n",
       "      <td>1380672000</td>\n",
       "    </tr>\n",
       "    <tr>\n",
       "      <th>2</th>\n",
       "      <td>AH3QC2PC1VTGP</td>\n",
       "      <td>0000143561</td>\n",
       "      <td>2.0</td>\n",
       "      <td>1216252800</td>\n",
       "    </tr>\n",
       "    <tr>\n",
       "      <th>3</th>\n",
       "      <td>A3LKP6WPMP9UKX</td>\n",
       "      <td>0000143588</td>\n",
       "      <td>5.0</td>\n",
       "      <td>1236902400</td>\n",
       "    </tr>\n",
       "    <tr>\n",
       "      <th>4</th>\n",
       "      <td>AVIY68KEPQ5ZD</td>\n",
       "      <td>0000143588</td>\n",
       "      <td>5.0</td>\n",
       "      <td>1232236800</td>\n",
       "    </tr>\n",
       "    <tr>\n",
       "      <th>5</th>\n",
       "      <td>A1CV1WROP5KTTW</td>\n",
       "      <td>0000589012</td>\n",
       "      <td>5.0</td>\n",
       "      <td>1309651200</td>\n",
       "    </tr>\n",
       "    <tr>\n",
       "      <th>6</th>\n",
       "      <td>AP57WZ2X4G0AA</td>\n",
       "      <td>0000589012</td>\n",
       "      <td>2.0</td>\n",
       "      <td>1366675200</td>\n",
       "    </tr>\n",
       "    <tr>\n",
       "      <th>7</th>\n",
       "      <td>A3NMBJ2LCRCATT</td>\n",
       "      <td>0000589012</td>\n",
       "      <td>5.0</td>\n",
       "      <td>1393804800</td>\n",
       "    </tr>\n",
       "    <tr>\n",
       "      <th>8</th>\n",
       "      <td>A5Y15SAOMX6XA</td>\n",
       "      <td>0000589012</td>\n",
       "      <td>2.0</td>\n",
       "      <td>1307404800</td>\n",
       "    </tr>\n",
       "    <tr>\n",
       "      <th>9</th>\n",
       "      <td>A3P671HJ32TCSF</td>\n",
       "      <td>0000589012</td>\n",
       "      <td>5.0</td>\n",
       "      <td>1393718400</td>\n",
       "    </tr>\n",
       "  </tbody>\n",
       "</table>\n",
       "</div>"
      ],
      "text/plain": [
       "                0           1    2           3\n",
       "0  A3R5OBKS7OM2IR  0000143502  5.0  1358380800\n",
       "1  A3R5OBKS7OM2IR  0000143529  5.0  1380672000\n",
       "2   AH3QC2PC1VTGP  0000143561  2.0  1216252800\n",
       "3  A3LKP6WPMP9UKX  0000143588  5.0  1236902400\n",
       "4   AVIY68KEPQ5ZD  0000143588  5.0  1232236800\n",
       "5  A1CV1WROP5KTTW  0000589012  5.0  1309651200\n",
       "6   AP57WZ2X4G0AA  0000589012  2.0  1366675200\n",
       "7  A3NMBJ2LCRCATT  0000589012  5.0  1393804800\n",
       "8   A5Y15SAOMX6XA  0000589012  2.0  1307404800\n",
       "9  A3P671HJ32TCSF  0000589012  5.0  1393718400"
      ]
     },
     "execution_count": 5,
     "metadata": {},
     "output_type": "execute_result"
    }
   ],
   "source": [
    "data = pd.read_csv(\"/Users/ravitejachikkam/Documents/ASU/Academics/Spring_2018/IEE598/project/ratings_Movies_and_TV.csv\", header=None)\n",
    "data.head(10)"
   ]
  },
  {
   "cell_type": "code",
   "execution_count": 6,
   "metadata": {},
   "outputs": [
    {
     "data": {
      "text/html": [
       "<div>\n",
       "<table border=\"1\" class=\"dataframe\">\n",
       "  <thead>\n",
       "    <tr style=\"text-align: right;\">\n",
       "      <th></th>\n",
       "      <th>userid</th>\n",
       "      <th>productid</th>\n",
       "      <th>rating</th>\n",
       "    </tr>\n",
       "  </thead>\n",
       "  <tbody>\n",
       "    <tr>\n",
       "      <th>0</th>\n",
       "      <td>A3R5OBKS7OM2IR</td>\n",
       "      <td>0000143502</td>\n",
       "      <td>5.0</td>\n",
       "    </tr>\n",
       "    <tr>\n",
       "      <th>1</th>\n",
       "      <td>A3R5OBKS7OM2IR</td>\n",
       "      <td>0000143529</td>\n",
       "      <td>5.0</td>\n",
       "    </tr>\n",
       "    <tr>\n",
       "      <th>2</th>\n",
       "      <td>AH3QC2PC1VTGP</td>\n",
       "      <td>0000143561</td>\n",
       "      <td>2.0</td>\n",
       "    </tr>\n",
       "    <tr>\n",
       "      <th>3</th>\n",
       "      <td>A3LKP6WPMP9UKX</td>\n",
       "      <td>0000143588</td>\n",
       "      <td>5.0</td>\n",
       "    </tr>\n",
       "    <tr>\n",
       "      <th>4</th>\n",
       "      <td>AVIY68KEPQ5ZD</td>\n",
       "      <td>0000143588</td>\n",
       "      <td>5.0</td>\n",
       "    </tr>\n",
       "    <tr>\n",
       "      <th>5</th>\n",
       "      <td>A1CV1WROP5KTTW</td>\n",
       "      <td>0000589012</td>\n",
       "      <td>5.0</td>\n",
       "    </tr>\n",
       "    <tr>\n",
       "      <th>6</th>\n",
       "      <td>AP57WZ2X4G0AA</td>\n",
       "      <td>0000589012</td>\n",
       "      <td>2.0</td>\n",
       "    </tr>\n",
       "    <tr>\n",
       "      <th>7</th>\n",
       "      <td>A3NMBJ2LCRCATT</td>\n",
       "      <td>0000589012</td>\n",
       "      <td>5.0</td>\n",
       "    </tr>\n",
       "    <tr>\n",
       "      <th>8</th>\n",
       "      <td>A5Y15SAOMX6XA</td>\n",
       "      <td>0000589012</td>\n",
       "      <td>2.0</td>\n",
       "    </tr>\n",
       "    <tr>\n",
       "      <th>9</th>\n",
       "      <td>A3P671HJ32TCSF</td>\n",
       "      <td>0000589012</td>\n",
       "      <td>5.0</td>\n",
       "    </tr>\n",
       "    <tr>\n",
       "      <th>10</th>\n",
       "      <td>A3VCKTRD24BG7K</td>\n",
       "      <td>0000589012</td>\n",
       "      <td>5.0</td>\n",
       "    </tr>\n",
       "    <tr>\n",
       "      <th>11</th>\n",
       "      <td>ANF0AGIV0JCH2</td>\n",
       "      <td>0000589012</td>\n",
       "      <td>5.0</td>\n",
       "    </tr>\n",
       "    <tr>\n",
       "      <th>12</th>\n",
       "      <td>A3LDEBLV6MVUBE</td>\n",
       "      <td>0000589012</td>\n",
       "      <td>5.0</td>\n",
       "    </tr>\n",
       "    <tr>\n",
       "      <th>13</th>\n",
       "      <td>A1R2XZWQ6NM5M1</td>\n",
       "      <td>0000589012</td>\n",
       "      <td>5.0</td>\n",
       "    </tr>\n",
       "    <tr>\n",
       "      <th>14</th>\n",
       "      <td>A36L1XGA5AQIJY</td>\n",
       "      <td>0000589012</td>\n",
       "      <td>1.0</td>\n",
       "    </tr>\n",
       "    <tr>\n",
       "      <th>15</th>\n",
       "      <td>A2HWI21H23GDS4</td>\n",
       "      <td>0000589012</td>\n",
       "      <td>4.0</td>\n",
       "    </tr>\n",
       "    <tr>\n",
       "      <th>16</th>\n",
       "      <td>A1DNYFL3RSXRMO</td>\n",
       "      <td>0000589012</td>\n",
       "      <td>5.0</td>\n",
       "    </tr>\n",
       "    <tr>\n",
       "      <th>17</th>\n",
       "      <td>A39VF226GBM1JH</td>\n",
       "      <td>0000589012</td>\n",
       "      <td>1.0</td>\n",
       "    </tr>\n",
       "    <tr>\n",
       "      <th>18</th>\n",
       "      <td>ASB0E2O2FLNA7</td>\n",
       "      <td>0000589012</td>\n",
       "      <td>5.0</td>\n",
       "    </tr>\n",
       "    <tr>\n",
       "      <th>19</th>\n",
       "      <td>A19E15Y9V09CVJ</td>\n",
       "      <td>0000589012</td>\n",
       "      <td>5.0</td>\n",
       "    </tr>\n",
       "    <tr>\n",
       "      <th>20</th>\n",
       "      <td>A3K979KQ7K0S5K</td>\n",
       "      <td>0000589012</td>\n",
       "      <td>5.0</td>\n",
       "    </tr>\n",
       "    <tr>\n",
       "      <th>21</th>\n",
       "      <td>A39ZX6X5H2N4TS</td>\n",
       "      <td>0000589012</td>\n",
       "      <td>5.0</td>\n",
       "    </tr>\n",
       "    <tr>\n",
       "      <th>22</th>\n",
       "      <td>A2Z3ZHQI6YXKHH</td>\n",
       "      <td>0000589012</td>\n",
       "      <td>5.0</td>\n",
       "    </tr>\n",
       "    <tr>\n",
       "      <th>23</th>\n",
       "      <td>A2RNKU9KJHQ2BV</td>\n",
       "      <td>0000589012</td>\n",
       "      <td>5.0</td>\n",
       "    </tr>\n",
       "    <tr>\n",
       "      <th>24</th>\n",
       "      <td>A30WLYNJA3B17H</td>\n",
       "      <td>0000589012</td>\n",
       "      <td>5.0</td>\n",
       "    </tr>\n",
       "    <tr>\n",
       "      <th>25</th>\n",
       "      <td>A3LI15T4YR5WD6</td>\n",
       "      <td>0000589012</td>\n",
       "      <td>5.0</td>\n",
       "    </tr>\n",
       "    <tr>\n",
       "      <th>26</th>\n",
       "      <td>AV3UWBH6K0ETD</td>\n",
       "      <td>0000589012</td>\n",
       "      <td>2.0</td>\n",
       "    </tr>\n",
       "    <tr>\n",
       "      <th>27</th>\n",
       "      <td>A312A70K5UUL1N</td>\n",
       "      <td>0000589012</td>\n",
       "      <td>1.0</td>\n",
       "    </tr>\n",
       "    <tr>\n",
       "      <th>28</th>\n",
       "      <td>A23PSBNOBPLCOM</td>\n",
       "      <td>0000589012</td>\n",
       "      <td>5.0</td>\n",
       "    </tr>\n",
       "    <tr>\n",
       "      <th>29</th>\n",
       "      <td>ATEOWCA0EHRQR</td>\n",
       "      <td>0000589012</td>\n",
       "      <td>5.0</td>\n",
       "    </tr>\n",
       "    <tr>\n",
       "      <th>...</th>\n",
       "      <td>...</td>\n",
       "      <td>...</td>\n",
       "      <td>...</td>\n",
       "    </tr>\n",
       "    <tr>\n",
       "      <th>4607017</th>\n",
       "      <td>A373WTUU2A4TB1</td>\n",
       "      <td>B00LT1JHLW</td>\n",
       "      <td>1.0</td>\n",
       "    </tr>\n",
       "    <tr>\n",
       "      <th>4607018</th>\n",
       "      <td>APO10VQE3MAKE</td>\n",
       "      <td>B00LT1JHLW</td>\n",
       "      <td>5.0</td>\n",
       "    </tr>\n",
       "    <tr>\n",
       "      <th>4607019</th>\n",
       "      <td>A3SXHFEBPOKVUH</td>\n",
       "      <td>B00LT1JHLW</td>\n",
       "      <td>2.0</td>\n",
       "    </tr>\n",
       "    <tr>\n",
       "      <th>4607020</th>\n",
       "      <td>A27BVKLQCW1LCK</td>\n",
       "      <td>B00LT1JHLW</td>\n",
       "      <td>1.0</td>\n",
       "    </tr>\n",
       "    <tr>\n",
       "      <th>4607021</th>\n",
       "      <td>A2MDEBN84TK4HY</td>\n",
       "      <td>B00LT1JHLW</td>\n",
       "      <td>5.0</td>\n",
       "    </tr>\n",
       "    <tr>\n",
       "      <th>4607022</th>\n",
       "      <td>A1WIEH8LK7GX7F</td>\n",
       "      <td>B00LT1JHLW</td>\n",
       "      <td>3.0</td>\n",
       "    </tr>\n",
       "    <tr>\n",
       "      <th>4607023</th>\n",
       "      <td>A2HQOBGW2YYVWQ</td>\n",
       "      <td>B00LT1JHLW</td>\n",
       "      <td>5.0</td>\n",
       "    </tr>\n",
       "    <tr>\n",
       "      <th>4607024</th>\n",
       "      <td>A3PPYOJBMFBP6U</td>\n",
       "      <td>B00LT1JHLW</td>\n",
       "      <td>4.0</td>\n",
       "    </tr>\n",
       "    <tr>\n",
       "      <th>4607025</th>\n",
       "      <td>AZ53XS4PR44Y6</td>\n",
       "      <td>B00LT1JHLW</td>\n",
       "      <td>5.0</td>\n",
       "    </tr>\n",
       "    <tr>\n",
       "      <th>4607026</th>\n",
       "      <td>A1SUH1KA8QVMB7</td>\n",
       "      <td>B00LT1JHLW</td>\n",
       "      <td>5.0</td>\n",
       "    </tr>\n",
       "    <tr>\n",
       "      <th>4607027</th>\n",
       "      <td>ABR3VSYZC1U8E</td>\n",
       "      <td>B00LT1JHLW</td>\n",
       "      <td>5.0</td>\n",
       "    </tr>\n",
       "    <tr>\n",
       "      <th>4607028</th>\n",
       "      <td>A3UHLJGZ2E84A5</td>\n",
       "      <td>B00LT1JHLW</td>\n",
       "      <td>3.0</td>\n",
       "    </tr>\n",
       "    <tr>\n",
       "      <th>4607029</th>\n",
       "      <td>A3GETW3JAL83CW</td>\n",
       "      <td>B00LT1JHLW</td>\n",
       "      <td>5.0</td>\n",
       "    </tr>\n",
       "    <tr>\n",
       "      <th>4607030</th>\n",
       "      <td>A2W4094HU4OLC2</td>\n",
       "      <td>B00LT1JHLW</td>\n",
       "      <td>5.0</td>\n",
       "    </tr>\n",
       "    <tr>\n",
       "      <th>4607031</th>\n",
       "      <td>A22OB0DIJ5FO0G</td>\n",
       "      <td>B00LT1JHLW</td>\n",
       "      <td>4.0</td>\n",
       "    </tr>\n",
       "    <tr>\n",
       "      <th>4607032</th>\n",
       "      <td>A3N9VZS1HE5FHN</td>\n",
       "      <td>B00LT1JHLW</td>\n",
       "      <td>5.0</td>\n",
       "    </tr>\n",
       "    <tr>\n",
       "      <th>4607033</th>\n",
       "      <td>A2CA2Q6JS6CQAE</td>\n",
       "      <td>B00LT1JHLW</td>\n",
       "      <td>5.0</td>\n",
       "    </tr>\n",
       "    <tr>\n",
       "      <th>4607034</th>\n",
       "      <td>AV657BUYHHXZ2</td>\n",
       "      <td>B00LT1JHLW</td>\n",
       "      <td>1.0</td>\n",
       "    </tr>\n",
       "    <tr>\n",
       "      <th>4607035</th>\n",
       "      <td>A1WJYTH5MZ4XMG</td>\n",
       "      <td>B00LT1JHLW</td>\n",
       "      <td>2.0</td>\n",
       "    </tr>\n",
       "    <tr>\n",
       "      <th>4607036</th>\n",
       "      <td>A39ZVXBZ7SJJZ9</td>\n",
       "      <td>B00LT1JHLW</td>\n",
       "      <td>1.0</td>\n",
       "    </tr>\n",
       "    <tr>\n",
       "      <th>4607037</th>\n",
       "      <td>A17W587EH23J0Q</td>\n",
       "      <td>B00LT1JHLW</td>\n",
       "      <td>5.0</td>\n",
       "    </tr>\n",
       "    <tr>\n",
       "      <th>4607038</th>\n",
       "      <td>A3E4Q2YOYCKXON</td>\n",
       "      <td>B00LT1JHLW</td>\n",
       "      <td>5.0</td>\n",
       "    </tr>\n",
       "    <tr>\n",
       "      <th>4607039</th>\n",
       "      <td>A1U1UNV1RLCKRL</td>\n",
       "      <td>B00LT1JHLW</td>\n",
       "      <td>3.0</td>\n",
       "    </tr>\n",
       "    <tr>\n",
       "      <th>4607040</th>\n",
       "      <td>A14THKG1X8861X</td>\n",
       "      <td>B00LT1JHLW</td>\n",
       "      <td>5.0</td>\n",
       "    </tr>\n",
       "    <tr>\n",
       "      <th>4607041</th>\n",
       "      <td>A3DE438TF1A958</td>\n",
       "      <td>B00LT1JHLW</td>\n",
       "      <td>5.0</td>\n",
       "    </tr>\n",
       "    <tr>\n",
       "      <th>4607042</th>\n",
       "      <td>AHCV1RTGY3PJ8</td>\n",
       "      <td>B00LT1JHLW</td>\n",
       "      <td>5.0</td>\n",
       "    </tr>\n",
       "    <tr>\n",
       "      <th>4607043</th>\n",
       "      <td>A2RWCXDMANY0LW</td>\n",
       "      <td>B00LT1JHLW</td>\n",
       "      <td>5.0</td>\n",
       "    </tr>\n",
       "    <tr>\n",
       "      <th>4607044</th>\n",
       "      <td>A3V9PIFRME2XCW</td>\n",
       "      <td>B00LT1JHLW</td>\n",
       "      <td>5.0</td>\n",
       "    </tr>\n",
       "    <tr>\n",
       "      <th>4607045</th>\n",
       "      <td>A3ROPC55BE2OM9</td>\n",
       "      <td>B00LT1JHLW</td>\n",
       "      <td>5.0</td>\n",
       "    </tr>\n",
       "    <tr>\n",
       "      <th>4607046</th>\n",
       "      <td>A2ARBNMH5Q5YM1</td>\n",
       "      <td>B00LVGP8EA</td>\n",
       "      <td>5.0</td>\n",
       "    </tr>\n",
       "  </tbody>\n",
       "</table>\n",
       "<p>4607047 rows × 3 columns</p>\n",
       "</div>"
      ],
      "text/plain": [
       "                 userid   productid  rating\n",
       "0        A3R5OBKS7OM2IR  0000143502     5.0\n",
       "1        A3R5OBKS7OM2IR  0000143529     5.0\n",
       "2         AH3QC2PC1VTGP  0000143561     2.0\n",
       "3        A3LKP6WPMP9UKX  0000143588     5.0\n",
       "4         AVIY68KEPQ5ZD  0000143588     5.0\n",
       "5        A1CV1WROP5KTTW  0000589012     5.0\n",
       "6         AP57WZ2X4G0AA  0000589012     2.0\n",
       "7        A3NMBJ2LCRCATT  0000589012     5.0\n",
       "8         A5Y15SAOMX6XA  0000589012     2.0\n",
       "9        A3P671HJ32TCSF  0000589012     5.0\n",
       "10       A3VCKTRD24BG7K  0000589012     5.0\n",
       "11        ANF0AGIV0JCH2  0000589012     5.0\n",
       "12       A3LDEBLV6MVUBE  0000589012     5.0\n",
       "13       A1R2XZWQ6NM5M1  0000589012     5.0\n",
       "14       A36L1XGA5AQIJY  0000589012     1.0\n",
       "15       A2HWI21H23GDS4  0000589012     4.0\n",
       "16       A1DNYFL3RSXRMO  0000589012     5.0\n",
       "17       A39VF226GBM1JH  0000589012     1.0\n",
       "18        ASB0E2O2FLNA7  0000589012     5.0\n",
       "19       A19E15Y9V09CVJ  0000589012     5.0\n",
       "20       A3K979KQ7K0S5K  0000589012     5.0\n",
       "21       A39ZX6X5H2N4TS  0000589012     5.0\n",
       "22       A2Z3ZHQI6YXKHH  0000589012     5.0\n",
       "23       A2RNKU9KJHQ2BV  0000589012     5.0\n",
       "24       A30WLYNJA3B17H  0000589012     5.0\n",
       "25       A3LI15T4YR5WD6  0000589012     5.0\n",
       "26        AV3UWBH6K0ETD  0000589012     2.0\n",
       "27       A312A70K5UUL1N  0000589012     1.0\n",
       "28       A23PSBNOBPLCOM  0000589012     5.0\n",
       "29        ATEOWCA0EHRQR  0000589012     5.0\n",
       "...                 ...         ...     ...\n",
       "4607017  A373WTUU2A4TB1  B00LT1JHLW     1.0\n",
       "4607018   APO10VQE3MAKE  B00LT1JHLW     5.0\n",
       "4607019  A3SXHFEBPOKVUH  B00LT1JHLW     2.0\n",
       "4607020  A27BVKLQCW1LCK  B00LT1JHLW     1.0\n",
       "4607021  A2MDEBN84TK4HY  B00LT1JHLW     5.0\n",
       "4607022  A1WIEH8LK7GX7F  B00LT1JHLW     3.0\n",
       "4607023  A2HQOBGW2YYVWQ  B00LT1JHLW     5.0\n",
       "4607024  A3PPYOJBMFBP6U  B00LT1JHLW     4.0\n",
       "4607025   AZ53XS4PR44Y6  B00LT1JHLW     5.0\n",
       "4607026  A1SUH1KA8QVMB7  B00LT1JHLW     5.0\n",
       "4607027   ABR3VSYZC1U8E  B00LT1JHLW     5.0\n",
       "4607028  A3UHLJGZ2E84A5  B00LT1JHLW     3.0\n",
       "4607029  A3GETW3JAL83CW  B00LT1JHLW     5.0\n",
       "4607030  A2W4094HU4OLC2  B00LT1JHLW     5.0\n",
       "4607031  A22OB0DIJ5FO0G  B00LT1JHLW     4.0\n",
       "4607032  A3N9VZS1HE5FHN  B00LT1JHLW     5.0\n",
       "4607033  A2CA2Q6JS6CQAE  B00LT1JHLW     5.0\n",
       "4607034   AV657BUYHHXZ2  B00LT1JHLW     1.0\n",
       "4607035  A1WJYTH5MZ4XMG  B00LT1JHLW     2.0\n",
       "4607036  A39ZVXBZ7SJJZ9  B00LT1JHLW     1.0\n",
       "4607037  A17W587EH23J0Q  B00LT1JHLW     5.0\n",
       "4607038  A3E4Q2YOYCKXON  B00LT1JHLW     5.0\n",
       "4607039  A1U1UNV1RLCKRL  B00LT1JHLW     3.0\n",
       "4607040  A14THKG1X8861X  B00LT1JHLW     5.0\n",
       "4607041  A3DE438TF1A958  B00LT1JHLW     5.0\n",
       "4607042   AHCV1RTGY3PJ8  B00LT1JHLW     5.0\n",
       "4607043  A2RWCXDMANY0LW  B00LT1JHLW     5.0\n",
       "4607044  A3V9PIFRME2XCW  B00LT1JHLW     5.0\n",
       "4607045  A3ROPC55BE2OM9  B00LT1JHLW     5.0\n",
       "4607046  A2ARBNMH5Q5YM1  B00LVGP8EA     5.0\n",
       "\n",
       "[4607047 rows x 3 columns]"
      ]
     },
     "execution_count": 6,
     "metadata": {},
     "output_type": "execute_result"
    }
   ],
   "source": [
    "data.columns = [\"userid\", \"productid\", \"rating\", \"timestamp\"]\n",
    "data.drop([\"timestamp\"], axis = 1)"
   ]
  },
  {
   "cell_type": "code",
   "execution_count": 7,
   "metadata": {
    "collapsed": true
   },
   "outputs": [],
   "source": [
    "import graphlab as gl"
   ]
  },
  {
   "cell_type": "code",
   "execution_count": 8,
   "metadata": {},
   "outputs": [
    {
     "name": "stdout",
     "output_type": "stream",
     "text": [
      "This non-commercial license of GraphLab Create for academic use is assigned to rchikkam@asu.edu and will expire on April 14, 2019.\n"
     ]
    },
    {
     "name": "stderr",
     "output_type": "stream",
     "text": [
      "[INFO] graphlab.cython.cy_server: GraphLab Create v2.1 started. Logging: /tmp/graphlab_server_1525039031.log\n"
     ]
    }
   ],
   "source": [
    "sf = gl.SFrame({'user_id': data['userid'],\n",
    "                      'item_id': data['productid'],\n",
    "                      'rating': data['rating']})"
   ]
  },
  {
   "cell_type": "markdown",
   "metadata": {},
   "source": [
    "#### Split data to create validation and training data"
   ]
  },
  {
   "cell_type": "code",
   "execution_count": 11,
   "metadata": {},
   "outputs": [
    {
     "data": {
      "text/html": [
       "<pre>Recsys training: model = item_similarity</pre>"
      ],
      "text/plain": [
       "Recsys training: model = item_similarity"
      ]
     },
     "metadata": {},
     "output_type": "display_data"
    },
    {
     "data": {
      "text/html": [
       "<pre>Warning: Column 'rating' ignored.</pre>"
      ],
      "text/plain": [
       "Warning: Column 'rating' ignored."
      ]
     },
     "metadata": {},
     "output_type": "display_data"
    },
    {
     "data": {
      "text/html": [
       "<pre>    To use this column as the target, set target = \"rating\" and use a method that allows the use of a target.</pre>"
      ],
      "text/plain": [
       "    To use this column as the target, set target = \"rating\" and use a method that allows the use of a target."
      ]
     },
     "metadata": {},
     "output_type": "display_data"
    },
    {
     "data": {
      "text/html": [
       "<pre>Preparing data set.</pre>"
      ],
      "text/plain": [
       "Preparing data set."
      ]
     },
     "metadata": {},
     "output_type": "display_data"
    },
    {
     "data": {
      "text/html": [
       "<pre>    Data has 4606670 observations with 2088478 users and 200937 items.</pre>"
      ],
      "text/plain": [
       "    Data has 4606670 observations with 2088478 users and 200937 items."
      ]
     },
     "metadata": {},
     "output_type": "display_data"
    },
    {
     "data": {
      "text/html": [
       "<pre>    Data prepared in: 10.7099s</pre>"
      ],
      "text/plain": [
       "    Data prepared in: 10.7099s"
      ]
     },
     "metadata": {},
     "output_type": "display_data"
    },
    {
     "data": {
      "text/html": [
       "<pre>Training model from provided data.</pre>"
      ],
      "text/plain": [
       "Training model from provided data."
      ]
     },
     "metadata": {},
     "output_type": "display_data"
    },
    {
     "data": {
      "text/html": [
       "<pre>Gathering per-item and per-user statistics.</pre>"
      ],
      "text/plain": [
       "Gathering per-item and per-user statistics."
      ]
     },
     "metadata": {},
     "output_type": "display_data"
    },
    {
     "data": {
      "text/html": [
       "<pre>+--------------------------------+------------+</pre>"
      ],
      "text/plain": [
       "+--------------------------------+------------+"
      ]
     },
     "metadata": {},
     "output_type": "display_data"
    },
    {
     "data": {
      "text/html": [
       "<pre>| Elapsed Time (Item Statistics) | % Complete |</pre>"
      ],
      "text/plain": [
       "| Elapsed Time (Item Statistics) | % Complete |"
      ]
     },
     "metadata": {},
     "output_type": "display_data"
    },
    {
     "data": {
      "text/html": [
       "<pre>+--------------------------------+------------+</pre>"
      ],
      "text/plain": [
       "+--------------------------------+------------+"
      ]
     },
     "metadata": {},
     "output_type": "display_data"
    },
    {
     "data": {
      "text/html": [
       "<pre>| 17.731ms                       | 0          |</pre>"
      ],
      "text/plain": [
       "| 17.731ms                       | 0          |"
      ]
     },
     "metadata": {},
     "output_type": "display_data"
    },
    {
     "data": {
      "text/html": [
       "<pre>| 687.768ms                      | 100        |</pre>"
      ],
      "text/plain": [
       "| 687.768ms                      | 100        |"
      ]
     },
     "metadata": {},
     "output_type": "display_data"
    },
    {
     "data": {
      "text/html": [
       "<pre>+--------------------------------+------------+</pre>"
      ],
      "text/plain": [
       "+--------------------------------+------------+"
      ]
     },
     "metadata": {},
     "output_type": "display_data"
    },
    {
     "data": {
      "text/html": [
       "<pre>Setting up lookup tables.</pre>"
      ],
      "text/plain": [
       "Setting up lookup tables."
      ]
     },
     "metadata": {},
     "output_type": "display_data"
    },
    {
     "data": {
      "text/html": [
       "<pre>Processing data in one pass using sparse lookup tables.</pre>"
      ],
      "text/plain": [
       "Processing data in one pass using sparse lookup tables."
      ]
     },
     "metadata": {},
     "output_type": "display_data"
    },
    {
     "data": {
      "text/html": [
       "<pre>+-------------------------------------+------------------+-----------------+</pre>"
      ],
      "text/plain": [
       "+-------------------------------------+------------------+-----------------+"
      ]
     },
     "metadata": {},
     "output_type": "display_data"
    },
    {
     "data": {
      "text/html": [
       "<pre>| Elapsed Time (Constructing Lookups) | Total % Complete | Items Processed |</pre>"
      ],
      "text/plain": [
       "| Elapsed Time (Constructing Lookups) | Total % Complete | Items Processed |"
      ]
     },
     "metadata": {},
     "output_type": "display_data"
    },
    {
     "data": {
      "text/html": [
       "<pre>+-------------------------------------+------------------+-----------------+</pre>"
      ],
      "text/plain": [
       "+-------------------------------------+------------------+-----------------+"
      ]
     },
     "metadata": {},
     "output_type": "display_data"
    },
    {
     "data": {
      "text/html": [
       "<pre>| 1.93s                               | 0                | 0               |</pre>"
      ],
      "text/plain": [
       "| 1.93s                               | 0                | 0               |"
      ]
     },
     "metadata": {},
     "output_type": "display_data"
    },
    {
     "data": {
      "text/html": [
       "<pre>| 2.95s                               | 3.5              | 7047            |</pre>"
      ],
      "text/plain": [
       "| 2.95s                               | 3.5              | 7047            |"
      ]
     },
     "metadata": {},
     "output_type": "display_data"
    },
    {
     "data": {
      "text/html": [
       "<pre>| 3.98s                               | 7.75             | 15635           |</pre>"
      ],
      "text/plain": [
       "| 3.98s                               | 7.75             | 15635           |"
      ]
     },
     "metadata": {},
     "output_type": "display_data"
    },
    {
     "data": {
      "text/html": [
       "<pre>| 5.00s                               | 12               | 24585           |</pre>"
      ],
      "text/plain": [
       "| 5.00s                               | 12               | 24585           |"
      ]
     },
     "metadata": {},
     "output_type": "display_data"
    },
    {
     "data": {
      "text/html": [
       "<pre>| 6.03s                               | 15               | 30561           |</pre>"
      ],
      "text/plain": [
       "| 6.03s                               | 15               | 30561           |"
      ]
     },
     "metadata": {},
     "output_type": "display_data"
    },
    {
     "data": {
      "text/html": [
       "<pre>| 6.96s                               | 15.25            | 30925           |</pre>"
      ],
      "text/plain": [
       "| 6.96s                               | 15.25            | 30925           |"
      ]
     },
     "metadata": {},
     "output_type": "display_data"
    },
    {
     "data": {
      "text/html": [
       "<pre>| 7.96s                               | 17               | 34362           |</pre>"
      ],
      "text/plain": [
       "| 7.96s                               | 17               | 34362           |"
      ]
     },
     "metadata": {},
     "output_type": "display_data"
    },
    {
     "data": {
      "text/html": [
       "<pre>| 8.97s                               | 23.25            | 47059           |</pre>"
      ],
      "text/plain": [
       "| 8.97s                               | 23.25            | 47059           |"
      ]
     },
     "metadata": {},
     "output_type": "display_data"
    },
    {
     "data": {
      "text/html": [
       "<pre>| 9.99s                               | 23.5             | 47641           |</pre>"
      ],
      "text/plain": [
       "| 9.99s                               | 23.5             | 47641           |"
      ]
     },
     "metadata": {},
     "output_type": "display_data"
    },
    {
     "data": {
      "text/html": [
       "<pre>| 11.05s                              | 24.75            | 50168           |</pre>"
      ],
      "text/plain": [
       "| 11.05s                              | 24.75            | 50168           |"
      ]
     },
     "metadata": {},
     "output_type": "display_data"
    },
    {
     "data": {
      "text/html": [
       "<pre>| 11.99s                              | 25.75            | 52100           |</pre>"
      ],
      "text/plain": [
       "| 11.99s                              | 25.75            | 52100           |"
      ]
     },
     "metadata": {},
     "output_type": "display_data"
    },
    {
     "data": {
      "text/html": [
       "<pre>| 13.11s                              | 26.25            | 52778           |</pre>"
      ],
      "text/plain": [
       "| 13.11s                              | 26.25            | 52778           |"
      ]
     },
     "metadata": {},
     "output_type": "display_data"
    },
    {
     "data": {
      "text/html": [
       "<pre>| 14.06s                              | 27               | 54688           |</pre>"
      ],
      "text/plain": [
       "| 14.06s                              | 27               | 54688           |"
      ]
     },
     "metadata": {},
     "output_type": "display_data"
    },
    {
     "data": {
      "text/html": [
       "<pre>| 15.09s                              | 27.5             | 55427           |</pre>"
      ],
      "text/plain": [
       "| 15.09s                              | 27.5             | 55427           |"
      ]
     },
     "metadata": {},
     "output_type": "display_data"
    },
    {
     "data": {
      "text/html": [
       "<pre>| 16.08s                              | 28               | 56718           |</pre>"
      ],
      "text/plain": [
       "| 16.08s                              | 28               | 56718           |"
      ]
     },
     "metadata": {},
     "output_type": "display_data"
    },
    {
     "data": {
      "text/html": [
       "<pre>| 17.29s                              | 28.75            | 58205           |</pre>"
      ],
      "text/plain": [
       "| 17.29s                              | 28.75            | 58205           |"
      ]
     },
     "metadata": {},
     "output_type": "display_data"
    },
    {
     "data": {
      "text/html": [
       "<pre>| 18.09s                              | 29               | 58529           |</pre>"
      ],
      "text/plain": [
       "| 18.09s                              | 29               | 58529           |"
      ]
     },
     "metadata": {},
     "output_type": "display_data"
    },
    {
     "data": {
      "text/html": [
       "<pre>| 19.02s                              | 29.5             | 59549           |</pre>"
      ],
      "text/plain": [
       "| 19.02s                              | 29.5             | 59549           |"
      ]
     },
     "metadata": {},
     "output_type": "display_data"
    },
    {
     "data": {
      "text/html": [
       "<pre>| 20.03s                              | 30.25            | 61206           |</pre>"
      ],
      "text/plain": [
       "| 20.03s                              | 30.25            | 61206           |"
      ]
     },
     "metadata": {},
     "output_type": "display_data"
    },
    {
     "data": {
      "text/html": [
       "<pre>| 21.03s                              | 31               | 62358           |</pre>"
      ],
      "text/plain": [
       "| 21.03s                              | 31               | 62358           |"
      ]
     },
     "metadata": {},
     "output_type": "display_data"
    },
    {
     "data": {
      "text/html": [
       "<pre>| 22.04s                              | 32.25            | 65119           |</pre>"
      ],
      "text/plain": [
       "| 22.04s                              | 32.25            | 65119           |"
      ]
     },
     "metadata": {},
     "output_type": "display_data"
    },
    {
     "data": {
      "text/html": [
       "<pre>| 23.05s                              | 32.75            | 66049           |</pre>"
      ],
      "text/plain": [
       "| 23.05s                              | 32.75            | 66049           |"
      ]
     },
     "metadata": {},
     "output_type": "display_data"
    },
    {
     "data": {
      "text/html": [
       "<pre>| 24.04s                              | 38               | 76545           |</pre>"
      ],
      "text/plain": [
       "| 24.04s                              | 38               | 76545           |"
      ]
     },
     "metadata": {},
     "output_type": "display_data"
    },
    {
     "data": {
      "text/html": [
       "<pre>| 25.05s                              | 39.75            | 80200           |</pre>"
      ],
      "text/plain": [
       "| 25.05s                              | 39.75            | 80200           |"
      ]
     },
     "metadata": {},
     "output_type": "display_data"
    },
    {
     "data": {
      "text/html": [
       "<pre>| 26.12s                              | 42.5             | 85568           |</pre>"
      ],
      "text/plain": [
       "| 26.12s                              | 42.5             | 85568           |"
      ]
     },
     "metadata": {},
     "output_type": "display_data"
    },
    {
     "data": {
      "text/html": [
       "<pre>| 27.06s                              | 44.25            | 89014           |</pre>"
      ],
      "text/plain": [
       "| 27.06s                              | 44.25            | 89014           |"
      ]
     },
     "metadata": {},
     "output_type": "display_data"
    },
    {
     "data": {
      "text/html": [
       "<pre>| 28.06s                              | 48               | 96741           |</pre>"
      ],
      "text/plain": [
       "| 28.06s                              | 48               | 96741           |"
      ]
     },
     "metadata": {},
     "output_type": "display_data"
    },
    {
     "data": {
      "text/html": [
       "<pre>| 29.09s                              | 49.5             | 99652           |</pre>"
      ],
      "text/plain": [
       "| 29.09s                              | 49.5             | 99652           |"
      ]
     },
     "metadata": {},
     "output_type": "display_data"
    },
    {
     "data": {
      "text/html": [
       "<pre>| 30.08s                              | 51.5             | 103552          |</pre>"
      ],
      "text/plain": [
       "| 30.08s                              | 51.5             | 103552          |"
      ]
     },
     "metadata": {},
     "output_type": "display_data"
    },
    {
     "data": {
      "text/html": [
       "<pre>| 31.08s                              | 55               | 110921          |</pre>"
      ],
      "text/plain": [
       "| 31.08s                              | 55               | 110921          |"
      ]
     },
     "metadata": {},
     "output_type": "display_data"
    },
    {
     "data": {
      "text/html": [
       "<pre>| 32.13s                              | 56.25            | 113321          |</pre>"
      ],
      "text/plain": [
       "| 32.13s                              | 56.25            | 113321          |"
      ]
     },
     "metadata": {},
     "output_type": "display_data"
    },
    {
     "data": {
      "text/html": [
       "<pre>| 33.09s                              | 57               | 114971          |</pre>"
      ],
      "text/plain": [
       "| 33.09s                              | 57               | 114971          |"
      ]
     },
     "metadata": {},
     "output_type": "display_data"
    },
    {
     "data": {
      "text/html": [
       "<pre>| 34.22s                              | 58               | 116691          |</pre>"
      ],
      "text/plain": [
       "| 34.22s                              | 58               | 116691          |"
      ]
     },
     "metadata": {},
     "output_type": "display_data"
    },
    {
     "data": {
      "text/html": [
       "<pre>| 35.10s                              | 58.25            | 117164          |</pre>"
      ],
      "text/plain": [
       "| 35.10s                              | 58.25            | 117164          |"
      ]
     },
     "metadata": {},
     "output_type": "display_data"
    },
    {
     "data": {
      "text/html": [
       "<pre>| 36.10s                              | 59               | 118907          |</pre>"
      ],
      "text/plain": [
       "| 36.10s                              | 59               | 118907          |"
      ]
     },
     "metadata": {},
     "output_type": "display_data"
    },
    {
     "data": {
      "text/html": [
       "<pre>| 37.11s                              | 59.25            | 119232          |</pre>"
      ],
      "text/plain": [
       "| 37.11s                              | 59.25            | 119232          |"
      ]
     },
     "metadata": {},
     "output_type": "display_data"
    },
    {
     "data": {
      "text/html": [
       "<pre>| 38.25s                              | 61.75            | 124548          |</pre>"
      ],
      "text/plain": [
       "| 38.25s                              | 61.75            | 124548          |"
      ]
     },
     "metadata": {},
     "output_type": "display_data"
    },
    {
     "data": {
      "text/html": [
       "<pre>| 39.12s                              | 62               | 124845          |</pre>"
      ],
      "text/plain": [
       "| 39.12s                              | 62               | 124845          |"
      ]
     },
     "metadata": {},
     "output_type": "display_data"
    },
    {
     "data": {
      "text/html": [
       "<pre>| 40.37s                              | 62.25            | 125230          |</pre>"
      ],
      "text/plain": [
       "| 40.37s                              | 62.25            | 125230          |"
      ]
     },
     "metadata": {},
     "output_type": "display_data"
    },
    {
     "data": {
      "text/html": [
       "<pre>| 41.23s                              | 62.25            | 125432          |</pre>"
      ],
      "text/plain": [
       "| 41.23s                              | 62.25            | 125432          |"
      ]
     },
     "metadata": {},
     "output_type": "display_data"
    },
    {
     "data": {
      "text/html": [
       "<pre>| 42.15s                              | 62.5             | 125682          |</pre>"
      ],
      "text/plain": [
       "| 42.15s                              | 62.5             | 125682          |"
      ]
     },
     "metadata": {},
     "output_type": "display_data"
    },
    {
     "data": {
      "text/html": [
       "<pre>| 43.15s                              | 63               | 126887          |</pre>"
      ],
      "text/plain": [
       "| 43.15s                              | 63               | 126887          |"
      ]
     },
     "metadata": {},
     "output_type": "display_data"
    },
    {
     "data": {
      "text/html": [
       "<pre>| 44.15s                              | 63.25            | 127092          |</pre>"
      ],
      "text/plain": [
       "| 44.15s                              | 63.25            | 127092          |"
      ]
     },
     "metadata": {},
     "output_type": "display_data"
    },
    {
     "data": {
      "text/html": [
       "<pre>| 45.15s                              | 63.25            | 127398          |</pre>"
      ],
      "text/plain": [
       "| 45.15s                              | 63.25            | 127398          |"
      ]
     },
     "metadata": {},
     "output_type": "display_data"
    },
    {
     "data": {
      "text/html": [
       "<pre>| 46.23s                              | 63.25            | 127527          |</pre>"
      ],
      "text/plain": [
       "| 46.23s                              | 63.25            | 127527          |"
      ]
     },
     "metadata": {},
     "output_type": "display_data"
    },
    {
     "data": {
      "text/html": [
       "<pre>| 47.16s                              | 63.5             | 127687          |</pre>"
      ],
      "text/plain": [
       "| 47.16s                              | 63.5             | 127687          |"
      ]
     },
     "metadata": {},
     "output_type": "display_data"
    },
    {
     "data": {
      "text/html": [
       "<pre>| 48.22s                              | 63.5             | 127943          |</pre>"
      ],
      "text/plain": [
       "| 48.22s                              | 63.5             | 127943          |"
      ]
     },
     "metadata": {},
     "output_type": "display_data"
    },
    {
     "data": {
      "text/html": [
       "<pre>| 49.18s                              | 63.5             | 128059          |</pre>"
      ],
      "text/plain": [
       "| 49.18s                              | 63.5             | 128059          |"
      ]
     },
     "metadata": {},
     "output_type": "display_data"
    },
    {
     "data": {
      "text/html": [
       "<pre>| 50.18s                              | 63.75            | 128169          |</pre>"
      ],
      "text/plain": [
       "| 50.18s                              | 63.75            | 128169          |"
      ]
     },
     "metadata": {},
     "output_type": "display_data"
    },
    {
     "data": {
      "text/html": [
       "<pre>| 51.23s                              | 63.75            | 128315          |</pre>"
      ],
      "text/plain": [
       "| 51.23s                              | 63.75            | 128315          |"
      ]
     },
     "metadata": {},
     "output_type": "display_data"
    },
    {
     "data": {
      "text/html": [
       "<pre>| 52.22s                              | 63.75            | 128464          |</pre>"
      ],
      "text/plain": [
       "| 52.22s                              | 63.75            | 128464          |"
      ]
     },
     "metadata": {},
     "output_type": "display_data"
    },
    {
     "data": {
      "text/html": [
       "<pre>| 53.89s                              | 64.5             | 129637          |</pre>"
      ],
      "text/plain": [
       "| 53.89s                              | 64.5             | 129637          |"
      ]
     },
     "metadata": {},
     "output_type": "display_data"
    },
    {
     "data": {
      "text/html": [
       "<pre>| 54.20s                              | 64.5             | 129656          |</pre>"
      ],
      "text/plain": [
       "| 54.20s                              | 64.5             | 129656          |"
      ]
     },
     "metadata": {},
     "output_type": "display_data"
    },
    {
     "data": {
      "text/html": [
       "<pre>| 55.20s                              | 64.5             | 129725          |</pre>"
      ],
      "text/plain": [
       "| 55.20s                              | 64.5             | 129725          |"
      ]
     },
     "metadata": {},
     "output_type": "display_data"
    },
    {
     "data": {
      "text/html": [
       "<pre>| 56.89s                              | 64.75            | 130309          |</pre>"
      ],
      "text/plain": [
       "| 56.89s                              | 64.75            | 130309          |"
      ]
     },
     "metadata": {},
     "output_type": "display_data"
    },
    {
     "data": {
      "text/html": [
       "<pre>| 57.38s                              | 64.75            | 130338          |</pre>"
      ],
      "text/plain": [
       "| 57.38s                              | 64.75            | 130338          |"
      ]
     },
     "metadata": {},
     "output_type": "display_data"
    },
    {
     "data": {
      "text/html": [
       "<pre>| 58.22s                              | 64.75            | 130392          |</pre>"
      ],
      "text/plain": [
       "| 58.22s                              | 64.75            | 130392          |"
      ]
     },
     "metadata": {},
     "output_type": "display_data"
    },
    {
     "data": {
      "text/html": [
       "<pre>| 59.28s                              | 64.75            | 130454          |</pre>"
      ],
      "text/plain": [
       "| 59.28s                              | 64.75            | 130454          |"
      ]
     },
     "metadata": {},
     "output_type": "display_data"
    },
    {
     "data": {
      "text/html": [
       "<pre>| 1m 0s                               | 64.75            | 130503          |</pre>"
      ],
      "text/plain": [
       "| 1m 0s                               | 64.75            | 130503          |"
      ]
     },
     "metadata": {},
     "output_type": "display_data"
    },
    {
     "data": {
      "text/html": [
       "<pre>| 1m 1s                               | 64.75            | 130576          |</pre>"
      ],
      "text/plain": [
       "| 1m 1s                               | 64.75            | 130576          |"
      ]
     },
     "metadata": {},
     "output_type": "display_data"
    },
    {
     "data": {
      "text/html": [
       "<pre>| 1m 2s                               | 65               | 130689          |</pre>"
      ],
      "text/plain": [
       "| 1m 2s                               | 65               | 130689          |"
      ]
     },
     "metadata": {},
     "output_type": "display_data"
    },
    {
     "data": {
      "text/html": [
       "<pre>| 1m 3s                               | 65               | 130848          |</pre>"
      ],
      "text/plain": [
       "| 1m 3s                               | 65               | 130848          |"
      ]
     },
     "metadata": {},
     "output_type": "display_data"
    },
    {
     "data": {
      "text/html": [
       "<pre>| 1m 4s                               | 65               | 131081          |</pre>"
      ],
      "text/plain": [
       "| 1m 4s                               | 65               | 131081          |"
      ]
     },
     "metadata": {},
     "output_type": "display_data"
    },
    {
     "data": {
      "text/html": [
       "<pre>| 1m 5s                               | 65.25            | 131224          |</pre>"
      ],
      "text/plain": [
       "| 1m 5s                               | 65.25            | 131224          |"
      ]
     },
     "metadata": {},
     "output_type": "display_data"
    },
    {
     "data": {
      "text/html": [
       "<pre>| 1m 6s                               | 65.5             | 131819          |</pre>"
      ],
      "text/plain": [
       "| 1m 6s                               | 65.5             | 131819          |"
      ]
     },
     "metadata": {},
     "output_type": "display_data"
    },
    {
     "data": {
      "text/html": [
       "<pre>| 1m 7s                               | 65.5             | 132034          |</pre>"
      ],
      "text/plain": [
       "| 1m 7s                               | 65.5             | 132034          |"
      ]
     },
     "metadata": {},
     "output_type": "display_data"
    },
    {
     "data": {
      "text/html": [
       "<pre>| 1m 8s                               | 65.5             | 132099          |</pre>"
      ],
      "text/plain": [
       "| 1m 8s                               | 65.5             | 132099          |"
      ]
     },
     "metadata": {},
     "output_type": "display_data"
    },
    {
     "data": {
      "text/html": [
       "<pre>| 1m 9s                               | 65.75            | 132177          |</pre>"
      ],
      "text/plain": [
       "| 1m 9s                               | 65.75            | 132177          |"
      ]
     },
     "metadata": {},
     "output_type": "display_data"
    },
    {
     "data": {
      "text/html": [
       "<pre>| 1m 10s                              | 65.75            | 132388          |</pre>"
      ],
      "text/plain": [
       "| 1m 10s                              | 65.75            | 132388          |"
      ]
     },
     "metadata": {},
     "output_type": "display_data"
    },
    {
     "data": {
      "text/html": [
       "<pre>| 1m 11s                              | 65.75            | 132448          |</pre>"
      ],
      "text/plain": [
       "| 1m 11s                              | 65.75            | 132448          |"
      ]
     },
     "metadata": {},
     "output_type": "display_data"
    },
    {
     "data": {
      "text/html": [
       "<pre>| 1m 12s                              | 65.75            | 132546          |</pre>"
      ],
      "text/plain": [
       "| 1m 12s                              | 65.75            | 132546          |"
      ]
     },
     "metadata": {},
     "output_type": "display_data"
    },
    {
     "data": {
      "text/html": [
       "<pre>| 1m 13s                              | 66               | 133029          |</pre>"
      ],
      "text/plain": [
       "| 1m 13s                              | 66               | 133029          |"
      ]
     },
     "metadata": {},
     "output_type": "display_data"
    },
    {
     "data": {
      "text/html": [
       "<pre>| 1m 14s                              | 66.25            | 133130          |</pre>"
      ],
      "text/plain": [
       "| 1m 14s                              | 66.25            | 133130          |"
      ]
     },
     "metadata": {},
     "output_type": "display_data"
    },
    {
     "data": {
      "text/html": [
       "<pre>| 1m 15s                              | 66.25            | 133227          |</pre>"
      ],
      "text/plain": [
       "| 1m 15s                              | 66.25            | 133227          |"
      ]
     },
     "metadata": {},
     "output_type": "display_data"
    },
    {
     "data": {
      "text/html": [
       "<pre>| 1m 16s                              | 66.25            | 133366          |</pre>"
      ],
      "text/plain": [
       "| 1m 16s                              | 66.25            | 133366          |"
      ]
     },
     "metadata": {},
     "output_type": "display_data"
    },
    {
     "data": {
      "text/html": [
       "<pre>| 1m 17s                              | 66.25            | 133414          |</pre>"
      ],
      "text/plain": [
       "| 1m 17s                              | 66.25            | 133414          |"
      ]
     },
     "metadata": {},
     "output_type": "display_data"
    },
    {
     "data": {
      "text/html": [
       "<pre>| 1m 18s                              | 66.25            | 133525          |</pre>"
      ],
      "text/plain": [
       "| 1m 18s                              | 66.25            | 133525          |"
      ]
     },
     "metadata": {},
     "output_type": "display_data"
    },
    {
     "data": {
      "text/html": [
       "<pre>| 1m 19s                              | 66.5             | 133682          |</pre>"
      ],
      "text/plain": [
       "| 1m 19s                              | 66.5             | 133682          |"
      ]
     },
     "metadata": {},
     "output_type": "display_data"
    },
    {
     "data": {
      "text/html": [
       "<pre>| 1m 20s                              | 66.5             | 133859          |</pre>"
      ],
      "text/plain": [
       "| 1m 20s                              | 66.5             | 133859          |"
      ]
     },
     "metadata": {},
     "output_type": "display_data"
    },
    {
     "data": {
      "text/html": [
       "<pre>| 1m 21s                              | 66.5             | 134065          |</pre>"
      ],
      "text/plain": [
       "| 1m 21s                              | 66.5             | 134065          |"
      ]
     },
     "metadata": {},
     "output_type": "display_data"
    },
    {
     "data": {
      "text/html": [
       "<pre>| 1m 22s                              | 66.75            | 134280          |</pre>"
      ],
      "text/plain": [
       "| 1m 22s                              | 66.75            | 134280          |"
      ]
     },
     "metadata": {},
     "output_type": "display_data"
    },
    {
     "data": {
      "text/html": [
       "<pre>| 1m 23s                              | 66.75            | 134508          |</pre>"
      ],
      "text/plain": [
       "| 1m 23s                              | 66.75            | 134508          |"
      ]
     },
     "metadata": {},
     "output_type": "display_data"
    },
    {
     "data": {
      "text/html": [
       "<pre>| 1m 24s                              | 66.75            | 134606          |</pre>"
      ],
      "text/plain": [
       "| 1m 24s                              | 66.75            | 134606          |"
      ]
     },
     "metadata": {},
     "output_type": "display_data"
    },
    {
     "data": {
      "text/html": [
       "<pre>| 1m 25s                              | 67.25            | 135385          |</pre>"
      ],
      "text/plain": [
       "| 1m 25s                              | 67.25            | 135385          |"
      ]
     },
     "metadata": {},
     "output_type": "display_data"
    },
    {
     "data": {
      "text/html": [
       "<pre>| 1m 26s                              | 67.25            | 135541          |</pre>"
      ],
      "text/plain": [
       "| 1m 26s                              | 67.25            | 135541          |"
      ]
     },
     "metadata": {},
     "output_type": "display_data"
    },
    {
     "data": {
      "text/html": [
       "<pre>| 1m 27s                              | 67.25            | 135628          |</pre>"
      ],
      "text/plain": [
       "| 1m 27s                              | 67.25            | 135628          |"
      ]
     },
     "metadata": {},
     "output_type": "display_data"
    },
    {
     "data": {
      "text/html": [
       "<pre>| 1m 28s                              | 67.5             | 135684          |</pre>"
      ],
      "text/plain": [
       "| 1m 28s                              | 67.5             | 135684          |"
      ]
     },
     "metadata": {},
     "output_type": "display_data"
    },
    {
     "data": {
      "text/html": [
       "<pre>| 1m 29s                              | 67.5             | 135747          |</pre>"
      ],
      "text/plain": [
       "| 1m 29s                              | 67.5             | 135747          |"
      ]
     },
     "metadata": {},
     "output_type": "display_data"
    },
    {
     "data": {
      "text/html": [
       "<pre>| 1m 30s                              | 67.5             | 135830          |</pre>"
      ],
      "text/plain": [
       "| 1m 30s                              | 67.5             | 135830          |"
      ]
     },
     "metadata": {},
     "output_type": "display_data"
    },
    {
     "data": {
      "text/html": [
       "<pre>| 1m 32s                              | 67.5             | 135992          |</pre>"
      ],
      "text/plain": [
       "| 1m 32s                              | 67.5             | 135992          |"
      ]
     },
     "metadata": {},
     "output_type": "display_data"
    },
    {
     "data": {
      "text/html": [
       "<pre>| 1m 33s                              | 67.5             | 136072          |</pre>"
      ],
      "text/plain": [
       "| 1m 33s                              | 67.5             | 136072          |"
      ]
     },
     "metadata": {},
     "output_type": "display_data"
    },
    {
     "data": {
      "text/html": [
       "<pre>| 1m 34s                              | 67.75            | 136158          |</pre>"
      ],
      "text/plain": [
       "| 1m 34s                              | 67.75            | 136158          |"
      ]
     },
     "metadata": {},
     "output_type": "display_data"
    },
    {
     "data": {
      "text/html": [
       "<pre>| 1m 35s                              | 67.75            | 136198          |</pre>"
      ],
      "text/plain": [
       "| 1m 35s                              | 67.75            | 136198          |"
      ]
     },
     "metadata": {},
     "output_type": "display_data"
    },
    {
     "data": {
      "text/html": [
       "<pre>| 1m 36s                              | 67.75            | 136292          |</pre>"
      ],
      "text/plain": [
       "| 1m 36s                              | 67.75            | 136292          |"
      ]
     },
     "metadata": {},
     "output_type": "display_data"
    },
    {
     "data": {
      "text/html": [
       "<pre>| 1m 37s                              | 67.75            | 136457          |</pre>"
      ],
      "text/plain": [
       "| 1m 37s                              | 67.75            | 136457          |"
      ]
     },
     "metadata": {},
     "output_type": "display_data"
    },
    {
     "data": {
      "text/html": [
       "<pre>| 1m 38s                              | 68               | 137023          |</pre>"
      ],
      "text/plain": [
       "| 1m 38s                              | 68               | 137023          |"
      ]
     },
     "metadata": {},
     "output_type": "display_data"
    },
    {
     "data": {
      "text/html": [
       "<pre>| 1m 39s                              | 68.25            | 137141          |</pre>"
      ],
      "text/plain": [
       "| 1m 39s                              | 68.25            | 137141          |"
      ]
     },
     "metadata": {},
     "output_type": "display_data"
    },
    {
     "data": {
      "text/html": [
       "<pre>| 1m 40s                              | 68.25            | 137355          |</pre>"
      ],
      "text/plain": [
       "| 1m 40s                              | 68.25            | 137355          |"
      ]
     },
     "metadata": {},
     "output_type": "display_data"
    },
    {
     "data": {
      "text/html": [
       "<pre>| 1m 41s                              | 68.25            | 137576          |</pre>"
      ],
      "text/plain": [
       "| 1m 41s                              | 68.25            | 137576          |"
      ]
     },
     "metadata": {},
     "output_type": "display_data"
    },
    {
     "data": {
      "text/html": [
       "<pre>| 1m 42s                              | 68.5             | 137706          |</pre>"
      ],
      "text/plain": [
       "| 1m 42s                              | 68.5             | 137706          |"
      ]
     },
     "metadata": {},
     "output_type": "display_data"
    },
    {
     "data": {
      "text/html": [
       "<pre>| 1m 43s                              | 69               | 138971          |</pre>"
      ],
      "text/plain": [
       "| 1m 43s                              | 69               | 138971          |"
      ]
     },
     "metadata": {},
     "output_type": "display_data"
    },
    {
     "data": {
      "text/html": [
       "<pre>| 1m 44s                              | 69               | 139115          |</pre>"
      ],
      "text/plain": [
       "| 1m 44s                              | 69               | 139115          |"
      ]
     },
     "metadata": {},
     "output_type": "display_data"
    },
    {
     "data": {
      "text/html": [
       "<pre>| 1m 45s                              | 69.25            | 139217          |</pre>"
      ],
      "text/plain": [
       "| 1m 45s                              | 69.25            | 139217          |"
      ]
     },
     "metadata": {},
     "output_type": "display_data"
    },
    {
     "data": {
      "text/html": [
       "<pre>| 1m 46s                              | 69.25            | 139337          |</pre>"
      ],
      "text/plain": [
       "| 1m 46s                              | 69.25            | 139337          |"
      ]
     },
     "metadata": {},
     "output_type": "display_data"
    },
    {
     "data": {
      "text/html": [
       "<pre>| 1m 47s                              | 69.25            | 139454          |</pre>"
      ],
      "text/plain": [
       "| 1m 47s                              | 69.25            | 139454          |"
      ]
     },
     "metadata": {},
     "output_type": "display_data"
    },
    {
     "data": {
      "text/html": [
       "<pre>| 1m 48s                              | 69.25            | 139590          |</pre>"
      ],
      "text/plain": [
       "| 1m 48s                              | 69.25            | 139590          |"
      ]
     },
     "metadata": {},
     "output_type": "display_data"
    },
    {
     "data": {
      "text/html": [
       "<pre>| 1m 49s                              | 69.5             | 139709          |</pre>"
      ],
      "text/plain": [
       "| 1m 49s                              | 69.5             | 139709          |"
      ]
     },
     "metadata": {},
     "output_type": "display_data"
    },
    {
     "data": {
      "text/html": [
       "<pre>| 1m 50s                              | 69.5             | 139873          |</pre>"
      ],
      "text/plain": [
       "| 1m 50s                              | 69.5             | 139873          |"
      ]
     },
     "metadata": {},
     "output_type": "display_data"
    },
    {
     "data": {
      "text/html": [
       "<pre>| 1m 51s                              | 69.5             | 140010          |</pre>"
      ],
      "text/plain": [
       "| 1m 51s                              | 69.5             | 140010          |"
      ]
     },
     "metadata": {},
     "output_type": "display_data"
    },
    {
     "data": {
      "text/html": [
       "<pre>| 1m 52s                              | 69.75            | 140182          |</pre>"
      ],
      "text/plain": [
       "| 1m 52s                              | 69.75            | 140182          |"
      ]
     },
     "metadata": {},
     "output_type": "display_data"
    },
    {
     "data": {
      "text/html": [
       "<pre>| 1m 53s                              | 69.75            | 140319          |</pre>"
      ],
      "text/plain": [
       "| 1m 53s                              | 69.75            | 140319          |"
      ]
     },
     "metadata": {},
     "output_type": "display_data"
    },
    {
     "data": {
      "text/html": [
       "<pre>| 1m 54s                              | 69.75            | 140533          |</pre>"
      ],
      "text/plain": [
       "| 1m 54s                              | 69.75            | 140533          |"
      ]
     },
     "metadata": {},
     "output_type": "display_data"
    },
    {
     "data": {
      "text/html": [
       "<pre>| 1m 55s                              | 70               | 140839          |</pre>"
      ],
      "text/plain": [
       "| 1m 55s                              | 70               | 140839          |"
      ]
     },
     "metadata": {},
     "output_type": "display_data"
    },
    {
     "data": {
      "text/html": [
       "<pre>| 1m 56s                              | 70.75            | 142577          |</pre>"
      ],
      "text/plain": [
       "| 1m 56s                              | 70.75            | 142577          |"
      ]
     },
     "metadata": {},
     "output_type": "display_data"
    },
    {
     "data": {
      "text/html": [
       "<pre>| 1m 57s                              | 70.75            | 142649          |</pre>"
      ],
      "text/plain": [
       "| 1m 57s                              | 70.75            | 142649          |"
      ]
     },
     "metadata": {},
     "output_type": "display_data"
    },
    {
     "data": {
      "text/html": [
       "<pre>| 1m 58s                              | 71.25            | 143319          |</pre>"
      ],
      "text/plain": [
       "| 1m 58s                              | 71.25            | 143319          |"
      ]
     },
     "metadata": {},
     "output_type": "display_data"
    },
    {
     "data": {
      "text/html": [
       "<pre>| 1m 59s                              | 71.25            | 143401          |</pre>"
      ],
      "text/plain": [
       "| 1m 59s                              | 71.25            | 143401          |"
      ]
     },
     "metadata": {},
     "output_type": "display_data"
    },
    {
     "data": {
      "text/html": [
       "<pre>| 2m 0s                               | 71.25            | 143523          |</pre>"
      ],
      "text/plain": [
       "| 2m 0s                               | 71.25            | 143523          |"
      ]
     },
     "metadata": {},
     "output_type": "display_data"
    },
    {
     "data": {
      "text/html": [
       "<pre>| 2m 1s                               | 71.25            | 143604          |</pre>"
      ],
      "text/plain": [
       "| 2m 1s                               | 71.25            | 143604          |"
      ]
     },
     "metadata": {},
     "output_type": "display_data"
    },
    {
     "data": {
      "text/html": [
       "<pre>| 2m 2s                               | 71.5             | 143734          |</pre>"
      ],
      "text/plain": [
       "| 2m 2s                               | 71.5             | 143734          |"
      ]
     },
     "metadata": {},
     "output_type": "display_data"
    },
    {
     "data": {
      "text/html": [
       "<pre>| 2m 3s                               | 71.5             | 143879          |</pre>"
      ],
      "text/plain": [
       "| 2m 3s                               | 71.5             | 143879          |"
      ]
     },
     "metadata": {},
     "output_type": "display_data"
    },
    {
     "data": {
      "text/html": [
       "<pre>| 2m 4s                               | 71.5             | 143929          |</pre>"
      ],
      "text/plain": [
       "| 2m 4s                               | 71.5             | 143929          |"
      ]
     },
     "metadata": {},
     "output_type": "display_data"
    },
    {
     "data": {
      "text/html": [
       "<pre>| 2m 5s                               | 71.5             | 144016          |</pre>"
      ],
      "text/plain": [
       "| 2m 5s                               | 71.5             | 144016          |"
      ]
     },
     "metadata": {},
     "output_type": "display_data"
    },
    {
     "data": {
      "text/html": [
       "<pre>| 2m 6s                               | 71.5             | 144129          |</pre>"
      ],
      "text/plain": [
       "| 2m 6s                               | 71.5             | 144129          |"
      ]
     },
     "metadata": {},
     "output_type": "display_data"
    },
    {
     "data": {
      "text/html": [
       "<pre>| 2m 7s                               | 71.75            | 144248          |</pre>"
      ],
      "text/plain": [
       "| 2m 7s                               | 71.75            | 144248          |"
      ]
     },
     "metadata": {},
     "output_type": "display_data"
    },
    {
     "data": {
      "text/html": [
       "<pre>| 2m 8s                               | 72               | 144764          |</pre>"
      ],
      "text/plain": [
       "| 2m 8s                               | 72               | 144764          |"
      ]
     },
     "metadata": {},
     "output_type": "display_data"
    },
    {
     "data": {
      "text/html": [
       "<pre>| 2m 9s                               | 72               | 144873          |</pre>"
      ],
      "text/plain": [
       "| 2m 9s                               | 72               | 144873          |"
      ]
     },
     "metadata": {},
     "output_type": "display_data"
    },
    {
     "data": {
      "text/html": [
       "<pre>| 2m 10s                              | 72               | 145030          |</pre>"
      ],
      "text/plain": [
       "| 2m 10s                              | 72               | 145030          |"
      ]
     },
     "metadata": {},
     "output_type": "display_data"
    },
    {
     "data": {
      "text/html": [
       "<pre>| 2m 11s                              | 72               | 145141          |</pre>"
      ],
      "text/plain": [
       "| 2m 11s                              | 72               | 145141          |"
      ]
     },
     "metadata": {},
     "output_type": "display_data"
    },
    {
     "data": {
      "text/html": [
       "<pre>| 2m 12s                              | 72.25            | 145269          |</pre>"
      ],
      "text/plain": [
       "| 2m 12s                              | 72.25            | 145269          |"
      ]
     },
     "metadata": {},
     "output_type": "display_data"
    },
    {
     "data": {
      "text/html": [
       "<pre>| 2m 13s                              | 72.25            | 145543          |</pre>"
      ],
      "text/plain": [
       "| 2m 13s                              | 72.25            | 145543          |"
      ]
     },
     "metadata": {},
     "output_type": "display_data"
    },
    {
     "data": {
      "text/html": [
       "<pre>| 2m 14s                              | 72.25            | 145669          |</pre>"
      ],
      "text/plain": [
       "| 2m 14s                              | 72.25            | 145669          |"
      ]
     },
     "metadata": {},
     "output_type": "display_data"
    },
    {
     "data": {
      "text/html": [
       "<pre>| 2m 15s                              | 72.5             | 145808          |</pre>"
      ],
      "text/plain": [
       "| 2m 15s                              | 72.5             | 145808          |"
      ]
     },
     "metadata": {},
     "output_type": "display_data"
    },
    {
     "data": {
      "text/html": [
       "<pre>| 2m 16s                              | 72.75            | 146450          |</pre>"
      ],
      "text/plain": [
       "| 2m 16s                              | 72.75            | 146450          |"
      ]
     },
     "metadata": {},
     "output_type": "display_data"
    },
    {
     "data": {
      "text/html": [
       "<pre>| 2m 17s                              | 72.75            | 146557          |</pre>"
      ],
      "text/plain": [
       "| 2m 17s                              | 72.75            | 146557          |"
      ]
     },
     "metadata": {},
     "output_type": "display_data"
    },
    {
     "data": {
      "text/html": [
       "<pre>| 2m 18s                              | 72.75            | 146680          |</pre>"
      ],
      "text/plain": [
       "| 2m 18s                              | 72.75            | 146680          |"
      ]
     },
     "metadata": {},
     "output_type": "display_data"
    },
    {
     "data": {
      "text/html": [
       "<pre>| 2m 19s                              | 73               | 146823          |</pre>"
      ],
      "text/plain": [
       "| 2m 19s                              | 73               | 146823          |"
      ]
     },
     "metadata": {},
     "output_type": "display_data"
    },
    {
     "data": {
      "text/html": [
       "<pre>| 2m 20s                              | 73.25            | 147272          |</pre>"
      ],
      "text/plain": [
       "| 2m 20s                              | 73.25            | 147272          |"
      ]
     },
     "metadata": {},
     "output_type": "display_data"
    },
    {
     "data": {
      "text/html": [
       "<pre>| 2m 21s                              | 73.25            | 147413          |</pre>"
      ],
      "text/plain": [
       "| 2m 21s                              | 73.25            | 147413          |"
      ]
     },
     "metadata": {},
     "output_type": "display_data"
    },
    {
     "data": {
      "text/html": [
       "<pre>| 2m 22s                              | 73.25            | 147604          |</pre>"
      ],
      "text/plain": [
       "| 2m 22s                              | 73.25            | 147604          |"
      ]
     },
     "metadata": {},
     "output_type": "display_data"
    },
    {
     "data": {
      "text/html": [
       "<pre>| 2m 23s                              | 73.5             | 147838          |</pre>"
      ],
      "text/plain": [
       "| 2m 23s                              | 73.5             | 147838          |"
      ]
     },
     "metadata": {},
     "output_type": "display_data"
    },
    {
     "data": {
      "text/html": [
       "<pre>| 2m 24s                              | 73.5             | 148098          |</pre>"
      ],
      "text/plain": [
       "| 2m 24s                              | 73.5             | 148098          |"
      ]
     },
     "metadata": {},
     "output_type": "display_data"
    },
    {
     "data": {
      "text/html": [
       "<pre>| 2m 25s                              | 73.75            | 148309          |</pre>"
      ],
      "text/plain": [
       "| 2m 25s                              | 73.75            | 148309          |"
      ]
     },
     "metadata": {},
     "output_type": "display_data"
    },
    {
     "data": {
      "text/html": [
       "<pre>| 2m 26s                              | 74               | 149051          |</pre>"
      ],
      "text/plain": [
       "| 2m 26s                              | 74               | 149051          |"
      ]
     },
     "metadata": {},
     "output_type": "display_data"
    },
    {
     "data": {
      "text/html": [
       "<pre>| 2m 27s                              | 74.25            | 149382          |</pre>"
      ],
      "text/plain": [
       "| 2m 27s                              | 74.25            | 149382          |"
      ]
     },
     "metadata": {},
     "output_type": "display_data"
    },
    {
     "data": {
      "text/html": [
       "<pre>| 2m 28s                              | 74.25            | 149463          |</pre>"
      ],
      "text/plain": [
       "| 2m 28s                              | 74.25            | 149463          |"
      ]
     },
     "metadata": {},
     "output_type": "display_data"
    },
    {
     "data": {
      "text/html": [
       "<pre>| 2m 29s                              | 74.25            | 149573          |</pre>"
      ],
      "text/plain": [
       "| 2m 29s                              | 74.25            | 149573          |"
      ]
     },
     "metadata": {},
     "output_type": "display_data"
    },
    {
     "data": {
      "text/html": [
       "<pre>| 2m 30s                              | 74.5             | 149747          |</pre>"
      ],
      "text/plain": [
       "| 2m 30s                              | 74.5             | 149747          |"
      ]
     },
     "metadata": {},
     "output_type": "display_data"
    },
    {
     "data": {
      "text/html": [
       "<pre>| 2m 31s                              | 74.75            | 150225          |</pre>"
      ],
      "text/plain": [
       "| 2m 31s                              | 74.75            | 150225          |"
      ]
     },
     "metadata": {},
     "output_type": "display_data"
    },
    {
     "data": {
      "text/html": [
       "<pre>| 2m 32s                              | 74.75            | 150320          |</pre>"
      ],
      "text/plain": [
       "| 2m 32s                              | 74.75            | 150320          |"
      ]
     },
     "metadata": {},
     "output_type": "display_data"
    },
    {
     "data": {
      "text/html": [
       "<pre>| 2m 33s                              | 75               | 150892          |</pre>"
      ],
      "text/plain": [
       "| 2m 33s                              | 75               | 150892          |"
      ]
     },
     "metadata": {},
     "output_type": "display_data"
    },
    {
     "data": {
      "text/html": [
       "<pre>| 2m 34s                              | 75               | 151012          |</pre>"
      ],
      "text/plain": [
       "| 2m 34s                              | 75               | 151012          |"
      ]
     },
     "metadata": {},
     "output_type": "display_data"
    },
    {
     "data": {
      "text/html": [
       "<pre>| 2m 35s                              | 75               | 151098          |</pre>"
      ],
      "text/plain": [
       "| 2m 35s                              | 75               | 151098          |"
      ]
     },
     "metadata": {},
     "output_type": "display_data"
    },
    {
     "data": {
      "text/html": [
       "<pre>| 2m 36s                              | 75.25            | 151326          |</pre>"
      ],
      "text/plain": [
       "| 2m 36s                              | 75.25            | 151326          |"
      ]
     },
     "metadata": {},
     "output_type": "display_data"
    },
    {
     "data": {
      "text/html": [
       "<pre>| 2m 37s                              | 75.25            | 151507          |</pre>"
      ],
      "text/plain": [
       "| 2m 37s                              | 75.25            | 151507          |"
      ]
     },
     "metadata": {},
     "output_type": "display_data"
    },
    {
     "data": {
      "text/html": [
       "<pre>| 2m 38s                              | 75.25            | 151677          |</pre>"
      ],
      "text/plain": [
       "| 2m 38s                              | 75.25            | 151677          |"
      ]
     },
     "metadata": {},
     "output_type": "display_data"
    },
    {
     "data": {
      "text/html": [
       "<pre>| 2m 39s                              | 75.75            | 152363          |</pre>"
      ],
      "text/plain": [
       "| 2m 39s                              | 75.75            | 152363          |"
      ]
     },
     "metadata": {},
     "output_type": "display_data"
    },
    {
     "data": {
      "text/html": [
       "<pre>| 2m 40s                              | 75.75            | 152481          |</pre>"
      ],
      "text/plain": [
       "| 2m 40s                              | 75.75            | 152481          |"
      ]
     },
     "metadata": {},
     "output_type": "display_data"
    },
    {
     "data": {
      "text/html": [
       "<pre>| 2m 41s                              | 75.75            | 152609          |</pre>"
      ],
      "text/plain": [
       "| 2m 41s                              | 75.75            | 152609          |"
      ]
     },
     "metadata": {},
     "output_type": "display_data"
    },
    {
     "data": {
      "text/html": [
       "<pre>| 2m 42s                              | 75.75            | 152674          |</pre>"
      ],
      "text/plain": [
       "| 2m 42s                              | 75.75            | 152674          |"
      ]
     },
     "metadata": {},
     "output_type": "display_data"
    },
    {
     "data": {
      "text/html": [
       "<pre>| 2m 43s                              | 76               | 152905          |</pre>"
      ],
      "text/plain": [
       "| 2m 43s                              | 76               | 152905          |"
      ]
     },
     "metadata": {},
     "output_type": "display_data"
    },
    {
     "data": {
      "text/html": [
       "<pre>| 2m 44s                              | 76               | 153054          |</pre>"
      ],
      "text/plain": [
       "| 2m 44s                              | 76               | 153054          |"
      ]
     },
     "metadata": {},
     "output_type": "display_data"
    },
    {
     "data": {
      "text/html": [
       "<pre>| 2m 45s                              | 76.25            | 153408          |</pre>"
      ],
      "text/plain": [
       "| 2m 45s                              | 76.25            | 153408          |"
      ]
     },
     "metadata": {},
     "output_type": "display_data"
    },
    {
     "data": {
      "text/html": [
       "<pre>| 2m 46s                              | 76.5             | 153744          |</pre>"
      ],
      "text/plain": [
       "| 2m 46s                              | 76.5             | 153744          |"
      ]
     },
     "metadata": {},
     "output_type": "display_data"
    },
    {
     "data": {
      "text/html": [
       "<pre>| 2m 47s                              | 76.5             | 153992          |</pre>"
      ],
      "text/plain": [
       "| 2m 47s                              | 76.5             | 153992          |"
      ]
     },
     "metadata": {},
     "output_type": "display_data"
    },
    {
     "data": {
      "text/html": [
       "<pre>| 2m 48s                              | 76.75            | 154339          |</pre>"
      ],
      "text/plain": [
       "| 2m 48s                              | 76.75            | 154339          |"
      ]
     },
     "metadata": {},
     "output_type": "display_data"
    },
    {
     "data": {
      "text/html": [
       "<pre>| 2m 49s                              | 79.25            | 159534          |</pre>"
      ],
      "text/plain": [
       "| 2m 49s                              | 79.25            | 159534          |"
      ]
     },
     "metadata": {},
     "output_type": "display_data"
    },
    {
     "data": {
      "text/html": [
       "<pre>| 2m 50s                              | 81               | 163154          |</pre>"
      ],
      "text/plain": [
       "| 2m 50s                              | 81               | 163154          |"
      ]
     },
     "metadata": {},
     "output_type": "display_data"
    },
    {
     "data": {
      "text/html": [
       "<pre>| 2m 51s                              | 81.25            | 163271          |</pre>"
      ],
      "text/plain": [
       "| 2m 51s                              | 81.25            | 163271          |"
      ]
     },
     "metadata": {},
     "output_type": "display_data"
    },
    {
     "data": {
      "text/html": [
       "<pre>| 2m 52s                              | 81.25            | 163388          |</pre>"
      ],
      "text/plain": [
       "| 2m 52s                              | 81.25            | 163388          |"
      ]
     },
     "metadata": {},
     "output_type": "display_data"
    },
    {
     "data": {
      "text/html": [
       "<pre>| 2m 53s                              | 81.25            | 163513          |</pre>"
      ],
      "text/plain": [
       "| 2m 53s                              | 81.25            | 163513          |"
      ]
     },
     "metadata": {},
     "output_type": "display_data"
    },
    {
     "data": {
      "text/html": [
       "<pre>| 2m 54s                              | 81.25            | 163635          |</pre>"
      ],
      "text/plain": [
       "| 2m 54s                              | 81.25            | 163635          |"
      ]
     },
     "metadata": {},
     "output_type": "display_data"
    },
    {
     "data": {
      "text/html": [
       "<pre>| 2m 55s                              | 81.25            | 163752          |</pre>"
      ],
      "text/plain": [
       "| 2m 55s                              | 81.25            | 163752          |"
      ]
     },
     "metadata": {},
     "output_type": "display_data"
    },
    {
     "data": {
      "text/html": [
       "<pre>| 2m 56s                              | 81.5             | 163902          |</pre>"
      ],
      "text/plain": [
       "| 2m 56s                              | 81.5             | 163902          |"
      ]
     },
     "metadata": {},
     "output_type": "display_data"
    },
    {
     "data": {
      "text/html": [
       "<pre>| 2m 57s                              | 81.5             | 164035          |</pre>"
      ],
      "text/plain": [
       "| 2m 57s                              | 81.5             | 164035          |"
      ]
     },
     "metadata": {},
     "output_type": "display_data"
    },
    {
     "data": {
      "text/html": [
       "<pre>| 2m 58s                              | 81.5             | 164162          |</pre>"
      ],
      "text/plain": [
       "| 2m 58s                              | 81.5             | 164162          |"
      ]
     },
     "metadata": {},
     "output_type": "display_data"
    },
    {
     "data": {
      "text/html": [
       "<pre>| 2m 59s                              | 81.75            | 164269          |</pre>"
      ],
      "text/plain": [
       "| 2m 59s                              | 81.75            | 164269          |"
      ]
     },
     "metadata": {},
     "output_type": "display_data"
    },
    {
     "data": {
      "text/html": [
       "<pre>| 3m 0s                               | 81.75            | 164413          |</pre>"
      ],
      "text/plain": [
       "| 3m 0s                               | 81.75            | 164413          |"
      ]
     },
     "metadata": {},
     "output_type": "display_data"
    },
    {
     "data": {
      "text/html": [
       "<pre>| 3m 1s                               | 81.75            | 164544          |</pre>"
      ],
      "text/plain": [
       "| 3m 1s                               | 81.75            | 164544          |"
      ]
     },
     "metadata": {},
     "output_type": "display_data"
    },
    {
     "data": {
      "text/html": [
       "<pre>| 3m 2s                               | 81.75            | 164678          |</pre>"
      ],
      "text/plain": [
       "| 3m 2s                               | 81.75            | 164678          |"
      ]
     },
     "metadata": {},
     "output_type": "display_data"
    },
    {
     "data": {
      "text/html": [
       "<pre>| 3m 3s                               | 82               | 164788          |</pre>"
      ],
      "text/plain": [
       "| 3m 3s                               | 82               | 164788          |"
      ]
     },
     "metadata": {},
     "output_type": "display_data"
    },
    {
     "data": {
      "text/html": [
       "<pre>| 3m 4s                               | 82               | 164899          |</pre>"
      ],
      "text/plain": [
       "| 3m 4s                               | 82               | 164899          |"
      ]
     },
     "metadata": {},
     "output_type": "display_data"
    },
    {
     "data": {
      "text/html": [
       "<pre>| 3m 5s                               | 82               | 164995          |</pre>"
      ],
      "text/plain": [
       "| 3m 5s                               | 82               | 164995          |"
      ]
     },
     "metadata": {},
     "output_type": "display_data"
    },
    {
     "data": {
      "text/html": [
       "<pre>| 3m 6s                               | 82               | 165101          |</pre>"
      ],
      "text/plain": [
       "| 3m 6s                               | 82               | 165101          |"
      ]
     },
     "metadata": {},
     "output_type": "display_data"
    },
    {
     "data": {
      "text/html": [
       "<pre>| 3m 7s                               | 82               | 165219          |</pre>"
      ],
      "text/plain": [
       "| 3m 7s                               | 82               | 165219          |"
      ]
     },
     "metadata": {},
     "output_type": "display_data"
    },
    {
     "data": {
      "text/html": [
       "<pre>| 3m 8s                               | 82.25            | 165364          |</pre>"
      ],
      "text/plain": [
       "| 3m 8s                               | 82.25            | 165364          |"
      ]
     },
     "metadata": {},
     "output_type": "display_data"
    },
    {
     "data": {
      "text/html": [
       "<pre>| 3m 9s                               | 82.25            | 165503          |</pre>"
      ],
      "text/plain": [
       "| 3m 9s                               | 82.25            | 165503          |"
      ]
     },
     "metadata": {},
     "output_type": "display_data"
    },
    {
     "data": {
      "text/html": [
       "<pre>| 3m 10s                              | 82.25            | 165647          |</pre>"
      ],
      "text/plain": [
       "| 3m 10s                              | 82.25            | 165647          |"
      ]
     },
     "metadata": {},
     "output_type": "display_data"
    },
    {
     "data": {
      "text/html": [
       "<pre>| 3m 11s                              | 82.5             | 165785          |</pre>"
      ],
      "text/plain": [
       "| 3m 11s                              | 82.5             | 165785          |"
      ]
     },
     "metadata": {},
     "output_type": "display_data"
    },
    {
     "data": {
      "text/html": [
       "<pre>| 3m 12s                              | 82.5             | 165940          |</pre>"
      ],
      "text/plain": [
       "| 3m 12s                              | 82.5             | 165940          |"
      ]
     },
     "metadata": {},
     "output_type": "display_data"
    },
    {
     "data": {
      "text/html": [
       "<pre>| 3m 13s                              | 82.5             | 166073          |</pre>"
      ],
      "text/plain": [
       "| 3m 13s                              | 82.5             | 166073          |"
      ]
     },
     "metadata": {},
     "output_type": "display_data"
    },
    {
     "data": {
      "text/html": [
       "<pre>| 3m 14s                              | 82.5             | 166193          |</pre>"
      ],
      "text/plain": [
       "| 3m 14s                              | 82.5             | 166193          |"
      ]
     },
     "metadata": {},
     "output_type": "display_data"
    },
    {
     "data": {
      "text/html": [
       "<pre>| 3m 15s                              | 82.75            | 166305          |</pre>"
      ],
      "text/plain": [
       "| 3m 15s                              | 82.75            | 166305          |"
      ]
     },
     "metadata": {},
     "output_type": "display_data"
    },
    {
     "data": {
      "text/html": [
       "<pre>| 3m 16s                              | 82.75            | 166413          |</pre>"
      ],
      "text/plain": [
       "| 3m 16s                              | 82.75            | 166413          |"
      ]
     },
     "metadata": {},
     "output_type": "display_data"
    },
    {
     "data": {
      "text/html": [
       "<pre>| 3m 17s                              | 82.75            | 166511          |</pre>"
      ],
      "text/plain": [
       "| 3m 17s                              | 82.75            | 166511          |"
      ]
     },
     "metadata": {},
     "output_type": "display_data"
    },
    {
     "data": {
      "text/html": [
       "<pre>| 3m 18s                              | 82.75            | 166609          |</pre>"
      ],
      "text/plain": [
       "| 3m 18s                              | 82.75            | 166609          |"
      ]
     },
     "metadata": {},
     "output_type": "display_data"
    },
    {
     "data": {
      "text/html": [
       "<pre>| 3m 19s                              | 82.75            | 166735          |</pre>"
      ],
      "text/plain": [
       "| 3m 19s                              | 82.75            | 166735          |"
      ]
     },
     "metadata": {},
     "output_type": "display_data"
    },
    {
     "data": {
      "text/html": [
       "<pre>| 3m 20s                              | 83               | 166826          |</pre>"
      ],
      "text/plain": [
       "| 3m 20s                              | 83               | 166826          |"
      ]
     },
     "metadata": {},
     "output_type": "display_data"
    },
    {
     "data": {
      "text/html": [
       "<pre>| 3m 21s                              | 83               | 166929          |</pre>"
      ],
      "text/plain": [
       "| 3m 21s                              | 83               | 166929          |"
      ]
     },
     "metadata": {},
     "output_type": "display_data"
    },
    {
     "data": {
      "text/html": [
       "<pre>| 3m 22s                              | 83               | 167071          |</pre>"
      ],
      "text/plain": [
       "| 3m 22s                              | 83               | 167071          |"
      ]
     },
     "metadata": {},
     "output_type": "display_data"
    },
    {
     "data": {
      "text/html": [
       "<pre>| 3m 23s                              | 83               | 167177          |</pre>"
      ],
      "text/plain": [
       "| 3m 23s                              | 83               | 167177          |"
      ]
     },
     "metadata": {},
     "output_type": "display_data"
    },
    {
     "data": {
      "text/html": [
       "<pre>| 3m 25s                              | 83.25            | 167288          |</pre>"
      ],
      "text/plain": [
       "| 3m 25s                              | 83.25            | 167288          |"
      ]
     },
     "metadata": {},
     "output_type": "display_data"
    },
    {
     "data": {
      "text/html": [
       "<pre>| 3m 25s                              | 83.25            | 167404          |</pre>"
      ],
      "text/plain": [
       "| 3m 25s                              | 83.25            | 167404          |"
      ]
     },
     "metadata": {},
     "output_type": "display_data"
    },
    {
     "data": {
      "text/html": [
       "<pre>| 3m 26s                              | 83.25            | 167537          |</pre>"
      ],
      "text/plain": [
       "| 3m 26s                              | 83.25            | 167537          |"
      ]
     },
     "metadata": {},
     "output_type": "display_data"
    },
    {
     "data": {
      "text/html": [
       "<pre>| 3m 28s                              | 83.25            | 167667          |</pre>"
      ],
      "text/plain": [
       "| 3m 28s                              | 83.25            | 167667          |"
      ]
     },
     "metadata": {},
     "output_type": "display_data"
    },
    {
     "data": {
      "text/html": [
       "<pre>| 3m 29s                              | 83.25            | 167767          |</pre>"
      ],
      "text/plain": [
       "| 3m 29s                              | 83.25            | 167767          |"
      ]
     },
     "metadata": {},
     "output_type": "display_data"
    },
    {
     "data": {
      "text/html": [
       "<pre>| 3m 30s                              | 83.5             | 167867          |</pre>"
      ],
      "text/plain": [
       "| 3m 30s                              | 83.5             | 167867          |"
      ]
     },
     "metadata": {},
     "output_type": "display_data"
    },
    {
     "data": {
      "text/html": [
       "<pre>| 3m 31s                              | 83.5             | 167974          |</pre>"
      ],
      "text/plain": [
       "| 3m 31s                              | 83.5             | 167974          |"
      ]
     },
     "metadata": {},
     "output_type": "display_data"
    },
    {
     "data": {
      "text/html": [
       "<pre>| 3m 32s                              | 83.5             | 168075          |</pre>"
      ],
      "text/plain": [
       "| 3m 32s                              | 83.5             | 168075          |"
      ]
     },
     "metadata": {},
     "output_type": "display_data"
    },
    {
     "data": {
      "text/html": [
       "<pre>| 3m 33s                              | 83.5             | 168176          |</pre>"
      ],
      "text/plain": [
       "| 3m 33s                              | 83.5             | 168176          |"
      ]
     },
     "metadata": {},
     "output_type": "display_data"
    },
    {
     "data": {
      "text/html": [
       "<pre>| 3m 34s                              | 83.75            | 168297          |</pre>"
      ],
      "text/plain": [
       "| 3m 34s                              | 83.75            | 168297          |"
      ]
     },
     "metadata": {},
     "output_type": "display_data"
    },
    {
     "data": {
      "text/html": [
       "<pre>| 3m 35s                              | 83.75            | 168405          |</pre>"
      ],
      "text/plain": [
       "| 3m 35s                              | 83.75            | 168405          |"
      ]
     },
     "metadata": {},
     "output_type": "display_data"
    },
    {
     "data": {
      "text/html": [
       "<pre>| 3m 36s                              | 83.75            | 168512          |</pre>"
      ],
      "text/plain": [
       "| 3m 36s                              | 83.75            | 168512          |"
      ]
     },
     "metadata": {},
     "output_type": "display_data"
    },
    {
     "data": {
      "text/html": [
       "<pre>| 3m 37s                              | 83.75            | 168627          |</pre>"
      ],
      "text/plain": [
       "| 3m 37s                              | 83.75            | 168627          |"
      ]
     },
     "metadata": {},
     "output_type": "display_data"
    },
    {
     "data": {
      "text/html": [
       "<pre>| 3m 38s                              | 83.75            | 168742          |</pre>"
      ],
      "text/plain": [
       "| 3m 38s                              | 83.75            | 168742          |"
      ]
     },
     "metadata": {},
     "output_type": "display_data"
    },
    {
     "data": {
      "text/html": [
       "<pre>| 3m 39s                              | 84               | 168873          |</pre>"
      ],
      "text/plain": [
       "| 3m 39s                              | 84               | 168873          |"
      ]
     },
     "metadata": {},
     "output_type": "display_data"
    },
    {
     "data": {
      "text/html": [
       "<pre>| 3m 40s                              | 84               | 169095          |</pre>"
      ],
      "text/plain": [
       "| 3m 40s                              | 84               | 169095          |"
      ]
     },
     "metadata": {},
     "output_type": "display_data"
    },
    {
     "data": {
      "text/html": [
       "<pre>| 3m 41s                              | 84               | 169250          |</pre>"
      ],
      "text/plain": [
       "| 3m 41s                              | 84               | 169250          |"
      ]
     },
     "metadata": {},
     "output_type": "display_data"
    },
    {
     "data": {
      "text/html": [
       "<pre>| 3m 42s                              | 84.25            | 169442          |</pre>"
      ],
      "text/plain": [
       "| 3m 42s                              | 84.25            | 169442          |"
      ]
     },
     "metadata": {},
     "output_type": "display_data"
    },
    {
     "data": {
      "text/html": [
       "<pre>| 3m 43s                              | 84.25            | 169626          |</pre>"
      ],
      "text/plain": [
       "| 3m 43s                              | 84.25            | 169626          |"
      ]
     },
     "metadata": {},
     "output_type": "display_data"
    },
    {
     "data": {
      "text/html": [
       "<pre>| 3m 44s                              | 84.25            | 169785          |</pre>"
      ],
      "text/plain": [
       "| 3m 44s                              | 84.25            | 169785          |"
      ]
     },
     "metadata": {},
     "output_type": "display_data"
    },
    {
     "data": {
      "text/html": [
       "<pre>| 3m 45s                              | 84.5             | 169947          |</pre>"
      ],
      "text/plain": [
       "| 3m 45s                              | 84.5             | 169947          |"
      ]
     },
     "metadata": {},
     "output_type": "display_data"
    },
    {
     "data": {
      "text/html": [
       "<pre>| 3m 46s                              | 84.5             | 170155          |</pre>"
      ],
      "text/plain": [
       "| 3m 46s                              | 84.5             | 170155          |"
      ]
     },
     "metadata": {},
     "output_type": "display_data"
    },
    {
     "data": {
      "text/html": [
       "<pre>| 3m 47s                              | 84.75            | 170350          |</pre>"
      ],
      "text/plain": [
       "| 3m 47s                              | 84.75            | 170350          |"
      ]
     },
     "metadata": {},
     "output_type": "display_data"
    },
    {
     "data": {
      "text/html": [
       "<pre>| 3m 48s                              | 84.75            | 170563          |</pre>"
      ],
      "text/plain": [
       "| 3m 48s                              | 84.75            | 170563          |"
      ]
     },
     "metadata": {},
     "output_type": "display_data"
    },
    {
     "data": {
      "text/html": [
       "<pre>| 3m 49s                              | 84.75            | 170727          |</pre>"
      ],
      "text/plain": [
       "| 3m 49s                              | 84.75            | 170727          |"
      ]
     },
     "metadata": {},
     "output_type": "display_data"
    },
    {
     "data": {
      "text/html": [
       "<pre>| 3m 50s                              | 85               | 170900          |</pre>"
      ],
      "text/plain": [
       "| 3m 50s                              | 85               | 170900          |"
      ]
     },
     "metadata": {},
     "output_type": "display_data"
    },
    {
     "data": {
      "text/html": [
       "<pre>| 3m 51s                              | 85               | 171068          |</pre>"
      ],
      "text/plain": [
       "| 3m 51s                              | 85               | 171068          |"
      ]
     },
     "metadata": {},
     "output_type": "display_data"
    },
    {
     "data": {
      "text/html": [
       "<pre>| 3m 52s                              | 85               | 171228          |</pre>"
      ],
      "text/plain": [
       "| 3m 52s                              | 85               | 171228          |"
      ]
     },
     "metadata": {},
     "output_type": "display_data"
    },
    {
     "data": {
      "text/html": [
       "<pre>| 3m 53s                              | 85.25            | 171615          |</pre>"
      ],
      "text/plain": [
       "| 3m 53s                              | 85.25            | 171615          |"
      ]
     },
     "metadata": {},
     "output_type": "display_data"
    },
    {
     "data": {
      "text/html": [
       "<pre>| 3m 54s                              | 85.25            | 171761          |</pre>"
      ],
      "text/plain": [
       "| 3m 54s                              | 85.25            | 171761          |"
      ]
     },
     "metadata": {},
     "output_type": "display_data"
    },
    {
     "data": {
      "text/html": [
       "<pre>| 3m 55s                              | 85.5             | 171889          |</pre>"
      ],
      "text/plain": [
       "| 3m 55s                              | 85.5             | 171889          |"
      ]
     },
     "metadata": {},
     "output_type": "display_data"
    },
    {
     "data": {
      "text/html": [
       "<pre>| 3m 56s                              | 85.5             | 172028          |</pre>"
      ],
      "text/plain": [
       "| 3m 56s                              | 85.5             | 172028          |"
      ]
     },
     "metadata": {},
     "output_type": "display_data"
    },
    {
     "data": {
      "text/html": [
       "<pre>| 3m 57s                              | 85.75            | 172399          |</pre>"
      ],
      "text/plain": [
       "| 3m 57s                              | 85.75            | 172399          |"
      ]
     },
     "metadata": {},
     "output_type": "display_data"
    },
    {
     "data": {
      "text/html": [
       "<pre>| 3m 58s                              | 85.75            | 172576          |</pre>"
      ],
      "text/plain": [
       "| 3m 58s                              | 85.75            | 172576          |"
      ]
     },
     "metadata": {},
     "output_type": "display_data"
    },
    {
     "data": {
      "text/html": [
       "<pre>| 3m 59s                              | 85.75            | 172753          |</pre>"
      ],
      "text/plain": [
       "| 3m 59s                              | 85.75            | 172753          |"
      ]
     },
     "metadata": {},
     "output_type": "display_data"
    },
    {
     "data": {
      "text/html": [
       "<pre>| 4m 0s                               | 86               | 173043          |</pre>"
      ],
      "text/plain": [
       "| 4m 0s                               | 86               | 173043          |"
      ]
     },
     "metadata": {},
     "output_type": "display_data"
    },
    {
     "data": {
      "text/html": [
       "<pre>| 4m 1s                               | 86.5             | 174047          |</pre>"
      ],
      "text/plain": [
       "| 4m 1s                               | 86.5             | 174047          |"
      ]
     },
     "metadata": {},
     "output_type": "display_data"
    },
    {
     "data": {
      "text/html": [
       "<pre>| 4m 2s                               | 86.75            | 174810          |</pre>"
      ],
      "text/plain": [
       "| 4m 2s                               | 86.75            | 174810          |"
      ]
     },
     "metadata": {},
     "output_type": "display_data"
    },
    {
     "data": {
      "text/html": [
       "<pre>| 4m 3s                               | 87               | 174934          |</pre>"
      ],
      "text/plain": [
       "| 4m 3s                               | 87               | 174934          |"
      ]
     },
     "metadata": {},
     "output_type": "display_data"
    },
    {
     "data": {
      "text/html": [
       "<pre>| 4m 4s                               | 87               | 175046          |</pre>"
      ],
      "text/plain": [
       "| 4m 4s                               | 87               | 175046          |"
      ]
     },
     "metadata": {},
     "output_type": "display_data"
    },
    {
     "data": {
      "text/html": [
       "<pre>| 4m 5s                               | 87               | 175176          |</pre>"
      ],
      "text/plain": [
       "| 4m 5s                               | 87               | 175176          |"
      ]
     },
     "metadata": {},
     "output_type": "display_data"
    },
    {
     "data": {
      "text/html": [
       "<pre>| 4m 6s                               | 87.25            | 175325          |</pre>"
      ],
      "text/plain": [
       "| 4m 6s                               | 87.25            | 175325          |"
      ]
     },
     "metadata": {},
     "output_type": "display_data"
    },
    {
     "data": {
      "text/html": [
       "<pre>| 4m 7s                               | 87.25            | 175451          |</pre>"
      ],
      "text/plain": [
       "| 4m 7s                               | 87.25            | 175451          |"
      ]
     },
     "metadata": {},
     "output_type": "display_data"
    },
    {
     "data": {
      "text/html": [
       "<pre>| 4m 8s                               | 87.25            | 175577          |</pre>"
      ],
      "text/plain": [
       "| 4m 8s                               | 87.25            | 175577          |"
      ]
     },
     "metadata": {},
     "output_type": "display_data"
    },
    {
     "data": {
      "text/html": [
       "<pre>| 4m 9s                               | 87.25            | 175697          |</pre>"
      ],
      "text/plain": [
       "| 4m 9s                               | 87.25            | 175697          |"
      ]
     },
     "metadata": {},
     "output_type": "display_data"
    },
    {
     "data": {
      "text/html": [
       "<pre>| 4m 10s                              | 87.5             | 175847          |</pre>"
      ],
      "text/plain": [
       "| 4m 10s                              | 87.5             | 175847          |"
      ]
     },
     "metadata": {},
     "output_type": "display_data"
    },
    {
     "data": {
      "text/html": [
       "<pre>| 4m 11s                              | 87.5             | 176044          |</pre>"
      ],
      "text/plain": [
       "| 4m 11s                              | 87.5             | 176044          |"
      ]
     },
     "metadata": {},
     "output_type": "display_data"
    },
    {
     "data": {
      "text/html": [
       "<pre>| 4m 12s                              | 87.75            | 176447          |</pre>"
      ],
      "text/plain": [
       "| 4m 12s                              | 87.75            | 176447          |"
      ]
     },
     "metadata": {},
     "output_type": "display_data"
    },
    {
     "data": {
      "text/html": [
       "<pre>| 4m 13s                              | 87.75            | 176593          |</pre>"
      ],
      "text/plain": [
       "| 4m 13s                              | 87.75            | 176593          |"
      ]
     },
     "metadata": {},
     "output_type": "display_data"
    },
    {
     "data": {
      "text/html": [
       "<pre>| 4m 14s                              | 88               | 176825          |</pre>"
      ],
      "text/plain": [
       "| 4m 14s                              | 88               | 176825          |"
      ]
     },
     "metadata": {},
     "output_type": "display_data"
    },
    {
     "data": {
      "text/html": [
       "<pre>| 4m 15s                              | 88               | 177039          |</pre>"
      ],
      "text/plain": [
       "| 4m 15s                              | 88               | 177039          |"
      ]
     },
     "metadata": {},
     "output_type": "display_data"
    },
    {
     "data": {
      "text/html": [
       "<pre>| 4m 16s                              | 88.25            | 177389          |</pre>"
      ],
      "text/plain": [
       "| 4m 16s                              | 88.25            | 177389          |"
      ]
     },
     "metadata": {},
     "output_type": "display_data"
    },
    {
     "data": {
      "text/html": [
       "<pre>| 4m 17s                              | 88.25            | 177786          |</pre>"
      ],
      "text/plain": [
       "| 4m 17s                              | 88.25            | 177786          |"
      ]
     },
     "metadata": {},
     "output_type": "display_data"
    },
    {
     "data": {
      "text/html": [
       "<pre>| 4m 18s                              | 88.5             | 178025          |</pre>"
      ],
      "text/plain": [
       "| 4m 18s                              | 88.5             | 178025          |"
      ]
     },
     "metadata": {},
     "output_type": "display_data"
    },
    {
     "data": {
      "text/html": [
       "<pre>| 4m 19s                              | 88.75            | 178498          |</pre>"
      ],
      "text/plain": [
       "| 4m 19s                              | 88.75            | 178498          |"
      ]
     },
     "metadata": {},
     "output_type": "display_data"
    },
    {
     "data": {
      "text/html": [
       "<pre>| 4m 20s                              | 89.5             | 179905          |</pre>"
      ],
      "text/plain": [
       "| 4m 20s                              | 89.5             | 179905          |"
      ]
     },
     "metadata": {},
     "output_type": "display_data"
    },
    {
     "data": {
      "text/html": [
       "<pre>| 4m 21s                              | 89.5             | 180288          |</pre>"
      ],
      "text/plain": [
       "| 4m 21s                              | 89.5             | 180288          |"
      ]
     },
     "metadata": {},
     "output_type": "display_data"
    },
    {
     "data": {
      "text/html": [
       "<pre>| 4m 24s                              | 89.75            | 180656          |</pre>"
      ],
      "text/plain": [
       "| 4m 24s                              | 89.75            | 180656          |"
      ]
     },
     "metadata": {},
     "output_type": "display_data"
    },
    {
     "data": {
      "text/html": [
       "<pre>| 4m 27s                              | 90               | 180960          |</pre>"
      ],
      "text/plain": [
       "| 4m 27s                              | 90               | 180960          |"
      ]
     },
     "metadata": {},
     "output_type": "display_data"
    },
    {
     "data": {
      "text/html": [
       "<pre>| 4m 29s                              | 90               | 181206          |</pre>"
      ],
      "text/plain": [
       "| 4m 29s                              | 90               | 181206          |"
      ]
     },
     "metadata": {},
     "output_type": "display_data"
    },
    {
     "data": {
      "text/html": [
       "<pre>| 4m 30s                              | 90.25            | 181573          |</pre>"
      ],
      "text/plain": [
       "| 4m 30s                              | 90.25            | 181573          |"
      ]
     },
     "metadata": {},
     "output_type": "display_data"
    },
    {
     "data": {
      "text/html": [
       "<pre>| 4m 31s                              | 90.25            | 181741          |</pre>"
      ],
      "text/plain": [
       "| 4m 31s                              | 90.25            | 181741          |"
      ]
     },
     "metadata": {},
     "output_type": "display_data"
    },
    {
     "data": {
      "text/html": [
       "<pre>| 4m 32s                              | 90.5             | 182215          |</pre>"
      ],
      "text/plain": [
       "| 4m 32s                              | 90.5             | 182215          |"
      ]
     },
     "metadata": {},
     "output_type": "display_data"
    },
    {
     "data": {
      "text/html": [
       "<pre>| 4m 36s                              | 91               | 182922          |</pre>"
      ],
      "text/plain": [
       "| 4m 36s                              | 91               | 182922          |"
      ]
     },
     "metadata": {},
     "output_type": "display_data"
    },
    {
     "data": {
      "text/html": [
       "<pre>| 4m 37s                              | 91               | 183021          |</pre>"
      ],
      "text/plain": [
       "| 4m 37s                              | 91               | 183021          |"
      ]
     },
     "metadata": {},
     "output_type": "display_data"
    },
    {
     "data": {
      "text/html": [
       "<pre>| 4m 39s                              | 91               | 183157          |</pre>"
      ],
      "text/plain": [
       "| 4m 39s                              | 91               | 183157          |"
      ]
     },
     "metadata": {},
     "output_type": "display_data"
    },
    {
     "data": {
      "text/html": [
       "<pre>| 4m 40s                              | 91               | 183170          |</pre>"
      ],
      "text/plain": [
       "| 4m 40s                              | 91               | 183170          |"
      ]
     },
     "metadata": {},
     "output_type": "display_data"
    },
    {
     "data": {
      "text/html": [
       "<pre>| 4m 41s                              | 91.25            | 183371          |</pre>"
      ],
      "text/plain": [
       "| 4m 41s                              | 91.25            | 183371          |"
      ]
     },
     "metadata": {},
     "output_type": "display_data"
    },
    {
     "data": {
      "text/html": [
       "<pre>| 4m 43s                              | 91.25            | 183670          |</pre>"
      ],
      "text/plain": [
       "| 4m 43s                              | 91.25            | 183670          |"
      ]
     },
     "metadata": {},
     "output_type": "display_data"
    },
    {
     "data": {
      "text/html": [
       "<pre>| 4m 46s                              | 91.5             | 184001          |</pre>"
      ],
      "text/plain": [
       "| 4m 46s                              | 91.5             | 184001          |"
      ]
     },
     "metadata": {},
     "output_type": "display_data"
    },
    {
     "data": {
      "text/html": [
       "<pre>| 5m 20s                              | 93.75            | 188475          |</pre>"
      ],
      "text/plain": [
       "| 5m 20s                              | 93.75            | 188475          |"
      ]
     },
     "metadata": {},
     "output_type": "display_data"
    },
    {
     "data": {
      "text/html": [
       "<pre>| 5m 35s                              | 94.5             | 190373          |</pre>"
      ],
      "text/plain": [
       "| 5m 35s                              | 94.5             | 190373          |"
      ]
     },
     "metadata": {},
     "output_type": "display_data"
    },
    {
     "data": {
      "text/html": [
       "<pre>| 5m 42s                              | 95               | 191067          |</pre>"
      ],
      "text/plain": [
       "| 5m 42s                              | 95               | 191067          |"
      ]
     },
     "metadata": {},
     "output_type": "display_data"
    },
    {
     "data": {
      "text/html": [
       "<pre>| 5m 43s                              | 95               | 191152          |</pre>"
      ],
      "text/plain": [
       "| 5m 43s                              | 95               | 191152          |"
      ]
     },
     "metadata": {},
     "output_type": "display_data"
    },
    {
     "data": {
      "text/html": [
       "<pre>| 5m 46s                              | 95.25            | 191489          |</pre>"
      ],
      "text/plain": [
       "| 5m 46s                              | 95.25            | 191489          |"
      ]
     },
     "metadata": {},
     "output_type": "display_data"
    },
    {
     "data": {
      "text/html": [
       "<pre>| 5m 47s                              | 95.25            | 191687          |</pre>"
      ],
      "text/plain": [
       "| 5m 47s                              | 95.25            | 191687          |"
      ]
     },
     "metadata": {},
     "output_type": "display_data"
    },
    {
     "data": {
      "text/html": [
       "<pre>| 5m 48s                              | 95.25            | 191715          |</pre>"
      ],
      "text/plain": [
       "| 5m 48s                              | 95.25            | 191715          |"
      ]
     },
     "metadata": {},
     "output_type": "display_data"
    },
    {
     "data": {
      "text/html": [
       "<pre>| 5m 51s                              | 95.5             | 192088          |</pre>"
      ],
      "text/plain": [
       "| 5m 51s                              | 95.5             | 192088          |"
      ]
     },
     "metadata": {},
     "output_type": "display_data"
    },
    {
     "data": {
      "text/html": [
       "<pre>| 5m 52s                              | 95.5             | 192324          |</pre>"
      ],
      "text/plain": [
       "| 5m 52s                              | 95.5             | 192324          |"
      ]
     },
     "metadata": {},
     "output_type": "display_data"
    },
    {
     "data": {
      "text/html": [
       "<pre>| 5m 53s                              | 95.75            | 192412          |</pre>"
      ],
      "text/plain": [
       "| 5m 53s                              | 95.75            | 192412          |"
      ]
     },
     "metadata": {},
     "output_type": "display_data"
    },
    {
     "data": {
      "text/html": [
       "<pre>| 5m 54s                              | 95.75            | 192617          |</pre>"
      ],
      "text/plain": [
       "| 5m 54s                              | 95.75            | 192617          |"
      ]
     },
     "metadata": {},
     "output_type": "display_data"
    },
    {
     "data": {
      "text/html": [
       "<pre>| 5m 55s                              | 95.75            | 192740          |</pre>"
      ],
      "text/plain": [
       "| 5m 55s                              | 95.75            | 192740          |"
      ]
     },
     "metadata": {},
     "output_type": "display_data"
    },
    {
     "data": {
      "text/html": [
       "<pre>| 6m 8s                               | 96.5             | 193920          |</pre>"
      ],
      "text/plain": [
       "| 6m 8s                               | 96.5             | 193920          |"
      ]
     },
     "metadata": {},
     "output_type": "display_data"
    },
    {
     "data": {
      "text/html": [
       "<pre>| 6m 43s                              | 98.75            | 198577          |</pre>"
      ],
      "text/plain": [
       "| 6m 43s                              | 98.75            | 198577          |"
      ]
     },
     "metadata": {},
     "output_type": "display_data"
    },
    {
     "data": {
      "text/html": [
       "<pre>| 6m 51s                              | 99               | 199200          |</pre>"
      ],
      "text/plain": [
       "| 6m 51s                              | 99               | 199200          |"
      ]
     },
     "metadata": {},
     "output_type": "display_data"
    },
    {
     "data": {
      "text/html": [
       "<pre>| 6m 52s                              | 99               | 199279          |</pre>"
      ],
      "text/plain": [
       "| 6m 52s                              | 99               | 199279          |"
      ]
     },
     "metadata": {},
     "output_type": "display_data"
    },
    {
     "data": {
      "text/html": [
       "<pre>| 6m 53s                              | 99               | 199368          |</pre>"
      ],
      "text/plain": [
       "| 6m 53s                              | 99               | 199368          |"
      ]
     },
     "metadata": {},
     "output_type": "display_data"
    },
    {
     "data": {
      "text/html": [
       "<pre>| 6m 54s                              | 99.25            | 199482          |</pre>"
      ],
      "text/plain": [
       "| 6m 54s                              | 99.25            | 199482          |"
      ]
     },
     "metadata": {},
     "output_type": "display_data"
    },
    {
     "data": {
      "text/html": [
       "<pre>| 6m 56s                              | 99.25            | 199628          |</pre>"
      ],
      "text/plain": [
       "| 6m 56s                              | 99.25            | 199628          |"
      ]
     },
     "metadata": {},
     "output_type": "display_data"
    },
    {
     "data": {
      "text/html": [
       "<pre>| 6m 56s                              | 99.25            | 199629          |</pre>"
      ],
      "text/plain": [
       "| 6m 56s                              | 99.25            | 199629          |"
      ]
     },
     "metadata": {},
     "output_type": "display_data"
    },
    {
     "data": {
      "text/html": [
       "<pre>| 6m 59s                              | 99.25            | 199828          |</pre>"
      ],
      "text/plain": [
       "| 6m 59s                              | 99.25            | 199828          |"
      ]
     },
     "metadata": {},
     "output_type": "display_data"
    },
    {
     "data": {
      "text/html": [
       "<pre>| 7m 4s                               | 99.5             | 200393          |</pre>"
      ],
      "text/plain": [
       "| 7m 4s                               | 99.5             | 200393          |"
      ]
     },
     "metadata": {},
     "output_type": "display_data"
    },
    {
     "data": {
      "text/html": [
       "<pre>| 7m 8s                               | 99.75            | 200882          |</pre>"
      ],
      "text/plain": [
       "| 7m 8s                               | 99.75            | 200882          |"
      ]
     },
     "metadata": {},
     "output_type": "display_data"
    },
    {
     "data": {
      "text/html": [
       "<pre>| 7m 30s                              | 100              | 200937          |</pre>"
      ],
      "text/plain": [
       "| 7m 30s                              | 100              | 200937          |"
      ]
     },
     "metadata": {},
     "output_type": "display_data"
    },
    {
     "data": {
      "text/html": [
       "<pre>+-------------------------------------+------------------+-----------------+</pre>"
      ],
      "text/plain": [
       "+-------------------------------------+------------------+-----------------+"
      ]
     },
     "metadata": {},
     "output_type": "display_data"
    },
    {
     "data": {
      "text/html": [
       "<pre>Finalizing lookup tables.</pre>"
      ],
      "text/plain": [
       "Finalizing lookup tables."
      ]
     },
     "metadata": {},
     "output_type": "display_data"
    },
    {
     "data": {
      "text/html": [
       "<pre>Generating candidate set for working with new users.</pre>"
      ],
      "text/plain": [
       "Generating candidate set for working with new users."
      ]
     },
     "metadata": {},
     "output_type": "display_data"
    },
    {
     "data": {
      "text/html": [
       "<pre>Finished training in 451.466s</pre>"
      ],
      "text/plain": [
       "Finished training in 451.466s"
      ]
     },
     "metadata": {},
     "output_type": "display_data"
    }
   ],
   "source": [
    "training_data, validation_data = gl.recommender.util.random_split_by_user(sf, 'user_id', 'item_id')\n",
    "model = gl.recommender.create(training_data, 'user_id', 'item_id')"
   ]
  },
  {
   "cell_type": "code",
   "execution_count": 13,
   "metadata": {},
   "outputs": [
    {
     "data": {
      "text/html": [
       "<div style=\"max-height:1000px;max-width:1500px;overflow:auto;\"><table frame=\"box\" rules=\"cols\">\n",
       "    <tr>\n",
       "        <th style=\"padding-left: 1em; padding-right: 1em; text-align: center\">user_id</th>\n",
       "        <th style=\"padding-left: 1em; padding-right: 1em; text-align: center\">item_id</th>\n",
       "        <th style=\"padding-left: 1em; padding-right: 1em; text-align: center\">score</th>\n",
       "        <th style=\"padding-left: 1em; padding-right: 1em; text-align: center\">rank</th>\n",
       "    </tr>\n",
       "    <tr>\n",
       "        <td style=\"padding-left: 1em; padding-right: 1em; text-align: center; vertical-align: top\">A3GV56BOF8EZOL</td>\n",
       "        <td style=\"padding-left: 1em; padding-right: 1em; text-align: center; vertical-align: top\">B008JFUO36</td>\n",
       "        <td style=\"padding-left: 1em; padding-right: 1em; text-align: center; vertical-align: top\">0.0072816991806</td>\n",
       "        <td style=\"padding-left: 1em; padding-right: 1em; text-align: center; vertical-align: top\">1</td>\n",
       "    </tr>\n",
       "    <tr>\n",
       "        <td style=\"padding-left: 1em; padding-right: 1em; text-align: center; vertical-align: top\">A3GV56BOF8EZOL</td>\n",
       "        <td style=\"padding-left: 1em; padding-right: 1em; text-align: center; vertical-align: top\">B0059XTU1S</td>\n",
       "        <td style=\"padding-left: 1em; padding-right: 1em; text-align: center; vertical-align: top\">0.00692800164223</td>\n",
       "        <td style=\"padding-left: 1em; padding-right: 1em; text-align: center; vertical-align: top\">2</td>\n",
       "    </tr>\n",
       "    <tr>\n",
       "        <td style=\"padding-left: 1em; padding-right: 1em; text-align: center; vertical-align: top\">A3GV56BOF8EZOL</td>\n",
       "        <td style=\"padding-left: 1em; padding-right: 1em; text-align: center; vertical-align: top\">B008JFUO72</td>\n",
       "        <td style=\"padding-left: 1em; padding-right: 1em; text-align: center; vertical-align: top\">0.00692346811295</td>\n",
       "        <td style=\"padding-left: 1em; padding-right: 1em; text-align: center; vertical-align: top\">3</td>\n",
       "    </tr>\n",
       "    <tr>\n",
       "        <td style=\"padding-left: 1em; padding-right: 1em; text-align: center; vertical-align: top\">A3GV56BOF8EZOL</td>\n",
       "        <td style=\"padding-left: 1em; padding-right: 1em; text-align: center; vertical-align: top\">B005LAIIHG</td>\n",
       "        <td style=\"padding-left: 1em; padding-right: 1em; text-align: center; vertical-align: top\">0.00669644117355</td>\n",
       "        <td style=\"padding-left: 1em; padding-right: 1em; text-align: center; vertical-align: top\">4</td>\n",
       "    </tr>\n",
       "    <tr>\n",
       "        <td style=\"padding-left: 1em; padding-right: 1em; text-align: center; vertical-align: top\">A3GV56BOF8EZOL</td>\n",
       "        <td style=\"padding-left: 1em; padding-right: 1em; text-align: center; vertical-align: top\">B009934S5M</td>\n",
       "        <td style=\"padding-left: 1em; padding-right: 1em; text-align: center; vertical-align: top\">0.00668770313263</td>\n",
       "        <td style=\"padding-left: 1em; padding-right: 1em; text-align: center; vertical-align: top\">5</td>\n",
       "    </tr>\n",
       "    <tr>\n",
       "        <td style=\"padding-left: 1em; padding-right: 1em; text-align: center; vertical-align: top\">A9E7XZEMW0K9V</td>\n",
       "        <td style=\"padding-left: 1em; padding-right: 1em; text-align: center; vertical-align: top\">6305574928</td>\n",
       "        <td style=\"padding-left: 1em; padding-right: 1em; text-align: center; vertical-align: top\">0.0299850106239</td>\n",
       "        <td style=\"padding-left: 1em; padding-right: 1em; text-align: center; vertical-align: top\">1</td>\n",
       "    </tr>\n",
       "    <tr>\n",
       "        <td style=\"padding-left: 1em; padding-right: 1em; text-align: center; vertical-align: top\">A9E7XZEMW0K9V</td>\n",
       "        <td style=\"padding-left: 1em; padding-right: 1em; text-align: center; vertical-align: top\">630518299X</td>\n",
       "        <td style=\"padding-left: 1em; padding-right: 1em; text-align: center; vertical-align: top\">0.0287234187126</td>\n",
       "        <td style=\"padding-left: 1em; padding-right: 1em; text-align: center; vertical-align: top\">2</td>\n",
       "    </tr>\n",
       "    <tr>\n",
       "        <td style=\"padding-left: 1em; padding-right: 1em; text-align: center; vertical-align: top\">A9E7XZEMW0K9V</td>\n",
       "        <td style=\"padding-left: 1em; padding-right: 1em; text-align: center; vertical-align: top\">B00005O5CM</td>\n",
       "        <td style=\"padding-left: 1em; padding-right: 1em; text-align: center; vertical-align: top\">0.0258342027664</td>\n",
       "        <td style=\"padding-left: 1em; padding-right: 1em; text-align: center; vertical-align: top\">3</td>\n",
       "    </tr>\n",
       "    <tr>\n",
       "        <td style=\"padding-left: 1em; padding-right: 1em; text-align: center; vertical-align: top\">A9E7XZEMW0K9V</td>\n",
       "        <td style=\"padding-left: 1em; padding-right: 1em; text-align: center; vertical-align: top\">B00005T30L</td>\n",
       "        <td style=\"padding-left: 1em; padding-right: 1em; text-align: center; vertical-align: top\">0.0244233608246</td>\n",
       "        <td style=\"padding-left: 1em; padding-right: 1em; text-align: center; vertical-align: top\">4</td>\n",
       "    </tr>\n",
       "    <tr>\n",
       "        <td style=\"padding-left: 1em; padding-right: 1em; text-align: center; vertical-align: top\">A9E7XZEMW0K9V</td>\n",
       "        <td style=\"padding-left: 1em; padding-right: 1em; text-align: center; vertical-align: top\">B00003CYLJ</td>\n",
       "        <td style=\"padding-left: 1em; padding-right: 1em; text-align: center; vertical-align: top\">0.0227479338646</td>\n",
       "        <td style=\"padding-left: 1em; padding-right: 1em; text-align: center; vertical-align: top\">5</td>\n",
       "    </tr>\n",
       "</table>\n",
       "[1885 rows x 4 columns]<br/>Note: Only the head of the SFrame is printed.<br/>You can use print_rows(num_rows=m, num_columns=n) to print more rows and columns.\n",
       "</div>"
      ],
      "text/plain": [
       "Columns:\n",
       "\tuser_id\tstr\n",
       "\titem_id\tstr\n",
       "\tscore\tfloat\n",
       "\trank\tint\n",
       "\n",
       "Rows: 1885\n",
       "\n",
       "Data:\n",
       "+----------------+------------+------------------+------+\n",
       "|    user_id     |  item_id   |      score       | rank |\n",
       "+----------------+------------+------------------+------+\n",
       "| A3GV56BOF8EZOL | B008JFUO36 | 0.0072816991806  |  1   |\n",
       "| A3GV56BOF8EZOL | B0059XTU1S | 0.00692800164223 |  2   |\n",
       "| A3GV56BOF8EZOL | B008JFUO72 | 0.00692346811295 |  3   |\n",
       "| A3GV56BOF8EZOL | B005LAIIHG | 0.00669644117355 |  4   |\n",
       "| A3GV56BOF8EZOL | B009934S5M | 0.00668770313263 |  5   |\n",
       "| A9E7XZEMW0K9V  | 6305574928 | 0.0299850106239  |  1   |\n",
       "| A9E7XZEMW0K9V  | 630518299X | 0.0287234187126  |  2   |\n",
       "| A9E7XZEMW0K9V  | B00005O5CM | 0.0258342027664  |  3   |\n",
       "| A9E7XZEMW0K9V  | B00005T30L | 0.0244233608246  |  4   |\n",
       "| A9E7XZEMW0K9V  | B00003CYLJ | 0.0227479338646  |  5   |\n",
       "+----------------+------------+------------------+------+\n",
       "[1885 rows x 4 columns]\n",
       "Note: Only the head of the SFrame is printed.\n",
       "You can use print_rows(num_rows=m, num_columns=n) to print more rows and columns."
      ]
     },
     "execution_count": 13,
     "metadata": {},
     "output_type": "execute_result"
    }
   ],
   "source": [
    "model.recommend(users = validation_data['user_id'], k=5, random_seed=123)"
   ]
  },
  {
   "cell_type": "code",
   "execution_count": 14,
   "metadata": {},
   "outputs": [
    {
     "data": {
      "text/html": [
       "<pre>recommendations finished on 1000/2088478 queries. users per second: 5721.77</pre>"
      ],
      "text/plain": [
       "recommendations finished on 1000/2088478 queries. users per second: 5721.77"
      ]
     },
     "metadata": {},
     "output_type": "display_data"
    },
    {
     "data": {
      "text/html": [
       "<pre>recommendations finished on 2000/2088478 queries. users per second: 6067.69</pre>"
      ],
      "text/plain": [
       "recommendations finished on 2000/2088478 queries. users per second: 6067.69"
      ]
     },
     "metadata": {},
     "output_type": "display_data"
    },
    {
     "data": {
      "text/html": [
       "<pre>recommendations finished on 3000/2088478 queries. users per second: 6126.14</pre>"
      ],
      "text/plain": [
       "recommendations finished on 3000/2088478 queries. users per second: 6126.14"
      ]
     },
     "metadata": {},
     "output_type": "display_data"
    },
    {
     "data": {
      "text/html": [
       "<pre>recommendations finished on 4000/2088478 queries. users per second: 6159.73</pre>"
      ],
      "text/plain": [
       "recommendations finished on 4000/2088478 queries. users per second: 6159.73"
      ]
     },
     "metadata": {},
     "output_type": "display_data"
    },
    {
     "data": {
      "text/html": [
       "<pre>recommendations finished on 5000/2088478 queries. users per second: 6102.38</pre>"
      ],
      "text/plain": [
       "recommendations finished on 5000/2088478 queries. users per second: 6102.38"
      ]
     },
     "metadata": {},
     "output_type": "display_data"
    },
    {
     "data": {
      "text/html": [
       "<pre>recommendations finished on 6000/2088478 queries. users per second: 6168.35</pre>"
      ],
      "text/plain": [
       "recommendations finished on 6000/2088478 queries. users per second: 6168.35"
      ]
     },
     "metadata": {},
     "output_type": "display_data"
    },
    {
     "data": {
      "text/html": [
       "<pre>recommendations finished on 7000/2088478 queries. users per second: 6034</pre>"
      ],
      "text/plain": [
       "recommendations finished on 7000/2088478 queries. users per second: 6034"
      ]
     },
     "metadata": {},
     "output_type": "display_data"
    },
    {
     "data": {
      "text/html": [
       "<pre>recommendations finished on 8000/2088478 queries. users per second: 6098.51</pre>"
      ],
      "text/plain": [
       "recommendations finished on 8000/2088478 queries. users per second: 6098.51"
      ]
     },
     "metadata": {},
     "output_type": "display_data"
    },
    {
     "data": {
      "text/html": [
       "<pre>recommendations finished on 9000/2088478 queries. users per second: 6155.12</pre>"
      ],
      "text/plain": [
       "recommendations finished on 9000/2088478 queries. users per second: 6155.12"
      ]
     },
     "metadata": {},
     "output_type": "display_data"
    },
    {
     "data": {
      "text/html": [
       "<pre>recommendations finished on 10000/2088478 queries. users per second: 6181.78</pre>"
      ],
      "text/plain": [
       "recommendations finished on 10000/2088478 queries. users per second: 6181.78"
      ]
     },
     "metadata": {},
     "output_type": "display_data"
    },
    {
     "data": {
      "text/html": [
       "<pre>recommendations finished on 11000/2088478 queries. users per second: 6210.44</pre>"
      ],
      "text/plain": [
       "recommendations finished on 11000/2088478 queries. users per second: 6210.44"
      ]
     },
     "metadata": {},
     "output_type": "display_data"
    },
    {
     "data": {
      "text/html": [
       "<pre>recommendations finished on 12000/2088478 queries. users per second: 6165.48</pre>"
      ],
      "text/plain": [
       "recommendations finished on 12000/2088478 queries. users per second: 6165.48"
      ]
     },
     "metadata": {},
     "output_type": "display_data"
    },
    {
     "data": {
      "text/html": [
       "<pre>recommendations finished on 13000/2088478 queries. users per second: 6008.88</pre>"
      ],
      "text/plain": [
       "recommendations finished on 13000/2088478 queries. users per second: 6008.88"
      ]
     },
     "metadata": {},
     "output_type": "display_data"
    },
    {
     "data": {
      "text/html": [
       "<pre>recommendations finished on 14000/2088478 queries. users per second: 6026.65</pre>"
      ],
      "text/plain": [
       "recommendations finished on 14000/2088478 queries. users per second: 6026.65"
      ]
     },
     "metadata": {},
     "output_type": "display_data"
    },
    {
     "data": {
      "text/html": [
       "<pre>recommendations finished on 15000/2088478 queries. users per second: 6065.13</pre>"
      ],
      "text/plain": [
       "recommendations finished on 15000/2088478 queries. users per second: 6065.13"
      ]
     },
     "metadata": {},
     "output_type": "display_data"
    },
    {
     "data": {
      "text/html": [
       "<pre>recommendations finished on 16000/2088478 queries. users per second: 6097.21</pre>"
      ],
      "text/plain": [
       "recommendations finished on 16000/2088478 queries. users per second: 6097.21"
      ]
     },
     "metadata": {},
     "output_type": "display_data"
    },
    {
     "data": {
      "text/html": [
       "<pre>recommendations finished on 17000/2088478 queries. users per second: 5998.8</pre>"
      ],
      "text/plain": [
       "recommendations finished on 17000/2088478 queries. users per second: 5998.8"
      ]
     },
     "metadata": {},
     "output_type": "display_data"
    },
    {
     "data": {
      "text/html": [
       "<pre>recommendations finished on 18000/2088478 queries. users per second: 5986.34</pre>"
      ],
      "text/plain": [
       "recommendations finished on 18000/2088478 queries. users per second: 5986.34"
      ]
     },
     "metadata": {},
     "output_type": "display_data"
    },
    {
     "data": {
      "text/html": [
       "<pre>recommendations finished on 19000/2088478 queries. users per second: 5997.35</pre>"
      ],
      "text/plain": [
       "recommendations finished on 19000/2088478 queries. users per second: 5997.35"
      ]
     },
     "metadata": {},
     "output_type": "display_data"
    },
    {
     "data": {
      "text/html": [
       "<pre>recommendations finished on 20000/2088478 queries. users per second: 5916.97</pre>"
      ],
      "text/plain": [
       "recommendations finished on 20000/2088478 queries. users per second: 5916.97"
      ]
     },
     "metadata": {},
     "output_type": "display_data"
    },
    {
     "data": {
      "text/html": [
       "<pre>recommendations finished on 21000/2088478 queries. users per second: 5952.96</pre>"
      ],
      "text/plain": [
       "recommendations finished on 21000/2088478 queries. users per second: 5952.96"
      ]
     },
     "metadata": {},
     "output_type": "display_data"
    },
    {
     "data": {
      "text/html": [
       "<pre>recommendations finished on 22000/2088478 queries. users per second: 5979.28</pre>"
      ],
      "text/plain": [
       "recommendations finished on 22000/2088478 queries. users per second: 5979.28"
      ]
     },
     "metadata": {},
     "output_type": "display_data"
    },
    {
     "data": {
      "text/html": [
       "<pre>recommendations finished on 23000/2088478 queries. users per second: 5999.59</pre>"
      ],
      "text/plain": [
       "recommendations finished on 23000/2088478 queries. users per second: 5999.59"
      ]
     },
     "metadata": {},
     "output_type": "display_data"
    },
    {
     "data": {
      "text/html": [
       "<pre>recommendations finished on 24000/2088478 queries. users per second: 5974.9</pre>"
      ],
      "text/plain": [
       "recommendations finished on 24000/2088478 queries. users per second: 5974.9"
      ]
     },
     "metadata": {},
     "output_type": "display_data"
    },
    {
     "data": {
      "text/html": [
       "<pre>recommendations finished on 25000/2088478 queries. users per second: 5951.04</pre>"
      ],
      "text/plain": [
       "recommendations finished on 25000/2088478 queries. users per second: 5951.04"
      ]
     },
     "metadata": {},
     "output_type": "display_data"
    },
    {
     "data": {
      "text/html": [
       "<pre>recommendations finished on 26000/2088478 queries. users per second: 5978.56</pre>"
      ],
      "text/plain": [
       "recommendations finished on 26000/2088478 queries. users per second: 5978.56"
      ]
     },
     "metadata": {},
     "output_type": "display_data"
    },
    {
     "data": {
      "text/html": [
       "<pre>recommendations finished on 27000/2088478 queries. users per second: 6002.78</pre>"
      ],
      "text/plain": [
       "recommendations finished on 27000/2088478 queries. users per second: 6002.78"
      ]
     },
     "metadata": {},
     "output_type": "display_data"
    },
    {
     "data": {
      "text/html": [
       "<pre>recommendations finished on 28000/2088478 queries. users per second: 6017.86</pre>"
      ],
      "text/plain": [
       "recommendations finished on 28000/2088478 queries. users per second: 6017.86"
      ]
     },
     "metadata": {},
     "output_type": "display_data"
    },
    {
     "data": {
      "text/html": [
       "<pre>recommendations finished on 29000/2088478 queries. users per second: 6033.98</pre>"
      ],
      "text/plain": [
       "recommendations finished on 29000/2088478 queries. users per second: 6033.98"
      ]
     },
     "metadata": {},
     "output_type": "display_data"
    },
    {
     "data": {
      "text/html": [
       "<pre>recommendations finished on 30000/2088478 queries. users per second: 6044.39</pre>"
      ],
      "text/plain": [
       "recommendations finished on 30000/2088478 queries. users per second: 6044.39"
      ]
     },
     "metadata": {},
     "output_type": "display_data"
    },
    {
     "data": {
      "text/html": [
       "<pre>recommendations finished on 31000/2088478 queries. users per second: 6059.58</pre>"
      ],
      "text/plain": [
       "recommendations finished on 31000/2088478 queries. users per second: 6059.58"
      ]
     },
     "metadata": {},
     "output_type": "display_data"
    },
    {
     "data": {
      "text/html": [
       "<pre>recommendations finished on 32000/2088478 queries. users per second: 6056.83</pre>"
      ],
      "text/plain": [
       "recommendations finished on 32000/2088478 queries. users per second: 6056.83"
      ]
     },
     "metadata": {},
     "output_type": "display_data"
    },
    {
     "data": {
      "text/html": [
       "<pre>recommendations finished on 33000/2088478 queries. users per second: 6068.88</pre>"
      ],
      "text/plain": [
       "recommendations finished on 33000/2088478 queries. users per second: 6068.88"
      ]
     },
     "metadata": {},
     "output_type": "display_data"
    },
    {
     "data": {
      "text/html": [
       "<pre>recommendations finished on 34000/2088478 queries. users per second: 6084.27</pre>"
      ],
      "text/plain": [
       "recommendations finished on 34000/2088478 queries. users per second: 6084.27"
      ]
     },
     "metadata": {},
     "output_type": "display_data"
    },
    {
     "data": {
      "text/html": [
       "<pre>recommendations finished on 35000/2088478 queries. users per second: 6067.17</pre>"
      ],
      "text/plain": [
       "recommendations finished on 35000/2088478 queries. users per second: 6067.17"
      ]
     },
     "metadata": {},
     "output_type": "display_data"
    },
    {
     "data": {
      "text/html": [
       "<pre>recommendations finished on 36000/2088478 queries. users per second: 6068.56</pre>"
      ],
      "text/plain": [
       "recommendations finished on 36000/2088478 queries. users per second: 6068.56"
      ]
     },
     "metadata": {},
     "output_type": "display_data"
    },
    {
     "data": {
      "text/html": [
       "<pre>recommendations finished on 37000/2088478 queries. users per second: 6080.68</pre>"
      ],
      "text/plain": [
       "recommendations finished on 37000/2088478 queries. users per second: 6080.68"
      ]
     },
     "metadata": {},
     "output_type": "display_data"
    },
    {
     "data": {
      "text/html": [
       "<pre>recommendations finished on 38000/2088478 queries. users per second: 6046.36</pre>"
      ],
      "text/plain": [
       "recommendations finished on 38000/2088478 queries. users per second: 6046.36"
      ]
     },
     "metadata": {},
     "output_type": "display_data"
    },
    {
     "data": {
      "text/html": [
       "<pre>recommendations finished on 39000/2088478 queries. users per second: 6003.72</pre>"
      ],
      "text/plain": [
       "recommendations finished on 39000/2088478 queries. users per second: 6003.72"
      ]
     },
     "metadata": {},
     "output_type": "display_data"
    },
    {
     "data": {
      "text/html": [
       "<pre>recommendations finished on 40000/2088478 queries. users per second: 6013.17</pre>"
      ],
      "text/plain": [
       "recommendations finished on 40000/2088478 queries. users per second: 6013.17"
      ]
     },
     "metadata": {},
     "output_type": "display_data"
    },
    {
     "data": {
      "text/html": [
       "<pre>recommendations finished on 41000/2088478 queries. users per second: 6024.7</pre>"
      ],
      "text/plain": [
       "recommendations finished on 41000/2088478 queries. users per second: 6024.7"
      ]
     },
     "metadata": {},
     "output_type": "display_data"
    },
    {
     "data": {
      "text/html": [
       "<pre>recommendations finished on 42000/2088478 queries. users per second: 6036.46</pre>"
      ],
      "text/plain": [
       "recommendations finished on 42000/2088478 queries. users per second: 6036.46"
      ]
     },
     "metadata": {},
     "output_type": "display_data"
    },
    {
     "data": {
      "text/html": [
       "<pre>recommendations finished on 43000/2088478 queries. users per second: 6051.35</pre>"
      ],
      "text/plain": [
       "recommendations finished on 43000/2088478 queries. users per second: 6051.35"
      ]
     },
     "metadata": {},
     "output_type": "display_data"
    },
    {
     "data": {
      "text/html": [
       "<pre>recommendations finished on 44000/2088478 queries. users per second: 6025.08</pre>"
      ],
      "text/plain": [
       "recommendations finished on 44000/2088478 queries. users per second: 6025.08"
      ]
     },
     "metadata": {},
     "output_type": "display_data"
    },
    {
     "data": {
      "text/html": [
       "<pre>recommendations finished on 45000/2088478 queries. users per second: 6010.65</pre>"
      ],
      "text/plain": [
       "recommendations finished on 45000/2088478 queries. users per second: 6010.65"
      ]
     },
     "metadata": {},
     "output_type": "display_data"
    },
    {
     "data": {
      "text/html": [
       "<pre>recommendations finished on 46000/2088478 queries. users per second: 6019.81</pre>"
      ],
      "text/plain": [
       "recommendations finished on 46000/2088478 queries. users per second: 6019.81"
      ]
     },
     "metadata": {},
     "output_type": "display_data"
    },
    {
     "data": {
      "text/html": [
       "<pre>recommendations finished on 47000/2088478 queries. users per second: 6027.85</pre>"
      ],
      "text/plain": [
       "recommendations finished on 47000/2088478 queries. users per second: 6027.85"
      ]
     },
     "metadata": {},
     "output_type": "display_data"
    },
    {
     "data": {
      "text/html": [
       "<pre>recommendations finished on 48000/2088478 queries. users per second: 6004.98</pre>"
      ],
      "text/plain": [
       "recommendations finished on 48000/2088478 queries. users per second: 6004.98"
      ]
     },
     "metadata": {},
     "output_type": "display_data"
    },
    {
     "data": {
      "text/html": [
       "<pre>recommendations finished on 49000/2088478 queries. users per second: 5976.33</pre>"
      ],
      "text/plain": [
       "recommendations finished on 49000/2088478 queries. users per second: 5976.33"
      ]
     },
     "metadata": {},
     "output_type": "display_data"
    },
    {
     "data": {
      "text/html": [
       "<pre>recommendations finished on 50000/2088478 queries. users per second: 5980.16</pre>"
      ],
      "text/plain": [
       "recommendations finished on 50000/2088478 queries. users per second: 5980.16"
      ]
     },
     "metadata": {},
     "output_type": "display_data"
    },
    {
     "data": {
      "text/html": [
       "<pre>recommendations finished on 51000/2088478 queries. users per second: 5992.65</pre>"
      ],
      "text/plain": [
       "recommendations finished on 51000/2088478 queries. users per second: 5992.65"
      ]
     },
     "metadata": {},
     "output_type": "display_data"
    },
    {
     "data": {
      "text/html": [
       "<pre>recommendations finished on 52000/2088478 queries. users per second: 5994.37</pre>"
      ],
      "text/plain": [
       "recommendations finished on 52000/2088478 queries. users per second: 5994.37"
      ]
     },
     "metadata": {},
     "output_type": "display_data"
    },
    {
     "data": {
      "text/html": [
       "<pre>recommendations finished on 53000/2088478 queries. users per second: 5984.75</pre>"
      ],
      "text/plain": [
       "recommendations finished on 53000/2088478 queries. users per second: 5984.75"
      ]
     },
     "metadata": {},
     "output_type": "display_data"
    },
    {
     "data": {
      "text/html": [
       "<pre>recommendations finished on 54000/2088478 queries. users per second: 5956.92</pre>"
      ],
      "text/plain": [
       "recommendations finished on 54000/2088478 queries. users per second: 5956.92"
      ]
     },
     "metadata": {},
     "output_type": "display_data"
    },
    {
     "data": {
      "text/html": [
       "<pre>recommendations finished on 55000/2088478 queries. users per second: 5967.64</pre>"
      ],
      "text/plain": [
       "recommendations finished on 55000/2088478 queries. users per second: 5967.64"
      ]
     },
     "metadata": {},
     "output_type": "display_data"
    },
    {
     "data": {
      "text/html": [
       "<pre>recommendations finished on 56000/2088478 queries. users per second: 5977.6</pre>"
      ],
      "text/plain": [
       "recommendations finished on 56000/2088478 queries. users per second: 5977.6"
      ]
     },
     "metadata": {},
     "output_type": "display_data"
    },
    {
     "data": {
      "text/html": [
       "<pre>recommendations finished on 57000/2088478 queries. users per second: 5986.8</pre>"
      ],
      "text/plain": [
       "recommendations finished on 57000/2088478 queries. users per second: 5986.8"
      ]
     },
     "metadata": {},
     "output_type": "display_data"
    },
    {
     "data": {
      "text/html": [
       "<pre>recommendations finished on 58000/2088478 queries. users per second: 5995.15</pre>"
      ],
      "text/plain": [
       "recommendations finished on 58000/2088478 queries. users per second: 5995.15"
      ]
     },
     "metadata": {},
     "output_type": "display_data"
    },
    {
     "data": {
      "text/html": [
       "<pre>recommendations finished on 59000/2088478 queries. users per second: 5980.47</pre>"
      ],
      "text/plain": [
       "recommendations finished on 59000/2088478 queries. users per second: 5980.47"
      ]
     },
     "metadata": {},
     "output_type": "display_data"
    },
    {
     "data": {
      "text/html": [
       "<pre>recommendations finished on 60000/2088478 queries. users per second: 5976.58</pre>"
      ],
      "text/plain": [
       "recommendations finished on 60000/2088478 queries. users per second: 5976.58"
      ]
     },
     "metadata": {},
     "output_type": "display_data"
    },
    {
     "data": {
      "text/html": [
       "<pre>recommendations finished on 61000/2088478 queries. users per second: 5982.27</pre>"
      ],
      "text/plain": [
       "recommendations finished on 61000/2088478 queries. users per second: 5982.27"
      ]
     },
     "metadata": {},
     "output_type": "display_data"
    },
    {
     "data": {
      "text/html": [
       "<pre>recommendations finished on 62000/2088478 queries. users per second: 5986.4</pre>"
      ],
      "text/plain": [
       "recommendations finished on 62000/2088478 queries. users per second: 5986.4"
      ]
     },
     "metadata": {},
     "output_type": "display_data"
    },
    {
     "data": {
      "text/html": [
       "<pre>recommendations finished on 63000/2088478 queries. users per second: 5963.7</pre>"
      ],
      "text/plain": [
       "recommendations finished on 63000/2088478 queries. users per second: 5963.7"
      ]
     },
     "metadata": {},
     "output_type": "display_data"
    },
    {
     "data": {
      "text/html": [
       "<pre>recommendations finished on 64000/2088478 queries. users per second: 5950.23</pre>"
      ],
      "text/plain": [
       "recommendations finished on 64000/2088478 queries. users per second: 5950.23"
      ]
     },
     "metadata": {},
     "output_type": "display_data"
    },
    {
     "data": {
      "text/html": [
       "<pre>recommendations finished on 65000/2088478 queries. users per second: 5955.28</pre>"
      ],
      "text/plain": [
       "recommendations finished on 65000/2088478 queries. users per second: 5955.28"
      ]
     },
     "metadata": {},
     "output_type": "display_data"
    },
    {
     "data": {
      "text/html": [
       "<pre>recommendations finished on 66000/2088478 queries. users per second: 5954.8</pre>"
      ],
      "text/plain": [
       "recommendations finished on 66000/2088478 queries. users per second: 5954.8"
      ]
     },
     "metadata": {},
     "output_type": "display_data"
    },
    {
     "data": {
      "text/html": [
       "<pre>recommendations finished on 67000/2088478 queries. users per second: 5966.69</pre>"
      ],
      "text/plain": [
       "recommendations finished on 67000/2088478 queries. users per second: 5966.69"
      ]
     },
     "metadata": {},
     "output_type": "display_data"
    },
    {
     "data": {
      "text/html": [
       "<pre>recommendations finished on 68000/2088478 queries. users per second: 5957.64</pre>"
      ],
      "text/plain": [
       "recommendations finished on 68000/2088478 queries. users per second: 5957.64"
      ]
     },
     "metadata": {},
     "output_type": "display_data"
    },
    {
     "data": {
      "text/html": [
       "<pre>recommendations finished on 69000/2088478 queries. users per second: 5955.73</pre>"
      ],
      "text/plain": [
       "recommendations finished on 69000/2088478 queries. users per second: 5955.73"
      ]
     },
     "metadata": {},
     "output_type": "display_data"
    },
    {
     "data": {
      "text/html": [
       "<pre>recommendations finished on 70000/2088478 queries. users per second: 5958.84</pre>"
      ],
      "text/plain": [
       "recommendations finished on 70000/2088478 queries. users per second: 5958.84"
      ]
     },
     "metadata": {},
     "output_type": "display_data"
    },
    {
     "data": {
      "text/html": [
       "<pre>recommendations finished on 71000/2088478 queries. users per second: 5944.06</pre>"
      ],
      "text/plain": [
       "recommendations finished on 71000/2088478 queries. users per second: 5944.06"
      ]
     },
     "metadata": {},
     "output_type": "display_data"
    },
    {
     "data": {
      "text/html": [
       "<pre>recommendations finished on 72000/2088478 queries. users per second: 5938.97</pre>"
      ],
      "text/plain": [
       "recommendations finished on 72000/2088478 queries. users per second: 5938.97"
      ]
     },
     "metadata": {},
     "output_type": "display_data"
    },
    {
     "data": {
      "text/html": [
       "<pre>recommendations finished on 73000/2088478 queries. users per second: 5945.29</pre>"
      ],
      "text/plain": [
       "recommendations finished on 73000/2088478 queries. users per second: 5945.29"
      ]
     },
     "metadata": {},
     "output_type": "display_data"
    },
    {
     "data": {
      "text/html": [
       "<pre>recommendations finished on 74000/2088478 queries. users per second: 5905.22</pre>"
      ],
      "text/plain": [
       "recommendations finished on 74000/2088478 queries. users per second: 5905.22"
      ]
     },
     "metadata": {},
     "output_type": "display_data"
    },
    {
     "data": {
      "text/html": [
       "<pre>recommendations finished on 75000/2088478 queries. users per second: 5883.29</pre>"
      ],
      "text/plain": [
       "recommendations finished on 75000/2088478 queries. users per second: 5883.29"
      ]
     },
     "metadata": {},
     "output_type": "display_data"
    },
    {
     "data": {
      "text/html": [
       "<pre>recommendations finished on 76000/2088478 queries. users per second: 5868.69</pre>"
      ],
      "text/plain": [
       "recommendations finished on 76000/2088478 queries. users per second: 5868.69"
      ]
     },
     "metadata": {},
     "output_type": "display_data"
    },
    {
     "data": {
      "text/html": [
       "<pre>recommendations finished on 77000/2088478 queries. users per second: 5872.46</pre>"
      ],
      "text/plain": [
       "recommendations finished on 77000/2088478 queries. users per second: 5872.46"
      ]
     },
     "metadata": {},
     "output_type": "display_data"
    },
    {
     "data": {
      "text/html": [
       "<pre>recommendations finished on 78000/2088478 queries. users per second: 5855.82</pre>"
      ],
      "text/plain": [
       "recommendations finished on 78000/2088478 queries. users per second: 5855.82"
      ]
     },
     "metadata": {},
     "output_type": "display_data"
    },
    {
     "data": {
      "text/html": [
       "<pre>recommendations finished on 79000/2088478 queries. users per second: 5838.83</pre>"
      ],
      "text/plain": [
       "recommendations finished on 79000/2088478 queries. users per second: 5838.83"
      ]
     },
     "metadata": {},
     "output_type": "display_data"
    },
    {
     "data": {
      "text/html": [
       "<pre>recommendations finished on 80000/2088478 queries. users per second: 5833.69</pre>"
      ],
      "text/plain": [
       "recommendations finished on 80000/2088478 queries. users per second: 5833.69"
      ]
     },
     "metadata": {},
     "output_type": "display_data"
    },
    {
     "data": {
      "text/html": [
       "<pre>recommendations finished on 81000/2088478 queries. users per second: 5815.5</pre>"
      ],
      "text/plain": [
       "recommendations finished on 81000/2088478 queries. users per second: 5815.5"
      ]
     },
     "metadata": {},
     "output_type": "display_data"
    },
    {
     "data": {
      "text/html": [
       "<pre>recommendations finished on 82000/2088478 queries. users per second: 5803.44</pre>"
      ],
      "text/plain": [
       "recommendations finished on 82000/2088478 queries. users per second: 5803.44"
      ]
     },
     "metadata": {},
     "output_type": "display_data"
    },
    {
     "data": {
      "text/html": [
       "<pre>recommendations finished on 83000/2088478 queries. users per second: 5805.03</pre>"
      ],
      "text/plain": [
       "recommendations finished on 83000/2088478 queries. users per second: 5805.03"
      ]
     },
     "metadata": {},
     "output_type": "display_data"
    },
    {
     "data": {
      "text/html": [
       "<pre>recommendations finished on 84000/2088478 queries. users per second: 5787.78</pre>"
      ],
      "text/plain": [
       "recommendations finished on 84000/2088478 queries. users per second: 5787.78"
      ]
     },
     "metadata": {},
     "output_type": "display_data"
    },
    {
     "data": {
      "text/html": [
       "<pre>recommendations finished on 85000/2088478 queries. users per second: 5795.03</pre>"
      ],
      "text/plain": [
       "recommendations finished on 85000/2088478 queries. users per second: 5795.03"
      ]
     },
     "metadata": {},
     "output_type": "display_data"
    },
    {
     "data": {
      "text/html": [
       "<pre>recommendations finished on 86000/2088478 queries. users per second: 5800.28</pre>"
      ],
      "text/plain": [
       "recommendations finished on 86000/2088478 queries. users per second: 5800.28"
      ]
     },
     "metadata": {},
     "output_type": "display_data"
    },
    {
     "data": {
      "text/html": [
       "<pre>recommendations finished on 87000/2088478 queries. users per second: 5807.8</pre>"
      ],
      "text/plain": [
       "recommendations finished on 87000/2088478 queries. users per second: 5807.8"
      ]
     },
     "metadata": {},
     "output_type": "display_data"
    },
    {
     "data": {
      "text/html": [
       "<pre>recommendations finished on 88000/2088478 queries. users per second: 5813.89</pre>"
      ],
      "text/plain": [
       "recommendations finished on 88000/2088478 queries. users per second: 5813.89"
      ]
     },
     "metadata": {},
     "output_type": "display_data"
    },
    {
     "data": {
      "text/html": [
       "<pre>recommendations finished on 89000/2088478 queries. users per second: 5788.9</pre>"
      ],
      "text/plain": [
       "recommendations finished on 89000/2088478 queries. users per second: 5788.9"
      ]
     },
     "metadata": {},
     "output_type": "display_data"
    },
    {
     "data": {
      "text/html": [
       "<pre>recommendations finished on 90000/2088478 queries. users per second: 5760.67</pre>"
      ],
      "text/plain": [
       "recommendations finished on 90000/2088478 queries. users per second: 5760.67"
      ]
     },
     "metadata": {},
     "output_type": "display_data"
    },
    {
     "data": {
      "text/html": [
       "<pre>recommendations finished on 91000/2088478 queries. users per second: 5753.51</pre>"
      ],
      "text/plain": [
       "recommendations finished on 91000/2088478 queries. users per second: 5753.51"
      ]
     },
     "metadata": {},
     "output_type": "display_data"
    },
    {
     "data": {
      "text/html": [
       "<pre>recommendations finished on 92000/2088478 queries. users per second: 5761.49</pre>"
      ],
      "text/plain": [
       "recommendations finished on 92000/2088478 queries. users per second: 5761.49"
      ]
     },
     "metadata": {},
     "output_type": "display_data"
    },
    {
     "data": {
      "text/html": [
       "<pre>recommendations finished on 93000/2088478 queries. users per second: 5769.54</pre>"
      ],
      "text/plain": [
       "recommendations finished on 93000/2088478 queries. users per second: 5769.54"
      ]
     },
     "metadata": {},
     "output_type": "display_data"
    },
    {
     "data": {
      "text/html": [
       "<pre>recommendations finished on 94000/2088478 queries. users per second: 5778.61</pre>"
      ],
      "text/plain": [
       "recommendations finished on 94000/2088478 queries. users per second: 5778.61"
      ]
     },
     "metadata": {},
     "output_type": "display_data"
    },
    {
     "data": {
      "text/html": [
       "<pre>recommendations finished on 95000/2088478 queries. users per second: 5782.47</pre>"
      ],
      "text/plain": [
       "recommendations finished on 95000/2088478 queries. users per second: 5782.47"
      ]
     },
     "metadata": {},
     "output_type": "display_data"
    },
    {
     "data": {
      "text/html": [
       "<pre>recommendations finished on 96000/2088478 queries. users per second: 5765.7</pre>"
      ],
      "text/plain": [
       "recommendations finished on 96000/2088478 queries. users per second: 5765.7"
      ]
     },
     "metadata": {},
     "output_type": "display_data"
    },
    {
     "data": {
      "text/html": [
       "<pre>recommendations finished on 97000/2088478 queries. users per second: 5770.79</pre>"
      ],
      "text/plain": [
       "recommendations finished on 97000/2088478 queries. users per second: 5770.79"
      ]
     },
     "metadata": {},
     "output_type": "display_data"
    },
    {
     "data": {
      "text/html": [
       "<pre>recommendations finished on 98000/2088478 queries. users per second: 5779.46</pre>"
      ],
      "text/plain": [
       "recommendations finished on 98000/2088478 queries. users per second: 5779.46"
      ]
     },
     "metadata": {},
     "output_type": "display_data"
    },
    {
     "data": {
      "text/html": [
       "<pre>recommendations finished on 99000/2088478 queries. users per second: 5784.88</pre>"
      ],
      "text/plain": [
       "recommendations finished on 99000/2088478 queries. users per second: 5784.88"
      ]
     },
     "metadata": {},
     "output_type": "display_data"
    },
    {
     "data": {
      "text/html": [
       "<pre>recommendations finished on 100000/2088478 queries. users per second: 5775.24</pre>"
      ],
      "text/plain": [
       "recommendations finished on 100000/2088478 queries. users per second: 5775.24"
      ]
     },
     "metadata": {},
     "output_type": "display_data"
    },
    {
     "data": {
      "text/html": [
       "<pre>recommendations finished on 101000/2088478 queries. users per second: 5769.62</pre>"
      ],
      "text/plain": [
       "recommendations finished on 101000/2088478 queries. users per second: 5769.62"
      ]
     },
     "metadata": {},
     "output_type": "display_data"
    },
    {
     "data": {
      "text/html": [
       "<pre>recommendations finished on 102000/2088478 queries. users per second: 5773.76</pre>"
      ],
      "text/plain": [
       "recommendations finished on 102000/2088478 queries. users per second: 5773.76"
      ]
     },
     "metadata": {},
     "output_type": "display_data"
    },
    {
     "data": {
      "text/html": [
       "<pre>recommendations finished on 103000/2088478 queries. users per second: 5780.14</pre>"
      ],
      "text/plain": [
       "recommendations finished on 103000/2088478 queries. users per second: 5780.14"
      ]
     },
     "metadata": {},
     "output_type": "display_data"
    },
    {
     "data": {
      "text/html": [
       "<pre>recommendations finished on 104000/2088478 queries. users per second: 5783.82</pre>"
      ],
      "text/plain": [
       "recommendations finished on 104000/2088478 queries. users per second: 5783.82"
      ]
     },
     "metadata": {},
     "output_type": "display_data"
    },
    {
     "data": {
      "text/html": [
       "<pre>recommendations finished on 105000/2088478 queries. users per second: 5790.94</pre>"
      ],
      "text/plain": [
       "recommendations finished on 105000/2088478 queries. users per second: 5790.94"
      ]
     },
     "metadata": {},
     "output_type": "display_data"
    },
    {
     "data": {
      "text/html": [
       "<pre>recommendations finished on 106000/2088478 queries. users per second: 5798.01</pre>"
      ],
      "text/plain": [
       "recommendations finished on 106000/2088478 queries. users per second: 5798.01"
      ]
     },
     "metadata": {},
     "output_type": "display_data"
    },
    {
     "data": {
      "text/html": [
       "<pre>recommendations finished on 107000/2088478 queries. users per second: 5804.2</pre>"
      ],
      "text/plain": [
       "recommendations finished on 107000/2088478 queries. users per second: 5804.2"
      ]
     },
     "metadata": {},
     "output_type": "display_data"
    },
    {
     "data": {
      "text/html": [
       "<pre>recommendations finished on 108000/2088478 queries. users per second: 5783.59</pre>"
      ],
      "text/plain": [
       "recommendations finished on 108000/2088478 queries. users per second: 5783.59"
      ]
     },
     "metadata": {},
     "output_type": "display_data"
    },
    {
     "data": {
      "text/html": [
       "<pre>recommendations finished on 109000/2088478 queries. users per second: 5780.26</pre>"
      ],
      "text/plain": [
       "recommendations finished on 109000/2088478 queries. users per second: 5780.26"
      ]
     },
     "metadata": {},
     "output_type": "display_data"
    },
    {
     "data": {
      "text/html": [
       "<pre>recommendations finished on 110000/2088478 queries. users per second: 5782.26</pre>"
      ],
      "text/plain": [
       "recommendations finished on 110000/2088478 queries. users per second: 5782.26"
      ]
     },
     "metadata": {},
     "output_type": "display_data"
    },
    {
     "data": {
      "text/html": [
       "<pre>recommendations finished on 111000/2088478 queries. users per second: 5786.51</pre>"
      ],
      "text/plain": [
       "recommendations finished on 111000/2088478 queries. users per second: 5786.51"
      ]
     },
     "metadata": {},
     "output_type": "display_data"
    },
    {
     "data": {
      "text/html": [
       "<pre>recommendations finished on 112000/2088478 queries. users per second: 5776.5</pre>"
      ],
      "text/plain": [
       "recommendations finished on 112000/2088478 queries. users per second: 5776.5"
      ]
     },
     "metadata": {},
     "output_type": "display_data"
    },
    {
     "data": {
      "text/html": [
       "<pre>recommendations finished on 113000/2088478 queries. users per second: 5772.23</pre>"
      ],
      "text/plain": [
       "recommendations finished on 113000/2088478 queries. users per second: 5772.23"
      ]
     },
     "metadata": {},
     "output_type": "display_data"
    },
    {
     "data": {
      "text/html": [
       "<pre>recommendations finished on 114000/2088478 queries. users per second: 5776.94</pre>"
      ],
      "text/plain": [
       "recommendations finished on 114000/2088478 queries. users per second: 5776.94"
      ]
     },
     "metadata": {},
     "output_type": "display_data"
    },
    {
     "data": {
      "text/html": [
       "<pre>recommendations finished on 115000/2088478 queries. users per second: 5778.87</pre>"
      ],
      "text/plain": [
       "recommendations finished on 115000/2088478 queries. users per second: 5778.87"
      ]
     },
     "metadata": {},
     "output_type": "display_data"
    },
    {
     "data": {
      "text/html": [
       "<pre>recommendations finished on 116000/2088478 queries. users per second: 5786.62</pre>"
      ],
      "text/plain": [
       "recommendations finished on 116000/2088478 queries. users per second: 5786.62"
      ]
     },
     "metadata": {},
     "output_type": "display_data"
    },
    {
     "data": {
      "text/html": [
       "<pre>recommendations finished on 117000/2088478 queries. users per second: 5792.71</pre>"
      ],
      "text/plain": [
       "recommendations finished on 117000/2088478 queries. users per second: 5792.71"
      ]
     },
     "metadata": {},
     "output_type": "display_data"
    },
    {
     "data": {
      "text/html": [
       "<pre>recommendations finished on 118000/2088478 queries. users per second: 5798.09</pre>"
      ],
      "text/plain": [
       "recommendations finished on 118000/2088478 queries. users per second: 5798.09"
      ]
     },
     "metadata": {},
     "output_type": "display_data"
    },
    {
     "data": {
      "text/html": [
       "<pre>recommendations finished on 119000/2088478 queries. users per second: 5805.48</pre>"
      ],
      "text/plain": [
       "recommendations finished on 119000/2088478 queries. users per second: 5805.48"
      ]
     },
     "metadata": {},
     "output_type": "display_data"
    },
    {
     "data": {
      "text/html": [
       "<pre>recommendations finished on 120000/2088478 queries. users per second: 5813.39</pre>"
      ],
      "text/plain": [
       "recommendations finished on 120000/2088478 queries. users per second: 5813.39"
      ]
     },
     "metadata": {},
     "output_type": "display_data"
    },
    {
     "data": {
      "text/html": [
       "<pre>recommendations finished on 121000/2088478 queries. users per second: 5820.85</pre>"
      ],
      "text/plain": [
       "recommendations finished on 121000/2088478 queries. users per second: 5820.85"
      ]
     },
     "metadata": {},
     "output_type": "display_data"
    },
    {
     "data": {
      "text/html": [
       "<pre>recommendations finished on 122000/2088478 queries. users per second: 5827.26</pre>"
      ],
      "text/plain": [
       "recommendations finished on 122000/2088478 queries. users per second: 5827.26"
      ]
     },
     "metadata": {},
     "output_type": "display_data"
    },
    {
     "data": {
      "text/html": [
       "<pre>recommendations finished on 123000/2088478 queries. users per second: 5833.89</pre>"
      ],
      "text/plain": [
       "recommendations finished on 123000/2088478 queries. users per second: 5833.89"
      ]
     },
     "metadata": {},
     "output_type": "display_data"
    },
    {
     "data": {
      "text/html": [
       "<pre>recommendations finished on 124000/2088478 queries. users per second: 5839.28</pre>"
      ],
      "text/plain": [
       "recommendations finished on 124000/2088478 queries. users per second: 5839.28"
      ]
     },
     "metadata": {},
     "output_type": "display_data"
    },
    {
     "data": {
      "text/html": [
       "<pre>recommendations finished on 125000/2088478 queries. users per second: 5845.48</pre>"
      ],
      "text/plain": [
       "recommendations finished on 125000/2088478 queries. users per second: 5845.48"
      ]
     },
     "metadata": {},
     "output_type": "display_data"
    },
    {
     "data": {
      "text/html": [
       "<pre>recommendations finished on 126000/2088478 queries. users per second: 5852.12</pre>"
      ],
      "text/plain": [
       "recommendations finished on 126000/2088478 queries. users per second: 5852.12"
      ]
     },
     "metadata": {},
     "output_type": "display_data"
    },
    {
     "data": {
      "text/html": [
       "<pre>recommendations finished on 127000/2088478 queries. users per second: 5859.28</pre>"
      ],
      "text/plain": [
       "recommendations finished on 127000/2088478 queries. users per second: 5859.28"
      ]
     },
     "metadata": {},
     "output_type": "display_data"
    },
    {
     "data": {
      "text/html": [
       "<pre>recommendations finished on 128000/2088478 queries. users per second: 5865.4</pre>"
      ],
      "text/plain": [
       "recommendations finished on 128000/2088478 queries. users per second: 5865.4"
      ]
     },
     "metadata": {},
     "output_type": "display_data"
    },
    {
     "data": {
      "text/html": [
       "<pre>recommendations finished on 129000/2088478 queries. users per second: 5871.74</pre>"
      ],
      "text/plain": [
       "recommendations finished on 129000/2088478 queries. users per second: 5871.74"
      ]
     },
     "metadata": {},
     "output_type": "display_data"
    },
    {
     "data": {
      "text/html": [
       "<pre>recommendations finished on 130000/2088478 queries. users per second: 5877.11</pre>"
      ],
      "text/plain": [
       "recommendations finished on 130000/2088478 queries. users per second: 5877.11"
      ]
     },
     "metadata": {},
     "output_type": "display_data"
    },
    {
     "data": {
      "text/html": [
       "<pre>recommendations finished on 131000/2088478 queries. users per second: 5882.42</pre>"
      ],
      "text/plain": [
       "recommendations finished on 131000/2088478 queries. users per second: 5882.42"
      ]
     },
     "metadata": {},
     "output_type": "display_data"
    },
    {
     "data": {
      "text/html": [
       "<pre>recommendations finished on 132000/2088478 queries. users per second: 5887.18</pre>"
      ],
      "text/plain": [
       "recommendations finished on 132000/2088478 queries. users per second: 5887.18"
      ]
     },
     "metadata": {},
     "output_type": "display_data"
    },
    {
     "data": {
      "text/html": [
       "<pre>recommendations finished on 133000/2088478 queries. users per second: 5887.28</pre>"
      ],
      "text/plain": [
       "recommendations finished on 133000/2088478 queries. users per second: 5887.28"
      ]
     },
     "metadata": {},
     "output_type": "display_data"
    },
    {
     "data": {
      "text/html": [
       "<pre>recommendations finished on 134000/2088478 queries. users per second: 5890.25</pre>"
      ],
      "text/plain": [
       "recommendations finished on 134000/2088478 queries. users per second: 5890.25"
      ]
     },
     "metadata": {},
     "output_type": "display_data"
    },
    {
     "data": {
      "text/html": [
       "<pre>recommendations finished on 135000/2088478 queries. users per second: 5892.72</pre>"
      ],
      "text/plain": [
       "recommendations finished on 135000/2088478 queries. users per second: 5892.72"
      ]
     },
     "metadata": {},
     "output_type": "display_data"
    },
    {
     "data": {
      "text/html": [
       "<pre>recommendations finished on 136000/2088478 queries. users per second: 5896.3</pre>"
      ],
      "text/plain": [
       "recommendations finished on 136000/2088478 queries. users per second: 5896.3"
      ]
     },
     "metadata": {},
     "output_type": "display_data"
    },
    {
     "data": {
      "text/html": [
       "<pre>recommendations finished on 137000/2088478 queries. users per second: 5900.56</pre>"
      ],
      "text/plain": [
       "recommendations finished on 137000/2088478 queries. users per second: 5900.56"
      ]
     },
     "metadata": {},
     "output_type": "display_data"
    },
    {
     "data": {
      "text/html": [
       "<pre>recommendations finished on 138000/2088478 queries. users per second: 5903</pre>"
      ],
      "text/plain": [
       "recommendations finished on 138000/2088478 queries. users per second: 5903"
      ]
     },
     "metadata": {},
     "output_type": "display_data"
    },
    {
     "data": {
      "text/html": [
       "<pre>recommendations finished on 139000/2088478 queries. users per second: 5906.59</pre>"
      ],
      "text/plain": [
       "recommendations finished on 139000/2088478 queries. users per second: 5906.59"
      ]
     },
     "metadata": {},
     "output_type": "display_data"
    },
    {
     "data": {
      "text/html": [
       "<pre>recommendations finished on 140000/2088478 queries. users per second: 5910.87</pre>"
      ],
      "text/plain": [
       "recommendations finished on 140000/2088478 queries. users per second: 5910.87"
      ]
     },
     "metadata": {},
     "output_type": "display_data"
    },
    {
     "data": {
      "text/html": [
       "<pre>recommendations finished on 141000/2088478 queries. users per second: 5914.13</pre>"
      ],
      "text/plain": [
       "recommendations finished on 141000/2088478 queries. users per second: 5914.13"
      ]
     },
     "metadata": {},
     "output_type": "display_data"
    },
    {
     "data": {
      "text/html": [
       "<pre>recommendations finished on 142000/2088478 queries. users per second: 5918.57</pre>"
      ],
      "text/plain": [
       "recommendations finished on 142000/2088478 queries. users per second: 5918.57"
      ]
     },
     "metadata": {},
     "output_type": "display_data"
    },
    {
     "data": {
      "text/html": [
       "<pre>recommendations finished on 143000/2088478 queries. users per second: 5922.46</pre>"
      ],
      "text/plain": [
       "recommendations finished on 143000/2088478 queries. users per second: 5922.46"
      ]
     },
     "metadata": {},
     "output_type": "display_data"
    },
    {
     "data": {
      "text/html": [
       "<pre>recommendations finished on 144000/2088478 queries. users per second: 5925.65</pre>"
      ],
      "text/plain": [
       "recommendations finished on 144000/2088478 queries. users per second: 5925.65"
      ]
     },
     "metadata": {},
     "output_type": "display_data"
    },
    {
     "data": {
      "text/html": [
       "<pre>recommendations finished on 145000/2088478 queries. users per second: 5929.14</pre>"
      ],
      "text/plain": [
       "recommendations finished on 145000/2088478 queries. users per second: 5929.14"
      ]
     },
     "metadata": {},
     "output_type": "display_data"
    },
    {
     "data": {
      "text/html": [
       "<pre>recommendations finished on 146000/2088478 queries. users per second: 5932.22</pre>"
      ],
      "text/plain": [
       "recommendations finished on 146000/2088478 queries. users per second: 5932.22"
      ]
     },
     "metadata": {},
     "output_type": "display_data"
    },
    {
     "data": {
      "text/html": [
       "<pre>recommendations finished on 147000/2088478 queries. users per second: 5933.11</pre>"
      ],
      "text/plain": [
       "recommendations finished on 147000/2088478 queries. users per second: 5933.11"
      ]
     },
     "metadata": {},
     "output_type": "display_data"
    },
    {
     "data": {
      "text/html": [
       "<pre>recommendations finished on 148000/2088478 queries. users per second: 5938.07</pre>"
      ],
      "text/plain": [
       "recommendations finished on 148000/2088478 queries. users per second: 5938.07"
      ]
     },
     "metadata": {},
     "output_type": "display_data"
    },
    {
     "data": {
      "text/html": [
       "<pre>recommendations finished on 149000/2088478 queries. users per second: 5942.7</pre>"
      ],
      "text/plain": [
       "recommendations finished on 149000/2088478 queries. users per second: 5942.7"
      ]
     },
     "metadata": {},
     "output_type": "display_data"
    },
    {
     "data": {
      "text/html": [
       "<pre>recommendations finished on 150000/2088478 queries. users per second: 5944.42</pre>"
      ],
      "text/plain": [
       "recommendations finished on 150000/2088478 queries. users per second: 5944.42"
      ]
     },
     "metadata": {},
     "output_type": "display_data"
    },
    {
     "data": {
      "text/html": [
       "<pre>recommendations finished on 151000/2088478 queries. users per second: 5947.29</pre>"
      ],
      "text/plain": [
       "recommendations finished on 151000/2088478 queries. users per second: 5947.29"
      ]
     },
     "metadata": {},
     "output_type": "display_data"
    },
    {
     "data": {
      "text/html": [
       "<pre>recommendations finished on 152000/2088478 queries. users per second: 5949.27</pre>"
      ],
      "text/plain": [
       "recommendations finished on 152000/2088478 queries. users per second: 5949.27"
      ]
     },
     "metadata": {},
     "output_type": "display_data"
    },
    {
     "data": {
      "text/html": [
       "<pre>recommendations finished on 153000/2088478 queries. users per second: 5951.12</pre>"
      ],
      "text/plain": [
       "recommendations finished on 153000/2088478 queries. users per second: 5951.12"
      ]
     },
     "metadata": {},
     "output_type": "display_data"
    },
    {
     "data": {
      "text/html": [
       "<pre>recommendations finished on 154000/2088478 queries. users per second: 5953.78</pre>"
      ],
      "text/plain": [
       "recommendations finished on 154000/2088478 queries. users per second: 5953.78"
      ]
     },
     "metadata": {},
     "output_type": "display_data"
    },
    {
     "data": {
      "text/html": [
       "<pre>recommendations finished on 155000/2088478 queries. users per second: 5956.58</pre>"
      ],
      "text/plain": [
       "recommendations finished on 155000/2088478 queries. users per second: 5956.58"
      ]
     },
     "metadata": {},
     "output_type": "display_data"
    },
    {
     "data": {
      "text/html": [
       "<pre>recommendations finished on 156000/2088478 queries. users per second: 5959.24</pre>"
      ],
      "text/plain": [
       "recommendations finished on 156000/2088478 queries. users per second: 5959.24"
      ]
     },
     "metadata": {},
     "output_type": "display_data"
    },
    {
     "data": {
      "text/html": [
       "<pre>recommendations finished on 157000/2088478 queries. users per second: 5961.89</pre>"
      ],
      "text/plain": [
       "recommendations finished on 157000/2088478 queries. users per second: 5961.89"
      ]
     },
     "metadata": {},
     "output_type": "display_data"
    },
    {
     "data": {
      "text/html": [
       "<pre>recommendations finished on 158000/2088478 queries. users per second: 5963</pre>"
      ],
      "text/plain": [
       "recommendations finished on 158000/2088478 queries. users per second: 5963"
      ]
     },
     "metadata": {},
     "output_type": "display_data"
    },
    {
     "data": {
      "text/html": [
       "<pre>recommendations finished on 159000/2088478 queries. users per second: 5963.14</pre>"
      ],
      "text/plain": [
       "recommendations finished on 159000/2088478 queries. users per second: 5963.14"
      ]
     },
     "metadata": {},
     "output_type": "display_data"
    },
    {
     "data": {
      "text/html": [
       "<pre>recommendations finished on 160000/2088478 queries. users per second: 5963.86</pre>"
      ],
      "text/plain": [
       "recommendations finished on 160000/2088478 queries. users per second: 5963.86"
      ]
     },
     "metadata": {},
     "output_type": "display_data"
    },
    {
     "data": {
      "text/html": [
       "<pre>recommendations finished on 161000/2088478 queries. users per second: 5965.44</pre>"
      ],
      "text/plain": [
       "recommendations finished on 161000/2088478 queries. users per second: 5965.44"
      ]
     },
     "metadata": {},
     "output_type": "display_data"
    },
    {
     "data": {
      "text/html": [
       "<pre>recommendations finished on 162000/2088478 queries. users per second: 5969.34</pre>"
      ],
      "text/plain": [
       "recommendations finished on 162000/2088478 queries. users per second: 5969.34"
      ]
     },
     "metadata": {},
     "output_type": "display_data"
    },
    {
     "data": {
      "text/html": [
       "<pre>recommendations finished on 163000/2088478 queries. users per second: 5969.97</pre>"
      ],
      "text/plain": [
       "recommendations finished on 163000/2088478 queries. users per second: 5969.97"
      ]
     },
     "metadata": {},
     "output_type": "display_data"
    },
    {
     "data": {
      "text/html": [
       "<pre>recommendations finished on 164000/2088478 queries. users per second: 5974.89</pre>"
      ],
      "text/plain": [
       "recommendations finished on 164000/2088478 queries. users per second: 5974.89"
      ]
     },
     "metadata": {},
     "output_type": "display_data"
    },
    {
     "data": {
      "text/html": [
       "<pre>recommendations finished on 165000/2088478 queries. users per second: 5978.3</pre>"
      ],
      "text/plain": [
       "recommendations finished on 165000/2088478 queries. users per second: 5978.3"
      ]
     },
     "metadata": {},
     "output_type": "display_data"
    },
    {
     "data": {
      "text/html": [
       "<pre>recommendations finished on 166000/2088478 queries. users per second: 5983.03</pre>"
      ],
      "text/plain": [
       "recommendations finished on 166000/2088478 queries. users per second: 5983.03"
      ]
     },
     "metadata": {},
     "output_type": "display_data"
    },
    {
     "data": {
      "text/html": [
       "<pre>recommendations finished on 167000/2088478 queries. users per second: 5988.12</pre>"
      ],
      "text/plain": [
       "recommendations finished on 167000/2088478 queries. users per second: 5988.12"
      ]
     },
     "metadata": {},
     "output_type": "display_data"
    },
    {
     "data": {
      "text/html": [
       "<pre>recommendations finished on 168000/2088478 queries. users per second: 5987.71</pre>"
      ],
      "text/plain": [
       "recommendations finished on 168000/2088478 queries. users per second: 5987.71"
      ]
     },
     "metadata": {},
     "output_type": "display_data"
    },
    {
     "data": {
      "text/html": [
       "<pre>recommendations finished on 169000/2088478 queries. users per second: 5990.32</pre>"
      ],
      "text/plain": [
       "recommendations finished on 169000/2088478 queries. users per second: 5990.32"
      ]
     },
     "metadata": {},
     "output_type": "display_data"
    },
    {
     "data": {
      "text/html": [
       "<pre>recommendations finished on 170000/2088478 queries. users per second: 5995.39</pre>"
      ],
      "text/plain": [
       "recommendations finished on 170000/2088478 queries. users per second: 5995.39"
      ]
     },
     "metadata": {},
     "output_type": "display_data"
    },
    {
     "data": {
      "text/html": [
       "<pre>recommendations finished on 171000/2088478 queries. users per second: 5999.1</pre>"
      ],
      "text/plain": [
       "recommendations finished on 171000/2088478 queries. users per second: 5999.1"
      ]
     },
     "metadata": {},
     "output_type": "display_data"
    },
    {
     "data": {
      "text/html": [
       "<pre>recommendations finished on 172000/2088478 queries. users per second: 5999.39</pre>"
      ],
      "text/plain": [
       "recommendations finished on 172000/2088478 queries. users per second: 5999.39"
      ]
     },
     "metadata": {},
     "output_type": "display_data"
    },
    {
     "data": {
      "text/html": [
       "<pre>recommendations finished on 173000/2088478 queries. users per second: 6002.99</pre>"
      ],
      "text/plain": [
       "recommendations finished on 173000/2088478 queries. users per second: 6002.99"
      ]
     },
     "metadata": {},
     "output_type": "display_data"
    },
    {
     "data": {
      "text/html": [
       "<pre>recommendations finished on 174000/2088478 queries. users per second: 6007.22</pre>"
      ],
      "text/plain": [
       "recommendations finished on 174000/2088478 queries. users per second: 6007.22"
      ]
     },
     "metadata": {},
     "output_type": "display_data"
    },
    {
     "data": {
      "text/html": [
       "<pre>recommendations finished on 175000/2088478 queries. users per second: 6010.68</pre>"
      ],
      "text/plain": [
       "recommendations finished on 175000/2088478 queries. users per second: 6010.68"
      ]
     },
     "metadata": {},
     "output_type": "display_data"
    },
    {
     "data": {
      "text/html": [
       "<pre>recommendations finished on 176000/2088478 queries. users per second: 6014.74</pre>"
      ],
      "text/plain": [
       "recommendations finished on 176000/2088478 queries. users per second: 6014.74"
      ]
     },
     "metadata": {},
     "output_type": "display_data"
    },
    {
     "data": {
      "text/html": [
       "<pre>recommendations finished on 177000/2088478 queries. users per second: 6017.06</pre>"
      ],
      "text/plain": [
       "recommendations finished on 177000/2088478 queries. users per second: 6017.06"
      ]
     },
     "metadata": {},
     "output_type": "display_data"
    },
    {
     "data": {
      "text/html": [
       "<pre>recommendations finished on 178000/2088478 queries. users per second: 6020.22</pre>"
      ],
      "text/plain": [
       "recommendations finished on 178000/2088478 queries. users per second: 6020.22"
      ]
     },
     "metadata": {},
     "output_type": "display_data"
    },
    {
     "data": {
      "text/html": [
       "<pre>recommendations finished on 179000/2088478 queries. users per second: 6022.32</pre>"
      ],
      "text/plain": [
       "recommendations finished on 179000/2088478 queries. users per second: 6022.32"
      ]
     },
     "metadata": {},
     "output_type": "display_data"
    },
    {
     "data": {
      "text/html": [
       "<pre>recommendations finished on 180000/2088478 queries. users per second: 6022.74</pre>"
      ],
      "text/plain": [
       "recommendations finished on 180000/2088478 queries. users per second: 6022.74"
      ]
     },
     "metadata": {},
     "output_type": "display_data"
    },
    {
     "data": {
      "text/html": [
       "<pre>recommendations finished on 181000/2088478 queries. users per second: 6022.63</pre>"
      ],
      "text/plain": [
       "recommendations finished on 181000/2088478 queries. users per second: 6022.63"
      ]
     },
     "metadata": {},
     "output_type": "display_data"
    },
    {
     "data": {
      "text/html": [
       "<pre>recommendations finished on 182000/2088478 queries. users per second: 6022.59</pre>"
      ],
      "text/plain": [
       "recommendations finished on 182000/2088478 queries. users per second: 6022.59"
      ]
     },
     "metadata": {},
     "output_type": "display_data"
    },
    {
     "data": {
      "text/html": [
       "<pre>recommendations finished on 183000/2088478 queries. users per second: 6026.63</pre>"
      ],
      "text/plain": [
       "recommendations finished on 183000/2088478 queries. users per second: 6026.63"
      ]
     },
     "metadata": {},
     "output_type": "display_data"
    },
    {
     "data": {
      "text/html": [
       "<pre>recommendations finished on 184000/2088478 queries. users per second: 6029.85</pre>"
      ],
      "text/plain": [
       "recommendations finished on 184000/2088478 queries. users per second: 6029.85"
      ]
     },
     "metadata": {},
     "output_type": "display_data"
    },
    {
     "data": {
      "text/html": [
       "<pre>recommendations finished on 185000/2088478 queries. users per second: 6033.39</pre>"
      ],
      "text/plain": [
       "recommendations finished on 185000/2088478 queries. users per second: 6033.39"
      ]
     },
     "metadata": {},
     "output_type": "display_data"
    },
    {
     "data": {
      "text/html": [
       "<pre>recommendations finished on 186000/2088478 queries. users per second: 6036.86</pre>"
      ],
      "text/plain": [
       "recommendations finished on 186000/2088478 queries. users per second: 6036.86"
      ]
     },
     "metadata": {},
     "output_type": "display_data"
    },
    {
     "data": {
      "text/html": [
       "<pre>recommendations finished on 187000/2088478 queries. users per second: 6039.66</pre>"
      ],
      "text/plain": [
       "recommendations finished on 187000/2088478 queries. users per second: 6039.66"
      ]
     },
     "metadata": {},
     "output_type": "display_data"
    },
    {
     "data": {
      "text/html": [
       "<pre>recommendations finished on 188000/2088478 queries. users per second: 6042.9</pre>"
      ],
      "text/plain": [
       "recommendations finished on 188000/2088478 queries. users per second: 6042.9"
      ]
     },
     "metadata": {},
     "output_type": "display_data"
    },
    {
     "data": {
      "text/html": [
       "<pre>recommendations finished on 189000/2088478 queries. users per second: 6046.55</pre>"
      ],
      "text/plain": [
       "recommendations finished on 189000/2088478 queries. users per second: 6046.55"
      ]
     },
     "metadata": {},
     "output_type": "display_data"
    },
    {
     "data": {
      "text/html": [
       "<pre>recommendations finished on 190000/2088478 queries. users per second: 6049.78</pre>"
      ],
      "text/plain": [
       "recommendations finished on 190000/2088478 queries. users per second: 6049.78"
      ]
     },
     "metadata": {},
     "output_type": "display_data"
    },
    {
     "data": {
      "text/html": [
       "<pre>recommendations finished on 191000/2088478 queries. users per second: 6053.89</pre>"
      ],
      "text/plain": [
       "recommendations finished on 191000/2088478 queries. users per second: 6053.89"
      ]
     },
     "metadata": {},
     "output_type": "display_data"
    },
    {
     "data": {
      "text/html": [
       "<pre>recommendations finished on 192000/2088478 queries. users per second: 6056.98</pre>"
      ],
      "text/plain": [
       "recommendations finished on 192000/2088478 queries. users per second: 6056.98"
      ]
     },
     "metadata": {},
     "output_type": "display_data"
    },
    {
     "data": {
      "text/html": [
       "<pre>recommendations finished on 193000/2088478 queries. users per second: 6060.29</pre>"
      ],
      "text/plain": [
       "recommendations finished on 193000/2088478 queries. users per second: 6060.29"
      ]
     },
     "metadata": {},
     "output_type": "display_data"
    },
    {
     "data": {
      "text/html": [
       "<pre>recommendations finished on 194000/2088478 queries. users per second: 6063.54</pre>"
      ],
      "text/plain": [
       "recommendations finished on 194000/2088478 queries. users per second: 6063.54"
      ]
     },
     "metadata": {},
     "output_type": "display_data"
    },
    {
     "data": {
      "text/html": [
       "<pre>recommendations finished on 195000/2088478 queries. users per second: 6067.1</pre>"
      ],
      "text/plain": [
       "recommendations finished on 195000/2088478 queries. users per second: 6067.1"
      ]
     },
     "metadata": {},
     "output_type": "display_data"
    },
    {
     "data": {
      "text/html": [
       "<pre>recommendations finished on 196000/2088478 queries. users per second: 6070.37</pre>"
      ],
      "text/plain": [
       "recommendations finished on 196000/2088478 queries. users per second: 6070.37"
      ]
     },
     "metadata": {},
     "output_type": "display_data"
    },
    {
     "data": {
      "text/html": [
       "<pre>recommendations finished on 197000/2088478 queries. users per second: 6068.82</pre>"
      ],
      "text/plain": [
       "recommendations finished on 197000/2088478 queries. users per second: 6068.82"
      ]
     },
     "metadata": {},
     "output_type": "display_data"
    },
    {
     "data": {
      "text/html": [
       "<pre>recommendations finished on 198000/2088478 queries. users per second: 6072.13</pre>"
      ],
      "text/plain": [
       "recommendations finished on 198000/2088478 queries. users per second: 6072.13"
      ]
     },
     "metadata": {},
     "output_type": "display_data"
    },
    {
     "data": {
      "text/html": [
       "<pre>recommendations finished on 199000/2088478 queries. users per second: 6073.85</pre>"
      ],
      "text/plain": [
       "recommendations finished on 199000/2088478 queries. users per second: 6073.85"
      ]
     },
     "metadata": {},
     "output_type": "display_data"
    },
    {
     "data": {
      "text/html": [
       "<pre>recommendations finished on 200000/2088478 queries. users per second: 6077.19</pre>"
      ],
      "text/plain": [
       "recommendations finished on 200000/2088478 queries. users per second: 6077.19"
      ]
     },
     "metadata": {},
     "output_type": "display_data"
    },
    {
     "data": {
      "text/html": [
       "<pre>recommendations finished on 201000/2088478 queries. users per second: 6080.82</pre>"
      ],
      "text/plain": [
       "recommendations finished on 201000/2088478 queries. users per second: 6080.82"
      ]
     },
     "metadata": {},
     "output_type": "display_data"
    },
    {
     "data": {
      "text/html": [
       "<pre>recommendations finished on 202000/2088478 queries. users per second: 6079.87</pre>"
      ],
      "text/plain": [
       "recommendations finished on 202000/2088478 queries. users per second: 6079.87"
      ]
     },
     "metadata": {},
     "output_type": "display_data"
    },
    {
     "data": {
      "text/html": [
       "<pre>recommendations finished on 203000/2088478 queries. users per second: 6082.2</pre>"
      ],
      "text/plain": [
       "recommendations finished on 203000/2088478 queries. users per second: 6082.2"
      ]
     },
     "metadata": {},
     "output_type": "display_data"
    },
    {
     "data": {
      "text/html": [
       "<pre>recommendations finished on 204000/2088478 queries. users per second: 6086</pre>"
      ],
      "text/plain": [
       "recommendations finished on 204000/2088478 queries. users per second: 6086"
      ]
     },
     "metadata": {},
     "output_type": "display_data"
    },
    {
     "data": {
      "text/html": [
       "<pre>recommendations finished on 205000/2088478 queries. users per second: 6088.91</pre>"
      ],
      "text/plain": [
       "recommendations finished on 205000/2088478 queries. users per second: 6088.91"
      ]
     },
     "metadata": {},
     "output_type": "display_data"
    },
    {
     "data": {
      "text/html": [
       "<pre>recommendations finished on 206000/2088478 queries. users per second: 6092.74</pre>"
      ],
      "text/plain": [
       "recommendations finished on 206000/2088478 queries. users per second: 6092.74"
      ]
     },
     "metadata": {},
     "output_type": "display_data"
    },
    {
     "data": {
      "text/html": [
       "<pre>recommendations finished on 207000/2088478 queries. users per second: 6092.66</pre>"
      ],
      "text/plain": [
       "recommendations finished on 207000/2088478 queries. users per second: 6092.66"
      ]
     },
     "metadata": {},
     "output_type": "display_data"
    },
    {
     "data": {
      "text/html": [
       "<pre>recommendations finished on 208000/2088478 queries. users per second: 6096.18</pre>"
      ],
      "text/plain": [
       "recommendations finished on 208000/2088478 queries. users per second: 6096.18"
      ]
     },
     "metadata": {},
     "output_type": "display_data"
    },
    {
     "data": {
      "text/html": [
       "<pre>recommendations finished on 209000/2088478 queries. users per second: 6099.47</pre>"
      ],
      "text/plain": [
       "recommendations finished on 209000/2088478 queries. users per second: 6099.47"
      ]
     },
     "metadata": {},
     "output_type": "display_data"
    },
    {
     "data": {
      "text/html": [
       "<pre>recommendations finished on 210000/2088478 queries. users per second: 6102.41</pre>"
      ],
      "text/plain": [
       "recommendations finished on 210000/2088478 queries. users per second: 6102.41"
      ]
     },
     "metadata": {},
     "output_type": "display_data"
    },
    {
     "data": {
      "text/html": [
       "<pre>recommendations finished on 211000/2088478 queries. users per second: 6106.18</pre>"
      ],
      "text/plain": [
       "recommendations finished on 211000/2088478 queries. users per second: 6106.18"
      ]
     },
     "metadata": {},
     "output_type": "display_data"
    },
    {
     "data": {
      "text/html": [
       "<pre>recommendations finished on 212000/2088478 queries. users per second: 6107.56</pre>"
      ],
      "text/plain": [
       "recommendations finished on 212000/2088478 queries. users per second: 6107.56"
      ]
     },
     "metadata": {},
     "output_type": "display_data"
    },
    {
     "data": {
      "text/html": [
       "<pre>recommendations finished on 213000/2088478 queries. users per second: 6104.29</pre>"
      ],
      "text/plain": [
       "recommendations finished on 213000/2088478 queries. users per second: 6104.29"
      ]
     },
     "metadata": {},
     "output_type": "display_data"
    },
    {
     "data": {
      "text/html": [
       "<pre>recommendations finished on 214000/2088478 queries. users per second: 6105.69</pre>"
      ],
      "text/plain": [
       "recommendations finished on 214000/2088478 queries. users per second: 6105.69"
      ]
     },
     "metadata": {},
     "output_type": "display_data"
    },
    {
     "data": {
      "text/html": [
       "<pre>recommendations finished on 215000/2088478 queries. users per second: 6106.31</pre>"
      ],
      "text/plain": [
       "recommendations finished on 215000/2088478 queries. users per second: 6106.31"
      ]
     },
     "metadata": {},
     "output_type": "display_data"
    },
    {
     "data": {
      "text/html": [
       "<pre>recommendations finished on 216000/2088478 queries. users per second: 6098.34</pre>"
      ],
      "text/plain": [
       "recommendations finished on 216000/2088478 queries. users per second: 6098.34"
      ]
     },
     "metadata": {},
     "output_type": "display_data"
    },
    {
     "data": {
      "text/html": [
       "<pre>recommendations finished on 217000/2088478 queries. users per second: 6092.33</pre>"
      ],
      "text/plain": [
       "recommendations finished on 217000/2088478 queries. users per second: 6092.33"
      ]
     },
     "metadata": {},
     "output_type": "display_data"
    },
    {
     "data": {
      "text/html": [
       "<pre>recommendations finished on 218000/2088478 queries. users per second: 6089.46</pre>"
      ],
      "text/plain": [
       "recommendations finished on 218000/2088478 queries. users per second: 6089.46"
      ]
     },
     "metadata": {},
     "output_type": "display_data"
    },
    {
     "data": {
      "text/html": [
       "<pre>recommendations finished on 219000/2088478 queries. users per second: 6086.1</pre>"
      ],
      "text/plain": [
       "recommendations finished on 219000/2088478 queries. users per second: 6086.1"
      ]
     },
     "metadata": {},
     "output_type": "display_data"
    },
    {
     "data": {
      "text/html": [
       "<pre>recommendations finished on 220000/2088478 queries. users per second: 6087.06</pre>"
      ],
      "text/plain": [
       "recommendations finished on 220000/2088478 queries. users per second: 6087.06"
      ]
     },
     "metadata": {},
     "output_type": "display_data"
    },
    {
     "data": {
      "text/html": [
       "<pre>recommendations finished on 221000/2088478 queries. users per second: 6081.91</pre>"
      ],
      "text/plain": [
       "recommendations finished on 221000/2088478 queries. users per second: 6081.91"
      ]
     },
     "metadata": {},
     "output_type": "display_data"
    },
    {
     "data": {
      "text/html": [
       "<pre>recommendations finished on 222000/2088478 queries. users per second: 6077.32</pre>"
      ],
      "text/plain": [
       "recommendations finished on 222000/2088478 queries. users per second: 6077.32"
      ]
     },
     "metadata": {},
     "output_type": "display_data"
    },
    {
     "data": {
      "text/html": [
       "<pre>recommendations finished on 223000/2088478 queries. users per second: 6074.19</pre>"
      ],
      "text/plain": [
       "recommendations finished on 223000/2088478 queries. users per second: 6074.19"
      ]
     },
     "metadata": {},
     "output_type": "display_data"
    },
    {
     "data": {
      "text/html": [
       "<pre>recommendations finished on 224000/2088478 queries. users per second: 6071.18</pre>"
      ],
      "text/plain": [
       "recommendations finished on 224000/2088478 queries. users per second: 6071.18"
      ]
     },
     "metadata": {},
     "output_type": "display_data"
    },
    {
     "data": {
      "text/html": [
       "<pre>recommendations finished on 225000/2088478 queries. users per second: 6067.19</pre>"
      ],
      "text/plain": [
       "recommendations finished on 225000/2088478 queries. users per second: 6067.19"
      ]
     },
     "metadata": {},
     "output_type": "display_data"
    },
    {
     "data": {
      "text/html": [
       "<pre>recommendations finished on 226000/2088478 queries. users per second: 6064.57</pre>"
      ],
      "text/plain": [
       "recommendations finished on 226000/2088478 queries. users per second: 6064.57"
      ]
     },
     "metadata": {},
     "output_type": "display_data"
    },
    {
     "data": {
      "text/html": [
       "<pre>recommendations finished on 227000/2088478 queries. users per second: 6062.18</pre>"
      ],
      "text/plain": [
       "recommendations finished on 227000/2088478 queries. users per second: 6062.18"
      ]
     },
     "metadata": {},
     "output_type": "display_data"
    },
    {
     "data": {
      "text/html": [
       "<pre>recommendations finished on 228000/2088478 queries. users per second: 6060.17</pre>"
      ],
      "text/plain": [
       "recommendations finished on 228000/2088478 queries. users per second: 6060.17"
      ]
     },
     "metadata": {},
     "output_type": "display_data"
    },
    {
     "data": {
      "text/html": [
       "<pre>recommendations finished on 229000/2088478 queries. users per second: 6058.79</pre>"
      ],
      "text/plain": [
       "recommendations finished on 229000/2088478 queries. users per second: 6058.79"
      ]
     },
     "metadata": {},
     "output_type": "display_data"
    },
    {
     "data": {
      "text/html": [
       "<pre>recommendations finished on 230000/2088478 queries. users per second: 6059.42</pre>"
      ],
      "text/plain": [
       "recommendations finished on 230000/2088478 queries. users per second: 6059.42"
      ]
     },
     "metadata": {},
     "output_type": "display_data"
    },
    {
     "data": {
      "text/html": [
       "<pre>recommendations finished on 231000/2088478 queries. users per second: 6059.99</pre>"
      ],
      "text/plain": [
       "recommendations finished on 231000/2088478 queries. users per second: 6059.99"
      ]
     },
     "metadata": {},
     "output_type": "display_data"
    },
    {
     "data": {
      "text/html": [
       "<pre>recommendations finished on 232000/2088478 queries. users per second: 6056.87</pre>"
      ],
      "text/plain": [
       "recommendations finished on 232000/2088478 queries. users per second: 6056.87"
      ]
     },
     "metadata": {},
     "output_type": "display_data"
    },
    {
     "data": {
      "text/html": [
       "<pre>recommendations finished on 233000/2088478 queries. users per second: 6058.73</pre>"
      ],
      "text/plain": [
       "recommendations finished on 233000/2088478 queries. users per second: 6058.73"
      ]
     },
     "metadata": {},
     "output_type": "display_data"
    },
    {
     "data": {
      "text/html": [
       "<pre>recommendations finished on 234000/2088478 queries. users per second: 6060.49</pre>"
      ],
      "text/plain": [
       "recommendations finished on 234000/2088478 queries. users per second: 6060.49"
      ]
     },
     "metadata": {},
     "output_type": "display_data"
    },
    {
     "data": {
      "text/html": [
       "<pre>recommendations finished on 235000/2088478 queries. users per second: 6058.52</pre>"
      ],
      "text/plain": [
       "recommendations finished on 235000/2088478 queries. users per second: 6058.52"
      ]
     },
     "metadata": {},
     "output_type": "display_data"
    },
    {
     "data": {
      "text/html": [
       "<pre>recommendations finished on 236000/2088478 queries. users per second: 6052.42</pre>"
      ],
      "text/plain": [
       "recommendations finished on 236000/2088478 queries. users per second: 6052.42"
      ]
     },
     "metadata": {},
     "output_type": "display_data"
    },
    {
     "data": {
      "text/html": [
       "<pre>recommendations finished on 237000/2088478 queries. users per second: 6051.33</pre>"
      ],
      "text/plain": [
       "recommendations finished on 237000/2088478 queries. users per second: 6051.33"
      ]
     },
     "metadata": {},
     "output_type": "display_data"
    },
    {
     "data": {
      "text/html": [
       "<pre>recommendations finished on 238000/2088478 queries. users per second: 6049.02</pre>"
      ],
      "text/plain": [
       "recommendations finished on 238000/2088478 queries. users per second: 6049.02"
      ]
     },
     "metadata": {},
     "output_type": "display_data"
    },
    {
     "data": {
      "text/html": [
       "<pre>recommendations finished on 239000/2088478 queries. users per second: 6049.22</pre>"
      ],
      "text/plain": [
       "recommendations finished on 239000/2088478 queries. users per second: 6049.22"
      ]
     },
     "metadata": {},
     "output_type": "display_data"
    },
    {
     "data": {
      "text/html": [
       "<pre>recommendations finished on 240000/2088478 queries. users per second: 6050.97</pre>"
      ],
      "text/plain": [
       "recommendations finished on 240000/2088478 queries. users per second: 6050.97"
      ]
     },
     "metadata": {},
     "output_type": "display_data"
    },
    {
     "data": {
      "text/html": [
       "<pre>recommendations finished on 241000/2088478 queries. users per second: 6051.84</pre>"
      ],
      "text/plain": [
       "recommendations finished on 241000/2088478 queries. users per second: 6051.84"
      ]
     },
     "metadata": {},
     "output_type": "display_data"
    },
    {
     "data": {
      "text/html": [
       "<pre>recommendations finished on 242000/2088478 queries. users per second: 6045.55</pre>"
      ],
      "text/plain": [
       "recommendations finished on 242000/2088478 queries. users per second: 6045.55"
      ]
     },
     "metadata": {},
     "output_type": "display_data"
    },
    {
     "data": {
      "text/html": [
       "<pre>recommendations finished on 243000/2088478 queries. users per second: 6044.61</pre>"
      ],
      "text/plain": [
       "recommendations finished on 243000/2088478 queries. users per second: 6044.61"
      ]
     },
     "metadata": {},
     "output_type": "display_data"
    },
    {
     "data": {
      "text/html": [
       "<pre>recommendations finished on 244000/2088478 queries. users per second: 6045.86</pre>"
      ],
      "text/plain": [
       "recommendations finished on 244000/2088478 queries. users per second: 6045.86"
      ]
     },
     "metadata": {},
     "output_type": "display_data"
    },
    {
     "data": {
      "text/html": [
       "<pre>recommendations finished on 245000/2088478 queries. users per second: 6042.26</pre>"
      ],
      "text/plain": [
       "recommendations finished on 245000/2088478 queries. users per second: 6042.26"
      ]
     },
     "metadata": {},
     "output_type": "display_data"
    },
    {
     "data": {
      "text/html": [
       "<pre>recommendations finished on 246000/2088478 queries. users per second: 6042.46</pre>"
      ],
      "text/plain": [
       "recommendations finished on 246000/2088478 queries. users per second: 6042.46"
      ]
     },
     "metadata": {},
     "output_type": "display_data"
    },
    {
     "data": {
      "text/html": [
       "<pre>recommendations finished on 247000/2088478 queries. users per second: 6041.32</pre>"
      ],
      "text/plain": [
       "recommendations finished on 247000/2088478 queries. users per second: 6041.32"
      ]
     },
     "metadata": {},
     "output_type": "display_data"
    },
    {
     "data": {
      "text/html": [
       "<pre>recommendations finished on 248000/2088478 queries. users per second: 6042.87</pre>"
      ],
      "text/plain": [
       "recommendations finished on 248000/2088478 queries. users per second: 6042.87"
      ]
     },
     "metadata": {},
     "output_type": "display_data"
    },
    {
     "data": {
      "text/html": [
       "<pre>recommendations finished on 249000/2088478 queries. users per second: 6041.27</pre>"
      ],
      "text/plain": [
       "recommendations finished on 249000/2088478 queries. users per second: 6041.27"
      ]
     },
     "metadata": {},
     "output_type": "display_data"
    },
    {
     "data": {
      "text/html": [
       "<pre>recommendations finished on 250000/2088478 queries. users per second: 6036.91</pre>"
      ],
      "text/plain": [
       "recommendations finished on 250000/2088478 queries. users per second: 6036.91"
      ]
     },
     "metadata": {},
     "output_type": "display_data"
    },
    {
     "data": {
      "text/html": [
       "<pre>recommendations finished on 251000/2088478 queries. users per second: 6029.38</pre>"
      ],
      "text/plain": [
       "recommendations finished on 251000/2088478 queries. users per second: 6029.38"
      ]
     },
     "metadata": {},
     "output_type": "display_data"
    },
    {
     "data": {
      "text/html": [
       "<pre>recommendations finished on 252000/2088478 queries. users per second: 6026.08</pre>"
      ],
      "text/plain": [
       "recommendations finished on 252000/2088478 queries. users per second: 6026.08"
      ]
     },
     "metadata": {},
     "output_type": "display_data"
    },
    {
     "data": {
      "text/html": [
       "<pre>recommendations finished on 253000/2088478 queries. users per second: 6028.77</pre>"
      ],
      "text/plain": [
       "recommendations finished on 253000/2088478 queries. users per second: 6028.77"
      ]
     },
     "metadata": {},
     "output_type": "display_data"
    },
    {
     "data": {
      "text/html": [
       "<pre>recommendations finished on 254000/2088478 queries. users per second: 6031.81</pre>"
      ],
      "text/plain": [
       "recommendations finished on 254000/2088478 queries. users per second: 6031.81"
      ]
     },
     "metadata": {},
     "output_type": "display_data"
    },
    {
     "data": {
      "text/html": [
       "<pre>recommendations finished on 255000/2088478 queries. users per second: 6035.79</pre>"
      ],
      "text/plain": [
       "recommendations finished on 255000/2088478 queries. users per second: 6035.79"
      ]
     },
     "metadata": {},
     "output_type": "display_data"
    },
    {
     "data": {
      "text/html": [
       "<pre>recommendations finished on 256000/2088478 queries. users per second: 6037.79</pre>"
      ],
      "text/plain": [
       "recommendations finished on 256000/2088478 queries. users per second: 6037.79"
      ]
     },
     "metadata": {},
     "output_type": "display_data"
    },
    {
     "data": {
      "text/html": [
       "<pre>recommendations finished on 257000/2088478 queries. users per second: 6038.78</pre>"
      ],
      "text/plain": [
       "recommendations finished on 257000/2088478 queries. users per second: 6038.78"
      ]
     },
     "metadata": {},
     "output_type": "display_data"
    },
    {
     "data": {
      "text/html": [
       "<pre>recommendations finished on 258000/2088478 queries. users per second: 6040.87</pre>"
      ],
      "text/plain": [
       "recommendations finished on 258000/2088478 queries. users per second: 6040.87"
      ]
     },
     "metadata": {},
     "output_type": "display_data"
    },
    {
     "data": {
      "text/html": [
       "<pre>recommendations finished on 259000/2088478 queries. users per second: 6041.9</pre>"
      ],
      "text/plain": [
       "recommendations finished on 259000/2088478 queries. users per second: 6041.9"
      ]
     },
     "metadata": {},
     "output_type": "display_data"
    },
    {
     "data": {
      "text/html": [
       "<pre>recommendations finished on 260000/2088478 queries. users per second: 6042.21</pre>"
      ],
      "text/plain": [
       "recommendations finished on 260000/2088478 queries. users per second: 6042.21"
      ]
     },
     "metadata": {},
     "output_type": "display_data"
    },
    {
     "data": {
      "text/html": [
       "<pre>recommendations finished on 261000/2088478 queries. users per second: 6043.91</pre>"
      ],
      "text/plain": [
       "recommendations finished on 261000/2088478 queries. users per second: 6043.91"
      ]
     },
     "metadata": {},
     "output_type": "display_data"
    },
    {
     "data": {
      "text/html": [
       "<pre>recommendations finished on 262000/2088478 queries. users per second: 6045.75</pre>"
      ],
      "text/plain": [
       "recommendations finished on 262000/2088478 queries. users per second: 6045.75"
      ]
     },
     "metadata": {},
     "output_type": "display_data"
    },
    {
     "data": {
      "text/html": [
       "<pre>recommendations finished on 263000/2088478 queries. users per second: 6046.84</pre>"
      ],
      "text/plain": [
       "recommendations finished on 263000/2088478 queries. users per second: 6046.84"
      ]
     },
     "metadata": {},
     "output_type": "display_data"
    },
    {
     "data": {
      "text/html": [
       "<pre>recommendations finished on 264000/2088478 queries. users per second: 6048.95</pre>"
      ],
      "text/plain": [
       "recommendations finished on 264000/2088478 queries. users per second: 6048.95"
      ]
     },
     "metadata": {},
     "output_type": "display_data"
    },
    {
     "data": {
      "text/html": [
       "<pre>recommendations finished on 265000/2088478 queries. users per second: 6051.15</pre>"
      ],
      "text/plain": [
       "recommendations finished on 265000/2088478 queries. users per second: 6051.15"
      ]
     },
     "metadata": {},
     "output_type": "display_data"
    },
    {
     "data": {
      "text/html": [
       "<pre>recommendations finished on 266000/2088478 queries. users per second: 6053.57</pre>"
      ],
      "text/plain": [
       "recommendations finished on 266000/2088478 queries. users per second: 6053.57"
      ]
     },
     "metadata": {},
     "output_type": "display_data"
    },
    {
     "data": {
      "text/html": [
       "<pre>recommendations finished on 267000/2088478 queries. users per second: 6056.07</pre>"
      ],
      "text/plain": [
       "recommendations finished on 267000/2088478 queries. users per second: 6056.07"
      ]
     },
     "metadata": {},
     "output_type": "display_data"
    },
    {
     "data": {
      "text/html": [
       "<pre>recommendations finished on 268000/2088478 queries. users per second: 6056.69</pre>"
      ],
      "text/plain": [
       "recommendations finished on 268000/2088478 queries. users per second: 6056.69"
      ]
     },
     "metadata": {},
     "output_type": "display_data"
    },
    {
     "data": {
      "text/html": [
       "<pre>recommendations finished on 269000/2088478 queries. users per second: 6054.38</pre>"
      ],
      "text/plain": [
       "recommendations finished on 269000/2088478 queries. users per second: 6054.38"
      ]
     },
     "metadata": {},
     "output_type": "display_data"
    },
    {
     "data": {
      "text/html": [
       "<pre>recommendations finished on 270000/2088478 queries. users per second: 6052.03</pre>"
      ],
      "text/plain": [
       "recommendations finished on 270000/2088478 queries. users per second: 6052.03"
      ]
     },
     "metadata": {},
     "output_type": "display_data"
    },
    {
     "data": {
      "text/html": [
       "<pre>recommendations finished on 271000/2088478 queries. users per second: 6052.54</pre>"
      ],
      "text/plain": [
       "recommendations finished on 271000/2088478 queries. users per second: 6052.54"
      ]
     },
     "metadata": {},
     "output_type": "display_data"
    },
    {
     "data": {
      "text/html": [
       "<pre>recommendations finished on 272000/2088478 queries. users per second: 6052.41</pre>"
      ],
      "text/plain": [
       "recommendations finished on 272000/2088478 queries. users per second: 6052.41"
      ]
     },
     "metadata": {},
     "output_type": "display_data"
    },
    {
     "data": {
      "text/html": [
       "<pre>recommendations finished on 273000/2088478 queries. users per second: 6054.82</pre>"
      ],
      "text/plain": [
       "recommendations finished on 273000/2088478 queries. users per second: 6054.82"
      ]
     },
     "metadata": {},
     "output_type": "display_data"
    },
    {
     "data": {
      "text/html": [
       "<pre>recommendations finished on 274000/2088478 queries. users per second: 6054.17</pre>"
      ],
      "text/plain": [
       "recommendations finished on 274000/2088478 queries. users per second: 6054.17"
      ]
     },
     "metadata": {},
     "output_type": "display_data"
    },
    {
     "data": {
      "text/html": [
       "<pre>recommendations finished on 275000/2088478 queries. users per second: 6055.42</pre>"
      ],
      "text/plain": [
       "recommendations finished on 275000/2088478 queries. users per second: 6055.42"
      ]
     },
     "metadata": {},
     "output_type": "display_data"
    },
    {
     "data": {
      "text/html": [
       "<pre>recommendations finished on 276000/2088478 queries. users per second: 6052.06</pre>"
      ],
      "text/plain": [
       "recommendations finished on 276000/2088478 queries. users per second: 6052.06"
      ]
     },
     "metadata": {},
     "output_type": "display_data"
    },
    {
     "data": {
      "text/html": [
       "<pre>recommendations finished on 277000/2088478 queries. users per second: 6050.58</pre>"
      ],
      "text/plain": [
       "recommendations finished on 277000/2088478 queries. users per second: 6050.58"
      ]
     },
     "metadata": {},
     "output_type": "display_data"
    },
    {
     "data": {
      "text/html": [
       "<pre>recommendations finished on 278000/2088478 queries. users per second: 6045.18</pre>"
      ],
      "text/plain": [
       "recommendations finished on 278000/2088478 queries. users per second: 6045.18"
      ]
     },
     "metadata": {},
     "output_type": "display_data"
    },
    {
     "data": {
      "text/html": [
       "<pre>recommendations finished on 279000/2088478 queries. users per second: 6042.76</pre>"
      ],
      "text/plain": [
       "recommendations finished on 279000/2088478 queries. users per second: 6042.76"
      ]
     },
     "metadata": {},
     "output_type": "display_data"
    },
    {
     "data": {
      "text/html": [
       "<pre>recommendations finished on 280000/2088478 queries. users per second: 6038.69</pre>"
      ],
      "text/plain": [
       "recommendations finished on 280000/2088478 queries. users per second: 6038.69"
      ]
     },
     "metadata": {},
     "output_type": "display_data"
    },
    {
     "data": {
      "text/html": [
       "<pre>recommendations finished on 281000/2088478 queries. users per second: 6038.12</pre>"
      ],
      "text/plain": [
       "recommendations finished on 281000/2088478 queries. users per second: 6038.12"
      ]
     },
     "metadata": {},
     "output_type": "display_data"
    },
    {
     "data": {
      "text/html": [
       "<pre>recommendations finished on 282000/2088478 queries. users per second: 6040.58</pre>"
      ],
      "text/plain": [
       "recommendations finished on 282000/2088478 queries. users per second: 6040.58"
      ]
     },
     "metadata": {},
     "output_type": "display_data"
    },
    {
     "data": {
      "text/html": [
       "<pre>recommendations finished on 283000/2088478 queries. users per second: 6042.63</pre>"
      ],
      "text/plain": [
       "recommendations finished on 283000/2088478 queries. users per second: 6042.63"
      ]
     },
     "metadata": {},
     "output_type": "display_data"
    },
    {
     "data": {
      "text/html": [
       "<pre>recommendations finished on 284000/2088478 queries. users per second: 6043.07</pre>"
      ],
      "text/plain": [
       "recommendations finished on 284000/2088478 queries. users per second: 6043.07"
      ]
     },
     "metadata": {},
     "output_type": "display_data"
    },
    {
     "data": {
      "text/html": [
       "<pre>recommendations finished on 285000/2088478 queries. users per second: 6042.59</pre>"
      ],
      "text/plain": [
       "recommendations finished on 285000/2088478 queries. users per second: 6042.59"
      ]
     },
     "metadata": {},
     "output_type": "display_data"
    },
    {
     "data": {
      "text/html": [
       "<pre>recommendations finished on 286000/2088478 queries. users per second: 6041.49</pre>"
      ],
      "text/plain": [
       "recommendations finished on 286000/2088478 queries. users per second: 6041.49"
      ]
     },
     "metadata": {},
     "output_type": "display_data"
    },
    {
     "data": {
      "text/html": [
       "<pre>recommendations finished on 287000/2088478 queries. users per second: 6039.81</pre>"
      ],
      "text/plain": [
       "recommendations finished on 287000/2088478 queries. users per second: 6039.81"
      ]
     },
     "metadata": {},
     "output_type": "display_data"
    },
    {
     "data": {
      "text/html": [
       "<pre>recommendations finished on 288000/2088478 queries. users per second: 6039.16</pre>"
      ],
      "text/plain": [
       "recommendations finished on 288000/2088478 queries. users per second: 6039.16"
      ]
     },
     "metadata": {},
     "output_type": "display_data"
    },
    {
     "data": {
      "text/html": [
       "<pre>recommendations finished on 289000/2088478 queries. users per second: 6039.93</pre>"
      ],
      "text/plain": [
       "recommendations finished on 289000/2088478 queries. users per second: 6039.93"
      ]
     },
     "metadata": {},
     "output_type": "display_data"
    },
    {
     "data": {
      "text/html": [
       "<pre>recommendations finished on 290000/2088478 queries. users per second: 6042.17</pre>"
      ],
      "text/plain": [
       "recommendations finished on 290000/2088478 queries. users per second: 6042.17"
      ]
     },
     "metadata": {},
     "output_type": "display_data"
    },
    {
     "data": {
      "text/html": [
       "<pre>recommendations finished on 291000/2088478 queries. users per second: 6044.04</pre>"
      ],
      "text/plain": [
       "recommendations finished on 291000/2088478 queries. users per second: 6044.04"
      ]
     },
     "metadata": {},
     "output_type": "display_data"
    },
    {
     "data": {
      "text/html": [
       "<pre>recommendations finished on 292000/2088478 queries. users per second: 6046</pre>"
      ],
      "text/plain": [
       "recommendations finished on 292000/2088478 queries. users per second: 6046"
      ]
     },
     "metadata": {},
     "output_type": "display_data"
    },
    {
     "data": {
      "text/html": [
       "<pre>recommendations finished on 293000/2088478 queries. users per second: 6047.44</pre>"
      ],
      "text/plain": [
       "recommendations finished on 293000/2088478 queries. users per second: 6047.44"
      ]
     },
     "metadata": {},
     "output_type": "display_data"
    },
    {
     "data": {
      "text/html": [
       "<pre>recommendations finished on 294000/2088478 queries. users per second: 6048.97</pre>"
      ],
      "text/plain": [
       "recommendations finished on 294000/2088478 queries. users per second: 6048.97"
      ]
     },
     "metadata": {},
     "output_type": "display_data"
    },
    {
     "data": {
      "text/html": [
       "<pre>recommendations finished on 295000/2088478 queries. users per second: 6049.24</pre>"
      ],
      "text/plain": [
       "recommendations finished on 295000/2088478 queries. users per second: 6049.24"
      ]
     },
     "metadata": {},
     "output_type": "display_data"
    },
    {
     "data": {
      "text/html": [
       "<pre>recommendations finished on 296000/2088478 queries. users per second: 6050.53</pre>"
      ],
      "text/plain": [
       "recommendations finished on 296000/2088478 queries. users per second: 6050.53"
      ]
     },
     "metadata": {},
     "output_type": "display_data"
    },
    {
     "data": {
      "text/html": [
       "<pre>recommendations finished on 297000/2088478 queries. users per second: 6049.83</pre>"
      ],
      "text/plain": [
       "recommendations finished on 297000/2088478 queries. users per second: 6049.83"
      ]
     },
     "metadata": {},
     "output_type": "display_data"
    },
    {
     "data": {
      "text/html": [
       "<pre>recommendations finished on 298000/2088478 queries. users per second: 6052.15</pre>"
      ],
      "text/plain": [
       "recommendations finished on 298000/2088478 queries. users per second: 6052.15"
      ]
     },
     "metadata": {},
     "output_type": "display_data"
    },
    {
     "data": {
      "text/html": [
       "<pre>recommendations finished on 299000/2088478 queries. users per second: 6055.25</pre>"
      ],
      "text/plain": [
       "recommendations finished on 299000/2088478 queries. users per second: 6055.25"
      ]
     },
     "metadata": {},
     "output_type": "display_data"
    },
    {
     "data": {
      "text/html": [
       "<pre>recommendations finished on 300000/2088478 queries. users per second: 6058.13</pre>"
      ],
      "text/plain": [
       "recommendations finished on 300000/2088478 queries. users per second: 6058.13"
      ]
     },
     "metadata": {},
     "output_type": "display_data"
    },
    {
     "data": {
      "text/html": [
       "<pre>recommendations finished on 301000/2088478 queries. users per second: 6061.37</pre>"
      ],
      "text/plain": [
       "recommendations finished on 301000/2088478 queries. users per second: 6061.37"
      ]
     },
     "metadata": {},
     "output_type": "display_data"
    },
    {
     "data": {
      "text/html": [
       "<pre>recommendations finished on 302000/2088478 queries. users per second: 6063.69</pre>"
      ],
      "text/plain": [
       "recommendations finished on 302000/2088478 queries. users per second: 6063.69"
      ]
     },
     "metadata": {},
     "output_type": "display_data"
    },
    {
     "data": {
      "text/html": [
       "<pre>recommendations finished on 303000/2088478 queries. users per second: 6067.25</pre>"
      ],
      "text/plain": [
       "recommendations finished on 303000/2088478 queries. users per second: 6067.25"
      ]
     },
     "metadata": {},
     "output_type": "display_data"
    },
    {
     "data": {
      "text/html": [
       "<pre>recommendations finished on 304000/2088478 queries. users per second: 6070.48</pre>"
      ],
      "text/plain": [
       "recommendations finished on 304000/2088478 queries. users per second: 6070.48"
      ]
     },
     "metadata": {},
     "output_type": "display_data"
    },
    {
     "data": {
      "text/html": [
       "<pre>recommendations finished on 305000/2088478 queries. users per second: 6073.63</pre>"
      ],
      "text/plain": [
       "recommendations finished on 305000/2088478 queries. users per second: 6073.63"
      ]
     },
     "metadata": {},
     "output_type": "display_data"
    },
    {
     "data": {
      "text/html": [
       "<pre>recommendations finished on 306000/2088478 queries. users per second: 6076.6</pre>"
      ],
      "text/plain": [
       "recommendations finished on 306000/2088478 queries. users per second: 6076.6"
      ]
     },
     "metadata": {},
     "output_type": "display_data"
    },
    {
     "data": {
      "text/html": [
       "<pre>recommendations finished on 307000/2088478 queries. users per second: 6079.36</pre>"
      ],
      "text/plain": [
       "recommendations finished on 307000/2088478 queries. users per second: 6079.36"
      ]
     },
     "metadata": {},
     "output_type": "display_data"
    },
    {
     "data": {
      "text/html": [
       "<pre>recommendations finished on 308000/2088478 queries. users per second: 6082.25</pre>"
      ],
      "text/plain": [
       "recommendations finished on 308000/2088478 queries. users per second: 6082.25"
      ]
     },
     "metadata": {},
     "output_type": "display_data"
    },
    {
     "data": {
      "text/html": [
       "<pre>recommendations finished on 309000/2088478 queries. users per second: 6084.1</pre>"
      ],
      "text/plain": [
       "recommendations finished on 309000/2088478 queries. users per second: 6084.1"
      ]
     },
     "metadata": {},
     "output_type": "display_data"
    },
    {
     "data": {
      "text/html": [
       "<pre>recommendations finished on 310000/2088478 queries. users per second: 6083.86</pre>"
      ],
      "text/plain": [
       "recommendations finished on 310000/2088478 queries. users per second: 6083.86"
      ]
     },
     "metadata": {},
     "output_type": "display_data"
    },
    {
     "data": {
      "text/html": [
       "<pre>recommendations finished on 311000/2088478 queries. users per second: 6083.71</pre>"
      ],
      "text/plain": [
       "recommendations finished on 311000/2088478 queries. users per second: 6083.71"
      ]
     },
     "metadata": {},
     "output_type": "display_data"
    },
    {
     "data": {
      "text/html": [
       "<pre>recommendations finished on 312000/2088478 queries. users per second: 6084.86</pre>"
      ],
      "text/plain": [
       "recommendations finished on 312000/2088478 queries. users per second: 6084.86"
      ]
     },
     "metadata": {},
     "output_type": "display_data"
    },
    {
     "data": {
      "text/html": [
       "<pre>recommendations finished on 313000/2088478 queries. users per second: 6084.94</pre>"
      ],
      "text/plain": [
       "recommendations finished on 313000/2088478 queries. users per second: 6084.94"
      ]
     },
     "metadata": {},
     "output_type": "display_data"
    },
    {
     "data": {
      "text/html": [
       "<pre>recommendations finished on 314000/2088478 queries. users per second: 6082.71</pre>"
      ],
      "text/plain": [
       "recommendations finished on 314000/2088478 queries. users per second: 6082.71"
      ]
     },
     "metadata": {},
     "output_type": "display_data"
    },
    {
     "data": {
      "text/html": [
       "<pre>recommendations finished on 315000/2088478 queries. users per second: 6077.42</pre>"
      ],
      "text/plain": [
       "recommendations finished on 315000/2088478 queries. users per second: 6077.42"
      ]
     },
     "metadata": {},
     "output_type": "display_data"
    },
    {
     "data": {
      "text/html": [
       "<pre>recommendations finished on 316000/2088478 queries. users per second: 6071.47</pre>"
      ],
      "text/plain": [
       "recommendations finished on 316000/2088478 queries. users per second: 6071.47"
      ]
     },
     "metadata": {},
     "output_type": "display_data"
    },
    {
     "data": {
      "text/html": [
       "<pre>recommendations finished on 317000/2088478 queries. users per second: 6063.73</pre>"
      ],
      "text/plain": [
       "recommendations finished on 317000/2088478 queries. users per second: 6063.73"
      ]
     },
     "metadata": {},
     "output_type": "display_data"
    },
    {
     "data": {
      "text/html": [
       "<pre>recommendations finished on 318000/2088478 queries. users per second: 6061.14</pre>"
      ],
      "text/plain": [
       "recommendations finished on 318000/2088478 queries. users per second: 6061.14"
      ]
     },
     "metadata": {},
     "output_type": "display_data"
    },
    {
     "data": {
      "text/html": [
       "<pre>recommendations finished on 319000/2088478 queries. users per second: 6057.18</pre>"
      ],
      "text/plain": [
       "recommendations finished on 319000/2088478 queries. users per second: 6057.18"
      ]
     },
     "metadata": {},
     "output_type": "display_data"
    },
    {
     "data": {
      "text/html": [
       "<pre>recommendations finished on 320000/2088478 queries. users per second: 6047.86</pre>"
      ],
      "text/plain": [
       "recommendations finished on 320000/2088478 queries. users per second: 6047.86"
      ]
     },
     "metadata": {},
     "output_type": "display_data"
    },
    {
     "data": {
      "text/html": [
       "<pre>recommendations finished on 321000/2088478 queries. users per second: 6044.42</pre>"
      ],
      "text/plain": [
       "recommendations finished on 321000/2088478 queries. users per second: 6044.42"
      ]
     },
     "metadata": {},
     "output_type": "display_data"
    },
    {
     "data": {
      "text/html": [
       "<pre>recommendations finished on 322000/2088478 queries. users per second: 6044.3</pre>"
      ],
      "text/plain": [
       "recommendations finished on 322000/2088478 queries. users per second: 6044.3"
      ]
     },
     "metadata": {},
     "output_type": "display_data"
    },
    {
     "data": {
      "text/html": [
       "<pre>recommendations finished on 323000/2088478 queries. users per second: 6042.02</pre>"
      ],
      "text/plain": [
       "recommendations finished on 323000/2088478 queries. users per second: 6042.02"
      ]
     },
     "metadata": {},
     "output_type": "display_data"
    },
    {
     "data": {
      "text/html": [
       "<pre>recommendations finished on 324000/2088478 queries. users per second: 6036.51</pre>"
      ],
      "text/plain": [
       "recommendations finished on 324000/2088478 queries. users per second: 6036.51"
      ]
     },
     "metadata": {},
     "output_type": "display_data"
    },
    {
     "data": {
      "text/html": [
       "<pre>recommendations finished on 325000/2088478 queries. users per second: 6036.14</pre>"
      ],
      "text/plain": [
       "recommendations finished on 325000/2088478 queries. users per second: 6036.14"
      ]
     },
     "metadata": {},
     "output_type": "display_data"
    },
    {
     "data": {
      "text/html": [
       "<pre>recommendations finished on 326000/2088478 queries. users per second: 6035.45</pre>"
      ],
      "text/plain": [
       "recommendations finished on 326000/2088478 queries. users per second: 6035.45"
      ]
     },
     "metadata": {},
     "output_type": "display_data"
    },
    {
     "data": {
      "text/html": [
       "<pre>recommendations finished on 327000/2088478 queries. users per second: 6036.34</pre>"
      ],
      "text/plain": [
       "recommendations finished on 327000/2088478 queries. users per second: 6036.34"
      ]
     },
     "metadata": {},
     "output_type": "display_data"
    },
    {
     "data": {
      "text/html": [
       "<pre>recommendations finished on 328000/2088478 queries. users per second: 6037.22</pre>"
      ],
      "text/plain": [
       "recommendations finished on 328000/2088478 queries. users per second: 6037.22"
      ]
     },
     "metadata": {},
     "output_type": "display_data"
    },
    {
     "data": {
      "text/html": [
       "<pre>recommendations finished on 329000/2088478 queries. users per second: 6038.77</pre>"
      ],
      "text/plain": [
       "recommendations finished on 329000/2088478 queries. users per second: 6038.77"
      ]
     },
     "metadata": {},
     "output_type": "display_data"
    },
    {
     "data": {
      "text/html": [
       "<pre>recommendations finished on 330000/2088478 queries. users per second: 6038.06</pre>"
      ],
      "text/plain": [
       "recommendations finished on 330000/2088478 queries. users per second: 6038.06"
      ]
     },
     "metadata": {},
     "output_type": "display_data"
    },
    {
     "data": {
      "text/html": [
       "<pre>recommendations finished on 331000/2088478 queries. users per second: 6040.52</pre>"
      ],
      "text/plain": [
       "recommendations finished on 331000/2088478 queries. users per second: 6040.52"
      ]
     },
     "metadata": {},
     "output_type": "display_data"
    },
    {
     "data": {
      "text/html": [
       "<pre>recommendations finished on 332000/2088478 queries. users per second: 6041.52</pre>"
      ],
      "text/plain": [
       "recommendations finished on 332000/2088478 queries. users per second: 6041.52"
      ]
     },
     "metadata": {},
     "output_type": "display_data"
    },
    {
     "data": {
      "text/html": [
       "<pre>recommendations finished on 333000/2088478 queries. users per second: 6040.32</pre>"
      ],
      "text/plain": [
       "recommendations finished on 333000/2088478 queries. users per second: 6040.32"
      ]
     },
     "metadata": {},
     "output_type": "display_data"
    },
    {
     "data": {
      "text/html": [
       "<pre>recommendations finished on 334000/2088478 queries. users per second: 6042.76</pre>"
      ],
      "text/plain": [
       "recommendations finished on 334000/2088478 queries. users per second: 6042.76"
      ]
     },
     "metadata": {},
     "output_type": "display_data"
    },
    {
     "data": {
      "text/html": [
       "<pre>recommendations finished on 335000/2088478 queries. users per second: 6043.46</pre>"
      ],
      "text/plain": [
       "recommendations finished on 335000/2088478 queries. users per second: 6043.46"
      ]
     },
     "metadata": {},
     "output_type": "display_data"
    },
    {
     "data": {
      "text/html": [
       "<pre>recommendations finished on 336000/2088478 queries. users per second: 6043.65</pre>"
      ],
      "text/plain": [
       "recommendations finished on 336000/2088478 queries. users per second: 6043.65"
      ]
     },
     "metadata": {},
     "output_type": "display_data"
    },
    {
     "data": {
      "text/html": [
       "<pre>recommendations finished on 337000/2088478 queries. users per second: 6031.67</pre>"
      ],
      "text/plain": [
       "recommendations finished on 337000/2088478 queries. users per second: 6031.67"
      ]
     },
     "metadata": {},
     "output_type": "display_data"
    },
    {
     "data": {
      "text/html": [
       "<pre>recommendations finished on 338000/2088478 queries. users per second: 6031.15</pre>"
      ],
      "text/plain": [
       "recommendations finished on 338000/2088478 queries. users per second: 6031.15"
      ]
     },
     "metadata": {},
     "output_type": "display_data"
    },
    {
     "data": {
      "text/html": [
       "<pre>recommendations finished on 339000/2088478 queries. users per second: 6025.74</pre>"
      ],
      "text/plain": [
       "recommendations finished on 339000/2088478 queries. users per second: 6025.74"
      ]
     },
     "metadata": {},
     "output_type": "display_data"
    },
    {
     "data": {
      "text/html": [
       "<pre>recommendations finished on 340000/2088478 queries. users per second: 6022.6</pre>"
      ],
      "text/plain": [
       "recommendations finished on 340000/2088478 queries. users per second: 6022.6"
      ]
     },
     "metadata": {},
     "output_type": "display_data"
    },
    {
     "data": {
      "text/html": [
       "<pre>recommendations finished on 341000/2088478 queries. users per second: 6019.42</pre>"
      ],
      "text/plain": [
       "recommendations finished on 341000/2088478 queries. users per second: 6019.42"
      ]
     },
     "metadata": {},
     "output_type": "display_data"
    },
    {
     "data": {
      "text/html": [
       "<pre>recommendations finished on 342000/2088478 queries. users per second: 6019.56</pre>"
      ],
      "text/plain": [
       "recommendations finished on 342000/2088478 queries. users per second: 6019.56"
      ]
     },
     "metadata": {},
     "output_type": "display_data"
    },
    {
     "data": {
      "text/html": [
       "<pre>recommendations finished on 343000/2088478 queries. users per second: 6018.75</pre>"
      ],
      "text/plain": [
       "recommendations finished on 343000/2088478 queries. users per second: 6018.75"
      ]
     },
     "metadata": {},
     "output_type": "display_data"
    },
    {
     "data": {
      "text/html": [
       "<pre>recommendations finished on 344000/2088478 queries. users per second: 6019.83</pre>"
      ],
      "text/plain": [
       "recommendations finished on 344000/2088478 queries. users per second: 6019.83"
      ]
     },
     "metadata": {},
     "output_type": "display_data"
    },
    {
     "data": {
      "text/html": [
       "<pre>recommendations finished on 345000/2088478 queries. users per second: 6019.86</pre>"
      ],
      "text/plain": [
       "recommendations finished on 345000/2088478 queries. users per second: 6019.86"
      ]
     },
     "metadata": {},
     "output_type": "display_data"
    },
    {
     "data": {
      "text/html": [
       "<pre>recommendations finished on 346000/2088478 queries. users per second: 6018.36</pre>"
      ],
      "text/plain": [
       "recommendations finished on 346000/2088478 queries. users per second: 6018.36"
      ]
     },
     "metadata": {},
     "output_type": "display_data"
    },
    {
     "data": {
      "text/html": [
       "<pre>recommendations finished on 347000/2088478 queries. users per second: 6017.01</pre>"
      ],
      "text/plain": [
       "recommendations finished on 347000/2088478 queries. users per second: 6017.01"
      ]
     },
     "metadata": {},
     "output_type": "display_data"
    },
    {
     "data": {
      "text/html": [
       "<pre>recommendations finished on 348000/2088478 queries. users per second: 6017.1</pre>"
      ],
      "text/plain": [
       "recommendations finished on 348000/2088478 queries. users per second: 6017.1"
      ]
     },
     "metadata": {},
     "output_type": "display_data"
    },
    {
     "data": {
      "text/html": [
       "<pre>recommendations finished on 349000/2088478 queries. users per second: 6015.39</pre>"
      ],
      "text/plain": [
       "recommendations finished on 349000/2088478 queries. users per second: 6015.39"
      ]
     },
     "metadata": {},
     "output_type": "display_data"
    },
    {
     "data": {
      "text/html": [
       "<pre>recommendations finished on 350000/2088478 queries. users per second: 6016.76</pre>"
      ],
      "text/plain": [
       "recommendations finished on 350000/2088478 queries. users per second: 6016.76"
      ]
     },
     "metadata": {},
     "output_type": "display_data"
    },
    {
     "data": {
      "text/html": [
       "<pre>recommendations finished on 351000/2088478 queries. users per second: 6008.89</pre>"
      ],
      "text/plain": [
       "recommendations finished on 351000/2088478 queries. users per second: 6008.89"
      ]
     },
     "metadata": {},
     "output_type": "display_data"
    },
    {
     "data": {
      "text/html": [
       "<pre>recommendations finished on 352000/2088478 queries. users per second: 6003.69</pre>"
      ],
      "text/plain": [
       "recommendations finished on 352000/2088478 queries. users per second: 6003.69"
      ]
     },
     "metadata": {},
     "output_type": "display_data"
    },
    {
     "data": {
      "text/html": [
       "<pre>recommendations finished on 353000/2088478 queries. users per second: 5998.6</pre>"
      ],
      "text/plain": [
       "recommendations finished on 353000/2088478 queries. users per second: 5998.6"
      ]
     },
     "metadata": {},
     "output_type": "display_data"
    },
    {
     "data": {
      "text/html": [
       "<pre>recommendations finished on 354000/2088478 queries. users per second: 5996.28</pre>"
      ],
      "text/plain": [
       "recommendations finished on 354000/2088478 queries. users per second: 5996.28"
      ]
     },
     "metadata": {},
     "output_type": "display_data"
    },
    {
     "data": {
      "text/html": [
       "<pre>recommendations finished on 355000/2088478 queries. users per second: 5995.08</pre>"
      ],
      "text/plain": [
       "recommendations finished on 355000/2088478 queries. users per second: 5995.08"
      ]
     },
     "metadata": {},
     "output_type": "display_data"
    },
    {
     "data": {
      "text/html": [
       "<pre>recommendations finished on 356000/2088478 queries. users per second: 5994.15</pre>"
      ],
      "text/plain": [
       "recommendations finished on 356000/2088478 queries. users per second: 5994.15"
      ]
     },
     "metadata": {},
     "output_type": "display_data"
    },
    {
     "data": {
      "text/html": [
       "<pre>recommendations finished on 357000/2088478 queries. users per second: 5992.1</pre>"
      ],
      "text/plain": [
       "recommendations finished on 357000/2088478 queries. users per second: 5992.1"
      ]
     },
     "metadata": {},
     "output_type": "display_data"
    },
    {
     "data": {
      "text/html": [
       "<pre>recommendations finished on 358000/2088478 queries. users per second: 5990.96</pre>"
      ],
      "text/plain": [
       "recommendations finished on 358000/2088478 queries. users per second: 5990.96"
      ]
     },
     "metadata": {},
     "output_type": "display_data"
    },
    {
     "data": {
      "text/html": [
       "<pre>recommendations finished on 359000/2088478 queries. users per second: 5982.72</pre>"
      ],
      "text/plain": [
       "recommendations finished on 359000/2088478 queries. users per second: 5982.72"
      ]
     },
     "metadata": {},
     "output_type": "display_data"
    },
    {
     "data": {
      "text/html": [
       "<pre>recommendations finished on 360000/2088478 queries. users per second: 5983.24</pre>"
      ],
      "text/plain": [
       "recommendations finished on 360000/2088478 queries. users per second: 5983.24"
      ]
     },
     "metadata": {},
     "output_type": "display_data"
    },
    {
     "data": {
      "text/html": [
       "<pre>recommendations finished on 361000/2088478 queries. users per second: 5983.42</pre>"
      ],
      "text/plain": [
       "recommendations finished on 361000/2088478 queries. users per second: 5983.42"
      ]
     },
     "metadata": {},
     "output_type": "display_data"
    },
    {
     "data": {
      "text/html": [
       "<pre>recommendations finished on 362000/2088478 queries. users per second: 5983.09</pre>"
      ],
      "text/plain": [
       "recommendations finished on 362000/2088478 queries. users per second: 5983.09"
      ]
     },
     "metadata": {},
     "output_type": "display_data"
    },
    {
     "data": {
      "text/html": [
       "<pre>recommendations finished on 363000/2088478 queries. users per second: 5985.82</pre>"
      ],
      "text/plain": [
       "recommendations finished on 363000/2088478 queries. users per second: 5985.82"
      ]
     },
     "metadata": {},
     "output_type": "display_data"
    },
    {
     "data": {
      "text/html": [
       "<pre>recommendations finished on 364000/2088478 queries. users per second: 5987.51</pre>"
      ],
      "text/plain": [
       "recommendations finished on 364000/2088478 queries. users per second: 5987.51"
      ]
     },
     "metadata": {},
     "output_type": "display_data"
    },
    {
     "data": {
      "text/html": [
       "<pre>recommendations finished on 365000/2088478 queries. users per second: 5989.52</pre>"
      ],
      "text/plain": [
       "recommendations finished on 365000/2088478 queries. users per second: 5989.52"
      ]
     },
     "metadata": {},
     "output_type": "display_data"
    },
    {
     "data": {
      "text/html": [
       "<pre>recommendations finished on 366000/2088478 queries. users per second: 5991.37</pre>"
      ],
      "text/plain": [
       "recommendations finished on 366000/2088478 queries. users per second: 5991.37"
      ]
     },
     "metadata": {},
     "output_type": "display_data"
    },
    {
     "data": {
      "text/html": [
       "<pre>recommendations finished on 367000/2088478 queries. users per second: 5993.46</pre>"
      ],
      "text/plain": [
       "recommendations finished on 367000/2088478 queries. users per second: 5993.46"
      ]
     },
     "metadata": {},
     "output_type": "display_data"
    },
    {
     "data": {
      "text/html": [
       "<pre>recommendations finished on 368000/2088478 queries. users per second: 5994.62</pre>"
      ],
      "text/plain": [
       "recommendations finished on 368000/2088478 queries. users per second: 5994.62"
      ]
     },
     "metadata": {},
     "output_type": "display_data"
    },
    {
     "data": {
      "text/html": [
       "<pre>recommendations finished on 369000/2088478 queries. users per second: 5993.86</pre>"
      ],
      "text/plain": [
       "recommendations finished on 369000/2088478 queries. users per second: 5993.86"
      ]
     },
     "metadata": {},
     "output_type": "display_data"
    },
    {
     "data": {
      "text/html": [
       "<pre>recommendations finished on 370000/2088478 queries. users per second: 5993.39</pre>"
      ],
      "text/plain": [
       "recommendations finished on 370000/2088478 queries. users per second: 5993.39"
      ]
     },
     "metadata": {},
     "output_type": "display_data"
    },
    {
     "data": {
      "text/html": [
       "<pre>recommendations finished on 371000/2088478 queries. users per second: 5994.59</pre>"
      ],
      "text/plain": [
       "recommendations finished on 371000/2088478 queries. users per second: 5994.59"
      ]
     },
     "metadata": {},
     "output_type": "display_data"
    },
    {
     "data": {
      "text/html": [
       "<pre>recommendations finished on 372000/2088478 queries. users per second: 5996.01</pre>"
      ],
      "text/plain": [
       "recommendations finished on 372000/2088478 queries. users per second: 5996.01"
      ]
     },
     "metadata": {},
     "output_type": "display_data"
    },
    {
     "data": {
      "text/html": [
       "<pre>recommendations finished on 373000/2088478 queries. users per second: 5997.5</pre>"
      ],
      "text/plain": [
       "recommendations finished on 373000/2088478 queries. users per second: 5997.5"
      ]
     },
     "metadata": {},
     "output_type": "display_data"
    },
    {
     "data": {
      "text/html": [
       "<pre>recommendations finished on 374000/2088478 queries. users per second: 5998.68</pre>"
      ],
      "text/plain": [
       "recommendations finished on 374000/2088478 queries. users per second: 5998.68"
      ]
     },
     "metadata": {},
     "output_type": "display_data"
    },
    {
     "data": {
      "text/html": [
       "<pre>recommendations finished on 375000/2088478 queries. users per second: 5999.07</pre>"
      ],
      "text/plain": [
       "recommendations finished on 375000/2088478 queries. users per second: 5999.07"
      ]
     },
     "metadata": {},
     "output_type": "display_data"
    },
    {
     "data": {
      "text/html": [
       "<pre>recommendations finished on 376000/2088478 queries. users per second: 6000.45</pre>"
      ],
      "text/plain": [
       "recommendations finished on 376000/2088478 queries. users per second: 6000.45"
      ]
     },
     "metadata": {},
     "output_type": "display_data"
    },
    {
     "data": {
      "text/html": [
       "<pre>recommendations finished on 377000/2088478 queries. users per second: 6001.56</pre>"
      ],
      "text/plain": [
       "recommendations finished on 377000/2088478 queries. users per second: 6001.56"
      ]
     },
     "metadata": {},
     "output_type": "display_data"
    },
    {
     "data": {
      "text/html": [
       "<pre>recommendations finished on 378000/2088478 queries. users per second: 6000.38</pre>"
      ],
      "text/plain": [
       "recommendations finished on 378000/2088478 queries. users per second: 6000.38"
      ]
     },
     "metadata": {},
     "output_type": "display_data"
    },
    {
     "data": {
      "text/html": [
       "<pre>recommendations finished on 379000/2088478 queries. users per second: 5997.66</pre>"
      ],
      "text/plain": [
       "recommendations finished on 379000/2088478 queries. users per second: 5997.66"
      ]
     },
     "metadata": {},
     "output_type": "display_data"
    },
    {
     "data": {
      "text/html": [
       "<pre>recommendations finished on 380000/2088478 queries. users per second: 5985.01</pre>"
      ],
      "text/plain": [
       "recommendations finished on 380000/2088478 queries. users per second: 5985.01"
      ]
     },
     "metadata": {},
     "output_type": "display_data"
    },
    {
     "data": {
      "text/html": [
       "<pre>recommendations finished on 381000/2088478 queries. users per second: 5981.08</pre>"
      ],
      "text/plain": [
       "recommendations finished on 381000/2088478 queries. users per second: 5981.08"
      ]
     },
     "metadata": {},
     "output_type": "display_data"
    },
    {
     "data": {
      "text/html": [
       "<pre>recommendations finished on 382000/2088478 queries. users per second: 5982.63</pre>"
      ],
      "text/plain": [
       "recommendations finished on 382000/2088478 queries. users per second: 5982.63"
      ]
     },
     "metadata": {},
     "output_type": "display_data"
    },
    {
     "data": {
      "text/html": [
       "<pre>recommendations finished on 383000/2088478 queries. users per second: 5984.56</pre>"
      ],
      "text/plain": [
       "recommendations finished on 383000/2088478 queries. users per second: 5984.56"
      ]
     },
     "metadata": {},
     "output_type": "display_data"
    },
    {
     "data": {
      "text/html": [
       "<pre>recommendations finished on 384000/2088478 queries. users per second: 5986.63</pre>"
      ],
      "text/plain": [
       "recommendations finished on 384000/2088478 queries. users per second: 5986.63"
      ]
     },
     "metadata": {},
     "output_type": "display_data"
    },
    {
     "data": {
      "text/html": [
       "<pre>recommendations finished on 385000/2088478 queries. users per second: 5988.84</pre>"
      ],
      "text/plain": [
       "recommendations finished on 385000/2088478 queries. users per second: 5988.84"
      ]
     },
     "metadata": {},
     "output_type": "display_data"
    },
    {
     "data": {
      "text/html": [
       "<pre>recommendations finished on 386000/2088478 queries. users per second: 5990.6</pre>"
      ],
      "text/plain": [
       "recommendations finished on 386000/2088478 queries. users per second: 5990.6"
      ]
     },
     "metadata": {},
     "output_type": "display_data"
    },
    {
     "data": {
      "text/html": [
       "<pre>recommendations finished on 387000/2088478 queries. users per second: 5992.61</pre>"
      ],
      "text/plain": [
       "recommendations finished on 387000/2088478 queries. users per second: 5992.61"
      ]
     },
     "metadata": {},
     "output_type": "display_data"
    },
    {
     "data": {
      "text/html": [
       "<pre>recommendations finished on 388000/2088478 queries. users per second: 5993.84</pre>"
      ],
      "text/plain": [
       "recommendations finished on 388000/2088478 queries. users per second: 5993.84"
      ]
     },
     "metadata": {},
     "output_type": "display_data"
    },
    {
     "data": {
      "text/html": [
       "<pre>recommendations finished on 389000/2088478 queries. users per second: 5979.53</pre>"
      ],
      "text/plain": [
       "recommendations finished on 389000/2088478 queries. users per second: 5979.53"
      ]
     },
     "metadata": {},
     "output_type": "display_data"
    },
    {
     "data": {
      "text/html": [
       "<pre>recommendations finished on 390000/2088478 queries. users per second: 5977.69</pre>"
      ],
      "text/plain": [
       "recommendations finished on 390000/2088478 queries. users per second: 5977.69"
      ]
     },
     "metadata": {},
     "output_type": "display_data"
    },
    {
     "data": {
      "text/html": [
       "<pre>recommendations finished on 391000/2088478 queries. users per second: 5974.95</pre>"
      ],
      "text/plain": [
       "recommendations finished on 391000/2088478 queries. users per second: 5974.95"
      ]
     },
     "metadata": {},
     "output_type": "display_data"
    },
    {
     "data": {
      "text/html": [
       "<pre>recommendations finished on 392000/2088478 queries. users per second: 5972.87</pre>"
      ],
      "text/plain": [
       "recommendations finished on 392000/2088478 queries. users per second: 5972.87"
      ]
     },
     "metadata": {},
     "output_type": "display_data"
    },
    {
     "data": {
      "text/html": [
       "<pre>recommendations finished on 393000/2088478 queries. users per second: 5973.3</pre>"
      ],
      "text/plain": [
       "recommendations finished on 393000/2088478 queries. users per second: 5973.3"
      ]
     },
     "metadata": {},
     "output_type": "display_data"
    },
    {
     "data": {
      "text/html": [
       "<pre>recommendations finished on 394000/2088478 queries. users per second: 5975.23</pre>"
      ],
      "text/plain": [
       "recommendations finished on 394000/2088478 queries. users per second: 5975.23"
      ]
     },
     "metadata": {},
     "output_type": "display_data"
    },
    {
     "data": {
      "text/html": [
       "<pre>recommendations finished on 395000/2088478 queries. users per second: 5976.96</pre>"
      ],
      "text/plain": [
       "recommendations finished on 395000/2088478 queries. users per second: 5976.96"
      ]
     },
     "metadata": {},
     "output_type": "display_data"
    },
    {
     "data": {
      "text/html": [
       "<pre>recommendations finished on 396000/2088478 queries. users per second: 5976.86</pre>"
      ],
      "text/plain": [
       "recommendations finished on 396000/2088478 queries. users per second: 5976.86"
      ]
     },
     "metadata": {},
     "output_type": "display_data"
    },
    {
     "data": {
      "text/html": [
       "<pre>recommendations finished on 397000/2088478 queries. users per second: 5978.67</pre>"
      ],
      "text/plain": [
       "recommendations finished on 397000/2088478 queries. users per second: 5978.67"
      ]
     },
     "metadata": {},
     "output_type": "display_data"
    },
    {
     "data": {
      "text/html": [
       "<pre>recommendations finished on 398000/2088478 queries. users per second: 5977.61</pre>"
      ],
      "text/plain": [
       "recommendations finished on 398000/2088478 queries. users per second: 5977.61"
      ]
     },
     "metadata": {},
     "output_type": "display_data"
    },
    {
     "data": {
      "text/html": [
       "<pre>recommendations finished on 399000/2088478 queries. users per second: 5979.15</pre>"
      ],
      "text/plain": [
       "recommendations finished on 399000/2088478 queries. users per second: 5979.15"
      ]
     },
     "metadata": {},
     "output_type": "display_data"
    },
    {
     "data": {
      "text/html": [
       "<pre>recommendations finished on 400000/2088478 queries. users per second: 5980.67</pre>"
      ],
      "text/plain": [
       "recommendations finished on 400000/2088478 queries. users per second: 5980.67"
      ]
     },
     "metadata": {},
     "output_type": "display_data"
    },
    {
     "data": {
      "text/html": [
       "<pre>recommendations finished on 401000/2088478 queries. users per second: 5979.5</pre>"
      ],
      "text/plain": [
       "recommendations finished on 401000/2088478 queries. users per second: 5979.5"
      ]
     },
     "metadata": {},
     "output_type": "display_data"
    },
    {
     "data": {
      "text/html": [
       "<pre>recommendations finished on 402000/2088478 queries. users per second: 5979.03</pre>"
      ],
      "text/plain": [
       "recommendations finished on 402000/2088478 queries. users per second: 5979.03"
      ]
     },
     "metadata": {},
     "output_type": "display_data"
    },
    {
     "data": {
      "text/html": [
       "<pre>recommendations finished on 403000/2088478 queries. users per second: 5980.31</pre>"
      ],
      "text/plain": [
       "recommendations finished on 403000/2088478 queries. users per second: 5980.31"
      ]
     },
     "metadata": {},
     "output_type": "display_data"
    },
    {
     "data": {
      "text/html": [
       "<pre>recommendations finished on 404000/2088478 queries. users per second: 5979.62</pre>"
      ],
      "text/plain": [
       "recommendations finished on 404000/2088478 queries. users per second: 5979.62"
      ]
     },
     "metadata": {},
     "output_type": "display_data"
    },
    {
     "data": {
      "text/html": [
       "<pre>recommendations finished on 405000/2088478 queries. users per second: 5980.49</pre>"
      ],
      "text/plain": [
       "recommendations finished on 405000/2088478 queries. users per second: 5980.49"
      ]
     },
     "metadata": {},
     "output_type": "display_data"
    },
    {
     "data": {
      "text/html": [
       "<pre>recommendations finished on 406000/2088478 queries. users per second: 5981.69</pre>"
      ],
      "text/plain": [
       "recommendations finished on 406000/2088478 queries. users per second: 5981.69"
      ]
     },
     "metadata": {},
     "output_type": "display_data"
    },
    {
     "data": {
      "text/html": [
       "<pre>recommendations finished on 407000/2088478 queries. users per second: 5981.68</pre>"
      ],
      "text/plain": [
       "recommendations finished on 407000/2088478 queries. users per second: 5981.68"
      ]
     },
     "metadata": {},
     "output_type": "display_data"
    },
    {
     "data": {
      "text/html": [
       "<pre>recommendations finished on 408000/2088478 queries. users per second: 5982.61</pre>"
      ],
      "text/plain": [
       "recommendations finished on 408000/2088478 queries. users per second: 5982.61"
      ]
     },
     "metadata": {},
     "output_type": "display_data"
    },
    {
     "data": {
      "text/html": [
       "<pre>recommendations finished on 409000/2088478 queries. users per second: 5982.87</pre>"
      ],
      "text/plain": [
       "recommendations finished on 409000/2088478 queries. users per second: 5982.87"
      ]
     },
     "metadata": {},
     "output_type": "display_data"
    },
    {
     "data": {
      "text/html": [
       "<pre>recommendations finished on 410000/2088478 queries. users per second: 5983.66</pre>"
      ],
      "text/plain": [
       "recommendations finished on 410000/2088478 queries. users per second: 5983.66"
      ]
     },
     "metadata": {},
     "output_type": "display_data"
    },
    {
     "data": {
      "text/html": [
       "<pre>recommendations finished on 411000/2088478 queries. users per second: 5982.61</pre>"
      ],
      "text/plain": [
       "recommendations finished on 411000/2088478 queries. users per second: 5982.61"
      ]
     },
     "metadata": {},
     "output_type": "display_data"
    },
    {
     "data": {
      "text/html": [
       "<pre>recommendations finished on 412000/2088478 queries. users per second: 5984.23</pre>"
      ],
      "text/plain": [
       "recommendations finished on 412000/2088478 queries. users per second: 5984.23"
      ]
     },
     "metadata": {},
     "output_type": "display_data"
    },
    {
     "data": {
      "text/html": [
       "<pre>recommendations finished on 413000/2088478 queries. users per second: 5980.44</pre>"
      ],
      "text/plain": [
       "recommendations finished on 413000/2088478 queries. users per second: 5980.44"
      ]
     },
     "metadata": {},
     "output_type": "display_data"
    },
    {
     "data": {
      "text/html": [
       "<pre>recommendations finished on 414000/2088478 queries. users per second: 5979.96</pre>"
      ],
      "text/plain": [
       "recommendations finished on 414000/2088478 queries. users per second: 5979.96"
      ]
     },
     "metadata": {},
     "output_type": "display_data"
    },
    {
     "data": {
      "text/html": [
       "<pre>recommendations finished on 415000/2088478 queries. users per second: 5980.91</pre>"
      ],
      "text/plain": [
       "recommendations finished on 415000/2088478 queries. users per second: 5980.91"
      ]
     },
     "metadata": {},
     "output_type": "display_data"
    },
    {
     "data": {
      "text/html": [
       "<pre>recommendations finished on 416000/2088478 queries. users per second: 5980.88</pre>"
      ],
      "text/plain": [
       "recommendations finished on 416000/2088478 queries. users per second: 5980.88"
      ]
     },
     "metadata": {},
     "output_type": "display_data"
    },
    {
     "data": {
      "text/html": [
       "<pre>recommendations finished on 417000/2088478 queries. users per second: 5981.01</pre>"
      ],
      "text/plain": [
       "recommendations finished on 417000/2088478 queries. users per second: 5981.01"
      ]
     },
     "metadata": {},
     "output_type": "display_data"
    },
    {
     "data": {
      "text/html": [
       "<pre>recommendations finished on 418000/2088478 queries. users per second: 5982.27</pre>"
      ],
      "text/plain": [
       "recommendations finished on 418000/2088478 queries. users per second: 5982.27"
      ]
     },
     "metadata": {},
     "output_type": "display_data"
    },
    {
     "data": {
      "text/html": [
       "<pre>recommendations finished on 419000/2088478 queries. users per second: 5982.93</pre>"
      ],
      "text/plain": [
       "recommendations finished on 419000/2088478 queries. users per second: 5982.93"
      ]
     },
     "metadata": {},
     "output_type": "display_data"
    },
    {
     "data": {
      "text/html": [
       "<pre>recommendations finished on 420000/2088478 queries. users per second: 5982.37</pre>"
      ],
      "text/plain": [
       "recommendations finished on 420000/2088478 queries. users per second: 5982.37"
      ]
     },
     "metadata": {},
     "output_type": "display_data"
    },
    {
     "data": {
      "text/html": [
       "<pre>recommendations finished on 421000/2088478 queries. users per second: 5979.41</pre>"
      ],
      "text/plain": [
       "recommendations finished on 421000/2088478 queries. users per second: 5979.41"
      ]
     },
     "metadata": {},
     "output_type": "display_data"
    },
    {
     "data": {
      "text/html": [
       "<pre>recommendations finished on 422000/2088478 queries. users per second: 5978.49</pre>"
      ],
      "text/plain": [
       "recommendations finished on 422000/2088478 queries. users per second: 5978.49"
      ]
     },
     "metadata": {},
     "output_type": "display_data"
    },
    {
     "data": {
      "text/html": [
       "<pre>recommendations finished on 423000/2088478 queries. users per second: 5977.49</pre>"
      ],
      "text/plain": [
       "recommendations finished on 423000/2088478 queries. users per second: 5977.49"
      ]
     },
     "metadata": {},
     "output_type": "display_data"
    },
    {
     "data": {
      "text/html": [
       "<pre>recommendations finished on 424000/2088478 queries. users per second: 5975.48</pre>"
      ],
      "text/plain": [
       "recommendations finished on 424000/2088478 queries. users per second: 5975.48"
      ]
     },
     "metadata": {},
     "output_type": "display_data"
    },
    {
     "data": {
      "text/html": [
       "<pre>recommendations finished on 425000/2088478 queries. users per second: 5970.22</pre>"
      ],
      "text/plain": [
       "recommendations finished on 425000/2088478 queries. users per second: 5970.22"
      ]
     },
     "metadata": {},
     "output_type": "display_data"
    },
    {
     "data": {
      "text/html": [
       "<pre>recommendations finished on 426000/2088478 queries. users per second: 5967.94</pre>"
      ],
      "text/plain": [
       "recommendations finished on 426000/2088478 queries. users per second: 5967.94"
      ]
     },
     "metadata": {},
     "output_type": "display_data"
    },
    {
     "data": {
      "text/html": [
       "<pre>recommendations finished on 427000/2088478 queries. users per second: 5966.74</pre>"
      ],
      "text/plain": [
       "recommendations finished on 427000/2088478 queries. users per second: 5966.74"
      ]
     },
     "metadata": {},
     "output_type": "display_data"
    },
    {
     "data": {
      "text/html": [
       "<pre>recommendations finished on 428000/2088478 queries. users per second: 5963.35</pre>"
      ],
      "text/plain": [
       "recommendations finished on 428000/2088478 queries. users per second: 5963.35"
      ]
     },
     "metadata": {},
     "output_type": "display_data"
    },
    {
     "data": {
      "text/html": [
       "<pre>recommendations finished on 429000/2088478 queries. users per second: 5962.31</pre>"
      ],
      "text/plain": [
       "recommendations finished on 429000/2088478 queries. users per second: 5962.31"
      ]
     },
     "metadata": {},
     "output_type": "display_data"
    },
    {
     "data": {
      "text/html": [
       "<pre>recommendations finished on 430000/2088478 queries. users per second: 5960.45</pre>"
      ],
      "text/plain": [
       "recommendations finished on 430000/2088478 queries. users per second: 5960.45"
      ]
     },
     "metadata": {},
     "output_type": "display_data"
    },
    {
     "data": {
      "text/html": [
       "<pre>recommendations finished on 431000/2088478 queries. users per second: 5956.23</pre>"
      ],
      "text/plain": [
       "recommendations finished on 431000/2088478 queries. users per second: 5956.23"
      ]
     },
     "metadata": {},
     "output_type": "display_data"
    },
    {
     "data": {
      "text/html": [
       "<pre>recommendations finished on 432000/2088478 queries. users per second: 5953.93</pre>"
      ],
      "text/plain": [
       "recommendations finished on 432000/2088478 queries. users per second: 5953.93"
      ]
     },
     "metadata": {},
     "output_type": "display_data"
    },
    {
     "data": {
      "text/html": [
       "<pre>recommendations finished on 433000/2088478 queries. users per second: 5955.93</pre>"
      ],
      "text/plain": [
       "recommendations finished on 433000/2088478 queries. users per second: 5955.93"
      ]
     },
     "metadata": {},
     "output_type": "display_data"
    },
    {
     "data": {
      "text/html": [
       "<pre>recommendations finished on 434000/2088478 queries. users per second: 5957.77</pre>"
      ],
      "text/plain": [
       "recommendations finished on 434000/2088478 queries. users per second: 5957.77"
      ]
     },
     "metadata": {},
     "output_type": "display_data"
    },
    {
     "data": {
      "text/html": [
       "<pre>recommendations finished on 435000/2088478 queries. users per second: 5957.16</pre>"
      ],
      "text/plain": [
       "recommendations finished on 435000/2088478 queries. users per second: 5957.16"
      ]
     },
     "metadata": {},
     "output_type": "display_data"
    },
    {
     "data": {
      "text/html": [
       "<pre>recommendations finished on 436000/2088478 queries. users per second: 5952.93</pre>"
      ],
      "text/plain": [
       "recommendations finished on 436000/2088478 queries. users per second: 5952.93"
      ]
     },
     "metadata": {},
     "output_type": "display_data"
    },
    {
     "data": {
      "text/html": [
       "<pre>recommendations finished on 437000/2088478 queries. users per second: 5954.2</pre>"
      ],
      "text/plain": [
       "recommendations finished on 437000/2088478 queries. users per second: 5954.2"
      ]
     },
     "metadata": {},
     "output_type": "display_data"
    },
    {
     "data": {
      "text/html": [
       "<pre>recommendations finished on 438000/2088478 queries. users per second: 5952.99</pre>"
      ],
      "text/plain": [
       "recommendations finished on 438000/2088478 queries. users per second: 5952.99"
      ]
     },
     "metadata": {},
     "output_type": "display_data"
    },
    {
     "data": {
      "text/html": [
       "<pre>recommendations finished on 439000/2088478 queries. users per second: 5953.16</pre>"
      ],
      "text/plain": [
       "recommendations finished on 439000/2088478 queries. users per second: 5953.16"
      ]
     },
     "metadata": {},
     "output_type": "display_data"
    },
    {
     "data": {
      "text/html": [
       "<pre>recommendations finished on 440000/2088478 queries. users per second: 5953.19</pre>"
      ],
      "text/plain": [
       "recommendations finished on 440000/2088478 queries. users per second: 5953.19"
      ]
     },
     "metadata": {},
     "output_type": "display_data"
    },
    {
     "data": {
      "text/html": [
       "<pre>recommendations finished on 441000/2088478 queries. users per second: 5953.43</pre>"
      ],
      "text/plain": [
       "recommendations finished on 441000/2088478 queries. users per second: 5953.43"
      ]
     },
     "metadata": {},
     "output_type": "display_data"
    },
    {
     "data": {
      "text/html": [
       "<pre>recommendations finished on 442000/2088478 queries. users per second: 5951.67</pre>"
      ],
      "text/plain": [
       "recommendations finished on 442000/2088478 queries. users per second: 5951.67"
      ]
     },
     "metadata": {},
     "output_type": "display_data"
    },
    {
     "data": {
      "text/html": [
       "<pre>recommendations finished on 443000/2088478 queries. users per second: 5951.75</pre>"
      ],
      "text/plain": [
       "recommendations finished on 443000/2088478 queries. users per second: 5951.75"
      ]
     },
     "metadata": {},
     "output_type": "display_data"
    },
    {
     "data": {
      "text/html": [
       "<pre>recommendations finished on 444000/2088478 queries. users per second: 5951.17</pre>"
      ],
      "text/plain": [
       "recommendations finished on 444000/2088478 queries. users per second: 5951.17"
      ]
     },
     "metadata": {},
     "output_type": "display_data"
    },
    {
     "data": {
      "text/html": [
       "<pre>recommendations finished on 445000/2088478 queries. users per second: 5946.62</pre>"
      ],
      "text/plain": [
       "recommendations finished on 445000/2088478 queries. users per second: 5946.62"
      ]
     },
     "metadata": {},
     "output_type": "display_data"
    },
    {
     "data": {
      "text/html": [
       "<pre>recommendations finished on 446000/2088478 queries. users per second: 5946.66</pre>"
      ],
      "text/plain": [
       "recommendations finished on 446000/2088478 queries. users per second: 5946.66"
      ]
     },
     "metadata": {},
     "output_type": "display_data"
    },
    {
     "data": {
      "text/html": [
       "<pre>recommendations finished on 447000/2088478 queries. users per second: 5944.31</pre>"
      ],
      "text/plain": [
       "recommendations finished on 447000/2088478 queries. users per second: 5944.31"
      ]
     },
     "metadata": {},
     "output_type": "display_data"
    },
    {
     "data": {
      "text/html": [
       "<pre>recommendations finished on 448000/2088478 queries. users per second: 5939.62</pre>"
      ],
      "text/plain": [
       "recommendations finished on 448000/2088478 queries. users per second: 5939.62"
      ]
     },
     "metadata": {},
     "output_type": "display_data"
    },
    {
     "data": {
      "text/html": [
       "<pre>recommendations finished on 449000/2088478 queries. users per second: 5931.25</pre>"
      ],
      "text/plain": [
       "recommendations finished on 449000/2088478 queries. users per second: 5931.25"
      ]
     },
     "metadata": {},
     "output_type": "display_data"
    },
    {
     "data": {
      "text/html": [
       "<pre>recommendations finished on 450000/2088478 queries. users per second: 5930.92</pre>"
      ],
      "text/plain": [
       "recommendations finished on 450000/2088478 queries. users per second: 5930.92"
      ]
     },
     "metadata": {},
     "output_type": "display_data"
    },
    {
     "data": {
      "text/html": [
       "<pre>recommendations finished on 451000/2088478 queries. users per second: 5930.64</pre>"
      ],
      "text/plain": [
       "recommendations finished on 451000/2088478 queries. users per second: 5930.64"
      ]
     },
     "metadata": {},
     "output_type": "display_data"
    },
    {
     "data": {
      "text/html": [
       "<pre>recommendations finished on 452000/2088478 queries. users per second: 5927.53</pre>"
      ],
      "text/plain": [
       "recommendations finished on 452000/2088478 queries. users per second: 5927.53"
      ]
     },
     "metadata": {},
     "output_type": "display_data"
    },
    {
     "data": {
      "text/html": [
       "<pre>recommendations finished on 453000/2088478 queries. users per second: 5928.33</pre>"
      ],
      "text/plain": [
       "recommendations finished on 453000/2088478 queries. users per second: 5928.33"
      ]
     },
     "metadata": {},
     "output_type": "display_data"
    },
    {
     "data": {
      "text/html": [
       "<pre>recommendations finished on 454000/2088478 queries. users per second: 5929.19</pre>"
      ],
      "text/plain": [
       "recommendations finished on 454000/2088478 queries. users per second: 5929.19"
      ]
     },
     "metadata": {},
     "output_type": "display_data"
    },
    {
     "data": {
      "text/html": [
       "<pre>recommendations finished on 455000/2088478 queries. users per second: 5927.03</pre>"
      ],
      "text/plain": [
       "recommendations finished on 455000/2088478 queries. users per second: 5927.03"
      ]
     },
     "metadata": {},
     "output_type": "display_data"
    },
    {
     "data": {
      "text/html": [
       "<pre>recommendations finished on 456000/2088478 queries. users per second: 5926.48</pre>"
      ],
      "text/plain": [
       "recommendations finished on 456000/2088478 queries. users per second: 5926.48"
      ]
     },
     "metadata": {},
     "output_type": "display_data"
    },
    {
     "data": {
      "text/html": [
       "<pre>recommendations finished on 457000/2088478 queries. users per second: 5921.04</pre>"
      ],
      "text/plain": [
       "recommendations finished on 457000/2088478 queries. users per second: 5921.04"
      ]
     },
     "metadata": {},
     "output_type": "display_data"
    },
    {
     "data": {
      "text/html": [
       "<pre>recommendations finished on 458000/2088478 queries. users per second: 5921.35</pre>"
      ],
      "text/plain": [
       "recommendations finished on 458000/2088478 queries. users per second: 5921.35"
      ]
     },
     "metadata": {},
     "output_type": "display_data"
    },
    {
     "data": {
      "text/html": [
       "<pre>recommendations finished on 459000/2088478 queries. users per second: 5918.6</pre>"
      ],
      "text/plain": [
       "recommendations finished on 459000/2088478 queries. users per second: 5918.6"
      ]
     },
     "metadata": {},
     "output_type": "display_data"
    },
    {
     "data": {
      "text/html": [
       "<pre>recommendations finished on 460000/2088478 queries. users per second: 5915.28</pre>"
      ],
      "text/plain": [
       "recommendations finished on 460000/2088478 queries. users per second: 5915.28"
      ]
     },
     "metadata": {},
     "output_type": "display_data"
    },
    {
     "data": {
      "text/html": [
       "<pre>recommendations finished on 461000/2088478 queries. users per second: 5910.98</pre>"
      ],
      "text/plain": [
       "recommendations finished on 461000/2088478 queries. users per second: 5910.98"
      ]
     },
     "metadata": {},
     "output_type": "display_data"
    },
    {
     "data": {
      "text/html": [
       "<pre>recommendations finished on 462000/2088478 queries. users per second: 5911.06</pre>"
      ],
      "text/plain": [
       "recommendations finished on 462000/2088478 queries. users per second: 5911.06"
      ]
     },
     "metadata": {},
     "output_type": "display_data"
    },
    {
     "data": {
      "text/html": [
       "<pre>recommendations finished on 463000/2088478 queries. users per second: 5912.28</pre>"
      ],
      "text/plain": [
       "recommendations finished on 463000/2088478 queries. users per second: 5912.28"
      ]
     },
     "metadata": {},
     "output_type": "display_data"
    },
    {
     "data": {
      "text/html": [
       "<pre>recommendations finished on 464000/2088478 queries. users per second: 5912.95</pre>"
      ],
      "text/plain": [
       "recommendations finished on 464000/2088478 queries. users per second: 5912.95"
      ]
     },
     "metadata": {},
     "output_type": "display_data"
    },
    {
     "data": {
      "text/html": [
       "<pre>recommendations finished on 465000/2088478 queries. users per second: 5910.28</pre>"
      ],
      "text/plain": [
       "recommendations finished on 465000/2088478 queries. users per second: 5910.28"
      ]
     },
     "metadata": {},
     "output_type": "display_data"
    },
    {
     "data": {
      "text/html": [
       "<pre>recommendations finished on 466000/2088478 queries. users per second: 5911.32</pre>"
      ],
      "text/plain": [
       "recommendations finished on 466000/2088478 queries. users per second: 5911.32"
      ]
     },
     "metadata": {},
     "output_type": "display_data"
    },
    {
     "data": {
      "text/html": [
       "<pre>recommendations finished on 467000/2088478 queries. users per second: 5913.02</pre>"
      ],
      "text/plain": [
       "recommendations finished on 467000/2088478 queries. users per second: 5913.02"
      ]
     },
     "metadata": {},
     "output_type": "display_data"
    },
    {
     "data": {
      "text/html": [
       "<pre>recommendations finished on 468000/2088478 queries. users per second: 5914.27</pre>"
      ],
      "text/plain": [
       "recommendations finished on 468000/2088478 queries. users per second: 5914.27"
      ]
     },
     "metadata": {},
     "output_type": "display_data"
    },
    {
     "data": {
      "text/html": [
       "<pre>recommendations finished on 469000/2088478 queries. users per second: 5910.71</pre>"
      ],
      "text/plain": [
       "recommendations finished on 469000/2088478 queries. users per second: 5910.71"
      ]
     },
     "metadata": {},
     "output_type": "display_data"
    },
    {
     "data": {
      "text/html": [
       "<pre>recommendations finished on 470000/2088478 queries. users per second: 5909.88</pre>"
      ],
      "text/plain": [
       "recommendations finished on 470000/2088478 queries. users per second: 5909.88"
      ]
     },
     "metadata": {},
     "output_type": "display_data"
    },
    {
     "data": {
      "text/html": [
       "<pre>recommendations finished on 471000/2088478 queries. users per second: 5909.13</pre>"
      ],
      "text/plain": [
       "recommendations finished on 471000/2088478 queries. users per second: 5909.13"
      ]
     },
     "metadata": {},
     "output_type": "display_data"
    },
    {
     "data": {
      "text/html": [
       "<pre>recommendations finished on 472000/2088478 queries. users per second: 5907.87</pre>"
      ],
      "text/plain": [
       "recommendations finished on 472000/2088478 queries. users per second: 5907.87"
      ]
     },
     "metadata": {},
     "output_type": "display_data"
    },
    {
     "data": {
      "text/html": [
       "<pre>recommendations finished on 473000/2088478 queries. users per second: 5902.2</pre>"
      ],
      "text/plain": [
       "recommendations finished on 473000/2088478 queries. users per second: 5902.2"
      ]
     },
     "metadata": {},
     "output_type": "display_data"
    },
    {
     "data": {
      "text/html": [
       "<pre>recommendations finished on 474000/2088478 queries. users per second: 5902.74</pre>"
      ],
      "text/plain": [
       "recommendations finished on 474000/2088478 queries. users per second: 5902.74"
      ]
     },
     "metadata": {},
     "output_type": "display_data"
    },
    {
     "data": {
      "text/html": [
       "<pre>recommendations finished on 475000/2088478 queries. users per second: 5896.13</pre>"
      ],
      "text/plain": [
       "recommendations finished on 475000/2088478 queries. users per second: 5896.13"
      ]
     },
     "metadata": {},
     "output_type": "display_data"
    },
    {
     "data": {
      "text/html": [
       "<pre>recommendations finished on 476000/2088478 queries. users per second: 5892.86</pre>"
      ],
      "text/plain": [
       "recommendations finished on 476000/2088478 queries. users per second: 5892.86"
      ]
     },
     "metadata": {},
     "output_type": "display_data"
    },
    {
     "data": {
      "text/html": [
       "<pre>recommendations finished on 477000/2088478 queries. users per second: 5892.17</pre>"
      ],
      "text/plain": [
       "recommendations finished on 477000/2088478 queries. users per second: 5892.17"
      ]
     },
     "metadata": {},
     "output_type": "display_data"
    },
    {
     "data": {
      "text/html": [
       "<pre>recommendations finished on 478000/2088478 queries. users per second: 5892.23</pre>"
      ],
      "text/plain": [
       "recommendations finished on 478000/2088478 queries. users per second: 5892.23"
      ]
     },
     "metadata": {},
     "output_type": "display_data"
    },
    {
     "data": {
      "text/html": [
       "<pre>recommendations finished on 479000/2088478 queries. users per second: 5893.39</pre>"
      ],
      "text/plain": [
       "recommendations finished on 479000/2088478 queries. users per second: 5893.39"
      ]
     },
     "metadata": {},
     "output_type": "display_data"
    },
    {
     "data": {
      "text/html": [
       "<pre>recommendations finished on 480000/2088478 queries. users per second: 5894.19</pre>"
      ],
      "text/plain": [
       "recommendations finished on 480000/2088478 queries. users per second: 5894.19"
      ]
     },
     "metadata": {},
     "output_type": "display_data"
    },
    {
     "data": {
      "text/html": [
       "<pre>recommendations finished on 481000/2088478 queries. users per second: 5896.3</pre>"
      ],
      "text/plain": [
       "recommendations finished on 481000/2088478 queries. users per second: 5896.3"
      ]
     },
     "metadata": {},
     "output_type": "display_data"
    },
    {
     "data": {
      "text/html": [
       "<pre>recommendations finished on 482000/2088478 queries. users per second: 5896.6</pre>"
      ],
      "text/plain": [
       "recommendations finished on 482000/2088478 queries. users per second: 5896.6"
      ]
     },
     "metadata": {},
     "output_type": "display_data"
    },
    {
     "data": {
      "text/html": [
       "<pre>recommendations finished on 483000/2088478 queries. users per second: 5898.14</pre>"
      ],
      "text/plain": [
       "recommendations finished on 483000/2088478 queries. users per second: 5898.14"
      ]
     },
     "metadata": {},
     "output_type": "display_data"
    },
    {
     "data": {
      "text/html": [
       "<pre>recommendations finished on 484000/2088478 queries. users per second: 5900.23</pre>"
      ],
      "text/plain": [
       "recommendations finished on 484000/2088478 queries. users per second: 5900.23"
      ]
     },
     "metadata": {},
     "output_type": "display_data"
    },
    {
     "data": {
      "text/html": [
       "<pre>recommendations finished on 485000/2088478 queries. users per second: 5900.81</pre>"
      ],
      "text/plain": [
       "recommendations finished on 485000/2088478 queries. users per second: 5900.81"
      ]
     },
     "metadata": {},
     "output_type": "display_data"
    },
    {
     "data": {
      "text/html": [
       "<pre>recommendations finished on 486000/2088478 queries. users per second: 5901.57</pre>"
      ],
      "text/plain": [
       "recommendations finished on 486000/2088478 queries. users per second: 5901.57"
      ]
     },
     "metadata": {},
     "output_type": "display_data"
    },
    {
     "data": {
      "text/html": [
       "<pre>recommendations finished on 487000/2088478 queries. users per second: 5903.01</pre>"
      ],
      "text/plain": [
       "recommendations finished on 487000/2088478 queries. users per second: 5903.01"
      ]
     },
     "metadata": {},
     "output_type": "display_data"
    },
    {
     "data": {
      "text/html": [
       "<pre>recommendations finished on 488000/2088478 queries. users per second: 5905.39</pre>"
      ],
      "text/plain": [
       "recommendations finished on 488000/2088478 queries. users per second: 5905.39"
      ]
     },
     "metadata": {},
     "output_type": "display_data"
    },
    {
     "data": {
      "text/html": [
       "<pre>recommendations finished on 489000/2088478 queries. users per second: 5907.64</pre>"
      ],
      "text/plain": [
       "recommendations finished on 489000/2088478 queries. users per second: 5907.64"
      ]
     },
     "metadata": {},
     "output_type": "display_data"
    },
    {
     "data": {
      "text/html": [
       "<pre>recommendations finished on 490000/2088478 queries. users per second: 5910.2</pre>"
      ],
      "text/plain": [
       "recommendations finished on 490000/2088478 queries. users per second: 5910.2"
      ]
     },
     "metadata": {},
     "output_type": "display_data"
    },
    {
     "data": {
      "text/html": [
       "<pre>recommendations finished on 491000/2088478 queries. users per second: 5912.62</pre>"
      ],
      "text/plain": [
       "recommendations finished on 491000/2088478 queries. users per second: 5912.62"
      ]
     },
     "metadata": {},
     "output_type": "display_data"
    },
    {
     "data": {
      "text/html": [
       "<pre>recommendations finished on 492000/2088478 queries. users per second: 5914.7</pre>"
      ],
      "text/plain": [
       "recommendations finished on 492000/2088478 queries. users per second: 5914.7"
      ]
     },
     "metadata": {},
     "output_type": "display_data"
    },
    {
     "data": {
      "text/html": [
       "<pre>recommendations finished on 493000/2088478 queries. users per second: 5916.55</pre>"
      ],
      "text/plain": [
       "recommendations finished on 493000/2088478 queries. users per second: 5916.55"
      ]
     },
     "metadata": {},
     "output_type": "display_data"
    },
    {
     "data": {
      "text/html": [
       "<pre>recommendations finished on 494000/2088478 queries. users per second: 5912.26</pre>"
      ],
      "text/plain": [
       "recommendations finished on 494000/2088478 queries. users per second: 5912.26"
      ]
     },
     "metadata": {},
     "output_type": "display_data"
    },
    {
     "data": {
      "text/html": [
       "<pre>recommendations finished on 495000/2088478 queries. users per second: 5913.41</pre>"
      ],
      "text/plain": [
       "recommendations finished on 495000/2088478 queries. users per second: 5913.41"
      ]
     },
     "metadata": {},
     "output_type": "display_data"
    },
    {
     "data": {
      "text/html": [
       "<pre>recommendations finished on 496000/2088478 queries. users per second: 5915.21</pre>"
      ],
      "text/plain": [
       "recommendations finished on 496000/2088478 queries. users per second: 5915.21"
      ]
     },
     "metadata": {},
     "output_type": "display_data"
    },
    {
     "data": {
      "text/html": [
       "<pre>recommendations finished on 497000/2088478 queries. users per second: 5911.75</pre>"
      ],
      "text/plain": [
       "recommendations finished on 497000/2088478 queries. users per second: 5911.75"
      ]
     },
     "metadata": {},
     "output_type": "display_data"
    },
    {
     "data": {
      "text/html": [
       "<pre>recommendations finished on 498000/2088478 queries. users per second: 5911.57</pre>"
      ],
      "text/plain": [
       "recommendations finished on 498000/2088478 queries. users per second: 5911.57"
      ]
     },
     "metadata": {},
     "output_type": "display_data"
    },
    {
     "data": {
      "text/html": [
       "<pre>recommendations finished on 499000/2088478 queries. users per second: 5913.29</pre>"
      ],
      "text/plain": [
       "recommendations finished on 499000/2088478 queries. users per second: 5913.29"
      ]
     },
     "metadata": {},
     "output_type": "display_data"
    },
    {
     "data": {
      "text/html": [
       "<pre>recommendations finished on 500000/2088478 queries. users per second: 5915.18</pre>"
      ],
      "text/plain": [
       "recommendations finished on 500000/2088478 queries. users per second: 5915.18"
      ]
     },
     "metadata": {},
     "output_type": "display_data"
    },
    {
     "data": {
      "text/html": [
       "<pre>recommendations finished on 501000/2088478 queries. users per second: 5917.12</pre>"
      ],
      "text/plain": [
       "recommendations finished on 501000/2088478 queries. users per second: 5917.12"
      ]
     },
     "metadata": {},
     "output_type": "display_data"
    },
    {
     "data": {
      "text/html": [
       "<pre>recommendations finished on 502000/2088478 queries. users per second: 5918.43</pre>"
      ],
      "text/plain": [
       "recommendations finished on 502000/2088478 queries. users per second: 5918.43"
      ]
     },
     "metadata": {},
     "output_type": "display_data"
    },
    {
     "data": {
      "text/html": [
       "<pre>recommendations finished on 503000/2088478 queries. users per second: 5918.58</pre>"
      ],
      "text/plain": [
       "recommendations finished on 503000/2088478 queries. users per second: 5918.58"
      ]
     },
     "metadata": {},
     "output_type": "display_data"
    },
    {
     "data": {
      "text/html": [
       "<pre>recommendations finished on 504000/2088478 queries. users per second: 5916.11</pre>"
      ],
      "text/plain": [
       "recommendations finished on 504000/2088478 queries. users per second: 5916.11"
      ]
     },
     "metadata": {},
     "output_type": "display_data"
    },
    {
     "data": {
      "text/html": [
       "<pre>recommendations finished on 505000/2088478 queries. users per second: 5915.83</pre>"
      ],
      "text/plain": [
       "recommendations finished on 505000/2088478 queries. users per second: 5915.83"
      ]
     },
     "metadata": {},
     "output_type": "display_data"
    },
    {
     "data": {
      "text/html": [
       "<pre>recommendations finished on 506000/2088478 queries. users per second: 5913.83</pre>"
      ],
      "text/plain": [
       "recommendations finished on 506000/2088478 queries. users per second: 5913.83"
      ]
     },
     "metadata": {},
     "output_type": "display_data"
    },
    {
     "data": {
      "text/html": [
       "<pre>recommendations finished on 507000/2088478 queries. users per second: 5911.87</pre>"
      ],
      "text/plain": [
       "recommendations finished on 507000/2088478 queries. users per second: 5911.87"
      ]
     },
     "metadata": {},
     "output_type": "display_data"
    },
    {
     "data": {
      "text/html": [
       "<pre>recommendations finished on 508000/2088478 queries. users per second: 5911.09</pre>"
      ],
      "text/plain": [
       "recommendations finished on 508000/2088478 queries. users per second: 5911.09"
      ]
     },
     "metadata": {},
     "output_type": "display_data"
    },
    {
     "data": {
      "text/html": [
       "<pre>recommendations finished on 509000/2088478 queries. users per second: 5910.71</pre>"
      ],
      "text/plain": [
       "recommendations finished on 509000/2088478 queries. users per second: 5910.71"
      ]
     },
     "metadata": {},
     "output_type": "display_data"
    },
    {
     "data": {
      "text/html": [
       "<pre>recommendations finished on 510000/2088478 queries. users per second: 5911.3</pre>"
      ],
      "text/plain": [
       "recommendations finished on 510000/2088478 queries. users per second: 5911.3"
      ]
     },
     "metadata": {},
     "output_type": "display_data"
    },
    {
     "data": {
      "text/html": [
       "<pre>recommendations finished on 511000/2088478 queries. users per second: 5911.35</pre>"
      ],
      "text/plain": [
       "recommendations finished on 511000/2088478 queries. users per second: 5911.35"
      ]
     },
     "metadata": {},
     "output_type": "display_data"
    },
    {
     "data": {
      "text/html": [
       "<pre>recommendations finished on 512000/2088478 queries. users per second: 5913.25</pre>"
      ],
      "text/plain": [
       "recommendations finished on 512000/2088478 queries. users per second: 5913.25"
      ]
     },
     "metadata": {},
     "output_type": "display_data"
    },
    {
     "data": {
      "text/html": [
       "<pre>recommendations finished on 513000/2088478 queries. users per second: 5914.55</pre>"
      ],
      "text/plain": [
       "recommendations finished on 513000/2088478 queries. users per second: 5914.55"
      ]
     },
     "metadata": {},
     "output_type": "display_data"
    },
    {
     "data": {
      "text/html": [
       "<pre>recommendations finished on 514000/2088478 queries. users per second: 5916.6</pre>"
      ],
      "text/plain": [
       "recommendations finished on 514000/2088478 queries. users per second: 5916.6"
      ]
     },
     "metadata": {},
     "output_type": "display_data"
    },
    {
     "data": {
      "text/html": [
       "<pre>recommendations finished on 515000/2088478 queries. users per second: 5916.46</pre>"
      ],
      "text/plain": [
       "recommendations finished on 515000/2088478 queries. users per second: 5916.46"
      ]
     },
     "metadata": {},
     "output_type": "display_data"
    },
    {
     "data": {
      "text/html": [
       "<pre>recommendations finished on 516000/2088478 queries. users per second: 5916.04</pre>"
      ],
      "text/plain": [
       "recommendations finished on 516000/2088478 queries. users per second: 5916.04"
      ]
     },
     "metadata": {},
     "output_type": "display_data"
    },
    {
     "data": {
      "text/html": [
       "<pre>recommendations finished on 517000/2088478 queries. users per second: 5918.25</pre>"
      ],
      "text/plain": [
       "recommendations finished on 517000/2088478 queries. users per second: 5918.25"
      ]
     },
     "metadata": {},
     "output_type": "display_data"
    },
    {
     "data": {
      "text/html": [
       "<pre>recommendations finished on 518000/2088478 queries. users per second: 5918.35</pre>"
      ],
      "text/plain": [
       "recommendations finished on 518000/2088478 queries. users per second: 5918.35"
      ]
     },
     "metadata": {},
     "output_type": "display_data"
    },
    {
     "data": {
      "text/html": [
       "<pre>recommendations finished on 519000/2088478 queries. users per second: 5919.31</pre>"
      ],
      "text/plain": [
       "recommendations finished on 519000/2088478 queries. users per second: 5919.31"
      ]
     },
     "metadata": {},
     "output_type": "display_data"
    },
    {
     "data": {
      "text/html": [
       "<pre>recommendations finished on 520000/2088478 queries. users per second: 5918.91</pre>"
      ],
      "text/plain": [
       "recommendations finished on 520000/2088478 queries. users per second: 5918.91"
      ]
     },
     "metadata": {},
     "output_type": "display_data"
    },
    {
     "data": {
      "text/html": [
       "<pre>recommendations finished on 521000/2088478 queries. users per second: 5919.89</pre>"
      ],
      "text/plain": [
       "recommendations finished on 521000/2088478 queries. users per second: 5919.89"
      ]
     },
     "metadata": {},
     "output_type": "display_data"
    },
    {
     "data": {
      "text/html": [
       "<pre>recommendations finished on 522000/2088478 queries. users per second: 5920.77</pre>"
      ],
      "text/plain": [
       "recommendations finished on 522000/2088478 queries. users per second: 5920.77"
      ]
     },
     "metadata": {},
     "output_type": "display_data"
    },
    {
     "data": {
      "text/html": [
       "<pre>recommendations finished on 523000/2088478 queries. users per second: 5918.87</pre>"
      ],
      "text/plain": [
       "recommendations finished on 523000/2088478 queries. users per second: 5918.87"
      ]
     },
     "metadata": {},
     "output_type": "display_data"
    },
    {
     "data": {
      "text/html": [
       "<pre>recommendations finished on 524000/2088478 queries. users per second: 5917.07</pre>"
      ],
      "text/plain": [
       "recommendations finished on 524000/2088478 queries. users per second: 5917.07"
      ]
     },
     "metadata": {},
     "output_type": "display_data"
    },
    {
     "data": {
      "text/html": [
       "<pre>recommendations finished on 525000/2088478 queries. users per second: 5918.34</pre>"
      ],
      "text/plain": [
       "recommendations finished on 525000/2088478 queries. users per second: 5918.34"
      ]
     },
     "metadata": {},
     "output_type": "display_data"
    },
    {
     "data": {
      "text/html": [
       "<pre>recommendations finished on 526000/2088478 queries. users per second: 5920.19</pre>"
      ],
      "text/plain": [
       "recommendations finished on 526000/2088478 queries. users per second: 5920.19"
      ]
     },
     "metadata": {},
     "output_type": "display_data"
    },
    {
     "data": {
      "text/html": [
       "<pre>recommendations finished on 527000/2088478 queries. users per second: 5922.11</pre>"
      ],
      "text/plain": [
       "recommendations finished on 527000/2088478 queries. users per second: 5922.11"
      ]
     },
     "metadata": {},
     "output_type": "display_data"
    },
    {
     "data": {
      "text/html": [
       "<pre>recommendations finished on 528000/2088478 queries. users per second: 5924.03</pre>"
      ],
      "text/plain": [
       "recommendations finished on 528000/2088478 queries. users per second: 5924.03"
      ]
     },
     "metadata": {},
     "output_type": "display_data"
    },
    {
     "data": {
      "text/html": [
       "<pre>recommendations finished on 529000/2088478 queries. users per second: 5926.22</pre>"
      ],
      "text/plain": [
       "recommendations finished on 529000/2088478 queries. users per second: 5926.22"
      ]
     },
     "metadata": {},
     "output_type": "display_data"
    },
    {
     "data": {
      "text/html": [
       "<pre>recommendations finished on 530000/2088478 queries. users per second: 5928.34</pre>"
      ],
      "text/plain": [
       "recommendations finished on 530000/2088478 queries. users per second: 5928.34"
      ]
     },
     "metadata": {},
     "output_type": "display_data"
    },
    {
     "data": {
      "text/html": [
       "<pre>recommendations finished on 531000/2088478 queries. users per second: 5930.02</pre>"
      ],
      "text/plain": [
       "recommendations finished on 531000/2088478 queries. users per second: 5930.02"
      ]
     },
     "metadata": {},
     "output_type": "display_data"
    },
    {
     "data": {
      "text/html": [
       "<pre>recommendations finished on 532000/2088478 queries. users per second: 5931.28</pre>"
      ],
      "text/plain": [
       "recommendations finished on 532000/2088478 queries. users per second: 5931.28"
      ]
     },
     "metadata": {},
     "output_type": "display_data"
    },
    {
     "data": {
      "text/html": [
       "<pre>recommendations finished on 533000/2088478 queries. users per second: 5931.56</pre>"
      ],
      "text/plain": [
       "recommendations finished on 533000/2088478 queries. users per second: 5931.56"
      ]
     },
     "metadata": {},
     "output_type": "display_data"
    },
    {
     "data": {
      "text/html": [
       "<pre>recommendations finished on 534000/2088478 queries. users per second: 5933.57</pre>"
      ],
      "text/plain": [
       "recommendations finished on 534000/2088478 queries. users per second: 5933.57"
      ]
     },
     "metadata": {},
     "output_type": "display_data"
    },
    {
     "data": {
      "text/html": [
       "<pre>recommendations finished on 535000/2088478 queries. users per second: 5935.04</pre>"
      ],
      "text/plain": [
       "recommendations finished on 535000/2088478 queries. users per second: 5935.04"
      ]
     },
     "metadata": {},
     "output_type": "display_data"
    },
    {
     "data": {
      "text/html": [
       "<pre>recommendations finished on 536000/2088478 queries. users per second: 5935.48</pre>"
      ],
      "text/plain": [
       "recommendations finished on 536000/2088478 queries. users per second: 5935.48"
      ]
     },
     "metadata": {},
     "output_type": "display_data"
    },
    {
     "data": {
      "text/html": [
       "<pre>recommendations finished on 537000/2088478 queries. users per second: 5937.02</pre>"
      ],
      "text/plain": [
       "recommendations finished on 537000/2088478 queries. users per second: 5937.02"
      ]
     },
     "metadata": {},
     "output_type": "display_data"
    },
    {
     "data": {
      "text/html": [
       "<pre>recommendations finished on 538000/2088478 queries. users per second: 5938.92</pre>"
      ],
      "text/plain": [
       "recommendations finished on 538000/2088478 queries. users per second: 5938.92"
      ]
     },
     "metadata": {},
     "output_type": "display_data"
    },
    {
     "data": {
      "text/html": [
       "<pre>recommendations finished on 539000/2088478 queries. users per second: 5937.16</pre>"
      ],
      "text/plain": [
       "recommendations finished on 539000/2088478 queries. users per second: 5937.16"
      ]
     },
     "metadata": {},
     "output_type": "display_data"
    },
    {
     "data": {
      "text/html": [
       "<pre>recommendations finished on 540000/2088478 queries. users per second: 5937.55</pre>"
      ],
      "text/plain": [
       "recommendations finished on 540000/2088478 queries. users per second: 5937.55"
      ]
     },
     "metadata": {},
     "output_type": "display_data"
    },
    {
     "data": {
      "text/html": [
       "<pre>recommendations finished on 541000/2088478 queries. users per second: 5939.18</pre>"
      ],
      "text/plain": [
       "recommendations finished on 541000/2088478 queries. users per second: 5939.18"
      ]
     },
     "metadata": {},
     "output_type": "display_data"
    },
    {
     "data": {
      "text/html": [
       "<pre>recommendations finished on 542000/2088478 queries. users per second: 5941.2</pre>"
      ],
      "text/plain": [
       "recommendations finished on 542000/2088478 queries. users per second: 5941.2"
      ]
     },
     "metadata": {},
     "output_type": "display_data"
    },
    {
     "data": {
      "text/html": [
       "<pre>recommendations finished on 543000/2088478 queries. users per second: 5940.6</pre>"
      ],
      "text/plain": [
       "recommendations finished on 543000/2088478 queries. users per second: 5940.6"
      ]
     },
     "metadata": {},
     "output_type": "display_data"
    },
    {
     "data": {
      "text/html": [
       "<pre>recommendations finished on 544000/2088478 queries. users per second: 5938.46</pre>"
      ],
      "text/plain": [
       "recommendations finished on 544000/2088478 queries. users per second: 5938.46"
      ]
     },
     "metadata": {},
     "output_type": "display_data"
    },
    {
     "data": {
      "text/html": [
       "<pre>recommendations finished on 545000/2088478 queries. users per second: 5937.41</pre>"
      ],
      "text/plain": [
       "recommendations finished on 545000/2088478 queries. users per second: 5937.41"
      ]
     },
     "metadata": {},
     "output_type": "display_data"
    },
    {
     "data": {
      "text/html": [
       "<pre>recommendations finished on 546000/2088478 queries. users per second: 5938.07</pre>"
      ],
      "text/plain": [
       "recommendations finished on 546000/2088478 queries. users per second: 5938.07"
      ]
     },
     "metadata": {},
     "output_type": "display_data"
    },
    {
     "data": {
      "text/html": [
       "<pre>recommendations finished on 547000/2088478 queries. users per second: 5939.37</pre>"
      ],
      "text/plain": [
       "recommendations finished on 547000/2088478 queries. users per second: 5939.37"
      ]
     },
     "metadata": {},
     "output_type": "display_data"
    },
    {
     "data": {
      "text/html": [
       "<pre>recommendations finished on 548000/2088478 queries. users per second: 5940.82</pre>"
      ],
      "text/plain": [
       "recommendations finished on 548000/2088478 queries. users per second: 5940.82"
      ]
     },
     "metadata": {},
     "output_type": "display_data"
    },
    {
     "data": {
      "text/html": [
       "<pre>recommendations finished on 549000/2088478 queries. users per second: 5942.68</pre>"
      ],
      "text/plain": [
       "recommendations finished on 549000/2088478 queries. users per second: 5942.68"
      ]
     },
     "metadata": {},
     "output_type": "display_data"
    },
    {
     "data": {
      "text/html": [
       "<pre>recommendations finished on 550000/2088478 queries. users per second: 5944.05</pre>"
      ],
      "text/plain": [
       "recommendations finished on 550000/2088478 queries. users per second: 5944.05"
      ]
     },
     "metadata": {},
     "output_type": "display_data"
    },
    {
     "data": {
      "text/html": [
       "<pre>recommendations finished on 551000/2088478 queries. users per second: 5946.24</pre>"
      ],
      "text/plain": [
       "recommendations finished on 551000/2088478 queries. users per second: 5946.24"
      ]
     },
     "metadata": {},
     "output_type": "display_data"
    },
    {
     "data": {
      "text/html": [
       "<pre>recommendations finished on 552000/2088478 queries. users per second: 5948.07</pre>"
      ],
      "text/plain": [
       "recommendations finished on 552000/2088478 queries. users per second: 5948.07"
      ]
     },
     "metadata": {},
     "output_type": "display_data"
    },
    {
     "data": {
      "text/html": [
       "<pre>recommendations finished on 553000/2088478 queries. users per second: 5948.95</pre>"
      ],
      "text/plain": [
       "recommendations finished on 553000/2088478 queries. users per second: 5948.95"
      ]
     },
     "metadata": {},
     "output_type": "display_data"
    },
    {
     "data": {
      "text/html": [
       "<pre>recommendations finished on 554000/2088478 queries. users per second: 5949.14</pre>"
      ],
      "text/plain": [
       "recommendations finished on 554000/2088478 queries. users per second: 5949.14"
      ]
     },
     "metadata": {},
     "output_type": "display_data"
    },
    {
     "data": {
      "text/html": [
       "<pre>recommendations finished on 555000/2088478 queries. users per second: 5950.56</pre>"
      ],
      "text/plain": [
       "recommendations finished on 555000/2088478 queries. users per second: 5950.56"
      ]
     },
     "metadata": {},
     "output_type": "display_data"
    },
    {
     "data": {
      "text/html": [
       "<pre>recommendations finished on 556000/2088478 queries. users per second: 5951.74</pre>"
      ],
      "text/plain": [
       "recommendations finished on 556000/2088478 queries. users per second: 5951.74"
      ]
     },
     "metadata": {},
     "output_type": "display_data"
    },
    {
     "data": {
      "text/html": [
       "<pre>recommendations finished on 557000/2088478 queries. users per second: 5950.96</pre>"
      ],
      "text/plain": [
       "recommendations finished on 557000/2088478 queries. users per second: 5950.96"
      ]
     },
     "metadata": {},
     "output_type": "display_data"
    },
    {
     "data": {
      "text/html": [
       "<pre>recommendations finished on 558000/2088478 queries. users per second: 5952.08</pre>"
      ],
      "text/plain": [
       "recommendations finished on 558000/2088478 queries. users per second: 5952.08"
      ]
     },
     "metadata": {},
     "output_type": "display_data"
    },
    {
     "data": {
      "text/html": [
       "<pre>recommendations finished on 559000/2088478 queries. users per second: 5951.05</pre>"
      ],
      "text/plain": [
       "recommendations finished on 559000/2088478 queries. users per second: 5951.05"
      ]
     },
     "metadata": {},
     "output_type": "display_data"
    },
    {
     "data": {
      "text/html": [
       "<pre>recommendations finished on 560000/2088478 queries. users per second: 5950.03</pre>"
      ],
      "text/plain": [
       "recommendations finished on 560000/2088478 queries. users per second: 5950.03"
      ]
     },
     "metadata": {},
     "output_type": "display_data"
    },
    {
     "data": {
      "text/html": [
       "<pre>recommendations finished on 561000/2088478 queries. users per second: 5949.26</pre>"
      ],
      "text/plain": [
       "recommendations finished on 561000/2088478 queries. users per second: 5949.26"
      ]
     },
     "metadata": {},
     "output_type": "display_data"
    },
    {
     "data": {
      "text/html": [
       "<pre>recommendations finished on 562000/2088478 queries. users per second: 5949.72</pre>"
      ],
      "text/plain": [
       "recommendations finished on 562000/2088478 queries. users per second: 5949.72"
      ]
     },
     "metadata": {},
     "output_type": "display_data"
    },
    {
     "data": {
      "text/html": [
       "<pre>recommendations finished on 563000/2088478 queries. users per second: 5946.17</pre>"
      ],
      "text/plain": [
       "recommendations finished on 563000/2088478 queries. users per second: 5946.17"
      ]
     },
     "metadata": {},
     "output_type": "display_data"
    },
    {
     "data": {
      "text/html": [
       "<pre>recommendations finished on 564000/2088478 queries. users per second: 5945.09</pre>"
      ],
      "text/plain": [
       "recommendations finished on 564000/2088478 queries. users per second: 5945.09"
      ]
     },
     "metadata": {},
     "output_type": "display_data"
    },
    {
     "data": {
      "text/html": [
       "<pre>recommendations finished on 565000/2088478 queries. users per second: 5943.74</pre>"
      ],
      "text/plain": [
       "recommendations finished on 565000/2088478 queries. users per second: 5943.74"
      ]
     },
     "metadata": {},
     "output_type": "display_data"
    },
    {
     "data": {
      "text/html": [
       "<pre>recommendations finished on 566000/2088478 queries. users per second: 5942.02</pre>"
      ],
      "text/plain": [
       "recommendations finished on 566000/2088478 queries. users per second: 5942.02"
      ]
     },
     "metadata": {},
     "output_type": "display_data"
    },
    {
     "data": {
      "text/html": [
       "<pre>recommendations finished on 567000/2088478 queries. users per second: 5941.52</pre>"
      ],
      "text/plain": [
       "recommendations finished on 567000/2088478 queries. users per second: 5941.52"
      ]
     },
     "metadata": {},
     "output_type": "display_data"
    },
    {
     "data": {
      "text/html": [
       "<pre>recommendations finished on 568000/2088478 queries. users per second: 5941.45</pre>"
      ],
      "text/plain": [
       "recommendations finished on 568000/2088478 queries. users per second: 5941.45"
      ]
     },
     "metadata": {},
     "output_type": "display_data"
    },
    {
     "data": {
      "text/html": [
       "<pre>recommendations finished on 569000/2088478 queries. users per second: 5942.46</pre>"
      ],
      "text/plain": [
       "recommendations finished on 569000/2088478 queries. users per second: 5942.46"
      ]
     },
     "metadata": {},
     "output_type": "display_data"
    },
    {
     "data": {
      "text/html": [
       "<pre>recommendations finished on 570000/2088478 queries. users per second: 5942.81</pre>"
      ],
      "text/plain": [
       "recommendations finished on 570000/2088478 queries. users per second: 5942.81"
      ]
     },
     "metadata": {},
     "output_type": "display_data"
    },
    {
     "data": {
      "text/html": [
       "<pre>recommendations finished on 571000/2088478 queries. users per second: 5944.24</pre>"
      ],
      "text/plain": [
       "recommendations finished on 571000/2088478 queries. users per second: 5944.24"
      ]
     },
     "metadata": {},
     "output_type": "display_data"
    },
    {
     "data": {
      "text/html": [
       "<pre>recommendations finished on 572000/2088478 queries. users per second: 5943.79</pre>"
      ],
      "text/plain": [
       "recommendations finished on 572000/2088478 queries. users per second: 5943.79"
      ]
     },
     "metadata": {},
     "output_type": "display_data"
    },
    {
     "data": {
      "text/html": [
       "<pre>recommendations finished on 573000/2088478 queries. users per second: 5938.05</pre>"
      ],
      "text/plain": [
       "recommendations finished on 573000/2088478 queries. users per second: 5938.05"
      ]
     },
     "metadata": {},
     "output_type": "display_data"
    },
    {
     "data": {
      "text/html": [
       "<pre>recommendations finished on 574000/2088478 queries. users per second: 5938.9</pre>"
      ],
      "text/plain": [
       "recommendations finished on 574000/2088478 queries. users per second: 5938.9"
      ]
     },
     "metadata": {},
     "output_type": "display_data"
    },
    {
     "data": {
      "text/html": [
       "<pre>recommendations finished on 575000/2088478 queries. users per second: 5940.17</pre>"
      ],
      "text/plain": [
       "recommendations finished on 575000/2088478 queries. users per second: 5940.17"
      ]
     },
     "metadata": {},
     "output_type": "display_data"
    },
    {
     "data": {
      "text/html": [
       "<pre>recommendations finished on 576000/2088478 queries. users per second: 5940.47</pre>"
      ],
      "text/plain": [
       "recommendations finished on 576000/2088478 queries. users per second: 5940.47"
      ]
     },
     "metadata": {},
     "output_type": "display_data"
    },
    {
     "data": {
      "text/html": [
       "<pre>recommendations finished on 577000/2088478 queries. users per second: 5939.67</pre>"
      ],
      "text/plain": [
       "recommendations finished on 577000/2088478 queries. users per second: 5939.67"
      ]
     },
     "metadata": {},
     "output_type": "display_data"
    },
    {
     "data": {
      "text/html": [
       "<pre>recommendations finished on 578000/2088478 queries. users per second: 5934.34</pre>"
      ],
      "text/plain": [
       "recommendations finished on 578000/2088478 queries. users per second: 5934.34"
      ]
     },
     "metadata": {},
     "output_type": "display_data"
    },
    {
     "data": {
      "text/html": [
       "<pre>recommendations finished on 579000/2088478 queries. users per second: 5935.03</pre>"
      ],
      "text/plain": [
       "recommendations finished on 579000/2088478 queries. users per second: 5935.03"
      ]
     },
     "metadata": {},
     "output_type": "display_data"
    },
    {
     "data": {
      "text/html": [
       "<pre>recommendations finished on 580000/2088478 queries. users per second: 5935.17</pre>"
      ],
      "text/plain": [
       "recommendations finished on 580000/2088478 queries. users per second: 5935.17"
      ]
     },
     "metadata": {},
     "output_type": "display_data"
    },
    {
     "data": {
      "text/html": [
       "<pre>recommendations finished on 581000/2088478 queries. users per second: 5935.36</pre>"
      ],
      "text/plain": [
       "recommendations finished on 581000/2088478 queries. users per second: 5935.36"
      ]
     },
     "metadata": {},
     "output_type": "display_data"
    },
    {
     "data": {
      "text/html": [
       "<pre>recommendations finished on 582000/2088478 queries. users per second: 5935.7</pre>"
      ],
      "text/plain": [
       "recommendations finished on 582000/2088478 queries. users per second: 5935.7"
      ]
     },
     "metadata": {},
     "output_type": "display_data"
    },
    {
     "data": {
      "text/html": [
       "<pre>recommendations finished on 583000/2088478 queries. users per second: 5935.47</pre>"
      ],
      "text/plain": [
       "recommendations finished on 583000/2088478 queries. users per second: 5935.47"
      ]
     },
     "metadata": {},
     "output_type": "display_data"
    },
    {
     "data": {
      "text/html": [
       "<pre>recommendations finished on 584000/2088478 queries. users per second: 5932.18</pre>"
      ],
      "text/plain": [
       "recommendations finished on 584000/2088478 queries. users per second: 5932.18"
      ]
     },
     "metadata": {},
     "output_type": "display_data"
    },
    {
     "data": {
      "text/html": [
       "<pre>recommendations finished on 585000/2088478 queries. users per second: 5933.18</pre>"
      ],
      "text/plain": [
       "recommendations finished on 585000/2088478 queries. users per second: 5933.18"
      ]
     },
     "metadata": {},
     "output_type": "display_data"
    },
    {
     "data": {
      "text/html": [
       "<pre>recommendations finished on 586000/2088478 queries. users per second: 5933.51</pre>"
      ],
      "text/plain": [
       "recommendations finished on 586000/2088478 queries. users per second: 5933.51"
      ]
     },
     "metadata": {},
     "output_type": "display_data"
    },
    {
     "data": {
      "text/html": [
       "<pre>recommendations finished on 587000/2088478 queries. users per second: 5930.03</pre>"
      ],
      "text/plain": [
       "recommendations finished on 587000/2088478 queries. users per second: 5930.03"
      ]
     },
     "metadata": {},
     "output_type": "display_data"
    },
    {
     "data": {
      "text/html": [
       "<pre>recommendations finished on 588000/2088478 queries. users per second: 5929.81</pre>"
      ],
      "text/plain": [
       "recommendations finished on 588000/2088478 queries. users per second: 5929.81"
      ]
     },
     "metadata": {},
     "output_type": "display_data"
    },
    {
     "data": {
      "text/html": [
       "<pre>recommendations finished on 589000/2088478 queries. users per second: 5929.74</pre>"
      ],
      "text/plain": [
       "recommendations finished on 589000/2088478 queries. users per second: 5929.74"
      ]
     },
     "metadata": {},
     "output_type": "display_data"
    },
    {
     "data": {
      "text/html": [
       "<pre>recommendations finished on 590000/2088478 queries. users per second: 5928.98</pre>"
      ],
      "text/plain": [
       "recommendations finished on 590000/2088478 queries. users per second: 5928.98"
      ]
     },
     "metadata": {},
     "output_type": "display_data"
    },
    {
     "data": {
      "text/html": [
       "<pre>recommendations finished on 591000/2088478 queries. users per second: 5930.44</pre>"
      ],
      "text/plain": [
       "recommendations finished on 591000/2088478 queries. users per second: 5930.44"
      ]
     },
     "metadata": {},
     "output_type": "display_data"
    },
    {
     "data": {
      "text/html": [
       "<pre>recommendations finished on 592000/2088478 queries. users per second: 5931.61</pre>"
      ],
      "text/plain": [
       "recommendations finished on 592000/2088478 queries. users per second: 5931.61"
      ]
     },
     "metadata": {},
     "output_type": "display_data"
    },
    {
     "data": {
      "text/html": [
       "<pre>recommendations finished on 593000/2088478 queries. users per second: 5933.04</pre>"
      ],
      "text/plain": [
       "recommendations finished on 593000/2088478 queries. users per second: 5933.04"
      ]
     },
     "metadata": {},
     "output_type": "display_data"
    },
    {
     "data": {
      "text/html": [
       "<pre>recommendations finished on 594000/2088478 queries. users per second: 5934.75</pre>"
      ],
      "text/plain": [
       "recommendations finished on 594000/2088478 queries. users per second: 5934.75"
      ]
     },
     "metadata": {},
     "output_type": "display_data"
    },
    {
     "data": {
      "text/html": [
       "<pre>recommendations finished on 595000/2088478 queries. users per second: 5936.19</pre>"
      ],
      "text/plain": [
       "recommendations finished on 595000/2088478 queries. users per second: 5936.19"
      ]
     },
     "metadata": {},
     "output_type": "display_data"
    },
    {
     "data": {
      "text/html": [
       "<pre>recommendations finished on 596000/2088478 queries. users per second: 5936.59</pre>"
      ],
      "text/plain": [
       "recommendations finished on 596000/2088478 queries. users per second: 5936.59"
      ]
     },
     "metadata": {},
     "output_type": "display_data"
    },
    {
     "data": {
      "text/html": [
       "<pre>recommendations finished on 597000/2088478 queries. users per second: 5937.49</pre>"
      ],
      "text/plain": [
       "recommendations finished on 597000/2088478 queries. users per second: 5937.49"
      ]
     },
     "metadata": {},
     "output_type": "display_data"
    },
    {
     "data": {
      "text/html": [
       "<pre>recommendations finished on 598000/2088478 queries. users per second: 5938.59</pre>"
      ],
      "text/plain": [
       "recommendations finished on 598000/2088478 queries. users per second: 5938.59"
      ]
     },
     "metadata": {},
     "output_type": "display_data"
    },
    {
     "data": {
      "text/html": [
       "<pre>recommendations finished on 599000/2088478 queries. users per second: 5940.21</pre>"
      ],
      "text/plain": [
       "recommendations finished on 599000/2088478 queries. users per second: 5940.21"
      ]
     },
     "metadata": {},
     "output_type": "display_data"
    },
    {
     "data": {
      "text/html": [
       "<pre>recommendations finished on 600000/2088478 queries. users per second: 5940.21</pre>"
      ],
      "text/plain": [
       "recommendations finished on 600000/2088478 queries. users per second: 5940.21"
      ]
     },
     "metadata": {},
     "output_type": "display_data"
    },
    {
     "data": {
      "text/html": [
       "<pre>recommendations finished on 601000/2088478 queries. users per second: 5933.72</pre>"
      ],
      "text/plain": [
       "recommendations finished on 601000/2088478 queries. users per second: 5933.72"
      ]
     },
     "metadata": {},
     "output_type": "display_data"
    },
    {
     "data": {
      "text/html": [
       "<pre>recommendations finished on 602000/2088478 queries. users per second: 5932.45</pre>"
      ],
      "text/plain": [
       "recommendations finished on 602000/2088478 queries. users per second: 5932.45"
      ]
     },
     "metadata": {},
     "output_type": "display_data"
    },
    {
     "data": {
      "text/html": [
       "<pre>recommendations finished on 603000/2088478 queries. users per second: 5931.77</pre>"
      ],
      "text/plain": [
       "recommendations finished on 603000/2088478 queries. users per second: 5931.77"
      ]
     },
     "metadata": {},
     "output_type": "display_data"
    },
    {
     "data": {
      "text/html": [
       "<pre>recommendations finished on 604000/2088478 queries. users per second: 5927.75</pre>"
      ],
      "text/plain": [
       "recommendations finished on 604000/2088478 queries. users per second: 5927.75"
      ]
     },
     "metadata": {},
     "output_type": "display_data"
    },
    {
     "data": {
      "text/html": [
       "<pre>recommendations finished on 605000/2088478 queries. users per second: 5925.02</pre>"
      ],
      "text/plain": [
       "recommendations finished on 605000/2088478 queries. users per second: 5925.02"
      ]
     },
     "metadata": {},
     "output_type": "display_data"
    },
    {
     "data": {
      "text/html": [
       "<pre>recommendations finished on 606000/2088478 queries. users per second: 5923.71</pre>"
      ],
      "text/plain": [
       "recommendations finished on 606000/2088478 queries. users per second: 5923.71"
      ]
     },
     "metadata": {},
     "output_type": "display_data"
    },
    {
     "data": {
      "text/html": [
       "<pre>recommendations finished on 607000/2088478 queries. users per second: 5921.26</pre>"
      ],
      "text/plain": [
       "recommendations finished on 607000/2088478 queries. users per second: 5921.26"
      ]
     },
     "metadata": {},
     "output_type": "display_data"
    },
    {
     "data": {
      "text/html": [
       "<pre>recommendations finished on 608000/2088478 queries. users per second: 5921.53</pre>"
      ],
      "text/plain": [
       "recommendations finished on 608000/2088478 queries. users per second: 5921.53"
      ]
     },
     "metadata": {},
     "output_type": "display_data"
    },
    {
     "data": {
      "text/html": [
       "<pre>recommendations finished on 609000/2088478 queries. users per second: 5921.37</pre>"
      ],
      "text/plain": [
       "recommendations finished on 609000/2088478 queries. users per second: 5921.37"
      ]
     },
     "metadata": {},
     "output_type": "display_data"
    },
    {
     "data": {
      "text/html": [
       "<pre>recommendations finished on 610000/2088478 queries. users per second: 5921.61</pre>"
      ],
      "text/plain": [
       "recommendations finished on 610000/2088478 queries. users per second: 5921.61"
      ]
     },
     "metadata": {},
     "output_type": "display_data"
    },
    {
     "data": {
      "text/html": [
       "<pre>recommendations finished on 611000/2088478 queries. users per second: 5921.21</pre>"
      ],
      "text/plain": [
       "recommendations finished on 611000/2088478 queries. users per second: 5921.21"
      ]
     },
     "metadata": {},
     "output_type": "display_data"
    },
    {
     "data": {
      "text/html": [
       "<pre>recommendations finished on 612000/2088478 queries. users per second: 5921.87</pre>"
      ],
      "text/plain": [
       "recommendations finished on 612000/2088478 queries. users per second: 5921.87"
      ]
     },
     "metadata": {},
     "output_type": "display_data"
    },
    {
     "data": {
      "text/html": [
       "<pre>recommendations finished on 613000/2088478 queries. users per second: 5921.25</pre>"
      ],
      "text/plain": [
       "recommendations finished on 613000/2088478 queries. users per second: 5921.25"
      ]
     },
     "metadata": {},
     "output_type": "display_data"
    },
    {
     "data": {
      "text/html": [
       "<pre>recommendations finished on 614000/2088478 queries. users per second: 5918.74</pre>"
      ],
      "text/plain": [
       "recommendations finished on 614000/2088478 queries. users per second: 5918.74"
      ]
     },
     "metadata": {},
     "output_type": "display_data"
    },
    {
     "data": {
      "text/html": [
       "<pre>recommendations finished on 615000/2088478 queries. users per second: 5918.98</pre>"
      ],
      "text/plain": [
       "recommendations finished on 615000/2088478 queries. users per second: 5918.98"
      ]
     },
     "metadata": {},
     "output_type": "display_data"
    },
    {
     "data": {
      "text/html": [
       "<pre>recommendations finished on 616000/2088478 queries. users per second: 5919.04</pre>"
      ],
      "text/plain": [
       "recommendations finished on 616000/2088478 queries. users per second: 5919.04"
      ]
     },
     "metadata": {},
     "output_type": "display_data"
    },
    {
     "data": {
      "text/html": [
       "<pre>recommendations finished on 617000/2088478 queries. users per second: 5917.14</pre>"
      ],
      "text/plain": [
       "recommendations finished on 617000/2088478 queries. users per second: 5917.14"
      ]
     },
     "metadata": {},
     "output_type": "display_data"
    },
    {
     "data": {
      "text/html": [
       "<pre>recommendations finished on 618000/2088478 queries. users per second: 5914.4</pre>"
      ],
      "text/plain": [
       "recommendations finished on 618000/2088478 queries. users per second: 5914.4"
      ]
     },
     "metadata": {},
     "output_type": "display_data"
    },
    {
     "data": {
      "text/html": [
       "<pre>recommendations finished on 619000/2088478 queries. users per second: 5913.48</pre>"
      ],
      "text/plain": [
       "recommendations finished on 619000/2088478 queries. users per second: 5913.48"
      ]
     },
     "metadata": {},
     "output_type": "display_data"
    },
    {
     "data": {
      "text/html": [
       "<pre>recommendations finished on 620000/2088478 queries. users per second: 5912.23</pre>"
      ],
      "text/plain": [
       "recommendations finished on 620000/2088478 queries. users per second: 5912.23"
      ]
     },
     "metadata": {},
     "output_type": "display_data"
    },
    {
     "data": {
      "text/html": [
       "<pre>recommendations finished on 621000/2088478 queries. users per second: 5911.36</pre>"
      ],
      "text/plain": [
       "recommendations finished on 621000/2088478 queries. users per second: 5911.36"
      ]
     },
     "metadata": {},
     "output_type": "display_data"
    },
    {
     "data": {
      "text/html": [
       "<pre>recommendations finished on 622000/2088478 queries. users per second: 5910.61</pre>"
      ],
      "text/plain": [
       "recommendations finished on 622000/2088478 queries. users per second: 5910.61"
      ]
     },
     "metadata": {},
     "output_type": "display_data"
    },
    {
     "data": {
      "text/html": [
       "<pre>recommendations finished on 623000/2088478 queries. users per second: 5911.66</pre>"
      ],
      "text/plain": [
       "recommendations finished on 623000/2088478 queries. users per second: 5911.66"
      ]
     },
     "metadata": {},
     "output_type": "display_data"
    },
    {
     "data": {
      "text/html": [
       "<pre>recommendations finished on 624000/2088478 queries. users per second: 5912.69</pre>"
      ],
      "text/plain": [
       "recommendations finished on 624000/2088478 queries. users per second: 5912.69"
      ]
     },
     "metadata": {},
     "output_type": "display_data"
    },
    {
     "data": {
      "text/html": [
       "<pre>recommendations finished on 625000/2088478 queries. users per second: 5914.1</pre>"
      ],
      "text/plain": [
       "recommendations finished on 625000/2088478 queries. users per second: 5914.1"
      ]
     },
     "metadata": {},
     "output_type": "display_data"
    },
    {
     "data": {
      "text/html": [
       "<pre>recommendations finished on 626000/2088478 queries. users per second: 5914.68</pre>"
      ],
      "text/plain": [
       "recommendations finished on 626000/2088478 queries. users per second: 5914.68"
      ]
     },
     "metadata": {},
     "output_type": "display_data"
    },
    {
     "data": {
      "text/html": [
       "<pre>recommendations finished on 627000/2088478 queries. users per second: 5914.96</pre>"
      ],
      "text/plain": [
       "recommendations finished on 627000/2088478 queries. users per second: 5914.96"
      ]
     },
     "metadata": {},
     "output_type": "display_data"
    },
    {
     "data": {
      "text/html": [
       "<pre>recommendations finished on 628000/2088478 queries. users per second: 5914.28</pre>"
      ],
      "text/plain": [
       "recommendations finished on 628000/2088478 queries. users per second: 5914.28"
      ]
     },
     "metadata": {},
     "output_type": "display_data"
    },
    {
     "data": {
      "text/html": [
       "<pre>recommendations finished on 629000/2088478 queries. users per second: 5915.18</pre>"
      ],
      "text/plain": [
       "recommendations finished on 629000/2088478 queries. users per second: 5915.18"
      ]
     },
     "metadata": {},
     "output_type": "display_data"
    },
    {
     "data": {
      "text/html": [
       "<pre>recommendations finished on 630000/2088478 queries. users per second: 5916.04</pre>"
      ],
      "text/plain": [
       "recommendations finished on 630000/2088478 queries. users per second: 5916.04"
      ]
     },
     "metadata": {},
     "output_type": "display_data"
    },
    {
     "data": {
      "text/html": [
       "<pre>recommendations finished on 631000/2088478 queries. users per second: 5916.02</pre>"
      ],
      "text/plain": [
       "recommendations finished on 631000/2088478 queries. users per second: 5916.02"
      ]
     },
     "metadata": {},
     "output_type": "display_data"
    },
    {
     "data": {
      "text/html": [
       "<pre>recommendations finished on 632000/2088478 queries. users per second: 5915.54</pre>"
      ],
      "text/plain": [
       "recommendations finished on 632000/2088478 queries. users per second: 5915.54"
      ]
     },
     "metadata": {},
     "output_type": "display_data"
    },
    {
     "data": {
      "text/html": [
       "<pre>recommendations finished on 633000/2088478 queries. users per second: 5916.59</pre>"
      ],
      "text/plain": [
       "recommendations finished on 633000/2088478 queries. users per second: 5916.59"
      ]
     },
     "metadata": {},
     "output_type": "display_data"
    },
    {
     "data": {
      "text/html": [
       "<pre>recommendations finished on 634000/2088478 queries. users per second: 5916.22</pre>"
      ],
      "text/plain": [
       "recommendations finished on 634000/2088478 queries. users per second: 5916.22"
      ]
     },
     "metadata": {},
     "output_type": "display_data"
    },
    {
     "data": {
      "text/html": [
       "<pre>recommendations finished on 635000/2088478 queries. users per second: 5914.98</pre>"
      ],
      "text/plain": [
       "recommendations finished on 635000/2088478 queries. users per second: 5914.98"
      ]
     },
     "metadata": {},
     "output_type": "display_data"
    },
    {
     "data": {
      "text/html": [
       "<pre>recommendations finished on 636000/2088478 queries. users per second: 5913.75</pre>"
      ],
      "text/plain": [
       "recommendations finished on 636000/2088478 queries. users per second: 5913.75"
      ]
     },
     "metadata": {},
     "output_type": "display_data"
    },
    {
     "data": {
      "text/html": [
       "<pre>recommendations finished on 637000/2088478 queries. users per second: 5913.19</pre>"
      ],
      "text/plain": [
       "recommendations finished on 637000/2088478 queries. users per second: 5913.19"
      ]
     },
     "metadata": {},
     "output_type": "display_data"
    },
    {
     "data": {
      "text/html": [
       "<pre>recommendations finished on 638000/2088478 queries. users per second: 5912.43</pre>"
      ],
      "text/plain": [
       "recommendations finished on 638000/2088478 queries. users per second: 5912.43"
      ]
     },
     "metadata": {},
     "output_type": "display_data"
    },
    {
     "data": {
      "text/html": [
       "<pre>recommendations finished on 639000/2088478 queries. users per second: 5912.89</pre>"
      ],
      "text/plain": [
       "recommendations finished on 639000/2088478 queries. users per second: 5912.89"
      ]
     },
     "metadata": {},
     "output_type": "display_data"
    },
    {
     "data": {
      "text/html": [
       "<pre>recommendations finished on 640000/2088478 queries. users per second: 5914.03</pre>"
      ],
      "text/plain": [
       "recommendations finished on 640000/2088478 queries. users per second: 5914.03"
      ]
     },
     "metadata": {},
     "output_type": "display_data"
    },
    {
     "data": {
      "text/html": [
       "<pre>recommendations finished on 641000/2088478 queries. users per second: 5915.27</pre>"
      ],
      "text/plain": [
       "recommendations finished on 641000/2088478 queries. users per second: 5915.27"
      ]
     },
     "metadata": {},
     "output_type": "display_data"
    },
    {
     "data": {
      "text/html": [
       "<pre>recommendations finished on 642000/2088478 queries. users per second: 5916.02</pre>"
      ],
      "text/plain": [
       "recommendations finished on 642000/2088478 queries. users per second: 5916.02"
      ]
     },
     "metadata": {},
     "output_type": "display_data"
    },
    {
     "data": {
      "text/html": [
       "<pre>recommendations finished on 643000/2088478 queries. users per second: 5916.74</pre>"
      ],
      "text/plain": [
       "recommendations finished on 643000/2088478 queries. users per second: 5916.74"
      ]
     },
     "metadata": {},
     "output_type": "display_data"
    },
    {
     "data": {
      "text/html": [
       "<pre>recommendations finished on 644000/2088478 queries. users per second: 5916.17</pre>"
      ],
      "text/plain": [
       "recommendations finished on 644000/2088478 queries. users per second: 5916.17"
      ]
     },
     "metadata": {},
     "output_type": "display_data"
    },
    {
     "data": {
      "text/html": [
       "<pre>recommendations finished on 645000/2088478 queries. users per second: 5917.45</pre>"
      ],
      "text/plain": [
       "recommendations finished on 645000/2088478 queries. users per second: 5917.45"
      ]
     },
     "metadata": {},
     "output_type": "display_data"
    },
    {
     "data": {
      "text/html": [
       "<pre>recommendations finished on 646000/2088478 queries. users per second: 5918.78</pre>"
      ],
      "text/plain": [
       "recommendations finished on 646000/2088478 queries. users per second: 5918.78"
      ]
     },
     "metadata": {},
     "output_type": "display_data"
    },
    {
     "data": {
      "text/html": [
       "<pre>recommendations finished on 647000/2088478 queries. users per second: 5918.25</pre>"
      ],
      "text/plain": [
       "recommendations finished on 647000/2088478 queries. users per second: 5918.25"
      ]
     },
     "metadata": {},
     "output_type": "display_data"
    },
    {
     "data": {
      "text/html": [
       "<pre>recommendations finished on 648000/2088478 queries. users per second: 5918.96</pre>"
      ],
      "text/plain": [
       "recommendations finished on 648000/2088478 queries. users per second: 5918.96"
      ]
     },
     "metadata": {},
     "output_type": "display_data"
    },
    {
     "data": {
      "text/html": [
       "<pre>recommendations finished on 649000/2088478 queries. users per second: 5918.98</pre>"
      ],
      "text/plain": [
       "recommendations finished on 649000/2088478 queries. users per second: 5918.98"
      ]
     },
     "metadata": {},
     "output_type": "display_data"
    },
    {
     "data": {
      "text/html": [
       "<pre>recommendations finished on 650000/2088478 queries. users per second: 5919.23</pre>"
      ],
      "text/plain": [
       "recommendations finished on 650000/2088478 queries. users per second: 5919.23"
      ]
     },
     "metadata": {},
     "output_type": "display_data"
    },
    {
     "data": {
      "text/html": [
       "<pre>recommendations finished on 651000/2088478 queries. users per second: 5920.5</pre>"
      ],
      "text/plain": [
       "recommendations finished on 651000/2088478 queries. users per second: 5920.5"
      ]
     },
     "metadata": {},
     "output_type": "display_data"
    },
    {
     "data": {
      "text/html": [
       "<pre>recommendations finished on 652000/2088478 queries. users per second: 5920.83</pre>"
      ],
      "text/plain": [
       "recommendations finished on 652000/2088478 queries. users per second: 5920.83"
      ]
     },
     "metadata": {},
     "output_type": "display_data"
    },
    {
     "data": {
      "text/html": [
       "<pre>recommendations finished on 653000/2088478 queries. users per second: 5920.47</pre>"
      ],
      "text/plain": [
       "recommendations finished on 653000/2088478 queries. users per second: 5920.47"
      ]
     },
     "metadata": {},
     "output_type": "display_data"
    },
    {
     "data": {
      "text/html": [
       "<pre>recommendations finished on 654000/2088478 queries. users per second: 5920.25</pre>"
      ],
      "text/plain": [
       "recommendations finished on 654000/2088478 queries. users per second: 5920.25"
      ]
     },
     "metadata": {},
     "output_type": "display_data"
    },
    {
     "data": {
      "text/html": [
       "<pre>recommendations finished on 655000/2088478 queries. users per second: 5920.19</pre>"
      ],
      "text/plain": [
       "recommendations finished on 655000/2088478 queries. users per second: 5920.19"
      ]
     },
     "metadata": {},
     "output_type": "display_data"
    },
    {
     "data": {
      "text/html": [
       "<pre>recommendations finished on 656000/2088478 queries. users per second: 5920.08</pre>"
      ],
      "text/plain": [
       "recommendations finished on 656000/2088478 queries. users per second: 5920.08"
      ]
     },
     "metadata": {},
     "output_type": "display_data"
    },
    {
     "data": {
      "text/html": [
       "<pre>recommendations finished on 657000/2088478 queries. users per second: 5920.53</pre>"
      ],
      "text/plain": [
       "recommendations finished on 657000/2088478 queries. users per second: 5920.53"
      ]
     },
     "metadata": {},
     "output_type": "display_data"
    },
    {
     "data": {
      "text/html": [
       "<pre>recommendations finished on 658000/2088478 queries. users per second: 5919.17</pre>"
      ],
      "text/plain": [
       "recommendations finished on 658000/2088478 queries. users per second: 5919.17"
      ]
     },
     "metadata": {},
     "output_type": "display_data"
    },
    {
     "data": {
      "text/html": [
       "<pre>recommendations finished on 659000/2088478 queries. users per second: 5912.87</pre>"
      ],
      "text/plain": [
       "recommendations finished on 659000/2088478 queries. users per second: 5912.87"
      ]
     },
     "metadata": {},
     "output_type": "display_data"
    },
    {
     "data": {
      "text/html": [
       "<pre>recommendations finished on 660000/2088478 queries. users per second: 5913.48</pre>"
      ],
      "text/plain": [
       "recommendations finished on 660000/2088478 queries. users per second: 5913.48"
      ]
     },
     "metadata": {},
     "output_type": "display_data"
    },
    {
     "data": {
      "text/html": [
       "<pre>recommendations finished on 661000/2088478 queries. users per second: 5914.86</pre>"
      ],
      "text/plain": [
       "recommendations finished on 661000/2088478 queries. users per second: 5914.86"
      ]
     },
     "metadata": {},
     "output_type": "display_data"
    },
    {
     "data": {
      "text/html": [
       "<pre>recommendations finished on 662000/2088478 queries. users per second: 5916.06</pre>"
      ],
      "text/plain": [
       "recommendations finished on 662000/2088478 queries. users per second: 5916.06"
      ]
     },
     "metadata": {},
     "output_type": "display_data"
    },
    {
     "data": {
      "text/html": [
       "<pre>recommendations finished on 663000/2088478 queries. users per second: 5915.83</pre>"
      ],
      "text/plain": [
       "recommendations finished on 663000/2088478 queries. users per second: 5915.83"
      ]
     },
     "metadata": {},
     "output_type": "display_data"
    },
    {
     "data": {
      "text/html": [
       "<pre>recommendations finished on 664000/2088478 queries. users per second: 5914.24</pre>"
      ],
      "text/plain": [
       "recommendations finished on 664000/2088478 queries. users per second: 5914.24"
      ]
     },
     "metadata": {},
     "output_type": "display_data"
    },
    {
     "data": {
      "text/html": [
       "<pre>recommendations finished on 665000/2088478 queries. users per second: 5914.9</pre>"
      ],
      "text/plain": [
       "recommendations finished on 665000/2088478 queries. users per second: 5914.9"
      ]
     },
     "metadata": {},
     "output_type": "display_data"
    },
    {
     "data": {
      "text/html": [
       "<pre>recommendations finished on 666000/2088478 queries. users per second: 5914.17</pre>"
      ],
      "text/plain": [
       "recommendations finished on 666000/2088478 queries. users per second: 5914.17"
      ]
     },
     "metadata": {},
     "output_type": "display_data"
    },
    {
     "data": {
      "text/html": [
       "<pre>recommendations finished on 667000/2088478 queries. users per second: 5913.06</pre>"
      ],
      "text/plain": [
       "recommendations finished on 667000/2088478 queries. users per second: 5913.06"
      ]
     },
     "metadata": {},
     "output_type": "display_data"
    },
    {
     "data": {
      "text/html": [
       "<pre>recommendations finished on 668000/2088478 queries. users per second: 5914.31</pre>"
      ],
      "text/plain": [
       "recommendations finished on 668000/2088478 queries. users per second: 5914.31"
      ]
     },
     "metadata": {},
     "output_type": "display_data"
    },
    {
     "data": {
      "text/html": [
       "<pre>recommendations finished on 669000/2088478 queries. users per second: 5915.43</pre>"
      ],
      "text/plain": [
       "recommendations finished on 669000/2088478 queries. users per second: 5915.43"
      ]
     },
     "metadata": {},
     "output_type": "display_data"
    },
    {
     "data": {
      "text/html": [
       "<pre>recommendations finished on 670000/2088478 queries. users per second: 5915.72</pre>"
      ],
      "text/plain": [
       "recommendations finished on 670000/2088478 queries. users per second: 5915.72"
      ]
     },
     "metadata": {},
     "output_type": "display_data"
    },
    {
     "data": {
      "text/html": [
       "<pre>recommendations finished on 671000/2088478 queries. users per second: 5916.72</pre>"
      ],
      "text/plain": [
       "recommendations finished on 671000/2088478 queries. users per second: 5916.72"
      ]
     },
     "metadata": {},
     "output_type": "display_data"
    },
    {
     "data": {
      "text/html": [
       "<pre>recommendations finished on 672000/2088478 queries. users per second: 5918</pre>"
      ],
      "text/plain": [
       "recommendations finished on 672000/2088478 queries. users per second: 5918"
      ]
     },
     "metadata": {},
     "output_type": "display_data"
    },
    {
     "data": {
      "text/html": [
       "<pre>recommendations finished on 673000/2088478 queries. users per second: 5918.87</pre>"
      ],
      "text/plain": [
       "recommendations finished on 673000/2088478 queries. users per second: 5918.87"
      ]
     },
     "metadata": {},
     "output_type": "display_data"
    },
    {
     "data": {
      "text/html": [
       "<pre>recommendations finished on 674000/2088478 queries. users per second: 5915.46</pre>"
      ],
      "text/plain": [
       "recommendations finished on 674000/2088478 queries. users per second: 5915.46"
      ]
     },
     "metadata": {},
     "output_type": "display_data"
    },
    {
     "data": {
      "text/html": [
       "<pre>recommendations finished on 675000/2088478 queries. users per second: 5916.94</pre>"
      ],
      "text/plain": [
       "recommendations finished on 675000/2088478 queries. users per second: 5916.94"
      ]
     },
     "metadata": {},
     "output_type": "display_data"
    },
    {
     "data": {
      "text/html": [
       "<pre>recommendations finished on 676000/2088478 queries. users per second: 5916.98</pre>"
      ],
      "text/plain": [
       "recommendations finished on 676000/2088478 queries. users per second: 5916.98"
      ]
     },
     "metadata": {},
     "output_type": "display_data"
    },
    {
     "data": {
      "text/html": [
       "<pre>recommendations finished on 677000/2088478 queries. users per second: 5918.09</pre>"
      ],
      "text/plain": [
       "recommendations finished on 677000/2088478 queries. users per second: 5918.09"
      ]
     },
     "metadata": {},
     "output_type": "display_data"
    },
    {
     "data": {
      "text/html": [
       "<pre>recommendations finished on 678000/2088478 queries. users per second: 5919.27</pre>"
      ],
      "text/plain": [
       "recommendations finished on 678000/2088478 queries. users per second: 5919.27"
      ]
     },
     "metadata": {},
     "output_type": "display_data"
    },
    {
     "data": {
      "text/html": [
       "<pre>recommendations finished on 679000/2088478 queries. users per second: 5920.12</pre>"
      ],
      "text/plain": [
       "recommendations finished on 679000/2088478 queries. users per second: 5920.12"
      ]
     },
     "metadata": {},
     "output_type": "display_data"
    },
    {
     "data": {
      "text/html": [
       "<pre>recommendations finished on 680000/2088478 queries. users per second: 5920.95</pre>"
      ],
      "text/plain": [
       "recommendations finished on 680000/2088478 queries. users per second: 5920.95"
      ]
     },
     "metadata": {},
     "output_type": "display_data"
    },
    {
     "data": {
      "text/html": [
       "<pre>recommendations finished on 681000/2088478 queries. users per second: 5921.82</pre>"
      ],
      "text/plain": [
       "recommendations finished on 681000/2088478 queries. users per second: 5921.82"
      ]
     },
     "metadata": {},
     "output_type": "display_data"
    },
    {
     "data": {
      "text/html": [
       "<pre>recommendations finished on 682000/2088478 queries. users per second: 5922.88</pre>"
      ],
      "text/plain": [
       "recommendations finished on 682000/2088478 queries. users per second: 5922.88"
      ]
     },
     "metadata": {},
     "output_type": "display_data"
    },
    {
     "data": {
      "text/html": [
       "<pre>recommendations finished on 683000/2088478 queries. users per second: 5924.01</pre>"
      ],
      "text/plain": [
       "recommendations finished on 683000/2088478 queries. users per second: 5924.01"
      ]
     },
     "metadata": {},
     "output_type": "display_data"
    },
    {
     "data": {
      "text/html": [
       "<pre>recommendations finished on 684000/2088478 queries. users per second: 5925.07</pre>"
      ],
      "text/plain": [
       "recommendations finished on 684000/2088478 queries. users per second: 5925.07"
      ]
     },
     "metadata": {},
     "output_type": "display_data"
    },
    {
     "data": {
      "text/html": [
       "<pre>recommendations finished on 685000/2088478 queries. users per second: 5926.26</pre>"
      ],
      "text/plain": [
       "recommendations finished on 685000/2088478 queries. users per second: 5926.26"
      ]
     },
     "metadata": {},
     "output_type": "display_data"
    },
    {
     "data": {
      "text/html": [
       "<pre>recommendations finished on 686000/2088478 queries. users per second: 5927.58</pre>"
      ],
      "text/plain": [
       "recommendations finished on 686000/2088478 queries. users per second: 5927.58"
      ]
     },
     "metadata": {},
     "output_type": "display_data"
    },
    {
     "data": {
      "text/html": [
       "<pre>recommendations finished on 687000/2088478 queries. users per second: 5928.91</pre>"
      ],
      "text/plain": [
       "recommendations finished on 687000/2088478 queries. users per second: 5928.91"
      ]
     },
     "metadata": {},
     "output_type": "display_data"
    },
    {
     "data": {
      "text/html": [
       "<pre>recommendations finished on 688000/2088478 queries. users per second: 5930.05</pre>"
      ],
      "text/plain": [
       "recommendations finished on 688000/2088478 queries. users per second: 5930.05"
      ]
     },
     "metadata": {},
     "output_type": "display_data"
    },
    {
     "data": {
      "text/html": [
       "<pre>recommendations finished on 689000/2088478 queries. users per second: 5927.96</pre>"
      ],
      "text/plain": [
       "recommendations finished on 689000/2088478 queries. users per second: 5927.96"
      ]
     },
     "metadata": {},
     "output_type": "display_data"
    },
    {
     "data": {
      "text/html": [
       "<pre>recommendations finished on 690000/2088478 queries. users per second: 5928.81</pre>"
      ],
      "text/plain": [
       "recommendations finished on 690000/2088478 queries. users per second: 5928.81"
      ]
     },
     "metadata": {},
     "output_type": "display_data"
    },
    {
     "data": {
      "text/html": [
       "<pre>recommendations finished on 691000/2088478 queries. users per second: 5929.94</pre>"
      ],
      "text/plain": [
       "recommendations finished on 691000/2088478 queries. users per second: 5929.94"
      ]
     },
     "metadata": {},
     "output_type": "display_data"
    },
    {
     "data": {
      "text/html": [
       "<pre>recommendations finished on 692000/2088478 queries. users per second: 5929.97</pre>"
      ],
      "text/plain": [
       "recommendations finished on 692000/2088478 queries. users per second: 5929.97"
      ]
     },
     "metadata": {},
     "output_type": "display_data"
    },
    {
     "data": {
      "text/html": [
       "<pre>recommendations finished on 693000/2088478 queries. users per second: 5930.39</pre>"
      ],
      "text/plain": [
       "recommendations finished on 693000/2088478 queries. users per second: 5930.39"
      ]
     },
     "metadata": {},
     "output_type": "display_data"
    },
    {
     "data": {
      "text/html": [
       "<pre>recommendations finished on 694000/2088478 queries. users per second: 5931.23</pre>"
      ],
      "text/plain": [
       "recommendations finished on 694000/2088478 queries. users per second: 5931.23"
      ]
     },
     "metadata": {},
     "output_type": "display_data"
    },
    {
     "data": {
      "text/html": [
       "<pre>recommendations finished on 695000/2088478 queries. users per second: 5931.99</pre>"
      ],
      "text/plain": [
       "recommendations finished on 695000/2088478 queries. users per second: 5931.99"
      ]
     },
     "metadata": {},
     "output_type": "display_data"
    },
    {
     "data": {
      "text/html": [
       "<pre>recommendations finished on 696000/2088478 queries. users per second: 5933.16</pre>"
      ],
      "text/plain": [
       "recommendations finished on 696000/2088478 queries. users per second: 5933.16"
      ]
     },
     "metadata": {},
     "output_type": "display_data"
    },
    {
     "data": {
      "text/html": [
       "<pre>recommendations finished on 697000/2088478 queries. users per second: 5934.51</pre>"
      ],
      "text/plain": [
       "recommendations finished on 697000/2088478 queries. users per second: 5934.51"
      ]
     },
     "metadata": {},
     "output_type": "display_data"
    },
    {
     "data": {
      "text/html": [
       "<pre>recommendations finished on 698000/2088478 queries. users per second: 5935.57</pre>"
      ],
      "text/plain": [
       "recommendations finished on 698000/2088478 queries. users per second: 5935.57"
      ]
     },
     "metadata": {},
     "output_type": "display_data"
    },
    {
     "data": {
      "text/html": [
       "<pre>recommendations finished on 699000/2088478 queries. users per second: 5936.64</pre>"
      ],
      "text/plain": [
       "recommendations finished on 699000/2088478 queries. users per second: 5936.64"
      ]
     },
     "metadata": {},
     "output_type": "display_data"
    },
    {
     "data": {
      "text/html": [
       "<pre>recommendations finished on 700000/2088478 queries. users per second: 5937.65</pre>"
      ],
      "text/plain": [
       "recommendations finished on 700000/2088478 queries. users per second: 5937.65"
      ]
     },
     "metadata": {},
     "output_type": "display_data"
    },
    {
     "data": {
      "text/html": [
       "<pre>recommendations finished on 701000/2088478 queries. users per second: 5938.61</pre>"
      ],
      "text/plain": [
       "recommendations finished on 701000/2088478 queries. users per second: 5938.61"
      ]
     },
     "metadata": {},
     "output_type": "display_data"
    },
    {
     "data": {
      "text/html": [
       "<pre>recommendations finished on 702000/2088478 queries. users per second: 5939.49</pre>"
      ],
      "text/plain": [
       "recommendations finished on 702000/2088478 queries. users per second: 5939.49"
      ]
     },
     "metadata": {},
     "output_type": "display_data"
    },
    {
     "data": {
      "text/html": [
       "<pre>recommendations finished on 703000/2088478 queries. users per second: 5940.53</pre>"
      ],
      "text/plain": [
       "recommendations finished on 703000/2088478 queries. users per second: 5940.53"
      ]
     },
     "metadata": {},
     "output_type": "display_data"
    },
    {
     "data": {
      "text/html": [
       "<pre>recommendations finished on 704000/2088478 queries. users per second: 5938.89</pre>"
      ],
      "text/plain": [
       "recommendations finished on 704000/2088478 queries. users per second: 5938.89"
      ]
     },
     "metadata": {},
     "output_type": "display_data"
    },
    {
     "data": {
      "text/html": [
       "<pre>recommendations finished on 705000/2088478 queries. users per second: 5938.79</pre>"
      ],
      "text/plain": [
       "recommendations finished on 705000/2088478 queries. users per second: 5938.79"
      ]
     },
     "metadata": {},
     "output_type": "display_data"
    },
    {
     "data": {
      "text/html": [
       "<pre>recommendations finished on 706000/2088478 queries. users per second: 5939.73</pre>"
      ],
      "text/plain": [
       "recommendations finished on 706000/2088478 queries. users per second: 5939.73"
      ]
     },
     "metadata": {},
     "output_type": "display_data"
    },
    {
     "data": {
      "text/html": [
       "<pre>recommendations finished on 707000/2088478 queries. users per second: 5940.92</pre>"
      ],
      "text/plain": [
       "recommendations finished on 707000/2088478 queries. users per second: 5940.92"
      ]
     },
     "metadata": {},
     "output_type": "display_data"
    },
    {
     "data": {
      "text/html": [
       "<pre>recommendations finished on 708000/2088478 queries. users per second: 5942.05</pre>"
      ],
      "text/plain": [
       "recommendations finished on 708000/2088478 queries. users per second: 5942.05"
      ]
     },
     "metadata": {},
     "output_type": "display_data"
    },
    {
     "data": {
      "text/html": [
       "<pre>recommendations finished on 709000/2088478 queries. users per second: 5943.12</pre>"
      ],
      "text/plain": [
       "recommendations finished on 709000/2088478 queries. users per second: 5943.12"
      ]
     },
     "metadata": {},
     "output_type": "display_data"
    },
    {
     "data": {
      "text/html": [
       "<pre>recommendations finished on 710000/2088478 queries. users per second: 5944.07</pre>"
      ],
      "text/plain": [
       "recommendations finished on 710000/2088478 queries. users per second: 5944.07"
      ]
     },
     "metadata": {},
     "output_type": "display_data"
    },
    {
     "data": {
      "text/html": [
       "<pre>recommendations finished on 711000/2088478 queries. users per second: 5944.96</pre>"
      ],
      "text/plain": [
       "recommendations finished on 711000/2088478 queries. users per second: 5944.96"
      ]
     },
     "metadata": {},
     "output_type": "display_data"
    },
    {
     "data": {
      "text/html": [
       "<pre>recommendations finished on 712000/2088478 queries. users per second: 5946.17</pre>"
      ],
      "text/plain": [
       "recommendations finished on 712000/2088478 queries. users per second: 5946.17"
      ]
     },
     "metadata": {},
     "output_type": "display_data"
    },
    {
     "data": {
      "text/html": [
       "<pre>recommendations finished on 713000/2088478 queries. users per second: 5947.37</pre>"
      ],
      "text/plain": [
       "recommendations finished on 713000/2088478 queries. users per second: 5947.37"
      ]
     },
     "metadata": {},
     "output_type": "display_data"
    },
    {
     "data": {
      "text/html": [
       "<pre>recommendations finished on 714000/2088478 queries. users per second: 5948.4</pre>"
      ],
      "text/plain": [
       "recommendations finished on 714000/2088478 queries. users per second: 5948.4"
      ]
     },
     "metadata": {},
     "output_type": "display_data"
    },
    {
     "data": {
      "text/html": [
       "<pre>recommendations finished on 715000/2088478 queries. users per second: 5949.45</pre>"
      ],
      "text/plain": [
       "recommendations finished on 715000/2088478 queries. users per second: 5949.45"
      ]
     },
     "metadata": {},
     "output_type": "display_data"
    },
    {
     "data": {
      "text/html": [
       "<pre>recommendations finished on 716000/2088478 queries. users per second: 5950.53</pre>"
      ],
      "text/plain": [
       "recommendations finished on 716000/2088478 queries. users per second: 5950.53"
      ]
     },
     "metadata": {},
     "output_type": "display_data"
    },
    {
     "data": {
      "text/html": [
       "<pre>recommendations finished on 717000/2088478 queries. users per second: 5951.57</pre>"
      ],
      "text/plain": [
       "recommendations finished on 717000/2088478 queries. users per second: 5951.57"
      ]
     },
     "metadata": {},
     "output_type": "display_data"
    },
    {
     "data": {
      "text/html": [
       "<pre>recommendations finished on 718000/2088478 queries. users per second: 5952.59</pre>"
      ],
      "text/plain": [
       "recommendations finished on 718000/2088478 queries. users per second: 5952.59"
      ]
     },
     "metadata": {},
     "output_type": "display_data"
    },
    {
     "data": {
      "text/html": [
       "<pre>recommendations finished on 719000/2088478 queries. users per second: 5953.49</pre>"
      ],
      "text/plain": [
       "recommendations finished on 719000/2088478 queries. users per second: 5953.49"
      ]
     },
     "metadata": {},
     "output_type": "display_data"
    },
    {
     "data": {
      "text/html": [
       "<pre>recommendations finished on 720000/2088478 queries. users per second: 5953.96</pre>"
      ],
      "text/plain": [
       "recommendations finished on 720000/2088478 queries. users per second: 5953.96"
      ]
     },
     "metadata": {},
     "output_type": "display_data"
    },
    {
     "data": {
      "text/html": [
       "<pre>recommendations finished on 721000/2088478 queries. users per second: 5955.05</pre>"
      ],
      "text/plain": [
       "recommendations finished on 721000/2088478 queries. users per second: 5955.05"
      ]
     },
     "metadata": {},
     "output_type": "display_data"
    },
    {
     "data": {
      "text/html": [
       "<pre>recommendations finished on 722000/2088478 queries. users per second: 5955.94</pre>"
      ],
      "text/plain": [
       "recommendations finished on 722000/2088478 queries. users per second: 5955.94"
      ]
     },
     "metadata": {},
     "output_type": "display_data"
    },
    {
     "data": {
      "text/html": [
       "<pre>recommendations finished on 723000/2088478 queries. users per second: 5956.74</pre>"
      ],
      "text/plain": [
       "recommendations finished on 723000/2088478 queries. users per second: 5956.74"
      ]
     },
     "metadata": {},
     "output_type": "display_data"
    },
    {
     "data": {
      "text/html": [
       "<pre>recommendations finished on 724000/2088478 queries. users per second: 5957.46</pre>"
      ],
      "text/plain": [
       "recommendations finished on 724000/2088478 queries. users per second: 5957.46"
      ]
     },
     "metadata": {},
     "output_type": "display_data"
    },
    {
     "data": {
      "text/html": [
       "<pre>recommendations finished on 725000/2088478 queries. users per second: 5958.23</pre>"
      ],
      "text/plain": [
       "recommendations finished on 725000/2088478 queries. users per second: 5958.23"
      ]
     },
     "metadata": {},
     "output_type": "display_data"
    },
    {
     "data": {
      "text/html": [
       "<pre>recommendations finished on 726000/2088478 queries. users per second: 5959.17</pre>"
      ],
      "text/plain": [
       "recommendations finished on 726000/2088478 queries. users per second: 5959.17"
      ]
     },
     "metadata": {},
     "output_type": "display_data"
    },
    {
     "data": {
      "text/html": [
       "<pre>recommendations finished on 727000/2088478 queries. users per second: 5960.02</pre>"
      ],
      "text/plain": [
       "recommendations finished on 727000/2088478 queries. users per second: 5960.02"
      ]
     },
     "metadata": {},
     "output_type": "display_data"
    },
    {
     "data": {
      "text/html": [
       "<pre>recommendations finished on 728000/2088478 queries. users per second: 5960.95</pre>"
      ],
      "text/plain": [
       "recommendations finished on 728000/2088478 queries. users per second: 5960.95"
      ]
     },
     "metadata": {},
     "output_type": "display_data"
    },
    {
     "data": {
      "text/html": [
       "<pre>recommendations finished on 729000/2088478 queries. users per second: 5961.92</pre>"
      ],
      "text/plain": [
       "recommendations finished on 729000/2088478 queries. users per second: 5961.92"
      ]
     },
     "metadata": {},
     "output_type": "display_data"
    },
    {
     "data": {
      "text/html": [
       "<pre>recommendations finished on 730000/2088478 queries. users per second: 5962.92</pre>"
      ],
      "text/plain": [
       "recommendations finished on 730000/2088478 queries. users per second: 5962.92"
      ]
     },
     "metadata": {},
     "output_type": "display_data"
    },
    {
     "data": {
      "text/html": [
       "<pre>recommendations finished on 731000/2088478 queries. users per second: 5963.94</pre>"
      ],
      "text/plain": [
       "recommendations finished on 731000/2088478 queries. users per second: 5963.94"
      ]
     },
     "metadata": {},
     "output_type": "display_data"
    },
    {
     "data": {
      "text/html": [
       "<pre>recommendations finished on 732000/2088478 queries. users per second: 5964.92</pre>"
      ],
      "text/plain": [
       "recommendations finished on 732000/2088478 queries. users per second: 5964.92"
      ]
     },
     "metadata": {},
     "output_type": "display_data"
    },
    {
     "data": {
      "text/html": [
       "<pre>recommendations finished on 733000/2088478 queries. users per second: 5966.07</pre>"
      ],
      "text/plain": [
       "recommendations finished on 733000/2088478 queries. users per second: 5966.07"
      ]
     },
     "metadata": {},
     "output_type": "display_data"
    },
    {
     "data": {
      "text/html": [
       "<pre>recommendations finished on 734000/2088478 queries. users per second: 5966.75</pre>"
      ],
      "text/plain": [
       "recommendations finished on 734000/2088478 queries. users per second: 5966.75"
      ]
     },
     "metadata": {},
     "output_type": "display_data"
    },
    {
     "data": {
      "text/html": [
       "<pre>recommendations finished on 735000/2088478 queries. users per second: 5967.71</pre>"
      ],
      "text/plain": [
       "recommendations finished on 735000/2088478 queries. users per second: 5967.71"
      ]
     },
     "metadata": {},
     "output_type": "display_data"
    },
    {
     "data": {
      "text/html": [
       "<pre>recommendations finished on 736000/2088478 queries. users per second: 5968.5</pre>"
      ],
      "text/plain": [
       "recommendations finished on 736000/2088478 queries. users per second: 5968.5"
      ]
     },
     "metadata": {},
     "output_type": "display_data"
    },
    {
     "data": {
      "text/html": [
       "<pre>recommendations finished on 737000/2088478 queries. users per second: 5969.26</pre>"
      ],
      "text/plain": [
       "recommendations finished on 737000/2088478 queries. users per second: 5969.26"
      ]
     },
     "metadata": {},
     "output_type": "display_data"
    },
    {
     "data": {
      "text/html": [
       "<pre>recommendations finished on 738000/2088478 queries. users per second: 5970.23</pre>"
      ],
      "text/plain": [
       "recommendations finished on 738000/2088478 queries. users per second: 5970.23"
      ]
     },
     "metadata": {},
     "output_type": "display_data"
    },
    {
     "data": {
      "text/html": [
       "<pre>recommendations finished on 739000/2088478 queries. users per second: 5971.01</pre>"
      ],
      "text/plain": [
       "recommendations finished on 739000/2088478 queries. users per second: 5971.01"
      ]
     },
     "metadata": {},
     "output_type": "display_data"
    },
    {
     "data": {
      "text/html": [
       "<pre>recommendations finished on 740000/2088478 queries. users per second: 5971.8</pre>"
      ],
      "text/plain": [
       "recommendations finished on 740000/2088478 queries. users per second: 5971.8"
      ]
     },
     "metadata": {},
     "output_type": "display_data"
    },
    {
     "data": {
      "text/html": [
       "<pre>recommendations finished on 741000/2088478 queries. users per second: 5972.7</pre>"
      ],
      "text/plain": [
       "recommendations finished on 741000/2088478 queries. users per second: 5972.7"
      ]
     },
     "metadata": {},
     "output_type": "display_data"
    },
    {
     "data": {
      "text/html": [
       "<pre>recommendations finished on 742000/2088478 queries. users per second: 5973.4</pre>"
      ],
      "text/plain": [
       "recommendations finished on 742000/2088478 queries. users per second: 5973.4"
      ]
     },
     "metadata": {},
     "output_type": "display_data"
    },
    {
     "data": {
      "text/html": [
       "<pre>recommendations finished on 743000/2088478 queries. users per second: 5974.35</pre>"
      ],
      "text/plain": [
       "recommendations finished on 743000/2088478 queries. users per second: 5974.35"
      ]
     },
     "metadata": {},
     "output_type": "display_data"
    },
    {
     "data": {
      "text/html": [
       "<pre>recommendations finished on 744000/2088478 queries. users per second: 5975.28</pre>"
      ],
      "text/plain": [
       "recommendations finished on 744000/2088478 queries. users per second: 5975.28"
      ]
     },
     "metadata": {},
     "output_type": "display_data"
    },
    {
     "data": {
      "text/html": [
       "<pre>recommendations finished on 745000/2088478 queries. users per second: 5976.34</pre>"
      ],
      "text/plain": [
       "recommendations finished on 745000/2088478 queries. users per second: 5976.34"
      ]
     },
     "metadata": {},
     "output_type": "display_data"
    },
    {
     "data": {
      "text/html": [
       "<pre>recommendations finished on 746000/2088478 queries. users per second: 5977.22</pre>"
      ],
      "text/plain": [
       "recommendations finished on 746000/2088478 queries. users per second: 5977.22"
      ]
     },
     "metadata": {},
     "output_type": "display_data"
    },
    {
     "data": {
      "text/html": [
       "<pre>recommendations finished on 747000/2088478 queries. users per second: 5978.13</pre>"
      ],
      "text/plain": [
       "recommendations finished on 747000/2088478 queries. users per second: 5978.13"
      ]
     },
     "metadata": {},
     "output_type": "display_data"
    },
    {
     "data": {
      "text/html": [
       "<pre>recommendations finished on 748000/2088478 queries. users per second: 5979.15</pre>"
      ],
      "text/plain": [
       "recommendations finished on 748000/2088478 queries. users per second: 5979.15"
      ]
     },
     "metadata": {},
     "output_type": "display_data"
    },
    {
     "data": {
      "text/html": [
       "<pre>recommendations finished on 749000/2088478 queries. users per second: 5979.54</pre>"
      ],
      "text/plain": [
       "recommendations finished on 749000/2088478 queries. users per second: 5979.54"
      ]
     },
     "metadata": {},
     "output_type": "display_data"
    },
    {
     "data": {
      "text/html": [
       "<pre>recommendations finished on 750000/2088478 queries. users per second: 5980.15</pre>"
      ],
      "text/plain": [
       "recommendations finished on 750000/2088478 queries. users per second: 5980.15"
      ]
     },
     "metadata": {},
     "output_type": "display_data"
    },
    {
     "data": {
      "text/html": [
       "<pre>recommendations finished on 751000/2088478 queries. users per second: 5981.09</pre>"
      ],
      "text/plain": [
       "recommendations finished on 751000/2088478 queries. users per second: 5981.09"
      ]
     },
     "metadata": {},
     "output_type": "display_data"
    },
    {
     "data": {
      "text/html": [
       "<pre>recommendations finished on 752000/2088478 queries. users per second: 5981.54</pre>"
      ],
      "text/plain": [
       "recommendations finished on 752000/2088478 queries. users per second: 5981.54"
      ]
     },
     "metadata": {},
     "output_type": "display_data"
    },
    {
     "data": {
      "text/html": [
       "<pre>recommendations finished on 753000/2088478 queries. users per second: 5981.8</pre>"
      ],
      "text/plain": [
       "recommendations finished on 753000/2088478 queries. users per second: 5981.8"
      ]
     },
     "metadata": {},
     "output_type": "display_data"
    },
    {
     "data": {
      "text/html": [
       "<pre>recommendations finished on 754000/2088478 queries. users per second: 5981.27</pre>"
      ],
      "text/plain": [
       "recommendations finished on 754000/2088478 queries. users per second: 5981.27"
      ]
     },
     "metadata": {},
     "output_type": "display_data"
    },
    {
     "data": {
      "text/html": [
       "<pre>recommendations finished on 755000/2088478 queries. users per second: 5980.93</pre>"
      ],
      "text/plain": [
       "recommendations finished on 755000/2088478 queries. users per second: 5980.93"
      ]
     },
     "metadata": {},
     "output_type": "display_data"
    },
    {
     "data": {
      "text/html": [
       "<pre>recommendations finished on 756000/2088478 queries. users per second: 5981.15</pre>"
      ],
      "text/plain": [
       "recommendations finished on 756000/2088478 queries. users per second: 5981.15"
      ]
     },
     "metadata": {},
     "output_type": "display_data"
    },
    {
     "data": {
      "text/html": [
       "<pre>recommendations finished on 757000/2088478 queries. users per second: 5979.69</pre>"
      ],
      "text/plain": [
       "recommendations finished on 757000/2088478 queries. users per second: 5979.69"
      ]
     },
     "metadata": {},
     "output_type": "display_data"
    },
    {
     "data": {
      "text/html": [
       "<pre>recommendations finished on 758000/2088478 queries. users per second: 5978.02</pre>"
      ],
      "text/plain": [
       "recommendations finished on 758000/2088478 queries. users per second: 5978.02"
      ]
     },
     "metadata": {},
     "output_type": "display_data"
    },
    {
     "data": {
      "text/html": [
       "<pre>recommendations finished on 759000/2088478 queries. users per second: 5978.69</pre>"
      ],
      "text/plain": [
       "recommendations finished on 759000/2088478 queries. users per second: 5978.69"
      ]
     },
     "metadata": {},
     "output_type": "display_data"
    },
    {
     "data": {
      "text/html": [
       "<pre>recommendations finished on 760000/2088478 queries. users per second: 5978.3</pre>"
      ],
      "text/plain": [
       "recommendations finished on 760000/2088478 queries. users per second: 5978.3"
      ]
     },
     "metadata": {},
     "output_type": "display_data"
    },
    {
     "data": {
      "text/html": [
       "<pre>recommendations finished on 761000/2088478 queries. users per second: 5977.61</pre>"
      ],
      "text/plain": [
       "recommendations finished on 761000/2088478 queries. users per second: 5977.61"
      ]
     },
     "metadata": {},
     "output_type": "display_data"
    },
    {
     "data": {
      "text/html": [
       "<pre>recommendations finished on 762000/2088478 queries. users per second: 5977.88</pre>"
      ],
      "text/plain": [
       "recommendations finished on 762000/2088478 queries. users per second: 5977.88"
      ]
     },
     "metadata": {},
     "output_type": "display_data"
    },
    {
     "data": {
      "text/html": [
       "<pre>recommendations finished on 763000/2088478 queries. users per second: 5977.65</pre>"
      ],
      "text/plain": [
       "recommendations finished on 763000/2088478 queries. users per second: 5977.65"
      ]
     },
     "metadata": {},
     "output_type": "display_data"
    },
    {
     "data": {
      "text/html": [
       "<pre>recommendations finished on 764000/2088478 queries. users per second: 5976.67</pre>"
      ],
      "text/plain": [
       "recommendations finished on 764000/2088478 queries. users per second: 5976.67"
      ]
     },
     "metadata": {},
     "output_type": "display_data"
    },
    {
     "data": {
      "text/html": [
       "<pre>recommendations finished on 765000/2088478 queries. users per second: 5976.95</pre>"
      ],
      "text/plain": [
       "recommendations finished on 765000/2088478 queries. users per second: 5976.95"
      ]
     },
     "metadata": {},
     "output_type": "display_data"
    },
    {
     "data": {
      "text/html": [
       "<pre>recommendations finished on 766000/2088478 queries. users per second: 5977.81</pre>"
      ],
      "text/plain": [
       "recommendations finished on 766000/2088478 queries. users per second: 5977.81"
      ]
     },
     "metadata": {},
     "output_type": "display_data"
    },
    {
     "data": {
      "text/html": [
       "<pre>recommendations finished on 767000/2088478 queries. users per second: 5978.46</pre>"
      ],
      "text/plain": [
       "recommendations finished on 767000/2088478 queries. users per second: 5978.46"
      ]
     },
     "metadata": {},
     "output_type": "display_data"
    },
    {
     "data": {
      "text/html": [
       "<pre>recommendations finished on 768000/2088478 queries. users per second: 5979.08</pre>"
      ],
      "text/plain": [
       "recommendations finished on 768000/2088478 queries. users per second: 5979.08"
      ]
     },
     "metadata": {},
     "output_type": "display_data"
    },
    {
     "data": {
      "text/html": [
       "<pre>recommendations finished on 769000/2088478 queries. users per second: 5978.47</pre>"
      ],
      "text/plain": [
       "recommendations finished on 769000/2088478 queries. users per second: 5978.47"
      ]
     },
     "metadata": {},
     "output_type": "display_data"
    },
    {
     "data": {
      "text/html": [
       "<pre>recommendations finished on 770000/2088478 queries. users per second: 5978.01</pre>"
      ],
      "text/plain": [
       "recommendations finished on 770000/2088478 queries. users per second: 5978.01"
      ]
     },
     "metadata": {},
     "output_type": "display_data"
    },
    {
     "data": {
      "text/html": [
       "<pre>recommendations finished on 771000/2088478 queries. users per second: 5978.67</pre>"
      ],
      "text/plain": [
       "recommendations finished on 771000/2088478 queries. users per second: 5978.67"
      ]
     },
     "metadata": {},
     "output_type": "display_data"
    },
    {
     "data": {
      "text/html": [
       "<pre>recommendations finished on 772000/2088478 queries. users per second: 5978.28</pre>"
      ],
      "text/plain": [
       "recommendations finished on 772000/2088478 queries. users per second: 5978.28"
      ]
     },
     "metadata": {},
     "output_type": "display_data"
    },
    {
     "data": {
      "text/html": [
       "<pre>recommendations finished on 773000/2088478 queries. users per second: 5978.41</pre>"
      ],
      "text/plain": [
       "recommendations finished on 773000/2088478 queries. users per second: 5978.41"
      ]
     },
     "metadata": {},
     "output_type": "display_data"
    },
    {
     "data": {
      "text/html": [
       "<pre>recommendations finished on 774000/2088478 queries. users per second: 5978.57</pre>"
      ],
      "text/plain": [
       "recommendations finished on 774000/2088478 queries. users per second: 5978.57"
      ]
     },
     "metadata": {},
     "output_type": "display_data"
    },
    {
     "data": {
      "text/html": [
       "<pre>recommendations finished on 775000/2088478 queries. users per second: 5979.39</pre>"
      ],
      "text/plain": [
       "recommendations finished on 775000/2088478 queries. users per second: 5979.39"
      ]
     },
     "metadata": {},
     "output_type": "display_data"
    },
    {
     "data": {
      "text/html": [
       "<pre>recommendations finished on 776000/2088478 queries. users per second: 5979.83</pre>"
      ],
      "text/plain": [
       "recommendations finished on 776000/2088478 queries. users per second: 5979.83"
      ]
     },
     "metadata": {},
     "output_type": "display_data"
    },
    {
     "data": {
      "text/html": [
       "<pre>recommendations finished on 777000/2088478 queries. users per second: 5979</pre>"
      ],
      "text/plain": [
       "recommendations finished on 777000/2088478 queries. users per second: 5979"
      ]
     },
     "metadata": {},
     "output_type": "display_data"
    },
    {
     "data": {
      "text/html": [
       "<pre>recommendations finished on 778000/2088478 queries. users per second: 5979.71</pre>"
      ],
      "text/plain": [
       "recommendations finished on 778000/2088478 queries. users per second: 5979.71"
      ]
     },
     "metadata": {},
     "output_type": "display_data"
    },
    {
     "data": {
      "text/html": [
       "<pre>recommendations finished on 779000/2088478 queries. users per second: 5979.72</pre>"
      ],
      "text/plain": [
       "recommendations finished on 779000/2088478 queries. users per second: 5979.72"
      ]
     },
     "metadata": {},
     "output_type": "display_data"
    },
    {
     "data": {
      "text/html": [
       "<pre>recommendations finished on 780000/2088478 queries. users per second: 5980.83</pre>"
      ],
      "text/plain": [
       "recommendations finished on 780000/2088478 queries. users per second: 5980.83"
      ]
     },
     "metadata": {},
     "output_type": "display_data"
    },
    {
     "data": {
      "text/html": [
       "<pre>recommendations finished on 781000/2088478 queries. users per second: 5981.61</pre>"
      ],
      "text/plain": [
       "recommendations finished on 781000/2088478 queries. users per second: 5981.61"
      ]
     },
     "metadata": {},
     "output_type": "display_data"
    },
    {
     "data": {
      "text/html": [
       "<pre>recommendations finished on 782000/2088478 queries. users per second: 5980.56</pre>"
      ],
      "text/plain": [
       "recommendations finished on 782000/2088478 queries. users per second: 5980.56"
      ]
     },
     "metadata": {},
     "output_type": "display_data"
    },
    {
     "data": {
      "text/html": [
       "<pre>recommendations finished on 783000/2088478 queries. users per second: 5981.31</pre>"
      ],
      "text/plain": [
       "recommendations finished on 783000/2088478 queries. users per second: 5981.31"
      ]
     },
     "metadata": {},
     "output_type": "display_data"
    },
    {
     "data": {
      "text/html": [
       "<pre>recommendations finished on 784000/2088478 queries. users per second: 5981.44</pre>"
      ],
      "text/plain": [
       "recommendations finished on 784000/2088478 queries. users per second: 5981.44"
      ]
     },
     "metadata": {},
     "output_type": "display_data"
    },
    {
     "data": {
      "text/html": [
       "<pre>recommendations finished on 785000/2088478 queries. users per second: 5982.1</pre>"
      ],
      "text/plain": [
       "recommendations finished on 785000/2088478 queries. users per second: 5982.1"
      ]
     },
     "metadata": {},
     "output_type": "display_data"
    },
    {
     "data": {
      "text/html": [
       "<pre>recommendations finished on 786000/2088478 queries. users per second: 5982.56</pre>"
      ],
      "text/plain": [
       "recommendations finished on 786000/2088478 queries. users per second: 5982.56"
      ]
     },
     "metadata": {},
     "output_type": "display_data"
    },
    {
     "data": {
      "text/html": [
       "<pre>recommendations finished on 787000/2088478 queries. users per second: 5982.58</pre>"
      ],
      "text/plain": [
       "recommendations finished on 787000/2088478 queries. users per second: 5982.58"
      ]
     },
     "metadata": {},
     "output_type": "display_data"
    },
    {
     "data": {
      "text/html": [
       "<pre>recommendations finished on 788000/2088478 queries. users per second: 5983.36</pre>"
      ],
      "text/plain": [
       "recommendations finished on 788000/2088478 queries. users per second: 5983.36"
      ]
     },
     "metadata": {},
     "output_type": "display_data"
    },
    {
     "data": {
      "text/html": [
       "<pre>recommendations finished on 789000/2088478 queries. users per second: 5984.32</pre>"
      ],
      "text/plain": [
       "recommendations finished on 789000/2088478 queries. users per second: 5984.32"
      ]
     },
     "metadata": {},
     "output_type": "display_data"
    },
    {
     "data": {
      "text/html": [
       "<pre>recommendations finished on 790000/2088478 queries. users per second: 5985.04</pre>"
      ],
      "text/plain": [
       "recommendations finished on 790000/2088478 queries. users per second: 5985.04"
      ]
     },
     "metadata": {},
     "output_type": "display_data"
    },
    {
     "data": {
      "text/html": [
       "<pre>recommendations finished on 791000/2088478 queries. users per second: 5985.76</pre>"
      ],
      "text/plain": [
       "recommendations finished on 791000/2088478 queries. users per second: 5985.76"
      ]
     },
     "metadata": {},
     "output_type": "display_data"
    },
    {
     "data": {
      "text/html": [
       "<pre>recommendations finished on 792000/2088478 queries. users per second: 5985.24</pre>"
      ],
      "text/plain": [
       "recommendations finished on 792000/2088478 queries. users per second: 5985.24"
      ]
     },
     "metadata": {},
     "output_type": "display_data"
    },
    {
     "data": {
      "text/html": [
       "<pre>recommendations finished on 793000/2088478 queries. users per second: 5985.71</pre>"
      ],
      "text/plain": [
       "recommendations finished on 793000/2088478 queries. users per second: 5985.71"
      ]
     },
     "metadata": {},
     "output_type": "display_data"
    },
    {
     "data": {
      "text/html": [
       "<pre>recommendations finished on 794000/2088478 queries. users per second: 5986.53</pre>"
      ],
      "text/plain": [
       "recommendations finished on 794000/2088478 queries. users per second: 5986.53"
      ]
     },
     "metadata": {},
     "output_type": "display_data"
    },
    {
     "data": {
      "text/html": [
       "<pre>recommendations finished on 795000/2088478 queries. users per second: 5987.57</pre>"
      ],
      "text/plain": [
       "recommendations finished on 795000/2088478 queries. users per second: 5987.57"
      ]
     },
     "metadata": {},
     "output_type": "display_data"
    },
    {
     "data": {
      "text/html": [
       "<pre>recommendations finished on 796000/2088478 queries. users per second: 5988.48</pre>"
      ],
      "text/plain": [
       "recommendations finished on 796000/2088478 queries. users per second: 5988.48"
      ]
     },
     "metadata": {},
     "output_type": "display_data"
    },
    {
     "data": {
      "text/html": [
       "<pre>recommendations finished on 797000/2088478 queries. users per second: 5989.32</pre>"
      ],
      "text/plain": [
       "recommendations finished on 797000/2088478 queries. users per second: 5989.32"
      ]
     },
     "metadata": {},
     "output_type": "display_data"
    },
    {
     "data": {
      "text/html": [
       "<pre>recommendations finished on 798000/2088478 queries. users per second: 5990.27</pre>"
      ],
      "text/plain": [
       "recommendations finished on 798000/2088478 queries. users per second: 5990.27"
      ]
     },
     "metadata": {},
     "output_type": "display_data"
    },
    {
     "data": {
      "text/html": [
       "<pre>recommendations finished on 799000/2088478 queries. users per second: 5991.06</pre>"
      ],
      "text/plain": [
       "recommendations finished on 799000/2088478 queries. users per second: 5991.06"
      ]
     },
     "metadata": {},
     "output_type": "display_data"
    },
    {
     "data": {
      "text/html": [
       "<pre>recommendations finished on 800000/2088478 queries. users per second: 5991.95</pre>"
      ],
      "text/plain": [
       "recommendations finished on 800000/2088478 queries. users per second: 5991.95"
      ]
     },
     "metadata": {},
     "output_type": "display_data"
    },
    {
     "data": {
      "text/html": [
       "<pre>recommendations finished on 801000/2088478 queries. users per second: 5992.85</pre>"
      ],
      "text/plain": [
       "recommendations finished on 801000/2088478 queries. users per second: 5992.85"
      ]
     },
     "metadata": {},
     "output_type": "display_data"
    },
    {
     "data": {
      "text/html": [
       "<pre>recommendations finished on 802000/2088478 queries. users per second: 5993.64</pre>"
      ],
      "text/plain": [
       "recommendations finished on 802000/2088478 queries. users per second: 5993.64"
      ]
     },
     "metadata": {},
     "output_type": "display_data"
    },
    {
     "data": {
      "text/html": [
       "<pre>recommendations finished on 803000/2088478 queries. users per second: 5994.53</pre>"
      ],
      "text/plain": [
       "recommendations finished on 803000/2088478 queries. users per second: 5994.53"
      ]
     },
     "metadata": {},
     "output_type": "display_data"
    },
    {
     "data": {
      "text/html": [
       "<pre>recommendations finished on 804000/2088478 queries. users per second: 5995.11</pre>"
      ],
      "text/plain": [
       "recommendations finished on 804000/2088478 queries. users per second: 5995.11"
      ]
     },
     "metadata": {},
     "output_type": "display_data"
    },
    {
     "data": {
      "text/html": [
       "<pre>recommendations finished on 805000/2088478 queries. users per second: 5995.79</pre>"
      ],
      "text/plain": [
       "recommendations finished on 805000/2088478 queries. users per second: 5995.79"
      ]
     },
     "metadata": {},
     "output_type": "display_data"
    },
    {
     "data": {
      "text/html": [
       "<pre>recommendations finished on 806000/2088478 queries. users per second: 5996.59</pre>"
      ],
      "text/plain": [
       "recommendations finished on 806000/2088478 queries. users per second: 5996.59"
      ]
     },
     "metadata": {},
     "output_type": "display_data"
    },
    {
     "data": {
      "text/html": [
       "<pre>recommendations finished on 807000/2088478 queries. users per second: 5997.46</pre>"
      ],
      "text/plain": [
       "recommendations finished on 807000/2088478 queries. users per second: 5997.46"
      ]
     },
     "metadata": {},
     "output_type": "display_data"
    },
    {
     "data": {
      "text/html": [
       "<pre>recommendations finished on 808000/2088478 queries. users per second: 5997.36</pre>"
      ],
      "text/plain": [
       "recommendations finished on 808000/2088478 queries. users per second: 5997.36"
      ]
     },
     "metadata": {},
     "output_type": "display_data"
    },
    {
     "data": {
      "text/html": [
       "<pre>recommendations finished on 809000/2088478 queries. users per second: 5997.6</pre>"
      ],
      "text/plain": [
       "recommendations finished on 809000/2088478 queries. users per second: 5997.6"
      ]
     },
     "metadata": {},
     "output_type": "display_data"
    },
    {
     "data": {
      "text/html": [
       "<pre>recommendations finished on 810000/2088478 queries. users per second: 5998.45</pre>"
      ],
      "text/plain": [
       "recommendations finished on 810000/2088478 queries. users per second: 5998.45"
      ]
     },
     "metadata": {},
     "output_type": "display_data"
    },
    {
     "data": {
      "text/html": [
       "<pre>recommendations finished on 811000/2088478 queries. users per second: 5998.62</pre>"
      ],
      "text/plain": [
       "recommendations finished on 811000/2088478 queries. users per second: 5998.62"
      ]
     },
     "metadata": {},
     "output_type": "display_data"
    },
    {
     "data": {
      "text/html": [
       "<pre>recommendations finished on 812000/2088478 queries. users per second: 5999.59</pre>"
      ],
      "text/plain": [
       "recommendations finished on 812000/2088478 queries. users per second: 5999.59"
      ]
     },
     "metadata": {},
     "output_type": "display_data"
    },
    {
     "data": {
      "text/html": [
       "<pre>recommendations finished on 813000/2088478 queries. users per second: 5998.6</pre>"
      ],
      "text/plain": [
       "recommendations finished on 813000/2088478 queries. users per second: 5998.6"
      ]
     },
     "metadata": {},
     "output_type": "display_data"
    },
    {
     "data": {
      "text/html": [
       "<pre>recommendations finished on 814000/2088478 queries. users per second: 5997.48</pre>"
      ],
      "text/plain": [
       "recommendations finished on 814000/2088478 queries. users per second: 5997.48"
      ]
     },
     "metadata": {},
     "output_type": "display_data"
    },
    {
     "data": {
      "text/html": [
       "<pre>recommendations finished on 815000/2088478 queries. users per second: 5998.26</pre>"
      ],
      "text/plain": [
       "recommendations finished on 815000/2088478 queries. users per second: 5998.26"
      ]
     },
     "metadata": {},
     "output_type": "display_data"
    },
    {
     "data": {
      "text/html": [
       "<pre>recommendations finished on 816000/2088478 queries. users per second: 5997.66</pre>"
      ],
      "text/plain": [
       "recommendations finished on 816000/2088478 queries. users per second: 5997.66"
      ]
     },
     "metadata": {},
     "output_type": "display_data"
    },
    {
     "data": {
      "text/html": [
       "<pre>recommendations finished on 817000/2088478 queries. users per second: 5997.67</pre>"
      ],
      "text/plain": [
       "recommendations finished on 817000/2088478 queries. users per second: 5997.67"
      ]
     },
     "metadata": {},
     "output_type": "display_data"
    },
    {
     "data": {
      "text/html": [
       "<pre>recommendations finished on 818000/2088478 queries. users per second: 5997.09</pre>"
      ],
      "text/plain": [
       "recommendations finished on 818000/2088478 queries. users per second: 5997.09"
      ]
     },
     "metadata": {},
     "output_type": "display_data"
    },
    {
     "data": {
      "text/html": [
       "<pre>recommendations finished on 819000/2088478 queries. users per second: 5996.81</pre>"
      ],
      "text/plain": [
       "recommendations finished on 819000/2088478 queries. users per second: 5996.81"
      ]
     },
     "metadata": {},
     "output_type": "display_data"
    },
    {
     "data": {
      "text/html": [
       "<pre>recommendations finished on 820000/2088478 queries. users per second: 5995.95</pre>"
      ],
      "text/plain": [
       "recommendations finished on 820000/2088478 queries. users per second: 5995.95"
      ]
     },
     "metadata": {},
     "output_type": "display_data"
    },
    {
     "data": {
      "text/html": [
       "<pre>recommendations finished on 821000/2088478 queries. users per second: 5995.58</pre>"
      ],
      "text/plain": [
       "recommendations finished on 821000/2088478 queries. users per second: 5995.58"
      ]
     },
     "metadata": {},
     "output_type": "display_data"
    },
    {
     "data": {
      "text/html": [
       "<pre>recommendations finished on 822000/2088478 queries. users per second: 5995.55</pre>"
      ],
      "text/plain": [
       "recommendations finished on 822000/2088478 queries. users per second: 5995.55"
      ]
     },
     "metadata": {},
     "output_type": "display_data"
    },
    {
     "data": {
      "text/html": [
       "<pre>recommendations finished on 823000/2088478 queries. users per second: 5995.11</pre>"
      ],
      "text/plain": [
       "recommendations finished on 823000/2088478 queries. users per second: 5995.11"
      ]
     },
     "metadata": {},
     "output_type": "display_data"
    },
    {
     "data": {
      "text/html": [
       "<pre>recommendations finished on 824000/2088478 queries. users per second: 5994.93</pre>"
      ],
      "text/plain": [
       "recommendations finished on 824000/2088478 queries. users per second: 5994.93"
      ]
     },
     "metadata": {},
     "output_type": "display_data"
    },
    {
     "data": {
      "text/html": [
       "<pre>recommendations finished on 825000/2088478 queries. users per second: 5994.95</pre>"
      ],
      "text/plain": [
       "recommendations finished on 825000/2088478 queries. users per second: 5994.95"
      ]
     },
     "metadata": {},
     "output_type": "display_data"
    },
    {
     "data": {
      "text/html": [
       "<pre>recommendations finished on 826000/2088478 queries. users per second: 5994.73</pre>"
      ],
      "text/plain": [
       "recommendations finished on 826000/2088478 queries. users per second: 5994.73"
      ]
     },
     "metadata": {},
     "output_type": "display_data"
    },
    {
     "data": {
      "text/html": [
       "<pre>recommendations finished on 827000/2088478 queries. users per second: 5994.4</pre>"
      ],
      "text/plain": [
       "recommendations finished on 827000/2088478 queries. users per second: 5994.4"
      ]
     },
     "metadata": {},
     "output_type": "display_data"
    },
    {
     "data": {
      "text/html": [
       "<pre>recommendations finished on 828000/2088478 queries. users per second: 5993.69</pre>"
      ],
      "text/plain": [
       "recommendations finished on 828000/2088478 queries. users per second: 5993.69"
      ]
     },
     "metadata": {},
     "output_type": "display_data"
    },
    {
     "data": {
      "text/html": [
       "<pre>recommendations finished on 829000/2088478 queries. users per second: 5993.09</pre>"
      ],
      "text/plain": [
       "recommendations finished on 829000/2088478 queries. users per second: 5993.09"
      ]
     },
     "metadata": {},
     "output_type": "display_data"
    },
    {
     "data": {
      "text/html": [
       "<pre>recommendations finished on 830000/2088478 queries. users per second: 5992.47</pre>"
      ],
      "text/plain": [
       "recommendations finished on 830000/2088478 queries. users per second: 5992.47"
      ]
     },
     "metadata": {},
     "output_type": "display_data"
    },
    {
     "data": {
      "text/html": [
       "<pre>recommendations finished on 831000/2088478 queries. users per second: 5991.39</pre>"
      ],
      "text/plain": [
       "recommendations finished on 831000/2088478 queries. users per second: 5991.39"
      ]
     },
     "metadata": {},
     "output_type": "display_data"
    },
    {
     "data": {
      "text/html": [
       "<pre>recommendations finished on 832000/2088478 queries. users per second: 5991.6</pre>"
      ],
      "text/plain": [
       "recommendations finished on 832000/2088478 queries. users per second: 5991.6"
      ]
     },
     "metadata": {},
     "output_type": "display_data"
    },
    {
     "data": {
      "text/html": [
       "<pre>recommendations finished on 833000/2088478 queries. users per second: 5991</pre>"
      ],
      "text/plain": [
       "recommendations finished on 833000/2088478 queries. users per second: 5991"
      ]
     },
     "metadata": {},
     "output_type": "display_data"
    },
    {
     "data": {
      "text/html": [
       "<pre>recommendations finished on 834000/2088478 queries. users per second: 5989.62</pre>"
      ],
      "text/plain": [
       "recommendations finished on 834000/2088478 queries. users per second: 5989.62"
      ]
     },
     "metadata": {},
     "output_type": "display_data"
    },
    {
     "data": {
      "text/html": [
       "<pre>recommendations finished on 835000/2088478 queries. users per second: 5988.78</pre>"
      ],
      "text/plain": [
       "recommendations finished on 835000/2088478 queries. users per second: 5988.78"
      ]
     },
     "metadata": {},
     "output_type": "display_data"
    },
    {
     "data": {
      "text/html": [
       "<pre>recommendations finished on 836000/2088478 queries. users per second: 5987.36</pre>"
      ],
      "text/plain": [
       "recommendations finished on 836000/2088478 queries. users per second: 5987.36"
      ]
     },
     "metadata": {},
     "output_type": "display_data"
    },
    {
     "data": {
      "text/html": [
       "<pre>recommendations finished on 837000/2088478 queries. users per second: 5986.34</pre>"
      ],
      "text/plain": [
       "recommendations finished on 837000/2088478 queries. users per second: 5986.34"
      ]
     },
     "metadata": {},
     "output_type": "display_data"
    },
    {
     "data": {
      "text/html": [
       "<pre>recommendations finished on 838000/2088478 queries. users per second: 5986.82</pre>"
      ],
      "text/plain": [
       "recommendations finished on 838000/2088478 queries. users per second: 5986.82"
      ]
     },
     "metadata": {},
     "output_type": "display_data"
    },
    {
     "data": {
      "text/html": [
       "<pre>recommendations finished on 839000/2088478 queries. users per second: 5987.14</pre>"
      ],
      "text/plain": [
       "recommendations finished on 839000/2088478 queries. users per second: 5987.14"
      ]
     },
     "metadata": {},
     "output_type": "display_data"
    },
    {
     "data": {
      "text/html": [
       "<pre>recommendations finished on 840000/2088478 queries. users per second: 5985.34</pre>"
      ],
      "text/plain": [
       "recommendations finished on 840000/2088478 queries. users per second: 5985.34"
      ]
     },
     "metadata": {},
     "output_type": "display_data"
    },
    {
     "data": {
      "text/html": [
       "<pre>recommendations finished on 841000/2088478 queries. users per second: 5985.31</pre>"
      ],
      "text/plain": [
       "recommendations finished on 841000/2088478 queries. users per second: 5985.31"
      ]
     },
     "metadata": {},
     "output_type": "display_data"
    },
    {
     "data": {
      "text/html": [
       "<pre>recommendations finished on 842000/2088478 queries. users per second: 5986.14</pre>"
      ],
      "text/plain": [
       "recommendations finished on 842000/2088478 queries. users per second: 5986.14"
      ]
     },
     "metadata": {},
     "output_type": "display_data"
    },
    {
     "data": {
      "text/html": [
       "<pre>recommendations finished on 843000/2088478 queries. users per second: 5986.26</pre>"
      ],
      "text/plain": [
       "recommendations finished on 843000/2088478 queries. users per second: 5986.26"
      ]
     },
     "metadata": {},
     "output_type": "display_data"
    },
    {
     "data": {
      "text/html": [
       "<pre>recommendations finished on 844000/2088478 queries. users per second: 5984.58</pre>"
      ],
      "text/plain": [
       "recommendations finished on 844000/2088478 queries. users per second: 5984.58"
      ]
     },
     "metadata": {},
     "output_type": "display_data"
    },
    {
     "data": {
      "text/html": [
       "<pre>recommendations finished on 845000/2088478 queries. users per second: 5985.66</pre>"
      ],
      "text/plain": [
       "recommendations finished on 845000/2088478 queries. users per second: 5985.66"
      ]
     },
     "metadata": {},
     "output_type": "display_data"
    },
    {
     "data": {
      "text/html": [
       "<pre>recommendations finished on 846000/2088478 queries. users per second: 5985.53</pre>"
      ],
      "text/plain": [
       "recommendations finished on 846000/2088478 queries. users per second: 5985.53"
      ]
     },
     "metadata": {},
     "output_type": "display_data"
    },
    {
     "data": {
      "text/html": [
       "<pre>recommendations finished on 847000/2088478 queries. users per second: 5982.89</pre>"
      ],
      "text/plain": [
       "recommendations finished on 847000/2088478 queries. users per second: 5982.89"
      ]
     },
     "metadata": {},
     "output_type": "display_data"
    },
    {
     "data": {
      "text/html": [
       "<pre>recommendations finished on 848000/2088478 queries. users per second: 5982.39</pre>"
      ],
      "text/plain": [
       "recommendations finished on 848000/2088478 queries. users per second: 5982.39"
      ]
     },
     "metadata": {},
     "output_type": "display_data"
    },
    {
     "data": {
      "text/html": [
       "<pre>recommendations finished on 849000/2088478 queries. users per second: 5983.36</pre>"
      ],
      "text/plain": [
       "recommendations finished on 849000/2088478 queries. users per second: 5983.36"
      ]
     },
     "metadata": {},
     "output_type": "display_data"
    },
    {
     "data": {
      "text/html": [
       "<pre>recommendations finished on 850000/2088478 queries. users per second: 5984.54</pre>"
      ],
      "text/plain": [
       "recommendations finished on 850000/2088478 queries. users per second: 5984.54"
      ]
     },
     "metadata": {},
     "output_type": "display_data"
    },
    {
     "data": {
      "text/html": [
       "<pre>recommendations finished on 851000/2088478 queries. users per second: 5984.46</pre>"
      ],
      "text/plain": [
       "recommendations finished on 851000/2088478 queries. users per second: 5984.46"
      ]
     },
     "metadata": {},
     "output_type": "display_data"
    },
    {
     "data": {
      "text/html": [
       "<pre>recommendations finished on 852000/2088478 queries. users per second: 5982.88</pre>"
      ],
      "text/plain": [
       "recommendations finished on 852000/2088478 queries. users per second: 5982.88"
      ]
     },
     "metadata": {},
     "output_type": "display_data"
    },
    {
     "data": {
      "text/html": [
       "<pre>recommendations finished on 853000/2088478 queries. users per second: 5983.13</pre>"
      ],
      "text/plain": [
       "recommendations finished on 853000/2088478 queries. users per second: 5983.13"
      ]
     },
     "metadata": {},
     "output_type": "display_data"
    },
    {
     "data": {
      "text/html": [
       "<pre>recommendations finished on 854000/2088478 queries. users per second: 5983.89</pre>"
      ],
      "text/plain": [
       "recommendations finished on 854000/2088478 queries. users per second: 5983.89"
      ]
     },
     "metadata": {},
     "output_type": "display_data"
    },
    {
     "data": {
      "text/html": [
       "<pre>recommendations finished on 855000/2088478 queries. users per second: 5982.53</pre>"
      ],
      "text/plain": [
       "recommendations finished on 855000/2088478 queries. users per second: 5982.53"
      ]
     },
     "metadata": {},
     "output_type": "display_data"
    },
    {
     "data": {
      "text/html": [
       "<pre>recommendations finished on 856000/2088478 queries. users per second: 5982.46</pre>"
      ],
      "text/plain": [
       "recommendations finished on 856000/2088478 queries. users per second: 5982.46"
      ]
     },
     "metadata": {},
     "output_type": "display_data"
    },
    {
     "data": {
      "text/html": [
       "<pre>recommendations finished on 857000/2088478 queries. users per second: 5982.96</pre>"
      ],
      "text/plain": [
       "recommendations finished on 857000/2088478 queries. users per second: 5982.96"
      ]
     },
     "metadata": {},
     "output_type": "display_data"
    },
    {
     "data": {
      "text/html": [
       "<pre>recommendations finished on 858000/2088478 queries. users per second: 5982.8</pre>"
      ],
      "text/plain": [
       "recommendations finished on 858000/2088478 queries. users per second: 5982.8"
      ]
     },
     "metadata": {},
     "output_type": "display_data"
    },
    {
     "data": {
      "text/html": [
       "<pre>recommendations finished on 859000/2088478 queries. users per second: 5982.71</pre>"
      ],
      "text/plain": [
       "recommendations finished on 859000/2088478 queries. users per second: 5982.71"
      ]
     },
     "metadata": {},
     "output_type": "display_data"
    },
    {
     "data": {
      "text/html": [
       "<pre>recommendations finished on 860000/2088478 queries. users per second: 5982.58</pre>"
      ],
      "text/plain": [
       "recommendations finished on 860000/2088478 queries. users per second: 5982.58"
      ]
     },
     "metadata": {},
     "output_type": "display_data"
    },
    {
     "data": {
      "text/html": [
       "<pre>recommendations finished on 861000/2088478 queries. users per second: 5984</pre>"
      ],
      "text/plain": [
       "recommendations finished on 861000/2088478 queries. users per second: 5984"
      ]
     },
     "metadata": {},
     "output_type": "display_data"
    },
    {
     "data": {
      "text/html": [
       "<pre>recommendations finished on 862000/2088478 queries. users per second: 5984.93</pre>"
      ],
      "text/plain": [
       "recommendations finished on 862000/2088478 queries. users per second: 5984.93"
      ]
     },
     "metadata": {},
     "output_type": "display_data"
    },
    {
     "data": {
      "text/html": [
       "<pre>recommendations finished on 863000/2088478 queries. users per second: 5986.06</pre>"
      ],
      "text/plain": [
       "recommendations finished on 863000/2088478 queries. users per second: 5986.06"
      ]
     },
     "metadata": {},
     "output_type": "display_data"
    },
    {
     "data": {
      "text/html": [
       "<pre>recommendations finished on 864000/2088478 queries. users per second: 5987.2</pre>"
      ],
      "text/plain": [
       "recommendations finished on 864000/2088478 queries. users per second: 5987.2"
      ]
     },
     "metadata": {},
     "output_type": "display_data"
    },
    {
     "data": {
      "text/html": [
       "<pre>recommendations finished on 865000/2088478 queries. users per second: 5988</pre>"
      ],
      "text/plain": [
       "recommendations finished on 865000/2088478 queries. users per second: 5988"
      ]
     },
     "metadata": {},
     "output_type": "display_data"
    },
    {
     "data": {
      "text/html": [
       "<pre>recommendations finished on 866000/2088478 queries. users per second: 5989.03</pre>"
      ],
      "text/plain": [
       "recommendations finished on 866000/2088478 queries. users per second: 5989.03"
      ]
     },
     "metadata": {},
     "output_type": "display_data"
    },
    {
     "data": {
      "text/html": [
       "<pre>recommendations finished on 867000/2088478 queries. users per second: 5990.1</pre>"
      ],
      "text/plain": [
       "recommendations finished on 867000/2088478 queries. users per second: 5990.1"
      ]
     },
     "metadata": {},
     "output_type": "display_data"
    },
    {
     "data": {
      "text/html": [
       "<pre>recommendations finished on 868000/2088478 queries. users per second: 5991.24</pre>"
      ],
      "text/plain": [
       "recommendations finished on 868000/2088478 queries. users per second: 5991.24"
      ]
     },
     "metadata": {},
     "output_type": "display_data"
    },
    {
     "data": {
      "text/html": [
       "<pre>recommendations finished on 869000/2088478 queries. users per second: 5992.27</pre>"
      ],
      "text/plain": [
       "recommendations finished on 869000/2088478 queries. users per second: 5992.27"
      ]
     },
     "metadata": {},
     "output_type": "display_data"
    },
    {
     "data": {
      "text/html": [
       "<pre>recommendations finished on 870000/2088478 queries. users per second: 5993.25</pre>"
      ],
      "text/plain": [
       "recommendations finished on 870000/2088478 queries. users per second: 5993.25"
      ]
     },
     "metadata": {},
     "output_type": "display_data"
    },
    {
     "data": {
      "text/html": [
       "<pre>recommendations finished on 871000/2088478 queries. users per second: 5994.24</pre>"
      ],
      "text/plain": [
       "recommendations finished on 871000/2088478 queries. users per second: 5994.24"
      ]
     },
     "metadata": {},
     "output_type": "display_data"
    },
    {
     "data": {
      "text/html": [
       "<pre>recommendations finished on 872000/2088478 queries. users per second: 5995.43</pre>"
      ],
      "text/plain": [
       "recommendations finished on 872000/2088478 queries. users per second: 5995.43"
      ]
     },
     "metadata": {},
     "output_type": "display_data"
    },
    {
     "data": {
      "text/html": [
       "<pre>recommendations finished on 873000/2088478 queries. users per second: 5996.69</pre>"
      ],
      "text/plain": [
       "recommendations finished on 873000/2088478 queries. users per second: 5996.69"
      ]
     },
     "metadata": {},
     "output_type": "display_data"
    },
    {
     "data": {
      "text/html": [
       "<pre>recommendations finished on 874000/2088478 queries. users per second: 5997.71</pre>"
      ],
      "text/plain": [
       "recommendations finished on 874000/2088478 queries. users per second: 5997.71"
      ]
     },
     "metadata": {},
     "output_type": "display_data"
    },
    {
     "data": {
      "text/html": [
       "<pre>recommendations finished on 875000/2088478 queries. users per second: 5998.62</pre>"
      ],
      "text/plain": [
       "recommendations finished on 875000/2088478 queries. users per second: 5998.62"
      ]
     },
     "metadata": {},
     "output_type": "display_data"
    },
    {
     "data": {
      "text/html": [
       "<pre>recommendations finished on 876000/2088478 queries. users per second: 5999.73</pre>"
      ],
      "text/plain": [
       "recommendations finished on 876000/2088478 queries. users per second: 5999.73"
      ]
     },
     "metadata": {},
     "output_type": "display_data"
    },
    {
     "data": {
      "text/html": [
       "<pre>recommendations finished on 877000/2088478 queries. users per second: 6000.82</pre>"
      ],
      "text/plain": [
       "recommendations finished on 877000/2088478 queries. users per second: 6000.82"
      ]
     },
     "metadata": {},
     "output_type": "display_data"
    },
    {
     "data": {
      "text/html": [
       "<pre>recommendations finished on 878000/2088478 queries. users per second: 6001.84</pre>"
      ],
      "text/plain": [
       "recommendations finished on 878000/2088478 queries. users per second: 6001.84"
      ]
     },
     "metadata": {},
     "output_type": "display_data"
    },
    {
     "data": {
      "text/html": [
       "<pre>recommendations finished on 879000/2088478 queries. users per second: 6003.07</pre>"
      ],
      "text/plain": [
       "recommendations finished on 879000/2088478 queries. users per second: 6003.07"
      ]
     },
     "metadata": {},
     "output_type": "display_data"
    },
    {
     "data": {
      "text/html": [
       "<pre>recommendations finished on 880000/2088478 queries. users per second: 6004.38</pre>"
      ],
      "text/plain": [
       "recommendations finished on 880000/2088478 queries. users per second: 6004.38"
      ]
     },
     "metadata": {},
     "output_type": "display_data"
    },
    {
     "data": {
      "text/html": [
       "<pre>recommendations finished on 881000/2088478 queries. users per second: 6005.4</pre>"
      ],
      "text/plain": [
       "recommendations finished on 881000/2088478 queries. users per second: 6005.4"
      ]
     },
     "metadata": {},
     "output_type": "display_data"
    },
    {
     "data": {
      "text/html": [
       "<pre>recommendations finished on 882000/2088478 queries. users per second: 6006.46</pre>"
      ],
      "text/plain": [
       "recommendations finished on 882000/2088478 queries. users per second: 6006.46"
      ]
     },
     "metadata": {},
     "output_type": "display_data"
    },
    {
     "data": {
      "text/html": [
       "<pre>recommendations finished on 883000/2088478 queries. users per second: 6007.29</pre>"
      ],
      "text/plain": [
       "recommendations finished on 883000/2088478 queries. users per second: 6007.29"
      ]
     },
     "metadata": {},
     "output_type": "display_data"
    },
    {
     "data": {
      "text/html": [
       "<pre>recommendations finished on 884000/2088478 queries. users per second: 6008.49</pre>"
      ],
      "text/plain": [
       "recommendations finished on 884000/2088478 queries. users per second: 6008.49"
      ]
     },
     "metadata": {},
     "output_type": "display_data"
    },
    {
     "data": {
      "text/html": [
       "<pre>recommendations finished on 885000/2088478 queries. users per second: 6009.67</pre>"
      ],
      "text/plain": [
       "recommendations finished on 885000/2088478 queries. users per second: 6009.67"
      ]
     },
     "metadata": {},
     "output_type": "display_data"
    },
    {
     "data": {
      "text/html": [
       "<pre>recommendations finished on 886000/2088478 queries. users per second: 6010.78</pre>"
      ],
      "text/plain": [
       "recommendations finished on 886000/2088478 queries. users per second: 6010.78"
      ]
     },
     "metadata": {},
     "output_type": "display_data"
    },
    {
     "data": {
      "text/html": [
       "<pre>recommendations finished on 887000/2088478 queries. users per second: 6011.72</pre>"
      ],
      "text/plain": [
       "recommendations finished on 887000/2088478 queries. users per second: 6011.72"
      ]
     },
     "metadata": {},
     "output_type": "display_data"
    },
    {
     "data": {
      "text/html": [
       "<pre>recommendations finished on 888000/2088478 queries. users per second: 6012.91</pre>"
      ],
      "text/plain": [
       "recommendations finished on 888000/2088478 queries. users per second: 6012.91"
      ]
     },
     "metadata": {},
     "output_type": "display_data"
    },
    {
     "data": {
      "text/html": [
       "<pre>recommendations finished on 889000/2088478 queries. users per second: 6014</pre>"
      ],
      "text/plain": [
       "recommendations finished on 889000/2088478 queries. users per second: 6014"
      ]
     },
     "metadata": {},
     "output_type": "display_data"
    },
    {
     "data": {
      "text/html": [
       "<pre>recommendations finished on 890000/2088478 queries. users per second: 6014.9</pre>"
      ],
      "text/plain": [
       "recommendations finished on 890000/2088478 queries. users per second: 6014.9"
      ]
     },
     "metadata": {},
     "output_type": "display_data"
    },
    {
     "data": {
      "text/html": [
       "<pre>recommendations finished on 891000/2088478 queries. users per second: 6016.1</pre>"
      ],
      "text/plain": [
       "recommendations finished on 891000/2088478 queries. users per second: 6016.1"
      ]
     },
     "metadata": {},
     "output_type": "display_data"
    },
    {
     "data": {
      "text/html": [
       "<pre>recommendations finished on 892000/2088478 queries. users per second: 6016.88</pre>"
      ],
      "text/plain": [
       "recommendations finished on 892000/2088478 queries. users per second: 6016.88"
      ]
     },
     "metadata": {},
     "output_type": "display_data"
    },
    {
     "data": {
      "text/html": [
       "<pre>recommendations finished on 893000/2088478 queries. users per second: 6018.1</pre>"
      ],
      "text/plain": [
       "recommendations finished on 893000/2088478 queries. users per second: 6018.1"
      ]
     },
     "metadata": {},
     "output_type": "display_data"
    },
    {
     "data": {
      "text/html": [
       "<pre>recommendations finished on 894000/2088478 queries. users per second: 6019.3</pre>"
      ],
      "text/plain": [
       "recommendations finished on 894000/2088478 queries. users per second: 6019.3"
      ]
     },
     "metadata": {},
     "output_type": "display_data"
    },
    {
     "data": {
      "text/html": [
       "<pre>recommendations finished on 895000/2088478 queries. users per second: 6020.43</pre>"
      ],
      "text/plain": [
       "recommendations finished on 895000/2088478 queries. users per second: 6020.43"
      ]
     },
     "metadata": {},
     "output_type": "display_data"
    },
    {
     "data": {
      "text/html": [
       "<pre>recommendations finished on 896000/2088478 queries. users per second: 6021.52</pre>"
      ],
      "text/plain": [
       "recommendations finished on 896000/2088478 queries. users per second: 6021.52"
      ]
     },
     "metadata": {},
     "output_type": "display_data"
    },
    {
     "data": {
      "text/html": [
       "<pre>recommendations finished on 897000/2088478 queries. users per second: 6022.62</pre>"
      ],
      "text/plain": [
       "recommendations finished on 897000/2088478 queries. users per second: 6022.62"
      ]
     },
     "metadata": {},
     "output_type": "display_data"
    },
    {
     "data": {
      "text/html": [
       "<pre>recommendations finished on 898000/2088478 queries. users per second: 6023.79</pre>"
      ],
      "text/plain": [
       "recommendations finished on 898000/2088478 queries. users per second: 6023.79"
      ]
     },
     "metadata": {},
     "output_type": "display_data"
    },
    {
     "data": {
      "text/html": [
       "<pre>recommendations finished on 899000/2088478 queries. users per second: 6025.13</pre>"
      ],
      "text/plain": [
       "recommendations finished on 899000/2088478 queries. users per second: 6025.13"
      ]
     },
     "metadata": {},
     "output_type": "display_data"
    },
    {
     "data": {
      "text/html": [
       "<pre>recommendations finished on 900000/2088478 queries. users per second: 6025.97</pre>"
      ],
      "text/plain": [
       "recommendations finished on 900000/2088478 queries. users per second: 6025.97"
      ]
     },
     "metadata": {},
     "output_type": "display_data"
    },
    {
     "data": {
      "text/html": [
       "<pre>recommendations finished on 901000/2088478 queries. users per second: 6026.96</pre>"
      ],
      "text/plain": [
       "recommendations finished on 901000/2088478 queries. users per second: 6026.96"
      ]
     },
     "metadata": {},
     "output_type": "display_data"
    },
    {
     "data": {
      "text/html": [
       "<pre>recommendations finished on 902000/2088478 queries. users per second: 6028.1</pre>"
      ],
      "text/plain": [
       "recommendations finished on 902000/2088478 queries. users per second: 6028.1"
      ]
     },
     "metadata": {},
     "output_type": "display_data"
    },
    {
     "data": {
      "text/html": [
       "<pre>recommendations finished on 903000/2088478 queries. users per second: 6028.97</pre>"
      ],
      "text/plain": [
       "recommendations finished on 903000/2088478 queries. users per second: 6028.97"
      ]
     },
     "metadata": {},
     "output_type": "display_data"
    },
    {
     "data": {
      "text/html": [
       "<pre>recommendations finished on 904000/2088478 queries. users per second: 6030.04</pre>"
      ],
      "text/plain": [
       "recommendations finished on 904000/2088478 queries. users per second: 6030.04"
      ]
     },
     "metadata": {},
     "output_type": "display_data"
    },
    {
     "data": {
      "text/html": [
       "<pre>recommendations finished on 905000/2088478 queries. users per second: 6031.13</pre>"
      ],
      "text/plain": [
       "recommendations finished on 905000/2088478 queries. users per second: 6031.13"
      ]
     },
     "metadata": {},
     "output_type": "display_data"
    },
    {
     "data": {
      "text/html": [
       "<pre>recommendations finished on 906000/2088478 queries. users per second: 6032.19</pre>"
      ],
      "text/plain": [
       "recommendations finished on 906000/2088478 queries. users per second: 6032.19"
      ]
     },
     "metadata": {},
     "output_type": "display_data"
    },
    {
     "data": {
      "text/html": [
       "<pre>recommendations finished on 907000/2088478 queries. users per second: 6033.22</pre>"
      ],
      "text/plain": [
       "recommendations finished on 907000/2088478 queries. users per second: 6033.22"
      ]
     },
     "metadata": {},
     "output_type": "display_data"
    },
    {
     "data": {
      "text/html": [
       "<pre>recommendations finished on 908000/2088478 queries. users per second: 6030.33</pre>"
      ],
      "text/plain": [
       "recommendations finished on 908000/2088478 queries. users per second: 6030.33"
      ]
     },
     "metadata": {},
     "output_type": "display_data"
    },
    {
     "data": {
      "text/html": [
       "<pre>recommendations finished on 909000/2088478 queries. users per second: 6028.7</pre>"
      ],
      "text/plain": [
       "recommendations finished on 909000/2088478 queries. users per second: 6028.7"
      ]
     },
     "metadata": {},
     "output_type": "display_data"
    },
    {
     "data": {
      "text/html": [
       "<pre>recommendations finished on 910000/2088478 queries. users per second: 6027.66</pre>"
      ],
      "text/plain": [
       "recommendations finished on 910000/2088478 queries. users per second: 6027.66"
      ]
     },
     "metadata": {},
     "output_type": "display_data"
    },
    {
     "data": {
      "text/html": [
       "<pre>recommendations finished on 911000/2088478 queries. users per second: 6026.51</pre>"
      ],
      "text/plain": [
       "recommendations finished on 911000/2088478 queries. users per second: 6026.51"
      ]
     },
     "metadata": {},
     "output_type": "display_data"
    },
    {
     "data": {
      "text/html": [
       "<pre>recommendations finished on 912000/2088478 queries. users per second: 6026.94</pre>"
      ],
      "text/plain": [
       "recommendations finished on 912000/2088478 queries. users per second: 6026.94"
      ]
     },
     "metadata": {},
     "output_type": "display_data"
    },
    {
     "data": {
      "text/html": [
       "<pre>recommendations finished on 913000/2088478 queries. users per second: 6027.71</pre>"
      ],
      "text/plain": [
       "recommendations finished on 913000/2088478 queries. users per second: 6027.71"
      ]
     },
     "metadata": {},
     "output_type": "display_data"
    },
    {
     "data": {
      "text/html": [
       "<pre>recommendations finished on 914000/2088478 queries. users per second: 6027.85</pre>"
      ],
      "text/plain": [
       "recommendations finished on 914000/2088478 queries. users per second: 6027.85"
      ]
     },
     "metadata": {},
     "output_type": "display_data"
    },
    {
     "data": {
      "text/html": [
       "<pre>recommendations finished on 915000/2088478 queries. users per second: 6027.55</pre>"
      ],
      "text/plain": [
       "recommendations finished on 915000/2088478 queries. users per second: 6027.55"
      ]
     },
     "metadata": {},
     "output_type": "display_data"
    },
    {
     "data": {
      "text/html": [
       "<pre>recommendations finished on 916000/2088478 queries. users per second: 6026.31</pre>"
      ],
      "text/plain": [
       "recommendations finished on 916000/2088478 queries. users per second: 6026.31"
      ]
     },
     "metadata": {},
     "output_type": "display_data"
    },
    {
     "data": {
      "text/html": [
       "<pre>recommendations finished on 917000/2088478 queries. users per second: 6026.74</pre>"
      ],
      "text/plain": [
       "recommendations finished on 917000/2088478 queries. users per second: 6026.74"
      ]
     },
     "metadata": {},
     "output_type": "display_data"
    },
    {
     "data": {
      "text/html": [
       "<pre>recommendations finished on 918000/2088478 queries. users per second: 6027.59</pre>"
      ],
      "text/plain": [
       "recommendations finished on 918000/2088478 queries. users per second: 6027.59"
      ]
     },
     "metadata": {},
     "output_type": "display_data"
    },
    {
     "data": {
      "text/html": [
       "<pre>recommendations finished on 919000/2088478 queries. users per second: 6028.67</pre>"
      ],
      "text/plain": [
       "recommendations finished on 919000/2088478 queries. users per second: 6028.67"
      ]
     },
     "metadata": {},
     "output_type": "display_data"
    },
    {
     "data": {
      "text/html": [
       "<pre>recommendations finished on 920000/2088478 queries. users per second: 6028.43</pre>"
      ],
      "text/plain": [
       "recommendations finished on 920000/2088478 queries. users per second: 6028.43"
      ]
     },
     "metadata": {},
     "output_type": "display_data"
    },
    {
     "data": {
      "text/html": [
       "<pre>recommendations finished on 921000/2088478 queries. users per second: 6027.9</pre>"
      ],
      "text/plain": [
       "recommendations finished on 921000/2088478 queries. users per second: 6027.9"
      ]
     },
     "metadata": {},
     "output_type": "display_data"
    },
    {
     "data": {
      "text/html": [
       "<pre>recommendations finished on 922000/2088478 queries. users per second: 6028.19</pre>"
      ],
      "text/plain": [
       "recommendations finished on 922000/2088478 queries. users per second: 6028.19"
      ]
     },
     "metadata": {},
     "output_type": "display_data"
    },
    {
     "data": {
      "text/html": [
       "<pre>recommendations finished on 923000/2088478 queries. users per second: 6028.9</pre>"
      ],
      "text/plain": [
       "recommendations finished on 923000/2088478 queries. users per second: 6028.9"
      ]
     },
     "metadata": {},
     "output_type": "display_data"
    },
    {
     "data": {
      "text/html": [
       "<pre>recommendations finished on 924000/2088478 queries. users per second: 6029.68</pre>"
      ],
      "text/plain": [
       "recommendations finished on 924000/2088478 queries. users per second: 6029.68"
      ]
     },
     "metadata": {},
     "output_type": "display_data"
    },
    {
     "data": {
      "text/html": [
       "<pre>recommendations finished on 925000/2088478 queries. users per second: 6030.09</pre>"
      ],
      "text/plain": [
       "recommendations finished on 925000/2088478 queries. users per second: 6030.09"
      ]
     },
     "metadata": {},
     "output_type": "display_data"
    },
    {
     "data": {
      "text/html": [
       "<pre>recommendations finished on 926000/2088478 queries. users per second: 6030.51</pre>"
      ],
      "text/plain": [
       "recommendations finished on 926000/2088478 queries. users per second: 6030.51"
      ]
     },
     "metadata": {},
     "output_type": "display_data"
    },
    {
     "data": {
      "text/html": [
       "<pre>recommendations finished on 927000/2088478 queries. users per second: 6030.68</pre>"
      ],
      "text/plain": [
       "recommendations finished on 927000/2088478 queries. users per second: 6030.68"
      ]
     },
     "metadata": {},
     "output_type": "display_data"
    },
    {
     "data": {
      "text/html": [
       "<pre>recommendations finished on 928000/2088478 queries. users per second: 6031.3</pre>"
      ],
      "text/plain": [
       "recommendations finished on 928000/2088478 queries. users per second: 6031.3"
      ]
     },
     "metadata": {},
     "output_type": "display_data"
    },
    {
     "data": {
      "text/html": [
       "<pre>recommendations finished on 929000/2088478 queries. users per second: 6031.11</pre>"
      ],
      "text/plain": [
       "recommendations finished on 929000/2088478 queries. users per second: 6031.11"
      ]
     },
     "metadata": {},
     "output_type": "display_data"
    },
    {
     "data": {
      "text/html": [
       "<pre>recommendations finished on 930000/2088478 queries. users per second: 6031.36</pre>"
      ],
      "text/plain": [
       "recommendations finished on 930000/2088478 queries. users per second: 6031.36"
      ]
     },
     "metadata": {},
     "output_type": "display_data"
    },
    {
     "data": {
      "text/html": [
       "<pre>recommendations finished on 931000/2088478 queries. users per second: 6032.46</pre>"
      ],
      "text/plain": [
       "recommendations finished on 931000/2088478 queries. users per second: 6032.46"
      ]
     },
     "metadata": {},
     "output_type": "display_data"
    },
    {
     "data": {
      "text/html": [
       "<pre>recommendations finished on 932000/2088478 queries. users per second: 6033.28</pre>"
      ],
      "text/plain": [
       "recommendations finished on 932000/2088478 queries. users per second: 6033.28"
      ]
     },
     "metadata": {},
     "output_type": "display_data"
    },
    {
     "data": {
      "text/html": [
       "<pre>recommendations finished on 933000/2088478 queries. users per second: 6034.33</pre>"
      ],
      "text/plain": [
       "recommendations finished on 933000/2088478 queries. users per second: 6034.33"
      ]
     },
     "metadata": {},
     "output_type": "display_data"
    },
    {
     "data": {
      "text/html": [
       "<pre>recommendations finished on 934000/2088478 queries. users per second: 6035.03</pre>"
      ],
      "text/plain": [
       "recommendations finished on 934000/2088478 queries. users per second: 6035.03"
      ]
     },
     "metadata": {},
     "output_type": "display_data"
    },
    {
     "data": {
      "text/html": [
       "<pre>recommendations finished on 935000/2088478 queries. users per second: 6035.69</pre>"
      ],
      "text/plain": [
       "recommendations finished on 935000/2088478 queries. users per second: 6035.69"
      ]
     },
     "metadata": {},
     "output_type": "display_data"
    },
    {
     "data": {
      "text/html": [
       "<pre>recommendations finished on 936000/2088478 queries. users per second: 6035.15</pre>"
      ],
      "text/plain": [
       "recommendations finished on 936000/2088478 queries. users per second: 6035.15"
      ]
     },
     "metadata": {},
     "output_type": "display_data"
    },
    {
     "data": {
      "text/html": [
       "<pre>recommendations finished on 937000/2088478 queries. users per second: 6034.04</pre>"
      ],
      "text/plain": [
       "recommendations finished on 937000/2088478 queries. users per second: 6034.04"
      ]
     },
     "metadata": {},
     "output_type": "display_data"
    },
    {
     "data": {
      "text/html": [
       "<pre>recommendations finished on 938000/2088478 queries. users per second: 6034.42</pre>"
      ],
      "text/plain": [
       "recommendations finished on 938000/2088478 queries. users per second: 6034.42"
      ]
     },
     "metadata": {},
     "output_type": "display_data"
    },
    {
     "data": {
      "text/html": [
       "<pre>recommendations finished on 939000/2088478 queries. users per second: 6034.98</pre>"
      ],
      "text/plain": [
       "recommendations finished on 939000/2088478 queries. users per second: 6034.98"
      ]
     },
     "metadata": {},
     "output_type": "display_data"
    },
    {
     "data": {
      "text/html": [
       "<pre>recommendations finished on 940000/2088478 queries. users per second: 6035.33</pre>"
      ],
      "text/plain": [
       "recommendations finished on 940000/2088478 queries. users per second: 6035.33"
      ]
     },
     "metadata": {},
     "output_type": "display_data"
    },
    {
     "data": {
      "text/html": [
       "<pre>recommendations finished on 941000/2088478 queries. users per second: 6031.81</pre>"
      ],
      "text/plain": [
       "recommendations finished on 941000/2088478 queries. users per second: 6031.81"
      ]
     },
     "metadata": {},
     "output_type": "display_data"
    },
    {
     "data": {
      "text/html": [
       "<pre>recommendations finished on 942000/2088478 queries. users per second: 6030.66</pre>"
      ],
      "text/plain": [
       "recommendations finished on 942000/2088478 queries. users per second: 6030.66"
      ]
     },
     "metadata": {},
     "output_type": "display_data"
    },
    {
     "data": {
      "text/html": [
       "<pre>recommendations finished on 943000/2088478 queries. users per second: 6028.75</pre>"
      ],
      "text/plain": [
       "recommendations finished on 943000/2088478 queries. users per second: 6028.75"
      ]
     },
     "metadata": {},
     "output_type": "display_data"
    },
    {
     "data": {
      "text/html": [
       "<pre>recommendations finished on 944000/2088478 queries. users per second: 6029.35</pre>"
      ],
      "text/plain": [
       "recommendations finished on 944000/2088478 queries. users per second: 6029.35"
      ]
     },
     "metadata": {},
     "output_type": "display_data"
    },
    {
     "data": {
      "text/html": [
       "<pre>recommendations finished on 945000/2088478 queries. users per second: 6029.9</pre>"
      ],
      "text/plain": [
       "recommendations finished on 945000/2088478 queries. users per second: 6029.9"
      ]
     },
     "metadata": {},
     "output_type": "display_data"
    },
    {
     "data": {
      "text/html": [
       "<pre>recommendations finished on 946000/2088478 queries. users per second: 6030.47</pre>"
      ],
      "text/plain": [
       "recommendations finished on 946000/2088478 queries. users per second: 6030.47"
      ]
     },
     "metadata": {},
     "output_type": "display_data"
    },
    {
     "data": {
      "text/html": [
       "<pre>recommendations finished on 947000/2088478 queries. users per second: 6030.12</pre>"
      ],
      "text/plain": [
       "recommendations finished on 947000/2088478 queries. users per second: 6030.12"
      ]
     },
     "metadata": {},
     "output_type": "display_data"
    },
    {
     "data": {
      "text/html": [
       "<pre>recommendations finished on 948000/2088478 queries. users per second: 6030.46</pre>"
      ],
      "text/plain": [
       "recommendations finished on 948000/2088478 queries. users per second: 6030.46"
      ]
     },
     "metadata": {},
     "output_type": "display_data"
    },
    {
     "data": {
      "text/html": [
       "<pre>recommendations finished on 949000/2088478 queries. users per second: 6031.42</pre>"
      ],
      "text/plain": [
       "recommendations finished on 949000/2088478 queries. users per second: 6031.42"
      ]
     },
     "metadata": {},
     "output_type": "display_data"
    },
    {
     "data": {
      "text/html": [
       "<pre>recommendations finished on 950000/2088478 queries. users per second: 6031.94</pre>"
      ],
      "text/plain": [
       "recommendations finished on 950000/2088478 queries. users per second: 6031.94"
      ]
     },
     "metadata": {},
     "output_type": "display_data"
    },
    {
     "data": {
      "text/html": [
       "<pre>recommendations finished on 951000/2088478 queries. users per second: 6032.5</pre>"
      ],
      "text/plain": [
       "recommendations finished on 951000/2088478 queries. users per second: 6032.5"
      ]
     },
     "metadata": {},
     "output_type": "display_data"
    },
    {
     "data": {
      "text/html": [
       "<pre>recommendations finished on 952000/2088478 queries. users per second: 6032.99</pre>"
      ],
      "text/plain": [
       "recommendations finished on 952000/2088478 queries. users per second: 6032.99"
      ]
     },
     "metadata": {},
     "output_type": "display_data"
    },
    {
     "data": {
      "text/html": [
       "<pre>recommendations finished on 953000/2088478 queries. users per second: 6033.68</pre>"
      ],
      "text/plain": [
       "recommendations finished on 953000/2088478 queries. users per second: 6033.68"
      ]
     },
     "metadata": {},
     "output_type": "display_data"
    },
    {
     "data": {
      "text/html": [
       "<pre>recommendations finished on 954000/2088478 queries. users per second: 6034.35</pre>"
      ],
      "text/plain": [
       "recommendations finished on 954000/2088478 queries. users per second: 6034.35"
      ]
     },
     "metadata": {},
     "output_type": "display_data"
    },
    {
     "data": {
      "text/html": [
       "<pre>recommendations finished on 955000/2088478 queries. users per second: 6035</pre>"
      ],
      "text/plain": [
       "recommendations finished on 955000/2088478 queries. users per second: 6035"
      ]
     },
     "metadata": {},
     "output_type": "display_data"
    },
    {
     "data": {
      "text/html": [
       "<pre>recommendations finished on 956000/2088478 queries. users per second: 6035.5</pre>"
      ],
      "text/plain": [
       "recommendations finished on 956000/2088478 queries. users per second: 6035.5"
      ]
     },
     "metadata": {},
     "output_type": "display_data"
    },
    {
     "data": {
      "text/html": [
       "<pre>recommendations finished on 957000/2088478 queries. users per second: 6032.23</pre>"
      ],
      "text/plain": [
       "recommendations finished on 957000/2088478 queries. users per second: 6032.23"
      ]
     },
     "metadata": {},
     "output_type": "display_data"
    },
    {
     "data": {
      "text/html": [
       "<pre>recommendations finished on 958000/2088478 queries. users per second: 6032.95</pre>"
      ],
      "text/plain": [
       "recommendations finished on 958000/2088478 queries. users per second: 6032.95"
      ]
     },
     "metadata": {},
     "output_type": "display_data"
    },
    {
     "data": {
      "text/html": [
       "<pre>recommendations finished on 959000/2088478 queries. users per second: 6033.68</pre>"
      ],
      "text/plain": [
       "recommendations finished on 959000/2088478 queries. users per second: 6033.68"
      ]
     },
     "metadata": {},
     "output_type": "display_data"
    },
    {
     "data": {
      "text/html": [
       "<pre>recommendations finished on 960000/2088478 queries. users per second: 6033.81</pre>"
      ],
      "text/plain": [
       "recommendations finished on 960000/2088478 queries. users per second: 6033.81"
      ]
     },
     "metadata": {},
     "output_type": "display_data"
    },
    {
     "data": {
      "text/html": [
       "<pre>recommendations finished on 961000/2088478 queries. users per second: 6034.05</pre>"
      ],
      "text/plain": [
       "recommendations finished on 961000/2088478 queries. users per second: 6034.05"
      ]
     },
     "metadata": {},
     "output_type": "display_data"
    },
    {
     "data": {
      "text/html": [
       "<pre>recommendations finished on 962000/2088478 queries. users per second: 6033.79</pre>"
      ],
      "text/plain": [
       "recommendations finished on 962000/2088478 queries. users per second: 6033.79"
      ]
     },
     "metadata": {},
     "output_type": "display_data"
    },
    {
     "data": {
      "text/html": [
       "<pre>recommendations finished on 963000/2088478 queries. users per second: 6034.23</pre>"
      ],
      "text/plain": [
       "recommendations finished on 963000/2088478 queries. users per second: 6034.23"
      ]
     },
     "metadata": {},
     "output_type": "display_data"
    },
    {
     "data": {
      "text/html": [
       "<pre>recommendations finished on 964000/2088478 queries. users per second: 6033.64</pre>"
      ],
      "text/plain": [
       "recommendations finished on 964000/2088478 queries. users per second: 6033.64"
      ]
     },
     "metadata": {},
     "output_type": "display_data"
    },
    {
     "data": {
      "text/html": [
       "<pre>recommendations finished on 965000/2088478 queries. users per second: 6033.33</pre>"
      ],
      "text/plain": [
       "recommendations finished on 965000/2088478 queries. users per second: 6033.33"
      ]
     },
     "metadata": {},
     "output_type": "display_data"
    },
    {
     "data": {
      "text/html": [
       "<pre>recommendations finished on 966000/2088478 queries. users per second: 6033.95</pre>"
      ],
      "text/plain": [
       "recommendations finished on 966000/2088478 queries. users per second: 6033.95"
      ]
     },
     "metadata": {},
     "output_type": "display_data"
    },
    {
     "data": {
      "text/html": [
       "<pre>recommendations finished on 967000/2088478 queries. users per second: 6034.54</pre>"
      ],
      "text/plain": [
       "recommendations finished on 967000/2088478 queries. users per second: 6034.54"
      ]
     },
     "metadata": {},
     "output_type": "display_data"
    },
    {
     "data": {
      "text/html": [
       "<pre>recommendations finished on 968000/2088478 queries. users per second: 6035.02</pre>"
      ],
      "text/plain": [
       "recommendations finished on 968000/2088478 queries. users per second: 6035.02"
      ]
     },
     "metadata": {},
     "output_type": "display_data"
    },
    {
     "data": {
      "text/html": [
       "<pre>recommendations finished on 969000/2088478 queries. users per second: 6035.2</pre>"
      ],
      "text/plain": [
       "recommendations finished on 969000/2088478 queries. users per second: 6035.2"
      ]
     },
     "metadata": {},
     "output_type": "display_data"
    },
    {
     "data": {
      "text/html": [
       "<pre>recommendations finished on 970000/2088478 queries. users per second: 6035.59</pre>"
      ],
      "text/plain": [
       "recommendations finished on 970000/2088478 queries. users per second: 6035.59"
      ]
     },
     "metadata": {},
     "output_type": "display_data"
    },
    {
     "data": {
      "text/html": [
       "<pre>recommendations finished on 971000/2088478 queries. users per second: 6036.44</pre>"
      ],
      "text/plain": [
       "recommendations finished on 971000/2088478 queries. users per second: 6036.44"
      ]
     },
     "metadata": {},
     "output_type": "display_data"
    },
    {
     "data": {
      "text/html": [
       "<pre>recommendations finished on 972000/2088478 queries. users per second: 6037.43</pre>"
      ],
      "text/plain": [
       "recommendations finished on 972000/2088478 queries. users per second: 6037.43"
      ]
     },
     "metadata": {},
     "output_type": "display_data"
    },
    {
     "data": {
      "text/html": [
       "<pre>recommendations finished on 973000/2088478 queries. users per second: 6038.5</pre>"
      ],
      "text/plain": [
       "recommendations finished on 973000/2088478 queries. users per second: 6038.5"
      ]
     },
     "metadata": {},
     "output_type": "display_data"
    },
    {
     "data": {
      "text/html": [
       "<pre>recommendations finished on 974000/2088478 queries. users per second: 6039.48</pre>"
      ],
      "text/plain": [
       "recommendations finished on 974000/2088478 queries. users per second: 6039.48"
      ]
     },
     "metadata": {},
     "output_type": "display_data"
    },
    {
     "data": {
      "text/html": [
       "<pre>recommendations finished on 975000/2088478 queries. users per second: 6040.47</pre>"
      ],
      "text/plain": [
       "recommendations finished on 975000/2088478 queries. users per second: 6040.47"
      ]
     },
     "metadata": {},
     "output_type": "display_data"
    },
    {
     "data": {
      "text/html": [
       "<pre>recommendations finished on 976000/2088478 queries. users per second: 6041.59</pre>"
      ],
      "text/plain": [
       "recommendations finished on 976000/2088478 queries. users per second: 6041.59"
      ]
     },
     "metadata": {},
     "output_type": "display_data"
    },
    {
     "data": {
      "text/html": [
       "<pre>recommendations finished on 977000/2088478 queries. users per second: 6042.56</pre>"
      ],
      "text/plain": [
       "recommendations finished on 977000/2088478 queries. users per second: 6042.56"
      ]
     },
     "metadata": {},
     "output_type": "display_data"
    },
    {
     "data": {
      "text/html": [
       "<pre>recommendations finished on 978000/2088478 queries. users per second: 6043.29</pre>"
      ],
      "text/plain": [
       "recommendations finished on 978000/2088478 queries. users per second: 6043.29"
      ]
     },
     "metadata": {},
     "output_type": "display_data"
    },
    {
     "data": {
      "text/html": [
       "<pre>recommendations finished on 979000/2088478 queries. users per second: 6040.94</pre>"
      ],
      "text/plain": [
       "recommendations finished on 979000/2088478 queries. users per second: 6040.94"
      ]
     },
     "metadata": {},
     "output_type": "display_data"
    },
    {
     "data": {
      "text/html": [
       "<pre>recommendations finished on 980000/2088478 queries. users per second: 6041.74</pre>"
      ],
      "text/plain": [
       "recommendations finished on 980000/2088478 queries. users per second: 6041.74"
      ]
     },
     "metadata": {},
     "output_type": "display_data"
    },
    {
     "data": {
      "text/html": [
       "<pre>recommendations finished on 981000/2088478 queries. users per second: 6042.65</pre>"
      ],
      "text/plain": [
       "recommendations finished on 981000/2088478 queries. users per second: 6042.65"
      ]
     },
     "metadata": {},
     "output_type": "display_data"
    },
    {
     "data": {
      "text/html": [
       "<pre>recommendations finished on 982000/2088478 queries. users per second: 6043.65</pre>"
      ],
      "text/plain": [
       "recommendations finished on 982000/2088478 queries. users per second: 6043.65"
      ]
     },
     "metadata": {},
     "output_type": "display_data"
    },
    {
     "data": {
      "text/html": [
       "<pre>recommendations finished on 983000/2088478 queries. users per second: 6044.57</pre>"
      ],
      "text/plain": [
       "recommendations finished on 983000/2088478 queries. users per second: 6044.57"
      ]
     },
     "metadata": {},
     "output_type": "display_data"
    },
    {
     "data": {
      "text/html": [
       "<pre>recommendations finished on 984000/2088478 queries. users per second: 6044.6</pre>"
      ],
      "text/plain": [
       "recommendations finished on 984000/2088478 queries. users per second: 6044.6"
      ]
     },
     "metadata": {},
     "output_type": "display_data"
    },
    {
     "data": {
      "text/html": [
       "<pre>recommendations finished on 985000/2088478 queries. users per second: 6043.21</pre>"
      ],
      "text/plain": [
       "recommendations finished on 985000/2088478 queries. users per second: 6043.21"
      ]
     },
     "metadata": {},
     "output_type": "display_data"
    },
    {
     "data": {
      "text/html": [
       "<pre>recommendations finished on 986000/2088478 queries. users per second: 6042.54</pre>"
      ],
      "text/plain": [
       "recommendations finished on 986000/2088478 queries. users per second: 6042.54"
      ]
     },
     "metadata": {},
     "output_type": "display_data"
    },
    {
     "data": {
      "text/html": [
       "<pre>recommendations finished on 987000/2088478 queries. users per second: 6043.6</pre>"
      ],
      "text/plain": [
       "recommendations finished on 987000/2088478 queries. users per second: 6043.6"
      ]
     },
     "metadata": {},
     "output_type": "display_data"
    },
    {
     "data": {
      "text/html": [
       "<pre>recommendations finished on 988000/2088478 queries. users per second: 6044.55</pre>"
      ],
      "text/plain": [
       "recommendations finished on 988000/2088478 queries. users per second: 6044.55"
      ]
     },
     "metadata": {},
     "output_type": "display_data"
    },
    {
     "data": {
      "text/html": [
       "<pre>recommendations finished on 989000/2088478 queries. users per second: 6042.71</pre>"
      ],
      "text/plain": [
       "recommendations finished on 989000/2088478 queries. users per second: 6042.71"
      ]
     },
     "metadata": {},
     "output_type": "display_data"
    },
    {
     "data": {
      "text/html": [
       "<pre>recommendations finished on 990000/2088478 queries. users per second: 6043.48</pre>"
      ],
      "text/plain": [
       "recommendations finished on 990000/2088478 queries. users per second: 6043.48"
      ]
     },
     "metadata": {},
     "output_type": "display_data"
    },
    {
     "data": {
      "text/html": [
       "<pre>recommendations finished on 991000/2088478 queries. users per second: 6044.41</pre>"
      ],
      "text/plain": [
       "recommendations finished on 991000/2088478 queries. users per second: 6044.41"
      ]
     },
     "metadata": {},
     "output_type": "display_data"
    },
    {
     "data": {
      "text/html": [
       "<pre>recommendations finished on 992000/2088478 queries. users per second: 6044.58</pre>"
      ],
      "text/plain": [
       "recommendations finished on 992000/2088478 queries. users per second: 6044.58"
      ]
     },
     "metadata": {},
     "output_type": "display_data"
    },
    {
     "data": {
      "text/html": [
       "<pre>recommendations finished on 993000/2088478 queries. users per second: 6045.31</pre>"
      ],
      "text/plain": [
       "recommendations finished on 993000/2088478 queries. users per second: 6045.31"
      ]
     },
     "metadata": {},
     "output_type": "display_data"
    },
    {
     "data": {
      "text/html": [
       "<pre>recommendations finished on 994000/2088478 queries. users per second: 6045.6</pre>"
      ],
      "text/plain": [
       "recommendations finished on 994000/2088478 queries. users per second: 6045.6"
      ]
     },
     "metadata": {},
     "output_type": "display_data"
    },
    {
     "data": {
      "text/html": [
       "<pre>recommendations finished on 995000/2088478 queries. users per second: 6046.07</pre>"
      ],
      "text/plain": [
       "recommendations finished on 995000/2088478 queries. users per second: 6046.07"
      ]
     },
     "metadata": {},
     "output_type": "display_data"
    },
    {
     "data": {
      "text/html": [
       "<pre>recommendations finished on 996000/2088478 queries. users per second: 6044.14</pre>"
      ],
      "text/plain": [
       "recommendations finished on 996000/2088478 queries. users per second: 6044.14"
      ]
     },
     "metadata": {},
     "output_type": "display_data"
    },
    {
     "data": {
      "text/html": [
       "<pre>recommendations finished on 997000/2088478 queries. users per second: 6044.72</pre>"
      ],
      "text/plain": [
       "recommendations finished on 997000/2088478 queries. users per second: 6044.72"
      ]
     },
     "metadata": {},
     "output_type": "display_data"
    },
    {
     "data": {
      "text/html": [
       "<pre>recommendations finished on 998000/2088478 queries. users per second: 6045.7</pre>"
      ],
      "text/plain": [
       "recommendations finished on 998000/2088478 queries. users per second: 6045.7"
      ]
     },
     "metadata": {},
     "output_type": "display_data"
    },
    {
     "data": {
      "text/html": [
       "<pre>recommendations finished on 999000/2088478 queries. users per second: 6046.64</pre>"
      ],
      "text/plain": [
       "recommendations finished on 999000/2088478 queries. users per second: 6046.64"
      ]
     },
     "metadata": {},
     "output_type": "display_data"
    },
    {
     "data": {
      "text/html": [
       "<pre>recommendations finished on 1000000/2088478 queries. users per second: 6045.09</pre>"
      ],
      "text/plain": [
       "recommendations finished on 1000000/2088478 queries. users per second: 6045.09"
      ]
     },
     "metadata": {},
     "output_type": "display_data"
    },
    {
     "data": {
      "text/html": [
       "<pre>recommendations finished on 1001000/2088478 queries. users per second: 6045.89</pre>"
      ],
      "text/plain": [
       "recommendations finished on 1001000/2088478 queries. users per second: 6045.89"
      ]
     },
     "metadata": {},
     "output_type": "display_data"
    },
    {
     "data": {
      "text/html": [
       "<pre>recommendations finished on 1002000/2088478 queries. users per second: 6047.01</pre>"
      ],
      "text/plain": [
       "recommendations finished on 1002000/2088478 queries. users per second: 6047.01"
      ]
     },
     "metadata": {},
     "output_type": "display_data"
    },
    {
     "data": {
      "text/html": [
       "<pre>recommendations finished on 1003000/2088478 queries. users per second: 6047.09</pre>"
      ],
      "text/plain": [
       "recommendations finished on 1003000/2088478 queries. users per second: 6047.09"
      ]
     },
     "metadata": {},
     "output_type": "display_data"
    },
    {
     "data": {
      "text/html": [
       "<pre>recommendations finished on 1004000/2088478 queries. users per second: 6047.78</pre>"
      ],
      "text/plain": [
       "recommendations finished on 1004000/2088478 queries. users per second: 6047.78"
      ]
     },
     "metadata": {},
     "output_type": "display_data"
    },
    {
     "data": {
      "text/html": [
       "<pre>recommendations finished on 1005000/2088478 queries. users per second: 6047.61</pre>"
      ],
      "text/plain": [
       "recommendations finished on 1005000/2088478 queries. users per second: 6047.61"
      ]
     },
     "metadata": {},
     "output_type": "display_data"
    },
    {
     "data": {
      "text/html": [
       "<pre>recommendations finished on 1006000/2088478 queries. users per second: 6048.01</pre>"
      ],
      "text/plain": [
       "recommendations finished on 1006000/2088478 queries. users per second: 6048.01"
      ]
     },
     "metadata": {},
     "output_type": "display_data"
    },
    {
     "data": {
      "text/html": [
       "<pre>recommendations finished on 1007000/2088478 queries. users per second: 6048.63</pre>"
      ],
      "text/plain": [
       "recommendations finished on 1007000/2088478 queries. users per second: 6048.63"
      ]
     },
     "metadata": {},
     "output_type": "display_data"
    },
    {
     "data": {
      "text/html": [
       "<pre>recommendations finished on 1008000/2088478 queries. users per second: 6049.5</pre>"
      ],
      "text/plain": [
       "recommendations finished on 1008000/2088478 queries. users per second: 6049.5"
      ]
     },
     "metadata": {},
     "output_type": "display_data"
    },
    {
     "data": {
      "text/html": [
       "<pre>recommendations finished on 1009000/2088478 queries. users per second: 6050.23</pre>"
      ],
      "text/plain": [
       "recommendations finished on 1009000/2088478 queries. users per second: 6050.23"
      ]
     },
     "metadata": {},
     "output_type": "display_data"
    },
    {
     "data": {
      "text/html": [
       "<pre>recommendations finished on 1010000/2088478 queries. users per second: 6050.94</pre>"
      ],
      "text/plain": [
       "recommendations finished on 1010000/2088478 queries. users per second: 6050.94"
      ]
     },
     "metadata": {},
     "output_type": "display_data"
    },
    {
     "data": {
      "text/html": [
       "<pre>recommendations finished on 1011000/2088478 queries. users per second: 6051.57</pre>"
      ],
      "text/plain": [
       "recommendations finished on 1011000/2088478 queries. users per second: 6051.57"
      ]
     },
     "metadata": {},
     "output_type": "display_data"
    },
    {
     "data": {
      "text/html": [
       "<pre>recommendations finished on 1012000/2088478 queries. users per second: 6052.32</pre>"
      ],
      "text/plain": [
       "recommendations finished on 1012000/2088478 queries. users per second: 6052.32"
      ]
     },
     "metadata": {},
     "output_type": "display_data"
    },
    {
     "data": {
      "text/html": [
       "<pre>recommendations finished on 1013000/2088478 queries. users per second: 6053.16</pre>"
      ],
      "text/plain": [
       "recommendations finished on 1013000/2088478 queries. users per second: 6053.16"
      ]
     },
     "metadata": {},
     "output_type": "display_data"
    },
    {
     "data": {
      "text/html": [
       "<pre>recommendations finished on 1014000/2088478 queries. users per second: 6053.86</pre>"
      ],
      "text/plain": [
       "recommendations finished on 1014000/2088478 queries. users per second: 6053.86"
      ]
     },
     "metadata": {},
     "output_type": "display_data"
    },
    {
     "data": {
      "text/html": [
       "<pre>recommendations finished on 1015000/2088478 queries. users per second: 6053.98</pre>"
      ],
      "text/plain": [
       "recommendations finished on 1015000/2088478 queries. users per second: 6053.98"
      ]
     },
     "metadata": {},
     "output_type": "display_data"
    },
    {
     "data": {
      "text/html": [
       "<pre>recommendations finished on 1016000/2088478 queries. users per second: 6054.69</pre>"
      ],
      "text/plain": [
       "recommendations finished on 1016000/2088478 queries. users per second: 6054.69"
      ]
     },
     "metadata": {},
     "output_type": "display_data"
    },
    {
     "data": {
      "text/html": [
       "<pre>recommendations finished on 1017000/2088478 queries. users per second: 6055.26</pre>"
      ],
      "text/plain": [
       "recommendations finished on 1017000/2088478 queries. users per second: 6055.26"
      ]
     },
     "metadata": {},
     "output_type": "display_data"
    },
    {
     "data": {
      "text/html": [
       "<pre>recommendations finished on 1018000/2088478 queries. users per second: 6056</pre>"
      ],
      "text/plain": [
       "recommendations finished on 1018000/2088478 queries. users per second: 6056"
      ]
     },
     "metadata": {},
     "output_type": "display_data"
    },
    {
     "data": {
      "text/html": [
       "<pre>recommendations finished on 1019000/2088478 queries. users per second: 6056.57</pre>"
      ],
      "text/plain": [
       "recommendations finished on 1019000/2088478 queries. users per second: 6056.57"
      ]
     },
     "metadata": {},
     "output_type": "display_data"
    },
    {
     "data": {
      "text/html": [
       "<pre>recommendations finished on 1020000/2088478 queries. users per second: 6056.95</pre>"
      ],
      "text/plain": [
       "recommendations finished on 1020000/2088478 queries. users per second: 6056.95"
      ]
     },
     "metadata": {},
     "output_type": "display_data"
    },
    {
     "data": {
      "text/html": [
       "<pre>recommendations finished on 1021000/2088478 queries. users per second: 6057.48</pre>"
      ],
      "text/plain": [
       "recommendations finished on 1021000/2088478 queries. users per second: 6057.48"
      ]
     },
     "metadata": {},
     "output_type": "display_data"
    },
    {
     "data": {
      "text/html": [
       "<pre>recommendations finished on 1022000/2088478 queries. users per second: 6058.03</pre>"
      ],
      "text/plain": [
       "recommendations finished on 1022000/2088478 queries. users per second: 6058.03"
      ]
     },
     "metadata": {},
     "output_type": "display_data"
    },
    {
     "data": {
      "text/html": [
       "<pre>recommendations finished on 1023000/2088478 queries. users per second: 6058.52</pre>"
      ],
      "text/plain": [
       "recommendations finished on 1023000/2088478 queries. users per second: 6058.52"
      ]
     },
     "metadata": {},
     "output_type": "display_data"
    },
    {
     "data": {
      "text/html": [
       "<pre>recommendations finished on 1024000/2088478 queries. users per second: 6059.3</pre>"
      ],
      "text/plain": [
       "recommendations finished on 1024000/2088478 queries. users per second: 6059.3"
      ]
     },
     "metadata": {},
     "output_type": "display_data"
    },
    {
     "data": {
      "text/html": [
       "<pre>recommendations finished on 1025000/2088478 queries. users per second: 6059.86</pre>"
      ],
      "text/plain": [
       "recommendations finished on 1025000/2088478 queries. users per second: 6059.86"
      ]
     },
     "metadata": {},
     "output_type": "display_data"
    },
    {
     "data": {
      "text/html": [
       "<pre>recommendations finished on 1026000/2088478 queries. users per second: 6060.4</pre>"
      ],
      "text/plain": [
       "recommendations finished on 1026000/2088478 queries. users per second: 6060.4"
      ]
     },
     "metadata": {},
     "output_type": "display_data"
    },
    {
     "data": {
      "text/html": [
       "<pre>recommendations finished on 1027000/2088478 queries. users per second: 6060.47</pre>"
      ],
      "text/plain": [
       "recommendations finished on 1027000/2088478 queries. users per second: 6060.47"
      ]
     },
     "metadata": {},
     "output_type": "display_data"
    },
    {
     "data": {
      "text/html": [
       "<pre>recommendations finished on 1028000/2088478 queries. users per second: 6060.8</pre>"
      ],
      "text/plain": [
       "recommendations finished on 1028000/2088478 queries. users per second: 6060.8"
      ]
     },
     "metadata": {},
     "output_type": "display_data"
    },
    {
     "data": {
      "text/html": [
       "<pre>recommendations finished on 1029000/2088478 queries. users per second: 6061.42</pre>"
      ],
      "text/plain": [
       "recommendations finished on 1029000/2088478 queries. users per second: 6061.42"
      ]
     },
     "metadata": {},
     "output_type": "display_data"
    },
    {
     "data": {
      "text/html": [
       "<pre>recommendations finished on 1030000/2088478 queries. users per second: 6061.84</pre>"
      ],
      "text/plain": [
       "recommendations finished on 1030000/2088478 queries. users per second: 6061.84"
      ]
     },
     "metadata": {},
     "output_type": "display_data"
    },
    {
     "data": {
      "text/html": [
       "<pre>recommendations finished on 1031000/2088478 queries. users per second: 6062.61</pre>"
      ],
      "text/plain": [
       "recommendations finished on 1031000/2088478 queries. users per second: 6062.61"
      ]
     },
     "metadata": {},
     "output_type": "display_data"
    },
    {
     "data": {
      "text/html": [
       "<pre>recommendations finished on 1032000/2088478 queries. users per second: 6063.05</pre>"
      ],
      "text/plain": [
       "recommendations finished on 1032000/2088478 queries. users per second: 6063.05"
      ]
     },
     "metadata": {},
     "output_type": "display_data"
    },
    {
     "data": {
      "text/html": [
       "<pre>recommendations finished on 1033000/2088478 queries. users per second: 6063.75</pre>"
      ],
      "text/plain": [
       "recommendations finished on 1033000/2088478 queries. users per second: 6063.75"
      ]
     },
     "metadata": {},
     "output_type": "display_data"
    },
    {
     "data": {
      "text/html": [
       "<pre>recommendations finished on 1034000/2088478 queries. users per second: 6064.38</pre>"
      ],
      "text/plain": [
       "recommendations finished on 1034000/2088478 queries. users per second: 6064.38"
      ]
     },
     "metadata": {},
     "output_type": "display_data"
    },
    {
     "data": {
      "text/html": [
       "<pre>recommendations finished on 1035000/2088478 queries. users per second: 6064.91</pre>"
      ],
      "text/plain": [
       "recommendations finished on 1035000/2088478 queries. users per second: 6064.91"
      ]
     },
     "metadata": {},
     "output_type": "display_data"
    },
    {
     "data": {
      "text/html": [
       "<pre>recommendations finished on 1036000/2088478 queries. users per second: 6065.85</pre>"
      ],
      "text/plain": [
       "recommendations finished on 1036000/2088478 queries. users per second: 6065.85"
      ]
     },
     "metadata": {},
     "output_type": "display_data"
    },
    {
     "data": {
      "text/html": [
       "<pre>recommendations finished on 1037000/2088478 queries. users per second: 6066.58</pre>"
      ],
      "text/plain": [
       "recommendations finished on 1037000/2088478 queries. users per second: 6066.58"
      ]
     },
     "metadata": {},
     "output_type": "display_data"
    },
    {
     "data": {
      "text/html": [
       "<pre>recommendations finished on 1038000/2088478 queries. users per second: 6067.29</pre>"
      ],
      "text/plain": [
       "recommendations finished on 1038000/2088478 queries. users per second: 6067.29"
      ]
     },
     "metadata": {},
     "output_type": "display_data"
    },
    {
     "data": {
      "text/html": [
       "<pre>recommendations finished on 1039000/2088478 queries. users per second: 6067.96</pre>"
      ],
      "text/plain": [
       "recommendations finished on 1039000/2088478 queries. users per second: 6067.96"
      ]
     },
     "metadata": {},
     "output_type": "display_data"
    },
    {
     "data": {
      "text/html": [
       "<pre>recommendations finished on 1040000/2088478 queries. users per second: 6068.73</pre>"
      ],
      "text/plain": [
       "recommendations finished on 1040000/2088478 queries. users per second: 6068.73"
      ]
     },
     "metadata": {},
     "output_type": "display_data"
    },
    {
     "data": {
      "text/html": [
       "<pre>recommendations finished on 1041000/2088478 queries. users per second: 6069.12</pre>"
      ],
      "text/plain": [
       "recommendations finished on 1041000/2088478 queries. users per second: 6069.12"
      ]
     },
     "metadata": {},
     "output_type": "display_data"
    },
    {
     "data": {
      "text/html": [
       "<pre>recommendations finished on 1042000/2088478 queries. users per second: 6070.1</pre>"
      ],
      "text/plain": [
       "recommendations finished on 1042000/2088478 queries. users per second: 6070.1"
      ]
     },
     "metadata": {},
     "output_type": "display_data"
    },
    {
     "data": {
      "text/html": [
       "<pre>recommendations finished on 1043000/2088478 queries. users per second: 6071.07</pre>"
      ],
      "text/plain": [
       "recommendations finished on 1043000/2088478 queries. users per second: 6071.07"
      ]
     },
     "metadata": {},
     "output_type": "display_data"
    },
    {
     "data": {
      "text/html": [
       "<pre>recommendations finished on 1044000/2088478 queries. users per second: 6072.01</pre>"
      ],
      "text/plain": [
       "recommendations finished on 1044000/2088478 queries. users per second: 6072.01"
      ]
     },
     "metadata": {},
     "output_type": "display_data"
    },
    {
     "data": {
      "text/html": [
       "<pre>recommendations finished on 1045000/2088478 queries. users per second: 6072.87</pre>"
      ],
      "text/plain": [
       "recommendations finished on 1045000/2088478 queries. users per second: 6072.87"
      ]
     },
     "metadata": {},
     "output_type": "display_data"
    },
    {
     "data": {
      "text/html": [
       "<pre>recommendations finished on 1046000/2088478 queries. users per second: 6073.96</pre>"
      ],
      "text/plain": [
       "recommendations finished on 1046000/2088478 queries. users per second: 6073.96"
      ]
     },
     "metadata": {},
     "output_type": "display_data"
    },
    {
     "data": {
      "text/html": [
       "<pre>recommendations finished on 1047000/2088478 queries. users per second: 6075.07</pre>"
      ],
      "text/plain": [
       "recommendations finished on 1047000/2088478 queries. users per second: 6075.07"
      ]
     },
     "metadata": {},
     "output_type": "display_data"
    },
    {
     "data": {
      "text/html": [
       "<pre>recommendations finished on 1048000/2088478 queries. users per second: 6075.68</pre>"
      ],
      "text/plain": [
       "recommendations finished on 1048000/2088478 queries. users per second: 6075.68"
      ]
     },
     "metadata": {},
     "output_type": "display_data"
    },
    {
     "data": {
      "text/html": [
       "<pre>recommendations finished on 1049000/2088478 queries. users per second: 6076.71</pre>"
      ],
      "text/plain": [
       "recommendations finished on 1049000/2088478 queries. users per second: 6076.71"
      ]
     },
     "metadata": {},
     "output_type": "display_data"
    },
    {
     "data": {
      "text/html": [
       "<pre>recommendations finished on 1050000/2088478 queries. users per second: 6077.43</pre>"
      ],
      "text/plain": [
       "recommendations finished on 1050000/2088478 queries. users per second: 6077.43"
      ]
     },
     "metadata": {},
     "output_type": "display_data"
    },
    {
     "data": {
      "text/html": [
       "<pre>recommendations finished on 1051000/2088478 queries. users per second: 6078.31</pre>"
      ],
      "text/plain": [
       "recommendations finished on 1051000/2088478 queries. users per second: 6078.31"
      ]
     },
     "metadata": {},
     "output_type": "display_data"
    },
    {
     "data": {
      "text/html": [
       "<pre>recommendations finished on 1052000/2088478 queries. users per second: 6076.04</pre>"
      ],
      "text/plain": [
       "recommendations finished on 1052000/2088478 queries. users per second: 6076.04"
      ]
     },
     "metadata": {},
     "output_type": "display_data"
    },
    {
     "data": {
      "text/html": [
       "<pre>recommendations finished on 1053000/2088478 queries. users per second: 6076.74</pre>"
      ],
      "text/plain": [
       "recommendations finished on 1053000/2088478 queries. users per second: 6076.74"
      ]
     },
     "metadata": {},
     "output_type": "display_data"
    },
    {
     "data": {
      "text/html": [
       "<pre>recommendations finished on 1054000/2088478 queries. users per second: 6077.57</pre>"
      ],
      "text/plain": [
       "recommendations finished on 1054000/2088478 queries. users per second: 6077.57"
      ]
     },
     "metadata": {},
     "output_type": "display_data"
    },
    {
     "data": {
      "text/html": [
       "<pre>recommendations finished on 1055000/2088478 queries. users per second: 6078.44</pre>"
      ],
      "text/plain": [
       "recommendations finished on 1055000/2088478 queries. users per second: 6078.44"
      ]
     },
     "metadata": {},
     "output_type": "display_data"
    },
    {
     "data": {
      "text/html": [
       "<pre>recommendations finished on 1056000/2088478 queries. users per second: 6079.11</pre>"
      ],
      "text/plain": [
       "recommendations finished on 1056000/2088478 queries. users per second: 6079.11"
      ]
     },
     "metadata": {},
     "output_type": "display_data"
    },
    {
     "data": {
      "text/html": [
       "<pre>recommendations finished on 1057000/2088478 queries. users per second: 6077.62</pre>"
      ],
      "text/plain": [
       "recommendations finished on 1057000/2088478 queries. users per second: 6077.62"
      ]
     },
     "metadata": {},
     "output_type": "display_data"
    },
    {
     "data": {
      "text/html": [
       "<pre>recommendations finished on 1058000/2088478 queries. users per second: 6078.3</pre>"
      ],
      "text/plain": [
       "recommendations finished on 1058000/2088478 queries. users per second: 6078.3"
      ]
     },
     "metadata": {},
     "output_type": "display_data"
    },
    {
     "data": {
      "text/html": [
       "<pre>recommendations finished on 1059000/2088478 queries. users per second: 6079.05</pre>"
      ],
      "text/plain": [
       "recommendations finished on 1059000/2088478 queries. users per second: 6079.05"
      ]
     },
     "metadata": {},
     "output_type": "display_data"
    },
    {
     "data": {
      "text/html": [
       "<pre>recommendations finished on 1060000/2088478 queries. users per second: 6079.64</pre>"
      ],
      "text/plain": [
       "recommendations finished on 1060000/2088478 queries. users per second: 6079.64"
      ]
     },
     "metadata": {},
     "output_type": "display_data"
    },
    {
     "data": {
      "text/html": [
       "<pre>recommendations finished on 1061000/2088478 queries. users per second: 6080.32</pre>"
      ],
      "text/plain": [
       "recommendations finished on 1061000/2088478 queries. users per second: 6080.32"
      ]
     },
     "metadata": {},
     "output_type": "display_data"
    },
    {
     "data": {
      "text/html": [
       "<pre>recommendations finished on 1062000/2088478 queries. users per second: 6080.39</pre>"
      ],
      "text/plain": [
       "recommendations finished on 1062000/2088478 queries. users per second: 6080.39"
      ]
     },
     "metadata": {},
     "output_type": "display_data"
    },
    {
     "data": {
      "text/html": [
       "<pre>recommendations finished on 1063000/2088478 queries. users per second: 6081.13</pre>"
      ],
      "text/plain": [
       "recommendations finished on 1063000/2088478 queries. users per second: 6081.13"
      ]
     },
     "metadata": {},
     "output_type": "display_data"
    },
    {
     "data": {
      "text/html": [
       "<pre>recommendations finished on 1064000/2088478 queries. users per second: 6081.95</pre>"
      ],
      "text/plain": [
       "recommendations finished on 1064000/2088478 queries. users per second: 6081.95"
      ]
     },
     "metadata": {},
     "output_type": "display_data"
    },
    {
     "data": {
      "text/html": [
       "<pre>recommendations finished on 1065000/2088478 queries. users per second: 6082.58</pre>"
      ],
      "text/plain": [
       "recommendations finished on 1065000/2088478 queries. users per second: 6082.58"
      ]
     },
     "metadata": {},
     "output_type": "display_data"
    },
    {
     "data": {
      "text/html": [
       "<pre>recommendations finished on 1066000/2088478 queries. users per second: 6082.09</pre>"
      ],
      "text/plain": [
       "recommendations finished on 1066000/2088478 queries. users per second: 6082.09"
      ]
     },
     "metadata": {},
     "output_type": "display_data"
    },
    {
     "data": {
      "text/html": [
       "<pre>recommendations finished on 1067000/2088478 queries. users per second: 6082.76</pre>"
      ],
      "text/plain": [
       "recommendations finished on 1067000/2088478 queries. users per second: 6082.76"
      ]
     },
     "metadata": {},
     "output_type": "display_data"
    },
    {
     "data": {
      "text/html": [
       "<pre>recommendations finished on 1068000/2088478 queries. users per second: 6083.56</pre>"
      ],
      "text/plain": [
       "recommendations finished on 1068000/2088478 queries. users per second: 6083.56"
      ]
     },
     "metadata": {},
     "output_type": "display_data"
    },
    {
     "data": {
      "text/html": [
       "<pre>recommendations finished on 1069000/2088478 queries. users per second: 6084.33</pre>"
      ],
      "text/plain": [
       "recommendations finished on 1069000/2088478 queries. users per second: 6084.33"
      ]
     },
     "metadata": {},
     "output_type": "display_data"
    },
    {
     "data": {
      "text/html": [
       "<pre>recommendations finished on 1070000/2088478 queries. users per second: 6085.13</pre>"
      ],
      "text/plain": [
       "recommendations finished on 1070000/2088478 queries. users per second: 6085.13"
      ]
     },
     "metadata": {},
     "output_type": "display_data"
    },
    {
     "data": {
      "text/html": [
       "<pre>recommendations finished on 1071000/2088478 queries. users per second: 6085.16</pre>"
      ],
      "text/plain": [
       "recommendations finished on 1071000/2088478 queries. users per second: 6085.16"
      ]
     },
     "metadata": {},
     "output_type": "display_data"
    },
    {
     "data": {
      "text/html": [
       "<pre>recommendations finished on 1072000/2088478 queries. users per second: 6085.55</pre>"
      ],
      "text/plain": [
       "recommendations finished on 1072000/2088478 queries. users per second: 6085.55"
      ]
     },
     "metadata": {},
     "output_type": "display_data"
    },
    {
     "data": {
      "text/html": [
       "<pre>recommendations finished on 1073000/2088478 queries. users per second: 6086.37</pre>"
      ],
      "text/plain": [
       "recommendations finished on 1073000/2088478 queries. users per second: 6086.37"
      ]
     },
     "metadata": {},
     "output_type": "display_data"
    },
    {
     "data": {
      "text/html": [
       "<pre>recommendations finished on 1074000/2088478 queries. users per second: 6087.3</pre>"
      ],
      "text/plain": [
       "recommendations finished on 1074000/2088478 queries. users per second: 6087.3"
      ]
     },
     "metadata": {},
     "output_type": "display_data"
    },
    {
     "data": {
      "text/html": [
       "<pre>recommendations finished on 1075000/2088478 queries. users per second: 6088.17</pre>"
      ],
      "text/plain": [
       "recommendations finished on 1075000/2088478 queries. users per second: 6088.17"
      ]
     },
     "metadata": {},
     "output_type": "display_data"
    },
    {
     "data": {
      "text/html": [
       "<pre>recommendations finished on 1076000/2088478 queries. users per second: 6088.84</pre>"
      ],
      "text/plain": [
       "recommendations finished on 1076000/2088478 queries. users per second: 6088.84"
      ]
     },
     "metadata": {},
     "output_type": "display_data"
    },
    {
     "data": {
      "text/html": [
       "<pre>recommendations finished on 1077000/2088478 queries. users per second: 6089.48</pre>"
      ],
      "text/plain": [
       "recommendations finished on 1077000/2088478 queries. users per second: 6089.48"
      ]
     },
     "metadata": {},
     "output_type": "display_data"
    },
    {
     "data": {
      "text/html": [
       "<pre>recommendations finished on 1078000/2088478 queries. users per second: 6090.29</pre>"
      ],
      "text/plain": [
       "recommendations finished on 1078000/2088478 queries. users per second: 6090.29"
      ]
     },
     "metadata": {},
     "output_type": "display_data"
    },
    {
     "data": {
      "text/html": [
       "<pre>recommendations finished on 1079000/2088478 queries. users per second: 6090.67</pre>"
      ],
      "text/plain": [
       "recommendations finished on 1079000/2088478 queries. users per second: 6090.67"
      ]
     },
     "metadata": {},
     "output_type": "display_data"
    },
    {
     "data": {
      "text/html": [
       "<pre>recommendations finished on 1080000/2088478 queries. users per second: 6091.07</pre>"
      ],
      "text/plain": [
       "recommendations finished on 1080000/2088478 queries. users per second: 6091.07"
      ]
     },
     "metadata": {},
     "output_type": "display_data"
    },
    {
     "data": {
      "text/html": [
       "<pre>recommendations finished on 1081000/2088478 queries. users per second: 6091.89</pre>"
      ],
      "text/plain": [
       "recommendations finished on 1081000/2088478 queries. users per second: 6091.89"
      ]
     },
     "metadata": {},
     "output_type": "display_data"
    },
    {
     "data": {
      "text/html": [
       "<pre>recommendations finished on 1082000/2088478 queries. users per second: 6092.75</pre>"
      ],
      "text/plain": [
       "recommendations finished on 1082000/2088478 queries. users per second: 6092.75"
      ]
     },
     "metadata": {},
     "output_type": "display_data"
    },
    {
     "data": {
      "text/html": [
       "<pre>recommendations finished on 1083000/2088478 queries. users per second: 6093.55</pre>"
      ],
      "text/plain": [
       "recommendations finished on 1083000/2088478 queries. users per second: 6093.55"
      ]
     },
     "metadata": {},
     "output_type": "display_data"
    },
    {
     "data": {
      "text/html": [
       "<pre>recommendations finished on 1084000/2088478 queries. users per second: 6094.16</pre>"
      ],
      "text/plain": [
       "recommendations finished on 1084000/2088478 queries. users per second: 6094.16"
      ]
     },
     "metadata": {},
     "output_type": "display_data"
    },
    {
     "data": {
      "text/html": [
       "<pre>recommendations finished on 1085000/2088478 queries. users per second: 6095.07</pre>"
      ],
      "text/plain": [
       "recommendations finished on 1085000/2088478 queries. users per second: 6095.07"
      ]
     },
     "metadata": {},
     "output_type": "display_data"
    },
    {
     "data": {
      "text/html": [
       "<pre>recommendations finished on 1086000/2088478 queries. users per second: 6095.83</pre>"
      ],
      "text/plain": [
       "recommendations finished on 1086000/2088478 queries. users per second: 6095.83"
      ]
     },
     "metadata": {},
     "output_type": "display_data"
    },
    {
     "data": {
      "text/html": [
       "<pre>recommendations finished on 1087000/2088478 queries. users per second: 6096.46</pre>"
      ],
      "text/plain": [
       "recommendations finished on 1087000/2088478 queries. users per second: 6096.46"
      ]
     },
     "metadata": {},
     "output_type": "display_data"
    },
    {
     "data": {
      "text/html": [
       "<pre>recommendations finished on 1088000/2088478 queries. users per second: 6097.21</pre>"
      ],
      "text/plain": [
       "recommendations finished on 1088000/2088478 queries. users per second: 6097.21"
      ]
     },
     "metadata": {},
     "output_type": "display_data"
    },
    {
     "data": {
      "text/html": [
       "<pre>recommendations finished on 1089000/2088478 queries. users per second: 6098.06</pre>"
      ],
      "text/plain": [
       "recommendations finished on 1089000/2088478 queries. users per second: 6098.06"
      ]
     },
     "metadata": {},
     "output_type": "display_data"
    },
    {
     "data": {
      "text/html": [
       "<pre>recommendations finished on 1090000/2088478 queries. users per second: 6099.02</pre>"
      ],
      "text/plain": [
       "recommendations finished on 1090000/2088478 queries. users per second: 6099.02"
      ]
     },
     "metadata": {},
     "output_type": "display_data"
    },
    {
     "data": {
      "text/html": [
       "<pre>recommendations finished on 1091000/2088478 queries. users per second: 6099.82</pre>"
      ],
      "text/plain": [
       "recommendations finished on 1091000/2088478 queries. users per second: 6099.82"
      ]
     },
     "metadata": {},
     "output_type": "display_data"
    },
    {
     "data": {
      "text/html": [
       "<pre>recommendations finished on 1092000/2088478 queries. users per second: 6100.49</pre>"
      ],
      "text/plain": [
       "recommendations finished on 1092000/2088478 queries. users per second: 6100.49"
      ]
     },
     "metadata": {},
     "output_type": "display_data"
    },
    {
     "data": {
      "text/html": [
       "<pre>recommendations finished on 1093000/2088478 queries. users per second: 6101.19</pre>"
      ],
      "text/plain": [
       "recommendations finished on 1093000/2088478 queries. users per second: 6101.19"
      ]
     },
     "metadata": {},
     "output_type": "display_data"
    },
    {
     "data": {
      "text/html": [
       "<pre>recommendations finished on 1094000/2088478 queries. users per second: 6102.03</pre>"
      ],
      "text/plain": [
       "recommendations finished on 1094000/2088478 queries. users per second: 6102.03"
      ]
     },
     "metadata": {},
     "output_type": "display_data"
    },
    {
     "data": {
      "text/html": [
       "<pre>recommendations finished on 1095000/2088478 queries. users per second: 6102.79</pre>"
      ],
      "text/plain": [
       "recommendations finished on 1095000/2088478 queries. users per second: 6102.79"
      ]
     },
     "metadata": {},
     "output_type": "display_data"
    },
    {
     "data": {
      "text/html": [
       "<pre>recommendations finished on 1096000/2088478 queries. users per second: 6103.62</pre>"
      ],
      "text/plain": [
       "recommendations finished on 1096000/2088478 queries. users per second: 6103.62"
      ]
     },
     "metadata": {},
     "output_type": "display_data"
    },
    {
     "data": {
      "text/html": [
       "<pre>recommendations finished on 1097000/2088478 queries. users per second: 6104.42</pre>"
      ],
      "text/plain": [
       "recommendations finished on 1097000/2088478 queries. users per second: 6104.42"
      ]
     },
     "metadata": {},
     "output_type": "display_data"
    },
    {
     "data": {
      "text/html": [
       "<pre>recommendations finished on 1098000/2088478 queries. users per second: 6105.21</pre>"
      ],
      "text/plain": [
       "recommendations finished on 1098000/2088478 queries. users per second: 6105.21"
      ]
     },
     "metadata": {},
     "output_type": "display_data"
    },
    {
     "data": {
      "text/html": [
       "<pre>recommendations finished on 1099000/2088478 queries. users per second: 6105.73</pre>"
      ],
      "text/plain": [
       "recommendations finished on 1099000/2088478 queries. users per second: 6105.73"
      ]
     },
     "metadata": {},
     "output_type": "display_data"
    },
    {
     "data": {
      "text/html": [
       "<pre>recommendations finished on 1100000/2088478 queries. users per second: 6106.46</pre>"
      ],
      "text/plain": [
       "recommendations finished on 1100000/2088478 queries. users per second: 6106.46"
      ]
     },
     "metadata": {},
     "output_type": "display_data"
    },
    {
     "data": {
      "text/html": [
       "<pre>recommendations finished on 1101000/2088478 queries. users per second: 6107.39</pre>"
      ],
      "text/plain": [
       "recommendations finished on 1101000/2088478 queries. users per second: 6107.39"
      ]
     },
     "metadata": {},
     "output_type": "display_data"
    },
    {
     "data": {
      "text/html": [
       "<pre>recommendations finished on 1102000/2088478 queries. users per second: 6108.27</pre>"
      ],
      "text/plain": [
       "recommendations finished on 1102000/2088478 queries. users per second: 6108.27"
      ]
     },
     "metadata": {},
     "output_type": "display_data"
    },
    {
     "data": {
      "text/html": [
       "<pre>recommendations finished on 1103000/2088478 queries. users per second: 6109.1</pre>"
      ],
      "text/plain": [
       "recommendations finished on 1103000/2088478 queries. users per second: 6109.1"
      ]
     },
     "metadata": {},
     "output_type": "display_data"
    },
    {
     "data": {
      "text/html": [
       "<pre>recommendations finished on 1104000/2088478 queries. users per second: 6109.6</pre>"
      ],
      "text/plain": [
       "recommendations finished on 1104000/2088478 queries. users per second: 6109.6"
      ]
     },
     "metadata": {},
     "output_type": "display_data"
    },
    {
     "data": {
      "text/html": [
       "<pre>recommendations finished on 1105000/2088478 queries. users per second: 6110.32</pre>"
      ],
      "text/plain": [
       "recommendations finished on 1105000/2088478 queries. users per second: 6110.32"
      ]
     },
     "metadata": {},
     "output_type": "display_data"
    },
    {
     "data": {
      "text/html": [
       "<pre>recommendations finished on 1106000/2088478 queries. users per second: 6111</pre>"
      ],
      "text/plain": [
       "recommendations finished on 1106000/2088478 queries. users per second: 6111"
      ]
     },
     "metadata": {},
     "output_type": "display_data"
    },
    {
     "data": {
      "text/html": [
       "<pre>recommendations finished on 1107000/2088478 queries. users per second: 6111.61</pre>"
      ],
      "text/plain": [
       "recommendations finished on 1107000/2088478 queries. users per second: 6111.61"
      ]
     },
     "metadata": {},
     "output_type": "display_data"
    },
    {
     "data": {
      "text/html": [
       "<pre>recommendations finished on 1108000/2088478 queries. users per second: 6112.3</pre>"
      ],
      "text/plain": [
       "recommendations finished on 1108000/2088478 queries. users per second: 6112.3"
      ]
     },
     "metadata": {},
     "output_type": "display_data"
    },
    {
     "data": {
      "text/html": [
       "<pre>recommendations finished on 1109000/2088478 queries. users per second: 6113.08</pre>"
      ],
      "text/plain": [
       "recommendations finished on 1109000/2088478 queries. users per second: 6113.08"
      ]
     },
     "metadata": {},
     "output_type": "display_data"
    },
    {
     "data": {
      "text/html": [
       "<pre>recommendations finished on 1110000/2088478 queries. users per second: 6113.59</pre>"
      ],
      "text/plain": [
       "recommendations finished on 1110000/2088478 queries. users per second: 6113.59"
      ]
     },
     "metadata": {},
     "output_type": "display_data"
    },
    {
     "data": {
      "text/html": [
       "<pre>recommendations finished on 1111000/2088478 queries. users per second: 6114.15</pre>"
      ],
      "text/plain": [
       "recommendations finished on 1111000/2088478 queries. users per second: 6114.15"
      ]
     },
     "metadata": {},
     "output_type": "display_data"
    },
    {
     "data": {
      "text/html": [
       "<pre>recommendations finished on 1112000/2088478 queries. users per second: 6114.81</pre>"
      ],
      "text/plain": [
       "recommendations finished on 1112000/2088478 queries. users per second: 6114.81"
      ]
     },
     "metadata": {},
     "output_type": "display_data"
    },
    {
     "data": {
      "text/html": [
       "<pre>recommendations finished on 1113000/2088478 queries. users per second: 6113.28</pre>"
      ],
      "text/plain": [
       "recommendations finished on 1113000/2088478 queries. users per second: 6113.28"
      ]
     },
     "metadata": {},
     "output_type": "display_data"
    },
    {
     "data": {
      "text/html": [
       "<pre>recommendations finished on 1114000/2088478 queries. users per second: 6113.96</pre>"
      ],
      "text/plain": [
       "recommendations finished on 1114000/2088478 queries. users per second: 6113.96"
      ]
     },
     "metadata": {},
     "output_type": "display_data"
    },
    {
     "data": {
      "text/html": [
       "<pre>recommendations finished on 1115000/2088478 queries. users per second: 6114.71</pre>"
      ],
      "text/plain": [
       "recommendations finished on 1115000/2088478 queries. users per second: 6114.71"
      ]
     },
     "metadata": {},
     "output_type": "display_data"
    },
    {
     "data": {
      "text/html": [
       "<pre>recommendations finished on 1116000/2088478 queries. users per second: 6115.4</pre>"
      ],
      "text/plain": [
       "recommendations finished on 1116000/2088478 queries. users per second: 6115.4"
      ]
     },
     "metadata": {},
     "output_type": "display_data"
    },
    {
     "data": {
      "text/html": [
       "<pre>recommendations finished on 1117000/2088478 queries. users per second: 6115.95</pre>"
      ],
      "text/plain": [
       "recommendations finished on 1117000/2088478 queries. users per second: 6115.95"
      ]
     },
     "metadata": {},
     "output_type": "display_data"
    },
    {
     "data": {
      "text/html": [
       "<pre>recommendations finished on 1118000/2088478 queries. users per second: 6115.99</pre>"
      ],
      "text/plain": [
       "recommendations finished on 1118000/2088478 queries. users per second: 6115.99"
      ]
     },
     "metadata": {},
     "output_type": "display_data"
    },
    {
     "data": {
      "text/html": [
       "<pre>recommendations finished on 1119000/2088478 queries. users per second: 6116.58</pre>"
      ],
      "text/plain": [
       "recommendations finished on 1119000/2088478 queries. users per second: 6116.58"
      ]
     },
     "metadata": {},
     "output_type": "display_data"
    },
    {
     "data": {
      "text/html": [
       "<pre>recommendations finished on 1120000/2088478 queries. users per second: 6117.43</pre>"
      ],
      "text/plain": [
       "recommendations finished on 1120000/2088478 queries. users per second: 6117.43"
      ]
     },
     "metadata": {},
     "output_type": "display_data"
    },
    {
     "data": {
      "text/html": [
       "<pre>recommendations finished on 1121000/2088478 queries. users per second: 6118.2</pre>"
      ],
      "text/plain": [
       "recommendations finished on 1121000/2088478 queries. users per second: 6118.2"
      ]
     },
     "metadata": {},
     "output_type": "display_data"
    },
    {
     "data": {
      "text/html": [
       "<pre>recommendations finished on 1122000/2088478 queries. users per second: 6119</pre>"
      ],
      "text/plain": [
       "recommendations finished on 1122000/2088478 queries. users per second: 6119"
      ]
     },
     "metadata": {},
     "output_type": "display_data"
    },
    {
     "data": {
      "text/html": [
       "<pre>recommendations finished on 1123000/2088478 queries. users per second: 6119.81</pre>"
      ],
      "text/plain": [
       "recommendations finished on 1123000/2088478 queries. users per second: 6119.81"
      ]
     },
     "metadata": {},
     "output_type": "display_data"
    },
    {
     "data": {
      "text/html": [
       "<pre>recommendations finished on 1124000/2088478 queries. users per second: 6120.54</pre>"
      ],
      "text/plain": [
       "recommendations finished on 1124000/2088478 queries. users per second: 6120.54"
      ]
     },
     "metadata": {},
     "output_type": "display_data"
    },
    {
     "data": {
      "text/html": [
       "<pre>recommendations finished on 1125000/2088478 queries. users per second: 6121.07</pre>"
      ],
      "text/plain": [
       "recommendations finished on 1125000/2088478 queries. users per second: 6121.07"
      ]
     },
     "metadata": {},
     "output_type": "display_data"
    },
    {
     "data": {
      "text/html": [
       "<pre>recommendations finished on 1126000/2088478 queries. users per second: 6121.77</pre>"
      ],
      "text/plain": [
       "recommendations finished on 1126000/2088478 queries. users per second: 6121.77"
      ]
     },
     "metadata": {},
     "output_type": "display_data"
    },
    {
     "data": {
      "text/html": [
       "<pre>recommendations finished on 1127000/2088478 queries. users per second: 6122.61</pre>"
      ],
      "text/plain": [
       "recommendations finished on 1127000/2088478 queries. users per second: 6122.61"
      ]
     },
     "metadata": {},
     "output_type": "display_data"
    },
    {
     "data": {
      "text/html": [
       "<pre>recommendations finished on 1128000/2088478 queries. users per second: 6123.18</pre>"
      ],
      "text/plain": [
       "recommendations finished on 1128000/2088478 queries. users per second: 6123.18"
      ]
     },
     "metadata": {},
     "output_type": "display_data"
    },
    {
     "data": {
      "text/html": [
       "<pre>recommendations finished on 1129000/2088478 queries. users per second: 6123.97</pre>"
      ],
      "text/plain": [
       "recommendations finished on 1129000/2088478 queries. users per second: 6123.97"
      ]
     },
     "metadata": {},
     "output_type": "display_data"
    },
    {
     "data": {
      "text/html": [
       "<pre>recommendations finished on 1130000/2088478 queries. users per second: 6124.81</pre>"
      ],
      "text/plain": [
       "recommendations finished on 1130000/2088478 queries. users per second: 6124.81"
      ]
     },
     "metadata": {},
     "output_type": "display_data"
    },
    {
     "data": {
      "text/html": [
       "<pre>recommendations finished on 1131000/2088478 queries. users per second: 6125.73</pre>"
      ],
      "text/plain": [
       "recommendations finished on 1131000/2088478 queries. users per second: 6125.73"
      ]
     },
     "metadata": {},
     "output_type": "display_data"
    },
    {
     "data": {
      "text/html": [
       "<pre>recommendations finished on 1132000/2088478 queries. users per second: 6126.4</pre>"
      ],
      "text/plain": [
       "recommendations finished on 1132000/2088478 queries. users per second: 6126.4"
      ]
     },
     "metadata": {},
     "output_type": "display_data"
    },
    {
     "data": {
      "text/html": [
       "<pre>recommendations finished on 1133000/2088478 queries. users per second: 6127.22</pre>"
      ],
      "text/plain": [
       "recommendations finished on 1133000/2088478 queries. users per second: 6127.22"
      ]
     },
     "metadata": {},
     "output_type": "display_data"
    },
    {
     "data": {
      "text/html": [
       "<pre>recommendations finished on 1134000/2088478 queries. users per second: 6127.82</pre>"
      ],
      "text/plain": [
       "recommendations finished on 1134000/2088478 queries. users per second: 6127.82"
      ]
     },
     "metadata": {},
     "output_type": "display_data"
    },
    {
     "data": {
      "text/html": [
       "<pre>recommendations finished on 1135000/2088478 queries. users per second: 6128.71</pre>"
      ],
      "text/plain": [
       "recommendations finished on 1135000/2088478 queries. users per second: 6128.71"
      ]
     },
     "metadata": {},
     "output_type": "display_data"
    },
    {
     "data": {
      "text/html": [
       "<pre>recommendations finished on 1136000/2088478 queries. users per second: 6129.55</pre>"
      ],
      "text/plain": [
       "recommendations finished on 1136000/2088478 queries. users per second: 6129.55"
      ]
     },
     "metadata": {},
     "output_type": "display_data"
    },
    {
     "data": {
      "text/html": [
       "<pre>recommendations finished on 1137000/2088478 queries. users per second: 6130.16</pre>"
      ],
      "text/plain": [
       "recommendations finished on 1137000/2088478 queries. users per second: 6130.16"
      ]
     },
     "metadata": {},
     "output_type": "display_data"
    },
    {
     "data": {
      "text/html": [
       "<pre>recommendations finished on 1138000/2088478 queries. users per second: 6130.96</pre>"
      ],
      "text/plain": [
       "recommendations finished on 1138000/2088478 queries. users per second: 6130.96"
      ]
     },
     "metadata": {},
     "output_type": "display_data"
    },
    {
     "data": {
      "text/html": [
       "<pre>recommendations finished on 1139000/2088478 queries. users per second: 6131.69</pre>"
      ],
      "text/plain": [
       "recommendations finished on 1139000/2088478 queries. users per second: 6131.69"
      ]
     },
     "metadata": {},
     "output_type": "display_data"
    },
    {
     "data": {
      "text/html": [
       "<pre>recommendations finished on 1140000/2088478 queries. users per second: 6132.46</pre>"
      ],
      "text/plain": [
       "recommendations finished on 1140000/2088478 queries. users per second: 6132.46"
      ]
     },
     "metadata": {},
     "output_type": "display_data"
    },
    {
     "data": {
      "text/html": [
       "<pre>recommendations finished on 1141000/2088478 queries. users per second: 6133.37</pre>"
      ],
      "text/plain": [
       "recommendations finished on 1141000/2088478 queries. users per second: 6133.37"
      ]
     },
     "metadata": {},
     "output_type": "display_data"
    },
    {
     "data": {
      "text/html": [
       "<pre>recommendations finished on 1142000/2088478 queries. users per second: 6134.23</pre>"
      ],
      "text/plain": [
       "recommendations finished on 1142000/2088478 queries. users per second: 6134.23"
      ]
     },
     "metadata": {},
     "output_type": "display_data"
    },
    {
     "data": {
      "text/html": [
       "<pre>recommendations finished on 1143000/2088478 queries. users per second: 6134.75</pre>"
      ],
      "text/plain": [
       "recommendations finished on 1143000/2088478 queries. users per second: 6134.75"
      ]
     },
     "metadata": {},
     "output_type": "display_data"
    },
    {
     "data": {
      "text/html": [
       "<pre>recommendations finished on 1144000/2088478 queries. users per second: 6135.23</pre>"
      ],
      "text/plain": [
       "recommendations finished on 1144000/2088478 queries. users per second: 6135.23"
      ]
     },
     "metadata": {},
     "output_type": "display_data"
    },
    {
     "data": {
      "text/html": [
       "<pre>recommendations finished on 1145000/2088478 queries. users per second: 6135.85</pre>"
      ],
      "text/plain": [
       "recommendations finished on 1145000/2088478 queries. users per second: 6135.85"
      ]
     },
     "metadata": {},
     "output_type": "display_data"
    },
    {
     "data": {
      "text/html": [
       "<pre>recommendations finished on 1146000/2088478 queries. users per second: 6136.42</pre>"
      ],
      "text/plain": [
       "recommendations finished on 1146000/2088478 queries. users per second: 6136.42"
      ]
     },
     "metadata": {},
     "output_type": "display_data"
    },
    {
     "data": {
      "text/html": [
       "<pre>recommendations finished on 1147000/2088478 queries. users per second: 6137.07</pre>"
      ],
      "text/plain": [
       "recommendations finished on 1147000/2088478 queries. users per second: 6137.07"
      ]
     },
     "metadata": {},
     "output_type": "display_data"
    },
    {
     "data": {
      "text/html": [
       "<pre>recommendations finished on 1148000/2088478 queries. users per second: 6137.85</pre>"
      ],
      "text/plain": [
       "recommendations finished on 1148000/2088478 queries. users per second: 6137.85"
      ]
     },
     "metadata": {},
     "output_type": "display_data"
    },
    {
     "data": {
      "text/html": [
       "<pre>recommendations finished on 1149000/2088478 queries. users per second: 6138.66</pre>"
      ],
      "text/plain": [
       "recommendations finished on 1149000/2088478 queries. users per second: 6138.66"
      ]
     },
     "metadata": {},
     "output_type": "display_data"
    },
    {
     "data": {
      "text/html": [
       "<pre>recommendations finished on 1150000/2088478 queries. users per second: 6139.35</pre>"
      ],
      "text/plain": [
       "recommendations finished on 1150000/2088478 queries. users per second: 6139.35"
      ]
     },
     "metadata": {},
     "output_type": "display_data"
    },
    {
     "data": {
      "text/html": [
       "<pre>recommendations finished on 1151000/2088478 queries. users per second: 6140.06</pre>"
      ],
      "text/plain": [
       "recommendations finished on 1151000/2088478 queries. users per second: 6140.06"
      ]
     },
     "metadata": {},
     "output_type": "display_data"
    },
    {
     "data": {
      "text/html": [
       "<pre>recommendations finished on 1152000/2088478 queries. users per second: 6140.71</pre>"
      ],
      "text/plain": [
       "recommendations finished on 1152000/2088478 queries. users per second: 6140.71"
      ]
     },
     "metadata": {},
     "output_type": "display_data"
    },
    {
     "data": {
      "text/html": [
       "<pre>recommendations finished on 1153000/2088478 queries. users per second: 6141.23</pre>"
      ],
      "text/plain": [
       "recommendations finished on 1153000/2088478 queries. users per second: 6141.23"
      ]
     },
     "metadata": {},
     "output_type": "display_data"
    },
    {
     "data": {
      "text/html": [
       "<pre>recommendations finished on 1154000/2088478 queries. users per second: 6141.85</pre>"
      ],
      "text/plain": [
       "recommendations finished on 1154000/2088478 queries. users per second: 6141.85"
      ]
     },
     "metadata": {},
     "output_type": "display_data"
    },
    {
     "data": {
      "text/html": [
       "<pre>recommendations finished on 1155000/2088478 queries. users per second: 6142.31</pre>"
      ],
      "text/plain": [
       "recommendations finished on 1155000/2088478 queries. users per second: 6142.31"
      ]
     },
     "metadata": {},
     "output_type": "display_data"
    },
    {
     "data": {
      "text/html": [
       "<pre>recommendations finished on 1156000/2088478 queries. users per second: 6142.91</pre>"
      ],
      "text/plain": [
       "recommendations finished on 1156000/2088478 queries. users per second: 6142.91"
      ]
     },
     "metadata": {},
     "output_type": "display_data"
    },
    {
     "data": {
      "text/html": [
       "<pre>recommendations finished on 1157000/2088478 queries. users per second: 6143.22</pre>"
      ],
      "text/plain": [
       "recommendations finished on 1157000/2088478 queries. users per second: 6143.22"
      ]
     },
     "metadata": {},
     "output_type": "display_data"
    },
    {
     "data": {
      "text/html": [
       "<pre>recommendations finished on 1158000/2088478 queries. users per second: 6143.85</pre>"
      ],
      "text/plain": [
       "recommendations finished on 1158000/2088478 queries. users per second: 6143.85"
      ]
     },
     "metadata": {},
     "output_type": "display_data"
    },
    {
     "data": {
      "text/html": [
       "<pre>recommendations finished on 1159000/2088478 queries. users per second: 6144.32</pre>"
      ],
      "text/plain": [
       "recommendations finished on 1159000/2088478 queries. users per second: 6144.32"
      ]
     },
     "metadata": {},
     "output_type": "display_data"
    },
    {
     "data": {
      "text/html": [
       "<pre>recommendations finished on 1160000/2088478 queries. users per second: 6144.95</pre>"
      ],
      "text/plain": [
       "recommendations finished on 1160000/2088478 queries. users per second: 6144.95"
      ]
     },
     "metadata": {},
     "output_type": "display_data"
    },
    {
     "data": {
      "text/html": [
       "<pre>recommendations finished on 1161000/2088478 queries. users per second: 6145.48</pre>"
      ],
      "text/plain": [
       "recommendations finished on 1161000/2088478 queries. users per second: 6145.48"
      ]
     },
     "metadata": {},
     "output_type": "display_data"
    },
    {
     "data": {
      "text/html": [
       "<pre>recommendations finished on 1162000/2088478 queries. users per second: 6146.02</pre>"
      ],
      "text/plain": [
       "recommendations finished on 1162000/2088478 queries. users per second: 6146.02"
      ]
     },
     "metadata": {},
     "output_type": "display_data"
    },
    {
     "data": {
      "text/html": [
       "<pre>recommendations finished on 1163000/2088478 queries. users per second: 6146.54</pre>"
      ],
      "text/plain": [
       "recommendations finished on 1163000/2088478 queries. users per second: 6146.54"
      ]
     },
     "metadata": {},
     "output_type": "display_data"
    },
    {
     "data": {
      "text/html": [
       "<pre>recommendations finished on 1164000/2088478 queries. users per second: 6146.88</pre>"
      ],
      "text/plain": [
       "recommendations finished on 1164000/2088478 queries. users per second: 6146.88"
      ]
     },
     "metadata": {},
     "output_type": "display_data"
    },
    {
     "data": {
      "text/html": [
       "<pre>recommendations finished on 1165000/2088478 queries. users per second: 6147.13</pre>"
      ],
      "text/plain": [
       "recommendations finished on 1165000/2088478 queries. users per second: 6147.13"
      ]
     },
     "metadata": {},
     "output_type": "display_data"
    },
    {
     "data": {
      "text/html": [
       "<pre>recommendations finished on 1166000/2088478 queries. users per second: 6147.97</pre>"
      ],
      "text/plain": [
       "recommendations finished on 1166000/2088478 queries. users per second: 6147.97"
      ]
     },
     "metadata": {},
     "output_type": "display_data"
    },
    {
     "data": {
      "text/html": [
       "<pre>recommendations finished on 1167000/2088478 queries. users per second: 6148.38</pre>"
      ],
      "text/plain": [
       "recommendations finished on 1167000/2088478 queries. users per second: 6148.38"
      ]
     },
     "metadata": {},
     "output_type": "display_data"
    },
    {
     "data": {
      "text/html": [
       "<pre>recommendations finished on 1168000/2088478 queries. users per second: 6148.73</pre>"
      ],
      "text/plain": [
       "recommendations finished on 1168000/2088478 queries. users per second: 6148.73"
      ]
     },
     "metadata": {},
     "output_type": "display_data"
    },
    {
     "data": {
      "text/html": [
       "<pre>recommendations finished on 1169000/2088478 queries. users per second: 6149.24</pre>"
      ],
      "text/plain": [
       "recommendations finished on 1169000/2088478 queries. users per second: 6149.24"
      ]
     },
     "metadata": {},
     "output_type": "display_data"
    },
    {
     "data": {
      "text/html": [
       "<pre>recommendations finished on 1170000/2088478 queries. users per second: 6149.6</pre>"
      ],
      "text/plain": [
       "recommendations finished on 1170000/2088478 queries. users per second: 6149.6"
      ]
     },
     "metadata": {},
     "output_type": "display_data"
    },
    {
     "data": {
      "text/html": [
       "<pre>recommendations finished on 1171000/2088478 queries. users per second: 6150.1</pre>"
      ],
      "text/plain": [
       "recommendations finished on 1171000/2088478 queries. users per second: 6150.1"
      ]
     },
     "metadata": {},
     "output_type": "display_data"
    },
    {
     "data": {
      "text/html": [
       "<pre>recommendations finished on 1172000/2088478 queries. users per second: 6150.79</pre>"
      ],
      "text/plain": [
       "recommendations finished on 1172000/2088478 queries. users per second: 6150.79"
      ]
     },
     "metadata": {},
     "output_type": "display_data"
    },
    {
     "data": {
      "text/html": [
       "<pre>recommendations finished on 1173000/2088478 queries. users per second: 6151.25</pre>"
      ],
      "text/plain": [
       "recommendations finished on 1173000/2088478 queries. users per second: 6151.25"
      ]
     },
     "metadata": {},
     "output_type": "display_data"
    },
    {
     "data": {
      "text/html": [
       "<pre>recommendations finished on 1174000/2088478 queries. users per second: 6152</pre>"
      ],
      "text/plain": [
       "recommendations finished on 1174000/2088478 queries. users per second: 6152"
      ]
     },
     "metadata": {},
     "output_type": "display_data"
    },
    {
     "data": {
      "text/html": [
       "<pre>recommendations finished on 1175000/2088478 queries. users per second: 6152.55</pre>"
      ],
      "text/plain": [
       "recommendations finished on 1175000/2088478 queries. users per second: 6152.55"
      ]
     },
     "metadata": {},
     "output_type": "display_data"
    },
    {
     "data": {
      "text/html": [
       "<pre>recommendations finished on 1176000/2088478 queries. users per second: 6152.74</pre>"
      ],
      "text/plain": [
       "recommendations finished on 1176000/2088478 queries. users per second: 6152.74"
      ]
     },
     "metadata": {},
     "output_type": "display_data"
    },
    {
     "data": {
      "text/html": [
       "<pre>recommendations finished on 1177000/2088478 queries. users per second: 6153.29</pre>"
      ],
      "text/plain": [
       "recommendations finished on 1177000/2088478 queries. users per second: 6153.29"
      ]
     },
     "metadata": {},
     "output_type": "display_data"
    },
    {
     "data": {
      "text/html": [
       "<pre>recommendations finished on 1178000/2088478 queries. users per second: 6153.93</pre>"
      ],
      "text/plain": [
       "recommendations finished on 1178000/2088478 queries. users per second: 6153.93"
      ]
     },
     "metadata": {},
     "output_type": "display_data"
    },
    {
     "data": {
      "text/html": [
       "<pre>recommendations finished on 1179000/2088478 queries. users per second: 6154.52</pre>"
      ],
      "text/plain": [
       "recommendations finished on 1179000/2088478 queries. users per second: 6154.52"
      ]
     },
     "metadata": {},
     "output_type": "display_data"
    },
    {
     "data": {
      "text/html": [
       "<pre>recommendations finished on 1180000/2088478 queries. users per second: 6155.01</pre>"
      ],
      "text/plain": [
       "recommendations finished on 1180000/2088478 queries. users per second: 6155.01"
      ]
     },
     "metadata": {},
     "output_type": "display_data"
    },
    {
     "data": {
      "text/html": [
       "<pre>recommendations finished on 1181000/2088478 queries. users per second: 6155.47</pre>"
      ],
      "text/plain": [
       "recommendations finished on 1181000/2088478 queries. users per second: 6155.47"
      ]
     },
     "metadata": {},
     "output_type": "display_data"
    },
    {
     "data": {
      "text/html": [
       "<pre>recommendations finished on 1182000/2088478 queries. users per second: 6156.04</pre>"
      ],
      "text/plain": [
       "recommendations finished on 1182000/2088478 queries. users per second: 6156.04"
      ]
     },
     "metadata": {},
     "output_type": "display_data"
    },
    {
     "data": {
      "text/html": [
       "<pre>recommendations finished on 1183000/2088478 queries. users per second: 6156.69</pre>"
      ],
      "text/plain": [
       "recommendations finished on 1183000/2088478 queries. users per second: 6156.69"
      ]
     },
     "metadata": {},
     "output_type": "display_data"
    },
    {
     "data": {
      "text/html": [
       "<pre>recommendations finished on 1184000/2088478 queries. users per second: 6157.09</pre>"
      ],
      "text/plain": [
       "recommendations finished on 1184000/2088478 queries. users per second: 6157.09"
      ]
     },
     "metadata": {},
     "output_type": "display_data"
    },
    {
     "data": {
      "text/html": [
       "<pre>recommendations finished on 1185000/2088478 queries. users per second: 6157.42</pre>"
      ],
      "text/plain": [
       "recommendations finished on 1185000/2088478 queries. users per second: 6157.42"
      ]
     },
     "metadata": {},
     "output_type": "display_data"
    },
    {
     "data": {
      "text/html": [
       "<pre>recommendations finished on 1186000/2088478 queries. users per second: 6157.73</pre>"
      ],
      "text/plain": [
       "recommendations finished on 1186000/2088478 queries. users per second: 6157.73"
      ]
     },
     "metadata": {},
     "output_type": "display_data"
    },
    {
     "data": {
      "text/html": [
       "<pre>recommendations finished on 1187000/2088478 queries. users per second: 6158.08</pre>"
      ],
      "text/plain": [
       "recommendations finished on 1187000/2088478 queries. users per second: 6158.08"
      ]
     },
     "metadata": {},
     "output_type": "display_data"
    },
    {
     "data": {
      "text/html": [
       "<pre>recommendations finished on 1188000/2088478 queries. users per second: 6158.46</pre>"
      ],
      "text/plain": [
       "recommendations finished on 1188000/2088478 queries. users per second: 6158.46"
      ]
     },
     "metadata": {},
     "output_type": "display_data"
    },
    {
     "data": {
      "text/html": [
       "<pre>recommendations finished on 1189000/2088478 queries. users per second: 6159.27</pre>"
      ],
      "text/plain": [
       "recommendations finished on 1189000/2088478 queries. users per second: 6159.27"
      ]
     },
     "metadata": {},
     "output_type": "display_data"
    },
    {
     "data": {
      "text/html": [
       "<pre>recommendations finished on 1190000/2088478 queries. users per second: 6159.84</pre>"
      ],
      "text/plain": [
       "recommendations finished on 1190000/2088478 queries. users per second: 6159.84"
      ]
     },
     "metadata": {},
     "output_type": "display_data"
    },
    {
     "data": {
      "text/html": [
       "<pre>recommendations finished on 1191000/2088478 queries. users per second: 6160.5</pre>"
      ],
      "text/plain": [
       "recommendations finished on 1191000/2088478 queries. users per second: 6160.5"
      ]
     },
     "metadata": {},
     "output_type": "display_data"
    },
    {
     "data": {
      "text/html": [
       "<pre>recommendations finished on 1192000/2088478 queries. users per second: 6161.01</pre>"
      ],
      "text/plain": [
       "recommendations finished on 1192000/2088478 queries. users per second: 6161.01"
      ]
     },
     "metadata": {},
     "output_type": "display_data"
    },
    {
     "data": {
      "text/html": [
       "<pre>recommendations finished on 1193000/2088478 queries. users per second: 6161.74</pre>"
      ],
      "text/plain": [
       "recommendations finished on 1193000/2088478 queries. users per second: 6161.74"
      ]
     },
     "metadata": {},
     "output_type": "display_data"
    },
    {
     "data": {
      "text/html": [
       "<pre>recommendations finished on 1194000/2088478 queries. users per second: 6162.48</pre>"
      ],
      "text/plain": [
       "recommendations finished on 1194000/2088478 queries. users per second: 6162.48"
      ]
     },
     "metadata": {},
     "output_type": "display_data"
    },
    {
     "data": {
      "text/html": [
       "<pre>recommendations finished on 1195000/2088478 queries. users per second: 6162.87</pre>"
      ],
      "text/plain": [
       "recommendations finished on 1195000/2088478 queries. users per second: 6162.87"
      ]
     },
     "metadata": {},
     "output_type": "display_data"
    },
    {
     "data": {
      "text/html": [
       "<pre>recommendations finished on 1196000/2088478 queries. users per second: 6163.34</pre>"
      ],
      "text/plain": [
       "recommendations finished on 1196000/2088478 queries. users per second: 6163.34"
      ]
     },
     "metadata": {},
     "output_type": "display_data"
    },
    {
     "data": {
      "text/html": [
       "<pre>recommendations finished on 1197000/2088478 queries. users per second: 6164.09</pre>"
      ],
      "text/plain": [
       "recommendations finished on 1197000/2088478 queries. users per second: 6164.09"
      ]
     },
     "metadata": {},
     "output_type": "display_data"
    },
    {
     "data": {
      "text/html": [
       "<pre>recommendations finished on 1198000/2088478 queries. users per second: 6164.75</pre>"
      ],
      "text/plain": [
       "recommendations finished on 1198000/2088478 queries. users per second: 6164.75"
      ]
     },
     "metadata": {},
     "output_type": "display_data"
    },
    {
     "data": {
      "text/html": [
       "<pre>recommendations finished on 1199000/2088478 queries. users per second: 6165.32</pre>"
      ],
      "text/plain": [
       "recommendations finished on 1199000/2088478 queries. users per second: 6165.32"
      ]
     },
     "metadata": {},
     "output_type": "display_data"
    },
    {
     "data": {
      "text/html": [
       "<pre>recommendations finished on 1200000/2088478 queries. users per second: 6166.05</pre>"
      ],
      "text/plain": [
       "recommendations finished on 1200000/2088478 queries. users per second: 6166.05"
      ]
     },
     "metadata": {},
     "output_type": "display_data"
    },
    {
     "data": {
      "text/html": [
       "<pre>recommendations finished on 1201000/2088478 queries. users per second: 6166.03</pre>"
      ],
      "text/plain": [
       "recommendations finished on 1201000/2088478 queries. users per second: 6166.03"
      ]
     },
     "metadata": {},
     "output_type": "display_data"
    },
    {
     "data": {
      "text/html": [
       "<pre>recommendations finished on 1202000/2088478 queries. users per second: 6162.37</pre>"
      ],
      "text/plain": [
       "recommendations finished on 1202000/2088478 queries. users per second: 6162.37"
      ]
     },
     "metadata": {},
     "output_type": "display_data"
    },
    {
     "data": {
      "text/html": [
       "<pre>recommendations finished on 1203000/2088478 queries. users per second: 6162.83</pre>"
      ],
      "text/plain": [
       "recommendations finished on 1203000/2088478 queries. users per second: 6162.83"
      ]
     },
     "metadata": {},
     "output_type": "display_data"
    },
    {
     "data": {
      "text/html": [
       "<pre>recommendations finished on 1204000/2088478 queries. users per second: 6163.5</pre>"
      ],
      "text/plain": [
       "recommendations finished on 1204000/2088478 queries. users per second: 6163.5"
      ]
     },
     "metadata": {},
     "output_type": "display_data"
    },
    {
     "data": {
      "text/html": [
       "<pre>recommendations finished on 1205000/2088478 queries. users per second: 6164.19</pre>"
      ],
      "text/plain": [
       "recommendations finished on 1205000/2088478 queries. users per second: 6164.19"
      ]
     },
     "metadata": {},
     "output_type": "display_data"
    },
    {
     "data": {
      "text/html": [
       "<pre>recommendations finished on 1206000/2088478 queries. users per second: 6165.05</pre>"
      ],
      "text/plain": [
       "recommendations finished on 1206000/2088478 queries. users per second: 6165.05"
      ]
     },
     "metadata": {},
     "output_type": "display_data"
    },
    {
     "data": {
      "text/html": [
       "<pre>recommendations finished on 1207000/2088478 queries. users per second: 6163.45</pre>"
      ],
      "text/plain": [
       "recommendations finished on 1207000/2088478 queries. users per second: 6163.45"
      ]
     },
     "metadata": {},
     "output_type": "display_data"
    },
    {
     "data": {
      "text/html": [
       "<pre>recommendations finished on 1208000/2088478 queries. users per second: 6161.93</pre>"
      ],
      "text/plain": [
       "recommendations finished on 1208000/2088478 queries. users per second: 6161.93"
      ]
     },
     "metadata": {},
     "output_type": "display_data"
    },
    {
     "data": {
      "text/html": [
       "<pre>recommendations finished on 1209000/2088478 queries. users per second: 6162.45</pre>"
      ],
      "text/plain": [
       "recommendations finished on 1209000/2088478 queries. users per second: 6162.45"
      ]
     },
     "metadata": {},
     "output_type": "display_data"
    },
    {
     "data": {
      "text/html": [
       "<pre>recommendations finished on 1210000/2088478 queries. users per second: 6162.89</pre>"
      ],
      "text/plain": [
       "recommendations finished on 1210000/2088478 queries. users per second: 6162.89"
      ]
     },
     "metadata": {},
     "output_type": "display_data"
    },
    {
     "data": {
      "text/html": [
       "<pre>recommendations finished on 1211000/2088478 queries. users per second: 6161.26</pre>"
      ],
      "text/plain": [
       "recommendations finished on 1211000/2088478 queries. users per second: 6161.26"
      ]
     },
     "metadata": {},
     "output_type": "display_data"
    },
    {
     "data": {
      "text/html": [
       "<pre>recommendations finished on 1212000/2088478 queries. users per second: 6156.82</pre>"
      ],
      "text/plain": [
       "recommendations finished on 1212000/2088478 queries. users per second: 6156.82"
      ]
     },
     "metadata": {},
     "output_type": "display_data"
    },
    {
     "data": {
      "text/html": [
       "<pre>recommendations finished on 1213000/2088478 queries. users per second: 6156.81</pre>"
      ],
      "text/plain": [
       "recommendations finished on 1213000/2088478 queries. users per second: 6156.81"
      ]
     },
     "metadata": {},
     "output_type": "display_data"
    },
    {
     "data": {
      "text/html": [
       "<pre>recommendations finished on 1214000/2088478 queries. users per second: 6156.15</pre>"
      ],
      "text/plain": [
       "recommendations finished on 1214000/2088478 queries. users per second: 6156.15"
      ]
     },
     "metadata": {},
     "output_type": "display_data"
    },
    {
     "data": {
      "text/html": [
       "<pre>recommendations finished on 1215000/2088478 queries. users per second: 6152.45</pre>"
      ],
      "text/plain": [
       "recommendations finished on 1215000/2088478 queries. users per second: 6152.45"
      ]
     },
     "metadata": {},
     "output_type": "display_data"
    },
    {
     "data": {
      "text/html": [
       "<pre>recommendations finished on 1216000/2088478 queries. users per second: 6152.57</pre>"
      ],
      "text/plain": [
       "recommendations finished on 1216000/2088478 queries. users per second: 6152.57"
      ]
     },
     "metadata": {},
     "output_type": "display_data"
    },
    {
     "data": {
      "text/html": [
       "<pre>recommendations finished on 1217000/2088478 queries. users per second: 6151.83</pre>"
      ],
      "text/plain": [
       "recommendations finished on 1217000/2088478 queries. users per second: 6151.83"
      ]
     },
     "metadata": {},
     "output_type": "display_data"
    },
    {
     "data": {
      "text/html": [
       "<pre>recommendations finished on 1218000/2088478 queries. users per second: 6147.69</pre>"
      ],
      "text/plain": [
       "recommendations finished on 1218000/2088478 queries. users per second: 6147.69"
      ]
     },
     "metadata": {},
     "output_type": "display_data"
    },
    {
     "data": {
      "text/html": [
       "<pre>recommendations finished on 1219000/2088478 queries. users per second: 6147.6</pre>"
      ],
      "text/plain": [
       "recommendations finished on 1219000/2088478 queries. users per second: 6147.6"
      ]
     },
     "metadata": {},
     "output_type": "display_data"
    },
    {
     "data": {
      "text/html": [
       "<pre>recommendations finished on 1220000/2088478 queries. users per second: 6147.81</pre>"
      ],
      "text/plain": [
       "recommendations finished on 1220000/2088478 queries. users per second: 6147.81"
      ]
     },
     "metadata": {},
     "output_type": "display_data"
    },
    {
     "data": {
      "text/html": [
       "<pre>recommendations finished on 1221000/2088478 queries. users per second: 6144.71</pre>"
      ],
      "text/plain": [
       "recommendations finished on 1221000/2088478 queries. users per second: 6144.71"
      ]
     },
     "metadata": {},
     "output_type": "display_data"
    },
    {
     "data": {
      "text/html": [
       "<pre>recommendations finished on 1222000/2088478 queries. users per second: 6144.72</pre>"
      ],
      "text/plain": [
       "recommendations finished on 1222000/2088478 queries. users per second: 6144.72"
      ]
     },
     "metadata": {},
     "output_type": "display_data"
    },
    {
     "data": {
      "text/html": [
       "<pre>recommendations finished on 1223000/2088478 queries. users per second: 6145.13</pre>"
      ],
      "text/plain": [
       "recommendations finished on 1223000/2088478 queries. users per second: 6145.13"
      ]
     },
     "metadata": {},
     "output_type": "display_data"
    },
    {
     "data": {
      "text/html": [
       "<pre>recommendations finished on 1224000/2088478 queries. users per second: 6144.35</pre>"
      ],
      "text/plain": [
       "recommendations finished on 1224000/2088478 queries. users per second: 6144.35"
      ]
     },
     "metadata": {},
     "output_type": "display_data"
    },
    {
     "data": {
      "text/html": [
       "<pre>recommendations finished on 1225000/2088478 queries. users per second: 6141.77</pre>"
      ],
      "text/plain": [
       "recommendations finished on 1225000/2088478 queries. users per second: 6141.77"
      ]
     },
     "metadata": {},
     "output_type": "display_data"
    },
    {
     "data": {
      "text/html": [
       "<pre>recommendations finished on 1226000/2088478 queries. users per second: 6141.89</pre>"
      ],
      "text/plain": [
       "recommendations finished on 1226000/2088478 queries. users per second: 6141.89"
      ]
     },
     "metadata": {},
     "output_type": "display_data"
    },
    {
     "data": {
      "text/html": [
       "<pre>recommendations finished on 1227000/2088478 queries. users per second: 6140.68</pre>"
      ],
      "text/plain": [
       "recommendations finished on 1227000/2088478 queries. users per second: 6140.68"
      ]
     },
     "metadata": {},
     "output_type": "display_data"
    },
    {
     "data": {
      "text/html": [
       "<pre>recommendations finished on 1228000/2088478 queries. users per second: 6139.45</pre>"
      ],
      "text/plain": [
       "recommendations finished on 1228000/2088478 queries. users per second: 6139.45"
      ]
     },
     "metadata": {},
     "output_type": "display_data"
    },
    {
     "data": {
      "text/html": [
       "<pre>recommendations finished on 1229000/2088478 queries. users per second: 6139.32</pre>"
      ],
      "text/plain": [
       "recommendations finished on 1229000/2088478 queries. users per second: 6139.32"
      ]
     },
     "metadata": {},
     "output_type": "display_data"
    },
    {
     "data": {
      "text/html": [
       "<pre>recommendations finished on 1230000/2088478 queries. users per second: 6139.2</pre>"
      ],
      "text/plain": [
       "recommendations finished on 1230000/2088478 queries. users per second: 6139.2"
      ]
     },
     "metadata": {},
     "output_type": "display_data"
    },
    {
     "data": {
      "text/html": [
       "<pre>recommendations finished on 1231000/2088478 queries. users per second: 6136.7</pre>"
      ],
      "text/plain": [
       "recommendations finished on 1231000/2088478 queries. users per second: 6136.7"
      ]
     },
     "metadata": {},
     "output_type": "display_data"
    },
    {
     "data": {
      "text/html": [
       "<pre>recommendations finished on 1232000/2088478 queries. users per second: 6136.86</pre>"
      ],
      "text/plain": [
       "recommendations finished on 1232000/2088478 queries. users per second: 6136.86"
      ]
     },
     "metadata": {},
     "output_type": "display_data"
    },
    {
     "data": {
      "text/html": [
       "<pre>recommendations finished on 1233000/2088478 queries. users per second: 6136.93</pre>"
      ],
      "text/plain": [
       "recommendations finished on 1233000/2088478 queries. users per second: 6136.93"
      ]
     },
     "metadata": {},
     "output_type": "display_data"
    },
    {
     "data": {
      "text/html": [
       "<pre>recommendations finished on 1234000/2088478 queries. users per second: 6135.84</pre>"
      ],
      "text/plain": [
       "recommendations finished on 1234000/2088478 queries. users per second: 6135.84"
      ]
     },
     "metadata": {},
     "output_type": "display_data"
    },
    {
     "data": {
      "text/html": [
       "<pre>recommendations finished on 1235000/2088478 queries. users per second: 6133.63</pre>"
      ],
      "text/plain": [
       "recommendations finished on 1235000/2088478 queries. users per second: 6133.63"
      ]
     },
     "metadata": {},
     "output_type": "display_data"
    },
    {
     "data": {
      "text/html": [
       "<pre>recommendations finished on 1236000/2088478 queries. users per second: 6133.84</pre>"
      ],
      "text/plain": [
       "recommendations finished on 1236000/2088478 queries. users per second: 6133.84"
      ]
     },
     "metadata": {},
     "output_type": "display_data"
    },
    {
     "data": {
      "text/html": [
       "<pre>recommendations finished on 1237000/2088478 queries. users per second: 6132.11</pre>"
      ],
      "text/plain": [
       "recommendations finished on 1237000/2088478 queries. users per second: 6132.11"
      ]
     },
     "metadata": {},
     "output_type": "display_data"
    },
    {
     "data": {
      "text/html": [
       "<pre>recommendations finished on 1238000/2088478 queries. users per second: 6130.36</pre>"
      ],
      "text/plain": [
       "recommendations finished on 1238000/2088478 queries. users per second: 6130.36"
      ]
     },
     "metadata": {},
     "output_type": "display_data"
    },
    {
     "data": {
      "text/html": [
       "<pre>recommendations finished on 1239000/2088478 queries. users per second: 6130.46</pre>"
      ],
      "text/plain": [
       "recommendations finished on 1239000/2088478 queries. users per second: 6130.46"
      ]
     },
     "metadata": {},
     "output_type": "display_data"
    },
    {
     "data": {
      "text/html": [
       "<pre>recommendations finished on 1240000/2088478 queries. users per second: 6130.71</pre>"
      ],
      "text/plain": [
       "recommendations finished on 1240000/2088478 queries. users per second: 6130.71"
      ]
     },
     "metadata": {},
     "output_type": "display_data"
    },
    {
     "data": {
      "text/html": [
       "<pre>recommendations finished on 1241000/2088478 queries. users per second: 6130</pre>"
      ],
      "text/plain": [
       "recommendations finished on 1241000/2088478 queries. users per second: 6130"
      ]
     },
     "metadata": {},
     "output_type": "display_data"
    },
    {
     "data": {
      "text/html": [
       "<pre>recommendations finished on 1242000/2088478 queries. users per second: 6127.33</pre>"
      ],
      "text/plain": [
       "recommendations finished on 1242000/2088478 queries. users per second: 6127.33"
      ]
     },
     "metadata": {},
     "output_type": "display_data"
    },
    {
     "data": {
      "text/html": [
       "<pre>recommendations finished on 1243000/2088478 queries. users per second: 6127.51</pre>"
      ],
      "text/plain": [
       "recommendations finished on 1243000/2088478 queries. users per second: 6127.51"
      ]
     },
     "metadata": {},
     "output_type": "display_data"
    },
    {
     "data": {
      "text/html": [
       "<pre>recommendations finished on 1244000/2088478 queries. users per second: 6127.54</pre>"
      ],
      "text/plain": [
       "recommendations finished on 1244000/2088478 queries. users per second: 6127.54"
      ]
     },
     "metadata": {},
     "output_type": "display_data"
    },
    {
     "data": {
      "text/html": [
       "<pre>recommendations finished on 1245000/2088478 queries. users per second: 6124.33</pre>"
      ],
      "text/plain": [
       "recommendations finished on 1245000/2088478 queries. users per second: 6124.33"
      ]
     },
     "metadata": {},
     "output_type": "display_data"
    },
    {
     "data": {
      "text/html": [
       "<pre>recommendations finished on 1246000/2088478 queries. users per second: 6124.83</pre>"
      ],
      "text/plain": [
       "recommendations finished on 1246000/2088478 queries. users per second: 6124.83"
      ]
     },
     "metadata": {},
     "output_type": "display_data"
    },
    {
     "data": {
      "text/html": [
       "<pre>recommendations finished on 1247000/2088478 queries. users per second: 6125.12</pre>"
      ],
      "text/plain": [
       "recommendations finished on 1247000/2088478 queries. users per second: 6125.12"
      ]
     },
     "metadata": {},
     "output_type": "display_data"
    },
    {
     "data": {
      "text/html": [
       "<pre>recommendations finished on 1248000/2088478 queries. users per second: 6123.51</pre>"
      ],
      "text/plain": [
       "recommendations finished on 1248000/2088478 queries. users per second: 6123.51"
      ]
     },
     "metadata": {},
     "output_type": "display_data"
    },
    {
     "data": {
      "text/html": [
       "<pre>recommendations finished on 1249000/2088478 queries. users per second: 6122.89</pre>"
      ],
      "text/plain": [
       "recommendations finished on 1249000/2088478 queries. users per second: 6122.89"
      ]
     },
     "metadata": {},
     "output_type": "display_data"
    },
    {
     "data": {
      "text/html": [
       "<pre>recommendations finished on 1250000/2088478 queries. users per second: 6123.81</pre>"
      ],
      "text/plain": [
       "recommendations finished on 1250000/2088478 queries. users per second: 6123.81"
      ]
     },
     "metadata": {},
     "output_type": "display_data"
    },
    {
     "data": {
      "text/html": [
       "<pre>recommendations finished on 1251000/2088478 queries. users per second: 6124.66</pre>"
      ],
      "text/plain": [
       "recommendations finished on 1251000/2088478 queries. users per second: 6124.66"
      ]
     },
     "metadata": {},
     "output_type": "display_data"
    },
    {
     "data": {
      "text/html": [
       "<pre>recommendations finished on 1252000/2088478 queries. users per second: 6124.44</pre>"
      ],
      "text/plain": [
       "recommendations finished on 1252000/2088478 queries. users per second: 6124.44"
      ]
     },
     "metadata": {},
     "output_type": "display_data"
    },
    {
     "data": {
      "text/html": [
       "<pre>recommendations finished on 1253000/2088478 queries. users per second: 6122.81</pre>"
      ],
      "text/plain": [
       "recommendations finished on 1253000/2088478 queries. users per second: 6122.81"
      ]
     },
     "metadata": {},
     "output_type": "display_data"
    },
    {
     "data": {
      "text/html": [
       "<pre>recommendations finished on 1254000/2088478 queries. users per second: 6123.43</pre>"
      ],
      "text/plain": [
       "recommendations finished on 1254000/2088478 queries. users per second: 6123.43"
      ]
     },
     "metadata": {},
     "output_type": "display_data"
    },
    {
     "data": {
      "text/html": [
       "<pre>recommendations finished on 1255000/2088478 queries. users per second: 6124.16</pre>"
      ],
      "text/plain": [
       "recommendations finished on 1255000/2088478 queries. users per second: 6124.16"
      ]
     },
     "metadata": {},
     "output_type": "display_data"
    },
    {
     "data": {
      "text/html": [
       "<pre>recommendations finished on 1256000/2088478 queries. users per second: 6124.76</pre>"
      ],
      "text/plain": [
       "recommendations finished on 1256000/2088478 queries. users per second: 6124.76"
      ]
     },
     "metadata": {},
     "output_type": "display_data"
    },
    {
     "data": {
      "text/html": [
       "<pre>recommendations finished on 1257000/2088478 queries. users per second: 6125.25</pre>"
      ],
      "text/plain": [
       "recommendations finished on 1257000/2088478 queries. users per second: 6125.25"
      ]
     },
     "metadata": {},
     "output_type": "display_data"
    },
    {
     "data": {
      "text/html": [
       "<pre>recommendations finished on 1258000/2088478 queries. users per second: 6124.88</pre>"
      ],
      "text/plain": [
       "recommendations finished on 1258000/2088478 queries. users per second: 6124.88"
      ]
     },
     "metadata": {},
     "output_type": "display_data"
    },
    {
     "data": {
      "text/html": [
       "<pre>recommendations finished on 1259000/2088478 queries. users per second: 6122.64</pre>"
      ],
      "text/plain": [
       "recommendations finished on 1259000/2088478 queries. users per second: 6122.64"
      ]
     },
     "metadata": {},
     "output_type": "display_data"
    },
    {
     "data": {
      "text/html": [
       "<pre>recommendations finished on 1260000/2088478 queries. users per second: 6123.38</pre>"
      ],
      "text/plain": [
       "recommendations finished on 1260000/2088478 queries. users per second: 6123.38"
      ]
     },
     "metadata": {},
     "output_type": "display_data"
    },
    {
     "data": {
      "text/html": [
       "<pre>recommendations finished on 1261000/2088478 queries. users per second: 6123.73</pre>"
      ],
      "text/plain": [
       "recommendations finished on 1261000/2088478 queries. users per second: 6123.73"
      ]
     },
     "metadata": {},
     "output_type": "display_data"
    },
    {
     "data": {
      "text/html": [
       "<pre>recommendations finished on 1262000/2088478 queries. users per second: 6124.06</pre>"
      ],
      "text/plain": [
       "recommendations finished on 1262000/2088478 queries. users per second: 6124.06"
      ]
     },
     "metadata": {},
     "output_type": "display_data"
    },
    {
     "data": {
      "text/html": [
       "<pre>recommendations finished on 1263000/2088478 queries. users per second: 6123.14</pre>"
      ],
      "text/plain": [
       "recommendations finished on 1263000/2088478 queries. users per second: 6123.14"
      ]
     },
     "metadata": {},
     "output_type": "display_data"
    },
    {
     "data": {
      "text/html": [
       "<pre>recommendations finished on 1264000/2088478 queries. users per second: 6122.28</pre>"
      ],
      "text/plain": [
       "recommendations finished on 1264000/2088478 queries. users per second: 6122.28"
      ]
     },
     "metadata": {},
     "output_type": "display_data"
    },
    {
     "data": {
      "text/html": [
       "<pre>recommendations finished on 1265000/2088478 queries. users per second: 6122.23</pre>"
      ],
      "text/plain": [
       "recommendations finished on 1265000/2088478 queries. users per second: 6122.23"
      ]
     },
     "metadata": {},
     "output_type": "display_data"
    },
    {
     "data": {
      "text/html": [
       "<pre>recommendations finished on 1266000/2088478 queries. users per second: 6122.72</pre>"
      ],
      "text/plain": [
       "recommendations finished on 1266000/2088478 queries. users per second: 6122.72"
      ]
     },
     "metadata": {},
     "output_type": "display_data"
    },
    {
     "data": {
      "text/html": [
       "<pre>recommendations finished on 1267000/2088478 queries. users per second: 6123.46</pre>"
      ],
      "text/plain": [
       "recommendations finished on 1267000/2088478 queries. users per second: 6123.46"
      ]
     },
     "metadata": {},
     "output_type": "display_data"
    },
    {
     "data": {
      "text/html": [
       "<pre>recommendations finished on 1268000/2088478 queries. users per second: 6124.11</pre>"
      ],
      "text/plain": [
       "recommendations finished on 1268000/2088478 queries. users per second: 6124.11"
      ]
     },
     "metadata": {},
     "output_type": "display_data"
    },
    {
     "data": {
      "text/html": [
       "<pre>recommendations finished on 1269000/2088478 queries. users per second: 6124.57</pre>"
      ],
      "text/plain": [
       "recommendations finished on 1269000/2088478 queries. users per second: 6124.57"
      ]
     },
     "metadata": {},
     "output_type": "display_data"
    },
    {
     "data": {
      "text/html": [
       "<pre>recommendations finished on 1270000/2088478 queries. users per second: 6125.32</pre>"
      ],
      "text/plain": [
       "recommendations finished on 1270000/2088478 queries. users per second: 6125.32"
      ]
     },
     "metadata": {},
     "output_type": "display_data"
    },
    {
     "data": {
      "text/html": [
       "<pre>recommendations finished on 1271000/2088478 queries. users per second: 6126</pre>"
      ],
      "text/plain": [
       "recommendations finished on 1271000/2088478 queries. users per second: 6126"
      ]
     },
     "metadata": {},
     "output_type": "display_data"
    },
    {
     "data": {
      "text/html": [
       "<pre>recommendations finished on 1272000/2088478 queries. users per second: 6126.65</pre>"
      ],
      "text/plain": [
       "recommendations finished on 1272000/2088478 queries. users per second: 6126.65"
      ]
     },
     "metadata": {},
     "output_type": "display_data"
    },
    {
     "data": {
      "text/html": [
       "<pre>recommendations finished on 1273000/2088478 queries. users per second: 6127.4</pre>"
      ],
      "text/plain": [
       "recommendations finished on 1273000/2088478 queries. users per second: 6127.4"
      ]
     },
     "metadata": {},
     "output_type": "display_data"
    },
    {
     "data": {
      "text/html": [
       "<pre>recommendations finished on 1274000/2088478 queries. users per second: 6127.87</pre>"
      ],
      "text/plain": [
       "recommendations finished on 1274000/2088478 queries. users per second: 6127.87"
      ]
     },
     "metadata": {},
     "output_type": "display_data"
    },
    {
     "data": {
      "text/html": [
       "<pre>recommendations finished on 1275000/2088478 queries. users per second: 6128.49</pre>"
      ],
      "text/plain": [
       "recommendations finished on 1275000/2088478 queries. users per second: 6128.49"
      ]
     },
     "metadata": {},
     "output_type": "display_data"
    },
    {
     "data": {
      "text/html": [
       "<pre>recommendations finished on 1276000/2088478 queries. users per second: 6129.35</pre>"
      ],
      "text/plain": [
       "recommendations finished on 1276000/2088478 queries. users per second: 6129.35"
      ]
     },
     "metadata": {},
     "output_type": "display_data"
    },
    {
     "data": {
      "text/html": [
       "<pre>recommendations finished on 1277000/2088478 queries. users per second: 6130.16</pre>"
      ],
      "text/plain": [
       "recommendations finished on 1277000/2088478 queries. users per second: 6130.16"
      ]
     },
     "metadata": {},
     "output_type": "display_data"
    },
    {
     "data": {
      "text/html": [
       "<pre>recommendations finished on 1278000/2088478 queries. users per second: 6130.96</pre>"
      ],
      "text/plain": [
       "recommendations finished on 1278000/2088478 queries. users per second: 6130.96"
      ]
     },
     "metadata": {},
     "output_type": "display_data"
    },
    {
     "data": {
      "text/html": [
       "<pre>recommendations finished on 1279000/2088478 queries. users per second: 6131.5</pre>"
      ],
      "text/plain": [
       "recommendations finished on 1279000/2088478 queries. users per second: 6131.5"
      ]
     },
     "metadata": {},
     "output_type": "display_data"
    },
    {
     "data": {
      "text/html": [
       "<pre>recommendations finished on 1280000/2088478 queries. users per second: 6132.12</pre>"
      ],
      "text/plain": [
       "recommendations finished on 1280000/2088478 queries. users per second: 6132.12"
      ]
     },
     "metadata": {},
     "output_type": "display_data"
    },
    {
     "data": {
      "text/html": [
       "<pre>recommendations finished on 1281000/2088478 queries. users per second: 6132.6</pre>"
      ],
      "text/plain": [
       "recommendations finished on 1281000/2088478 queries. users per second: 6132.6"
      ]
     },
     "metadata": {},
     "output_type": "display_data"
    },
    {
     "data": {
      "text/html": [
       "<pre>recommendations finished on 1282000/2088478 queries. users per second: 6131.72</pre>"
      ],
      "text/plain": [
       "recommendations finished on 1282000/2088478 queries. users per second: 6131.72"
      ]
     },
     "metadata": {},
     "output_type": "display_data"
    },
    {
     "data": {
      "text/html": [
       "<pre>recommendations finished on 1283000/2088478 queries. users per second: 6132.31</pre>"
      ],
      "text/plain": [
       "recommendations finished on 1283000/2088478 queries. users per second: 6132.31"
      ]
     },
     "metadata": {},
     "output_type": "display_data"
    },
    {
     "data": {
      "text/html": [
       "<pre>recommendations finished on 1284000/2088478 queries. users per second: 6132.9</pre>"
      ],
      "text/plain": [
       "recommendations finished on 1284000/2088478 queries. users per second: 6132.9"
      ]
     },
     "metadata": {},
     "output_type": "display_data"
    },
    {
     "data": {
      "text/html": [
       "<pre>recommendations finished on 1285000/2088478 queries. users per second: 6133.68</pre>"
      ],
      "text/plain": [
       "recommendations finished on 1285000/2088478 queries. users per second: 6133.68"
      ]
     },
     "metadata": {},
     "output_type": "display_data"
    },
    {
     "data": {
      "text/html": [
       "<pre>recommendations finished on 1286000/2088478 queries. users per second: 6134.37</pre>"
      ],
      "text/plain": [
       "recommendations finished on 1286000/2088478 queries. users per second: 6134.37"
      ]
     },
     "metadata": {},
     "output_type": "display_data"
    },
    {
     "data": {
      "text/html": [
       "<pre>recommendations finished on 1287000/2088478 queries. users per second: 6134.25</pre>"
      ],
      "text/plain": [
       "recommendations finished on 1287000/2088478 queries. users per second: 6134.25"
      ]
     },
     "metadata": {},
     "output_type": "display_data"
    },
    {
     "data": {
      "text/html": [
       "<pre>recommendations finished on 1288000/2088478 queries. users per second: 6134.6</pre>"
      ],
      "text/plain": [
       "recommendations finished on 1288000/2088478 queries. users per second: 6134.6"
      ]
     },
     "metadata": {},
     "output_type": "display_data"
    },
    {
     "data": {
      "text/html": [
       "<pre>recommendations finished on 1289000/2088478 queries. users per second: 6132.35</pre>"
      ],
      "text/plain": [
       "recommendations finished on 1289000/2088478 queries. users per second: 6132.35"
      ]
     },
     "metadata": {},
     "output_type": "display_data"
    },
    {
     "data": {
      "text/html": [
       "<pre>recommendations finished on 1290000/2088478 queries. users per second: 6130.89</pre>"
      ],
      "text/plain": [
       "recommendations finished on 1290000/2088478 queries. users per second: 6130.89"
      ]
     },
     "metadata": {},
     "output_type": "display_data"
    },
    {
     "data": {
      "text/html": [
       "<pre>recommendations finished on 1291000/2088478 queries. users per second: 6131.61</pre>"
      ],
      "text/plain": [
       "recommendations finished on 1291000/2088478 queries. users per second: 6131.61"
      ]
     },
     "metadata": {},
     "output_type": "display_data"
    },
    {
     "data": {
      "text/html": [
       "<pre>recommendations finished on 1292000/2088478 queries. users per second: 6132.23</pre>"
      ],
      "text/plain": [
       "recommendations finished on 1292000/2088478 queries. users per second: 6132.23"
      ]
     },
     "metadata": {},
     "output_type": "display_data"
    },
    {
     "data": {
      "text/html": [
       "<pre>recommendations finished on 1293000/2088478 queries. users per second: 6132.7</pre>"
      ],
      "text/plain": [
       "recommendations finished on 1293000/2088478 queries. users per second: 6132.7"
      ]
     },
     "metadata": {},
     "output_type": "display_data"
    },
    {
     "data": {
      "text/html": [
       "<pre>recommendations finished on 1294000/2088478 queries. users per second: 6132.97</pre>"
      ],
      "text/plain": [
       "recommendations finished on 1294000/2088478 queries. users per second: 6132.97"
      ]
     },
     "metadata": {},
     "output_type": "display_data"
    },
    {
     "data": {
      "text/html": [
       "<pre>recommendations finished on 1295000/2088478 queries. users per second: 6132.05</pre>"
      ],
      "text/plain": [
       "recommendations finished on 1295000/2088478 queries. users per second: 6132.05"
      ]
     },
     "metadata": {},
     "output_type": "display_data"
    },
    {
     "data": {
      "text/html": [
       "<pre>recommendations finished on 1296000/2088478 queries. users per second: 6129.8</pre>"
      ],
      "text/plain": [
       "recommendations finished on 1296000/2088478 queries. users per second: 6129.8"
      ]
     },
     "metadata": {},
     "output_type": "display_data"
    },
    {
     "data": {
      "text/html": [
       "<pre>recommendations finished on 1297000/2088478 queries. users per second: 6129.95</pre>"
      ],
      "text/plain": [
       "recommendations finished on 1297000/2088478 queries. users per second: 6129.95"
      ]
     },
     "metadata": {},
     "output_type": "display_data"
    },
    {
     "data": {
      "text/html": [
       "<pre>recommendations finished on 1298000/2088478 queries. users per second: 6130.2</pre>"
      ],
      "text/plain": [
       "recommendations finished on 1298000/2088478 queries. users per second: 6130.2"
      ]
     },
     "metadata": {},
     "output_type": "display_data"
    },
    {
     "data": {
      "text/html": [
       "<pre>recommendations finished on 1299000/2088478 queries. users per second: 6130.62</pre>"
      ],
      "text/plain": [
       "recommendations finished on 1299000/2088478 queries. users per second: 6130.62"
      ]
     },
     "metadata": {},
     "output_type": "display_data"
    },
    {
     "data": {
      "text/html": [
       "<pre>recommendations finished on 1300000/2088478 queries. users per second: 6131.15</pre>"
      ],
      "text/plain": [
       "recommendations finished on 1300000/2088478 queries. users per second: 6131.15"
      ]
     },
     "metadata": {},
     "output_type": "display_data"
    },
    {
     "data": {
      "text/html": [
       "<pre>recommendations finished on 1301000/2088478 queries. users per second: 6131.8</pre>"
      ],
      "text/plain": [
       "recommendations finished on 1301000/2088478 queries. users per second: 6131.8"
      ]
     },
     "metadata": {},
     "output_type": "display_data"
    },
    {
     "data": {
      "text/html": [
       "<pre>recommendations finished on 1302000/2088478 queries. users per second: 6132.12</pre>"
      ],
      "text/plain": [
       "recommendations finished on 1302000/2088478 queries. users per second: 6132.12"
      ]
     },
     "metadata": {},
     "output_type": "display_data"
    },
    {
     "data": {
      "text/html": [
       "<pre>recommendations finished on 1303000/2088478 queries. users per second: 6129.26</pre>"
      ],
      "text/plain": [
       "recommendations finished on 1303000/2088478 queries. users per second: 6129.26"
      ]
     },
     "metadata": {},
     "output_type": "display_data"
    },
    {
     "data": {
      "text/html": [
       "<pre>recommendations finished on 1304000/2088478 queries. users per second: 6129.83</pre>"
      ],
      "text/plain": [
       "recommendations finished on 1304000/2088478 queries. users per second: 6129.83"
      ]
     },
     "metadata": {},
     "output_type": "display_data"
    },
    {
     "data": {
      "text/html": [
       "<pre>recommendations finished on 1305000/2088478 queries. users per second: 6130.47</pre>"
      ],
      "text/plain": [
       "recommendations finished on 1305000/2088478 queries. users per second: 6130.47"
      ]
     },
     "metadata": {},
     "output_type": "display_data"
    },
    {
     "data": {
      "text/html": [
       "<pre>recommendations finished on 1306000/2088478 queries. users per second: 6129.17</pre>"
      ],
      "text/plain": [
       "recommendations finished on 1306000/2088478 queries. users per second: 6129.17"
      ]
     },
     "metadata": {},
     "output_type": "display_data"
    },
    {
     "data": {
      "text/html": [
       "<pre>recommendations finished on 1307000/2088478 queries. users per second: 6128.62</pre>"
      ],
      "text/plain": [
       "recommendations finished on 1307000/2088478 queries. users per second: 6128.62"
      ]
     },
     "metadata": {},
     "output_type": "display_data"
    },
    {
     "data": {
      "text/html": [
       "<pre>recommendations finished on 1308000/2088478 queries. users per second: 6128.95</pre>"
      ],
      "text/plain": [
       "recommendations finished on 1308000/2088478 queries. users per second: 6128.95"
      ]
     },
     "metadata": {},
     "output_type": "display_data"
    },
    {
     "data": {
      "text/html": [
       "<pre>recommendations finished on 1309000/2088478 queries. users per second: 6129.06</pre>"
      ],
      "text/plain": [
       "recommendations finished on 1309000/2088478 queries. users per second: 6129.06"
      ]
     },
     "metadata": {},
     "output_type": "display_data"
    },
    {
     "data": {
      "text/html": [
       "<pre>recommendations finished on 1310000/2088478 queries. users per second: 6129.46</pre>"
      ],
      "text/plain": [
       "recommendations finished on 1310000/2088478 queries. users per second: 6129.46"
      ]
     },
     "metadata": {},
     "output_type": "display_data"
    },
    {
     "data": {
      "text/html": [
       "<pre>recommendations finished on 1311000/2088478 queries. users per second: 6129.69</pre>"
      ],
      "text/plain": [
       "recommendations finished on 1311000/2088478 queries. users per second: 6129.69"
      ]
     },
     "metadata": {},
     "output_type": "display_data"
    },
    {
     "data": {
      "text/html": [
       "<pre>recommendations finished on 1312000/2088478 queries. users per second: 6129.86</pre>"
      ],
      "text/plain": [
       "recommendations finished on 1312000/2088478 queries. users per second: 6129.86"
      ]
     },
     "metadata": {},
     "output_type": "display_data"
    },
    {
     "data": {
      "text/html": [
       "<pre>recommendations finished on 1313000/2088478 queries. users per second: 6130.11</pre>"
      ],
      "text/plain": [
       "recommendations finished on 1313000/2088478 queries. users per second: 6130.11"
      ]
     },
     "metadata": {},
     "output_type": "display_data"
    },
    {
     "data": {
      "text/html": [
       "<pre>recommendations finished on 1314000/2088478 queries. users per second: 6130.66</pre>"
      ],
      "text/plain": [
       "recommendations finished on 1314000/2088478 queries. users per second: 6130.66"
      ]
     },
     "metadata": {},
     "output_type": "display_data"
    },
    {
     "data": {
      "text/html": [
       "<pre>recommendations finished on 1315000/2088478 queries. users per second: 6130.9</pre>"
      ],
      "text/plain": [
       "recommendations finished on 1315000/2088478 queries. users per second: 6130.9"
      ]
     },
     "metadata": {},
     "output_type": "display_data"
    },
    {
     "data": {
      "text/html": [
       "<pre>recommendations finished on 1316000/2088478 queries. users per second: 6131.29</pre>"
      ],
      "text/plain": [
       "recommendations finished on 1316000/2088478 queries. users per second: 6131.29"
      ]
     },
     "metadata": {},
     "output_type": "display_data"
    },
    {
     "data": {
      "text/html": [
       "<pre>recommendations finished on 1317000/2088478 queries. users per second: 6131.45</pre>"
      ],
      "text/plain": [
       "recommendations finished on 1317000/2088478 queries. users per second: 6131.45"
      ]
     },
     "metadata": {},
     "output_type": "display_data"
    },
    {
     "data": {
      "text/html": [
       "<pre>recommendations finished on 1318000/2088478 queries. users per second: 6131.88</pre>"
      ],
      "text/plain": [
       "recommendations finished on 1318000/2088478 queries. users per second: 6131.88"
      ]
     },
     "metadata": {},
     "output_type": "display_data"
    },
    {
     "data": {
      "text/html": [
       "<pre>recommendations finished on 1319000/2088478 queries. users per second: 6132.45</pre>"
      ],
      "text/plain": [
       "recommendations finished on 1319000/2088478 queries. users per second: 6132.45"
      ]
     },
     "metadata": {},
     "output_type": "display_data"
    },
    {
     "data": {
      "text/html": [
       "<pre>recommendations finished on 1320000/2088478 queries. users per second: 6132.99</pre>"
      ],
      "text/plain": [
       "recommendations finished on 1320000/2088478 queries. users per second: 6132.99"
      ]
     },
     "metadata": {},
     "output_type": "display_data"
    },
    {
     "data": {
      "text/html": [
       "<pre>recommendations finished on 1321000/2088478 queries. users per second: 6132.92</pre>"
      ],
      "text/plain": [
       "recommendations finished on 1321000/2088478 queries. users per second: 6132.92"
      ]
     },
     "metadata": {},
     "output_type": "display_data"
    },
    {
     "data": {
      "text/html": [
       "<pre>recommendations finished on 1322000/2088478 queries. users per second: 6133.27</pre>"
      ],
      "text/plain": [
       "recommendations finished on 1322000/2088478 queries. users per second: 6133.27"
      ]
     },
     "metadata": {},
     "output_type": "display_data"
    },
    {
     "data": {
      "text/html": [
       "<pre>recommendations finished on 1323000/2088478 queries. users per second: 6133.67</pre>"
      ],
      "text/plain": [
       "recommendations finished on 1323000/2088478 queries. users per second: 6133.67"
      ]
     },
     "metadata": {},
     "output_type": "display_data"
    },
    {
     "data": {
      "text/html": [
       "<pre>recommendations finished on 1324000/2088478 queries. users per second: 6133.62</pre>"
      ],
      "text/plain": [
       "recommendations finished on 1324000/2088478 queries. users per second: 6133.62"
      ]
     },
     "metadata": {},
     "output_type": "display_data"
    },
    {
     "data": {
      "text/html": [
       "<pre>recommendations finished on 1325000/2088478 queries. users per second: 6134.12</pre>"
      ],
      "text/plain": [
       "recommendations finished on 1325000/2088478 queries. users per second: 6134.12"
      ]
     },
     "metadata": {},
     "output_type": "display_data"
    },
    {
     "data": {
      "text/html": [
       "<pre>recommendations finished on 1326000/2088478 queries. users per second: 6134.29</pre>"
      ],
      "text/plain": [
       "recommendations finished on 1326000/2088478 queries. users per second: 6134.29"
      ]
     },
     "metadata": {},
     "output_type": "display_data"
    },
    {
     "data": {
      "text/html": [
       "<pre>recommendations finished on 1327000/2088478 queries. users per second: 6133.99</pre>"
      ],
      "text/plain": [
       "recommendations finished on 1327000/2088478 queries. users per second: 6133.99"
      ]
     },
     "metadata": {},
     "output_type": "display_data"
    },
    {
     "data": {
      "text/html": [
       "<pre>recommendations finished on 1328000/2088478 queries. users per second: 6134.06</pre>"
      ],
      "text/plain": [
       "recommendations finished on 1328000/2088478 queries. users per second: 6134.06"
      ]
     },
     "metadata": {},
     "output_type": "display_data"
    },
    {
     "data": {
      "text/html": [
       "<pre>recommendations finished on 1329000/2088478 queries. users per second: 6134.51</pre>"
      ],
      "text/plain": [
       "recommendations finished on 1329000/2088478 queries. users per second: 6134.51"
      ]
     },
     "metadata": {},
     "output_type": "display_data"
    },
    {
     "data": {
      "text/html": [
       "<pre>recommendations finished on 1330000/2088478 queries. users per second: 6134.31</pre>"
      ],
      "text/plain": [
       "recommendations finished on 1330000/2088478 queries. users per second: 6134.31"
      ]
     },
     "metadata": {},
     "output_type": "display_data"
    },
    {
     "data": {
      "text/html": [
       "<pre>recommendations finished on 1331000/2088478 queries. users per second: 6130.18</pre>"
      ],
      "text/plain": [
       "recommendations finished on 1331000/2088478 queries. users per second: 6130.18"
      ]
     },
     "metadata": {},
     "output_type": "display_data"
    },
    {
     "data": {
      "text/html": [
       "<pre>recommendations finished on 1332000/2088478 queries. users per second: 6130</pre>"
      ],
      "text/plain": [
       "recommendations finished on 1332000/2088478 queries. users per second: 6130"
      ]
     },
     "metadata": {},
     "output_type": "display_data"
    },
    {
     "data": {
      "text/html": [
       "<pre>recommendations finished on 1333000/2088478 queries. users per second: 6128.2</pre>"
      ],
      "text/plain": [
       "recommendations finished on 1333000/2088478 queries. users per second: 6128.2"
      ]
     },
     "metadata": {},
     "output_type": "display_data"
    },
    {
     "data": {
      "text/html": [
       "<pre>recommendations finished on 1334000/2088478 queries. users per second: 6126.64</pre>"
      ],
      "text/plain": [
       "recommendations finished on 1334000/2088478 queries. users per second: 6126.64"
      ]
     },
     "metadata": {},
     "output_type": "display_data"
    },
    {
     "data": {
      "text/html": [
       "<pre>recommendations finished on 1335000/2088478 queries. users per second: 6126.35</pre>"
      ],
      "text/plain": [
       "recommendations finished on 1335000/2088478 queries. users per second: 6126.35"
      ]
     },
     "metadata": {},
     "output_type": "display_data"
    },
    {
     "data": {
      "text/html": [
       "<pre>recommendations finished on 1336000/2088478 queries. users per second: 6123.68</pre>"
      ],
      "text/plain": [
       "recommendations finished on 1336000/2088478 queries. users per second: 6123.68"
      ]
     },
     "metadata": {},
     "output_type": "display_data"
    },
    {
     "data": {
      "text/html": [
       "<pre>recommendations finished on 1337000/2088478 queries. users per second: 6123.8</pre>"
      ],
      "text/plain": [
       "recommendations finished on 1337000/2088478 queries. users per second: 6123.8"
      ]
     },
     "metadata": {},
     "output_type": "display_data"
    },
    {
     "data": {
      "text/html": [
       "<pre>recommendations finished on 1338000/2088478 queries. users per second: 6124.16</pre>"
      ],
      "text/plain": [
       "recommendations finished on 1338000/2088478 queries. users per second: 6124.16"
      ]
     },
     "metadata": {},
     "output_type": "display_data"
    },
    {
     "data": {
      "text/html": [
       "<pre>recommendations finished on 1339000/2088478 queries. users per second: 6124.05</pre>"
      ],
      "text/plain": [
       "recommendations finished on 1339000/2088478 queries. users per second: 6124.05"
      ]
     },
     "metadata": {},
     "output_type": "display_data"
    },
    {
     "data": {
      "text/html": [
       "<pre>recommendations finished on 1340000/2088478 queries. users per second: 6122.13</pre>"
      ],
      "text/plain": [
       "recommendations finished on 1340000/2088478 queries. users per second: 6122.13"
      ]
     },
     "metadata": {},
     "output_type": "display_data"
    },
    {
     "data": {
      "text/html": [
       "<pre>recommendations finished on 1341000/2088478 queries. users per second: 6122.28</pre>"
      ],
      "text/plain": [
       "recommendations finished on 1341000/2088478 queries. users per second: 6122.28"
      ]
     },
     "metadata": {},
     "output_type": "display_data"
    },
    {
     "data": {
      "text/html": [
       "<pre>recommendations finished on 1342000/2088478 queries. users per second: 6122.33</pre>"
      ],
      "text/plain": [
       "recommendations finished on 1342000/2088478 queries. users per second: 6122.33"
      ]
     },
     "metadata": {},
     "output_type": "display_data"
    },
    {
     "data": {
      "text/html": [
       "<pre>recommendations finished on 1343000/2088478 queries. users per second: 6122.39</pre>"
      ],
      "text/plain": [
       "recommendations finished on 1343000/2088478 queries. users per second: 6122.39"
      ]
     },
     "metadata": {},
     "output_type": "display_data"
    },
    {
     "data": {
      "text/html": [
       "<pre>recommendations finished on 1344000/2088478 queries. users per second: 6122.95</pre>"
      ],
      "text/plain": [
       "recommendations finished on 1344000/2088478 queries. users per second: 6122.95"
      ]
     },
     "metadata": {},
     "output_type": "display_data"
    },
    {
     "data": {
      "text/html": [
       "<pre>recommendations finished on 1345000/2088478 queries. users per second: 6123.13</pre>"
      ],
      "text/plain": [
       "recommendations finished on 1345000/2088478 queries. users per second: 6123.13"
      ]
     },
     "metadata": {},
     "output_type": "display_data"
    },
    {
     "data": {
      "text/html": [
       "<pre>recommendations finished on 1346000/2088478 queries. users per second: 6123.26</pre>"
      ],
      "text/plain": [
       "recommendations finished on 1346000/2088478 queries. users per second: 6123.26"
      ]
     },
     "metadata": {},
     "output_type": "display_data"
    },
    {
     "data": {
      "text/html": [
       "<pre>recommendations finished on 1347000/2088478 queries. users per second: 6123.36</pre>"
      ],
      "text/plain": [
       "recommendations finished on 1347000/2088478 queries. users per second: 6123.36"
      ]
     },
     "metadata": {},
     "output_type": "display_data"
    },
    {
     "data": {
      "text/html": [
       "<pre>recommendations finished on 1348000/2088478 queries. users per second: 6122.19</pre>"
      ],
      "text/plain": [
       "recommendations finished on 1348000/2088478 queries. users per second: 6122.19"
      ]
     },
     "metadata": {},
     "output_type": "display_data"
    },
    {
     "data": {
      "text/html": [
       "<pre>recommendations finished on 1349000/2088478 queries. users per second: 6122.82</pre>"
      ],
      "text/plain": [
       "recommendations finished on 1349000/2088478 queries. users per second: 6122.82"
      ]
     },
     "metadata": {},
     "output_type": "display_data"
    },
    {
     "data": {
      "text/html": [
       "<pre>recommendations finished on 1350000/2088478 queries. users per second: 6123.55</pre>"
      ],
      "text/plain": [
       "recommendations finished on 1350000/2088478 queries. users per second: 6123.55"
      ]
     },
     "metadata": {},
     "output_type": "display_data"
    },
    {
     "data": {
      "text/html": [
       "<pre>recommendations finished on 1351000/2088478 queries. users per second: 6124.25</pre>"
      ],
      "text/plain": [
       "recommendations finished on 1351000/2088478 queries. users per second: 6124.25"
      ]
     },
     "metadata": {},
     "output_type": "display_data"
    },
    {
     "data": {
      "text/html": [
       "<pre>recommendations finished on 1352000/2088478 queries. users per second: 6124.61</pre>"
      ],
      "text/plain": [
       "recommendations finished on 1352000/2088478 queries. users per second: 6124.61"
      ]
     },
     "metadata": {},
     "output_type": "display_data"
    },
    {
     "data": {
      "text/html": [
       "<pre>recommendations finished on 1353000/2088478 queries. users per second: 6123.75</pre>"
      ],
      "text/plain": [
       "recommendations finished on 1353000/2088478 queries. users per second: 6123.75"
      ]
     },
     "metadata": {},
     "output_type": "display_data"
    },
    {
     "data": {
      "text/html": [
       "<pre>recommendations finished on 1354000/2088478 queries. users per second: 6123.46</pre>"
      ],
      "text/plain": [
       "recommendations finished on 1354000/2088478 queries. users per second: 6123.46"
      ]
     },
     "metadata": {},
     "output_type": "display_data"
    },
    {
     "data": {
      "text/html": [
       "<pre>recommendations finished on 1355000/2088478 queries. users per second: 6124</pre>"
      ],
      "text/plain": [
       "recommendations finished on 1355000/2088478 queries. users per second: 6124"
      ]
     },
     "metadata": {},
     "output_type": "display_data"
    },
    {
     "data": {
      "text/html": [
       "<pre>recommendations finished on 1356000/2088478 queries. users per second: 6124.53</pre>"
      ],
      "text/plain": [
       "recommendations finished on 1356000/2088478 queries. users per second: 6124.53"
      ]
     },
     "metadata": {},
     "output_type": "display_data"
    },
    {
     "data": {
      "text/html": [
       "<pre>recommendations finished on 1357000/2088478 queries. users per second: 6125.18</pre>"
      ],
      "text/plain": [
       "recommendations finished on 1357000/2088478 queries. users per second: 6125.18"
      ]
     },
     "metadata": {},
     "output_type": "display_data"
    },
    {
     "data": {
      "text/html": [
       "<pre>recommendations finished on 1358000/2088478 queries. users per second: 6125.82</pre>"
      ],
      "text/plain": [
       "recommendations finished on 1358000/2088478 queries. users per second: 6125.82"
      ]
     },
     "metadata": {},
     "output_type": "display_data"
    },
    {
     "data": {
      "text/html": [
       "<pre>recommendations finished on 1359000/2088478 queries. users per second: 6125.25</pre>"
      ],
      "text/plain": [
       "recommendations finished on 1359000/2088478 queries. users per second: 6125.25"
      ]
     },
     "metadata": {},
     "output_type": "display_data"
    },
    {
     "data": {
      "text/html": [
       "<pre>recommendations finished on 1360000/2088478 queries. users per second: 6125.66</pre>"
      ],
      "text/plain": [
       "recommendations finished on 1360000/2088478 queries. users per second: 6125.66"
      ]
     },
     "metadata": {},
     "output_type": "display_data"
    },
    {
     "data": {
      "text/html": [
       "<pre>recommendations finished on 1361000/2088478 queries. users per second: 6126.27</pre>"
      ],
      "text/plain": [
       "recommendations finished on 1361000/2088478 queries. users per second: 6126.27"
      ]
     },
     "metadata": {},
     "output_type": "display_data"
    },
    {
     "data": {
      "text/html": [
       "<pre>recommendations finished on 1362000/2088478 queries. users per second: 6126.88</pre>"
      ],
      "text/plain": [
       "recommendations finished on 1362000/2088478 queries. users per second: 6126.88"
      ]
     },
     "metadata": {},
     "output_type": "display_data"
    },
    {
     "data": {
      "text/html": [
       "<pre>recommendations finished on 1363000/2088478 queries. users per second: 6127.51</pre>"
      ],
      "text/plain": [
       "recommendations finished on 1363000/2088478 queries. users per second: 6127.51"
      ]
     },
     "metadata": {},
     "output_type": "display_data"
    },
    {
     "data": {
      "text/html": [
       "<pre>recommendations finished on 1364000/2088478 queries. users per second: 6128.25</pre>"
      ],
      "text/plain": [
       "recommendations finished on 1364000/2088478 queries. users per second: 6128.25"
      ]
     },
     "metadata": {},
     "output_type": "display_data"
    },
    {
     "data": {
      "text/html": [
       "<pre>recommendations finished on 1365000/2088478 queries. users per second: 6128.75</pre>"
      ],
      "text/plain": [
       "recommendations finished on 1365000/2088478 queries. users per second: 6128.75"
      ]
     },
     "metadata": {},
     "output_type": "display_data"
    },
    {
     "data": {
      "text/html": [
       "<pre>recommendations finished on 1366000/2088478 queries. users per second: 6127.87</pre>"
      ],
      "text/plain": [
       "recommendations finished on 1366000/2088478 queries. users per second: 6127.87"
      ]
     },
     "metadata": {},
     "output_type": "display_data"
    },
    {
     "data": {
      "text/html": [
       "<pre>recommendations finished on 1367000/2088478 queries. users per second: 6127.26</pre>"
      ],
      "text/plain": [
       "recommendations finished on 1367000/2088478 queries. users per second: 6127.26"
      ]
     },
     "metadata": {},
     "output_type": "display_data"
    },
    {
     "data": {
      "text/html": [
       "<pre>recommendations finished on 1368000/2088478 queries. users per second: 6127.96</pre>"
      ],
      "text/plain": [
       "recommendations finished on 1368000/2088478 queries. users per second: 6127.96"
      ]
     },
     "metadata": {},
     "output_type": "display_data"
    },
    {
     "data": {
      "text/html": [
       "<pre>recommendations finished on 1369000/2088478 queries. users per second: 6128.7</pre>"
      ],
      "text/plain": [
       "recommendations finished on 1369000/2088478 queries. users per second: 6128.7"
      ]
     },
     "metadata": {},
     "output_type": "display_data"
    },
    {
     "data": {
      "text/html": [
       "<pre>recommendations finished on 1370000/2088478 queries. users per second: 6129.38</pre>"
      ],
      "text/plain": [
       "recommendations finished on 1370000/2088478 queries. users per second: 6129.38"
      ]
     },
     "metadata": {},
     "output_type": "display_data"
    },
    {
     "data": {
      "text/html": [
       "<pre>recommendations finished on 1371000/2088478 queries. users per second: 6129.47</pre>"
      ],
      "text/plain": [
       "recommendations finished on 1371000/2088478 queries. users per second: 6129.47"
      ]
     },
     "metadata": {},
     "output_type": "display_data"
    },
    {
     "data": {
      "text/html": [
       "<pre>recommendations finished on 1372000/2088478 queries. users per second: 6129.42</pre>"
      ],
      "text/plain": [
       "recommendations finished on 1372000/2088478 queries. users per second: 6129.42"
      ]
     },
     "metadata": {},
     "output_type": "display_data"
    },
    {
     "data": {
      "text/html": [
       "<pre>recommendations finished on 1373000/2088478 queries. users per second: 6129.63</pre>"
      ],
      "text/plain": [
       "recommendations finished on 1373000/2088478 queries. users per second: 6129.63"
      ]
     },
     "metadata": {},
     "output_type": "display_data"
    },
    {
     "data": {
      "text/html": [
       "<pre>recommendations finished on 1374000/2088478 queries. users per second: 6130.23</pre>"
      ],
      "text/plain": [
       "recommendations finished on 1374000/2088478 queries. users per second: 6130.23"
      ]
     },
     "metadata": {},
     "output_type": "display_data"
    },
    {
     "data": {
      "text/html": [
       "<pre>recommendations finished on 1375000/2088478 queries. users per second: 6131.01</pre>"
      ],
      "text/plain": [
       "recommendations finished on 1375000/2088478 queries. users per second: 6131.01"
      ]
     },
     "metadata": {},
     "output_type": "display_data"
    },
    {
     "data": {
      "text/html": [
       "<pre>recommendations finished on 1376000/2088478 queries. users per second: 6131.76</pre>"
      ],
      "text/plain": [
       "recommendations finished on 1376000/2088478 queries. users per second: 6131.76"
      ]
     },
     "metadata": {},
     "output_type": "display_data"
    },
    {
     "data": {
      "text/html": [
       "<pre>recommendations finished on 1377000/2088478 queries. users per second: 6132.47</pre>"
      ],
      "text/plain": [
       "recommendations finished on 1377000/2088478 queries. users per second: 6132.47"
      ]
     },
     "metadata": {},
     "output_type": "display_data"
    },
    {
     "data": {
      "text/html": [
       "<pre>recommendations finished on 1378000/2088478 queries. users per second: 6133.02</pre>"
      ],
      "text/plain": [
       "recommendations finished on 1378000/2088478 queries. users per second: 6133.02"
      ]
     },
     "metadata": {},
     "output_type": "display_data"
    },
    {
     "data": {
      "text/html": [
       "<pre>recommendations finished on 1379000/2088478 queries. users per second: 6133.76</pre>"
      ],
      "text/plain": [
       "recommendations finished on 1379000/2088478 queries. users per second: 6133.76"
      ]
     },
     "metadata": {},
     "output_type": "display_data"
    },
    {
     "data": {
      "text/html": [
       "<pre>recommendations finished on 1380000/2088478 queries. users per second: 6134.48</pre>"
      ],
      "text/plain": [
       "recommendations finished on 1380000/2088478 queries. users per second: 6134.48"
      ]
     },
     "metadata": {},
     "output_type": "display_data"
    },
    {
     "data": {
      "text/html": [
       "<pre>recommendations finished on 1381000/2088478 queries. users per second: 6135.02</pre>"
      ],
      "text/plain": [
       "recommendations finished on 1381000/2088478 queries. users per second: 6135.02"
      ]
     },
     "metadata": {},
     "output_type": "display_data"
    },
    {
     "data": {
      "text/html": [
       "<pre>recommendations finished on 1382000/2088478 queries. users per second: 6135.63</pre>"
      ],
      "text/plain": [
       "recommendations finished on 1382000/2088478 queries. users per second: 6135.63"
      ]
     },
     "metadata": {},
     "output_type": "display_data"
    },
    {
     "data": {
      "text/html": [
       "<pre>recommendations finished on 1383000/2088478 queries. users per second: 6136.29</pre>"
      ],
      "text/plain": [
       "recommendations finished on 1383000/2088478 queries. users per second: 6136.29"
      ]
     },
     "metadata": {},
     "output_type": "display_data"
    },
    {
     "data": {
      "text/html": [
       "<pre>recommendations finished on 1384000/2088478 queries. users per second: 6136.95</pre>"
      ],
      "text/plain": [
       "recommendations finished on 1384000/2088478 queries. users per second: 6136.95"
      ]
     },
     "metadata": {},
     "output_type": "display_data"
    },
    {
     "data": {
      "text/html": [
       "<pre>recommendations finished on 1385000/2088478 queries. users per second: 6137.5</pre>"
      ],
      "text/plain": [
       "recommendations finished on 1385000/2088478 queries. users per second: 6137.5"
      ]
     },
     "metadata": {},
     "output_type": "display_data"
    },
    {
     "data": {
      "text/html": [
       "<pre>recommendations finished on 1386000/2088478 queries. users per second: 6138.17</pre>"
      ],
      "text/plain": [
       "recommendations finished on 1386000/2088478 queries. users per second: 6138.17"
      ]
     },
     "metadata": {},
     "output_type": "display_data"
    },
    {
     "data": {
      "text/html": [
       "<pre>recommendations finished on 1387000/2088478 queries. users per second: 6138.89</pre>"
      ],
      "text/plain": [
       "recommendations finished on 1387000/2088478 queries. users per second: 6138.89"
      ]
     },
     "metadata": {},
     "output_type": "display_data"
    },
    {
     "data": {
      "text/html": [
       "<pre>recommendations finished on 1388000/2088478 queries. users per second: 6139.5</pre>"
      ],
      "text/plain": [
       "recommendations finished on 1388000/2088478 queries. users per second: 6139.5"
      ]
     },
     "metadata": {},
     "output_type": "display_data"
    },
    {
     "data": {
      "text/html": [
       "<pre>recommendations finished on 1389000/2088478 queries. users per second: 6140.01</pre>"
      ],
      "text/plain": [
       "recommendations finished on 1389000/2088478 queries. users per second: 6140.01"
      ]
     },
     "metadata": {},
     "output_type": "display_data"
    },
    {
     "data": {
      "text/html": [
       "<pre>recommendations finished on 1390000/2088478 queries. users per second: 6140.66</pre>"
      ],
      "text/plain": [
       "recommendations finished on 1390000/2088478 queries. users per second: 6140.66"
      ]
     },
     "metadata": {},
     "output_type": "display_data"
    },
    {
     "data": {
      "text/html": [
       "<pre>recommendations finished on 1391000/2088478 queries. users per second: 6141.32</pre>"
      ],
      "text/plain": [
       "recommendations finished on 1391000/2088478 queries. users per second: 6141.32"
      ]
     },
     "metadata": {},
     "output_type": "display_data"
    },
    {
     "data": {
      "text/html": [
       "<pre>recommendations finished on 1392000/2088478 queries. users per second: 6141.91</pre>"
      ],
      "text/plain": [
       "recommendations finished on 1392000/2088478 queries. users per second: 6141.91"
      ]
     },
     "metadata": {},
     "output_type": "display_data"
    },
    {
     "data": {
      "text/html": [
       "<pre>recommendations finished on 1393000/2088478 queries. users per second: 6142.29</pre>"
      ],
      "text/plain": [
       "recommendations finished on 1393000/2088478 queries. users per second: 6142.29"
      ]
     },
     "metadata": {},
     "output_type": "display_data"
    },
    {
     "data": {
      "text/html": [
       "<pre>recommendations finished on 1394000/2088478 queries. users per second: 6142.34</pre>"
      ],
      "text/plain": [
       "recommendations finished on 1394000/2088478 queries. users per second: 6142.34"
      ]
     },
     "metadata": {},
     "output_type": "display_data"
    },
    {
     "data": {
      "text/html": [
       "<pre>recommendations finished on 1395000/2088478 queries. users per second: 6142.87</pre>"
      ],
      "text/plain": [
       "recommendations finished on 1395000/2088478 queries. users per second: 6142.87"
      ]
     },
     "metadata": {},
     "output_type": "display_data"
    },
    {
     "data": {
      "text/html": [
       "<pre>recommendations finished on 1396000/2088478 queries. users per second: 6143.47</pre>"
      ],
      "text/plain": [
       "recommendations finished on 1396000/2088478 queries. users per second: 6143.47"
      ]
     },
     "metadata": {},
     "output_type": "display_data"
    },
    {
     "data": {
      "text/html": [
       "<pre>recommendations finished on 1397000/2088478 queries. users per second: 6144.02</pre>"
      ],
      "text/plain": [
       "recommendations finished on 1397000/2088478 queries. users per second: 6144.02"
      ]
     },
     "metadata": {},
     "output_type": "display_data"
    },
    {
     "data": {
      "text/html": [
       "<pre>recommendations finished on 1398000/2088478 queries. users per second: 6144.36</pre>"
      ],
      "text/plain": [
       "recommendations finished on 1398000/2088478 queries. users per second: 6144.36"
      ]
     },
     "metadata": {},
     "output_type": "display_data"
    },
    {
     "data": {
      "text/html": [
       "<pre>recommendations finished on 1399000/2088478 queries. users per second: 6143.02</pre>"
      ],
      "text/plain": [
       "recommendations finished on 1399000/2088478 queries. users per second: 6143.02"
      ]
     },
     "metadata": {},
     "output_type": "display_data"
    },
    {
     "data": {
      "text/html": [
       "<pre>recommendations finished on 1400000/2088478 queries. users per second: 6142.88</pre>"
      ],
      "text/plain": [
       "recommendations finished on 1400000/2088478 queries. users per second: 6142.88"
      ]
     },
     "metadata": {},
     "output_type": "display_data"
    },
    {
     "data": {
      "text/html": [
       "<pre>recommendations finished on 1401000/2088478 queries. users per second: 6142.91</pre>"
      ],
      "text/plain": [
       "recommendations finished on 1401000/2088478 queries. users per second: 6142.91"
      ]
     },
     "metadata": {},
     "output_type": "display_data"
    },
    {
     "data": {
      "text/html": [
       "<pre>recommendations finished on 1402000/2088478 queries. users per second: 6143.54</pre>"
      ],
      "text/plain": [
       "recommendations finished on 1402000/2088478 queries. users per second: 6143.54"
      ]
     },
     "metadata": {},
     "output_type": "display_data"
    },
    {
     "data": {
      "text/html": [
       "<pre>recommendations finished on 1403000/2088478 queries. users per second: 6144.05</pre>"
      ],
      "text/plain": [
       "recommendations finished on 1403000/2088478 queries. users per second: 6144.05"
      ]
     },
     "metadata": {},
     "output_type": "display_data"
    },
    {
     "data": {
      "text/html": [
       "<pre>recommendations finished on 1404000/2088478 queries. users per second: 6142.2</pre>"
      ],
      "text/plain": [
       "recommendations finished on 1404000/2088478 queries. users per second: 6142.2"
      ]
     },
     "metadata": {},
     "output_type": "display_data"
    },
    {
     "data": {
      "text/html": [
       "<pre>recommendations finished on 1405000/2088478 queries. users per second: 6142.17</pre>"
      ],
      "text/plain": [
       "recommendations finished on 1405000/2088478 queries. users per second: 6142.17"
      ]
     },
     "metadata": {},
     "output_type": "display_data"
    },
    {
     "data": {
      "text/html": [
       "<pre>recommendations finished on 1406000/2088478 queries. users per second: 6142.7</pre>"
      ],
      "text/plain": [
       "recommendations finished on 1406000/2088478 queries. users per second: 6142.7"
      ]
     },
     "metadata": {},
     "output_type": "display_data"
    },
    {
     "data": {
      "text/html": [
       "<pre>recommendations finished on 1407000/2088478 queries. users per second: 6143.31</pre>"
      ],
      "text/plain": [
       "recommendations finished on 1407000/2088478 queries. users per second: 6143.31"
      ]
     },
     "metadata": {},
     "output_type": "display_data"
    },
    {
     "data": {
      "text/html": [
       "<pre>recommendations finished on 1408000/2088478 queries. users per second: 6143.49</pre>"
      ],
      "text/plain": [
       "recommendations finished on 1408000/2088478 queries. users per second: 6143.49"
      ]
     },
     "metadata": {},
     "output_type": "display_data"
    },
    {
     "data": {
      "text/html": [
       "<pre>recommendations finished on 1409000/2088478 queries. users per second: 6142.27</pre>"
      ],
      "text/plain": [
       "recommendations finished on 1409000/2088478 queries. users per second: 6142.27"
      ]
     },
     "metadata": {},
     "output_type": "display_data"
    },
    {
     "data": {
      "text/html": [
       "<pre>recommendations finished on 1410000/2088478 queries. users per second: 6141.43</pre>"
      ],
      "text/plain": [
       "recommendations finished on 1410000/2088478 queries. users per second: 6141.43"
      ]
     },
     "metadata": {},
     "output_type": "display_data"
    },
    {
     "data": {
      "text/html": [
       "<pre>recommendations finished on 1411000/2088478 queries. users per second: 6141.58</pre>"
      ],
      "text/plain": [
       "recommendations finished on 1411000/2088478 queries. users per second: 6141.58"
      ]
     },
     "metadata": {},
     "output_type": "display_data"
    },
    {
     "data": {
      "text/html": [
       "<pre>recommendations finished on 1412000/2088478 queries. users per second: 6142.08</pre>"
      ],
      "text/plain": [
       "recommendations finished on 1412000/2088478 queries. users per second: 6142.08"
      ]
     },
     "metadata": {},
     "output_type": "display_data"
    },
    {
     "data": {
      "text/html": [
       "<pre>recommendations finished on 1413000/2088478 queries. users per second: 6142.45</pre>"
      ],
      "text/plain": [
       "recommendations finished on 1413000/2088478 queries. users per second: 6142.45"
      ]
     },
     "metadata": {},
     "output_type": "display_data"
    },
    {
     "data": {
      "text/html": [
       "<pre>recommendations finished on 1414000/2088478 queries. users per second: 6140.73</pre>"
      ],
      "text/plain": [
       "recommendations finished on 1414000/2088478 queries. users per second: 6140.73"
      ]
     },
     "metadata": {},
     "output_type": "display_data"
    },
    {
     "data": {
      "text/html": [
       "<pre>recommendations finished on 1415000/2088478 queries. users per second: 6140.86</pre>"
      ],
      "text/plain": [
       "recommendations finished on 1415000/2088478 queries. users per second: 6140.86"
      ]
     },
     "metadata": {},
     "output_type": "display_data"
    },
    {
     "data": {
      "text/html": [
       "<pre>recommendations finished on 1416000/2088478 queries. users per second: 6141.28</pre>"
      ],
      "text/plain": [
       "recommendations finished on 1416000/2088478 queries. users per second: 6141.28"
      ]
     },
     "metadata": {},
     "output_type": "display_data"
    },
    {
     "data": {
      "text/html": [
       "<pre>recommendations finished on 1417000/2088478 queries. users per second: 6141.2</pre>"
      ],
      "text/plain": [
       "recommendations finished on 1417000/2088478 queries. users per second: 6141.2"
      ]
     },
     "metadata": {},
     "output_type": "display_data"
    },
    {
     "data": {
      "text/html": [
       "<pre>recommendations finished on 1418000/2088478 queries. users per second: 6140.6</pre>"
      ],
      "text/plain": [
       "recommendations finished on 1418000/2088478 queries. users per second: 6140.6"
      ]
     },
     "metadata": {},
     "output_type": "display_data"
    },
    {
     "data": {
      "text/html": [
       "<pre>recommendations finished on 1419000/2088478 queries. users per second: 6138.84</pre>"
      ],
      "text/plain": [
       "recommendations finished on 1419000/2088478 queries. users per second: 6138.84"
      ]
     },
     "metadata": {},
     "output_type": "display_data"
    },
    {
     "data": {
      "text/html": [
       "<pre>recommendations finished on 1420000/2088478 queries. users per second: 6138.37</pre>"
      ],
      "text/plain": [
       "recommendations finished on 1420000/2088478 queries. users per second: 6138.37"
      ]
     },
     "metadata": {},
     "output_type": "display_data"
    },
    {
     "data": {
      "text/html": [
       "<pre>recommendations finished on 1421000/2088478 queries. users per second: 6137.93</pre>"
      ],
      "text/plain": [
       "recommendations finished on 1421000/2088478 queries. users per second: 6137.93"
      ]
     },
     "metadata": {},
     "output_type": "display_data"
    },
    {
     "data": {
      "text/html": [
       "<pre>recommendations finished on 1422000/2088478 queries. users per second: 6137.12</pre>"
      ],
      "text/plain": [
       "recommendations finished on 1422000/2088478 queries. users per second: 6137.12"
      ]
     },
     "metadata": {},
     "output_type": "display_data"
    },
    {
     "data": {
      "text/html": [
       "<pre>recommendations finished on 1423000/2088478 queries. users per second: 6137.13</pre>"
      ],
      "text/plain": [
       "recommendations finished on 1423000/2088478 queries. users per second: 6137.13"
      ]
     },
     "metadata": {},
     "output_type": "display_data"
    },
    {
     "data": {
      "text/html": [
       "<pre>recommendations finished on 1424000/2088478 queries. users per second: 6135.44</pre>"
      ],
      "text/plain": [
       "recommendations finished on 1424000/2088478 queries. users per second: 6135.44"
      ]
     },
     "metadata": {},
     "output_type": "display_data"
    },
    {
     "data": {
      "text/html": [
       "<pre>recommendations finished on 1425000/2088478 queries. users per second: 6135.29</pre>"
      ],
      "text/plain": [
       "recommendations finished on 1425000/2088478 queries. users per second: 6135.29"
      ]
     },
     "metadata": {},
     "output_type": "display_data"
    },
    {
     "data": {
      "text/html": [
       "<pre>recommendations finished on 1426000/2088478 queries. users per second: 6134.5</pre>"
      ],
      "text/plain": [
       "recommendations finished on 1426000/2088478 queries. users per second: 6134.5"
      ]
     },
     "metadata": {},
     "output_type": "display_data"
    },
    {
     "data": {
      "text/html": [
       "<pre>recommendations finished on 1427000/2088478 queries. users per second: 6134.06</pre>"
      ],
      "text/plain": [
       "recommendations finished on 1427000/2088478 queries. users per second: 6134.06"
      ]
     },
     "metadata": {},
     "output_type": "display_data"
    },
    {
     "data": {
      "text/html": [
       "<pre>recommendations finished on 1428000/2088478 queries. users per second: 6133.38</pre>"
      ],
      "text/plain": [
       "recommendations finished on 1428000/2088478 queries. users per second: 6133.38"
      ]
     },
     "metadata": {},
     "output_type": "display_data"
    },
    {
     "data": {
      "text/html": [
       "<pre>recommendations finished on 1429000/2088478 queries. users per second: 6132.89</pre>"
      ],
      "text/plain": [
       "recommendations finished on 1429000/2088478 queries. users per second: 6132.89"
      ]
     },
     "metadata": {},
     "output_type": "display_data"
    },
    {
     "data": {
      "text/html": [
       "<pre>recommendations finished on 1430000/2088478 queries. users per second: 6132.77</pre>"
      ],
      "text/plain": [
       "recommendations finished on 1430000/2088478 queries. users per second: 6132.77"
      ]
     },
     "metadata": {},
     "output_type": "display_data"
    },
    {
     "data": {
      "text/html": [
       "<pre>recommendations finished on 1431000/2088478 queries. users per second: 6133.03</pre>"
      ],
      "text/plain": [
       "recommendations finished on 1431000/2088478 queries. users per second: 6133.03"
      ]
     },
     "metadata": {},
     "output_type": "display_data"
    },
    {
     "data": {
      "text/html": [
       "<pre>recommendations finished on 1432000/2088478 queries. users per second: 6133.4</pre>"
      ],
      "text/plain": [
       "recommendations finished on 1432000/2088478 queries. users per second: 6133.4"
      ]
     },
     "metadata": {},
     "output_type": "display_data"
    },
    {
     "data": {
      "text/html": [
       "<pre>recommendations finished on 1433000/2088478 queries. users per second: 6133.61</pre>"
      ],
      "text/plain": [
       "recommendations finished on 1433000/2088478 queries. users per second: 6133.61"
      ]
     },
     "metadata": {},
     "output_type": "display_data"
    },
    {
     "data": {
      "text/html": [
       "<pre>recommendations finished on 1434000/2088478 queries. users per second: 6133.14</pre>"
      ],
      "text/plain": [
       "recommendations finished on 1434000/2088478 queries. users per second: 6133.14"
      ]
     },
     "metadata": {},
     "output_type": "display_data"
    },
    {
     "data": {
      "text/html": [
       "<pre>recommendations finished on 1435000/2088478 queries. users per second: 6133.15</pre>"
      ],
      "text/plain": [
       "recommendations finished on 1435000/2088478 queries. users per second: 6133.15"
      ]
     },
     "metadata": {},
     "output_type": "display_data"
    },
    {
     "data": {
      "text/html": [
       "<pre>recommendations finished on 1436000/2088478 queries. users per second: 6133.48</pre>"
      ],
      "text/plain": [
       "recommendations finished on 1436000/2088478 queries. users per second: 6133.48"
      ]
     },
     "metadata": {},
     "output_type": "display_data"
    },
    {
     "data": {
      "text/html": [
       "<pre>recommendations finished on 1437000/2088478 queries. users per second: 6133.17</pre>"
      ],
      "text/plain": [
       "recommendations finished on 1437000/2088478 queries. users per second: 6133.17"
      ]
     },
     "metadata": {},
     "output_type": "display_data"
    },
    {
     "data": {
      "text/html": [
       "<pre>recommendations finished on 1438000/2088478 queries. users per second: 6132.93</pre>"
      ],
      "text/plain": [
       "recommendations finished on 1438000/2088478 queries. users per second: 6132.93"
      ]
     },
     "metadata": {},
     "output_type": "display_data"
    },
    {
     "data": {
      "text/html": [
       "<pre>recommendations finished on 1439000/2088478 queries. users per second: 6133.16</pre>"
      ],
      "text/plain": [
       "recommendations finished on 1439000/2088478 queries. users per second: 6133.16"
      ]
     },
     "metadata": {},
     "output_type": "display_data"
    },
    {
     "data": {
      "text/html": [
       "<pre>recommendations finished on 1440000/2088478 queries. users per second: 6133.29</pre>"
      ],
      "text/plain": [
       "recommendations finished on 1440000/2088478 queries. users per second: 6133.29"
      ]
     },
     "metadata": {},
     "output_type": "display_data"
    },
    {
     "data": {
      "text/html": [
       "<pre>recommendations finished on 1441000/2088478 queries. users per second: 6133.26</pre>"
      ],
      "text/plain": [
       "recommendations finished on 1441000/2088478 queries. users per second: 6133.26"
      ]
     },
     "metadata": {},
     "output_type": "display_data"
    },
    {
     "data": {
      "text/html": [
       "<pre>recommendations finished on 1442000/2088478 queries. users per second: 6133.51</pre>"
      ],
      "text/plain": [
       "recommendations finished on 1442000/2088478 queries. users per second: 6133.51"
      ]
     },
     "metadata": {},
     "output_type": "display_data"
    },
    {
     "data": {
      "text/html": [
       "<pre>recommendations finished on 1443000/2088478 queries. users per second: 6133.62</pre>"
      ],
      "text/plain": [
       "recommendations finished on 1443000/2088478 queries. users per second: 6133.62"
      ]
     },
     "metadata": {},
     "output_type": "display_data"
    },
    {
     "data": {
      "text/html": [
       "<pre>recommendations finished on 1444000/2088478 queries. users per second: 6133.81</pre>"
      ],
      "text/plain": [
       "recommendations finished on 1444000/2088478 queries. users per second: 6133.81"
      ]
     },
     "metadata": {},
     "output_type": "display_data"
    },
    {
     "data": {
      "text/html": [
       "<pre>recommendations finished on 1445000/2088478 queries. users per second: 6134.16</pre>"
      ],
      "text/plain": [
       "recommendations finished on 1445000/2088478 queries. users per second: 6134.16"
      ]
     },
     "metadata": {},
     "output_type": "display_data"
    },
    {
     "data": {
      "text/html": [
       "<pre>recommendations finished on 1446000/2088478 queries. users per second: 6134.57</pre>"
      ],
      "text/plain": [
       "recommendations finished on 1446000/2088478 queries. users per second: 6134.57"
      ]
     },
     "metadata": {},
     "output_type": "display_data"
    },
    {
     "data": {
      "text/html": [
       "<pre>recommendations finished on 1447000/2088478 queries. users per second: 6134.45</pre>"
      ],
      "text/plain": [
       "recommendations finished on 1447000/2088478 queries. users per second: 6134.45"
      ]
     },
     "metadata": {},
     "output_type": "display_data"
    },
    {
     "data": {
      "text/html": [
       "<pre>recommendations finished on 1448000/2088478 queries. users per second: 6133.7</pre>"
      ],
      "text/plain": [
       "recommendations finished on 1448000/2088478 queries. users per second: 6133.7"
      ]
     },
     "metadata": {},
     "output_type": "display_data"
    },
    {
     "data": {
      "text/html": [
       "<pre>recommendations finished on 1449000/2088478 queries. users per second: 6134.14</pre>"
      ],
      "text/plain": [
       "recommendations finished on 1449000/2088478 queries. users per second: 6134.14"
      ]
     },
     "metadata": {},
     "output_type": "display_data"
    },
    {
     "data": {
      "text/html": [
       "<pre>recommendations finished on 1450000/2088478 queries. users per second: 6134.38</pre>"
      ],
      "text/plain": [
       "recommendations finished on 1450000/2088478 queries. users per second: 6134.38"
      ]
     },
     "metadata": {},
     "output_type": "display_data"
    },
    {
     "data": {
      "text/html": [
       "<pre>recommendations finished on 1451000/2088478 queries. users per second: 6134.41</pre>"
      ],
      "text/plain": [
       "recommendations finished on 1451000/2088478 queries. users per second: 6134.41"
      ]
     },
     "metadata": {},
     "output_type": "display_data"
    },
    {
     "data": {
      "text/html": [
       "<pre>recommendations finished on 1452000/2088478 queries. users per second: 6133.86</pre>"
      ],
      "text/plain": [
       "recommendations finished on 1452000/2088478 queries. users per second: 6133.86"
      ]
     },
     "metadata": {},
     "output_type": "display_data"
    },
    {
     "data": {
      "text/html": [
       "<pre>recommendations finished on 1453000/2088478 queries. users per second: 6133.6</pre>"
      ],
      "text/plain": [
       "recommendations finished on 1453000/2088478 queries. users per second: 6133.6"
      ]
     },
     "metadata": {},
     "output_type": "display_data"
    },
    {
     "data": {
      "text/html": [
       "<pre>recommendations finished on 1454000/2088478 queries. users per second: 6132.83</pre>"
      ],
      "text/plain": [
       "recommendations finished on 1454000/2088478 queries. users per second: 6132.83"
      ]
     },
     "metadata": {},
     "output_type": "display_data"
    },
    {
     "data": {
      "text/html": [
       "<pre>recommendations finished on 1455000/2088478 queries. users per second: 6132.34</pre>"
      ],
      "text/plain": [
       "recommendations finished on 1455000/2088478 queries. users per second: 6132.34"
      ]
     },
     "metadata": {},
     "output_type": "display_data"
    },
    {
     "data": {
      "text/html": [
       "<pre>recommendations finished on 1456000/2088478 queries. users per second: 6132.33</pre>"
      ],
      "text/plain": [
       "recommendations finished on 1456000/2088478 queries. users per second: 6132.33"
      ]
     },
     "metadata": {},
     "output_type": "display_data"
    },
    {
     "data": {
      "text/html": [
       "<pre>recommendations finished on 1457000/2088478 queries. users per second: 6132.45</pre>"
      ],
      "text/plain": [
       "recommendations finished on 1457000/2088478 queries. users per second: 6132.45"
      ]
     },
     "metadata": {},
     "output_type": "display_data"
    },
    {
     "data": {
      "text/html": [
       "<pre>recommendations finished on 1458000/2088478 queries. users per second: 6132.36</pre>"
      ],
      "text/plain": [
       "recommendations finished on 1458000/2088478 queries. users per second: 6132.36"
      ]
     },
     "metadata": {},
     "output_type": "display_data"
    },
    {
     "data": {
      "text/html": [
       "<pre>recommendations finished on 1459000/2088478 queries. users per second: 6132.67</pre>"
      ],
      "text/plain": [
       "recommendations finished on 1459000/2088478 queries. users per second: 6132.67"
      ]
     },
     "metadata": {},
     "output_type": "display_data"
    },
    {
     "data": {
      "text/html": [
       "<pre>recommendations finished on 1460000/2088478 queries. users per second: 6132.5</pre>"
      ],
      "text/plain": [
       "recommendations finished on 1460000/2088478 queries. users per second: 6132.5"
      ]
     },
     "metadata": {},
     "output_type": "display_data"
    },
    {
     "data": {
      "text/html": [
       "<pre>recommendations finished on 1461000/2088478 queries. users per second: 6132.59</pre>"
      ],
      "text/plain": [
       "recommendations finished on 1461000/2088478 queries. users per second: 6132.59"
      ]
     },
     "metadata": {},
     "output_type": "display_data"
    },
    {
     "data": {
      "text/html": [
       "<pre>recommendations finished on 1462000/2088478 queries. users per second: 6132.74</pre>"
      ],
      "text/plain": [
       "recommendations finished on 1462000/2088478 queries. users per second: 6132.74"
      ]
     },
     "metadata": {},
     "output_type": "display_data"
    },
    {
     "data": {
      "text/html": [
       "<pre>recommendations finished on 1463000/2088478 queries. users per second: 6133.13</pre>"
      ],
      "text/plain": [
       "recommendations finished on 1463000/2088478 queries. users per second: 6133.13"
      ]
     },
     "metadata": {},
     "output_type": "display_data"
    },
    {
     "data": {
      "text/html": [
       "<pre>recommendations finished on 1464000/2088478 queries. users per second: 6133.34</pre>"
      ],
      "text/plain": [
       "recommendations finished on 1464000/2088478 queries. users per second: 6133.34"
      ]
     },
     "metadata": {},
     "output_type": "display_data"
    },
    {
     "data": {
      "text/html": [
       "<pre>recommendations finished on 1465000/2088478 queries. users per second: 6133.46</pre>"
      ],
      "text/plain": [
       "recommendations finished on 1465000/2088478 queries. users per second: 6133.46"
      ]
     },
     "metadata": {},
     "output_type": "display_data"
    },
    {
     "data": {
      "text/html": [
       "<pre>recommendations finished on 1466000/2088478 queries. users per second: 6132.46</pre>"
      ],
      "text/plain": [
       "recommendations finished on 1466000/2088478 queries. users per second: 6132.46"
      ]
     },
     "metadata": {},
     "output_type": "display_data"
    },
    {
     "data": {
      "text/html": [
       "<pre>recommendations finished on 1467000/2088478 queries. users per second: 6131.95</pre>"
      ],
      "text/plain": [
       "recommendations finished on 1467000/2088478 queries. users per second: 6131.95"
      ]
     },
     "metadata": {},
     "output_type": "display_data"
    },
    {
     "data": {
      "text/html": [
       "<pre>recommendations finished on 1468000/2088478 queries. users per second: 6132.13</pre>"
      ],
      "text/plain": [
       "recommendations finished on 1468000/2088478 queries. users per second: 6132.13"
      ]
     },
     "metadata": {},
     "output_type": "display_data"
    },
    {
     "data": {
      "text/html": [
       "<pre>recommendations finished on 1469000/2088478 queries. users per second: 6132.25</pre>"
      ],
      "text/plain": [
       "recommendations finished on 1469000/2088478 queries. users per second: 6132.25"
      ]
     },
     "metadata": {},
     "output_type": "display_data"
    },
    {
     "data": {
      "text/html": [
       "<pre>recommendations finished on 1470000/2088478 queries. users per second: 6132.34</pre>"
      ],
      "text/plain": [
       "recommendations finished on 1470000/2088478 queries. users per second: 6132.34"
      ]
     },
     "metadata": {},
     "output_type": "display_data"
    },
    {
     "data": {
      "text/html": [
       "<pre>recommendations finished on 1471000/2088478 queries. users per second: 6132.22</pre>"
      ],
      "text/plain": [
       "recommendations finished on 1471000/2088478 queries. users per second: 6132.22"
      ]
     },
     "metadata": {},
     "output_type": "display_data"
    },
    {
     "data": {
      "text/html": [
       "<pre>recommendations finished on 1472000/2088478 queries. users per second: 6132.23</pre>"
      ],
      "text/plain": [
       "recommendations finished on 1472000/2088478 queries. users per second: 6132.23"
      ]
     },
     "metadata": {},
     "output_type": "display_data"
    },
    {
     "data": {
      "text/html": [
       "<pre>recommendations finished on 1473000/2088478 queries. users per second: 6132.83</pre>"
      ],
      "text/plain": [
       "recommendations finished on 1473000/2088478 queries. users per second: 6132.83"
      ]
     },
     "metadata": {},
     "output_type": "display_data"
    },
    {
     "data": {
      "text/html": [
       "<pre>recommendations finished on 1474000/2088478 queries. users per second: 6132.56</pre>"
      ],
      "text/plain": [
       "recommendations finished on 1474000/2088478 queries. users per second: 6132.56"
      ]
     },
     "metadata": {},
     "output_type": "display_data"
    },
    {
     "data": {
      "text/html": [
       "<pre>recommendations finished on 1475000/2088478 queries. users per second: 6131.8</pre>"
      ],
      "text/plain": [
       "recommendations finished on 1475000/2088478 queries. users per second: 6131.8"
      ]
     },
     "metadata": {},
     "output_type": "display_data"
    },
    {
     "data": {
      "text/html": [
       "<pre>recommendations finished on 1476000/2088478 queries. users per second: 6131.99</pre>"
      ],
      "text/plain": [
       "recommendations finished on 1476000/2088478 queries. users per second: 6131.99"
      ]
     },
     "metadata": {},
     "output_type": "display_data"
    },
    {
     "data": {
      "text/html": [
       "<pre>recommendations finished on 1477000/2088478 queries. users per second: 6132.4</pre>"
      ],
      "text/plain": [
       "recommendations finished on 1477000/2088478 queries. users per second: 6132.4"
      ]
     },
     "metadata": {},
     "output_type": "display_data"
    },
    {
     "data": {
      "text/html": [
       "<pre>recommendations finished on 1478000/2088478 queries. users per second: 6132.95</pre>"
      ],
      "text/plain": [
       "recommendations finished on 1478000/2088478 queries. users per second: 6132.95"
      ]
     },
     "metadata": {},
     "output_type": "display_data"
    },
    {
     "data": {
      "text/html": [
       "<pre>recommendations finished on 1479000/2088478 queries. users per second: 6133.34</pre>"
      ],
      "text/plain": [
       "recommendations finished on 1479000/2088478 queries. users per second: 6133.34"
      ]
     },
     "metadata": {},
     "output_type": "display_data"
    },
    {
     "data": {
      "text/html": [
       "<pre>recommendations finished on 1480000/2088478 queries. users per second: 6133.65</pre>"
      ],
      "text/plain": [
       "recommendations finished on 1480000/2088478 queries. users per second: 6133.65"
      ]
     },
     "metadata": {},
     "output_type": "display_data"
    },
    {
     "data": {
      "text/html": [
       "<pre>recommendations finished on 1481000/2088478 queries. users per second: 6133.54</pre>"
      ],
      "text/plain": [
       "recommendations finished on 1481000/2088478 queries. users per second: 6133.54"
      ]
     },
     "metadata": {},
     "output_type": "display_data"
    },
    {
     "data": {
      "text/html": [
       "<pre>recommendations finished on 1482000/2088478 queries. users per second: 6133.74</pre>"
      ],
      "text/plain": [
       "recommendations finished on 1482000/2088478 queries. users per second: 6133.74"
      ]
     },
     "metadata": {},
     "output_type": "display_data"
    },
    {
     "data": {
      "text/html": [
       "<pre>recommendations finished on 1483000/2088478 queries. users per second: 6133.06</pre>"
      ],
      "text/plain": [
       "recommendations finished on 1483000/2088478 queries. users per second: 6133.06"
      ]
     },
     "metadata": {},
     "output_type": "display_data"
    },
    {
     "data": {
      "text/html": [
       "<pre>recommendations finished on 1484000/2088478 queries. users per second: 6133</pre>"
      ],
      "text/plain": [
       "recommendations finished on 1484000/2088478 queries. users per second: 6133"
      ]
     },
     "metadata": {},
     "output_type": "display_data"
    },
    {
     "data": {
      "text/html": [
       "<pre>recommendations finished on 1485000/2088478 queries. users per second: 6132.89</pre>"
      ],
      "text/plain": [
       "recommendations finished on 1485000/2088478 queries. users per second: 6132.89"
      ]
     },
     "metadata": {},
     "output_type": "display_data"
    },
    {
     "data": {
      "text/html": [
       "<pre>recommendations finished on 1486000/2088478 queries. users per second: 6133.12</pre>"
      ],
      "text/plain": [
       "recommendations finished on 1486000/2088478 queries. users per second: 6133.12"
      ]
     },
     "metadata": {},
     "output_type": "display_data"
    },
    {
     "data": {
      "text/html": [
       "<pre>recommendations finished on 1487000/2088478 queries. users per second: 6133.4</pre>"
      ],
      "text/plain": [
       "recommendations finished on 1487000/2088478 queries. users per second: 6133.4"
      ]
     },
     "metadata": {},
     "output_type": "display_data"
    },
    {
     "data": {
      "text/html": [
       "<pre>recommendations finished on 1488000/2088478 queries. users per second: 6133.38</pre>"
      ],
      "text/plain": [
       "recommendations finished on 1488000/2088478 queries. users per second: 6133.38"
      ]
     },
     "metadata": {},
     "output_type": "display_data"
    },
    {
     "data": {
      "text/html": [
       "<pre>recommendations finished on 1489000/2088478 queries. users per second: 6132.53</pre>"
      ],
      "text/plain": [
       "recommendations finished on 1489000/2088478 queries. users per second: 6132.53"
      ]
     },
     "metadata": {},
     "output_type": "display_data"
    },
    {
     "data": {
      "text/html": [
       "<pre>recommendations finished on 1490000/2088478 queries. users per second: 6132.78</pre>"
      ],
      "text/plain": [
       "recommendations finished on 1490000/2088478 queries. users per second: 6132.78"
      ]
     },
     "metadata": {},
     "output_type": "display_data"
    },
    {
     "data": {
      "text/html": [
       "<pre>recommendations finished on 1491000/2088478 queries. users per second: 6132.8</pre>"
      ],
      "text/plain": [
       "recommendations finished on 1491000/2088478 queries. users per second: 6132.8"
      ]
     },
     "metadata": {},
     "output_type": "display_data"
    },
    {
     "data": {
      "text/html": [
       "<pre>recommendations finished on 1492000/2088478 queries. users per second: 6133.05</pre>"
      ],
      "text/plain": [
       "recommendations finished on 1492000/2088478 queries. users per second: 6133.05"
      ]
     },
     "metadata": {},
     "output_type": "display_data"
    },
    {
     "data": {
      "text/html": [
       "<pre>recommendations finished on 1493000/2088478 queries. users per second: 6132.97</pre>"
      ],
      "text/plain": [
       "recommendations finished on 1493000/2088478 queries. users per second: 6132.97"
      ]
     },
     "metadata": {},
     "output_type": "display_data"
    },
    {
     "data": {
      "text/html": [
       "<pre>recommendations finished on 1494000/2088478 queries. users per second: 6133.03</pre>"
      ],
      "text/plain": [
       "recommendations finished on 1494000/2088478 queries. users per second: 6133.03"
      ]
     },
     "metadata": {},
     "output_type": "display_data"
    },
    {
     "data": {
      "text/html": [
       "<pre>recommendations finished on 1495000/2088478 queries. users per second: 6132.6</pre>"
      ],
      "text/plain": [
       "recommendations finished on 1495000/2088478 queries. users per second: 6132.6"
      ]
     },
     "metadata": {},
     "output_type": "display_data"
    },
    {
     "data": {
      "text/html": [
       "<pre>recommendations finished on 1496000/2088478 queries. users per second: 6133.01</pre>"
      ],
      "text/plain": [
       "recommendations finished on 1496000/2088478 queries. users per second: 6133.01"
      ]
     },
     "metadata": {},
     "output_type": "display_data"
    },
    {
     "data": {
      "text/html": [
       "<pre>recommendations finished on 1497000/2088478 queries. users per second: 6133.13</pre>"
      ],
      "text/plain": [
       "recommendations finished on 1497000/2088478 queries. users per second: 6133.13"
      ]
     },
     "metadata": {},
     "output_type": "display_data"
    },
    {
     "data": {
      "text/html": [
       "<pre>recommendations finished on 1498000/2088478 queries. users per second: 6132.94</pre>"
      ],
      "text/plain": [
       "recommendations finished on 1498000/2088478 queries. users per second: 6132.94"
      ]
     },
     "metadata": {},
     "output_type": "display_data"
    },
    {
     "data": {
      "text/html": [
       "<pre>recommendations finished on 1499000/2088478 queries. users per second: 6133.13</pre>"
      ],
      "text/plain": [
       "recommendations finished on 1499000/2088478 queries. users per second: 6133.13"
      ]
     },
     "metadata": {},
     "output_type": "display_data"
    },
    {
     "data": {
      "text/html": [
       "<pre>recommendations finished on 1500000/2088478 queries. users per second: 6133.37</pre>"
      ],
      "text/plain": [
       "recommendations finished on 1500000/2088478 queries. users per second: 6133.37"
      ]
     },
     "metadata": {},
     "output_type": "display_data"
    },
    {
     "data": {
      "text/html": [
       "<pre>recommendations finished on 1501000/2088478 queries. users per second: 6133.36</pre>"
      ],
      "text/plain": [
       "recommendations finished on 1501000/2088478 queries. users per second: 6133.36"
      ]
     },
     "metadata": {},
     "output_type": "display_data"
    },
    {
     "data": {
      "text/html": [
       "<pre>recommendations finished on 1502000/2088478 queries. users per second: 6133.03</pre>"
      ],
      "text/plain": [
       "recommendations finished on 1502000/2088478 queries. users per second: 6133.03"
      ]
     },
     "metadata": {},
     "output_type": "display_data"
    },
    {
     "data": {
      "text/html": [
       "<pre>recommendations finished on 1503000/2088478 queries. users per second: 6132.31</pre>"
      ],
      "text/plain": [
       "recommendations finished on 1503000/2088478 queries. users per second: 6132.31"
      ]
     },
     "metadata": {},
     "output_type": "display_data"
    },
    {
     "data": {
      "text/html": [
       "<pre>recommendations finished on 1504000/2088478 queries. users per second: 6132.16</pre>"
      ],
      "text/plain": [
       "recommendations finished on 1504000/2088478 queries. users per second: 6132.16"
      ]
     },
     "metadata": {},
     "output_type": "display_data"
    },
    {
     "data": {
      "text/html": [
       "<pre>recommendations finished on 1505000/2088478 queries. users per second: 6132.24</pre>"
      ],
      "text/plain": [
       "recommendations finished on 1505000/2088478 queries. users per second: 6132.24"
      ]
     },
     "metadata": {},
     "output_type": "display_data"
    },
    {
     "data": {
      "text/html": [
       "<pre>recommendations finished on 1506000/2088478 queries. users per second: 6131.59</pre>"
      ],
      "text/plain": [
       "recommendations finished on 1506000/2088478 queries. users per second: 6131.59"
      ]
     },
     "metadata": {},
     "output_type": "display_data"
    },
    {
     "data": {
      "text/html": [
       "<pre>recommendations finished on 1507000/2088478 queries. users per second: 6131.47</pre>"
      ],
      "text/plain": [
       "recommendations finished on 1507000/2088478 queries. users per second: 6131.47"
      ]
     },
     "metadata": {},
     "output_type": "display_data"
    },
    {
     "data": {
      "text/html": [
       "<pre>recommendations finished on 1508000/2088478 queries. users per second: 6131.67</pre>"
      ],
      "text/plain": [
       "recommendations finished on 1508000/2088478 queries. users per second: 6131.67"
      ]
     },
     "metadata": {},
     "output_type": "display_data"
    },
    {
     "data": {
      "text/html": [
       "<pre>recommendations finished on 1509000/2088478 queries. users per second: 6131.94</pre>"
      ],
      "text/plain": [
       "recommendations finished on 1509000/2088478 queries. users per second: 6131.94"
      ]
     },
     "metadata": {},
     "output_type": "display_data"
    },
    {
     "data": {
      "text/html": [
       "<pre>recommendations finished on 1510000/2088478 queries. users per second: 6131.59</pre>"
      ],
      "text/plain": [
       "recommendations finished on 1510000/2088478 queries. users per second: 6131.59"
      ]
     },
     "metadata": {},
     "output_type": "display_data"
    },
    {
     "data": {
      "text/html": [
       "<pre>recommendations finished on 1511000/2088478 queries. users per second: 6129.96</pre>"
      ],
      "text/plain": [
       "recommendations finished on 1511000/2088478 queries. users per second: 6129.96"
      ]
     },
     "metadata": {},
     "output_type": "display_data"
    },
    {
     "data": {
      "text/html": [
       "<pre>recommendations finished on 1512000/2088478 queries. users per second: 6130.28</pre>"
      ],
      "text/plain": [
       "recommendations finished on 1512000/2088478 queries. users per second: 6130.28"
      ]
     },
     "metadata": {},
     "output_type": "display_data"
    },
    {
     "data": {
      "text/html": [
       "<pre>recommendations finished on 1513000/2088478 queries. users per second: 6129.88</pre>"
      ],
      "text/plain": [
       "recommendations finished on 1513000/2088478 queries. users per second: 6129.88"
      ]
     },
     "metadata": {},
     "output_type": "display_data"
    },
    {
     "data": {
      "text/html": [
       "<pre>recommendations finished on 1514000/2088478 queries. users per second: 6130.03</pre>"
      ],
      "text/plain": [
       "recommendations finished on 1514000/2088478 queries. users per second: 6130.03"
      ]
     },
     "metadata": {},
     "output_type": "display_data"
    },
    {
     "data": {
      "text/html": [
       "<pre>recommendations finished on 1515000/2088478 queries. users per second: 6130.4</pre>"
      ],
      "text/plain": [
       "recommendations finished on 1515000/2088478 queries. users per second: 6130.4"
      ]
     },
     "metadata": {},
     "output_type": "display_data"
    },
    {
     "data": {
      "text/html": [
       "<pre>recommendations finished on 1516000/2088478 queries. users per second: 6130.24</pre>"
      ],
      "text/plain": [
       "recommendations finished on 1516000/2088478 queries. users per second: 6130.24"
      ]
     },
     "metadata": {},
     "output_type": "display_data"
    },
    {
     "data": {
      "text/html": [
       "<pre>recommendations finished on 1517000/2088478 queries. users per second: 6130.67</pre>"
      ],
      "text/plain": [
       "recommendations finished on 1517000/2088478 queries. users per second: 6130.67"
      ]
     },
     "metadata": {},
     "output_type": "display_data"
    },
    {
     "data": {
      "text/html": [
       "<pre>recommendations finished on 1518000/2088478 queries. users per second: 6130.57</pre>"
      ],
      "text/plain": [
       "recommendations finished on 1518000/2088478 queries. users per second: 6130.57"
      ]
     },
     "metadata": {},
     "output_type": "display_data"
    },
    {
     "data": {
      "text/html": [
       "<pre>recommendations finished on 1519000/2088478 queries. users per second: 6130.23</pre>"
      ],
      "text/plain": [
       "recommendations finished on 1519000/2088478 queries. users per second: 6130.23"
      ]
     },
     "metadata": {},
     "output_type": "display_data"
    },
    {
     "data": {
      "text/html": [
       "<pre>recommendations finished on 1520000/2088478 queries. users per second: 6129.89</pre>"
      ],
      "text/plain": [
       "recommendations finished on 1520000/2088478 queries. users per second: 6129.89"
      ]
     },
     "metadata": {},
     "output_type": "display_data"
    },
    {
     "data": {
      "text/html": [
       "<pre>recommendations finished on 1521000/2088478 queries. users per second: 6129.33</pre>"
      ],
      "text/plain": [
       "recommendations finished on 1521000/2088478 queries. users per second: 6129.33"
      ]
     },
     "metadata": {},
     "output_type": "display_data"
    },
    {
     "data": {
      "text/html": [
       "<pre>recommendations finished on 1522000/2088478 queries. users per second: 6128.95</pre>"
      ],
      "text/plain": [
       "recommendations finished on 1522000/2088478 queries. users per second: 6128.95"
      ]
     },
     "metadata": {},
     "output_type": "display_data"
    },
    {
     "data": {
      "text/html": [
       "<pre>recommendations finished on 1523000/2088478 queries. users per second: 6128.67</pre>"
      ],
      "text/plain": [
       "recommendations finished on 1523000/2088478 queries. users per second: 6128.67"
      ]
     },
     "metadata": {},
     "output_type": "display_data"
    },
    {
     "data": {
      "text/html": [
       "<pre>recommendations finished on 1524000/2088478 queries. users per second: 6128.53</pre>"
      ],
      "text/plain": [
       "recommendations finished on 1524000/2088478 queries. users per second: 6128.53"
      ]
     },
     "metadata": {},
     "output_type": "display_data"
    },
    {
     "data": {
      "text/html": [
       "<pre>recommendations finished on 1525000/2088478 queries. users per second: 6128.65</pre>"
      ],
      "text/plain": [
       "recommendations finished on 1525000/2088478 queries. users per second: 6128.65"
      ]
     },
     "metadata": {},
     "output_type": "display_data"
    },
    {
     "data": {
      "text/html": [
       "<pre>recommendations finished on 1526000/2088478 queries. users per second: 6128.7</pre>"
      ],
      "text/plain": [
       "recommendations finished on 1526000/2088478 queries. users per second: 6128.7"
      ]
     },
     "metadata": {},
     "output_type": "display_data"
    },
    {
     "data": {
      "text/html": [
       "<pre>recommendations finished on 1527000/2088478 queries. users per second: 6128.02</pre>"
      ],
      "text/plain": [
       "recommendations finished on 1527000/2088478 queries. users per second: 6128.02"
      ]
     },
     "metadata": {},
     "output_type": "display_data"
    },
    {
     "data": {
      "text/html": [
       "<pre>recommendations finished on 1528000/2088478 queries. users per second: 6128.43</pre>"
      ],
      "text/plain": [
       "recommendations finished on 1528000/2088478 queries. users per second: 6128.43"
      ]
     },
     "metadata": {},
     "output_type": "display_data"
    },
    {
     "data": {
      "text/html": [
       "<pre>recommendations finished on 1529000/2088478 queries. users per second: 6128.41</pre>"
      ],
      "text/plain": [
       "recommendations finished on 1529000/2088478 queries. users per second: 6128.41"
      ]
     },
     "metadata": {},
     "output_type": "display_data"
    },
    {
     "data": {
      "text/html": [
       "<pre>recommendations finished on 1530000/2088478 queries. users per second: 6127.77</pre>"
      ],
      "text/plain": [
       "recommendations finished on 1530000/2088478 queries. users per second: 6127.77"
      ]
     },
     "metadata": {},
     "output_type": "display_data"
    },
    {
     "data": {
      "text/html": [
       "<pre>recommendations finished on 1531000/2088478 queries. users per second: 6126.12</pre>"
      ],
      "text/plain": [
       "recommendations finished on 1531000/2088478 queries. users per second: 6126.12"
      ]
     },
     "metadata": {},
     "output_type": "display_data"
    },
    {
     "data": {
      "text/html": [
       "<pre>recommendations finished on 1532000/2088478 queries. users per second: 6126.18</pre>"
      ],
      "text/plain": [
       "recommendations finished on 1532000/2088478 queries. users per second: 6126.18"
      ]
     },
     "metadata": {},
     "output_type": "display_data"
    },
    {
     "data": {
      "text/html": [
       "<pre>recommendations finished on 1533000/2088478 queries. users per second: 6125.76</pre>"
      ],
      "text/plain": [
       "recommendations finished on 1533000/2088478 queries. users per second: 6125.76"
      ]
     },
     "metadata": {},
     "output_type": "display_data"
    },
    {
     "data": {
      "text/html": [
       "<pre>recommendations finished on 1534000/2088478 queries. users per second: 6125.76</pre>"
      ],
      "text/plain": [
       "recommendations finished on 1534000/2088478 queries. users per second: 6125.76"
      ]
     },
     "metadata": {},
     "output_type": "display_data"
    },
    {
     "data": {
      "text/html": [
       "<pre>recommendations finished on 1535000/2088478 queries. users per second: 6125.97</pre>"
      ],
      "text/plain": [
       "recommendations finished on 1535000/2088478 queries. users per second: 6125.97"
      ]
     },
     "metadata": {},
     "output_type": "display_data"
    },
    {
     "data": {
      "text/html": [
       "<pre>recommendations finished on 1536000/2088478 queries. users per second: 6125.57</pre>"
      ],
      "text/plain": [
       "recommendations finished on 1536000/2088478 queries. users per second: 6125.57"
      ]
     },
     "metadata": {},
     "output_type": "display_data"
    },
    {
     "data": {
      "text/html": [
       "<pre>recommendations finished on 1537000/2088478 queries. users per second: 6125.85</pre>"
      ],
      "text/plain": [
       "recommendations finished on 1537000/2088478 queries. users per second: 6125.85"
      ]
     },
     "metadata": {},
     "output_type": "display_data"
    },
    {
     "data": {
      "text/html": [
       "<pre>recommendations finished on 1538000/2088478 queries. users per second: 6126.24</pre>"
      ],
      "text/plain": [
       "recommendations finished on 1538000/2088478 queries. users per second: 6126.24"
      ]
     },
     "metadata": {},
     "output_type": "display_data"
    },
    {
     "data": {
      "text/html": [
       "<pre>recommendations finished on 1539000/2088478 queries. users per second: 6126.06</pre>"
      ],
      "text/plain": [
       "recommendations finished on 1539000/2088478 queries. users per second: 6126.06"
      ]
     },
     "metadata": {},
     "output_type": "display_data"
    },
    {
     "data": {
      "text/html": [
       "<pre>recommendations finished on 1540000/2088478 queries. users per second: 6125</pre>"
      ],
      "text/plain": [
       "recommendations finished on 1540000/2088478 queries. users per second: 6125"
      ]
     },
     "metadata": {},
     "output_type": "display_data"
    },
    {
     "data": {
      "text/html": [
       "<pre>recommendations finished on 1541000/2088478 queries. users per second: 6125.3</pre>"
      ],
      "text/plain": [
       "recommendations finished on 1541000/2088478 queries. users per second: 6125.3"
      ]
     },
     "metadata": {},
     "output_type": "display_data"
    },
    {
     "data": {
      "text/html": [
       "<pre>recommendations finished on 1542000/2088478 queries. users per second: 6125.44</pre>"
      ],
      "text/plain": [
       "recommendations finished on 1542000/2088478 queries. users per second: 6125.44"
      ]
     },
     "metadata": {},
     "output_type": "display_data"
    },
    {
     "data": {
      "text/html": [
       "<pre>recommendations finished on 1543000/2088478 queries. users per second: 6124.51</pre>"
      ],
      "text/plain": [
       "recommendations finished on 1543000/2088478 queries. users per second: 6124.51"
      ]
     },
     "metadata": {},
     "output_type": "display_data"
    },
    {
     "data": {
      "text/html": [
       "<pre>recommendations finished on 1544000/2088478 queries. users per second: 6124.52</pre>"
      ],
      "text/plain": [
       "recommendations finished on 1544000/2088478 queries. users per second: 6124.52"
      ]
     },
     "metadata": {},
     "output_type": "display_data"
    },
    {
     "data": {
      "text/html": [
       "<pre>recommendations finished on 1545000/2088478 queries. users per second: 6123.92</pre>"
      ],
      "text/plain": [
       "recommendations finished on 1545000/2088478 queries. users per second: 6123.92"
      ]
     },
     "metadata": {},
     "output_type": "display_data"
    },
    {
     "data": {
      "text/html": [
       "<pre>recommendations finished on 1546000/2088478 queries. users per second: 6123.5</pre>"
      ],
      "text/plain": [
       "recommendations finished on 1546000/2088478 queries. users per second: 6123.5"
      ]
     },
     "metadata": {},
     "output_type": "display_data"
    },
    {
     "data": {
      "text/html": [
       "<pre>recommendations finished on 1547000/2088478 queries. users per second: 6123.16</pre>"
      ],
      "text/plain": [
       "recommendations finished on 1547000/2088478 queries. users per second: 6123.16"
      ]
     },
     "metadata": {},
     "output_type": "display_data"
    },
    {
     "data": {
      "text/html": [
       "<pre>recommendations finished on 1548000/2088478 queries. users per second: 6122.51</pre>"
      ],
      "text/plain": [
       "recommendations finished on 1548000/2088478 queries. users per second: 6122.51"
      ]
     },
     "metadata": {},
     "output_type": "display_data"
    },
    {
     "data": {
      "text/html": [
       "<pre>recommendations finished on 1549000/2088478 queries. users per second: 6122.12</pre>"
      ],
      "text/plain": [
       "recommendations finished on 1549000/2088478 queries. users per second: 6122.12"
      ]
     },
     "metadata": {},
     "output_type": "display_data"
    },
    {
     "data": {
      "text/html": [
       "<pre>recommendations finished on 1550000/2088478 queries. users per second: 6120.81</pre>"
      ],
      "text/plain": [
       "recommendations finished on 1550000/2088478 queries. users per second: 6120.81"
      ]
     },
     "metadata": {},
     "output_type": "display_data"
    },
    {
     "data": {
      "text/html": [
       "<pre>recommendations finished on 1551000/2088478 queries. users per second: 6120.46</pre>"
      ],
      "text/plain": [
       "recommendations finished on 1551000/2088478 queries. users per second: 6120.46"
      ]
     },
     "metadata": {},
     "output_type": "display_data"
    },
    {
     "data": {
      "text/html": [
       "<pre>recommendations finished on 1552000/2088478 queries. users per second: 6120.23</pre>"
      ],
      "text/plain": [
       "recommendations finished on 1552000/2088478 queries. users per second: 6120.23"
      ]
     },
     "metadata": {},
     "output_type": "display_data"
    },
    {
     "data": {
      "text/html": [
       "<pre>recommendations finished on 1553000/2088478 queries. users per second: 6119.72</pre>"
      ],
      "text/plain": [
       "recommendations finished on 1553000/2088478 queries. users per second: 6119.72"
      ]
     },
     "metadata": {},
     "output_type": "display_data"
    },
    {
     "data": {
      "text/html": [
       "<pre>recommendations finished on 1554000/2088478 queries. users per second: 6119.7</pre>"
      ],
      "text/plain": [
       "recommendations finished on 1554000/2088478 queries. users per second: 6119.7"
      ]
     },
     "metadata": {},
     "output_type": "display_data"
    },
    {
     "data": {
      "text/html": [
       "<pre>recommendations finished on 1555000/2088478 queries. users per second: 6119.24</pre>"
      ],
      "text/plain": [
       "recommendations finished on 1555000/2088478 queries. users per second: 6119.24"
      ]
     },
     "metadata": {},
     "output_type": "display_data"
    },
    {
     "data": {
      "text/html": [
       "<pre>recommendations finished on 1556000/2088478 queries. users per second: 6118.96</pre>"
      ],
      "text/plain": [
       "recommendations finished on 1556000/2088478 queries. users per second: 6118.96"
      ]
     },
     "metadata": {},
     "output_type": "display_data"
    },
    {
     "data": {
      "text/html": [
       "<pre>recommendations finished on 1557000/2088478 queries. users per second: 6119.01</pre>"
      ],
      "text/plain": [
       "recommendations finished on 1557000/2088478 queries. users per second: 6119.01"
      ]
     },
     "metadata": {},
     "output_type": "display_data"
    },
    {
     "data": {
      "text/html": [
       "<pre>recommendations finished on 1558000/2088478 queries. users per second: 6119.15</pre>"
      ],
      "text/plain": [
       "recommendations finished on 1558000/2088478 queries. users per second: 6119.15"
      ]
     },
     "metadata": {},
     "output_type": "display_data"
    },
    {
     "data": {
      "text/html": [
       "<pre>recommendations finished on 1559000/2088478 queries. users per second: 6119.16</pre>"
      ],
      "text/plain": [
       "recommendations finished on 1559000/2088478 queries. users per second: 6119.16"
      ]
     },
     "metadata": {},
     "output_type": "display_data"
    },
    {
     "data": {
      "text/html": [
       "<pre>recommendations finished on 1560000/2088478 queries. users per second: 6119.1</pre>"
      ],
      "text/plain": [
       "recommendations finished on 1560000/2088478 queries. users per second: 6119.1"
      ]
     },
     "metadata": {},
     "output_type": "display_data"
    },
    {
     "data": {
      "text/html": [
       "<pre>recommendations finished on 1561000/2088478 queries. users per second: 6119.45</pre>"
      ],
      "text/plain": [
       "recommendations finished on 1561000/2088478 queries. users per second: 6119.45"
      ]
     },
     "metadata": {},
     "output_type": "display_data"
    },
    {
     "data": {
      "text/html": [
       "<pre>recommendations finished on 1562000/2088478 queries. users per second: 6119.1</pre>"
      ],
      "text/plain": [
       "recommendations finished on 1562000/2088478 queries. users per second: 6119.1"
      ]
     },
     "metadata": {},
     "output_type": "display_data"
    },
    {
     "data": {
      "text/html": [
       "<pre>recommendations finished on 1563000/2088478 queries. users per second: 6119.05</pre>"
      ],
      "text/plain": [
       "recommendations finished on 1563000/2088478 queries. users per second: 6119.05"
      ]
     },
     "metadata": {},
     "output_type": "display_data"
    },
    {
     "data": {
      "text/html": [
       "<pre>recommendations finished on 1564000/2088478 queries. users per second: 6119.27</pre>"
      ],
      "text/plain": [
       "recommendations finished on 1564000/2088478 queries. users per second: 6119.27"
      ]
     },
     "metadata": {},
     "output_type": "display_data"
    },
    {
     "data": {
      "text/html": [
       "<pre>recommendations finished on 1565000/2088478 queries. users per second: 6119.68</pre>"
      ],
      "text/plain": [
       "recommendations finished on 1565000/2088478 queries. users per second: 6119.68"
      ]
     },
     "metadata": {},
     "output_type": "display_data"
    },
    {
     "data": {
      "text/html": [
       "<pre>recommendations finished on 1566000/2088478 queries. users per second: 6120.12</pre>"
      ],
      "text/plain": [
       "recommendations finished on 1566000/2088478 queries. users per second: 6120.12"
      ]
     },
     "metadata": {},
     "output_type": "display_data"
    },
    {
     "data": {
      "text/html": [
       "<pre>recommendations finished on 1567000/2088478 queries. users per second: 6119.72</pre>"
      ],
      "text/plain": [
       "recommendations finished on 1567000/2088478 queries. users per second: 6119.72"
      ]
     },
     "metadata": {},
     "output_type": "display_data"
    },
    {
     "data": {
      "text/html": [
       "<pre>recommendations finished on 1568000/2088478 queries. users per second: 6119.56</pre>"
      ],
      "text/plain": [
       "recommendations finished on 1568000/2088478 queries. users per second: 6119.56"
      ]
     },
     "metadata": {},
     "output_type": "display_data"
    },
    {
     "data": {
      "text/html": [
       "<pre>recommendations finished on 1569000/2088478 queries. users per second: 6119.59</pre>"
      ],
      "text/plain": [
       "recommendations finished on 1569000/2088478 queries. users per second: 6119.59"
      ]
     },
     "metadata": {},
     "output_type": "display_data"
    },
    {
     "data": {
      "text/html": [
       "<pre>recommendations finished on 1570000/2088478 queries. users per second: 6119.52</pre>"
      ],
      "text/plain": [
       "recommendations finished on 1570000/2088478 queries. users per second: 6119.52"
      ]
     },
     "metadata": {},
     "output_type": "display_data"
    },
    {
     "data": {
      "text/html": [
       "<pre>recommendations finished on 1571000/2088478 queries. users per second: 6119.31</pre>"
      ],
      "text/plain": [
       "recommendations finished on 1571000/2088478 queries. users per second: 6119.31"
      ]
     },
     "metadata": {},
     "output_type": "display_data"
    },
    {
     "data": {
      "text/html": [
       "<pre>recommendations finished on 1572000/2088478 queries. users per second: 6119.71</pre>"
      ],
      "text/plain": [
       "recommendations finished on 1572000/2088478 queries. users per second: 6119.71"
      ]
     },
     "metadata": {},
     "output_type": "display_data"
    },
    {
     "data": {
      "text/html": [
       "<pre>recommendations finished on 1573000/2088478 queries. users per second: 6120.12</pre>"
      ],
      "text/plain": [
       "recommendations finished on 1573000/2088478 queries. users per second: 6120.12"
      ]
     },
     "metadata": {},
     "output_type": "display_data"
    },
    {
     "data": {
      "text/html": [
       "<pre>recommendations finished on 1574000/2088478 queries. users per second: 6120.31</pre>"
      ],
      "text/plain": [
       "recommendations finished on 1574000/2088478 queries. users per second: 6120.31"
      ]
     },
     "metadata": {},
     "output_type": "display_data"
    },
    {
     "data": {
      "text/html": [
       "<pre>recommendations finished on 1575000/2088478 queries. users per second: 6120.51</pre>"
      ],
      "text/plain": [
       "recommendations finished on 1575000/2088478 queries. users per second: 6120.51"
      ]
     },
     "metadata": {},
     "output_type": "display_data"
    },
    {
     "data": {
      "text/html": [
       "<pre>recommendations finished on 1576000/2088478 queries. users per second: 6119.82</pre>"
      ],
      "text/plain": [
       "recommendations finished on 1576000/2088478 queries. users per second: 6119.82"
      ]
     },
     "metadata": {},
     "output_type": "display_data"
    },
    {
     "data": {
      "text/html": [
       "<pre>recommendations finished on 1577000/2088478 queries. users per second: 6119.81</pre>"
      ],
      "text/plain": [
       "recommendations finished on 1577000/2088478 queries. users per second: 6119.81"
      ]
     },
     "metadata": {},
     "output_type": "display_data"
    },
    {
     "data": {
      "text/html": [
       "<pre>recommendations finished on 1578000/2088478 queries. users per second: 6119.7</pre>"
      ],
      "text/plain": [
       "recommendations finished on 1578000/2088478 queries. users per second: 6119.7"
      ]
     },
     "metadata": {},
     "output_type": "display_data"
    },
    {
     "data": {
      "text/html": [
       "<pre>recommendations finished on 1579000/2088478 queries. users per second: 6119.9</pre>"
      ],
      "text/plain": [
       "recommendations finished on 1579000/2088478 queries. users per second: 6119.9"
      ]
     },
     "metadata": {},
     "output_type": "display_data"
    },
    {
     "data": {
      "text/html": [
       "<pre>recommendations finished on 1580000/2088478 queries. users per second: 6119.86</pre>"
      ],
      "text/plain": [
       "recommendations finished on 1580000/2088478 queries. users per second: 6119.86"
      ]
     },
     "metadata": {},
     "output_type": "display_data"
    },
    {
     "data": {
      "text/html": [
       "<pre>recommendations finished on 1581000/2088478 queries. users per second: 6120.33</pre>"
      ],
      "text/plain": [
       "recommendations finished on 1581000/2088478 queries. users per second: 6120.33"
      ]
     },
     "metadata": {},
     "output_type": "display_data"
    },
    {
     "data": {
      "text/html": [
       "<pre>recommendations finished on 1582000/2088478 queries. users per second: 6120.8</pre>"
      ],
      "text/plain": [
       "recommendations finished on 1582000/2088478 queries. users per second: 6120.8"
      ]
     },
     "metadata": {},
     "output_type": "display_data"
    },
    {
     "data": {
      "text/html": [
       "<pre>recommendations finished on 1583000/2088478 queries. users per second: 6121.23</pre>"
      ],
      "text/plain": [
       "recommendations finished on 1583000/2088478 queries. users per second: 6121.23"
      ]
     },
     "metadata": {},
     "output_type": "display_data"
    },
    {
     "data": {
      "text/html": [
       "<pre>recommendations finished on 1584000/2088478 queries. users per second: 6120.62</pre>"
      ],
      "text/plain": [
       "recommendations finished on 1584000/2088478 queries. users per second: 6120.62"
      ]
     },
     "metadata": {},
     "output_type": "display_data"
    },
    {
     "data": {
      "text/html": [
       "<pre>recommendations finished on 1585000/2088478 queries. users per second: 6120.58</pre>"
      ],
      "text/plain": [
       "recommendations finished on 1585000/2088478 queries. users per second: 6120.58"
      ]
     },
     "metadata": {},
     "output_type": "display_data"
    },
    {
     "data": {
      "text/html": [
       "<pre>recommendations finished on 1586000/2088478 queries. users per second: 6120.75</pre>"
      ],
      "text/plain": [
       "recommendations finished on 1586000/2088478 queries. users per second: 6120.75"
      ]
     },
     "metadata": {},
     "output_type": "display_data"
    },
    {
     "data": {
      "text/html": [
       "<pre>recommendations finished on 1587000/2088478 queries. users per second: 6121.07</pre>"
      ],
      "text/plain": [
       "recommendations finished on 1587000/2088478 queries. users per second: 6121.07"
      ]
     },
     "metadata": {},
     "output_type": "display_data"
    },
    {
     "data": {
      "text/html": [
       "<pre>recommendations finished on 1588000/2088478 queries. users per second: 6121.57</pre>"
      ],
      "text/plain": [
       "recommendations finished on 1588000/2088478 queries. users per second: 6121.57"
      ]
     },
     "metadata": {},
     "output_type": "display_data"
    },
    {
     "data": {
      "text/html": [
       "<pre>recommendations finished on 1589000/2088478 queries. users per second: 6121.99</pre>"
      ],
      "text/plain": [
       "recommendations finished on 1589000/2088478 queries. users per second: 6121.99"
      ]
     },
     "metadata": {},
     "output_type": "display_data"
    },
    {
     "data": {
      "text/html": [
       "<pre>recommendations finished on 1590000/2088478 queries. users per second: 6122.39</pre>"
      ],
      "text/plain": [
       "recommendations finished on 1590000/2088478 queries. users per second: 6122.39"
      ]
     },
     "metadata": {},
     "output_type": "display_data"
    },
    {
     "data": {
      "text/html": [
       "<pre>recommendations finished on 1591000/2088478 queries. users per second: 6122.66</pre>"
      ],
      "text/plain": [
       "recommendations finished on 1591000/2088478 queries. users per second: 6122.66"
      ]
     },
     "metadata": {},
     "output_type": "display_data"
    },
    {
     "data": {
      "text/html": [
       "<pre>recommendations finished on 1592000/2088478 queries. users per second: 6123.07</pre>"
      ],
      "text/plain": [
       "recommendations finished on 1592000/2088478 queries. users per second: 6123.07"
      ]
     },
     "metadata": {},
     "output_type": "display_data"
    },
    {
     "data": {
      "text/html": [
       "<pre>recommendations finished on 1593000/2088478 queries. users per second: 6123.47</pre>"
      ],
      "text/plain": [
       "recommendations finished on 1593000/2088478 queries. users per second: 6123.47"
      ]
     },
     "metadata": {},
     "output_type": "display_data"
    },
    {
     "data": {
      "text/html": [
       "<pre>recommendations finished on 1594000/2088478 queries. users per second: 6123.81</pre>"
      ],
      "text/plain": [
       "recommendations finished on 1594000/2088478 queries. users per second: 6123.81"
      ]
     },
     "metadata": {},
     "output_type": "display_data"
    },
    {
     "data": {
      "text/html": [
       "<pre>recommendations finished on 1595000/2088478 queries. users per second: 6124.28</pre>"
      ],
      "text/plain": [
       "recommendations finished on 1595000/2088478 queries. users per second: 6124.28"
      ]
     },
     "metadata": {},
     "output_type": "display_data"
    },
    {
     "data": {
      "text/html": [
       "<pre>recommendations finished on 1596000/2088478 queries. users per second: 6124.59</pre>"
      ],
      "text/plain": [
       "recommendations finished on 1596000/2088478 queries. users per second: 6124.59"
      ]
     },
     "metadata": {},
     "output_type": "display_data"
    },
    {
     "data": {
      "text/html": [
       "<pre>recommendations finished on 1597000/2088478 queries. users per second: 6124.98</pre>"
      ],
      "text/plain": [
       "recommendations finished on 1597000/2088478 queries. users per second: 6124.98"
      ]
     },
     "metadata": {},
     "output_type": "display_data"
    },
    {
     "data": {
      "text/html": [
       "<pre>recommendations finished on 1598000/2088478 queries. users per second: 6125.46</pre>"
      ],
      "text/plain": [
       "recommendations finished on 1598000/2088478 queries. users per second: 6125.46"
      ]
     },
     "metadata": {},
     "output_type": "display_data"
    },
    {
     "data": {
      "text/html": [
       "<pre>recommendations finished on 1599000/2088478 queries. users per second: 6125.85</pre>"
      ],
      "text/plain": [
       "recommendations finished on 1599000/2088478 queries. users per second: 6125.85"
      ]
     },
     "metadata": {},
     "output_type": "display_data"
    },
    {
     "data": {
      "text/html": [
       "<pre>recommendations finished on 1600000/2088478 queries. users per second: 6126.19</pre>"
      ],
      "text/plain": [
       "recommendations finished on 1600000/2088478 queries. users per second: 6126.19"
      ]
     },
     "metadata": {},
     "output_type": "display_data"
    },
    {
     "data": {
      "text/html": [
       "<pre>recommendations finished on 1601000/2088478 queries. users per second: 6126.64</pre>"
      ],
      "text/plain": [
       "recommendations finished on 1601000/2088478 queries. users per second: 6126.64"
      ]
     },
     "metadata": {},
     "output_type": "display_data"
    },
    {
     "data": {
      "text/html": [
       "<pre>recommendations finished on 1602000/2088478 queries. users per second: 6127.04</pre>"
      ],
      "text/plain": [
       "recommendations finished on 1602000/2088478 queries. users per second: 6127.04"
      ]
     },
     "metadata": {},
     "output_type": "display_data"
    },
    {
     "data": {
      "text/html": [
       "<pre>recommendations finished on 1603000/2088478 queries. users per second: 6127.52</pre>"
      ],
      "text/plain": [
       "recommendations finished on 1603000/2088478 queries. users per second: 6127.52"
      ]
     },
     "metadata": {},
     "output_type": "display_data"
    },
    {
     "data": {
      "text/html": [
       "<pre>recommendations finished on 1604000/2088478 queries. users per second: 6127.91</pre>"
      ],
      "text/plain": [
       "recommendations finished on 1604000/2088478 queries. users per second: 6127.91"
      ]
     },
     "metadata": {},
     "output_type": "display_data"
    },
    {
     "data": {
      "text/html": [
       "<pre>recommendations finished on 1605000/2088478 queries. users per second: 6128.38</pre>"
      ],
      "text/plain": [
       "recommendations finished on 1605000/2088478 queries. users per second: 6128.38"
      ]
     },
     "metadata": {},
     "output_type": "display_data"
    },
    {
     "data": {
      "text/html": [
       "<pre>recommendations finished on 1606000/2088478 queries. users per second: 6128.77</pre>"
      ],
      "text/plain": [
       "recommendations finished on 1606000/2088478 queries. users per second: 6128.77"
      ]
     },
     "metadata": {},
     "output_type": "display_data"
    },
    {
     "data": {
      "text/html": [
       "<pre>recommendations finished on 1607000/2088478 queries. users per second: 6128.41</pre>"
      ],
      "text/plain": [
       "recommendations finished on 1607000/2088478 queries. users per second: 6128.41"
      ]
     },
     "metadata": {},
     "output_type": "display_data"
    },
    {
     "data": {
      "text/html": [
       "<pre>recommendations finished on 1608000/2088478 queries. users per second: 6128.48</pre>"
      ],
      "text/plain": [
       "recommendations finished on 1608000/2088478 queries. users per second: 6128.48"
      ]
     },
     "metadata": {},
     "output_type": "display_data"
    },
    {
     "data": {
      "text/html": [
       "<pre>recommendations finished on 1609000/2088478 queries. users per second: 6128.57</pre>"
      ],
      "text/plain": [
       "recommendations finished on 1609000/2088478 queries. users per second: 6128.57"
      ]
     },
     "metadata": {},
     "output_type": "display_data"
    },
    {
     "data": {
      "text/html": [
       "<pre>recommendations finished on 1610000/2088478 queries. users per second: 6127.94</pre>"
      ],
      "text/plain": [
       "recommendations finished on 1610000/2088478 queries. users per second: 6127.94"
      ]
     },
     "metadata": {},
     "output_type": "display_data"
    },
    {
     "data": {
      "text/html": [
       "<pre>recommendations finished on 1611000/2088478 queries. users per second: 6127.84</pre>"
      ],
      "text/plain": [
       "recommendations finished on 1611000/2088478 queries. users per second: 6127.84"
      ]
     },
     "metadata": {},
     "output_type": "display_data"
    },
    {
     "data": {
      "text/html": [
       "<pre>recommendations finished on 1612000/2088478 queries. users per second: 6127.12</pre>"
      ],
      "text/plain": [
       "recommendations finished on 1612000/2088478 queries. users per second: 6127.12"
      ]
     },
     "metadata": {},
     "output_type": "display_data"
    },
    {
     "data": {
      "text/html": [
       "<pre>recommendations finished on 1613000/2088478 queries. users per second: 6127.24</pre>"
      ],
      "text/plain": [
       "recommendations finished on 1613000/2088478 queries. users per second: 6127.24"
      ]
     },
     "metadata": {},
     "output_type": "display_data"
    },
    {
     "data": {
      "text/html": [
       "<pre>recommendations finished on 1614000/2088478 queries. users per second: 6126.92</pre>"
      ],
      "text/plain": [
       "recommendations finished on 1614000/2088478 queries. users per second: 6126.92"
      ]
     },
     "metadata": {},
     "output_type": "display_data"
    },
    {
     "data": {
      "text/html": [
       "<pre>recommendations finished on 1615000/2088478 queries. users per second: 6126.41</pre>"
      ],
      "text/plain": [
       "recommendations finished on 1615000/2088478 queries. users per second: 6126.41"
      ]
     },
     "metadata": {},
     "output_type": "display_data"
    },
    {
     "data": {
      "text/html": [
       "<pre>recommendations finished on 1616000/2088478 queries. users per second: 6126.2</pre>"
      ],
      "text/plain": [
       "recommendations finished on 1616000/2088478 queries. users per second: 6126.2"
      ]
     },
     "metadata": {},
     "output_type": "display_data"
    },
    {
     "data": {
      "text/html": [
       "<pre>recommendations finished on 1617000/2088478 queries. users per second: 6126.18</pre>"
      ],
      "text/plain": [
       "recommendations finished on 1617000/2088478 queries. users per second: 6126.18"
      ]
     },
     "metadata": {},
     "output_type": "display_data"
    },
    {
     "data": {
      "text/html": [
       "<pre>recommendations finished on 1618000/2088478 queries. users per second: 6126.19</pre>"
      ],
      "text/plain": [
       "recommendations finished on 1618000/2088478 queries. users per second: 6126.19"
      ]
     },
     "metadata": {},
     "output_type": "display_data"
    },
    {
     "data": {
      "text/html": [
       "<pre>recommendations finished on 1619000/2088478 queries. users per second: 6125.39</pre>"
      ],
      "text/plain": [
       "recommendations finished on 1619000/2088478 queries. users per second: 6125.39"
      ]
     },
     "metadata": {},
     "output_type": "display_data"
    },
    {
     "data": {
      "text/html": [
       "<pre>recommendations finished on 1620000/2088478 queries. users per second: 6124.29</pre>"
      ],
      "text/plain": [
       "recommendations finished on 1620000/2088478 queries. users per second: 6124.29"
      ]
     },
     "metadata": {},
     "output_type": "display_data"
    },
    {
     "data": {
      "text/html": [
       "<pre>recommendations finished on 1621000/2088478 queries. users per second: 6123.85</pre>"
      ],
      "text/plain": [
       "recommendations finished on 1621000/2088478 queries. users per second: 6123.85"
      ]
     },
     "metadata": {},
     "output_type": "display_data"
    },
    {
     "data": {
      "text/html": [
       "<pre>recommendations finished on 1622000/2088478 queries. users per second: 6123.43</pre>"
      ],
      "text/plain": [
       "recommendations finished on 1622000/2088478 queries. users per second: 6123.43"
      ]
     },
     "metadata": {},
     "output_type": "display_data"
    },
    {
     "data": {
      "text/html": [
       "<pre>recommendations finished on 1623000/2088478 queries. users per second: 6123.17</pre>"
      ],
      "text/plain": [
       "recommendations finished on 1623000/2088478 queries. users per second: 6123.17"
      ]
     },
     "metadata": {},
     "output_type": "display_data"
    },
    {
     "data": {
      "text/html": [
       "<pre>recommendations finished on 1624000/2088478 queries. users per second: 6122.96</pre>"
      ],
      "text/plain": [
       "recommendations finished on 1624000/2088478 queries. users per second: 6122.96"
      ]
     },
     "metadata": {},
     "output_type": "display_data"
    },
    {
     "data": {
      "text/html": [
       "<pre>recommendations finished on 1625000/2088478 queries. users per second: 6122.4</pre>"
      ],
      "text/plain": [
       "recommendations finished on 1625000/2088478 queries. users per second: 6122.4"
      ]
     },
     "metadata": {},
     "output_type": "display_data"
    },
    {
     "data": {
      "text/html": [
       "<pre>recommendations finished on 1626000/2088478 queries. users per second: 6121.38</pre>"
      ],
      "text/plain": [
       "recommendations finished on 1626000/2088478 queries. users per second: 6121.38"
      ]
     },
     "metadata": {},
     "output_type": "display_data"
    },
    {
     "data": {
      "text/html": [
       "<pre>recommendations finished on 1627000/2088478 queries. users per second: 6120.79</pre>"
      ],
      "text/plain": [
       "recommendations finished on 1627000/2088478 queries. users per second: 6120.79"
      ]
     },
     "metadata": {},
     "output_type": "display_data"
    },
    {
     "data": {
      "text/html": [
       "<pre>recommendations finished on 1628000/2088478 queries. users per second: 6120.57</pre>"
      ],
      "text/plain": [
       "recommendations finished on 1628000/2088478 queries. users per second: 6120.57"
      ]
     },
     "metadata": {},
     "output_type": "display_data"
    },
    {
     "data": {
      "text/html": [
       "<pre>recommendations finished on 1629000/2088478 queries. users per second: 6120.21</pre>"
      ],
      "text/plain": [
       "recommendations finished on 1629000/2088478 queries. users per second: 6120.21"
      ]
     },
     "metadata": {},
     "output_type": "display_data"
    },
    {
     "data": {
      "text/html": [
       "<pre>recommendations finished on 1630000/2088478 queries. users per second: 6120.35</pre>"
      ],
      "text/plain": [
       "recommendations finished on 1630000/2088478 queries. users per second: 6120.35"
      ]
     },
     "metadata": {},
     "output_type": "display_data"
    },
    {
     "data": {
      "text/html": [
       "<pre>recommendations finished on 1631000/2088478 queries. users per second: 6120.18</pre>"
      ],
      "text/plain": [
       "recommendations finished on 1631000/2088478 queries. users per second: 6120.18"
      ]
     },
     "metadata": {},
     "output_type": "display_data"
    },
    {
     "data": {
      "text/html": [
       "<pre>recommendations finished on 1632000/2088478 queries. users per second: 6120.1</pre>"
      ],
      "text/plain": [
       "recommendations finished on 1632000/2088478 queries. users per second: 6120.1"
      ]
     },
     "metadata": {},
     "output_type": "display_data"
    },
    {
     "data": {
      "text/html": [
       "<pre>recommendations finished on 1633000/2088478 queries. users per second: 6119.69</pre>"
      ],
      "text/plain": [
       "recommendations finished on 1633000/2088478 queries. users per second: 6119.69"
      ]
     },
     "metadata": {},
     "output_type": "display_data"
    },
    {
     "data": {
      "text/html": [
       "<pre>recommendations finished on 1634000/2088478 queries. users per second: 6119.91</pre>"
      ],
      "text/plain": [
       "recommendations finished on 1634000/2088478 queries. users per second: 6119.91"
      ]
     },
     "metadata": {},
     "output_type": "display_data"
    },
    {
     "data": {
      "text/html": [
       "<pre>recommendations finished on 1635000/2088478 queries. users per second: 6120.14</pre>"
      ],
      "text/plain": [
       "recommendations finished on 1635000/2088478 queries. users per second: 6120.14"
      ]
     },
     "metadata": {},
     "output_type": "display_data"
    },
    {
     "data": {
      "text/html": [
       "<pre>recommendations finished on 1636000/2088478 queries. users per second: 6120.25</pre>"
      ],
      "text/plain": [
       "recommendations finished on 1636000/2088478 queries. users per second: 6120.25"
      ]
     },
     "metadata": {},
     "output_type": "display_data"
    },
    {
     "data": {
      "text/html": [
       "<pre>recommendations finished on 1637000/2088478 queries. users per second: 6120.27</pre>"
      ],
      "text/plain": [
       "recommendations finished on 1637000/2088478 queries. users per second: 6120.27"
      ]
     },
     "metadata": {},
     "output_type": "display_data"
    },
    {
     "data": {
      "text/html": [
       "<pre>recommendations finished on 1638000/2088478 queries. users per second: 6120.61</pre>"
      ],
      "text/plain": [
       "recommendations finished on 1638000/2088478 queries. users per second: 6120.61"
      ]
     },
     "metadata": {},
     "output_type": "display_data"
    },
    {
     "data": {
      "text/html": [
       "<pre>recommendations finished on 1639000/2088478 queries. users per second: 6120.91</pre>"
      ],
      "text/plain": [
       "recommendations finished on 1639000/2088478 queries. users per second: 6120.91"
      ]
     },
     "metadata": {},
     "output_type": "display_data"
    },
    {
     "data": {
      "text/html": [
       "<pre>recommendations finished on 1640000/2088478 queries. users per second: 6121.16</pre>"
      ],
      "text/plain": [
       "recommendations finished on 1640000/2088478 queries. users per second: 6121.16"
      ]
     },
     "metadata": {},
     "output_type": "display_data"
    },
    {
     "data": {
      "text/html": [
       "<pre>recommendations finished on 1641000/2088478 queries. users per second: 6121.32</pre>"
      ],
      "text/plain": [
       "recommendations finished on 1641000/2088478 queries. users per second: 6121.32"
      ]
     },
     "metadata": {},
     "output_type": "display_data"
    },
    {
     "data": {
      "text/html": [
       "<pre>recommendations finished on 1642000/2088478 queries. users per second: 6121.47</pre>"
      ],
      "text/plain": [
       "recommendations finished on 1642000/2088478 queries. users per second: 6121.47"
      ]
     },
     "metadata": {},
     "output_type": "display_data"
    },
    {
     "data": {
      "text/html": [
       "<pre>recommendations finished on 1643000/2088478 queries. users per second: 6121.75</pre>"
      ],
      "text/plain": [
       "recommendations finished on 1643000/2088478 queries. users per second: 6121.75"
      ]
     },
     "metadata": {},
     "output_type": "display_data"
    },
    {
     "data": {
      "text/html": [
       "<pre>recommendations finished on 1644000/2088478 queries. users per second: 6121.79</pre>"
      ],
      "text/plain": [
       "recommendations finished on 1644000/2088478 queries. users per second: 6121.79"
      ]
     },
     "metadata": {},
     "output_type": "display_data"
    },
    {
     "data": {
      "text/html": [
       "<pre>recommendations finished on 1645000/2088478 queries. users per second: 6122.06</pre>"
      ],
      "text/plain": [
       "recommendations finished on 1645000/2088478 queries. users per second: 6122.06"
      ]
     },
     "metadata": {},
     "output_type": "display_data"
    },
    {
     "data": {
      "text/html": [
       "<pre>recommendations finished on 1646000/2088478 queries. users per second: 6122.25</pre>"
      ],
      "text/plain": [
       "recommendations finished on 1646000/2088478 queries. users per second: 6122.25"
      ]
     },
     "metadata": {},
     "output_type": "display_data"
    },
    {
     "data": {
      "text/html": [
       "<pre>recommendations finished on 1647000/2088478 queries. users per second: 6122.41</pre>"
      ],
      "text/plain": [
       "recommendations finished on 1647000/2088478 queries. users per second: 6122.41"
      ]
     },
     "metadata": {},
     "output_type": "display_data"
    },
    {
     "data": {
      "text/html": [
       "<pre>recommendations finished on 1648000/2088478 queries. users per second: 6122.37</pre>"
      ],
      "text/plain": [
       "recommendations finished on 1648000/2088478 queries. users per second: 6122.37"
      ]
     },
     "metadata": {},
     "output_type": "display_data"
    },
    {
     "data": {
      "text/html": [
       "<pre>recommendations finished on 1649000/2088478 queries. users per second: 6122.3</pre>"
      ],
      "text/plain": [
       "recommendations finished on 1649000/2088478 queries. users per second: 6122.3"
      ]
     },
     "metadata": {},
     "output_type": "display_data"
    },
    {
     "data": {
      "text/html": [
       "<pre>recommendations finished on 1650000/2088478 queries. users per second: 6122.21</pre>"
      ],
      "text/plain": [
       "recommendations finished on 1650000/2088478 queries. users per second: 6122.21"
      ]
     },
     "metadata": {},
     "output_type": "display_data"
    },
    {
     "data": {
      "text/html": [
       "<pre>recommendations finished on 1651000/2088478 queries. users per second: 6121.26</pre>"
      ],
      "text/plain": [
       "recommendations finished on 1651000/2088478 queries. users per second: 6121.26"
      ]
     },
     "metadata": {},
     "output_type": "display_data"
    },
    {
     "data": {
      "text/html": [
       "<pre>recommendations finished on 1652000/2088478 queries. users per second: 6120.25</pre>"
      ],
      "text/plain": [
       "recommendations finished on 1652000/2088478 queries. users per second: 6120.25"
      ]
     },
     "metadata": {},
     "output_type": "display_data"
    },
    {
     "data": {
      "text/html": [
       "<pre>recommendations finished on 1653000/2088478 queries. users per second: 6119.62</pre>"
      ],
      "text/plain": [
       "recommendations finished on 1653000/2088478 queries. users per second: 6119.62"
      ]
     },
     "metadata": {},
     "output_type": "display_data"
    },
    {
     "data": {
      "text/html": [
       "<pre>recommendations finished on 1654000/2088478 queries. users per second: 6118.79</pre>"
      ],
      "text/plain": [
       "recommendations finished on 1654000/2088478 queries. users per second: 6118.79"
      ]
     },
     "metadata": {},
     "output_type": "display_data"
    },
    {
     "data": {
      "text/html": [
       "<pre>recommendations finished on 1655000/2088478 queries. users per second: 6117.3</pre>"
      ],
      "text/plain": [
       "recommendations finished on 1655000/2088478 queries. users per second: 6117.3"
      ]
     },
     "metadata": {},
     "output_type": "display_data"
    },
    {
     "data": {
      "text/html": [
       "<pre>recommendations finished on 1656000/2088478 queries. users per second: 6116.07</pre>"
      ],
      "text/plain": [
       "recommendations finished on 1656000/2088478 queries. users per second: 6116.07"
      ]
     },
     "metadata": {},
     "output_type": "display_data"
    },
    {
     "data": {
      "text/html": [
       "<pre>recommendations finished on 1657000/2088478 queries. users per second: 6116.14</pre>"
      ],
      "text/plain": [
       "recommendations finished on 1657000/2088478 queries. users per second: 6116.14"
      ]
     },
     "metadata": {},
     "output_type": "display_data"
    },
    {
     "data": {
      "text/html": [
       "<pre>recommendations finished on 1658000/2088478 queries. users per second: 6115.64</pre>"
      ],
      "text/plain": [
       "recommendations finished on 1658000/2088478 queries. users per second: 6115.64"
      ]
     },
     "metadata": {},
     "output_type": "display_data"
    },
    {
     "data": {
      "text/html": [
       "<pre>recommendations finished on 1659000/2088478 queries. users per second: 6114.82</pre>"
      ],
      "text/plain": [
       "recommendations finished on 1659000/2088478 queries. users per second: 6114.82"
      ]
     },
     "metadata": {},
     "output_type": "display_data"
    },
    {
     "data": {
      "text/html": [
       "<pre>recommendations finished on 1660000/2088478 queries. users per second: 6114.52</pre>"
      ],
      "text/plain": [
       "recommendations finished on 1660000/2088478 queries. users per second: 6114.52"
      ]
     },
     "metadata": {},
     "output_type": "display_data"
    },
    {
     "data": {
      "text/html": [
       "<pre>recommendations finished on 1661000/2088478 queries. users per second: 6113.99</pre>"
      ],
      "text/plain": [
       "recommendations finished on 1661000/2088478 queries. users per second: 6113.99"
      ]
     },
     "metadata": {},
     "output_type": "display_data"
    },
    {
     "data": {
      "text/html": [
       "<pre>recommendations finished on 1662000/2088478 queries. users per second: 6113.6</pre>"
      ],
      "text/plain": [
       "recommendations finished on 1662000/2088478 queries. users per second: 6113.6"
      ]
     },
     "metadata": {},
     "output_type": "display_data"
    },
    {
     "data": {
      "text/html": [
       "<pre>recommendations finished on 1663000/2088478 queries. users per second: 6113.82</pre>"
      ],
      "text/plain": [
       "recommendations finished on 1663000/2088478 queries. users per second: 6113.82"
      ]
     },
     "metadata": {},
     "output_type": "display_data"
    },
    {
     "data": {
      "text/html": [
       "<pre>recommendations finished on 1664000/2088478 queries. users per second: 6113.27</pre>"
      ],
      "text/plain": [
       "recommendations finished on 1664000/2088478 queries. users per second: 6113.27"
      ]
     },
     "metadata": {},
     "output_type": "display_data"
    },
    {
     "data": {
      "text/html": [
       "<pre>recommendations finished on 1665000/2088478 queries. users per second: 6113.53</pre>"
      ],
      "text/plain": [
       "recommendations finished on 1665000/2088478 queries. users per second: 6113.53"
      ]
     },
     "metadata": {},
     "output_type": "display_data"
    },
    {
     "data": {
      "text/html": [
       "<pre>recommendations finished on 1666000/2088478 queries. users per second: 6113.54</pre>"
      ],
      "text/plain": [
       "recommendations finished on 1666000/2088478 queries. users per second: 6113.54"
      ]
     },
     "metadata": {},
     "output_type": "display_data"
    },
    {
     "data": {
      "text/html": [
       "<pre>recommendations finished on 1667000/2088478 queries. users per second: 6113.79</pre>"
      ],
      "text/plain": [
       "recommendations finished on 1667000/2088478 queries. users per second: 6113.79"
      ]
     },
     "metadata": {},
     "output_type": "display_data"
    },
    {
     "data": {
      "text/html": [
       "<pre>recommendations finished on 1668000/2088478 queries. users per second: 6114.24</pre>"
      ],
      "text/plain": [
       "recommendations finished on 1668000/2088478 queries. users per second: 6114.24"
      ]
     },
     "metadata": {},
     "output_type": "display_data"
    },
    {
     "data": {
      "text/html": [
       "<pre>recommendations finished on 1669000/2088478 queries. users per second: 6113.91</pre>"
      ],
      "text/plain": [
       "recommendations finished on 1669000/2088478 queries. users per second: 6113.91"
      ]
     },
     "metadata": {},
     "output_type": "display_data"
    },
    {
     "data": {
      "text/html": [
       "<pre>recommendations finished on 1670000/2088478 queries. users per second: 6114.33</pre>"
      ],
      "text/plain": [
       "recommendations finished on 1670000/2088478 queries. users per second: 6114.33"
      ]
     },
     "metadata": {},
     "output_type": "display_data"
    },
    {
     "data": {
      "text/html": [
       "<pre>recommendations finished on 1671000/2088478 queries. users per second: 6114.62</pre>"
      ],
      "text/plain": [
       "recommendations finished on 1671000/2088478 queries. users per second: 6114.62"
      ]
     },
     "metadata": {},
     "output_type": "display_data"
    },
    {
     "data": {
      "text/html": [
       "<pre>recommendations finished on 1672000/2088478 queries. users per second: 6114.9</pre>"
      ],
      "text/plain": [
       "recommendations finished on 1672000/2088478 queries. users per second: 6114.9"
      ]
     },
     "metadata": {},
     "output_type": "display_data"
    },
    {
     "data": {
      "text/html": [
       "<pre>recommendations finished on 1673000/2088478 queries. users per second: 6115.36</pre>"
      ],
      "text/plain": [
       "recommendations finished on 1673000/2088478 queries. users per second: 6115.36"
      ]
     },
     "metadata": {},
     "output_type": "display_data"
    },
    {
     "data": {
      "text/html": [
       "<pre>recommendations finished on 1674000/2088478 queries. users per second: 6115.69</pre>"
      ],
      "text/plain": [
       "recommendations finished on 1674000/2088478 queries. users per second: 6115.69"
      ]
     },
     "metadata": {},
     "output_type": "display_data"
    },
    {
     "data": {
      "text/html": [
       "<pre>recommendations finished on 1675000/2088478 queries. users per second: 6116.06</pre>"
      ],
      "text/plain": [
       "recommendations finished on 1675000/2088478 queries. users per second: 6116.06"
      ]
     },
     "metadata": {},
     "output_type": "display_data"
    },
    {
     "data": {
      "text/html": [
       "<pre>recommendations finished on 1676000/2088478 queries. users per second: 6116.02</pre>"
      ],
      "text/plain": [
       "recommendations finished on 1676000/2088478 queries. users per second: 6116.02"
      ]
     },
     "metadata": {},
     "output_type": "display_data"
    },
    {
     "data": {
      "text/html": [
       "<pre>recommendations finished on 1677000/2088478 queries. users per second: 6116.34</pre>"
      ],
      "text/plain": [
       "recommendations finished on 1677000/2088478 queries. users per second: 6116.34"
      ]
     },
     "metadata": {},
     "output_type": "display_data"
    },
    {
     "data": {
      "text/html": [
       "<pre>recommendations finished on 1678000/2088478 queries. users per second: 6116.85</pre>"
      ],
      "text/plain": [
       "recommendations finished on 1678000/2088478 queries. users per second: 6116.85"
      ]
     },
     "metadata": {},
     "output_type": "display_data"
    },
    {
     "data": {
      "text/html": [
       "<pre>recommendations finished on 1679000/2088478 queries. users per second: 6117.42</pre>"
      ],
      "text/plain": [
       "recommendations finished on 1679000/2088478 queries. users per second: 6117.42"
      ]
     },
     "metadata": {},
     "output_type": "display_data"
    },
    {
     "data": {
      "text/html": [
       "<pre>recommendations finished on 1680000/2088478 queries. users per second: 6117.79</pre>"
      ],
      "text/plain": [
       "recommendations finished on 1680000/2088478 queries. users per second: 6117.79"
      ]
     },
     "metadata": {},
     "output_type": "display_data"
    },
    {
     "data": {
      "text/html": [
       "<pre>recommendations finished on 1681000/2088478 queries. users per second: 6118.13</pre>"
      ],
      "text/plain": [
       "recommendations finished on 1681000/2088478 queries. users per second: 6118.13"
      ]
     },
     "metadata": {},
     "output_type": "display_data"
    },
    {
     "data": {
      "text/html": [
       "<pre>recommendations finished on 1682000/2088478 queries. users per second: 6118.61</pre>"
      ],
      "text/plain": [
       "recommendations finished on 1682000/2088478 queries. users per second: 6118.61"
      ]
     },
     "metadata": {},
     "output_type": "display_data"
    },
    {
     "data": {
      "text/html": [
       "<pre>recommendations finished on 1683000/2088478 queries. users per second: 6119.05</pre>"
      ],
      "text/plain": [
       "recommendations finished on 1683000/2088478 queries. users per second: 6119.05"
      ]
     },
     "metadata": {},
     "output_type": "display_data"
    },
    {
     "data": {
      "text/html": [
       "<pre>recommendations finished on 1684000/2088478 queries. users per second: 6119.54</pre>"
      ],
      "text/plain": [
       "recommendations finished on 1684000/2088478 queries. users per second: 6119.54"
      ]
     },
     "metadata": {},
     "output_type": "display_data"
    },
    {
     "data": {
      "text/html": [
       "<pre>recommendations finished on 1685000/2088478 queries. users per second: 6119.97</pre>"
      ],
      "text/plain": [
       "recommendations finished on 1685000/2088478 queries. users per second: 6119.97"
      ]
     },
     "metadata": {},
     "output_type": "display_data"
    },
    {
     "data": {
      "text/html": [
       "<pre>recommendations finished on 1686000/2088478 queries. users per second: 6120.23</pre>"
      ],
      "text/plain": [
       "recommendations finished on 1686000/2088478 queries. users per second: 6120.23"
      ]
     },
     "metadata": {},
     "output_type": "display_data"
    },
    {
     "data": {
      "text/html": [
       "<pre>recommendations finished on 1687000/2088478 queries. users per second: 6120.69</pre>"
      ],
      "text/plain": [
       "recommendations finished on 1687000/2088478 queries. users per second: 6120.69"
      ]
     },
     "metadata": {},
     "output_type": "display_data"
    },
    {
     "data": {
      "text/html": [
       "<pre>recommendations finished on 1688000/2088478 queries. users per second: 6120.19</pre>"
      ],
      "text/plain": [
       "recommendations finished on 1688000/2088478 queries. users per second: 6120.19"
      ]
     },
     "metadata": {},
     "output_type": "display_data"
    },
    {
     "data": {
      "text/html": [
       "<pre>recommendations finished on 1689000/2088478 queries. users per second: 6120.43</pre>"
      ],
      "text/plain": [
       "recommendations finished on 1689000/2088478 queries. users per second: 6120.43"
      ]
     },
     "metadata": {},
     "output_type": "display_data"
    },
    {
     "data": {
      "text/html": [
       "<pre>recommendations finished on 1690000/2088478 queries. users per second: 6120.4</pre>"
      ],
      "text/plain": [
       "recommendations finished on 1690000/2088478 queries. users per second: 6120.4"
      ]
     },
     "metadata": {},
     "output_type": "display_data"
    },
    {
     "data": {
      "text/html": [
       "<pre>recommendations finished on 1691000/2088478 queries. users per second: 6120.49</pre>"
      ],
      "text/plain": [
       "recommendations finished on 1691000/2088478 queries. users per second: 6120.49"
      ]
     },
     "metadata": {},
     "output_type": "display_data"
    },
    {
     "data": {
      "text/html": [
       "<pre>recommendations finished on 1692000/2088478 queries. users per second: 6120.47</pre>"
      ],
      "text/plain": [
       "recommendations finished on 1692000/2088478 queries. users per second: 6120.47"
      ]
     },
     "metadata": {},
     "output_type": "display_data"
    },
    {
     "data": {
      "text/html": [
       "<pre>recommendations finished on 1693000/2088478 queries. users per second: 6120.82</pre>"
      ],
      "text/plain": [
       "recommendations finished on 1693000/2088478 queries. users per second: 6120.82"
      ]
     },
     "metadata": {},
     "output_type": "display_data"
    },
    {
     "data": {
      "text/html": [
       "<pre>recommendations finished on 1694000/2088478 queries. users per second: 6121.25</pre>"
      ],
      "text/plain": [
       "recommendations finished on 1694000/2088478 queries. users per second: 6121.25"
      ]
     },
     "metadata": {},
     "output_type": "display_data"
    },
    {
     "data": {
      "text/html": [
       "<pre>recommendations finished on 1695000/2088478 queries. users per second: 6121.84</pre>"
      ],
      "text/plain": [
       "recommendations finished on 1695000/2088478 queries. users per second: 6121.84"
      ]
     },
     "metadata": {},
     "output_type": "display_data"
    },
    {
     "data": {
      "text/html": [
       "<pre>recommendations finished on 1696000/2088478 queries. users per second: 6122.06</pre>"
      ],
      "text/plain": [
       "recommendations finished on 1696000/2088478 queries. users per second: 6122.06"
      ]
     },
     "metadata": {},
     "output_type": "display_data"
    },
    {
     "data": {
      "text/html": [
       "<pre>recommendations finished on 1697000/2088478 queries. users per second: 6122.14</pre>"
      ],
      "text/plain": [
       "recommendations finished on 1697000/2088478 queries. users per second: 6122.14"
      ]
     },
     "metadata": {},
     "output_type": "display_data"
    },
    {
     "data": {
      "text/html": [
       "<pre>recommendations finished on 1698000/2088478 queries. users per second: 6122.51</pre>"
      ],
      "text/plain": [
       "recommendations finished on 1698000/2088478 queries. users per second: 6122.51"
      ]
     },
     "metadata": {},
     "output_type": "display_data"
    },
    {
     "data": {
      "text/html": [
       "<pre>recommendations finished on 1699000/2088478 queries. users per second: 6122.91</pre>"
      ],
      "text/plain": [
       "recommendations finished on 1699000/2088478 queries. users per second: 6122.91"
      ]
     },
     "metadata": {},
     "output_type": "display_data"
    },
    {
     "data": {
      "text/html": [
       "<pre>recommendations finished on 1700000/2088478 queries. users per second: 6123.46</pre>"
      ],
      "text/plain": [
       "recommendations finished on 1700000/2088478 queries. users per second: 6123.46"
      ]
     },
     "metadata": {},
     "output_type": "display_data"
    },
    {
     "data": {
      "text/html": [
       "<pre>recommendations finished on 1701000/2088478 queries. users per second: 6123.67</pre>"
      ],
      "text/plain": [
       "recommendations finished on 1701000/2088478 queries. users per second: 6123.67"
      ]
     },
     "metadata": {},
     "output_type": "display_data"
    },
    {
     "data": {
      "text/html": [
       "<pre>recommendations finished on 1702000/2088478 queries. users per second: 6123.87</pre>"
      ],
      "text/plain": [
       "recommendations finished on 1702000/2088478 queries. users per second: 6123.87"
      ]
     },
     "metadata": {},
     "output_type": "display_data"
    },
    {
     "data": {
      "text/html": [
       "<pre>recommendations finished on 1703000/2088478 queries. users per second: 6123.99</pre>"
      ],
      "text/plain": [
       "recommendations finished on 1703000/2088478 queries. users per second: 6123.99"
      ]
     },
     "metadata": {},
     "output_type": "display_data"
    },
    {
     "data": {
      "text/html": [
       "<pre>recommendations finished on 1704000/2088478 queries. users per second: 6124.55</pre>"
      ],
      "text/plain": [
       "recommendations finished on 1704000/2088478 queries. users per second: 6124.55"
      ]
     },
     "metadata": {},
     "output_type": "display_data"
    },
    {
     "data": {
      "text/html": [
       "<pre>recommendations finished on 1705000/2088478 queries. users per second: 6124.82</pre>"
      ],
      "text/plain": [
       "recommendations finished on 1705000/2088478 queries. users per second: 6124.82"
      ]
     },
     "metadata": {},
     "output_type": "display_data"
    },
    {
     "data": {
      "text/html": [
       "<pre>recommendations finished on 1706000/2088478 queries. users per second: 6125.33</pre>"
      ],
      "text/plain": [
       "recommendations finished on 1706000/2088478 queries. users per second: 6125.33"
      ]
     },
     "metadata": {},
     "output_type": "display_data"
    },
    {
     "data": {
      "text/html": [
       "<pre>recommendations finished on 1707000/2088478 queries. users per second: 6125.8</pre>"
      ],
      "text/plain": [
       "recommendations finished on 1707000/2088478 queries. users per second: 6125.8"
      ]
     },
     "metadata": {},
     "output_type": "display_data"
    },
    {
     "data": {
      "text/html": [
       "<pre>recommendations finished on 1708000/2088478 queries. users per second: 6126.02</pre>"
      ],
      "text/plain": [
       "recommendations finished on 1708000/2088478 queries. users per second: 6126.02"
      ]
     },
     "metadata": {},
     "output_type": "display_data"
    },
    {
     "data": {
      "text/html": [
       "<pre>recommendations finished on 1709000/2088478 queries. users per second: 6126.66</pre>"
      ],
      "text/plain": [
       "recommendations finished on 1709000/2088478 queries. users per second: 6126.66"
      ]
     },
     "metadata": {},
     "output_type": "display_data"
    },
    {
     "data": {
      "text/html": [
       "<pre>recommendations finished on 1710000/2088478 queries. users per second: 6127.2</pre>"
      ],
      "text/plain": [
       "recommendations finished on 1710000/2088478 queries. users per second: 6127.2"
      ]
     },
     "metadata": {},
     "output_type": "display_data"
    },
    {
     "data": {
      "text/html": [
       "<pre>recommendations finished on 1711000/2088478 queries. users per second: 6127.67</pre>"
      ],
      "text/plain": [
       "recommendations finished on 1711000/2088478 queries. users per second: 6127.67"
      ]
     },
     "metadata": {},
     "output_type": "display_data"
    },
    {
     "data": {
      "text/html": [
       "<pre>recommendations finished on 1712000/2088478 queries. users per second: 6127.93</pre>"
      ],
      "text/plain": [
       "recommendations finished on 1712000/2088478 queries. users per second: 6127.93"
      ]
     },
     "metadata": {},
     "output_type": "display_data"
    },
    {
     "data": {
      "text/html": [
       "<pre>recommendations finished on 1713000/2088478 queries. users per second: 6128.34</pre>"
      ],
      "text/plain": [
       "recommendations finished on 1713000/2088478 queries. users per second: 6128.34"
      ]
     },
     "metadata": {},
     "output_type": "display_data"
    },
    {
     "data": {
      "text/html": [
       "<pre>recommendations finished on 1714000/2088478 queries. users per second: 6128.65</pre>"
      ],
      "text/plain": [
       "recommendations finished on 1714000/2088478 queries. users per second: 6128.65"
      ]
     },
     "metadata": {},
     "output_type": "display_data"
    },
    {
     "data": {
      "text/html": [
       "<pre>recommendations finished on 1715000/2088478 queries. users per second: 6128.98</pre>"
      ],
      "text/plain": [
       "recommendations finished on 1715000/2088478 queries. users per second: 6128.98"
      ]
     },
     "metadata": {},
     "output_type": "display_data"
    },
    {
     "data": {
      "text/html": [
       "<pre>recommendations finished on 1716000/2088478 queries. users per second: 6129.35</pre>"
      ],
      "text/plain": [
       "recommendations finished on 1716000/2088478 queries. users per second: 6129.35"
      ]
     },
     "metadata": {},
     "output_type": "display_data"
    },
    {
     "data": {
      "text/html": [
       "<pre>recommendations finished on 1717000/2088478 queries. users per second: 6129.83</pre>"
      ],
      "text/plain": [
       "recommendations finished on 1717000/2088478 queries. users per second: 6129.83"
      ]
     },
     "metadata": {},
     "output_type": "display_data"
    },
    {
     "data": {
      "text/html": [
       "<pre>recommendations finished on 1718000/2088478 queries. users per second: 6130.07</pre>"
      ],
      "text/plain": [
       "recommendations finished on 1718000/2088478 queries. users per second: 6130.07"
      ]
     },
     "metadata": {},
     "output_type": "display_data"
    },
    {
     "data": {
      "text/html": [
       "<pre>recommendations finished on 1719000/2088478 queries. users per second: 6130.49</pre>"
      ],
      "text/plain": [
       "recommendations finished on 1719000/2088478 queries. users per second: 6130.49"
      ]
     },
     "metadata": {},
     "output_type": "display_data"
    },
    {
     "data": {
      "text/html": [
       "<pre>recommendations finished on 1720000/2088478 queries. users per second: 6130.73</pre>"
      ],
      "text/plain": [
       "recommendations finished on 1720000/2088478 queries. users per second: 6130.73"
      ]
     },
     "metadata": {},
     "output_type": "display_data"
    },
    {
     "data": {
      "text/html": [
       "<pre>recommendations finished on 1721000/2088478 queries. users per second: 6131.13</pre>"
      ],
      "text/plain": [
       "recommendations finished on 1721000/2088478 queries. users per second: 6131.13"
      ]
     },
     "metadata": {},
     "output_type": "display_data"
    },
    {
     "data": {
      "text/html": [
       "<pre>recommendations finished on 1722000/2088478 queries. users per second: 6131.4</pre>"
      ],
      "text/plain": [
       "recommendations finished on 1722000/2088478 queries. users per second: 6131.4"
      ]
     },
     "metadata": {},
     "output_type": "display_data"
    },
    {
     "data": {
      "text/html": [
       "<pre>recommendations finished on 1723000/2088478 queries. users per second: 6131.67</pre>"
      ],
      "text/plain": [
       "recommendations finished on 1723000/2088478 queries. users per second: 6131.67"
      ]
     },
     "metadata": {},
     "output_type": "display_data"
    },
    {
     "data": {
      "text/html": [
       "<pre>recommendations finished on 1724000/2088478 queries. users per second: 6132.02</pre>"
      ],
      "text/plain": [
       "recommendations finished on 1724000/2088478 queries. users per second: 6132.02"
      ]
     },
     "metadata": {},
     "output_type": "display_data"
    },
    {
     "data": {
      "text/html": [
       "<pre>recommendations finished on 1725000/2088478 queries. users per second: 6132.26</pre>"
      ],
      "text/plain": [
       "recommendations finished on 1725000/2088478 queries. users per second: 6132.26"
      ]
     },
     "metadata": {},
     "output_type": "display_data"
    },
    {
     "data": {
      "text/html": [
       "<pre>recommendations finished on 1726000/2088478 queries. users per second: 6132.36</pre>"
      ],
      "text/plain": [
       "recommendations finished on 1726000/2088478 queries. users per second: 6132.36"
      ]
     },
     "metadata": {},
     "output_type": "display_data"
    },
    {
     "data": {
      "text/html": [
       "<pre>recommendations finished on 1727000/2088478 queries. users per second: 6132.67</pre>"
      ],
      "text/plain": [
       "recommendations finished on 1727000/2088478 queries. users per second: 6132.67"
      ]
     },
     "metadata": {},
     "output_type": "display_data"
    },
    {
     "data": {
      "text/html": [
       "<pre>recommendations finished on 1728000/2088478 queries. users per second: 6133.06</pre>"
      ],
      "text/plain": [
       "recommendations finished on 1728000/2088478 queries. users per second: 6133.06"
      ]
     },
     "metadata": {},
     "output_type": "display_data"
    },
    {
     "data": {
      "text/html": [
       "<pre>recommendations finished on 1729000/2088478 queries. users per second: 6133.5</pre>"
      ],
      "text/plain": [
       "recommendations finished on 1729000/2088478 queries. users per second: 6133.5"
      ]
     },
     "metadata": {},
     "output_type": "display_data"
    },
    {
     "data": {
      "text/html": [
       "<pre>recommendations finished on 1730000/2088478 queries. users per second: 6133.8</pre>"
      ],
      "text/plain": [
       "recommendations finished on 1730000/2088478 queries. users per second: 6133.8"
      ]
     },
     "metadata": {},
     "output_type": "display_data"
    },
    {
     "data": {
      "text/html": [
       "<pre>recommendations finished on 1731000/2088478 queries. users per second: 6134.14</pre>"
      ],
      "text/plain": [
       "recommendations finished on 1731000/2088478 queries. users per second: 6134.14"
      ]
     },
     "metadata": {},
     "output_type": "display_data"
    },
    {
     "data": {
      "text/html": [
       "<pre>recommendations finished on 1732000/2088478 queries. users per second: 6134.22</pre>"
      ],
      "text/plain": [
       "recommendations finished on 1732000/2088478 queries. users per second: 6134.22"
      ]
     },
     "metadata": {},
     "output_type": "display_data"
    },
    {
     "data": {
      "text/html": [
       "<pre>recommendations finished on 1733000/2088478 queries. users per second: 6134.57</pre>"
      ],
      "text/plain": [
       "recommendations finished on 1733000/2088478 queries. users per second: 6134.57"
      ]
     },
     "metadata": {},
     "output_type": "display_data"
    },
    {
     "data": {
      "text/html": [
       "<pre>recommendations finished on 1734000/2088478 queries. users per second: 6135.09</pre>"
      ],
      "text/plain": [
       "recommendations finished on 1734000/2088478 queries. users per second: 6135.09"
      ]
     },
     "metadata": {},
     "output_type": "display_data"
    },
    {
     "data": {
      "text/html": [
       "<pre>recommendations finished on 1735000/2088478 queries. users per second: 6135.44</pre>"
      ],
      "text/plain": [
       "recommendations finished on 1735000/2088478 queries. users per second: 6135.44"
      ]
     },
     "metadata": {},
     "output_type": "display_data"
    },
    {
     "data": {
      "text/html": [
       "<pre>recommendations finished on 1736000/2088478 queries. users per second: 6135.95</pre>"
      ],
      "text/plain": [
       "recommendations finished on 1736000/2088478 queries. users per second: 6135.95"
      ]
     },
     "metadata": {},
     "output_type": "display_data"
    },
    {
     "data": {
      "text/html": [
       "<pre>recommendations finished on 1737000/2088478 queries. users per second: 6136.48</pre>"
      ],
      "text/plain": [
       "recommendations finished on 1737000/2088478 queries. users per second: 6136.48"
      ]
     },
     "metadata": {},
     "output_type": "display_data"
    },
    {
     "data": {
      "text/html": [
       "<pre>recommendations finished on 1738000/2088478 queries. users per second: 6136.92</pre>"
      ],
      "text/plain": [
       "recommendations finished on 1738000/2088478 queries. users per second: 6136.92"
      ]
     },
     "metadata": {},
     "output_type": "display_data"
    },
    {
     "data": {
      "text/html": [
       "<pre>recommendations finished on 1739000/2088478 queries. users per second: 6137.23</pre>"
      ],
      "text/plain": [
       "recommendations finished on 1739000/2088478 queries. users per second: 6137.23"
      ]
     },
     "metadata": {},
     "output_type": "display_data"
    },
    {
     "data": {
      "text/html": [
       "<pre>recommendations finished on 1740000/2088478 queries. users per second: 6137.75</pre>"
      ],
      "text/plain": [
       "recommendations finished on 1740000/2088478 queries. users per second: 6137.75"
      ]
     },
     "metadata": {},
     "output_type": "display_data"
    },
    {
     "data": {
      "text/html": [
       "<pre>recommendations finished on 1741000/2088478 queries. users per second: 6138.35</pre>"
      ],
      "text/plain": [
       "recommendations finished on 1741000/2088478 queries. users per second: 6138.35"
      ]
     },
     "metadata": {},
     "output_type": "display_data"
    },
    {
     "data": {
      "text/html": [
       "<pre>recommendations finished on 1742000/2088478 queries. users per second: 6138.49</pre>"
      ],
      "text/plain": [
       "recommendations finished on 1742000/2088478 queries. users per second: 6138.49"
      ]
     },
     "metadata": {},
     "output_type": "display_data"
    },
    {
     "data": {
      "text/html": [
       "<pre>recommendations finished on 1743000/2088478 queries. users per second: 6138.19</pre>"
      ],
      "text/plain": [
       "recommendations finished on 1743000/2088478 queries. users per second: 6138.19"
      ]
     },
     "metadata": {},
     "output_type": "display_data"
    },
    {
     "data": {
      "text/html": [
       "<pre>recommendations finished on 1744000/2088478 queries. users per second: 6138.09</pre>"
      ],
      "text/plain": [
       "recommendations finished on 1744000/2088478 queries. users per second: 6138.09"
      ]
     },
     "metadata": {},
     "output_type": "display_data"
    },
    {
     "data": {
      "text/html": [
       "<pre>recommendations finished on 1745000/2088478 queries. users per second: 6138.13</pre>"
      ],
      "text/plain": [
       "recommendations finished on 1745000/2088478 queries. users per second: 6138.13"
      ]
     },
     "metadata": {},
     "output_type": "display_data"
    },
    {
     "data": {
      "text/html": [
       "<pre>recommendations finished on 1746000/2088478 queries. users per second: 6137.67</pre>"
      ],
      "text/plain": [
       "recommendations finished on 1746000/2088478 queries. users per second: 6137.67"
      ]
     },
     "metadata": {},
     "output_type": "display_data"
    },
    {
     "data": {
      "text/html": [
       "<pre>recommendations finished on 1747000/2088478 queries. users per second: 6138.21</pre>"
      ],
      "text/plain": [
       "recommendations finished on 1747000/2088478 queries. users per second: 6138.21"
      ]
     },
     "metadata": {},
     "output_type": "display_data"
    },
    {
     "data": {
      "text/html": [
       "<pre>recommendations finished on 1748000/2088478 queries. users per second: 6138.7</pre>"
      ],
      "text/plain": [
       "recommendations finished on 1748000/2088478 queries. users per second: 6138.7"
      ]
     },
     "metadata": {},
     "output_type": "display_data"
    },
    {
     "data": {
      "text/html": [
       "<pre>recommendations finished on 1749000/2088478 queries. users per second: 6138.61</pre>"
      ],
      "text/plain": [
       "recommendations finished on 1749000/2088478 queries. users per second: 6138.61"
      ]
     },
     "metadata": {},
     "output_type": "display_data"
    },
    {
     "data": {
      "text/html": [
       "<pre>recommendations finished on 1750000/2088478 queries. users per second: 6138.75</pre>"
      ],
      "text/plain": [
       "recommendations finished on 1750000/2088478 queries. users per second: 6138.75"
      ]
     },
     "metadata": {},
     "output_type": "display_data"
    },
    {
     "data": {
      "text/html": [
       "<pre>recommendations finished on 1751000/2088478 queries. users per second: 6139.23</pre>"
      ],
      "text/plain": [
       "recommendations finished on 1751000/2088478 queries. users per second: 6139.23"
      ]
     },
     "metadata": {},
     "output_type": "display_data"
    },
    {
     "data": {
      "text/html": [
       "<pre>recommendations finished on 1752000/2088478 queries. users per second: 6138.41</pre>"
      ],
      "text/plain": [
       "recommendations finished on 1752000/2088478 queries. users per second: 6138.41"
      ]
     },
     "metadata": {},
     "output_type": "display_data"
    },
    {
     "data": {
      "text/html": [
       "<pre>recommendations finished on 1753000/2088478 queries. users per second: 6138.48</pre>"
      ],
      "text/plain": [
       "recommendations finished on 1753000/2088478 queries. users per second: 6138.48"
      ]
     },
     "metadata": {},
     "output_type": "display_data"
    },
    {
     "data": {
      "text/html": [
       "<pre>recommendations finished on 1754000/2088478 queries. users per second: 6137.53</pre>"
      ],
      "text/plain": [
       "recommendations finished on 1754000/2088478 queries. users per second: 6137.53"
      ]
     },
     "metadata": {},
     "output_type": "display_data"
    },
    {
     "data": {
      "text/html": [
       "<pre>recommendations finished on 1755000/2088478 queries. users per second: 6137.67</pre>"
      ],
      "text/plain": [
       "recommendations finished on 1755000/2088478 queries. users per second: 6137.67"
      ]
     },
     "metadata": {},
     "output_type": "display_data"
    },
    {
     "data": {
      "text/html": [
       "<pre>recommendations finished on 1756000/2088478 queries. users per second: 6136.62</pre>"
      ],
      "text/plain": [
       "recommendations finished on 1756000/2088478 queries. users per second: 6136.62"
      ]
     },
     "metadata": {},
     "output_type": "display_data"
    },
    {
     "data": {
      "text/html": [
       "<pre>recommendations finished on 1757000/2088478 queries. users per second: 6136.47</pre>"
      ],
      "text/plain": [
       "recommendations finished on 1757000/2088478 queries. users per second: 6136.47"
      ]
     },
     "metadata": {},
     "output_type": "display_data"
    },
    {
     "data": {
      "text/html": [
       "<pre>recommendations finished on 1758000/2088478 queries. users per second: 6136.26</pre>"
      ],
      "text/plain": [
       "recommendations finished on 1758000/2088478 queries. users per second: 6136.26"
      ]
     },
     "metadata": {},
     "output_type": "display_data"
    },
    {
     "data": {
      "text/html": [
       "<pre>recommendations finished on 1759000/2088478 queries. users per second: 6136.19</pre>"
      ],
      "text/plain": [
       "recommendations finished on 1759000/2088478 queries. users per second: 6136.19"
      ]
     },
     "metadata": {},
     "output_type": "display_data"
    },
    {
     "data": {
      "text/html": [
       "<pre>recommendations finished on 1760000/2088478 queries. users per second: 6136.59</pre>"
      ],
      "text/plain": [
       "recommendations finished on 1760000/2088478 queries. users per second: 6136.59"
      ]
     },
     "metadata": {},
     "output_type": "display_data"
    },
    {
     "data": {
      "text/html": [
       "<pre>recommendations finished on 1761000/2088478 queries. users per second: 6136.64</pre>"
      ],
      "text/plain": [
       "recommendations finished on 1761000/2088478 queries. users per second: 6136.64"
      ]
     },
     "metadata": {},
     "output_type": "display_data"
    },
    {
     "data": {
      "text/html": [
       "<pre>recommendations finished on 1762000/2088478 queries. users per second: 6136.21</pre>"
      ],
      "text/plain": [
       "recommendations finished on 1762000/2088478 queries. users per second: 6136.21"
      ]
     },
     "metadata": {},
     "output_type": "display_data"
    },
    {
     "data": {
      "text/html": [
       "<pre>recommendations finished on 1763000/2088478 queries. users per second: 6136.22</pre>"
      ],
      "text/plain": [
       "recommendations finished on 1763000/2088478 queries. users per second: 6136.22"
      ]
     },
     "metadata": {},
     "output_type": "display_data"
    },
    {
     "data": {
      "text/html": [
       "<pre>recommendations finished on 1764000/2088478 queries. users per second: 6136.39</pre>"
      ],
      "text/plain": [
       "recommendations finished on 1764000/2088478 queries. users per second: 6136.39"
      ]
     },
     "metadata": {},
     "output_type": "display_data"
    },
    {
     "data": {
      "text/html": [
       "<pre>recommendations finished on 1765000/2088478 queries. users per second: 6135.98</pre>"
      ],
      "text/plain": [
       "recommendations finished on 1765000/2088478 queries. users per second: 6135.98"
      ]
     },
     "metadata": {},
     "output_type": "display_data"
    },
    {
     "data": {
      "text/html": [
       "<pre>recommendations finished on 1766000/2088478 queries. users per second: 6136.29</pre>"
      ],
      "text/plain": [
       "recommendations finished on 1766000/2088478 queries. users per second: 6136.29"
      ]
     },
     "metadata": {},
     "output_type": "display_data"
    },
    {
     "data": {
      "text/html": [
       "<pre>recommendations finished on 1767000/2088478 queries. users per second: 6135.97</pre>"
      ],
      "text/plain": [
       "recommendations finished on 1767000/2088478 queries. users per second: 6135.97"
      ]
     },
     "metadata": {},
     "output_type": "display_data"
    },
    {
     "data": {
      "text/html": [
       "<pre>recommendations finished on 1768000/2088478 queries. users per second: 6136.34</pre>"
      ],
      "text/plain": [
       "recommendations finished on 1768000/2088478 queries. users per second: 6136.34"
      ]
     },
     "metadata": {},
     "output_type": "display_data"
    },
    {
     "data": {
      "text/html": [
       "<pre>recommendations finished on 1769000/2088478 queries. users per second: 6136.83</pre>"
      ],
      "text/plain": [
       "recommendations finished on 1769000/2088478 queries. users per second: 6136.83"
      ]
     },
     "metadata": {},
     "output_type": "display_data"
    },
    {
     "data": {
      "text/html": [
       "<pre>recommendations finished on 1770000/2088478 queries. users per second: 6136.73</pre>"
      ],
      "text/plain": [
       "recommendations finished on 1770000/2088478 queries. users per second: 6136.73"
      ]
     },
     "metadata": {},
     "output_type": "display_data"
    },
    {
     "data": {
      "text/html": [
       "<pre>recommendations finished on 1771000/2088478 queries. users per second: 6136.6</pre>"
      ],
      "text/plain": [
       "recommendations finished on 1771000/2088478 queries. users per second: 6136.6"
      ]
     },
     "metadata": {},
     "output_type": "display_data"
    },
    {
     "data": {
      "text/html": [
       "<pre>recommendations finished on 1772000/2088478 queries. users per second: 6136.63</pre>"
      ],
      "text/plain": [
       "recommendations finished on 1772000/2088478 queries. users per second: 6136.63"
      ]
     },
     "metadata": {},
     "output_type": "display_data"
    },
    {
     "data": {
      "text/html": [
       "<pre>recommendations finished on 1773000/2088478 queries. users per second: 6136.94</pre>"
      ],
      "text/plain": [
       "recommendations finished on 1773000/2088478 queries. users per second: 6136.94"
      ]
     },
     "metadata": {},
     "output_type": "display_data"
    },
    {
     "data": {
      "text/html": [
       "<pre>recommendations finished on 1774000/2088478 queries. users per second: 6137.11</pre>"
      ],
      "text/plain": [
       "recommendations finished on 1774000/2088478 queries. users per second: 6137.11"
      ]
     },
     "metadata": {},
     "output_type": "display_data"
    },
    {
     "data": {
      "text/html": [
       "<pre>recommendations finished on 1775000/2088478 queries. users per second: 6136.79</pre>"
      ],
      "text/plain": [
       "recommendations finished on 1775000/2088478 queries. users per second: 6136.79"
      ]
     },
     "metadata": {},
     "output_type": "display_data"
    },
    {
     "data": {
      "text/html": [
       "<pre>recommendations finished on 1776000/2088478 queries. users per second: 6137.17</pre>"
      ],
      "text/plain": [
       "recommendations finished on 1776000/2088478 queries. users per second: 6137.17"
      ]
     },
     "metadata": {},
     "output_type": "display_data"
    },
    {
     "data": {
      "text/html": [
       "<pre>recommendations finished on 1777000/2088478 queries. users per second: 6136.84</pre>"
      ],
      "text/plain": [
       "recommendations finished on 1777000/2088478 queries. users per second: 6136.84"
      ]
     },
     "metadata": {},
     "output_type": "display_data"
    },
    {
     "data": {
      "text/html": [
       "<pre>recommendations finished on 1778000/2088478 queries. users per second: 6136.91</pre>"
      ],
      "text/plain": [
       "recommendations finished on 1778000/2088478 queries. users per second: 6136.91"
      ]
     },
     "metadata": {},
     "output_type": "display_data"
    },
    {
     "data": {
      "text/html": [
       "<pre>recommendations finished on 1779000/2088478 queries. users per second: 6136.72</pre>"
      ],
      "text/plain": [
       "recommendations finished on 1779000/2088478 queries. users per second: 6136.72"
      ]
     },
     "metadata": {},
     "output_type": "display_data"
    },
    {
     "data": {
      "text/html": [
       "<pre>recommendations finished on 1780000/2088478 queries. users per second: 6137.11</pre>"
      ],
      "text/plain": [
       "recommendations finished on 1780000/2088478 queries. users per second: 6137.11"
      ]
     },
     "metadata": {},
     "output_type": "display_data"
    },
    {
     "data": {
      "text/html": [
       "<pre>recommendations finished on 1781000/2088478 queries. users per second: 6136.99</pre>"
      ],
      "text/plain": [
       "recommendations finished on 1781000/2088478 queries. users per second: 6136.99"
      ]
     },
     "metadata": {},
     "output_type": "display_data"
    },
    {
     "data": {
      "text/html": [
       "<pre>recommendations finished on 1782000/2088478 queries. users per second: 6136.57</pre>"
      ],
      "text/plain": [
       "recommendations finished on 1782000/2088478 queries. users per second: 6136.57"
      ]
     },
     "metadata": {},
     "output_type": "display_data"
    },
    {
     "data": {
      "text/html": [
       "<pre>recommendations finished on 1783000/2088478 queries. users per second: 6136.6</pre>"
      ],
      "text/plain": [
       "recommendations finished on 1783000/2088478 queries. users per second: 6136.6"
      ]
     },
     "metadata": {},
     "output_type": "display_data"
    },
    {
     "data": {
      "text/html": [
       "<pre>recommendations finished on 1784000/2088478 queries. users per second: 6136.94</pre>"
      ],
      "text/plain": [
       "recommendations finished on 1784000/2088478 queries. users per second: 6136.94"
      ]
     },
     "metadata": {},
     "output_type": "display_data"
    },
    {
     "data": {
      "text/html": [
       "<pre>recommendations finished on 1785000/2088478 queries. users per second: 6137.18</pre>"
      ],
      "text/plain": [
       "recommendations finished on 1785000/2088478 queries. users per second: 6137.18"
      ]
     },
     "metadata": {},
     "output_type": "display_data"
    },
    {
     "data": {
      "text/html": [
       "<pre>recommendations finished on 1786000/2088478 queries. users per second: 6137.38</pre>"
      ],
      "text/plain": [
       "recommendations finished on 1786000/2088478 queries. users per second: 6137.38"
      ]
     },
     "metadata": {},
     "output_type": "display_data"
    },
    {
     "data": {
      "text/html": [
       "<pre>recommendations finished on 1787000/2088478 queries. users per second: 6137.75</pre>"
      ],
      "text/plain": [
       "recommendations finished on 1787000/2088478 queries. users per second: 6137.75"
      ]
     },
     "metadata": {},
     "output_type": "display_data"
    },
    {
     "data": {
      "text/html": [
       "<pre>recommendations finished on 1788000/2088478 queries. users per second: 6138.06</pre>"
      ],
      "text/plain": [
       "recommendations finished on 1788000/2088478 queries. users per second: 6138.06"
      ]
     },
     "metadata": {},
     "output_type": "display_data"
    },
    {
     "data": {
      "text/html": [
       "<pre>recommendations finished on 1789000/2088478 queries. users per second: 6138.65</pre>"
      ],
      "text/plain": [
       "recommendations finished on 1789000/2088478 queries. users per second: 6138.65"
      ]
     },
     "metadata": {},
     "output_type": "display_data"
    },
    {
     "data": {
      "text/html": [
       "<pre>recommendations finished on 1790000/2088478 queries. users per second: 6139.25</pre>"
      ],
      "text/plain": [
       "recommendations finished on 1790000/2088478 queries. users per second: 6139.25"
      ]
     },
     "metadata": {},
     "output_type": "display_data"
    },
    {
     "data": {
      "text/html": [
       "<pre>recommendations finished on 1791000/2088478 queries. users per second: 6139.66</pre>"
      ],
      "text/plain": [
       "recommendations finished on 1791000/2088478 queries. users per second: 6139.66"
      ]
     },
     "metadata": {},
     "output_type": "display_data"
    },
    {
     "data": {
      "text/html": [
       "<pre>recommendations finished on 1792000/2088478 queries. users per second: 6139.93</pre>"
      ],
      "text/plain": [
       "recommendations finished on 1792000/2088478 queries. users per second: 6139.93"
      ]
     },
     "metadata": {},
     "output_type": "display_data"
    },
    {
     "data": {
      "text/html": [
       "<pre>recommendations finished on 1793000/2088478 queries. users per second: 6140.47</pre>"
      ],
      "text/plain": [
       "recommendations finished on 1793000/2088478 queries. users per second: 6140.47"
      ]
     },
     "metadata": {},
     "output_type": "display_data"
    },
    {
     "data": {
      "text/html": [
       "<pre>recommendations finished on 1794000/2088478 queries. users per second: 6140.54</pre>"
      ],
      "text/plain": [
       "recommendations finished on 1794000/2088478 queries. users per second: 6140.54"
      ]
     },
     "metadata": {},
     "output_type": "display_data"
    },
    {
     "data": {
      "text/html": [
       "<pre>recommendations finished on 1795000/2088478 queries. users per second: 6140.94</pre>"
      ],
      "text/plain": [
       "recommendations finished on 1795000/2088478 queries. users per second: 6140.94"
      ]
     },
     "metadata": {},
     "output_type": "display_data"
    },
    {
     "data": {
      "text/html": [
       "<pre>recommendations finished on 1796000/2088478 queries. users per second: 6140.89</pre>"
      ],
      "text/plain": [
       "recommendations finished on 1796000/2088478 queries. users per second: 6140.89"
      ]
     },
     "metadata": {},
     "output_type": "display_data"
    },
    {
     "data": {
      "text/html": [
       "<pre>recommendations finished on 1797000/2088478 queries. users per second: 6140.92</pre>"
      ],
      "text/plain": [
       "recommendations finished on 1797000/2088478 queries. users per second: 6140.92"
      ]
     },
     "metadata": {},
     "output_type": "display_data"
    },
    {
     "data": {
      "text/html": [
       "<pre>recommendations finished on 1798000/2088478 queries. users per second: 6141.42</pre>"
      ],
      "text/plain": [
       "recommendations finished on 1798000/2088478 queries. users per second: 6141.42"
      ]
     },
     "metadata": {},
     "output_type": "display_data"
    },
    {
     "data": {
      "text/html": [
       "<pre>recommendations finished on 1799000/2088478 queries. users per second: 6141.91</pre>"
      ],
      "text/plain": [
       "recommendations finished on 1799000/2088478 queries. users per second: 6141.91"
      ]
     },
     "metadata": {},
     "output_type": "display_data"
    },
    {
     "data": {
      "text/html": [
       "<pre>recommendations finished on 1800000/2088478 queries. users per second: 6142.23</pre>"
      ],
      "text/plain": [
       "recommendations finished on 1800000/2088478 queries. users per second: 6142.23"
      ]
     },
     "metadata": {},
     "output_type": "display_data"
    },
    {
     "data": {
      "text/html": [
       "<pre>recommendations finished on 1801000/2088478 queries. users per second: 6142.66</pre>"
      ],
      "text/plain": [
       "recommendations finished on 1801000/2088478 queries. users per second: 6142.66"
      ]
     },
     "metadata": {},
     "output_type": "display_data"
    },
    {
     "data": {
      "text/html": [
       "<pre>recommendations finished on 1802000/2088478 queries. users per second: 6142.83</pre>"
      ],
      "text/plain": [
       "recommendations finished on 1802000/2088478 queries. users per second: 6142.83"
      ]
     },
     "metadata": {},
     "output_type": "display_data"
    },
    {
     "data": {
      "text/html": [
       "<pre>recommendations finished on 1803000/2088478 queries. users per second: 6143.02</pre>"
      ],
      "text/plain": [
       "recommendations finished on 1803000/2088478 queries. users per second: 6143.02"
      ]
     },
     "metadata": {},
     "output_type": "display_data"
    },
    {
     "data": {
      "text/html": [
       "<pre>recommendations finished on 1804000/2088478 queries. users per second: 6143.35</pre>"
      ],
      "text/plain": [
       "recommendations finished on 1804000/2088478 queries. users per second: 6143.35"
      ]
     },
     "metadata": {},
     "output_type": "display_data"
    },
    {
     "data": {
      "text/html": [
       "<pre>recommendations finished on 1805000/2088478 queries. users per second: 6143.41</pre>"
      ],
      "text/plain": [
       "recommendations finished on 1805000/2088478 queries. users per second: 6143.41"
      ]
     },
     "metadata": {},
     "output_type": "display_data"
    },
    {
     "data": {
      "text/html": [
       "<pre>recommendations finished on 1806000/2088478 queries. users per second: 6143.57</pre>"
      ],
      "text/plain": [
       "recommendations finished on 1806000/2088478 queries. users per second: 6143.57"
      ]
     },
     "metadata": {},
     "output_type": "display_data"
    },
    {
     "data": {
      "text/html": [
       "<pre>recommendations finished on 1807000/2088478 queries. users per second: 6143.93</pre>"
      ],
      "text/plain": [
       "recommendations finished on 1807000/2088478 queries. users per second: 6143.93"
      ]
     },
     "metadata": {},
     "output_type": "display_data"
    },
    {
     "data": {
      "text/html": [
       "<pre>recommendations finished on 1808000/2088478 queries. users per second: 6143.95</pre>"
      ],
      "text/plain": [
       "recommendations finished on 1808000/2088478 queries. users per second: 6143.95"
      ]
     },
     "metadata": {},
     "output_type": "display_data"
    },
    {
     "data": {
      "text/html": [
       "<pre>recommendations finished on 1809000/2088478 queries. users per second: 6144.05</pre>"
      ],
      "text/plain": [
       "recommendations finished on 1809000/2088478 queries. users per second: 6144.05"
      ]
     },
     "metadata": {},
     "output_type": "display_data"
    },
    {
     "data": {
      "text/html": [
       "<pre>recommendations finished on 1810000/2088478 queries. users per second: 6144.21</pre>"
      ],
      "text/plain": [
       "recommendations finished on 1810000/2088478 queries. users per second: 6144.21"
      ]
     },
     "metadata": {},
     "output_type": "display_data"
    },
    {
     "data": {
      "text/html": [
       "<pre>recommendations finished on 1811000/2088478 queries. users per second: 6144.38</pre>"
      ],
      "text/plain": [
       "recommendations finished on 1811000/2088478 queries. users per second: 6144.38"
      ]
     },
     "metadata": {},
     "output_type": "display_data"
    },
    {
     "data": {
      "text/html": [
       "<pre>recommendations finished on 1812000/2088478 queries. users per second: 6144.49</pre>"
      ],
      "text/plain": [
       "recommendations finished on 1812000/2088478 queries. users per second: 6144.49"
      ]
     },
     "metadata": {},
     "output_type": "display_data"
    },
    {
     "data": {
      "text/html": [
       "<pre>recommendations finished on 1813000/2088478 queries. users per second: 6144.74</pre>"
      ],
      "text/plain": [
       "recommendations finished on 1813000/2088478 queries. users per second: 6144.74"
      ]
     },
     "metadata": {},
     "output_type": "display_data"
    },
    {
     "data": {
      "text/html": [
       "<pre>recommendations finished on 1814000/2088478 queries. users per second: 6144.97</pre>"
      ],
      "text/plain": [
       "recommendations finished on 1814000/2088478 queries. users per second: 6144.97"
      ]
     },
     "metadata": {},
     "output_type": "display_data"
    },
    {
     "data": {
      "text/html": [
       "<pre>recommendations finished on 1815000/2088478 queries. users per second: 6144.55</pre>"
      ],
      "text/plain": [
       "recommendations finished on 1815000/2088478 queries. users per second: 6144.55"
      ]
     },
     "metadata": {},
     "output_type": "display_data"
    },
    {
     "data": {
      "text/html": [
       "<pre>recommendations finished on 1816000/2088478 queries. users per second: 6144.9</pre>"
      ],
      "text/plain": [
       "recommendations finished on 1816000/2088478 queries. users per second: 6144.9"
      ]
     },
     "metadata": {},
     "output_type": "display_data"
    },
    {
     "data": {
      "text/html": [
       "<pre>recommendations finished on 1817000/2088478 queries. users per second: 6145.29</pre>"
      ],
      "text/plain": [
       "recommendations finished on 1817000/2088478 queries. users per second: 6145.29"
      ]
     },
     "metadata": {},
     "output_type": "display_data"
    },
    {
     "data": {
      "text/html": [
       "<pre>recommendations finished on 1818000/2088478 queries. users per second: 6145.6</pre>"
      ],
      "text/plain": [
       "recommendations finished on 1818000/2088478 queries. users per second: 6145.6"
      ]
     },
     "metadata": {},
     "output_type": "display_data"
    },
    {
     "data": {
      "text/html": [
       "<pre>recommendations finished on 1819000/2088478 queries. users per second: 6145.98</pre>"
      ],
      "text/plain": [
       "recommendations finished on 1819000/2088478 queries. users per second: 6145.98"
      ]
     },
     "metadata": {},
     "output_type": "display_data"
    },
    {
     "data": {
      "text/html": [
       "<pre>recommendations finished on 1820000/2088478 queries. users per second: 6146.34</pre>"
      ],
      "text/plain": [
       "recommendations finished on 1820000/2088478 queries. users per second: 6146.34"
      ]
     },
     "metadata": {},
     "output_type": "display_data"
    },
    {
     "data": {
      "text/html": [
       "<pre>recommendations finished on 1821000/2088478 queries. users per second: 6146.56</pre>"
      ],
      "text/plain": [
       "recommendations finished on 1821000/2088478 queries. users per second: 6146.56"
      ]
     },
     "metadata": {},
     "output_type": "display_data"
    },
    {
     "data": {
      "text/html": [
       "<pre>recommendations finished on 1822000/2088478 queries. users per second: 6146.95</pre>"
      ],
      "text/plain": [
       "recommendations finished on 1822000/2088478 queries. users per second: 6146.95"
      ]
     },
     "metadata": {},
     "output_type": "display_data"
    },
    {
     "data": {
      "text/html": [
       "<pre>recommendations finished on 1823000/2088478 queries. users per second: 6147.24</pre>"
      ],
      "text/plain": [
       "recommendations finished on 1823000/2088478 queries. users per second: 6147.24"
      ]
     },
     "metadata": {},
     "output_type": "display_data"
    },
    {
     "data": {
      "text/html": [
       "<pre>recommendations finished on 1824000/2088478 queries. users per second: 6147.59</pre>"
      ],
      "text/plain": [
       "recommendations finished on 1824000/2088478 queries. users per second: 6147.59"
      ]
     },
     "metadata": {},
     "output_type": "display_data"
    },
    {
     "data": {
      "text/html": [
       "<pre>recommendations finished on 1825000/2088478 queries. users per second: 6147.34</pre>"
      ],
      "text/plain": [
       "recommendations finished on 1825000/2088478 queries. users per second: 6147.34"
      ]
     },
     "metadata": {},
     "output_type": "display_data"
    },
    {
     "data": {
      "text/html": [
       "<pre>recommendations finished on 1826000/2088478 queries. users per second: 6147.85</pre>"
      ],
      "text/plain": [
       "recommendations finished on 1826000/2088478 queries. users per second: 6147.85"
      ]
     },
     "metadata": {},
     "output_type": "display_data"
    },
    {
     "data": {
      "text/html": [
       "<pre>recommendations finished on 1827000/2088478 queries. users per second: 6148.34</pre>"
      ],
      "text/plain": [
       "recommendations finished on 1827000/2088478 queries. users per second: 6148.34"
      ]
     },
     "metadata": {},
     "output_type": "display_data"
    },
    {
     "data": {
      "text/html": [
       "<pre>recommendations finished on 1828000/2088478 queries. users per second: 6148.64</pre>"
      ],
      "text/plain": [
       "recommendations finished on 1828000/2088478 queries. users per second: 6148.64"
      ]
     },
     "metadata": {},
     "output_type": "display_data"
    },
    {
     "data": {
      "text/html": [
       "<pre>recommendations finished on 1829000/2088478 queries. users per second: 6148.88</pre>"
      ],
      "text/plain": [
       "recommendations finished on 1829000/2088478 queries. users per second: 6148.88"
      ]
     },
     "metadata": {},
     "output_type": "display_data"
    },
    {
     "data": {
      "text/html": [
       "<pre>recommendations finished on 1830000/2088478 queries. users per second: 6147.65</pre>"
      ],
      "text/plain": [
       "recommendations finished on 1830000/2088478 queries. users per second: 6147.65"
      ]
     },
     "metadata": {},
     "output_type": "display_data"
    },
    {
     "data": {
      "text/html": [
       "<pre>recommendations finished on 1831000/2088478 queries. users per second: 6147.64</pre>"
      ],
      "text/plain": [
       "recommendations finished on 1831000/2088478 queries. users per second: 6147.64"
      ]
     },
     "metadata": {},
     "output_type": "display_data"
    },
    {
     "data": {
      "text/html": [
       "<pre>recommendations finished on 1832000/2088478 queries. users per second: 6147.86</pre>"
      ],
      "text/plain": [
       "recommendations finished on 1832000/2088478 queries. users per second: 6147.86"
      ]
     },
     "metadata": {},
     "output_type": "display_data"
    },
    {
     "data": {
      "text/html": [
       "<pre>recommendations finished on 1833000/2088478 queries. users per second: 6147.23</pre>"
      ],
      "text/plain": [
       "recommendations finished on 1833000/2088478 queries. users per second: 6147.23"
      ]
     },
     "metadata": {},
     "output_type": "display_data"
    },
    {
     "data": {
      "text/html": [
       "<pre>recommendations finished on 1834000/2088478 queries. users per second: 6146.72</pre>"
      ],
      "text/plain": [
       "recommendations finished on 1834000/2088478 queries. users per second: 6146.72"
      ]
     },
     "metadata": {},
     "output_type": "display_data"
    },
    {
     "data": {
      "text/html": [
       "<pre>recommendations finished on 1835000/2088478 queries. users per second: 6145.9</pre>"
      ],
      "text/plain": [
       "recommendations finished on 1835000/2088478 queries. users per second: 6145.9"
      ]
     },
     "metadata": {},
     "output_type": "display_data"
    },
    {
     "data": {
      "text/html": [
       "<pre>recommendations finished on 1836000/2088478 queries. users per second: 6145.5</pre>"
      ],
      "text/plain": [
       "recommendations finished on 1836000/2088478 queries. users per second: 6145.5"
      ]
     },
     "metadata": {},
     "output_type": "display_data"
    },
    {
     "data": {
      "text/html": [
       "<pre>recommendations finished on 1837000/2088478 queries. users per second: 6145.83</pre>"
      ],
      "text/plain": [
       "recommendations finished on 1837000/2088478 queries. users per second: 6145.83"
      ]
     },
     "metadata": {},
     "output_type": "display_data"
    },
    {
     "data": {
      "text/html": [
       "<pre>recommendations finished on 1838000/2088478 queries. users per second: 6145.63</pre>"
      ],
      "text/plain": [
       "recommendations finished on 1838000/2088478 queries. users per second: 6145.63"
      ]
     },
     "metadata": {},
     "output_type": "display_data"
    },
    {
     "data": {
      "text/html": [
       "<pre>recommendations finished on 1839000/2088478 queries. users per second: 6144.28</pre>"
      ],
      "text/plain": [
       "recommendations finished on 1839000/2088478 queries. users per second: 6144.28"
      ]
     },
     "metadata": {},
     "output_type": "display_data"
    },
    {
     "data": {
      "text/html": [
       "<pre>recommendations finished on 1840000/2088478 queries. users per second: 6143.81</pre>"
      ],
      "text/plain": [
       "recommendations finished on 1840000/2088478 queries. users per second: 6143.81"
      ]
     },
     "metadata": {},
     "output_type": "display_data"
    },
    {
     "data": {
      "text/html": [
       "<pre>recommendations finished on 1841000/2088478 queries. users per second: 6144.16</pre>"
      ],
      "text/plain": [
       "recommendations finished on 1841000/2088478 queries. users per second: 6144.16"
      ]
     },
     "metadata": {},
     "output_type": "display_data"
    },
    {
     "data": {
      "text/html": [
       "<pre>recommendations finished on 1842000/2088478 queries. users per second: 6144.24</pre>"
      ],
      "text/plain": [
       "recommendations finished on 1842000/2088478 queries. users per second: 6144.24"
      ]
     },
     "metadata": {},
     "output_type": "display_data"
    },
    {
     "data": {
      "text/html": [
       "<pre>recommendations finished on 1843000/2088478 queries. users per second: 6144.17</pre>"
      ],
      "text/plain": [
       "recommendations finished on 1843000/2088478 queries. users per second: 6144.17"
      ]
     },
     "metadata": {},
     "output_type": "display_data"
    },
    {
     "data": {
      "text/html": [
       "<pre>recommendations finished on 1844000/2088478 queries. users per second: 6144.54</pre>"
      ],
      "text/plain": [
       "recommendations finished on 1844000/2088478 queries. users per second: 6144.54"
      ]
     },
     "metadata": {},
     "output_type": "display_data"
    },
    {
     "data": {
      "text/html": [
       "<pre>recommendations finished on 1845000/2088478 queries. users per second: 6144.31</pre>"
      ],
      "text/plain": [
       "recommendations finished on 1845000/2088478 queries. users per second: 6144.31"
      ]
     },
     "metadata": {},
     "output_type": "display_data"
    },
    {
     "data": {
      "text/html": [
       "<pre>recommendations finished on 1846000/2088478 queries. users per second: 6144.41</pre>"
      ],
      "text/plain": [
       "recommendations finished on 1846000/2088478 queries. users per second: 6144.41"
      ]
     },
     "metadata": {},
     "output_type": "display_data"
    },
    {
     "data": {
      "text/html": [
       "<pre>recommendations finished on 1847000/2088478 queries. users per second: 6144.18</pre>"
      ],
      "text/plain": [
       "recommendations finished on 1847000/2088478 queries. users per second: 6144.18"
      ]
     },
     "metadata": {},
     "output_type": "display_data"
    },
    {
     "data": {
      "text/html": [
       "<pre>recommendations finished on 1848000/2088478 queries. users per second: 6144.32</pre>"
      ],
      "text/plain": [
       "recommendations finished on 1848000/2088478 queries. users per second: 6144.32"
      ]
     },
     "metadata": {},
     "output_type": "display_data"
    },
    {
     "data": {
      "text/html": [
       "<pre>recommendations finished on 1849000/2088478 queries. users per second: 6143.84</pre>"
      ],
      "text/plain": [
       "recommendations finished on 1849000/2088478 queries. users per second: 6143.84"
      ]
     },
     "metadata": {},
     "output_type": "display_data"
    },
    {
     "data": {
      "text/html": [
       "<pre>recommendations finished on 1850000/2088478 queries. users per second: 6143.62</pre>"
      ],
      "text/plain": [
       "recommendations finished on 1850000/2088478 queries. users per second: 6143.62"
      ]
     },
     "metadata": {},
     "output_type": "display_data"
    },
    {
     "data": {
      "text/html": [
       "<pre>recommendations finished on 1851000/2088478 queries. users per second: 6143.95</pre>"
      ],
      "text/plain": [
       "recommendations finished on 1851000/2088478 queries. users per second: 6143.95"
      ]
     },
     "metadata": {},
     "output_type": "display_data"
    },
    {
     "data": {
      "text/html": [
       "<pre>recommendations finished on 1852000/2088478 queries. users per second: 6144.32</pre>"
      ],
      "text/plain": [
       "recommendations finished on 1852000/2088478 queries. users per second: 6144.32"
      ]
     },
     "metadata": {},
     "output_type": "display_data"
    },
    {
     "data": {
      "text/html": [
       "<pre>recommendations finished on 1853000/2088478 queries. users per second: 6144.69</pre>"
      ],
      "text/plain": [
       "recommendations finished on 1853000/2088478 queries. users per second: 6144.69"
      ]
     },
     "metadata": {},
     "output_type": "display_data"
    },
    {
     "data": {
      "text/html": [
       "<pre>recommendations finished on 1854000/2088478 queries. users per second: 6144.97</pre>"
      ],
      "text/plain": [
       "recommendations finished on 1854000/2088478 queries. users per second: 6144.97"
      ]
     },
     "metadata": {},
     "output_type": "display_data"
    },
    {
     "data": {
      "text/html": [
       "<pre>recommendations finished on 1855000/2088478 queries. users per second: 6145.23</pre>"
      ],
      "text/plain": [
       "recommendations finished on 1855000/2088478 queries. users per second: 6145.23"
      ]
     },
     "metadata": {},
     "output_type": "display_data"
    },
    {
     "data": {
      "text/html": [
       "<pre>recommendations finished on 1856000/2088478 queries. users per second: 6144.97</pre>"
      ],
      "text/plain": [
       "recommendations finished on 1856000/2088478 queries. users per second: 6144.97"
      ]
     },
     "metadata": {},
     "output_type": "display_data"
    },
    {
     "data": {
      "text/html": [
       "<pre>recommendations finished on 1857000/2088478 queries. users per second: 6145.12</pre>"
      ],
      "text/plain": [
       "recommendations finished on 1857000/2088478 queries. users per second: 6145.12"
      ]
     },
     "metadata": {},
     "output_type": "display_data"
    },
    {
     "data": {
      "text/html": [
       "<pre>recommendations finished on 1858000/2088478 queries. users per second: 6145.15</pre>"
      ],
      "text/plain": [
       "recommendations finished on 1858000/2088478 queries. users per second: 6145.15"
      ]
     },
     "metadata": {},
     "output_type": "display_data"
    },
    {
     "data": {
      "text/html": [
       "<pre>recommendations finished on 1859000/2088478 queries. users per second: 6145</pre>"
      ],
      "text/plain": [
       "recommendations finished on 1859000/2088478 queries. users per second: 6145"
      ]
     },
     "metadata": {},
     "output_type": "display_data"
    },
    {
     "data": {
      "text/html": [
       "<pre>recommendations finished on 1860000/2088478 queries. users per second: 6145.14</pre>"
      ],
      "text/plain": [
       "recommendations finished on 1860000/2088478 queries. users per second: 6145.14"
      ]
     },
     "metadata": {},
     "output_type": "display_data"
    },
    {
     "data": {
      "text/html": [
       "<pre>recommendations finished on 1861000/2088478 queries. users per second: 6145.01</pre>"
      ],
      "text/plain": [
       "recommendations finished on 1861000/2088478 queries. users per second: 6145.01"
      ]
     },
     "metadata": {},
     "output_type": "display_data"
    },
    {
     "data": {
      "text/html": [
       "<pre>recommendations finished on 1862000/2088478 queries. users per second: 6145.13</pre>"
      ],
      "text/plain": [
       "recommendations finished on 1862000/2088478 queries. users per second: 6145.13"
      ]
     },
     "metadata": {},
     "output_type": "display_data"
    },
    {
     "data": {
      "text/html": [
       "<pre>recommendations finished on 1863000/2088478 queries. users per second: 6145.29</pre>"
      ],
      "text/plain": [
       "recommendations finished on 1863000/2088478 queries. users per second: 6145.29"
      ]
     },
     "metadata": {},
     "output_type": "display_data"
    },
    {
     "data": {
      "text/html": [
       "<pre>recommendations finished on 1864000/2088478 queries. users per second: 6144.9</pre>"
      ],
      "text/plain": [
       "recommendations finished on 1864000/2088478 queries. users per second: 6144.9"
      ]
     },
     "metadata": {},
     "output_type": "display_data"
    },
    {
     "data": {
      "text/html": [
       "<pre>recommendations finished on 1865000/2088478 queries. users per second: 6145.21</pre>"
      ],
      "text/plain": [
       "recommendations finished on 1865000/2088478 queries. users per second: 6145.21"
      ]
     },
     "metadata": {},
     "output_type": "display_data"
    },
    {
     "data": {
      "text/html": [
       "<pre>recommendations finished on 1866000/2088478 queries. users per second: 6144.99</pre>"
      ],
      "text/plain": [
       "recommendations finished on 1866000/2088478 queries. users per second: 6144.99"
      ]
     },
     "metadata": {},
     "output_type": "display_data"
    },
    {
     "data": {
      "text/html": [
       "<pre>recommendations finished on 1867000/2088478 queries. users per second: 6145.02</pre>"
      ],
      "text/plain": [
       "recommendations finished on 1867000/2088478 queries. users per second: 6145.02"
      ]
     },
     "metadata": {},
     "output_type": "display_data"
    },
    {
     "data": {
      "text/html": [
       "<pre>recommendations finished on 1868000/2088478 queries. users per second: 6145.35</pre>"
      ],
      "text/plain": [
       "recommendations finished on 1868000/2088478 queries. users per second: 6145.35"
      ]
     },
     "metadata": {},
     "output_type": "display_data"
    },
    {
     "data": {
      "text/html": [
       "<pre>recommendations finished on 1869000/2088478 queries. users per second: 6145.79</pre>"
      ],
      "text/plain": [
       "recommendations finished on 1869000/2088478 queries. users per second: 6145.79"
      ]
     },
     "metadata": {},
     "output_type": "display_data"
    },
    {
     "data": {
      "text/html": [
       "<pre>recommendations finished on 1870000/2088478 queries. users per second: 6146.33</pre>"
      ],
      "text/plain": [
       "recommendations finished on 1870000/2088478 queries. users per second: 6146.33"
      ]
     },
     "metadata": {},
     "output_type": "display_data"
    },
    {
     "data": {
      "text/html": [
       "<pre>recommendations finished on 1871000/2088478 queries. users per second: 6146.88</pre>"
      ],
      "text/plain": [
       "recommendations finished on 1871000/2088478 queries. users per second: 6146.88"
      ]
     },
     "metadata": {},
     "output_type": "display_data"
    },
    {
     "data": {
      "text/html": [
       "<pre>recommendations finished on 1872000/2088478 queries. users per second: 6147.35</pre>"
      ],
      "text/plain": [
       "recommendations finished on 1872000/2088478 queries. users per second: 6147.35"
      ]
     },
     "metadata": {},
     "output_type": "display_data"
    },
    {
     "data": {
      "text/html": [
       "<pre>recommendations finished on 1873000/2088478 queries. users per second: 6147.88</pre>"
      ],
      "text/plain": [
       "recommendations finished on 1873000/2088478 queries. users per second: 6147.88"
      ]
     },
     "metadata": {},
     "output_type": "display_data"
    },
    {
     "data": {
      "text/html": [
       "<pre>recommendations finished on 1874000/2088478 queries. users per second: 6148.36</pre>"
      ],
      "text/plain": [
       "recommendations finished on 1874000/2088478 queries. users per second: 6148.36"
      ]
     },
     "metadata": {},
     "output_type": "display_data"
    },
    {
     "data": {
      "text/html": [
       "<pre>recommendations finished on 1875000/2088478 queries. users per second: 6148.9</pre>"
      ],
      "text/plain": [
       "recommendations finished on 1875000/2088478 queries. users per second: 6148.9"
      ]
     },
     "metadata": {},
     "output_type": "display_data"
    },
    {
     "data": {
      "text/html": [
       "<pre>recommendations finished on 1876000/2088478 queries. users per second: 6149.28</pre>"
      ],
      "text/plain": [
       "recommendations finished on 1876000/2088478 queries. users per second: 6149.28"
      ]
     },
     "metadata": {},
     "output_type": "display_data"
    },
    {
     "data": {
      "text/html": [
       "<pre>recommendations finished on 1877000/2088478 queries. users per second: 6149.31</pre>"
      ],
      "text/plain": [
       "recommendations finished on 1877000/2088478 queries. users per second: 6149.31"
      ]
     },
     "metadata": {},
     "output_type": "display_data"
    },
    {
     "data": {
      "text/html": [
       "<pre>recommendations finished on 1878000/2088478 queries. users per second: 6149.44</pre>"
      ],
      "text/plain": [
       "recommendations finished on 1878000/2088478 queries. users per second: 6149.44"
      ]
     },
     "metadata": {},
     "output_type": "display_data"
    },
    {
     "data": {
      "text/html": [
       "<pre>recommendations finished on 1879000/2088478 queries. users per second: 6149.42</pre>"
      ],
      "text/plain": [
       "recommendations finished on 1879000/2088478 queries. users per second: 6149.42"
      ]
     },
     "metadata": {},
     "output_type": "display_data"
    },
    {
     "data": {
      "text/html": [
       "<pre>recommendations finished on 1880000/2088478 queries. users per second: 6149.76</pre>"
      ],
      "text/plain": [
       "recommendations finished on 1880000/2088478 queries. users per second: 6149.76"
      ]
     },
     "metadata": {},
     "output_type": "display_data"
    },
    {
     "data": {
      "text/html": [
       "<pre>recommendations finished on 1881000/2088478 queries. users per second: 6149.89</pre>"
      ],
      "text/plain": [
       "recommendations finished on 1881000/2088478 queries. users per second: 6149.89"
      ]
     },
     "metadata": {},
     "output_type": "display_data"
    },
    {
     "data": {
      "text/html": [
       "<pre>recommendations finished on 1882000/2088478 queries. users per second: 6150.19</pre>"
      ],
      "text/plain": [
       "recommendations finished on 1882000/2088478 queries. users per second: 6150.19"
      ]
     },
     "metadata": {},
     "output_type": "display_data"
    },
    {
     "data": {
      "text/html": [
       "<pre>recommendations finished on 1883000/2088478 queries. users per second: 6150.24</pre>"
      ],
      "text/plain": [
       "recommendations finished on 1883000/2088478 queries. users per second: 6150.24"
      ]
     },
     "metadata": {},
     "output_type": "display_data"
    },
    {
     "data": {
      "text/html": [
       "<pre>recommendations finished on 1884000/2088478 queries. users per second: 6150.61</pre>"
      ],
      "text/plain": [
       "recommendations finished on 1884000/2088478 queries. users per second: 6150.61"
      ]
     },
     "metadata": {},
     "output_type": "display_data"
    },
    {
     "data": {
      "text/html": [
       "<pre>recommendations finished on 1885000/2088478 queries. users per second: 6150.72</pre>"
      ],
      "text/plain": [
       "recommendations finished on 1885000/2088478 queries. users per second: 6150.72"
      ]
     },
     "metadata": {},
     "output_type": "display_data"
    },
    {
     "data": {
      "text/html": [
       "<pre>recommendations finished on 1886000/2088478 queries. users per second: 6151.02</pre>"
      ],
      "text/plain": [
       "recommendations finished on 1886000/2088478 queries. users per second: 6151.02"
      ]
     },
     "metadata": {},
     "output_type": "display_data"
    },
    {
     "data": {
      "text/html": [
       "<pre>recommendations finished on 1887000/2088478 queries. users per second: 6151.43</pre>"
      ],
      "text/plain": [
       "recommendations finished on 1887000/2088478 queries. users per second: 6151.43"
      ]
     },
     "metadata": {},
     "output_type": "display_data"
    },
    {
     "data": {
      "text/html": [
       "<pre>recommendations finished on 1888000/2088478 queries. users per second: 6151.87</pre>"
      ],
      "text/plain": [
       "recommendations finished on 1888000/2088478 queries. users per second: 6151.87"
      ]
     },
     "metadata": {},
     "output_type": "display_data"
    },
    {
     "data": {
      "text/html": [
       "<pre>recommendations finished on 1889000/2088478 queries. users per second: 6152.29</pre>"
      ],
      "text/plain": [
       "recommendations finished on 1889000/2088478 queries. users per second: 6152.29"
      ]
     },
     "metadata": {},
     "output_type": "display_data"
    },
    {
     "data": {
      "text/html": [
       "<pre>recommendations finished on 1890000/2088478 queries. users per second: 6152.7</pre>"
      ],
      "text/plain": [
       "recommendations finished on 1890000/2088478 queries. users per second: 6152.7"
      ]
     },
     "metadata": {},
     "output_type": "display_data"
    },
    {
     "data": {
      "text/html": [
       "<pre>recommendations finished on 1891000/2088478 queries. users per second: 6153.05</pre>"
      ],
      "text/plain": [
       "recommendations finished on 1891000/2088478 queries. users per second: 6153.05"
      ]
     },
     "metadata": {},
     "output_type": "display_data"
    },
    {
     "data": {
      "text/html": [
       "<pre>recommendations finished on 1892000/2088478 queries. users per second: 6153.46</pre>"
      ],
      "text/plain": [
       "recommendations finished on 1892000/2088478 queries. users per second: 6153.46"
      ]
     },
     "metadata": {},
     "output_type": "display_data"
    },
    {
     "data": {
      "text/html": [
       "<pre>recommendations finished on 1893000/2088478 queries. users per second: 6153.92</pre>"
      ],
      "text/plain": [
       "recommendations finished on 1893000/2088478 queries. users per second: 6153.92"
      ]
     },
     "metadata": {},
     "output_type": "display_data"
    },
    {
     "data": {
      "text/html": [
       "<pre>recommendations finished on 1894000/2088478 queries. users per second: 6154.1</pre>"
      ],
      "text/plain": [
       "recommendations finished on 1894000/2088478 queries. users per second: 6154.1"
      ]
     },
     "metadata": {},
     "output_type": "display_data"
    },
    {
     "data": {
      "text/html": [
       "<pre>recommendations finished on 1895000/2088478 queries. users per second: 6154.23</pre>"
      ],
      "text/plain": [
       "recommendations finished on 1895000/2088478 queries. users per second: 6154.23"
      ]
     },
     "metadata": {},
     "output_type": "display_data"
    },
    {
     "data": {
      "text/html": [
       "<pre>recommendations finished on 1896000/2088478 queries. users per second: 6154.57</pre>"
      ],
      "text/plain": [
       "recommendations finished on 1896000/2088478 queries. users per second: 6154.57"
      ]
     },
     "metadata": {},
     "output_type": "display_data"
    },
    {
     "data": {
      "text/html": [
       "<pre>recommendations finished on 1897000/2088478 queries. users per second: 6154.96</pre>"
      ],
      "text/plain": [
       "recommendations finished on 1897000/2088478 queries. users per second: 6154.96"
      ]
     },
     "metadata": {},
     "output_type": "display_data"
    },
    {
     "data": {
      "text/html": [
       "<pre>recommendations finished on 1898000/2088478 queries. users per second: 6155.23</pre>"
      ],
      "text/plain": [
       "recommendations finished on 1898000/2088478 queries. users per second: 6155.23"
      ]
     },
     "metadata": {},
     "output_type": "display_data"
    },
    {
     "data": {
      "text/html": [
       "<pre>recommendations finished on 1899000/2088478 queries. users per second: 6154.09</pre>"
      ],
      "text/plain": [
       "recommendations finished on 1899000/2088478 queries. users per second: 6154.09"
      ]
     },
     "metadata": {},
     "output_type": "display_data"
    },
    {
     "data": {
      "text/html": [
       "<pre>recommendations finished on 1900000/2088478 queries. users per second: 6153.93</pre>"
      ],
      "text/plain": [
       "recommendations finished on 1900000/2088478 queries. users per second: 6153.93"
      ]
     },
     "metadata": {},
     "output_type": "display_data"
    },
    {
     "data": {
      "text/html": [
       "<pre>recommendations finished on 1901000/2088478 queries. users per second: 6153.22</pre>"
      ],
      "text/plain": [
       "recommendations finished on 1901000/2088478 queries. users per second: 6153.22"
      ]
     },
     "metadata": {},
     "output_type": "display_data"
    },
    {
     "data": {
      "text/html": [
       "<pre>recommendations finished on 1902000/2088478 queries. users per second: 6151.8</pre>"
      ],
      "text/plain": [
       "recommendations finished on 1902000/2088478 queries. users per second: 6151.8"
      ]
     },
     "metadata": {},
     "output_type": "display_data"
    },
    {
     "data": {
      "text/html": [
       "<pre>recommendations finished on 1903000/2088478 queries. users per second: 6151.4</pre>"
      ],
      "text/plain": [
       "recommendations finished on 1903000/2088478 queries. users per second: 6151.4"
      ]
     },
     "metadata": {},
     "output_type": "display_data"
    },
    {
     "data": {
      "text/html": [
       "<pre>recommendations finished on 1904000/2088478 queries. users per second: 6150.75</pre>"
      ],
      "text/plain": [
       "recommendations finished on 1904000/2088478 queries. users per second: 6150.75"
      ]
     },
     "metadata": {},
     "output_type": "display_data"
    },
    {
     "data": {
      "text/html": [
       "<pre>recommendations finished on 1905000/2088478 queries. users per second: 6149.43</pre>"
      ],
      "text/plain": [
       "recommendations finished on 1905000/2088478 queries. users per second: 6149.43"
      ]
     },
     "metadata": {},
     "output_type": "display_data"
    },
    {
     "data": {
      "text/html": [
       "<pre>recommendations finished on 1906000/2088478 queries. users per second: 6149.53</pre>"
      ],
      "text/plain": [
       "recommendations finished on 1906000/2088478 queries. users per second: 6149.53"
      ]
     },
     "metadata": {},
     "output_type": "display_data"
    },
    {
     "data": {
      "text/html": [
       "<pre>recommendations finished on 1907000/2088478 queries. users per second: 6149.85</pre>"
      ],
      "text/plain": [
       "recommendations finished on 1907000/2088478 queries. users per second: 6149.85"
      ]
     },
     "metadata": {},
     "output_type": "display_data"
    },
    {
     "data": {
      "text/html": [
       "<pre>recommendations finished on 1908000/2088478 queries. users per second: 6150.22</pre>"
      ],
      "text/plain": [
       "recommendations finished on 1908000/2088478 queries. users per second: 6150.22"
      ]
     },
     "metadata": {},
     "output_type": "display_data"
    },
    {
     "data": {
      "text/html": [
       "<pre>recommendations finished on 1909000/2088478 queries. users per second: 6150.1</pre>"
      ],
      "text/plain": [
       "recommendations finished on 1909000/2088478 queries. users per second: 6150.1"
      ]
     },
     "metadata": {},
     "output_type": "display_data"
    },
    {
     "data": {
      "text/html": [
       "<pre>recommendations finished on 1910000/2088478 queries. users per second: 6150.18</pre>"
      ],
      "text/plain": [
       "recommendations finished on 1910000/2088478 queries. users per second: 6150.18"
      ]
     },
     "metadata": {},
     "output_type": "display_data"
    },
    {
     "data": {
      "text/html": [
       "<pre>recommendations finished on 1911000/2088478 queries. users per second: 6149.89</pre>"
      ],
      "text/plain": [
       "recommendations finished on 1911000/2088478 queries. users per second: 6149.89"
      ]
     },
     "metadata": {},
     "output_type": "display_data"
    },
    {
     "data": {
      "text/html": [
       "<pre>recommendations finished on 1912000/2088478 queries. users per second: 6149.48</pre>"
      ],
      "text/plain": [
       "recommendations finished on 1912000/2088478 queries. users per second: 6149.48"
      ]
     },
     "metadata": {},
     "output_type": "display_data"
    },
    {
     "data": {
      "text/html": [
       "<pre>recommendations finished on 1913000/2088478 queries. users per second: 6149.25</pre>"
      ],
      "text/plain": [
       "recommendations finished on 1913000/2088478 queries. users per second: 6149.25"
      ]
     },
     "metadata": {},
     "output_type": "display_data"
    },
    {
     "data": {
      "text/html": [
       "<pre>recommendations finished on 1914000/2088478 queries. users per second: 6149.63</pre>"
      ],
      "text/plain": [
       "recommendations finished on 1914000/2088478 queries. users per second: 6149.63"
      ]
     },
     "metadata": {},
     "output_type": "display_data"
    },
    {
     "data": {
      "text/html": [
       "<pre>recommendations finished on 1915000/2088478 queries. users per second: 6149.34</pre>"
      ],
      "text/plain": [
       "recommendations finished on 1915000/2088478 queries. users per second: 6149.34"
      ]
     },
     "metadata": {},
     "output_type": "display_data"
    },
    {
     "data": {
      "text/html": [
       "<pre>recommendations finished on 1916000/2088478 queries. users per second: 6148.73</pre>"
      ],
      "text/plain": [
       "recommendations finished on 1916000/2088478 queries. users per second: 6148.73"
      ]
     },
     "metadata": {},
     "output_type": "display_data"
    },
    {
     "data": {
      "text/html": [
       "<pre>recommendations finished on 1917000/2088478 queries. users per second: 6148.72</pre>"
      ],
      "text/plain": [
       "recommendations finished on 1917000/2088478 queries. users per second: 6148.72"
      ]
     },
     "metadata": {},
     "output_type": "display_data"
    },
    {
     "data": {
      "text/html": [
       "<pre>recommendations finished on 1918000/2088478 queries. users per second: 6147.83</pre>"
      ],
      "text/plain": [
       "recommendations finished on 1918000/2088478 queries. users per second: 6147.83"
      ]
     },
     "metadata": {},
     "output_type": "display_data"
    },
    {
     "data": {
      "text/html": [
       "<pre>recommendations finished on 1919000/2088478 queries. users per second: 6147.19</pre>"
      ],
      "text/plain": [
       "recommendations finished on 1919000/2088478 queries. users per second: 6147.19"
      ]
     },
     "metadata": {},
     "output_type": "display_data"
    },
    {
     "data": {
      "text/html": [
       "<pre>recommendations finished on 1920000/2088478 queries. users per second: 6147.54</pre>"
      ],
      "text/plain": [
       "recommendations finished on 1920000/2088478 queries. users per second: 6147.54"
      ]
     },
     "metadata": {},
     "output_type": "display_data"
    },
    {
     "data": {
      "text/html": [
       "<pre>recommendations finished on 1921000/2088478 queries. users per second: 6147.69</pre>"
      ],
      "text/plain": [
       "recommendations finished on 1921000/2088478 queries. users per second: 6147.69"
      ]
     },
     "metadata": {},
     "output_type": "display_data"
    },
    {
     "data": {
      "text/html": [
       "<pre>recommendations finished on 1922000/2088478 queries. users per second: 6147.84</pre>"
      ],
      "text/plain": [
       "recommendations finished on 1922000/2088478 queries. users per second: 6147.84"
      ]
     },
     "metadata": {},
     "output_type": "display_data"
    },
    {
     "data": {
      "text/html": [
       "<pre>recommendations finished on 1923000/2088478 queries. users per second: 6146.69</pre>"
      ],
      "text/plain": [
       "recommendations finished on 1923000/2088478 queries. users per second: 6146.69"
      ]
     },
     "metadata": {},
     "output_type": "display_data"
    },
    {
     "data": {
      "text/html": [
       "<pre>recommendations finished on 1924000/2088478 queries. users per second: 6146.57</pre>"
      ],
      "text/plain": [
       "recommendations finished on 1924000/2088478 queries. users per second: 6146.57"
      ]
     },
     "metadata": {},
     "output_type": "display_data"
    },
    {
     "data": {
      "text/html": [
       "<pre>recommendations finished on 1925000/2088478 queries. users per second: 6145.83</pre>"
      ],
      "text/plain": [
       "recommendations finished on 1925000/2088478 queries. users per second: 6145.83"
      ]
     },
     "metadata": {},
     "output_type": "display_data"
    },
    {
     "data": {
      "text/html": [
       "<pre>recommendations finished on 1926000/2088478 queries. users per second: 6145.67</pre>"
      ],
      "text/plain": [
       "recommendations finished on 1926000/2088478 queries. users per second: 6145.67"
      ]
     },
     "metadata": {},
     "output_type": "display_data"
    },
    {
     "data": {
      "text/html": [
       "<pre>recommendations finished on 1927000/2088478 queries. users per second: 6145.5</pre>"
      ],
      "text/plain": [
       "recommendations finished on 1927000/2088478 queries. users per second: 6145.5"
      ]
     },
     "metadata": {},
     "output_type": "display_data"
    },
    {
     "data": {
      "text/html": [
       "<pre>recommendations finished on 1928000/2088478 queries. users per second: 6144.6</pre>"
      ],
      "text/plain": [
       "recommendations finished on 1928000/2088478 queries. users per second: 6144.6"
      ]
     },
     "metadata": {},
     "output_type": "display_data"
    },
    {
     "data": {
      "text/html": [
       "<pre>recommendations finished on 1929000/2088478 queries. users per second: 6144.37</pre>"
      ],
      "text/plain": [
       "recommendations finished on 1929000/2088478 queries. users per second: 6144.37"
      ]
     },
     "metadata": {},
     "output_type": "display_data"
    },
    {
     "data": {
      "text/html": [
       "<pre>recommendations finished on 1930000/2088478 queries. users per second: 6143.72</pre>"
      ],
      "text/plain": [
       "recommendations finished on 1930000/2088478 queries. users per second: 6143.72"
      ]
     },
     "metadata": {},
     "output_type": "display_data"
    },
    {
     "data": {
      "text/html": [
       "<pre>recommendations finished on 1931000/2088478 queries. users per second: 6143.51</pre>"
      ],
      "text/plain": [
       "recommendations finished on 1931000/2088478 queries. users per second: 6143.51"
      ]
     },
     "metadata": {},
     "output_type": "display_data"
    },
    {
     "data": {
      "text/html": [
       "<pre>recommendations finished on 1932000/2088478 queries. users per second: 6143.43</pre>"
      ],
      "text/plain": [
       "recommendations finished on 1932000/2088478 queries. users per second: 6143.43"
      ]
     },
     "metadata": {},
     "output_type": "display_data"
    },
    {
     "data": {
      "text/html": [
       "<pre>recommendations finished on 1933000/2088478 queries. users per second: 6143.2</pre>"
      ],
      "text/plain": [
       "recommendations finished on 1933000/2088478 queries. users per second: 6143.2"
      ]
     },
     "metadata": {},
     "output_type": "display_data"
    },
    {
     "data": {
      "text/html": [
       "<pre>recommendations finished on 1934000/2088478 queries. users per second: 6143.21</pre>"
      ],
      "text/plain": [
       "recommendations finished on 1934000/2088478 queries. users per second: 6143.21"
      ]
     },
     "metadata": {},
     "output_type": "display_data"
    },
    {
     "data": {
      "text/html": [
       "<pre>recommendations finished on 1935000/2088478 queries. users per second: 6143.02</pre>"
      ],
      "text/plain": [
       "recommendations finished on 1935000/2088478 queries. users per second: 6143.02"
      ]
     },
     "metadata": {},
     "output_type": "display_data"
    },
    {
     "data": {
      "text/html": [
       "<pre>recommendations finished on 1936000/2088478 queries. users per second: 6143.51</pre>"
      ],
      "text/plain": [
       "recommendations finished on 1936000/2088478 queries. users per second: 6143.51"
      ]
     },
     "metadata": {},
     "output_type": "display_data"
    },
    {
     "data": {
      "text/html": [
       "<pre>recommendations finished on 1937000/2088478 queries. users per second: 6143.57</pre>"
      ],
      "text/plain": [
       "recommendations finished on 1937000/2088478 queries. users per second: 6143.57"
      ]
     },
     "metadata": {},
     "output_type": "display_data"
    },
    {
     "data": {
      "text/html": [
       "<pre>recommendations finished on 1938000/2088478 queries. users per second: 6143.78</pre>"
      ],
      "text/plain": [
       "recommendations finished on 1938000/2088478 queries. users per second: 6143.78"
      ]
     },
     "metadata": {},
     "output_type": "display_data"
    },
    {
     "data": {
      "text/html": [
       "<pre>recommendations finished on 1939000/2088478 queries. users per second: 6144.1</pre>"
      ],
      "text/plain": [
       "recommendations finished on 1939000/2088478 queries. users per second: 6144.1"
      ]
     },
     "metadata": {},
     "output_type": "display_data"
    },
    {
     "data": {
      "text/html": [
       "<pre>recommendations finished on 1940000/2088478 queries. users per second: 6143.92</pre>"
      ],
      "text/plain": [
       "recommendations finished on 1940000/2088478 queries. users per second: 6143.92"
      ]
     },
     "metadata": {},
     "output_type": "display_data"
    },
    {
     "data": {
      "text/html": [
       "<pre>recommendations finished on 1941000/2088478 queries. users per second: 6143.65</pre>"
      ],
      "text/plain": [
       "recommendations finished on 1941000/2088478 queries. users per second: 6143.65"
      ]
     },
     "metadata": {},
     "output_type": "display_data"
    },
    {
     "data": {
      "text/html": [
       "<pre>recommendations finished on 1942000/2088478 queries. users per second: 6143.28</pre>"
      ],
      "text/plain": [
       "recommendations finished on 1942000/2088478 queries. users per second: 6143.28"
      ]
     },
     "metadata": {},
     "output_type": "display_data"
    },
    {
     "data": {
      "text/html": [
       "<pre>recommendations finished on 1943000/2088478 queries. users per second: 6143.48</pre>"
      ],
      "text/plain": [
       "recommendations finished on 1943000/2088478 queries. users per second: 6143.48"
      ]
     },
     "metadata": {},
     "output_type": "display_data"
    },
    {
     "data": {
      "text/html": [
       "<pre>recommendations finished on 1944000/2088478 queries. users per second: 6143.23</pre>"
      ],
      "text/plain": [
       "recommendations finished on 1944000/2088478 queries. users per second: 6143.23"
      ]
     },
     "metadata": {},
     "output_type": "display_data"
    },
    {
     "data": {
      "text/html": [
       "<pre>recommendations finished on 1945000/2088478 queries. users per second: 6143.2</pre>"
      ],
      "text/plain": [
       "recommendations finished on 1945000/2088478 queries. users per second: 6143.2"
      ]
     },
     "metadata": {},
     "output_type": "display_data"
    },
    {
     "data": {
      "text/html": [
       "<pre>recommendations finished on 1946000/2088478 queries. users per second: 6143.46</pre>"
      ],
      "text/plain": [
       "recommendations finished on 1946000/2088478 queries. users per second: 6143.46"
      ]
     },
     "metadata": {},
     "output_type": "display_data"
    },
    {
     "data": {
      "text/html": [
       "<pre>recommendations finished on 1947000/2088478 queries. users per second: 6143.32</pre>"
      ],
      "text/plain": [
       "recommendations finished on 1947000/2088478 queries. users per second: 6143.32"
      ]
     },
     "metadata": {},
     "output_type": "display_data"
    },
    {
     "data": {
      "text/html": [
       "<pre>recommendations finished on 1948000/2088478 queries. users per second: 6143.98</pre>"
      ],
      "text/plain": [
       "recommendations finished on 1948000/2088478 queries. users per second: 6143.98"
      ]
     },
     "metadata": {},
     "output_type": "display_data"
    },
    {
     "data": {
      "text/html": [
       "<pre>recommendations finished on 1949000/2088478 queries. users per second: 6144.36</pre>"
      ],
      "text/plain": [
       "recommendations finished on 1949000/2088478 queries. users per second: 6144.36"
      ]
     },
     "metadata": {},
     "output_type": "display_data"
    },
    {
     "data": {
      "text/html": [
       "<pre>recommendations finished on 1950000/2088478 queries. users per second: 6144.63</pre>"
      ],
      "text/plain": [
       "recommendations finished on 1950000/2088478 queries. users per second: 6144.63"
      ]
     },
     "metadata": {},
     "output_type": "display_data"
    },
    {
     "data": {
      "text/html": [
       "<pre>recommendations finished on 1951000/2088478 queries. users per second: 6144</pre>"
      ],
      "text/plain": [
       "recommendations finished on 1951000/2088478 queries. users per second: 6144"
      ]
     },
     "metadata": {},
     "output_type": "display_data"
    },
    {
     "data": {
      "text/html": [
       "<pre>recommendations finished on 1952000/2088478 queries. users per second: 6143.31</pre>"
      ],
      "text/plain": [
       "recommendations finished on 1952000/2088478 queries. users per second: 6143.31"
      ]
     },
     "metadata": {},
     "output_type": "display_data"
    },
    {
     "data": {
      "text/html": [
       "<pre>recommendations finished on 1953000/2088478 queries. users per second: 6143.64</pre>"
      ],
      "text/plain": [
       "recommendations finished on 1953000/2088478 queries. users per second: 6143.64"
      ]
     },
     "metadata": {},
     "output_type": "display_data"
    },
    {
     "data": {
      "text/html": [
       "<pre>recommendations finished on 1954000/2088478 queries. users per second: 6144.1</pre>"
      ],
      "text/plain": [
       "recommendations finished on 1954000/2088478 queries. users per second: 6144.1"
      ]
     },
     "metadata": {},
     "output_type": "display_data"
    },
    {
     "data": {
      "text/html": [
       "<pre>recommendations finished on 1955000/2088478 queries. users per second: 6144.59</pre>"
      ],
      "text/plain": [
       "recommendations finished on 1955000/2088478 queries. users per second: 6144.59"
      ]
     },
     "metadata": {},
     "output_type": "display_data"
    },
    {
     "data": {
      "text/html": [
       "<pre>recommendations finished on 1956000/2088478 queries. users per second: 6144.44</pre>"
      ],
      "text/plain": [
       "recommendations finished on 1956000/2088478 queries. users per second: 6144.44"
      ]
     },
     "metadata": {},
     "output_type": "display_data"
    },
    {
     "data": {
      "text/html": [
       "<pre>recommendations finished on 1957000/2088478 queries. users per second: 6144.23</pre>"
      ],
      "text/plain": [
       "recommendations finished on 1957000/2088478 queries. users per second: 6144.23"
      ]
     },
     "metadata": {},
     "output_type": "display_data"
    },
    {
     "data": {
      "text/html": [
       "<pre>recommendations finished on 1958000/2088478 queries. users per second: 6144.75</pre>"
      ],
      "text/plain": [
       "recommendations finished on 1958000/2088478 queries. users per second: 6144.75"
      ]
     },
     "metadata": {},
     "output_type": "display_data"
    },
    {
     "data": {
      "text/html": [
       "<pre>recommendations finished on 1959000/2088478 queries. users per second: 6144.34</pre>"
      ],
      "text/plain": [
       "recommendations finished on 1959000/2088478 queries. users per second: 6144.34"
      ]
     },
     "metadata": {},
     "output_type": "display_data"
    },
    {
     "data": {
      "text/html": [
       "<pre>recommendations finished on 1960000/2088478 queries. users per second: 6143.32</pre>"
      ],
      "text/plain": [
       "recommendations finished on 1960000/2088478 queries. users per second: 6143.32"
      ]
     },
     "metadata": {},
     "output_type": "display_data"
    },
    {
     "data": {
      "text/html": [
       "<pre>recommendations finished on 1961000/2088478 queries. users per second: 6142.16</pre>"
      ],
      "text/plain": [
       "recommendations finished on 1961000/2088478 queries. users per second: 6142.16"
      ]
     },
     "metadata": {},
     "output_type": "display_data"
    },
    {
     "data": {
      "text/html": [
       "<pre>recommendations finished on 1962000/2088478 queries. users per second: 6141.41</pre>"
      ],
      "text/plain": [
       "recommendations finished on 1962000/2088478 queries. users per second: 6141.41"
      ]
     },
     "metadata": {},
     "output_type": "display_data"
    },
    {
     "data": {
      "text/html": [
       "<pre>recommendations finished on 1963000/2088478 queries. users per second: 6140.54</pre>"
      ],
      "text/plain": [
       "recommendations finished on 1963000/2088478 queries. users per second: 6140.54"
      ]
     },
     "metadata": {},
     "output_type": "display_data"
    },
    {
     "data": {
      "text/html": [
       "<pre>recommendations finished on 1964000/2088478 queries. users per second: 6140.36</pre>"
      ],
      "text/plain": [
       "recommendations finished on 1964000/2088478 queries. users per second: 6140.36"
      ]
     },
     "metadata": {},
     "output_type": "display_data"
    },
    {
     "data": {
      "text/html": [
       "<pre>recommendations finished on 1965000/2088478 queries. users per second: 6140.35</pre>"
      ],
      "text/plain": [
       "recommendations finished on 1965000/2088478 queries. users per second: 6140.35"
      ]
     },
     "metadata": {},
     "output_type": "display_data"
    },
    {
     "data": {
      "text/html": [
       "<pre>recommendations finished on 1966000/2088478 queries. users per second: 6140.64</pre>"
      ],
      "text/plain": [
       "recommendations finished on 1966000/2088478 queries. users per second: 6140.64"
      ]
     },
     "metadata": {},
     "output_type": "display_data"
    },
    {
     "data": {
      "text/html": [
       "<pre>recommendations finished on 1967000/2088478 queries. users per second: 6139.7</pre>"
      ],
      "text/plain": [
       "recommendations finished on 1967000/2088478 queries. users per second: 6139.7"
      ]
     },
     "metadata": {},
     "output_type": "display_data"
    },
    {
     "data": {
      "text/html": [
       "<pre>recommendations finished on 1968000/2088478 queries. users per second: 6140</pre>"
      ],
      "text/plain": [
       "recommendations finished on 1968000/2088478 queries. users per second: 6140"
      ]
     },
     "metadata": {},
     "output_type": "display_data"
    },
    {
     "data": {
      "text/html": [
       "<pre>recommendations finished on 1969000/2088478 queries. users per second: 6138.11</pre>"
      ],
      "text/plain": [
       "recommendations finished on 1969000/2088478 queries. users per second: 6138.11"
      ]
     },
     "metadata": {},
     "output_type": "display_data"
    },
    {
     "data": {
      "text/html": [
       "<pre>recommendations finished on 1970000/2088478 queries. users per second: 6137.8</pre>"
      ],
      "text/plain": [
       "recommendations finished on 1970000/2088478 queries. users per second: 6137.8"
      ]
     },
     "metadata": {},
     "output_type": "display_data"
    },
    {
     "data": {
      "text/html": [
       "<pre>recommendations finished on 1971000/2088478 queries. users per second: 6137.02</pre>"
      ],
      "text/plain": [
       "recommendations finished on 1971000/2088478 queries. users per second: 6137.02"
      ]
     },
     "metadata": {},
     "output_type": "display_data"
    },
    {
     "data": {
      "text/html": [
       "<pre>recommendations finished on 1972000/2088478 queries. users per second: 6136.5</pre>"
      ],
      "text/plain": [
       "recommendations finished on 1972000/2088478 queries. users per second: 6136.5"
      ]
     },
     "metadata": {},
     "output_type": "display_data"
    },
    {
     "data": {
      "text/html": [
       "<pre>recommendations finished on 1973000/2088478 queries. users per second: 6135.67</pre>"
      ],
      "text/plain": [
       "recommendations finished on 1973000/2088478 queries. users per second: 6135.67"
      ]
     },
     "metadata": {},
     "output_type": "display_data"
    },
    {
     "data": {
      "text/html": [
       "<pre>recommendations finished on 1974000/2088478 queries. users per second: 6135.86</pre>"
      ],
      "text/plain": [
       "recommendations finished on 1974000/2088478 queries. users per second: 6135.86"
      ]
     },
     "metadata": {},
     "output_type": "display_data"
    },
    {
     "data": {
      "text/html": [
       "<pre>recommendations finished on 1975000/2088478 queries. users per second: 6135.86</pre>"
      ],
      "text/plain": [
       "recommendations finished on 1975000/2088478 queries. users per second: 6135.86"
      ]
     },
     "metadata": {},
     "output_type": "display_data"
    },
    {
     "data": {
      "text/html": [
       "<pre>recommendations finished on 1976000/2088478 queries. users per second: 6135.62</pre>"
      ],
      "text/plain": [
       "recommendations finished on 1976000/2088478 queries. users per second: 6135.62"
      ]
     },
     "metadata": {},
     "output_type": "display_data"
    },
    {
     "data": {
      "text/html": [
       "<pre>recommendations finished on 1977000/2088478 queries. users per second: 6135.49</pre>"
      ],
      "text/plain": [
       "recommendations finished on 1977000/2088478 queries. users per second: 6135.49"
      ]
     },
     "metadata": {},
     "output_type": "display_data"
    },
    {
     "data": {
      "text/html": [
       "<pre>recommendations finished on 1978000/2088478 queries. users per second: 6135.54</pre>"
      ],
      "text/plain": [
       "recommendations finished on 1978000/2088478 queries. users per second: 6135.54"
      ]
     },
     "metadata": {},
     "output_type": "display_data"
    },
    {
     "data": {
      "text/html": [
       "<pre>recommendations finished on 1979000/2088478 queries. users per second: 6136.06</pre>"
      ],
      "text/plain": [
       "recommendations finished on 1979000/2088478 queries. users per second: 6136.06"
      ]
     },
     "metadata": {},
     "output_type": "display_data"
    },
    {
     "data": {
      "text/html": [
       "<pre>recommendations finished on 1980000/2088478 queries. users per second: 6136.41</pre>"
      ],
      "text/plain": [
       "recommendations finished on 1980000/2088478 queries. users per second: 6136.41"
      ]
     },
     "metadata": {},
     "output_type": "display_data"
    },
    {
     "data": {
      "text/html": [
       "<pre>recommendations finished on 1981000/2088478 queries. users per second: 6136.93</pre>"
      ],
      "text/plain": [
       "recommendations finished on 1981000/2088478 queries. users per second: 6136.93"
      ]
     },
     "metadata": {},
     "output_type": "display_data"
    },
    {
     "data": {
      "text/html": [
       "<pre>recommendations finished on 1982000/2088478 queries. users per second: 6136.92</pre>"
      ],
      "text/plain": [
       "recommendations finished on 1982000/2088478 queries. users per second: 6136.92"
      ]
     },
     "metadata": {},
     "output_type": "display_data"
    },
    {
     "data": {
      "text/html": [
       "<pre>recommendations finished on 1983000/2088478 queries. users per second: 6137.36</pre>"
      ],
      "text/plain": [
       "recommendations finished on 1983000/2088478 queries. users per second: 6137.36"
      ]
     },
     "metadata": {},
     "output_type": "display_data"
    },
    {
     "data": {
      "text/html": [
       "<pre>recommendations finished on 1984000/2088478 queries. users per second: 6137.67</pre>"
      ],
      "text/plain": [
       "recommendations finished on 1984000/2088478 queries. users per second: 6137.67"
      ]
     },
     "metadata": {},
     "output_type": "display_data"
    },
    {
     "data": {
      "text/html": [
       "<pre>recommendations finished on 1985000/2088478 queries. users per second: 6138.2</pre>"
      ],
      "text/plain": [
       "recommendations finished on 1985000/2088478 queries. users per second: 6138.2"
      ]
     },
     "metadata": {},
     "output_type": "display_data"
    },
    {
     "data": {
      "text/html": [
       "<pre>recommendations finished on 1986000/2088478 queries. users per second: 6138.57</pre>"
      ],
      "text/plain": [
       "recommendations finished on 1986000/2088478 queries. users per second: 6138.57"
      ]
     },
     "metadata": {},
     "output_type": "display_data"
    },
    {
     "data": {
      "text/html": [
       "<pre>recommendations finished on 1987000/2088478 queries. users per second: 6138.91</pre>"
      ],
      "text/plain": [
       "recommendations finished on 1987000/2088478 queries. users per second: 6138.91"
      ]
     },
     "metadata": {},
     "output_type": "display_data"
    },
    {
     "data": {
      "text/html": [
       "<pre>recommendations finished on 1988000/2088478 queries. users per second: 6139.35</pre>"
      ],
      "text/plain": [
       "recommendations finished on 1988000/2088478 queries. users per second: 6139.35"
      ]
     },
     "metadata": {},
     "output_type": "display_data"
    },
    {
     "data": {
      "text/html": [
       "<pre>recommendations finished on 1989000/2088478 queries. users per second: 6139.72</pre>"
      ],
      "text/plain": [
       "recommendations finished on 1989000/2088478 queries. users per second: 6139.72"
      ]
     },
     "metadata": {},
     "output_type": "display_data"
    },
    {
     "data": {
      "text/html": [
       "<pre>recommendations finished on 1990000/2088478 queries. users per second: 6139.89</pre>"
      ],
      "text/plain": [
       "recommendations finished on 1990000/2088478 queries. users per second: 6139.89"
      ]
     },
     "metadata": {},
     "output_type": "display_data"
    },
    {
     "data": {
      "text/html": [
       "<pre>recommendations finished on 1991000/2088478 queries. users per second: 6140.37</pre>"
      ],
      "text/plain": [
       "recommendations finished on 1991000/2088478 queries. users per second: 6140.37"
      ]
     },
     "metadata": {},
     "output_type": "display_data"
    },
    {
     "data": {
      "text/html": [
       "<pre>recommendations finished on 1992000/2088478 queries. users per second: 6140.94</pre>"
      ],
      "text/plain": [
       "recommendations finished on 1992000/2088478 queries. users per second: 6140.94"
      ]
     },
     "metadata": {},
     "output_type": "display_data"
    },
    {
     "data": {
      "text/html": [
       "<pre>recommendations finished on 1993000/2088478 queries. users per second: 6141.39</pre>"
      ],
      "text/plain": [
       "recommendations finished on 1993000/2088478 queries. users per second: 6141.39"
      ]
     },
     "metadata": {},
     "output_type": "display_data"
    },
    {
     "data": {
      "text/html": [
       "<pre>recommendations finished on 1994000/2088478 queries. users per second: 6141.77</pre>"
      ],
      "text/plain": [
       "recommendations finished on 1994000/2088478 queries. users per second: 6141.77"
      ]
     },
     "metadata": {},
     "output_type": "display_data"
    },
    {
     "data": {
      "text/html": [
       "<pre>recommendations finished on 1995000/2088478 queries. users per second: 6141.26</pre>"
      ],
      "text/plain": [
       "recommendations finished on 1995000/2088478 queries. users per second: 6141.26"
      ]
     },
     "metadata": {},
     "output_type": "display_data"
    },
    {
     "data": {
      "text/html": [
       "<pre>recommendations finished on 1996000/2088478 queries. users per second: 6141.24</pre>"
      ],
      "text/plain": [
       "recommendations finished on 1996000/2088478 queries. users per second: 6141.24"
      ]
     },
     "metadata": {},
     "output_type": "display_data"
    },
    {
     "data": {
      "text/html": [
       "<pre>recommendations finished on 1997000/2088478 queries. users per second: 6141.57</pre>"
      ],
      "text/plain": [
       "recommendations finished on 1997000/2088478 queries. users per second: 6141.57"
      ]
     },
     "metadata": {},
     "output_type": "display_data"
    },
    {
     "data": {
      "text/html": [
       "<pre>recommendations finished on 1998000/2088478 queries. users per second: 6142.04</pre>"
      ],
      "text/plain": [
       "recommendations finished on 1998000/2088478 queries. users per second: 6142.04"
      ]
     },
     "metadata": {},
     "output_type": "display_data"
    },
    {
     "data": {
      "text/html": [
       "<pre>recommendations finished on 1999000/2088478 queries. users per second: 6142.29</pre>"
      ],
      "text/plain": [
       "recommendations finished on 1999000/2088478 queries. users per second: 6142.29"
      ]
     },
     "metadata": {},
     "output_type": "display_data"
    },
    {
     "data": {
      "text/html": [
       "<pre>recommendations finished on 2000000/2088478 queries. users per second: 6142.65</pre>"
      ],
      "text/plain": [
       "recommendations finished on 2000000/2088478 queries. users per second: 6142.65"
      ]
     },
     "metadata": {},
     "output_type": "display_data"
    },
    {
     "data": {
      "text/html": [
       "<pre>recommendations finished on 2001000/2088478 queries. users per second: 6142.73</pre>"
      ],
      "text/plain": [
       "recommendations finished on 2001000/2088478 queries. users per second: 6142.73"
      ]
     },
     "metadata": {},
     "output_type": "display_data"
    },
    {
     "data": {
      "text/html": [
       "<pre>recommendations finished on 2002000/2088478 queries. users per second: 6142.59</pre>"
      ],
      "text/plain": [
       "recommendations finished on 2002000/2088478 queries. users per second: 6142.59"
      ]
     },
     "metadata": {},
     "output_type": "display_data"
    },
    {
     "data": {
      "text/html": [
       "<pre>recommendations finished on 2003000/2088478 queries. users per second: 6142.67</pre>"
      ],
      "text/plain": [
       "recommendations finished on 2003000/2088478 queries. users per second: 6142.67"
      ]
     },
     "metadata": {},
     "output_type": "display_data"
    },
    {
     "data": {
      "text/html": [
       "<pre>recommendations finished on 2004000/2088478 queries. users per second: 6142.74</pre>"
      ],
      "text/plain": [
       "recommendations finished on 2004000/2088478 queries. users per second: 6142.74"
      ]
     },
     "metadata": {},
     "output_type": "display_data"
    },
    {
     "data": {
      "text/html": [
       "<pre>recommendations finished on 2005000/2088478 queries. users per second: 6143.03</pre>"
      ],
      "text/plain": [
       "recommendations finished on 2005000/2088478 queries. users per second: 6143.03"
      ]
     },
     "metadata": {},
     "output_type": "display_data"
    },
    {
     "data": {
      "text/html": [
       "<pre>recommendations finished on 2006000/2088478 queries. users per second: 6142.29</pre>"
      ],
      "text/plain": [
       "recommendations finished on 2006000/2088478 queries. users per second: 6142.29"
      ]
     },
     "metadata": {},
     "output_type": "display_data"
    },
    {
     "data": {
      "text/html": [
       "<pre>recommendations finished on 2007000/2088478 queries. users per second: 6141.87</pre>"
      ],
      "text/plain": [
       "recommendations finished on 2007000/2088478 queries. users per second: 6141.87"
      ]
     },
     "metadata": {},
     "output_type": "display_data"
    },
    {
     "data": {
      "text/html": [
       "<pre>recommendations finished on 2008000/2088478 queries. users per second: 6141.52</pre>"
      ],
      "text/plain": [
       "recommendations finished on 2008000/2088478 queries. users per second: 6141.52"
      ]
     },
     "metadata": {},
     "output_type": "display_data"
    },
    {
     "data": {
      "text/html": [
       "<pre>recommendations finished on 2009000/2088478 queries. users per second: 6141.4</pre>"
      ],
      "text/plain": [
       "recommendations finished on 2009000/2088478 queries. users per second: 6141.4"
      ]
     },
     "metadata": {},
     "output_type": "display_data"
    },
    {
     "data": {
      "text/html": [
       "<pre>recommendations finished on 2010000/2088478 queries. users per second: 6141.28</pre>"
      ],
      "text/plain": [
       "recommendations finished on 2010000/2088478 queries. users per second: 6141.28"
      ]
     },
     "metadata": {},
     "output_type": "display_data"
    },
    {
     "data": {
      "text/html": [
       "<pre>recommendations finished on 2011000/2088478 queries. users per second: 6141.06</pre>"
      ],
      "text/plain": [
       "recommendations finished on 2011000/2088478 queries. users per second: 6141.06"
      ]
     },
     "metadata": {},
     "output_type": "display_data"
    },
    {
     "data": {
      "text/html": [
       "<pre>recommendations finished on 2012000/2088478 queries. users per second: 6141.19</pre>"
      ],
      "text/plain": [
       "recommendations finished on 2012000/2088478 queries. users per second: 6141.19"
      ]
     },
     "metadata": {},
     "output_type": "display_data"
    },
    {
     "data": {
      "text/html": [
       "<pre>recommendations finished on 2013000/2088478 queries. users per second: 6140.83</pre>"
      ],
      "text/plain": [
       "recommendations finished on 2013000/2088478 queries. users per second: 6140.83"
      ]
     },
     "metadata": {},
     "output_type": "display_data"
    },
    {
     "data": {
      "text/html": [
       "<pre>recommendations finished on 2014000/2088478 queries. users per second: 6140.76</pre>"
      ],
      "text/plain": [
       "recommendations finished on 2014000/2088478 queries. users per second: 6140.76"
      ]
     },
     "metadata": {},
     "output_type": "display_data"
    },
    {
     "data": {
      "text/html": [
       "<pre>recommendations finished on 2015000/2088478 queries. users per second: 6140.42</pre>"
      ],
      "text/plain": [
       "recommendations finished on 2015000/2088478 queries. users per second: 6140.42"
      ]
     },
     "metadata": {},
     "output_type": "display_data"
    },
    {
     "data": {
      "text/html": [
       "<pre>recommendations finished on 2016000/2088478 queries. users per second: 6140.68</pre>"
      ],
      "text/plain": [
       "recommendations finished on 2016000/2088478 queries. users per second: 6140.68"
      ]
     },
     "metadata": {},
     "output_type": "display_data"
    },
    {
     "data": {
      "text/html": [
       "<pre>recommendations finished on 2017000/2088478 queries. users per second: 6140.85</pre>"
      ],
      "text/plain": [
       "recommendations finished on 2017000/2088478 queries. users per second: 6140.85"
      ]
     },
     "metadata": {},
     "output_type": "display_data"
    },
    {
     "data": {
      "text/html": [
       "<pre>recommendations finished on 2018000/2088478 queries. users per second: 6141.05</pre>"
      ],
      "text/plain": [
       "recommendations finished on 2018000/2088478 queries. users per second: 6141.05"
      ]
     },
     "metadata": {},
     "output_type": "display_data"
    },
    {
     "data": {
      "text/html": [
       "<pre>recommendations finished on 2019000/2088478 queries. users per second: 6141.16</pre>"
      ],
      "text/plain": [
       "recommendations finished on 2019000/2088478 queries. users per second: 6141.16"
      ]
     },
     "metadata": {},
     "output_type": "display_data"
    },
    {
     "data": {
      "text/html": [
       "<pre>recommendations finished on 2020000/2088478 queries. users per second: 6141.28</pre>"
      ],
      "text/plain": [
       "recommendations finished on 2020000/2088478 queries. users per second: 6141.28"
      ]
     },
     "metadata": {},
     "output_type": "display_data"
    },
    {
     "data": {
      "text/html": [
       "<pre>recommendations finished on 2021000/2088478 queries. users per second: 6141.32</pre>"
      ],
      "text/plain": [
       "recommendations finished on 2021000/2088478 queries. users per second: 6141.32"
      ]
     },
     "metadata": {},
     "output_type": "display_data"
    },
    {
     "data": {
      "text/html": [
       "<pre>recommendations finished on 2022000/2088478 queries. users per second: 6141.71</pre>"
      ],
      "text/plain": [
       "recommendations finished on 2022000/2088478 queries. users per second: 6141.71"
      ]
     },
     "metadata": {},
     "output_type": "display_data"
    },
    {
     "data": {
      "text/html": [
       "<pre>recommendations finished on 2023000/2088478 queries. users per second: 6142.17</pre>"
      ],
      "text/plain": [
       "recommendations finished on 2023000/2088478 queries. users per second: 6142.17"
      ]
     },
     "metadata": {},
     "output_type": "display_data"
    },
    {
     "data": {
      "text/html": [
       "<pre>recommendations finished on 2024000/2088478 queries. users per second: 6142.69</pre>"
      ],
      "text/plain": [
       "recommendations finished on 2024000/2088478 queries. users per second: 6142.69"
      ]
     },
     "metadata": {},
     "output_type": "display_data"
    },
    {
     "data": {
      "text/html": [
       "<pre>recommendations finished on 2025000/2088478 queries. users per second: 6142.8</pre>"
      ],
      "text/plain": [
       "recommendations finished on 2025000/2088478 queries. users per second: 6142.8"
      ]
     },
     "metadata": {},
     "output_type": "display_data"
    },
    {
     "data": {
      "text/html": [
       "<pre>recommendations finished on 2026000/2088478 queries. users per second: 6143.02</pre>"
      ],
      "text/plain": [
       "recommendations finished on 2026000/2088478 queries. users per second: 6143.02"
      ]
     },
     "metadata": {},
     "output_type": "display_data"
    },
    {
     "data": {
      "text/html": [
       "<pre>recommendations finished on 2027000/2088478 queries. users per second: 6143.42</pre>"
      ],
      "text/plain": [
       "recommendations finished on 2027000/2088478 queries. users per second: 6143.42"
      ]
     },
     "metadata": {},
     "output_type": "display_data"
    },
    {
     "data": {
      "text/html": [
       "<pre>recommendations finished on 2028000/2088478 queries. users per second: 6143.95</pre>"
      ],
      "text/plain": [
       "recommendations finished on 2028000/2088478 queries. users per second: 6143.95"
      ]
     },
     "metadata": {},
     "output_type": "display_data"
    },
    {
     "data": {
      "text/html": [
       "<pre>recommendations finished on 2029000/2088478 queries. users per second: 6143.69</pre>"
      ],
      "text/plain": [
       "recommendations finished on 2029000/2088478 queries. users per second: 6143.69"
      ]
     },
     "metadata": {},
     "output_type": "display_data"
    },
    {
     "data": {
      "text/html": [
       "<pre>recommendations finished on 2030000/2088478 queries. users per second: 6142.73</pre>"
      ],
      "text/plain": [
       "recommendations finished on 2030000/2088478 queries. users per second: 6142.73"
      ]
     },
     "metadata": {},
     "output_type": "display_data"
    },
    {
     "data": {
      "text/html": [
       "<pre>recommendations finished on 2031000/2088478 queries. users per second: 6142.56</pre>"
      ],
      "text/plain": [
       "recommendations finished on 2031000/2088478 queries. users per second: 6142.56"
      ]
     },
     "metadata": {},
     "output_type": "display_data"
    },
    {
     "data": {
      "text/html": [
       "<pre>recommendations finished on 2032000/2088478 queries. users per second: 6142.43</pre>"
      ],
      "text/plain": [
       "recommendations finished on 2032000/2088478 queries. users per second: 6142.43"
      ]
     },
     "metadata": {},
     "output_type": "display_data"
    },
    {
     "data": {
      "text/html": [
       "<pre>recommendations finished on 2033000/2088478 queries. users per second: 6142.36</pre>"
      ],
      "text/plain": [
       "recommendations finished on 2033000/2088478 queries. users per second: 6142.36"
      ]
     },
     "metadata": {},
     "output_type": "display_data"
    },
    {
     "data": {
      "text/html": [
       "<pre>recommendations finished on 2034000/2088478 queries. users per second: 6142.52</pre>"
      ],
      "text/plain": [
       "recommendations finished on 2034000/2088478 queries. users per second: 6142.52"
      ]
     },
     "metadata": {},
     "output_type": "display_data"
    },
    {
     "data": {
      "text/html": [
       "<pre>recommendations finished on 2035000/2088478 queries. users per second: 6142.74</pre>"
      ],
      "text/plain": [
       "recommendations finished on 2035000/2088478 queries. users per second: 6142.74"
      ]
     },
     "metadata": {},
     "output_type": "display_data"
    },
    {
     "data": {
      "text/html": [
       "<pre>recommendations finished on 2036000/2088478 queries. users per second: 6142.94</pre>"
      ],
      "text/plain": [
       "recommendations finished on 2036000/2088478 queries. users per second: 6142.94"
      ]
     },
     "metadata": {},
     "output_type": "display_data"
    },
    {
     "data": {
      "text/html": [
       "<pre>recommendations finished on 2037000/2088478 queries. users per second: 6142.63</pre>"
      ],
      "text/plain": [
       "recommendations finished on 2037000/2088478 queries. users per second: 6142.63"
      ]
     },
     "metadata": {},
     "output_type": "display_data"
    },
    {
     "data": {
      "text/html": [
       "<pre>recommendations finished on 2038000/2088478 queries. users per second: 6142.4</pre>"
      ],
      "text/plain": [
       "recommendations finished on 2038000/2088478 queries. users per second: 6142.4"
      ]
     },
     "metadata": {},
     "output_type": "display_data"
    },
    {
     "data": {
      "text/html": [
       "<pre>recommendations finished on 2039000/2088478 queries. users per second: 6142.28</pre>"
      ],
      "text/plain": [
       "recommendations finished on 2039000/2088478 queries. users per second: 6142.28"
      ]
     },
     "metadata": {},
     "output_type": "display_data"
    },
    {
     "data": {
      "text/html": [
       "<pre>recommendations finished on 2040000/2088478 queries. users per second: 6142.56</pre>"
      ],
      "text/plain": [
       "recommendations finished on 2040000/2088478 queries. users per second: 6142.56"
      ]
     },
     "metadata": {},
     "output_type": "display_data"
    },
    {
     "data": {
      "text/html": [
       "<pre>recommendations finished on 2041000/2088478 queries. users per second: 6141.92</pre>"
      ],
      "text/plain": [
       "recommendations finished on 2041000/2088478 queries. users per second: 6141.92"
      ]
     },
     "metadata": {},
     "output_type": "display_data"
    },
    {
     "data": {
      "text/html": [
       "<pre>recommendations finished on 2042000/2088478 queries. users per second: 6141.01</pre>"
      ],
      "text/plain": [
       "recommendations finished on 2042000/2088478 queries. users per second: 6141.01"
      ]
     },
     "metadata": {},
     "output_type": "display_data"
    },
    {
     "data": {
      "text/html": [
       "<pre>recommendations finished on 2043000/2088478 queries. users per second: 6140.38</pre>"
      ],
      "text/plain": [
       "recommendations finished on 2043000/2088478 queries. users per second: 6140.38"
      ]
     },
     "metadata": {},
     "output_type": "display_data"
    },
    {
     "data": {
      "text/html": [
       "<pre>recommendations finished on 2044000/2088478 queries. users per second: 6139.7</pre>"
      ],
      "text/plain": [
       "recommendations finished on 2044000/2088478 queries. users per second: 6139.7"
      ]
     },
     "metadata": {},
     "output_type": "display_data"
    },
    {
     "data": {
      "text/html": [
       "<pre>recommendations finished on 2045000/2088478 queries. users per second: 6139.6</pre>"
      ],
      "text/plain": [
       "recommendations finished on 2045000/2088478 queries. users per second: 6139.6"
      ]
     },
     "metadata": {},
     "output_type": "display_data"
    },
    {
     "data": {
      "text/html": [
       "<pre>recommendations finished on 2046000/2088478 queries. users per second: 6139.4</pre>"
      ],
      "text/plain": [
       "recommendations finished on 2046000/2088478 queries. users per second: 6139.4"
      ]
     },
     "metadata": {},
     "output_type": "display_data"
    },
    {
     "data": {
      "text/html": [
       "<pre>recommendations finished on 2047000/2088478 queries. users per second: 6138.88</pre>"
      ],
      "text/plain": [
       "recommendations finished on 2047000/2088478 queries. users per second: 6138.88"
      ]
     },
     "metadata": {},
     "output_type": "display_data"
    },
    {
     "data": {
      "text/html": [
       "<pre>recommendations finished on 2048000/2088478 queries. users per second: 6138.57</pre>"
      ],
      "text/plain": [
       "recommendations finished on 2048000/2088478 queries. users per second: 6138.57"
      ]
     },
     "metadata": {},
     "output_type": "display_data"
    },
    {
     "data": {
      "text/html": [
       "<pre>recommendations finished on 2049000/2088478 queries. users per second: 6138.68</pre>"
      ],
      "text/plain": [
       "recommendations finished on 2049000/2088478 queries. users per second: 6138.68"
      ]
     },
     "metadata": {},
     "output_type": "display_data"
    },
    {
     "data": {
      "text/html": [
       "<pre>recommendations finished on 2050000/2088478 queries. users per second: 6138.43</pre>"
      ],
      "text/plain": [
       "recommendations finished on 2050000/2088478 queries. users per second: 6138.43"
      ]
     },
     "metadata": {},
     "output_type": "display_data"
    },
    {
     "data": {
      "text/html": [
       "<pre>recommendations finished on 2051000/2088478 queries. users per second: 6138</pre>"
      ],
      "text/plain": [
       "recommendations finished on 2051000/2088478 queries. users per second: 6138"
      ]
     },
     "metadata": {},
     "output_type": "display_data"
    },
    {
     "data": {
      "text/html": [
       "<pre>recommendations finished on 2052000/2088478 queries. users per second: 6138.08</pre>"
      ],
      "text/plain": [
       "recommendations finished on 2052000/2088478 queries. users per second: 6138.08"
      ]
     },
     "metadata": {},
     "output_type": "display_data"
    },
    {
     "data": {
      "text/html": [
       "<pre>recommendations finished on 2053000/2088478 queries. users per second: 6137.72</pre>"
      ],
      "text/plain": [
       "recommendations finished on 2053000/2088478 queries. users per second: 6137.72"
      ]
     },
     "metadata": {},
     "output_type": "display_data"
    },
    {
     "data": {
      "text/html": [
       "<pre>recommendations finished on 2054000/2088478 queries. users per second: 6137.42</pre>"
      ],
      "text/plain": [
       "recommendations finished on 2054000/2088478 queries. users per second: 6137.42"
      ]
     },
     "metadata": {},
     "output_type": "display_data"
    },
    {
     "data": {
      "text/html": [
       "<pre>recommendations finished on 2055000/2088478 queries. users per second: 6137.54</pre>"
      ],
      "text/plain": [
       "recommendations finished on 2055000/2088478 queries. users per second: 6137.54"
      ]
     },
     "metadata": {},
     "output_type": "display_data"
    },
    {
     "data": {
      "text/html": [
       "<pre>recommendations finished on 2056000/2088478 queries. users per second: 6136.61</pre>"
      ],
      "text/plain": [
       "recommendations finished on 2056000/2088478 queries. users per second: 6136.61"
      ]
     },
     "metadata": {},
     "output_type": "display_data"
    },
    {
     "data": {
      "text/html": [
       "<pre>recommendations finished on 2057000/2088478 queries. users per second: 6137.03</pre>"
      ],
      "text/plain": [
       "recommendations finished on 2057000/2088478 queries. users per second: 6137.03"
      ]
     },
     "metadata": {},
     "output_type": "display_data"
    },
    {
     "data": {
      "text/html": [
       "<pre>recommendations finished on 2058000/2088478 queries. users per second: 6137.32</pre>"
      ],
      "text/plain": [
       "recommendations finished on 2058000/2088478 queries. users per second: 6137.32"
      ]
     },
     "metadata": {},
     "output_type": "display_data"
    },
    {
     "data": {
      "text/html": [
       "<pre>recommendations finished on 2059000/2088478 queries. users per second: 6136.84</pre>"
      ],
      "text/plain": [
       "recommendations finished on 2059000/2088478 queries. users per second: 6136.84"
      ]
     },
     "metadata": {},
     "output_type": "display_data"
    },
    {
     "data": {
      "text/html": [
       "<pre>recommendations finished on 2060000/2088478 queries. users per second: 6136.91</pre>"
      ],
      "text/plain": [
       "recommendations finished on 2060000/2088478 queries. users per second: 6136.91"
      ]
     },
     "metadata": {},
     "output_type": "display_data"
    },
    {
     "data": {
      "text/html": [
       "<pre>recommendations finished on 2061000/2088478 queries. users per second: 6136.62</pre>"
      ],
      "text/plain": [
       "recommendations finished on 2061000/2088478 queries. users per second: 6136.62"
      ]
     },
     "metadata": {},
     "output_type": "display_data"
    },
    {
     "data": {
      "text/html": [
       "<pre>recommendations finished on 2062000/2088478 queries. users per second: 6134.92</pre>"
      ],
      "text/plain": [
       "recommendations finished on 2062000/2088478 queries. users per second: 6134.92"
      ]
     },
     "metadata": {},
     "output_type": "display_data"
    },
    {
     "data": {
      "text/html": [
       "<pre>recommendations finished on 2063000/2088478 queries. users per second: 6135.21</pre>"
      ],
      "text/plain": [
       "recommendations finished on 2063000/2088478 queries. users per second: 6135.21"
      ]
     },
     "metadata": {},
     "output_type": "display_data"
    },
    {
     "data": {
      "text/html": [
       "<pre>recommendations finished on 2064000/2088478 queries. users per second: 6134.22</pre>"
      ],
      "text/plain": [
       "recommendations finished on 2064000/2088478 queries. users per second: 6134.22"
      ]
     },
     "metadata": {},
     "output_type": "display_data"
    },
    {
     "data": {
      "text/html": [
       "<pre>recommendations finished on 2065000/2088478 queries. users per second: 6133.09</pre>"
      ],
      "text/plain": [
       "recommendations finished on 2065000/2088478 queries. users per second: 6133.09"
      ]
     },
     "metadata": {},
     "output_type": "display_data"
    },
    {
     "data": {
      "text/html": [
       "<pre>recommendations finished on 2066000/2088478 queries. users per second: 6131.81</pre>"
      ],
      "text/plain": [
       "recommendations finished on 2066000/2088478 queries. users per second: 6131.81"
      ]
     },
     "metadata": {},
     "output_type": "display_data"
    },
    {
     "data": {
      "text/html": [
       "<pre>recommendations finished on 2067000/2088478 queries. users per second: 6131.61</pre>"
      ],
      "text/plain": [
       "recommendations finished on 2067000/2088478 queries. users per second: 6131.61"
      ]
     },
     "metadata": {},
     "output_type": "display_data"
    },
    {
     "data": {
      "text/html": [
       "<pre>recommendations finished on 2068000/2088478 queries. users per second: 6131.6</pre>"
      ],
      "text/plain": [
       "recommendations finished on 2068000/2088478 queries. users per second: 6131.6"
      ]
     },
     "metadata": {},
     "output_type": "display_data"
    },
    {
     "data": {
      "text/html": [
       "<pre>recommendations finished on 2069000/2088478 queries. users per second: 6130.46</pre>"
      ],
      "text/plain": [
       "recommendations finished on 2069000/2088478 queries. users per second: 6130.46"
      ]
     },
     "metadata": {},
     "output_type": "display_data"
    },
    {
     "data": {
      "text/html": [
       "<pre>recommendations finished on 2070000/2088478 queries. users per second: 6130.93</pre>"
      ],
      "text/plain": [
       "recommendations finished on 2070000/2088478 queries. users per second: 6130.93"
      ]
     },
     "metadata": {},
     "output_type": "display_data"
    },
    {
     "data": {
      "text/html": [
       "<pre>recommendations finished on 2071000/2088478 queries. users per second: 6131.4</pre>"
      ],
      "text/plain": [
       "recommendations finished on 2071000/2088478 queries. users per second: 6131.4"
      ]
     },
     "metadata": {},
     "output_type": "display_data"
    },
    {
     "data": {
      "text/html": [
       "<pre>recommendations finished on 2072000/2088478 queries. users per second: 6131.88</pre>"
      ],
      "text/plain": [
       "recommendations finished on 2072000/2088478 queries. users per second: 6131.88"
      ]
     },
     "metadata": {},
     "output_type": "display_data"
    },
    {
     "data": {
      "text/html": [
       "<pre>recommendations finished on 2073000/2088478 queries. users per second: 6132.39</pre>"
      ],
      "text/plain": [
       "recommendations finished on 2073000/2088478 queries. users per second: 6132.39"
      ]
     },
     "metadata": {},
     "output_type": "display_data"
    },
    {
     "data": {
      "text/html": [
       "<pre>recommendations finished on 2074000/2088478 queries. users per second: 6132.74</pre>"
      ],
      "text/plain": [
       "recommendations finished on 2074000/2088478 queries. users per second: 6132.74"
      ]
     },
     "metadata": {},
     "output_type": "display_data"
    },
    {
     "data": {
      "text/html": [
       "<pre>recommendations finished on 2075000/2088478 queries. users per second: 6133.24</pre>"
      ],
      "text/plain": [
       "recommendations finished on 2075000/2088478 queries. users per second: 6133.24"
      ]
     },
     "metadata": {},
     "output_type": "display_data"
    },
    {
     "data": {
      "text/html": [
       "<pre>recommendations finished on 2076000/2088478 queries. users per second: 6133.96</pre>"
      ],
      "text/plain": [
       "recommendations finished on 2076000/2088478 queries. users per second: 6133.96"
      ]
     },
     "metadata": {},
     "output_type": "display_data"
    },
    {
     "data": {
      "text/html": [
       "<pre>recommendations finished on 2077000/2088478 queries. users per second: 6134.78</pre>"
      ],
      "text/plain": [
       "recommendations finished on 2077000/2088478 queries. users per second: 6134.78"
      ]
     },
     "metadata": {},
     "output_type": "display_data"
    },
    {
     "data": {
      "text/html": [
       "<pre>recommendations finished on 2078000/2088478 queries. users per second: 6135.52</pre>"
      ],
      "text/plain": [
       "recommendations finished on 2078000/2088478 queries. users per second: 6135.52"
      ]
     },
     "metadata": {},
     "output_type": "display_data"
    },
    {
     "data": {
      "text/html": [
       "<pre>recommendations finished on 2079000/2088478 queries. users per second: 6136.07</pre>"
      ],
      "text/plain": [
       "recommendations finished on 2079000/2088478 queries. users per second: 6136.07"
      ]
     },
     "metadata": {},
     "output_type": "display_data"
    },
    {
     "data": {
      "text/html": [
       "<pre>recommendations finished on 2080000/2088478 queries. users per second: 6136.83</pre>"
      ],
      "text/plain": [
       "recommendations finished on 2080000/2088478 queries. users per second: 6136.83"
      ]
     },
     "metadata": {},
     "output_type": "display_data"
    },
    {
     "data": {
      "text/html": [
       "<pre>recommendations finished on 2081000/2088478 queries. users per second: 6137.59</pre>"
      ],
      "text/plain": [
       "recommendations finished on 2081000/2088478 queries. users per second: 6137.59"
      ]
     },
     "metadata": {},
     "output_type": "display_data"
    },
    {
     "data": {
      "text/html": [
       "<pre>recommendations finished on 2082000/2088478 queries. users per second: 6138.4</pre>"
      ],
      "text/plain": [
       "recommendations finished on 2082000/2088478 queries. users per second: 6138.4"
      ]
     },
     "metadata": {},
     "output_type": "display_data"
    },
    {
     "data": {
      "text/html": [
       "<pre>recommendations finished on 2083000/2088478 queries. users per second: 6139.03</pre>"
      ],
      "text/plain": [
       "recommendations finished on 2083000/2088478 queries. users per second: 6139.03"
      ]
     },
     "metadata": {},
     "output_type": "display_data"
    },
    {
     "data": {
      "text/html": [
       "<pre>recommendations finished on 2084000/2088478 queries. users per second: 6139.73</pre>"
      ],
      "text/plain": [
       "recommendations finished on 2084000/2088478 queries. users per second: 6139.73"
      ]
     },
     "metadata": {},
     "output_type": "display_data"
    },
    {
     "data": {
      "text/html": [
       "<pre>recommendations finished on 2085000/2088478 queries. users per second: 6140.34</pre>"
      ],
      "text/plain": [
       "recommendations finished on 2085000/2088478 queries. users per second: 6140.34"
      ]
     },
     "metadata": {},
     "output_type": "display_data"
    },
    {
     "data": {
      "text/html": [
       "<pre>recommendations finished on 2086000/2088478 queries. users per second: 6141.16</pre>"
      ],
      "text/plain": [
       "recommendations finished on 2086000/2088478 queries. users per second: 6141.16"
      ]
     },
     "metadata": {},
     "output_type": "display_data"
    },
    {
     "data": {
      "text/html": [
       "<pre>recommendations finished on 2087000/2088478 queries. users per second: 6141.88</pre>"
      ],
      "text/plain": [
       "recommendations finished on 2087000/2088478 queries. users per second: 6141.88"
      ]
     },
     "metadata": {},
     "output_type": "display_data"
    },
    {
     "data": {
      "text/html": [
       "<pre>recommendations finished on 2088000/2088478 queries. users per second: 6142.67</pre>"
      ],
      "text/plain": [
       "recommendations finished on 2088000/2088478 queries. users per second: 6142.67"
      ]
     },
     "metadata": {},
     "output_type": "display_data"
    },
    {
     "data": {
      "text/html": [
       "<div style=\"max-height:1000px;max-width:1500px;overflow:auto;\"><table frame=\"box\" rules=\"cols\">\n",
       "    <tr>\n",
       "        <th style=\"padding-left: 1em; padding-right: 1em; text-align: center\">user_id</th>\n",
       "        <th style=\"padding-left: 1em; padding-right: 1em; text-align: center\">item_id</th>\n",
       "        <th style=\"padding-left: 1em; padding-right: 1em; text-align: center\">score</th>\n",
       "        <th style=\"padding-left: 1em; padding-right: 1em; text-align: center\">rank</th>\n",
       "    </tr>\n",
       "    <tr>\n",
       "        <td style=\"padding-left: 1em; padding-right: 1em; text-align: center; vertical-align: top\">A3R5OBKS7OM2IR</td>\n",
       "        <td style=\"padding-left: 1em; padding-right: 1em; text-align: center; vertical-align: top\">B000E1E2N6</td>\n",
       "        <td style=\"padding-left: 1em; padding-right: 1em; text-align: center; vertical-align: top\">0.0</td>\n",
       "        <td style=\"padding-left: 1em; padding-right: 1em; text-align: center; vertical-align: top\">1</td>\n",
       "    </tr>\n",
       "    <tr>\n",
       "        <td style=\"padding-left: 1em; padding-right: 1em; text-align: center; vertical-align: top\">A3R5OBKS7OM2IR</td>\n",
       "        <td style=\"padding-left: 1em; padding-right: 1em; text-align: center; vertical-align: top\">B000E0OBEC</td>\n",
       "        <td style=\"padding-left: 1em; padding-right: 1em; text-align: center; vertical-align: top\">0.0</td>\n",
       "        <td style=\"padding-left: 1em; padding-right: 1em; text-align: center; vertical-align: top\">2</td>\n",
       "    </tr>\n",
       "    <tr>\n",
       "        <td style=\"padding-left: 1em; padding-right: 1em; text-align: center; vertical-align: top\">A3R5OBKS7OM2IR</td>\n",
       "        <td style=\"padding-left: 1em; padding-right: 1em; text-align: center; vertical-align: top\">B003FSTN52</td>\n",
       "        <td style=\"padding-left: 1em; padding-right: 1em; text-align: center; vertical-align: top\">0.0</td>\n",
       "        <td style=\"padding-left: 1em; padding-right: 1em; text-align: center; vertical-align: top\">3</td>\n",
       "    </tr>\n",
       "    <tr>\n",
       "        <td style=\"padding-left: 1em; padding-right: 1em; text-align: center; vertical-align: top\">A3R5OBKS7OM2IR</td>\n",
       "        <td style=\"padding-left: 1em; padding-right: 1em; text-align: center; vertical-align: top\">B003EYVXV4</td>\n",
       "        <td style=\"padding-left: 1em; padding-right: 1em; text-align: center; vertical-align: top\">0.0</td>\n",
       "        <td style=\"padding-left: 1em; padding-right: 1em; text-align: center; vertical-align: top\">4</td>\n",
       "    </tr>\n",
       "    <tr>\n",
       "        <td style=\"padding-left: 1em; padding-right: 1em; text-align: center; vertical-align: top\">A3R5OBKS7OM2IR</td>\n",
       "        <td style=\"padding-left: 1em; padding-right: 1em; text-align: center; vertical-align: top\">B000CEXGAK</td>\n",
       "        <td style=\"padding-left: 1em; padding-right: 1em; text-align: center; vertical-align: top\">0.0</td>\n",
       "        <td style=\"padding-left: 1em; padding-right: 1em; text-align: center; vertical-align: top\">5</td>\n",
       "    </tr>\n",
       "    <tr>\n",
       "        <td style=\"padding-left: 1em; padding-right: 1em; text-align: center; vertical-align: top\">AH3QC2PC1VTGP</td>\n",
       "        <td style=\"padding-left: 1em; padding-right: 1em; text-align: center; vertical-align: top\">B00AIBZJ0C</td>\n",
       "        <td style=\"padding-left: 1em; padding-right: 1em; text-align: center; vertical-align: top\">0.00386697053909</td>\n",
       "        <td style=\"padding-left: 1em; padding-right: 1em; text-align: center; vertical-align: top\">1</td>\n",
       "    </tr>\n",
       "    <tr>\n",
       "        <td style=\"padding-left: 1em; padding-right: 1em; text-align: center; vertical-align: top\">AH3QC2PC1VTGP</td>\n",
       "        <td style=\"padding-left: 1em; padding-right: 1em; text-align: center; vertical-align: top\">B002ZG97TW</td>\n",
       "        <td style=\"padding-left: 1em; padding-right: 1em; text-align: center; vertical-align: top\">0.00337553024292</td>\n",
       "        <td style=\"padding-left: 1em; padding-right: 1em; text-align: center; vertical-align: top\">2</td>\n",
       "    </tr>\n",
       "    <tr>\n",
       "        <td style=\"padding-left: 1em; padding-right: 1em; text-align: center; vertical-align: top\">AH3QC2PC1VTGP</td>\n",
       "        <td style=\"padding-left: 1em; padding-right: 1em; text-align: center; vertical-align: top\">B004UXUWEC</td>\n",
       "        <td style=\"padding-left: 1em; padding-right: 1em; text-align: center; vertical-align: top\">0.00322371721268</td>\n",
       "        <td style=\"padding-left: 1em; padding-right: 1em; text-align: center; vertical-align: top\">3</td>\n",
       "    </tr>\n",
       "    <tr>\n",
       "        <td style=\"padding-left: 1em; padding-right: 1em; text-align: center; vertical-align: top\">AH3QC2PC1VTGP</td>\n",
       "        <td style=\"padding-left: 1em; padding-right: 1em; text-align: center; vertical-align: top\">B00BSN0VZ2</td>\n",
       "        <td style=\"padding-left: 1em; padding-right: 1em; text-align: center; vertical-align: top\">0.00310945510864</td>\n",
       "        <td style=\"padding-left: 1em; padding-right: 1em; text-align: center; vertical-align: top\">4</td>\n",
       "    </tr>\n",
       "    <tr>\n",
       "        <td style=\"padding-left: 1em; padding-right: 1em; text-align: center; vertical-align: top\">AH3QC2PC1VTGP</td>\n",
       "        <td style=\"padding-left: 1em; padding-right: 1em; text-align: center; vertical-align: top\">6304911599</td>\n",
       "        <td style=\"padding-left: 1em; padding-right: 1em; text-align: center; vertical-align: top\">0.00238094727198</td>\n",
       "        <td style=\"padding-left: 1em; padding-right: 1em; text-align: center; vertical-align: top\">5</td>\n",
       "    </tr>\n",
       "</table>\n",
       "[10442390 rows x 4 columns]<br/>Note: Only the head of the SFrame is printed.<br/>You can use print_rows(num_rows=m, num_columns=n) to print more rows and columns.\n",
       "</div>"
      ],
      "text/plain": [
       "Columns:\n",
       "\tuser_id\tstr\n",
       "\titem_id\tstr\n",
       "\tscore\tfloat\n",
       "\trank\tint\n",
       "\n",
       "Rows: 10442390\n",
       "\n",
       "Data:\n",
       "+----------------+------------+------------------+------+\n",
       "|    user_id     |  item_id   |      score       | rank |\n",
       "+----------------+------------+------------------+------+\n",
       "| A3R5OBKS7OM2IR | B000E1E2N6 |       0.0        |  1   |\n",
       "| A3R5OBKS7OM2IR | B000E0OBEC |       0.0        |  2   |\n",
       "| A3R5OBKS7OM2IR | B003FSTN52 |       0.0        |  3   |\n",
       "| A3R5OBKS7OM2IR | B003EYVXV4 |       0.0        |  4   |\n",
       "| A3R5OBKS7OM2IR | B000CEXGAK |       0.0        |  5   |\n",
       "| AH3QC2PC1VTGP  | B00AIBZJ0C | 0.00386697053909 |  1   |\n",
       "| AH3QC2PC1VTGP  | B002ZG97TW | 0.00337553024292 |  2   |\n",
       "| AH3QC2PC1VTGP  | B004UXUWEC | 0.00322371721268 |  3   |\n",
       "| AH3QC2PC1VTGP  | B00BSN0VZ2 | 0.00310945510864 |  4   |\n",
       "| AH3QC2PC1VTGP  | 6304911599 | 0.00238094727198 |  5   |\n",
       "+----------------+------------+------------------+------+\n",
       "[10442390 rows x 4 columns]\n",
       "Note: Only the head of the SFrame is printed.\n",
       "You can use print_rows(num_rows=m, num_columns=n) to print more rows and columns."
      ]
     },
     "execution_count": 14,
     "metadata": {},
     "output_type": "execute_result"
    }
   ],
   "source": [
    "model.recommend(items=validation_data['item_id'], k =5, random_seed=123)"
   ]
  },
  {
   "cell_type": "code",
   "execution_count": null,
   "metadata": {
    "collapsed": true
   },
   "outputs": [],
   "source": []
  }
 ],
 "metadata": {
  "kernelspec": {
   "display_name": "Python [conda env:gl-env]",
   "language": "python",
   "name": "conda-env-gl-env-py"
  },
  "language_info": {
   "codemirror_mode": {
    "name": "ipython",
    "version": 2
   },
   "file_extension": ".py",
   "mimetype": "text/x-python",
   "name": "python",
   "nbconvert_exporter": "python",
   "pygments_lexer": "ipython2",
   "version": "2.7.11"
  }
 },
 "nbformat": 4,
 "nbformat_minor": 2
}
