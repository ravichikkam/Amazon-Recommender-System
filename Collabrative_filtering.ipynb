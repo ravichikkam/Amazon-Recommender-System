{
 "cells": [
  {
   "cell_type": "markdown",
   "metadata": {},
   "source": [
    "# Amazon recommender system"
   ]
  },
  {
   "cell_type": "markdown",
   "metadata": {},
   "source": [
    "### Parse code and write to json"
   ]
  },
  {
   "cell_type": "code",
   "execution_count": 1,
   "metadata": {
    "collapsed": true
   },
   "outputs": [],
   "source": [
    "# import gzip\n",
    "# import simplejson\n",
    "\n",
    "# data = []\n",
    "# def parse(filename):\n",
    "#   f = gzip.open(filename, 'r')\n",
    "#   entry = {}\n",
    "#   for l in f:\n",
    "#     l = l.strip()\n",
    "#     colonPos = l.find(':')\n",
    "#     if colonPos == -1:\n",
    "#       yield entry\n",
    "#       entry = {}\n",
    "#       continue\n",
    "#     eName = l[:colonPos]\n",
    "#     rest = l[colonPos+2:]\n",
    "#     entry[eName] = rest\n",
    "#   yield entry\n",
    "\n",
    "# f = open(\"output.json\", 'w')\n",
    "# for e in parse(\"/Users/ravitejachikkam/Electronics.txt.gz\"):\n",
    "#   f.write(simplejson.dumps(e) + '\\n')"
   ]
  },
  {
   "cell_type": "code",
   "execution_count": 2,
   "metadata": {
    "collapsed": true
   },
   "outputs": [],
   "source": [
    "import pandas as pd"
   ]
  },
  {
   "cell_type": "markdown",
   "metadata": {},
   "source": [
    "### Read json file, parse and convert to SFrame"
   ]
  },
  {
   "cell_type": "code",
   "execution_count": 5,
   "metadata": {},
   "outputs": [
    {
     "data": {
      "text/html": [
       "<div>\n",
       "<table border=\"1\" class=\"dataframe\">\n",
       "  <thead>\n",
       "    <tr style=\"text-align: right;\">\n",
       "      <th></th>\n",
       "      <th>0</th>\n",
       "      <th>1</th>\n",
       "      <th>2</th>\n",
       "      <th>3</th>\n",
       "    </tr>\n",
       "  </thead>\n",
       "  <tbody>\n",
       "    <tr>\n",
       "      <th>0</th>\n",
       "      <td>A3R5OBKS7OM2IR</td>\n",
       "      <td>0000143502</td>\n",
       "      <td>5.0</td>\n",
       "      <td>1358380800</td>\n",
       "    </tr>\n",
       "    <tr>\n",
       "      <th>1</th>\n",
       "      <td>A3R5OBKS7OM2IR</td>\n",
       "      <td>0000143529</td>\n",
       "      <td>5.0</td>\n",
       "      <td>1380672000</td>\n",
       "    </tr>\n",
       "    <tr>\n",
       "      <th>2</th>\n",
       "      <td>AH3QC2PC1VTGP</td>\n",
       "      <td>0000143561</td>\n",
       "      <td>2.0</td>\n",
       "      <td>1216252800</td>\n",
       "    </tr>\n",
       "    <tr>\n",
       "      <th>3</th>\n",
       "      <td>A3LKP6WPMP9UKX</td>\n",
       "      <td>0000143588</td>\n",
       "      <td>5.0</td>\n",
       "      <td>1236902400</td>\n",
       "    </tr>\n",
       "    <tr>\n",
       "      <th>4</th>\n",
       "      <td>AVIY68KEPQ5ZD</td>\n",
       "      <td>0000143588</td>\n",
       "      <td>5.0</td>\n",
       "      <td>1232236800</td>\n",
       "    </tr>\n",
       "    <tr>\n",
       "      <th>5</th>\n",
       "      <td>A1CV1WROP5KTTW</td>\n",
       "      <td>0000589012</td>\n",
       "      <td>5.0</td>\n",
       "      <td>1309651200</td>\n",
       "    </tr>\n",
       "    <tr>\n",
       "      <th>6</th>\n",
       "      <td>AP57WZ2X4G0AA</td>\n",
       "      <td>0000589012</td>\n",
       "      <td>2.0</td>\n",
       "      <td>1366675200</td>\n",
       "    </tr>\n",
       "    <tr>\n",
       "      <th>7</th>\n",
       "      <td>A3NMBJ2LCRCATT</td>\n",
       "      <td>0000589012</td>\n",
       "      <td>5.0</td>\n",
       "      <td>1393804800</td>\n",
       "    </tr>\n",
       "    <tr>\n",
       "      <th>8</th>\n",
       "      <td>A5Y15SAOMX6XA</td>\n",
       "      <td>0000589012</td>\n",
       "      <td>2.0</td>\n",
       "      <td>1307404800</td>\n",
       "    </tr>\n",
       "    <tr>\n",
       "      <th>9</th>\n",
       "      <td>A3P671HJ32TCSF</td>\n",
       "      <td>0000589012</td>\n",
       "      <td>5.0</td>\n",
       "      <td>1393718400</td>\n",
       "    </tr>\n",
       "  </tbody>\n",
       "</table>\n",
       "</div>"
      ],
      "text/plain": [
       "                0           1    2           3\n",
       "0  A3R5OBKS7OM2IR  0000143502  5.0  1358380800\n",
       "1  A3R5OBKS7OM2IR  0000143529  5.0  1380672000\n",
       "2   AH3QC2PC1VTGP  0000143561  2.0  1216252800\n",
       "3  A3LKP6WPMP9UKX  0000143588  5.0  1236902400\n",
       "4   AVIY68KEPQ5ZD  0000143588  5.0  1232236800\n",
       "5  A1CV1WROP5KTTW  0000589012  5.0  1309651200\n",
       "6   AP57WZ2X4G0AA  0000589012  2.0  1366675200\n",
       "7  A3NMBJ2LCRCATT  0000589012  5.0  1393804800\n",
       "8   A5Y15SAOMX6XA  0000589012  2.0  1307404800\n",
       "9  A3P671HJ32TCSF  0000589012  5.0  1393718400"
      ]
     },
     "execution_count": 5,
     "metadata": {},
     "output_type": "execute_result"
    }
   ],
   "source": [
    "data = pd.read_csv(\"/Users/ravitejachikkam/Documents/ASU/Academics/Spring_2018/IEE598/project/ratings_Movies_and_TV.csv\", header=None)\n",
    "data.head(10)"
   ]
  },
  {
   "cell_type": "code",
   "execution_count": 6,
   "metadata": {},
   "outputs": [
    {
     "data": {
      "text/html": [
       "<div>\n",
       "<table border=\"1\" class=\"dataframe\">\n",
       "  <thead>\n",
       "    <tr style=\"text-align: right;\">\n",
       "      <th></th>\n",
       "      <th>userid</th>\n",
       "      <th>productid</th>\n",
       "      <th>rating</th>\n",
       "    </tr>\n",
       "  </thead>\n",
       "  <tbody>\n",
       "    <tr>\n",
       "      <th>0</th>\n",
       "      <td>A3R5OBKS7OM2IR</td>\n",
       "      <td>0000143502</td>\n",
       "      <td>5.0</td>\n",
       "    </tr>\n",
       "    <tr>\n",
       "      <th>1</th>\n",
       "      <td>A3R5OBKS7OM2IR</td>\n",
       "      <td>0000143529</td>\n",
       "      <td>5.0</td>\n",
       "    </tr>\n",
       "    <tr>\n",
       "      <th>2</th>\n",
       "      <td>AH3QC2PC1VTGP</td>\n",
       "      <td>0000143561</td>\n",
       "      <td>2.0</td>\n",
       "    </tr>\n",
       "    <tr>\n",
       "      <th>3</th>\n",
       "      <td>A3LKP6WPMP9UKX</td>\n",
       "      <td>0000143588</td>\n",
       "      <td>5.0</td>\n",
       "    </tr>\n",
       "    <tr>\n",
       "      <th>4</th>\n",
       "      <td>AVIY68KEPQ5ZD</td>\n",
       "      <td>0000143588</td>\n",
       "      <td>5.0</td>\n",
       "    </tr>\n",
       "    <tr>\n",
       "      <th>5</th>\n",
       "      <td>A1CV1WROP5KTTW</td>\n",
       "      <td>0000589012</td>\n",
       "      <td>5.0</td>\n",
       "    </tr>\n",
       "    <tr>\n",
       "      <th>6</th>\n",
       "      <td>AP57WZ2X4G0AA</td>\n",
       "      <td>0000589012</td>\n",
       "      <td>2.0</td>\n",
       "    </tr>\n",
       "    <tr>\n",
       "      <th>7</th>\n",
       "      <td>A3NMBJ2LCRCATT</td>\n",
       "      <td>0000589012</td>\n",
       "      <td>5.0</td>\n",
       "    </tr>\n",
       "    <tr>\n",
       "      <th>8</th>\n",
       "      <td>A5Y15SAOMX6XA</td>\n",
       "      <td>0000589012</td>\n",
       "      <td>2.0</td>\n",
       "    </tr>\n",
       "    <tr>\n",
       "      <th>9</th>\n",
       "      <td>A3P671HJ32TCSF</td>\n",
       "      <td>0000589012</td>\n",
       "      <td>5.0</td>\n",
       "    </tr>\n",
       "    <tr>\n",
       "      <th>10</th>\n",
       "      <td>A3VCKTRD24BG7K</td>\n",
       "      <td>0000589012</td>\n",
       "      <td>5.0</td>\n",
       "    </tr>\n",
       "    <tr>\n",
       "      <th>11</th>\n",
       "      <td>ANF0AGIV0JCH2</td>\n",
       "      <td>0000589012</td>\n",
       "      <td>5.0</td>\n",
       "    </tr>\n",
       "    <tr>\n",
       "      <th>12</th>\n",
       "      <td>A3LDEBLV6MVUBE</td>\n",
       "      <td>0000589012</td>\n",
       "      <td>5.0</td>\n",
       "    </tr>\n",
       "    <tr>\n",
       "      <th>13</th>\n",
       "      <td>A1R2XZWQ6NM5M1</td>\n",
       "      <td>0000589012</td>\n",
       "      <td>5.0</td>\n",
       "    </tr>\n",
       "    <tr>\n",
       "      <th>14</th>\n",
       "      <td>A36L1XGA5AQIJY</td>\n",
       "      <td>0000589012</td>\n",
       "      <td>1.0</td>\n",
       "    </tr>\n",
       "    <tr>\n",
       "      <th>15</th>\n",
       "      <td>A2HWI21H23GDS4</td>\n",
       "      <td>0000589012</td>\n",
       "      <td>4.0</td>\n",
       "    </tr>\n",
       "    <tr>\n",
       "      <th>16</th>\n",
       "      <td>A1DNYFL3RSXRMO</td>\n",
       "      <td>0000589012</td>\n",
       "      <td>5.0</td>\n",
       "    </tr>\n",
       "    <tr>\n",
       "      <th>17</th>\n",
       "      <td>A39VF226GBM1JH</td>\n",
       "      <td>0000589012</td>\n",
       "      <td>1.0</td>\n",
       "    </tr>\n",
       "    <tr>\n",
       "      <th>18</th>\n",
       "      <td>ASB0E2O2FLNA7</td>\n",
       "      <td>0000589012</td>\n",
       "      <td>5.0</td>\n",
       "    </tr>\n",
       "    <tr>\n",
       "      <th>19</th>\n",
       "      <td>A19E15Y9V09CVJ</td>\n",
       "      <td>0000589012</td>\n",
       "      <td>5.0</td>\n",
       "    </tr>\n",
       "    <tr>\n",
       "      <th>20</th>\n",
       "      <td>A3K979KQ7K0S5K</td>\n",
       "      <td>0000589012</td>\n",
       "      <td>5.0</td>\n",
       "    </tr>\n",
       "    <tr>\n",
       "      <th>21</th>\n",
       "      <td>A39ZX6X5H2N4TS</td>\n",
       "      <td>0000589012</td>\n",
       "      <td>5.0</td>\n",
       "    </tr>\n",
       "    <tr>\n",
       "      <th>22</th>\n",
       "      <td>A2Z3ZHQI6YXKHH</td>\n",
       "      <td>0000589012</td>\n",
       "      <td>5.0</td>\n",
       "    </tr>\n",
       "    <tr>\n",
       "      <th>23</th>\n",
       "      <td>A2RNKU9KJHQ2BV</td>\n",
       "      <td>0000589012</td>\n",
       "      <td>5.0</td>\n",
       "    </tr>\n",
       "    <tr>\n",
       "      <th>24</th>\n",
       "      <td>A30WLYNJA3B17H</td>\n",
       "      <td>0000589012</td>\n",
       "      <td>5.0</td>\n",
       "    </tr>\n",
       "    <tr>\n",
       "      <th>25</th>\n",
       "      <td>A3LI15T4YR5WD6</td>\n",
       "      <td>0000589012</td>\n",
       "      <td>5.0</td>\n",
       "    </tr>\n",
       "    <tr>\n",
       "      <th>26</th>\n",
       "      <td>AV3UWBH6K0ETD</td>\n",
       "      <td>0000589012</td>\n",
       "      <td>2.0</td>\n",
       "    </tr>\n",
       "    <tr>\n",
       "      <th>27</th>\n",
       "      <td>A312A70K5UUL1N</td>\n",
       "      <td>0000589012</td>\n",
       "      <td>1.0</td>\n",
       "    </tr>\n",
       "    <tr>\n",
       "      <th>28</th>\n",
       "      <td>A23PSBNOBPLCOM</td>\n",
       "      <td>0000589012</td>\n",
       "      <td>5.0</td>\n",
       "    </tr>\n",
       "    <tr>\n",
       "      <th>29</th>\n",
       "      <td>ATEOWCA0EHRQR</td>\n",
       "      <td>0000589012</td>\n",
       "      <td>5.0</td>\n",
       "    </tr>\n",
       "    <tr>\n",
       "      <th>...</th>\n",
       "      <td>...</td>\n",
       "      <td>...</td>\n",
       "      <td>...</td>\n",
       "    </tr>\n",
       "    <tr>\n",
       "      <th>4607017</th>\n",
       "      <td>A373WTUU2A4TB1</td>\n",
       "      <td>B00LT1JHLW</td>\n",
       "      <td>1.0</td>\n",
       "    </tr>\n",
       "    <tr>\n",
       "      <th>4607018</th>\n",
       "      <td>APO10VQE3MAKE</td>\n",
       "      <td>B00LT1JHLW</td>\n",
       "      <td>5.0</td>\n",
       "    </tr>\n",
       "    <tr>\n",
       "      <th>4607019</th>\n",
       "      <td>A3SXHFEBPOKVUH</td>\n",
       "      <td>B00LT1JHLW</td>\n",
       "      <td>2.0</td>\n",
       "    </tr>\n",
       "    <tr>\n",
       "      <th>4607020</th>\n",
       "      <td>A27BVKLQCW1LCK</td>\n",
       "      <td>B00LT1JHLW</td>\n",
       "      <td>1.0</td>\n",
       "    </tr>\n",
       "    <tr>\n",
       "      <th>4607021</th>\n",
       "      <td>A2MDEBN84TK4HY</td>\n",
       "      <td>B00LT1JHLW</td>\n",
       "      <td>5.0</td>\n",
       "    </tr>\n",
       "    <tr>\n",
       "      <th>4607022</th>\n",
       "      <td>A1WIEH8LK7GX7F</td>\n",
       "      <td>B00LT1JHLW</td>\n",
       "      <td>3.0</td>\n",
       "    </tr>\n",
       "    <tr>\n",
       "      <th>4607023</th>\n",
       "      <td>A2HQOBGW2YYVWQ</td>\n",
       "      <td>B00LT1JHLW</td>\n",
       "      <td>5.0</td>\n",
       "    </tr>\n",
       "    <tr>\n",
       "      <th>4607024</th>\n",
       "      <td>A3PPYOJBMFBP6U</td>\n",
       "      <td>B00LT1JHLW</td>\n",
       "      <td>4.0</td>\n",
       "    </tr>\n",
       "    <tr>\n",
       "      <th>4607025</th>\n",
       "      <td>AZ53XS4PR44Y6</td>\n",
       "      <td>B00LT1JHLW</td>\n",
       "      <td>5.0</td>\n",
       "    </tr>\n",
       "    <tr>\n",
       "      <th>4607026</th>\n",
       "      <td>A1SUH1KA8QVMB7</td>\n",
       "      <td>B00LT1JHLW</td>\n",
       "      <td>5.0</td>\n",
       "    </tr>\n",
       "    <tr>\n",
       "      <th>4607027</th>\n",
       "      <td>ABR3VSYZC1U8E</td>\n",
       "      <td>B00LT1JHLW</td>\n",
       "      <td>5.0</td>\n",
       "    </tr>\n",
       "    <tr>\n",
       "      <th>4607028</th>\n",
       "      <td>A3UHLJGZ2E84A5</td>\n",
       "      <td>B00LT1JHLW</td>\n",
       "      <td>3.0</td>\n",
       "    </tr>\n",
       "    <tr>\n",
       "      <th>4607029</th>\n",
       "      <td>A3GETW3JAL83CW</td>\n",
       "      <td>B00LT1JHLW</td>\n",
       "      <td>5.0</td>\n",
       "    </tr>\n",
       "    <tr>\n",
       "      <th>4607030</th>\n",
       "      <td>A2W4094HU4OLC2</td>\n",
       "      <td>B00LT1JHLW</td>\n",
       "      <td>5.0</td>\n",
       "    </tr>\n",
       "    <tr>\n",
       "      <th>4607031</th>\n",
       "      <td>A22OB0DIJ5FO0G</td>\n",
       "      <td>B00LT1JHLW</td>\n",
       "      <td>4.0</td>\n",
       "    </tr>\n",
       "    <tr>\n",
       "      <th>4607032</th>\n",
       "      <td>A3N9VZS1HE5FHN</td>\n",
       "      <td>B00LT1JHLW</td>\n",
       "      <td>5.0</td>\n",
       "    </tr>\n",
       "    <tr>\n",
       "      <th>4607033</th>\n",
       "      <td>A2CA2Q6JS6CQAE</td>\n",
       "      <td>B00LT1JHLW</td>\n",
       "      <td>5.0</td>\n",
       "    </tr>\n",
       "    <tr>\n",
       "      <th>4607034</th>\n",
       "      <td>AV657BUYHHXZ2</td>\n",
       "      <td>B00LT1JHLW</td>\n",
       "      <td>1.0</td>\n",
       "    </tr>\n",
       "    <tr>\n",
       "      <th>4607035</th>\n",
       "      <td>A1WJYTH5MZ4XMG</td>\n",
       "      <td>B00LT1JHLW</td>\n",
       "      <td>2.0</td>\n",
       "    </tr>\n",
       "    <tr>\n",
       "      <th>4607036</th>\n",
       "      <td>A39ZVXBZ7SJJZ9</td>\n",
       "      <td>B00LT1JHLW</td>\n",
       "      <td>1.0</td>\n",
       "    </tr>\n",
       "    <tr>\n",
       "      <th>4607037</th>\n",
       "      <td>A17W587EH23J0Q</td>\n",
       "      <td>B00LT1JHLW</td>\n",
       "      <td>5.0</td>\n",
       "    </tr>\n",
       "    <tr>\n",
       "      <th>4607038</th>\n",
       "      <td>A3E4Q2YOYCKXON</td>\n",
       "      <td>B00LT1JHLW</td>\n",
       "      <td>5.0</td>\n",
       "    </tr>\n",
       "    <tr>\n",
       "      <th>4607039</th>\n",
       "      <td>A1U1UNV1RLCKRL</td>\n",
       "      <td>B00LT1JHLW</td>\n",
       "      <td>3.0</td>\n",
       "    </tr>\n",
       "    <tr>\n",
       "      <th>4607040</th>\n",
       "      <td>A14THKG1X8861X</td>\n",
       "      <td>B00LT1JHLW</td>\n",
       "      <td>5.0</td>\n",
       "    </tr>\n",
       "    <tr>\n",
       "      <th>4607041</th>\n",
       "      <td>A3DE438TF1A958</td>\n",
       "      <td>B00LT1JHLW</td>\n",
       "      <td>5.0</td>\n",
       "    </tr>\n",
       "    <tr>\n",
       "      <th>4607042</th>\n",
       "      <td>AHCV1RTGY3PJ8</td>\n",
       "      <td>B00LT1JHLW</td>\n",
       "      <td>5.0</td>\n",
       "    </tr>\n",
       "    <tr>\n",
       "      <th>4607043</th>\n",
       "      <td>A2RWCXDMANY0LW</td>\n",
       "      <td>B00LT1JHLW</td>\n",
       "      <td>5.0</td>\n",
       "    </tr>\n",
       "    <tr>\n",
       "      <th>4607044</th>\n",
       "      <td>A3V9PIFRME2XCW</td>\n",
       "      <td>B00LT1JHLW</td>\n",
       "      <td>5.0</td>\n",
       "    </tr>\n",
       "    <tr>\n",
       "      <th>4607045</th>\n",
       "      <td>A3ROPC55BE2OM9</td>\n",
       "      <td>B00LT1JHLW</td>\n",
       "      <td>5.0</td>\n",
       "    </tr>\n",
       "    <tr>\n",
       "      <th>4607046</th>\n",
       "      <td>A2ARBNMH5Q5YM1</td>\n",
       "      <td>B00LVGP8EA</td>\n",
       "      <td>5.0</td>\n",
       "    </tr>\n",
       "  </tbody>\n",
       "</table>\n",
       "<p>4607047 rows × 3 columns</p>\n",
       "</div>"
      ],
      "text/plain": [
       "                 userid   productid  rating\n",
       "0        A3R5OBKS7OM2IR  0000143502     5.0\n",
       "1        A3R5OBKS7OM2IR  0000143529     5.0\n",
       "2         AH3QC2PC1VTGP  0000143561     2.0\n",
       "3        A3LKP6WPMP9UKX  0000143588     5.0\n",
       "4         AVIY68KEPQ5ZD  0000143588     5.0\n",
       "5        A1CV1WROP5KTTW  0000589012     5.0\n",
       "6         AP57WZ2X4G0AA  0000589012     2.0\n",
       "7        A3NMBJ2LCRCATT  0000589012     5.0\n",
       "8         A5Y15SAOMX6XA  0000589012     2.0\n",
       "9        A3P671HJ32TCSF  0000589012     5.0\n",
       "10       A3VCKTRD24BG7K  0000589012     5.0\n",
       "11        ANF0AGIV0JCH2  0000589012     5.0\n",
       "12       A3LDEBLV6MVUBE  0000589012     5.0\n",
       "13       A1R2XZWQ6NM5M1  0000589012     5.0\n",
       "14       A36L1XGA5AQIJY  0000589012     1.0\n",
       "15       A2HWI21H23GDS4  0000589012     4.0\n",
       "16       A1DNYFL3RSXRMO  0000589012     5.0\n",
       "17       A39VF226GBM1JH  0000589012     1.0\n",
       "18        ASB0E2O2FLNA7  0000589012     5.0\n",
       "19       A19E15Y9V09CVJ  0000589012     5.0\n",
       "20       A3K979KQ7K0S5K  0000589012     5.0\n",
       "21       A39ZX6X5H2N4TS  0000589012     5.0\n",
       "22       A2Z3ZHQI6YXKHH  0000589012     5.0\n",
       "23       A2RNKU9KJHQ2BV  0000589012     5.0\n",
       "24       A30WLYNJA3B17H  0000589012     5.0\n",
       "25       A3LI15T4YR5WD6  0000589012     5.0\n",
       "26        AV3UWBH6K0ETD  0000589012     2.0\n",
       "27       A312A70K5UUL1N  0000589012     1.0\n",
       "28       A23PSBNOBPLCOM  0000589012     5.0\n",
       "29        ATEOWCA0EHRQR  0000589012     5.0\n",
       "...                 ...         ...     ...\n",
       "4607017  A373WTUU2A4TB1  B00LT1JHLW     1.0\n",
       "4607018   APO10VQE3MAKE  B00LT1JHLW     5.0\n",
       "4607019  A3SXHFEBPOKVUH  B00LT1JHLW     2.0\n",
       "4607020  A27BVKLQCW1LCK  B00LT1JHLW     1.0\n",
       "4607021  A2MDEBN84TK4HY  B00LT1JHLW     5.0\n",
       "4607022  A1WIEH8LK7GX7F  B00LT1JHLW     3.0\n",
       "4607023  A2HQOBGW2YYVWQ  B00LT1JHLW     5.0\n",
       "4607024  A3PPYOJBMFBP6U  B00LT1JHLW     4.0\n",
       "4607025   AZ53XS4PR44Y6  B00LT1JHLW     5.0\n",
       "4607026  A1SUH1KA8QVMB7  B00LT1JHLW     5.0\n",
       "4607027   ABR3VSYZC1U8E  B00LT1JHLW     5.0\n",
       "4607028  A3UHLJGZ2E84A5  B00LT1JHLW     3.0\n",
       "4607029  A3GETW3JAL83CW  B00LT1JHLW     5.0\n",
       "4607030  A2W4094HU4OLC2  B00LT1JHLW     5.0\n",
       "4607031  A22OB0DIJ5FO0G  B00LT1JHLW     4.0\n",
       "4607032  A3N9VZS1HE5FHN  B00LT1JHLW     5.0\n",
       "4607033  A2CA2Q6JS6CQAE  B00LT1JHLW     5.0\n",
       "4607034   AV657BUYHHXZ2  B00LT1JHLW     1.0\n",
       "4607035  A1WJYTH5MZ4XMG  B00LT1JHLW     2.0\n",
       "4607036  A39ZVXBZ7SJJZ9  B00LT1JHLW     1.0\n",
       "4607037  A17W587EH23J0Q  B00LT1JHLW     5.0\n",
       "4607038  A3E4Q2YOYCKXON  B00LT1JHLW     5.0\n",
       "4607039  A1U1UNV1RLCKRL  B00LT1JHLW     3.0\n",
       "4607040  A14THKG1X8861X  B00LT1JHLW     5.0\n",
       "4607041  A3DE438TF1A958  B00LT1JHLW     5.0\n",
       "4607042   AHCV1RTGY3PJ8  B00LT1JHLW     5.0\n",
       "4607043  A2RWCXDMANY0LW  B00LT1JHLW     5.0\n",
       "4607044  A3V9PIFRME2XCW  B00LT1JHLW     5.0\n",
       "4607045  A3ROPC55BE2OM9  B00LT1JHLW     5.0\n",
       "4607046  A2ARBNMH5Q5YM1  B00LVGP8EA     5.0\n",
       "\n",
       "[4607047 rows x 3 columns]"
      ]
     },
     "execution_count": 6,
     "metadata": {},
     "output_type": "execute_result"
    }
   ],
   "source": [
    "data.columns = [\"userid\", \"productid\", \"rating\", \"timestamp\"]\n",
    "data.drop([\"timestamp\"], axis = 1)"
   ]
  },
  {
   "cell_type": "code",
   "execution_count": 7,
   "metadata": {
    "collapsed": true
   },
   "outputs": [],
   "source": [
    "import graphlab as gl"
   ]
  },
  {
   "cell_type": "code",
   "execution_count": 8,
   "metadata": {},
   "outputs": [
    {
     "name": "stdout",
     "output_type": "stream",
     "text": [
      "This non-commercial license of GraphLab Create for academic use is assigned to rchikkam@asu.edu and will expire on April 14, 2019.\n"
     ]
    },
    {
     "name": "stderr",
     "output_type": "stream",
     "text": [
      "[INFO] graphlab.cython.cy_server: GraphLab Create v2.1 started. Logging: /tmp/graphlab_server_1525039031.log\n"
     ]
    }
   ],
   "source": [
    "sf = gl.SFrame({'user_id': data['userid'],\n",
    "                      'item_id': data['productid'],\n",
    "                      'rating': data['rating']})"
   ]
  },
  {
   "cell_type": "markdown",
   "metadata": {},
   "source": [
    "#### Split data to create validation and training data"
   ]
  },
  {
   "cell_type": "code",
   "execution_count": 15,
   "metadata": {
    "collapsed": true
   },
   "outputs": [],
   "source": [
    "training_data, validation_data = gl.recommender.util.random_split_by_user(sf, 'user_id', 'item_id', random_seed=123)"
   ]
  },
  {
   "cell_type": "markdown",
   "metadata": {},
   "source": [
    "#### Creating popularity based recommender system"
   ]
  },
  {
   "cell_type": "code",
   "execution_count": 16,
   "metadata": {},
   "outputs": [
    {
     "data": {
      "text/html": [
       "<pre>Recsys training: model = popularity</pre>"
      ],
      "text/plain": [
       "Recsys training: model = popularity"
      ]
     },
     "metadata": {},
     "output_type": "display_data"
    },
    {
     "data": {
      "text/html": [
       "<pre>Preparing data set.</pre>"
      ],
      "text/plain": [
       "Preparing data set."
      ]
     },
     "metadata": {},
     "output_type": "display_data"
    },
    {
     "data": {
      "text/html": [
       "<pre>    Data has 4606615 observations with 2088467 users and 200936 items.</pre>"
      ],
      "text/plain": [
       "    Data has 4606615 observations with 2088467 users and 200936 items."
      ]
     },
     "metadata": {},
     "output_type": "display_data"
    },
    {
     "data": {
      "text/html": [
       "<pre>    Data prepared in: 13.246s</pre>"
      ],
      "text/plain": [
       "    Data prepared in: 13.246s"
      ]
     },
     "metadata": {},
     "output_type": "display_data"
    },
    {
     "data": {
      "text/html": [
       "<pre>4606615 observations to process; with 200936 unique items.</pre>"
      ],
      "text/plain": [
       "4606615 observations to process; with 200936 unique items."
      ]
     },
     "metadata": {},
     "output_type": "display_data"
    }
   ],
   "source": [
    "popularity_model = gl.popularity_recommender.create(training_data, user_id='user_id', item_id='item_id', target='rating')"
   ]
  },
  {
   "cell_type": "markdown",
   "metadata": {},
   "source": [
    "### using popularity based recommender to recommend items for users in validation data"
   ]
  },
  {
   "cell_type": "code",
   "execution_count": 17,
   "metadata": {},
   "outputs": [
    {
     "data": {
      "text/html": [
       "<div style=\"max-height:1000px;max-width:1500px;overflow:auto;\"><table frame=\"box\" rules=\"cols\">\n",
       "    <tr>\n",
       "        <th style=\"padding-left: 1em; padding-right: 1em; text-align: center\">user_id</th>\n",
       "        <th style=\"padding-left: 1em; padding-right: 1em; text-align: center\">item_id</th>\n",
       "        <th style=\"padding-left: 1em; padding-right: 1em; text-align: center\">score</th>\n",
       "        <th style=\"padding-left: 1em; padding-right: 1em; text-align: center\">rank</th>\n",
       "    </tr>\n",
       "    <tr>\n",
       "        <td style=\"padding-left: 1em; padding-right: 1em; text-align: center; vertical-align: top\">A13AZVPEWEK1YC</td>\n",
       "        <td style=\"padding-left: 1em; padding-right: 1em; text-align: center; vertical-align: top\">000107461X</td>\n",
       "        <td style=\"padding-left: 1em; padding-right: 1em; text-align: center; vertical-align: top\">5.0</td>\n",
       "        <td style=\"padding-left: 1em; padding-right: 1em; text-align: center; vertical-align: top\">1</td>\n",
       "    </tr>\n",
       "    <tr>\n",
       "        <td style=\"padding-left: 1em; padding-right: 1em; text-align: center; vertical-align: top\">A13AZVPEWEK1YC</td>\n",
       "        <td style=\"padding-left: 1em; padding-right: 1em; text-align: center; vertical-align: top\">0000791156</td>\n",
       "        <td style=\"padding-left: 1em; padding-right: 1em; text-align: center; vertical-align: top\">5.0</td>\n",
       "        <td style=\"padding-left: 1em; padding-right: 1em; text-align: center; vertical-align: top\">2</td>\n",
       "    </tr>\n",
       "    <tr>\n",
       "        <td style=\"padding-left: 1em; padding-right: 1em; text-align: center; vertical-align: top\">A13AZVPEWEK1YC</td>\n",
       "        <td style=\"padding-left: 1em; padding-right: 1em; text-align: center; vertical-align: top\">0000143588</td>\n",
       "        <td style=\"padding-left: 1em; padding-right: 1em; text-align: center; vertical-align: top\">5.0</td>\n",
       "        <td style=\"padding-left: 1em; padding-right: 1em; text-align: center; vertical-align: top\">3</td>\n",
       "    </tr>\n",
       "    <tr>\n",
       "        <td style=\"padding-left: 1em; padding-right: 1em; text-align: center; vertical-align: top\">A13AZVPEWEK1YC</td>\n",
       "        <td style=\"padding-left: 1em; padding-right: 1em; text-align: center; vertical-align: top\">0000143529</td>\n",
       "        <td style=\"padding-left: 1em; padding-right: 1em; text-align: center; vertical-align: top\">5.0</td>\n",
       "        <td style=\"padding-left: 1em; padding-right: 1em; text-align: center; vertical-align: top\">4</td>\n",
       "    </tr>\n",
       "    <tr>\n",
       "        <td style=\"padding-left: 1em; padding-right: 1em; text-align: center; vertical-align: top\">A13AZVPEWEK1YC</td>\n",
       "        <td style=\"padding-left: 1em; padding-right: 1em; text-align: center; vertical-align: top\">0000143502</td>\n",
       "        <td style=\"padding-left: 1em; padding-right: 1em; text-align: center; vertical-align: top\">5.0</td>\n",
       "        <td style=\"padding-left: 1em; padding-right: 1em; text-align: center; vertical-align: top\">5</td>\n",
       "    </tr>\n",
       "    <tr>\n",
       "        <td style=\"padding-left: 1em; padding-right: 1em; text-align: center; vertical-align: top\">A1EQZH1RGLW6T3</td>\n",
       "        <td style=\"padding-left: 1em; padding-right: 1em; text-align: center; vertical-align: top\">000107461X</td>\n",
       "        <td style=\"padding-left: 1em; padding-right: 1em; text-align: center; vertical-align: top\">5.0</td>\n",
       "        <td style=\"padding-left: 1em; padding-right: 1em; text-align: center; vertical-align: top\">1</td>\n",
       "    </tr>\n",
       "    <tr>\n",
       "        <td style=\"padding-left: 1em; padding-right: 1em; text-align: center; vertical-align: top\">A1EQZH1RGLW6T3</td>\n",
       "        <td style=\"padding-left: 1em; padding-right: 1em; text-align: center; vertical-align: top\">0000791156</td>\n",
       "        <td style=\"padding-left: 1em; padding-right: 1em; text-align: center; vertical-align: top\">5.0</td>\n",
       "        <td style=\"padding-left: 1em; padding-right: 1em; text-align: center; vertical-align: top\">2</td>\n",
       "    </tr>\n",
       "    <tr>\n",
       "        <td style=\"padding-left: 1em; padding-right: 1em; text-align: center; vertical-align: top\">A1EQZH1RGLW6T3</td>\n",
       "        <td style=\"padding-left: 1em; padding-right: 1em; text-align: center; vertical-align: top\">0000143588</td>\n",
       "        <td style=\"padding-left: 1em; padding-right: 1em; text-align: center; vertical-align: top\">5.0</td>\n",
       "        <td style=\"padding-left: 1em; padding-right: 1em; text-align: center; vertical-align: top\">3</td>\n",
       "    </tr>\n",
       "    <tr>\n",
       "        <td style=\"padding-left: 1em; padding-right: 1em; text-align: center; vertical-align: top\">A1EQZH1RGLW6T3</td>\n",
       "        <td style=\"padding-left: 1em; padding-right: 1em; text-align: center; vertical-align: top\">0000143529</td>\n",
       "        <td style=\"padding-left: 1em; padding-right: 1em; text-align: center; vertical-align: top\">5.0</td>\n",
       "        <td style=\"padding-left: 1em; padding-right: 1em; text-align: center; vertical-align: top\">4</td>\n",
       "    </tr>\n",
       "    <tr>\n",
       "        <td style=\"padding-left: 1em; padding-right: 1em; text-align: center; vertical-align: top\">A1EQZH1RGLW6T3</td>\n",
       "        <td style=\"padding-left: 1em; padding-right: 1em; text-align: center; vertical-align: top\">0000143502</td>\n",
       "        <td style=\"padding-left: 1em; padding-right: 1em; text-align: center; vertical-align: top\">5.0</td>\n",
       "        <td style=\"padding-left: 1em; padding-right: 1em; text-align: center; vertical-align: top\">5</td>\n",
       "    </tr>\n",
       "</table>\n",
       "[2160 rows x 4 columns]<br/>Note: Only the head of the SFrame is printed.<br/>You can use print_rows(num_rows=m, num_columns=n) to print more rows and columns.\n",
       "</div>"
      ],
      "text/plain": [
       "Columns:\n",
       "\tuser_id\tstr\n",
       "\titem_id\tstr\n",
       "\tscore\tfloat\n",
       "\trank\tint\n",
       "\n",
       "Rows: 2160\n",
       "\n",
       "Data:\n",
       "+----------------+------------+-------+------+\n",
       "|    user_id     |  item_id   | score | rank |\n",
       "+----------------+------------+-------+------+\n",
       "| A13AZVPEWEK1YC | 000107461X |  5.0  |  1   |\n",
       "| A13AZVPEWEK1YC | 0000791156 |  5.0  |  2   |\n",
       "| A13AZVPEWEK1YC | 0000143588 |  5.0  |  3   |\n",
       "| A13AZVPEWEK1YC | 0000143529 |  5.0  |  4   |\n",
       "| A13AZVPEWEK1YC | 0000143502 |  5.0  |  5   |\n",
       "| A1EQZH1RGLW6T3 | 000107461X |  5.0  |  1   |\n",
       "| A1EQZH1RGLW6T3 | 0000791156 |  5.0  |  2   |\n",
       "| A1EQZH1RGLW6T3 | 0000143588 |  5.0  |  3   |\n",
       "| A1EQZH1RGLW6T3 | 0000143529 |  5.0  |  4   |\n",
       "| A1EQZH1RGLW6T3 | 0000143502 |  5.0  |  5   |\n",
       "+----------------+------------+-------+------+\n",
       "[2160 rows x 4 columns]\n",
       "Note: Only the head of the SFrame is printed.\n",
       "You can use print_rows(num_rows=m, num_columns=n) to print more rows and columns."
      ]
     },
     "execution_count": 17,
     "metadata": {},
     "output_type": "execute_result"
    }
   ],
   "source": [
    "popularity_model.recommend(users = validation_data['user_id'], k=5, random_seed=123)"
   ]
  },
  {
   "cell_type": "markdown",
   "metadata": {},
   "source": [
    "#### creating user based recommender system"
   ]
  },
  {
   "cell_type": "code",
   "execution_count": 18,
   "metadata": {},
   "outputs": [
    {
     "data": {
      "text/html": [
       "<pre>Recsys training: model = ranking_factorization_recommender</pre>"
      ],
      "text/plain": [
       "Recsys training: model = ranking_factorization_recommender"
      ]
     },
     "metadata": {},
     "output_type": "display_data"
    },
    {
     "data": {
      "text/html": [
       "<pre>Preparing data set.</pre>"
      ],
      "text/plain": [
       "Preparing data set."
      ]
     },
     "metadata": {},
     "output_type": "display_data"
    },
    {
     "data": {
      "text/html": [
       "<pre>    Data has 4606615 observations with 2088467 users and 200936 items.</pre>"
      ],
      "text/plain": [
       "    Data has 4606615 observations with 2088467 users and 200936 items."
      ]
     },
     "metadata": {},
     "output_type": "display_data"
    },
    {
     "data": {
      "text/html": [
       "<pre>    Data prepared in: 16.5012s</pre>"
      ],
      "text/plain": [
       "    Data prepared in: 16.5012s"
      ]
     },
     "metadata": {},
     "output_type": "display_data"
    },
    {
     "data": {
      "text/html": [
       "<pre>Training ranking_factorization_recommender for recommendations.</pre>"
      ],
      "text/plain": [
       "Training ranking_factorization_recommender for recommendations."
      ]
     },
     "metadata": {},
     "output_type": "display_data"
    },
    {
     "data": {
      "text/html": [
       "<pre>+--------------------------------+--------------------------------------------------+----------+</pre>"
      ],
      "text/plain": [
       "+--------------------------------+--------------------------------------------------+----------+"
      ]
     },
     "metadata": {},
     "output_type": "display_data"
    },
    {
     "data": {
      "text/html": [
       "<pre>| Parameter                      | Description                                      | Value    |</pre>"
      ],
      "text/plain": [
       "| Parameter                      | Description                                      | Value    |"
      ]
     },
     "metadata": {},
     "output_type": "display_data"
    },
    {
     "data": {
      "text/html": [
       "<pre>+--------------------------------+--------------------------------------------------+----------+</pre>"
      ],
      "text/plain": [
       "+--------------------------------+--------------------------------------------------+----------+"
      ]
     },
     "metadata": {},
     "output_type": "display_data"
    },
    {
     "data": {
      "text/html": [
       "<pre>| num_factors                    | Factor Dimension                                 | 32       |</pre>"
      ],
      "text/plain": [
       "| num_factors                    | Factor Dimension                                 | 32       |"
      ]
     },
     "metadata": {},
     "output_type": "display_data"
    },
    {
     "data": {
      "text/html": [
       "<pre>| regularization                 | L2 Regularization on Factors                     | 1e-09    |</pre>"
      ],
      "text/plain": [
       "| regularization                 | L2 Regularization on Factors                     | 1e-09    |"
      ]
     },
     "metadata": {},
     "output_type": "display_data"
    },
    {
     "data": {
      "text/html": [
       "<pre>| solver                         | Solver used for training                         | sgd      |</pre>"
      ],
      "text/plain": [
       "| solver                         | Solver used for training                         | sgd      |"
      ]
     },
     "metadata": {},
     "output_type": "display_data"
    },
    {
     "data": {
      "text/html": [
       "<pre>| linear_regularization          | L2 Regularization on Linear Coefficients         | 1e-09    |</pre>"
      ],
      "text/plain": [
       "| linear_regularization          | L2 Regularization on Linear Coefficients         | 1e-09    |"
      ]
     },
     "metadata": {},
     "output_type": "display_data"
    },
    {
     "data": {
      "text/html": [
       "<pre>| ranking_regularization         | Rank-based Regularization Weight                 | 0.25     |</pre>"
      ],
      "text/plain": [
       "| ranking_regularization         | Rank-based Regularization Weight                 | 0.25     |"
      ]
     },
     "metadata": {},
     "output_type": "display_data"
    },
    {
     "data": {
      "text/html": [
       "<pre>| max_iterations                 | Maximum Number of Iterations                     | 25       |</pre>"
      ],
      "text/plain": [
       "| max_iterations                 | Maximum Number of Iterations                     | 25       |"
      ]
     },
     "metadata": {},
     "output_type": "display_data"
    },
    {
     "data": {
      "text/html": [
       "<pre>+--------------------------------+--------------------------------------------------+----------+</pre>"
      ],
      "text/plain": [
       "+--------------------------------+--------------------------------------------------+----------+"
      ]
     },
     "metadata": {},
     "output_type": "display_data"
    },
    {
     "data": {
      "text/html": [
       "<pre>  Optimizing model using SGD; tuning step size.</pre>"
      ],
      "text/plain": [
       "  Optimizing model using SGD; tuning step size."
      ]
     },
     "metadata": {},
     "output_type": "display_data"
    },
    {
     "data": {
      "text/html": [
       "<pre>  Using 575826 / 4606615 points for tuning the step size.</pre>"
      ],
      "text/plain": [
       "  Using 575826 / 4606615 points for tuning the step size."
      ]
     },
     "metadata": {},
     "output_type": "display_data"
    },
    {
     "data": {
      "text/html": [
       "<pre>+---------+-------------------+------------------------------------------+</pre>"
      ],
      "text/plain": [
       "+---------+-------------------+------------------------------------------+"
      ]
     },
     "metadata": {},
     "output_type": "display_data"
    },
    {
     "data": {
      "text/html": [
       "<pre>| Attempt | Initial Step Size | Estimated Objective Value                |</pre>"
      ],
      "text/plain": [
       "| Attempt | Initial Step Size | Estimated Objective Value                |"
      ]
     },
     "metadata": {},
     "output_type": "display_data"
    },
    {
     "data": {
      "text/html": [
       "<pre>+---------+-------------------+------------------------------------------+</pre>"
      ],
      "text/plain": [
       "+---------+-------------------+------------------------------------------+"
      ]
     },
     "metadata": {},
     "output_type": "display_data"
    },
    {
     "data": {
      "text/html": [
       "<pre>| 0       | 25                | Not Viable                               |</pre>"
      ],
      "text/plain": [
       "| 0       | 25                | Not Viable                               |"
      ]
     },
     "metadata": {},
     "output_type": "display_data"
    },
    {
     "data": {
      "text/html": [
       "<pre>| 1       | 6.25              | Not Viable                               |</pre>"
      ],
      "text/plain": [
       "| 1       | 6.25              | Not Viable                               |"
      ]
     },
     "metadata": {},
     "output_type": "display_data"
    },
    {
     "data": {
      "text/html": [
       "<pre>| 2       | 1.5625            | Not Viable                               |</pre>"
      ],
      "text/plain": [
       "| 2       | 1.5625            | Not Viable                               |"
      ]
     },
     "metadata": {},
     "output_type": "display_data"
    },
    {
     "data": {
      "text/html": [
       "<pre>| 3       | 0.390625          | Not Viable                               |</pre>"
      ],
      "text/plain": [
       "| 3       | 0.390625          | Not Viable                               |"
      ]
     },
     "metadata": {},
     "output_type": "display_data"
    },
    {
     "data": {
      "text/html": [
       "<pre>| 4       | 0.0976562         | 1.58951                                  |</pre>"
      ],
      "text/plain": [
       "| 4       | 0.0976562         | 1.58951                                  |"
      ]
     },
     "metadata": {},
     "output_type": "display_data"
    },
    {
     "data": {
      "text/html": [
       "<pre>| 5       | 0.0488281         | 1.91074                                  |</pre>"
      ],
      "text/plain": [
       "| 5       | 0.0488281         | 1.91074                                  |"
      ]
     },
     "metadata": {},
     "output_type": "display_data"
    },
    {
     "data": {
      "text/html": [
       "<pre>| 6       | 0.0244141         | 2.20643                                  |</pre>"
      ],
      "text/plain": [
       "| 6       | 0.0244141         | 2.20643                                  |"
      ]
     },
     "metadata": {},
     "output_type": "display_data"
    },
    {
     "data": {
      "text/html": [
       "<pre>| 7       | 0.012207          | 2.43295                                  |</pre>"
      ],
      "text/plain": [
       "| 7       | 0.012207          | 2.43295                                  |"
      ]
     },
     "metadata": {},
     "output_type": "display_data"
    },
    {
     "data": {
      "text/html": [
       "<pre>+---------+-------------------+------------------------------------------+</pre>"
      ],
      "text/plain": [
       "+---------+-------------------+------------------------------------------+"
      ]
     },
     "metadata": {},
     "output_type": "display_data"
    },
    {
     "data": {
      "text/html": [
       "<pre>| Final   | 0.0976562         | 1.58951                                  |</pre>"
      ],
      "text/plain": [
       "| Final   | 0.0976562         | 1.58951                                  |"
      ]
     },
     "metadata": {},
     "output_type": "display_data"
    },
    {
     "data": {
      "text/html": [
       "<pre>+---------+-------------------+------------------------------------------+</pre>"
      ],
      "text/plain": [
       "+---------+-------------------+------------------------------------------+"
      ]
     },
     "metadata": {},
     "output_type": "display_data"
    },
    {
     "data": {
      "text/html": [
       "<pre>Starting Optimization.</pre>"
      ],
      "text/plain": [
       "Starting Optimization."
      ]
     },
     "metadata": {},
     "output_type": "display_data"
    },
    {
     "data": {
      "text/html": [
       "<pre>+---------+--------------+-------------------+-----------------------+-------------+</pre>"
      ],
      "text/plain": [
       "+---------+--------------+-------------------+-----------------------+-------------+"
      ]
     },
     "metadata": {},
     "output_type": "display_data"
    },
    {
     "data": {
      "text/html": [
       "<pre>| Iter.   | Elapsed Time | Approx. Objective | Approx. Training RMSE | Step Size   |</pre>"
      ],
      "text/plain": [
       "| Iter.   | Elapsed Time | Approx. Objective | Approx. Training RMSE | Step Size   |"
      ]
     },
     "metadata": {},
     "output_type": "display_data"
    },
    {
     "data": {
      "text/html": [
       "<pre>+---------+--------------+-------------------+-----------------------+-------------+</pre>"
      ],
      "text/plain": [
       "+---------+--------------+-------------------+-----------------------+-------------+"
      ]
     },
     "metadata": {},
     "output_type": "display_data"
    },
    {
     "data": {
      "text/html": [
       "<pre>| Initial | 338us        | 2.98099           | 1.23305               |             |</pre>"
      ],
      "text/plain": [
       "| Initial | 338us        | 2.98099           | 1.23305               |             |"
      ]
     },
     "metadata": {},
     "output_type": "display_data"
    },
    {
     "data": {
      "text/html": [
       "<pre>+---------+--------------+-------------------+-----------------------+-------------+</pre>"
      ],
      "text/plain": [
       "+---------+--------------+-------------------+-----------------------+-------------+"
      ]
     },
     "metadata": {},
     "output_type": "display_data"
    },
    {
     "data": {
      "text/html": [
       "<pre>| 1       | 6.69s        | 2.45093           | 1.21712               | 0.0976562   |</pre>"
      ],
      "text/plain": [
       "| 1       | 6.69s        | 2.45093           | 1.21712               | 0.0976562   |"
      ]
     },
     "metadata": {},
     "output_type": "display_data"
    },
    {
     "data": {
      "text/html": [
       "<pre>| 2       | 12.79s       | 1.86906           | 1.08427               | 0.0580668   |</pre>"
      ],
      "text/plain": [
       "| 2       | 12.79s       | 1.86906           | 1.08427               | 0.0580668   |"
      ]
     },
     "metadata": {},
     "output_type": "display_data"
    },
    {
     "data": {
      "text/html": [
       "<pre>| 3       | 19.17s       | 1.43338           | 0.889035              | 0.042841    |</pre>"
      ],
      "text/plain": [
       "| 3       | 19.17s       | 1.43338           | 0.889035              | 0.042841    |"
      ]
     },
     "metadata": {},
     "output_type": "display_data"
    },
    {
     "data": {
      "text/html": [
       "<pre>| 4       | 25.15s       | 1.15719           | 0.753711              | 0.0345267   |</pre>"
      ],
      "text/plain": [
       "| 4       | 25.15s       | 1.15719           | 0.753711              | 0.0345267   |"
      ]
     },
     "metadata": {},
     "output_type": "display_data"
    },
    {
     "data": {
      "text/html": [
       "<pre>| 5       | 31.13s       | 0.993742          | 0.665187              | 0.029206    |</pre>"
      ],
      "text/plain": [
       "| 5       | 31.13s       | 0.993742          | 0.665187              | 0.029206    |"
      ]
     },
     "metadata": {},
     "output_type": "display_data"
    },
    {
     "data": {
      "text/html": [
       "<pre>| 6       | 37.51s       | 0.882964          | 0.607061              | 0.0254734   |</pre>"
      ],
      "text/plain": [
       "| 6       | 37.51s       | 0.882964          | 0.607061              | 0.0254734   |"
      ]
     },
     "metadata": {},
     "output_type": "display_data"
    },
    {
     "data": {
      "text/html": [
       "<pre>| 7       | 43.62s       | 0.795833          | 0.561638              | 0.0226922   |</pre>"
      ],
      "text/plain": [
       "| 7       | 43.62s       | 0.795833          | 0.561638              | 0.0226922   |"
      ]
     },
     "metadata": {},
     "output_type": "display_data"
    },
    {
     "data": {
      "text/html": [
       "<pre>| 8       | 49.91s       | 0.730078          | 0.525852              | 0.0205297   |</pre>"
      ],
      "text/plain": [
       "| 8       | 49.91s       | 0.730078          | 0.525852              | 0.0205297   |"
      ]
     },
     "metadata": {},
     "output_type": "display_data"
    },
    {
     "data": {
      "text/html": [
       "<pre>| 9       | 56.30s       | 0.675196          | 0.495954              | 0.018794    |</pre>"
      ],
      "text/plain": [
       "| 9       | 56.30s       | 0.675196          | 0.495954              | 0.018794    |"
      ]
     },
     "metadata": {},
     "output_type": "display_data"
    },
    {
     "data": {
      "text/html": [
       "<pre>| 10      | 1m 2s        | 0.628987          | 0.471945              | 0.017366    |</pre>"
      ],
      "text/plain": [
       "| 10      | 1m 2s        | 0.628987          | 0.471945              | 0.017366    |"
      ]
     },
     "metadata": {},
     "output_type": "display_data"
    },
    {
     "data": {
      "text/html": [
       "<pre>| 11      | 1m 12s       | 0.589956          | 0.449641              | 0.016168    |</pre>"
      ],
      "text/plain": [
       "| 11      | 1m 12s       | 0.589956          | 0.449641              | 0.016168    |"
      ]
     },
     "metadata": {},
     "output_type": "display_data"
    },
    {
     "data": {
      "text/html": [
       "<pre>| 12      | 1m 19s       | 0.556776          | 0.431913              | 0.0151466   |</pre>"
      ],
      "text/plain": [
       "| 12      | 1m 19s       | 0.556776          | 0.431913              | 0.0151466   |"
      ]
     },
     "metadata": {},
     "output_type": "display_data"
    },
    {
     "data": {
      "text/html": [
       "<pre>| 13      | 1m 27s       | 0.526373          | 0.415273              | 0.014264    |</pre>"
      ],
      "text/plain": [
       "| 13      | 1m 27s       | 0.526373          | 0.415273              | 0.014264    |"
      ]
     },
     "metadata": {},
     "output_type": "display_data"
    },
    {
     "data": {
      "text/html": [
       "<pre>| 14      | 1m 34s       | 0.501892          | 0.402269              | 0.0134929   |</pre>"
      ],
      "text/plain": [
       "| 14      | 1m 34s       | 0.501892          | 0.402269              | 0.0134929   |"
      ]
     },
     "metadata": {},
     "output_type": "display_data"
    },
    {
     "data": {
      "text/html": [
       "<pre>| 15      | 1m 42s       | 0.478814          | 0.389016              | 0.0128124   |</pre>"
      ],
      "text/plain": [
       "| 15      | 1m 42s       | 0.478814          | 0.389016              | 0.0128124   |"
      ]
     },
     "metadata": {},
     "output_type": "display_data"
    },
    {
     "data": {
      "text/html": [
       "<pre>| 16      | 1m 49s       | 0.459316          | 0.378859              | 0.012207    |</pre>"
      ],
      "text/plain": [
       "| 16      | 1m 49s       | 0.459316          | 0.378859              | 0.012207    |"
      ]
     },
     "metadata": {},
     "output_type": "display_data"
    },
    {
     "data": {
      "text/html": [
       "<pre>| 17      | 1m 55s       | 0.440632          | 0.36775               | 0.0116644   |</pre>"
      ],
      "text/plain": [
       "| 17      | 1m 55s       | 0.440632          | 0.36775               | 0.0116644   |"
      ]
     },
     "metadata": {},
     "output_type": "display_data"
    },
    {
     "data": {
      "text/html": [
       "<pre>| 18      | 2m 1s        | 0.425555          | 0.35952               | 0.011175    |</pre>"
      ],
      "text/plain": [
       "| 18      | 2m 1s        | 0.425555          | 0.35952               | 0.011175    |"
      ]
     },
     "metadata": {},
     "output_type": "display_data"
    },
    {
     "data": {
      "text/html": [
       "<pre>| 19      | 2m 7s        | 0.410281          | 0.350807              | 0.0107309   |</pre>"
      ],
      "text/plain": [
       "| 19      | 2m 7s        | 0.410281          | 0.350807              | 0.0107309   |"
      ]
     },
     "metadata": {},
     "output_type": "display_data"
    },
    {
     "data": {
      "text/html": [
       "<pre>| 20      | 2m 13s       | 0.397376          | 0.343609              | 0.0103259   |</pre>"
      ],
      "text/plain": [
       "| 20      | 2m 13s       | 0.397376          | 0.343609              | 0.0103259   |"
      ]
     },
     "metadata": {},
     "output_type": "display_data"
    },
    {
     "data": {
      "text/html": [
       "<pre>| 21      | 2m 19s       | 0.38484           | 0.336205              | 0.00995487  |</pre>"
      ],
      "text/plain": [
       "| 21      | 2m 19s       | 0.38484           | 0.336205              | 0.00995487  |"
      ]
     },
     "metadata": {},
     "output_type": "display_data"
    },
    {
     "data": {
      "text/html": [
       "<pre>| 22      | 2m 25s       | 0.373808          | 0.32995               | 0.00961353  |</pre>"
      ],
      "text/plain": [
       "| 22      | 2m 25s       | 0.373808          | 0.32995               | 0.00961353  |"
      ]
     },
     "metadata": {},
     "output_type": "display_data"
    },
    {
     "data": {
      "text/html": [
       "<pre>| 23      | 2m 31s       | 0.363453          | 0.324192              | 0.00929831  |</pre>"
      ],
      "text/plain": [
       "| 23      | 2m 31s       | 0.363453          | 0.324192              | 0.00929831  |"
      ]
     },
     "metadata": {},
     "output_type": "display_data"
    },
    {
     "data": {
      "text/html": [
       "<pre>| 24      | 2m 36s       | 0.354153          | 0.318619              | 0.0090062   |</pre>"
      ],
      "text/plain": [
       "| 24      | 2m 36s       | 0.354153          | 0.318619              | 0.0090062   |"
      ]
     },
     "metadata": {},
     "output_type": "display_data"
    },
    {
     "data": {
      "text/html": [
       "<pre>| 25      | 2m 42s       | 0.345798          | 0.3137                | 0.00873464  |</pre>"
      ],
      "text/plain": [
       "| 25      | 2m 42s       | 0.345798          | 0.3137                | 0.00873464  |"
      ]
     },
     "metadata": {},
     "output_type": "display_data"
    },
    {
     "data": {
      "text/html": [
       "<pre>+---------+--------------+-------------------+-----------------------+-------------+</pre>"
      ],
      "text/plain": [
       "+---------+--------------+-------------------+-----------------------+-------------+"
      ]
     },
     "metadata": {},
     "output_type": "display_data"
    },
    {
     "data": {
      "text/html": [
       "<pre>Optimization Complete: Maximum number of passes through the data reached.</pre>"
      ],
      "text/plain": [
       "Optimization Complete: Maximum number of passes through the data reached."
      ]
     },
     "metadata": {},
     "output_type": "display_data"
    },
    {
     "data": {
      "text/html": [
       "<pre>Computing final objective value and training RMSE.</pre>"
      ],
      "text/plain": [
       "Computing final objective value and training RMSE."
      ]
     },
     "metadata": {},
     "output_type": "display_data"
    },
    {
     "data": {
      "text/html": [
       "<pre>       Final objective value: 0.347023</pre>"
      ],
      "text/plain": [
       "       Final objective value: 0.347023"
      ]
     },
     "metadata": {},
     "output_type": "display_data"
    },
    {
     "data": {
      "text/html": [
       "<pre>       Final training RMSE: 0.320278</pre>"
      ],
      "text/plain": [
       "       Final training RMSE: 0.320278"
      ]
     },
     "metadata": {},
     "output_type": "display_data"
    }
   ],
   "source": [
    "user_model = gl.recommender.create(training_data, 'user_id', 'item_id', target='rating')"
   ]
  },
  {
   "cell_type": "code",
   "execution_count": 20,
   "metadata": {},
   "outputs": [
    {
     "data": {
      "text/html": [
       "<div style=\"max-height:1000px;max-width:1500px;overflow:auto;\"><table frame=\"box\" rules=\"cols\">\n",
       "    <tr>\n",
       "        <th style=\"padding-left: 1em; padding-right: 1em; text-align: center\">user_id</th>\n",
       "        <th style=\"padding-left: 1em; padding-right: 1em; text-align: center\">item_id</th>\n",
       "        <th style=\"padding-left: 1em; padding-right: 1em; text-align: center\">score</th>\n",
       "        <th style=\"padding-left: 1em; padding-right: 1em; text-align: center\">rank</th>\n",
       "    </tr>\n",
       "    <tr>\n",
       "        <td style=\"padding-left: 1em; padding-right: 1em; text-align: center; vertical-align: top\">A13AZVPEWEK1YC</td>\n",
       "        <td style=\"padding-left: 1em; padding-right: 1em; text-align: center; vertical-align: top\">B004NSUXHU</td>\n",
       "        <td style=\"padding-left: 1em; padding-right: 1em; text-align: center; vertical-align: top\">5.17849968606</td>\n",
       "        <td style=\"padding-left: 1em; padding-right: 1em; text-align: center; vertical-align: top\">1</td>\n",
       "    </tr>\n",
       "    <tr>\n",
       "        <td style=\"padding-left: 1em; padding-right: 1em; text-align: center; vertical-align: top\">A13AZVPEWEK1YC</td>\n",
       "        <td style=\"padding-left: 1em; padding-right: 1em; text-align: center; vertical-align: top\">B006W9KNXC</td>\n",
       "        <td style=\"padding-left: 1em; padding-right: 1em; text-align: center; vertical-align: top\">5.16638140613</td>\n",
       "        <td style=\"padding-left: 1em; padding-right: 1em; text-align: center; vertical-align: top\">2</td>\n",
       "    </tr>\n",
       "    <tr>\n",
       "        <td style=\"padding-left: 1em; padding-right: 1em; text-align: center; vertical-align: top\">A13AZVPEWEK1YC</td>\n",
       "        <td style=\"padding-left: 1em; padding-right: 1em; text-align: center; vertical-align: top\">B0000AQS0F</td>\n",
       "        <td style=\"padding-left: 1em; padding-right: 1em; text-align: center; vertical-align: top\">5.16341649228</td>\n",
       "        <td style=\"padding-left: 1em; padding-right: 1em; text-align: center; vertical-align: top\">3</td>\n",
       "    </tr>\n",
       "    <tr>\n",
       "        <td style=\"padding-left: 1em; padding-right: 1em; text-align: center; vertical-align: top\">A13AZVPEWEK1YC</td>\n",
       "        <td style=\"padding-left: 1em; padding-right: 1em; text-align: center; vertical-align: top\">1608838137</td>\n",
       "        <td style=\"padding-left: 1em; padding-right: 1em; text-align: center; vertical-align: top\">5.1313390606</td>\n",
       "        <td style=\"padding-left: 1em; padding-right: 1em; text-align: center; vertical-align: top\">4</td>\n",
       "    </tr>\n",
       "    <tr>\n",
       "        <td style=\"padding-left: 1em; padding-right: 1em; text-align: center; vertical-align: top\">A13AZVPEWEK1YC</td>\n",
       "        <td style=\"padding-left: 1em; padding-right: 1em; text-align: center; vertical-align: top\">B0038M2APA</td>\n",
       "        <td style=\"padding-left: 1em; padding-right: 1em; text-align: center; vertical-align: top\">5.11594568425</td>\n",
       "        <td style=\"padding-left: 1em; padding-right: 1em; text-align: center; vertical-align: top\">5</td>\n",
       "    </tr>\n",
       "    <tr>\n",
       "        <td style=\"padding-left: 1em; padding-right: 1em; text-align: center; vertical-align: top\">A1EQZH1RGLW6T3</td>\n",
       "        <td style=\"padding-left: 1em; padding-right: 1em; text-align: center; vertical-align: top\">B004NSUXHU</td>\n",
       "        <td style=\"padding-left: 1em; padding-right: 1em; text-align: center; vertical-align: top\">5.17849968606</td>\n",
       "        <td style=\"padding-left: 1em; padding-right: 1em; text-align: center; vertical-align: top\">1</td>\n",
       "    </tr>\n",
       "    <tr>\n",
       "        <td style=\"padding-left: 1em; padding-right: 1em; text-align: center; vertical-align: top\">A1EQZH1RGLW6T3</td>\n",
       "        <td style=\"padding-left: 1em; padding-right: 1em; text-align: center; vertical-align: top\">B006W9KNXC</td>\n",
       "        <td style=\"padding-left: 1em; padding-right: 1em; text-align: center; vertical-align: top\">5.16638140613</td>\n",
       "        <td style=\"padding-left: 1em; padding-right: 1em; text-align: center; vertical-align: top\">2</td>\n",
       "    </tr>\n",
       "    <tr>\n",
       "        <td style=\"padding-left: 1em; padding-right: 1em; text-align: center; vertical-align: top\">A1EQZH1RGLW6T3</td>\n",
       "        <td style=\"padding-left: 1em; padding-right: 1em; text-align: center; vertical-align: top\">B0000AQS0F</td>\n",
       "        <td style=\"padding-left: 1em; padding-right: 1em; text-align: center; vertical-align: top\">5.16341649228</td>\n",
       "        <td style=\"padding-left: 1em; padding-right: 1em; text-align: center; vertical-align: top\">3</td>\n",
       "    </tr>\n",
       "    <tr>\n",
       "        <td style=\"padding-left: 1em; padding-right: 1em; text-align: center; vertical-align: top\">A1EQZH1RGLW6T3</td>\n",
       "        <td style=\"padding-left: 1em; padding-right: 1em; text-align: center; vertical-align: top\">1608838137</td>\n",
       "        <td style=\"padding-left: 1em; padding-right: 1em; text-align: center; vertical-align: top\">5.1313390606</td>\n",
       "        <td style=\"padding-left: 1em; padding-right: 1em; text-align: center; vertical-align: top\">4</td>\n",
       "    </tr>\n",
       "    <tr>\n",
       "        <td style=\"padding-left: 1em; padding-right: 1em; text-align: center; vertical-align: top\">A1EQZH1RGLW6T3</td>\n",
       "        <td style=\"padding-left: 1em; padding-right: 1em; text-align: center; vertical-align: top\">B0038M2APA</td>\n",
       "        <td style=\"padding-left: 1em; padding-right: 1em; text-align: center; vertical-align: top\">5.11594568425</td>\n",
       "        <td style=\"padding-left: 1em; padding-right: 1em; text-align: center; vertical-align: top\">5</td>\n",
       "    </tr>\n",
       "</table>\n",
       "[2160 rows x 4 columns]<br/>Note: Only the head of the SFrame is printed.<br/>You can use print_rows(num_rows=m, num_columns=n) to print more rows and columns.\n",
       "</div>"
      ],
      "text/plain": [
       "Columns:\n",
       "\tuser_id\tstr\n",
       "\titem_id\tstr\n",
       "\tscore\tfloat\n",
       "\trank\tint\n",
       "\n",
       "Rows: 2160\n",
       "\n",
       "Data:\n",
       "+----------------+------------+---------------+------+\n",
       "|    user_id     |  item_id   |     score     | rank |\n",
       "+----------------+------------+---------------+------+\n",
       "| A13AZVPEWEK1YC | B004NSUXHU | 5.17849968606 |  1   |\n",
       "| A13AZVPEWEK1YC | B006W9KNXC | 5.16638140613 |  2   |\n",
       "| A13AZVPEWEK1YC | B0000AQS0F | 5.16341649228 |  3   |\n",
       "| A13AZVPEWEK1YC | 1608838137 |  5.1313390606 |  4   |\n",
       "| A13AZVPEWEK1YC | B0038M2APA | 5.11594568425 |  5   |\n",
       "| A1EQZH1RGLW6T3 | B004NSUXHU | 5.17849968606 |  1   |\n",
       "| A1EQZH1RGLW6T3 | B006W9KNXC | 5.16638140613 |  2   |\n",
       "| A1EQZH1RGLW6T3 | B0000AQS0F | 5.16341649228 |  3   |\n",
       "| A1EQZH1RGLW6T3 | 1608838137 |  5.1313390606 |  4   |\n",
       "| A1EQZH1RGLW6T3 | B0038M2APA | 5.11594568425 |  5   |\n",
       "+----------------+------------+---------------+------+\n",
       "[2160 rows x 4 columns]\n",
       "Note: Only the head of the SFrame is printed.\n",
       "You can use print_rows(num_rows=m, num_columns=n) to print more rows and columns."
      ]
     },
     "execution_count": 20,
     "metadata": {},
     "output_type": "execute_result"
    }
   ],
   "source": [
    "user_model.recommend(users = validation_data['user_id'], k=5, random_seed=123)"
   ]
  },
  {
   "cell_type": "markdown",
   "metadata": {},
   "source": [
    "#### create item based similarity recommender"
   ]
  },
  {
   "cell_type": "markdown",
   "metadata": {},
   "source": [
    "#### using jacard's similarity"
   ]
  },
  {
   "cell_type": "code",
   "execution_count": 26,
   "metadata": {},
   "outputs": [
    {
     "data": {
      "text/html": [
       "<pre>Recsys training: model = item_similarity</pre>"
      ],
      "text/plain": [
       "Recsys training: model = item_similarity"
      ]
     },
     "metadata": {},
     "output_type": "display_data"
    },
    {
     "data": {
      "text/html": [
       "<pre>Preparing data set.</pre>"
      ],
      "text/plain": [
       "Preparing data set."
      ]
     },
     "metadata": {},
     "output_type": "display_data"
    },
    {
     "data": {
      "text/html": [
       "<pre>    Data has 4606615 observations with 2088467 users and 200936 items.</pre>"
      ],
      "text/plain": [
       "    Data has 4606615 observations with 2088467 users and 200936 items."
      ]
     },
     "metadata": {},
     "output_type": "display_data"
    },
    {
     "data": {
      "text/html": [
       "<pre>    Data prepared in: 11.3721s</pre>"
      ],
      "text/plain": [
       "    Data prepared in: 11.3721s"
      ]
     },
     "metadata": {},
     "output_type": "display_data"
    },
    {
     "data": {
      "text/html": [
       "<pre>Training model from provided data.</pre>"
      ],
      "text/plain": [
       "Training model from provided data."
      ]
     },
     "metadata": {},
     "output_type": "display_data"
    },
    {
     "data": {
      "text/html": [
       "<pre>Gathering per-item and per-user statistics.</pre>"
      ],
      "text/plain": [
       "Gathering per-item and per-user statistics."
      ]
     },
     "metadata": {},
     "output_type": "display_data"
    },
    {
     "data": {
      "text/html": [
       "<pre>+--------------------------------+------------+</pre>"
      ],
      "text/plain": [
       "+--------------------------------+------------+"
      ]
     },
     "metadata": {},
     "output_type": "display_data"
    },
    {
     "data": {
      "text/html": [
       "<pre>| Elapsed Time (Item Statistics) | % Complete |</pre>"
      ],
      "text/plain": [
       "| Elapsed Time (Item Statistics) | % Complete |"
      ]
     },
     "metadata": {},
     "output_type": "display_data"
    },
    {
     "data": {
      "text/html": [
       "<pre>+--------------------------------+------------+</pre>"
      ],
      "text/plain": [
       "+--------------------------------+------------+"
      ]
     },
     "metadata": {},
     "output_type": "display_data"
    },
    {
     "data": {
      "text/html": [
       "<pre>| 23.983ms                       | 0          |</pre>"
      ],
      "text/plain": [
       "| 23.983ms                       | 0          |"
      ]
     },
     "metadata": {},
     "output_type": "display_data"
    },
    {
     "data": {
      "text/html": [
       "<pre>| 755.346ms                      | 100        |</pre>"
      ],
      "text/plain": [
       "| 755.346ms                      | 100        |"
      ]
     },
     "metadata": {},
     "output_type": "display_data"
    },
    {
     "data": {
      "text/html": [
       "<pre>+--------------------------------+------------+</pre>"
      ],
      "text/plain": [
       "+--------------------------------+------------+"
      ]
     },
     "metadata": {},
     "output_type": "display_data"
    },
    {
     "data": {
      "text/html": [
       "<pre>Setting up lookup tables.</pre>"
      ],
      "text/plain": [
       "Setting up lookup tables."
      ]
     },
     "metadata": {},
     "output_type": "display_data"
    },
    {
     "data": {
      "text/html": [
       "<pre>Processing data in one pass using sparse lookup tables.</pre>"
      ],
      "text/plain": [
       "Processing data in one pass using sparse lookup tables."
      ]
     },
     "metadata": {},
     "output_type": "display_data"
    },
    {
     "data": {
      "text/html": [
       "<pre>+-------------------------------------+------------------+-----------------+</pre>"
      ],
      "text/plain": [
       "+-------------------------------------+------------------+-----------------+"
      ]
     },
     "metadata": {},
     "output_type": "display_data"
    },
    {
     "data": {
      "text/html": [
       "<pre>| Elapsed Time (Constructing Lookups) | Total % Complete | Items Processed |</pre>"
      ],
      "text/plain": [
       "| Elapsed Time (Constructing Lookups) | Total % Complete | Items Processed |"
      ]
     },
     "metadata": {},
     "output_type": "display_data"
    },
    {
     "data": {
      "text/html": [
       "<pre>+-------------------------------------+------------------+-----------------+</pre>"
      ],
      "text/plain": [
       "+-------------------------------------+------------------+-----------------+"
      ]
     },
     "metadata": {},
     "output_type": "display_data"
    },
    {
     "data": {
      "text/html": [
       "<pre>| 1.85s                               | 0                | 0               |</pre>"
      ],
      "text/plain": [
       "| 1.85s                               | 0                | 0               |"
      ]
     },
     "metadata": {},
     "output_type": "display_data"
    },
    {
     "data": {
      "text/html": [
       "<pre>| 2.89s                               | 4.5              | 9348            |</pre>"
      ],
      "text/plain": [
       "| 2.89s                               | 4.5              | 9348            |"
      ]
     },
     "metadata": {},
     "output_type": "display_data"
    },
    {
     "data": {
      "text/html": [
       "<pre>| 3.99s                               | 6.75             | 13949           |</pre>"
      ],
      "text/plain": [
       "| 3.99s                               | 6.75             | 13949           |"
      ]
     },
     "metadata": {},
     "output_type": "display_data"
    },
    {
     "data": {
      "text/html": [
       "<pre>| 4.87s                               | 9.75             | 19891           |</pre>"
      ],
      "text/plain": [
       "| 4.87s                               | 9.75             | 19891           |"
      ]
     },
     "metadata": {},
     "output_type": "display_data"
    },
    {
     "data": {
      "text/html": [
       "<pre>| 6.01s                               | 14.5             | 29158           |</pre>"
      ],
      "text/plain": [
       "| 6.01s                               | 14.5             | 29158           |"
      ]
     },
     "metadata": {},
     "output_type": "display_data"
    },
    {
     "data": {
      "text/html": [
       "<pre>| 7.02s                               | 15.25            | 30749           |</pre>"
      ],
      "text/plain": [
       "| 7.02s                               | 15.25            | 30749           |"
      ]
     },
     "metadata": {},
     "output_type": "display_data"
    },
    {
     "data": {
      "text/html": [
       "<pre>| 7.91s                               | 16.5             | 33629           |</pre>"
      ],
      "text/plain": [
       "| 7.91s                               | 16.5             | 33629           |"
      ]
     },
     "metadata": {},
     "output_type": "display_data"
    },
    {
     "data": {
      "text/html": [
       "<pre>| 8.92s                               | 22               | 44286           |</pre>"
      ],
      "text/plain": [
       "| 8.92s                               | 22               | 44286           |"
      ]
     },
     "metadata": {},
     "output_type": "display_data"
    },
    {
     "data": {
      "text/html": [
       "<pre>| 9.90s                               | 26.5             | 53484           |</pre>"
      ],
      "text/plain": [
       "| 9.90s                               | 26.5             | 53484           |"
      ]
     },
     "metadata": {},
     "output_type": "display_data"
    },
    {
     "data": {
      "text/html": [
       "<pre>| 10.91s                              | 26.75            | 53810           |</pre>"
      ],
      "text/plain": [
       "| 10.91s                              | 26.75            | 53810           |"
      ]
     },
     "metadata": {},
     "output_type": "display_data"
    },
    {
     "data": {
      "text/html": [
       "<pre>| 11.91s                              | 27               | 54733           |</pre>"
      ],
      "text/plain": [
       "| 11.91s                              | 27               | 54733           |"
      ]
     },
     "metadata": {},
     "output_type": "display_data"
    },
    {
     "data": {
      "text/html": [
       "<pre>| 12.92s                              | 27.5             | 55734           |</pre>"
      ],
      "text/plain": [
       "| 12.92s                              | 27.5             | 55734           |"
      ]
     },
     "metadata": {},
     "output_type": "display_data"
    },
    {
     "data": {
      "text/html": [
       "<pre>| 14.07s                              | 27.75            | 56115           |</pre>"
      ],
      "text/plain": [
       "| 14.07s                              | 27.75            | 56115           |"
      ]
     },
     "metadata": {},
     "output_type": "display_data"
    },
    {
     "data": {
      "text/html": [
       "<pre>| 15.12s                              | 28               | 56743           |</pre>"
      ],
      "text/plain": [
       "| 15.12s                              | 28               | 56743           |"
      ]
     },
     "metadata": {},
     "output_type": "display_data"
    },
    {
     "data": {
      "text/html": [
       "<pre>| 15.95s                              | 28.25            | 57031           |</pre>"
      ],
      "text/plain": [
       "| 15.95s                              | 28.25            | 57031           |"
      ]
     },
     "metadata": {},
     "output_type": "display_data"
    },
    {
     "data": {
      "text/html": [
       "<pre>| 16.93s                              | 28.5             | 57705           |</pre>"
      ],
      "text/plain": [
       "| 16.93s                              | 28.5             | 57705           |"
      ]
     },
     "metadata": {},
     "output_type": "display_data"
    },
    {
     "data": {
      "text/html": [
       "<pre>| 17.94s                              | 29.5             | 59655           |</pre>"
      ],
      "text/plain": [
       "| 17.94s                              | 29.5             | 59655           |"
      ]
     },
     "metadata": {},
     "output_type": "display_data"
    },
    {
     "data": {
      "text/html": [
       "<pre>| 19.04s                              | 29.75            | 59908           |</pre>"
      ],
      "text/plain": [
       "| 19.04s                              | 29.75            | 59908           |"
      ]
     },
     "metadata": {},
     "output_type": "display_data"
    },
    {
     "data": {
      "text/html": [
       "<pre>| 19.96s                              | 29.75            | 60230           |</pre>"
      ],
      "text/plain": [
       "| 19.96s                              | 29.75            | 60230           |"
      ]
     },
     "metadata": {},
     "output_type": "display_data"
    },
    {
     "data": {
      "text/html": [
       "<pre>| 21.28s                              | 31.25            | 63019           |</pre>"
      ],
      "text/plain": [
       "| 21.28s                              | 31.25            | 63019           |"
      ]
     },
     "metadata": {},
     "output_type": "display_data"
    },
    {
     "data": {
      "text/html": [
       "<pre>| 21.97s                              | 31.5             | 63558           |</pre>"
      ],
      "text/plain": [
       "| 21.97s                              | 31.5             | 63558           |"
      ]
     },
     "metadata": {},
     "output_type": "display_data"
    },
    {
     "data": {
      "text/html": [
       "<pre>| 23.00s                              | 34.25            | 69024           |</pre>"
      ],
      "text/plain": [
       "| 23.00s                              | 34.25            | 69024           |"
      ]
     },
     "metadata": {},
     "output_type": "display_data"
    },
    {
     "data": {
      "text/html": [
       "<pre>| 23.97s                              | 39.75            | 80323           |</pre>"
      ],
      "text/plain": [
       "| 23.97s                              | 39.75            | 80323           |"
      ]
     },
     "metadata": {},
     "output_type": "display_data"
    },
    {
     "data": {
      "text/html": [
       "<pre>| 24.97s                              | 43.5             | 87529           |</pre>"
      ],
      "text/plain": [
       "| 24.97s                              | 43.5             | 87529           |"
      ]
     },
     "metadata": {},
     "output_type": "display_data"
    },
    {
     "data": {
      "text/html": [
       "<pre>| 25.98s                              | 49.25            | 99313           |</pre>"
      ],
      "text/plain": [
       "| 25.98s                              | 49.25            | 99313           |"
      ]
     },
     "metadata": {},
     "output_type": "display_data"
    },
    {
     "data": {
      "text/html": [
       "<pre>| 26.98s                              | 54.25            | 109345          |</pre>"
      ],
      "text/plain": [
       "| 26.98s                              | 54.25            | 109345          |"
      ]
     },
     "metadata": {},
     "output_type": "display_data"
    },
    {
     "data": {
      "text/html": [
       "<pre>| 28.00s                              | 57.25            | 115084          |</pre>"
      ],
      "text/plain": [
       "| 28.00s                              | 57.25            | 115084          |"
      ]
     },
     "metadata": {},
     "output_type": "display_data"
    },
    {
     "data": {
      "text/html": [
       "<pre>| 28.99s                              | 58               | 116779          |</pre>"
      ],
      "text/plain": [
       "| 28.99s                              | 58               | 116779          |"
      ]
     },
     "metadata": {},
     "output_type": "display_data"
    },
    {
     "data": {
      "text/html": [
       "<pre>| 30.04s                              | 59               | 118752          |</pre>"
      ],
      "text/plain": [
       "| 30.04s                              | 59               | 118752          |"
      ]
     },
     "metadata": {},
     "output_type": "display_data"
    },
    {
     "data": {
      "text/html": [
       "<pre>| 31.26s                              | 59               | 118955          |</pre>"
      ],
      "text/plain": [
       "| 31.26s                              | 59               | 118955          |"
      ]
     },
     "metadata": {},
     "output_type": "display_data"
    },
    {
     "data": {
      "text/html": [
       "<pre>| 32.01s                              | 59.25            | 119113          |</pre>"
      ],
      "text/plain": [
       "| 32.01s                              | 59.25            | 119113          |"
      ]
     },
     "metadata": {},
     "output_type": "display_data"
    },
    {
     "data": {
      "text/html": [
       "<pre>| 33.04s                              | 59.25            | 119257          |</pre>"
      ],
      "text/plain": [
       "| 33.04s                              | 59.25            | 119257          |"
      ]
     },
     "metadata": {},
     "output_type": "display_data"
    },
    {
     "data": {
      "text/html": [
       "<pre>| 34.07s                              | 59.25            | 119452          |</pre>"
      ],
      "text/plain": [
       "| 34.07s                              | 59.25            | 119452          |"
      ]
     },
     "metadata": {},
     "output_type": "display_data"
    },
    {
     "data": {
      "text/html": [
       "<pre>| 35.06s                              | 59.5             | 119567          |</pre>"
      ],
      "text/plain": [
       "| 35.06s                              | 59.5             | 119567          |"
      ]
     },
     "metadata": {},
     "output_type": "display_data"
    },
    {
     "data": {
      "text/html": [
       "<pre>| 36.15s                              | 59.5             | 119658          |</pre>"
      ],
      "text/plain": [
       "| 36.15s                              | 59.5             | 119658          |"
      ]
     },
     "metadata": {},
     "output_type": "display_data"
    },
    {
     "data": {
      "text/html": [
       "<pre>| 37.06s                              | 59.5             | 119735          |</pre>"
      ],
      "text/plain": [
       "| 37.06s                              | 59.5             | 119735          |"
      ]
     },
     "metadata": {},
     "output_type": "display_data"
    },
    {
     "data": {
      "text/html": [
       "<pre>| 38.14s                              | 59.75            | 120126          |</pre>"
      ],
      "text/plain": [
       "| 38.14s                              | 59.75            | 120126          |"
      ]
     },
     "metadata": {},
     "output_type": "display_data"
    },
    {
     "data": {
      "text/html": [
       "<pre>| 39.81s                              | 59.75            | 120267          |</pre>"
      ],
      "text/plain": [
       "| 39.81s                              | 59.75            | 120267          |"
      ]
     },
     "metadata": {},
     "output_type": "display_data"
    },
    {
     "data": {
      "text/html": [
       "<pre>| 40.08s                              | 59.75            | 120289          |</pre>"
      ],
      "text/plain": [
       "| 40.08s                              | 59.75            | 120289          |"
      ]
     },
     "metadata": {},
     "output_type": "display_data"
    },
    {
     "data": {
      "text/html": [
       "<pre>| 41.06s                              | 60.25            | 121382          |</pre>"
      ],
      "text/plain": [
       "| 41.06s                              | 60.25            | 121382          |"
      ]
     },
     "metadata": {},
     "output_type": "display_data"
    },
    {
     "data": {
      "text/html": [
       "<pre>| 42.07s                              | 60.25            | 121500          |</pre>"
      ],
      "text/plain": [
       "| 42.07s                              | 60.25            | 121500          |"
      ]
     },
     "metadata": {},
     "output_type": "display_data"
    },
    {
     "data": {
      "text/html": [
       "<pre>| 43.10s                              | 60.5             | 121647          |</pre>"
      ],
      "text/plain": [
       "| 43.10s                              | 60.5             | 121647          |"
      ]
     },
     "metadata": {},
     "output_type": "display_data"
    },
    {
     "data": {
      "text/html": [
       "<pre>| 44.22s                              | 60.5             | 121928          |</pre>"
      ],
      "text/plain": [
       "| 44.22s                              | 60.5             | 121928          |"
      ]
     },
     "metadata": {},
     "output_type": "display_data"
    },
    {
     "data": {
      "text/html": [
       "<pre>| 45.10s                              | 60.5             | 122048          |</pre>"
      ],
      "text/plain": [
       "| 45.10s                              | 60.5             | 122048          |"
      ]
     },
     "metadata": {},
     "output_type": "display_data"
    },
    {
     "data": {
      "text/html": [
       "<pre>| 46.18s                              | 60.75            | 122292          |</pre>"
      ],
      "text/plain": [
       "| 46.18s                              | 60.75            | 122292          |"
      ]
     },
     "metadata": {},
     "output_type": "display_data"
    },
    {
     "data": {
      "text/html": [
       "<pre>| 47.11s                              | 61               | 122656          |</pre>"
      ],
      "text/plain": [
       "| 47.11s                              | 61               | 122656          |"
      ]
     },
     "metadata": {},
     "output_type": "display_data"
    },
    {
     "data": {
      "text/html": [
       "<pre>| 48.55s                              | 61               | 122877          |</pre>"
      ],
      "text/plain": [
       "| 48.55s                              | 61               | 122877          |"
      ]
     },
     "metadata": {},
     "output_type": "display_data"
    },
    {
     "data": {
      "text/html": [
       "<pre>| 49.32s                              | 61.25            | 123158          |</pre>"
      ],
      "text/plain": [
       "| 49.32s                              | 61.25            | 123158          |"
      ]
     },
     "metadata": {},
     "output_type": "display_data"
    },
    {
     "data": {
      "text/html": [
       "<pre>| 50.46s                              | 61.25            | 123494          |</pre>"
      ],
      "text/plain": [
       "| 50.46s                              | 61.25            | 123494          |"
      ]
     },
     "metadata": {},
     "output_type": "display_data"
    },
    {
     "data": {
      "text/html": [
       "<pre>| 51.11s                              | 61.25            | 123514          |</pre>"
      ],
      "text/plain": [
       "| 51.11s                              | 61.25            | 123514          |"
      ]
     },
     "metadata": {},
     "output_type": "display_data"
    },
    {
     "data": {
      "text/html": [
       "<pre>| 52.13s                              | 61.75            | 124406          |</pre>"
      ],
      "text/plain": [
       "| 52.13s                              | 61.75            | 124406          |"
      ]
     },
     "metadata": {},
     "output_type": "display_data"
    },
    {
     "data": {
      "text/html": [
       "<pre>| 53.12s                              | 61.75            | 124574          |</pre>"
      ],
      "text/plain": [
       "| 53.12s                              | 61.75            | 124574          |"
      ]
     },
     "metadata": {},
     "output_type": "display_data"
    },
    {
     "data": {
      "text/html": [
       "<pre>| 54.15s                              | 62.75            | 126356          |</pre>"
      ],
      "text/plain": [
       "| 54.15s                              | 62.75            | 126356          |"
      ]
     },
     "metadata": {},
     "output_type": "display_data"
    },
    {
     "data": {
      "text/html": [
       "<pre>| 55.13s                              | 62.75            | 126526          |</pre>"
      ],
      "text/plain": [
       "| 55.13s                              | 62.75            | 126526          |"
      ]
     },
     "metadata": {},
     "output_type": "display_data"
    },
    {
     "data": {
      "text/html": [
       "<pre>| 56.16s                              | 63               | 126649          |</pre>"
      ],
      "text/plain": [
       "| 56.16s                              | 63               | 126649          |"
      ]
     },
     "metadata": {},
     "output_type": "display_data"
    },
    {
     "data": {
      "text/html": [
       "<pre>| 57.14s                              | 63               | 126813          |</pre>"
      ],
      "text/plain": [
       "| 57.14s                              | 63               | 126813          |"
      ]
     },
     "metadata": {},
     "output_type": "display_data"
    },
    {
     "data": {
      "text/html": [
       "<pre>| 58.24s                              | 63               | 126944          |</pre>"
      ],
      "text/plain": [
       "| 58.24s                              | 63               | 126944          |"
      ]
     },
     "metadata": {},
     "output_type": "display_data"
    },
    {
     "data": {
      "text/html": [
       "<pre>| 59.19s                              | 63               | 127066          |</pre>"
      ],
      "text/plain": [
       "| 59.19s                              | 63               | 127066          |"
      ]
     },
     "metadata": {},
     "output_type": "display_data"
    },
    {
     "data": {
      "text/html": [
       "<pre>| 1m 0s                               | 63.25            | 127509          |</pre>"
      ],
      "text/plain": [
       "| 1m 0s                               | 63.25            | 127509          |"
      ]
     },
     "metadata": {},
     "output_type": "display_data"
    },
    {
     "data": {
      "text/html": [
       "<pre>| 1m 1s                               | 63.25            | 127544          |</pre>"
      ],
      "text/plain": [
       "| 1m 1s                               | 63.25            | 127544          |"
      ]
     },
     "metadata": {},
     "output_type": "display_data"
    },
    {
     "data": {
      "text/html": [
       "<pre>| 1m 2s                               | 63.5             | 127978          |</pre>"
      ],
      "text/plain": [
       "| 1m 2s                               | 63.5             | 127978          |"
      ]
     },
     "metadata": {},
     "output_type": "display_data"
    },
    {
     "data": {
      "text/html": [
       "<pre>| 1m 3s                               | 63.75            | 128426          |</pre>"
      ],
      "text/plain": [
       "| 1m 3s                               | 63.75            | 128426          |"
      ]
     },
     "metadata": {},
     "output_type": "display_data"
    },
    {
     "data": {
      "text/html": [
       "<pre>| 1m 5s                               | 64               | 128923          |</pre>"
      ],
      "text/plain": [
       "| 1m 5s                               | 64               | 128923          |"
      ]
     },
     "metadata": {},
     "output_type": "display_data"
    },
    {
     "data": {
      "text/html": [
       "<pre>| 1m 7s                               | 64               | 129003          |</pre>"
      ],
      "text/plain": [
       "| 1m 7s                               | 64               | 129003          |"
      ]
     },
     "metadata": {},
     "output_type": "display_data"
    },
    {
     "data": {
      "text/html": [
       "<pre>| 1m 7s                               | 64               | 129051          |</pre>"
      ],
      "text/plain": [
       "| 1m 7s                               | 64               | 129051          |"
      ]
     },
     "metadata": {},
     "output_type": "display_data"
    },
    {
     "data": {
      "text/html": [
       "<pre>| 1m 8s                               | 64.25            | 129124          |</pre>"
      ],
      "text/plain": [
       "| 1m 8s                               | 64.25            | 129124          |"
      ]
     },
     "metadata": {},
     "output_type": "display_data"
    },
    {
     "data": {
      "text/html": [
       "<pre>| 1m 9s                               | 64.25            | 129351          |</pre>"
      ],
      "text/plain": [
       "| 1m 9s                               | 64.25            | 129351          |"
      ]
     },
     "metadata": {},
     "output_type": "display_data"
    },
    {
     "data": {
      "text/html": [
       "<pre>| 1m 10s                              | 64.25            | 129392          |</pre>"
      ],
      "text/plain": [
       "| 1m 10s                              | 64.25            | 129392          |"
      ]
     },
     "metadata": {},
     "output_type": "display_data"
    },
    {
     "data": {
      "text/html": [
       "<pre>| 1m 12s                              | 64.5             | 129875          |</pre>"
      ],
      "text/plain": [
       "| 1m 12s                              | 64.5             | 129875          |"
      ]
     },
     "metadata": {},
     "output_type": "display_data"
    },
    {
     "data": {
      "text/html": [
       "<pre>| 1m 12s                              | 64.75            | 130139          |</pre>"
      ],
      "text/plain": [
       "| 1m 12s                              | 64.75            | 130139          |"
      ]
     },
     "metadata": {},
     "output_type": "display_data"
    },
    {
     "data": {
      "text/html": [
       "<pre>| 1m 13s                              | 64.75            | 130185          |</pre>"
      ],
      "text/plain": [
       "| 1m 13s                              | 64.75            | 130185          |"
      ]
     },
     "metadata": {},
     "output_type": "display_data"
    },
    {
     "data": {
      "text/html": [
       "<pre>| 1m 14s                              | 64.75            | 130246          |</pre>"
      ],
      "text/plain": [
       "| 1m 14s                              | 64.75            | 130246          |"
      ]
     },
     "metadata": {},
     "output_type": "display_data"
    },
    {
     "data": {
      "text/html": [
       "<pre>| 1m 15s                              | 64.75            | 130281          |</pre>"
      ],
      "text/plain": [
       "| 1m 15s                              | 64.75            | 130281          |"
      ]
     },
     "metadata": {},
     "output_type": "display_data"
    },
    {
     "data": {
      "text/html": [
       "<pre>| 1m 16s                              | 65               | 130668          |</pre>"
      ],
      "text/plain": [
       "| 1m 16s                              | 65               | 130668          |"
      ]
     },
     "metadata": {},
     "output_type": "display_data"
    },
    {
     "data": {
      "text/html": [
       "<pre>| 1m 18s                              | 65               | 130762          |</pre>"
      ],
      "text/plain": [
       "| 1m 18s                              | 65               | 130762          |"
      ]
     },
     "metadata": {},
     "output_type": "display_data"
    },
    {
     "data": {
      "text/html": [
       "<pre>| 1m 18s                              | 65.25            | 131122          |</pre>"
      ],
      "text/plain": [
       "| 1m 18s                              | 65.25            | 131122          |"
      ]
     },
     "metadata": {},
     "output_type": "display_data"
    },
    {
     "data": {
      "text/html": [
       "<pre>| 1m 19s                              | 65.25            | 131260          |</pre>"
      ],
      "text/plain": [
       "| 1m 19s                              | 65.25            | 131260          |"
      ]
     },
     "metadata": {},
     "output_type": "display_data"
    },
    {
     "data": {
      "text/html": [
       "<pre>| 1m 20s                              | 65.25            | 131484          |</pre>"
      ],
      "text/plain": [
       "| 1m 20s                              | 65.25            | 131484          |"
      ]
     },
     "metadata": {},
     "output_type": "display_data"
    },
    {
     "data": {
      "text/html": [
       "<pre>| 1m 21s                              | 65.25            | 131592          |</pre>"
      ],
      "text/plain": [
       "| 1m 21s                              | 65.25            | 131592          |"
      ]
     },
     "metadata": {},
     "output_type": "display_data"
    },
    {
     "data": {
      "text/html": [
       "<pre>| 1m 22s                              | 65.5             | 131851          |</pre>"
      ],
      "text/plain": [
       "| 1m 22s                              | 65.5             | 131851          |"
      ]
     },
     "metadata": {},
     "output_type": "display_data"
    },
    {
     "data": {
      "text/html": [
       "<pre>| 1m 23s                              | 66               | 132752          |</pre>"
      ],
      "text/plain": [
       "| 1m 23s                              | 66               | 132752          |"
      ]
     },
     "metadata": {},
     "output_type": "display_data"
    },
    {
     "data": {
      "text/html": [
       "<pre>| 1m 24s                              | 66               | 132977          |</pre>"
      ],
      "text/plain": [
       "| 1m 24s                              | 66               | 132977          |"
      ]
     },
     "metadata": {},
     "output_type": "display_data"
    },
    {
     "data": {
      "text/html": [
       "<pre>| 1m 26s                              | 66.25            | 133152          |</pre>"
      ],
      "text/plain": [
       "| 1m 26s                              | 66.25            | 133152          |"
      ]
     },
     "metadata": {},
     "output_type": "display_data"
    },
    {
     "data": {
      "text/html": [
       "<pre>| 1m 26s                              | 66.25            | 133168          |</pre>"
      ],
      "text/plain": [
       "| 1m 26s                              | 66.25            | 133168          |"
      ]
     },
     "metadata": {},
     "output_type": "display_data"
    },
    {
     "data": {
      "text/html": [
       "<pre>| 1m 27s                              | 66.25            | 133344          |</pre>"
      ],
      "text/plain": [
       "| 1m 27s                              | 66.25            | 133344          |"
      ]
     },
     "metadata": {},
     "output_type": "display_data"
    },
    {
     "data": {
      "text/html": [
       "<pre>| 1m 28s                              | 66.5             | 133785          |</pre>"
      ],
      "text/plain": [
       "| 1m 28s                              | 66.5             | 133785          |"
      ]
     },
     "metadata": {},
     "output_type": "display_data"
    },
    {
     "data": {
      "text/html": [
       "<pre>| 1m 29s                              | 66.5             | 133903          |</pre>"
      ],
      "text/plain": [
       "| 1m 29s                              | 66.5             | 133903          |"
      ]
     },
     "metadata": {},
     "output_type": "display_data"
    },
    {
     "data": {
      "text/html": [
       "<pre>| 1m 30s                              | 66.5             | 134072          |</pre>"
      ],
      "text/plain": [
       "| 1m 30s                              | 66.5             | 134072          |"
      ]
     },
     "metadata": {},
     "output_type": "display_data"
    },
    {
     "data": {
      "text/html": [
       "<pre>| 1m 31s                              | 66.75            | 134168          |</pre>"
      ],
      "text/plain": [
       "| 1m 31s                              | 66.75            | 134168          |"
      ]
     },
     "metadata": {},
     "output_type": "display_data"
    },
    {
     "data": {
      "text/html": [
       "<pre>| 1m 32s                              | 66.75            | 134256          |</pre>"
      ],
      "text/plain": [
       "| 1m 32s                              | 66.75            | 134256          |"
      ]
     },
     "metadata": {},
     "output_type": "display_data"
    },
    {
     "data": {
      "text/html": [
       "<pre>| 1m 33s                              | 66.75            | 134443          |</pre>"
      ],
      "text/plain": [
       "| 1m 33s                              | 66.75            | 134443          |"
      ]
     },
     "metadata": {},
     "output_type": "display_data"
    },
    {
     "data": {
      "text/html": [
       "<pre>| 1m 34s                              | 67               | 134737          |</pre>"
      ],
      "text/plain": [
       "| 1m 34s                              | 67               | 134737          |"
      ]
     },
     "metadata": {},
     "output_type": "display_data"
    },
    {
     "data": {
      "text/html": [
       "<pre>| 1m 35s                              | 67               | 135016          |</pre>"
      ],
      "text/plain": [
       "| 1m 35s                              | 67               | 135016          |"
      ]
     },
     "metadata": {},
     "output_type": "display_data"
    },
    {
     "data": {
      "text/html": [
       "<pre>| 1m 36s                              | 67.75            | 136466          |</pre>"
      ],
      "text/plain": [
       "| 1m 36s                              | 67.75            | 136466          |"
      ]
     },
     "metadata": {},
     "output_type": "display_data"
    },
    {
     "data": {
      "text/html": [
       "<pre>| 1m 37s                              | 68               | 136733          |</pre>"
      ],
      "text/plain": [
       "| 1m 37s                              | 68               | 136733          |"
      ]
     },
     "metadata": {},
     "output_type": "display_data"
    },
    {
     "data": {
      "text/html": [
       "<pre>| 1m 38s                              | 68               | 136884          |</pre>"
      ],
      "text/plain": [
       "| 1m 38s                              | 68               | 136884          |"
      ]
     },
     "metadata": {},
     "output_type": "display_data"
    },
    {
     "data": {
      "text/html": [
       "<pre>| 1m 40s                              | 68.5             | 137810          |</pre>"
      ],
      "text/plain": [
       "| 1m 40s                              | 68.5             | 137810          |"
      ]
     },
     "metadata": {},
     "output_type": "display_data"
    },
    {
     "data": {
      "text/html": [
       "<pre>| 1m 41s                              | 68.5             | 137906          |</pre>"
      ],
      "text/plain": [
       "| 1m 41s                              | 68.5             | 137906          |"
      ]
     },
     "metadata": {},
     "output_type": "display_data"
    },
    {
     "data": {
      "text/html": [
       "<pre>| 1m 41s                              | 68.75            | 138151          |</pre>"
      ],
      "text/plain": [
       "| 1m 41s                              | 68.75            | 138151          |"
      ]
     },
     "metadata": {},
     "output_type": "display_data"
    },
    {
     "data": {
      "text/html": [
       "<pre>| 1m 43s                              | 68.75            | 138216          |</pre>"
      ],
      "text/plain": [
       "| 1m 43s                              | 68.75            | 138216          |"
      ]
     },
     "metadata": {},
     "output_type": "display_data"
    },
    {
     "data": {
      "text/html": [
       "<pre>| 1m 43s                              | 68.75            | 138242          |</pre>"
      ],
      "text/plain": [
       "| 1m 43s                              | 68.75            | 138242          |"
      ]
     },
     "metadata": {},
     "output_type": "display_data"
    },
    {
     "data": {
      "text/html": [
       "<pre>| 1m 44s                              | 68.75            | 138310          |</pre>"
      ],
      "text/plain": [
       "| 1m 44s                              | 68.75            | 138310          |"
      ]
     },
     "metadata": {},
     "output_type": "display_data"
    },
    {
     "data": {
      "text/html": [
       "<pre>| 1m 46s                              | 68.75            | 138419          |</pre>"
      ],
      "text/plain": [
       "| 1m 46s                              | 68.75            | 138419          |"
      ]
     },
     "metadata": {},
     "output_type": "display_data"
    },
    {
     "data": {
      "text/html": [
       "<pre>| 1m 46s                              | 68.75            | 138538          |</pre>"
      ],
      "text/plain": [
       "| 1m 46s                              | 68.75            | 138538          |"
      ]
     },
     "metadata": {},
     "output_type": "display_data"
    },
    {
     "data": {
      "text/html": [
       "<pre>| 1m 48s                              | 68.75            | 138631          |</pre>"
      ],
      "text/plain": [
       "| 1m 48s                              | 68.75            | 138631          |"
      ]
     },
     "metadata": {},
     "output_type": "display_data"
    },
    {
     "data": {
      "text/html": [
       "<pre>| 1m 49s                              | 69               | 138696          |</pre>"
      ],
      "text/plain": [
       "| 1m 49s                              | 69               | 138696          |"
      ]
     },
     "metadata": {},
     "output_type": "display_data"
    },
    {
     "data": {
      "text/html": [
       "<pre>| 1m 50s                              | 69               | 138796          |</pre>"
      ],
      "text/plain": [
       "| 1m 50s                              | 69               | 138796          |"
      ]
     },
     "metadata": {},
     "output_type": "display_data"
    },
    {
     "data": {
      "text/html": [
       "<pre>| 1m 51s                              | 69               | 138889          |</pre>"
      ],
      "text/plain": [
       "| 1m 51s                              | 69               | 138889          |"
      ]
     },
     "metadata": {},
     "output_type": "display_data"
    },
    {
     "data": {
      "text/html": [
       "<pre>| 1m 52s                              | 69               | 138990          |</pre>"
      ],
      "text/plain": [
       "| 1m 52s                              | 69               | 138990          |"
      ]
     },
     "metadata": {},
     "output_type": "display_data"
    },
    {
     "data": {
      "text/html": [
       "<pre>| 1m 53s                              | 69.25            | 139352          |</pre>"
      ],
      "text/plain": [
       "| 1m 53s                              | 69.25            | 139352          |"
      ]
     },
     "metadata": {},
     "output_type": "display_data"
    },
    {
     "data": {
      "text/html": [
       "<pre>| 1m 54s                              | 69.25            | 139418          |</pre>"
      ],
      "text/plain": [
       "| 1m 54s                              | 69.25            | 139418          |"
      ]
     },
     "metadata": {},
     "output_type": "display_data"
    },
    {
     "data": {
      "text/html": [
       "<pre>| 1m 55s                              | 69.5             | 140078          |</pre>"
      ],
      "text/plain": [
       "| 1m 55s                              | 69.5             | 140078          |"
      ]
     },
     "metadata": {},
     "output_type": "display_data"
    },
    {
     "data": {
      "text/html": [
       "<pre>| 1m 56s                              | 69.75            | 140187          |</pre>"
      ],
      "text/plain": [
       "| 1m 56s                              | 69.75            | 140187          |"
      ]
     },
     "metadata": {},
     "output_type": "display_data"
    },
    {
     "data": {
      "text/html": [
       "<pre>| 1m 57s                              | 69.75            | 140650          |</pre>"
      ],
      "text/plain": [
       "| 1m 57s                              | 69.75            | 140650          |"
      ]
     },
     "metadata": {},
     "output_type": "display_data"
    },
    {
     "data": {
      "text/html": [
       "<pre>| 1m 58s                              | 70               | 140764          |</pre>"
      ],
      "text/plain": [
       "| 1m 58s                              | 70               | 140764          |"
      ]
     },
     "metadata": {},
     "output_type": "display_data"
    },
    {
     "data": {
      "text/html": [
       "<pre>| 1m 59s                              | 70               | 140912          |</pre>"
      ],
      "text/plain": [
       "| 1m 59s                              | 70               | 140912          |"
      ]
     },
     "metadata": {},
     "output_type": "display_data"
    },
    {
     "data": {
      "text/html": [
       "<pre>| 2m 0s                               | 70               | 141053          |</pre>"
      ],
      "text/plain": [
       "| 2m 0s                               | 70               | 141053          |"
      ]
     },
     "metadata": {},
     "output_type": "display_data"
    },
    {
     "data": {
      "text/html": [
       "<pre>| 2m 1s                               | 70.25            | 141254          |</pre>"
      ],
      "text/plain": [
       "| 2m 1s                               | 70.25            | 141254          |"
      ]
     },
     "metadata": {},
     "output_type": "display_data"
    },
    {
     "data": {
      "text/html": [
       "<pre>| 2m 2s                               | 70.25            | 141495          |</pre>"
      ],
      "text/plain": [
       "| 2m 2s                               | 70.25            | 141495          |"
      ]
     },
     "metadata": {},
     "output_type": "display_data"
    },
    {
     "data": {
      "text/html": [
       "<pre>| 2m 3s                               | 70.25            | 141631          |</pre>"
      ],
      "text/plain": [
       "| 2m 3s                               | 70.25            | 141631          |"
      ]
     },
     "metadata": {},
     "output_type": "display_data"
    },
    {
     "data": {
      "text/html": [
       "<pre>| 2m 4s                               | 70.75            | 142303          |</pre>"
      ],
      "text/plain": [
       "| 2m 4s                               | 70.75            | 142303          |"
      ]
     },
     "metadata": {},
     "output_type": "display_data"
    },
    {
     "data": {
      "text/html": [
       "<pre>| 2m 5s                               | 70.75            | 142366          |</pre>"
      ],
      "text/plain": [
       "| 2m 5s                               | 70.75            | 142366          |"
      ]
     },
     "metadata": {},
     "output_type": "display_data"
    },
    {
     "data": {
      "text/html": [
       "<pre>| 2m 6s                               | 70.75            | 142609          |</pre>"
      ],
      "text/plain": [
       "| 2m 6s                               | 70.75            | 142609          |"
      ]
     },
     "metadata": {},
     "output_type": "display_data"
    },
    {
     "data": {
      "text/html": [
       "<pre>| 2m 7s                               | 71               | 142746          |</pre>"
      ],
      "text/plain": [
       "| 2m 7s                               | 71               | 142746          |"
      ]
     },
     "metadata": {},
     "output_type": "display_data"
    },
    {
     "data": {
      "text/html": [
       "<pre>| 2m 8s                               | 73               | 146842          |</pre>"
      ],
      "text/plain": [
       "| 2m 8s                               | 73               | 146842          |"
      ]
     },
     "metadata": {},
     "output_type": "display_data"
    },
    {
     "data": {
      "text/html": [
       "<pre>| 2m 9s                               | 73               | 147120          |</pre>"
      ],
      "text/plain": [
       "| 2m 9s                               | 73               | 147120          |"
      ]
     },
     "metadata": {},
     "output_type": "display_data"
    },
    {
     "data": {
      "text/html": [
       "<pre>| 2m 10s                              | 73.25            | 147236          |</pre>"
      ],
      "text/plain": [
       "| 2m 10s                              | 73.25            | 147236          |"
      ]
     },
     "metadata": {},
     "output_type": "display_data"
    },
    {
     "data": {
      "text/html": [
       "<pre>| 2m 11s                              | 73.25            | 147425          |</pre>"
      ],
      "text/plain": [
       "| 2m 11s                              | 73.25            | 147425          |"
      ]
     },
     "metadata": {},
     "output_type": "display_data"
    },
    {
     "data": {
      "text/html": [
       "<pre>| 2m 12s                              | 73.5             | 148093          |</pre>"
      ],
      "text/plain": [
       "| 2m 12s                              | 73.5             | 148093          |"
      ]
     },
     "metadata": {},
     "output_type": "display_data"
    },
    {
     "data": {
      "text/html": [
       "<pre>| 2m 13s                              | 73.75            | 148231          |</pre>"
      ],
      "text/plain": [
       "| 2m 13s                              | 73.75            | 148231          |"
      ]
     },
     "metadata": {},
     "output_type": "display_data"
    },
    {
     "data": {
      "text/html": [
       "<pre>| 2m 14s                              | 73.75            | 148320          |</pre>"
      ],
      "text/plain": [
       "| 2m 14s                              | 73.75            | 148320          |"
      ]
     },
     "metadata": {},
     "output_type": "display_data"
    },
    {
     "data": {
      "text/html": [
       "<pre>| 2m 15s                              | 73.75            | 148449          |</pre>"
      ],
      "text/plain": [
       "| 2m 15s                              | 73.75            | 148449          |"
      ]
     },
     "metadata": {},
     "output_type": "display_data"
    },
    {
     "data": {
      "text/html": [
       "<pre>| 2m 16s                              | 73.75            | 148581          |</pre>"
      ],
      "text/plain": [
       "| 2m 16s                              | 73.75            | 148581          |"
      ]
     },
     "metadata": {},
     "output_type": "display_data"
    },
    {
     "data": {
      "text/html": [
       "<pre>| 2m 17s                              | 74               | 148766          |</pre>"
      ],
      "text/plain": [
       "| 2m 17s                              | 74               | 148766          |"
      ]
     },
     "metadata": {},
     "output_type": "display_data"
    },
    {
     "data": {
      "text/html": [
       "<pre>| 2m 18s                              | 74               | 148910          |</pre>"
      ],
      "text/plain": [
       "| 2m 18s                              | 74               | 148910          |"
      ]
     },
     "metadata": {},
     "output_type": "display_data"
    },
    {
     "data": {
      "text/html": [
       "<pre>| 2m 19s                              | 74               | 149141          |</pre>"
      ],
      "text/plain": [
       "| 2m 19s                              | 74               | 149141          |"
      ]
     },
     "metadata": {},
     "output_type": "display_data"
    },
    {
     "data": {
      "text/html": [
       "<pre>| 2m 20s                              | 74.25            | 149287          |</pre>"
      ],
      "text/plain": [
       "| 2m 20s                              | 74.25            | 149287          |"
      ]
     },
     "metadata": {},
     "output_type": "display_data"
    },
    {
     "data": {
      "text/html": [
       "<pre>| 2m 21s                              | 74.25            | 149456          |</pre>"
      ],
      "text/plain": [
       "| 2m 21s                              | 74.25            | 149456          |"
      ]
     },
     "metadata": {},
     "output_type": "display_data"
    },
    {
     "data": {
      "text/html": [
       "<pre>| 2m 22s                              | 74.5             | 149719          |</pre>"
      ],
      "text/plain": [
       "| 2m 22s                              | 74.5             | 149719          |"
      ]
     },
     "metadata": {},
     "output_type": "display_data"
    },
    {
     "data": {
      "text/html": [
       "<pre>| 2m 23s                              | 74.5             | 149836          |</pre>"
      ],
      "text/plain": [
       "| 2m 23s                              | 74.5             | 149836          |"
      ]
     },
     "metadata": {},
     "output_type": "display_data"
    },
    {
     "data": {
      "text/html": [
       "<pre>| 2m 24s                              | 74.5             | 150154          |</pre>"
      ],
      "text/plain": [
       "| 2m 24s                              | 74.5             | 150154          |"
      ]
     },
     "metadata": {},
     "output_type": "display_data"
    },
    {
     "data": {
      "text/html": [
       "<pre>| 2m 25s                              | 74.75            | 150266          |</pre>"
      ],
      "text/plain": [
       "| 2m 25s                              | 74.75            | 150266          |"
      ]
     },
     "metadata": {},
     "output_type": "display_data"
    },
    {
     "data": {
      "text/html": [
       "<pre>| 2m 26s                              | 74.75            | 150484          |</pre>"
      ],
      "text/plain": [
       "| 2m 26s                              | 74.75            | 150484          |"
      ]
     },
     "metadata": {},
     "output_type": "display_data"
    },
    {
     "data": {
      "text/html": [
       "<pre>| 2m 27s                              | 75               | 150892          |</pre>"
      ],
      "text/plain": [
       "| 2m 27s                              | 75               | 150892          |"
      ]
     },
     "metadata": {},
     "output_type": "display_data"
    },
    {
     "data": {
      "text/html": [
       "<pre>| 2m 28s                              | 75               | 151040          |</pre>"
      ],
      "text/plain": [
       "| 2m 28s                              | 75               | 151040          |"
      ]
     },
     "metadata": {},
     "output_type": "display_data"
    },
    {
     "data": {
      "text/html": [
       "<pre>| 2m 29s                              | 75               | 151138          |</pre>"
      ],
      "text/plain": [
       "| 2m 29s                              | 75               | 151138          |"
      ]
     },
     "metadata": {},
     "output_type": "display_data"
    },
    {
     "data": {
      "text/html": [
       "<pre>| 2m 30s                              | 75.25            | 151245          |</pre>"
      ],
      "text/plain": [
       "| 2m 30s                              | 75.25            | 151245          |"
      ]
     },
     "metadata": {},
     "output_type": "display_data"
    },
    {
     "data": {
      "text/html": [
       "<pre>| 2m 31s                              | 75.25            | 151362          |</pre>"
      ],
      "text/plain": [
       "| 2m 31s                              | 75.25            | 151362          |"
      ]
     },
     "metadata": {},
     "output_type": "display_data"
    },
    {
     "data": {
      "text/html": [
       "<pre>| 2m 32s                              | 75.25            | 151581          |</pre>"
      ],
      "text/plain": [
       "| 2m 32s                              | 75.25            | 151581          |"
      ]
     },
     "metadata": {},
     "output_type": "display_data"
    },
    {
     "data": {
      "text/html": [
       "<pre>| 2m 33s                              | 75.5             | 151710          |</pre>"
      ],
      "text/plain": [
       "| 2m 33s                              | 75.5             | 151710          |"
      ]
     },
     "metadata": {},
     "output_type": "display_data"
    },
    {
     "data": {
      "text/html": [
       "<pre>| 2m 34s                              | 75.5             | 151863          |</pre>"
      ],
      "text/plain": [
       "| 2m 34s                              | 75.5             | 151863          |"
      ]
     },
     "metadata": {},
     "output_type": "display_data"
    },
    {
     "data": {
      "text/html": [
       "<pre>| 2m 35s                              | 75.75            | 152343          |</pre>"
      ],
      "text/plain": [
       "| 2m 35s                              | 75.75            | 152343          |"
      ]
     },
     "metadata": {},
     "output_type": "display_data"
    },
    {
     "data": {
      "text/html": [
       "<pre>| 2m 36s                              | 75.75            | 152496          |</pre>"
      ],
      "text/plain": [
       "| 2m 36s                              | 75.75            | 152496          |"
      ]
     },
     "metadata": {},
     "output_type": "display_data"
    },
    {
     "data": {
      "text/html": [
       "<pre>| 2m 37s                              | 75.75            | 152578          |</pre>"
      ],
      "text/plain": [
       "| 2m 37s                              | 75.75            | 152578          |"
      ]
     },
     "metadata": {},
     "output_type": "display_data"
    },
    {
     "data": {
      "text/html": [
       "<pre>| 2m 38s                              | 75.75            | 152700          |</pre>"
      ],
      "text/plain": [
       "| 2m 38s                              | 75.75            | 152700          |"
      ]
     },
     "metadata": {},
     "output_type": "display_data"
    },
    {
     "data": {
      "text/html": [
       "<pre>| 2m 39s                              | 76               | 152843          |</pre>"
      ],
      "text/plain": [
       "| 2m 39s                              | 76               | 152843          |"
      ]
     },
     "metadata": {},
     "output_type": "display_data"
    },
    {
     "data": {
      "text/html": [
       "<pre>| 2m 40s                              | 76               | 153060          |</pre>"
      ],
      "text/plain": [
       "| 2m 40s                              | 76               | 153060          |"
      ]
     },
     "metadata": {},
     "output_type": "display_data"
    },
    {
     "data": {
      "text/html": [
       "<pre>| 2m 41s                              | 76.25            | 153393          |</pre>"
      ],
      "text/plain": [
       "| 2m 41s                              | 76.25            | 153393          |"
      ]
     },
     "metadata": {},
     "output_type": "display_data"
    },
    {
     "data": {
      "text/html": [
       "<pre>| 2m 42s                              | 76.25            | 153527          |</pre>"
      ],
      "text/plain": [
       "| 2m 42s                              | 76.25            | 153527          |"
      ]
     },
     "metadata": {},
     "output_type": "display_data"
    },
    {
     "data": {
      "text/html": [
       "<pre>| 2m 43s                              | 76.5             | 153736          |</pre>"
      ],
      "text/plain": [
       "| 2m 43s                              | 76.5             | 153736          |"
      ]
     },
     "metadata": {},
     "output_type": "display_data"
    },
    {
     "data": {
      "text/html": [
       "<pre>| 2m 44s                              | 79               | 158908          |</pre>"
      ],
      "text/plain": [
       "| 2m 44s                              | 79               | 158908          |"
      ]
     },
     "metadata": {},
     "output_type": "display_data"
    },
    {
     "data": {
      "text/html": [
       "<pre>| 2m 45s                              | 79               | 159027          |</pre>"
      ],
      "text/plain": [
       "| 2m 45s                              | 79               | 159027          |"
      ]
     },
     "metadata": {},
     "output_type": "display_data"
    },
    {
     "data": {
      "text/html": [
       "<pre>| 2m 46s                              | 79               | 159140          |</pre>"
      ],
      "text/plain": [
       "| 2m 46s                              | 79               | 159140          |"
      ]
     },
     "metadata": {},
     "output_type": "display_data"
    },
    {
     "data": {
      "text/html": [
       "<pre>| 2m 47s                              | 79.25            | 159265          |</pre>"
      ],
      "text/plain": [
       "| 2m 47s                              | 79.25            | 159265          |"
      ]
     },
     "metadata": {},
     "output_type": "display_data"
    },
    {
     "data": {
      "text/html": [
       "<pre>| 2m 48s                              | 79.25            | 159369          |</pre>"
      ],
      "text/plain": [
       "| 2m 48s                              | 79.25            | 159369          |"
      ]
     },
     "metadata": {},
     "output_type": "display_data"
    },
    {
     "data": {
      "text/html": [
       "<pre>| 2m 49s                              | 79.25            | 159493          |</pre>"
      ],
      "text/plain": [
       "| 2m 49s                              | 79.25            | 159493          |"
      ]
     },
     "metadata": {},
     "output_type": "display_data"
    },
    {
     "data": {
      "text/html": [
       "<pre>| 2m 50s                              | 79.25            | 159591          |</pre>"
      ],
      "text/plain": [
       "| 2m 50s                              | 79.25            | 159591          |"
      ]
     },
     "metadata": {},
     "output_type": "display_data"
    },
    {
     "data": {
      "text/html": [
       "<pre>| 2m 51s                              | 79.25            | 159713          |</pre>"
      ],
      "text/plain": [
       "| 2m 51s                              | 79.25            | 159713          |"
      ]
     },
     "metadata": {},
     "output_type": "display_data"
    },
    {
     "data": {
      "text/html": [
       "<pre>| 2m 52s                              | 79.5             | 159845          |</pre>"
      ],
      "text/plain": [
       "| 2m 52s                              | 79.5             | 159845          |"
      ]
     },
     "metadata": {},
     "output_type": "display_data"
    },
    {
     "data": {
      "text/html": [
       "<pre>| 2m 53s                              | 79.5             | 159929          |</pre>"
      ],
      "text/plain": [
       "| 2m 53s                              | 79.5             | 159929          |"
      ]
     },
     "metadata": {},
     "output_type": "display_data"
    },
    {
     "data": {
      "text/html": [
       "<pre>| 2m 54s                              | 79.5             | 160059          |</pre>"
      ],
      "text/plain": [
       "| 2m 54s                              | 79.5             | 160059          |"
      ]
     },
     "metadata": {},
     "output_type": "display_data"
    },
    {
     "data": {
      "text/html": [
       "<pre>| 2m 55s                              | 79.5             | 160125          |</pre>"
      ],
      "text/plain": [
       "| 2m 55s                              | 79.5             | 160125          |"
      ]
     },
     "metadata": {},
     "output_type": "display_data"
    },
    {
     "data": {
      "text/html": [
       "<pre>| 2m 56s                              | 79.5             | 160209          |</pre>"
      ],
      "text/plain": [
       "| 2m 56s                              | 79.5             | 160209          |"
      ]
     },
     "metadata": {},
     "output_type": "display_data"
    },
    {
     "data": {
      "text/html": [
       "<pre>| 2m 57s                              | 79.75            | 160288          |</pre>"
      ],
      "text/plain": [
       "| 2m 57s                              | 79.75            | 160288          |"
      ]
     },
     "metadata": {},
     "output_type": "display_data"
    },
    {
     "data": {
      "text/html": [
       "<pre>| 2m 58s                              | 79.75            | 160404          |</pre>"
      ],
      "text/plain": [
       "| 2m 58s                              | 79.75            | 160404          |"
      ]
     },
     "metadata": {},
     "output_type": "display_data"
    },
    {
     "data": {
      "text/html": [
       "<pre>| 2m 59s                              | 79.75            | 160474          |</pre>"
      ],
      "text/plain": [
       "| 2m 59s                              | 79.75            | 160474          |"
      ]
     },
     "metadata": {},
     "output_type": "display_data"
    },
    {
     "data": {
      "text/html": [
       "<pre>| 3m 0s                               | 79.75            | 160570          |</pre>"
      ],
      "text/plain": [
       "| 3m 0s                               | 79.75            | 160570          |"
      ]
     },
     "metadata": {},
     "output_type": "display_data"
    },
    {
     "data": {
      "text/html": [
       "<pre>| 3m 1s                               | 79.75            | 160677          |</pre>"
      ],
      "text/plain": [
       "| 3m 1s                               | 79.75            | 160677          |"
      ]
     },
     "metadata": {},
     "output_type": "display_data"
    },
    {
     "data": {
      "text/html": [
       "<pre>| 3m 2s                               | 80               | 160774          |</pre>"
      ],
      "text/plain": [
       "| 3m 2s                               | 80               | 160774          |"
      ]
     },
     "metadata": {},
     "output_type": "display_data"
    },
    {
     "data": {
      "text/html": [
       "<pre>| 3m 3s                               | 80               | 160992          |</pre>"
      ],
      "text/plain": [
       "| 3m 3s                               | 80               | 160992          |"
      ]
     },
     "metadata": {},
     "output_type": "display_data"
    },
    {
     "data": {
      "text/html": [
       "<pre>| 3m 4s                               | 80               | 161169          |</pre>"
      ],
      "text/plain": [
       "| 3m 4s                               | 80               | 161169          |"
      ]
     },
     "metadata": {},
     "output_type": "display_data"
    },
    {
     "data": {
      "text/html": [
       "<pre>| 3m 5s                               | 80.25            | 161272          |</pre>"
      ],
      "text/plain": [
       "| 3m 5s                               | 80.25            | 161272          |"
      ]
     },
     "metadata": {},
     "output_type": "display_data"
    },
    {
     "data": {
      "text/html": [
       "<pre>| 3m 6s                               | 80.25            | 161416          |</pre>"
      ],
      "text/plain": [
       "| 3m 6s                               | 80.25            | 161416          |"
      ]
     },
     "metadata": {},
     "output_type": "display_data"
    },
    {
     "data": {
      "text/html": [
       "<pre>| 3m 7s                               | 80.25            | 161743          |</pre>"
      ],
      "text/plain": [
       "| 3m 7s                               | 80.25            | 161743          |"
      ]
     },
     "metadata": {},
     "output_type": "display_data"
    },
    {
     "data": {
      "text/html": [
       "<pre>| 3m 8s                               | 80.5             | 161861          |</pre>"
      ],
      "text/plain": [
       "| 3m 8s                               | 80.5             | 161861          |"
      ]
     },
     "metadata": {},
     "output_type": "display_data"
    },
    {
     "data": {
      "text/html": [
       "<pre>| 3m 9s                               | 80.5             | 161977          |</pre>"
      ],
      "text/plain": [
       "| 3m 9s                               | 80.5             | 161977          |"
      ]
     },
     "metadata": {},
     "output_type": "display_data"
    },
    {
     "data": {
      "text/html": [
       "<pre>| 3m 10s                              | 80.5             | 162236          |</pre>"
      ],
      "text/plain": [
       "| 3m 10s                              | 80.5             | 162236          |"
      ]
     },
     "metadata": {},
     "output_type": "display_data"
    },
    {
     "data": {
      "text/html": [
       "<pre>| 3m 11s                              | 80.75            | 162359          |</pre>"
      ],
      "text/plain": [
       "| 3m 11s                              | 80.75            | 162359          |"
      ]
     },
     "metadata": {},
     "output_type": "display_data"
    },
    {
     "data": {
      "text/html": [
       "<pre>| 3m 12s                              | 80.75            | 162559          |</pre>"
      ],
      "text/plain": [
       "| 3m 12s                              | 80.75            | 162559          |"
      ]
     },
     "metadata": {},
     "output_type": "display_data"
    },
    {
     "data": {
      "text/html": [
       "<pre>| 3m 13s                              | 81               | 162835          |</pre>"
      ],
      "text/plain": [
       "| 3m 13s                              | 81               | 162835          |"
      ]
     },
     "metadata": {},
     "output_type": "display_data"
    },
    {
     "data": {
      "text/html": [
       "<pre>| 3m 14s                              | 81               | 163236          |</pre>"
      ],
      "text/plain": [
       "| 3m 14s                              | 81               | 163236          |"
      ]
     },
     "metadata": {},
     "output_type": "display_data"
    },
    {
     "data": {
      "text/html": [
       "<pre>| 3m 15s                              | 81.25            | 163354          |</pre>"
      ],
      "text/plain": [
       "| 3m 15s                              | 81.25            | 163354          |"
      ]
     },
     "metadata": {},
     "output_type": "display_data"
    },
    {
     "data": {
      "text/html": [
       "<pre>| 3m 16s                              | 81.25            | 163511          |</pre>"
      ],
      "text/plain": [
       "| 3m 16s                              | 81.25            | 163511          |"
      ]
     },
     "metadata": {},
     "output_type": "display_data"
    },
    {
     "data": {
      "text/html": [
       "<pre>| 3m 17s                              | 81.25            | 163593          |</pre>"
      ],
      "text/plain": [
       "| 3m 17s                              | 81.25            | 163593          |"
      ]
     },
     "metadata": {},
     "output_type": "display_data"
    },
    {
     "data": {
      "text/html": [
       "<pre>| 3m 18s                              | 81.25            | 163723          |</pre>"
      ],
      "text/plain": [
       "| 3m 18s                              | 81.25            | 163723          |"
      ]
     },
     "metadata": {},
     "output_type": "display_data"
    },
    {
     "data": {
      "text/html": [
       "<pre>| 3m 19s                              | 81.5             | 164214          |</pre>"
      ],
      "text/plain": [
       "| 3m 19s                              | 81.5             | 164214          |"
      ]
     },
     "metadata": {},
     "output_type": "display_data"
    },
    {
     "data": {
      "text/html": [
       "<pre>| 3m 20s                              | 81.75            | 164321          |</pre>"
      ],
      "text/plain": [
       "| 3m 20s                              | 81.75            | 164321          |"
      ]
     },
     "metadata": {},
     "output_type": "display_data"
    },
    {
     "data": {
      "text/html": [
       "<pre>| 3m 21s                              | 81.75            | 164448          |</pre>"
      ],
      "text/plain": [
       "| 3m 21s                              | 81.75            | 164448          |"
      ]
     },
     "metadata": {},
     "output_type": "display_data"
    },
    {
     "data": {
      "text/html": [
       "<pre>| 3m 22s                              | 81.75            | 164564          |</pre>"
      ],
      "text/plain": [
       "| 3m 22s                              | 81.75            | 164564          |"
      ]
     },
     "metadata": {},
     "output_type": "display_data"
    },
    {
     "data": {
      "text/html": [
       "<pre>| 3m 23s                              | 81.75            | 164719          |</pre>"
      ],
      "text/plain": [
       "| 3m 23s                              | 81.75            | 164719          |"
      ]
     },
     "metadata": {},
     "output_type": "display_data"
    },
    {
     "data": {
      "text/html": [
       "<pre>| 3m 24s                              | 82.25            | 165508          |</pre>"
      ],
      "text/plain": [
       "| 3m 24s                              | 82.25            | 165508          |"
      ]
     },
     "metadata": {},
     "output_type": "display_data"
    },
    {
     "data": {
      "text/html": [
       "<pre>| 3m 25s                              | 82.25            | 165627          |</pre>"
      ],
      "text/plain": [
       "| 3m 25s                              | 82.25            | 165627          |"
      ]
     },
     "metadata": {},
     "output_type": "display_data"
    },
    {
     "data": {
      "text/html": [
       "<pre>| 3m 26s                              | 82.25            | 165745          |</pre>"
      ],
      "text/plain": [
       "| 3m 26s                              | 82.25            | 165745          |"
      ]
     },
     "metadata": {},
     "output_type": "display_data"
    },
    {
     "data": {
      "text/html": [
       "<pre>| 3m 27s                              | 82.5             | 165863          |</pre>"
      ],
      "text/plain": [
       "| 3m 27s                              | 82.5             | 165863          |"
      ]
     },
     "metadata": {},
     "output_type": "display_data"
    },
    {
     "data": {
      "text/html": [
       "<pre>| 3m 28s                              | 82.5             | 165986          |</pre>"
      ],
      "text/plain": [
       "| 3m 28s                              | 82.5             | 165986          |"
      ]
     },
     "metadata": {},
     "output_type": "display_data"
    },
    {
     "data": {
      "text/html": [
       "<pre>| 3m 29s                              | 82.5             | 166110          |</pre>"
      ],
      "text/plain": [
       "| 3m 29s                              | 82.5             | 166110          |"
      ]
     },
     "metadata": {},
     "output_type": "display_data"
    },
    {
     "data": {
      "text/html": [
       "<pre>| 3m 30s                              | 82.5             | 166248          |</pre>"
      ],
      "text/plain": [
       "| 3m 30s                              | 82.5             | 166248          |"
      ]
     },
     "metadata": {},
     "output_type": "display_data"
    },
    {
     "data": {
      "text/html": [
       "<pre>| 3m 31s                              | 82.75            | 166378          |</pre>"
      ],
      "text/plain": [
       "| 3m 31s                              | 82.75            | 166378          |"
      ]
     },
     "metadata": {},
     "output_type": "display_data"
    },
    {
     "data": {
      "text/html": [
       "<pre>| 3m 32s                              | 82.75            | 166535          |</pre>"
      ],
      "text/plain": [
       "| 3m 32s                              | 82.75            | 166535          |"
      ]
     },
     "metadata": {},
     "output_type": "display_data"
    },
    {
     "data": {
      "text/html": [
       "<pre>| 3m 33s                              | 82.75            | 166723          |</pre>"
      ],
      "text/plain": [
       "| 3m 33s                              | 82.75            | 166723          |"
      ]
     },
     "metadata": {},
     "output_type": "display_data"
    },
    {
     "data": {
      "text/html": [
       "<pre>| 3m 34s                              | 83               | 166921          |</pre>"
      ],
      "text/plain": [
       "| 3m 34s                              | 83               | 166921          |"
      ]
     },
     "metadata": {},
     "output_type": "display_data"
    },
    {
     "data": {
      "text/html": [
       "<pre>| 3m 35s                              | 83               | 167169          |</pre>"
      ],
      "text/plain": [
       "| 3m 35s                              | 83               | 167169          |"
      ]
     },
     "metadata": {},
     "output_type": "display_data"
    },
    {
     "data": {
      "text/html": [
       "<pre>| 3m 36s                              | 83.25            | 167287          |</pre>"
      ],
      "text/plain": [
       "| 3m 36s                              | 83.25            | 167287          |"
      ]
     },
     "metadata": {},
     "output_type": "display_data"
    },
    {
     "data": {
      "text/html": [
       "<pre>| 3m 37s                              | 83.5             | 167824          |</pre>"
      ],
      "text/plain": [
       "| 3m 37s                              | 83.5             | 167824          |"
      ]
     },
     "metadata": {},
     "output_type": "display_data"
    },
    {
     "data": {
      "text/html": [
       "<pre>| 3m 38s                              | 83.5             | 167946          |</pre>"
      ],
      "text/plain": [
       "| 3m 38s                              | 83.5             | 167946          |"
      ]
     },
     "metadata": {},
     "output_type": "display_data"
    },
    {
     "data": {
      "text/html": [
       "<pre>| 3m 39s                              | 83.5             | 168081          |</pre>"
      ],
      "text/plain": [
       "| 3m 39s                              | 83.5             | 168081          |"
      ]
     },
     "metadata": {},
     "output_type": "display_data"
    },
    {
     "data": {
      "text/html": [
       "<pre>| 3m 40s                              | 83.5             | 168183          |</pre>"
      ],
      "text/plain": [
       "| 3m 40s                              | 83.5             | 168183          |"
      ]
     },
     "metadata": {},
     "output_type": "display_data"
    },
    {
     "data": {
      "text/html": [
       "<pre>| 3m 41s                              | 83.75            | 168312          |</pre>"
      ],
      "text/plain": [
       "| 3m 41s                              | 83.75            | 168312          |"
      ]
     },
     "metadata": {},
     "output_type": "display_data"
    },
    {
     "data": {
      "text/html": [
       "<pre>| 3m 42s                              | 83.75            | 168487          |</pre>"
      ],
      "text/plain": [
       "| 3m 42s                              | 83.75            | 168487          |"
      ]
     },
     "metadata": {},
     "output_type": "display_data"
    },
    {
     "data": {
      "text/html": [
       "<pre>| 3m 43s                              | 83.75            | 168741          |</pre>"
      ],
      "text/plain": [
       "| 3m 43s                              | 83.75            | 168741          |"
      ]
     },
     "metadata": {},
     "output_type": "display_data"
    },
    {
     "data": {
      "text/html": [
       "<pre>| 3m 44s                              | 84               | 168982          |</pre>"
      ],
      "text/plain": [
       "| 3m 44s                              | 84               | 168982          |"
      ]
     },
     "metadata": {},
     "output_type": "display_data"
    },
    {
     "data": {
      "text/html": [
       "<pre>| 3m 45s                              | 84               | 169116          |</pre>"
      ],
      "text/plain": [
       "| 3m 45s                              | 84               | 169116          |"
      ]
     },
     "metadata": {},
     "output_type": "display_data"
    },
    {
     "data": {
      "text/html": [
       "<pre>| 3m 46s                              | 84.25            | 169711          |</pre>"
      ],
      "text/plain": [
       "| 3m 46s                              | 84.25            | 169711          |"
      ]
     },
     "metadata": {},
     "output_type": "display_data"
    },
    {
     "data": {
      "text/html": [
       "<pre>| 3m 47s                              | 84.5             | 169824          |</pre>"
      ],
      "text/plain": [
       "| 3m 47s                              | 84.5             | 169824          |"
      ]
     },
     "metadata": {},
     "output_type": "display_data"
    },
    {
     "data": {
      "text/html": [
       "<pre>| 3m 48s                              | 84.5             | 169906          |</pre>"
      ],
      "text/plain": [
       "| 3m 48s                              | 84.5             | 169906          |"
      ]
     },
     "metadata": {},
     "output_type": "display_data"
    },
    {
     "data": {
      "text/html": [
       "<pre>| 3m 49s                              | 84.5             | 170029          |</pre>"
      ],
      "text/plain": [
       "| 3m 49s                              | 84.5             | 170029          |"
      ]
     },
     "metadata": {},
     "output_type": "display_data"
    },
    {
     "data": {
      "text/html": [
       "<pre>| 3m 50s                              | 84.5             | 170140          |</pre>"
      ],
      "text/plain": [
       "| 3m 50s                              | 84.5             | 170140          |"
      ]
     },
     "metadata": {},
     "output_type": "display_data"
    },
    {
     "data": {
      "text/html": [
       "<pre>| 3m 51s                              | 84.5             | 170269          |</pre>"
      ],
      "text/plain": [
       "| 3m 51s                              | 84.5             | 170269          |"
      ]
     },
     "metadata": {},
     "output_type": "display_data"
    },
    {
     "data": {
      "text/html": [
       "<pre>| 3m 52s                              | 84.75            | 170474          |</pre>"
      ],
      "text/plain": [
       "| 3m 52s                              | 84.75            | 170474          |"
      ]
     },
     "metadata": {},
     "output_type": "display_data"
    },
    {
     "data": {
      "text/html": [
       "<pre>| 3m 53s                              | 85               | 171147          |</pre>"
      ],
      "text/plain": [
       "| 3m 53s                              | 85               | 171147          |"
      ]
     },
     "metadata": {},
     "output_type": "display_data"
    },
    {
     "data": {
      "text/html": [
       "<pre>| 3m 54s                              | 85.5             | 171873          |</pre>"
      ],
      "text/plain": [
       "| 3m 54s                              | 85.5             | 171873          |"
      ]
     },
     "metadata": {},
     "output_type": "display_data"
    },
    {
     "data": {
      "text/html": [
       "<pre>| 3m 55s                              | 85.5             | 171985          |</pre>"
      ],
      "text/plain": [
       "| 3m 55s                              | 85.5             | 171985          |"
      ]
     },
     "metadata": {},
     "output_type": "display_data"
    },
    {
     "data": {
      "text/html": [
       "<pre>| 3m 56s                              | 85.5             | 172100          |</pre>"
      ],
      "text/plain": [
       "| 3m 56s                              | 85.5             | 172100          |"
      ]
     },
     "metadata": {},
     "output_type": "display_data"
    },
    {
     "data": {
      "text/html": [
       "<pre>| 3m 57s                              | 85.5             | 172245          |</pre>"
      ],
      "text/plain": [
       "| 3m 57s                              | 85.5             | 172245          |"
      ]
     },
     "metadata": {},
     "output_type": "display_data"
    },
    {
     "data": {
      "text/html": [
       "<pre>| 3m 58s                              | 85.75            | 172374          |</pre>"
      ],
      "text/plain": [
       "| 3m 58s                              | 85.75            | 172374          |"
      ]
     },
     "metadata": {},
     "output_type": "display_data"
    },
    {
     "data": {
      "text/html": [
       "<pre>| 3m 59s                              | 85.75            | 172507          |</pre>"
      ],
      "text/plain": [
       "| 3m 59s                              | 85.75            | 172507          |"
      ]
     },
     "metadata": {},
     "output_type": "display_data"
    },
    {
     "data": {
      "text/html": [
       "<pre>| 4m 0s                               | 85.75            | 172657          |</pre>"
      ],
      "text/plain": [
       "| 4m 0s                               | 85.75            | 172657          |"
      ]
     },
     "metadata": {},
     "output_type": "display_data"
    },
    {
     "data": {
      "text/html": [
       "<pre>| 4m 1s                               | 86               | 172946          |</pre>"
      ],
      "text/plain": [
       "| 4m 1s                               | 86               | 172946          |"
      ]
     },
     "metadata": {},
     "output_type": "display_data"
    },
    {
     "data": {
      "text/html": [
       "<pre>| 4m 2s                               | 86               | 173105          |</pre>"
      ],
      "text/plain": [
       "| 4m 2s                               | 86               | 173105          |"
      ]
     },
     "metadata": {},
     "output_type": "display_data"
    },
    {
     "data": {
      "text/html": [
       "<pre>| 4m 3s                               | 86.25            | 173682          |</pre>"
      ],
      "text/plain": [
       "| 4m 3s                               | 86.25            | 173682          |"
      ]
     },
     "metadata": {},
     "output_type": "display_data"
    },
    {
     "data": {
      "text/html": [
       "<pre>| 4m 4s                               | 86.5             | 173819          |</pre>"
      ],
      "text/plain": [
       "| 4m 4s                               | 86.5             | 173819          |"
      ]
     },
     "metadata": {},
     "output_type": "display_data"
    },
    {
     "data": {
      "text/html": [
       "<pre>| 4m 5s                               | 86.5             | 173986          |</pre>"
      ],
      "text/plain": [
       "| 4m 5s                               | 86.5             | 173986          |"
      ]
     },
     "metadata": {},
     "output_type": "display_data"
    },
    {
     "data": {
      "text/html": [
       "<pre>| 4m 6s                               | 86.5             | 174214          |</pre>"
      ],
      "text/plain": [
       "| 4m 6s                               | 86.5             | 174214          |"
      ]
     },
     "metadata": {},
     "output_type": "display_data"
    },
    {
     "data": {
      "text/html": [
       "<pre>| 4m 7s                               | 86.75            | 174483          |</pre>"
      ],
      "text/plain": [
       "| 4m 7s                               | 86.75            | 174483          |"
      ]
     },
     "metadata": {},
     "output_type": "display_data"
    },
    {
     "data": {
      "text/html": [
       "<pre>| 4m 8s                               | 87               | 174891          |</pre>"
      ],
      "text/plain": [
       "| 4m 8s                               | 87               | 174891          |"
      ]
     },
     "metadata": {},
     "output_type": "display_data"
    },
    {
     "data": {
      "text/html": [
       "<pre>| 4m 9s                               | 87               | 175106          |</pre>"
      ],
      "text/plain": [
       "| 4m 9s                               | 87               | 175106          |"
      ]
     },
     "metadata": {},
     "output_type": "display_data"
    },
    {
     "data": {
      "text/html": [
       "<pre>| 4m 10s                              | 87.75            | 176369          |</pre>"
      ],
      "text/plain": [
       "| 4m 10s                              | 87.75            | 176369          |"
      ]
     },
     "metadata": {},
     "output_type": "display_data"
    },
    {
     "data": {
      "text/html": [
       "<pre>| 4m 11s                              | 87.75            | 176539          |</pre>"
      ],
      "text/plain": [
       "| 4m 11s                              | 87.75            | 176539          |"
      ]
     },
     "metadata": {},
     "output_type": "display_data"
    },
    {
     "data": {
      "text/html": [
       "<pre>| 4m 12s                              | 87.75            | 176752          |</pre>"
      ],
      "text/plain": [
       "| 4m 12s                              | 87.75            | 176752          |"
      ]
     },
     "metadata": {},
     "output_type": "display_data"
    },
    {
     "data": {
      "text/html": [
       "<pre>| 4m 13s                              | 88               | 176964          |</pre>"
      ],
      "text/plain": [
       "| 4m 13s                              | 88               | 176964          |"
      ]
     },
     "metadata": {},
     "output_type": "display_data"
    },
    {
     "data": {
      "text/html": [
       "<pre>| 4m 14s                              | 88               | 177168          |</pre>"
      ],
      "text/plain": [
       "| 4m 14s                              | 88               | 177168          |"
      ]
     },
     "metadata": {},
     "output_type": "display_data"
    },
    {
     "data": {
      "text/html": [
       "<pre>| 4m 15s                              | 88.25            | 177378          |</pre>"
      ],
      "text/plain": [
       "| 4m 15s                              | 88.25            | 177378          |"
      ]
     },
     "metadata": {},
     "output_type": "display_data"
    },
    {
     "data": {
      "text/html": [
       "<pre>| 4m 16s                              | 88.25            | 177659          |</pre>"
      ],
      "text/plain": [
       "| 4m 16s                              | 88.25            | 177659          |"
      ]
     },
     "metadata": {},
     "output_type": "display_data"
    },
    {
     "data": {
      "text/html": [
       "<pre>| 4m 17s                              | 88.25            | 177785          |</pre>"
      ],
      "text/plain": [
       "| 4m 17s                              | 88.25            | 177785          |"
      ]
     },
     "metadata": {},
     "output_type": "display_data"
    },
    {
     "data": {
      "text/html": [
       "<pre>| 4m 18s                              | 88.5             | 177979          |</pre>"
      ],
      "text/plain": [
       "| 4m 18s                              | 88.5             | 177979          |"
      ]
     },
     "metadata": {},
     "output_type": "display_data"
    },
    {
     "data": {
      "text/html": [
       "<pre>| 4m 19s                              | 88.5             | 178207          |</pre>"
      ],
      "text/plain": [
       "| 4m 19s                              | 88.5             | 178207          |"
      ]
     },
     "metadata": {},
     "output_type": "display_data"
    },
    {
     "data": {
      "text/html": [
       "<pre>| 4m 20s                              | 88.75            | 178365          |</pre>"
      ],
      "text/plain": [
       "| 4m 20s                              | 88.75            | 178365          |"
      ]
     },
     "metadata": {},
     "output_type": "display_data"
    },
    {
     "data": {
      "text/html": [
       "<pre>| 4m 21s                              | 88.75            | 178553          |</pre>"
      ],
      "text/plain": [
       "| 4m 21s                              | 88.75            | 178553          |"
      ]
     },
     "metadata": {},
     "output_type": "display_data"
    },
    {
     "data": {
      "text/html": [
       "<pre>| 4m 22s                              | 88.75            | 178756          |</pre>"
      ],
      "text/plain": [
       "| 4m 22s                              | 88.75            | 178756          |"
      ]
     },
     "metadata": {},
     "output_type": "display_data"
    },
    {
     "data": {
      "text/html": [
       "<pre>| 4m 23s                              | 89               | 178967          |</pre>"
      ],
      "text/plain": [
       "| 4m 23s                              | 89               | 178967          |"
      ]
     },
     "metadata": {},
     "output_type": "display_data"
    },
    {
     "data": {
      "text/html": [
       "<pre>| 4m 24s                              | 89.25            | 179359          |</pre>"
      ],
      "text/plain": [
       "| 4m 24s                              | 89.25            | 179359          |"
      ]
     },
     "metadata": {},
     "output_type": "display_data"
    },
    {
     "data": {
      "text/html": [
       "<pre>| 4m 25s                              | 89.25            | 179568          |</pre>"
      ],
      "text/plain": [
       "| 4m 25s                              | 89.25            | 179568          |"
      ]
     },
     "metadata": {},
     "output_type": "display_data"
    },
    {
     "data": {
      "text/html": [
       "<pre>| 4m 26s                              | 89.5             | 179939          |</pre>"
      ],
      "text/plain": [
       "| 4m 26s                              | 89.5             | 179939          |"
      ]
     },
     "metadata": {},
     "output_type": "display_data"
    },
    {
     "data": {
      "text/html": [
       "<pre>| 4m 27s                              | 89.5             | 180110          |</pre>"
      ],
      "text/plain": [
       "| 4m 27s                              | 89.5             | 180110          |"
      ]
     },
     "metadata": {},
     "output_type": "display_data"
    },
    {
     "data": {
      "text/html": [
       "<pre>| 4m 28s                              | 90               | 181059          |</pre>"
      ],
      "text/plain": [
       "| 4m 28s                              | 90               | 181059          |"
      ]
     },
     "metadata": {},
     "output_type": "display_data"
    },
    {
     "data": {
      "text/html": [
       "<pre>| 4m 29s                              | 90               | 181285          |</pre>"
      ],
      "text/plain": [
       "| 4m 29s                              | 90               | 181285          |"
      ]
     },
     "metadata": {},
     "output_type": "display_data"
    },
    {
     "data": {
      "text/html": [
       "<pre>| 4m 30s                              | 90.25            | 181488          |</pre>"
      ],
      "text/plain": [
       "| 4m 30s                              | 90.25            | 181488          |"
      ]
     },
     "metadata": {},
     "output_type": "display_data"
    },
    {
     "data": {
      "text/html": [
       "<pre>| 4m 31s                              | 90.25            | 181711          |</pre>"
      ],
      "text/plain": [
       "| 4m 31s                              | 90.25            | 181711          |"
      ]
     },
     "metadata": {},
     "output_type": "display_data"
    },
    {
     "data": {
      "text/html": [
       "<pre>| 4m 32s                              | 90.5             | 181959          |</pre>"
      ],
      "text/plain": [
       "| 4m 32s                              | 90.5             | 181959          |"
      ]
     },
     "metadata": {},
     "output_type": "display_data"
    },
    {
     "data": {
      "text/html": [
       "<pre>| 4m 33s                              | 90.5             | 182204          |</pre>"
      ],
      "text/plain": [
       "| 4m 33s                              | 90.5             | 182204          |"
      ]
     },
     "metadata": {},
     "output_type": "display_data"
    },
    {
     "data": {
      "text/html": [
       "<pre>| 4m 34s                              | 90.75            | 182457          |</pre>"
      ],
      "text/plain": [
       "| 4m 34s                              | 90.75            | 182457          |"
      ]
     },
     "metadata": {},
     "output_type": "display_data"
    },
    {
     "data": {
      "text/html": [
       "<pre>| 4m 35s                              | 90.75            | 182720          |</pre>"
      ],
      "text/plain": [
       "| 4m 35s                              | 90.75            | 182720          |"
      ]
     },
     "metadata": {},
     "output_type": "display_data"
    },
    {
     "data": {
      "text/html": [
       "<pre>| 4m 36s                              | 91               | 182972          |</pre>"
      ],
      "text/plain": [
       "| 4m 36s                              | 91               | 182972          |"
      ]
     },
     "metadata": {},
     "output_type": "display_data"
    },
    {
     "data": {
      "text/html": [
       "<pre>| 4m 37s                              | 91               | 183283          |</pre>"
      ],
      "text/plain": [
       "| 4m 37s                              | 91               | 183283          |"
      ]
     },
     "metadata": {},
     "output_type": "display_data"
    },
    {
     "data": {
      "text/html": [
       "<pre>| 4m 38s                              | 91.25            | 183763          |</pre>"
      ],
      "text/plain": [
       "| 4m 38s                              | 91.25            | 183763          |"
      ]
     },
     "metadata": {},
     "output_type": "display_data"
    },
    {
     "data": {
      "text/html": [
       "<pre>| 4m 39s                              | 91.5             | 184092          |</pre>"
      ],
      "text/plain": [
       "| 4m 39s                              | 91.5             | 184092          |"
      ]
     },
     "metadata": {},
     "output_type": "display_data"
    },
    {
     "data": {
      "text/html": [
       "<pre>| 4m 40s                              | 91.75            | 184721          |</pre>"
      ],
      "text/plain": [
       "| 4m 40s                              | 91.75            | 184721          |"
      ]
     },
     "metadata": {},
     "output_type": "display_data"
    },
    {
     "data": {
      "text/html": [
       "<pre>| 4m 41s                              | 92               | 185092          |</pre>"
      ],
      "text/plain": [
       "| 4m 41s                              | 92               | 185092          |"
      ]
     },
     "metadata": {},
     "output_type": "display_data"
    },
    {
     "data": {
      "text/html": [
       "<pre>| 4m 42s                              | 92.25            | 185561          |</pre>"
      ],
      "text/plain": [
       "| 4m 42s                              | 92.25            | 185561          |"
      ]
     },
     "metadata": {},
     "output_type": "display_data"
    },
    {
     "data": {
      "text/html": [
       "<pre>| 4m 43s                              | 92.5             | 186046          |</pre>"
      ],
      "text/plain": [
       "| 4m 43s                              | 92.5             | 186046          |"
      ]
     },
     "metadata": {},
     "output_type": "display_data"
    },
    {
     "data": {
      "text/html": [
       "<pre>| 4m 46s                              | 92.5             | 186357          |</pre>"
      ],
      "text/plain": [
       "| 4m 46s                              | 92.5             | 186357          |"
      ]
     },
     "metadata": {},
     "output_type": "display_data"
    },
    {
     "data": {
      "text/html": [
       "<pre>| 5m 14s                              | 94.75            | 190830          |</pre>"
      ],
      "text/plain": [
       "| 5m 14s                              | 94.75            | 190830          |"
      ]
     },
     "metadata": {},
     "output_type": "display_data"
    },
    {
     "data": {
      "text/html": [
       "<pre>| 5m 25s                              | 95.75            | 192729          |</pre>"
      ],
      "text/plain": [
       "| 5m 25s                              | 95.75            | 192729          |"
      ]
     },
     "metadata": {},
     "output_type": "display_data"
    },
    {
     "data": {
      "text/html": [
       "<pre>| 5m 29s                              | 96.25            | 193422          |</pre>"
      ],
      "text/plain": [
       "| 5m 29s                              | 96.25            | 193422          |"
      ]
     },
     "metadata": {},
     "output_type": "display_data"
    },
    {
     "data": {
      "text/html": [
       "<pre>| 5m 30s                              | 96.25            | 193586          |</pre>"
      ],
      "text/plain": [
       "| 5m 30s                              | 96.25            | 193586          |"
      ]
     },
     "metadata": {},
     "output_type": "display_data"
    },
    {
     "data": {
      "text/html": [
       "<pre>| 5m 31s                              | 96.25            | 193845          |</pre>"
      ],
      "text/plain": [
       "| 5m 31s                              | 96.25            | 193845          |"
      ]
     },
     "metadata": {},
     "output_type": "display_data"
    },
    {
     "data": {
      "text/html": [
       "<pre>| 5m 33s                              | 96.5             | 194042          |</pre>"
      ],
      "text/plain": [
       "| 5m 33s                              | 96.5             | 194042          |"
      ]
     },
     "metadata": {},
     "output_type": "display_data"
    },
    {
     "data": {
      "text/html": [
       "<pre>| 5m 35s                              | 96.75            | 194444          |</pre>"
      ],
      "text/plain": [
       "| 5m 35s                              | 96.75            | 194444          |"
      ]
     },
     "metadata": {},
     "output_type": "display_data"
    },
    {
     "data": {
      "text/html": [
       "<pre>| 5m 36s                              | 96.75            | 194679          |</pre>"
      ],
      "text/plain": [
       "| 5m 36s                              | 96.75            | 194679          |"
      ]
     },
     "metadata": {},
     "output_type": "display_data"
    },
    {
     "data": {
      "text/html": [
       "<pre>| 5m 38s                              | 97               | 194973          |</pre>"
      ],
      "text/plain": [
       "| 5m 38s                              | 97               | 194973          |"
      ]
     },
     "metadata": {},
     "output_type": "display_data"
    },
    {
     "data": {
      "text/html": [
       "<pre>| 5m 38s                              | 97               | 195056          |</pre>"
      ],
      "text/plain": [
       "| 5m 38s                              | 97               | 195056          |"
      ]
     },
     "metadata": {},
     "output_type": "display_data"
    },
    {
     "data": {
      "text/html": [
       "<pre>| 5m 39s                              | 97               | 195168          |</pre>"
      ],
      "text/plain": [
       "| 5m 39s                              | 97               | 195168          |"
      ]
     },
     "metadata": {},
     "output_type": "display_data"
    },
    {
     "data": {
      "text/html": [
       "<pre>| 5m 45s                              | 97.5             | 196275          |</pre>"
      ],
      "text/plain": [
       "| 5m 45s                              | 97.5             | 196275          |"
      ]
     },
     "metadata": {},
     "output_type": "display_data"
    },
    {
     "data": {
      "text/html": [
       "<pre>| 6m 30s                              | 100              | 200936          |</pre>"
      ],
      "text/plain": [
       "| 6m 30s                              | 100              | 200936          |"
      ]
     },
     "metadata": {},
     "output_type": "display_data"
    },
    {
     "data": {
      "text/html": [
       "<pre>+-------------------------------------+------------------+-----------------+</pre>"
      ],
      "text/plain": [
       "+-------------------------------------+------------------+-----------------+"
      ]
     },
     "metadata": {},
     "output_type": "display_data"
    },
    {
     "data": {
      "text/html": [
       "<pre>Finalizing lookup tables.</pre>"
      ],
      "text/plain": [
       "Finalizing lookup tables."
      ]
     },
     "metadata": {},
     "output_type": "display_data"
    },
    {
     "data": {
      "text/html": [
       "<pre>Generating candidate set for working with new users.</pre>"
      ],
      "text/plain": [
       "Generating candidate set for working with new users."
      ]
     },
     "metadata": {},
     "output_type": "display_data"
    },
    {
     "data": {
      "text/html": [
       "<pre>Finished training in 391.501s</pre>"
      ],
      "text/plain": [
       "Finished training in 391.501s"
      ]
     },
     "metadata": {},
     "output_type": "display_data"
    }
   ],
   "source": [
    "item_model_jaccard = gl.recommender.item_similarity_recommender.create(training_data, 'user_id', 'item_id',\n",
    "                                                       target = 'rating', similarity_type = 'jaccard')"
   ]
  },
  {
   "cell_type": "code",
   "execution_count": 27,
   "metadata": {},
   "outputs": [
    {
     "data": {
      "text/html": [
       "<div style=\"max-height:1000px;max-width:1500px;overflow:auto;\"><table frame=\"box\" rules=\"cols\">\n",
       "    <tr>\n",
       "        <th style=\"padding-left: 1em; padding-right: 1em; text-align: center\">user_id</th>\n",
       "        <th style=\"padding-left: 1em; padding-right: 1em; text-align: center\">item_id</th>\n",
       "        <th style=\"padding-left: 1em; padding-right: 1em; text-align: center\">score</th>\n",
       "        <th style=\"padding-left: 1em; padding-right: 1em; text-align: center\">rank</th>\n",
       "    </tr>\n",
       "    <tr>\n",
       "        <td style=\"padding-left: 1em; padding-right: 1em; text-align: center; vertical-align: top\">A13AZVPEWEK1YC</td>\n",
       "        <td style=\"padding-left: 1em; padding-right: 1em; text-align: center; vertical-align: top\">B008JFUO36</td>\n",
       "        <td style=\"padding-left: 1em; padding-right: 1em; text-align: center; vertical-align: top\">0.00728140592575</td>\n",
       "        <td style=\"padding-left: 1em; padding-right: 1em; text-align: center; vertical-align: top\">1</td>\n",
       "    </tr>\n",
       "    <tr>\n",
       "        <td style=\"padding-left: 1em; padding-right: 1em; text-align: center; vertical-align: top\">A13AZVPEWEK1YC</td>\n",
       "        <td style=\"padding-left: 1em; padding-right: 1em; text-align: center; vertical-align: top\">B0059XTU1S</td>\n",
       "        <td style=\"padding-left: 1em; padding-right: 1em; text-align: center; vertical-align: top\">0.00692788362503</td>\n",
       "        <td style=\"padding-left: 1em; padding-right: 1em; text-align: center; vertical-align: top\">2</td>\n",
       "    </tr>\n",
       "    <tr>\n",
       "        <td style=\"padding-left: 1em; padding-right: 1em; text-align: center; vertical-align: top\">A13AZVPEWEK1YC</td>\n",
       "        <td style=\"padding-left: 1em; padding-right: 1em; text-align: center; vertical-align: top\">B008JFUO72</td>\n",
       "        <td style=\"padding-left: 1em; padding-right: 1em; text-align: center; vertical-align: top\">0.00692083239555</td>\n",
       "        <td style=\"padding-left: 1em; padding-right: 1em; text-align: center; vertical-align: top\">3</td>\n",
       "    </tr>\n",
       "    <tr>\n",
       "        <td style=\"padding-left: 1em; padding-right: 1em; text-align: center; vertical-align: top\">A13AZVPEWEK1YC</td>\n",
       "        <td style=\"padding-left: 1em; padding-right: 1em; text-align: center; vertical-align: top\">B009934S5M</td>\n",
       "        <td style=\"padding-left: 1em; padding-right: 1em; text-align: center; vertical-align: top\">0.0066908967495</td>\n",
       "        <td style=\"padding-left: 1em; padding-right: 1em; text-align: center; vertical-align: top\">4</td>\n",
       "    </tr>\n",
       "    <tr>\n",
       "        <td style=\"padding-left: 1em; padding-right: 1em; text-align: center; vertical-align: top\">A13AZVPEWEK1YC</td>\n",
       "        <td style=\"padding-left: 1em; padding-right: 1em; text-align: center; vertical-align: top\">B005LAIIHG</td>\n",
       "        <td style=\"padding-left: 1em; padding-right: 1em; text-align: center; vertical-align: top\">0.00668980121613</td>\n",
       "        <td style=\"padding-left: 1em; padding-right: 1em; text-align: center; vertical-align: top\">5</td>\n",
       "    </tr>\n",
       "    <tr>\n",
       "        <td style=\"padding-left: 1em; padding-right: 1em; text-align: center; vertical-align: top\">A1EQZH1RGLW6T3</td>\n",
       "        <td style=\"padding-left: 1em; padding-right: 1em; text-align: center; vertical-align: top\">B008JFUO36</td>\n",
       "        <td style=\"padding-left: 1em; padding-right: 1em; text-align: center; vertical-align: top\">0.00728140592575</td>\n",
       "        <td style=\"padding-left: 1em; padding-right: 1em; text-align: center; vertical-align: top\">1</td>\n",
       "    </tr>\n",
       "    <tr>\n",
       "        <td style=\"padding-left: 1em; padding-right: 1em; text-align: center; vertical-align: top\">A1EQZH1RGLW6T3</td>\n",
       "        <td style=\"padding-left: 1em; padding-right: 1em; text-align: center; vertical-align: top\">B0059XTU1S</td>\n",
       "        <td style=\"padding-left: 1em; padding-right: 1em; text-align: center; vertical-align: top\">0.00692788362503</td>\n",
       "        <td style=\"padding-left: 1em; padding-right: 1em; text-align: center; vertical-align: top\">2</td>\n",
       "    </tr>\n",
       "    <tr>\n",
       "        <td style=\"padding-left: 1em; padding-right: 1em; text-align: center; vertical-align: top\">A1EQZH1RGLW6T3</td>\n",
       "        <td style=\"padding-left: 1em; padding-right: 1em; text-align: center; vertical-align: top\">B008JFUO72</td>\n",
       "        <td style=\"padding-left: 1em; padding-right: 1em; text-align: center; vertical-align: top\">0.00692083239555</td>\n",
       "        <td style=\"padding-left: 1em; padding-right: 1em; text-align: center; vertical-align: top\">3</td>\n",
       "    </tr>\n",
       "    <tr>\n",
       "        <td style=\"padding-left: 1em; padding-right: 1em; text-align: center; vertical-align: top\">A1EQZH1RGLW6T3</td>\n",
       "        <td style=\"padding-left: 1em; padding-right: 1em; text-align: center; vertical-align: top\">B009934S5M</td>\n",
       "        <td style=\"padding-left: 1em; padding-right: 1em; text-align: center; vertical-align: top\">0.0066908967495</td>\n",
       "        <td style=\"padding-left: 1em; padding-right: 1em; text-align: center; vertical-align: top\">4</td>\n",
       "    </tr>\n",
       "    <tr>\n",
       "        <td style=\"padding-left: 1em; padding-right: 1em; text-align: center; vertical-align: top\">A1EQZH1RGLW6T3</td>\n",
       "        <td style=\"padding-left: 1em; padding-right: 1em; text-align: center; vertical-align: top\">B005LAIIHG</td>\n",
       "        <td style=\"padding-left: 1em; padding-right: 1em; text-align: center; vertical-align: top\">0.00668980121613</td>\n",
       "        <td style=\"padding-left: 1em; padding-right: 1em; text-align: center; vertical-align: top\">5</td>\n",
       "    </tr>\n",
       "</table>\n",
       "[2160 rows x 4 columns]<br/>Note: Only the head of the SFrame is printed.<br/>You can use print_rows(num_rows=m, num_columns=n) to print more rows and columns.\n",
       "</div>"
      ],
      "text/plain": [
       "Columns:\n",
       "\tuser_id\tstr\n",
       "\titem_id\tstr\n",
       "\tscore\tfloat\n",
       "\trank\tint\n",
       "\n",
       "Rows: 2160\n",
       "\n",
       "Data:\n",
       "+----------------+------------+------------------+------+\n",
       "|    user_id     |  item_id   |      score       | rank |\n",
       "+----------------+------------+------------------+------+\n",
       "| A13AZVPEWEK1YC | B008JFUO36 | 0.00728140592575 |  1   |\n",
       "| A13AZVPEWEK1YC | B0059XTU1S | 0.00692788362503 |  2   |\n",
       "| A13AZVPEWEK1YC | B008JFUO72 | 0.00692083239555 |  3   |\n",
       "| A13AZVPEWEK1YC | B009934S5M | 0.0066908967495  |  4   |\n",
       "| A13AZVPEWEK1YC | B005LAIIHG | 0.00668980121613 |  5   |\n",
       "| A1EQZH1RGLW6T3 | B008JFUO36 | 0.00728140592575 |  1   |\n",
       "| A1EQZH1RGLW6T3 | B0059XTU1S | 0.00692788362503 |  2   |\n",
       "| A1EQZH1RGLW6T3 | B008JFUO72 | 0.00692083239555 |  3   |\n",
       "| A1EQZH1RGLW6T3 | B009934S5M | 0.0066908967495  |  4   |\n",
       "| A1EQZH1RGLW6T3 | B005LAIIHG | 0.00668980121613 |  5   |\n",
       "+----------------+------------+------------------+------+\n",
       "[2160 rows x 4 columns]\n",
       "Note: Only the head of the SFrame is printed.\n",
       "You can use print_rows(num_rows=m, num_columns=n) to print more rows and columns."
      ]
     },
     "execution_count": 27,
     "metadata": {},
     "output_type": "execute_result"
    }
   ],
   "source": [
    "item_model_jaccard.recommend(users = validation_data['user_id'], k=5, random_seed=123)"
   ]
  },
  {
   "cell_type": "markdown",
   "metadata": {},
   "source": [
    "#### using pearson similarity"
   ]
  },
  {
   "cell_type": "code",
   "execution_count": 28,
   "metadata": {},
   "outputs": [
    {
     "data": {
      "text/html": [
       "<pre>Recsys training: model = item_similarity</pre>"
      ],
      "text/plain": [
       "Recsys training: model = item_similarity"
      ]
     },
     "metadata": {},
     "output_type": "display_data"
    },
    {
     "data": {
      "text/html": [
       "<pre>Preparing data set.</pre>"
      ],
      "text/plain": [
       "Preparing data set."
      ]
     },
     "metadata": {},
     "output_type": "display_data"
    },
    {
     "data": {
      "text/html": [
       "<pre>    Data has 4606615 observations with 2088467 users and 200936 items.</pre>"
      ],
      "text/plain": [
       "    Data has 4606615 observations with 2088467 users and 200936 items."
      ]
     },
     "metadata": {},
     "output_type": "display_data"
    },
    {
     "data": {
      "text/html": [
       "<pre>    Data prepared in: 12.011s</pre>"
      ],
      "text/plain": [
       "    Data prepared in: 12.011s"
      ]
     },
     "metadata": {},
     "output_type": "display_data"
    },
    {
     "data": {
      "text/html": [
       "<pre>Training model from provided data.</pre>"
      ],
      "text/plain": [
       "Training model from provided data."
      ]
     },
     "metadata": {},
     "output_type": "display_data"
    },
    {
     "data": {
      "text/html": [
       "<pre>Gathering per-item and per-user statistics.</pre>"
      ],
      "text/plain": [
       "Gathering per-item and per-user statistics."
      ]
     },
     "metadata": {},
     "output_type": "display_data"
    },
    {
     "data": {
      "text/html": [
       "<pre>+--------------------------------+------------+</pre>"
      ],
      "text/plain": [
       "+--------------------------------+------------+"
      ]
     },
     "metadata": {},
     "output_type": "display_data"
    },
    {
     "data": {
      "text/html": [
       "<pre>| Elapsed Time (Item Statistics) | % Complete |</pre>"
      ],
      "text/plain": [
       "| Elapsed Time (Item Statistics) | % Complete |"
      ]
     },
     "metadata": {},
     "output_type": "display_data"
    },
    {
     "data": {
      "text/html": [
       "<pre>+--------------------------------+------------+</pre>"
      ],
      "text/plain": [
       "+--------------------------------+------------+"
      ]
     },
     "metadata": {},
     "output_type": "display_data"
    },
    {
     "data": {
      "text/html": [
       "<pre>| 28.662ms                       | 0          |</pre>"
      ],
      "text/plain": [
       "| 28.662ms                       | 0          |"
      ]
     },
     "metadata": {},
     "output_type": "display_data"
    },
    {
     "data": {
      "text/html": [
       "<pre>| 806.688ms                      | 100        |</pre>"
      ],
      "text/plain": [
       "| 806.688ms                      | 100        |"
      ]
     },
     "metadata": {},
     "output_type": "display_data"
    },
    {
     "data": {
      "text/html": [
       "<pre>+--------------------------------+------------+</pre>"
      ],
      "text/plain": [
       "+--------------------------------+------------+"
      ]
     },
     "metadata": {},
     "output_type": "display_data"
    },
    {
     "data": {
      "text/html": [
       "<pre>Setting up lookup tables.</pre>"
      ],
      "text/plain": [
       "Setting up lookup tables."
      ]
     },
     "metadata": {},
     "output_type": "display_data"
    },
    {
     "data": {
      "text/html": [
       "<pre>Processing data in one pass using sparse lookup tables.</pre>"
      ],
      "text/plain": [
       "Processing data in one pass using sparse lookup tables."
      ]
     },
     "metadata": {},
     "output_type": "display_data"
    },
    {
     "data": {
      "text/html": [
       "<pre>+-------------------------------------+------------------+-----------------+</pre>"
      ],
      "text/plain": [
       "+-------------------------------------+------------------+-----------------+"
      ]
     },
     "metadata": {},
     "output_type": "display_data"
    },
    {
     "data": {
      "text/html": [
       "<pre>| Elapsed Time (Constructing Lookups) | Total % Complete | Items Processed |</pre>"
      ],
      "text/plain": [
       "| Elapsed Time (Constructing Lookups) | Total % Complete | Items Processed |"
      ]
     },
     "metadata": {},
     "output_type": "display_data"
    },
    {
     "data": {
      "text/html": [
       "<pre>+-------------------------------------+------------------+-----------------+</pre>"
      ],
      "text/plain": [
       "+-------------------------------------+------------------+-----------------+"
      ]
     },
     "metadata": {},
     "output_type": "display_data"
    },
    {
     "data": {
      "text/html": [
       "<pre>| 2.27s                               | 0                | 0               |</pre>"
      ],
      "text/plain": [
       "| 2.27s                               | 0                | 0               |"
      ]
     },
     "metadata": {},
     "output_type": "display_data"
    },
    {
     "data": {
      "text/html": [
       "<pre>| 3.30s                               | 2.75             | 5981            |</pre>"
      ],
      "text/plain": [
       "| 3.30s                               | 2.75             | 5981            |"
      ]
     },
     "metadata": {},
     "output_type": "display_data"
    },
    {
     "data": {
      "text/html": [
       "<pre>| 4.28s                               | 4                | 8509            |</pre>"
      ],
      "text/plain": [
       "| 4.28s                               | 4                | 8509            |"
      ]
     },
     "metadata": {},
     "output_type": "display_data"
    },
    {
     "data": {
      "text/html": [
       "<pre>| 5.34s                               | 6.5              | 13125           |</pre>"
      ],
      "text/plain": [
       "| 5.34s                               | 6.5              | 13125           |"
      ]
     },
     "metadata": {},
     "output_type": "display_data"
    },
    {
     "data": {
      "text/html": [
       "<pre>| 6.29s                               | 8.25             | 16738           |</pre>"
      ],
      "text/plain": [
       "| 6.29s                               | 8.25             | 16738           |"
      ]
     },
     "metadata": {},
     "output_type": "display_data"
    },
    {
     "data": {
      "text/html": [
       "<pre>| 7.43s                               | 13.75            | 27982           |</pre>"
      ],
      "text/plain": [
       "| 7.43s                               | 13.75            | 27982           |"
      ]
     },
     "metadata": {},
     "output_type": "display_data"
    },
    {
     "data": {
      "text/html": [
       "<pre>| 8.33s                               | 14.25            | 29069           |</pre>"
      ],
      "text/plain": [
       "| 8.33s                               | 14.25            | 29069           |"
      ]
     },
     "metadata": {},
     "output_type": "display_data"
    },
    {
     "data": {
      "text/html": [
       "<pre>| 9.33s                               | 14.75            | 29841           |</pre>"
      ],
      "text/plain": [
       "| 9.33s                               | 14.75            | 29841           |"
      ]
     },
     "metadata": {},
     "output_type": "display_data"
    },
    {
     "data": {
      "text/html": [
       "<pre>| 10.37s                              | 17.75            | 35910           |</pre>"
      ],
      "text/plain": [
       "| 10.37s                              | 17.75            | 35910           |"
      ]
     },
     "metadata": {},
     "output_type": "display_data"
    },
    {
     "data": {
      "text/html": [
       "<pre>| 11.33s                              | 22.75            | 46103           |</pre>"
      ],
      "text/plain": [
       "| 11.33s                              | 22.75            | 46103           |"
      ]
     },
     "metadata": {},
     "output_type": "display_data"
    },
    {
     "data": {
      "text/html": [
       "<pre>| 12.49s                              | 25               | 50373           |</pre>"
      ],
      "text/plain": [
       "| 12.49s                              | 25               | 50373           |"
      ]
     },
     "metadata": {},
     "output_type": "display_data"
    },
    {
     "data": {
      "text/html": [
       "<pre>| 13.55s                              | 25.25            | 50775           |</pre>"
      ],
      "text/plain": [
       "| 13.55s                              | 25.25            | 50775           |"
      ]
     },
     "metadata": {},
     "output_type": "display_data"
    },
    {
     "data": {
      "text/html": [
       "<pre>| 14.40s                              | 26.25            | 52941           |</pre>"
      ],
      "text/plain": [
       "| 14.40s                              | 26.25            | 52941           |"
      ]
     },
     "metadata": {},
     "output_type": "display_data"
    },
    {
     "data": {
      "text/html": [
       "<pre>| 15.37s                              | 26.75            | 53982           |</pre>"
      ],
      "text/plain": [
       "| 15.37s                              | 26.75            | 53982           |"
      ]
     },
     "metadata": {},
     "output_type": "display_data"
    },
    {
     "data": {
      "text/html": [
       "<pre>| 16.53s                              | 27.25            | 54810           |</pre>"
      ],
      "text/plain": [
       "| 16.53s                              | 27.25            | 54810           |"
      ]
     },
     "metadata": {},
     "output_type": "display_data"
    },
    {
     "data": {
      "text/html": [
       "<pre>| 17.36s                              | 27.25            | 55120           |</pre>"
      ],
      "text/plain": [
       "| 17.36s                              | 27.25            | 55120           |"
      ]
     },
     "metadata": {},
     "output_type": "display_data"
    },
    {
     "data": {
      "text/html": [
       "<pre>| 18.90s                              | 28.5             | 57437           |</pre>"
      ],
      "text/plain": [
       "| 18.90s                              | 28.5             | 57437           |"
      ]
     },
     "metadata": {},
     "output_type": "display_data"
    },
    {
     "data": {
      "text/html": [
       "<pre>| 19.36s                              | 28.5             | 57577           |</pre>"
      ],
      "text/plain": [
       "| 19.36s                              | 28.5             | 57577           |"
      ]
     },
     "metadata": {},
     "output_type": "display_data"
    },
    {
     "data": {
      "text/html": [
       "<pre>| 20.43s                              | 29               | 58622           |</pre>"
      ],
      "text/plain": [
       "| 20.43s                              | 29               | 58622           |"
      ]
     },
     "metadata": {},
     "output_type": "display_data"
    },
    {
     "data": {
      "text/html": [
       "<pre>| 21.39s                              | 29.25            | 59166           |</pre>"
      ],
      "text/plain": [
       "| 21.39s                              | 29.25            | 59166           |"
      ]
     },
     "metadata": {},
     "output_type": "display_data"
    },
    {
     "data": {
      "text/html": [
       "<pre>| 22.52s                              | 33.25            | 66929           |</pre>"
      ],
      "text/plain": [
       "| 22.52s                              | 33.25            | 66929           |"
      ]
     },
     "metadata": {},
     "output_type": "display_data"
    },
    {
     "data": {
      "text/html": [
       "<pre>| 23.38s                              | 34.5             | 69519           |</pre>"
      ],
      "text/plain": [
       "| 23.38s                              | 34.5             | 69519           |"
      ]
     },
     "metadata": {},
     "output_type": "display_data"
    },
    {
     "data": {
      "text/html": [
       "<pre>| 24.38s                              | 35.25            | 71222           |</pre>"
      ],
      "text/plain": [
       "| 24.38s                              | 35.25            | 71222           |"
      ]
     },
     "metadata": {},
     "output_type": "display_data"
    },
    {
     "data": {
      "text/html": [
       "<pre>| 25.39s                              | 39               | 78629           |</pre>"
      ],
      "text/plain": [
       "| 25.39s                              | 39               | 78629           |"
      ]
     },
     "metadata": {},
     "output_type": "display_data"
    },
    {
     "data": {
      "text/html": [
       "<pre>| 26.42s                              | 41.75            | 84163           |</pre>"
      ],
      "text/plain": [
       "| 26.42s                              | 41.75            | 84163           |"
      ]
     },
     "metadata": {},
     "output_type": "display_data"
    },
    {
     "data": {
      "text/html": [
       "<pre>| 27.39s                              | 43.75            | 88015           |</pre>"
      ],
      "text/plain": [
       "| 27.39s                              | 43.75            | 88015           |"
      ]
     },
     "metadata": {},
     "output_type": "display_data"
    },
    {
     "data": {
      "text/html": [
       "<pre>| 28.41s                              | 48.25            | 97313           |</pre>"
      ],
      "text/plain": [
       "| 28.41s                              | 48.25            | 97313           |"
      ]
     },
     "metadata": {},
     "output_type": "display_data"
    },
    {
     "data": {
      "text/html": [
       "<pre>| 29.41s                              | 50               | 100863          |</pre>"
      ],
      "text/plain": [
       "| 29.41s                              | 50               | 100863          |"
      ]
     },
     "metadata": {},
     "output_type": "display_data"
    },
    {
     "data": {
      "text/html": [
       "<pre>| 30.42s                              | 54.75            | 110206          |</pre>"
      ],
      "text/plain": [
       "| 30.42s                              | 54.75            | 110206          |"
      ]
     },
     "metadata": {},
     "output_type": "display_data"
    },
    {
     "data": {
      "text/html": [
       "<pre>| 31.43s                              | 55               | 110827          |</pre>"
      ],
      "text/plain": [
       "| 31.43s                              | 55               | 110827          |"
      ]
     },
     "metadata": {},
     "output_type": "display_data"
    },
    {
     "data": {
      "text/html": [
       "<pre>| 32.43s                              | 56.25            | 113176          |</pre>"
      ],
      "text/plain": [
       "| 32.43s                              | 56.25            | 113176          |"
      ]
     },
     "metadata": {},
     "output_type": "display_data"
    },
    {
     "data": {
      "text/html": [
       "<pre>| 33.44s                              | 56.75            | 114375          |</pre>"
      ],
      "text/plain": [
       "| 33.44s                              | 56.75            | 114375          |"
      ]
     },
     "metadata": {},
     "output_type": "display_data"
    },
    {
     "data": {
      "text/html": [
       "<pre>| 34.43s                              | 57               | 114738          |</pre>"
      ],
      "text/plain": [
       "| 34.43s                              | 57               | 114738          |"
      ]
     },
     "metadata": {},
     "output_type": "display_data"
    },
    {
     "data": {
      "text/html": [
       "<pre>| 35.83s                              | 57               | 114778          |</pre>"
      ],
      "text/plain": [
       "| 35.83s                              | 57               | 114778          |"
      ]
     },
     "metadata": {},
     "output_type": "display_data"
    },
    {
     "data": {
      "text/html": [
       "<pre>| 36.61s                              | 57.25            | 115085          |</pre>"
      ],
      "text/plain": [
       "| 36.61s                              | 57.25            | 115085          |"
      ]
     },
     "metadata": {},
     "output_type": "display_data"
    },
    {
     "data": {
      "text/html": [
       "<pre>| 37.53s                              | 57.25            | 115187          |</pre>"
      ],
      "text/plain": [
       "| 37.53s                              | 57.25            | 115187          |"
      ]
     },
     "metadata": {},
     "output_type": "display_data"
    },
    {
     "data": {
      "text/html": [
       "<pre>| 38.46s                              | 57.25            | 115313          |</pre>"
      ],
      "text/plain": [
       "| 38.46s                              | 57.25            | 115313          |"
      ]
     },
     "metadata": {},
     "output_type": "display_data"
    },
    {
     "data": {
      "text/html": [
       "<pre>| 39.47s                              | 57.5             | 115573          |</pre>"
      ],
      "text/plain": [
       "| 39.47s                              | 57.5             | 115573          |"
      ]
     },
     "metadata": {},
     "output_type": "display_data"
    },
    {
     "data": {
      "text/html": [
       "<pre>| 40.46s                              | 57.5             | 115971          |</pre>"
      ],
      "text/plain": [
       "| 40.46s                              | 57.5             | 115971          |"
      ]
     },
     "metadata": {},
     "output_type": "display_data"
    },
    {
     "data": {
      "text/html": [
       "<pre>| 41.70s                              | 57.75            | 116407          |</pre>"
      ],
      "text/plain": [
       "| 41.70s                              | 57.75            | 116407          |"
      ]
     },
     "metadata": {},
     "output_type": "display_data"
    },
    {
     "data": {
      "text/html": [
       "<pre>| 42.53s                              | 58               | 116602          |</pre>"
      ],
      "text/plain": [
       "| 42.53s                              | 58               | 116602          |"
      ]
     },
     "metadata": {},
     "output_type": "display_data"
    },
    {
     "data": {
      "text/html": [
       "<pre>| 43.47s                              | 58               | 116906          |</pre>"
      ],
      "text/plain": [
       "| 43.47s                              | 58               | 116906          |"
      ]
     },
     "metadata": {},
     "output_type": "display_data"
    },
    {
     "data": {
      "text/html": [
       "<pre>| 44.49s                              | 58.25            | 117373          |</pre>"
      ],
      "text/plain": [
       "| 44.49s                              | 58.25            | 117373          |"
      ]
     },
     "metadata": {},
     "output_type": "display_data"
    },
    {
     "data": {
      "text/html": [
       "<pre>| 45.49s                              | 58.25            | 117502          |</pre>"
      ],
      "text/plain": [
       "| 45.49s                              | 58.25            | 117502          |"
      ]
     },
     "metadata": {},
     "output_type": "display_data"
    },
    {
     "data": {
      "text/html": [
       "<pre>| 46.49s                              | 58.5             | 117814          |</pre>"
      ],
      "text/plain": [
       "| 46.49s                              | 58.5             | 117814          |"
      ]
     },
     "metadata": {},
     "output_type": "display_data"
    },
    {
     "data": {
      "text/html": [
       "<pre>| 47.50s                              | 58.75            | 118097          |</pre>"
      ],
      "text/plain": [
       "| 47.50s                              | 58.75            | 118097          |"
      ]
     },
     "metadata": {},
     "output_type": "display_data"
    },
    {
     "data": {
      "text/html": [
       "<pre>| 48.50s                              | 61.75            | 124081          |</pre>"
      ],
      "text/plain": [
       "| 48.50s                              | 61.75            | 124081          |"
      ]
     },
     "metadata": {},
     "output_type": "display_data"
    },
    {
     "data": {
      "text/html": [
       "<pre>| 49.51s                              | 61.75            | 124243          |</pre>"
      ],
      "text/plain": [
       "| 49.51s                              | 61.75            | 124243          |"
      ]
     },
     "metadata": {},
     "output_type": "display_data"
    },
    {
     "data": {
      "text/html": [
       "<pre>| 50.54s                              | 61.75            | 124373          |</pre>"
      ],
      "text/plain": [
       "| 50.54s                              | 61.75            | 124373          |"
      ]
     },
     "metadata": {},
     "output_type": "display_data"
    },
    {
     "data": {
      "text/html": [
       "<pre>| 51.52s                              | 61.75            | 124530          |</pre>"
      ],
      "text/plain": [
       "| 51.52s                              | 61.75            | 124530          |"
      ]
     },
     "metadata": {},
     "output_type": "display_data"
    },
    {
     "data": {
      "text/html": [
       "<pre>| 52.55s                              | 62               | 124649          |</pre>"
      ],
      "text/plain": [
       "| 52.55s                              | 62               | 124649          |"
      ]
     },
     "metadata": {},
     "output_type": "display_data"
    },
    {
     "data": {
      "text/html": [
       "<pre>| 53.54s                              | 62               | 124785          |</pre>"
      ],
      "text/plain": [
       "| 53.54s                              | 62               | 124785          |"
      ]
     },
     "metadata": {},
     "output_type": "display_data"
    },
    {
     "data": {
      "text/html": [
       "<pre>| 54.54s                              | 62               | 124918          |</pre>"
      ],
      "text/plain": [
       "| 54.54s                              | 62               | 124918          |"
      ]
     },
     "metadata": {},
     "output_type": "display_data"
    },
    {
     "data": {
      "text/html": [
       "<pre>| 55.54s                              | 62.25            | 125084          |</pre>"
      ],
      "text/plain": [
       "| 55.54s                              | 62.25            | 125084          |"
      ]
     },
     "metadata": {},
     "output_type": "display_data"
    },
    {
     "data": {
      "text/html": [
       "<pre>| 56.56s                              | 62.25            | 125188          |</pre>"
      ],
      "text/plain": [
       "| 56.56s                              | 62.25            | 125188          |"
      ]
     },
     "metadata": {},
     "output_type": "display_data"
    },
    {
     "data": {
      "text/html": [
       "<pre>| 57.55s                              | 62.25            | 125303          |</pre>"
      ],
      "text/plain": [
       "| 57.55s                              | 62.25            | 125303          |"
      ]
     },
     "metadata": {},
     "output_type": "display_data"
    },
    {
     "data": {
      "text/html": [
       "<pre>| 58.57s                              | 62.25            | 125458          |</pre>"
      ],
      "text/plain": [
       "| 58.57s                              | 62.25            | 125458          |"
      ]
     },
     "metadata": {},
     "output_type": "display_data"
    },
    {
     "data": {
      "text/html": [
       "<pre>| 59.56s                              | 62.5             | 125624          |</pre>"
      ],
      "text/plain": [
       "| 59.56s                              | 62.5             | 125624          |"
      ]
     },
     "metadata": {},
     "output_type": "display_data"
    },
    {
     "data": {
      "text/html": [
       "<pre>| 1m 0s                               | 62.75            | 126506          |</pre>"
      ],
      "text/plain": [
       "| 1m 0s                               | 62.75            | 126506          |"
      ]
     },
     "metadata": {},
     "output_type": "display_data"
    },
    {
     "data": {
      "text/html": [
       "<pre>| 1m 1s                               | 63               | 126664          |</pre>"
      ],
      "text/plain": [
       "| 1m 1s                               | 63               | 126664          |"
      ]
     },
     "metadata": {},
     "output_type": "display_data"
    },
    {
     "data": {
      "text/html": [
       "<pre>| 1m 2s                               | 63               | 126756          |</pre>"
      ],
      "text/plain": [
       "| 1m 2s                               | 63               | 126756          |"
      ]
     },
     "metadata": {},
     "output_type": "display_data"
    },
    {
     "data": {
      "text/html": [
       "<pre>| 1m 3s                               | 63               | 126876          |</pre>"
      ],
      "text/plain": [
       "| 1m 3s                               | 63               | 126876          |"
      ]
     },
     "metadata": {},
     "output_type": "display_data"
    },
    {
     "data": {
      "text/html": [
       "<pre>| 1m 4s                               | 63               | 127012          |</pre>"
      ],
      "text/plain": [
       "| 1m 4s                               | 63               | 127012          |"
      ]
     },
     "metadata": {},
     "output_type": "display_data"
    },
    {
     "data": {
      "text/html": [
       "<pre>| 1m 5s                               | 63.25            | 127185          |</pre>"
      ],
      "text/plain": [
       "| 1m 5s                               | 63.25            | 127185          |"
      ]
     },
     "metadata": {},
     "output_type": "display_data"
    },
    {
     "data": {
      "text/html": [
       "<pre>| 1m 6s                               | 63.25            | 127299          |</pre>"
      ],
      "text/plain": [
       "| 1m 6s                               | 63.25            | 127299          |"
      ]
     },
     "metadata": {},
     "output_type": "display_data"
    },
    {
     "data": {
      "text/html": [
       "<pre>| 1m 7s                               | 63.25            | 127450          |</pre>"
      ],
      "text/plain": [
       "| 1m 7s                               | 63.25            | 127450          |"
      ]
     },
     "metadata": {},
     "output_type": "display_data"
    },
    {
     "data": {
      "text/html": [
       "<pre>| 1m 8s                               | 63.25            | 127533          |</pre>"
      ],
      "text/plain": [
       "| 1m 8s                               | 63.25            | 127533          |"
      ]
     },
     "metadata": {},
     "output_type": "display_data"
    },
    {
     "data": {
      "text/html": [
       "<pre>| 1m 9s                               | 63.5             | 127636          |</pre>"
      ],
      "text/plain": [
       "| 1m 9s                               | 63.5             | 127636          |"
      ]
     },
     "metadata": {},
     "output_type": "display_data"
    },
    {
     "data": {
      "text/html": [
       "<pre>| 1m 10s                              | 63.5             | 127797          |</pre>"
      ],
      "text/plain": [
       "| 1m 10s                              | 63.5             | 127797          |"
      ]
     },
     "metadata": {},
     "output_type": "display_data"
    },
    {
     "data": {
      "text/html": [
       "<pre>| 1m 11s                              | 63.5             | 128002          |</pre>"
      ],
      "text/plain": [
       "| 1m 11s                              | 63.5             | 128002          |"
      ]
     },
     "metadata": {},
     "output_type": "display_data"
    },
    {
     "data": {
      "text/html": [
       "<pre>| 1m 12s                              | 64               | 128647          |</pre>"
      ],
      "text/plain": [
       "| 1m 12s                              | 64               | 128647          |"
      ]
     },
     "metadata": {},
     "output_type": "display_data"
    },
    {
     "data": {
      "text/html": [
       "<pre>| 1m 13s                              | 64               | 128796          |</pre>"
      ],
      "text/plain": [
       "| 1m 13s                              | 64               | 128796          |"
      ]
     },
     "metadata": {},
     "output_type": "display_data"
    },
    {
     "data": {
      "text/html": [
       "<pre>| 1m 14s                              | 64               | 128883          |</pre>"
      ],
      "text/plain": [
       "| 1m 14s                              | 64               | 128883          |"
      ]
     },
     "metadata": {},
     "output_type": "display_data"
    },
    {
     "data": {
      "text/html": [
       "<pre>| 1m 15s                              | 64               | 128961          |</pre>"
      ],
      "text/plain": [
       "| 1m 15s                              | 64               | 128961          |"
      ]
     },
     "metadata": {},
     "output_type": "display_data"
    },
    {
     "data": {
      "text/html": [
       "<pre>| 1m 16s                              | 64               | 129082          |</pre>"
      ],
      "text/plain": [
       "| 1m 16s                              | 64               | 129082          |"
      ]
     },
     "metadata": {},
     "output_type": "display_data"
    },
    {
     "data": {
      "text/html": [
       "<pre>| 1m 17s                              | 64.25            | 129180          |</pre>"
      ],
      "text/plain": [
       "| 1m 17s                              | 64.25            | 129180          |"
      ]
     },
     "metadata": {},
     "output_type": "display_data"
    },
    {
     "data": {
      "text/html": [
       "<pre>| 1m 18s                              | 64.25            | 129260          |</pre>"
      ],
      "text/plain": [
       "| 1m 18s                              | 64.25            | 129260          |"
      ]
     },
     "metadata": {},
     "output_type": "display_data"
    },
    {
     "data": {
      "text/html": [
       "<pre>| 1m 19s                              | 64.25            | 129412          |</pre>"
      ],
      "text/plain": [
       "| 1m 19s                              | 64.25            | 129412          |"
      ]
     },
     "metadata": {},
     "output_type": "display_data"
    },
    {
     "data": {
      "text/html": [
       "<pre>| 1m 20s                              | 64.5             | 129867          |</pre>"
      ],
      "text/plain": [
       "| 1m 20s                              | 64.5             | 129867          |"
      ]
     },
     "metadata": {},
     "output_type": "display_data"
    },
    {
     "data": {
      "text/html": [
       "<pre>| 1m 21s                              | 64.5             | 129980          |</pre>"
      ],
      "text/plain": [
       "| 1m 21s                              | 64.5             | 129980          |"
      ]
     },
     "metadata": {},
     "output_type": "display_data"
    },
    {
     "data": {
      "text/html": [
       "<pre>| 1m 22s                              | 64.75            | 130131          |</pre>"
      ],
      "text/plain": [
       "| 1m 22s                              | 64.75            | 130131          |"
      ]
     },
     "metadata": {},
     "output_type": "display_data"
    },
    {
     "data": {
      "text/html": [
       "<pre>| 1m 23s                              | 64.75            | 130198          |</pre>"
      ],
      "text/plain": [
       "| 1m 23s                              | 64.75            | 130198          |"
      ]
     },
     "metadata": {},
     "output_type": "display_data"
    },
    {
     "data": {
      "text/html": [
       "<pre>| 1m 24s                              | 64.75            | 130348          |</pre>"
      ],
      "text/plain": [
       "| 1m 24s                              | 64.75            | 130348          |"
      ]
     },
     "metadata": {},
     "output_type": "display_data"
    },
    {
     "data": {
      "text/html": [
       "<pre>| 1m 25s                              | 64.75            | 130385          |</pre>"
      ],
      "text/plain": [
       "| 1m 25s                              | 64.75            | 130385          |"
      ]
     },
     "metadata": {},
     "output_type": "display_data"
    },
    {
     "data": {
      "text/html": [
       "<pre>| 1m 26s                              | 64.75            | 130465          |</pre>"
      ],
      "text/plain": [
       "| 1m 26s                              | 64.75            | 130465          |"
      ]
     },
     "metadata": {},
     "output_type": "display_data"
    },
    {
     "data": {
      "text/html": [
       "<pre>| 1m 27s                              | 64.75            | 130598          |</pre>"
      ],
      "text/plain": [
       "| 1m 27s                              | 64.75            | 130598          |"
      ]
     },
     "metadata": {},
     "output_type": "display_data"
    },
    {
     "data": {
      "text/html": [
       "<pre>| 1m 28s                              | 65               | 130782          |</pre>"
      ],
      "text/plain": [
       "| 1m 28s                              | 65               | 130782          |"
      ]
     },
     "metadata": {},
     "output_type": "display_data"
    },
    {
     "data": {
      "text/html": [
       "<pre>| 1m 29s                              | 65               | 130956          |</pre>"
      ],
      "text/plain": [
       "| 1m 29s                              | 65               | 130956          |"
      ]
     },
     "metadata": {},
     "output_type": "display_data"
    },
    {
     "data": {
      "text/html": [
       "<pre>| 1m 30s                              | 65               | 131067          |</pre>"
      ],
      "text/plain": [
       "| 1m 30s                              | 65               | 131067          |"
      ]
     },
     "metadata": {},
     "output_type": "display_data"
    },
    {
     "data": {
      "text/html": [
       "<pre>| 1m 32s                              | 65.25            | 131338          |</pre>"
      ],
      "text/plain": [
       "| 1m 32s                              | 65.25            | 131338          |"
      ]
     },
     "metadata": {},
     "output_type": "display_data"
    },
    {
     "data": {
      "text/html": [
       "<pre>| 1m 33s                              | 65.25            | 131466          |</pre>"
      ],
      "text/plain": [
       "| 1m 33s                              | 65.25            | 131466          |"
      ]
     },
     "metadata": {},
     "output_type": "display_data"
    },
    {
     "data": {
      "text/html": [
       "<pre>| 1m 33s                              | 65.25            | 131529          |</pre>"
      ],
      "text/plain": [
       "| 1m 33s                              | 65.25            | 131529          |"
      ]
     },
     "metadata": {},
     "output_type": "display_data"
    },
    {
     "data": {
      "text/html": [
       "<pre>| 1m 34s                              | 65.75            | 132348          |</pre>"
      ],
      "text/plain": [
       "| 1m 34s                              | 65.75            | 132348          |"
      ]
     },
     "metadata": {},
     "output_type": "display_data"
    },
    {
     "data": {
      "text/html": [
       "<pre>| 1m 35s                              | 65.75            | 132428          |</pre>"
      ],
      "text/plain": [
       "| 1m 35s                              | 65.75            | 132428          |"
      ]
     },
     "metadata": {},
     "output_type": "display_data"
    },
    {
     "data": {
      "text/html": [
       "<pre>| 1m 36s                              | 65.75            | 132531          |</pre>"
      ],
      "text/plain": [
       "| 1m 36s                              | 65.75            | 132531          |"
      ]
     },
     "metadata": {},
     "output_type": "display_data"
    },
    {
     "data": {
      "text/html": [
       "<pre>| 1m 37s                              | 65.75            | 132604          |</pre>"
      ],
      "text/plain": [
       "| 1m 37s                              | 65.75            | 132604          |"
      ]
     },
     "metadata": {},
     "output_type": "display_data"
    },
    {
     "data": {
      "text/html": [
       "<pre>| 1m 38s                              | 66               | 132782          |</pre>"
      ],
      "text/plain": [
       "| 1m 38s                              | 66               | 132782          |"
      ]
     },
     "metadata": {},
     "output_type": "display_data"
    },
    {
     "data": {
      "text/html": [
       "<pre>| 1m 39s                              | 66               | 132825          |</pre>"
      ],
      "text/plain": [
       "| 1m 39s                              | 66               | 132825          |"
      ]
     },
     "metadata": {},
     "output_type": "display_data"
    },
    {
     "data": {
      "text/html": [
       "<pre>| 1m 40s                              | 66               | 132885          |</pre>"
      ],
      "text/plain": [
       "| 1m 40s                              | 66               | 132885          |"
      ]
     },
     "metadata": {},
     "output_type": "display_data"
    },
    {
     "data": {
      "text/html": [
       "<pre>| 1m 41s                              | 66               | 132957          |</pre>"
      ],
      "text/plain": [
       "| 1m 41s                              | 66               | 132957          |"
      ]
     },
     "metadata": {},
     "output_type": "display_data"
    },
    {
     "data": {
      "text/html": [
       "<pre>| 1m 42s                              | 66               | 133036          |</pre>"
      ],
      "text/plain": [
       "| 1m 42s                              | 66               | 133036          |"
      ]
     },
     "metadata": {},
     "output_type": "display_data"
    },
    {
     "data": {
      "text/html": [
       "<pre>| 1m 43s                              | 66.25            | 133150          |</pre>"
      ],
      "text/plain": [
       "| 1m 43s                              | 66.25            | 133150          |"
      ]
     },
     "metadata": {},
     "output_type": "display_data"
    },
    {
     "data": {
      "text/html": [
       "<pre>| 1m 44s                              | 66.25            | 133230          |</pre>"
      ],
      "text/plain": [
       "| 1m 44s                              | 66.25            | 133230          |"
      ]
     },
     "metadata": {},
     "output_type": "display_data"
    },
    {
     "data": {
      "text/html": [
       "<pre>| 1m 45s                              | 66.25            | 133326          |</pre>"
      ],
      "text/plain": [
       "| 1m 45s                              | 66.25            | 133326          |"
      ]
     },
     "metadata": {},
     "output_type": "display_data"
    },
    {
     "data": {
      "text/html": [
       "<pre>| 1m 46s                              | 66.25            | 133497          |</pre>"
      ],
      "text/plain": [
       "| 1m 46s                              | 66.25            | 133497          |"
      ]
     },
     "metadata": {},
     "output_type": "display_data"
    },
    {
     "data": {
      "text/html": [
       "<pre>| 1m 47s                              | 66.5             | 133721          |</pre>"
      ],
      "text/plain": [
       "| 1m 47s                              | 66.5             | 133721          |"
      ]
     },
     "metadata": {},
     "output_type": "display_data"
    },
    {
     "data": {
      "text/html": [
       "<pre>| 1m 48s                              | 66.5             | 133824          |</pre>"
      ],
      "text/plain": [
       "| 1m 48s                              | 66.5             | 133824          |"
      ]
     },
     "metadata": {},
     "output_type": "display_data"
    },
    {
     "data": {
      "text/html": [
       "<pre>| 1m 49s                              | 66.5             | 133987          |</pre>"
      ],
      "text/plain": [
       "| 1m 49s                              | 66.5             | 133987          |"
      ]
     },
     "metadata": {},
     "output_type": "display_data"
    },
    {
     "data": {
      "text/html": [
       "<pre>| 1m 50s                              | 66.75            | 134163          |</pre>"
      ],
      "text/plain": [
       "| 1m 50s                              | 66.75            | 134163          |"
      ]
     },
     "metadata": {},
     "output_type": "display_data"
    },
    {
     "data": {
      "text/html": [
       "<pre>| 1m 51s                              | 66.75            | 134288          |</pre>"
      ],
      "text/plain": [
       "| 1m 51s                              | 66.75            | 134288          |"
      ]
     },
     "metadata": {},
     "output_type": "display_data"
    },
    {
     "data": {
      "text/html": [
       "<pre>| 1m 52s                              | 67.25            | 135179          |</pre>"
      ],
      "text/plain": [
       "| 1m 52s                              | 67.25            | 135179          |"
      ]
     },
     "metadata": {},
     "output_type": "display_data"
    },
    {
     "data": {
      "text/html": [
       "<pre>| 1m 53s                              | 67.25            | 135279          |</pre>"
      ],
      "text/plain": [
       "| 1m 53s                              | 67.25            | 135279          |"
      ]
     },
     "metadata": {},
     "output_type": "display_data"
    },
    {
     "data": {
      "text/html": [
       "<pre>| 1m 54s                              | 67.25            | 135369          |</pre>"
      ],
      "text/plain": [
       "| 1m 54s                              | 67.25            | 135369          |"
      ]
     },
     "metadata": {},
     "output_type": "display_data"
    },
    {
     "data": {
      "text/html": [
       "<pre>| 1m 55s                              | 67.25            | 135468          |</pre>"
      ],
      "text/plain": [
       "| 1m 55s                              | 67.25            | 135468          |"
      ]
     },
     "metadata": {},
     "output_type": "display_data"
    },
    {
     "data": {
      "text/html": [
       "<pre>| 1m 56s                              | 67.25            | 135583          |</pre>"
      ],
      "text/plain": [
       "| 1m 56s                              | 67.25            | 135583          |"
      ]
     },
     "metadata": {},
     "output_type": "display_data"
    },
    {
     "data": {
      "text/html": [
       "<pre>| 1m 57s                              | 67.5             | 135686          |</pre>"
      ],
      "text/plain": [
       "| 1m 57s                              | 67.5             | 135686          |"
      ]
     },
     "metadata": {},
     "output_type": "display_data"
    },
    {
     "data": {
      "text/html": [
       "<pre>| 1m 58s                              | 67.5             | 135784          |</pre>"
      ],
      "text/plain": [
       "| 1m 58s                              | 67.5             | 135784          |"
      ]
     },
     "metadata": {},
     "output_type": "display_data"
    },
    {
     "data": {
      "text/html": [
       "<pre>| 1m 59s                              | 67.5             | 135918          |</pre>"
      ],
      "text/plain": [
       "| 1m 59s                              | 67.5             | 135918          |"
      ]
     },
     "metadata": {},
     "output_type": "display_data"
    },
    {
     "data": {
      "text/html": [
       "<pre>| 2m 0s                               | 67.5             | 136109          |</pre>"
      ],
      "text/plain": [
       "| 2m 0s                               | 67.5             | 136109          |"
      ]
     },
     "metadata": {},
     "output_type": "display_data"
    },
    {
     "data": {
      "text/html": [
       "<pre>| 2m 1s                               | 67.75            | 136217          |</pre>"
      ],
      "text/plain": [
       "| 2m 1s                               | 67.75            | 136217          |"
      ]
     },
     "metadata": {},
     "output_type": "display_data"
    },
    {
     "data": {
      "text/html": [
       "<pre>| 2m 2s                               | 67.75            | 136359          |</pre>"
      ],
      "text/plain": [
       "| 2m 2s                               | 67.75            | 136359          |"
      ]
     },
     "metadata": {},
     "output_type": "display_data"
    },
    {
     "data": {
      "text/html": [
       "<pre>| 2m 3s                               | 67.75            | 136487          |</pre>"
      ],
      "text/plain": [
       "| 2m 3s                               | 67.75            | 136487          |"
      ]
     },
     "metadata": {},
     "output_type": "display_data"
    },
    {
     "data": {
      "text/html": [
       "<pre>| 2m 4s                               | 68               | 136671          |</pre>"
      ],
      "text/plain": [
       "| 2m 4s                               | 68               | 136671          |"
      ]
     },
     "metadata": {},
     "output_type": "display_data"
    },
    {
     "data": {
      "text/html": [
       "<pre>| 2m 5s                               | 68               | 137024          |</pre>"
      ],
      "text/plain": [
       "| 2m 5s                               | 68               | 137024          |"
      ]
     },
     "metadata": {},
     "output_type": "display_data"
    },
    {
     "data": {
      "text/html": [
       "<pre>| 2m 6s                               | 68.25            | 137143          |</pre>"
      ],
      "text/plain": [
       "| 2m 6s                               | 68.25            | 137143          |"
      ]
     },
     "metadata": {},
     "output_type": "display_data"
    },
    {
     "data": {
      "text/html": [
       "<pre>| 2m 7s                               | 68.25            | 137470          |</pre>"
      ],
      "text/plain": [
       "| 2m 7s                               | 68.25            | 137470          |"
      ]
     },
     "metadata": {},
     "output_type": "display_data"
    },
    {
     "data": {
      "text/html": [
       "<pre>| 2m 8s                               | 68.75            | 138151          |</pre>"
      ],
      "text/plain": [
       "| 2m 8s                               | 68.75            | 138151          |"
      ]
     },
     "metadata": {},
     "output_type": "display_data"
    },
    {
     "data": {
      "text/html": [
       "<pre>| 2m 9s                               | 68.75            | 138246          |</pre>"
      ],
      "text/plain": [
       "| 2m 9s                               | 68.75            | 138246          |"
      ]
     },
     "metadata": {},
     "output_type": "display_data"
    },
    {
     "data": {
      "text/html": [
       "<pre>| 2m 10s                              | 68.75            | 138292          |</pre>"
      ],
      "text/plain": [
       "| 2m 10s                              | 68.75            | 138292          |"
      ]
     },
     "metadata": {},
     "output_type": "display_data"
    },
    {
     "data": {
      "text/html": [
       "<pre>| 2m 11s                              | 68.75            | 138367          |</pre>"
      ],
      "text/plain": [
       "| 2m 11s                              | 68.75            | 138367          |"
      ]
     },
     "metadata": {},
     "output_type": "display_data"
    },
    {
     "data": {
      "text/html": [
       "<pre>| 2m 12s                              | 68.75            | 138459          |</pre>"
      ],
      "text/plain": [
       "| 2m 12s                              | 68.75            | 138459          |"
      ]
     },
     "metadata": {},
     "output_type": "display_data"
    },
    {
     "data": {
      "text/html": [
       "<pre>| 2m 13s                              | 68.75            | 138589          |</pre>"
      ],
      "text/plain": [
       "| 2m 13s                              | 68.75            | 138589          |"
      ]
     },
     "metadata": {},
     "output_type": "display_data"
    },
    {
     "data": {
      "text/html": [
       "<pre>| 2m 14s                              | 69               | 138718          |</pre>"
      ],
      "text/plain": [
       "| 2m 14s                              | 69               | 138718          |"
      ]
     },
     "metadata": {},
     "output_type": "display_data"
    },
    {
     "data": {
      "text/html": [
       "<pre>| 2m 15s                              | 69.75            | 140424          |</pre>"
      ],
      "text/plain": [
       "| 2m 15s                              | 69.75            | 140424          |"
      ]
     },
     "metadata": {},
     "output_type": "display_data"
    },
    {
     "data": {
      "text/html": [
       "<pre>| 2m 16s                              | 69.75            | 140520          |</pre>"
      ],
      "text/plain": [
       "| 2m 16s                              | 69.75            | 140520          |"
      ]
     },
     "metadata": {},
     "output_type": "display_data"
    },
    {
     "data": {
      "text/html": [
       "<pre>| 2m 17s                              | 69.75            | 140605          |</pre>"
      ],
      "text/plain": [
       "| 2m 17s                              | 69.75            | 140605          |"
      ]
     },
     "metadata": {},
     "output_type": "display_data"
    },
    {
     "data": {
      "text/html": [
       "<pre>| 2m 18s                              | 70               | 140738          |</pre>"
      ],
      "text/plain": [
       "| 2m 18s                              | 70               | 140738          |"
      ]
     },
     "metadata": {},
     "output_type": "display_data"
    },
    {
     "data": {
      "text/html": [
       "<pre>| 2m 19s                              | 70               | 140838          |</pre>"
      ],
      "text/plain": [
       "| 2m 19s                              | 70               | 140838          |"
      ]
     },
     "metadata": {},
     "output_type": "display_data"
    },
    {
     "data": {
      "text/html": [
       "<pre>| 2m 20s                              | 70.25            | 141291          |</pre>"
      ],
      "text/plain": [
       "| 2m 20s                              | 70.25            | 141291          |"
      ]
     },
     "metadata": {},
     "output_type": "display_data"
    },
    {
     "data": {
      "text/html": [
       "<pre>| 2m 22s                              | 70.25            | 141361          |</pre>"
      ],
      "text/plain": [
       "| 2m 22s                              | 70.25            | 141361          |"
      ]
     },
     "metadata": {},
     "output_type": "display_data"
    },
    {
     "data": {
      "text/html": [
       "<pre>| 2m 23s                              | 70.25            | 141448          |</pre>"
      ],
      "text/plain": [
       "| 2m 23s                              | 70.25            | 141448          |"
      ]
     },
     "metadata": {},
     "output_type": "display_data"
    },
    {
     "data": {
      "text/html": [
       "<pre>| 2m 23s                              | 70.25            | 141536          |</pre>"
      ],
      "text/plain": [
       "| 2m 23s                              | 70.25            | 141536          |"
      ]
     },
     "metadata": {},
     "output_type": "display_data"
    },
    {
     "data": {
      "text/html": [
       "<pre>| 2m 25s                              | 70.25            | 141631          |</pre>"
      ],
      "text/plain": [
       "| 2m 25s                              | 70.25            | 141631          |"
      ]
     },
     "metadata": {},
     "output_type": "display_data"
    },
    {
     "data": {
      "text/html": [
       "<pre>| 2m 26s                              | 70.5             | 141698          |</pre>"
      ],
      "text/plain": [
       "| 2m 26s                              | 70.5             | 141698          |"
      ]
     },
     "metadata": {},
     "output_type": "display_data"
    },
    {
     "data": {
      "text/html": [
       "<pre>| 2m 27s                              | 70.5             | 141764          |</pre>"
      ],
      "text/plain": [
       "| 2m 27s                              | 70.5             | 141764          |"
      ]
     },
     "metadata": {},
     "output_type": "display_data"
    },
    {
     "data": {
      "text/html": [
       "<pre>| 2m 28s                              | 70.5             | 142055          |</pre>"
      ],
      "text/plain": [
       "| 2m 28s                              | 70.5             | 142055          |"
      ]
     },
     "metadata": {},
     "output_type": "display_data"
    },
    {
     "data": {
      "text/html": [
       "<pre>| 2m 29s                              | 70.5             | 142096          |</pre>"
      ],
      "text/plain": [
       "| 2m 29s                              | 70.5             | 142096          |"
      ]
     },
     "metadata": {},
     "output_type": "display_data"
    },
    {
     "data": {
      "text/html": [
       "<pre>| 2m 30s                              | 70.75            | 142197          |</pre>"
      ],
      "text/plain": [
       "| 2m 30s                              | 70.75            | 142197          |"
      ]
     },
     "metadata": {},
     "output_type": "display_data"
    },
    {
     "data": {
      "text/html": [
       "<pre>| 2m 31s                              | 70.75            | 142385          |</pre>"
      ],
      "text/plain": [
       "| 2m 31s                              | 70.75            | 142385          |"
      ]
     },
     "metadata": {},
     "output_type": "display_data"
    },
    {
     "data": {
      "text/html": [
       "<pre>| 2m 32s                              | 71               | 143013          |</pre>"
      ],
      "text/plain": [
       "| 2m 32s                              | 71               | 143013          |"
      ]
     },
     "metadata": {},
     "output_type": "display_data"
    },
    {
     "data": {
      "text/html": [
       "<pre>| 2m 33s                              | 71               | 143064          |</pre>"
      ],
      "text/plain": [
       "| 2m 33s                              | 71               | 143064          |"
      ]
     },
     "metadata": {},
     "output_type": "display_data"
    },
    {
     "data": {
      "text/html": [
       "<pre>| 2m 34s                              | 71               | 143143          |</pre>"
      ],
      "text/plain": [
       "| 2m 34s                              | 71               | 143143          |"
      ]
     },
     "metadata": {},
     "output_type": "display_data"
    },
    {
     "data": {
      "text/html": [
       "<pre>| 2m 35s                              | 71.25            | 143228          |</pre>"
      ],
      "text/plain": [
       "| 2m 35s                              | 71.25            | 143228          |"
      ]
     },
     "metadata": {},
     "output_type": "display_data"
    },
    {
     "data": {
      "text/html": [
       "<pre>| 2m 36s                              | 71.25            | 143339          |</pre>"
      ],
      "text/plain": [
       "| 2m 36s                              | 71.25            | 143339          |"
      ]
     },
     "metadata": {},
     "output_type": "display_data"
    },
    {
     "data": {
      "text/html": [
       "<pre>| 2m 37s                              | 71.25            | 143419          |</pre>"
      ],
      "text/plain": [
       "| 2m 37s                              | 71.25            | 143419          |"
      ]
     },
     "metadata": {},
     "output_type": "display_data"
    },
    {
     "data": {
      "text/html": [
       "<pre>| 2m 38s                              | 71.25            | 143530          |</pre>"
      ],
      "text/plain": [
       "| 2m 38s                              | 71.25            | 143530          |"
      ]
     },
     "metadata": {},
     "output_type": "display_data"
    },
    {
     "data": {
      "text/html": [
       "<pre>| 2m 39s                              | 71.25            | 143614          |</pre>"
      ],
      "text/plain": [
       "| 2m 39s                              | 71.25            | 143614          |"
      ]
     },
     "metadata": {},
     "output_type": "display_data"
    },
    {
     "data": {
      "text/html": [
       "<pre>| 2m 40s                              | 71.5             | 143707          |</pre>"
      ],
      "text/plain": [
       "| 2m 40s                              | 71.5             | 143707          |"
      ]
     },
     "metadata": {},
     "output_type": "display_data"
    },
    {
     "data": {
      "text/html": [
       "<pre>| 2m 41s                              | 71.5             | 143864          |</pre>"
      ],
      "text/plain": [
       "| 2m 41s                              | 71.5             | 143864          |"
      ]
     },
     "metadata": {},
     "output_type": "display_data"
    },
    {
     "data": {
      "text/html": [
       "<pre>| 2m 42s                              | 71.5             | 143988          |</pre>"
      ],
      "text/plain": [
       "| 2m 42s                              | 71.5             | 143988          |"
      ]
     },
     "metadata": {},
     "output_type": "display_data"
    },
    {
     "data": {
      "text/html": [
       "<pre>| 2m 43s                              | 71.75            | 144195          |</pre>"
      ],
      "text/plain": [
       "| 2m 43s                              | 71.75            | 144195          |"
      ]
     },
     "metadata": {},
     "output_type": "display_data"
    },
    {
     "data": {
      "text/html": [
       "<pre>| 2m 44s                              | 71.75            | 144346          |</pre>"
      ],
      "text/plain": [
       "| 2m 44s                              | 71.75            | 144346          |"
      ]
     },
     "metadata": {},
     "output_type": "display_data"
    },
    {
     "data": {
      "text/html": [
       "<pre>| 2m 45s                              | 71.75            | 144625          |</pre>"
      ],
      "text/plain": [
       "| 2m 45s                              | 71.75            | 144625          |"
      ]
     },
     "metadata": {},
     "output_type": "display_data"
    },
    {
     "data": {
      "text/html": [
       "<pre>| 2m 46s                              | 72               | 144733          |</pre>"
      ],
      "text/plain": [
       "| 2m 46s                              | 72               | 144733          |"
      ]
     },
     "metadata": {},
     "output_type": "display_data"
    },
    {
     "data": {
      "text/html": [
       "<pre>| 2m 47s                              | 72               | 144856          |</pre>"
      ],
      "text/plain": [
       "| 2m 47s                              | 72               | 144856          |"
      ]
     },
     "metadata": {},
     "output_type": "display_data"
    },
    {
     "data": {
      "text/html": [
       "<pre>| 2m 48s                              | 72.25            | 145249          |</pre>"
      ],
      "text/plain": [
       "| 2m 48s                              | 72.25            | 145249          |"
      ]
     },
     "metadata": {},
     "output_type": "display_data"
    },
    {
     "data": {
      "text/html": [
       "<pre>| 2m 49s                              | 72.25            | 145350          |</pre>"
      ],
      "text/plain": [
       "| 2m 49s                              | 72.25            | 145350          |"
      ]
     },
     "metadata": {},
     "output_type": "display_data"
    },
    {
     "data": {
      "text/html": [
       "<pre>| 2m 50s                              | 72.5             | 145717          |</pre>"
      ],
      "text/plain": [
       "| 2m 50s                              | 72.5             | 145717          |"
      ]
     },
     "metadata": {},
     "output_type": "display_data"
    },
    {
     "data": {
      "text/html": [
       "<pre>| 2m 51s                              | 72.5             | 145846          |</pre>"
      ],
      "text/plain": [
       "| 2m 51s                              | 72.5             | 145846          |"
      ]
     },
     "metadata": {},
     "output_type": "display_data"
    },
    {
     "data": {
      "text/html": [
       "<pre>| 2m 52s                              | 72.75            | 146309          |</pre>"
      ],
      "text/plain": [
       "| 2m 52s                              | 72.75            | 146309          |"
      ]
     },
     "metadata": {},
     "output_type": "display_data"
    },
    {
     "data": {
      "text/html": [
       "<pre>| 2m 53s                              | 72.75            | 146405          |</pre>"
      ],
      "text/plain": [
       "| 2m 53s                              | 72.75            | 146405          |"
      ]
     },
     "metadata": {},
     "output_type": "display_data"
    },
    {
     "data": {
      "text/html": [
       "<pre>| 2m 54s                              | 72.75            | 146537          |</pre>"
      ],
      "text/plain": [
       "| 2m 54s                              | 72.75            | 146537          |"
      ]
     },
     "metadata": {},
     "output_type": "display_data"
    },
    {
     "data": {
      "text/html": [
       "<pre>| 2m 55s                              | 73               | 146694          |</pre>"
      ],
      "text/plain": [
       "| 2m 55s                              | 73               | 146694          |"
      ]
     },
     "metadata": {},
     "output_type": "display_data"
    },
    {
     "data": {
      "text/html": [
       "<pre>| 2m 56s                              | 73               | 146997          |</pre>"
      ],
      "text/plain": [
       "| 2m 56s                              | 73               | 146997          |"
      ]
     },
     "metadata": {},
     "output_type": "display_data"
    },
    {
     "data": {
      "text/html": [
       "<pre>| 2m 57s                              | 73               | 147110          |</pre>"
      ],
      "text/plain": [
       "| 2m 57s                              | 73               | 147110          |"
      ]
     },
     "metadata": {},
     "output_type": "display_data"
    },
    {
     "data": {
      "text/html": [
       "<pre>| 2m 58s                              | 73.25            | 147300          |</pre>"
      ],
      "text/plain": [
       "| 2m 58s                              | 73.25            | 147300          |"
      ]
     },
     "metadata": {},
     "output_type": "display_data"
    },
    {
     "data": {
      "text/html": [
       "<pre>| 2m 59s                              | 73.25            | 147463          |</pre>"
      ],
      "text/plain": [
       "| 2m 59s                              | 73.25            | 147463          |"
      ]
     },
     "metadata": {},
     "output_type": "display_data"
    },
    {
     "data": {
      "text/html": [
       "<pre>| 3m 0s                               | 73.5             | 147998          |</pre>"
      ],
      "text/plain": [
       "| 3m 0s                               | 73.5             | 147998          |"
      ]
     },
     "metadata": {},
     "output_type": "display_data"
    },
    {
     "data": {
      "text/html": [
       "<pre>| 3m 1s                               | 73.75            | 148474          |</pre>"
      ],
      "text/plain": [
       "| 3m 1s                               | 73.75            | 148474          |"
      ]
     },
     "metadata": {},
     "output_type": "display_data"
    },
    {
     "data": {
      "text/html": [
       "<pre>| 3m 2s                               | 73.75            | 148588          |</pre>"
      ],
      "text/plain": [
       "| 3m 2s                               | 73.75            | 148588          |"
      ]
     },
     "metadata": {},
     "output_type": "display_data"
    },
    {
     "data": {
      "text/html": [
       "<pre>| 3m 3s                               | 73.75            | 148685          |</pre>"
      ],
      "text/plain": [
       "| 3m 3s                               | 73.75            | 148685          |"
      ]
     },
     "metadata": {},
     "output_type": "display_data"
    },
    {
     "data": {
      "text/html": [
       "<pre>| 3m 4s                               | 74               | 148766          |</pre>"
      ],
      "text/plain": [
       "| 3m 4s                               | 74               | 148766          |"
      ]
     },
     "metadata": {},
     "output_type": "display_data"
    },
    {
     "data": {
      "text/html": [
       "<pre>| 3m 5s                               | 74               | 148857          |</pre>"
      ],
      "text/plain": [
       "| 3m 5s                               | 74               | 148857          |"
      ]
     },
     "metadata": {},
     "output_type": "display_data"
    },
    {
     "data": {
      "text/html": [
       "<pre>| 3m 6s                               | 74               | 148997          |</pre>"
      ],
      "text/plain": [
       "| 3m 6s                               | 74               | 148997          |"
      ]
     },
     "metadata": {},
     "output_type": "display_data"
    },
    {
     "data": {
      "text/html": [
       "<pre>| 3m 7s                               | 74               | 149089          |</pre>"
      ],
      "text/plain": [
       "| 3m 7s                               | 74               | 149089          |"
      ]
     },
     "metadata": {},
     "output_type": "display_data"
    },
    {
     "data": {
      "text/html": [
       "<pre>| 3m 8s                               | 74.25            | 149369          |</pre>"
      ],
      "text/plain": [
       "| 3m 8s                               | 74.25            | 149369          |"
      ]
     },
     "metadata": {},
     "output_type": "display_data"
    },
    {
     "data": {
      "text/html": [
       "<pre>| 3m 9s                               | 74.25            | 149481          |</pre>"
      ],
      "text/plain": [
       "| 3m 9s                               | 74.25            | 149481          |"
      ]
     },
     "metadata": {},
     "output_type": "display_data"
    },
    {
     "data": {
      "text/html": [
       "<pre>| 3m 10s                              | 75               | 151074          |</pre>"
      ],
      "text/plain": [
       "| 3m 10s                              | 75               | 151074          |"
      ]
     },
     "metadata": {},
     "output_type": "display_data"
    },
    {
     "data": {
      "text/html": [
       "<pre>| 3m 11s                              | 75               | 151175          |</pre>"
      ],
      "text/plain": [
       "| 3m 11s                              | 75               | 151175          |"
      ]
     },
     "metadata": {},
     "output_type": "display_data"
    },
    {
     "data": {
      "text/html": [
       "<pre>| 3m 12s                              | 75.25            | 151303          |</pre>"
      ],
      "text/plain": [
       "| 3m 12s                              | 75.25            | 151303          |"
      ]
     },
     "metadata": {},
     "output_type": "display_data"
    },
    {
     "data": {
      "text/html": [
       "<pre>| 3m 13s                              | 75.25            | 151468          |</pre>"
      ],
      "text/plain": [
       "| 3m 13s                              | 75.25            | 151468          |"
      ]
     },
     "metadata": {},
     "output_type": "display_data"
    },
    {
     "data": {
      "text/html": [
       "<pre>| 3m 14s                              | 77.75            | 156604          |</pre>"
      ],
      "text/plain": [
       "| 3m 14s                              | 77.75            | 156604          |"
      ]
     },
     "metadata": {},
     "output_type": "display_data"
    },
    {
     "data": {
      "text/html": [
       "<pre>| 3m 15s                              | 77.75            | 156688          |</pre>"
      ],
      "text/plain": [
       "| 3m 15s                              | 77.75            | 156688          |"
      ]
     },
     "metadata": {},
     "output_type": "display_data"
    },
    {
     "data": {
      "text/html": [
       "<pre>| 3m 16s                              | 78               | 156789          |</pre>"
      ],
      "text/plain": [
       "| 3m 16s                              | 78               | 156789          |"
      ]
     },
     "metadata": {},
     "output_type": "display_data"
    },
    {
     "data": {
      "text/html": [
       "<pre>| 3m 17s                              | 78               | 156888          |</pre>"
      ],
      "text/plain": [
       "| 3m 17s                              | 78               | 156888          |"
      ]
     },
     "metadata": {},
     "output_type": "display_data"
    },
    {
     "data": {
      "text/html": [
       "<pre>| 3m 18s                              | 78               | 156937          |</pre>"
      ],
      "text/plain": [
       "| 3m 18s                              | 78               | 156937          |"
      ]
     },
     "metadata": {},
     "output_type": "display_data"
    },
    {
     "data": {
      "text/html": [
       "<pre>| 3m 19s                              | 78               | 157030          |</pre>"
      ],
      "text/plain": [
       "| 3m 19s                              | 78               | 157030          |"
      ]
     },
     "metadata": {},
     "output_type": "display_data"
    },
    {
     "data": {
      "text/html": [
       "<pre>| 3m 20s                              | 78               | 157107          |</pre>"
      ],
      "text/plain": [
       "| 3m 20s                              | 78               | 157107          |"
      ]
     },
     "metadata": {},
     "output_type": "display_data"
    },
    {
     "data": {
      "text/html": [
       "<pre>| 3m 21s                              | 78               | 157208          |</pre>"
      ],
      "text/plain": [
       "| 3m 21s                              | 78               | 157208          |"
      ]
     },
     "metadata": {},
     "output_type": "display_data"
    },
    {
     "data": {
      "text/html": [
       "<pre>| 3m 22s                              | 78.25            | 157286          |</pre>"
      ],
      "text/plain": [
       "| 3m 22s                              | 78.25            | 157286          |"
      ]
     },
     "metadata": {},
     "output_type": "display_data"
    },
    {
     "data": {
      "text/html": [
       "<pre>| 3m 23s                              | 78.25            | 157368          |</pre>"
      ],
      "text/plain": [
       "| 3m 23s                              | 78.25            | 157368          |"
      ]
     },
     "metadata": {},
     "output_type": "display_data"
    },
    {
     "data": {
      "text/html": [
       "<pre>| 3m 24s                              | 78.25            | 157454          |</pre>"
      ],
      "text/plain": [
       "| 3m 24s                              | 78.25            | 157454          |"
      ]
     },
     "metadata": {},
     "output_type": "display_data"
    },
    {
     "data": {
      "text/html": [
       "<pre>| 3m 25s                              | 78.25            | 157549          |</pre>"
      ],
      "text/plain": [
       "| 3m 25s                              | 78.25            | 157549          |"
      ]
     },
     "metadata": {},
     "output_type": "display_data"
    },
    {
     "data": {
      "text/html": [
       "<pre>| 3m 26s                              | 78.25            | 157660          |</pre>"
      ],
      "text/plain": [
       "| 3m 26s                              | 78.25            | 157660          |"
      ]
     },
     "metadata": {},
     "output_type": "display_data"
    },
    {
     "data": {
      "text/html": [
       "<pre>| 3m 27s                              | 78.5             | 157760          |</pre>"
      ],
      "text/plain": [
       "| 3m 27s                              | 78.5             | 157760          |"
      ]
     },
     "metadata": {},
     "output_type": "display_data"
    },
    {
     "data": {
      "text/html": [
       "<pre>| 3m 28s                              | 78.5             | 157872          |</pre>"
      ],
      "text/plain": [
       "| 3m 28s                              | 78.5             | 157872          |"
      ]
     },
     "metadata": {},
     "output_type": "display_data"
    },
    {
     "data": {
      "text/html": [
       "<pre>| 3m 29s                              | 78.5             | 157997          |</pre>"
      ],
      "text/plain": [
       "| 3m 29s                              | 78.5             | 157997          |"
      ]
     },
     "metadata": {},
     "output_type": "display_data"
    },
    {
     "data": {
      "text/html": [
       "<pre>| 3m 30s                              | 78.5             | 158086          |</pre>"
      ],
      "text/plain": [
       "| 3m 30s                              | 78.5             | 158086          |"
      ]
     },
     "metadata": {},
     "output_type": "display_data"
    },
    {
     "data": {
      "text/html": [
       "<pre>| 3m 31s                              | 78.5             | 158207          |</pre>"
      ],
      "text/plain": [
       "| 3m 31s                              | 78.5             | 158207          |"
      ]
     },
     "metadata": {},
     "output_type": "display_data"
    },
    {
     "data": {
      "text/html": [
       "<pre>| 3m 32s                              | 78.75            | 158323          |</pre>"
      ],
      "text/plain": [
       "| 3m 32s                              | 78.75            | 158323          |"
      ]
     },
     "metadata": {},
     "output_type": "display_data"
    },
    {
     "data": {
      "text/html": [
       "<pre>| 3m 33s                              | 78.75            | 158423          |</pre>"
      ],
      "text/plain": [
       "| 3m 33s                              | 78.75            | 158423          |"
      ]
     },
     "metadata": {},
     "output_type": "display_data"
    },
    {
     "data": {
      "text/html": [
       "<pre>| 3m 34s                              | 78.75            | 158512          |</pre>"
      ],
      "text/plain": [
       "| 3m 34s                              | 78.75            | 158512          |"
      ]
     },
     "metadata": {},
     "output_type": "display_data"
    },
    {
     "data": {
      "text/html": [
       "<pre>| 3m 35s                              | 79               | 158941          |</pre>"
      ],
      "text/plain": [
       "| 3m 35s                              | 79               | 158941          |"
      ]
     },
     "metadata": {},
     "output_type": "display_data"
    },
    {
     "data": {
      "text/html": [
       "<pre>| 3m 36s                              | 79               | 159044          |</pre>"
      ],
      "text/plain": [
       "| 3m 36s                              | 79               | 159044          |"
      ]
     },
     "metadata": {},
     "output_type": "display_data"
    },
    {
     "data": {
      "text/html": [
       "<pre>| 3m 37s                              | 79               | 159144          |</pre>"
      ],
      "text/plain": [
       "| 3m 37s                              | 79               | 159144          |"
      ]
     },
     "metadata": {},
     "output_type": "display_data"
    },
    {
     "data": {
      "text/html": [
       "<pre>| 3m 38s                              | 79               | 159240          |</pre>"
      ],
      "text/plain": [
       "| 3m 38s                              | 79               | 159240          |"
      ]
     },
     "metadata": {},
     "output_type": "display_data"
    },
    {
     "data": {
      "text/html": [
       "<pre>| 3m 39s                              | 79.25            | 159341          |</pre>"
      ],
      "text/plain": [
       "| 3m 39s                              | 79.25            | 159341          |"
      ]
     },
     "metadata": {},
     "output_type": "display_data"
    },
    {
     "data": {
      "text/html": [
       "<pre>| 3m 40s                              | 79.25            | 159429          |</pre>"
      ],
      "text/plain": [
       "| 3m 40s                              | 79.25            | 159429          |"
      ]
     },
     "metadata": {},
     "output_type": "display_data"
    },
    {
     "data": {
      "text/html": [
       "<pre>| 3m 41s                              | 79.25            | 159609          |</pre>"
      ],
      "text/plain": [
       "| 3m 41s                              | 79.25            | 159609          |"
      ]
     },
     "metadata": {},
     "output_type": "display_data"
    },
    {
     "data": {
      "text/html": [
       "<pre>| 3m 42s                              | 79.25            | 159728          |</pre>"
      ],
      "text/plain": [
       "| 3m 42s                              | 79.25            | 159728          |"
      ]
     },
     "metadata": {},
     "output_type": "display_data"
    },
    {
     "data": {
      "text/html": [
       "<pre>| 3m 43s                              | 79.5             | 159881          |</pre>"
      ],
      "text/plain": [
       "| 3m 43s                              | 79.5             | 159881          |"
      ]
     },
     "metadata": {},
     "output_type": "display_data"
    },
    {
     "data": {
      "text/html": [
       "<pre>| 3m 44s                              | 79.5             | 159992          |</pre>"
      ],
      "text/plain": [
       "| 3m 44s                              | 79.5             | 159992          |"
      ]
     },
     "metadata": {},
     "output_type": "display_data"
    },
    {
     "data": {
      "text/html": [
       "<pre>| 3m 45s                              | 79.75            | 160268          |</pre>"
      ],
      "text/plain": [
       "| 3m 45s                              | 79.75            | 160268          |"
      ]
     },
     "metadata": {},
     "output_type": "display_data"
    },
    {
     "data": {
      "text/html": [
       "<pre>| 3m 46s                              | 79.75            | 160360          |</pre>"
      ],
      "text/plain": [
       "| 3m 46s                              | 79.75            | 160360          |"
      ]
     },
     "metadata": {},
     "output_type": "display_data"
    },
    {
     "data": {
      "text/html": [
       "<pre>| 3m 47s                              | 79.75            | 160463          |</pre>"
      ],
      "text/plain": [
       "| 3m 47s                              | 79.75            | 160463          |"
      ]
     },
     "metadata": {},
     "output_type": "display_data"
    },
    {
     "data": {
      "text/html": [
       "<pre>| 3m 48s                              | 79.75            | 160545          |</pre>"
      ],
      "text/plain": [
       "| 3m 48s                              | 79.75            | 160545          |"
      ]
     },
     "metadata": {},
     "output_type": "display_data"
    },
    {
     "data": {
      "text/html": [
       "<pre>| 3m 49s                              | 80               | 160750          |</pre>"
      ],
      "text/plain": [
       "| 3m 49s                              | 80               | 160750          |"
      ]
     },
     "metadata": {},
     "output_type": "display_data"
    },
    {
     "data": {
      "text/html": [
       "<pre>| 3m 50s                              | 80               | 160857          |</pre>"
      ],
      "text/plain": [
       "| 3m 50s                              | 80               | 160857          |"
      ]
     },
     "metadata": {},
     "output_type": "display_data"
    },
    {
     "data": {
      "text/html": [
       "<pre>| 3m 51s                              | 82               | 164945          |</pre>"
      ],
      "text/plain": [
       "| 3m 51s                              | 82               | 164945          |"
      ]
     },
     "metadata": {},
     "output_type": "display_data"
    },
    {
     "data": {
      "text/html": [
       "<pre>| 3m 52s                              | 82               | 165061          |</pre>"
      ],
      "text/plain": [
       "| 3m 52s                              | 82               | 165061          |"
      ]
     },
     "metadata": {},
     "output_type": "display_data"
    },
    {
     "data": {
      "text/html": [
       "<pre>| 3m 53s                              | 82               | 165171          |</pre>"
      ],
      "text/plain": [
       "| 3m 53s                              | 82               | 165171          |"
      ]
     },
     "metadata": {},
     "output_type": "display_data"
    },
    {
     "data": {
      "text/html": [
       "<pre>| 3m 54s                              | 82.25            | 165281          |</pre>"
      ],
      "text/plain": [
       "| 3m 54s                              | 82.25            | 165281          |"
      ]
     },
     "metadata": {},
     "output_type": "display_data"
    },
    {
     "data": {
      "text/html": [
       "<pre>| 3m 55s                              | 82.25            | 165380          |</pre>"
      ],
      "text/plain": [
       "| 3m 55s                              | 82.25            | 165380          |"
      ]
     },
     "metadata": {},
     "output_type": "display_data"
    },
    {
     "data": {
      "text/html": [
       "<pre>| 3m 56s                              | 82.25            | 165482          |</pre>"
      ],
      "text/plain": [
       "| 3m 56s                              | 82.25            | 165482          |"
      ]
     },
     "metadata": {},
     "output_type": "display_data"
    },
    {
     "data": {
      "text/html": [
       "<pre>| 3m 57s                              | 82.25            | 165576          |</pre>"
      ],
      "text/plain": [
       "| 3m 57s                              | 82.25            | 165576          |"
      ]
     },
     "metadata": {},
     "output_type": "display_data"
    },
    {
     "data": {
      "text/html": [
       "<pre>| 3m 58s                              | 82.25            | 165674          |</pre>"
      ],
      "text/plain": [
       "| 3m 58s                              | 82.25            | 165674          |"
      ]
     },
     "metadata": {},
     "output_type": "display_data"
    },
    {
     "data": {
      "text/html": [
       "<pre>| 3m 59s                              | 82.5             | 165776          |</pre>"
      ],
      "text/plain": [
       "| 3m 59s                              | 82.5             | 165776          |"
      ]
     },
     "metadata": {},
     "output_type": "display_data"
    },
    {
     "data": {
      "text/html": [
       "<pre>| 4m 0s                               | 82.5             | 165863          |</pre>"
      ],
      "text/plain": [
       "| 4m 0s                               | 82.5             | 165863          |"
      ]
     },
     "metadata": {},
     "output_type": "display_data"
    },
    {
     "data": {
      "text/html": [
       "<pre>| 4m 1s                               | 82.5             | 165978          |</pre>"
      ],
      "text/plain": [
       "| 4m 1s                               | 82.5             | 165978          |"
      ]
     },
     "metadata": {},
     "output_type": "display_data"
    },
    {
     "data": {
      "text/html": [
       "<pre>| 4m 2s                               | 82.5             | 166102          |</pre>"
      ],
      "text/plain": [
       "| 4m 2s                               | 82.5             | 166102          |"
      ]
     },
     "metadata": {},
     "output_type": "display_data"
    },
    {
     "data": {
      "text/html": [
       "<pre>| 4m 3s                               | 82.5             | 166215          |</pre>"
      ],
      "text/plain": [
       "| 4m 3s                               | 82.5             | 166215          |"
      ]
     },
     "metadata": {},
     "output_type": "display_data"
    },
    {
     "data": {
      "text/html": [
       "<pre>| 4m 4s                               | 82.75            | 166338          |</pre>"
      ],
      "text/plain": [
       "| 4m 4s                               | 82.75            | 166338          |"
      ]
     },
     "metadata": {},
     "output_type": "display_data"
    },
    {
     "data": {
      "text/html": [
       "<pre>| 4m 5s                               | 82.75            | 166463          |</pre>"
      ],
      "text/plain": [
       "| 4m 5s                               | 82.75            | 166463          |"
      ]
     },
     "metadata": {},
     "output_type": "display_data"
    },
    {
     "data": {
      "text/html": [
       "<pre>| 4m 6s                               | 82.75            | 166584          |</pre>"
      ],
      "text/plain": [
       "| 4m 6s                               | 82.75            | 166584          |"
      ]
     },
     "metadata": {},
     "output_type": "display_data"
    },
    {
     "data": {
      "text/html": [
       "<pre>| 4m 7s                               | 82.75            | 166702          |</pre>"
      ],
      "text/plain": [
       "| 4m 7s                               | 82.75            | 166702          |"
      ]
     },
     "metadata": {},
     "output_type": "display_data"
    },
    {
     "data": {
      "text/html": [
       "<pre>| 4m 8s                               | 83               | 166853          |</pre>"
      ],
      "text/plain": [
       "| 4m 8s                               | 83               | 166853          |"
      ]
     },
     "metadata": {},
     "output_type": "display_data"
    },
    {
     "data": {
      "text/html": [
       "<pre>| 4m 9s                               | 83               | 167004          |</pre>"
      ],
      "text/plain": [
       "| 4m 9s                               | 83               | 167004          |"
      ]
     },
     "metadata": {},
     "output_type": "display_data"
    },
    {
     "data": {
      "text/html": [
       "<pre>| 4m 10s                              | 83               | 167124          |</pre>"
      ],
      "text/plain": [
       "| 4m 10s                              | 83               | 167124          |"
      ]
     },
     "metadata": {},
     "output_type": "display_data"
    },
    {
     "data": {
      "text/html": [
       "<pre>| 4m 11s                              | 83               | 167251          |</pre>"
      ],
      "text/plain": [
       "| 4m 11s                              | 83               | 167251          |"
      ]
     },
     "metadata": {},
     "output_type": "display_data"
    },
    {
     "data": {
      "text/html": [
       "<pre>| 4m 12s                              | 83.25            | 167385          |</pre>"
      ],
      "text/plain": [
       "| 4m 12s                              | 83.25            | 167385          |"
      ]
     },
     "metadata": {},
     "output_type": "display_data"
    },
    {
     "data": {
      "text/html": [
       "<pre>| 4m 13s                              | 83.25            | 167489          |</pre>"
      ],
      "text/plain": [
       "| 4m 13s                              | 83.25            | 167489          |"
      ]
     },
     "metadata": {},
     "output_type": "display_data"
    },
    {
     "data": {
      "text/html": [
       "<pre>| 4m 14s                              | 83.25            | 167587          |</pre>"
      ],
      "text/plain": [
       "| 4m 14s                              | 83.25            | 167587          |"
      ]
     },
     "metadata": {},
     "output_type": "display_data"
    },
    {
     "data": {
      "text/html": [
       "<pre>| 4m 15s                              | 83.25            | 167668          |</pre>"
      ],
      "text/plain": [
       "| 4m 15s                              | 83.25            | 167668          |"
      ]
     },
     "metadata": {},
     "output_type": "display_data"
    },
    {
     "data": {
      "text/html": [
       "<pre>| 4m 16s                              | 83.25            | 167757          |</pre>"
      ],
      "text/plain": [
       "| 4m 16s                              | 83.25            | 167757          |"
      ]
     },
     "metadata": {},
     "output_type": "display_data"
    },
    {
     "data": {
      "text/html": [
       "<pre>| 4m 17s                              | 83.5             | 167882          |</pre>"
      ],
      "text/plain": [
       "| 4m 17s                              | 83.5             | 167882          |"
      ]
     },
     "metadata": {},
     "output_type": "display_data"
    },
    {
     "data": {
      "text/html": [
       "<pre>| 4m 18s                              | 83.5             | 167992          |</pre>"
      ],
      "text/plain": [
       "| 4m 18s                              | 83.5             | 167992          |"
      ]
     },
     "metadata": {},
     "output_type": "display_data"
    },
    {
     "data": {
      "text/html": [
       "<pre>| 4m 19s                              | 83.5             | 168130          |</pre>"
      ],
      "text/plain": [
       "| 4m 19s                              | 83.5             | 168130          |"
      ]
     },
     "metadata": {},
     "output_type": "display_data"
    },
    {
     "data": {
      "text/html": [
       "<pre>| 4m 20s                              | 83.5             | 168279          |</pre>"
      ],
      "text/plain": [
       "| 4m 20s                              | 83.5             | 168279          |"
      ]
     },
     "metadata": {},
     "output_type": "display_data"
    },
    {
     "data": {
      "text/html": [
       "<pre>| 4m 21s                              | 83.75            | 168443          |</pre>"
      ],
      "text/plain": [
       "| 4m 21s                              | 83.75            | 168443          |"
      ]
     },
     "metadata": {},
     "output_type": "display_data"
    },
    {
     "data": {
      "text/html": [
       "<pre>| 4m 22s                              | 83.75            | 168581          |</pre>"
      ],
      "text/plain": [
       "| 4m 22s                              | 83.75            | 168581          |"
      ]
     },
     "metadata": {},
     "output_type": "display_data"
    },
    {
     "data": {
      "text/html": [
       "<pre>| 4m 23s                              | 83.75            | 168727          |</pre>"
      ],
      "text/plain": [
       "| 4m 23s                              | 83.75            | 168727          |"
      ]
     },
     "metadata": {},
     "output_type": "display_data"
    },
    {
     "data": {
      "text/html": [
       "<pre>| 4m 24s                              | 84               | 168908          |</pre>"
      ],
      "text/plain": [
       "| 4m 24s                              | 84               | 168908          |"
      ]
     },
     "metadata": {},
     "output_type": "display_data"
    },
    {
     "data": {
      "text/html": [
       "<pre>| 4m 25s                              | 84               | 169086          |</pre>"
      ],
      "text/plain": [
       "| 4m 25s                              | 84               | 169086          |"
      ]
     },
     "metadata": {},
     "output_type": "display_data"
    },
    {
     "data": {
      "text/html": [
       "<pre>| 4m 26s                              | 84.25            | 169346          |</pre>"
      ],
      "text/plain": [
       "| 4m 26s                              | 84.25            | 169346          |"
      ]
     },
     "metadata": {},
     "output_type": "display_data"
    },
    {
     "data": {
      "text/html": [
       "<pre>| 4m 27s                              | 84.25            | 169747          |</pre>"
      ],
      "text/plain": [
       "| 4m 27s                              | 84.25            | 169747          |"
      ]
     },
     "metadata": {},
     "output_type": "display_data"
    },
    {
     "data": {
      "text/html": [
       "<pre>| 4m 41s                              | 84.25            | 169777          |</pre>"
      ],
      "text/plain": [
       "| 4m 41s                              | 84.25            | 169777          |"
      ]
     },
     "metadata": {},
     "output_type": "display_data"
    },
    {
     "data": {
      "text/html": [
       "<pre>| 4m 43s                              | 84.5             | 169873          |</pre>"
      ],
      "text/plain": [
       "| 4m 43s                              | 84.5             | 169873          |"
      ]
     },
     "metadata": {},
     "output_type": "display_data"
    },
    {
     "data": {
      "text/html": [
       "<pre>| 4m 50s                              | 84.75            | 170502          |</pre>"
      ],
      "text/plain": [
       "| 4m 50s                              | 84.75            | 170502          |"
      ]
     },
     "metadata": {},
     "output_type": "display_data"
    },
    {
     "data": {
      "text/html": [
       "<pre>| 4m 52s                              | 85               | 170814          |</pre>"
      ],
      "text/plain": [
       "| 4m 52s                              | 85               | 170814          |"
      ]
     },
     "metadata": {},
     "output_type": "display_data"
    },
    {
     "data": {
      "text/html": [
       "<pre>| 4m 53s                              | 85               | 170867          |</pre>"
      ],
      "text/plain": [
       "| 4m 53s                              | 85               | 170867          |"
      ]
     },
     "metadata": {},
     "output_type": "display_data"
    },
    {
     "data": {
      "text/html": [
       "<pre>| 4m 54s                              | 85               | 170995          |</pre>"
      ],
      "text/plain": [
       "| 4m 54s                              | 85               | 170995          |"
      ]
     },
     "metadata": {},
     "output_type": "display_data"
    },
    {
     "data": {
      "text/html": [
       "<pre>| 4m 55s                              | 85               | 171099          |</pre>"
      ],
      "text/plain": [
       "| 4m 55s                              | 85               | 171099          |"
      ]
     },
     "metadata": {},
     "output_type": "display_data"
    },
    {
     "data": {
      "text/html": [
       "<pre>| 4m 56s                              | 85.25            | 171313          |</pre>"
      ],
      "text/plain": [
       "| 4m 56s                              | 85.25            | 171313          |"
      ]
     },
     "metadata": {},
     "output_type": "display_data"
    },
    {
     "data": {
      "text/html": [
       "<pre>| 4m 57s                              | 85.25            | 171401          |</pre>"
      ],
      "text/plain": [
       "| 4m 57s                              | 85.25            | 171401          |"
      ]
     },
     "metadata": {},
     "output_type": "display_data"
    },
    {
     "data": {
      "text/html": [
       "<pre>| 4m 58s                              | 85.75            | 172651          |</pre>"
      ],
      "text/plain": [
       "| 4m 58s                              | 85.75            | 172651          |"
      ]
     },
     "metadata": {},
     "output_type": "display_data"
    },
    {
     "data": {
      "text/html": [
       "<pre>| 4m 59s                              | 85.75            | 172651          |</pre>"
      ],
      "text/plain": [
       "| 4m 59s                              | 85.75            | 172651          |"
      ]
     },
     "metadata": {},
     "output_type": "display_data"
    },
    {
     "data": {
      "text/html": [
       "<pre>| 5m 0s                               | 85.75            | 172732          |</pre>"
      ],
      "text/plain": [
       "| 5m 0s                               | 85.75            | 172732          |"
      ]
     },
     "metadata": {},
     "output_type": "display_data"
    },
    {
     "data": {
      "text/html": [
       "<pre>| 5m 2s                               | 86               | 172859          |</pre>"
      ],
      "text/plain": [
       "| 5m 2s                               | 86               | 172859          |"
      ]
     },
     "metadata": {},
     "output_type": "display_data"
    },
    {
     "data": {
      "text/html": [
       "<pre>| 5m 6s                               | 86               | 173169          |</pre>"
      ],
      "text/plain": [
       "| 5m 6s                               | 86               | 173169          |"
      ]
     },
     "metadata": {},
     "output_type": "display_data"
    },
    {
     "data": {
      "text/html": [
       "<pre>| 5m 11s                              | 86.25            | 173520          |</pre>"
      ],
      "text/plain": [
       "| 5m 11s                              | 86.25            | 173520          |"
      ]
     },
     "metadata": {},
     "output_type": "display_data"
    },
    {
     "data": {
      "text/html": [
       "<pre>| 5m 12s                              | 86.5             | 174211          |</pre>"
      ],
      "text/plain": [
       "| 5m 12s                              | 86.5             | 174211          |"
      ]
     },
     "metadata": {},
     "output_type": "display_data"
    },
    {
     "data": {
      "text/html": [
       "<pre>| 5m 14s                              | 86.75            | 174331          |</pre>"
      ],
      "text/plain": [
       "| 5m 14s                              | 86.75            | 174331          |"
      ]
     },
     "metadata": {},
     "output_type": "display_data"
    },
    {
     "data": {
      "text/html": [
       "<pre>| 5m 14s                              | 86.75            | 174358          |</pre>"
      ],
      "text/plain": [
       "| 5m 14s                              | 86.75            | 174358          |"
      ]
     },
     "metadata": {},
     "output_type": "display_data"
    },
    {
     "data": {
      "text/html": [
       "<pre>| 5m 16s                              | 86.75            | 174498          |</pre>"
      ],
      "text/plain": [
       "| 5m 16s                              | 86.75            | 174498          |"
      ]
     },
     "metadata": {},
     "output_type": "display_data"
    },
    {
     "data": {
      "text/html": [
       "<pre>| 5m 16s                              | 86.75            | 174534          |</pre>"
      ],
      "text/plain": [
       "| 5m 16s                              | 86.75            | 174534          |"
      ]
     },
     "metadata": {},
     "output_type": "display_data"
    },
    {
     "data": {
      "text/html": [
       "<pre>| 5m 20s                              | 87               | 175228          |</pre>"
      ],
      "text/plain": [
       "| 5m 20s                              | 87               | 175228          |"
      ]
     },
     "metadata": {},
     "output_type": "display_data"
    },
    {
     "data": {
      "text/html": [
       "<pre>| 5m 21s                              | 87.25            | 175320          |</pre>"
      ],
      "text/plain": [
       "| 5m 21s                              | 87.25            | 175320          |"
      ]
     },
     "metadata": {},
     "output_type": "display_data"
    },
    {
     "data": {
      "text/html": [
       "<pre>| 5m 22s                              | 87.25            | 175397          |</pre>"
      ],
      "text/plain": [
       "| 5m 22s                              | 87.25            | 175397          |"
      ]
     },
     "metadata": {},
     "output_type": "display_data"
    },
    {
     "data": {
      "text/html": [
       "<pre>| 5m 23s                              | 87.25            | 175407          |</pre>"
      ],
      "text/plain": [
       "| 5m 23s                              | 87.25            | 175407          |"
      ]
     },
     "metadata": {},
     "output_type": "display_data"
    },
    {
     "data": {
      "text/html": [
       "<pre>| 5m 24s                              | 87.25            | 175513          |</pre>"
      ],
      "text/plain": [
       "| 5m 24s                              | 87.25            | 175513          |"
      ]
     },
     "metadata": {},
     "output_type": "display_data"
    },
    {
     "data": {
      "text/html": [
       "<pre>| 5m 26s                              | 87.5             | 175928          |</pre>"
      ],
      "text/plain": [
       "| 5m 26s                              | 87.5             | 175928          |"
      ]
     },
     "metadata": {},
     "output_type": "display_data"
    },
    {
     "data": {
      "text/html": [
       "<pre>| 5m 26s                              | 87.5             | 175962          |</pre>"
      ],
      "text/plain": [
       "| 5m 26s                              | 87.5             | 175962          |"
      ]
     },
     "metadata": {},
     "output_type": "display_data"
    },
    {
     "data": {
      "text/html": [
       "<pre>| 5m 29s                              | 87.5             | 176129          |</pre>"
      ],
      "text/plain": [
       "| 5m 29s                              | 87.5             | 176129          |"
      ]
     },
     "metadata": {},
     "output_type": "display_data"
    },
    {
     "data": {
      "text/html": [
       "<pre>| 5m 31s                              | 87.75            | 176428          |</pre>"
      ],
      "text/plain": [
       "| 5m 31s                              | 87.75            | 176428          |"
      ]
     },
     "metadata": {},
     "output_type": "display_data"
    },
    {
     "data": {
      "text/html": [
       "<pre>| 5m 31s                              | 87.75            | 176480          |</pre>"
      ],
      "text/plain": [
       "| 5m 31s                              | 87.75            | 176480          |"
      ]
     },
     "metadata": {},
     "output_type": "display_data"
    },
    {
     "data": {
      "text/html": [
       "<pre>| 5m 33s                              | 87.75            | 176595          |</pre>"
      ],
      "text/plain": [
       "| 5m 33s                              | 87.75            | 176595          |"
      ]
     },
     "metadata": {},
     "output_type": "display_data"
    },
    {
     "data": {
      "text/html": [
       "<pre>| 5m 33s                              | 87.75            | 176616          |</pre>"
      ],
      "text/plain": [
       "| 5m 33s                              | 87.75            | 176616          |"
      ]
     },
     "metadata": {},
     "output_type": "display_data"
    },
    {
     "data": {
      "text/html": [
       "<pre>| 5m 35s                              | 88               | 177044          |</pre>"
      ],
      "text/plain": [
       "| 5m 35s                              | 88               | 177044          |"
      ]
     },
     "metadata": {},
     "output_type": "display_data"
    },
    {
     "data": {
      "text/html": [
       "<pre>| 5m 39s                              | 88.25            | 177516          |</pre>"
      ],
      "text/plain": [
       "| 5m 39s                              | 88.25            | 177516          |"
      ]
     },
     "metadata": {},
     "output_type": "display_data"
    },
    {
     "data": {
      "text/html": [
       "<pre>| 5m 44s                              | 90.5             | 181989          |</pre>"
      ],
      "text/plain": [
       "| 5m 44s                              | 90.5             | 181989          |"
      ]
     },
     "metadata": {},
     "output_type": "display_data"
    },
    {
     "data": {
      "text/html": [
       "<pre>| 5m 53s                              | 90.75            | 182532          |</pre>"
      ],
      "text/plain": [
       "| 5m 53s                              | 90.75            | 182532          |"
      ]
     },
     "metadata": {},
     "output_type": "display_data"
    },
    {
     "data": {
      "text/html": [
       "<pre>| 5m 56s                              | 90.75            | 182680          |</pre>"
      ],
      "text/plain": [
       "| 5m 56s                              | 90.75            | 182680          |"
      ]
     },
     "metadata": {},
     "output_type": "display_data"
    },
    {
     "data": {
      "text/html": [
       "<pre>| 5m 59s                              | 90.75            | 182849          |</pre>"
      ],
      "text/plain": [
       "| 5m 59s                              | 90.75            | 182849          |"
      ]
     },
     "metadata": {},
     "output_type": "display_data"
    },
    {
     "data": {
      "text/html": [
       "<pre>| 6m 1s                               | 91               | 182977          |</pre>"
      ],
      "text/plain": [
       "| 6m 1s                               | 91               | 182977          |"
      ]
     },
     "metadata": {},
     "output_type": "display_data"
    },
    {
     "data": {
      "text/html": [
       "<pre>| 6m 4s                               | 91               | 183223          |</pre>"
      ],
      "text/plain": [
       "| 6m 4s                               | 91               | 183223          |"
      ]
     },
     "metadata": {},
     "output_type": "display_data"
    },
    {
     "data": {
      "text/html": [
       "<pre>| 6m 5s                               | 91               | 183277          |</pre>"
      ],
      "text/plain": [
       "| 6m 5s                               | 91               | 183277          |"
      ]
     },
     "metadata": {},
     "output_type": "display_data"
    },
    {
     "data": {
      "text/html": [
       "<pre>| 6m 7s                               | 91.25            | 183378          |</pre>"
      ],
      "text/plain": [
       "| 6m 7s                               | 91.25            | 183378          |"
      ]
     },
     "metadata": {},
     "output_type": "display_data"
    },
    {
     "data": {
      "text/html": [
       "<pre>| 6m 7s                               | 91.25            | 183412          |</pre>"
      ],
      "text/plain": [
       "| 6m 7s                               | 91.25            | 183412          |"
      ]
     },
     "metadata": {},
     "output_type": "display_data"
    },
    {
     "data": {
      "text/html": [
       "<pre>| 6m 10s                              | 91.25            | 183549          |</pre>"
      ],
      "text/plain": [
       "| 6m 10s                              | 91.25            | 183549          |"
      ]
     },
     "metadata": {},
     "output_type": "display_data"
    },
    {
     "data": {
      "text/html": [
       "<pre>| 6m 11s                              | 91.25            | 183630          |</pre>"
      ],
      "text/plain": [
       "| 6m 11s                              | 91.25            | 183630          |"
      ]
     },
     "metadata": {},
     "output_type": "display_data"
    },
    {
     "data": {
      "text/html": [
       "<pre>| 6m 13s                              | 91.25            | 183803          |</pre>"
      ],
      "text/plain": [
       "| 6m 13s                              | 91.25            | 183803          |"
      ]
     },
     "metadata": {},
     "output_type": "display_data"
    },
    {
     "data": {
      "text/html": [
       "<pre>| 6m 15s                              | 91.5             | 183904          |</pre>"
      ],
      "text/plain": [
       "| 6m 15s                              | 91.5             | 183904          |"
      ]
     },
     "metadata": {},
     "output_type": "display_data"
    },
    {
     "data": {
      "text/html": [
       "<pre>| 6m 16s                              | 91.5             | 183961          |</pre>"
      ],
      "text/plain": [
       "| 6m 16s                              | 91.5             | 183961          |"
      ]
     },
     "metadata": {},
     "output_type": "display_data"
    },
    {
     "data": {
      "text/html": [
       "<pre>| 6m 17s                              | 91.5             | 184039          |</pre>"
      ],
      "text/plain": [
       "| 6m 17s                              | 91.5             | 184039          |"
      ]
     },
     "metadata": {},
     "output_type": "display_data"
    },
    {
     "data": {
      "text/html": [
       "<pre>| 6m 19s                              | 91.5             | 184099          |</pre>"
      ],
      "text/plain": [
       "| 6m 19s                              | 91.5             | 184099          |"
      ]
     },
     "metadata": {},
     "output_type": "display_data"
    },
    {
     "data": {
      "text/html": [
       "<pre>| 6m 21s                              | 91.5             | 184247          |</pre>"
      ],
      "text/plain": [
       "| 6m 21s                              | 91.5             | 184247          |"
      ]
     },
     "metadata": {},
     "output_type": "display_data"
    },
    {
     "data": {
      "text/html": [
       "<pre>| 6m 22s                              | 91.75            | 184367          |</pre>"
      ],
      "text/plain": [
       "| 6m 22s                              | 91.75            | 184367          |"
      ]
     },
     "metadata": {},
     "output_type": "display_data"
    },
    {
     "data": {
      "text/html": [
       "<pre>| 6m 23s                              | 91.75            | 184413          |</pre>"
      ],
      "text/plain": [
       "| 6m 23s                              | 91.75            | 184413          |"
      ]
     },
     "metadata": {},
     "output_type": "display_data"
    },
    {
     "data": {
      "text/html": [
       "<pre>| 6m 24s                              | 91.75            | 184468          |</pre>"
      ],
      "text/plain": [
       "| 6m 24s                              | 91.75            | 184468          |"
      ]
     },
     "metadata": {},
     "output_type": "display_data"
    },
    {
     "data": {
      "text/html": [
       "<pre>| 6m 25s                              | 91.75            | 184541          |</pre>"
      ],
      "text/plain": [
       "| 6m 25s                              | 91.75            | 184541          |"
      ]
     },
     "metadata": {},
     "output_type": "display_data"
    },
    {
     "data": {
      "text/html": [
       "<pre>| 6m 26s                              | 91.75            | 184639          |</pre>"
      ],
      "text/plain": [
       "| 6m 26s                              | 91.75            | 184639          |"
      ]
     },
     "metadata": {},
     "output_type": "display_data"
    },
    {
     "data": {
      "text/html": [
       "<pre>| 6m 27s                              | 91.75            | 184686          |</pre>"
      ],
      "text/plain": [
       "| 6m 27s                              | 91.75            | 184686          |"
      ]
     },
     "metadata": {},
     "output_type": "display_data"
    },
    {
     "data": {
      "text/html": [
       "<pre>| 6m 28s                              | 92.5             | 186365          |</pre>"
      ],
      "text/plain": [
       "| 6m 28s                              | 92.5             | 186365          |"
      ]
     },
     "metadata": {},
     "output_type": "display_data"
    },
    {
     "data": {
      "text/html": [
       "<pre>| 6m 43s                              | 92.5             | 186365          |</pre>"
      ],
      "text/plain": [
       "| 6m 43s                              | 92.5             | 186365          |"
      ]
     },
     "metadata": {},
     "output_type": "display_data"
    },
    {
     "data": {
      "text/html": [
       "<pre>| 6m 49s                              | 93.5             | 188264          |</pre>"
      ],
      "text/plain": [
       "| 6m 49s                              | 93.5             | 188264          |"
      ]
     },
     "metadata": {},
     "output_type": "display_data"
    },
    {
     "data": {
      "text/html": [
       "<pre>| 6m 50s                              | 93.5             | 188331          |</pre>"
      ],
      "text/plain": [
       "| 6m 50s                              | 93.5             | 188331          |"
      ]
     },
     "metadata": {},
     "output_type": "display_data"
    },
    {
     "data": {
      "text/html": [
       "<pre>| 6m 51s                              | 93.75            | 188391          |</pre>"
      ],
      "text/plain": [
       "| 6m 51s                              | 93.75            | 188391          |"
      ]
     },
     "metadata": {},
     "output_type": "display_data"
    },
    {
     "data": {
      "text/html": [
       "<pre>| 7m 2s                               | 94               | 189273          |</pre>"
      ],
      "text/plain": [
       "| 7m 2s                               | 94               | 189273          |"
      ]
     },
     "metadata": {},
     "output_type": "display_data"
    },
    {
     "data": {
      "text/html": [
       "<pre>| 7m 7s                               | 94.5             | 189886          |</pre>"
      ],
      "text/plain": [
       "| 7m 7s                               | 94.5             | 189886          |"
      ]
     },
     "metadata": {},
     "output_type": "display_data"
    },
    {
     "data": {
      "text/html": [
       "<pre>| 7m 10s                              | 94.75            | 190579          |</pre>"
      ],
      "text/plain": [
       "| 7m 10s                              | 94.75            | 190579          |"
      ]
     },
     "metadata": {},
     "output_type": "display_data"
    },
    {
     "data": {
      "text/html": [
       "<pre>| 7m 14s                              | 95               | 190900          |</pre>"
      ],
      "text/plain": [
       "| 7m 14s                              | 95               | 190900          |"
      ]
     },
     "metadata": {},
     "output_type": "display_data"
    },
    {
     "data": {
      "text/html": [
       "<pre>| 7m 16s                              | 95               | 191063          |</pre>"
      ],
      "text/plain": [
       "| 7m 16s                              | 95               | 191063          |"
      ]
     },
     "metadata": {},
     "output_type": "display_data"
    },
    {
     "data": {
      "text/html": [
       "<pre>| 7m 16s                              | 95               | 191072          |</pre>"
      ],
      "text/plain": [
       "| 7m 16s                              | 95               | 191072          |"
      ]
     },
     "metadata": {},
     "output_type": "display_data"
    },
    {
     "data": {
      "text/html": [
       "<pre>| 7m 17s                              | 95               | 191157          |</pre>"
      ],
      "text/plain": [
       "| 7m 17s                              | 95               | 191157          |"
      ]
     },
     "metadata": {},
     "output_type": "display_data"
    },
    {
     "data": {
      "text/html": [
       "<pre>| 7m 20s                              | 95.25            | 191486          |</pre>"
      ],
      "text/plain": [
       "| 7m 20s                              | 95.25            | 191486          |"
      ]
     },
     "metadata": {},
     "output_type": "display_data"
    },
    {
     "data": {
      "text/html": [
       "<pre>| 7m 22s                              | 95.25            | 191684          |</pre>"
      ],
      "text/plain": [
       "| 7m 22s                              | 95.25            | 191684          |"
      ]
     },
     "metadata": {},
     "output_type": "display_data"
    },
    {
     "data": {
      "text/html": [
       "<pre>| 7m 22s                              | 95.25            | 191712          |</pre>"
      ],
      "text/plain": [
       "| 7m 22s                              | 95.25            | 191712          |"
      ]
     },
     "metadata": {},
     "output_type": "display_data"
    },
    {
     "data": {
      "text/html": [
       "<pre>| 7m 26s                              | 95.5             | 192086          |</pre>"
      ],
      "text/plain": [
       "| 7m 26s                              | 95.5             | 192086          |"
      ]
     },
     "metadata": {},
     "output_type": "display_data"
    },
    {
     "data": {
      "text/html": [
       "<pre>| 7m 27s                              | 95.5             | 192313          |</pre>"
      ],
      "text/plain": [
       "| 7m 27s                              | 95.5             | 192313          |"
      ]
     },
     "metadata": {},
     "output_type": "display_data"
    },
    {
     "data": {
      "text/html": [
       "<pre>| 7m 28s                              | 95.5             | 192321          |</pre>"
      ],
      "text/plain": [
       "| 7m 28s                              | 95.5             | 192321          |"
      ]
     },
     "metadata": {},
     "output_type": "display_data"
    },
    {
     "data": {
      "text/html": [
       "<pre>| 7m 30s                              | 95.75            | 192615          |</pre>"
      ],
      "text/plain": [
       "| 7m 30s                              | 95.75            | 192615          |"
      ]
     },
     "metadata": {},
     "output_type": "display_data"
    },
    {
     "data": {
      "text/html": [
       "<pre>| 7m 31s                              | 95.75            | 192738          |</pre>"
      ],
      "text/plain": [
       "| 7m 31s                              | 95.75            | 192738          |"
      ]
     },
     "metadata": {},
     "output_type": "display_data"
    },
    {
     "data": {
      "text/html": [
       "<pre>| 7m 41s                              | 96.5             | 193917          |</pre>"
      ],
      "text/plain": [
       "| 7m 41s                              | 96.5             | 193917          |"
      ]
     },
     "metadata": {},
     "output_type": "display_data"
    },
    {
     "data": {
      "text/html": [
       "<pre>| 8m 30s                              | 98.75            | 198574          |</pre>"
      ],
      "text/plain": [
       "| 8m 30s                              | 98.75            | 198574          |"
      ]
     },
     "metadata": {},
     "output_type": "display_data"
    },
    {
     "data": {
      "text/html": [
       "<pre>| 8m 40s                              | 99               | 199198          |</pre>"
      ],
      "text/plain": [
       "| 8m 40s                              | 99               | 199198          |"
      ]
     },
     "metadata": {},
     "output_type": "display_data"
    },
    {
     "data": {
      "text/html": [
       "<pre>| 8m 42s                              | 99               | 199235          |</pre>"
      ],
      "text/plain": [
       "| 8m 42s                              | 99               | 199235          |"
      ]
     },
     "metadata": {},
     "output_type": "display_data"
    },
    {
     "data": {
      "text/html": [
       "<pre>| 8m 42s                              | 99               | 199252          |</pre>"
      ],
      "text/plain": [
       "| 8m 42s                              | 99               | 199252          |"
      ]
     },
     "metadata": {},
     "output_type": "display_data"
    },
    {
     "data": {
      "text/html": [
       "<pre>| 8m 44s                              | 99               | 199365          |</pre>"
      ],
      "text/plain": [
       "| 8m 44s                              | 99               | 199365          |"
      ]
     },
     "metadata": {},
     "output_type": "display_data"
    },
    {
     "data": {
      "text/html": [
       "<pre>| 8m 45s                              | 99               | 199383          |</pre>"
      ],
      "text/plain": [
       "| 8m 45s                              | 99               | 199383          |"
      ]
     },
     "metadata": {},
     "output_type": "display_data"
    },
    {
     "data": {
      "text/html": [
       "<pre>| 8m 46s                              | 99.25            | 199480          |</pre>"
      ],
      "text/plain": [
       "| 8m 46s                              | 99.25            | 199480          |"
      ]
     },
     "metadata": {},
     "output_type": "display_data"
    },
    {
     "data": {
      "text/html": [
       "<pre>| 8m 50s                              | 99.25            | 199625          |</pre>"
      ],
      "text/plain": [
       "| 8m 50s                              | 99.25            | 199625          |"
      ]
     },
     "metadata": {},
     "output_type": "display_data"
    },
    {
     "data": {
      "text/html": [
       "<pre>| 8m 55s                              | 99.25            | 199826          |</pre>"
      ],
      "text/plain": [
       "| 8m 55s                              | 99.25            | 199826          |"
      ]
     },
     "metadata": {},
     "output_type": "display_data"
    },
    {
     "data": {
      "text/html": [
       "<pre>| 8m 57s                              | 99.5             | 200390          |</pre>"
      ],
      "text/plain": [
       "| 8m 57s                              | 99.5             | 200390          |"
      ]
     },
     "metadata": {},
     "output_type": "display_data"
    },
    {
     "data": {
      "text/html": [
       "<pre>| 9m 20s                              | 99.5             | 200390          |</pre>"
      ],
      "text/plain": [
       "| 9m 20s                              | 99.5             | 200390          |"
      ]
     },
     "metadata": {},
     "output_type": "display_data"
    },
    {
     "data": {
      "text/html": [
       "<pre>| 9m 35s                              | 99.75            | 200879          |</pre>"
      ],
      "text/plain": [
       "| 9m 35s                              | 99.75            | 200879          |"
      ]
     },
     "metadata": {},
     "output_type": "display_data"
    },
    {
     "data": {
      "text/html": [
       "<pre>| 9m 37s                              | 99.75            | 200926          |</pre>"
      ],
      "text/plain": [
       "| 9m 37s                              | 99.75            | 200926          |"
      ]
     },
     "metadata": {},
     "output_type": "display_data"
    },
    {
     "data": {
      "text/html": [
       "<pre>| 10m 9s                              | 100              | 200936          |</pre>"
      ],
      "text/plain": [
       "| 10m 9s                              | 100              | 200936          |"
      ]
     },
     "metadata": {},
     "output_type": "display_data"
    },
    {
     "data": {
      "text/html": [
       "<pre>+-------------------------------------+------------------+-----------------+</pre>"
      ],
      "text/plain": [
       "+-------------------------------------+------------------+-----------------+"
      ]
     },
     "metadata": {},
     "output_type": "display_data"
    },
    {
     "data": {
      "text/html": [
       "<pre>Finalizing lookup tables.</pre>"
      ],
      "text/plain": [
       "Finalizing lookup tables."
      ]
     },
     "metadata": {},
     "output_type": "display_data"
    },
    {
     "data": {
      "text/html": [
       "<pre>Generating candidate set for working with new users.</pre>"
      ],
      "text/plain": [
       "Generating candidate set for working with new users."
      ]
     },
     "metadata": {},
     "output_type": "display_data"
    },
    {
     "data": {
      "text/html": [
       "<pre>Finished training in 610.903s</pre>"
      ],
      "text/plain": [
       "Finished training in 610.903s"
      ]
     },
     "metadata": {},
     "output_type": "display_data"
    }
   ],
   "source": [
    "item_model_pearson = gl.recommender.item_similarity_recommender.create(training_data, 'user_id', 'item_id',\n",
    "                                                       target = 'rating', similarity_type = 'pearson')"
   ]
  },
  {
   "cell_type": "code",
   "execution_count": 29,
   "metadata": {},
   "outputs": [
    {
     "data": {
      "text/html": [
       "<div style=\"max-height:1000px;max-width:1500px;overflow:auto;\"><table frame=\"box\" rules=\"cols\">\n",
       "    <tr>\n",
       "        <th style=\"padding-left: 1em; padding-right: 1em; text-align: center\">user_id</th>\n",
       "        <th style=\"padding-left: 1em; padding-right: 1em; text-align: center\">item_id</th>\n",
       "        <th style=\"padding-left: 1em; padding-right: 1em; text-align: center\">score</th>\n",
       "        <th style=\"padding-left: 1em; padding-right: 1em; text-align: center\">rank</th>\n",
       "    </tr>\n",
       "    <tr>\n",
       "        <td style=\"padding-left: 1em; padding-right: 1em; text-align: center; vertical-align: top\">A13AZVPEWEK1YC</td>\n",
       "        <td style=\"padding-left: 1em; padding-right: 1em; text-align: center; vertical-align: top\">000107461X</td>\n",
       "        <td style=\"padding-left: 1em; padding-right: 1em; text-align: center; vertical-align: top\">5.0</td>\n",
       "        <td style=\"padding-left: 1em; padding-right: 1em; text-align: center; vertical-align: top\">1</td>\n",
       "    </tr>\n",
       "    <tr>\n",
       "        <td style=\"padding-left: 1em; padding-right: 1em; text-align: center; vertical-align: top\">A13AZVPEWEK1YC</td>\n",
       "        <td style=\"padding-left: 1em; padding-right: 1em; text-align: center; vertical-align: top\">0000791156</td>\n",
       "        <td style=\"padding-left: 1em; padding-right: 1em; text-align: center; vertical-align: top\">5.0</td>\n",
       "        <td style=\"padding-left: 1em; padding-right: 1em; text-align: center; vertical-align: top\">2</td>\n",
       "    </tr>\n",
       "    <tr>\n",
       "        <td style=\"padding-left: 1em; padding-right: 1em; text-align: center; vertical-align: top\">A13AZVPEWEK1YC</td>\n",
       "        <td style=\"padding-left: 1em; padding-right: 1em; text-align: center; vertical-align: top\">0000143588</td>\n",
       "        <td style=\"padding-left: 1em; padding-right: 1em; text-align: center; vertical-align: top\">5.0</td>\n",
       "        <td style=\"padding-left: 1em; padding-right: 1em; text-align: center; vertical-align: top\">3</td>\n",
       "    </tr>\n",
       "    <tr>\n",
       "        <td style=\"padding-left: 1em; padding-right: 1em; text-align: center; vertical-align: top\">A13AZVPEWEK1YC</td>\n",
       "        <td style=\"padding-left: 1em; padding-right: 1em; text-align: center; vertical-align: top\">0000143529</td>\n",
       "        <td style=\"padding-left: 1em; padding-right: 1em; text-align: center; vertical-align: top\">5.0</td>\n",
       "        <td style=\"padding-left: 1em; padding-right: 1em; text-align: center; vertical-align: top\">4</td>\n",
       "    </tr>\n",
       "    <tr>\n",
       "        <td style=\"padding-left: 1em; padding-right: 1em; text-align: center; vertical-align: top\">A13AZVPEWEK1YC</td>\n",
       "        <td style=\"padding-left: 1em; padding-right: 1em; text-align: center; vertical-align: top\">0000143502</td>\n",
       "        <td style=\"padding-left: 1em; padding-right: 1em; text-align: center; vertical-align: top\">5.0</td>\n",
       "        <td style=\"padding-left: 1em; padding-right: 1em; text-align: center; vertical-align: top\">5</td>\n",
       "    </tr>\n",
       "    <tr>\n",
       "        <td style=\"padding-left: 1em; padding-right: 1em; text-align: center; vertical-align: top\">A1EQZH1RGLW6T3</td>\n",
       "        <td style=\"padding-left: 1em; padding-right: 1em; text-align: center; vertical-align: top\">000107461X</td>\n",
       "        <td style=\"padding-left: 1em; padding-right: 1em; text-align: center; vertical-align: top\">5.0</td>\n",
       "        <td style=\"padding-left: 1em; padding-right: 1em; text-align: center; vertical-align: top\">1</td>\n",
       "    </tr>\n",
       "    <tr>\n",
       "        <td style=\"padding-left: 1em; padding-right: 1em; text-align: center; vertical-align: top\">A1EQZH1RGLW6T3</td>\n",
       "        <td style=\"padding-left: 1em; padding-right: 1em; text-align: center; vertical-align: top\">0000791156</td>\n",
       "        <td style=\"padding-left: 1em; padding-right: 1em; text-align: center; vertical-align: top\">5.0</td>\n",
       "        <td style=\"padding-left: 1em; padding-right: 1em; text-align: center; vertical-align: top\">2</td>\n",
       "    </tr>\n",
       "    <tr>\n",
       "        <td style=\"padding-left: 1em; padding-right: 1em; text-align: center; vertical-align: top\">A1EQZH1RGLW6T3</td>\n",
       "        <td style=\"padding-left: 1em; padding-right: 1em; text-align: center; vertical-align: top\">0000143588</td>\n",
       "        <td style=\"padding-left: 1em; padding-right: 1em; text-align: center; vertical-align: top\">5.0</td>\n",
       "        <td style=\"padding-left: 1em; padding-right: 1em; text-align: center; vertical-align: top\">3</td>\n",
       "    </tr>\n",
       "    <tr>\n",
       "        <td style=\"padding-left: 1em; padding-right: 1em; text-align: center; vertical-align: top\">A1EQZH1RGLW6T3</td>\n",
       "        <td style=\"padding-left: 1em; padding-right: 1em; text-align: center; vertical-align: top\">0000143529</td>\n",
       "        <td style=\"padding-left: 1em; padding-right: 1em; text-align: center; vertical-align: top\">5.0</td>\n",
       "        <td style=\"padding-left: 1em; padding-right: 1em; text-align: center; vertical-align: top\">4</td>\n",
       "    </tr>\n",
       "    <tr>\n",
       "        <td style=\"padding-left: 1em; padding-right: 1em; text-align: center; vertical-align: top\">A1EQZH1RGLW6T3</td>\n",
       "        <td style=\"padding-left: 1em; padding-right: 1em; text-align: center; vertical-align: top\">0000143502</td>\n",
       "        <td style=\"padding-left: 1em; padding-right: 1em; text-align: center; vertical-align: top\">5.0</td>\n",
       "        <td style=\"padding-left: 1em; padding-right: 1em; text-align: center; vertical-align: top\">5</td>\n",
       "    </tr>\n",
       "</table>\n",
       "[2160 rows x 4 columns]<br/>Note: Only the head of the SFrame is printed.<br/>You can use print_rows(num_rows=m, num_columns=n) to print more rows and columns.\n",
       "</div>"
      ],
      "text/plain": [
       "Columns:\n",
       "\tuser_id\tstr\n",
       "\titem_id\tstr\n",
       "\tscore\tfloat\n",
       "\trank\tint\n",
       "\n",
       "Rows: 2160\n",
       "\n",
       "Data:\n",
       "+----------------+------------+-------+------+\n",
       "|    user_id     |  item_id   | score | rank |\n",
       "+----------------+------------+-------+------+\n",
       "| A13AZVPEWEK1YC | 000107461X |  5.0  |  1   |\n",
       "| A13AZVPEWEK1YC | 0000791156 |  5.0  |  2   |\n",
       "| A13AZVPEWEK1YC | 0000143588 |  5.0  |  3   |\n",
       "| A13AZVPEWEK1YC | 0000143529 |  5.0  |  4   |\n",
       "| A13AZVPEWEK1YC | 0000143502 |  5.0  |  5   |\n",
       "| A1EQZH1RGLW6T3 | 000107461X |  5.0  |  1   |\n",
       "| A1EQZH1RGLW6T3 | 0000791156 |  5.0  |  2   |\n",
       "| A1EQZH1RGLW6T3 | 0000143588 |  5.0  |  3   |\n",
       "| A1EQZH1RGLW6T3 | 0000143529 |  5.0  |  4   |\n",
       "| A1EQZH1RGLW6T3 | 0000143502 |  5.0  |  5   |\n",
       "+----------------+------------+-------+------+\n",
       "[2160 rows x 4 columns]\n",
       "Note: Only the head of the SFrame is printed.\n",
       "You can use print_rows(num_rows=m, num_columns=n) to print more rows and columns."
      ]
     },
     "execution_count": 29,
     "metadata": {},
     "output_type": "execute_result"
    }
   ],
   "source": [
    "item_model_pearson.recommend(users = validation_data['user_id'], k=5, random_seed=123)"
   ]
  },
  {
   "cell_type": "markdown",
   "metadata": {},
   "source": [
    "#### using cosine similarity"
   ]
  },
  {
   "cell_type": "code",
   "execution_count": 30,
   "metadata": {},
   "outputs": [
    {
     "data": {
      "text/html": [
       "<pre>Recsys training: model = item_similarity</pre>"
      ],
      "text/plain": [
       "Recsys training: model = item_similarity"
      ]
     },
     "metadata": {},
     "output_type": "display_data"
    },
    {
     "data": {
      "text/html": [
       "<pre>Preparing data set.</pre>"
      ],
      "text/plain": [
       "Preparing data set."
      ]
     },
     "metadata": {},
     "output_type": "display_data"
    },
    {
     "data": {
      "text/html": [
       "<pre>    Data has 4606615 observations with 2088467 users and 200936 items.</pre>"
      ],
      "text/plain": [
       "    Data has 4606615 observations with 2088467 users and 200936 items."
      ]
     },
     "metadata": {},
     "output_type": "display_data"
    },
    {
     "data": {
      "text/html": [
       "<pre>    Data prepared in: 13.1722s</pre>"
      ],
      "text/plain": [
       "    Data prepared in: 13.1722s"
      ]
     },
     "metadata": {},
     "output_type": "display_data"
    },
    {
     "data": {
      "text/html": [
       "<pre>Training model from provided data.</pre>"
      ],
      "text/plain": [
       "Training model from provided data."
      ]
     },
     "metadata": {},
     "output_type": "display_data"
    },
    {
     "data": {
      "text/html": [
       "<pre>Gathering per-item and per-user statistics.</pre>"
      ],
      "text/plain": [
       "Gathering per-item and per-user statistics."
      ]
     },
     "metadata": {},
     "output_type": "display_data"
    },
    {
     "data": {
      "text/html": [
       "<pre>+--------------------------------+------------+</pre>"
      ],
      "text/plain": [
       "+--------------------------------+------------+"
      ]
     },
     "metadata": {},
     "output_type": "display_data"
    },
    {
     "data": {
      "text/html": [
       "<pre>| Elapsed Time (Item Statistics) | % Complete |</pre>"
      ],
      "text/plain": [
       "| Elapsed Time (Item Statistics) | % Complete |"
      ]
     },
     "metadata": {},
     "output_type": "display_data"
    },
    {
     "data": {
      "text/html": [
       "<pre>+--------------------------------+------------+</pre>"
      ],
      "text/plain": [
       "+--------------------------------+------------+"
      ]
     },
     "metadata": {},
     "output_type": "display_data"
    },
    {
     "data": {
      "text/html": [
       "<pre>| 31.863ms                       | 0          |</pre>"
      ],
      "text/plain": [
       "| 31.863ms                       | 0          |"
      ]
     },
     "metadata": {},
     "output_type": "display_data"
    },
    {
     "data": {
      "text/html": [
       "<pre>| 777.831ms                      | 100        |</pre>"
      ],
      "text/plain": [
       "| 777.831ms                      | 100        |"
      ]
     },
     "metadata": {},
     "output_type": "display_data"
    },
    {
     "data": {
      "text/html": [
       "<pre>+--------------------------------+------------+</pre>"
      ],
      "text/plain": [
       "+--------------------------------+------------+"
      ]
     },
     "metadata": {},
     "output_type": "display_data"
    },
    {
     "data": {
      "text/html": [
       "<pre>Setting up lookup tables.</pre>"
      ],
      "text/plain": [
       "Setting up lookup tables."
      ]
     },
     "metadata": {},
     "output_type": "display_data"
    },
    {
     "data": {
      "text/html": [
       "<pre>Processing data in one pass using sparse lookup tables.</pre>"
      ],
      "text/plain": [
       "Processing data in one pass using sparse lookup tables."
      ]
     },
     "metadata": {},
     "output_type": "display_data"
    },
    {
     "data": {
      "text/html": [
       "<pre>+-------------------------------------+------------------+-----------------+</pre>"
      ],
      "text/plain": [
       "+-------------------------------------+------------------+-----------------+"
      ]
     },
     "metadata": {},
     "output_type": "display_data"
    },
    {
     "data": {
      "text/html": [
       "<pre>| Elapsed Time (Constructing Lookups) | Total % Complete | Items Processed |</pre>"
      ],
      "text/plain": [
       "| Elapsed Time (Constructing Lookups) | Total % Complete | Items Processed |"
      ]
     },
     "metadata": {},
     "output_type": "display_data"
    },
    {
     "data": {
      "text/html": [
       "<pre>+-------------------------------------+------------------+-----------------+</pre>"
      ],
      "text/plain": [
       "+-------------------------------------+------------------+-----------------+"
      ]
     },
     "metadata": {},
     "output_type": "display_data"
    },
    {
     "data": {
      "text/html": [
       "<pre>| 2.16s                               | 0                | 0               |</pre>"
      ],
      "text/plain": [
       "| 2.16s                               | 0                | 0               |"
      ]
     },
     "metadata": {},
     "output_type": "display_data"
    },
    {
     "data": {
      "text/html": [
       "<pre>| 3.45s                               | 3.5              | 7415            |</pre>"
      ],
      "text/plain": [
       "| 3.45s                               | 3.5              | 7415            |"
      ]
     },
     "metadata": {},
     "output_type": "display_data"
    },
    {
     "data": {
      "text/html": [
       "<pre>| 4.21s                               | 8.25             | 16937           |</pre>"
      ],
      "text/plain": [
       "| 4.21s                               | 8.25             | 16937           |"
      ]
     },
     "metadata": {},
     "output_type": "display_data"
    },
    {
     "data": {
      "text/html": [
       "<pre>| 5.55s                               | 8.75             | 17783           |</pre>"
      ],
      "text/plain": [
       "| 5.55s                               | 8.75             | 17783           |"
      ]
     },
     "metadata": {},
     "output_type": "display_data"
    },
    {
     "data": {
      "text/html": [
       "<pre>| 6.22s                               | 10.5             | 21540           |</pre>"
      ],
      "text/plain": [
       "| 6.22s                               | 10.5             | 21540           |"
      ]
     },
     "metadata": {},
     "output_type": "display_data"
    },
    {
     "data": {
      "text/html": [
       "<pre>| 7.29s                               | 14.25            | 28729           |</pre>"
      ],
      "text/plain": [
       "| 7.29s                               | 14.25            | 28729           |"
      ]
     },
     "metadata": {},
     "output_type": "display_data"
    },
    {
     "data": {
      "text/html": [
       "<pre>| 8.26s                               | 15.25            | 30864           |</pre>"
      ],
      "text/plain": [
       "| 8.26s                               | 15.25            | 30864           |"
      ]
     },
     "metadata": {},
     "output_type": "display_data"
    },
    {
     "data": {
      "text/html": [
       "<pre>| 9.27s                               | 16.25            | 33008           |</pre>"
      ],
      "text/plain": [
       "| 9.27s                               | 16.25            | 33008           |"
      ]
     },
     "metadata": {},
     "output_type": "display_data"
    },
    {
     "data": {
      "text/html": [
       "<pre>| 10.37s                              | 16.5             | 33420           |</pre>"
      ],
      "text/plain": [
       "| 10.37s                              | 16.5             | 33420           |"
      ]
     },
     "metadata": {},
     "output_type": "display_data"
    },
    {
     "data": {
      "text/html": [
       "<pre>| 11.26s                              | 17               | 34532           |</pre>"
      ],
      "text/plain": [
       "| 11.26s                              | 17               | 34532           |"
      ]
     },
     "metadata": {},
     "output_type": "display_data"
    },
    {
     "data": {
      "text/html": [
       "<pre>| 12.23s                              | 24.75            | 50168           |</pre>"
      ],
      "text/plain": [
       "| 12.23s                              | 24.75            | 50168           |"
      ]
     },
     "metadata": {},
     "output_type": "display_data"
    },
    {
     "data": {
      "text/html": [
       "<pre>| 13.32s                              | 27.5             | 55714           |</pre>"
      ],
      "text/plain": [
       "| 13.32s                              | 27.5             | 55714           |"
      ]
     },
     "metadata": {},
     "output_type": "display_data"
    },
    {
     "data": {
      "text/html": [
       "<pre>| 14.55s                              | 27.75            | 55906           |</pre>"
      ],
      "text/plain": [
       "| 14.55s                              | 27.75            | 55906           |"
      ]
     },
     "metadata": {},
     "output_type": "display_data"
    },
    {
     "data": {
      "text/html": [
       "<pre>| 15.81s                              | 27.75            | 56182           |</pre>"
      ],
      "text/plain": [
       "| 15.81s                              | 27.75            | 56182           |"
      ]
     },
     "metadata": {},
     "output_type": "display_data"
    },
    {
     "data": {
      "text/html": [
       "<pre>| 16.37s                              | 28               | 56296           |</pre>"
      ],
      "text/plain": [
       "| 16.37s                              | 28               | 56296           |"
      ]
     },
     "metadata": {},
     "output_type": "display_data"
    },
    {
     "data": {
      "text/html": [
       "<pre>| 17.38s                              | 28               | 56487           |</pre>"
      ],
      "text/plain": [
       "| 17.38s                              | 28               | 56487           |"
      ]
     },
     "metadata": {},
     "output_type": "display_data"
    },
    {
     "data": {
      "text/html": [
       "<pre>| 18.52s                              | 28.5             | 57415           |</pre>"
      ],
      "text/plain": [
       "| 18.52s                              | 28.5             | 57415           |"
      ]
     },
     "metadata": {},
     "output_type": "display_data"
    },
    {
     "data": {
      "text/html": [
       "<pre>| 19.28s                              | 28.5             | 57522           |</pre>"
      ],
      "text/plain": [
       "| 19.28s                              | 28.5             | 57522           |"
      ]
     },
     "metadata": {},
     "output_type": "display_data"
    },
    {
     "data": {
      "text/html": [
       "<pre>| 20.59s                              | 28.75            | 58001           |</pre>"
      ],
      "text/plain": [
       "| 20.59s                              | 28.75            | 58001           |"
      ]
     },
     "metadata": {},
     "output_type": "display_data"
    },
    {
     "data": {
      "text/html": [
       "<pre>| 21.26s                              | 28.75            | 58243           |</pre>"
      ],
      "text/plain": [
       "| 21.26s                              | 28.75            | 58243           |"
      ]
     },
     "metadata": {},
     "output_type": "display_data"
    },
    {
     "data": {
      "text/html": [
       "<pre>| 22.43s                              | 29.25            | 59015           |</pre>"
      ],
      "text/plain": [
       "| 22.43s                              | 29.25            | 59015           |"
      ]
     },
     "metadata": {},
     "output_type": "display_data"
    },
    {
     "data": {
      "text/html": [
       "<pre>| 23.29s                              | 30.25            | 60850           |</pre>"
      ],
      "text/plain": [
       "| 23.29s                              | 30.25            | 60850           |"
      ]
     },
     "metadata": {},
     "output_type": "display_data"
    },
    {
     "data": {
      "text/html": [
       "<pre>| 24.43s                              | 30.75            | 61948           |</pre>"
      ],
      "text/plain": [
       "| 24.43s                              | 30.75            | 61948           |"
      ]
     },
     "metadata": {},
     "output_type": "display_data"
    },
    {
     "data": {
      "text/html": [
       "<pre>| 25.43s                              | 31.25            | 63046           |</pre>"
      ],
      "text/plain": [
       "| 25.43s                              | 31.25            | 63046           |"
      ]
     },
     "metadata": {},
     "output_type": "display_data"
    },
    {
     "data": {
      "text/html": [
       "<pre>| 26.56s                              | 31.25            | 63237           |</pre>"
      ],
      "text/plain": [
       "| 26.56s                              | 31.25            | 63237           |"
      ]
     },
     "metadata": {},
     "output_type": "display_data"
    },
    {
     "data": {
      "text/html": [
       "<pre>| 29.17s                              | 31.75            | 64250           |</pre>"
      ],
      "text/plain": [
       "| 29.17s                              | 31.75            | 64250           |"
      ]
     },
     "metadata": {},
     "output_type": "display_data"
    },
    {
     "data": {
      "text/html": [
       "<pre>| 30.23s                              | 32.25            | 65069           |</pre>"
      ],
      "text/plain": [
       "| 30.23s                              | 32.25            | 65069           |"
      ]
     },
     "metadata": {},
     "output_type": "display_data"
    },
    {
     "data": {
      "text/html": [
       "<pre>| 32.02s                              | 32.5             | 65333           |</pre>"
      ],
      "text/plain": [
       "| 32.02s                              | 32.5             | 65333           |"
      ]
     },
     "metadata": {},
     "output_type": "display_data"
    },
    {
     "data": {
      "text/html": [
       "<pre>| 32.46s                              | 32.75            | 65959           |</pre>"
      ],
      "text/plain": [
       "| 32.46s                              | 32.75            | 65959           |"
      ]
     },
     "metadata": {},
     "output_type": "display_data"
    },
    {
     "data": {
      "text/html": [
       "<pre>| 33.74s                              | 32.75            | 66028           |</pre>"
      ],
      "text/plain": [
       "| 33.74s                              | 32.75            | 66028           |"
      ]
     },
     "metadata": {},
     "output_type": "display_data"
    },
    {
     "data": {
      "text/html": [
       "<pre>| 34.22s                              | 32.75            | 66243           |</pre>"
      ],
      "text/plain": [
       "| 34.22s                              | 32.75            | 66243           |"
      ]
     },
     "metadata": {},
     "output_type": "display_data"
    },
    {
     "data": {
      "text/html": [
       "<pre>| 35.23s                              | 34               | 68689           |</pre>"
      ],
      "text/plain": [
       "| 35.23s                              | 34               | 68689           |"
      ]
     },
     "metadata": {},
     "output_type": "display_data"
    },
    {
     "data": {
      "text/html": [
       "<pre>| 36.26s                              | 34.25            | 69065           |</pre>"
      ],
      "text/plain": [
       "| 36.26s                              | 34.25            | 69065           |"
      ]
     },
     "metadata": {},
     "output_type": "display_data"
    },
    {
     "data": {
      "text/html": [
       "<pre>| 37.76s                              | 34.25            | 69247           |</pre>"
      ],
      "text/plain": [
       "| 37.76s                              | 34.25            | 69247           |"
      ]
     },
     "metadata": {},
     "output_type": "display_data"
    },
    {
     "data": {
      "text/html": [
       "<pre>| 38.28s                              | 34.5             | 69366           |</pre>"
      ],
      "text/plain": [
       "| 38.28s                              | 34.5             | 69366           |"
      ]
     },
     "metadata": {},
     "output_type": "display_data"
    },
    {
     "data": {
      "text/html": [
       "<pre>| 39.42s                              | 34.5             | 69619           |</pre>"
      ],
      "text/plain": [
       "| 39.42s                              | 34.5             | 69619           |"
      ]
     },
     "metadata": {},
     "output_type": "display_data"
    },
    {
     "data": {
      "text/html": [
       "<pre>| 40.23s                              | 35.25            | 71247           |</pre>"
      ],
      "text/plain": [
       "| 40.23s                              | 35.25            | 71247           |"
      ]
     },
     "metadata": {},
     "output_type": "display_data"
    },
    {
     "data": {
      "text/html": [
       "<pre>| 41.32s                              | 35.5             | 71511           |</pre>"
      ],
      "text/plain": [
       "| 41.32s                              | 35.5             | 71511           |"
      ]
     },
     "metadata": {},
     "output_type": "display_data"
    },
    {
     "data": {
      "text/html": [
       "<pre>| 43.03s                              | 36.5             | 73428           |</pre>"
      ],
      "text/plain": [
       "| 43.03s                              | 36.5             | 73428           |"
      ]
     },
     "metadata": {},
     "output_type": "display_data"
    },
    {
     "data": {
      "text/html": [
       "<pre>| 43.33s                              | 36.75            | 73917           |</pre>"
      ],
      "text/plain": [
       "| 43.33s                              | 36.75            | 73917           |"
      ]
     },
     "metadata": {},
     "output_type": "display_data"
    },
    {
     "data": {
      "text/html": [
       "<pre>| 44.24s                              | 37.5             | 75845           |</pre>"
      ],
      "text/plain": [
       "| 44.24s                              | 37.5             | 75845           |"
      ]
     },
     "metadata": {},
     "output_type": "display_data"
    },
    {
     "data": {
      "text/html": [
       "<pre>| 45.52s                              | 39.5             | 79788           |</pre>"
      ],
      "text/plain": [
       "| 45.52s                              | 39.5             | 79788           |"
      ]
     },
     "metadata": {},
     "output_type": "display_data"
    },
    {
     "data": {
      "text/html": [
       "<pre>| 46.31s                              | 42               | 84781           |</pre>"
      ],
      "text/plain": [
       "| 46.31s                              | 42               | 84781           |"
      ]
     },
     "metadata": {},
     "output_type": "display_data"
    },
    {
     "data": {
      "text/html": [
       "<pre>| 47.27s                              | 45               | 90656           |</pre>"
      ],
      "text/plain": [
       "| 47.27s                              | 45               | 90656           |"
      ]
     },
     "metadata": {},
     "output_type": "display_data"
    },
    {
     "data": {
      "text/html": [
       "<pre>| 48.36s                              | 47               | 94557           |</pre>"
      ],
      "text/plain": [
       "| 48.36s                              | 47               | 94557           |"
      ]
     },
     "metadata": {},
     "output_type": "display_data"
    },
    {
     "data": {
      "text/html": [
       "<pre>| 49.28s                              | 50.75            | 102107          |</pre>"
      ],
      "text/plain": [
       "| 49.28s                              | 50.75            | 102107          |"
      ]
     },
     "metadata": {},
     "output_type": "display_data"
    },
    {
     "data": {
      "text/html": [
       "<pre>| 50.27s                              | 51.75            | 104072          |</pre>"
      ],
      "text/plain": [
       "| 50.27s                              | 51.75            | 104072          |"
      ]
     },
     "metadata": {},
     "output_type": "display_data"
    },
    {
     "data": {
      "text/html": [
       "<pre>| 51.30s                              | 52.5             | 105762          |</pre>"
      ],
      "text/plain": [
       "| 51.30s                              | 52.5             | 105762          |"
      ]
     },
     "metadata": {},
     "output_type": "display_data"
    },
    {
     "data": {
      "text/html": [
       "<pre>| 52.37s                              | 53.5             | 107553          |</pre>"
      ],
      "text/plain": [
       "| 52.37s                              | 53.5             | 107553          |"
      ]
     },
     "metadata": {},
     "output_type": "display_data"
    },
    {
     "data": {
      "text/html": [
       "<pre>| 53.44s                              | 53.75            | 108371          |</pre>"
      ],
      "text/plain": [
       "| 53.44s                              | 53.75            | 108371          |"
      ]
     },
     "metadata": {},
     "output_type": "display_data"
    },
    {
     "data": {
      "text/html": [
       "<pre>| 54.30s                              | 54.75            | 110490          |</pre>"
      ],
      "text/plain": [
       "| 54.30s                              | 54.75            | 110490          |"
      ]
     },
     "metadata": {},
     "output_type": "display_data"
    },
    {
     "data": {
      "text/html": [
       "<pre>| 55.30s                              | 58               | 116682          |</pre>"
      ],
      "text/plain": [
       "| 55.30s                              | 58               | 116682          |"
      ]
     },
     "metadata": {},
     "output_type": "display_data"
    },
    {
     "data": {
      "text/html": [
       "<pre>| 57.49s                              | 58.5             | 117870          |</pre>"
      ],
      "text/plain": [
       "| 57.49s                              | 58.5             | 117870          |"
      ]
     },
     "metadata": {},
     "output_type": "display_data"
    },
    {
     "data": {
      "text/html": [
       "<pre>| 58.59s                              | 59.25            | 119094          |</pre>"
      ],
      "text/plain": [
       "| 58.59s                              | 59.25            | 119094          |"
      ]
     },
     "metadata": {},
     "output_type": "display_data"
    },
    {
     "data": {
      "text/html": [
       "<pre>| 59.51s                              | 59.5             | 119757          |</pre>"
      ],
      "text/plain": [
       "| 59.51s                              | 59.5             | 119757          |"
      ]
     },
     "metadata": {},
     "output_type": "display_data"
    },
    {
     "data": {
      "text/html": [
       "<pre>| 1m 1s                               | 59.5             | 119968          |</pre>"
      ],
      "text/plain": [
       "| 1m 1s                               | 59.5             | 119968          |"
      ]
     },
     "metadata": {},
     "output_type": "display_data"
    },
    {
     "data": {
      "text/html": [
       "<pre>| 1m 1s                               | 59.75            | 120174          |</pre>"
      ],
      "text/plain": [
       "| 1m 1s                               | 59.75            | 120174          |"
      ]
     },
     "metadata": {},
     "output_type": "display_data"
    },
    {
     "data": {
      "text/html": [
       "<pre>| 1m 2s                               | 59.75            | 120381          |</pre>"
      ],
      "text/plain": [
       "| 1m 2s                               | 59.75            | 120381          |"
      ]
     },
     "metadata": {},
     "output_type": "display_data"
    },
    {
     "data": {
      "text/html": [
       "<pre>| 1m 3s                               | 60               | 120673          |</pre>"
      ],
      "text/plain": [
       "| 1m 3s                               | 60               | 120673          |"
      ]
     },
     "metadata": {},
     "output_type": "display_data"
    },
    {
     "data": {
      "text/html": [
       "<pre>| 1m 4s                               | 60.25            | 121266          |</pre>"
      ],
      "text/plain": [
       "| 1m 4s                               | 60.25            | 121266          |"
      ]
     },
     "metadata": {},
     "output_type": "display_data"
    },
    {
     "data": {
      "text/html": [
       "<pre>| 1m 6s                               | 60.75            | 122337          |</pre>"
      ],
      "text/plain": [
       "| 1m 6s                               | 60.75            | 122337          |"
      ]
     },
     "metadata": {},
     "output_type": "display_data"
    },
    {
     "data": {
      "text/html": [
       "<pre>| 1m 6s                               | 60.75            | 122356          |</pre>"
      ],
      "text/plain": [
       "| 1m 6s                               | 60.75            | 122356          |"
      ]
     },
     "metadata": {},
     "output_type": "display_data"
    },
    {
     "data": {
      "text/html": [
       "<pre>| 1m 7s                               | 60.75            | 122440          |</pre>"
      ],
      "text/plain": [
       "| 1m 7s                               | 60.75            | 122440          |"
      ]
     },
     "metadata": {},
     "output_type": "display_data"
    },
    {
     "data": {
      "text/html": [
       "<pre>| 1m 8s                               | 61.25            | 123513          |</pre>"
      ],
      "text/plain": [
       "| 1m 8s                               | 61.25            | 123513          |"
      ]
     },
     "metadata": {},
     "output_type": "display_data"
    },
    {
     "data": {
      "text/html": [
       "<pre>| 1m 9s                               | 61.5             | 123593          |</pre>"
      ],
      "text/plain": [
       "| 1m 9s                               | 61.5             | 123593          |"
      ]
     },
     "metadata": {},
     "output_type": "display_data"
    },
    {
     "data": {
      "text/html": [
       "<pre>| 1m 11s                              | 61.5             | 123724          |</pre>"
      ],
      "text/plain": [
       "| 1m 11s                              | 61.5             | 123724          |"
      ]
     },
     "metadata": {},
     "output_type": "display_data"
    },
    {
     "data": {
      "text/html": [
       "<pre>| 1m 11s                              | 61.5             | 123857          |</pre>"
      ],
      "text/plain": [
       "| 1m 11s                              | 61.5             | 123857          |"
      ]
     },
     "metadata": {},
     "output_type": "display_data"
    },
    {
     "data": {
      "text/html": [
       "<pre>| 1m 13s                              | 61.75            | 124401          |</pre>"
      ],
      "text/plain": [
       "| 1m 13s                              | 61.75            | 124401          |"
      ]
     },
     "metadata": {},
     "output_type": "display_data"
    },
    {
     "data": {
      "text/html": [
       "<pre>| 1m 13s                              | 61.75            | 124421          |</pre>"
      ],
      "text/plain": [
       "| 1m 13s                              | 61.75            | 124421          |"
      ]
     },
     "metadata": {},
     "output_type": "display_data"
    },
    {
     "data": {
      "text/html": [
       "<pre>| 1m 14s                              | 61.75            | 124491          |</pre>"
      ],
      "text/plain": [
       "| 1m 14s                              | 61.75            | 124491          |"
      ]
     },
     "metadata": {},
     "output_type": "display_data"
    },
    {
     "data": {
      "text/html": [
       "<pre>| 1m 15s                              | 61.75            | 124555          |</pre>"
      ],
      "text/plain": [
       "| 1m 15s                              | 61.75            | 124555          |"
      ]
     },
     "metadata": {},
     "output_type": "display_data"
    },
    {
     "data": {
      "text/html": [
       "<pre>| 1m 16s                              | 62               | 124655          |</pre>"
      ],
      "text/plain": [
       "| 1m 16s                              | 62               | 124655          |"
      ]
     },
     "metadata": {},
     "output_type": "display_data"
    },
    {
     "data": {
      "text/html": [
       "<pre>| 1m 17s                              | 62               | 124813          |</pre>"
      ],
      "text/plain": [
       "| 1m 17s                              | 62               | 124813          |"
      ]
     },
     "metadata": {},
     "output_type": "display_data"
    },
    {
     "data": {
      "text/html": [
       "<pre>| 1m 18s                              | 62.25            | 125289          |</pre>"
      ],
      "text/plain": [
       "| 1m 18s                              | 62.25            | 125289          |"
      ]
     },
     "metadata": {},
     "output_type": "display_data"
    },
    {
     "data": {
      "text/html": [
       "<pre>| 1m 19s                              | 62.25            | 125393          |</pre>"
      ],
      "text/plain": [
       "| 1m 19s                              | 62.25            | 125393          |"
      ]
     },
     "metadata": {},
     "output_type": "display_data"
    },
    {
     "data": {
      "text/html": [
       "<pre>| 1m 20s                              | 62.25            | 125467          |</pre>"
      ],
      "text/plain": [
       "| 1m 20s                              | 62.25            | 125467          |"
      ]
     },
     "metadata": {},
     "output_type": "display_data"
    },
    {
     "data": {
      "text/html": [
       "<pre>| 1m 21s                              | 62.5             | 126062          |</pre>"
      ],
      "text/plain": [
       "| 1m 21s                              | 62.5             | 126062          |"
      ]
     },
     "metadata": {},
     "output_type": "display_data"
    },
    {
     "data": {
      "text/html": [
       "<pre>| 1m 22s                              | 62.75            | 126260          |</pre>"
      ],
      "text/plain": [
       "| 1m 22s                              | 62.75            | 126260          |"
      ]
     },
     "metadata": {},
     "output_type": "display_data"
    },
    {
     "data": {
      "text/html": [
       "<pre>| 1m 24s                              | 63               | 126740          |</pre>"
      ],
      "text/plain": [
       "| 1m 24s                              | 63               | 126740          |"
      ]
     },
     "metadata": {},
     "output_type": "display_data"
    },
    {
     "data": {
      "text/html": [
       "<pre>| 1m 24s                              | 63               | 126770          |</pre>"
      ],
      "text/plain": [
       "| 1m 24s                              | 63               | 126770          |"
      ]
     },
     "metadata": {},
     "output_type": "display_data"
    },
    {
     "data": {
      "text/html": [
       "<pre>| 1m 28s                              | 63               | 126984          |</pre>"
      ],
      "text/plain": [
       "| 1m 28s                              | 63               | 126984          |"
      ]
     },
     "metadata": {},
     "output_type": "display_data"
    },
    {
     "data": {
      "text/html": [
       "<pre>| 1m 29s                              | 63               | 127085          |</pre>"
      ],
      "text/plain": [
       "| 1m 29s                              | 63               | 127085          |"
      ]
     },
     "metadata": {},
     "output_type": "display_data"
    },
    {
     "data": {
      "text/html": [
       "<pre>| 1m 30s                              | 63.5             | 127646          |</pre>"
      ],
      "text/plain": [
       "| 1m 30s                              | 63.5             | 127646          |"
      ]
     },
     "metadata": {},
     "output_type": "display_data"
    },
    {
     "data": {
      "text/html": [
       "<pre>| 1m 31s                              | 63.5             | 127735          |</pre>"
      ],
      "text/plain": [
       "| 1m 31s                              | 63.5             | 127735          |"
      ]
     },
     "metadata": {},
     "output_type": "display_data"
    },
    {
     "data": {
      "text/html": [
       "<pre>| 1m 32s                              | 63.5             | 127876          |</pre>"
      ],
      "text/plain": [
       "| 1m 32s                              | 63.5             | 127876          |"
      ]
     },
     "metadata": {},
     "output_type": "display_data"
    },
    {
     "data": {
      "text/html": [
       "<pre>| 1m 33s                              | 63.5             | 127931          |</pre>"
      ],
      "text/plain": [
       "| 1m 33s                              | 63.5             | 127931          |"
      ]
     },
     "metadata": {},
     "output_type": "display_data"
    },
    {
     "data": {
      "text/html": [
       "<pre>| 1m 34s                              | 63.5             | 128029          |</pre>"
      ],
      "text/plain": [
       "| 1m 34s                              | 63.5             | 128029          |"
      ]
     },
     "metadata": {},
     "output_type": "display_data"
    },
    {
     "data": {
      "text/html": [
       "<pre>| 1m 35s                              | 64               | 128672          |</pre>"
      ],
      "text/plain": [
       "| 1m 35s                              | 64               | 128672          |"
      ]
     },
     "metadata": {},
     "output_type": "display_data"
    },
    {
     "data": {
      "text/html": [
       "<pre>| 1m 36s                              | 64.25            | 129248          |</pre>"
      ],
      "text/plain": [
       "| 1m 36s                              | 64.25            | 129248          |"
      ]
     },
     "metadata": {},
     "output_type": "display_data"
    },
    {
     "data": {
      "text/html": [
       "<pre>| 1m 37s                              | 64.75            | 130334          |</pre>"
      ],
      "text/plain": [
       "| 1m 37s                              | 64.75            | 130334          |"
      ]
     },
     "metadata": {},
     "output_type": "display_data"
    },
    {
     "data": {
      "text/html": [
       "<pre>| 1m 41s                              | 64.75            | 130587          |</pre>"
      ],
      "text/plain": [
       "| 1m 41s                              | 64.75            | 130587          |"
      ]
     },
     "metadata": {},
     "output_type": "display_data"
    },
    {
     "data": {
      "text/html": [
       "<pre>| 1m 42s                              | 65               | 130796          |</pre>"
      ],
      "text/plain": [
       "| 1m 42s                              | 65               | 130796          |"
      ]
     },
     "metadata": {},
     "output_type": "display_data"
    },
    {
     "data": {
      "text/html": [
       "<pre>| 1m 43s                              | 65               | 130882          |</pre>"
      ],
      "text/plain": [
       "| 1m 43s                              | 65               | 130882          |"
      ]
     },
     "metadata": {},
     "output_type": "display_data"
    },
    {
     "data": {
      "text/html": [
       "<pre>| 1m 44s                              | 65.25            | 131195          |</pre>"
      ],
      "text/plain": [
       "| 1m 44s                              | 65.25            | 131195          |"
      ]
     },
     "metadata": {},
     "output_type": "display_data"
    },
    {
     "data": {
      "text/html": [
       "<pre>| 1m 45s                              | 67               | 134735          |</pre>"
      ],
      "text/plain": [
       "| 1m 45s                              | 67               | 134735          |"
      ]
     },
     "metadata": {},
     "output_type": "display_data"
    },
    {
     "data": {
      "text/html": [
       "<pre>| 1m 46s                              | 67               | 135112          |</pre>"
      ],
      "text/plain": [
       "| 1m 46s                              | 67               | 135112          |"
      ]
     },
     "metadata": {},
     "output_type": "display_data"
    },
    {
     "data": {
      "text/html": [
       "<pre>| 1m 48s                              | 67.25            | 135214          |</pre>"
      ],
      "text/plain": [
       "| 1m 48s                              | 67.25            | 135214          |"
      ]
     },
     "metadata": {},
     "output_type": "display_data"
    },
    {
     "data": {
      "text/html": [
       "<pre>| 1m 49s                              | 67.25            | 135447          |</pre>"
      ],
      "text/plain": [
       "| 1m 49s                              | 67.25            | 135447          |"
      ]
     },
     "metadata": {},
     "output_type": "display_data"
    },
    {
     "data": {
      "text/html": [
       "<pre>| 1m 50s                              | 67.75            | 136625          |</pre>"
      ],
      "text/plain": [
       "| 1m 50s                              | 67.75            | 136625          |"
      ]
     },
     "metadata": {},
     "output_type": "display_data"
    },
    {
     "data": {
      "text/html": [
       "<pre>| 1m 51s                              | 68               | 136672          |</pre>"
      ],
      "text/plain": [
       "| 1m 51s                              | 68               | 136672          |"
      ]
     },
     "metadata": {},
     "output_type": "display_data"
    },
    {
     "data": {
      "text/html": [
       "<pre>| 1m 52s                              | 68               | 136783          |</pre>"
      ],
      "text/plain": [
       "| 1m 52s                              | 68               | 136783          |"
      ]
     },
     "metadata": {},
     "output_type": "display_data"
    },
    {
     "data": {
      "text/html": [
       "<pre>| 1m 53s                              | 68               | 136815          |</pre>"
      ],
      "text/plain": [
       "| 1m 53s                              | 68               | 136815          |"
      ]
     },
     "metadata": {},
     "output_type": "display_data"
    },
    {
     "data": {
      "text/html": [
       "<pre>| 1m 54s                              | 68               | 136886          |</pre>"
      ],
      "text/plain": [
       "| 1m 54s                              | 68               | 136886          |"
      ]
     },
     "metadata": {},
     "output_type": "display_data"
    },
    {
     "data": {
      "text/html": [
       "<pre>| 1m 55s                              | 68               | 137045          |</pre>"
      ],
      "text/plain": [
       "| 1m 55s                              | 68               | 137045          |"
      ]
     },
     "metadata": {},
     "output_type": "display_data"
    },
    {
     "data": {
      "text/html": [
       "<pre>| 1m 56s                              | 68               | 137107          |</pre>"
      ],
      "text/plain": [
       "| 1m 56s                              | 68               | 137107          |"
      ]
     },
     "metadata": {},
     "output_type": "display_data"
    },
    {
     "data": {
      "text/html": [
       "<pre>| 1m 57s                              | 68.25            | 137349          |</pre>"
      ],
      "text/plain": [
       "| 1m 57s                              | 68.25            | 137349          |"
      ]
     },
     "metadata": {},
     "output_type": "display_data"
    },
    {
     "data": {
      "text/html": [
       "<pre>| 1m 58s                              | 68.25            | 137453          |</pre>"
      ],
      "text/plain": [
       "| 1m 58s                              | 68.25            | 137453          |"
      ]
     },
     "metadata": {},
     "output_type": "display_data"
    },
    {
     "data": {
      "text/html": [
       "<pre>| 1m 59s                              | 68.25            | 137568          |</pre>"
      ],
      "text/plain": [
       "| 1m 59s                              | 68.25            | 137568          |"
      ]
     },
     "metadata": {},
     "output_type": "display_data"
    },
    {
     "data": {
      "text/html": [
       "<pre>| 2m 0s                               | 68.5             | 137670          |</pre>"
      ],
      "text/plain": [
       "| 2m 0s                               | 68.5             | 137670          |"
      ]
     },
     "metadata": {},
     "output_type": "display_data"
    },
    {
     "data": {
      "text/html": [
       "<pre>| 2m 1s                               | 68.5             | 138025          |</pre>"
      ],
      "text/plain": [
       "| 2m 1s                               | 68.5             | 138025          |"
      ]
     },
     "metadata": {},
     "output_type": "display_data"
    },
    {
     "data": {
      "text/html": [
       "<pre>| 2m 2s                               | 68.75            | 138256          |</pre>"
      ],
      "text/plain": [
       "| 2m 2s                               | 68.75            | 138256          |"
      ]
     },
     "metadata": {},
     "output_type": "display_data"
    },
    {
     "data": {
      "text/html": [
       "<pre>| 2m 3s                               | 69               | 138779          |</pre>"
      ],
      "text/plain": [
       "| 2m 3s                               | 69               | 138779          |"
      ]
     },
     "metadata": {},
     "output_type": "display_data"
    },
    {
     "data": {
      "text/html": [
       "<pre>| 2m 4s                               | 69               | 138872          |</pre>"
      ],
      "text/plain": [
       "| 2m 4s                               | 69               | 138872          |"
      ]
     },
     "metadata": {},
     "output_type": "display_data"
    },
    {
     "data": {
      "text/html": [
       "<pre>| 2m 5s                               | 69               | 139011          |</pre>"
      ],
      "text/plain": [
       "| 2m 5s                               | 69               | 139011          |"
      ]
     },
     "metadata": {},
     "output_type": "display_data"
    },
    {
     "data": {
      "text/html": [
       "<pre>| 2m 6s                               | 69               | 139133          |</pre>"
      ],
      "text/plain": [
       "| 2m 6s                               | 69               | 139133          |"
      ]
     },
     "metadata": {},
     "output_type": "display_data"
    },
    {
     "data": {
      "text/html": [
       "<pre>| 2m 7s                               | 69.25            | 139271          |</pre>"
      ],
      "text/plain": [
       "| 2m 7s                               | 69.25            | 139271          |"
      ]
     },
     "metadata": {},
     "output_type": "display_data"
    },
    {
     "data": {
      "text/html": [
       "<pre>| 2m 8s                               | 69.25            | 139372          |</pre>"
      ],
      "text/plain": [
       "| 2m 8s                               | 69.25            | 139372          |"
      ]
     },
     "metadata": {},
     "output_type": "display_data"
    },
    {
     "data": {
      "text/html": [
       "<pre>| 2m 9s                               | 69.5             | 139856          |</pre>"
      ],
      "text/plain": [
       "| 2m 9s                               | 69.5             | 139856          |"
      ]
     },
     "metadata": {},
     "output_type": "display_data"
    },
    {
     "data": {
      "text/html": [
       "<pre>| 2m 10s                              | 69.5             | 140016          |</pre>"
      ],
      "text/plain": [
       "| 2m 10s                              | 69.5             | 140016          |"
      ]
     },
     "metadata": {},
     "output_type": "display_data"
    },
    {
     "data": {
      "text/html": [
       "<pre>| 2m 11s                              | 69.5             | 140071          |</pre>"
      ],
      "text/plain": [
       "| 2m 11s                              | 69.5             | 140071          |"
      ]
     },
     "metadata": {},
     "output_type": "display_data"
    },
    {
     "data": {
      "text/html": [
       "<pre>| 2m 12s                              | 69.75            | 140169          |</pre>"
      ],
      "text/plain": [
       "| 2m 12s                              | 69.75            | 140169          |"
      ]
     },
     "metadata": {},
     "output_type": "display_data"
    },
    {
     "data": {
      "text/html": [
       "<pre>| 2m 13s                              | 69.75            | 140302          |</pre>"
      ],
      "text/plain": [
       "| 2m 13s                              | 69.75            | 140302          |"
      ]
     },
     "metadata": {},
     "output_type": "display_data"
    },
    {
     "data": {
      "text/html": [
       "<pre>| 2m 14s                              | 69.75            | 140338          |</pre>"
      ],
      "text/plain": [
       "| 2m 14s                              | 69.75            | 140338          |"
      ]
     },
     "metadata": {},
     "output_type": "display_data"
    },
    {
     "data": {
      "text/html": [
       "<pre>| 2m 15s                              | 69.75            | 140458          |</pre>"
      ],
      "text/plain": [
       "| 2m 15s                              | 69.75            | 140458          |"
      ]
     },
     "metadata": {},
     "output_type": "display_data"
    },
    {
     "data": {
      "text/html": [
       "<pre>| 2m 16s                              | 69.75            | 140636          |</pre>"
      ],
      "text/plain": [
       "| 2m 16s                              | 69.75            | 140636          |"
      ]
     },
     "metadata": {},
     "output_type": "display_data"
    },
    {
     "data": {
      "text/html": [
       "<pre>| 2m 17s                              | 70               | 140726          |</pre>"
      ],
      "text/plain": [
       "| 2m 17s                              | 70               | 140726          |"
      ]
     },
     "metadata": {},
     "output_type": "display_data"
    },
    {
     "data": {
      "text/html": [
       "<pre>| 2m 18s                              | 70               | 140928          |</pre>"
      ],
      "text/plain": [
       "| 2m 18s                              | 70               | 140928          |"
      ]
     },
     "metadata": {},
     "output_type": "display_data"
    },
    {
     "data": {
      "text/html": [
       "<pre>| 2m 19s                              | 70               | 141086          |</pre>"
      ],
      "text/plain": [
       "| 2m 19s                              | 70               | 141086          |"
      ]
     },
     "metadata": {},
     "output_type": "display_data"
    },
    {
     "data": {
      "text/html": [
       "<pre>| 2m 20s                              | 70.25            | 141555          |</pre>"
      ],
      "text/plain": [
       "| 2m 20s                              | 70.25            | 141555          |"
      ]
     },
     "metadata": {},
     "output_type": "display_data"
    },
    {
     "data": {
      "text/html": [
       "<pre>| 2m 22s                              | 70.25            | 141642          |</pre>"
      ],
      "text/plain": [
       "| 2m 22s                              | 70.25            | 141642          |"
      ]
     },
     "metadata": {},
     "output_type": "display_data"
    },
    {
     "data": {
      "text/html": [
       "<pre>| 2m 22s                              | 70.5             | 141666          |</pre>"
      ],
      "text/plain": [
       "| 2m 22s                              | 70.5             | 141666          |"
      ]
     },
     "metadata": {},
     "output_type": "display_data"
    },
    {
     "data": {
      "text/html": [
       "<pre>| 2m 23s                              | 70.75            | 142382          |</pre>"
      ],
      "text/plain": [
       "| 2m 23s                              | 70.75            | 142382          |"
      ]
     },
     "metadata": {},
     "output_type": "display_data"
    },
    {
     "data": {
      "text/html": [
       "<pre>| 2m 24s                              | 70.75            | 142473          |</pre>"
      ],
      "text/plain": [
       "| 2m 24s                              | 70.75            | 142473          |"
      ]
     },
     "metadata": {},
     "output_type": "display_data"
    },
    {
     "data": {
      "text/html": [
       "<pre>| 2m 25s                              | 70.75            | 142583          |</pre>"
      ],
      "text/plain": [
       "| 2m 25s                              | 70.75            | 142583          |"
      ]
     },
     "metadata": {},
     "output_type": "display_data"
    },
    {
     "data": {
      "text/html": [
       "<pre>| 2m 26s                              | 71               | 142677          |</pre>"
      ],
      "text/plain": [
       "| 2m 26s                              | 71               | 142677          |"
      ]
     },
     "metadata": {},
     "output_type": "display_data"
    },
    {
     "data": {
      "text/html": [
       "<pre>| 2m 27s                              | 71               | 142725          |</pre>"
      ],
      "text/plain": [
       "| 2m 27s                              | 71               | 142725          |"
      ]
     },
     "metadata": {},
     "output_type": "display_data"
    },
    {
     "data": {
      "text/html": [
       "<pre>| 2m 28s                              | 71               | 142851          |</pre>"
      ],
      "text/plain": [
       "| 2m 28s                              | 71               | 142851          |"
      ]
     },
     "metadata": {},
     "output_type": "display_data"
    },
    {
     "data": {
      "text/html": [
       "<pre>| 2m 29s                              | 71               | 142925          |</pre>"
      ],
      "text/plain": [
       "| 2m 29s                              | 71               | 142925          |"
      ]
     },
     "metadata": {},
     "output_type": "display_data"
    },
    {
     "data": {
      "text/html": [
       "<pre>| 2m 30s                              | 71               | 143009          |</pre>"
      ],
      "text/plain": [
       "| 2m 30s                              | 71               | 143009          |"
      ]
     },
     "metadata": {},
     "output_type": "display_data"
    },
    {
     "data": {
      "text/html": [
       "<pre>| 2m 31s                              | 71.25            | 143176          |</pre>"
      ],
      "text/plain": [
       "| 2m 31s                              | 71.25            | 143176          |"
      ]
     },
     "metadata": {},
     "output_type": "display_data"
    },
    {
     "data": {
      "text/html": [
       "<pre>| 2m 33s                              | 72               | 144978          |</pre>"
      ],
      "text/plain": [
       "| 2m 33s                              | 72               | 144978          |"
      ]
     },
     "metadata": {},
     "output_type": "display_data"
    },
    {
     "data": {
      "text/html": [
       "<pre>| 2m 33s                              | 72               | 144988          |</pre>"
      ],
      "text/plain": [
       "| 2m 33s                              | 72               | 144988          |"
      ]
     },
     "metadata": {},
     "output_type": "display_data"
    },
    {
     "data": {
      "text/html": [
       "<pre>| 2m 34s                              | 72.25            | 145343          |</pre>"
      ],
      "text/plain": [
       "| 2m 34s                              | 72.25            | 145343          |"
      ]
     },
     "metadata": {},
     "output_type": "display_data"
    },
    {
     "data": {
      "text/html": [
       "<pre>| 2m 35s                              | 72.25            | 145344          |</pre>"
      ],
      "text/plain": [
       "| 2m 35s                              | 72.25            | 145344          |"
      ]
     },
     "metadata": {},
     "output_type": "display_data"
    },
    {
     "data": {
      "text/html": [
       "<pre>| 2m 37s                              | 72.25            | 145470          |</pre>"
      ],
      "text/plain": [
       "| 2m 37s                              | 72.25            | 145470          |"
      ]
     },
     "metadata": {},
     "output_type": "display_data"
    },
    {
     "data": {
      "text/html": [
       "<pre>| 2m 37s                              | 72.25            | 145524          |</pre>"
      ],
      "text/plain": [
       "| 2m 37s                              | 72.25            | 145524          |"
      ]
     },
     "metadata": {},
     "output_type": "display_data"
    },
    {
     "data": {
      "text/html": [
       "<pre>| 2m 38s                              | 72.25            | 145563          |</pre>"
      ],
      "text/plain": [
       "| 2m 38s                              | 72.25            | 145563          |"
      ]
     },
     "metadata": {},
     "output_type": "display_data"
    },
    {
     "data": {
      "text/html": [
       "<pre>| 2m 39s                              | 72.5             | 145780          |</pre>"
      ],
      "text/plain": [
       "| 2m 39s                              | 72.5             | 145780          |"
      ]
     },
     "metadata": {},
     "output_type": "display_data"
    },
    {
     "data": {
      "text/html": [
       "<pre>| 2m 40s                              | 72.5             | 145958          |</pre>"
      ],
      "text/plain": [
       "| 2m 40s                              | 72.5             | 145958          |"
      ]
     },
     "metadata": {},
     "output_type": "display_data"
    },
    {
     "data": {
      "text/html": [
       "<pre>| 2m 41s                              | 73               | 147017          |</pre>"
      ],
      "text/plain": [
       "| 2m 41s                              | 73               | 147017          |"
      ]
     },
     "metadata": {},
     "output_type": "display_data"
    },
    {
     "data": {
      "text/html": [
       "<pre>| 2m 43s                              | 73               | 147140          |</pre>"
      ],
      "text/plain": [
       "| 2m 43s                              | 73               | 147140          |"
      ]
     },
     "metadata": {},
     "output_type": "display_data"
    },
    {
     "data": {
      "text/html": [
       "<pre>| 2m 43s                              | 73               | 147141          |</pre>"
      ],
      "text/plain": [
       "| 2m 43s                              | 73               | 147141          |"
      ]
     },
     "metadata": {},
     "output_type": "display_data"
    },
    {
     "data": {
      "text/html": [
       "<pre>| 2m 44s                              | 73.25            | 147188          |</pre>"
      ],
      "text/plain": [
       "| 2m 44s                              | 73.25            | 147188          |"
      ]
     },
     "metadata": {},
     "output_type": "display_data"
    },
    {
     "data": {
      "text/html": [
       "<pre>| 2m 46s                              | 73.25            | 147453          |</pre>"
      ],
      "text/plain": [
       "| 2m 46s                              | 73.25            | 147453          |"
      ]
     },
     "metadata": {},
     "output_type": "display_data"
    },
    {
     "data": {
      "text/html": [
       "<pre>| 2m 48s                              | 73.25            | 147632          |</pre>"
      ],
      "text/plain": [
       "| 2m 48s                              | 73.25            | 147632          |"
      ]
     },
     "metadata": {},
     "output_type": "display_data"
    },
    {
     "data": {
      "text/html": [
       "<pre>| 2m 48s                              | 73.25            | 147644          |</pre>"
      ],
      "text/plain": [
       "| 2m 48s                              | 73.25            | 147644          |"
      ]
     },
     "metadata": {},
     "output_type": "display_data"
    },
    {
     "data": {
      "text/html": [
       "<pre>| 2m 49s                              | 73.5             | 147830          |</pre>"
      ],
      "text/plain": [
       "| 2m 49s                              | 73.5             | 147830          |"
      ]
     },
     "metadata": {},
     "output_type": "display_data"
    },
    {
     "data": {
      "text/html": [
       "<pre>| 2m 50s                              | 73.5             | 147883          |</pre>"
      ],
      "text/plain": [
       "| 2m 50s                              | 73.5             | 147883          |"
      ]
     },
     "metadata": {},
     "output_type": "display_data"
    },
    {
     "data": {
      "text/html": [
       "<pre>| 2m 51s                              | 73.5             | 147990          |</pre>"
      ],
      "text/plain": [
       "| 2m 51s                              | 73.5             | 147990          |"
      ]
     },
     "metadata": {},
     "output_type": "display_data"
    },
    {
     "data": {
      "text/html": [
       "<pre>| 2m 52s                              | 73.5             | 148046          |</pre>"
      ],
      "text/plain": [
       "| 2m 52s                              | 73.5             | 148046          |"
      ]
     },
     "metadata": {},
     "output_type": "display_data"
    },
    {
     "data": {
      "text/html": [
       "<pre>| 2m 53s                              | 73.5             | 148150          |</pre>"
      ],
      "text/plain": [
       "| 2m 53s                              | 73.5             | 148150          |"
      ]
     },
     "metadata": {},
     "output_type": "display_data"
    },
    {
     "data": {
      "text/html": [
       "<pre>| 2m 54s                              | 73.75            | 148385          |</pre>"
      ],
      "text/plain": [
       "| 2m 54s                              | 73.75            | 148385          |"
      ]
     },
     "metadata": {},
     "output_type": "display_data"
    },
    {
     "data": {
      "text/html": [
       "<pre>| 2m 55s                              | 73.75            | 148464          |</pre>"
      ],
      "text/plain": [
       "| 2m 55s                              | 73.75            | 148464          |"
      ]
     },
     "metadata": {},
     "output_type": "display_data"
    },
    {
     "data": {
      "text/html": [
       "<pre>| 2m 56s                              | 73.75            | 148545          |</pre>"
      ],
      "text/plain": [
       "| 2m 56s                              | 73.75            | 148545          |"
      ]
     },
     "metadata": {},
     "output_type": "display_data"
    },
    {
     "data": {
      "text/html": [
       "<pre>| 2m 58s                              | 74.25            | 149366          |</pre>"
      ],
      "text/plain": [
       "| 2m 58s                              | 74.25            | 149366          |"
      ]
     },
     "metadata": {},
     "output_type": "display_data"
    },
    {
     "data": {
      "text/html": [
       "<pre>| 2m 58s                              | 74.25            | 149391          |</pre>"
      ],
      "text/plain": [
       "| 2m 58s                              | 74.25            | 149391          |"
      ]
     },
     "metadata": {},
     "output_type": "display_data"
    },
    {
     "data": {
      "text/html": [
       "<pre>| 3m 1s                               | 74.25            | 149484          |</pre>"
      ],
      "text/plain": [
       "| 3m 1s                               | 74.25            | 149484          |"
      ]
     },
     "metadata": {},
     "output_type": "display_data"
    },
    {
     "data": {
      "text/html": [
       "<pre>| 3m 2s                               | 74.25            | 149565          |</pre>"
      ],
      "text/plain": [
       "| 3m 2s                               | 74.25            | 149565          |"
      ]
     },
     "metadata": {},
     "output_type": "display_data"
    },
    {
     "data": {
      "text/html": [
       "<pre>| 3m 3s                               | 74.25            | 149611          |</pre>"
      ],
      "text/plain": [
       "| 3m 3s                               | 74.25            | 149611          |"
      ]
     },
     "metadata": {},
     "output_type": "display_data"
    },
    {
     "data": {
      "text/html": [
       "<pre>| 3m 4s                               | 74.25            | 149683          |</pre>"
      ],
      "text/plain": [
       "| 3m 4s                               | 74.25            | 149683          |"
      ]
     },
     "metadata": {},
     "output_type": "display_data"
    },
    {
     "data": {
      "text/html": [
       "<pre>| 3m 5s                               | 74.5             | 149751          |</pre>"
      ],
      "text/plain": [
       "| 3m 5s                               | 74.5             | 149751          |"
      ]
     },
     "metadata": {},
     "output_type": "display_data"
    },
    {
     "data": {
      "text/html": [
       "<pre>| 3m 6s                               | 74.5             | 149847          |</pre>"
      ],
      "text/plain": [
       "| 3m 6s                               | 74.5             | 149847          |"
      ]
     },
     "metadata": {},
     "output_type": "display_data"
    },
    {
     "data": {
      "text/html": [
       "<pre>| 3m 7s                               | 74.5             | 150110          |</pre>"
      ],
      "text/plain": [
       "| 3m 7s                               | 74.5             | 150110          |"
      ]
     },
     "metadata": {},
     "output_type": "display_data"
    },
    {
     "data": {
      "text/html": [
       "<pre>| 3m 8s                               | 74.75            | 150404          |</pre>"
      ],
      "text/plain": [
       "| 3m 8s                               | 74.75            | 150404          |"
      ]
     },
     "metadata": {},
     "output_type": "display_data"
    },
    {
     "data": {
      "text/html": [
       "<pre>| 3m 9s                               | 74.75            | 150507          |</pre>"
      ],
      "text/plain": [
       "| 3m 9s                               | 74.75            | 150507          |"
      ]
     },
     "metadata": {},
     "output_type": "display_data"
    },
    {
     "data": {
      "text/html": [
       "<pre>| 3m 10s                              | 75               | 150737          |</pre>"
      ],
      "text/plain": [
       "| 3m 10s                              | 75               | 150737          |"
      ]
     },
     "metadata": {},
     "output_type": "display_data"
    },
    {
     "data": {
      "text/html": [
       "<pre>| 3m 11s                              | 75               | 151114          |</pre>"
      ],
      "text/plain": [
       "| 3m 11s                              | 75               | 151114          |"
      ]
     },
     "metadata": {},
     "output_type": "display_data"
    },
    {
     "data": {
      "text/html": [
       "<pre>| 3m 12s                              | 75.25            | 151270          |</pre>"
      ],
      "text/plain": [
       "| 3m 12s                              | 75.25            | 151270          |"
      ]
     },
     "metadata": {},
     "output_type": "display_data"
    },
    {
     "data": {
      "text/html": [
       "<pre>| 3m 14s                              | 75.25            | 151579          |</pre>"
      ],
      "text/plain": [
       "| 3m 14s                              | 75.25            | 151579          |"
      ]
     },
     "metadata": {},
     "output_type": "display_data"
    },
    {
     "data": {
      "text/html": [
       "<pre>| 3m 14s                              | 75.25            | 151580          |</pre>"
      ],
      "text/plain": [
       "| 3m 14s                              | 75.25            | 151580          |"
      ]
     },
     "metadata": {},
     "output_type": "display_data"
    },
    {
     "data": {
      "text/html": [
       "<pre>| 3m 15s                              | 75.25            | 151660          |</pre>"
      ],
      "text/plain": [
       "| 3m 15s                              | 75.25            | 151660          |"
      ]
     },
     "metadata": {},
     "output_type": "display_data"
    },
    {
     "data": {
      "text/html": [
       "<pre>| 3m 16s                              | 75.5             | 151756          |</pre>"
      ],
      "text/plain": [
       "| 3m 16s                              | 75.5             | 151756          |"
      ]
     },
     "metadata": {},
     "output_type": "display_data"
    },
    {
     "data": {
      "text/html": [
       "<pre>| 3m 17s                              | 75.75            | 152318          |</pre>"
      ],
      "text/plain": [
       "| 3m 17s                              | 75.75            | 152318          |"
      ]
     },
     "metadata": {},
     "output_type": "display_data"
    },
    {
     "data": {
      "text/html": [
       "<pre>| 3m 18s                              | 75.75            | 152634          |</pre>"
      ],
      "text/plain": [
       "| 3m 18s                              | 75.75            | 152634          |"
      ]
     },
     "metadata": {},
     "output_type": "display_data"
    },
    {
     "data": {
      "text/html": [
       "<pre>| 3m 19s                              | 76               | 152721          |</pre>"
      ],
      "text/plain": [
       "| 3m 19s                              | 76               | 152721          |"
      ]
     },
     "metadata": {},
     "output_type": "display_data"
    },
    {
     "data": {
      "text/html": [
       "<pre>| 3m 20s                              | 76               | 152799          |</pre>"
      ],
      "text/plain": [
       "| 3m 20s                              | 76               | 152799          |"
      ]
     },
     "metadata": {},
     "output_type": "display_data"
    },
    {
     "data": {
      "text/html": [
       "<pre>| 3m 21s                              | 76               | 152950          |</pre>"
      ],
      "text/plain": [
       "| 3m 21s                              | 76               | 152950          |"
      ]
     },
     "metadata": {},
     "output_type": "display_data"
    },
    {
     "data": {
      "text/html": [
       "<pre>| 3m 22s                              | 76.25            | 153502          |</pre>"
      ],
      "text/plain": [
       "| 3m 22s                              | 76.25            | 153502          |"
      ]
     },
     "metadata": {},
     "output_type": "display_data"
    },
    {
     "data": {
      "text/html": [
       "<pre>| 3m 23s                              | 76.5             | 153796          |</pre>"
      ],
      "text/plain": [
       "| 3m 23s                              | 76.5             | 153796          |"
      ]
     },
     "metadata": {},
     "output_type": "display_data"
    },
    {
     "data": {
      "text/html": [
       "<pre>| 3m 24s                              | 76.5             | 154208          |</pre>"
      ],
      "text/plain": [
       "| 3m 24s                              | 76.5             | 154208          |"
      ]
     },
     "metadata": {},
     "output_type": "display_data"
    },
    {
     "data": {
      "text/html": [
       "<pre>| 3m 26s                              | 76.75            | 154321          |</pre>"
      ],
      "text/plain": [
       "| 3m 26s                              | 76.75            | 154321          |"
      ]
     },
     "metadata": {},
     "output_type": "display_data"
    },
    {
     "data": {
      "text/html": [
       "<pre>| 3m 28s                              | 76.75            | 154671          |</pre>"
      ],
      "text/plain": [
       "| 3m 28s                              | 76.75            | 154671          |"
      ]
     },
     "metadata": {},
     "output_type": "display_data"
    },
    {
     "data": {
      "text/html": [
       "<pre>| 3m 28s                              | 76.75            | 154691          |</pre>"
      ],
      "text/plain": [
       "| 3m 28s                              | 76.75            | 154691          |"
      ]
     },
     "metadata": {},
     "output_type": "display_data"
    },
    {
     "data": {
      "text/html": [
       "<pre>| 3m 29s                              | 77               | 154805          |</pre>"
      ],
      "text/plain": [
       "| 3m 29s                              | 77               | 154805          |"
      ]
     },
     "metadata": {},
     "output_type": "display_data"
    },
    {
     "data": {
      "text/html": [
       "<pre>| 3m 30s                              | 77               | 155045          |</pre>"
      ],
      "text/plain": [
       "| 3m 30s                              | 77               | 155045          |"
      ]
     },
     "metadata": {},
     "output_type": "display_data"
    },
    {
     "data": {
      "text/html": [
       "<pre>| 3m 31s                              | 77               | 155222          |</pre>"
      ],
      "text/plain": [
       "| 3m 31s                              | 77               | 155222          |"
      ]
     },
     "metadata": {},
     "output_type": "display_data"
    },
    {
     "data": {
      "text/html": [
       "<pre>| 3m 32s                              | 77.25            | 155396          |</pre>"
      ],
      "text/plain": [
       "| 3m 32s                              | 77.25            | 155396          |"
      ]
     },
     "metadata": {},
     "output_type": "display_data"
    },
    {
     "data": {
      "text/html": [
       "<pre>| 3m 33s                              | 77.25            | 155714          |</pre>"
      ],
      "text/plain": [
       "| 3m 33s                              | 77.25            | 155714          |"
      ]
     },
     "metadata": {},
     "output_type": "display_data"
    },
    {
     "data": {
      "text/html": [
       "<pre>| 3m 34s                              | 77.5             | 155900          |</pre>"
      ],
      "text/plain": [
       "| 3m 34s                              | 77.5             | 155900          |"
      ]
     },
     "metadata": {},
     "output_type": "display_data"
    },
    {
     "data": {
      "text/html": [
       "<pre>| 3m 35s                              | 77.5             | 155999          |</pre>"
      ],
      "text/plain": [
       "| 3m 35s                              | 77.5             | 155999          |"
      ]
     },
     "metadata": {},
     "output_type": "display_data"
    },
    {
     "data": {
      "text/html": [
       "<pre>| 3m 36s                              | 77.75            | 156351          |</pre>"
      ],
      "text/plain": [
       "| 3m 36s                              | 77.75            | 156351          |"
      ]
     },
     "metadata": {},
     "output_type": "display_data"
    },
    {
     "data": {
      "text/html": [
       "<pre>| 3m 37s                              | 77.75            | 156485          |</pre>"
      ],
      "text/plain": [
       "| 3m 37s                              | 77.75            | 156485          |"
      ]
     },
     "metadata": {},
     "output_type": "display_data"
    },
    {
     "data": {
      "text/html": [
       "<pre>| 3m 38s                              | 78               | 156749          |</pre>"
      ],
      "text/plain": [
       "| 3m 38s                              | 78               | 156749          |"
      ]
     },
     "metadata": {},
     "output_type": "display_data"
    },
    {
     "data": {
      "text/html": [
       "<pre>| 3m 39s                              | 78.25            | 157428          |</pre>"
      ],
      "text/plain": [
       "| 3m 39s                              | 78.25            | 157428          |"
      ]
     },
     "metadata": {},
     "output_type": "display_data"
    },
    {
     "data": {
      "text/html": [
       "<pre>| 3m 40s                              | 78.5             | 157738          |</pre>"
      ],
      "text/plain": [
       "| 3m 40s                              | 78.5             | 157738          |"
      ]
     },
     "metadata": {},
     "output_type": "display_data"
    },
    {
     "data": {
      "text/html": [
       "<pre>| 3m 41s                              | 78.5             | 157799          |</pre>"
      ],
      "text/plain": [
       "| 3m 41s                              | 78.5             | 157799          |"
      ]
     },
     "metadata": {},
     "output_type": "display_data"
    },
    {
     "data": {
      "text/html": [
       "<pre>| 3m 42s                              | 78.5             | 157873          |</pre>"
      ],
      "text/plain": [
       "| 3m 42s                              | 78.5             | 157873          |"
      ]
     },
     "metadata": {},
     "output_type": "display_data"
    },
    {
     "data": {
      "text/html": [
       "<pre>| 3m 43s                              | 78.5             | 158002          |</pre>"
      ],
      "text/plain": [
       "| 3m 43s                              | 78.5             | 158002          |"
      ]
     },
     "metadata": {},
     "output_type": "display_data"
    },
    {
     "data": {
      "text/html": [
       "<pre>| 3m 44s                              | 78.75            | 158300          |</pre>"
      ],
      "text/plain": [
       "| 3m 44s                              | 78.75            | 158300          |"
      ]
     },
     "metadata": {},
     "output_type": "display_data"
    },
    {
     "data": {
      "text/html": [
       "<pre>| 3m 45s                              | 78.75            | 158553          |</pre>"
      ],
      "text/plain": [
       "| 3m 45s                              | 78.75            | 158553          |"
      ]
     },
     "metadata": {},
     "output_type": "display_data"
    },
    {
     "data": {
      "text/html": [
       "<pre>| 3m 46s                              | 78.75            | 158677          |</pre>"
      ],
      "text/plain": [
       "| 3m 46s                              | 78.75            | 158677          |"
      ]
     },
     "metadata": {},
     "output_type": "display_data"
    },
    {
     "data": {
      "text/html": [
       "<pre>| 3m 47s                              | 79.25            | 159356          |</pre>"
      ],
      "text/plain": [
       "| 3m 47s                              | 79.25            | 159356          |"
      ]
     },
     "metadata": {},
     "output_type": "display_data"
    },
    {
     "data": {
      "text/html": [
       "<pre>| 3m 49s                              | 79.25            | 159695          |</pre>"
      ],
      "text/plain": [
       "| 3m 49s                              | 79.25            | 159695          |"
      ]
     },
     "metadata": {},
     "output_type": "display_data"
    },
    {
     "data": {
      "text/html": [
       "<pre>| 3m 49s                              | 79.5             | 159763          |</pre>"
      ],
      "text/plain": [
       "| 3m 49s                              | 79.5             | 159763          |"
      ]
     },
     "metadata": {},
     "output_type": "display_data"
    },
    {
     "data": {
      "text/html": [
       "<pre>| 3m 50s                              | 79.5             | 159855          |</pre>"
      ],
      "text/plain": [
       "| 3m 50s                              | 79.5             | 159855          |"
      ]
     },
     "metadata": {},
     "output_type": "display_data"
    },
    {
     "data": {
      "text/html": [
       "<pre>| 3m 51s                              | 79.5             | 160023          |</pre>"
      ],
      "text/plain": [
       "| 3m 51s                              | 79.5             | 160023          |"
      ]
     },
     "metadata": {},
     "output_type": "display_data"
    },
    {
     "data": {
      "text/html": [
       "<pre>| 3m 52s                              | 79.75            | 160252          |</pre>"
      ],
      "text/plain": [
       "| 3m 52s                              | 79.75            | 160252          |"
      ]
     },
     "metadata": {},
     "output_type": "display_data"
    },
    {
     "data": {
      "text/html": [
       "<pre>| 3m 53s                              | 79.75            | 160676          |</pre>"
      ],
      "text/plain": [
       "| 3m 53s                              | 79.75            | 160676          |"
      ]
     },
     "metadata": {},
     "output_type": "display_data"
    },
    {
     "data": {
      "text/html": [
       "<pre>| 3m 54s                              | 80               | 160958          |</pre>"
      ],
      "text/plain": [
       "| 3m 54s                              | 80               | 160958          |"
      ]
     },
     "metadata": {},
     "output_type": "display_data"
    },
    {
     "data": {
      "text/html": [
       "<pre>| 3m 55s                              | 80               | 161039          |</pre>"
      ],
      "text/plain": [
       "| 3m 55s                              | 80               | 161039          |"
      ]
     },
     "metadata": {},
     "output_type": "display_data"
    },
    {
     "data": {
      "text/html": [
       "<pre>| 3m 56s                              | 80.25            | 161390          |</pre>"
      ],
      "text/plain": [
       "| 3m 56s                              | 80.25            | 161390          |"
      ]
     },
     "metadata": {},
     "output_type": "display_data"
    },
    {
     "data": {
      "text/html": [
       "<pre>| 3m 57s                              | 80.5             | 161915          |</pre>"
      ],
      "text/plain": [
       "| 3m 57s                              | 80.5             | 161915          |"
      ]
     },
     "metadata": {},
     "output_type": "display_data"
    },
    {
     "data": {
      "text/html": [
       "<pre>| 3m 58s                              | 83               | 167006          |</pre>"
      ],
      "text/plain": [
       "| 3m 58s                              | 83               | 167006          |"
      ]
     },
     "metadata": {},
     "output_type": "display_data"
    },
    {
     "data": {
      "text/html": [
       "<pre>| 3m 59s                              | 83               | 167185          |</pre>"
      ],
      "text/plain": [
       "| 3m 59s                              | 83               | 167185          |"
      ]
     },
     "metadata": {},
     "output_type": "display_data"
    },
    {
     "data": {
      "text/html": [
       "<pre>| 4m 0s                               | 83               | 167232          |</pre>"
      ],
      "text/plain": [
       "| 4m 0s                               | 83               | 167232          |"
      ]
     },
     "metadata": {},
     "output_type": "display_data"
    },
    {
     "data": {
      "text/html": [
       "<pre>| 4m 1s                               | 83.25            | 167334          |</pre>"
      ],
      "text/plain": [
       "| 4m 1s                               | 83.25            | 167334          |"
      ]
     },
     "metadata": {},
     "output_type": "display_data"
    },
    {
     "data": {
      "text/html": [
       "<pre>| 4m 3s                               | 83.25            | 167483          |</pre>"
      ],
      "text/plain": [
       "| 4m 3s                               | 83.25            | 167483          |"
      ]
     },
     "metadata": {},
     "output_type": "display_data"
    },
    {
     "data": {
      "text/html": [
       "<pre>| 4m 3s                               | 83.25            | 167547          |</pre>"
      ],
      "text/plain": [
       "| 4m 3s                               | 83.25            | 167547          |"
      ]
     },
     "metadata": {},
     "output_type": "display_data"
    },
    {
     "data": {
      "text/html": [
       "<pre>| 4m 4s                               | 83.25            | 167655          |</pre>"
      ],
      "text/plain": [
       "| 4m 4s                               | 83.25            | 167655          |"
      ]
     },
     "metadata": {},
     "output_type": "display_data"
    },
    {
     "data": {
      "text/html": [
       "<pre>| 4m 5s                               | 83.5             | 167815          |</pre>"
      ],
      "text/plain": [
       "| 4m 5s                               | 83.5             | 167815          |"
      ]
     },
     "metadata": {},
     "output_type": "display_data"
    },
    {
     "data": {
      "text/html": [
       "<pre>| 4m 6s                               | 83.5             | 167990          |</pre>"
      ],
      "text/plain": [
       "| 4m 6s                               | 83.5             | 167990          |"
      ]
     },
     "metadata": {},
     "output_type": "display_data"
    },
    {
     "data": {
      "text/html": [
       "<pre>| 4m 7s                               | 83.75            | 168405          |</pre>"
      ],
      "text/plain": [
       "| 4m 7s                               | 83.75            | 168405          |"
      ]
     },
     "metadata": {},
     "output_type": "display_data"
    },
    {
     "data": {
      "text/html": [
       "<pre>| 4m 8s                               | 83.75            | 168547          |</pre>"
      ],
      "text/plain": [
       "| 4m 8s                               | 83.75            | 168547          |"
      ]
     },
     "metadata": {},
     "output_type": "display_data"
    },
    {
     "data": {
      "text/html": [
       "<pre>| 4m 9s                               | 83.75            | 168635          |</pre>"
      ],
      "text/plain": [
       "| 4m 9s                               | 83.75            | 168635          |"
      ]
     },
     "metadata": {},
     "output_type": "display_data"
    },
    {
     "data": {
      "text/html": [
       "<pre>| 4m 10s                              | 83.75            | 168760          |</pre>"
      ],
      "text/plain": [
       "| 4m 10s                              | 83.75            | 168760          |"
      ]
     },
     "metadata": {},
     "output_type": "display_data"
    },
    {
     "data": {
      "text/html": [
       "<pre>| 4m 11s                              | 84               | 168852          |</pre>"
      ],
      "text/plain": [
       "| 4m 11s                              | 84               | 168852          |"
      ]
     },
     "metadata": {},
     "output_type": "display_data"
    },
    {
     "data": {
      "text/html": [
       "<pre>| 4m 12s                              | 84               | 168989          |</pre>"
      ],
      "text/plain": [
       "| 4m 12s                              | 84               | 168989          |"
      ]
     },
     "metadata": {},
     "output_type": "display_data"
    },
    {
     "data": {
      "text/html": [
       "<pre>| 4m 13s                              | 84               | 169207          |</pre>"
      ],
      "text/plain": [
       "| 4m 13s                              | 84               | 169207          |"
      ]
     },
     "metadata": {},
     "output_type": "display_data"
    },
    {
     "data": {
      "text/html": [
       "<pre>| 4m 14s                              | 84               | 169276          |</pre>"
      ],
      "text/plain": [
       "| 4m 14s                              | 84               | 169276          |"
      ]
     },
     "metadata": {},
     "output_type": "display_data"
    },
    {
     "data": {
      "text/html": [
       "<pre>| 4m 15s                              | 84.25            | 169451          |</pre>"
      ],
      "text/plain": [
       "| 4m 15s                              | 84.25            | 169451          |"
      ]
     },
     "metadata": {},
     "output_type": "display_data"
    },
    {
     "data": {
      "text/html": [
       "<pre>| 4m 16s                              | 84.25            | 169527          |</pre>"
      ],
      "text/plain": [
       "| 4m 16s                              | 84.25            | 169527          |"
      ]
     },
     "metadata": {},
     "output_type": "display_data"
    },
    {
     "data": {
      "text/html": [
       "<pre>| 4m 17s                              | 84.25            | 169725          |</pre>"
      ],
      "text/plain": [
       "| 4m 17s                              | 84.25            | 169725          |"
      ]
     },
     "metadata": {},
     "output_type": "display_data"
    },
    {
     "data": {
      "text/html": [
       "<pre>| 4m 18s                              | 84.5             | 169823          |</pre>"
      ],
      "text/plain": [
       "| 4m 18s                              | 84.5             | 169823          |"
      ]
     },
     "metadata": {},
     "output_type": "display_data"
    },
    {
     "data": {
      "text/html": [
       "<pre>| 4m 19s                              | 84.5             | 169978          |</pre>"
      ],
      "text/plain": [
       "| 4m 19s                              | 84.5             | 169978          |"
      ]
     },
     "metadata": {},
     "output_type": "display_data"
    },
    {
     "data": {
      "text/html": [
       "<pre>| 4m 20s                              | 84.5             | 170134          |</pre>"
      ],
      "text/plain": [
       "| 4m 20s                              | 84.5             | 170134          |"
      ]
     },
     "metadata": {},
     "output_type": "display_data"
    },
    {
     "data": {
      "text/html": [
       "<pre>| 4m 21s                              | 84.5             | 170285          |</pre>"
      ],
      "text/plain": [
       "| 4m 21s                              | 84.5             | 170285          |"
      ]
     },
     "metadata": {},
     "output_type": "display_data"
    },
    {
     "data": {
      "text/html": [
       "<pre>| 4m 22s                              | 84.75            | 170665          |</pre>"
      ],
      "text/plain": [
       "| 4m 22s                              | 84.75            | 170665          |"
      ]
     },
     "metadata": {},
     "output_type": "display_data"
    },
    {
     "data": {
      "text/html": [
       "<pre>| 4m 24s                              | 84.75            | 170748          |</pre>"
      ],
      "text/plain": [
       "| 4m 24s                              | 84.75            | 170748          |"
      ]
     },
     "metadata": {},
     "output_type": "display_data"
    },
    {
     "data": {
      "text/html": [
       "<pre>| 4m 24s                              | 85               | 170880          |</pre>"
      ],
      "text/plain": [
       "| 4m 24s                              | 85               | 170880          |"
      ]
     },
     "metadata": {},
     "output_type": "display_data"
    },
    {
     "data": {
      "text/html": [
       "<pre>| 4m 25s                              | 85               | 170999          |</pre>"
      ],
      "text/plain": [
       "| 4m 25s                              | 85               | 170999          |"
      ]
     },
     "metadata": {},
     "output_type": "display_data"
    },
    {
     "data": {
      "text/html": [
       "<pre>| 4m 26s                              | 85               | 171170          |</pre>"
      ],
      "text/plain": [
       "| 4m 26s                              | 85               | 171170          |"
      ]
     },
     "metadata": {},
     "output_type": "display_data"
    },
    {
     "data": {
      "text/html": [
       "<pre>| 4m 27s                              | 85.25            | 171378          |</pre>"
      ],
      "text/plain": [
       "| 4m 27s                              | 85.25            | 171378          |"
      ]
     },
     "metadata": {},
     "output_type": "display_data"
    },
    {
     "data": {
      "text/html": [
       "<pre>| 4m 28s                              | 85.25            | 171666          |</pre>"
      ],
      "text/plain": [
       "| 4m 28s                              | 85.25            | 171666          |"
      ]
     },
     "metadata": {},
     "output_type": "display_data"
    },
    {
     "data": {
      "text/html": [
       "<pre>| 4m 29s                              | 85.25            | 171768          |</pre>"
      ],
      "text/plain": [
       "| 4m 29s                              | 85.25            | 171768          |"
      ]
     },
     "metadata": {},
     "output_type": "display_data"
    },
    {
     "data": {
      "text/html": [
       "<pre>| 4m 30s                              | 85.5             | 171820          |</pre>"
      ],
      "text/plain": [
       "| 4m 30s                              | 85.5             | 171820          |"
      ]
     },
     "metadata": {},
     "output_type": "display_data"
    },
    {
     "data": {
      "text/html": [
       "<pre>| 4m 31s                              | 85.5             | 171957          |</pre>"
      ],
      "text/plain": [
       "| 4m 31s                              | 85.5             | 171957          |"
      ]
     },
     "metadata": {},
     "output_type": "display_data"
    },
    {
     "data": {
      "text/html": [
       "<pre>| 4m 32s                              | 85.5             | 172261          |</pre>"
      ],
      "text/plain": [
       "| 4m 32s                              | 85.5             | 172261          |"
      ]
     },
     "metadata": {},
     "output_type": "display_data"
    },
    {
     "data": {
      "text/html": [
       "<pre>| 4m 33s                              | 85.75            | 172405          |</pre>"
      ],
      "text/plain": [
       "| 4m 33s                              | 85.75            | 172405          |"
      ]
     },
     "metadata": {},
     "output_type": "display_data"
    },
    {
     "data": {
      "text/html": [
       "<pre>| 4m 35s                              | 85.75            | 172464          |</pre>"
      ],
      "text/plain": [
       "| 4m 35s                              | 85.75            | 172464          |"
      ]
     },
     "metadata": {},
     "output_type": "display_data"
    },
    {
     "data": {
      "text/html": [
       "<pre>| 4m 35s                              | 85.75            | 172519          |</pre>"
      ],
      "text/plain": [
       "| 4m 35s                              | 85.75            | 172519          |"
      ]
     },
     "metadata": {},
     "output_type": "display_data"
    },
    {
     "data": {
      "text/html": [
       "<pre>| 4m 37s                              | 85.75            | 172801          |</pre>"
      ],
      "text/plain": [
       "| 4m 37s                              | 85.75            | 172801          |"
      ]
     },
     "metadata": {},
     "output_type": "display_data"
    },
    {
     "data": {
      "text/html": [
       "<pre>| 4m 37s                              | 86               | 172870          |</pre>"
      ],
      "text/plain": [
       "| 4m 37s                              | 86               | 172870          |"
      ]
     },
     "metadata": {},
     "output_type": "display_data"
    },
    {
     "data": {
      "text/html": [
       "<pre>| 4m 38s                              | 86               | 173013          |</pre>"
      ],
      "text/plain": [
       "| 4m 38s                              | 86               | 173013          |"
      ]
     },
     "metadata": {},
     "output_type": "display_data"
    },
    {
     "data": {
      "text/html": [
       "<pre>| 4m 40s                              | 86               | 173164          |</pre>"
      ],
      "text/plain": [
       "| 4m 40s                              | 86               | 173164          |"
      ]
     },
     "metadata": {},
     "output_type": "display_data"
    },
    {
     "data": {
      "text/html": [
       "<pre>| 4m 40s                              | 86               | 173262          |</pre>"
      ],
      "text/plain": [
       "| 4m 40s                              | 86               | 173262          |"
      ]
     },
     "metadata": {},
     "output_type": "display_data"
    },
    {
     "data": {
      "text/html": [
       "<pre>| 4m 41s                              | 86.25            | 173378          |</pre>"
      ],
      "text/plain": [
       "| 4m 41s                              | 86.25            | 173378          |"
      ]
     },
     "metadata": {},
     "output_type": "display_data"
    },
    {
     "data": {
      "text/html": [
       "<pre>| 4m 42s                              | 86.25            | 173529          |</pre>"
      ],
      "text/plain": [
       "| 4m 42s                              | 86.25            | 173529          |"
      ]
     },
     "metadata": {},
     "output_type": "display_data"
    },
    {
     "data": {
      "text/html": [
       "<pre>| 4m 43s                              | 86.25            | 173720          |</pre>"
      ],
      "text/plain": [
       "| 4m 43s                              | 86.25            | 173720          |"
      ]
     },
     "metadata": {},
     "output_type": "display_data"
    },
    {
     "data": {
      "text/html": [
       "<pre>| 4m 44s                              | 86.25            | 173803          |</pre>"
      ],
      "text/plain": [
       "| 4m 44s                              | 86.25            | 173803          |"
      ]
     },
     "metadata": {},
     "output_type": "display_data"
    },
    {
     "data": {
      "text/html": [
       "<pre>| 4m 45s                              | 86.5             | 173958          |</pre>"
      ],
      "text/plain": [
       "| 4m 45s                              | 86.5             | 173958          |"
      ]
     },
     "metadata": {},
     "output_type": "display_data"
    },
    {
     "data": {
      "text/html": [
       "<pre>| 4m 46s                              | 86.5             | 174125          |</pre>"
      ],
      "text/plain": [
       "| 4m 46s                              | 86.5             | 174125          |"
      ]
     },
     "metadata": {},
     "output_type": "display_data"
    },
    {
     "data": {
      "text/html": [
       "<pre>| 4m 47s                              | 86.5             | 174215          |</pre>"
      ],
      "text/plain": [
       "| 4m 47s                              | 86.5             | 174215          |"
      ]
     },
     "metadata": {},
     "output_type": "display_data"
    },
    {
     "data": {
      "text/html": [
       "<pre>| 4m 48s                              | 86.75            | 174384          |</pre>"
      ],
      "text/plain": [
       "| 4m 48s                              | 86.75            | 174384          |"
      ]
     },
     "metadata": {},
     "output_type": "display_data"
    },
    {
     "data": {
      "text/html": [
       "<pre>| 4m 49s                              | 86.75            | 174496          |</pre>"
      ],
      "text/plain": [
       "| 4m 49s                              | 86.75            | 174496          |"
      ]
     },
     "metadata": {},
     "output_type": "display_data"
    },
    {
     "data": {
      "text/html": [
       "<pre>| 4m 50s                              | 87               | 174821          |</pre>"
      ],
      "text/plain": [
       "| 4m 50s                              | 87               | 174821          |"
      ]
     },
     "metadata": {},
     "output_type": "display_data"
    },
    {
     "data": {
      "text/html": [
       "<pre>| 4m 51s                              | 87               | 174935          |</pre>"
      ],
      "text/plain": [
       "| 4m 51s                              | 87               | 174935          |"
      ]
     },
     "metadata": {},
     "output_type": "display_data"
    },
    {
     "data": {
      "text/html": [
       "<pre>| 4m 52s                              | 87               | 175050          |</pre>"
      ],
      "text/plain": [
       "| 4m 52s                              | 87               | 175050          |"
      ]
     },
     "metadata": {},
     "output_type": "display_data"
    },
    {
     "data": {
      "text/html": [
       "<pre>| 4m 53s                              | 87               | 175146          |</pre>"
      ],
      "text/plain": [
       "| 4m 53s                              | 87               | 175146          |"
      ]
     },
     "metadata": {},
     "output_type": "display_data"
    },
    {
     "data": {
      "text/html": [
       "<pre>| 4m 54s                              | 87.25            | 175550          |</pre>"
      ],
      "text/plain": [
       "| 4m 54s                              | 87.25            | 175550          |"
      ]
     },
     "metadata": {},
     "output_type": "display_data"
    },
    {
     "data": {
      "text/html": [
       "<pre>| 4m 55s                              | 87.25            | 175587          |</pre>"
      ],
      "text/plain": [
       "| 4m 55s                              | 87.25            | 175587          |"
      ]
     },
     "metadata": {},
     "output_type": "display_data"
    },
    {
     "data": {
      "text/html": [
       "<pre>| 4m 57s                              | 87.25            | 175632          |</pre>"
      ],
      "text/plain": [
       "| 4m 57s                              | 87.25            | 175632          |"
      ]
     },
     "metadata": {},
     "output_type": "display_data"
    },
    {
     "data": {
      "text/html": [
       "<pre>| 4m 57s                              | 87.25            | 175790          |</pre>"
      ],
      "text/plain": [
       "| 4m 57s                              | 87.25            | 175790          |"
      ]
     },
     "metadata": {},
     "output_type": "display_data"
    },
    {
     "data": {
      "text/html": [
       "<pre>| 4m 58s                              | 87.5             | 175889          |</pre>"
      ],
      "text/plain": [
       "| 4m 58s                              | 87.5             | 175889          |"
      ]
     },
     "metadata": {},
     "output_type": "display_data"
    },
    {
     "data": {
      "text/html": [
       "<pre>| 4m 59s                              | 87.5             | 176012          |</pre>"
      ],
      "text/plain": [
       "| 4m 59s                              | 87.5             | 176012          |"
      ]
     },
     "metadata": {},
     "output_type": "display_data"
    },
    {
     "data": {
      "text/html": [
       "<pre>| 5m 0s                               | 87.5             | 176235          |</pre>"
      ],
      "text/plain": [
       "| 5m 0s                               | 87.5             | 176235          |"
      ]
     },
     "metadata": {},
     "output_type": "display_data"
    },
    {
     "data": {
      "text/html": [
       "<pre>| 5m 2s                               | 87.75            | 176433          |</pre>"
      ],
      "text/plain": [
       "| 5m 2s                               | 87.75            | 176433          |"
      ]
     },
     "metadata": {},
     "output_type": "display_data"
    },
    {
     "data": {
      "text/html": [
       "<pre>| 5m 3s                               | 87.75            | 176489          |</pre>"
      ],
      "text/plain": [
       "| 5m 3s                               | 87.75            | 176489          |"
      ]
     },
     "metadata": {},
     "output_type": "display_data"
    },
    {
     "data": {
      "text/html": [
       "<pre>| 5m 3s                               | 87.75            | 176510          |</pre>"
      ],
      "text/plain": [
       "| 5m 3s                               | 87.75            | 176510          |"
      ]
     },
     "metadata": {},
     "output_type": "display_data"
    },
    {
     "data": {
      "text/html": [
       "<pre>| 5m 4s                               | 87.75            | 176705          |</pre>"
      ],
      "text/plain": [
       "| 5m 4s                               | 87.75            | 176705          |"
      ]
     },
     "metadata": {},
     "output_type": "display_data"
    },
    {
     "data": {
      "text/html": [
       "<pre>| 5m 5s                               | 87.75            | 176812          |</pre>"
      ],
      "text/plain": [
       "| 5m 5s                               | 87.75            | 176812          |"
      ]
     },
     "metadata": {},
     "output_type": "display_data"
    },
    {
     "data": {
      "text/html": [
       "<pre>| 5m 6s                               | 88               | 176927          |</pre>"
      ],
      "text/plain": [
       "| 5m 6s                               | 88               | 176927          |"
      ]
     },
     "metadata": {},
     "output_type": "display_data"
    },
    {
     "data": {
      "text/html": [
       "<pre>| 5m 7s                               | 88               | 177109          |</pre>"
      ],
      "text/plain": [
       "| 5m 7s                               | 88               | 177109          |"
      ]
     },
     "metadata": {},
     "output_type": "display_data"
    },
    {
     "data": {
      "text/html": [
       "<pre>| 5m 8s                               | 88               | 177221          |</pre>"
      ],
      "text/plain": [
       "| 5m 8s                               | 88               | 177221          |"
      ]
     },
     "metadata": {},
     "output_type": "display_data"
    },
    {
     "data": {
      "text/html": [
       "<pre>| 5m 10s                              | 88.25            | 177340          |</pre>"
      ],
      "text/plain": [
       "| 5m 10s                              | 88.25            | 177340          |"
      ]
     },
     "metadata": {},
     "output_type": "display_data"
    },
    {
     "data": {
      "text/html": [
       "<pre>| 5m 10s                              | 88.25            | 177500          |</pre>"
      ],
      "text/plain": [
       "| 5m 10s                              | 88.25            | 177500          |"
      ]
     },
     "metadata": {},
     "output_type": "display_data"
    },
    {
     "data": {
      "text/html": [
       "<pre>| 5m 12s                              | 88.25            | 177604          |</pre>"
      ],
      "text/plain": [
       "| 5m 12s                              | 88.25            | 177604          |"
      ]
     },
     "metadata": {},
     "output_type": "display_data"
    },
    {
     "data": {
      "text/html": [
       "<pre>| 5m 12s                              | 88.25            | 177735          |</pre>"
      ],
      "text/plain": [
       "| 5m 12s                              | 88.25            | 177735          |"
      ]
     },
     "metadata": {},
     "output_type": "display_data"
    },
    {
     "data": {
      "text/html": [
       "<pre>| 5m 13s                              | 88.5             | 177868          |</pre>"
      ],
      "text/plain": [
       "| 5m 13s                              | 88.5             | 177868          |"
      ]
     },
     "metadata": {},
     "output_type": "display_data"
    },
    {
     "data": {
      "text/html": [
       "<pre>| 5m 14s                              | 88.5             | 178023          |</pre>"
      ],
      "text/plain": [
       "| 5m 14s                              | 88.5             | 178023          |"
      ]
     },
     "metadata": {},
     "output_type": "display_data"
    },
    {
     "data": {
      "text/html": [
       "<pre>| 5m 15s                              | 88.5             | 178149          |</pre>"
      ],
      "text/plain": [
       "| 5m 15s                              | 88.5             | 178149          |"
      ]
     },
     "metadata": {},
     "output_type": "display_data"
    },
    {
     "data": {
      "text/html": [
       "<pre>| 5m 17s                              | 88.5             | 178286          |</pre>"
      ],
      "text/plain": [
       "| 5m 17s                              | 88.5             | 178286          |"
      ]
     },
     "metadata": {},
     "output_type": "display_data"
    },
    {
     "data": {
      "text/html": [
       "<pre>| 5m 18s                              | 88.75            | 178460          |</pre>"
      ],
      "text/plain": [
       "| 5m 18s                              | 88.75            | 178460          |"
      ]
     },
     "metadata": {},
     "output_type": "display_data"
    },
    {
     "data": {
      "text/html": [
       "<pre>| 5m 19s                              | 88.75            | 178624          |</pre>"
      ],
      "text/plain": [
       "| 5m 19s                              | 88.75            | 178624          |"
      ]
     },
     "metadata": {},
     "output_type": "display_data"
    },
    {
     "data": {
      "text/html": [
       "<pre>| 5m 20s                              | 88.75            | 178774          |</pre>"
      ],
      "text/plain": [
       "| 5m 20s                              | 88.75            | 178774          |"
      ]
     },
     "metadata": {},
     "output_type": "display_data"
    },
    {
     "data": {
      "text/html": [
       "<pre>| 5m 21s                              | 89               | 178900          |</pre>"
      ],
      "text/plain": [
       "| 5m 21s                              | 89               | 178900          |"
      ]
     },
     "metadata": {},
     "output_type": "display_data"
    },
    {
     "data": {
      "text/html": [
       "<pre>| 5m 22s                              | 89               | 179027          |</pre>"
      ],
      "text/plain": [
       "| 5m 22s                              | 89               | 179027          |"
      ]
     },
     "metadata": {},
     "output_type": "display_data"
    },
    {
     "data": {
      "text/html": [
       "<pre>| 5m 23s                              | 89               | 179175          |</pre>"
      ],
      "text/plain": [
       "| 5m 23s                              | 89               | 179175          |"
      ]
     },
     "metadata": {},
     "output_type": "display_data"
    },
    {
     "data": {
      "text/html": [
       "<pre>| 5m 24s                              | 89.25            | 179346          |</pre>"
      ],
      "text/plain": [
       "| 5m 24s                              | 89.25            | 179346          |"
      ]
     },
     "metadata": {},
     "output_type": "display_data"
    },
    {
     "data": {
      "text/html": [
       "<pre>| 5m 25s                              | 89.25            | 179524          |</pre>"
      ],
      "text/plain": [
       "| 5m 25s                              | 89.25            | 179524          |"
      ]
     },
     "metadata": {},
     "output_type": "display_data"
    },
    {
     "data": {
      "text/html": [
       "<pre>| 5m 26s                              | 89.25            | 179611          |</pre>"
      ],
      "text/plain": [
       "| 5m 26s                              | 89.25            | 179611          |"
      ]
     },
     "metadata": {},
     "output_type": "display_data"
    },
    {
     "data": {
      "text/html": [
       "<pre>| 5m 27s                              | 89.25            | 179733          |</pre>"
      ],
      "text/plain": [
       "| 5m 27s                              | 89.25            | 179733          |"
      ]
     },
     "metadata": {},
     "output_type": "display_data"
    },
    {
     "data": {
      "text/html": [
       "<pre>| 5m 28s                              | 89.5             | 179878          |</pre>"
      ],
      "text/plain": [
       "| 5m 28s                              | 89.5             | 179878          |"
      ]
     },
     "metadata": {},
     "output_type": "display_data"
    },
    {
     "data": {
      "text/html": [
       "<pre>| 5m 29s                              | 89.5             | 179919          |</pre>"
      ],
      "text/plain": [
       "| 5m 29s                              | 89.5             | 179919          |"
      ]
     },
     "metadata": {},
     "output_type": "display_data"
    },
    {
     "data": {
      "text/html": [
       "<pre>| 5m 30s                              | 89.5             | 180025          |</pre>"
      ],
      "text/plain": [
       "| 5m 30s                              | 89.5             | 180025          |"
      ]
     },
     "metadata": {},
     "output_type": "display_data"
    },
    {
     "data": {
      "text/html": [
       "<pre>| 5m 31s                              | 89.5             | 180095          |</pre>"
      ],
      "text/plain": [
       "| 5m 31s                              | 89.5             | 180095          |"
      ]
     },
     "metadata": {},
     "output_type": "display_data"
    },
    {
     "data": {
      "text/html": [
       "<pre>| 5m 32s                              | 89.5             | 180227          |</pre>"
      ],
      "text/plain": [
       "| 5m 32s                              | 89.5             | 180227          |"
      ]
     },
     "metadata": {},
     "output_type": "display_data"
    },
    {
     "data": {
      "text/html": [
       "<pre>| 5m 33s                              | 89.75            | 180395          |</pre>"
      ],
      "text/plain": [
       "| 5m 33s                              | 89.75            | 180395          |"
      ]
     },
     "metadata": {},
     "output_type": "display_data"
    },
    {
     "data": {
      "text/html": [
       "<pre>| 5m 34s                              | 89.75            | 180524          |</pre>"
      ],
      "text/plain": [
       "| 5m 34s                              | 89.75            | 180524          |"
      ]
     },
     "metadata": {},
     "output_type": "display_data"
    },
    {
     "data": {
      "text/html": [
       "<pre>| 5m 35s                              | 90               | 181301          |</pre>"
      ],
      "text/plain": [
       "| 5m 35s                              | 90               | 181301          |"
      ]
     },
     "metadata": {},
     "output_type": "display_data"
    },
    {
     "data": {
      "text/html": [
       "<pre>| 5m 36s                              | 90.25            | 181410          |</pre>"
      ],
      "text/plain": [
       "| 5m 36s                              | 90.25            | 181410          |"
      ]
     },
     "metadata": {},
     "output_type": "display_data"
    },
    {
     "data": {
      "text/html": [
       "<pre>| 5m 37s                              | 90.25            | 181563          |</pre>"
      ],
      "text/plain": [
       "| 5m 37s                              | 90.25            | 181563          |"
      ]
     },
     "metadata": {},
     "output_type": "display_data"
    },
    {
     "data": {
      "text/html": [
       "<pre>| 5m 38s                              | 90.25            | 181705          |</pre>"
      ],
      "text/plain": [
       "| 5m 38s                              | 90.25            | 181705          |"
      ]
     },
     "metadata": {},
     "output_type": "display_data"
    },
    {
     "data": {
      "text/html": [
       "<pre>| 5m 39s                              | 90.5             | 181871          |</pre>"
      ],
      "text/plain": [
       "| 5m 39s                              | 90.5             | 181871          |"
      ]
     },
     "metadata": {},
     "output_type": "display_data"
    },
    {
     "data": {
      "text/html": [
       "<pre>| 5m 40s                              | 90.5             | 182033          |</pre>"
      ],
      "text/plain": [
       "| 5m 40s                              | 90.5             | 182033          |"
      ]
     },
     "metadata": {},
     "output_type": "display_data"
    },
    {
     "data": {
      "text/html": [
       "<pre>| 5m 41s                              | 90.5             | 182210          |</pre>"
      ],
      "text/plain": [
       "| 5m 41s                              | 90.5             | 182210          |"
      ]
     },
     "metadata": {},
     "output_type": "display_data"
    },
    {
     "data": {
      "text/html": [
       "<pre>| 5m 42s                              | 90.5             | 182335          |</pre>"
      ],
      "text/plain": [
       "| 5m 42s                              | 90.5             | 182335          |"
      ]
     },
     "metadata": {},
     "output_type": "display_data"
    },
    {
     "data": {
      "text/html": [
       "<pre>| 5m 43s                              | 90.75            | 182529          |</pre>"
      ],
      "text/plain": [
       "| 5m 43s                              | 90.75            | 182529          |"
      ]
     },
     "metadata": {},
     "output_type": "display_data"
    },
    {
     "data": {
      "text/html": [
       "<pre>| 5m 44s                              | 90.75            | 182689          |</pre>"
      ],
      "text/plain": [
       "| 5m 44s                              | 90.75            | 182689          |"
      ]
     },
     "metadata": {},
     "output_type": "display_data"
    },
    {
     "data": {
      "text/html": [
       "<pre>| 5m 45s                              | 91               | 182858          |</pre>"
      ],
      "text/plain": [
       "| 5m 45s                              | 91               | 182858          |"
      ]
     },
     "metadata": {},
     "output_type": "display_data"
    },
    {
     "data": {
      "text/html": [
       "<pre>| 5m 46s                              | 91               | 183022          |</pre>"
      ],
      "text/plain": [
       "| 5m 46s                              | 91               | 183022          |"
      ]
     },
     "metadata": {},
     "output_type": "display_data"
    },
    {
     "data": {
      "text/html": [
       "<pre>| 5m 47s                              | 91.25            | 183560          |</pre>"
      ],
      "text/plain": [
       "| 5m 47s                              | 91.25            | 183560          |"
      ]
     },
     "metadata": {},
     "output_type": "display_data"
    },
    {
     "data": {
      "text/html": [
       "<pre>| 5m 48s                              | 91.25            | 183611          |</pre>"
      ],
      "text/plain": [
       "| 5m 48s                              | 91.25            | 183611          |"
      ]
     },
     "metadata": {},
     "output_type": "display_data"
    },
    {
     "data": {
      "text/html": [
       "<pre>| 5m 49s                              | 91.25            | 183760          |</pre>"
      ],
      "text/plain": [
       "| 5m 49s                              | 91.25            | 183760          |"
      ]
     },
     "metadata": {},
     "output_type": "display_data"
    },
    {
     "data": {
      "text/html": [
       "<pre>| 5m 50s                              | 91.25            | 183829          |</pre>"
      ],
      "text/plain": [
       "| 5m 50s                              | 91.25            | 183829          |"
      ]
     },
     "metadata": {},
     "output_type": "display_data"
    },
    {
     "data": {
      "text/html": [
       "<pre>| 5m 51s                              | 91.5             | 183977          |</pre>"
      ],
      "text/plain": [
       "| 5m 51s                              | 91.5             | 183977          |"
      ]
     },
     "metadata": {},
     "output_type": "display_data"
    },
    {
     "data": {
      "text/html": [
       "<pre>| 5m 52s                              | 91.5             | 184209          |</pre>"
      ],
      "text/plain": [
       "| 5m 52s                              | 91.5             | 184209          |"
      ]
     },
     "metadata": {},
     "output_type": "display_data"
    },
    {
     "data": {
      "text/html": [
       "<pre>| 5m 53s                              | 91.75            | 184399          |</pre>"
      ],
      "text/plain": [
       "| 5m 53s                              | 91.75            | 184399          |"
      ]
     },
     "metadata": {},
     "output_type": "display_data"
    },
    {
     "data": {
      "text/html": [
       "<pre>| 5m 54s                              | 91.75            | 184621          |</pre>"
      ],
      "text/plain": [
       "| 5m 54s                              | 91.75            | 184621          |"
      ]
     },
     "metadata": {},
     "output_type": "display_data"
    },
    {
     "data": {
      "text/html": [
       "<pre>| 5m 55s                              | 91.75            | 184845          |</pre>"
      ],
      "text/plain": [
       "| 5m 55s                              | 91.75            | 184845          |"
      ]
     },
     "metadata": {},
     "output_type": "display_data"
    },
    {
     "data": {
      "text/html": [
       "<pre>| 5m 56s                              | 92               | 184995          |</pre>"
      ],
      "text/plain": [
       "| 5m 56s                              | 92               | 184995          |"
      ]
     },
     "metadata": {},
     "output_type": "display_data"
    },
    {
     "data": {
      "text/html": [
       "<pre>| 5m 57s                              | 92               | 185180          |</pre>"
      ],
      "text/plain": [
       "| 5m 57s                              | 92               | 185180          |"
      ]
     },
     "metadata": {},
     "output_type": "display_data"
    },
    {
     "data": {
      "text/html": [
       "<pre>| 5m 58s                              | 92               | 185338          |</pre>"
      ],
      "text/plain": [
       "| 5m 58s                              | 92               | 185338          |"
      ]
     },
     "metadata": {},
     "output_type": "display_data"
    },
    {
     "data": {
      "text/html": [
       "<pre>| 5m 59s                              | 92.25            | 185564          |</pre>"
      ],
      "text/plain": [
       "| 5m 59s                              | 92.25            | 185564          |"
      ]
     },
     "metadata": {},
     "output_type": "display_data"
    },
    {
     "data": {
      "text/html": [
       "<pre>| 6m 0s                               | 92.25            | 185794          |</pre>"
      ],
      "text/plain": [
       "| 6m 0s                               | 92.25            | 185794          |"
      ]
     },
     "metadata": {},
     "output_type": "display_data"
    },
    {
     "data": {
      "text/html": [
       "<pre>| 6m 1s                               | 92.5             | 186024          |</pre>"
      ],
      "text/plain": [
       "| 6m 1s                               | 92.5             | 186024          |"
      ]
     },
     "metadata": {},
     "output_type": "display_data"
    },
    {
     "data": {
      "text/html": [
       "<pre>| 6m 2s                               | 92.5             | 186248          |</pre>"
      ],
      "text/plain": [
       "| 6m 2s                               | 92.5             | 186248          |"
      ]
     },
     "metadata": {},
     "output_type": "display_data"
    },
    {
     "data": {
      "text/html": [
       "<pre>| 6m 3s                               | 92.75            | 186478          |</pre>"
      ],
      "text/plain": [
       "| 6m 3s                               | 92.75            | 186478          |"
      ]
     },
     "metadata": {},
     "output_type": "display_data"
    },
    {
     "data": {
      "text/html": [
       "<pre>| 6m 4s                               | 92.75            | 186683          |</pre>"
      ],
      "text/plain": [
       "| 6m 4s                               | 92.75            | 186683          |"
      ]
     },
     "metadata": {},
     "output_type": "display_data"
    },
    {
     "data": {
      "text/html": [
       "<pre>| 6m 5s                               | 92.75            | 186853          |</pre>"
      ],
      "text/plain": [
       "| 6m 5s                               | 92.75            | 186853          |"
      ]
     },
     "metadata": {},
     "output_type": "display_data"
    },
    {
     "data": {
      "text/html": [
       "<pre>| 6m 6s                               | 93               | 187086          |</pre>"
      ],
      "text/plain": [
       "| 6m 6s                               | 93               | 187086          |"
      ]
     },
     "metadata": {},
     "output_type": "display_data"
    },
    {
     "data": {
      "text/html": [
       "<pre>| 6m 7s                               | 93               | 187222          |</pre>"
      ],
      "text/plain": [
       "| 6m 7s                               | 93               | 187222          |"
      ]
     },
     "metadata": {},
     "output_type": "display_data"
    },
    {
     "data": {
      "text/html": [
       "<pre>| 6m 8s                               | 93.25            | 187410          |</pre>"
      ],
      "text/plain": [
       "| 6m 8s                               | 93.25            | 187410          |"
      ]
     },
     "metadata": {},
     "output_type": "display_data"
    },
    {
     "data": {
      "text/html": [
       "<pre>| 6m 9s                               | 93.25            | 187612          |</pre>"
      ],
      "text/plain": [
       "| 6m 9s                               | 93.25            | 187612          |"
      ]
     },
     "metadata": {},
     "output_type": "display_data"
    },
    {
     "data": {
      "text/html": [
       "<pre>| 6m 10s                              | 93.25            | 187844          |</pre>"
      ],
      "text/plain": [
       "| 6m 10s                              | 93.25            | 187844          |"
      ]
     },
     "metadata": {},
     "output_type": "display_data"
    },
    {
     "data": {
      "text/html": [
       "<pre>| 6m 11s                              | 93.5             | 187968          |</pre>"
      ],
      "text/plain": [
       "| 6m 11s                              | 93.5             | 187968          |"
      ]
     },
     "metadata": {},
     "output_type": "display_data"
    },
    {
     "data": {
      "text/html": [
       "<pre>| 6m 12s                              | 93.5             | 188143          |</pre>"
      ],
      "text/plain": [
       "| 6m 12s                              | 93.5             | 188143          |"
      ]
     },
     "metadata": {},
     "output_type": "display_data"
    },
    {
     "data": {
      "text/html": [
       "<pre>| 6m 13s                              | 93.5             | 188255          |</pre>"
      ],
      "text/plain": [
       "| 6m 13s                              | 93.5             | 188255          |"
      ]
     },
     "metadata": {},
     "output_type": "display_data"
    },
    {
     "data": {
      "text/html": [
       "<pre>| 6m 14s                              | 93.75            | 188450          |</pre>"
      ],
      "text/plain": [
       "| 6m 14s                              | 93.75            | 188450          |"
      ]
     },
     "metadata": {},
     "output_type": "display_data"
    },
    {
     "data": {
      "text/html": [
       "<pre>| 6m 15s                              | 93.75            | 188644          |</pre>"
      ],
      "text/plain": [
       "| 6m 15s                              | 93.75            | 188644          |"
      ]
     },
     "metadata": {},
     "output_type": "display_data"
    },
    {
     "data": {
      "text/html": [
       "<pre>| 6m 16s                              | 93.75            | 188843          |</pre>"
      ],
      "text/plain": [
       "| 6m 16s                              | 93.75            | 188843          |"
      ]
     },
     "metadata": {},
     "output_type": "display_data"
    },
    {
     "data": {
      "text/html": [
       "<pre>| 6m 17s                              | 94               | 189022          |</pre>"
      ],
      "text/plain": [
       "| 6m 17s                              | 94               | 189022          |"
      ]
     },
     "metadata": {},
     "output_type": "display_data"
    },
    {
     "data": {
      "text/html": [
       "<pre>| 6m 18s                              | 94               | 189209          |</pre>"
      ],
      "text/plain": [
       "| 6m 18s                              | 94               | 189209          |"
      ]
     },
     "metadata": {},
     "output_type": "display_data"
    },
    {
     "data": {
      "text/html": [
       "<pre>| 6m 19s                              | 94               | 189374          |</pre>"
      ],
      "text/plain": [
       "| 6m 19s                              | 94               | 189374          |"
      ]
     },
     "metadata": {},
     "output_type": "display_data"
    },
    {
     "data": {
      "text/html": [
       "<pre>| 6m 20s                              | 94.25            | 189585          |</pre>"
      ],
      "text/plain": [
       "| 6m 20s                              | 94.25            | 189585          |"
      ]
     },
     "metadata": {},
     "output_type": "display_data"
    },
    {
     "data": {
      "text/html": [
       "<pre>| 6m 21s                              | 94.25            | 189793          |</pre>"
      ],
      "text/plain": [
       "| 6m 21s                              | 94.25            | 189793          |"
      ]
     },
     "metadata": {},
     "output_type": "display_data"
    },
    {
     "data": {
      "text/html": [
       "<pre>| 6m 22s                              | 94.5             | 190022          |</pre>"
      ],
      "text/plain": [
       "| 6m 22s                              | 94.5             | 190022          |"
      ]
     },
     "metadata": {},
     "output_type": "display_data"
    },
    {
     "data": {
      "text/html": [
       "<pre>| 6m 23s                              | 94.5             | 190237          |</pre>"
      ],
      "text/plain": [
       "| 6m 23s                              | 94.5             | 190237          |"
      ]
     },
     "metadata": {},
     "output_type": "display_data"
    },
    {
     "data": {
      "text/html": [
       "<pre>| 6m 24s                              | 94.75            | 190440          |</pre>"
      ],
      "text/plain": [
       "| 6m 24s                              | 94.75            | 190440          |"
      ]
     },
     "metadata": {},
     "output_type": "display_data"
    },
    {
     "data": {
      "text/html": [
       "<pre>| 6m 25s                              | 94.75            | 190632          |</pre>"
      ],
      "text/plain": [
       "| 6m 25s                              | 94.75            | 190632          |"
      ]
     },
     "metadata": {},
     "output_type": "display_data"
    },
    {
     "data": {
      "text/html": [
       "<pre>| 6m 26s                              | 94.75            | 190841          |</pre>"
      ],
      "text/plain": [
       "| 6m 26s                              | 94.75            | 190841          |"
      ]
     },
     "metadata": {},
     "output_type": "display_data"
    },
    {
     "data": {
      "text/html": [
       "<pre>| 6m 27s                              | 95               | 191030          |</pre>"
      ],
      "text/plain": [
       "| 6m 27s                              | 95               | 191030          |"
      ]
     },
     "metadata": {},
     "output_type": "display_data"
    },
    {
     "data": {
      "text/html": [
       "<pre>| 6m 28s                              | 95               | 191217          |</pre>"
      ],
      "text/plain": [
       "| 6m 28s                              | 95               | 191217          |"
      ]
     },
     "metadata": {},
     "output_type": "display_data"
    },
    {
     "data": {
      "text/html": [
       "<pre>| 6m 29s                              | 95.25            | 191399          |</pre>"
      ],
      "text/plain": [
       "| 6m 29s                              | 95.25            | 191399          |"
      ]
     },
     "metadata": {},
     "output_type": "display_data"
    },
    {
     "data": {
      "text/html": [
       "<pre>| 6m 30s                              | 95.25            | 191608          |</pre>"
      ],
      "text/plain": [
       "| 6m 30s                              | 95.25            | 191608          |"
      ]
     },
     "metadata": {},
     "output_type": "display_data"
    },
    {
     "data": {
      "text/html": [
       "<pre>| 6m 31s                              | 95.25            | 191818          |</pre>"
      ],
      "text/plain": [
       "| 6m 31s                              | 95.25            | 191818          |"
      ]
     },
     "metadata": {},
     "output_type": "display_data"
    },
    {
     "data": {
      "text/html": [
       "<pre>| 6m 32s                              | 95.5             | 192026          |</pre>"
      ],
      "text/plain": [
       "| 6m 32s                              | 95.5             | 192026          |"
      ]
     },
     "metadata": {},
     "output_type": "display_data"
    },
    {
     "data": {
      "text/html": [
       "<pre>| 6m 33s                              | 95.5             | 192242          |</pre>"
      ],
      "text/plain": [
       "| 6m 33s                              | 95.5             | 192242          |"
      ]
     },
     "metadata": {},
     "output_type": "display_data"
    },
    {
     "data": {
      "text/html": [
       "<pre>| 6m 34s                              | 95.75            | 192440          |</pre>"
      ],
      "text/plain": [
       "| 6m 34s                              | 95.75            | 192440          |"
      ]
     },
     "metadata": {},
     "output_type": "display_data"
    },
    {
     "data": {
      "text/html": [
       "<pre>| 6m 35s                              | 95.75            | 192672          |</pre>"
      ],
      "text/plain": [
       "| 6m 35s                              | 95.75            | 192672          |"
      ]
     },
     "metadata": {},
     "output_type": "display_data"
    },
    {
     "data": {
      "text/html": [
       "<pre>| 6m 36s                              | 95.75            | 192875          |</pre>"
      ],
      "text/plain": [
       "| 6m 36s                              | 95.75            | 192875          |"
      ]
     },
     "metadata": {},
     "output_type": "display_data"
    },
    {
     "data": {
      "text/html": [
       "<pre>| 6m 37s                              | 96               | 193104          |</pre>"
      ],
      "text/plain": [
       "| 6m 37s                              | 96               | 193104          |"
      ]
     },
     "metadata": {},
     "output_type": "display_data"
    },
    {
     "data": {
      "text/html": [
       "<pre>| 6m 38s                              | 96               | 193336          |</pre>"
      ],
      "text/plain": [
       "| 6m 38s                              | 96               | 193336          |"
      ]
     },
     "metadata": {},
     "output_type": "display_data"
    },
    {
     "data": {
      "text/html": [
       "<pre>| 6m 39s                              | 96.25            | 193579          |</pre>"
      ],
      "text/plain": [
       "| 6m 39s                              | 96.25            | 193579          |"
      ]
     },
     "metadata": {},
     "output_type": "display_data"
    },
    {
     "data": {
      "text/html": [
       "<pre>| 6m 40s                              | 96.25            | 193793          |</pre>"
      ],
      "text/plain": [
       "| 6m 40s                              | 96.25            | 193793          |"
      ]
     },
     "metadata": {},
     "output_type": "display_data"
    },
    {
     "data": {
      "text/html": [
       "<pre>| 6m 41s                              | 96.5             | 194041          |</pre>"
      ],
      "text/plain": [
       "| 6m 41s                              | 96.5             | 194041          |"
      ]
     },
     "metadata": {},
     "output_type": "display_data"
    },
    {
     "data": {
      "text/html": [
       "<pre>| 6m 42s                              | 96.5             | 194274          |</pre>"
      ],
      "text/plain": [
       "| 6m 42s                              | 96.5             | 194274          |"
      ]
     },
     "metadata": {},
     "output_type": "display_data"
    },
    {
     "data": {
      "text/html": [
       "<pre>| 6m 43s                              | 96.75            | 194488          |</pre>"
      ],
      "text/plain": [
       "| 6m 43s                              | 96.75            | 194488          |"
      ]
     },
     "metadata": {},
     "output_type": "display_data"
    },
    {
     "data": {
      "text/html": [
       "<pre>| 6m 44s                              | 96.75            | 194701          |</pre>"
      ],
      "text/plain": [
       "| 6m 44s                              | 96.75            | 194701          |"
      ]
     },
     "metadata": {},
     "output_type": "display_data"
    },
    {
     "data": {
      "text/html": [
       "<pre>| 6m 45s                              | 97               | 194948          |</pre>"
      ],
      "text/plain": [
       "| 6m 45s                              | 97               | 194948          |"
      ]
     },
     "metadata": {},
     "output_type": "display_data"
    },
    {
     "data": {
      "text/html": [
       "<pre>| 6m 46s                              | 97               | 195199          |</pre>"
      ],
      "text/plain": [
       "| 6m 46s                              | 97               | 195199          |"
      ]
     },
     "metadata": {},
     "output_type": "display_data"
    },
    {
     "data": {
      "text/html": [
       "<pre>| 6m 47s                              | 97.25            | 195448          |</pre>"
      ],
      "text/plain": [
       "| 6m 47s                              | 97.25            | 195448          |"
      ]
     },
     "metadata": {},
     "output_type": "display_data"
    },
    {
     "data": {
      "text/html": [
       "<pre>| 6m 48s                              | 97.25            | 195696          |</pre>"
      ],
      "text/plain": [
       "| 6m 48s                              | 97.25            | 195696          |"
      ]
     },
     "metadata": {},
     "output_type": "display_data"
    },
    {
     "data": {
      "text/html": [
       "<pre>| 6m 49s                              | 97.5             | 195918          |</pre>"
      ],
      "text/plain": [
       "| 6m 49s                              | 97.5             | 195918          |"
      ]
     },
     "metadata": {},
     "output_type": "display_data"
    },
    {
     "data": {
      "text/html": [
       "<pre>| 6m 50s                              | 97.5             | 196141          |</pre>"
      ],
      "text/plain": [
       "| 6m 50s                              | 97.5             | 196141          |"
      ]
     },
     "metadata": {},
     "output_type": "display_data"
    },
    {
     "data": {
      "text/html": [
       "<pre>| 6m 51s                              | 97.5             | 196388          |</pre>"
      ],
      "text/plain": [
       "| 6m 51s                              | 97.5             | 196388          |"
      ]
     },
     "metadata": {},
     "output_type": "display_data"
    },
    {
     "data": {
      "text/html": [
       "<pre>| 6m 52s                              | 97.75            | 196623          |</pre>"
      ],
      "text/plain": [
       "| 6m 52s                              | 97.75            | 196623          |"
      ]
     },
     "metadata": {},
     "output_type": "display_data"
    },
    {
     "data": {
      "text/html": [
       "<pre>| 6m 53s                              | 97.75            | 196879          |</pre>"
      ],
      "text/plain": [
       "| 6m 53s                              | 97.75            | 196879          |"
      ]
     },
     "metadata": {},
     "output_type": "display_data"
    },
    {
     "data": {
      "text/html": [
       "<pre>| 6m 54s                              | 98               | 197109          |</pre>"
      ],
      "text/plain": [
       "| 6m 54s                              | 98               | 197109          |"
      ]
     },
     "metadata": {},
     "output_type": "display_data"
    },
    {
     "data": {
      "text/html": [
       "<pre>| 6m 55s                              | 98               | 197292          |</pre>"
      ],
      "text/plain": [
       "| 6m 55s                              | 98               | 197292          |"
      ]
     },
     "metadata": {},
     "output_type": "display_data"
    },
    {
     "data": {
      "text/html": [
       "<pre>| 6m 56s                              | 98.25            | 197529          |</pre>"
      ],
      "text/plain": [
       "| 6m 56s                              | 98.25            | 197529          |"
      ]
     },
     "metadata": {},
     "output_type": "display_data"
    },
    {
     "data": {
      "text/html": [
       "<pre>| 6m 57s                              | 98.25            | 197745          |</pre>"
      ],
      "text/plain": [
       "| 6m 57s                              | 98.25            | 197745          |"
      ]
     },
     "metadata": {},
     "output_type": "display_data"
    },
    {
     "data": {
      "text/html": [
       "<pre>| 6m 58s                              | 98.5             | 197936          |</pre>"
      ],
      "text/plain": [
       "| 6m 58s                              | 98.5             | 197936          |"
      ]
     },
     "metadata": {},
     "output_type": "display_data"
    },
    {
     "data": {
      "text/html": [
       "<pre>| 6m 59s                              | 98.5             | 198210          |</pre>"
      ],
      "text/plain": [
       "| 6m 59s                              | 98.5             | 198210          |"
      ]
     },
     "metadata": {},
     "output_type": "display_data"
    },
    {
     "data": {
      "text/html": [
       "<pre>| 7m 0s                               | 98.75            | 198467          |</pre>"
      ],
      "text/plain": [
       "| 7m 0s                               | 98.75            | 198467          |"
      ]
     },
     "metadata": {},
     "output_type": "display_data"
    },
    {
     "data": {
      "text/html": [
       "<pre>| 7m 1s                               | 98.75            | 198679          |</pre>"
      ],
      "text/plain": [
       "| 7m 1s                               | 98.75            | 198679          |"
      ]
     },
     "metadata": {},
     "output_type": "display_data"
    },
    {
     "data": {
      "text/html": [
       "<pre>| 7m 2s                               | 99               | 198952          |</pre>"
      ],
      "text/plain": [
       "| 7m 2s                               | 99               | 198952          |"
      ]
     },
     "metadata": {},
     "output_type": "display_data"
    },
    {
     "data": {
      "text/html": [
       "<pre>| 7m 3s                               | 99               | 199280          |</pre>"
      ],
      "text/plain": [
       "| 7m 3s                               | 99               | 199280          |"
      ]
     },
     "metadata": {},
     "output_type": "display_data"
    },
    {
     "data": {
      "text/html": [
       "<pre>| 7m 4s                               | 99.25            | 199592          |</pre>"
      ],
      "text/plain": [
       "| 7m 4s                               | 99.25            | 199592          |"
      ]
     },
     "metadata": {},
     "output_type": "display_data"
    },
    {
     "data": {
      "text/html": [
       "<pre>| 7m 5s                               | 99.25            | 199922          |</pre>"
      ],
      "text/plain": [
       "| 7m 5s                               | 99.25            | 199922          |"
      ]
     },
     "metadata": {},
     "output_type": "display_data"
    },
    {
     "data": {
      "text/html": [
       "<pre>| 7m 6s                               | 99.5             | 200307          |</pre>"
      ],
      "text/plain": [
       "| 7m 6s                               | 99.5             | 200307          |"
      ]
     },
     "metadata": {},
     "output_type": "display_data"
    },
    {
     "data": {
      "text/html": [
       "<pre>| 7m 7s                               | 99.75            | 200911          |</pre>"
      ],
      "text/plain": [
       "| 7m 7s                               | 99.75            | 200911          |"
      ]
     },
     "metadata": {},
     "output_type": "display_data"
    },
    {
     "data": {
      "text/html": [
       "<pre>| 7m 28s                              | 100              | 200936          |</pre>"
      ],
      "text/plain": [
       "| 7m 28s                              | 100              | 200936          |"
      ]
     },
     "metadata": {},
     "output_type": "display_data"
    },
    {
     "data": {
      "text/html": [
       "<pre>+-------------------------------------+------------------+-----------------+</pre>"
      ],
      "text/plain": [
       "+-------------------------------------+------------------+-----------------+"
      ]
     },
     "metadata": {},
     "output_type": "display_data"
    },
    {
     "data": {
      "text/html": [
       "<pre>Finalizing lookup tables.</pre>"
      ],
      "text/plain": [
       "Finalizing lookup tables."
      ]
     },
     "metadata": {},
     "output_type": "display_data"
    },
    {
     "data": {
      "text/html": [
       "<pre>Generating candidate set for working with new users.</pre>"
      ],
      "text/plain": [
       "Generating candidate set for working with new users."
      ]
     },
     "metadata": {},
     "output_type": "display_data"
    },
    {
     "data": {
      "text/html": [
       "<pre>Finished training in 449.528s</pre>"
      ],
      "text/plain": [
       "Finished training in 449.528s"
      ]
     },
     "metadata": {},
     "output_type": "display_data"
    }
   ],
   "source": [
    "item_model_cosine = gl.recommender.item_similarity_recommender.create(training_data, 'user_id', 'item_id',\n",
    "                                                       target = 'rating', similarity_type = 'cosine')"
   ]
  },
  {
   "cell_type": "code",
   "execution_count": 31,
   "metadata": {},
   "outputs": [
    {
     "data": {
      "text/html": [
       "<div style=\"max-height:1000px;max-width:1500px;overflow:auto;\"><table frame=\"box\" rules=\"cols\">\n",
       "    <tr>\n",
       "        <th style=\"padding-left: 1em; padding-right: 1em; text-align: center\">user_id</th>\n",
       "        <th style=\"padding-left: 1em; padding-right: 1em; text-align: center\">item_id</th>\n",
       "        <th style=\"padding-left: 1em; padding-right: 1em; text-align: center\">score</th>\n",
       "        <th style=\"padding-left: 1em; padding-right: 1em; text-align: center\">rank</th>\n",
       "    </tr>\n",
       "    <tr>\n",
       "        <td style=\"padding-left: 1em; padding-right: 1em; text-align: center; vertical-align: top\">A13AZVPEWEK1YC</td>\n",
       "        <td style=\"padding-left: 1em; padding-right: 1em; text-align: center; vertical-align: top\">B008JFUO72</td>\n",
       "        <td style=\"padding-left: 1em; padding-right: 1em; text-align: center; vertical-align: top\">0.00788052678108</td>\n",
       "        <td style=\"padding-left: 1em; padding-right: 1em; text-align: center; vertical-align: top\">1</td>\n",
       "    </tr>\n",
       "    <tr>\n",
       "        <td style=\"padding-left: 1em; padding-right: 1em; text-align: center; vertical-align: top\">A13AZVPEWEK1YC</td>\n",
       "        <td style=\"padding-left: 1em; padding-right: 1em; text-align: center; vertical-align: top\">B0059XTU1S</td>\n",
       "        <td style=\"padding-left: 1em; padding-right: 1em; text-align: center; vertical-align: top\">0.00701835155487</td>\n",
       "        <td style=\"padding-left: 1em; padding-right: 1em; text-align: center; vertical-align: top\">2</td>\n",
       "    </tr>\n",
       "    <tr>\n",
       "        <td style=\"padding-left: 1em; padding-right: 1em; text-align: center; vertical-align: top\">A13AZVPEWEK1YC</td>\n",
       "        <td style=\"padding-left: 1em; padding-right: 1em; text-align: center; vertical-align: top\">B008JFUO36</td>\n",
       "        <td style=\"padding-left: 1em; padding-right: 1em; text-align: center; vertical-align: top\">0.00666397094727</td>\n",
       "        <td style=\"padding-left: 1em; padding-right: 1em; text-align: center; vertical-align: top\">3</td>\n",
       "    </tr>\n",
       "    <tr>\n",
       "        <td style=\"padding-left: 1em; padding-right: 1em; text-align: center; vertical-align: top\">A13AZVPEWEK1YC</td>\n",
       "        <td style=\"padding-left: 1em; padding-right: 1em; text-align: center; vertical-align: top\">B004NSUXHU</td>\n",
       "        <td style=\"padding-left: 1em; padding-right: 1em; text-align: center; vertical-align: top\">0.00649637937546</td>\n",
       "        <td style=\"padding-left: 1em; padding-right: 1em; text-align: center; vertical-align: top\">4</td>\n",
       "    </tr>\n",
       "    <tr>\n",
       "        <td style=\"padding-left: 1em; padding-right: 1em; text-align: center; vertical-align: top\">A13AZVPEWEK1YC</td>\n",
       "        <td style=\"padding-left: 1em; padding-right: 1em; text-align: center; vertical-align: top\">B008JFUQZ2</td>\n",
       "        <td style=\"padding-left: 1em; padding-right: 1em; text-align: center; vertical-align: top\">0.00639806866646</td>\n",
       "        <td style=\"padding-left: 1em; padding-right: 1em; text-align: center; vertical-align: top\">5</td>\n",
       "    </tr>\n",
       "    <tr>\n",
       "        <td style=\"padding-left: 1em; padding-right: 1em; text-align: center; vertical-align: top\">A1EQZH1RGLW6T3</td>\n",
       "        <td style=\"padding-left: 1em; padding-right: 1em; text-align: center; vertical-align: top\">B008JFUO72</td>\n",
       "        <td style=\"padding-left: 1em; padding-right: 1em; text-align: center; vertical-align: top\">0.00788052678108</td>\n",
       "        <td style=\"padding-left: 1em; padding-right: 1em; text-align: center; vertical-align: top\">1</td>\n",
       "    </tr>\n",
       "    <tr>\n",
       "        <td style=\"padding-left: 1em; padding-right: 1em; text-align: center; vertical-align: top\">A1EQZH1RGLW6T3</td>\n",
       "        <td style=\"padding-left: 1em; padding-right: 1em; text-align: center; vertical-align: top\">B0059XTU1S</td>\n",
       "        <td style=\"padding-left: 1em; padding-right: 1em; text-align: center; vertical-align: top\">0.00701835155487</td>\n",
       "        <td style=\"padding-left: 1em; padding-right: 1em; text-align: center; vertical-align: top\">2</td>\n",
       "    </tr>\n",
       "    <tr>\n",
       "        <td style=\"padding-left: 1em; padding-right: 1em; text-align: center; vertical-align: top\">A1EQZH1RGLW6T3</td>\n",
       "        <td style=\"padding-left: 1em; padding-right: 1em; text-align: center; vertical-align: top\">B008JFUO36</td>\n",
       "        <td style=\"padding-left: 1em; padding-right: 1em; text-align: center; vertical-align: top\">0.00666397094727</td>\n",
       "        <td style=\"padding-left: 1em; padding-right: 1em; text-align: center; vertical-align: top\">3</td>\n",
       "    </tr>\n",
       "    <tr>\n",
       "        <td style=\"padding-left: 1em; padding-right: 1em; text-align: center; vertical-align: top\">A1EQZH1RGLW6T3</td>\n",
       "        <td style=\"padding-left: 1em; padding-right: 1em; text-align: center; vertical-align: top\">B004NSUXHU</td>\n",
       "        <td style=\"padding-left: 1em; padding-right: 1em; text-align: center; vertical-align: top\">0.00649637937546</td>\n",
       "        <td style=\"padding-left: 1em; padding-right: 1em; text-align: center; vertical-align: top\">4</td>\n",
       "    </tr>\n",
       "    <tr>\n",
       "        <td style=\"padding-left: 1em; padding-right: 1em; text-align: center; vertical-align: top\">A1EQZH1RGLW6T3</td>\n",
       "        <td style=\"padding-left: 1em; padding-right: 1em; text-align: center; vertical-align: top\">B008JFUQZ2</td>\n",
       "        <td style=\"padding-left: 1em; padding-right: 1em; text-align: center; vertical-align: top\">0.00639806866646</td>\n",
       "        <td style=\"padding-left: 1em; padding-right: 1em; text-align: center; vertical-align: top\">5</td>\n",
       "    </tr>\n",
       "</table>\n",
       "[2160 rows x 4 columns]<br/>Note: Only the head of the SFrame is printed.<br/>You can use print_rows(num_rows=m, num_columns=n) to print more rows and columns.\n",
       "</div>"
      ],
      "text/plain": [
       "Columns:\n",
       "\tuser_id\tstr\n",
       "\titem_id\tstr\n",
       "\tscore\tfloat\n",
       "\trank\tint\n",
       "\n",
       "Rows: 2160\n",
       "\n",
       "Data:\n",
       "+----------------+------------+------------------+------+\n",
       "|    user_id     |  item_id   |      score       | rank |\n",
       "+----------------+------------+------------------+------+\n",
       "| A13AZVPEWEK1YC | B008JFUO72 | 0.00788052678108 |  1   |\n",
       "| A13AZVPEWEK1YC | B0059XTU1S | 0.00701835155487 |  2   |\n",
       "| A13AZVPEWEK1YC | B008JFUO36 | 0.00666397094727 |  3   |\n",
       "| A13AZVPEWEK1YC | B004NSUXHU | 0.00649637937546 |  4   |\n",
       "| A13AZVPEWEK1YC | B008JFUQZ2 | 0.00639806866646 |  5   |\n",
       "| A1EQZH1RGLW6T3 | B008JFUO72 | 0.00788052678108 |  1   |\n",
       "| A1EQZH1RGLW6T3 | B0059XTU1S | 0.00701835155487 |  2   |\n",
       "| A1EQZH1RGLW6T3 | B008JFUO36 | 0.00666397094727 |  3   |\n",
       "| A1EQZH1RGLW6T3 | B004NSUXHU | 0.00649637937546 |  4   |\n",
       "| A1EQZH1RGLW6T3 | B008JFUQZ2 | 0.00639806866646 |  5   |\n",
       "+----------------+------------+------------------+------+\n",
       "[2160 rows x 4 columns]\n",
       "Note: Only the head of the SFrame is printed.\n",
       "You can use print_rows(num_rows=m, num_columns=n) to print more rows and columns."
      ]
     },
     "execution_count": 31,
     "metadata": {},
     "output_type": "execute_result"
    }
   ],
   "source": [
    "item_model_cosine.recommend(users = validation_data['user_id'], k=5, random_seed=123)"
   ]
  },
  {
   "cell_type": "markdown",
   "metadata": {},
   "source": []
  }
 ],
 "metadata": {
  "kernelspec": {
   "display_name": "Python [conda env:gl-env]",
   "language": "python",
   "name": "conda-env-gl-env-py"
  },
  "language_info": {
   "codemirror_mode": {
    "name": "ipython",
    "version": 2
   },
   "file_extension": ".py",
   "mimetype": "text/x-python",
   "name": "python",
   "nbconvert_exporter": "python",
   "pygments_lexer": "ipython2",
   "version": "2.7.11"
  }
 },
 "nbformat": 4,
 "nbformat_minor": 2
}
