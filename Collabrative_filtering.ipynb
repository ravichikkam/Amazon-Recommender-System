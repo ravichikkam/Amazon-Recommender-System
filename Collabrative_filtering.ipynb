{
 "cells": [
  {
   "cell_type": "markdown",
   "metadata": {},
   "source": [
    "# Amazon recommender system"
   ]
  },
  {
   "cell_type": "markdown",
   "metadata": {},
   "source": [
    "### Parse code and write to json"
   ]
  },
  {
   "cell_type": "code",
   "execution_count": 1,
   "metadata": {
    "collapsed": true
   },
   "outputs": [],
   "source": [
    "# import gzip\n",
    "# import simplejson\n",
    "\n",
    "# data = []\n",
    "# def parse(filename):\n",
    "#   f = gzip.open(filename, 'r')\n",
    "#   entry = {}\n",
    "#   for l in f:\n",
    "#     l = l.strip()\n",
    "#     colonPos = l.find(':')\n",
    "#     if colonPos == -1:\n",
    "#       yield entry\n",
    "#       entry = {}\n",
    "#       continue\n",
    "#     eName = l[:colonPos]\n",
    "#     rest = l[colonPos+2:]\n",
    "#     entry[eName] = rest\n",
    "#   yield entry\n",
    "\n",
    "# f = open(\"output.json\", 'w')\n",
    "# for e in parse(\"/Users/ravitejachikkam/Electronics.txt.gz\"):\n",
    "#   f.write(simplejson.dumps(e) + '\\n')"
   ]
  },
  {
   "cell_type": "code",
   "execution_count": 1,
   "metadata": {
    "collapsed": true
   },
   "outputs": [],
   "source": [
    "import pandas as pd"
   ]
  },
  {
   "cell_type": "markdown",
   "metadata": {},
   "source": [
    "### Read json file, parse and convert to SFrame"
   ]
  },
  {
   "cell_type": "code",
   "execution_count": 2,
<<<<<<< HEAD
   "metadata": {
    "collapsed": false
   },
=======
   "metadata": {},
>>>>>>> 349c7e554242b2e6569c156ec2b1ad4089a0b5ba
   "outputs": [
    {
     "data": {
      "text/html": [
       "<div>\n",
       "<style>\n",
       "    .dataframe thead tr:only-child th {\n",
       "        text-align: right;\n",
       "    }\n",
       "\n",
       "    .dataframe thead th {\n",
       "        text-align: left;\n",
       "    }\n",
       "\n",
       "    .dataframe tbody tr th {\n",
       "        vertical-align: top;\n",
       "    }\n",
       "</style>\n",
       "<table border=\"1\" class=\"dataframe\">\n",
       "  <thead>\n",
       "    <tr style=\"text-align: right;\">\n",
       "      <th></th>\n",
       "      <th>0</th>\n",
       "      <th>1</th>\n",
       "      <th>2</th>\n",
       "      <th>3</th>\n",
       "    </tr>\n",
       "  </thead>\n",
       "  <tbody>\n",
       "    <tr>\n",
       "      <th>0</th>\n",
       "      <td>A3R5OBKS7OM2IR</td>\n",
       "      <td>0000143502</td>\n",
       "      <td>5.0</td>\n",
       "      <td>1358380800</td>\n",
       "    </tr>\n",
       "    <tr>\n",
       "      <th>1</th>\n",
       "      <td>A3R5OBKS7OM2IR</td>\n",
       "      <td>0000143529</td>\n",
       "      <td>5.0</td>\n",
       "      <td>1380672000</td>\n",
       "    </tr>\n",
       "    <tr>\n",
       "      <th>2</th>\n",
       "      <td>AH3QC2PC1VTGP</td>\n",
       "      <td>0000143561</td>\n",
       "      <td>2.0</td>\n",
       "      <td>1216252800</td>\n",
       "    </tr>\n",
       "    <tr>\n",
       "      <th>3</th>\n",
       "      <td>A3LKP6WPMP9UKX</td>\n",
       "      <td>0000143588</td>\n",
       "      <td>5.0</td>\n",
       "      <td>1236902400</td>\n",
       "    </tr>\n",
       "    <tr>\n",
       "      <th>4</th>\n",
       "      <td>AVIY68KEPQ5ZD</td>\n",
       "      <td>0000143588</td>\n",
       "      <td>5.0</td>\n",
       "      <td>1232236800</td>\n",
       "    </tr>\n",
       "    <tr>\n",
       "      <th>5</th>\n",
       "      <td>A1CV1WROP5KTTW</td>\n",
       "      <td>0000589012</td>\n",
       "      <td>5.0</td>\n",
       "      <td>1309651200</td>\n",
       "    </tr>\n",
       "    <tr>\n",
       "      <th>6</th>\n",
       "      <td>AP57WZ2X4G0AA</td>\n",
       "      <td>0000589012</td>\n",
       "      <td>2.0</td>\n",
       "      <td>1366675200</td>\n",
       "    </tr>\n",
       "    <tr>\n",
       "      <th>7</th>\n",
       "      <td>A3NMBJ2LCRCATT</td>\n",
       "      <td>0000589012</td>\n",
       "      <td>5.0</td>\n",
       "      <td>1393804800</td>\n",
       "    </tr>\n",
       "    <tr>\n",
       "      <th>8</th>\n",
       "      <td>A5Y15SAOMX6XA</td>\n",
       "      <td>0000589012</td>\n",
       "      <td>2.0</td>\n",
       "      <td>1307404800</td>\n",
       "    </tr>\n",
       "    <tr>\n",
       "      <th>9</th>\n",
       "      <td>A3P671HJ32TCSF</td>\n",
       "      <td>0000589012</td>\n",
       "      <td>5.0</td>\n",
       "      <td>1393718400</td>\n",
       "    </tr>\n",
       "  </tbody>\n",
       "</table>\n",
       "</div>"
      ],
      "text/plain": [
       "                0           1    2           3\n",
       "0  A3R5OBKS7OM2IR  0000143502  5.0  1358380800\n",
       "1  A3R5OBKS7OM2IR  0000143529  5.0  1380672000\n",
       "2   AH3QC2PC1VTGP  0000143561  2.0  1216252800\n",
       "3  A3LKP6WPMP9UKX  0000143588  5.0  1236902400\n",
       "4   AVIY68KEPQ5ZD  0000143588  5.0  1232236800\n",
       "5  A1CV1WROP5KTTW  0000589012  5.0  1309651200\n",
       "6   AP57WZ2X4G0AA  0000589012  2.0  1366675200\n",
       "7  A3NMBJ2LCRCATT  0000589012  5.0  1393804800\n",
       "8   A5Y15SAOMX6XA  0000589012  2.0  1307404800\n",
       "9  A3P671HJ32TCSF  0000589012  5.0  1393718400"
      ]
     },
     "execution_count": 2,
     "metadata": {},
     "output_type": "execute_result"
    }
   ],
   "source": [
    "data = pd.read_csv(\"C:/Users/Sai/Downloads/ratings_Movies_and_TV.csv\", header=None)\n",
    "data.head(10)"
   ]
  },
  {
   "cell_type": "code",
   "execution_count": 3,
   "metadata": {
<<<<<<< HEAD
    "collapsed": false
   },
   "outputs": [
    {
     "data": {
      "text/html": [
       "<div>\n",
       "<style>\n",
       "    .dataframe thead tr:only-child th {\n",
       "        text-align: right;\n",
       "    }\n",
       "\n",
       "    .dataframe thead th {\n",
       "        text-align: left;\n",
       "    }\n",
       "\n",
       "    .dataframe tbody tr th {\n",
       "        vertical-align: top;\n",
       "    }\n",
       "</style>\n",
       "<table border=\"1\" class=\"dataframe\">\n",
       "  <thead>\n",
       "    <tr style=\"text-align: right;\">\n",
       "      <th></th>\n",
       "      <th>userid</th>\n",
       "      <th>productid</th>\n",
       "      <th>rating</th>\n",
       "    </tr>\n",
       "  </thead>\n",
       "  <tbody>\n",
       "    <tr>\n",
       "      <th>0</th>\n",
       "      <td>A3R5OBKS7OM2IR</td>\n",
       "      <td>0000143502</td>\n",
       "      <td>5.0</td>\n",
       "    </tr>\n",
       "    <tr>\n",
       "      <th>1</th>\n",
       "      <td>A3R5OBKS7OM2IR</td>\n",
       "      <td>0000143529</td>\n",
       "      <td>5.0</td>\n",
       "    </tr>\n",
       "    <tr>\n",
       "      <th>2</th>\n",
       "      <td>AH3QC2PC1VTGP</td>\n",
       "      <td>0000143561</td>\n",
       "      <td>2.0</td>\n",
       "    </tr>\n",
       "    <tr>\n",
       "      <th>3</th>\n",
       "      <td>A3LKP6WPMP9UKX</td>\n",
       "      <td>0000143588</td>\n",
       "      <td>5.0</td>\n",
       "    </tr>\n",
       "    <tr>\n",
       "      <th>4</th>\n",
       "      <td>AVIY68KEPQ5ZD</td>\n",
       "      <td>0000143588</td>\n",
       "      <td>5.0</td>\n",
       "    </tr>\n",
       "    <tr>\n",
       "      <th>5</th>\n",
       "      <td>A1CV1WROP5KTTW</td>\n",
       "      <td>0000589012</td>\n",
       "      <td>5.0</td>\n",
       "    </tr>\n",
       "    <tr>\n",
       "      <th>6</th>\n",
       "      <td>AP57WZ2X4G0AA</td>\n",
       "      <td>0000589012</td>\n",
       "      <td>2.0</td>\n",
       "    </tr>\n",
       "    <tr>\n",
       "      <th>7</th>\n",
       "      <td>A3NMBJ2LCRCATT</td>\n",
       "      <td>0000589012</td>\n",
       "      <td>5.0</td>\n",
       "    </tr>\n",
       "    <tr>\n",
       "      <th>8</th>\n",
       "      <td>A5Y15SAOMX6XA</td>\n",
       "      <td>0000589012</td>\n",
       "      <td>2.0</td>\n",
       "    </tr>\n",
       "    <tr>\n",
       "      <th>9</th>\n",
       "      <td>A3P671HJ32TCSF</td>\n",
       "      <td>0000589012</td>\n",
       "      <td>5.0</td>\n",
       "    </tr>\n",
       "    <tr>\n",
       "      <th>10</th>\n",
       "      <td>A3VCKTRD24BG7K</td>\n",
       "      <td>0000589012</td>\n",
       "      <td>5.0</td>\n",
       "    </tr>\n",
       "    <tr>\n",
       "      <th>11</th>\n",
       "      <td>ANF0AGIV0JCH2</td>\n",
       "      <td>0000589012</td>\n",
       "      <td>5.0</td>\n",
       "    </tr>\n",
       "    <tr>\n",
       "      <th>12</th>\n",
       "      <td>A3LDEBLV6MVUBE</td>\n",
       "      <td>0000589012</td>\n",
       "      <td>5.0</td>\n",
       "    </tr>\n",
       "    <tr>\n",
       "      <th>13</th>\n",
       "      <td>A1R2XZWQ6NM5M1</td>\n",
       "      <td>0000589012</td>\n",
       "      <td>5.0</td>\n",
       "    </tr>\n",
       "    <tr>\n",
       "      <th>14</th>\n",
       "      <td>A36L1XGA5AQIJY</td>\n",
       "      <td>0000589012</td>\n",
       "      <td>1.0</td>\n",
       "    </tr>\n",
       "    <tr>\n",
       "      <th>15</th>\n",
       "      <td>A2HWI21H23GDS4</td>\n",
       "      <td>0000589012</td>\n",
       "      <td>4.0</td>\n",
       "    </tr>\n",
       "    <tr>\n",
       "      <th>16</th>\n",
       "      <td>A1DNYFL3RSXRMO</td>\n",
       "      <td>0000589012</td>\n",
       "      <td>5.0</td>\n",
       "    </tr>\n",
       "    <tr>\n",
       "      <th>17</th>\n",
       "      <td>A39VF226GBM1JH</td>\n",
       "      <td>0000589012</td>\n",
       "      <td>1.0</td>\n",
       "    </tr>\n",
       "    <tr>\n",
       "      <th>18</th>\n",
       "      <td>ASB0E2O2FLNA7</td>\n",
       "      <td>0000589012</td>\n",
       "      <td>5.0</td>\n",
       "    </tr>\n",
       "    <tr>\n",
       "      <th>19</th>\n",
       "      <td>A19E15Y9V09CVJ</td>\n",
       "      <td>0000589012</td>\n",
       "      <td>5.0</td>\n",
       "    </tr>\n",
       "    <tr>\n",
       "      <th>20</th>\n",
       "      <td>A3K979KQ7K0S5K</td>\n",
       "      <td>0000589012</td>\n",
       "      <td>5.0</td>\n",
       "    </tr>\n",
       "    <tr>\n",
       "      <th>21</th>\n",
       "      <td>A39ZX6X5H2N4TS</td>\n",
       "      <td>0000589012</td>\n",
       "      <td>5.0</td>\n",
       "    </tr>\n",
       "    <tr>\n",
       "      <th>22</th>\n",
       "      <td>A2Z3ZHQI6YXKHH</td>\n",
       "      <td>0000589012</td>\n",
       "      <td>5.0</td>\n",
       "    </tr>\n",
       "    <tr>\n",
       "      <th>23</th>\n",
       "      <td>A2RNKU9KJHQ2BV</td>\n",
       "      <td>0000589012</td>\n",
       "      <td>5.0</td>\n",
       "    </tr>\n",
       "    <tr>\n",
       "      <th>24</th>\n",
       "      <td>A30WLYNJA3B17H</td>\n",
       "      <td>0000589012</td>\n",
       "      <td>5.0</td>\n",
       "    </tr>\n",
       "    <tr>\n",
       "      <th>25</th>\n",
       "      <td>A3LI15T4YR5WD6</td>\n",
       "      <td>0000589012</td>\n",
       "      <td>5.0</td>\n",
       "    </tr>\n",
       "    <tr>\n",
       "      <th>26</th>\n",
       "      <td>AV3UWBH6K0ETD</td>\n",
       "      <td>0000589012</td>\n",
       "      <td>2.0</td>\n",
       "    </tr>\n",
       "    <tr>\n",
       "      <th>27</th>\n",
       "      <td>A312A70K5UUL1N</td>\n",
       "      <td>0000589012</td>\n",
       "      <td>1.0</td>\n",
       "    </tr>\n",
       "    <tr>\n",
       "      <th>28</th>\n",
       "      <td>A23PSBNOBPLCOM</td>\n",
       "      <td>0000589012</td>\n",
       "      <td>5.0</td>\n",
       "    </tr>\n",
       "    <tr>\n",
       "      <th>29</th>\n",
       "      <td>ATEOWCA0EHRQR</td>\n",
       "      <td>0000589012</td>\n",
       "      <td>5.0</td>\n",
       "    </tr>\n",
       "    <tr>\n",
       "      <th>...</th>\n",
       "      <td>...</td>\n",
       "      <td>...</td>\n",
       "      <td>...</td>\n",
       "    </tr>\n",
       "    <tr>\n",
       "      <th>4607017</th>\n",
       "      <td>A373WTUU2A4TB1</td>\n",
       "      <td>B00LT1JHLW</td>\n",
       "      <td>1.0</td>\n",
       "    </tr>\n",
       "    <tr>\n",
       "      <th>4607018</th>\n",
       "      <td>APO10VQE3MAKE</td>\n",
       "      <td>B00LT1JHLW</td>\n",
       "      <td>5.0</td>\n",
       "    </tr>\n",
       "    <tr>\n",
       "      <th>4607019</th>\n",
       "      <td>A3SXHFEBPOKVUH</td>\n",
       "      <td>B00LT1JHLW</td>\n",
       "      <td>2.0</td>\n",
       "    </tr>\n",
       "    <tr>\n",
       "      <th>4607020</th>\n",
       "      <td>A27BVKLQCW1LCK</td>\n",
       "      <td>B00LT1JHLW</td>\n",
       "      <td>1.0</td>\n",
       "    </tr>\n",
       "    <tr>\n",
       "      <th>4607021</th>\n",
       "      <td>A2MDEBN84TK4HY</td>\n",
       "      <td>B00LT1JHLW</td>\n",
       "      <td>5.0</td>\n",
       "    </tr>\n",
       "    <tr>\n",
       "      <th>4607022</th>\n",
       "      <td>A1WIEH8LK7GX7F</td>\n",
       "      <td>B00LT1JHLW</td>\n",
       "      <td>3.0</td>\n",
       "    </tr>\n",
       "    <tr>\n",
       "      <th>4607023</th>\n",
       "      <td>A2HQOBGW2YYVWQ</td>\n",
       "      <td>B00LT1JHLW</td>\n",
       "      <td>5.0</td>\n",
       "    </tr>\n",
       "    <tr>\n",
       "      <th>4607024</th>\n",
       "      <td>A3PPYOJBMFBP6U</td>\n",
       "      <td>B00LT1JHLW</td>\n",
       "      <td>4.0</td>\n",
       "    </tr>\n",
       "    <tr>\n",
       "      <th>4607025</th>\n",
       "      <td>AZ53XS4PR44Y6</td>\n",
       "      <td>B00LT1JHLW</td>\n",
       "      <td>5.0</td>\n",
       "    </tr>\n",
       "    <tr>\n",
       "      <th>4607026</th>\n",
       "      <td>A1SUH1KA8QVMB7</td>\n",
       "      <td>B00LT1JHLW</td>\n",
       "      <td>5.0</td>\n",
       "    </tr>\n",
       "    <tr>\n",
       "      <th>4607027</th>\n",
       "      <td>ABR3VSYZC1U8E</td>\n",
       "      <td>B00LT1JHLW</td>\n",
       "      <td>5.0</td>\n",
       "    </tr>\n",
       "    <tr>\n",
       "      <th>4607028</th>\n",
       "      <td>A3UHLJGZ2E84A5</td>\n",
       "      <td>B00LT1JHLW</td>\n",
       "      <td>3.0</td>\n",
       "    </tr>\n",
       "    <tr>\n",
       "      <th>4607029</th>\n",
       "      <td>A3GETW3JAL83CW</td>\n",
       "      <td>B00LT1JHLW</td>\n",
       "      <td>5.0</td>\n",
       "    </tr>\n",
       "    <tr>\n",
       "      <th>4607030</th>\n",
       "      <td>A2W4094HU4OLC2</td>\n",
       "      <td>B00LT1JHLW</td>\n",
       "      <td>5.0</td>\n",
       "    </tr>\n",
       "    <tr>\n",
       "      <th>4607031</th>\n",
       "      <td>A22OB0DIJ5FO0G</td>\n",
       "      <td>B00LT1JHLW</td>\n",
       "      <td>4.0</td>\n",
       "    </tr>\n",
       "    <tr>\n",
       "      <th>4607032</th>\n",
       "      <td>A3N9VZS1HE5FHN</td>\n",
       "      <td>B00LT1JHLW</td>\n",
       "      <td>5.0</td>\n",
       "    </tr>\n",
       "    <tr>\n",
       "      <th>4607033</th>\n",
       "      <td>A2CA2Q6JS6CQAE</td>\n",
       "      <td>B00LT1JHLW</td>\n",
       "      <td>5.0</td>\n",
       "    </tr>\n",
       "    <tr>\n",
       "      <th>4607034</th>\n",
       "      <td>AV657BUYHHXZ2</td>\n",
       "      <td>B00LT1JHLW</td>\n",
       "      <td>1.0</td>\n",
       "    </tr>\n",
       "    <tr>\n",
       "      <th>4607035</th>\n",
       "      <td>A1WJYTH5MZ4XMG</td>\n",
       "      <td>B00LT1JHLW</td>\n",
       "      <td>2.0</td>\n",
       "    </tr>\n",
       "    <tr>\n",
       "      <th>4607036</th>\n",
       "      <td>A39ZVXBZ7SJJZ9</td>\n",
       "      <td>B00LT1JHLW</td>\n",
       "      <td>1.0</td>\n",
       "    </tr>\n",
       "    <tr>\n",
       "      <th>4607037</th>\n",
       "      <td>A17W587EH23J0Q</td>\n",
       "      <td>B00LT1JHLW</td>\n",
       "      <td>5.0</td>\n",
       "    </tr>\n",
       "    <tr>\n",
       "      <th>4607038</th>\n",
       "      <td>A3E4Q2YOYCKXON</td>\n",
       "      <td>B00LT1JHLW</td>\n",
       "      <td>5.0</td>\n",
       "    </tr>\n",
       "    <tr>\n",
       "      <th>4607039</th>\n",
       "      <td>A1U1UNV1RLCKRL</td>\n",
       "      <td>B00LT1JHLW</td>\n",
       "      <td>3.0</td>\n",
       "    </tr>\n",
       "    <tr>\n",
       "      <th>4607040</th>\n",
       "      <td>A14THKG1X8861X</td>\n",
       "      <td>B00LT1JHLW</td>\n",
       "      <td>5.0</td>\n",
       "    </tr>\n",
       "    <tr>\n",
       "      <th>4607041</th>\n",
       "      <td>A3DE438TF1A958</td>\n",
       "      <td>B00LT1JHLW</td>\n",
       "      <td>5.0</td>\n",
       "    </tr>\n",
       "    <tr>\n",
       "      <th>4607042</th>\n",
       "      <td>AHCV1RTGY3PJ8</td>\n",
       "      <td>B00LT1JHLW</td>\n",
       "      <td>5.0</td>\n",
       "    </tr>\n",
       "    <tr>\n",
       "      <th>4607043</th>\n",
       "      <td>A2RWCXDMANY0LW</td>\n",
       "      <td>B00LT1JHLW</td>\n",
       "      <td>5.0</td>\n",
       "    </tr>\n",
       "    <tr>\n",
       "      <th>4607044</th>\n",
       "      <td>A3V9PIFRME2XCW</td>\n",
       "      <td>B00LT1JHLW</td>\n",
       "      <td>5.0</td>\n",
       "    </tr>\n",
       "    <tr>\n",
       "      <th>4607045</th>\n",
       "      <td>A3ROPC55BE2OM9</td>\n",
       "      <td>B00LT1JHLW</td>\n",
       "      <td>5.0</td>\n",
       "    </tr>\n",
       "    <tr>\n",
       "      <th>4607046</th>\n",
       "      <td>A2ARBNMH5Q5YM1</td>\n",
       "      <td>B00LVGP8EA</td>\n",
       "      <td>5.0</td>\n",
       "    </tr>\n",
       "  </tbody>\n",
       "</table>\n",
       "<p>4607047 rows × 3 columns</p>\n",
       "</div>"
      ],
=======
    "collapsed": true
   },
   "outputs": [],
   "source": [
    "data.columns = [\"userid\", \"productid\", \"rating\", \"timestamp\"]\n",
    "#data.drop([\"timestamp\"], axis = 1)"
   ]
  },
  {
   "cell_type": "markdown",
   "metadata": {},
   "source": [
    "### Pre Processing"
   ]
  },
  {
   "cell_type": "code",
   "execution_count": 7,
   "metadata": {},
   "outputs": [
    {
     "data": {
>>>>>>> 349c7e554242b2e6569c156ec2b1ad4089a0b5ba
      "text/plain": [
       "A3LZGLA88K0LA0    2654\n",
       "A16CZRQL23NOIW    2649\n",
       "AV6QDP8Q0ONK4     2577\n",
       "ABO2ZI2Y5DQ9T     2547\n",
       "A2EDZH51XHFA9B    2497\n",
       "A328S9RN3U5M68    2471\n",
       "A2NJO6YE954DBH    2366\n",
       "ANCOMAI0I7LVG     2356\n",
       "AIMR915K4YCN      2208\n",
       "A1GGOC9PVDXW7Z    2137\n",
       "Name: userid, dtype: int64"
      ]
     },
<<<<<<< HEAD
     "execution_count": 3,
=======
     "execution_count": 7,
>>>>>>> 349c7e554242b2e6569c156ec2b1ad4089a0b5ba
     "metadata": {},
     "output_type": "execute_result"
    }
   ],
   "source": [
    "freq = data['userid'].value_counts()\n",
    "freq.head(10)"
   ]
  },
  {
   "cell_type": "code",
<<<<<<< HEAD
=======
   "execution_count": 8,
   "metadata": {},
   "outputs": [
    {
     "data": {
      "text/plain": [
       "2654"
      ]
     },
     "execution_count": 8,
     "metadata": {},
     "output_type": "execute_result"
    }
   ],
   "source": [
    "freq['A3LZGLA88K0LA0']"
   ]
  },
  {
   "cell_type": "code",
   "execution_count": 12,
   "metadata": {
    "collapsed": true
   },
   "outputs": [],
   "source": [
    "import matplotlib.pyplot as plt\n",
    "%matplotlib inline"
   ]
  },
  {
   "cell_type": "code",
   "execution_count": 31,
   "metadata": {},
   "outputs": [
    {
     "data": {
      "image/png": "iVBORw0KGgoAAAANSUhEUgAAAYoAAAEKCAYAAAAMzhLIAAAABHNCSVQICAgIfAhkiAAAAAlwSFlz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\n",
      "text/plain": [
       "<matplotlib.figure.Figure at 0x11f339450>"
      ]
     },
     "metadata": {},
     "output_type": "display_data"
    }
   ],
   "source": [
    "n, bins, patches = plt.hist(freq, 1000)\n",
    "plt.xlim([0,500])\n",
    "plt.ylim([0, 10000])\n",
    "plt.title(\"userid frequency\")\n",
    "plt.show()"
   ]
  },
  {
   "cell_type": "code",
   "execution_count": 33,
   "metadata": {},
   "outputs": [
    {
     "data": {
      "image/png": "iVBORw0KGgoAAAANSUhEUgAAAYoAAAEKCAYAAAAMzhLIAAAABHNCSVQICAgIfAhkiAAAAAlwSFlz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\n1ExcXd+lAAAAAElFTkSuQmCC\n",
      "text/plain": [
       "<matplotlib.figure.Figure at 0x11e903090>"
      ]
     },
     "metadata": {},
     "output_type": "display_data"
    }
   ],
   "source": [
    "n, bins, patches = plt.hist(data['productid'].value_counts(), 1000)\n",
    "plt.xlim([0,500])\n",
    "plt.ylim([0, 10000])\n",
    "plt.title(\"itemid frequency\")\n",
    "plt.show()"
   ]
  },
  {
   "cell_type": "code",
>>>>>>> 349c7e554242b2e6569c156ec2b1ad4089a0b5ba
   "execution_count": 4,
   "metadata": {
    "collapsed": false
   },
   "outputs": [
    {
     "ename": "ModuleNotFoundError",
     "evalue": "No module named 'graphlab'",
     "output_type": "error",
     "traceback": [
      "\u001b[1;31m---------------------------------------------------------------------------\u001b[0m",
      "\u001b[1;31mModuleNotFoundError\u001b[0m                       Traceback (most recent call last)",
      "\u001b[1;32m<ipython-input-4-4a710214f762>\u001b[0m in \u001b[0;36m<module>\u001b[1;34m()\u001b[0m\n\u001b[1;32m----> 1\u001b[1;33m \u001b[1;32mimport\u001b[0m \u001b[0mgraphlab\u001b[0m \u001b[1;32mas\u001b[0m \u001b[0mgl\u001b[0m\u001b[1;33m\u001b[0m\u001b[0m\n\u001b[0m",
      "\u001b[1;31mModuleNotFoundError\u001b[0m: No module named 'graphlab'"
     ]
    }
   ],
   "source": [
    "import graphlab as gl"
   ]
  },
  {
   "cell_type": "code",
<<<<<<< HEAD
   "execution_count": 8,
   "metadata": {
    "collapsed": false
   },
=======
   "execution_count": 5,
   "metadata": {},
>>>>>>> 349c7e554242b2e6569c156ec2b1ad4089a0b5ba
   "outputs": [
    {
     "name": "stderr",
     "output_type": "stream",
     "text": [
      "[INFO] graphlab.cython.cy_server: GraphLab Create v2.1 started. Logging: /tmp/graphlab_server_1525216395.log\n"
     ]
    },
    {
     "name": "stdout",
     "output_type": "stream",
     "text": [
      "This non-commercial license of GraphLab Create for academic use is assigned to rchikkam@asu.edu and will expire on April 14, 2019.\n"
     ]
    }
   ],
   "source": [
    "sf = gl.SFrame({'user_id': data['userid'],\n",
    "                      'item_id': data['productid'],\n",
    "                      'rating': data['rating']})"
   ]
  },
  {
   "cell_type": "markdown",
   "metadata": {},
   "source": [
    "#### Split data to create validation and training data"
   ]
  },
  {
   "cell_type": "code",
<<<<<<< HEAD
   "execution_count": 11,
   "metadata": {
    "collapsed": false
   },
   "outputs": [
    {
     "data": {
      "text/html": [
       "<pre>Recsys training: model = item_similarity</pre>"
      ],
      "text/plain": [
       "Recsys training: model = item_similarity"
      ]
     },
     "metadata": {},
     "output_type": "display_data"
    },
    {
     "data": {
      "text/html": [
       "<pre>Warning: Column 'rating' ignored.</pre>"
      ],
      "text/plain": [
       "Warning: Column 'rating' ignored."
      ]
     },
     "metadata": {},
     "output_type": "display_data"
    },
    {
     "data": {
      "text/html": [
       "<pre>    To use this column as the target, set target = \"rating\" and use a method that allows the use of a target.</pre>"
      ],
      "text/plain": [
       "    To use this column as the target, set target = \"rating\" and use a method that allows the use of a target."
      ]
     },
     "metadata": {},
     "output_type": "display_data"
    },
    {
     "data": {
      "text/html": [
       "<pre>Preparing data set.</pre>"
      ],
      "text/plain": [
       "Preparing data set."
      ]
     },
     "metadata": {},
     "output_type": "display_data"
    },
    {
     "data": {
      "text/html": [
       "<pre>    Data has 4606670 observations with 2088478 users and 200937 items.</pre>"
      ],
      "text/plain": [
       "    Data has 4606670 observations with 2088478 users and 200937 items."
      ]
     },
     "metadata": {},
     "output_type": "display_data"
    },
    {
     "data": {
      "text/html": [
       "<pre>    Data prepared in: 10.7099s</pre>"
      ],
      "text/plain": [
       "    Data prepared in: 10.7099s"
      ]
     },
     "metadata": {},
     "output_type": "display_data"
    },
    {
     "data": {
      "text/html": [
       "<pre>Training model from provided data.</pre>"
      ],
      "text/plain": [
       "Training model from provided data."
      ]
     },
     "metadata": {},
     "output_type": "display_data"
    },
    {
     "data": {
      "text/html": [
       "<pre>Gathering per-item and per-user statistics.</pre>"
      ],
      "text/plain": [
       "Gathering per-item and per-user statistics."
      ]
     },
     "metadata": {},
     "output_type": "display_data"
    },
    {
     "data": {
      "text/html": [
       "<pre>+--------------------------------+------------+</pre>"
      ],
      "text/plain": [
       "+--------------------------------+------------+"
      ]
     },
     "metadata": {},
     "output_type": "display_data"
    },
    {
     "data": {
      "text/html": [
       "<pre>| Elapsed Time (Item Statistics) | % Complete |</pre>"
      ],
      "text/plain": [
       "| Elapsed Time (Item Statistics) | % Complete |"
      ]
     },
     "metadata": {},
     "output_type": "display_data"
    },
    {
     "data": {
      "text/html": [
       "<pre>+--------------------------------+------------+</pre>"
      ],
      "text/plain": [
       "+--------------------------------+------------+"
      ]
     },
     "metadata": {},
     "output_type": "display_data"
    },
    {
     "data": {
      "text/html": [
       "<pre>| 17.731ms                       | 0          |</pre>"
      ],
      "text/plain": [
       "| 17.731ms                       | 0          |"
      ]
     },
     "metadata": {},
     "output_type": "display_data"
    },
    {
     "data": {
      "text/html": [
       "<pre>| 687.768ms                      | 100        |</pre>"
      ],
      "text/plain": [
       "| 687.768ms                      | 100        |"
      ]
     },
     "metadata": {},
     "output_type": "display_data"
    },
    {
     "data": {
      "text/html": [
       "<pre>+--------------------------------+------------+</pre>"
      ],
      "text/plain": [
       "+--------------------------------+------------+"
      ]
     },
     "metadata": {},
     "output_type": "display_data"
    },
    {
     "data": {
      "text/html": [
       "<pre>Setting up lookup tables.</pre>"
      ],
      "text/plain": [
       "Setting up lookup tables."
      ]
     },
     "metadata": {},
     "output_type": "display_data"
    },
    {
     "data": {
      "text/html": [
       "<pre>Processing data in one pass using sparse lookup tables.</pre>"
      ],
      "text/plain": [
       "Processing data in one pass using sparse lookup tables."
      ]
     },
     "metadata": {},
     "output_type": "display_data"
    },
    {
     "data": {
      "text/html": [
       "<pre>+-------------------------------------+------------------+-----------------+</pre>"
      ],
      "text/plain": [
       "+-------------------------------------+------------------+-----------------+"
      ]
     },
     "metadata": {},
     "output_type": "display_data"
    },
    {
     "data": {
      "text/html": [
       "<pre>| Elapsed Time (Constructing Lookups) | Total % Complete | Items Processed |</pre>"
      ],
      "text/plain": [
       "| Elapsed Time (Constructing Lookups) | Total % Complete | Items Processed |"
      ]
     },
     "metadata": {},
     "output_type": "display_data"
    },
    {
     "data": {
      "text/html": [
       "<pre>+-------------------------------------+------------------+-----------------+</pre>"
      ],
      "text/plain": [
       "+-------------------------------------+------------------+-----------------+"
      ]
     },
     "metadata": {},
     "output_type": "display_data"
    },
    {
     "data": {
      "text/html": [
       "<pre>| 1.93s                               | 0                | 0               |</pre>"
      ],
      "text/plain": [
       "| 1.93s                               | 0                | 0               |"
      ]
     },
     "metadata": {},
     "output_type": "display_data"
    },
    {
     "data": {
      "text/html": [
       "<pre>| 2.95s                               | 3.5              | 7047            |</pre>"
      ],
      "text/plain": [
       "| 2.95s                               | 3.5              | 7047            |"
      ]
     },
     "metadata": {},
     "output_type": "display_data"
    },
    {
     "data": {
      "text/html": [
       "<pre>| 3.98s                               | 7.75             | 15635           |</pre>"
      ],
      "text/plain": [
       "| 3.98s                               | 7.75             | 15635           |"
      ]
     },
     "metadata": {},
     "output_type": "display_data"
    },
    {
     "data": {
      "text/html": [
       "<pre>| 5.00s                               | 12               | 24585           |</pre>"
      ],
      "text/plain": [
       "| 5.00s                               | 12               | 24585           |"
      ]
     },
     "metadata": {},
     "output_type": "display_data"
    },
    {
     "data": {
      "text/html": [
       "<pre>| 6.03s                               | 15               | 30561           |</pre>"
      ],
      "text/plain": [
       "| 6.03s                               | 15               | 30561           |"
      ]
     },
     "metadata": {},
     "output_type": "display_data"
    },
    {
     "data": {
      "text/html": [
       "<pre>| 6.96s                               | 15.25            | 30925           |</pre>"
      ],
      "text/plain": [
       "| 6.96s                               | 15.25            | 30925           |"
      ]
     },
     "metadata": {},
     "output_type": "display_data"
    },
    {
     "data": {
      "text/html": [
       "<pre>| 7.96s                               | 17               | 34362           |</pre>"
      ],
      "text/plain": [
       "| 7.96s                               | 17               | 34362           |"
      ]
     },
     "metadata": {},
     "output_type": "display_data"
    },
    {
     "data": {
      "text/html": [
       "<pre>| 8.97s                               | 23.25            | 47059           |</pre>"
      ],
      "text/plain": [
       "| 8.97s                               | 23.25            | 47059           |"
      ]
     },
     "metadata": {},
     "output_type": "display_data"
    },
    {
     "data": {
      "text/html": [
       "<pre>| 9.99s                               | 23.5             | 47641           |</pre>"
      ],
      "text/plain": [
       "| 9.99s                               | 23.5             | 47641           |"
      ]
     },
     "metadata": {},
     "output_type": "display_data"
    },
    {
     "data": {
      "text/html": [
       "<pre>| 11.05s                              | 24.75            | 50168           |</pre>"
      ],
      "text/plain": [
       "| 11.05s                              | 24.75            | 50168           |"
      ]
     },
     "metadata": {},
     "output_type": "display_data"
    },
    {
     "data": {
      "text/html": [
       "<pre>| 11.99s                              | 25.75            | 52100           |</pre>"
      ],
      "text/plain": [
       "| 11.99s                              | 25.75            | 52100           |"
      ]
     },
     "metadata": {},
     "output_type": "display_data"
    },
    {
     "data": {
      "text/html": [
       "<pre>| 13.11s                              | 26.25            | 52778           |</pre>"
      ],
      "text/plain": [
       "| 13.11s                              | 26.25            | 52778           |"
      ]
     },
     "metadata": {},
     "output_type": "display_data"
    },
    {
     "data": {
      "text/html": [
       "<pre>| 14.06s                              | 27               | 54688           |</pre>"
      ],
      "text/plain": [
       "| 14.06s                              | 27               | 54688           |"
      ]
     },
     "metadata": {},
     "output_type": "display_data"
    },
    {
     "data": {
      "text/html": [
       "<pre>| 15.09s                              | 27.5             | 55427           |</pre>"
      ],
      "text/plain": [
       "| 15.09s                              | 27.5             | 55427           |"
      ]
     },
     "metadata": {},
     "output_type": "display_data"
    },
    {
     "data": {
      "text/html": [
       "<pre>| 16.08s                              | 28               | 56718           |</pre>"
      ],
      "text/plain": [
       "| 16.08s                              | 28               | 56718           |"
      ]
     },
     "metadata": {},
     "output_type": "display_data"
    },
    {
     "data": {
      "text/html": [
       "<pre>| 17.29s                              | 28.75            | 58205           |</pre>"
      ],
      "text/plain": [
       "| 17.29s                              | 28.75            | 58205           |"
      ]
     },
     "metadata": {},
     "output_type": "display_data"
    },
    {
     "data": {
      "text/html": [
       "<pre>| 18.09s                              | 29               | 58529           |</pre>"
      ],
      "text/plain": [
       "| 18.09s                              | 29               | 58529           |"
      ]
     },
     "metadata": {},
     "output_type": "display_data"
    },
    {
     "data": {
      "text/html": [
       "<pre>| 19.02s                              | 29.5             | 59549           |</pre>"
      ],
      "text/plain": [
       "| 19.02s                              | 29.5             | 59549           |"
      ]
     },
     "metadata": {},
     "output_type": "display_data"
    },
    {
     "data": {
      "text/html": [
       "<pre>| 20.03s                              | 30.25            | 61206           |</pre>"
      ],
      "text/plain": [
       "| 20.03s                              | 30.25            | 61206           |"
      ]
     },
     "metadata": {},
     "output_type": "display_data"
    },
    {
     "data": {
      "text/html": [
       "<pre>| 21.03s                              | 31               | 62358           |</pre>"
      ],
      "text/plain": [
       "| 21.03s                              | 31               | 62358           |"
      ]
     },
     "metadata": {},
     "output_type": "display_data"
    },
    {
     "data": {
      "text/html": [
       "<pre>| 22.04s                              | 32.25            | 65119           |</pre>"
      ],
      "text/plain": [
       "| 22.04s                              | 32.25            | 65119           |"
      ]
     },
     "metadata": {},
     "output_type": "display_data"
    },
    {
     "data": {
      "text/html": [
       "<pre>| 23.05s                              | 32.75            | 66049           |</pre>"
      ],
      "text/plain": [
       "| 23.05s                              | 32.75            | 66049           |"
      ]
     },
     "metadata": {},
     "output_type": "display_data"
    },
    {
     "data": {
      "text/html": [
       "<pre>| 24.04s                              | 38               | 76545           |</pre>"
      ],
      "text/plain": [
       "| 24.04s                              | 38               | 76545           |"
      ]
     },
     "metadata": {},
     "output_type": "display_data"
    },
    {
     "data": {
      "text/html": [
       "<pre>| 25.05s                              | 39.75            | 80200           |</pre>"
      ],
      "text/plain": [
       "| 25.05s                              | 39.75            | 80200           |"
      ]
     },
     "metadata": {},
     "output_type": "display_data"
    },
    {
     "data": {
      "text/html": [
       "<pre>| 26.12s                              | 42.5             | 85568           |</pre>"
      ],
      "text/plain": [
       "| 26.12s                              | 42.5             | 85568           |"
      ]
     },
     "metadata": {},
     "output_type": "display_data"
    },
    {
     "data": {
      "text/html": [
       "<pre>| 27.06s                              | 44.25            | 89014           |</pre>"
      ],
      "text/plain": [
       "| 27.06s                              | 44.25            | 89014           |"
      ]
     },
     "metadata": {},
     "output_type": "display_data"
    },
    {
     "data": {
      "text/html": [
       "<pre>| 28.06s                              | 48               | 96741           |</pre>"
      ],
      "text/plain": [
       "| 28.06s                              | 48               | 96741           |"
      ]
     },
     "metadata": {},
     "output_type": "display_data"
    },
    {
     "data": {
      "text/html": [
       "<pre>| 29.09s                              | 49.5             | 99652           |</pre>"
      ],
      "text/plain": [
       "| 29.09s                              | 49.5             | 99652           |"
      ]
     },
     "metadata": {},
     "output_type": "display_data"
    },
    {
     "data": {
      "text/html": [
       "<pre>| 30.08s                              | 51.5             | 103552          |</pre>"
      ],
      "text/plain": [
       "| 30.08s                              | 51.5             | 103552          |"
      ]
     },
     "metadata": {},
     "output_type": "display_data"
    },
    {
     "data": {
      "text/html": [
       "<pre>| 31.08s                              | 55               | 110921          |</pre>"
      ],
      "text/plain": [
       "| 31.08s                              | 55               | 110921          |"
      ]
     },
     "metadata": {},
     "output_type": "display_data"
    },
    {
     "data": {
      "text/html": [
       "<pre>| 32.13s                              | 56.25            | 113321          |</pre>"
      ],
      "text/plain": [
       "| 32.13s                              | 56.25            | 113321          |"
      ]
     },
     "metadata": {},
     "output_type": "display_data"
    },
    {
     "data": {
      "text/html": [
       "<pre>| 33.09s                              | 57               | 114971          |</pre>"
      ],
      "text/plain": [
       "| 33.09s                              | 57               | 114971          |"
      ]
     },
     "metadata": {},
     "output_type": "display_data"
    },
    {
     "data": {
      "text/html": [
       "<pre>| 34.22s                              | 58               | 116691          |</pre>"
      ],
      "text/plain": [
       "| 34.22s                              | 58               | 116691          |"
      ]
     },
     "metadata": {},
     "output_type": "display_data"
    },
    {
     "data": {
      "text/html": [
       "<pre>| 35.10s                              | 58.25            | 117164          |</pre>"
      ],
      "text/plain": [
       "| 35.10s                              | 58.25            | 117164          |"
      ]
     },
     "metadata": {},
     "output_type": "display_data"
    },
    {
     "data": {
      "text/html": [
       "<pre>| 36.10s                              | 59               | 118907          |</pre>"
      ],
      "text/plain": [
       "| 36.10s                              | 59               | 118907          |"
      ]
     },
     "metadata": {},
     "output_type": "display_data"
    },
    {
     "data": {
      "text/html": [
       "<pre>| 37.11s                              | 59.25            | 119232          |</pre>"
      ],
      "text/plain": [
       "| 37.11s                              | 59.25            | 119232          |"
      ]
     },
     "metadata": {},
     "output_type": "display_data"
    },
    {
     "data": {
      "text/html": [
       "<pre>| 38.25s                              | 61.75            | 124548          |</pre>"
      ],
      "text/plain": [
       "| 38.25s                              | 61.75            | 124548          |"
      ]
     },
     "metadata": {},
     "output_type": "display_data"
    },
    {
     "data": {
      "text/html": [
       "<pre>| 39.12s                              | 62               | 124845          |</pre>"
      ],
      "text/plain": [
       "| 39.12s                              | 62               | 124845          |"
      ]
     },
     "metadata": {},
     "output_type": "display_data"
    },
    {
     "data": {
      "text/html": [
       "<pre>| 40.37s                              | 62.25            | 125230          |</pre>"
      ],
      "text/plain": [
       "| 40.37s                              | 62.25            | 125230          |"
      ]
     },
     "metadata": {},
     "output_type": "display_data"
    },
    {
     "data": {
      "text/html": [
       "<pre>| 41.23s                              | 62.25            | 125432          |</pre>"
      ],
      "text/plain": [
       "| 41.23s                              | 62.25            | 125432          |"
      ]
     },
     "metadata": {},
     "output_type": "display_data"
    },
    {
     "data": {
      "text/html": [
       "<pre>| 42.15s                              | 62.5             | 125682          |</pre>"
      ],
      "text/plain": [
       "| 42.15s                              | 62.5             | 125682          |"
      ]
     },
     "metadata": {},
     "output_type": "display_data"
    },
    {
     "data": {
      "text/html": [
       "<pre>| 43.15s                              | 63               | 126887          |</pre>"
      ],
      "text/plain": [
       "| 43.15s                              | 63               | 126887          |"
      ]
     },
     "metadata": {},
     "output_type": "display_data"
    },
    {
     "data": {
      "text/html": [
       "<pre>| 44.15s                              | 63.25            | 127092          |</pre>"
      ],
      "text/plain": [
       "| 44.15s                              | 63.25            | 127092          |"
      ]
     },
     "metadata": {},
     "output_type": "display_data"
    },
    {
     "data": {
      "text/html": [
       "<pre>| 45.15s                              | 63.25            | 127398          |</pre>"
      ],
      "text/plain": [
       "| 45.15s                              | 63.25            | 127398          |"
      ]
     },
     "metadata": {},
     "output_type": "display_data"
    },
    {
     "data": {
      "text/html": [
       "<pre>| 46.23s                              | 63.25            | 127527          |</pre>"
      ],
      "text/plain": [
       "| 46.23s                              | 63.25            | 127527          |"
      ]
     },
     "metadata": {},
     "output_type": "display_data"
    },
    {
     "data": {
      "text/html": [
       "<pre>| 47.16s                              | 63.5             | 127687          |</pre>"
      ],
      "text/plain": [
       "| 47.16s                              | 63.5             | 127687          |"
      ]
     },
     "metadata": {},
     "output_type": "display_data"
    },
    {
     "data": {
      "text/html": [
       "<pre>| 48.22s                              | 63.5             | 127943          |</pre>"
      ],
      "text/plain": [
       "| 48.22s                              | 63.5             | 127943          |"
      ]
     },
     "metadata": {},
     "output_type": "display_data"
    },
    {
     "data": {
      "text/html": [
       "<pre>| 49.18s                              | 63.5             | 128059          |</pre>"
      ],
      "text/plain": [
       "| 49.18s                              | 63.5             | 128059          |"
      ]
     },
     "metadata": {},
     "output_type": "display_data"
    },
    {
     "data": {
      "text/html": [
       "<pre>| 50.18s                              | 63.75            | 128169          |</pre>"
      ],
      "text/plain": [
       "| 50.18s                              | 63.75            | 128169          |"
      ]
     },
     "metadata": {},
     "output_type": "display_data"
    },
    {
     "data": {
      "text/html": [
       "<pre>| 51.23s                              | 63.75            | 128315          |</pre>"
      ],
      "text/plain": [
       "| 51.23s                              | 63.75            | 128315          |"
      ]
     },
     "metadata": {},
     "output_type": "display_data"
    },
    {
     "data": {
      "text/html": [
       "<pre>| 52.22s                              | 63.75            | 128464          |</pre>"
      ],
      "text/plain": [
       "| 52.22s                              | 63.75            | 128464          |"
      ]
     },
     "metadata": {},
     "output_type": "display_data"
    },
    {
     "data": {
      "text/html": [
       "<pre>| 53.89s                              | 64.5             | 129637          |</pre>"
      ],
      "text/plain": [
       "| 53.89s                              | 64.5             | 129637          |"
      ]
     },
     "metadata": {},
     "output_type": "display_data"
    },
    {
     "data": {
      "text/html": [
       "<pre>| 54.20s                              | 64.5             | 129656          |</pre>"
      ],
      "text/plain": [
       "| 54.20s                              | 64.5             | 129656          |"
      ]
     },
     "metadata": {},
     "output_type": "display_data"
    },
    {
     "data": {
      "text/html": [
       "<pre>| 55.20s                              | 64.5             | 129725          |</pre>"
      ],
      "text/plain": [
       "| 55.20s                              | 64.5             | 129725          |"
      ]
     },
     "metadata": {},
     "output_type": "display_data"
    },
    {
     "data": {
      "text/html": [
       "<pre>| 56.89s                              | 64.75            | 130309          |</pre>"
      ],
      "text/plain": [
       "| 56.89s                              | 64.75            | 130309          |"
      ]
     },
     "metadata": {},
     "output_type": "display_data"
    },
    {
     "data": {
      "text/html": [
       "<pre>| 57.38s                              | 64.75            | 130338          |</pre>"
      ],
      "text/plain": [
       "| 57.38s                              | 64.75            | 130338          |"
      ]
     },
     "metadata": {},
     "output_type": "display_data"
    },
    {
     "data": {
      "text/html": [
       "<pre>| 58.22s                              | 64.75            | 130392          |</pre>"
      ],
      "text/plain": [
       "| 58.22s                              | 64.75            | 130392          |"
      ]
     },
     "metadata": {},
     "output_type": "display_data"
    },
    {
     "data": {
      "text/html": [
       "<pre>| 59.28s                              | 64.75            | 130454          |</pre>"
      ],
      "text/plain": [
       "| 59.28s                              | 64.75            | 130454          |"
      ]
     },
     "metadata": {},
     "output_type": "display_data"
    },
    {
     "data": {
      "text/html": [
       "<pre>| 1m 0s                               | 64.75            | 130503          |</pre>"
      ],
      "text/plain": [
       "| 1m 0s                               | 64.75            | 130503          |"
      ]
     },
     "metadata": {},
     "output_type": "display_data"
    },
    {
     "data": {
      "text/html": [
       "<pre>| 1m 1s                               | 64.75            | 130576          |</pre>"
      ],
      "text/plain": [
       "| 1m 1s                               | 64.75            | 130576          |"
      ]
     },
     "metadata": {},
     "output_type": "display_data"
    },
    {
     "data": {
      "text/html": [
       "<pre>| 1m 2s                               | 65               | 130689          |</pre>"
      ],
      "text/plain": [
       "| 1m 2s                               | 65               | 130689          |"
      ]
     },
     "metadata": {},
     "output_type": "display_data"
    },
    {
     "data": {
      "text/html": [
       "<pre>| 1m 3s                               | 65               | 130848          |</pre>"
      ],
      "text/plain": [
       "| 1m 3s                               | 65               | 130848          |"
      ]
     },
     "metadata": {},
     "output_type": "display_data"
    },
    {
     "data": {
      "text/html": [
       "<pre>| 1m 4s                               | 65               | 131081          |</pre>"
      ],
      "text/plain": [
       "| 1m 4s                               | 65               | 131081          |"
      ]
     },
     "metadata": {},
     "output_type": "display_data"
    },
    {
     "data": {
      "text/html": [
       "<pre>| 1m 5s                               | 65.25            | 131224          |</pre>"
      ],
      "text/plain": [
       "| 1m 5s                               | 65.25            | 131224          |"
      ]
     },
     "metadata": {},
     "output_type": "display_data"
    },
    {
     "data": {
      "text/html": [
       "<pre>| 1m 6s                               | 65.5             | 131819          |</pre>"
      ],
      "text/plain": [
       "| 1m 6s                               | 65.5             | 131819          |"
      ]
     },
     "metadata": {},
     "output_type": "display_data"
    },
    {
     "data": {
      "text/html": [
       "<pre>| 1m 7s                               | 65.5             | 132034          |</pre>"
      ],
      "text/plain": [
       "| 1m 7s                               | 65.5             | 132034          |"
      ]
     },
     "metadata": {},
     "output_type": "display_data"
    },
    {
     "data": {
      "text/html": [
       "<pre>| 1m 8s                               | 65.5             | 132099          |</pre>"
      ],
      "text/plain": [
       "| 1m 8s                               | 65.5             | 132099          |"
      ]
     },
     "metadata": {},
     "output_type": "display_data"
    },
    {
     "data": {
      "text/html": [
       "<pre>| 1m 9s                               | 65.75            | 132177          |</pre>"
      ],
      "text/plain": [
       "| 1m 9s                               | 65.75            | 132177          |"
      ]
     },
     "metadata": {},
     "output_type": "display_data"
    },
    {
     "data": {
      "text/html": [
       "<pre>| 1m 10s                              | 65.75            | 132388          |</pre>"
      ],
      "text/plain": [
       "| 1m 10s                              | 65.75            | 132388          |"
      ]
     },
     "metadata": {},
     "output_type": "display_data"
    },
    {
     "data": {
      "text/html": [
       "<pre>| 1m 11s                              | 65.75            | 132448          |</pre>"
      ],
      "text/plain": [
       "| 1m 11s                              | 65.75            | 132448          |"
      ]
     },
     "metadata": {},
     "output_type": "display_data"
    },
    {
     "data": {
      "text/html": [
       "<pre>| 1m 12s                              | 65.75            | 132546          |</pre>"
      ],
      "text/plain": [
       "| 1m 12s                              | 65.75            | 132546          |"
      ]
     },
     "metadata": {},
     "output_type": "display_data"
    },
    {
     "data": {
      "text/html": [
       "<pre>| 1m 13s                              | 66               | 133029          |</pre>"
      ],
      "text/plain": [
       "| 1m 13s                              | 66               | 133029          |"
      ]
     },
     "metadata": {},
     "output_type": "display_data"
    },
    {
     "data": {
      "text/html": [
       "<pre>| 1m 14s                              | 66.25            | 133130          |</pre>"
      ],
      "text/plain": [
       "| 1m 14s                              | 66.25            | 133130          |"
      ]
     },
     "metadata": {},
     "output_type": "display_data"
    },
    {
     "data": {
      "text/html": [
       "<pre>| 1m 15s                              | 66.25            | 133227          |</pre>"
      ],
      "text/plain": [
       "| 1m 15s                              | 66.25            | 133227          |"
      ]
     },
     "metadata": {},
     "output_type": "display_data"
    },
    {
     "data": {
      "text/html": [
       "<pre>| 1m 16s                              | 66.25            | 133366          |</pre>"
      ],
      "text/plain": [
       "| 1m 16s                              | 66.25            | 133366          |"
      ]
     },
     "metadata": {},
     "output_type": "display_data"
    },
    {
     "data": {
      "text/html": [
       "<pre>| 1m 17s                              | 66.25            | 133414          |</pre>"
      ],
      "text/plain": [
       "| 1m 17s                              | 66.25            | 133414          |"
      ]
     },
     "metadata": {},
     "output_type": "display_data"
    },
    {
     "data": {
      "text/html": [
       "<pre>| 1m 18s                              | 66.25            | 133525          |</pre>"
      ],
      "text/plain": [
       "| 1m 18s                              | 66.25            | 133525          |"
      ]
     },
     "metadata": {},
     "output_type": "display_data"
    },
    {
     "data": {
      "text/html": [
       "<pre>| 1m 19s                              | 66.5             | 133682          |</pre>"
      ],
      "text/plain": [
       "| 1m 19s                              | 66.5             | 133682          |"
      ]
     },
     "metadata": {},
     "output_type": "display_data"
    },
    {
     "data": {
      "text/html": [
       "<pre>| 1m 20s                              | 66.5             | 133859          |</pre>"
      ],
      "text/plain": [
       "| 1m 20s                              | 66.5             | 133859          |"
      ]
     },
     "metadata": {},
     "output_type": "display_data"
    },
    {
     "data": {
      "text/html": [
       "<pre>| 1m 21s                              | 66.5             | 134065          |</pre>"
      ],
      "text/plain": [
       "| 1m 21s                              | 66.5             | 134065          |"
      ]
     },
     "metadata": {},
     "output_type": "display_data"
    },
    {
     "data": {
      "text/html": [
       "<pre>| 1m 22s                              | 66.75            | 134280          |</pre>"
      ],
      "text/plain": [
       "| 1m 22s                              | 66.75            | 134280          |"
      ]
     },
     "metadata": {},
     "output_type": "display_data"
    },
    {
     "data": {
      "text/html": [
       "<pre>| 1m 23s                              | 66.75            | 134508          |</pre>"
      ],
      "text/plain": [
       "| 1m 23s                              | 66.75            | 134508          |"
      ]
     },
     "metadata": {},
     "output_type": "display_data"
    },
    {
     "data": {
      "text/html": [
       "<pre>| 1m 24s                              | 66.75            | 134606          |</pre>"
      ],
      "text/plain": [
       "| 1m 24s                              | 66.75            | 134606          |"
      ]
     },
     "metadata": {},
     "output_type": "display_data"
    },
    {
     "data": {
      "text/html": [
       "<pre>| 1m 25s                              | 67.25            | 135385          |</pre>"
      ],
      "text/plain": [
       "| 1m 25s                              | 67.25            | 135385          |"
      ]
     },
     "metadata": {},
     "output_type": "display_data"
    },
    {
     "data": {
      "text/html": [
       "<pre>| 1m 26s                              | 67.25            | 135541          |</pre>"
      ],
      "text/plain": [
       "| 1m 26s                              | 67.25            | 135541          |"
      ]
     },
     "metadata": {},
     "output_type": "display_data"
    },
    {
     "data": {
      "text/html": [
       "<pre>| 1m 27s                              | 67.25            | 135628          |</pre>"
      ],
      "text/plain": [
       "| 1m 27s                              | 67.25            | 135628          |"
      ]
     },
     "metadata": {},
     "output_type": "display_data"
    },
    {
     "data": {
      "text/html": [
       "<pre>| 1m 28s                              | 67.5             | 135684          |</pre>"
      ],
      "text/plain": [
       "| 1m 28s                              | 67.5             | 135684          |"
      ]
     },
     "metadata": {},
     "output_type": "display_data"
    },
    {
     "data": {
      "text/html": [
       "<pre>| 1m 29s                              | 67.5             | 135747          |</pre>"
      ],
      "text/plain": [
       "| 1m 29s                              | 67.5             | 135747          |"
      ]
     },
     "metadata": {},
     "output_type": "display_data"
    },
    {
     "data": {
      "text/html": [
       "<pre>| 1m 30s                              | 67.5             | 135830          |</pre>"
      ],
      "text/plain": [
       "| 1m 30s                              | 67.5             | 135830          |"
      ]
     },
     "metadata": {},
     "output_type": "display_data"
    },
    {
     "data": {
      "text/html": [
       "<pre>| 1m 32s                              | 67.5             | 135992          |</pre>"
      ],
      "text/plain": [
       "| 1m 32s                              | 67.5             | 135992          |"
      ]
     },
     "metadata": {},
     "output_type": "display_data"
    },
    {
     "data": {
      "text/html": [
       "<pre>| 1m 33s                              | 67.5             | 136072          |</pre>"
      ],
      "text/plain": [
       "| 1m 33s                              | 67.5             | 136072          |"
      ]
     },
     "metadata": {},
     "output_type": "display_data"
    },
    {
     "data": {
      "text/html": [
       "<pre>| 1m 34s                              | 67.75            | 136158          |</pre>"
      ],
      "text/plain": [
       "| 1m 34s                              | 67.75            | 136158          |"
      ]
     },
     "metadata": {},
     "output_type": "display_data"
    },
    {
     "data": {
      "text/html": [
       "<pre>| 1m 35s                              | 67.75            | 136198          |</pre>"
      ],
      "text/plain": [
       "| 1m 35s                              | 67.75            | 136198          |"
      ]
     },
     "metadata": {},
     "output_type": "display_data"
    },
    {
     "data": {
      "text/html": [
       "<pre>| 1m 36s                              | 67.75            | 136292          |</pre>"
      ],
      "text/plain": [
       "| 1m 36s                              | 67.75            | 136292          |"
      ]
     },
     "metadata": {},
     "output_type": "display_data"
    },
    {
     "data": {
      "text/html": [
       "<pre>| 1m 37s                              | 67.75            | 136457          |</pre>"
      ],
      "text/plain": [
       "| 1m 37s                              | 67.75            | 136457          |"
      ]
     },
     "metadata": {},
     "output_type": "display_data"
    },
    {
     "data": {
      "text/html": [
       "<pre>| 1m 38s                              | 68               | 137023          |</pre>"
      ],
      "text/plain": [
       "| 1m 38s                              | 68               | 137023          |"
      ]
     },
     "metadata": {},
     "output_type": "display_data"
    },
    {
     "data": {
      "text/html": [
       "<pre>| 1m 39s                              | 68.25            | 137141          |</pre>"
      ],
      "text/plain": [
       "| 1m 39s                              | 68.25            | 137141          |"
      ]
     },
     "metadata": {},
     "output_type": "display_data"
    },
    {
     "data": {
      "text/html": [
       "<pre>| 1m 40s                              | 68.25            | 137355          |</pre>"
      ],
      "text/plain": [
       "| 1m 40s                              | 68.25            | 137355          |"
      ]
     },
     "metadata": {},
     "output_type": "display_data"
    },
    {
     "data": {
      "text/html": [
       "<pre>| 1m 41s                              | 68.25            | 137576          |</pre>"
      ],
      "text/plain": [
       "| 1m 41s                              | 68.25            | 137576          |"
      ]
     },
     "metadata": {},
     "output_type": "display_data"
    },
    {
     "data": {
      "text/html": [
       "<pre>| 1m 42s                              | 68.5             | 137706          |</pre>"
      ],
      "text/plain": [
       "| 1m 42s                              | 68.5             | 137706          |"
      ]
     },
     "metadata": {},
     "output_type": "display_data"
    },
    {
     "data": {
      "text/html": [
       "<pre>| 1m 43s                              | 69               | 138971          |</pre>"
      ],
      "text/plain": [
       "| 1m 43s                              | 69               | 138971          |"
      ]
     },
     "metadata": {},
     "output_type": "display_data"
    },
    {
     "data": {
      "text/html": [
       "<pre>| 1m 44s                              | 69               | 139115          |</pre>"
      ],
      "text/plain": [
       "| 1m 44s                              | 69               | 139115          |"
      ]
     },
     "metadata": {},
     "output_type": "display_data"
    },
    {
     "data": {
      "text/html": [
       "<pre>| 1m 45s                              | 69.25            | 139217          |</pre>"
      ],
      "text/plain": [
       "| 1m 45s                              | 69.25            | 139217          |"
      ]
     },
     "metadata": {},
     "output_type": "display_data"
    },
    {
     "data": {
      "text/html": [
       "<pre>| 1m 46s                              | 69.25            | 139337          |</pre>"
      ],
      "text/plain": [
       "| 1m 46s                              | 69.25            | 139337          |"
      ]
     },
     "metadata": {},
     "output_type": "display_data"
    },
    {
     "data": {
      "text/html": [
       "<pre>| 1m 47s                              | 69.25            | 139454          |</pre>"
      ],
      "text/plain": [
       "| 1m 47s                              | 69.25            | 139454          |"
      ]
     },
     "metadata": {},
     "output_type": "display_data"
    },
    {
     "data": {
      "text/html": [
       "<pre>| 1m 48s                              | 69.25            | 139590          |</pre>"
      ],
      "text/plain": [
       "| 1m 48s                              | 69.25            | 139590          |"
      ]
     },
     "metadata": {},
     "output_type": "display_data"
    },
    {
     "data": {
      "text/html": [
       "<pre>| 1m 49s                              | 69.5             | 139709          |</pre>"
      ],
      "text/plain": [
       "| 1m 49s                              | 69.5             | 139709          |"
      ]
     },
     "metadata": {},
     "output_type": "display_data"
    },
    {
     "data": {
      "text/html": [
       "<pre>| 1m 50s                              | 69.5             | 139873          |</pre>"
      ],
      "text/plain": [
       "| 1m 50s                              | 69.5             | 139873          |"
      ]
     },
     "metadata": {},
     "output_type": "display_data"
    },
    {
     "data": {
      "text/html": [
       "<pre>| 1m 51s                              | 69.5             | 140010          |</pre>"
      ],
      "text/plain": [
       "| 1m 51s                              | 69.5             | 140010          |"
      ]
     },
     "metadata": {},
     "output_type": "display_data"
    },
    {
     "data": {
      "text/html": [
       "<pre>| 1m 52s                              | 69.75            | 140182          |</pre>"
      ],
      "text/plain": [
       "| 1m 52s                              | 69.75            | 140182          |"
      ]
     },
     "metadata": {},
     "output_type": "display_data"
    },
    {
     "data": {
      "text/html": [
       "<pre>| 1m 53s                              | 69.75            | 140319          |</pre>"
      ],
      "text/plain": [
       "| 1m 53s                              | 69.75            | 140319          |"
      ]
     },
     "metadata": {},
     "output_type": "display_data"
    },
    {
     "data": {
      "text/html": [
       "<pre>| 1m 54s                              | 69.75            | 140533          |</pre>"
      ],
      "text/plain": [
       "| 1m 54s                              | 69.75            | 140533          |"
      ]
     },
     "metadata": {},
     "output_type": "display_data"
    },
    {
     "data": {
      "text/html": [
       "<pre>| 1m 55s                              | 70               | 140839          |</pre>"
      ],
      "text/plain": [
       "| 1m 55s                              | 70               | 140839          |"
      ]
     },
     "metadata": {},
     "output_type": "display_data"
    },
    {
     "data": {
      "text/html": [
       "<pre>| 1m 56s                              | 70.75            | 142577          |</pre>"
      ],
      "text/plain": [
       "| 1m 56s                              | 70.75            | 142577          |"
      ]
     },
     "metadata": {},
     "output_type": "display_data"
    },
    {
     "data": {
      "text/html": [
       "<pre>| 1m 57s                              | 70.75            | 142649          |</pre>"
      ],
      "text/plain": [
       "| 1m 57s                              | 70.75            | 142649          |"
      ]
     },
     "metadata": {},
     "output_type": "display_data"
    },
    {
     "data": {
      "text/html": [
       "<pre>| 1m 58s                              | 71.25            | 143319          |</pre>"
      ],
      "text/plain": [
       "| 1m 58s                              | 71.25            | 143319          |"
      ]
     },
     "metadata": {},
     "output_type": "display_data"
    },
    {
     "data": {
      "text/html": [
       "<pre>| 1m 59s                              | 71.25            | 143401          |</pre>"
      ],
      "text/plain": [
       "| 1m 59s                              | 71.25            | 143401          |"
      ]
     },
     "metadata": {},
     "output_type": "display_data"
    },
    {
     "data": {
      "text/html": [
       "<pre>| 2m 0s                               | 71.25            | 143523          |</pre>"
      ],
      "text/plain": [
       "| 2m 0s                               | 71.25            | 143523          |"
      ]
     },
     "metadata": {},
     "output_type": "display_data"
    },
    {
     "data": {
      "text/html": [
       "<pre>| 2m 1s                               | 71.25            | 143604          |</pre>"
      ],
      "text/plain": [
       "| 2m 1s                               | 71.25            | 143604          |"
      ]
     },
     "metadata": {},
     "output_type": "display_data"
    },
    {
     "data": {
      "text/html": [
       "<pre>| 2m 2s                               | 71.5             | 143734          |</pre>"
      ],
      "text/plain": [
       "| 2m 2s                               | 71.5             | 143734          |"
      ]
     },
     "metadata": {},
     "output_type": "display_data"
    },
    {
     "data": {
      "text/html": [
       "<pre>| 2m 3s                               | 71.5             | 143879          |</pre>"
      ],
      "text/plain": [
       "| 2m 3s                               | 71.5             | 143879          |"
      ]
     },
     "metadata": {},
     "output_type": "display_data"
    },
    {
     "data": {
      "text/html": [
       "<pre>| 2m 4s                               | 71.5             | 143929          |</pre>"
      ],
      "text/plain": [
       "| 2m 4s                               | 71.5             | 143929          |"
      ]
     },
     "metadata": {},
     "output_type": "display_data"
    },
    {
     "data": {
      "text/html": [
       "<pre>| 2m 5s                               | 71.5             | 144016          |</pre>"
      ],
      "text/plain": [
       "| 2m 5s                               | 71.5             | 144016          |"
      ]
     },
     "metadata": {},
     "output_type": "display_data"
    },
    {
     "data": {
      "text/html": [
       "<pre>| 2m 6s                               | 71.5             | 144129          |</pre>"
      ],
      "text/plain": [
       "| 2m 6s                               | 71.5             | 144129          |"
      ]
     },
     "metadata": {},
     "output_type": "display_data"
    },
    {
     "data": {
      "text/html": [
       "<pre>| 2m 7s                               | 71.75            | 144248          |</pre>"
      ],
      "text/plain": [
       "| 2m 7s                               | 71.75            | 144248          |"
      ]
     },
     "metadata": {},
     "output_type": "display_data"
    },
    {
     "data": {
      "text/html": [
       "<pre>| 2m 8s                               | 72               | 144764          |</pre>"
      ],
      "text/plain": [
       "| 2m 8s                               | 72               | 144764          |"
      ]
     },
     "metadata": {},
     "output_type": "display_data"
    },
    {
     "data": {
      "text/html": [
       "<pre>| 2m 9s                               | 72               | 144873          |</pre>"
      ],
      "text/plain": [
       "| 2m 9s                               | 72               | 144873          |"
      ]
     },
     "metadata": {},
     "output_type": "display_data"
    },
    {
     "data": {
      "text/html": [
       "<pre>| 2m 10s                              | 72               | 145030          |</pre>"
      ],
      "text/plain": [
       "| 2m 10s                              | 72               | 145030          |"
      ]
     },
     "metadata": {},
     "output_type": "display_data"
    },
    {
     "data": {
      "text/html": [
       "<pre>| 2m 11s                              | 72               | 145141          |</pre>"
      ],
      "text/plain": [
       "| 2m 11s                              | 72               | 145141          |"
      ]
     },
     "metadata": {},
     "output_type": "display_data"
    },
    {
     "data": {
      "text/html": [
       "<pre>| 2m 12s                              | 72.25            | 145269          |</pre>"
      ],
      "text/plain": [
       "| 2m 12s                              | 72.25            | 145269          |"
      ]
     },
     "metadata": {},
     "output_type": "display_data"
    },
    {
     "data": {
      "text/html": [
       "<pre>| 2m 13s                              | 72.25            | 145543          |</pre>"
      ],
      "text/plain": [
       "| 2m 13s                              | 72.25            | 145543          |"
      ]
     },
     "metadata": {},
     "output_type": "display_data"
    },
    {
     "data": {
      "text/html": [
       "<pre>| 2m 14s                              | 72.25            | 145669          |</pre>"
      ],
      "text/plain": [
       "| 2m 14s                              | 72.25            | 145669          |"
      ]
     },
     "metadata": {},
     "output_type": "display_data"
    },
    {
     "data": {
      "text/html": [
       "<pre>| 2m 15s                              | 72.5             | 145808          |</pre>"
      ],
      "text/plain": [
       "| 2m 15s                              | 72.5             | 145808          |"
      ]
     },
     "metadata": {},
     "output_type": "display_data"
    },
    {
     "data": {
      "text/html": [
       "<pre>| 2m 16s                              | 72.75            | 146450          |</pre>"
      ],
      "text/plain": [
       "| 2m 16s                              | 72.75            | 146450          |"
      ]
     },
     "metadata": {},
     "output_type": "display_data"
    },
    {
     "data": {
      "text/html": [
       "<pre>| 2m 17s                              | 72.75            | 146557          |</pre>"
      ],
      "text/plain": [
       "| 2m 17s                              | 72.75            | 146557          |"
      ]
     },
     "metadata": {},
     "output_type": "display_data"
    },
    {
     "data": {
      "text/html": [
       "<pre>| 2m 18s                              | 72.75            | 146680          |</pre>"
      ],
      "text/plain": [
       "| 2m 18s                              | 72.75            | 146680          |"
      ]
     },
     "metadata": {},
     "output_type": "display_data"
    },
    {
     "data": {
      "text/html": [
       "<pre>| 2m 19s                              | 73               | 146823          |</pre>"
      ],
      "text/plain": [
       "| 2m 19s                              | 73               | 146823          |"
      ]
     },
     "metadata": {},
     "output_type": "display_data"
    },
    {
     "data": {
      "text/html": [
       "<pre>| 2m 20s                              | 73.25            | 147272          |</pre>"
      ],
      "text/plain": [
       "| 2m 20s                              | 73.25            | 147272          |"
      ]
     },
     "metadata": {},
     "output_type": "display_data"
    },
    {
     "data": {
      "text/html": [
       "<pre>| 2m 21s                              | 73.25            | 147413          |</pre>"
      ],
      "text/plain": [
       "| 2m 21s                              | 73.25            | 147413          |"
      ]
     },
     "metadata": {},
     "output_type": "display_data"
    },
    {
     "data": {
      "text/html": [
       "<pre>| 2m 22s                              | 73.25            | 147604          |</pre>"
      ],
      "text/plain": [
       "| 2m 22s                              | 73.25            | 147604          |"
      ]
     },
     "metadata": {},
     "output_type": "display_data"
    },
    {
     "data": {
      "text/html": [
       "<pre>| 2m 23s                              | 73.5             | 147838          |</pre>"
      ],
      "text/plain": [
       "| 2m 23s                              | 73.5             | 147838          |"
      ]
     },
     "metadata": {},
     "output_type": "display_data"
    },
    {
     "data": {
      "text/html": [
       "<pre>| 2m 24s                              | 73.5             | 148098          |</pre>"
      ],
      "text/plain": [
       "| 2m 24s                              | 73.5             | 148098          |"
      ]
     },
     "metadata": {},
     "output_type": "display_data"
    },
    {
     "data": {
      "text/html": [
       "<pre>| 2m 25s                              | 73.75            | 148309          |</pre>"
      ],
      "text/plain": [
       "| 2m 25s                              | 73.75            | 148309          |"
      ]
     },
     "metadata": {},
     "output_type": "display_data"
    },
    {
     "data": {
      "text/html": [
       "<pre>| 2m 26s                              | 74               | 149051          |</pre>"
      ],
      "text/plain": [
       "| 2m 26s                              | 74               | 149051          |"
      ]
     },
     "metadata": {},
     "output_type": "display_data"
    },
    {
     "data": {
      "text/html": [
       "<pre>| 2m 27s                              | 74.25            | 149382          |</pre>"
      ],
      "text/plain": [
       "| 2m 27s                              | 74.25            | 149382          |"
      ]
     },
     "metadata": {},
     "output_type": "display_data"
    },
    {
     "data": {
      "text/html": [
       "<pre>| 2m 28s                              | 74.25            | 149463          |</pre>"
      ],
      "text/plain": [
       "| 2m 28s                              | 74.25            | 149463          |"
      ]
     },
     "metadata": {},
     "output_type": "display_data"
    },
    {
     "data": {
      "text/html": [
       "<pre>| 2m 29s                              | 74.25            | 149573          |</pre>"
      ],
      "text/plain": [
       "| 2m 29s                              | 74.25            | 149573          |"
      ]
     },
     "metadata": {},
     "output_type": "display_data"
    },
    {
     "data": {
      "text/html": [
       "<pre>| 2m 30s                              | 74.5             | 149747          |</pre>"
      ],
      "text/plain": [
       "| 2m 30s                              | 74.5             | 149747          |"
      ]
     },
     "metadata": {},
     "output_type": "display_data"
    },
    {
     "data": {
      "text/html": [
       "<pre>| 2m 31s                              | 74.75            | 150225          |</pre>"
      ],
      "text/plain": [
       "| 2m 31s                              | 74.75            | 150225          |"
      ]
     },
     "metadata": {},
     "output_type": "display_data"
    },
    {
     "data": {
      "text/html": [
       "<pre>| 2m 32s                              | 74.75            | 150320          |</pre>"
      ],
      "text/plain": [
       "| 2m 32s                              | 74.75            | 150320          |"
      ]
     },
     "metadata": {},
     "output_type": "display_data"
    },
    {
     "data": {
      "text/html": [
       "<pre>| 2m 33s                              | 75               | 150892          |</pre>"
      ],
      "text/plain": [
       "| 2m 33s                              | 75               | 150892          |"
      ]
     },
     "metadata": {},
     "output_type": "display_data"
    },
    {
     "data": {
      "text/html": [
       "<pre>| 2m 34s                              | 75               | 151012          |</pre>"
      ],
      "text/plain": [
       "| 2m 34s                              | 75               | 151012          |"
      ]
     },
     "metadata": {},
     "output_type": "display_data"
    },
    {
     "data": {
      "text/html": [
       "<pre>| 2m 35s                              | 75               | 151098          |</pre>"
      ],
      "text/plain": [
       "| 2m 35s                              | 75               | 151098          |"
      ]
     },
     "metadata": {},
     "output_type": "display_data"
    },
    {
     "data": {
      "text/html": [
       "<pre>| 2m 36s                              | 75.25            | 151326          |</pre>"
      ],
      "text/plain": [
       "| 2m 36s                              | 75.25            | 151326          |"
      ]
     },
     "metadata": {},
     "output_type": "display_data"
    },
    {
     "data": {
      "text/html": [
       "<pre>| 2m 37s                              | 75.25            | 151507          |</pre>"
      ],
      "text/plain": [
       "| 2m 37s                              | 75.25            | 151507          |"
      ]
     },
     "metadata": {},
     "output_type": "display_data"
    },
    {
     "data": {
      "text/html": [
       "<pre>| 2m 38s                              | 75.25            | 151677          |</pre>"
      ],
      "text/plain": [
       "| 2m 38s                              | 75.25            | 151677          |"
      ]
     },
     "metadata": {},
     "output_type": "display_data"
    },
    {
     "data": {
      "text/html": [
       "<pre>| 2m 39s                              | 75.75            | 152363          |</pre>"
      ],
      "text/plain": [
       "| 2m 39s                              | 75.75            | 152363          |"
      ]
     },
     "metadata": {},
     "output_type": "display_data"
    },
    {
     "data": {
      "text/html": [
       "<pre>| 2m 40s                              | 75.75            | 152481          |</pre>"
      ],
      "text/plain": [
       "| 2m 40s                              | 75.75            | 152481          |"
      ]
     },
     "metadata": {},
     "output_type": "display_data"
    },
    {
     "data": {
      "text/html": [
       "<pre>| 2m 41s                              | 75.75            | 152609          |</pre>"
      ],
      "text/plain": [
       "| 2m 41s                              | 75.75            | 152609          |"
      ]
     },
     "metadata": {},
     "output_type": "display_data"
    },
    {
     "data": {
      "text/html": [
       "<pre>| 2m 42s                              | 75.75            | 152674          |</pre>"
      ],
      "text/plain": [
       "| 2m 42s                              | 75.75            | 152674          |"
      ]
     },
     "metadata": {},
     "output_type": "display_data"
    },
    {
     "data": {
      "text/html": [
       "<pre>| 2m 43s                              | 76               | 152905          |</pre>"
      ],
      "text/plain": [
       "| 2m 43s                              | 76               | 152905          |"
      ]
     },
     "metadata": {},
     "output_type": "display_data"
    },
    {
     "data": {
      "text/html": [
       "<pre>| 2m 44s                              | 76               | 153054          |</pre>"
      ],
      "text/plain": [
       "| 2m 44s                              | 76               | 153054          |"
      ]
     },
     "metadata": {},
     "output_type": "display_data"
    },
    {
     "data": {
      "text/html": [
       "<pre>| 2m 45s                              | 76.25            | 153408          |</pre>"
      ],
      "text/plain": [
       "| 2m 45s                              | 76.25            | 153408          |"
      ]
     },
     "metadata": {},
     "output_type": "display_data"
    },
    {
     "data": {
      "text/html": [
       "<pre>| 2m 46s                              | 76.5             | 153744          |</pre>"
      ],
      "text/plain": [
       "| 2m 46s                              | 76.5             | 153744          |"
      ]
     },
     "metadata": {},
     "output_type": "display_data"
    },
    {
     "data": {
      "text/html": [
       "<pre>| 2m 47s                              | 76.5             | 153992          |</pre>"
      ],
      "text/plain": [
       "| 2m 47s                              | 76.5             | 153992          |"
      ]
     },
     "metadata": {},
     "output_type": "display_data"
    },
    {
     "data": {
      "text/html": [
       "<pre>| 2m 48s                              | 76.75            | 154339          |</pre>"
      ],
      "text/plain": [
       "| 2m 48s                              | 76.75            | 154339          |"
      ]
     },
     "metadata": {},
     "output_type": "display_data"
    },
    {
     "data": {
      "text/html": [
       "<pre>| 2m 49s                              | 79.25            | 159534          |</pre>"
      ],
      "text/plain": [
       "| 2m 49s                              | 79.25            | 159534          |"
      ]
     },
     "metadata": {},
     "output_type": "display_data"
    },
    {
     "data": {
      "text/html": [
       "<pre>| 2m 50s                              | 81               | 163154          |</pre>"
      ],
      "text/plain": [
       "| 2m 50s                              | 81               | 163154          |"
      ]
     },
     "metadata": {},
     "output_type": "display_data"
    },
    {
     "data": {
      "text/html": [
       "<pre>| 2m 51s                              | 81.25            | 163271          |</pre>"
      ],
      "text/plain": [
       "| 2m 51s                              | 81.25            | 163271          |"
      ]
     },
     "metadata": {},
     "output_type": "display_data"
    },
    {
     "data": {
      "text/html": [
       "<pre>| 2m 52s                              | 81.25            | 163388          |</pre>"
      ],
      "text/plain": [
       "| 2m 52s                              | 81.25            | 163388          |"
      ]
     },
     "metadata": {},
     "output_type": "display_data"
    },
    {
     "data": {
      "text/html": [
       "<pre>| 2m 53s                              | 81.25            | 163513          |</pre>"
      ],
      "text/plain": [
       "| 2m 53s                              | 81.25            | 163513          |"
      ]
     },
     "metadata": {},
     "output_type": "display_data"
    },
    {
     "data": {
      "text/html": [
       "<pre>| 2m 54s                              | 81.25            | 163635          |</pre>"
      ],
      "text/plain": [
       "| 2m 54s                              | 81.25            | 163635          |"
      ]
     },
     "metadata": {},
     "output_type": "display_data"
    },
    {
     "data": {
      "text/html": [
       "<pre>| 2m 55s                              | 81.25            | 163752          |</pre>"
      ],
      "text/plain": [
       "| 2m 55s                              | 81.25            | 163752          |"
      ]
     },
     "metadata": {},
     "output_type": "display_data"
    },
    {
     "data": {
      "text/html": [
       "<pre>| 2m 56s                              | 81.5             | 163902          |</pre>"
      ],
      "text/plain": [
       "| 2m 56s                              | 81.5             | 163902          |"
      ]
     },
     "metadata": {},
     "output_type": "display_data"
    },
    {
     "data": {
      "text/html": [
       "<pre>| 2m 57s                              | 81.5             | 164035          |</pre>"
      ],
      "text/plain": [
       "| 2m 57s                              | 81.5             | 164035          |"
      ]
     },
     "metadata": {},
     "output_type": "display_data"
    },
    {
     "data": {
      "text/html": [
       "<pre>| 2m 58s                              | 81.5             | 164162          |</pre>"
      ],
      "text/plain": [
       "| 2m 58s                              | 81.5             | 164162          |"
      ]
     },
     "metadata": {},
     "output_type": "display_data"
    },
    {
     "data": {
      "text/html": [
       "<pre>| 2m 59s                              | 81.75            | 164269          |</pre>"
      ],
      "text/plain": [
       "| 2m 59s                              | 81.75            | 164269          |"
      ]
     },
     "metadata": {},
     "output_type": "display_data"
    },
    {
     "data": {
      "text/html": [
       "<pre>| 3m 0s                               | 81.75            | 164413          |</pre>"
      ],
      "text/plain": [
       "| 3m 0s                               | 81.75            | 164413          |"
      ]
     },
     "metadata": {},
     "output_type": "display_data"
    },
    {
     "data": {
      "text/html": [
       "<pre>| 3m 1s                               | 81.75            | 164544          |</pre>"
      ],
      "text/plain": [
       "| 3m 1s                               | 81.75            | 164544          |"
      ]
     },
     "metadata": {},
     "output_type": "display_data"
    },
    {
     "data": {
      "text/html": [
       "<pre>| 3m 2s                               | 81.75            | 164678          |</pre>"
      ],
      "text/plain": [
       "| 3m 2s                               | 81.75            | 164678          |"
      ]
     },
     "metadata": {},
     "output_type": "display_data"
    },
    {
     "data": {
      "text/html": [
       "<pre>| 3m 3s                               | 82               | 164788          |</pre>"
      ],
      "text/plain": [
       "| 3m 3s                               | 82               | 164788          |"
      ]
     },
     "metadata": {},
     "output_type": "display_data"
    },
    {
     "data": {
      "text/html": [
       "<pre>| 3m 4s                               | 82               | 164899          |</pre>"
      ],
      "text/plain": [
       "| 3m 4s                               | 82               | 164899          |"
      ]
     },
     "metadata": {},
     "output_type": "display_data"
    },
    {
     "data": {
      "text/html": [
       "<pre>| 3m 5s                               | 82               | 164995          |</pre>"
      ],
      "text/plain": [
       "| 3m 5s                               | 82               | 164995          |"
      ]
     },
     "metadata": {},
     "output_type": "display_data"
    },
    {
     "data": {
      "text/html": [
       "<pre>| 3m 6s                               | 82               | 165101          |</pre>"
      ],
      "text/plain": [
       "| 3m 6s                               | 82               | 165101          |"
      ]
     },
     "metadata": {},
     "output_type": "display_data"
    },
    {
     "data": {
      "text/html": [
       "<pre>| 3m 7s                               | 82               | 165219          |</pre>"
      ],
      "text/plain": [
       "| 3m 7s                               | 82               | 165219          |"
      ]
     },
     "metadata": {},
     "output_type": "display_data"
    },
    {
     "data": {
      "text/html": [
       "<pre>| 3m 8s                               | 82.25            | 165364          |</pre>"
      ],
      "text/plain": [
       "| 3m 8s                               | 82.25            | 165364          |"
      ]
     },
     "metadata": {},
     "output_type": "display_data"
    },
    {
     "data": {
      "text/html": [
       "<pre>| 3m 9s                               | 82.25            | 165503          |</pre>"
      ],
      "text/plain": [
       "| 3m 9s                               | 82.25            | 165503          |"
      ]
     },
     "metadata": {},
     "output_type": "display_data"
    },
    {
     "data": {
      "text/html": [
       "<pre>| 3m 10s                              | 82.25            | 165647          |</pre>"
      ],
      "text/plain": [
       "| 3m 10s                              | 82.25            | 165647          |"
      ]
     },
     "metadata": {},
     "output_type": "display_data"
    },
    {
     "data": {
      "text/html": [
       "<pre>| 3m 11s                              | 82.5             | 165785          |</pre>"
      ],
      "text/plain": [
       "| 3m 11s                              | 82.5             | 165785          |"
      ]
     },
     "metadata": {},
     "output_type": "display_data"
    },
    {
     "data": {
      "text/html": [
       "<pre>| 3m 12s                              | 82.5             | 165940          |</pre>"
      ],
      "text/plain": [
       "| 3m 12s                              | 82.5             | 165940          |"
      ]
     },
     "metadata": {},
     "output_type": "display_data"
    },
    {
     "data": {
      "text/html": [
       "<pre>| 3m 13s                              | 82.5             | 166073          |</pre>"
      ],
      "text/plain": [
       "| 3m 13s                              | 82.5             | 166073          |"
      ]
     },
     "metadata": {},
     "output_type": "display_data"
    },
    {
     "data": {
      "text/html": [
       "<pre>| 3m 14s                              | 82.5             | 166193          |</pre>"
      ],
      "text/plain": [
       "| 3m 14s                              | 82.5             | 166193          |"
      ]
     },
     "metadata": {},
     "output_type": "display_data"
    },
    {
     "data": {
      "text/html": [
       "<pre>| 3m 15s                              | 82.75            | 166305          |</pre>"
      ],
      "text/plain": [
       "| 3m 15s                              | 82.75            | 166305          |"
      ]
     },
     "metadata": {},
     "output_type": "display_data"
    },
    {
     "data": {
      "text/html": [
       "<pre>| 3m 16s                              | 82.75            | 166413          |</pre>"
      ],
      "text/plain": [
       "| 3m 16s                              | 82.75            | 166413          |"
      ]
     },
     "metadata": {},
     "output_type": "display_data"
    },
    {
     "data": {
      "text/html": [
       "<pre>| 3m 17s                              | 82.75            | 166511          |</pre>"
      ],
      "text/plain": [
       "| 3m 17s                              | 82.75            | 166511          |"
      ]
     },
     "metadata": {},
     "output_type": "display_data"
    },
    {
     "data": {
      "text/html": [
       "<pre>| 3m 18s                              | 82.75            | 166609          |</pre>"
      ],
      "text/plain": [
       "| 3m 18s                              | 82.75            | 166609          |"
      ]
     },
     "metadata": {},
     "output_type": "display_data"
    },
    {
     "data": {
      "text/html": [
       "<pre>| 3m 19s                              | 82.75            | 166735          |</pre>"
      ],
      "text/plain": [
       "| 3m 19s                              | 82.75            | 166735          |"
      ]
     },
     "metadata": {},
     "output_type": "display_data"
    },
    {
     "data": {
      "text/html": [
       "<pre>| 3m 20s                              | 83               | 166826          |</pre>"
      ],
      "text/plain": [
       "| 3m 20s                              | 83               | 166826          |"
      ]
     },
     "metadata": {},
     "output_type": "display_data"
    },
    {
     "data": {
      "text/html": [
       "<pre>| 3m 21s                              | 83               | 166929          |</pre>"
      ],
      "text/plain": [
       "| 3m 21s                              | 83               | 166929          |"
      ]
     },
     "metadata": {},
     "output_type": "display_data"
    },
    {
     "data": {
      "text/html": [
       "<pre>| 3m 22s                              | 83               | 167071          |</pre>"
      ],
      "text/plain": [
       "| 3m 22s                              | 83               | 167071          |"
      ]
     },
     "metadata": {},
     "output_type": "display_data"
    },
    {
     "data": {
      "text/html": [
       "<pre>| 3m 23s                              | 83               | 167177          |</pre>"
      ],
      "text/plain": [
       "| 3m 23s                              | 83               | 167177          |"
      ]
     },
     "metadata": {},
     "output_type": "display_data"
    },
    {
     "data": {
      "text/html": [
       "<pre>| 3m 25s                              | 83.25            | 167288          |</pre>"
      ],
      "text/plain": [
       "| 3m 25s                              | 83.25            | 167288          |"
      ]
     },
     "metadata": {},
     "output_type": "display_data"
    },
    {
     "data": {
      "text/html": [
       "<pre>| 3m 25s                              | 83.25            | 167404          |</pre>"
      ],
      "text/plain": [
       "| 3m 25s                              | 83.25            | 167404          |"
      ]
     },
     "metadata": {},
     "output_type": "display_data"
    },
    {
     "data": {
      "text/html": [
       "<pre>| 3m 26s                              | 83.25            | 167537          |</pre>"
      ],
      "text/plain": [
       "| 3m 26s                              | 83.25            | 167537          |"
      ]
     },
     "metadata": {},
     "output_type": "display_data"
    },
    {
     "data": {
      "text/html": [
       "<pre>| 3m 28s                              | 83.25            | 167667          |</pre>"
      ],
      "text/plain": [
       "| 3m 28s                              | 83.25            | 167667          |"
      ]
     },
     "metadata": {},
     "output_type": "display_data"
    },
    {
     "data": {
      "text/html": [
       "<pre>| 3m 29s                              | 83.25            | 167767          |</pre>"
      ],
      "text/plain": [
       "| 3m 29s                              | 83.25            | 167767          |"
      ]
     },
     "metadata": {},
     "output_type": "display_data"
    },
    {
     "data": {
      "text/html": [
       "<pre>| 3m 30s                              | 83.5             | 167867          |</pre>"
      ],
      "text/plain": [
       "| 3m 30s                              | 83.5             | 167867          |"
      ]
     },
     "metadata": {},
     "output_type": "display_data"
    },
    {
     "data": {
      "text/html": [
       "<pre>| 3m 31s                              | 83.5             | 167974          |</pre>"
      ],
      "text/plain": [
       "| 3m 31s                              | 83.5             | 167974          |"
      ]
     },
     "metadata": {},
     "output_type": "display_data"
    },
    {
     "data": {
      "text/html": [
       "<pre>| 3m 32s                              | 83.5             | 168075          |</pre>"
      ],
      "text/plain": [
       "| 3m 32s                              | 83.5             | 168075          |"
      ]
     },
     "metadata": {},
     "output_type": "display_data"
    },
    {
     "data": {
      "text/html": [
       "<pre>| 3m 33s                              | 83.5             | 168176          |</pre>"
      ],
      "text/plain": [
       "| 3m 33s                              | 83.5             | 168176          |"
      ]
     },
     "metadata": {},
     "output_type": "display_data"
    },
    {
     "data": {
      "text/html": [
       "<pre>| 3m 34s                              | 83.75            | 168297          |</pre>"
      ],
      "text/plain": [
       "| 3m 34s                              | 83.75            | 168297          |"
      ]
     },
     "metadata": {},
     "output_type": "display_data"
    },
    {
     "data": {
      "text/html": [
       "<pre>| 3m 35s                              | 83.75            | 168405          |</pre>"
      ],
      "text/plain": [
       "| 3m 35s                              | 83.75            | 168405          |"
      ]
     },
     "metadata": {},
     "output_type": "display_data"
    },
    {
     "data": {
      "text/html": [
       "<pre>| 3m 36s                              | 83.75            | 168512          |</pre>"
      ],
      "text/plain": [
       "| 3m 36s                              | 83.75            | 168512          |"
      ]
     },
     "metadata": {},
     "output_type": "display_data"
    },
    {
     "data": {
      "text/html": [
       "<pre>| 3m 37s                              | 83.75            | 168627          |</pre>"
      ],
      "text/plain": [
       "| 3m 37s                              | 83.75            | 168627          |"
      ]
     },
     "metadata": {},
     "output_type": "display_data"
    },
    {
     "data": {
      "text/html": [
       "<pre>| 3m 38s                              | 83.75            | 168742          |</pre>"
      ],
      "text/plain": [
       "| 3m 38s                              | 83.75            | 168742          |"
      ]
     },
     "metadata": {},
     "output_type": "display_data"
    },
    {
     "data": {
      "text/html": [
       "<pre>| 3m 39s                              | 84               | 168873          |</pre>"
      ],
      "text/plain": [
       "| 3m 39s                              | 84               | 168873          |"
      ]
     },
     "metadata": {},
     "output_type": "display_data"
    },
    {
     "data": {
      "text/html": [
       "<pre>| 3m 40s                              | 84               | 169095          |</pre>"
      ],
      "text/plain": [
       "| 3m 40s                              | 84               | 169095          |"
      ]
     },
     "metadata": {},
     "output_type": "display_data"
    },
    {
     "data": {
      "text/html": [
       "<pre>| 3m 41s                              | 84               | 169250          |</pre>"
      ],
      "text/plain": [
       "| 3m 41s                              | 84               | 169250          |"
      ]
     },
     "metadata": {},
     "output_type": "display_data"
    },
    {
     "data": {
      "text/html": [
       "<pre>| 3m 42s                              | 84.25            | 169442          |</pre>"
      ],
      "text/plain": [
       "| 3m 42s                              | 84.25            | 169442          |"
      ]
     },
     "metadata": {},
     "output_type": "display_data"
    },
    {
     "data": {
      "text/html": [
       "<pre>| 3m 43s                              | 84.25            | 169626          |</pre>"
      ],
      "text/plain": [
       "| 3m 43s                              | 84.25            | 169626          |"
      ]
     },
     "metadata": {},
     "output_type": "display_data"
    },
    {
     "data": {
      "text/html": [
       "<pre>| 3m 44s                              | 84.25            | 169785          |</pre>"
      ],
      "text/plain": [
       "| 3m 44s                              | 84.25            | 169785          |"
      ]
     },
     "metadata": {},
     "output_type": "display_data"
    },
    {
     "data": {
      "text/html": [
       "<pre>| 3m 45s                              | 84.5             | 169947          |</pre>"
      ],
      "text/plain": [
       "| 3m 45s                              | 84.5             | 169947          |"
      ]
     },
     "metadata": {},
     "output_type": "display_data"
    },
    {
     "data": {
      "text/html": [
       "<pre>| 3m 46s                              | 84.5             | 170155          |</pre>"
      ],
      "text/plain": [
       "| 3m 46s                              | 84.5             | 170155          |"
      ]
     },
     "metadata": {},
     "output_type": "display_data"
    },
    {
     "data": {
      "text/html": [
       "<pre>| 3m 47s                              | 84.75            | 170350          |</pre>"
      ],
      "text/plain": [
       "| 3m 47s                              | 84.75            | 170350          |"
      ]
     },
     "metadata": {},
     "output_type": "display_data"
    },
    {
     "data": {
      "text/html": [
       "<pre>| 3m 48s                              | 84.75            | 170563          |</pre>"
      ],
      "text/plain": [
       "| 3m 48s                              | 84.75            | 170563          |"
      ]
     },
     "metadata": {},
     "output_type": "display_data"
    },
    {
     "data": {
      "text/html": [
       "<pre>| 3m 49s                              | 84.75            | 170727          |</pre>"
      ],
      "text/plain": [
       "| 3m 49s                              | 84.75            | 170727          |"
      ]
     },
     "metadata": {},
     "output_type": "display_data"
    },
    {
     "data": {
      "text/html": [
       "<pre>| 3m 50s                              | 85               | 170900          |</pre>"
      ],
      "text/plain": [
       "| 3m 50s                              | 85               | 170900          |"
      ]
     },
     "metadata": {},
     "output_type": "display_data"
    },
    {
     "data": {
      "text/html": [
       "<pre>| 3m 51s                              | 85               | 171068          |</pre>"
      ],
      "text/plain": [
       "| 3m 51s                              | 85               | 171068          |"
      ]
     },
     "metadata": {},
     "output_type": "display_data"
    },
    {
     "data": {
      "text/html": [
       "<pre>| 3m 52s                              | 85               | 171228          |</pre>"
      ],
      "text/plain": [
       "| 3m 52s                              | 85               | 171228          |"
      ]
     },
     "metadata": {},
     "output_type": "display_data"
    },
    {
     "data": {
      "text/html": [
       "<pre>| 3m 53s                              | 85.25            | 171615          |</pre>"
      ],
      "text/plain": [
       "| 3m 53s                              | 85.25            | 171615          |"
      ]
     },
     "metadata": {},
     "output_type": "display_data"
    },
    {
     "data": {
      "text/html": [
       "<pre>| 3m 54s                              | 85.25            | 171761          |</pre>"
      ],
      "text/plain": [
       "| 3m 54s                              | 85.25            | 171761          |"
      ]
     },
     "metadata": {},
     "output_type": "display_data"
    },
    {
     "data": {
      "text/html": [
       "<pre>| 3m 55s                              | 85.5             | 171889          |</pre>"
      ],
      "text/plain": [
       "| 3m 55s                              | 85.5             | 171889          |"
      ]
     },
     "metadata": {},
     "output_type": "display_data"
    },
    {
     "data": {
      "text/html": [
       "<pre>| 3m 56s                              | 85.5             | 172028          |</pre>"
      ],
      "text/plain": [
       "| 3m 56s                              | 85.5             | 172028          |"
      ]
     },
     "metadata": {},
     "output_type": "display_data"
    },
    {
     "data": {
      "text/html": [
       "<pre>| 3m 57s                              | 85.75            | 172399          |</pre>"
      ],
      "text/plain": [
       "| 3m 57s                              | 85.75            | 172399          |"
      ]
     },
     "metadata": {},
     "output_type": "display_data"
    },
    {
     "data": {
      "text/html": [
       "<pre>| 3m 58s                              | 85.75            | 172576          |</pre>"
      ],
      "text/plain": [
       "| 3m 58s                              | 85.75            | 172576          |"
      ]
     },
     "metadata": {},
     "output_type": "display_data"
    },
    {
     "data": {
      "text/html": [
       "<pre>| 3m 59s                              | 85.75            | 172753          |</pre>"
      ],
      "text/plain": [
       "| 3m 59s                              | 85.75            | 172753          |"
      ]
     },
     "metadata": {},
     "output_type": "display_data"
    },
    {
     "data": {
      "text/html": [
       "<pre>| 4m 0s                               | 86               | 173043          |</pre>"
      ],
      "text/plain": [
       "| 4m 0s                               | 86               | 173043          |"
      ]
     },
     "metadata": {},
     "output_type": "display_data"
    },
    {
     "data": {
      "text/html": [
       "<pre>| 4m 1s                               | 86.5             | 174047          |</pre>"
      ],
      "text/plain": [
       "| 4m 1s                               | 86.5             | 174047          |"
      ]
     },
     "metadata": {},
     "output_type": "display_data"
    },
    {
     "data": {
      "text/html": [
       "<pre>| 4m 2s                               | 86.75            | 174810          |</pre>"
      ],
      "text/plain": [
       "| 4m 2s                               | 86.75            | 174810          |"
      ]
     },
     "metadata": {},
     "output_type": "display_data"
    },
    {
     "data": {
      "text/html": [
       "<pre>| 4m 3s                               | 87               | 174934          |</pre>"
      ],
      "text/plain": [
       "| 4m 3s                               | 87               | 174934          |"
      ]
     },
     "metadata": {},
     "output_type": "display_data"
    },
    {
     "data": {
      "text/html": [
       "<pre>| 4m 4s                               | 87               | 175046          |</pre>"
      ],
      "text/plain": [
       "| 4m 4s                               | 87               | 175046          |"
      ]
     },
     "metadata": {},
     "output_type": "display_data"
    },
    {
     "data": {
      "text/html": [
       "<pre>| 4m 5s                               | 87               | 175176          |</pre>"
      ],
      "text/plain": [
       "| 4m 5s                               | 87               | 175176          |"
      ]
     },
     "metadata": {},
     "output_type": "display_data"
    },
    {
     "data": {
      "text/html": [
       "<pre>| 4m 6s                               | 87.25            | 175325          |</pre>"
      ],
      "text/plain": [
       "| 4m 6s                               | 87.25            | 175325          |"
      ]
     },
     "metadata": {},
     "output_type": "display_data"
    },
    {
     "data": {
      "text/html": [
       "<pre>| 4m 7s                               | 87.25            | 175451          |</pre>"
      ],
      "text/plain": [
       "| 4m 7s                               | 87.25            | 175451          |"
      ]
     },
     "metadata": {},
     "output_type": "display_data"
    },
    {
     "data": {
      "text/html": [
       "<pre>| 4m 8s                               | 87.25            | 175577          |</pre>"
      ],
      "text/plain": [
       "| 4m 8s                               | 87.25            | 175577          |"
      ]
     },
     "metadata": {},
     "output_type": "display_data"
    },
    {
     "data": {
      "text/html": [
       "<pre>| 4m 9s                               | 87.25            | 175697          |</pre>"
      ],
      "text/plain": [
       "| 4m 9s                               | 87.25            | 175697          |"
      ]
     },
     "metadata": {},
     "output_type": "display_data"
    },
    {
     "data": {
      "text/html": [
       "<pre>| 4m 10s                              | 87.5             | 175847          |</pre>"
      ],
      "text/plain": [
       "| 4m 10s                              | 87.5             | 175847          |"
      ]
     },
     "metadata": {},
     "output_type": "display_data"
    },
    {
     "data": {
      "text/html": [
       "<pre>| 4m 11s                              | 87.5             | 176044          |</pre>"
      ],
      "text/plain": [
       "| 4m 11s                              | 87.5             | 176044          |"
      ]
     },
     "metadata": {},
     "output_type": "display_data"
    },
    {
     "data": {
      "text/html": [
       "<pre>| 4m 12s                              | 87.75            | 176447          |</pre>"
      ],
      "text/plain": [
       "| 4m 12s                              | 87.75            | 176447          |"
      ]
     },
     "metadata": {},
     "output_type": "display_data"
    },
    {
     "data": {
      "text/html": [
       "<pre>| 4m 13s                              | 87.75            | 176593          |</pre>"
      ],
      "text/plain": [
       "| 4m 13s                              | 87.75            | 176593          |"
      ]
     },
     "metadata": {},
     "output_type": "display_data"
    },
    {
     "data": {
      "text/html": [
       "<pre>| 4m 14s                              | 88               | 176825          |</pre>"
      ],
      "text/plain": [
       "| 4m 14s                              | 88               | 176825          |"
      ]
     },
     "metadata": {},
     "output_type": "display_data"
    },
    {
     "data": {
      "text/html": [
       "<pre>| 4m 15s                              | 88               | 177039          |</pre>"
      ],
      "text/plain": [
       "| 4m 15s                              | 88               | 177039          |"
      ]
     },
     "metadata": {},
     "output_type": "display_data"
    },
    {
     "data": {
      "text/html": [
       "<pre>| 4m 16s                              | 88.25            | 177389          |</pre>"
      ],
      "text/plain": [
       "| 4m 16s                              | 88.25            | 177389          |"
      ]
     },
     "metadata": {},
     "output_type": "display_data"
    },
    {
     "data": {
      "text/html": [
       "<pre>| 4m 17s                              | 88.25            | 177786          |</pre>"
      ],
      "text/plain": [
       "| 4m 17s                              | 88.25            | 177786          |"
      ]
     },
     "metadata": {},
     "output_type": "display_data"
    },
    {
     "data": {
      "text/html": [
       "<pre>| 4m 18s                              | 88.5             | 178025          |</pre>"
      ],
      "text/plain": [
       "| 4m 18s                              | 88.5             | 178025          |"
      ]
     },
     "metadata": {},
     "output_type": "display_data"
    },
    {
     "data": {
      "text/html": [
       "<pre>| 4m 19s                              | 88.75            | 178498          |</pre>"
      ],
      "text/plain": [
       "| 4m 19s                              | 88.75            | 178498          |"
      ]
     },
     "metadata": {},
     "output_type": "display_data"
    },
    {
     "data": {
      "text/html": [
       "<pre>| 4m 20s                              | 89.5             | 179905          |</pre>"
      ],
      "text/plain": [
       "| 4m 20s                              | 89.5             | 179905          |"
      ]
     },
     "metadata": {},
     "output_type": "display_data"
    },
    {
     "data": {
      "text/html": [
       "<pre>| 4m 21s                              | 89.5             | 180288          |</pre>"
      ],
      "text/plain": [
       "| 4m 21s                              | 89.5             | 180288          |"
      ]
     },
     "metadata": {},
     "output_type": "display_data"
    },
    {
     "data": {
      "text/html": [
       "<pre>| 4m 24s                              | 89.75            | 180656          |</pre>"
      ],
      "text/plain": [
       "| 4m 24s                              | 89.75            | 180656          |"
      ]
     },
     "metadata": {},
     "output_type": "display_data"
    },
    {
     "data": {
      "text/html": [
       "<pre>| 4m 27s                              | 90               | 180960          |</pre>"
      ],
      "text/plain": [
       "| 4m 27s                              | 90               | 180960          |"
      ]
     },
     "metadata": {},
     "output_type": "display_data"
    },
    {
     "data": {
      "text/html": [
       "<pre>| 4m 29s                              | 90               | 181206          |</pre>"
      ],
      "text/plain": [
       "| 4m 29s                              | 90               | 181206          |"
      ]
     },
     "metadata": {},
     "output_type": "display_data"
    },
    {
     "data": {
      "text/html": [
       "<pre>| 4m 30s                              | 90.25            | 181573          |</pre>"
      ],
      "text/plain": [
       "| 4m 30s                              | 90.25            | 181573          |"
      ]
     },
     "metadata": {},
     "output_type": "display_data"
    },
    {
     "data": {
      "text/html": [
       "<pre>| 4m 31s                              | 90.25            | 181741          |</pre>"
      ],
      "text/plain": [
       "| 4m 31s                              | 90.25            | 181741          |"
      ]
     },
     "metadata": {},
     "output_type": "display_data"
    },
    {
     "data": {
      "text/html": [
       "<pre>| 4m 32s                              | 90.5             | 182215          |</pre>"
      ],
      "text/plain": [
       "| 4m 32s                              | 90.5             | 182215          |"
      ]
     },
     "metadata": {},
     "output_type": "display_data"
    },
    {
     "data": {
      "text/html": [
       "<pre>| 4m 36s                              | 91               | 182922          |</pre>"
      ],
      "text/plain": [
       "| 4m 36s                              | 91               | 182922          |"
      ]
     },
     "metadata": {},
     "output_type": "display_data"
    },
    {
     "data": {
      "text/html": [
       "<pre>| 4m 37s                              | 91               | 183021          |</pre>"
      ],
      "text/plain": [
       "| 4m 37s                              | 91               | 183021          |"
      ]
     },
     "metadata": {},
     "output_type": "display_data"
    },
    {
     "data": {
      "text/html": [
       "<pre>| 4m 39s                              | 91               | 183157          |</pre>"
      ],
      "text/plain": [
       "| 4m 39s                              | 91               | 183157          |"
      ]
     },
     "metadata": {},
     "output_type": "display_data"
    },
    {
     "data": {
      "text/html": [
       "<pre>| 4m 40s                              | 91               | 183170          |</pre>"
      ],
      "text/plain": [
       "| 4m 40s                              | 91               | 183170          |"
      ]
     },
     "metadata": {},
     "output_type": "display_data"
    },
    {
     "data": {
      "text/html": [
       "<pre>| 4m 41s                              | 91.25            | 183371          |</pre>"
      ],
      "text/plain": [
       "| 4m 41s                              | 91.25            | 183371          |"
      ]
     },
     "metadata": {},
     "output_type": "display_data"
    },
    {
     "data": {
      "text/html": [
       "<pre>| 4m 43s                              | 91.25            | 183670          |</pre>"
      ],
      "text/plain": [
       "| 4m 43s                              | 91.25            | 183670          |"
      ]
     },
     "metadata": {},
     "output_type": "display_data"
    },
    {
     "data": {
      "text/html": [
       "<pre>| 4m 46s                              | 91.5             | 184001          |</pre>"
      ],
      "text/plain": [
       "| 4m 46s                              | 91.5             | 184001          |"
      ]
     },
     "metadata": {},
     "output_type": "display_data"
    },
    {
     "data": {
      "text/html": [
       "<pre>| 5m 20s                              | 93.75            | 188475          |</pre>"
      ],
      "text/plain": [
       "| 5m 20s                              | 93.75            | 188475          |"
      ]
     },
     "metadata": {},
     "output_type": "display_data"
    },
    {
     "data": {
      "text/html": [
       "<pre>| 5m 35s                              | 94.5             | 190373          |</pre>"
      ],
      "text/plain": [
       "| 5m 35s                              | 94.5             | 190373          |"
      ]
     },
     "metadata": {},
     "output_type": "display_data"
    },
    {
     "data": {
      "text/html": [
       "<pre>| 5m 42s                              | 95               | 191067          |</pre>"
      ],
      "text/plain": [
       "| 5m 42s                              | 95               | 191067          |"
      ]
     },
     "metadata": {},
     "output_type": "display_data"
    },
    {
     "data": {
      "text/html": [
       "<pre>| 5m 43s                              | 95               | 191152          |</pre>"
      ],
      "text/plain": [
       "| 5m 43s                              | 95               | 191152          |"
      ]
     },
     "metadata": {},
     "output_type": "display_data"
    },
    {
     "data": {
      "text/html": [
       "<pre>| 5m 46s                              | 95.25            | 191489          |</pre>"
      ],
      "text/plain": [
       "| 5m 46s                              | 95.25            | 191489          |"
      ]
     },
     "metadata": {},
     "output_type": "display_data"
    },
    {
     "data": {
      "text/html": [
       "<pre>| 5m 47s                              | 95.25            | 191687          |</pre>"
      ],
      "text/plain": [
       "| 5m 47s                              | 95.25            | 191687          |"
      ]
     },
     "metadata": {},
     "output_type": "display_data"
    },
    {
     "data": {
      "text/html": [
       "<pre>| 5m 48s                              | 95.25            | 191715          |</pre>"
      ],
      "text/plain": [
       "| 5m 48s                              | 95.25            | 191715          |"
      ]
     },
     "metadata": {},
     "output_type": "display_data"
    },
    {
     "data": {
      "text/html": [
       "<pre>| 5m 51s                              | 95.5             | 192088          |</pre>"
      ],
      "text/plain": [
       "| 5m 51s                              | 95.5             | 192088          |"
      ]
     },
     "metadata": {},
     "output_type": "display_data"
    },
    {
     "data": {
      "text/html": [
       "<pre>| 5m 52s                              | 95.5             | 192324          |</pre>"
      ],
      "text/plain": [
       "| 5m 52s                              | 95.5             | 192324          |"
      ]
     },
     "metadata": {},
     "output_type": "display_data"
    },
    {
     "data": {
      "text/html": [
       "<pre>| 5m 53s                              | 95.75            | 192412          |</pre>"
      ],
      "text/plain": [
       "| 5m 53s                              | 95.75            | 192412          |"
      ]
     },
     "metadata": {},
     "output_type": "display_data"
    },
    {
     "data": {
      "text/html": [
       "<pre>| 5m 54s                              | 95.75            | 192617          |</pre>"
      ],
      "text/plain": [
       "| 5m 54s                              | 95.75            | 192617          |"
      ]
     },
     "metadata": {},
     "output_type": "display_data"
    },
    {
     "data": {
      "text/html": [
       "<pre>| 5m 55s                              | 95.75            | 192740          |</pre>"
      ],
      "text/plain": [
       "| 5m 55s                              | 95.75            | 192740          |"
      ]
     },
     "metadata": {},
     "output_type": "display_data"
    },
    {
     "data": {
      "text/html": [
       "<pre>| 6m 8s                               | 96.5             | 193920          |</pre>"
      ],
      "text/plain": [
       "| 6m 8s                               | 96.5             | 193920          |"
      ]
     },
     "metadata": {},
     "output_type": "display_data"
    },
    {
     "data": {
      "text/html": [
       "<pre>| 6m 43s                              | 98.75            | 198577          |</pre>"
      ],
      "text/plain": [
       "| 6m 43s                              | 98.75            | 198577          |"
      ]
     },
     "metadata": {},
     "output_type": "display_data"
    },
    {
     "data": {
      "text/html": [
       "<pre>| 6m 51s                              | 99               | 199200          |</pre>"
      ],
      "text/plain": [
       "| 6m 51s                              | 99               | 199200          |"
      ]
     },
     "metadata": {},
     "output_type": "display_data"
    },
    {
     "data": {
      "text/html": [
       "<pre>| 6m 52s                              | 99               | 199279          |</pre>"
      ],
      "text/plain": [
       "| 6m 52s                              | 99               | 199279          |"
      ]
     },
     "metadata": {},
     "output_type": "display_data"
    },
    {
     "data": {
      "text/html": [
       "<pre>| 6m 53s                              | 99               | 199368          |</pre>"
      ],
      "text/plain": [
       "| 6m 53s                              | 99               | 199368          |"
      ]
     },
     "metadata": {},
     "output_type": "display_data"
    },
    {
     "data": {
      "text/html": [
       "<pre>| 6m 54s                              | 99.25            | 199482          |</pre>"
      ],
      "text/plain": [
       "| 6m 54s                              | 99.25            | 199482          |"
      ]
     },
     "metadata": {},
     "output_type": "display_data"
    },
    {
     "data": {
      "text/html": [
       "<pre>| 6m 56s                              | 99.25            | 199628          |</pre>"
      ],
      "text/plain": [
       "| 6m 56s                              | 99.25            | 199628          |"
      ]
     },
     "metadata": {},
     "output_type": "display_data"
    },
    {
     "data": {
      "text/html": [
       "<pre>| 6m 56s                              | 99.25            | 199629          |</pre>"
      ],
      "text/plain": [
       "| 6m 56s                              | 99.25            | 199629          |"
      ]
     },
     "metadata": {},
     "output_type": "display_data"
    },
    {
     "data": {
      "text/html": [
       "<pre>| 6m 59s                              | 99.25            | 199828          |</pre>"
      ],
      "text/plain": [
       "| 6m 59s                              | 99.25            | 199828          |"
      ]
     },
     "metadata": {},
     "output_type": "display_data"
    },
    {
     "data": {
      "text/html": [
       "<pre>| 7m 4s                               | 99.5             | 200393          |</pre>"
      ],
      "text/plain": [
       "| 7m 4s                               | 99.5             | 200393          |"
      ]
     },
     "metadata": {},
     "output_type": "display_data"
    },
    {
     "data": {
      "text/html": [
       "<pre>| 7m 8s                               | 99.75            | 200882          |</pre>"
      ],
      "text/plain": [
       "| 7m 8s                               | 99.75            | 200882          |"
      ]
     },
     "metadata": {},
     "output_type": "display_data"
    },
    {
     "data": {
      "text/html": [
       "<pre>| 7m 30s                              | 100              | 200937          |</pre>"
      ],
      "text/plain": [
       "| 7m 30s                              | 100              | 200937          |"
      ]
     },
     "metadata": {},
     "output_type": "display_data"
    },
    {
     "data": {
      "text/html": [
       "<pre>+-------------------------------------+------------------+-----------------+</pre>"
      ],
      "text/plain": [
       "+-------------------------------------+------------------+-----------------+"
      ]
     },
     "metadata": {},
     "output_type": "display_data"
    },
    {
     "data": {
      "text/html": [
       "<pre>Finalizing lookup tables.</pre>"
      ],
      "text/plain": [
       "Finalizing lookup tables."
      ]
     },
     "metadata": {},
     "output_type": "display_data"
    },
    {
     "data": {
      "text/html": [
       "<pre>Generating candidate set for working with new users.</pre>"
      ],
      "text/plain": [
       "Generating candidate set for working with new users."
      ]
     },
     "metadata": {},
     "output_type": "display_data"
    },
    {
     "data": {
      "text/html": [
       "<pre>Finished training in 451.466s</pre>"
      ],
      "text/plain": [
       "Finished training in 451.466s"
      ]
     },
     "metadata": {},
     "output_type": "display_data"
    }
   ],
   "source": [
    "training_data, validation_data = gl.recommender.util.random_split_by_user(sf, 'user_id', 'item_id')\n",
    "model = gl.recommender.create(training_data, 'user_id', 'item_id')"
   ]
  },
  {
   "cell_type": "code",
   "execution_count": 13,
   "metadata": {
    "collapsed": false
   },
   "outputs": [
    {
     "data": {
      "text/html": [
       "<div style=\"max-height:1000px;max-width:1500px;overflow:auto;\"><table frame=\"box\" rules=\"cols\">\n",
       "    <tr>\n",
       "        <th style=\"padding-left: 1em; padding-right: 1em; text-align: center\">user_id</th>\n",
       "        <th style=\"padding-left: 1em; padding-right: 1em; text-align: center\">item_id</th>\n",
       "        <th style=\"padding-left: 1em; padding-right: 1em; text-align: center\">score</th>\n",
       "        <th style=\"padding-left: 1em; padding-right: 1em; text-align: center\">rank</th>\n",
       "    </tr>\n",
       "    <tr>\n",
       "        <td style=\"padding-left: 1em; padding-right: 1em; text-align: center; vertical-align: top\">A3GV56BOF8EZOL</td>\n",
       "        <td style=\"padding-left: 1em; padding-right: 1em; text-align: center; vertical-align: top\">B008JFUO36</td>\n",
       "        <td style=\"padding-left: 1em; padding-right: 1em; text-align: center; vertical-align: top\">0.0072816991806</td>\n",
       "        <td style=\"padding-left: 1em; padding-right: 1em; text-align: center; vertical-align: top\">1</td>\n",
       "    </tr>\n",
       "    <tr>\n",
       "        <td style=\"padding-left: 1em; padding-right: 1em; text-align: center; vertical-align: top\">A3GV56BOF8EZOL</td>\n",
       "        <td style=\"padding-left: 1em; padding-right: 1em; text-align: center; vertical-align: top\">B0059XTU1S</td>\n",
       "        <td style=\"padding-left: 1em; padding-right: 1em; text-align: center; vertical-align: top\">0.00692800164223</td>\n",
       "        <td style=\"padding-left: 1em; padding-right: 1em; text-align: center; vertical-align: top\">2</td>\n",
       "    </tr>\n",
       "    <tr>\n",
       "        <td style=\"padding-left: 1em; padding-right: 1em; text-align: center; vertical-align: top\">A3GV56BOF8EZOL</td>\n",
       "        <td style=\"padding-left: 1em; padding-right: 1em; text-align: center; vertical-align: top\">B008JFUO72</td>\n",
       "        <td style=\"padding-left: 1em; padding-right: 1em; text-align: center; vertical-align: top\">0.00692346811295</td>\n",
       "        <td style=\"padding-left: 1em; padding-right: 1em; text-align: center; vertical-align: top\">3</td>\n",
       "    </tr>\n",
       "    <tr>\n",
       "        <td style=\"padding-left: 1em; padding-right: 1em; text-align: center; vertical-align: top\">A3GV56BOF8EZOL</td>\n",
       "        <td style=\"padding-left: 1em; padding-right: 1em; text-align: center; vertical-align: top\">B005LAIIHG</td>\n",
       "        <td style=\"padding-left: 1em; padding-right: 1em; text-align: center; vertical-align: top\">0.00669644117355</td>\n",
       "        <td style=\"padding-left: 1em; padding-right: 1em; text-align: center; vertical-align: top\">4</td>\n",
       "    </tr>\n",
       "    <tr>\n",
       "        <td style=\"padding-left: 1em; padding-right: 1em; text-align: center; vertical-align: top\">A3GV56BOF8EZOL</td>\n",
       "        <td style=\"padding-left: 1em; padding-right: 1em; text-align: center; vertical-align: top\">B009934S5M</td>\n",
       "        <td style=\"padding-left: 1em; padding-right: 1em; text-align: center; vertical-align: top\">0.00668770313263</td>\n",
       "        <td style=\"padding-left: 1em; padding-right: 1em; text-align: center; vertical-align: top\">5</td>\n",
       "    </tr>\n",
       "    <tr>\n",
       "        <td style=\"padding-left: 1em; padding-right: 1em; text-align: center; vertical-align: top\">A9E7XZEMW0K9V</td>\n",
       "        <td style=\"padding-left: 1em; padding-right: 1em; text-align: center; vertical-align: top\">6305574928</td>\n",
       "        <td style=\"padding-left: 1em; padding-right: 1em; text-align: center; vertical-align: top\">0.0299850106239</td>\n",
       "        <td style=\"padding-left: 1em; padding-right: 1em; text-align: center; vertical-align: top\">1</td>\n",
       "    </tr>\n",
       "    <tr>\n",
       "        <td style=\"padding-left: 1em; padding-right: 1em; text-align: center; vertical-align: top\">A9E7XZEMW0K9V</td>\n",
       "        <td style=\"padding-left: 1em; padding-right: 1em; text-align: center; vertical-align: top\">630518299X</td>\n",
       "        <td style=\"padding-left: 1em; padding-right: 1em; text-align: center; vertical-align: top\">0.0287234187126</td>\n",
       "        <td style=\"padding-left: 1em; padding-right: 1em; text-align: center; vertical-align: top\">2</td>\n",
       "    </tr>\n",
       "    <tr>\n",
       "        <td style=\"padding-left: 1em; padding-right: 1em; text-align: center; vertical-align: top\">A9E7XZEMW0K9V</td>\n",
       "        <td style=\"padding-left: 1em; padding-right: 1em; text-align: center; vertical-align: top\">B00005O5CM</td>\n",
       "        <td style=\"padding-left: 1em; padding-right: 1em; text-align: center; vertical-align: top\">0.0258342027664</td>\n",
       "        <td style=\"padding-left: 1em; padding-right: 1em; text-align: center; vertical-align: top\">3</td>\n",
       "    </tr>\n",
       "    <tr>\n",
       "        <td style=\"padding-left: 1em; padding-right: 1em; text-align: center; vertical-align: top\">A9E7XZEMW0K9V</td>\n",
       "        <td style=\"padding-left: 1em; padding-right: 1em; text-align: center; vertical-align: top\">B00005T30L</td>\n",
       "        <td style=\"padding-left: 1em; padding-right: 1em; text-align: center; vertical-align: top\">0.0244233608246</td>\n",
       "        <td style=\"padding-left: 1em; padding-right: 1em; text-align: center; vertical-align: top\">4</td>\n",
       "    </tr>\n",
       "    <tr>\n",
       "        <td style=\"padding-left: 1em; padding-right: 1em; text-align: center; vertical-align: top\">A9E7XZEMW0K9V</td>\n",
       "        <td style=\"padding-left: 1em; padding-right: 1em; text-align: center; vertical-align: top\">B00003CYLJ</td>\n",
       "        <td style=\"padding-left: 1em; padding-right: 1em; text-align: center; vertical-align: top\">0.0227479338646</td>\n",
       "        <td style=\"padding-left: 1em; padding-right: 1em; text-align: center; vertical-align: top\">5</td>\n",
       "    </tr>\n",
       "</table>\n",
       "[1885 rows x 4 columns]<br/>Note: Only the head of the SFrame is printed.<br/>You can use print_rows(num_rows=m, num_columns=n) to print more rows and columns.\n",
       "</div>"
      ],
      "text/plain": [
       "Columns:\n",
       "\tuser_id\tstr\n",
       "\titem_id\tstr\n",
       "\tscore\tfloat\n",
       "\trank\tint\n",
       "\n",
       "Rows: 1885\n",
       "\n",
       "Data:\n",
       "+----------------+------------+------------------+------+\n",
       "|    user_id     |  item_id   |      score       | rank |\n",
       "+----------------+------------+------------------+------+\n",
       "| A3GV56BOF8EZOL | B008JFUO36 | 0.0072816991806  |  1   |\n",
       "| A3GV56BOF8EZOL | B0059XTU1S | 0.00692800164223 |  2   |\n",
       "| A3GV56BOF8EZOL | B008JFUO72 | 0.00692346811295 |  3   |\n",
       "| A3GV56BOF8EZOL | B005LAIIHG | 0.00669644117355 |  4   |\n",
       "| A3GV56BOF8EZOL | B009934S5M | 0.00668770313263 |  5   |\n",
       "| A9E7XZEMW0K9V  | 6305574928 | 0.0299850106239  |  1   |\n",
       "| A9E7XZEMW0K9V  | 630518299X | 0.0287234187126  |  2   |\n",
       "| A9E7XZEMW0K9V  | B00005O5CM | 0.0258342027664  |  3   |\n",
       "| A9E7XZEMW0K9V  | B00005T30L | 0.0244233608246  |  4   |\n",
       "| A9E7XZEMW0K9V  | B00003CYLJ | 0.0227479338646  |  5   |\n",
       "+----------------+------------+------------------+------+\n",
       "[1885 rows x 4 columns]\n",
       "Note: Only the head of the SFrame is printed.\n",
       "You can use print_rows(num_rows=m, num_columns=n) to print more rows and columns."
      ]
     },
     "execution_count": 13,
     "metadata": {},
     "output_type": "execute_result"
    }
   ],
   "source": [
    "model.recommend(users = validation_data['user_id'], k=5, random_seed=123)"
=======
   "execution_count": 6,
   "metadata": {
    "collapsed": true
   },
   "outputs": [],
   "source": [
    "training_data, validation_data = gl.recommender.util.random_split_by_user(sf, 'user_id', 'item_id', random_seed=123)"
   ]
  },
  {
   "cell_type": "markdown",
   "metadata": {},
   "source": [
    "#### Creating popularity based recommender system"
>>>>>>> 349c7e554242b2e6569c156ec2b1ad4089a0b5ba
   ]
  },
  {
   "cell_type": "code",
<<<<<<< HEAD
   "execution_count": 14,
   "metadata": {
    "collapsed": false
   },
   "outputs": [
    {
     "data": {
      "text/html": [
       "<pre>recommendations finished on 1000/2088478 queries. users per second: 5721.77</pre>"
      ],
      "text/plain": [
       "recommendations finished on 1000/2088478 queries. users per second: 5721.77"
      ]
     },
     "metadata": {},
     "output_type": "display_data"
    },
    {
     "data": {
      "text/html": [
       "<pre>recommendations finished on 2000/2088478 queries. users per second: 6067.69</pre>"
      ],
      "text/plain": [
       "recommendations finished on 2000/2088478 queries. users per second: 6067.69"
      ]
     },
     "metadata": {},
     "output_type": "display_data"
    },
    {
     "data": {
      "text/html": [
       "<pre>recommendations finished on 3000/2088478 queries. users per second: 6126.14</pre>"
      ],
      "text/plain": [
       "recommendations finished on 3000/2088478 queries. users per second: 6126.14"
      ]
     },
     "metadata": {},
     "output_type": "display_data"
    },
    {
     "data": {
      "text/html": [
       "<pre>recommendations finished on 4000/2088478 queries. users per second: 6159.73</pre>"
      ],
      "text/plain": [
       "recommendations finished on 4000/2088478 queries. users per second: 6159.73"
      ]
     },
     "metadata": {},
     "output_type": "display_data"
    },
    {
     "data": {
      "text/html": [
       "<pre>recommendations finished on 5000/2088478 queries. users per second: 6102.38</pre>"
      ],
      "text/plain": [
       "recommendations finished on 5000/2088478 queries. users per second: 6102.38"
      ]
     },
     "metadata": {},
     "output_type": "display_data"
    },
    {
     "data": {
      "text/html": [
       "<pre>recommendations finished on 6000/2088478 queries. users per second: 6168.35</pre>"
      ],
      "text/plain": [
       "recommendations finished on 6000/2088478 queries. users per second: 6168.35"
      ]
     },
     "metadata": {},
     "output_type": "display_data"
    },
    {
     "data": {
      "text/html": [
       "<pre>recommendations finished on 7000/2088478 queries. users per second: 6034</pre>"
      ],
      "text/plain": [
       "recommendations finished on 7000/2088478 queries. users per second: 6034"
      ]
     },
     "metadata": {},
     "output_type": "display_data"
    },
    {
     "data": {
      "text/html": [
       "<pre>recommendations finished on 8000/2088478 queries. users per second: 6098.51</pre>"
      ],
      "text/plain": [
       "recommendations finished on 8000/2088478 queries. users per second: 6098.51"
      ]
     },
     "metadata": {},
     "output_type": "display_data"
    },
    {
     "data": {
      "text/html": [
       "<pre>recommendations finished on 9000/2088478 queries. users per second: 6155.12</pre>"
      ],
      "text/plain": [
       "recommendations finished on 9000/2088478 queries. users per second: 6155.12"
      ]
     },
     "metadata": {},
     "output_type": "display_data"
    },
    {
     "data": {
      "text/html": [
       "<pre>recommendations finished on 10000/2088478 queries. users per second: 6181.78</pre>"
      ],
      "text/plain": [
       "recommendations finished on 10000/2088478 queries. users per second: 6181.78"
      ]
     },
     "metadata": {},
     "output_type": "display_data"
    },
    {
     "data": {
      "text/html": [
       "<pre>recommendations finished on 11000/2088478 queries. users per second: 6210.44</pre>"
      ],
      "text/plain": [
       "recommendations finished on 11000/2088478 queries. users per second: 6210.44"
      ]
     },
     "metadata": {},
     "output_type": "display_data"
    },
    {
     "data": {
      "text/html": [
       "<pre>recommendations finished on 12000/2088478 queries. users per second: 6165.48</pre>"
      ],
      "text/plain": [
       "recommendations finished on 12000/2088478 queries. users per second: 6165.48"
      ]
     },
     "metadata": {},
     "output_type": "display_data"
    },
    {
     "data": {
      "text/html": [
       "<pre>recommendations finished on 13000/2088478 queries. users per second: 6008.88</pre>"
      ],
      "text/plain": [
       "recommendations finished on 13000/2088478 queries. users per second: 6008.88"
      ]
     },
     "metadata": {},
     "output_type": "display_data"
    },
    {
     "data": {
      "text/html": [
       "<pre>recommendations finished on 14000/2088478 queries. users per second: 6026.65</pre>"
      ],
      "text/plain": [
       "recommendations finished on 14000/2088478 queries. users per second: 6026.65"
      ]
     },
     "metadata": {},
     "output_type": "display_data"
    },
    {
     "data": {
      "text/html": [
       "<pre>recommendations finished on 15000/2088478 queries. users per second: 6065.13</pre>"
      ],
      "text/plain": [
       "recommendations finished on 15000/2088478 queries. users per second: 6065.13"
      ]
     },
     "metadata": {},
     "output_type": "display_data"
    },
    {
     "data": {
      "text/html": [
       "<pre>recommendations finished on 16000/2088478 queries. users per second: 6097.21</pre>"
      ],
      "text/plain": [
       "recommendations finished on 16000/2088478 queries. users per second: 6097.21"
      ]
     },
     "metadata": {},
     "output_type": "display_data"
    },
    {
     "data": {
      "text/html": [
       "<pre>recommendations finished on 17000/2088478 queries. users per second: 5998.8</pre>"
      ],
      "text/plain": [
       "recommendations finished on 17000/2088478 queries. users per second: 5998.8"
      ]
     },
     "metadata": {},
     "output_type": "display_data"
    },
    {
     "data": {
      "text/html": [
       "<pre>recommendations finished on 18000/2088478 queries. users per second: 5986.34</pre>"
      ],
      "text/plain": [
       "recommendations finished on 18000/2088478 queries. users per second: 5986.34"
      ]
     },
     "metadata": {},
     "output_type": "display_data"
    },
    {
     "data": {
      "text/html": [
       "<pre>recommendations finished on 19000/2088478 queries. users per second: 5997.35</pre>"
      ],
      "text/plain": [
       "recommendations finished on 19000/2088478 queries. users per second: 5997.35"
      ]
     },
     "metadata": {},
     "output_type": "display_data"
    },
    {
     "data": {
      "text/html": [
       "<pre>recommendations finished on 20000/2088478 queries. users per second: 5916.97</pre>"
      ],
      "text/plain": [
       "recommendations finished on 20000/2088478 queries. users per second: 5916.97"
      ]
     },
     "metadata": {},
     "output_type": "display_data"
    },
    {
     "data": {
      "text/html": [
       "<pre>recommendations finished on 21000/2088478 queries. users per second: 5952.96</pre>"
      ],
      "text/plain": [
       "recommendations finished on 21000/2088478 queries. users per second: 5952.96"
      ]
     },
     "metadata": {},
     "output_type": "display_data"
    },
    {
     "data": {
      "text/html": [
       "<pre>recommendations finished on 22000/2088478 queries. users per second: 5979.28</pre>"
      ],
      "text/plain": [
       "recommendations finished on 22000/2088478 queries. users per second: 5979.28"
      ]
     },
     "metadata": {},
     "output_type": "display_data"
    },
    {
     "data": {
      "text/html": [
       "<pre>recommendations finished on 23000/2088478 queries. users per second: 5999.59</pre>"
      ],
      "text/plain": [
       "recommendations finished on 23000/2088478 queries. users per second: 5999.59"
      ]
     },
     "metadata": {},
     "output_type": "display_data"
    },
    {
     "data": {
      "text/html": [
       "<pre>recommendations finished on 24000/2088478 queries. users per second: 5974.9</pre>"
      ],
      "text/plain": [
       "recommendations finished on 24000/2088478 queries. users per second: 5974.9"
      ]
     },
     "metadata": {},
     "output_type": "display_data"
    },
    {
     "data": {
      "text/html": [
       "<pre>recommendations finished on 25000/2088478 queries. users per second: 5951.04</pre>"
      ],
      "text/plain": [
       "recommendations finished on 25000/2088478 queries. users per second: 5951.04"
      ]
     },
     "metadata": {},
     "output_type": "display_data"
    },
    {
     "data": {
      "text/html": [
       "<pre>recommendations finished on 26000/2088478 queries. users per second: 5978.56</pre>"
      ],
      "text/plain": [
       "recommendations finished on 26000/2088478 queries. users per second: 5978.56"
      ]
     },
     "metadata": {},
     "output_type": "display_data"
    },
    {
     "data": {
      "text/html": [
       "<pre>recommendations finished on 27000/2088478 queries. users per second: 6002.78</pre>"
      ],
      "text/plain": [
       "recommendations finished on 27000/2088478 queries. users per second: 6002.78"
      ]
     },
     "metadata": {},
     "output_type": "display_data"
    },
    {
     "data": {
      "text/html": [
       "<pre>recommendations finished on 28000/2088478 queries. users per second: 6017.86</pre>"
      ],
      "text/plain": [
       "recommendations finished on 28000/2088478 queries. users per second: 6017.86"
      ]
     },
     "metadata": {},
     "output_type": "display_data"
    },
    {
     "data": {
      "text/html": [
       "<pre>recommendations finished on 29000/2088478 queries. users per second: 6033.98</pre>"
      ],
      "text/plain": [
       "recommendations finished on 29000/2088478 queries. users per second: 6033.98"
      ]
     },
     "metadata": {},
     "output_type": "display_data"
    },
    {
     "data": {
      "text/html": [
       "<pre>recommendations finished on 30000/2088478 queries. users per second: 6044.39</pre>"
      ],
      "text/plain": [
       "recommendations finished on 30000/2088478 queries. users per second: 6044.39"
      ]
     },
     "metadata": {},
     "output_type": "display_data"
    },
    {
     "data": {
      "text/html": [
       "<pre>recommendations finished on 31000/2088478 queries. users per second: 6059.58</pre>"
      ],
      "text/plain": [
       "recommendations finished on 31000/2088478 queries. users per second: 6059.58"
      ]
     },
     "metadata": {},
     "output_type": "display_data"
    },
    {
     "data": {
      "text/html": [
       "<pre>recommendations finished on 32000/2088478 queries. users per second: 6056.83</pre>"
      ],
      "text/plain": [
       "recommendations finished on 32000/2088478 queries. users per second: 6056.83"
      ]
     },
     "metadata": {},
     "output_type": "display_data"
    },
    {
     "data": {
      "text/html": [
       "<pre>recommendations finished on 33000/2088478 queries. users per second: 6068.88</pre>"
      ],
      "text/plain": [
       "recommendations finished on 33000/2088478 queries. users per second: 6068.88"
      ]
     },
     "metadata": {},
     "output_type": "display_data"
    },
    {
     "data": {
      "text/html": [
       "<pre>recommendations finished on 34000/2088478 queries. users per second: 6084.27</pre>"
      ],
      "text/plain": [
       "recommendations finished on 34000/2088478 queries. users per second: 6084.27"
      ]
     },
     "metadata": {},
     "output_type": "display_data"
    },
    {
     "data": {
      "text/html": [
       "<pre>recommendations finished on 35000/2088478 queries. users per second: 6067.17</pre>"
      ],
      "text/plain": [
       "recommendations finished on 35000/2088478 queries. users per second: 6067.17"
      ]
     },
     "metadata": {},
     "output_type": "display_data"
    },
    {
     "data": {
      "text/html": [
       "<pre>recommendations finished on 36000/2088478 queries. users per second: 6068.56</pre>"
      ],
      "text/plain": [
       "recommendations finished on 36000/2088478 queries. users per second: 6068.56"
      ]
     },
     "metadata": {},
     "output_type": "display_data"
    },
    {
     "data": {
      "text/html": [
       "<pre>recommendations finished on 37000/2088478 queries. users per second: 6080.68</pre>"
      ],
      "text/plain": [
       "recommendations finished on 37000/2088478 queries. users per second: 6080.68"
      ]
     },
     "metadata": {},
     "output_type": "display_data"
    },
    {
     "data": {
      "text/html": [
       "<pre>recommendations finished on 38000/2088478 queries. users per second: 6046.36</pre>"
      ],
      "text/plain": [
       "recommendations finished on 38000/2088478 queries. users per second: 6046.36"
      ]
     },
     "metadata": {},
     "output_type": "display_data"
    },
    {
     "data": {
      "text/html": [
       "<pre>recommendations finished on 39000/2088478 queries. users per second: 6003.72</pre>"
      ],
      "text/plain": [
       "recommendations finished on 39000/2088478 queries. users per second: 6003.72"
      ]
     },
     "metadata": {},
     "output_type": "display_data"
    },
    {
     "data": {
      "text/html": [
       "<pre>recommendations finished on 40000/2088478 queries. users per second: 6013.17</pre>"
      ],
      "text/plain": [
       "recommendations finished on 40000/2088478 queries. users per second: 6013.17"
      ]
     },
     "metadata": {},
     "output_type": "display_data"
    },
    {
     "data": {
      "text/html": [
       "<pre>recommendations finished on 41000/2088478 queries. users per second: 6024.7</pre>"
      ],
      "text/plain": [
       "recommendations finished on 41000/2088478 queries. users per second: 6024.7"
      ]
     },
     "metadata": {},
     "output_type": "display_data"
    },
    {
     "data": {
      "text/html": [
       "<pre>recommendations finished on 42000/2088478 queries. users per second: 6036.46</pre>"
      ],
      "text/plain": [
       "recommendations finished on 42000/2088478 queries. users per second: 6036.46"
      ]
     },
     "metadata": {},
     "output_type": "display_data"
    },
    {
     "data": {
      "text/html": [
       "<pre>recommendations finished on 43000/2088478 queries. users per second: 6051.35</pre>"
      ],
      "text/plain": [
       "recommendations finished on 43000/2088478 queries. users per second: 6051.35"
      ]
     },
     "metadata": {},
     "output_type": "display_data"
    },
    {
     "data": {
      "text/html": [
       "<pre>recommendations finished on 44000/2088478 queries. users per second: 6025.08</pre>"
      ],
      "text/plain": [
       "recommendations finished on 44000/2088478 queries. users per second: 6025.08"
      ]
     },
     "metadata": {},
     "output_type": "display_data"
    },
    {
     "data": {
      "text/html": [
       "<pre>recommendations finished on 45000/2088478 queries. users per second: 6010.65</pre>"
      ],
      "text/plain": [
       "recommendations finished on 45000/2088478 queries. users per second: 6010.65"
      ]
     },
     "metadata": {},
     "output_type": "display_data"
    },
    {
     "data": {
      "text/html": [
       "<pre>recommendations finished on 46000/2088478 queries. users per second: 6019.81</pre>"
      ],
      "text/plain": [
       "recommendations finished on 46000/2088478 queries. users per second: 6019.81"
      ]
     },
     "metadata": {},
     "output_type": "display_data"
    },
    {
     "data": {
      "text/html": [
       "<pre>recommendations finished on 47000/2088478 queries. users per second: 6027.85</pre>"
      ],
      "text/plain": [
       "recommendations finished on 47000/2088478 queries. users per second: 6027.85"
      ]
     },
     "metadata": {},
     "output_type": "display_data"
    },
    {
     "data": {
      "text/html": [
       "<pre>recommendations finished on 48000/2088478 queries. users per second: 6004.98</pre>"
      ],
      "text/plain": [
       "recommendations finished on 48000/2088478 queries. users per second: 6004.98"
      ]
     },
     "metadata": {},
     "output_type": "display_data"
    },
    {
     "data": {
      "text/html": [
       "<pre>recommendations finished on 49000/2088478 queries. users per second: 5976.33</pre>"
      ],
      "text/plain": [
       "recommendations finished on 49000/2088478 queries. users per second: 5976.33"
      ]
     },
     "metadata": {},
     "output_type": "display_data"
    },
    {
     "data": {
      "text/html": [
       "<pre>recommendations finished on 50000/2088478 queries. users per second: 5980.16</pre>"
      ],
      "text/plain": [
       "recommendations finished on 50000/2088478 queries. users per second: 5980.16"
      ]
     },
     "metadata": {},
     "output_type": "display_data"
    },
    {
     "data": {
      "text/html": [
       "<pre>recommendations finished on 51000/2088478 queries. users per second: 5992.65</pre>"
      ],
      "text/plain": [
       "recommendations finished on 51000/2088478 queries. users per second: 5992.65"
      ]
     },
     "metadata": {},
     "output_type": "display_data"
    },
    {
     "data": {
      "text/html": [
       "<pre>recommendations finished on 52000/2088478 queries. users per second: 5994.37</pre>"
      ],
      "text/plain": [
       "recommendations finished on 52000/2088478 queries. users per second: 5994.37"
      ]
     },
     "metadata": {},
     "output_type": "display_data"
    },
    {
     "data": {
      "text/html": [
       "<pre>recommendations finished on 53000/2088478 queries. users per second: 5984.75</pre>"
      ],
      "text/plain": [
       "recommendations finished on 53000/2088478 queries. users per second: 5984.75"
      ]
     },
     "metadata": {},
     "output_type": "display_data"
    },
    {
     "data": {
      "text/html": [
       "<pre>recommendations finished on 54000/2088478 queries. users per second: 5956.92</pre>"
      ],
      "text/plain": [
       "recommendations finished on 54000/2088478 queries. users per second: 5956.92"
      ]
     },
     "metadata": {},
     "output_type": "display_data"
    },
    {
     "data": {
      "text/html": [
       "<pre>recommendations finished on 55000/2088478 queries. users per second: 5967.64</pre>"
      ],
      "text/plain": [
       "recommendations finished on 55000/2088478 queries. users per second: 5967.64"
      ]
     },
     "metadata": {},
     "output_type": "display_data"
    },
    {
     "data": {
      "text/html": [
       "<pre>recommendations finished on 56000/2088478 queries. users per second: 5977.6</pre>"
      ],
      "text/plain": [
       "recommendations finished on 56000/2088478 queries. users per second: 5977.6"
      ]
     },
     "metadata": {},
     "output_type": "display_data"
    },
    {
     "data": {
      "text/html": [
       "<pre>recommendations finished on 57000/2088478 queries. users per second: 5986.8</pre>"
      ],
      "text/plain": [
       "recommendations finished on 57000/2088478 queries. users per second: 5986.8"
      ]
     },
     "metadata": {},
     "output_type": "display_data"
    },
    {
     "data": {
      "text/html": [
       "<pre>recommendations finished on 58000/2088478 queries. users per second: 5995.15</pre>"
      ],
      "text/plain": [
       "recommendations finished on 58000/2088478 queries. users per second: 5995.15"
      ]
     },
     "metadata": {},
     "output_type": "display_data"
    },
    {
     "data": {
      "text/html": [
       "<pre>recommendations finished on 59000/2088478 queries. users per second: 5980.47</pre>"
      ],
      "text/plain": [
       "recommendations finished on 59000/2088478 queries. users per second: 5980.47"
      ]
     },
     "metadata": {},
     "output_type": "display_data"
    },
    {
     "data": {
      "text/html": [
       "<pre>recommendations finished on 60000/2088478 queries. users per second: 5976.58</pre>"
      ],
      "text/plain": [
       "recommendations finished on 60000/2088478 queries. users per second: 5976.58"
      ]
     },
     "metadata": {},
     "output_type": "display_data"
    },
    {
     "data": {
      "text/html": [
       "<pre>recommendations finished on 61000/2088478 queries. users per second: 5982.27</pre>"
      ],
      "text/plain": [
       "recommendations finished on 61000/2088478 queries. users per second: 5982.27"
      ]
     },
     "metadata": {},
     "output_type": "display_data"
    },
    {
     "data": {
      "text/html": [
       "<pre>recommendations finished on 62000/2088478 queries. users per second: 5986.4</pre>"
      ],
      "text/plain": [
       "recommendations finished on 62000/2088478 queries. users per second: 5986.4"
      ]
     },
     "metadata": {},
     "output_type": "display_data"
    },
    {
     "data": {
      "text/html": [
       "<pre>recommendations finished on 63000/2088478 queries. users per second: 5963.7</pre>"
      ],
      "text/plain": [
       "recommendations finished on 63000/2088478 queries. users per second: 5963.7"
      ]
     },
     "metadata": {},
     "output_type": "display_data"
    },
    {
     "data": {
      "text/html": [
       "<pre>recommendations finished on 64000/2088478 queries. users per second: 5950.23</pre>"
      ],
      "text/plain": [
       "recommendations finished on 64000/2088478 queries. users per second: 5950.23"
      ]
     },
     "metadata": {},
     "output_type": "display_data"
    },
    {
     "data": {
      "text/html": [
       "<pre>recommendations finished on 65000/2088478 queries. users per second: 5955.28</pre>"
      ],
      "text/plain": [
       "recommendations finished on 65000/2088478 queries. users per second: 5955.28"
      ]
     },
     "metadata": {},
     "output_type": "display_data"
    },
    {
     "data": {
      "text/html": [
       "<pre>recommendations finished on 66000/2088478 queries. users per second: 5954.8</pre>"
      ],
      "text/plain": [
       "recommendations finished on 66000/2088478 queries. users per second: 5954.8"
      ]
     },
     "metadata": {},
     "output_type": "display_data"
    },
    {
     "data": {
      "text/html": [
       "<pre>recommendations finished on 67000/2088478 queries. users per second: 5966.69</pre>"
      ],
      "text/plain": [
       "recommendations finished on 67000/2088478 queries. users per second: 5966.69"
      ]
     },
     "metadata": {},
     "output_type": "display_data"
    },
    {
     "data": {
      "text/html": [
       "<pre>recommendations finished on 68000/2088478 queries. users per second: 5957.64</pre>"
      ],
      "text/plain": [
       "recommendations finished on 68000/2088478 queries. users per second: 5957.64"
      ]
     },
     "metadata": {},
     "output_type": "display_data"
    },
    {
     "data": {
      "text/html": [
       "<pre>recommendations finished on 69000/2088478 queries. users per second: 5955.73</pre>"
      ],
      "text/plain": [
       "recommendations finished on 69000/2088478 queries. users per second: 5955.73"
      ]
     },
     "metadata": {},
     "output_type": "display_data"
    },
    {
     "data": {
      "text/html": [
       "<pre>recommendations finished on 70000/2088478 queries. users per second: 5958.84</pre>"
      ],
      "text/plain": [
       "recommendations finished on 70000/2088478 queries. users per second: 5958.84"
      ]
     },
     "metadata": {},
     "output_type": "display_data"
    },
    {
     "data": {
      "text/html": [
       "<pre>recommendations finished on 71000/2088478 queries. users per second: 5944.06</pre>"
      ],
      "text/plain": [
       "recommendations finished on 71000/2088478 queries. users per second: 5944.06"
      ]
     },
     "metadata": {},
     "output_type": "display_data"
    },
    {
     "data": {
      "text/html": [
       "<pre>recommendations finished on 72000/2088478 queries. users per second: 5938.97</pre>"
      ],
      "text/plain": [
       "recommendations finished on 72000/2088478 queries. users per second: 5938.97"
      ]
     },
     "metadata": {},
     "output_type": "display_data"
    },
    {
     "data": {
      "text/html": [
       "<pre>recommendations finished on 73000/2088478 queries. users per second: 5945.29</pre>"
      ],
      "text/plain": [
       "recommendations finished on 73000/2088478 queries. users per second: 5945.29"
      ]
     },
     "metadata": {},
     "output_type": "display_data"
    },
    {
     "data": {
      "text/html": [
       "<pre>recommendations finished on 74000/2088478 queries. users per second: 5905.22</pre>"
      ],
      "text/plain": [
       "recommendations finished on 74000/2088478 queries. users per second: 5905.22"
      ]
     },
     "metadata": {},
     "output_type": "display_data"
    },
    {
     "data": {
      "text/html": [
       "<pre>recommendations finished on 75000/2088478 queries. users per second: 5883.29</pre>"
      ],
      "text/plain": [
       "recommendations finished on 75000/2088478 queries. users per second: 5883.29"
      ]
     },
     "metadata": {},
     "output_type": "display_data"
    },
    {
     "data": {
      "text/html": [
       "<pre>recommendations finished on 76000/2088478 queries. users per second: 5868.69</pre>"
      ],
      "text/plain": [
       "recommendations finished on 76000/2088478 queries. users per second: 5868.69"
      ]
     },
     "metadata": {},
     "output_type": "display_data"
    },
    {
     "data": {
      "text/html": [
       "<pre>recommendations finished on 77000/2088478 queries. users per second: 5872.46</pre>"
      ],
      "text/plain": [
       "recommendations finished on 77000/2088478 queries. users per second: 5872.46"
      ]
     },
     "metadata": {},
     "output_type": "display_data"
    },
    {
     "data": {
      "text/html": [
       "<pre>recommendations finished on 78000/2088478 queries. users per second: 5855.82</pre>"
      ],
      "text/plain": [
       "recommendations finished on 78000/2088478 queries. users per second: 5855.82"
      ]
     },
     "metadata": {},
     "output_type": "display_data"
    },
    {
     "data": {
      "text/html": [
       "<pre>recommendations finished on 79000/2088478 queries. users per second: 5838.83</pre>"
      ],
      "text/plain": [
       "recommendations finished on 79000/2088478 queries. users per second: 5838.83"
      ]
     },
     "metadata": {},
     "output_type": "display_data"
    },
    {
     "data": {
      "text/html": [
       "<pre>recommendations finished on 80000/2088478 queries. users per second: 5833.69</pre>"
      ],
      "text/plain": [
       "recommendations finished on 80000/2088478 queries. users per second: 5833.69"
      ]
     },
     "metadata": {},
     "output_type": "display_data"
    },
    {
     "data": {
      "text/html": [
       "<pre>recommendations finished on 81000/2088478 queries. users per second: 5815.5</pre>"
      ],
      "text/plain": [
       "recommendations finished on 81000/2088478 queries. users per second: 5815.5"
      ]
     },
     "metadata": {},
     "output_type": "display_data"
    },
    {
     "data": {
      "text/html": [
       "<pre>recommendations finished on 82000/2088478 queries. users per second: 5803.44</pre>"
      ],
      "text/plain": [
       "recommendations finished on 82000/2088478 queries. users per second: 5803.44"
      ]
     },
     "metadata": {},
     "output_type": "display_data"
    },
    {
     "data": {
      "text/html": [
       "<pre>recommendations finished on 83000/2088478 queries. users per second: 5805.03</pre>"
      ],
      "text/plain": [
       "recommendations finished on 83000/2088478 queries. users per second: 5805.03"
      ]
     },
     "metadata": {},
     "output_type": "display_data"
    },
    {
     "data": {
      "text/html": [
       "<pre>recommendations finished on 84000/2088478 queries. users per second: 5787.78</pre>"
      ],
      "text/plain": [
       "recommendations finished on 84000/2088478 queries. users per second: 5787.78"
      ]
     },
     "metadata": {},
     "output_type": "display_data"
    },
    {
     "data": {
      "text/html": [
       "<pre>recommendations finished on 85000/2088478 queries. users per second: 5795.03</pre>"
      ],
      "text/plain": [
       "recommendations finished on 85000/2088478 queries. users per second: 5795.03"
      ]
     },
     "metadata": {},
     "output_type": "display_data"
    },
    {
     "data": {
      "text/html": [
       "<pre>recommendations finished on 86000/2088478 queries. users per second: 5800.28</pre>"
      ],
      "text/plain": [
       "recommendations finished on 86000/2088478 queries. users per second: 5800.28"
      ]
     },
     "metadata": {},
     "output_type": "display_data"
    },
    {
     "data": {
      "text/html": [
       "<pre>recommendations finished on 87000/2088478 queries. users per second: 5807.8</pre>"
      ],
      "text/plain": [
       "recommendations finished on 87000/2088478 queries. users per second: 5807.8"
      ]
     },
     "metadata": {},
     "output_type": "display_data"
    },
    {
     "data": {
      "text/html": [
       "<pre>recommendations finished on 88000/2088478 queries. users per second: 5813.89</pre>"
      ],
      "text/plain": [
       "recommendations finished on 88000/2088478 queries. users per second: 5813.89"
      ]
     },
     "metadata": {},
     "output_type": "display_data"
    },
    {
     "data": {
      "text/html": [
       "<pre>recommendations finished on 89000/2088478 queries. users per second: 5788.9</pre>"
      ],
      "text/plain": [
       "recommendations finished on 89000/2088478 queries. users per second: 5788.9"
      ]
     },
     "metadata": {},
     "output_type": "display_data"
    },
    {
     "data": {
      "text/html": [
       "<pre>recommendations finished on 90000/2088478 queries. users per second: 5760.67</pre>"
      ],
      "text/plain": [
       "recommendations finished on 90000/2088478 queries. users per second: 5760.67"
      ]
     },
     "metadata": {},
     "output_type": "display_data"
    },
    {
     "data": {
      "text/html": [
       "<pre>recommendations finished on 91000/2088478 queries. users per second: 5753.51</pre>"
      ],
      "text/plain": [
       "recommendations finished on 91000/2088478 queries. users per second: 5753.51"
      ]
     },
     "metadata": {},
     "output_type": "display_data"
    },
    {
     "data": {
      "text/html": [
       "<pre>recommendations finished on 92000/2088478 queries. users per second: 5761.49</pre>"
      ],
      "text/plain": [
       "recommendations finished on 92000/2088478 queries. users per second: 5761.49"
      ]
     },
     "metadata": {},
     "output_type": "display_data"
    },
    {
     "data": {
      "text/html": [
       "<pre>recommendations finished on 93000/2088478 queries. users per second: 5769.54</pre>"
      ],
      "text/plain": [
       "recommendations finished on 93000/2088478 queries. users per second: 5769.54"
      ]
     },
     "metadata": {},
     "output_type": "display_data"
    },
    {
     "data": {
      "text/html": [
       "<pre>recommendations finished on 94000/2088478 queries. users per second: 5778.61</pre>"
      ],
      "text/plain": [
       "recommendations finished on 94000/2088478 queries. users per second: 5778.61"
      ]
     },
     "metadata": {},
     "output_type": "display_data"
    },
    {
     "data": {
      "text/html": [
       "<pre>recommendations finished on 95000/2088478 queries. users per second: 5782.47</pre>"
      ],
      "text/plain": [
       "recommendations finished on 95000/2088478 queries. users per second: 5782.47"
      ]
     },
     "metadata": {},
     "output_type": "display_data"
    },
    {
     "data": {
      "text/html": [
       "<pre>recommendations finished on 96000/2088478 queries. users per second: 5765.7</pre>"
      ],
      "text/plain": [
       "recommendations finished on 96000/2088478 queries. users per second: 5765.7"
      ]
     },
     "metadata": {},
     "output_type": "display_data"
    },
    {
     "data": {
      "text/html": [
       "<pre>recommendations finished on 97000/2088478 queries. users per second: 5770.79</pre>"
      ],
      "text/plain": [
       "recommendations finished on 97000/2088478 queries. users per second: 5770.79"
      ]
     },
     "metadata": {},
     "output_type": "display_data"
    },
    {
     "data": {
      "text/html": [
       "<pre>recommendations finished on 98000/2088478 queries. users per second: 5779.46</pre>"
      ],
      "text/plain": [
       "recommendations finished on 98000/2088478 queries. users per second: 5779.46"
      ]
     },
     "metadata": {},
     "output_type": "display_data"
    },
    {
     "data": {
      "text/html": [
       "<pre>recommendations finished on 99000/2088478 queries. users per second: 5784.88</pre>"
      ],
      "text/plain": [
       "recommendations finished on 99000/2088478 queries. users per second: 5784.88"
      ]
     },
     "metadata": {},
     "output_type": "display_data"
    },
    {
     "data": {
      "text/html": [
       "<pre>recommendations finished on 100000/2088478 queries. users per second: 5775.24</pre>"
      ],
      "text/plain": [
       "recommendations finished on 100000/2088478 queries. users per second: 5775.24"
      ]
     },
     "metadata": {},
     "output_type": "display_data"
    },
    {
     "data": {
      "text/html": [
       "<pre>recommendations finished on 101000/2088478 queries. users per second: 5769.62</pre>"
      ],
      "text/plain": [
       "recommendations finished on 101000/2088478 queries. users per second: 5769.62"
      ]
     },
     "metadata": {},
     "output_type": "display_data"
    },
    {
     "data": {
      "text/html": [
       "<pre>recommendations finished on 102000/2088478 queries. users per second: 5773.76</pre>"
      ],
      "text/plain": [
       "recommendations finished on 102000/2088478 queries. users per second: 5773.76"
      ]
     },
     "metadata": {},
     "output_type": "display_data"
    },
    {
     "data": {
      "text/html": [
       "<pre>recommendations finished on 103000/2088478 queries. users per second: 5780.14</pre>"
      ],
      "text/plain": [
       "recommendations finished on 103000/2088478 queries. users per second: 5780.14"
      ]
     },
     "metadata": {},
     "output_type": "display_data"
    },
    {
     "data": {
      "text/html": [
       "<pre>recommendations finished on 104000/2088478 queries. users per second: 5783.82</pre>"
      ],
      "text/plain": [
       "recommendations finished on 104000/2088478 queries. users per second: 5783.82"
      ]
     },
     "metadata": {},
     "output_type": "display_data"
    },
    {
     "data": {
      "text/html": [
       "<pre>recommendations finished on 105000/2088478 queries. users per second: 5790.94</pre>"
      ],
      "text/plain": [
       "recommendations finished on 105000/2088478 queries. users per second: 5790.94"
      ]
     },
     "metadata": {},
     "output_type": "display_data"
    },
    {
     "data": {
      "text/html": [
       "<pre>recommendations finished on 106000/2088478 queries. users per second: 5798.01</pre>"
      ],
      "text/plain": [
       "recommendations finished on 106000/2088478 queries. users per second: 5798.01"
      ]
     },
     "metadata": {},
     "output_type": "display_data"
    },
    {
     "data": {
      "text/html": [
       "<pre>recommendations finished on 107000/2088478 queries. users per second: 5804.2</pre>"
      ],
      "text/plain": [
       "recommendations finished on 107000/2088478 queries. users per second: 5804.2"
      ]
     },
     "metadata": {},
     "output_type": "display_data"
    },
    {
     "data": {
      "text/html": [
       "<pre>recommendations finished on 108000/2088478 queries. users per second: 5783.59</pre>"
      ],
      "text/plain": [
       "recommendations finished on 108000/2088478 queries. users per second: 5783.59"
      ]
     },
     "metadata": {},
     "output_type": "display_data"
    },
    {
     "data": {
      "text/html": [
       "<pre>recommendations finished on 109000/2088478 queries. users per second: 5780.26</pre>"
      ],
      "text/plain": [
       "recommendations finished on 109000/2088478 queries. users per second: 5780.26"
      ]
     },
     "metadata": {},
     "output_type": "display_data"
    },
    {
     "data": {
      "text/html": [
       "<pre>recommendations finished on 110000/2088478 queries. users per second: 5782.26</pre>"
      ],
      "text/plain": [
       "recommendations finished on 110000/2088478 queries. users per second: 5782.26"
      ]
     },
     "metadata": {},
     "output_type": "display_data"
    },
    {
     "data": {
      "text/html": [
       "<pre>recommendations finished on 111000/2088478 queries. users per second: 5786.51</pre>"
      ],
      "text/plain": [
       "recommendations finished on 111000/2088478 queries. users per second: 5786.51"
      ]
     },
     "metadata": {},
     "output_type": "display_data"
    },
    {
     "data": {
      "text/html": [
       "<pre>recommendations finished on 112000/2088478 queries. users per second: 5776.5</pre>"
      ],
      "text/plain": [
       "recommendations finished on 112000/2088478 queries. users per second: 5776.5"
      ]
     },
     "metadata": {},
     "output_type": "display_data"
    },
    {
     "data": {
      "text/html": [
       "<pre>recommendations finished on 113000/2088478 queries. users per second: 5772.23</pre>"
      ],
      "text/plain": [
       "recommendations finished on 113000/2088478 queries. users per second: 5772.23"
      ]
     },
     "metadata": {},
     "output_type": "display_data"
    },
    {
     "data": {
      "text/html": [
       "<pre>recommendations finished on 114000/2088478 queries. users per second: 5776.94</pre>"
      ],
      "text/plain": [
       "recommendations finished on 114000/2088478 queries. users per second: 5776.94"
      ]
     },
     "metadata": {},
     "output_type": "display_data"
    },
    {
     "data": {
      "text/html": [
       "<pre>recommendations finished on 115000/2088478 queries. users per second: 5778.87</pre>"
      ],
      "text/plain": [
       "recommendations finished on 115000/2088478 queries. users per second: 5778.87"
      ]
     },
     "metadata": {},
     "output_type": "display_data"
    },
    {
     "data": {
      "text/html": [
       "<pre>recommendations finished on 116000/2088478 queries. users per second: 5786.62</pre>"
      ],
      "text/plain": [
       "recommendations finished on 116000/2088478 queries. users per second: 5786.62"
      ]
     },
     "metadata": {},
     "output_type": "display_data"
    },
    {
     "data": {
      "text/html": [
       "<pre>recommendations finished on 117000/2088478 queries. users per second: 5792.71</pre>"
      ],
      "text/plain": [
       "recommendations finished on 117000/2088478 queries. users per second: 5792.71"
      ]
     },
     "metadata": {},
     "output_type": "display_data"
    },
    {
     "data": {
      "text/html": [
       "<pre>recommendations finished on 118000/2088478 queries. users per second: 5798.09</pre>"
      ],
      "text/plain": [
       "recommendations finished on 118000/2088478 queries. users per second: 5798.09"
      ]
     },
     "metadata": {},
     "output_type": "display_data"
    },
    {
     "data": {
      "text/html": [
       "<pre>recommendations finished on 119000/2088478 queries. users per second: 5805.48</pre>"
      ],
      "text/plain": [
       "recommendations finished on 119000/2088478 queries. users per second: 5805.48"
      ]
     },
     "metadata": {},
     "output_type": "display_data"
    },
    {
     "data": {
      "text/html": [
       "<pre>recommendations finished on 120000/2088478 queries. users per second: 5813.39</pre>"
      ],
      "text/plain": [
       "recommendations finished on 120000/2088478 queries. users per second: 5813.39"
      ]
     },
     "metadata": {},
     "output_type": "display_data"
    },
    {
     "data": {
      "text/html": [
       "<pre>recommendations finished on 121000/2088478 queries. users per second: 5820.85</pre>"
      ],
      "text/plain": [
       "recommendations finished on 121000/2088478 queries. users per second: 5820.85"
      ]
     },
     "metadata": {},
     "output_type": "display_data"
    },
    {
     "data": {
      "text/html": [
       "<pre>recommendations finished on 122000/2088478 queries. users per second: 5827.26</pre>"
      ],
      "text/plain": [
       "recommendations finished on 122000/2088478 queries. users per second: 5827.26"
      ]
     },
     "metadata": {},
     "output_type": "display_data"
    },
    {
     "data": {
      "text/html": [
       "<pre>recommendations finished on 123000/2088478 queries. users per second: 5833.89</pre>"
      ],
      "text/plain": [
       "recommendations finished on 123000/2088478 queries. users per second: 5833.89"
      ]
     },
     "metadata": {},
     "output_type": "display_data"
    },
    {
     "data": {
      "text/html": [
       "<pre>recommendations finished on 124000/2088478 queries. users per second: 5839.28</pre>"
      ],
      "text/plain": [
       "recommendations finished on 124000/2088478 queries. users per second: 5839.28"
      ]
     },
     "metadata": {},
     "output_type": "display_data"
    },
    {
     "data": {
      "text/html": [
       "<pre>recommendations finished on 125000/2088478 queries. users per second: 5845.48</pre>"
      ],
      "text/plain": [
       "recommendations finished on 125000/2088478 queries. users per second: 5845.48"
      ]
     },
     "metadata": {},
     "output_type": "display_data"
    },
    {
     "data": {
      "text/html": [
       "<pre>recommendations finished on 126000/2088478 queries. users per second: 5852.12</pre>"
      ],
      "text/plain": [
       "recommendations finished on 126000/2088478 queries. users per second: 5852.12"
      ]
     },
     "metadata": {},
     "output_type": "display_data"
    },
    {
     "data": {
      "text/html": [
       "<pre>recommendations finished on 127000/2088478 queries. users per second: 5859.28</pre>"
      ],
      "text/plain": [
       "recommendations finished on 127000/2088478 queries. users per second: 5859.28"
      ]
     },
     "metadata": {},
     "output_type": "display_data"
    },
    {
     "data": {
      "text/html": [
       "<pre>recommendations finished on 128000/2088478 queries. users per second: 5865.4</pre>"
      ],
      "text/plain": [
       "recommendations finished on 128000/2088478 queries. users per second: 5865.4"
      ]
     },
     "metadata": {},
     "output_type": "display_data"
    },
    {
     "data": {
      "text/html": [
       "<pre>recommendations finished on 129000/2088478 queries. users per second: 5871.74</pre>"
      ],
      "text/plain": [
       "recommendations finished on 129000/2088478 queries. users per second: 5871.74"
      ]
     },
     "metadata": {},
     "output_type": "display_data"
    },
    {
     "data": {
      "text/html": [
       "<pre>recommendations finished on 130000/2088478 queries. users per second: 5877.11</pre>"
      ],
      "text/plain": [
       "recommendations finished on 130000/2088478 queries. users per second: 5877.11"
      ]
     },
     "metadata": {},
     "output_type": "display_data"
    },
    {
     "data": {
      "text/html": [
       "<pre>recommendations finished on 131000/2088478 queries. users per second: 5882.42</pre>"
      ],
      "text/plain": [
       "recommendations finished on 131000/2088478 queries. users per second: 5882.42"
      ]
     },
     "metadata": {},
     "output_type": "display_data"
    },
    {
     "data": {
      "text/html": [
       "<pre>recommendations finished on 132000/2088478 queries. users per second: 5887.18</pre>"
      ],
      "text/plain": [
       "recommendations finished on 132000/2088478 queries. users per second: 5887.18"
      ]
     },
     "metadata": {},
     "output_type": "display_data"
    },
    {
     "data": {
      "text/html": [
       "<pre>recommendations finished on 133000/2088478 queries. users per second: 5887.28</pre>"
      ],
      "text/plain": [
       "recommendations finished on 133000/2088478 queries. users per second: 5887.28"
      ]
     },
     "metadata": {},
     "output_type": "display_data"
    },
    {
     "data": {
      "text/html": [
       "<pre>recommendations finished on 134000/2088478 queries. users per second: 5890.25</pre>"
      ],
      "text/plain": [
       "recommendations finished on 134000/2088478 queries. users per second: 5890.25"
      ]
     },
     "metadata": {},
     "output_type": "display_data"
    },
    {
     "data": {
      "text/html": [
       "<pre>recommendations finished on 135000/2088478 queries. users per second: 5892.72</pre>"
      ],
      "text/plain": [
       "recommendations finished on 135000/2088478 queries. users per second: 5892.72"
      ]
     },
     "metadata": {},
     "output_type": "display_data"
    },
    {
     "data": {
      "text/html": [
       "<pre>recommendations finished on 136000/2088478 queries. users per second: 5896.3</pre>"
      ],
      "text/plain": [
       "recommendations finished on 136000/2088478 queries. users per second: 5896.3"
      ]
     },
     "metadata": {},
     "output_type": "display_data"
    },
    {
     "data": {
      "text/html": [
       "<pre>recommendations finished on 137000/2088478 queries. users per second: 5900.56</pre>"
      ],
      "text/plain": [
       "recommendations finished on 137000/2088478 queries. users per second: 5900.56"
      ]
     },
     "metadata": {},
     "output_type": "display_data"
    },
    {
     "data": {
      "text/html": [
       "<pre>recommendations finished on 138000/2088478 queries. users per second: 5903</pre>"
      ],
      "text/plain": [
       "recommendations finished on 138000/2088478 queries. users per second: 5903"
      ]
     },
     "metadata": {},
     "output_type": "display_data"
    },
    {
     "data": {
      "text/html": [
       "<pre>recommendations finished on 139000/2088478 queries. users per second: 5906.59</pre>"
      ],
      "text/plain": [
       "recommendations finished on 139000/2088478 queries. users per second: 5906.59"
      ]
     },
     "metadata": {},
     "output_type": "display_data"
    },
    {
     "data": {
      "text/html": [
       "<pre>recommendations finished on 140000/2088478 queries. users per second: 5910.87</pre>"
      ],
      "text/plain": [
       "recommendations finished on 140000/2088478 queries. users per second: 5910.87"
      ]
     },
     "metadata": {},
     "output_type": "display_data"
    },
    {
     "data": {
      "text/html": [
       "<pre>recommendations finished on 141000/2088478 queries. users per second: 5914.13</pre>"
      ],
      "text/plain": [
       "recommendations finished on 141000/2088478 queries. users per second: 5914.13"
      ]
     },
     "metadata": {},
     "output_type": "display_data"
    },
    {
     "data": {
      "text/html": [
       "<pre>recommendations finished on 142000/2088478 queries. users per second: 5918.57</pre>"
      ],
      "text/plain": [
       "recommendations finished on 142000/2088478 queries. users per second: 5918.57"
      ]
     },
     "metadata": {},
     "output_type": "display_data"
    },
    {
     "data": {
      "text/html": [
       "<pre>recommendations finished on 143000/2088478 queries. users per second: 5922.46</pre>"
      ],
      "text/plain": [
       "recommendations finished on 143000/2088478 queries. users per second: 5922.46"
      ]
     },
     "metadata": {},
     "output_type": "display_data"
    },
    {
     "data": {
      "text/html": [
       "<pre>recommendations finished on 144000/2088478 queries. users per second: 5925.65</pre>"
      ],
      "text/plain": [
       "recommendations finished on 144000/2088478 queries. users per second: 5925.65"
      ]
     },
     "metadata": {},
     "output_type": "display_data"
    },
    {
     "data": {
      "text/html": [
       "<pre>recommendations finished on 145000/2088478 queries. users per second: 5929.14</pre>"
      ],
      "text/plain": [
       "recommendations finished on 145000/2088478 queries. users per second: 5929.14"
      ]
     },
     "metadata": {},
     "output_type": "display_data"
    },
    {
     "data": {
      "text/html": [
       "<pre>recommendations finished on 146000/2088478 queries. users per second: 5932.22</pre>"
      ],
      "text/plain": [
       "recommendations finished on 146000/2088478 queries. users per second: 5932.22"
      ]
     },
     "metadata": {},
     "output_type": "display_data"
    },
    {
     "data": {
      "text/html": [
       "<pre>recommendations finished on 147000/2088478 queries. users per second: 5933.11</pre>"
      ],
      "text/plain": [
       "recommendations finished on 147000/2088478 queries. users per second: 5933.11"
      ]
     },
     "metadata": {},
     "output_type": "display_data"
    },
    {
     "data": {
      "text/html": [
       "<pre>recommendations finished on 148000/2088478 queries. users per second: 5938.07</pre>"
      ],
      "text/plain": [
       "recommendations finished on 148000/2088478 queries. users per second: 5938.07"
      ]
     },
     "metadata": {},
     "output_type": "display_data"
    },
    {
     "data": {
      "text/html": [
       "<pre>recommendations finished on 149000/2088478 queries. users per second: 5942.7</pre>"
      ],
      "text/plain": [
       "recommendations finished on 149000/2088478 queries. users per second: 5942.7"
      ]
     },
     "metadata": {},
     "output_type": "display_data"
    },
    {
     "data": {
      "text/html": [
       "<pre>recommendations finished on 150000/2088478 queries. users per second: 5944.42</pre>"
      ],
      "text/plain": [
       "recommendations finished on 150000/2088478 queries. users per second: 5944.42"
      ]
     },
     "metadata": {},
     "output_type": "display_data"
    },
    {
     "data": {
      "text/html": [
       "<pre>recommendations finished on 151000/2088478 queries. users per second: 5947.29</pre>"
      ],
      "text/plain": [
       "recommendations finished on 151000/2088478 queries. users per second: 5947.29"
      ]
     },
     "metadata": {},
     "output_type": "display_data"
    },
    {
     "data": {
      "text/html": [
       "<pre>recommendations finished on 152000/2088478 queries. users per second: 5949.27</pre>"
      ],
      "text/plain": [
       "recommendations finished on 152000/2088478 queries. users per second: 5949.27"
      ]
     },
     "metadata": {},
     "output_type": "display_data"
    },
    {
     "data": {
      "text/html": [
       "<pre>recommendations finished on 153000/2088478 queries. users per second: 5951.12</pre>"
      ],
      "text/plain": [
       "recommendations finished on 153000/2088478 queries. users per second: 5951.12"
      ]
     },
     "metadata": {},
     "output_type": "display_data"
    },
    {
     "data": {
      "text/html": [
       "<pre>recommendations finished on 154000/2088478 queries. users per second: 5953.78</pre>"
      ],
      "text/plain": [
       "recommendations finished on 154000/2088478 queries. users per second: 5953.78"
      ]
     },
     "metadata": {},
     "output_type": "display_data"
    },
    {
     "data": {
      "text/html": [
       "<pre>recommendations finished on 155000/2088478 queries. users per second: 5956.58</pre>"
      ],
      "text/plain": [
       "recommendations finished on 155000/2088478 queries. users per second: 5956.58"
      ]
     },
     "metadata": {},
     "output_type": "display_data"
    },
    {
     "data": {
      "text/html": [
       "<pre>recommendations finished on 156000/2088478 queries. users per second: 5959.24</pre>"
      ],
      "text/plain": [
       "recommendations finished on 156000/2088478 queries. users per second: 5959.24"
      ]
     },
     "metadata": {},
     "output_type": "display_data"
    },
    {
     "data": {
      "text/html": [
       "<pre>recommendations finished on 157000/2088478 queries. users per second: 5961.89</pre>"
      ],
      "text/plain": [
       "recommendations finished on 157000/2088478 queries. users per second: 5961.89"
      ]
     },
     "metadata": {},
     "output_type": "display_data"
    },
    {
     "data": {
      "text/html": [
       "<pre>recommendations finished on 158000/2088478 queries. users per second: 5963</pre>"
      ],
      "text/plain": [
       "recommendations finished on 158000/2088478 queries. users per second: 5963"
      ]
     },
     "metadata": {},
     "output_type": "display_data"
    },
    {
     "data": {
      "text/html": [
       "<pre>recommendations finished on 159000/2088478 queries. users per second: 5963.14</pre>"
      ],
      "text/plain": [
       "recommendations finished on 159000/2088478 queries. users per second: 5963.14"
      ]
     },
     "metadata": {},
     "output_type": "display_data"
    },
    {
     "data": {
      "text/html": [
       "<pre>recommendations finished on 160000/2088478 queries. users per second: 5963.86</pre>"
      ],
      "text/plain": [
       "recommendations finished on 160000/2088478 queries. users per second: 5963.86"
      ]
     },
     "metadata": {},
     "output_type": "display_data"
    },
    {
     "data": {
      "text/html": [
       "<pre>recommendations finished on 161000/2088478 queries. users per second: 5965.44</pre>"
      ],
      "text/plain": [
       "recommendations finished on 161000/2088478 queries. users per second: 5965.44"
      ]
     },
     "metadata": {},
     "output_type": "display_data"
    },
    {
     "data": {
      "text/html": [
       "<pre>recommendations finished on 162000/2088478 queries. users per second: 5969.34</pre>"
      ],
      "text/plain": [
       "recommendations finished on 162000/2088478 queries. users per second: 5969.34"
      ]
     },
     "metadata": {},
     "output_type": "display_data"
    },
    {
     "data": {
      "text/html": [
       "<pre>recommendations finished on 163000/2088478 queries. users per second: 5969.97</pre>"
      ],
      "text/plain": [
       "recommendations finished on 163000/2088478 queries. users per second: 5969.97"
      ]
     },
     "metadata": {},
     "output_type": "display_data"
    },
    {
     "data": {
      "text/html": [
       "<pre>recommendations finished on 164000/2088478 queries. users per second: 5974.89</pre>"
      ],
      "text/plain": [
       "recommendations finished on 164000/2088478 queries. users per second: 5974.89"
      ]
     },
     "metadata": {},
     "output_type": "display_data"
    },
    {
     "data": {
      "text/html": [
       "<pre>recommendations finished on 165000/2088478 queries. users per second: 5978.3</pre>"
      ],
      "text/plain": [
       "recommendations finished on 165000/2088478 queries. users per second: 5978.3"
      ]
     },
     "metadata": {},
     "output_type": "display_data"
    },
    {
     "data": {
      "text/html": [
       "<pre>recommendations finished on 166000/2088478 queries. users per second: 5983.03</pre>"
      ],
      "text/plain": [
       "recommendations finished on 166000/2088478 queries. users per second: 5983.03"
      ]
     },
     "metadata": {},
     "output_type": "display_data"
    },
    {
     "data": {
      "text/html": [
       "<pre>recommendations finished on 167000/2088478 queries. users per second: 5988.12</pre>"
      ],
      "text/plain": [
       "recommendations finished on 167000/2088478 queries. users per second: 5988.12"
      ]
     },
     "metadata": {},
     "output_type": "display_data"
    },
    {
     "data": {
      "text/html": [
       "<pre>recommendations finished on 168000/2088478 queries. users per second: 5987.71</pre>"
      ],
      "text/plain": [
       "recommendations finished on 168000/2088478 queries. users per second: 5987.71"
      ]
     },
     "metadata": {},
     "output_type": "display_data"
    },
    {
     "data": {
      "text/html": [
       "<pre>recommendations finished on 169000/2088478 queries. users per second: 5990.32</pre>"
      ],
      "text/plain": [
       "recommendations finished on 169000/2088478 queries. users per second: 5990.32"
      ]
     },
     "metadata": {},
     "output_type": "display_data"
    },
    {
     "data": {
      "text/html": [
       "<pre>recommendations finished on 170000/2088478 queries. users per second: 5995.39</pre>"
      ],
      "text/plain": [
       "recommendations finished on 170000/2088478 queries. users per second: 5995.39"
      ]
     },
     "metadata": {},
     "output_type": "display_data"
    },
    {
     "data": {
      "text/html": [
       "<pre>recommendations finished on 171000/2088478 queries. users per second: 5999.1</pre>"
      ],
      "text/plain": [
       "recommendations finished on 171000/2088478 queries. users per second: 5999.1"
      ]
     },
     "metadata": {},
     "output_type": "display_data"
    },
    {
     "data": {
      "text/html": [
       "<pre>recommendations finished on 172000/2088478 queries. users per second: 5999.39</pre>"
      ],
      "text/plain": [
       "recommendations finished on 172000/2088478 queries. users per second: 5999.39"
      ]
     },
     "metadata": {},
     "output_type": "display_data"
    },
    {
     "data": {
      "text/html": [
       "<pre>recommendations finished on 173000/2088478 queries. users per second: 6002.99</pre>"
      ],
      "text/plain": [
       "recommendations finished on 173000/2088478 queries. users per second: 6002.99"
      ]
     },
     "metadata": {},
     "output_type": "display_data"
    },
    {
     "data": {
      "text/html": [
       "<pre>recommendations finished on 174000/2088478 queries. users per second: 6007.22</pre>"
      ],
      "text/plain": [
       "recommendations finished on 174000/2088478 queries. users per second: 6007.22"
      ]
     },
     "metadata": {},
     "output_type": "display_data"
    },
    {
     "data": {
      "text/html": [
       "<pre>recommendations finished on 175000/2088478 queries. users per second: 6010.68</pre>"
      ],
      "text/plain": [
       "recommendations finished on 175000/2088478 queries. users per second: 6010.68"
      ]
     },
     "metadata": {},
     "output_type": "display_data"
    },
    {
     "data": {
      "text/html": [
       "<pre>recommendations finished on 176000/2088478 queries. users per second: 6014.74</pre>"
      ],
      "text/plain": [
       "recommendations finished on 176000/2088478 queries. users per second: 6014.74"
      ]
     },
     "metadata": {},
     "output_type": "display_data"
    },
    {
     "data": {
      "text/html": [
       "<pre>recommendations finished on 177000/2088478 queries. users per second: 6017.06</pre>"
      ],
      "text/plain": [
       "recommendations finished on 177000/2088478 queries. users per second: 6017.06"
      ]
     },
     "metadata": {},
     "output_type": "display_data"
    },
    {
     "data": {
      "text/html": [
       "<pre>recommendations finished on 178000/2088478 queries. users per second: 6020.22</pre>"
      ],
      "text/plain": [
       "recommendations finished on 178000/2088478 queries. users per second: 6020.22"
      ]
     },
     "metadata": {},
     "output_type": "display_data"
    },
    {
     "data": {
      "text/html": [
       "<pre>recommendations finished on 179000/2088478 queries. users per second: 6022.32</pre>"
      ],
      "text/plain": [
       "recommendations finished on 179000/2088478 queries. users per second: 6022.32"
      ]
     },
     "metadata": {},
     "output_type": "display_data"
    },
    {
     "data": {
      "text/html": [
       "<pre>recommendations finished on 180000/2088478 queries. users per second: 6022.74</pre>"
      ],
      "text/plain": [
       "recommendations finished on 180000/2088478 queries. users per second: 6022.74"
      ]
     },
     "metadata": {},
     "output_type": "display_data"
    },
    {
     "data": {
      "text/html": [
       "<pre>recommendations finished on 181000/2088478 queries. users per second: 6022.63</pre>"
      ],
      "text/plain": [
       "recommendations finished on 181000/2088478 queries. users per second: 6022.63"
      ]
     },
     "metadata": {},
     "output_type": "display_data"
    },
    {
     "data": {
      "text/html": [
       "<pre>recommendations finished on 182000/2088478 queries. users per second: 6022.59</pre>"
      ],
      "text/plain": [
       "recommendations finished on 182000/2088478 queries. users per second: 6022.59"
      ]
     },
     "metadata": {},
     "output_type": "display_data"
    },
    {
     "data": {
      "text/html": [
       "<pre>recommendations finished on 183000/2088478 queries. users per second: 6026.63</pre>"
      ],
      "text/plain": [
       "recommendations finished on 183000/2088478 queries. users per second: 6026.63"
      ]
     },
     "metadata": {},
     "output_type": "display_data"
    },
    {
     "data": {
      "text/html": [
       "<pre>recommendations finished on 184000/2088478 queries. users per second: 6029.85</pre>"
      ],
      "text/plain": [
       "recommendations finished on 184000/2088478 queries. users per second: 6029.85"
      ]
     },
     "metadata": {},
     "output_type": "display_data"
    },
    {
     "data": {
      "text/html": [
       "<pre>recommendations finished on 185000/2088478 queries. users per second: 6033.39</pre>"
      ],
      "text/plain": [
       "recommendations finished on 185000/2088478 queries. users per second: 6033.39"
      ]
     },
     "metadata": {},
     "output_type": "display_data"
    },
    {
     "data": {
      "text/html": [
       "<pre>recommendations finished on 186000/2088478 queries. users per second: 6036.86</pre>"
      ],
      "text/plain": [
       "recommendations finished on 186000/2088478 queries. users per second: 6036.86"
      ]
     },
     "metadata": {},
     "output_type": "display_data"
    },
    {
     "data": {
      "text/html": [
       "<pre>recommendations finished on 187000/2088478 queries. users per second: 6039.66</pre>"
      ],
      "text/plain": [
       "recommendations finished on 187000/2088478 queries. users per second: 6039.66"
      ]
     },
     "metadata": {},
     "output_type": "display_data"
    },
    {
     "data": {
      "text/html": [
       "<pre>recommendations finished on 188000/2088478 queries. users per second: 6042.9</pre>"
      ],
      "text/plain": [
       "recommendations finished on 188000/2088478 queries. users per second: 6042.9"
      ]
     },
     "metadata": {},
     "output_type": "display_data"
    },
    {
     "data": {
      "text/html": [
       "<pre>recommendations finished on 189000/2088478 queries. users per second: 6046.55</pre>"
      ],
      "text/plain": [
       "recommendations finished on 189000/2088478 queries. users per second: 6046.55"
      ]
     },
     "metadata": {},
     "output_type": "display_data"
    },
    {
     "data": {
      "text/html": [
       "<pre>recommendations finished on 190000/2088478 queries. users per second: 6049.78</pre>"
      ],
      "text/plain": [
       "recommendations finished on 190000/2088478 queries. users per second: 6049.78"
      ]
     },
     "metadata": {},
     "output_type": "display_data"
    },
    {
     "data": {
      "text/html": [
       "<pre>recommendations finished on 191000/2088478 queries. users per second: 6053.89</pre>"
      ],
      "text/plain": [
       "recommendations finished on 191000/2088478 queries. users per second: 6053.89"
      ]
     },
     "metadata": {},
     "output_type": "display_data"
    },
    {
     "data": {
      "text/html": [
       "<pre>recommendations finished on 192000/2088478 queries. users per second: 6056.98</pre>"
      ],
      "text/plain": [
       "recommendations finished on 192000/2088478 queries. users per second: 6056.98"
      ]
     },
     "metadata": {},
     "output_type": "display_data"
    },
    {
     "data": {
      "text/html": [
       "<pre>recommendations finished on 193000/2088478 queries. users per second: 6060.29</pre>"
      ],
      "text/plain": [
       "recommendations finished on 193000/2088478 queries. users per second: 6060.29"
      ]
     },
     "metadata": {},
     "output_type": "display_data"
    },
    {
     "data": {
      "text/html": [
       "<pre>recommendations finished on 194000/2088478 queries. users per second: 6063.54</pre>"
      ],
      "text/plain": [
       "recommendations finished on 194000/2088478 queries. users per second: 6063.54"
      ]
     },
     "metadata": {},
     "output_type": "display_data"
    },
    {
     "data": {
      "text/html": [
       "<pre>recommendations finished on 195000/2088478 queries. users per second: 6067.1</pre>"
      ],
      "text/plain": [
       "recommendations finished on 195000/2088478 queries. users per second: 6067.1"
      ]
     },
     "metadata": {},
     "output_type": "display_data"
    },
    {
     "data": {
      "text/html": [
       "<pre>recommendations finished on 196000/2088478 queries. users per second: 6070.37</pre>"
      ],
      "text/plain": [
       "recommendations finished on 196000/2088478 queries. users per second: 6070.37"
      ]
     },
     "metadata": {},
     "output_type": "display_data"
    },
    {
     "data": {
      "text/html": [
       "<pre>recommendations finished on 197000/2088478 queries. users per second: 6068.82</pre>"
      ],
      "text/plain": [
       "recommendations finished on 197000/2088478 queries. users per second: 6068.82"
      ]
     },
     "metadata": {},
     "output_type": "display_data"
    },
    {
     "data": {
      "text/html": [
       "<pre>recommendations finished on 198000/2088478 queries. users per second: 6072.13</pre>"
      ],
      "text/plain": [
       "recommendations finished on 198000/2088478 queries. users per second: 6072.13"
      ]
     },
     "metadata": {},
     "output_type": "display_data"
    },
    {
     "data": {
      "text/html": [
       "<pre>recommendations finished on 199000/2088478 queries. users per second: 6073.85</pre>"
      ],
      "text/plain": [
       "recommendations finished on 199000/2088478 queries. users per second: 6073.85"
      ]
     },
     "metadata": {},
     "output_type": "display_data"
    },
    {
     "data": {
      "text/html": [
       "<pre>recommendations finished on 200000/2088478 queries. users per second: 6077.19</pre>"
      ],
      "text/plain": [
       "recommendations finished on 200000/2088478 queries. users per second: 6077.19"
      ]
     },
     "metadata": {},
     "output_type": "display_data"
    },
    {
     "data": {
      "text/html": [
       "<pre>recommendations finished on 201000/2088478 queries. users per second: 6080.82</pre>"
      ],
      "text/plain": [
       "recommendations finished on 201000/2088478 queries. users per second: 6080.82"
      ]
     },
     "metadata": {},
     "output_type": "display_data"
    },
    {
     "data": {
      "text/html": [
       "<pre>recommendations finished on 202000/2088478 queries. users per second: 6079.87</pre>"
      ],
      "text/plain": [
       "recommendations finished on 202000/2088478 queries. users per second: 6079.87"
      ]
     },
     "metadata": {},
     "output_type": "display_data"
    },
    {
     "data": {
      "text/html": [
       "<pre>recommendations finished on 203000/2088478 queries. users per second: 6082.2</pre>"
      ],
      "text/plain": [
       "recommendations finished on 203000/2088478 queries. users per second: 6082.2"
      ]
     },
     "metadata": {},
     "output_type": "display_data"
    },
    {
     "data": {
      "text/html": [
       "<pre>recommendations finished on 204000/2088478 queries. users per second: 6086</pre>"
      ],
      "text/plain": [
       "recommendations finished on 204000/2088478 queries. users per second: 6086"
      ]
     },
     "metadata": {},
     "output_type": "display_data"
    },
    {
     "data": {
      "text/html": [
       "<pre>recommendations finished on 205000/2088478 queries. users per second: 6088.91</pre>"
      ],
      "text/plain": [
       "recommendations finished on 205000/2088478 queries. users per second: 6088.91"
      ]
     },
     "metadata": {},
     "output_type": "display_data"
    },
    {
     "data": {
      "text/html": [
       "<pre>recommendations finished on 206000/2088478 queries. users per second: 6092.74</pre>"
      ],
      "text/plain": [
       "recommendations finished on 206000/2088478 queries. users per second: 6092.74"
      ]
     },
     "metadata": {},
     "output_type": "display_data"
    },
    {
     "data": {
      "text/html": [
       "<pre>recommendations finished on 207000/2088478 queries. users per second: 6092.66</pre>"
      ],
      "text/plain": [
       "recommendations finished on 207000/2088478 queries. users per second: 6092.66"
      ]
     },
     "metadata": {},
     "output_type": "display_data"
    },
    {
     "data": {
      "text/html": [
       "<pre>recommendations finished on 208000/2088478 queries. users per second: 6096.18</pre>"
      ],
      "text/plain": [
       "recommendations finished on 208000/2088478 queries. users per second: 6096.18"
      ]
     },
     "metadata": {},
     "output_type": "display_data"
    },
    {
     "data": {
      "text/html": [
       "<pre>recommendations finished on 209000/2088478 queries. users per second: 6099.47</pre>"
      ],
      "text/plain": [
       "recommendations finished on 209000/2088478 queries. users per second: 6099.47"
      ]
     },
     "metadata": {},
     "output_type": "display_data"
    },
    {
     "data": {
      "text/html": [
       "<pre>recommendations finished on 210000/2088478 queries. users per second: 6102.41</pre>"
      ],
      "text/plain": [
       "recommendations finished on 210000/2088478 queries. users per second: 6102.41"
      ]
     },
     "metadata": {},
     "output_type": "display_data"
    },
    {
     "data": {
      "text/html": [
       "<pre>recommendations finished on 211000/2088478 queries. users per second: 6106.18</pre>"
      ],
      "text/plain": [
       "recommendations finished on 211000/2088478 queries. users per second: 6106.18"
      ]
     },
     "metadata": {},
     "output_type": "display_data"
    },
    {
     "data": {
      "text/html": [
       "<pre>recommendations finished on 212000/2088478 queries. users per second: 6107.56</pre>"
      ],
      "text/plain": [
       "recommendations finished on 212000/2088478 queries. users per second: 6107.56"
      ]
     },
     "metadata": {},
     "output_type": "display_data"
    },
    {
     "data": {
      "text/html": [
       "<pre>recommendations finished on 213000/2088478 queries. users per second: 6104.29</pre>"
      ],
      "text/plain": [
       "recommendations finished on 213000/2088478 queries. users per second: 6104.29"
      ]
     },
     "metadata": {},
     "output_type": "display_data"
    },
    {
     "data": {
      "text/html": [
       "<pre>recommendations finished on 214000/2088478 queries. users per second: 6105.69</pre>"
      ],
      "text/plain": [
       "recommendations finished on 214000/2088478 queries. users per second: 6105.69"
      ]
     },
     "metadata": {},
     "output_type": "display_data"
    },
    {
     "data": {
      "text/html": [
       "<pre>recommendations finished on 215000/2088478 queries. users per second: 6106.31</pre>"
      ],
      "text/plain": [
       "recommendations finished on 215000/2088478 queries. users per second: 6106.31"
      ]
     },
     "metadata": {},
     "output_type": "display_data"
    },
    {
     "data": {
      "text/html": [
       "<pre>recommendations finished on 216000/2088478 queries. users per second: 6098.34</pre>"
      ],
      "text/plain": [
       "recommendations finished on 216000/2088478 queries. users per second: 6098.34"
      ]
     },
     "metadata": {},
     "output_type": "display_data"
    },
    {
     "data": {
      "text/html": [
       "<pre>recommendations finished on 217000/2088478 queries. users per second: 6092.33</pre>"
      ],
      "text/plain": [
       "recommendations finished on 217000/2088478 queries. users per second: 6092.33"
      ]
     },
     "metadata": {},
     "output_type": "display_data"
    },
    {
     "data": {
      "text/html": [
       "<pre>recommendations finished on 218000/2088478 queries. users per second: 6089.46</pre>"
      ],
      "text/plain": [
       "recommendations finished on 218000/2088478 queries. users per second: 6089.46"
      ]
     },
     "metadata": {},
     "output_type": "display_data"
    },
    {
     "data": {
      "text/html": [
       "<pre>recommendations finished on 219000/2088478 queries. users per second: 6086.1</pre>"
      ],
      "text/plain": [
       "recommendations finished on 219000/2088478 queries. users per second: 6086.1"
      ]
     },
     "metadata": {},
     "output_type": "display_data"
    },
    {
     "data": {
      "text/html": [
       "<pre>recommendations finished on 220000/2088478 queries. users per second: 6087.06</pre>"
      ],
      "text/plain": [
       "recommendations finished on 220000/2088478 queries. users per second: 6087.06"
      ]
     },
     "metadata": {},
     "output_type": "display_data"
    },
    {
     "data": {
      "text/html": [
       "<pre>recommendations finished on 221000/2088478 queries. users per second: 6081.91</pre>"
      ],
      "text/plain": [
       "recommendations finished on 221000/2088478 queries. users per second: 6081.91"
      ]
     },
     "metadata": {},
     "output_type": "display_data"
    },
    {
     "data": {
      "text/html": [
       "<pre>recommendations finished on 222000/2088478 queries. users per second: 6077.32</pre>"
      ],
      "text/plain": [
       "recommendations finished on 222000/2088478 queries. users per second: 6077.32"
      ]
     },
     "metadata": {},
     "output_type": "display_data"
    },
    {
     "data": {
      "text/html": [
       "<pre>recommendations finished on 223000/2088478 queries. users per second: 6074.19</pre>"
      ],
      "text/plain": [
       "recommendations finished on 223000/2088478 queries. users per second: 6074.19"
      ]
     },
     "metadata": {},
     "output_type": "display_data"
    },
    {
     "data": {
      "text/html": [
       "<pre>recommendations finished on 224000/2088478 queries. users per second: 6071.18</pre>"
      ],
      "text/plain": [
       "recommendations finished on 224000/2088478 queries. users per second: 6071.18"
      ]
     },
     "metadata": {},
     "output_type": "display_data"
    },
    {
     "data": {
      "text/html": [
       "<pre>recommendations finished on 225000/2088478 queries. users per second: 6067.19</pre>"
      ],
      "text/plain": [
       "recommendations finished on 225000/2088478 queries. users per second: 6067.19"
      ]
     },
     "metadata": {},
     "output_type": "display_data"
    },
    {
     "data": {
      "text/html": [
       "<pre>recommendations finished on 226000/2088478 queries. users per second: 6064.57</pre>"
      ],
      "text/plain": [
       "recommendations finished on 226000/2088478 queries. users per second: 6064.57"
      ]
     },
     "metadata": {},
     "output_type": "display_data"
    },
    {
     "data": {
      "text/html": [
       "<pre>recommendations finished on 227000/2088478 queries. users per second: 6062.18</pre>"
      ],
      "text/plain": [
       "recommendations finished on 227000/2088478 queries. users per second: 6062.18"
      ]
     },
     "metadata": {},
     "output_type": "display_data"
    },
    {
     "data": {
      "text/html": [
       "<pre>recommendations finished on 228000/2088478 queries. users per second: 6060.17</pre>"
      ],
      "text/plain": [
       "recommendations finished on 228000/2088478 queries. users per second: 6060.17"
      ]
     },
     "metadata": {},
     "output_type": "display_data"
    },
    {
     "data": {
      "text/html": [
       "<pre>recommendations finished on 229000/2088478 queries. users per second: 6058.79</pre>"
      ],
      "text/plain": [
       "recommendations finished on 229000/2088478 queries. users per second: 6058.79"
      ]
     },
     "metadata": {},
     "output_type": "display_data"
    },
    {
     "data": {
      "text/html": [
       "<pre>recommendations finished on 230000/2088478 queries. users per second: 6059.42</pre>"
      ],
      "text/plain": [
       "recommendations finished on 230000/2088478 queries. users per second: 6059.42"
      ]
     },
     "metadata": {},
     "output_type": "display_data"
    },
    {
     "data": {
      "text/html": [
       "<pre>recommendations finished on 231000/2088478 queries. users per second: 6059.99</pre>"
      ],
      "text/plain": [
       "recommendations finished on 231000/2088478 queries. users per second: 6059.99"
      ]
     },
     "metadata": {},
     "output_type": "display_data"
    },
    {
     "data": {
      "text/html": [
       "<pre>recommendations finished on 232000/2088478 queries. users per second: 6056.87</pre>"
      ],
      "text/plain": [
       "recommendations finished on 232000/2088478 queries. users per second: 6056.87"
      ]
     },
     "metadata": {},
     "output_type": "display_data"
    },
    {
     "data": {
      "text/html": [
       "<pre>recommendations finished on 233000/2088478 queries. users per second: 6058.73</pre>"
      ],
      "text/plain": [
       "recommendations finished on 233000/2088478 queries. users per second: 6058.73"
      ]
     },
     "metadata": {},
     "output_type": "display_data"
    },
    {
     "data": {
      "text/html": [
       "<pre>recommendations finished on 234000/2088478 queries. users per second: 6060.49</pre>"
      ],
      "text/plain": [
       "recommendations finished on 234000/2088478 queries. users per second: 6060.49"
      ]
     },
     "metadata": {},
     "output_type": "display_data"
    },
    {
     "data": {
      "text/html": [
       "<pre>recommendations finished on 235000/2088478 queries. users per second: 6058.52</pre>"
      ],
      "text/plain": [
       "recommendations finished on 235000/2088478 queries. users per second: 6058.52"
      ]
     },
     "metadata": {},
     "output_type": "display_data"
    },
    {
     "data": {
      "text/html": [
       "<pre>recommendations finished on 236000/2088478 queries. users per second: 6052.42</pre>"
      ],
      "text/plain": [
       "recommendations finished on 236000/2088478 queries. users per second: 6052.42"
      ]
     },
     "metadata": {},
     "output_type": "display_data"
    },
    {
     "data": {
      "text/html": [
       "<pre>recommendations finished on 237000/2088478 queries. users per second: 6051.33</pre>"
      ],
      "text/plain": [
       "recommendations finished on 237000/2088478 queries. users per second: 6051.33"
      ]
     },
     "metadata": {},
     "output_type": "display_data"
    },
    {
     "data": {
      "text/html": [
       "<pre>recommendations finished on 238000/2088478 queries. users per second: 6049.02</pre>"
      ],
      "text/plain": [
       "recommendations finished on 238000/2088478 queries. users per second: 6049.02"
      ]
     },
     "metadata": {},
     "output_type": "display_data"
    },
    {
     "data": {
      "text/html": [
       "<pre>recommendations finished on 239000/2088478 queries. users per second: 6049.22</pre>"
      ],
      "text/plain": [
       "recommendations finished on 239000/2088478 queries. users per second: 6049.22"
      ]
     },
     "metadata": {},
     "output_type": "display_data"
    },
    {
     "data": {
      "text/html": [
       "<pre>recommendations finished on 240000/2088478 queries. users per second: 6050.97</pre>"
      ],
      "text/plain": [
       "recommendations finished on 240000/2088478 queries. users per second: 6050.97"
      ]
     },
     "metadata": {},
     "output_type": "display_data"
    },
    {
     "data": {
      "text/html": [
       "<pre>recommendations finished on 241000/2088478 queries. users per second: 6051.84</pre>"
      ],
      "text/plain": [
       "recommendations finished on 241000/2088478 queries. users per second: 6051.84"
      ]
     },
     "metadata": {},
     "output_type": "display_data"
    },
    {
     "data": {
      "text/html": [
       "<pre>recommendations finished on 242000/2088478 queries. users per second: 6045.55</pre>"
      ],
      "text/plain": [
       "recommendations finished on 242000/2088478 queries. users per second: 6045.55"
      ]
     },
     "metadata": {},
     "output_type": "display_data"
    },
    {
     "data": {
      "text/html": [
       "<pre>recommendations finished on 243000/2088478 queries. users per second: 6044.61</pre>"
      ],
      "text/plain": [
       "recommendations finished on 243000/2088478 queries. users per second: 6044.61"
      ]
     },
     "metadata": {},
     "output_type": "display_data"
    },
    {
     "data": {
      "text/html": [
       "<pre>recommendations finished on 244000/2088478 queries. users per second: 6045.86</pre>"
      ],
      "text/plain": [
       "recommendations finished on 244000/2088478 queries. users per second: 6045.86"
      ]
     },
     "metadata": {},
     "output_type": "display_data"
    },
    {
     "data": {
      "text/html": [
       "<pre>recommendations finished on 245000/2088478 queries. users per second: 6042.26</pre>"
      ],
      "text/plain": [
       "recommendations finished on 245000/2088478 queries. users per second: 6042.26"
      ]
     },
     "metadata": {},
     "output_type": "display_data"
    },
    {
     "data": {
      "text/html": [
       "<pre>recommendations finished on 246000/2088478 queries. users per second: 6042.46</pre>"
      ],
      "text/plain": [
       "recommendations finished on 246000/2088478 queries. users per second: 6042.46"
      ]
     },
     "metadata": {},
     "output_type": "display_data"
    },
    {
     "data": {
      "text/html": [
       "<pre>recommendations finished on 247000/2088478 queries. users per second: 6041.32</pre>"
      ],
      "text/plain": [
       "recommendations finished on 247000/2088478 queries. users per second: 6041.32"
      ]
     },
     "metadata": {},
     "output_type": "display_data"
    },
    {
     "data": {
      "text/html": [
       "<pre>recommendations finished on 248000/2088478 queries. users per second: 6042.87</pre>"
      ],
      "text/plain": [
       "recommendations finished on 248000/2088478 queries. users per second: 6042.87"
      ]
     },
     "metadata": {},
     "output_type": "display_data"
    },
    {
     "data": {
      "text/html": [
       "<pre>recommendations finished on 249000/2088478 queries. users per second: 6041.27</pre>"
      ],
      "text/plain": [
       "recommendations finished on 249000/2088478 queries. users per second: 6041.27"
      ]
     },
     "metadata": {},
     "output_type": "display_data"
    },
    {
     "data": {
      "text/html": [
       "<pre>recommendations finished on 250000/2088478 queries. users per second: 6036.91</pre>"
      ],
      "text/plain": [
       "recommendations finished on 250000/2088478 queries. users per second: 6036.91"
      ]
     },
     "metadata": {},
     "output_type": "display_data"
    },
    {
     "data": {
      "text/html": [
       "<pre>recommendations finished on 251000/2088478 queries. users per second: 6029.38</pre>"
      ],
      "text/plain": [
       "recommendations finished on 251000/2088478 queries. users per second: 6029.38"
      ]
     },
     "metadata": {},
     "output_type": "display_data"
    },
    {
     "data": {
      "text/html": [
       "<pre>recommendations finished on 252000/2088478 queries. users per second: 6026.08</pre>"
      ],
      "text/plain": [
       "recommendations finished on 252000/2088478 queries. users per second: 6026.08"
      ]
     },
     "metadata": {},
     "output_type": "display_data"
    },
    {
     "data": {
      "text/html": [
       "<pre>recommendations finished on 253000/2088478 queries. users per second: 6028.77</pre>"
      ],
      "text/plain": [
       "recommendations finished on 253000/2088478 queries. users per second: 6028.77"
      ]
     },
     "metadata": {},
     "output_type": "display_data"
    },
    {
     "data": {
      "text/html": [
       "<pre>recommendations finished on 254000/2088478 queries. users per second: 6031.81</pre>"
      ],
      "text/plain": [
       "recommendations finished on 254000/2088478 queries. users per second: 6031.81"
      ]
     },
     "metadata": {},
     "output_type": "display_data"
    },
    {
     "data": {
      "text/html": [
       "<pre>recommendations finished on 255000/2088478 queries. users per second: 6035.79</pre>"
      ],
      "text/plain": [
       "recommendations finished on 255000/2088478 queries. users per second: 6035.79"
      ]
     },
     "metadata": {},
     "output_type": "display_data"
    },
    {
     "data": {
      "text/html": [
       "<pre>recommendations finished on 256000/2088478 queries. users per second: 6037.79</pre>"
      ],
      "text/plain": [
       "recommendations finished on 256000/2088478 queries. users per second: 6037.79"
      ]
     },
     "metadata": {},
     "output_type": "display_data"
    },
    {
     "data": {
      "text/html": [
       "<pre>recommendations finished on 257000/2088478 queries. users per second: 6038.78</pre>"
      ],
      "text/plain": [
       "recommendations finished on 257000/2088478 queries. users per second: 6038.78"
      ]
     },
     "metadata": {},
     "output_type": "display_data"
    },
    {
     "data": {
      "text/html": [
       "<pre>recommendations finished on 258000/2088478 queries. users per second: 6040.87</pre>"
      ],
      "text/plain": [
       "recommendations finished on 258000/2088478 queries. users per second: 6040.87"
      ]
     },
     "metadata": {},
     "output_type": "display_data"
    },
    {
     "data": {
      "text/html": [
       "<pre>recommendations finished on 259000/2088478 queries. users per second: 6041.9</pre>"
      ],
      "text/plain": [
       "recommendations finished on 259000/2088478 queries. users per second: 6041.9"
      ]
     },
     "metadata": {},
     "output_type": "display_data"
    },
    {
     "data": {
      "text/html": [
       "<pre>recommendations finished on 260000/2088478 queries. users per second: 6042.21</pre>"
      ],
      "text/plain": [
       "recommendations finished on 260000/2088478 queries. users per second: 6042.21"
      ]
     },
     "metadata": {},
     "output_type": "display_data"
    },
    {
     "data": {
      "text/html": [
       "<pre>recommendations finished on 261000/2088478 queries. users per second: 6043.91</pre>"
      ],
      "text/plain": [
       "recommendations finished on 261000/2088478 queries. users per second: 6043.91"
      ]
     },
     "metadata": {},
     "output_type": "display_data"
    },
    {
     "data": {
      "text/html": [
       "<pre>recommendations finished on 262000/2088478 queries. users per second: 6045.75</pre>"
      ],
      "text/plain": [
       "recommendations finished on 262000/2088478 queries. users per second: 6045.75"
      ]
     },
     "metadata": {},
     "output_type": "display_data"
    },
    {
     "data": {
      "text/html": [
       "<pre>recommendations finished on 263000/2088478 queries. users per second: 6046.84</pre>"
      ],
      "text/plain": [
       "recommendations finished on 263000/2088478 queries. users per second: 6046.84"
      ]
     },
     "metadata": {},
     "output_type": "display_data"
    },
    {
     "data": {
      "text/html": [
       "<pre>recommendations finished on 264000/2088478 queries. users per second: 6048.95</pre>"
      ],
      "text/plain": [
       "recommendations finished on 264000/2088478 queries. users per second: 6048.95"
      ]
     },
     "metadata": {},
     "output_type": "display_data"
    },
    {
     "data": {
      "text/html": [
       "<pre>recommendations finished on 265000/2088478 queries. users per second: 6051.15</pre>"
      ],
      "text/plain": [
       "recommendations finished on 265000/2088478 queries. users per second: 6051.15"
      ]
     },
     "metadata": {},
     "output_type": "display_data"
    },
    {
     "data": {
      "text/html": [
       "<pre>recommendations finished on 266000/2088478 queries. users per second: 6053.57</pre>"
      ],
      "text/plain": [
       "recommendations finished on 266000/2088478 queries. users per second: 6053.57"
      ]
     },
     "metadata": {},
     "output_type": "display_data"
    },
    {
     "data": {
      "text/html": [
       "<pre>recommendations finished on 267000/2088478 queries. users per second: 6056.07</pre>"
      ],
      "text/plain": [
       "recommendations finished on 267000/2088478 queries. users per second: 6056.07"
      ]
     },
     "metadata": {},
     "output_type": "display_data"
    },
    {
     "data": {
      "text/html": [
       "<pre>recommendations finished on 268000/2088478 queries. users per second: 6056.69</pre>"
      ],
      "text/plain": [
       "recommendations finished on 268000/2088478 queries. users per second: 6056.69"
      ]
     },
     "metadata": {},
     "output_type": "display_data"
    },
    {
     "data": {
      "text/html": [
       "<pre>recommendations finished on 269000/2088478 queries. users per second: 6054.38</pre>"
      ],
      "text/plain": [
       "recommendations finished on 269000/2088478 queries. users per second: 6054.38"
      ]
     },
     "metadata": {},
     "output_type": "display_data"
    },
    {
     "data": {
      "text/html": [
       "<pre>recommendations finished on 270000/2088478 queries. users per second: 6052.03</pre>"
      ],
      "text/plain": [
       "recommendations finished on 270000/2088478 queries. users per second: 6052.03"
      ]
     },
     "metadata": {},
     "output_type": "display_data"
    },
    {
     "data": {
      "text/html": [
       "<pre>recommendations finished on 271000/2088478 queries. users per second: 6052.54</pre>"
      ],
      "text/plain": [
       "recommendations finished on 271000/2088478 queries. users per second: 6052.54"
      ]
     },
     "metadata": {},
     "output_type": "display_data"
    },
    {
     "data": {
      "text/html": [
       "<pre>recommendations finished on 272000/2088478 queries. users per second: 6052.41</pre>"
      ],
      "text/plain": [
       "recommendations finished on 272000/2088478 queries. users per second: 6052.41"
      ]
     },
     "metadata": {},
     "output_type": "display_data"
    },
    {
     "data": {
      "text/html": [
       "<pre>recommendations finished on 273000/2088478 queries. users per second: 6054.82</pre>"
      ],
      "text/plain": [
       "recommendations finished on 273000/2088478 queries. users per second: 6054.82"
      ]
     },
     "metadata": {},
     "output_type": "display_data"
    },
    {
     "data": {
      "text/html": [
       "<pre>recommendations finished on 274000/2088478 queries. users per second: 6054.17</pre>"
      ],
      "text/plain": [
       "recommendations finished on 274000/2088478 queries. users per second: 6054.17"
      ]
     },
     "metadata": {},
     "output_type": "display_data"
    },
    {
     "data": {
      "text/html": [
       "<pre>recommendations finished on 275000/2088478 queries. users per second: 6055.42</pre>"
      ],
      "text/plain": [
       "recommendations finished on 275000/2088478 queries. users per second: 6055.42"
      ]
     },
     "metadata": {},
     "output_type": "display_data"
    },
    {
     "data": {
      "text/html": [
       "<pre>recommendations finished on 276000/2088478 queries. users per second: 6052.06</pre>"
      ],
      "text/plain": [
       "recommendations finished on 276000/2088478 queries. users per second: 6052.06"
      ]
     },
     "metadata": {},
     "output_type": "display_data"
    },
    {
     "data": {
      "text/html": [
       "<pre>recommendations finished on 277000/2088478 queries. users per second: 6050.58</pre>"
      ],
      "text/plain": [
       "recommendations finished on 277000/2088478 queries. users per second: 6050.58"
      ]
     },
     "metadata": {},
     "output_type": "display_data"
    },
    {
     "data": {
      "text/html": [
       "<pre>recommendations finished on 278000/2088478 queries. users per second: 6045.18</pre>"
      ],
      "text/plain": [
       "recommendations finished on 278000/2088478 queries. users per second: 6045.18"
      ]
     },
     "metadata": {},
     "output_type": "display_data"
    },
    {
     "data": {
      "text/html": [
       "<pre>recommendations finished on 279000/2088478 queries. users per second: 6042.76</pre>"
      ],
      "text/plain": [
       "recommendations finished on 279000/2088478 queries. users per second: 6042.76"
      ]
     },
     "metadata": {},
     "output_type": "display_data"
    },
    {
     "data": {
      "text/html": [
       "<pre>recommendations finished on 280000/2088478 queries. users per second: 6038.69</pre>"
      ],
      "text/plain": [
       "recommendations finished on 280000/2088478 queries. users per second: 6038.69"
      ]
     },
     "metadata": {},
     "output_type": "display_data"
    },
    {
     "data": {
      "text/html": [
       "<pre>recommendations finished on 281000/2088478 queries. users per second: 6038.12</pre>"
      ],
      "text/plain": [
       "recommendations finished on 281000/2088478 queries. users per second: 6038.12"
      ]
     },
     "metadata": {},
     "output_type": "display_data"
    },
    {
     "data": {
      "text/html": [
       "<pre>recommendations finished on 282000/2088478 queries. users per second: 6040.58</pre>"
      ],
      "text/plain": [
       "recommendations finished on 282000/2088478 queries. users per second: 6040.58"
      ]
     },
     "metadata": {},
     "output_type": "display_data"
    },
    {
     "data": {
      "text/html": [
       "<pre>recommendations finished on 283000/2088478 queries. users per second: 6042.63</pre>"
      ],
      "text/plain": [
       "recommendations finished on 283000/2088478 queries. users per second: 6042.63"
      ]
     },
     "metadata": {},
     "output_type": "display_data"
    },
    {
     "data": {
      "text/html": [
       "<pre>recommendations finished on 284000/2088478 queries. users per second: 6043.07</pre>"
      ],
      "text/plain": [
       "recommendations finished on 284000/2088478 queries. users per second: 6043.07"
      ]
     },
     "metadata": {},
     "output_type": "display_data"
    },
    {
     "data": {
      "text/html": [
       "<pre>recommendations finished on 285000/2088478 queries. users per second: 6042.59</pre>"
      ],
      "text/plain": [
       "recommendations finished on 285000/2088478 queries. users per second: 6042.59"
      ]
     },
     "metadata": {},
     "output_type": "display_data"
    },
    {
     "data": {
      "text/html": [
       "<pre>recommendations finished on 286000/2088478 queries. users per second: 6041.49</pre>"
      ],
      "text/plain": [
       "recommendations finished on 286000/2088478 queries. users per second: 6041.49"
      ]
     },
     "metadata": {},
     "output_type": "display_data"
    },
    {
     "data": {
      "text/html": [
       "<pre>recommendations finished on 287000/2088478 queries. users per second: 6039.81</pre>"
      ],
      "text/plain": [
       "recommendations finished on 287000/2088478 queries. users per second: 6039.81"
      ]
     },
     "metadata": {},
     "output_type": "display_data"
    },
    {
     "data": {
      "text/html": [
       "<pre>recommendations finished on 288000/2088478 queries. users per second: 6039.16</pre>"
      ],
      "text/plain": [
       "recommendations finished on 288000/2088478 queries. users per second: 6039.16"
      ]
     },
     "metadata": {},
     "output_type": "display_data"
    },
    {
     "data": {
      "text/html": [
       "<pre>recommendations finished on 289000/2088478 queries. users per second: 6039.93</pre>"
      ],
      "text/plain": [
       "recommendations finished on 289000/2088478 queries. users per second: 6039.93"
      ]
     },
     "metadata": {},
     "output_type": "display_data"
    },
    {
     "data": {
      "text/html": [
       "<pre>recommendations finished on 290000/2088478 queries. users per second: 6042.17</pre>"
      ],
      "text/plain": [
       "recommendations finished on 290000/2088478 queries. users per second: 6042.17"
      ]
     },
     "metadata": {},
     "output_type": "display_data"
    },
    {
     "data": {
      "text/html": [
       "<pre>recommendations finished on 291000/2088478 queries. users per second: 6044.04</pre>"
      ],
      "text/plain": [
       "recommendations finished on 291000/2088478 queries. users per second: 6044.04"
      ]
     },
     "metadata": {},
     "output_type": "display_data"
    },
    {
     "data": {
      "text/html": [
       "<pre>recommendations finished on 292000/2088478 queries. users per second: 6046</pre>"
      ],
      "text/plain": [
       "recommendations finished on 292000/2088478 queries. users per second: 6046"
      ]
     },
     "metadata": {},
     "output_type": "display_data"
    },
    {
     "data": {
      "text/html": [
       "<pre>recommendations finished on 293000/2088478 queries. users per second: 6047.44</pre>"
      ],
      "text/plain": [
       "recommendations finished on 293000/2088478 queries. users per second: 6047.44"
      ]
     },
     "metadata": {},
     "output_type": "display_data"
    },
    {
     "data": {
      "text/html": [
       "<pre>recommendations finished on 294000/2088478 queries. users per second: 6048.97</pre>"
      ],
      "text/plain": [
       "recommendations finished on 294000/2088478 queries. users per second: 6048.97"
      ]
     },
     "metadata": {},
     "output_type": "display_data"
    },
    {
     "data": {
      "text/html": [
       "<pre>recommendations finished on 295000/2088478 queries. users per second: 6049.24</pre>"
      ],
      "text/plain": [
       "recommendations finished on 295000/2088478 queries. users per second: 6049.24"
      ]
     },
     "metadata": {},
     "output_type": "display_data"
    },
    {
     "data": {
      "text/html": [
       "<pre>recommendations finished on 296000/2088478 queries. users per second: 6050.53</pre>"
      ],
      "text/plain": [
       "recommendations finished on 296000/2088478 queries. users per second: 6050.53"
      ]
     },
     "metadata": {},
     "output_type": "display_data"
    },
    {
     "data": {
      "text/html": [
       "<pre>recommendations finished on 297000/2088478 queries. users per second: 6049.83</pre>"
      ],
      "text/plain": [
       "recommendations finished on 297000/2088478 queries. users per second: 6049.83"
      ]
     },
     "metadata": {},
     "output_type": "display_data"
    },
    {
     "data": {
      "text/html": [
       "<pre>recommendations finished on 298000/2088478 queries. users per second: 6052.15</pre>"
      ],
      "text/plain": [
       "recommendations finished on 298000/2088478 queries. users per second: 6052.15"
      ]
     },
     "metadata": {},
     "output_type": "display_data"
    },
    {
     "data": {
      "text/html": [
       "<pre>recommendations finished on 299000/2088478 queries. users per second: 6055.25</pre>"
      ],
      "text/plain": [
       "recommendations finished on 299000/2088478 queries. users per second: 6055.25"
      ]
     },
     "metadata": {},
     "output_type": "display_data"
    },
    {
     "data": {
      "text/html": [
       "<pre>recommendations finished on 300000/2088478 queries. users per second: 6058.13</pre>"
      ],
      "text/plain": [
       "recommendations finished on 300000/2088478 queries. users per second: 6058.13"
      ]
     },
     "metadata": {},
     "output_type": "display_data"
    },
    {
     "data": {
      "text/html": [
       "<pre>recommendations finished on 301000/2088478 queries. users per second: 6061.37</pre>"
      ],
      "text/plain": [
       "recommendations finished on 301000/2088478 queries. users per second: 6061.37"
      ]
     },
     "metadata": {},
     "output_type": "display_data"
    },
    {
     "data": {
      "text/html": [
       "<pre>recommendations finished on 302000/2088478 queries. users per second: 6063.69</pre>"
      ],
      "text/plain": [
       "recommendations finished on 302000/2088478 queries. users per second: 6063.69"
      ]
     },
     "metadata": {},
     "output_type": "display_data"
    },
    {
     "data": {
      "text/html": [
       "<pre>recommendations finished on 303000/2088478 queries. users per second: 6067.25</pre>"
      ],
      "text/plain": [
       "recommendations finished on 303000/2088478 queries. users per second: 6067.25"
      ]
     },
     "metadata": {},
     "output_type": "display_data"
    },
    {
     "data": {
      "text/html": [
       "<pre>recommendations finished on 304000/2088478 queries. users per second: 6070.48</pre>"
      ],
      "text/plain": [
       "recommendations finished on 304000/2088478 queries. users per second: 6070.48"
      ]
     },
     "metadata": {},
     "output_type": "display_data"
    },
    {
     "data": {
      "text/html": [
       "<pre>recommendations finished on 305000/2088478 queries. users per second: 6073.63</pre>"
      ],
      "text/plain": [
       "recommendations finished on 305000/2088478 queries. users per second: 6073.63"
      ]
     },
     "metadata": {},
     "output_type": "display_data"
    },
    {
     "data": {
      "text/html": [
       "<pre>recommendations finished on 306000/2088478 queries. users per second: 6076.6</pre>"
      ],
      "text/plain": [
       "recommendations finished on 306000/2088478 queries. users per second: 6076.6"
      ]
     },
     "metadata": {},
     "output_type": "display_data"
    },
    {
     "data": {
      "text/html": [
       "<pre>recommendations finished on 307000/2088478 queries. users per second: 6079.36</pre>"
      ],
      "text/plain": [
       "recommendations finished on 307000/2088478 queries. users per second: 6079.36"
      ]
     },
     "metadata": {},
     "output_type": "display_data"
    },
    {
     "data": {
      "text/html": [
       "<pre>recommendations finished on 308000/2088478 queries. users per second: 6082.25</pre>"
      ],
      "text/plain": [
       "recommendations finished on 308000/2088478 queries. users per second: 6082.25"
      ]
     },
     "metadata": {},
     "output_type": "display_data"
    },
    {
     "data": {
      "text/html": [
       "<pre>recommendations finished on 309000/2088478 queries. users per second: 6084.1</pre>"
      ],
      "text/plain": [
       "recommendations finished on 309000/2088478 queries. users per second: 6084.1"
      ]
     },
     "metadata": {},
     "output_type": "display_data"
    },
    {
     "data": {
      "text/html": [
       "<pre>recommendations finished on 310000/2088478 queries. users per second: 6083.86</pre>"
      ],
      "text/plain": [
       "recommendations finished on 310000/2088478 queries. users per second: 6083.86"
      ]
     },
     "metadata": {},
     "output_type": "display_data"
    },
    {
     "data": {
      "text/html": [
       "<pre>recommendations finished on 311000/2088478 queries. users per second: 6083.71</pre>"
      ],
      "text/plain": [
       "recommendations finished on 311000/2088478 queries. users per second: 6083.71"
      ]
     },
     "metadata": {},
     "output_type": "display_data"
    },
    {
     "data": {
      "text/html": [
       "<pre>recommendations finished on 312000/2088478 queries. users per second: 6084.86</pre>"
      ],
      "text/plain": [
       "recommendations finished on 312000/2088478 queries. users per second: 6084.86"
      ]
     },
     "metadata": {},
     "output_type": "display_data"
    },
    {
     "data": {
      "text/html": [
       "<pre>recommendations finished on 313000/2088478 queries. users per second: 6084.94</pre>"
      ],
      "text/plain": [
       "recommendations finished on 313000/2088478 queries. users per second: 6084.94"
      ]
     },
     "metadata": {},
     "output_type": "display_data"
    },
    {
     "data": {
      "text/html": [
       "<pre>recommendations finished on 314000/2088478 queries. users per second: 6082.71</pre>"
      ],
      "text/plain": [
       "recommendations finished on 314000/2088478 queries. users per second: 6082.71"
      ]
     },
     "metadata": {},
     "output_type": "display_data"
    },
    {
     "data": {
      "text/html": [
       "<pre>recommendations finished on 315000/2088478 queries. users per second: 6077.42</pre>"
      ],
      "text/plain": [
       "recommendations finished on 315000/2088478 queries. users per second: 6077.42"
      ]
     },
     "metadata": {},
     "output_type": "display_data"
    },
    {
     "data": {
      "text/html": [
       "<pre>recommendations finished on 316000/2088478 queries. users per second: 6071.47</pre>"
      ],
      "text/plain": [
       "recommendations finished on 316000/2088478 queries. users per second: 6071.47"
      ]
     },
     "metadata": {},
     "output_type": "display_data"
    },
    {
     "data": {
      "text/html": [
       "<pre>recommendations finished on 317000/2088478 queries. users per second: 6063.73</pre>"
      ],
      "text/plain": [
       "recommendations finished on 317000/2088478 queries. users per second: 6063.73"
      ]
     },
     "metadata": {},
     "output_type": "display_data"
    },
    {
     "data": {
      "text/html": [
       "<pre>recommendations finished on 318000/2088478 queries. users per second: 6061.14</pre>"
      ],
      "text/plain": [
       "recommendations finished on 318000/2088478 queries. users per second: 6061.14"
      ]
     },
     "metadata": {},
     "output_type": "display_data"
    },
    {
     "data": {
      "text/html": [
       "<pre>recommendations finished on 319000/2088478 queries. users per second: 6057.18</pre>"
      ],
      "text/plain": [
       "recommendations finished on 319000/2088478 queries. users per second: 6057.18"
      ]
     },
     "metadata": {},
     "output_type": "display_data"
    },
    {
     "data": {
      "text/html": [
       "<pre>recommendations finished on 320000/2088478 queries. users per second: 6047.86</pre>"
      ],
      "text/plain": [
       "recommendations finished on 320000/2088478 queries. users per second: 6047.86"
      ]
     },
     "metadata": {},
     "output_type": "display_data"
    },
    {
     "data": {
      "text/html": [
       "<pre>recommendations finished on 321000/2088478 queries. users per second: 6044.42</pre>"
      ],
      "text/plain": [
       "recommendations finished on 321000/2088478 queries. users per second: 6044.42"
      ]
     },
     "metadata": {},
     "output_type": "display_data"
    },
    {
     "data": {
      "text/html": [
       "<pre>recommendations finished on 322000/2088478 queries. users per second: 6044.3</pre>"
      ],
      "text/plain": [
       "recommendations finished on 322000/2088478 queries. users per second: 6044.3"
      ]
     },
     "metadata": {},
     "output_type": "display_data"
    },
    {
     "data": {
      "text/html": [
       "<pre>recommendations finished on 323000/2088478 queries. users per second: 6042.02</pre>"
      ],
      "text/plain": [
       "recommendations finished on 323000/2088478 queries. users per second: 6042.02"
      ]
     },
     "metadata": {},
     "output_type": "display_data"
    },
    {
     "data": {
      "text/html": [
       "<pre>recommendations finished on 324000/2088478 queries. users per second: 6036.51</pre>"
      ],
      "text/plain": [
       "recommendations finished on 324000/2088478 queries. users per second: 6036.51"
      ]
     },
     "metadata": {},
     "output_type": "display_data"
    },
    {
     "data": {
      "text/html": [
       "<pre>recommendations finished on 325000/2088478 queries. users per second: 6036.14</pre>"
      ],
      "text/plain": [
       "recommendations finished on 325000/2088478 queries. users per second: 6036.14"
      ]
     },
     "metadata": {},
     "output_type": "display_data"
    },
    {
     "data": {
      "text/html": [
       "<pre>recommendations finished on 326000/2088478 queries. users per second: 6035.45</pre>"
      ],
      "text/plain": [
       "recommendations finished on 326000/2088478 queries. users per second: 6035.45"
      ]
     },
     "metadata": {},
     "output_type": "display_data"
    },
    {
     "data": {
      "text/html": [
       "<pre>recommendations finished on 327000/2088478 queries. users per second: 6036.34</pre>"
      ],
      "text/plain": [
       "recommendations finished on 327000/2088478 queries. users per second: 6036.34"
      ]
     },
     "metadata": {},
     "output_type": "display_data"
    },
    {
     "data": {
      "text/html": [
       "<pre>recommendations finished on 328000/2088478 queries. users per second: 6037.22</pre>"
      ],
      "text/plain": [
       "recommendations finished on 328000/2088478 queries. users per second: 6037.22"
      ]
     },
     "metadata": {},
     "output_type": "display_data"
    },
    {
     "data": {
      "text/html": [
       "<pre>recommendations finished on 329000/2088478 queries. users per second: 6038.77</pre>"
      ],
      "text/plain": [
       "recommendations finished on 329000/2088478 queries. users per second: 6038.77"
      ]
     },
     "metadata": {},
     "output_type": "display_data"
    },
    {
     "data": {
      "text/html": [
       "<pre>recommendations finished on 330000/2088478 queries. users per second: 6038.06</pre>"
      ],
      "text/plain": [
       "recommendations finished on 330000/2088478 queries. users per second: 6038.06"
      ]
     },
     "metadata": {},
     "output_type": "display_data"
    },
    {
     "data": {
      "text/html": [
       "<pre>recommendations finished on 331000/2088478 queries. users per second: 6040.52</pre>"
      ],
      "text/plain": [
       "recommendations finished on 331000/2088478 queries. users per second: 6040.52"
      ]
     },
     "metadata": {},
     "output_type": "display_data"
    },
    {
     "data": {
      "text/html": [
       "<pre>recommendations finished on 332000/2088478 queries. users per second: 6041.52</pre>"
      ],
      "text/plain": [
       "recommendations finished on 332000/2088478 queries. users per second: 6041.52"
      ]
     },
     "metadata": {},
     "output_type": "display_data"
    },
    {
     "data": {
      "text/html": [
       "<pre>recommendations finished on 333000/2088478 queries. users per second: 6040.32</pre>"
      ],
      "text/plain": [
       "recommendations finished on 333000/2088478 queries. users per second: 6040.32"
      ]
     },
     "metadata": {},
     "output_type": "display_data"
    },
    {
     "data": {
      "text/html": [
       "<pre>recommendations finished on 334000/2088478 queries. users per second: 6042.76</pre>"
      ],
      "text/plain": [
       "recommendations finished on 334000/2088478 queries. users per second: 6042.76"
      ]
     },
     "metadata": {},
     "output_type": "display_data"
    },
    {
     "data": {
      "text/html": [
       "<pre>recommendations finished on 335000/2088478 queries. users per second: 6043.46</pre>"
      ],
      "text/plain": [
       "recommendations finished on 335000/2088478 queries. users per second: 6043.46"
      ]
     },
     "metadata": {},
     "output_type": "display_data"
    },
    {
     "data": {
      "text/html": [
       "<pre>recommendations finished on 336000/2088478 queries. users per second: 6043.65</pre>"
      ],
      "text/plain": [
       "recommendations finished on 336000/2088478 queries. users per second: 6043.65"
      ]
     },
     "metadata": {},
     "output_type": "display_data"
    },
    {
     "data": {
      "text/html": [
       "<pre>recommendations finished on 337000/2088478 queries. users per second: 6031.67</pre>"
      ],
      "text/plain": [
       "recommendations finished on 337000/2088478 queries. users per second: 6031.67"
      ]
     },
     "metadata": {},
     "output_type": "display_data"
    },
    {
     "data": {
      "text/html": [
       "<pre>recommendations finished on 338000/2088478 queries. users per second: 6031.15</pre>"
      ],
      "text/plain": [
       "recommendations finished on 338000/2088478 queries. users per second: 6031.15"
      ]
     },
     "metadata": {},
     "output_type": "display_data"
    },
    {
     "data": {
      "text/html": [
       "<pre>recommendations finished on 339000/2088478 queries. users per second: 6025.74</pre>"
      ],
      "text/plain": [
       "recommendations finished on 339000/2088478 queries. users per second: 6025.74"
      ]
     },
     "metadata": {},
     "output_type": "display_data"
    },
    {
     "data": {
      "text/html": [
       "<pre>recommendations finished on 340000/2088478 queries. users per second: 6022.6</pre>"
      ],
      "text/plain": [
       "recommendations finished on 340000/2088478 queries. users per second: 6022.6"
      ]
     },
     "metadata": {},
     "output_type": "display_data"
    },
    {
     "data": {
      "text/html": [
       "<pre>recommendations finished on 341000/2088478 queries. users per second: 6019.42</pre>"
      ],
      "text/plain": [
       "recommendations finished on 341000/2088478 queries. users per second: 6019.42"
      ]
     },
     "metadata": {},
     "output_type": "display_data"
    },
    {
     "data": {
      "text/html": [
       "<pre>recommendations finished on 342000/2088478 queries. users per second: 6019.56</pre>"
      ],
      "text/plain": [
       "recommendations finished on 342000/2088478 queries. users per second: 6019.56"
      ]
     },
     "metadata": {},
     "output_type": "display_data"
    },
    {
     "data": {
      "text/html": [
       "<pre>recommendations finished on 343000/2088478 queries. users per second: 6018.75</pre>"
      ],
      "text/plain": [
       "recommendations finished on 343000/2088478 queries. users per second: 6018.75"
      ]
     },
     "metadata": {},
     "output_type": "display_data"
    },
    {
     "data": {
      "text/html": [
       "<pre>recommendations finished on 344000/2088478 queries. users per second: 6019.83</pre>"
      ],
      "text/plain": [
       "recommendations finished on 344000/2088478 queries. users per second: 6019.83"
      ]
     },
     "metadata": {},
     "output_type": "display_data"
    },
    {
     "data": {
      "text/html": [
       "<pre>recommendations finished on 345000/2088478 queries. users per second: 6019.86</pre>"
      ],
      "text/plain": [
       "recommendations finished on 345000/2088478 queries. users per second: 6019.86"
      ]
     },
     "metadata": {},
     "output_type": "display_data"
    },
    {
     "data": {
      "text/html": [
       "<pre>recommendations finished on 346000/2088478 queries. users per second: 6018.36</pre>"
      ],
      "text/plain": [
       "recommendations finished on 346000/2088478 queries. users per second: 6018.36"
      ]
     },
     "metadata": {},
     "output_type": "display_data"
    },
    {
     "data": {
      "text/html": [
       "<pre>recommendations finished on 347000/2088478 queries. users per second: 6017.01</pre>"
      ],
      "text/plain": [
       "recommendations finished on 347000/2088478 queries. users per second: 6017.01"
      ]
     },
     "metadata": {},
     "output_type": "display_data"
    },
    {
     "data": {
      "text/html": [
       "<pre>recommendations finished on 348000/2088478 queries. users per second: 6017.1</pre>"
      ],
      "text/plain": [
       "recommendations finished on 348000/2088478 queries. users per second: 6017.1"
      ]
     },
     "metadata": {},
     "output_type": "display_data"
    },
    {
     "data": {
      "text/html": [
       "<pre>recommendations finished on 349000/2088478 queries. users per second: 6015.39</pre>"
      ],
      "text/plain": [
       "recommendations finished on 349000/2088478 queries. users per second: 6015.39"
      ]
     },
     "metadata": {},
     "output_type": "display_data"
    },
    {
     "data": {
      "text/html": [
       "<pre>recommendations finished on 350000/2088478 queries. users per second: 6016.76</pre>"
      ],
      "text/plain": [
       "recommendations finished on 350000/2088478 queries. users per second: 6016.76"
      ]
     },
     "metadata": {},
     "output_type": "display_data"
    },
    {
     "data": {
      "text/html": [
       "<pre>recommendations finished on 351000/2088478 queries. users per second: 6008.89</pre>"
      ],
      "text/plain": [
       "recommendations finished on 351000/2088478 queries. users per second: 6008.89"
      ]
     },
     "metadata": {},
     "output_type": "display_data"
    },
    {
     "data": {
      "text/html": [
       "<pre>recommendations finished on 352000/2088478 queries. users per second: 6003.69</pre>"
      ],
      "text/plain": [
       "recommendations finished on 352000/2088478 queries. users per second: 6003.69"
      ]
     },
     "metadata": {},
     "output_type": "display_data"
    },
    {
     "data": {
      "text/html": [
       "<pre>recommendations finished on 353000/2088478 queries. users per second: 5998.6</pre>"
      ],
      "text/plain": [
       "recommendations finished on 353000/2088478 queries. users per second: 5998.6"
      ]
     },
     "metadata": {},
     "output_type": "display_data"
    },
    {
     "data": {
      "text/html": [
       "<pre>recommendations finished on 354000/2088478 queries. users per second: 5996.28</pre>"
      ],
      "text/plain": [
       "recommendations finished on 354000/2088478 queries. users per second: 5996.28"
      ]
     },
     "metadata": {},
     "output_type": "display_data"
    },
    {
     "data": {
      "text/html": [
       "<pre>recommendations finished on 355000/2088478 queries. users per second: 5995.08</pre>"
      ],
      "text/plain": [
       "recommendations finished on 355000/2088478 queries. users per second: 5995.08"
      ]
     },
     "metadata": {},
     "output_type": "display_data"
    },
    {
     "data": {
      "text/html": [
       "<pre>recommendations finished on 356000/2088478 queries. users per second: 5994.15</pre>"
      ],
      "text/plain": [
       "recommendations finished on 356000/2088478 queries. users per second: 5994.15"
      ]
     },
     "metadata": {},
     "output_type": "display_data"
    },
    {
     "data": {
      "text/html": [
       "<pre>recommendations finished on 357000/2088478 queries. users per second: 5992.1</pre>"
      ],
      "text/plain": [
       "recommendations finished on 357000/2088478 queries. users per second: 5992.1"
      ]
     },
     "metadata": {},
     "output_type": "display_data"
    },
    {
     "data": {
      "text/html": [
       "<pre>recommendations finished on 358000/2088478 queries. users per second: 5990.96</pre>"
      ],
      "text/plain": [
       "recommendations finished on 358000/2088478 queries. users per second: 5990.96"
      ]
     },
     "metadata": {},
     "output_type": "display_data"
    },
    {
     "data": {
      "text/html": [
       "<pre>recommendations finished on 359000/2088478 queries. users per second: 5982.72</pre>"
      ],
      "text/plain": [
       "recommendations finished on 359000/2088478 queries. users per second: 5982.72"
      ]
     },
     "metadata": {},
     "output_type": "display_data"
    },
    {
     "data": {
      "text/html": [
       "<pre>recommendations finished on 360000/2088478 queries. users per second: 5983.24</pre>"
      ],
      "text/plain": [
       "recommendations finished on 360000/2088478 queries. users per second: 5983.24"
      ]
     },
     "metadata": {},
     "output_type": "display_data"
    },
    {
     "data": {
      "text/html": [
       "<pre>recommendations finished on 361000/2088478 queries. users per second: 5983.42</pre>"
      ],
      "text/plain": [
       "recommendations finished on 361000/2088478 queries. users per second: 5983.42"
      ]
     },
     "metadata": {},
     "output_type": "display_data"
    },
    {
     "data": {
      "text/html": [
       "<pre>recommendations finished on 362000/2088478 queries. users per second: 5983.09</pre>"
      ],
      "text/plain": [
       "recommendations finished on 362000/2088478 queries. users per second: 5983.09"
      ]
     },
     "metadata": {},
     "output_type": "display_data"
    },
    {
     "data": {
      "text/html": [
       "<pre>recommendations finished on 363000/2088478 queries. users per second: 5985.82</pre>"
      ],
      "text/plain": [
       "recommendations finished on 363000/2088478 queries. users per second: 5985.82"
      ]
     },
     "metadata": {},
     "output_type": "display_data"
    },
    {
     "data": {
      "text/html": [
       "<pre>recommendations finished on 364000/2088478 queries. users per second: 5987.51</pre>"
      ],
      "text/plain": [
       "recommendations finished on 364000/2088478 queries. users per second: 5987.51"
      ]
     },
     "metadata": {},
     "output_type": "display_data"
    },
    {
     "data": {
      "text/html": [
       "<pre>recommendations finished on 365000/2088478 queries. users per second: 5989.52</pre>"
      ],
      "text/plain": [
       "recommendations finished on 365000/2088478 queries. users per second: 5989.52"
      ]
     },
     "metadata": {},
     "output_type": "display_data"
    },
    {
     "data": {
      "text/html": [
       "<pre>recommendations finished on 366000/2088478 queries. users per second: 5991.37</pre>"
      ],
      "text/plain": [
       "recommendations finished on 366000/2088478 queries. users per second: 5991.37"
      ]
     },
     "metadata": {},
     "output_type": "display_data"
    },
    {
     "data": {
      "text/html": [
       "<pre>recommendations finished on 367000/2088478 queries. users per second: 5993.46</pre>"
      ],
      "text/plain": [
       "recommendations finished on 367000/2088478 queries. users per second: 5993.46"
      ]
     },
     "metadata": {},
     "output_type": "display_data"
    },
    {
     "data": {
      "text/html": [
       "<pre>recommendations finished on 368000/2088478 queries. users per second: 5994.62</pre>"
      ],
      "text/plain": [
       "recommendations finished on 368000/2088478 queries. users per second: 5994.62"
      ]
     },
     "metadata": {},
     "output_type": "display_data"
    },
    {
     "data": {
      "text/html": [
       "<pre>recommendations finished on 369000/2088478 queries. users per second: 5993.86</pre>"
      ],
      "text/plain": [
       "recommendations finished on 369000/2088478 queries. users per second: 5993.86"
      ]
     },
     "metadata": {},
     "output_type": "display_data"
    },
    {
     "data": {
      "text/html": [
       "<pre>recommendations finished on 370000/2088478 queries. users per second: 5993.39</pre>"
      ],
      "text/plain": [
       "recommendations finished on 370000/2088478 queries. users per second: 5993.39"
      ]
     },
     "metadata": {},
     "output_type": "display_data"
    },
    {
     "data": {
      "text/html": [
       "<pre>recommendations finished on 371000/2088478 queries. users per second: 5994.59</pre>"
      ],
      "text/plain": [
       "recommendations finished on 371000/2088478 queries. users per second: 5994.59"
      ]
     },
     "metadata": {},
     "output_type": "display_data"
    },
    {
     "data": {
      "text/html": [
       "<pre>recommendations finished on 372000/2088478 queries. users per second: 5996.01</pre>"
      ],
      "text/plain": [
       "recommendations finished on 372000/2088478 queries. users per second: 5996.01"
      ]
     },
     "metadata": {},
     "output_type": "display_data"
    },
    {
     "data": {
      "text/html": [
       "<pre>recommendations finished on 373000/2088478 queries. users per second: 5997.5</pre>"
      ],
      "text/plain": [
       "recommendations finished on 373000/2088478 queries. users per second: 5997.5"
      ]
     },
     "metadata": {},
     "output_type": "display_data"
    },
    {
     "data": {
      "text/html": [
       "<pre>recommendations finished on 374000/2088478 queries. users per second: 5998.68</pre>"
      ],
      "text/plain": [
       "recommendations finished on 374000/2088478 queries. users per second: 5998.68"
      ]
     },
     "metadata": {},
     "output_type": "display_data"
    },
    {
     "data": {
      "text/html": [
       "<pre>recommendations finished on 375000/2088478 queries. users per second: 5999.07</pre>"
      ],
      "text/plain": [
       "recommendations finished on 375000/2088478 queries. users per second: 5999.07"
      ]
     },
     "metadata": {},
     "output_type": "display_data"
    },
    {
     "data": {
      "text/html": [
       "<pre>recommendations finished on 376000/2088478 queries. users per second: 6000.45</pre>"
      ],
      "text/plain": [
       "recommendations finished on 376000/2088478 queries. users per second: 6000.45"
      ]
     },
     "metadata": {},
     "output_type": "display_data"
    },
    {
     "data": {
      "text/html": [
       "<pre>recommendations finished on 377000/2088478 queries. users per second: 6001.56</pre>"
      ],
      "text/plain": [
       "recommendations finished on 377000/2088478 queries. users per second: 6001.56"
      ]
     },
     "metadata": {},
     "output_type": "display_data"
    },
    {
     "data": {
      "text/html": [
       "<pre>recommendations finished on 378000/2088478 queries. users per second: 6000.38</pre>"
      ],
      "text/plain": [
       "recommendations finished on 378000/2088478 queries. users per second: 6000.38"
      ]
     },
     "metadata": {},
     "output_type": "display_data"
    },
    {
     "data": {
      "text/html": [
       "<pre>recommendations finished on 379000/2088478 queries. users per second: 5997.66</pre>"
      ],
      "text/plain": [
       "recommendations finished on 379000/2088478 queries. users per second: 5997.66"
      ]
     },
     "metadata": {},
     "output_type": "display_data"
    },
    {
     "data": {
      "text/html": [
       "<pre>recommendations finished on 380000/2088478 queries. users per second: 5985.01</pre>"
      ],
      "text/plain": [
       "recommendations finished on 380000/2088478 queries. users per second: 5985.01"
      ]
     },
     "metadata": {},
     "output_type": "display_data"
    },
    {
     "data": {
      "text/html": [
       "<pre>recommendations finished on 381000/2088478 queries. users per second: 5981.08</pre>"
      ],
      "text/plain": [
       "recommendations finished on 381000/2088478 queries. users per second: 5981.08"
      ]
     },
     "metadata": {},
     "output_type": "display_data"
    },
    {
     "data": {
      "text/html": [
       "<pre>recommendations finished on 382000/2088478 queries. users per second: 5982.63</pre>"
      ],
      "text/plain": [
       "recommendations finished on 382000/2088478 queries. users per second: 5982.63"
      ]
     },
     "metadata": {},
     "output_type": "display_data"
    },
    {
     "data": {
      "text/html": [
       "<pre>recommendations finished on 383000/2088478 queries. users per second: 5984.56</pre>"
      ],
      "text/plain": [
       "recommendations finished on 383000/2088478 queries. users per second: 5984.56"
      ]
     },
     "metadata": {},
     "output_type": "display_data"
    },
    {
     "data": {
      "text/html": [
       "<pre>recommendations finished on 384000/2088478 queries. users per second: 5986.63</pre>"
      ],
      "text/plain": [
       "recommendations finished on 384000/2088478 queries. users per second: 5986.63"
      ]
     },
     "metadata": {},
     "output_type": "display_data"
    },
    {
     "data": {
      "text/html": [
       "<pre>recommendations finished on 385000/2088478 queries. users per second: 5988.84</pre>"
      ],
      "text/plain": [
       "recommendations finished on 385000/2088478 queries. users per second: 5988.84"
      ]
     },
     "metadata": {},
     "output_type": "display_data"
    },
    {
     "data": {
      "text/html": [
       "<pre>recommendations finished on 386000/2088478 queries. users per second: 5990.6</pre>"
      ],
      "text/plain": [
       "recommendations finished on 386000/2088478 queries. users per second: 5990.6"
      ]
     },
     "metadata": {},
     "output_type": "display_data"
    },
    {
     "data": {
      "text/html": [
       "<pre>recommendations finished on 387000/2088478 queries. users per second: 5992.61</pre>"
      ],
      "text/plain": [
       "recommendations finished on 387000/2088478 queries. users per second: 5992.61"
      ]
     },
     "metadata": {},
     "output_type": "display_data"
    },
    {
     "data": {
      "text/html": [
       "<pre>recommendations finished on 388000/2088478 queries. users per second: 5993.84</pre>"
      ],
      "text/plain": [
       "recommendations finished on 388000/2088478 queries. users per second: 5993.84"
      ]
     },
     "metadata": {},
     "output_type": "display_data"
    },
    {
     "data": {
      "text/html": [
       "<pre>recommendations finished on 389000/2088478 queries. users per second: 5979.53</pre>"
      ],
      "text/plain": [
       "recommendations finished on 389000/2088478 queries. users per second: 5979.53"
      ]
     },
     "metadata": {},
     "output_type": "display_data"
    },
    {
     "data": {
      "text/html": [
       "<pre>recommendations finished on 390000/2088478 queries. users per second: 5977.69</pre>"
      ],
      "text/plain": [
       "recommendations finished on 390000/2088478 queries. users per second: 5977.69"
      ]
     },
     "metadata": {},
     "output_type": "display_data"
    },
    {
     "data": {
      "text/html": [
       "<pre>recommendations finished on 391000/2088478 queries. users per second: 5974.95</pre>"
      ],
      "text/plain": [
       "recommendations finished on 391000/2088478 queries. users per second: 5974.95"
      ]
     },
     "metadata": {},
     "output_type": "display_data"
    },
    {
     "data": {
      "text/html": [
       "<pre>recommendations finished on 392000/2088478 queries. users per second: 5972.87</pre>"
      ],
      "text/plain": [
       "recommendations finished on 392000/2088478 queries. users per second: 5972.87"
      ]
     },
     "metadata": {},
     "output_type": "display_data"
    },
    {
     "data": {
      "text/html": [
       "<pre>recommendations finished on 393000/2088478 queries. users per second: 5973.3</pre>"
      ],
      "text/plain": [
       "recommendations finished on 393000/2088478 queries. users per second: 5973.3"
      ]
     },
     "metadata": {},
     "output_type": "display_data"
    },
    {
     "data": {
      "text/html": [
       "<pre>recommendations finished on 394000/2088478 queries. users per second: 5975.23</pre>"
      ],
      "text/plain": [
       "recommendations finished on 394000/2088478 queries. users per second: 5975.23"
      ]
     },
     "metadata": {},
     "output_type": "display_data"
    },
    {
     "data": {
      "text/html": [
       "<pre>recommendations finished on 395000/2088478 queries. users per second: 5976.96</pre>"
      ],
      "text/plain": [
       "recommendations finished on 395000/2088478 queries. users per second: 5976.96"
      ]
     },
     "metadata": {},
     "output_type": "display_data"
    },
    {
     "data": {
      "text/html": [
       "<pre>recommendations finished on 396000/2088478 queries. users per second: 5976.86</pre>"
      ],
      "text/plain": [
       "recommendations finished on 396000/2088478 queries. users per second: 5976.86"
      ]
     },
     "metadata": {},
     "output_type": "display_data"
    },
    {
     "data": {
      "text/html": [
       "<pre>recommendations finished on 397000/2088478 queries. users per second: 5978.67</pre>"
      ],
      "text/plain": [
       "recommendations finished on 397000/2088478 queries. users per second: 5978.67"
      ]
     },
     "metadata": {},
     "output_type": "display_data"
    },
    {
     "data": {
      "text/html": [
       "<pre>recommendations finished on 398000/2088478 queries. users per second: 5977.61</pre>"
      ],
      "text/plain": [
       "recommendations finished on 398000/2088478 queries. users per second: 5977.61"
      ]
     },
     "metadata": {},
     "output_type": "display_data"
    },
    {
     "data": {
      "text/html": [
       "<pre>recommendations finished on 399000/2088478 queries. users per second: 5979.15</pre>"
      ],
      "text/plain": [
       "recommendations finished on 399000/2088478 queries. users per second: 5979.15"
      ]
     },
     "metadata": {},
     "output_type": "display_data"
    },
    {
     "data": {
      "text/html": [
       "<pre>recommendations finished on 400000/2088478 queries. users per second: 5980.67</pre>"
      ],
      "text/plain": [
       "recommendations finished on 400000/2088478 queries. users per second: 5980.67"
      ]
     },
     "metadata": {},
     "output_type": "display_data"
    },
    {
     "data": {
      "text/html": [
       "<pre>recommendations finished on 401000/2088478 queries. users per second: 5979.5</pre>"
      ],
      "text/plain": [
       "recommendations finished on 401000/2088478 queries. users per second: 5979.5"
      ]
     },
     "metadata": {},
     "output_type": "display_data"
    },
    {
     "data": {
      "text/html": [
       "<pre>recommendations finished on 402000/2088478 queries. users per second: 5979.03</pre>"
      ],
      "text/plain": [
       "recommendations finished on 402000/2088478 queries. users per second: 5979.03"
      ]
     },
     "metadata": {},
     "output_type": "display_data"
    },
    {
     "data": {
      "text/html": [
       "<pre>recommendations finished on 403000/2088478 queries. users per second: 5980.31</pre>"
      ],
      "text/plain": [
       "recommendations finished on 403000/2088478 queries. users per second: 5980.31"
      ]
     },
     "metadata": {},
     "output_type": "display_data"
    },
    {
     "data": {
      "text/html": [
       "<pre>recommendations finished on 404000/2088478 queries. users per second: 5979.62</pre>"
      ],
      "text/plain": [
       "recommendations finished on 404000/2088478 queries. users per second: 5979.62"
      ]
     },
     "metadata": {},
     "output_type": "display_data"
    },
    {
     "data": {
      "text/html": [
       "<pre>recommendations finished on 405000/2088478 queries. users per second: 5980.49</pre>"
      ],
      "text/plain": [
       "recommendations finished on 405000/2088478 queries. users per second: 5980.49"
      ]
     },
     "metadata": {},
     "output_type": "display_data"
    },
    {
     "data": {
      "text/html": [
       "<pre>recommendations finished on 406000/2088478 queries. users per second: 5981.69</pre>"
      ],
      "text/plain": [
       "recommendations finished on 406000/2088478 queries. users per second: 5981.69"
      ]
     },
     "metadata": {},
     "output_type": "display_data"
    },
    {
     "data": {
      "text/html": [
       "<pre>recommendations finished on 407000/2088478 queries. users per second: 5981.68</pre>"
      ],
      "text/plain": [
       "recommendations finished on 407000/2088478 queries. users per second: 5981.68"
      ]
     },
     "metadata": {},
     "output_type": "display_data"
    },
    {
     "data": {
      "text/html": [
       "<pre>recommendations finished on 408000/2088478 queries. users per second: 5982.61</pre>"
      ],
      "text/plain": [
       "recommendations finished on 408000/2088478 queries. users per second: 5982.61"
      ]
     },
     "metadata": {},
     "output_type": "display_data"
    },
    {
     "data": {
      "text/html": [
       "<pre>recommendations finished on 409000/2088478 queries. users per second: 5982.87</pre>"
      ],
      "text/plain": [
       "recommendations finished on 409000/2088478 queries. users per second: 5982.87"
      ]
     },
     "metadata": {},
     "output_type": "display_data"
    },
    {
     "data": {
      "text/html": [
       "<pre>recommendations finished on 410000/2088478 queries. users per second: 5983.66</pre>"
      ],
      "text/plain": [
       "recommendations finished on 410000/2088478 queries. users per second: 5983.66"
      ]
     },
     "metadata": {},
     "output_type": "display_data"
    },
    {
     "data": {
      "text/html": [
       "<pre>recommendations finished on 411000/2088478 queries. users per second: 5982.61</pre>"
      ],
      "text/plain": [
       "recommendations finished on 411000/2088478 queries. users per second: 5982.61"
      ]
     },
     "metadata": {},
     "output_type": "display_data"
    },
    {
     "data": {
      "text/html": [
       "<pre>recommendations finished on 412000/2088478 queries. users per second: 5984.23</pre>"
      ],
      "text/plain": [
       "recommendations finished on 412000/2088478 queries. users per second: 5984.23"
      ]
     },
     "metadata": {},
     "output_type": "display_data"
    },
    {
     "data": {
      "text/html": [
       "<pre>recommendations finished on 413000/2088478 queries. users per second: 5980.44</pre>"
      ],
      "text/plain": [
       "recommendations finished on 413000/2088478 queries. users per second: 5980.44"
      ]
     },
     "metadata": {},
     "output_type": "display_data"
    },
    {
     "data": {
      "text/html": [
       "<pre>recommendations finished on 414000/2088478 queries. users per second: 5979.96</pre>"
      ],
      "text/plain": [
       "recommendations finished on 414000/2088478 queries. users per second: 5979.96"
      ]
     },
     "metadata": {},
     "output_type": "display_data"
    },
    {
     "data": {
      "text/html": [
       "<pre>recommendations finished on 415000/2088478 queries. users per second: 5980.91</pre>"
      ],
      "text/plain": [
       "recommendations finished on 415000/2088478 queries. users per second: 5980.91"
      ]
     },
     "metadata": {},
     "output_type": "display_data"
    },
    {
     "data": {
      "text/html": [
       "<pre>recommendations finished on 416000/2088478 queries. users per second: 5980.88</pre>"
      ],
      "text/plain": [
       "recommendations finished on 416000/2088478 queries. users per second: 5980.88"
      ]
     },
     "metadata": {},
     "output_type": "display_data"
    },
    {
     "data": {
      "text/html": [
       "<pre>recommendations finished on 417000/2088478 queries. users per second: 5981.01</pre>"
      ],
      "text/plain": [
       "recommendations finished on 417000/2088478 queries. users per second: 5981.01"
      ]
     },
     "metadata": {},
     "output_type": "display_data"
    },
    {
     "data": {
      "text/html": [
       "<pre>recommendations finished on 418000/2088478 queries. users per second: 5982.27</pre>"
      ],
      "text/plain": [
       "recommendations finished on 418000/2088478 queries. users per second: 5982.27"
      ]
     },
     "metadata": {},
     "output_type": "display_data"
    },
    {
     "data": {
      "text/html": [
       "<pre>recommendations finished on 419000/2088478 queries. users per second: 5982.93</pre>"
      ],
      "text/plain": [
       "recommendations finished on 419000/2088478 queries. users per second: 5982.93"
      ]
     },
     "metadata": {},
     "output_type": "display_data"
    },
    {
     "data": {
      "text/html": [
       "<pre>recommendations finished on 420000/2088478 queries. users per second: 5982.37</pre>"
      ],
      "text/plain": [
       "recommendations finished on 420000/2088478 queries. users per second: 5982.37"
      ]
     },
     "metadata": {},
     "output_type": "display_data"
    },
    {
     "data": {
      "text/html": [
       "<pre>recommendations finished on 421000/2088478 queries. users per second: 5979.41</pre>"
      ],
      "text/plain": [
       "recommendations finished on 421000/2088478 queries. users per second: 5979.41"
      ]
     },
     "metadata": {},
     "output_type": "display_data"
    },
    {
     "data": {
      "text/html": [
       "<pre>recommendations finished on 422000/2088478 queries. users per second: 5978.49</pre>"
      ],
      "text/plain": [
       "recommendations finished on 422000/2088478 queries. users per second: 5978.49"
      ]
     },
     "metadata": {},
     "output_type": "display_data"
    },
    {
     "data": {
      "text/html": [
       "<pre>recommendations finished on 423000/2088478 queries. users per second: 5977.49</pre>"
      ],
      "text/plain": [
       "recommendations finished on 423000/2088478 queries. users per second: 5977.49"
      ]
     },
     "metadata": {},
     "output_type": "display_data"
    },
    {
     "data": {
      "text/html": [
       "<pre>recommendations finished on 424000/2088478 queries. users per second: 5975.48</pre>"
      ],
      "text/plain": [
       "recommendations finished on 424000/2088478 queries. users per second: 5975.48"
      ]
     },
     "metadata": {},
     "output_type": "display_data"
    },
    {
     "data": {
      "text/html": [
       "<pre>recommendations finished on 425000/2088478 queries. users per second: 5970.22</pre>"
      ],
      "text/plain": [
       "recommendations finished on 425000/2088478 queries. users per second: 5970.22"
      ]
     },
     "metadata": {},
     "output_type": "display_data"
    },
    {
     "data": {
      "text/html": [
       "<pre>recommendations finished on 426000/2088478 queries. users per second: 5967.94</pre>"
      ],
      "text/plain": [
       "recommendations finished on 426000/2088478 queries. users per second: 5967.94"
      ]
     },
     "metadata": {},
     "output_type": "display_data"
    },
    {
     "data": {
      "text/html": [
       "<pre>recommendations finished on 427000/2088478 queries. users per second: 5966.74</pre>"
      ],
      "text/plain": [
       "recommendations finished on 427000/2088478 queries. users per second: 5966.74"
      ]
     },
     "metadata": {},
     "output_type": "display_data"
    },
    {
     "data": {
      "text/html": [
       "<pre>recommendations finished on 428000/2088478 queries. users per second: 5963.35</pre>"
      ],
      "text/plain": [
       "recommendations finished on 428000/2088478 queries. users per second: 5963.35"
      ]
     },
     "metadata": {},
     "output_type": "display_data"
    },
    {
     "data": {
      "text/html": [
       "<pre>recommendations finished on 429000/2088478 queries. users per second: 5962.31</pre>"
      ],
      "text/plain": [
       "recommendations finished on 429000/2088478 queries. users per second: 5962.31"
      ]
     },
     "metadata": {},
     "output_type": "display_data"
    },
    {
     "data": {
      "text/html": [
       "<pre>recommendations finished on 430000/2088478 queries. users per second: 5960.45</pre>"
      ],
      "text/plain": [
       "recommendations finished on 430000/2088478 queries. users per second: 5960.45"
      ]
     },
     "metadata": {},
     "output_type": "display_data"
    },
    {
     "data": {
      "text/html": [
       "<pre>recommendations finished on 431000/2088478 queries. users per second: 5956.23</pre>"
      ],
      "text/plain": [
       "recommendations finished on 431000/2088478 queries. users per second: 5956.23"
      ]
     },
     "metadata": {},
     "output_type": "display_data"
    },
    {
     "data": {
      "text/html": [
       "<pre>recommendations finished on 432000/2088478 queries. users per second: 5953.93</pre>"
      ],
      "text/plain": [
       "recommendations finished on 432000/2088478 queries. users per second: 5953.93"
      ]
     },
     "metadata": {},
     "output_type": "display_data"
    },
    {
     "data": {
      "text/html": [
       "<pre>recommendations finished on 433000/2088478 queries. users per second: 5955.93</pre>"
      ],
      "text/plain": [
       "recommendations finished on 433000/2088478 queries. users per second: 5955.93"
      ]
     },
     "metadata": {},
     "output_type": "display_data"
    },
    {
     "data": {
      "text/html": [
       "<pre>recommendations finished on 434000/2088478 queries. users per second: 5957.77</pre>"
      ],
      "text/plain": [
       "recommendations finished on 434000/2088478 queries. users per second: 5957.77"
      ]
     },
     "metadata": {},
     "output_type": "display_data"
    },
    {
     "data": {
      "text/html": [
       "<pre>recommendations finished on 435000/2088478 queries. users per second: 5957.16</pre>"
      ],
      "text/plain": [
       "recommendations finished on 435000/2088478 queries. users per second: 5957.16"
      ]
     },
     "metadata": {},
     "output_type": "display_data"
    },
    {
     "data": {
      "text/html": [
       "<pre>recommendations finished on 436000/2088478 queries. users per second: 5952.93</pre>"
      ],
      "text/plain": [
       "recommendations finished on 436000/2088478 queries. users per second: 5952.93"
      ]
     },
     "metadata": {},
     "output_type": "display_data"
    },
    {
     "data": {
      "text/html": [
       "<pre>recommendations finished on 437000/2088478 queries. users per second: 5954.2</pre>"
      ],
      "text/plain": [
       "recommendations finished on 437000/2088478 queries. users per second: 5954.2"
      ]
     },
     "metadata": {},
     "output_type": "display_data"
    },
    {
     "data": {
      "text/html": [
       "<pre>recommendations finished on 438000/2088478 queries. users per second: 5952.99</pre>"
      ],
      "text/plain": [
       "recommendations finished on 438000/2088478 queries. users per second: 5952.99"
      ]
     },
     "metadata": {},
     "output_type": "display_data"
    },
    {
     "data": {
      "text/html": [
       "<pre>recommendations finished on 439000/2088478 queries. users per second: 5953.16</pre>"
      ],
      "text/plain": [
       "recommendations finished on 439000/2088478 queries. users per second: 5953.16"
      ]
     },
     "metadata": {},
     "output_type": "display_data"
    },
    {
     "data": {
      "text/html": [
       "<pre>recommendations finished on 440000/2088478 queries. users per second: 5953.19</pre>"
      ],
      "text/plain": [
       "recommendations finished on 440000/2088478 queries. users per second: 5953.19"
      ]
     },
     "metadata": {},
     "output_type": "display_data"
    },
    {
     "data": {
      "text/html": [
       "<pre>recommendations finished on 441000/2088478 queries. users per second: 5953.43</pre>"
      ],
      "text/plain": [
       "recommendations finished on 441000/2088478 queries. users per second: 5953.43"
      ]
     },
     "metadata": {},
     "output_type": "display_data"
    },
    {
     "data": {
      "text/html": [
       "<pre>recommendations finished on 442000/2088478 queries. users per second: 5951.67</pre>"
      ],
      "text/plain": [
       "recommendations finished on 442000/2088478 queries. users per second: 5951.67"
      ]
     },
     "metadata": {},
     "output_type": "display_data"
    },
    {
     "data": {
      "text/html": [
       "<pre>recommendations finished on 443000/2088478 queries. users per second: 5951.75</pre>"
      ],
      "text/plain": [
       "recommendations finished on 443000/2088478 queries. users per second: 5951.75"
      ]
     },
     "metadata": {},
     "output_type": "display_data"
    },
    {
     "data": {
      "text/html": [
       "<pre>recommendations finished on 444000/2088478 queries. users per second: 5951.17</pre>"
      ],
      "text/plain": [
       "recommendations finished on 444000/2088478 queries. users per second: 5951.17"
      ]
     },
     "metadata": {},
     "output_type": "display_data"
    },
    {
     "data": {
      "text/html": [
       "<pre>recommendations finished on 445000/2088478 queries. users per second: 5946.62</pre>"
      ],
      "text/plain": [
       "recommendations finished on 445000/2088478 queries. users per second: 5946.62"
      ]
     },
     "metadata": {},
     "output_type": "display_data"
    },
    {
     "data": {
      "text/html": [
       "<pre>recommendations finished on 446000/2088478 queries. users per second: 5946.66</pre>"
      ],
      "text/plain": [
       "recommendations finished on 446000/2088478 queries. users per second: 5946.66"
      ]
     },
     "metadata": {},
     "output_type": "display_data"
    },
    {
     "data": {
      "text/html": [
       "<pre>recommendations finished on 447000/2088478 queries. users per second: 5944.31</pre>"
      ],
      "text/plain": [
       "recommendations finished on 447000/2088478 queries. users per second: 5944.31"
      ]
     },
     "metadata": {},
     "output_type": "display_data"
    },
    {
     "data": {
      "text/html": [
       "<pre>recommendations finished on 448000/2088478 queries. users per second: 5939.62</pre>"
      ],
      "text/plain": [
       "recommendations finished on 448000/2088478 queries. users per second: 5939.62"
      ]
     },
     "metadata": {},
     "output_type": "display_data"
    },
    {
     "data": {
      "text/html": [
       "<pre>recommendations finished on 449000/2088478 queries. users per second: 5931.25</pre>"
      ],
      "text/plain": [
       "recommendations finished on 449000/2088478 queries. users per second: 5931.25"
      ]
     },
     "metadata": {},
     "output_type": "display_data"
    },
    {
     "data": {
      "text/html": [
       "<pre>recommendations finished on 450000/2088478 queries. users per second: 5930.92</pre>"
      ],
      "text/plain": [
       "recommendations finished on 450000/2088478 queries. users per second: 5930.92"
      ]
     },
     "metadata": {},
     "output_type": "display_data"
    },
    {
     "data": {
      "text/html": [
       "<pre>recommendations finished on 451000/2088478 queries. users per second: 5930.64</pre>"
      ],
      "text/plain": [
       "recommendations finished on 451000/2088478 queries. users per second: 5930.64"
      ]
     },
     "metadata": {},
     "output_type": "display_data"
    },
    {
     "data": {
      "text/html": [
       "<pre>recommendations finished on 452000/2088478 queries. users per second: 5927.53</pre>"
      ],
      "text/plain": [
       "recommendations finished on 452000/2088478 queries. users per second: 5927.53"
      ]
     },
     "metadata": {},
     "output_type": "display_data"
    },
    {
     "data": {
      "text/html": [
       "<pre>recommendations finished on 453000/2088478 queries. users per second: 5928.33</pre>"
      ],
      "text/plain": [
       "recommendations finished on 453000/2088478 queries. users per second: 5928.33"
      ]
     },
     "metadata": {},
     "output_type": "display_data"
    },
    {
     "data": {
      "text/html": [
       "<pre>recommendations finished on 454000/2088478 queries. users per second: 5929.19</pre>"
      ],
      "text/plain": [
       "recommendations finished on 454000/2088478 queries. users per second: 5929.19"
      ]
     },
     "metadata": {},
     "output_type": "display_data"
    },
    {
     "data": {
      "text/html": [
       "<pre>recommendations finished on 455000/2088478 queries. users per second: 5927.03</pre>"
      ],
      "text/plain": [
       "recommendations finished on 455000/2088478 queries. users per second: 5927.03"
      ]
     },
     "metadata": {},
     "output_type": "display_data"
    },
    {
     "data": {
      "text/html": [
       "<pre>recommendations finished on 456000/2088478 queries. users per second: 5926.48</pre>"
      ],
      "text/plain": [
       "recommendations finished on 456000/2088478 queries. users per second: 5926.48"
      ]
     },
     "metadata": {},
     "output_type": "display_data"
    },
    {
     "data": {
      "text/html": [
       "<pre>recommendations finished on 457000/2088478 queries. users per second: 5921.04</pre>"
      ],
      "text/plain": [
       "recommendations finished on 457000/2088478 queries. users per second: 5921.04"
      ]
     },
     "metadata": {},
     "output_type": "display_data"
    },
    {
     "data": {
      "text/html": [
       "<pre>recommendations finished on 458000/2088478 queries. users per second: 5921.35</pre>"
      ],
      "text/plain": [
       "recommendations finished on 458000/2088478 queries. users per second: 5921.35"
      ]
     },
     "metadata": {},
     "output_type": "display_data"
    },
    {
     "data": {
      "text/html": [
       "<pre>recommendations finished on 459000/2088478 queries. users per second: 5918.6</pre>"
      ],
      "text/plain": [
       "recommendations finished on 459000/2088478 queries. users per second: 5918.6"
      ]
     },
     "metadata": {},
     "output_type": "display_data"
    },
    {
     "data": {
      "text/html": [
       "<pre>recommendations finished on 460000/2088478 queries. users per second: 5915.28</pre>"
      ],
      "text/plain": [
       "recommendations finished on 460000/2088478 queries. users per second: 5915.28"
      ]
     },
     "metadata": {},
     "output_type": "display_data"
    },
    {
     "data": {
      "text/html": [
       "<pre>recommendations finished on 461000/2088478 queries. users per second: 5910.98</pre>"
      ],
      "text/plain": [
       "recommendations finished on 461000/2088478 queries. users per second: 5910.98"
      ]
     },
     "metadata": {},
     "output_type": "display_data"
    },
    {
     "data": {
      "text/html": [
       "<pre>recommendations finished on 462000/2088478 queries. users per second: 5911.06</pre>"
      ],
      "text/plain": [
       "recommendations finished on 462000/2088478 queries. users per second: 5911.06"
      ]
     },
     "metadata": {},
     "output_type": "display_data"
    },
    {
     "data": {
      "text/html": [
       "<pre>recommendations finished on 463000/2088478 queries. users per second: 5912.28</pre>"
      ],
      "text/plain": [
       "recommendations finished on 463000/2088478 queries. users per second: 5912.28"
      ]
     },
     "metadata": {},
     "output_type": "display_data"
    },
    {
     "data": {
      "text/html": [
       "<pre>recommendations finished on 464000/2088478 queries. users per second: 5912.95</pre>"
      ],
      "text/plain": [
       "recommendations finished on 464000/2088478 queries. users per second: 5912.95"
      ]
     },
     "metadata": {},
     "output_type": "display_data"
    },
    {
     "data": {
      "text/html": [
       "<pre>recommendations finished on 465000/2088478 queries. users per second: 5910.28</pre>"
      ],
      "text/plain": [
       "recommendations finished on 465000/2088478 queries. users per second: 5910.28"
      ]
     },
     "metadata": {},
     "output_type": "display_data"
    },
    {
     "data": {
      "text/html": [
       "<pre>recommendations finished on 466000/2088478 queries. users per second: 5911.32</pre>"
      ],
      "text/plain": [
       "recommendations finished on 466000/2088478 queries. users per second: 5911.32"
      ]
     },
     "metadata": {},
     "output_type": "display_data"
    },
    {
     "data": {
      "text/html": [
       "<pre>recommendations finished on 467000/2088478 queries. users per second: 5913.02</pre>"
      ],
      "text/plain": [
       "recommendations finished on 467000/2088478 queries. users per second: 5913.02"
      ]
     },
     "metadata": {},
     "output_type": "display_data"
    },
    {
     "data": {
      "text/html": [
       "<pre>recommendations finished on 468000/2088478 queries. users per second: 5914.27</pre>"
      ],
      "text/plain": [
       "recommendations finished on 468000/2088478 queries. users per second: 5914.27"
      ]
     },
     "metadata": {},
     "output_type": "display_data"
    },
    {
     "data": {
      "text/html": [
       "<pre>recommendations finished on 469000/2088478 queries. users per second: 5910.71</pre>"
      ],
      "text/plain": [
       "recommendations finished on 469000/2088478 queries. users per second: 5910.71"
      ]
     },
     "metadata": {},
     "output_type": "display_data"
    },
    {
     "data": {
      "text/html": [
       "<pre>recommendations finished on 470000/2088478 queries. users per second: 5909.88</pre>"
      ],
      "text/plain": [
       "recommendations finished on 470000/2088478 queries. users per second: 5909.88"
      ]
     },
     "metadata": {},
     "output_type": "display_data"
    },
    {
     "data": {
      "text/html": [
       "<pre>recommendations finished on 471000/2088478 queries. users per second: 5909.13</pre>"
      ],
      "text/plain": [
       "recommendations finished on 471000/2088478 queries. users per second: 5909.13"
      ]
     },
     "metadata": {},
     "output_type": "display_data"
    },
    {
     "data": {
      "text/html": [
       "<pre>recommendations finished on 472000/2088478 queries. users per second: 5907.87</pre>"
      ],
      "text/plain": [
       "recommendations finished on 472000/2088478 queries. users per second: 5907.87"
      ]
     },
     "metadata": {},
     "output_type": "display_data"
    },
    {
     "data": {
      "text/html": [
       "<pre>recommendations finished on 473000/2088478 queries. users per second: 5902.2</pre>"
      ],
      "text/plain": [
       "recommendations finished on 473000/2088478 queries. users per second: 5902.2"
      ]
     },
     "metadata": {},
     "output_type": "display_data"
    },
    {
     "data": {
      "text/html": [
       "<pre>recommendations finished on 474000/2088478 queries. users per second: 5902.74</pre>"
      ],
      "text/plain": [
       "recommendations finished on 474000/2088478 queries. users per second: 5902.74"
      ]
     },
     "metadata": {},
     "output_type": "display_data"
    },
    {
     "data": {
      "text/html": [
       "<pre>recommendations finished on 475000/2088478 queries. users per second: 5896.13</pre>"
      ],
      "text/plain": [
       "recommendations finished on 475000/2088478 queries. users per second: 5896.13"
      ]
     },
     "metadata": {},
     "output_type": "display_data"
    },
    {
     "data": {
      "text/html": [
       "<pre>recommendations finished on 476000/2088478 queries. users per second: 5892.86</pre>"
      ],
      "text/plain": [
       "recommendations finished on 476000/2088478 queries. users per second: 5892.86"
      ]
     },
     "metadata": {},
     "output_type": "display_data"
    },
    {
     "data": {
      "text/html": [
       "<pre>recommendations finished on 477000/2088478 queries. users per second: 5892.17</pre>"
      ],
      "text/plain": [
       "recommendations finished on 477000/2088478 queries. users per second: 5892.17"
      ]
     },
     "metadata": {},
     "output_type": "display_data"
    },
    {
     "data": {
      "text/html": [
       "<pre>recommendations finished on 478000/2088478 queries. users per second: 5892.23</pre>"
      ],
      "text/plain": [
       "recommendations finished on 478000/2088478 queries. users per second: 5892.23"
      ]
     },
     "metadata": {},
     "output_type": "display_data"
    },
    {
     "data": {
      "text/html": [
       "<pre>recommendations finished on 479000/2088478 queries. users per second: 5893.39</pre>"
      ],
      "text/plain": [
       "recommendations finished on 479000/2088478 queries. users per second: 5893.39"
      ]
     },
     "metadata": {},
     "output_type": "display_data"
    },
    {
     "data": {
      "text/html": [
       "<pre>recommendations finished on 480000/2088478 queries. users per second: 5894.19</pre>"
      ],
      "text/plain": [
       "recommendations finished on 480000/2088478 queries. users per second: 5894.19"
      ]
     },
     "metadata": {},
     "output_type": "display_data"
    },
    {
     "data": {
      "text/html": [
       "<pre>recommendations finished on 481000/2088478 queries. users per second: 5896.3</pre>"
      ],
      "text/plain": [
       "recommendations finished on 481000/2088478 queries. users per second: 5896.3"
      ]
     },
     "metadata": {},
     "output_type": "display_data"
    },
    {
     "data": {
      "text/html": [
       "<pre>recommendations finished on 482000/2088478 queries. users per second: 5896.6</pre>"
      ],
      "text/plain": [
       "recommendations finished on 482000/2088478 queries. users per second: 5896.6"
      ]
     },
     "metadata": {},
     "output_type": "display_data"
    },
    {
     "data": {
      "text/html": [
       "<pre>recommendations finished on 483000/2088478 queries. users per second: 5898.14</pre>"
      ],
      "text/plain": [
       "recommendations finished on 483000/2088478 queries. users per second: 5898.14"
      ]
     },
     "metadata": {},
     "output_type": "display_data"
    },
    {
     "data": {
      "text/html": [
       "<pre>recommendations finished on 484000/2088478 queries. users per second: 5900.23</pre>"
      ],
      "text/plain": [
       "recommendations finished on 484000/2088478 queries. users per second: 5900.23"
      ]
     },
     "metadata": {},
     "output_type": "display_data"
    },
    {
     "data": {
      "text/html": [
       "<pre>recommendations finished on 485000/2088478 queries. users per second: 5900.81</pre>"
      ],
      "text/plain": [
       "recommendations finished on 485000/2088478 queries. users per second: 5900.81"
      ]
     },
     "metadata": {},
     "output_type": "display_data"
    },
    {
     "data": {
      "text/html": [
       "<pre>recommendations finished on 486000/2088478 queries. users per second: 5901.57</pre>"
      ],
      "text/plain": [
       "recommendations finished on 486000/2088478 queries. users per second: 5901.57"
      ]
     },
     "metadata": {},
     "output_type": "display_data"
    },
    {
     "data": {
      "text/html": [
       "<pre>recommendations finished on 487000/2088478 queries. users per second: 5903.01</pre>"
      ],
      "text/plain": [
       "recommendations finished on 487000/2088478 queries. users per second: 5903.01"
      ]
     },
     "metadata": {},
     "output_type": "display_data"
    },
    {
     "data": {
      "text/html": [
       "<pre>recommendations finished on 488000/2088478 queries. users per second: 5905.39</pre>"
      ],
      "text/plain": [
       "recommendations finished on 488000/2088478 queries. users per second: 5905.39"
      ]
     },
     "metadata": {},
     "output_type": "display_data"
    },
    {
     "data": {
      "text/html": [
       "<pre>recommendations finished on 489000/2088478 queries. users per second: 5907.64</pre>"
      ],
      "text/plain": [
       "recommendations finished on 489000/2088478 queries. users per second: 5907.64"
      ]
     },
     "metadata": {},
     "output_type": "display_data"
    },
    {
     "data": {
      "text/html": [
       "<pre>recommendations finished on 490000/2088478 queries. users per second: 5910.2</pre>"
      ],
      "text/plain": [
       "recommendations finished on 490000/2088478 queries. users per second: 5910.2"
      ]
     },
     "metadata": {},
     "output_type": "display_data"
    },
    {
     "data": {
      "text/html": [
       "<pre>recommendations finished on 491000/2088478 queries. users per second: 5912.62</pre>"
      ],
      "text/plain": [
       "recommendations finished on 491000/2088478 queries. users per second: 5912.62"
      ]
     },
     "metadata": {},
     "output_type": "display_data"
    },
    {
     "data": {
      "text/html": [
       "<pre>recommendations finished on 492000/2088478 queries. users per second: 5914.7</pre>"
      ],
      "text/plain": [
       "recommendations finished on 492000/2088478 queries. users per second: 5914.7"
      ]
     },
     "metadata": {},
     "output_type": "display_data"
    },
    {
     "data": {
      "text/html": [
       "<pre>recommendations finished on 493000/2088478 queries. users per second: 5916.55</pre>"
      ],
      "text/plain": [
       "recommendations finished on 493000/2088478 queries. users per second: 5916.55"
      ]
     },
     "metadata": {},
     "output_type": "display_data"
    },
    {
     "data": {
      "text/html": [
       "<pre>recommendations finished on 494000/2088478 queries. users per second: 5912.26</pre>"
      ],
      "text/plain": [
       "recommendations finished on 494000/2088478 queries. users per second: 5912.26"
      ]
     },
     "metadata": {},
     "output_type": "display_data"
    },
    {
     "data": {
      "text/html": [
       "<pre>recommendations finished on 495000/2088478 queries. users per second: 5913.41</pre>"
      ],
      "text/plain": [
       "recommendations finished on 495000/2088478 queries. users per second: 5913.41"
      ]
     },
     "metadata": {},
     "output_type": "display_data"
    },
    {
     "data": {
      "text/html": [
       "<pre>recommendations finished on 496000/2088478 queries. users per second: 5915.21</pre>"
      ],
      "text/plain": [
       "recommendations finished on 496000/2088478 queries. users per second: 5915.21"
      ]
     },
     "metadata": {},
     "output_type": "display_data"
    },
    {
     "data": {
      "text/html": [
       "<pre>recommendations finished on 497000/2088478 queries. users per second: 5911.75</pre>"
      ],
      "text/plain": [
       "recommendations finished on 497000/2088478 queries. users per second: 5911.75"
      ]
     },
     "metadata": {},
     "output_type": "display_data"
    },
    {
     "data": {
      "text/html": [
       "<pre>recommendations finished on 498000/2088478 queries. users per second: 5911.57</pre>"
      ],
      "text/plain": [
       "recommendations finished on 498000/2088478 queries. users per second: 5911.57"
      ]
     },
     "metadata": {},
     "output_type": "display_data"
    },
    {
     "data": {
      "text/html": [
       "<pre>recommendations finished on 499000/2088478 queries. users per second: 5913.29</pre>"
      ],
      "text/plain": [
       "recommendations finished on 499000/2088478 queries. users per second: 5913.29"
      ]
     },
     "metadata": {},
     "output_type": "display_data"
    },
    {
     "data": {
      "text/html": [
       "<pre>recommendations finished on 500000/2088478 queries. users per second: 5915.18</pre>"
      ],
      "text/plain": [
       "recommendations finished on 500000/2088478 queries. users per second: 5915.18"
      ]
     },
     "metadata": {},
     "output_type": "display_data"
    },
    {
     "data": {
      "text/html": [
       "<pre>recommendations finished on 501000/2088478 queries. users per second: 5917.12</pre>"
      ],
      "text/plain": [
       "recommendations finished on 501000/2088478 queries. users per second: 5917.12"
      ]
     },
     "metadata": {},
     "output_type": "display_data"
    },
    {
     "data": {
      "text/html": [
       "<pre>recommendations finished on 502000/2088478 queries. users per second: 5918.43</pre>"
      ],
      "text/plain": [
       "recommendations finished on 502000/2088478 queries. users per second: 5918.43"
      ]
     },
     "metadata": {},
     "output_type": "display_data"
    },
    {
     "data": {
      "text/html": [
       "<pre>recommendations finished on 503000/2088478 queries. users per second: 5918.58</pre>"
      ],
      "text/plain": [
       "recommendations finished on 503000/2088478 queries. users per second: 5918.58"
      ]
     },
     "metadata": {},
     "output_type": "display_data"
    },
    {
     "data": {
      "text/html": [
       "<pre>recommendations finished on 504000/2088478 queries. users per second: 5916.11</pre>"
      ],
      "text/plain": [
       "recommendations finished on 504000/2088478 queries. users per second: 5916.11"
      ]
     },
     "metadata": {},
     "output_type": "display_data"
    },
    {
     "data": {
      "text/html": [
       "<pre>recommendations finished on 505000/2088478 queries. users per second: 5915.83</pre>"
      ],
      "text/plain": [
       "recommendations finished on 505000/2088478 queries. users per second: 5915.83"
      ]
     },
     "metadata": {},
     "output_type": "display_data"
    },
    {
     "data": {
      "text/html": [
       "<pre>recommendations finished on 506000/2088478 queries. users per second: 5913.83</pre>"
      ],
      "text/plain": [
       "recommendations finished on 506000/2088478 queries. users per second: 5913.83"
      ]
     },
     "metadata": {},
     "output_type": "display_data"
    },
    {
     "data": {
      "text/html": [
       "<pre>recommendations finished on 507000/2088478 queries. users per second: 5911.87</pre>"
      ],
      "text/plain": [
       "recommendations finished on 507000/2088478 queries. users per second: 5911.87"
      ]
     },
     "metadata": {},
     "output_type": "display_data"
    },
    {
     "data": {
      "text/html": [
       "<pre>recommendations finished on 508000/2088478 queries. users per second: 5911.09</pre>"
      ],
      "text/plain": [
       "recommendations finished on 508000/2088478 queries. users per second: 5911.09"
      ]
     },
     "metadata": {},
     "output_type": "display_data"
    },
    {
     "data": {
      "text/html": [
       "<pre>recommendations finished on 509000/2088478 queries. users per second: 5910.71</pre>"
      ],
      "text/plain": [
       "recommendations finished on 509000/2088478 queries. users per second: 5910.71"
      ]
     },
     "metadata": {},
     "output_type": "display_data"
    },
    {
     "data": {
      "text/html": [
       "<pre>recommendations finished on 510000/2088478 queries. users per second: 5911.3</pre>"
      ],
      "text/plain": [
       "recommendations finished on 510000/2088478 queries. users per second: 5911.3"
      ]
     },
     "metadata": {},
     "output_type": "display_data"
    },
    {
     "data": {
      "text/html": [
       "<pre>recommendations finished on 511000/2088478 queries. users per second: 5911.35</pre>"
      ],
      "text/plain": [
       "recommendations finished on 511000/2088478 queries. users per second: 5911.35"
      ]
     },
     "metadata": {},
     "output_type": "display_data"
    },
    {
     "data": {
      "text/html": [
       "<pre>recommendations finished on 512000/2088478 queries. users per second: 5913.25</pre>"
      ],
      "text/plain": [
       "recommendations finished on 512000/2088478 queries. users per second: 5913.25"
      ]
     },
     "metadata": {},
     "output_type": "display_data"
    },
    {
     "data": {
      "text/html": [
       "<pre>recommendations finished on 513000/2088478 queries. users per second: 5914.55</pre>"
      ],
      "text/plain": [
       "recommendations finished on 513000/2088478 queries. users per second: 5914.55"
      ]
     },
     "metadata": {},
     "output_type": "display_data"
    },
    {
     "data": {
      "text/html": [
       "<pre>recommendations finished on 514000/2088478 queries. users per second: 5916.6</pre>"
      ],
      "text/plain": [
       "recommendations finished on 514000/2088478 queries. users per second: 5916.6"
      ]
     },
     "metadata": {},
     "output_type": "display_data"
    },
    {
     "data": {
      "text/html": [
       "<pre>recommendations finished on 515000/2088478 queries. users per second: 5916.46</pre>"
      ],
      "text/plain": [
       "recommendations finished on 515000/2088478 queries. users per second: 5916.46"
      ]
     },
     "metadata": {},
     "output_type": "display_data"
    },
    {
     "data": {
      "text/html": [
       "<pre>recommendations finished on 516000/2088478 queries. users per second: 5916.04</pre>"
      ],
      "text/plain": [
       "recommendations finished on 516000/2088478 queries. users per second: 5916.04"
      ]
     },
     "metadata": {},
     "output_type": "display_data"
    },
    {
     "data": {
      "text/html": [
       "<pre>recommendations finished on 517000/2088478 queries. users per second: 5918.25</pre>"
      ],
      "text/plain": [
       "recommendations finished on 517000/2088478 queries. users per second: 5918.25"
      ]
     },
     "metadata": {},
     "output_type": "display_data"
    },
    {
     "data": {
      "text/html": [
       "<pre>recommendations finished on 518000/2088478 queries. users per second: 5918.35</pre>"
      ],
      "text/plain": [
       "recommendations finished on 518000/2088478 queries. users per second: 5918.35"
      ]
     },
     "metadata": {},
     "output_type": "display_data"
    },
    {
     "data": {
      "text/html": [
       "<pre>recommendations finished on 519000/2088478 queries. users per second: 5919.31</pre>"
      ],
      "text/plain": [
       "recommendations finished on 519000/2088478 queries. users per second: 5919.31"
      ]
     },
     "metadata": {},
     "output_type": "display_data"
    },
    {
     "data": {
      "text/html": [
       "<pre>recommendations finished on 520000/2088478 queries. users per second: 5918.91</pre>"
      ],
      "text/plain": [
       "recommendations finished on 520000/2088478 queries. users per second: 5918.91"
      ]
     },
     "metadata": {},
     "output_type": "display_data"
    },
    {
     "data": {
      "text/html": [
       "<pre>recommendations finished on 521000/2088478 queries. users per second: 5919.89</pre>"
      ],
      "text/plain": [
       "recommendations finished on 521000/2088478 queries. users per second: 5919.89"
      ]
     },
     "metadata": {},
     "output_type": "display_data"
    },
    {
     "data": {
      "text/html": [
       "<pre>recommendations finished on 522000/2088478 queries. users per second: 5920.77</pre>"
      ],
      "text/plain": [
       "recommendations finished on 522000/2088478 queries. users per second: 5920.77"
      ]
     },
     "metadata": {},
     "output_type": "display_data"
    },
    {
     "data": {
      "text/html": [
       "<pre>recommendations finished on 523000/2088478 queries. users per second: 5918.87</pre>"
      ],
      "text/plain": [
       "recommendations finished on 523000/2088478 queries. users per second: 5918.87"
      ]
     },
     "metadata": {},
     "output_type": "display_data"
    },
    {
     "data": {
      "text/html": [
       "<pre>recommendations finished on 524000/2088478 queries. users per second: 5917.07</pre>"
      ],
      "text/plain": [
       "recommendations finished on 524000/2088478 queries. users per second: 5917.07"
      ]
     },
     "metadata": {},
     "output_type": "display_data"
    },
    {
     "data": {
      "text/html": [
       "<pre>recommendations finished on 525000/2088478 queries. users per second: 5918.34</pre>"
      ],
      "text/plain": [
       "recommendations finished on 525000/2088478 queries. users per second: 5918.34"
      ]
     },
     "metadata": {},
     "output_type": "display_data"
    },
    {
     "data": {
      "text/html": [
       "<pre>recommendations finished on 526000/2088478 queries. users per second: 5920.19</pre>"
      ],
      "text/plain": [
       "recommendations finished on 526000/2088478 queries. users per second: 5920.19"
      ]
     },
     "metadata": {},
     "output_type": "display_data"
    },
    {
     "data": {
      "text/html": [
       "<pre>recommendations finished on 527000/2088478 queries. users per second: 5922.11</pre>"
      ],
      "text/plain": [
       "recommendations finished on 527000/2088478 queries. users per second: 5922.11"
      ]
     },
     "metadata": {},
     "output_type": "display_data"
    },
    {
     "data": {
      "text/html": [
       "<pre>recommendations finished on 528000/2088478 queries. users per second: 5924.03</pre>"
      ],
      "text/plain": [
       "recommendations finished on 528000/2088478 queries. users per second: 5924.03"
      ]
     },
     "metadata": {},
     "output_type": "display_data"
    },
    {
     "data": {
      "text/html": [
       "<pre>recommendations finished on 529000/2088478 queries. users per second: 5926.22</pre>"
      ],
      "text/plain": [
       "recommendations finished on 529000/2088478 queries. users per second: 5926.22"
      ]
     },
     "metadata": {},
     "output_type": "display_data"
    },
    {
     "data": {
      "text/html": [
       "<pre>recommendations finished on 530000/2088478 queries. users per second: 5928.34</pre>"
      ],
      "text/plain": [
       "recommendations finished on 530000/2088478 queries. users per second: 5928.34"
      ]
     },
     "metadata": {},
     "output_type": "display_data"
    },
    {
     "data": {
      "text/html": [
       "<pre>recommendations finished on 531000/2088478 queries. users per second: 5930.02</pre>"
      ],
      "text/plain": [
       "recommendations finished on 531000/2088478 queries. users per second: 5930.02"
      ]
     },
     "metadata": {},
     "output_type": "display_data"
    },
    {
     "data": {
      "text/html": [
       "<pre>recommendations finished on 532000/2088478 queries. users per second: 5931.28</pre>"
      ],
      "text/plain": [
       "recommendations finished on 532000/2088478 queries. users per second: 5931.28"
      ]
     },
     "metadata": {},
     "output_type": "display_data"
    },
    {
     "data": {
      "text/html": [
       "<pre>recommendations finished on 533000/2088478 queries. users per second: 5931.56</pre>"
      ],
      "text/plain": [
       "recommendations finished on 533000/2088478 queries. users per second: 5931.56"
      ]
     },
     "metadata": {},
     "output_type": "display_data"
    },
    {
     "data": {
      "text/html": [
       "<pre>recommendations finished on 534000/2088478 queries. users per second: 5933.57</pre>"
      ],
      "text/plain": [
       "recommendations finished on 534000/2088478 queries. users per second: 5933.57"
      ]
     },
     "metadata": {},
     "output_type": "display_data"
    },
    {
     "data": {
      "text/html": [
       "<pre>recommendations finished on 535000/2088478 queries. users per second: 5935.04</pre>"
      ],
      "text/plain": [
       "recommendations finished on 535000/2088478 queries. users per second: 5935.04"
      ]
     },
     "metadata": {},
     "output_type": "display_data"
    },
    {
     "data": {
      "text/html": [
       "<pre>recommendations finished on 536000/2088478 queries. users per second: 5935.48</pre>"
      ],
      "text/plain": [
       "recommendations finished on 536000/2088478 queries. users per second: 5935.48"
      ]
     },
     "metadata": {},
     "output_type": "display_data"
    },
    {
     "data": {
      "text/html": [
       "<pre>recommendations finished on 537000/2088478 queries. users per second: 5937.02</pre>"
      ],
      "text/plain": [
       "recommendations finished on 537000/2088478 queries. users per second: 5937.02"
      ]
     },
     "metadata": {},
     "output_type": "display_data"
    },
    {
     "data": {
      "text/html": [
       "<pre>recommendations finished on 538000/2088478 queries. users per second: 5938.92</pre>"
      ],
      "text/plain": [
       "recommendations finished on 538000/2088478 queries. users per second: 5938.92"
      ]
     },
     "metadata": {},
     "output_type": "display_data"
    },
    {
     "data": {
      "text/html": [
       "<pre>recommendations finished on 539000/2088478 queries. users per second: 5937.16</pre>"
      ],
      "text/plain": [
       "recommendations finished on 539000/2088478 queries. users per second: 5937.16"
      ]
     },
     "metadata": {},
     "output_type": "display_data"
    },
    {
     "data": {
      "text/html": [
       "<pre>recommendations finished on 540000/2088478 queries. users per second: 5937.55</pre>"
      ],
      "text/plain": [
       "recommendations finished on 540000/2088478 queries. users per second: 5937.55"
      ]
     },
     "metadata": {},
     "output_type": "display_data"
    },
    {
     "data": {
      "text/html": [
       "<pre>recommendations finished on 541000/2088478 queries. users per second: 5939.18</pre>"
      ],
      "text/plain": [
       "recommendations finished on 541000/2088478 queries. users per second: 5939.18"
      ]
     },
     "metadata": {},
     "output_type": "display_data"
    },
    {
     "data": {
      "text/html": [
       "<pre>recommendations finished on 542000/2088478 queries. users per second: 5941.2</pre>"
      ],
      "text/plain": [
       "recommendations finished on 542000/2088478 queries. users per second: 5941.2"
      ]
     },
     "metadata": {},
     "output_type": "display_data"
    },
    {
     "data": {
      "text/html": [
       "<pre>recommendations finished on 543000/2088478 queries. users per second: 5940.6</pre>"
      ],
      "text/plain": [
       "recommendations finished on 543000/2088478 queries. users per second: 5940.6"
      ]
     },
     "metadata": {},
     "output_type": "display_data"
    },
    {
     "data": {
      "text/html": [
       "<pre>recommendations finished on 544000/2088478 queries. users per second: 5938.46</pre>"
      ],
      "text/plain": [
       "recommendations finished on 544000/2088478 queries. users per second: 5938.46"
      ]
     },
     "metadata": {},
     "output_type": "display_data"
    },
    {
     "data": {
      "text/html": [
       "<pre>recommendations finished on 545000/2088478 queries. users per second: 5937.41</pre>"
      ],
      "text/plain": [
       "recommendations finished on 545000/2088478 queries. users per second: 5937.41"
      ]
     },
     "metadata": {},
     "output_type": "display_data"
    },
    {
     "data": {
      "text/html": [
       "<pre>recommendations finished on 546000/2088478 queries. users per second: 5938.07</pre>"
      ],
      "text/plain": [
       "recommendations finished on 546000/2088478 queries. users per second: 5938.07"
      ]
     },
     "metadata": {},
     "output_type": "display_data"
    },
    {
     "data": {
      "text/html": [
       "<pre>recommendations finished on 547000/2088478 queries. users per second: 5939.37</pre>"
      ],
      "text/plain": [
       "recommendations finished on 547000/2088478 queries. users per second: 5939.37"
      ]
     },
     "metadata": {},
     "output_type": "display_data"
    },
    {
     "data": {
      "text/html": [
       "<pre>recommendations finished on 548000/2088478 queries. users per second: 5940.82</pre>"
      ],
      "text/plain": [
       "recommendations finished on 548000/2088478 queries. users per second: 5940.82"
      ]
     },
     "metadata": {},
     "output_type": "display_data"
    },
    {
     "data": {
      "text/html": [
       "<pre>recommendations finished on 549000/2088478 queries. users per second: 5942.68</pre>"
      ],
      "text/plain": [
       "recommendations finished on 549000/2088478 queries. users per second: 5942.68"
      ]
     },
     "metadata": {},
     "output_type": "display_data"
    },
    {
     "data": {
      "text/html": [
       "<pre>recommendations finished on 550000/2088478 queries. users per second: 5944.05</pre>"
      ],
      "text/plain": [
       "recommendations finished on 550000/2088478 queries. users per second: 5944.05"
      ]
     },
     "metadata": {},
     "output_type": "display_data"
    },
    {
     "data": {
      "text/html": [
       "<pre>recommendations finished on 551000/2088478 queries. users per second: 5946.24</pre>"
      ],
      "text/plain": [
       "recommendations finished on 551000/2088478 queries. users per second: 5946.24"
      ]
     },
     "metadata": {},
     "output_type": "display_data"
    },
    {
     "data": {
      "text/html": [
       "<pre>recommendations finished on 552000/2088478 queries. users per second: 5948.07</pre>"
      ],
      "text/plain": [
       "recommendations finished on 552000/2088478 queries. users per second: 5948.07"
      ]
     },
     "metadata": {},
     "output_type": "display_data"
    },
    {
     "data": {
      "text/html": [
       "<pre>recommendations finished on 553000/2088478 queries. users per second: 5948.95</pre>"
      ],
      "text/plain": [
       "recommendations finished on 553000/2088478 queries. users per second: 5948.95"
      ]
     },
     "metadata": {},
     "output_type": "display_data"
    },
    {
     "data": {
      "text/html": [
       "<pre>recommendations finished on 554000/2088478 queries. users per second: 5949.14</pre>"
      ],
      "text/plain": [
       "recommendations finished on 554000/2088478 queries. users per second: 5949.14"
      ]
     },
     "metadata": {},
     "output_type": "display_data"
    },
    {
     "data": {
      "text/html": [
       "<pre>recommendations finished on 555000/2088478 queries. users per second: 5950.56</pre>"
      ],
      "text/plain": [
       "recommendations finished on 555000/2088478 queries. users per second: 5950.56"
      ]
     },
     "metadata": {},
     "output_type": "display_data"
    },
    {
     "data": {
      "text/html": [
       "<pre>recommendations finished on 556000/2088478 queries. users per second: 5951.74</pre>"
      ],
      "text/plain": [
       "recommendations finished on 556000/2088478 queries. users per second: 5951.74"
      ]
     },
     "metadata": {},
     "output_type": "display_data"
    },
    {
     "data": {
      "text/html": [
       "<pre>recommendations finished on 557000/2088478 queries. users per second: 5950.96</pre>"
      ],
      "text/plain": [
       "recommendations finished on 557000/2088478 queries. users per second: 5950.96"
      ]
     },
     "metadata": {},
     "output_type": "display_data"
    },
    {
     "data": {
      "text/html": [
       "<pre>recommendations finished on 558000/2088478 queries. users per second: 5952.08</pre>"
      ],
      "text/plain": [
       "recommendations finished on 558000/2088478 queries. users per second: 5952.08"
      ]
     },
     "metadata": {},
     "output_type": "display_data"
    },
    {
     "data": {
      "text/html": [
       "<pre>recommendations finished on 559000/2088478 queries. users per second: 5951.05</pre>"
      ],
      "text/plain": [
       "recommendations finished on 559000/2088478 queries. users per second: 5951.05"
      ]
     },
     "metadata": {},
     "output_type": "display_data"
    },
    {
     "data": {
      "text/html": [
       "<pre>recommendations finished on 560000/2088478 queries. users per second: 5950.03</pre>"
      ],
      "text/plain": [
       "recommendations finished on 560000/2088478 queries. users per second: 5950.03"
      ]
     },
     "metadata": {},
     "output_type": "display_data"
    },
    {
     "data": {
      "text/html": [
       "<pre>recommendations finished on 561000/2088478 queries. users per second: 5949.26</pre>"
      ],
      "text/plain": [
       "recommendations finished on 561000/2088478 queries. users per second: 5949.26"
      ]
     },
     "metadata": {},
     "output_type": "display_data"
    },
    {
     "data": {
      "text/html": [
       "<pre>recommendations finished on 562000/2088478 queries. users per second: 5949.72</pre>"
      ],
      "text/plain": [
       "recommendations finished on 562000/2088478 queries. users per second: 5949.72"
      ]
     },
     "metadata": {},
     "output_type": "display_data"
    },
    {
     "data": {
      "text/html": [
       "<pre>recommendations finished on 563000/2088478 queries. users per second: 5946.17</pre>"
      ],
      "text/plain": [
       "recommendations finished on 563000/2088478 queries. users per second: 5946.17"
      ]
     },
     "metadata": {},
     "output_type": "display_data"
    },
    {
     "data": {
      "text/html": [
       "<pre>recommendations finished on 564000/2088478 queries. users per second: 5945.09</pre>"
      ],
      "text/plain": [
       "recommendations finished on 564000/2088478 queries. users per second: 5945.09"
      ]
     },
     "metadata": {},
     "output_type": "display_data"
    },
    {
     "data": {
      "text/html": [
       "<pre>recommendations finished on 565000/2088478 queries. users per second: 5943.74</pre>"
      ],
      "text/plain": [
       "recommendations finished on 565000/2088478 queries. users per second: 5943.74"
      ]
     },
     "metadata": {},
     "output_type": "display_data"
    },
    {
     "data": {
      "text/html": [
       "<pre>recommendations finished on 566000/2088478 queries. users per second: 5942.02</pre>"
      ],
      "text/plain": [
       "recommendations finished on 566000/2088478 queries. users per second: 5942.02"
      ]
     },
     "metadata": {},
     "output_type": "display_data"
    },
    {
     "data": {
      "text/html": [
       "<pre>recommendations finished on 567000/2088478 queries. users per second: 5941.52</pre>"
      ],
      "text/plain": [
       "recommendations finished on 567000/2088478 queries. users per second: 5941.52"
      ]
     },
     "metadata": {},
     "output_type": "display_data"
    },
    {
     "data": {
      "text/html": [
       "<pre>recommendations finished on 568000/2088478 queries. users per second: 5941.45</pre>"
      ],
      "text/plain": [
       "recommendations finished on 568000/2088478 queries. users per second: 5941.45"
      ]
     },
     "metadata": {},
     "output_type": "display_data"
    },
    {
     "data": {
      "text/html": [
       "<pre>recommendations finished on 569000/2088478 queries. users per second: 5942.46</pre>"
      ],
      "text/plain": [
       "recommendations finished on 569000/2088478 queries. users per second: 5942.46"
      ]
     },
     "metadata": {},
     "output_type": "display_data"
    },
    {
     "data": {
      "text/html": [
       "<pre>recommendations finished on 570000/2088478 queries. users per second: 5942.81</pre>"
      ],
      "text/plain": [
       "recommendations finished on 570000/2088478 queries. users per second: 5942.81"
      ]
     },
     "metadata": {},
     "output_type": "display_data"
    },
    {
     "data": {
      "text/html": [
       "<pre>recommendations finished on 571000/2088478 queries. users per second: 5944.24</pre>"
      ],
      "text/plain": [
       "recommendations finished on 571000/2088478 queries. users per second: 5944.24"
      ]
     },
     "metadata": {},
     "output_type": "display_data"
    },
    {
     "data": {
      "text/html": [
       "<pre>recommendations finished on 572000/2088478 queries. users per second: 5943.79</pre>"
      ],
      "text/plain": [
       "recommendations finished on 572000/2088478 queries. users per second: 5943.79"
      ]
     },
     "metadata": {},
     "output_type": "display_data"
    },
    {
     "data": {
      "text/html": [
       "<pre>recommendations finished on 573000/2088478 queries. users per second: 5938.05</pre>"
      ],
      "text/plain": [
       "recommendations finished on 573000/2088478 queries. users per second: 5938.05"
      ]
     },
     "metadata": {},
     "output_type": "display_data"
    },
    {
     "data": {
      "text/html": [
       "<pre>recommendations finished on 574000/2088478 queries. users per second: 5938.9</pre>"
      ],
      "text/plain": [
       "recommendations finished on 574000/2088478 queries. users per second: 5938.9"
      ]
     },
     "metadata": {},
     "output_type": "display_data"
    },
    {
     "data": {
      "text/html": [
       "<pre>recommendations finished on 575000/2088478 queries. users per second: 5940.17</pre>"
      ],
      "text/plain": [
       "recommendations finished on 575000/2088478 queries. users per second: 5940.17"
      ]
     },
     "metadata": {},
     "output_type": "display_data"
    },
    {
     "data": {
      "text/html": [
       "<pre>recommendations finished on 576000/2088478 queries. users per second: 5940.47</pre>"
      ],
      "text/plain": [
       "recommendations finished on 576000/2088478 queries. users per second: 5940.47"
      ]
     },
     "metadata": {},
     "output_type": "display_data"
    },
    {
     "data": {
      "text/html": [
       "<pre>recommendations finished on 577000/2088478 queries. users per second: 5939.67</pre>"
      ],
      "text/plain": [
       "recommendations finished on 577000/2088478 queries. users per second: 5939.67"
      ]
     },
     "metadata": {},
     "output_type": "display_data"
    },
    {
     "data": {
      "text/html": [
       "<pre>recommendations finished on 578000/2088478 queries. users per second: 5934.34</pre>"
      ],
      "text/plain": [
       "recommendations finished on 578000/2088478 queries. users per second: 5934.34"
      ]
     },
     "metadata": {},
     "output_type": "display_data"
    },
    {
     "data": {
      "text/html": [
       "<pre>recommendations finished on 579000/2088478 queries. users per second: 5935.03</pre>"
      ],
      "text/plain": [
       "recommendations finished on 579000/2088478 queries. users per second: 5935.03"
      ]
     },
     "metadata": {},
     "output_type": "display_data"
    },
    {
     "data": {
      "text/html": [
       "<pre>recommendations finished on 580000/2088478 queries. users per second: 5935.17</pre>"
      ],
      "text/plain": [
       "recommendations finished on 580000/2088478 queries. users per second: 5935.17"
      ]
     },
     "metadata": {},
     "output_type": "display_data"
    },
    {
     "data": {
      "text/html": [
       "<pre>recommendations finished on 581000/2088478 queries. users per second: 5935.36</pre>"
      ],
      "text/plain": [
       "recommendations finished on 581000/2088478 queries. users per second: 5935.36"
      ]
     },
     "metadata": {},
     "output_type": "display_data"
    },
    {
     "data": {
      "text/html": [
       "<pre>recommendations finished on 582000/2088478 queries. users per second: 5935.7</pre>"
      ],
      "text/plain": [
       "recommendations finished on 582000/2088478 queries. users per second: 5935.7"
      ]
     },
     "metadata": {},
     "output_type": "display_data"
    },
    {
     "data": {
      "text/html": [
       "<pre>recommendations finished on 583000/2088478 queries. users per second: 5935.47</pre>"
      ],
      "text/plain": [
       "recommendations finished on 583000/2088478 queries. users per second: 5935.47"
      ]
     },
     "metadata": {},
     "output_type": "display_data"
    },
    {
     "data": {
      "text/html": [
       "<pre>recommendations finished on 584000/2088478 queries. users per second: 5932.18</pre>"
      ],
      "text/plain": [
       "recommendations finished on 584000/2088478 queries. users per second: 5932.18"
      ]
     },
     "metadata": {},
     "output_type": "display_data"
    },
    {
     "data": {
      "text/html": [
       "<pre>recommendations finished on 585000/2088478 queries. users per second: 5933.18</pre>"
      ],
      "text/plain": [
       "recommendations finished on 585000/2088478 queries. users per second: 5933.18"
      ]
     },
     "metadata": {},
     "output_type": "display_data"
    },
    {
     "data": {
      "text/html": [
       "<pre>recommendations finished on 586000/2088478 queries. users per second: 5933.51</pre>"
      ],
      "text/plain": [
       "recommendations finished on 586000/2088478 queries. users per second: 5933.51"
      ]
     },
     "metadata": {},
     "output_type": "display_data"
    },
    {
     "data": {
      "text/html": [
       "<pre>recommendations finished on 587000/2088478 queries. users per second: 5930.03</pre>"
      ],
      "text/plain": [
       "recommendations finished on 587000/2088478 queries. users per second: 5930.03"
      ]
     },
     "metadata": {},
     "output_type": "display_data"
    },
    {
     "data": {
      "text/html": [
       "<pre>recommendations finished on 588000/2088478 queries. users per second: 5929.81</pre>"
      ],
      "text/plain": [
       "recommendations finished on 588000/2088478 queries. users per second: 5929.81"
      ]
     },
     "metadata": {},
     "output_type": "display_data"
    },
    {
     "data": {
      "text/html": [
       "<pre>recommendations finished on 589000/2088478 queries. users per second: 5929.74</pre>"
      ],
      "text/plain": [
       "recommendations finished on 589000/2088478 queries. users per second: 5929.74"
      ]
     },
     "metadata": {},
     "output_type": "display_data"
    },
    {
     "data": {
      "text/html": [
       "<pre>recommendations finished on 590000/2088478 queries. users per second: 5928.98</pre>"
      ],
      "text/plain": [
       "recommendations finished on 590000/2088478 queries. users per second: 5928.98"
      ]
     },
     "metadata": {},
     "output_type": "display_data"
    },
    {
     "data": {
      "text/html": [
       "<pre>recommendations finished on 591000/2088478 queries. users per second: 5930.44</pre>"
      ],
      "text/plain": [
       "recommendations finished on 591000/2088478 queries. users per second: 5930.44"
      ]
     },
     "metadata": {},
     "output_type": "display_data"
    },
    {
     "data": {
      "text/html": [
       "<pre>recommendations finished on 592000/2088478 queries. users per second: 5931.61</pre>"
      ],
      "text/plain": [
       "recommendations finished on 592000/2088478 queries. users per second: 5931.61"
      ]
     },
     "metadata": {},
     "output_type": "display_data"
    },
    {
     "data": {
      "text/html": [
       "<pre>recommendations finished on 593000/2088478 queries. users per second: 5933.04</pre>"
      ],
      "text/plain": [
       "recommendations finished on 593000/2088478 queries. users per second: 5933.04"
      ]
     },
     "metadata": {},
     "output_type": "display_data"
    },
    {
     "data": {
      "text/html": [
       "<pre>recommendations finished on 594000/2088478 queries. users per second: 5934.75</pre>"
      ],
      "text/plain": [
       "recommendations finished on 594000/2088478 queries. users per second: 5934.75"
      ]
     },
     "metadata": {},
     "output_type": "display_data"
    },
    {
     "data": {
      "text/html": [
       "<pre>recommendations finished on 595000/2088478 queries. users per second: 5936.19</pre>"
      ],
      "text/plain": [
       "recommendations finished on 595000/2088478 queries. users per second: 5936.19"
      ]
     },
     "metadata": {},
     "output_type": "display_data"
    },
    {
     "data": {
      "text/html": [
       "<pre>recommendations finished on 596000/2088478 queries. users per second: 5936.59</pre>"
      ],
      "text/plain": [
       "recommendations finished on 596000/2088478 queries. users per second: 5936.59"
      ]
     },
     "metadata": {},
     "output_type": "display_data"
    },
    {
     "data": {
      "text/html": [
       "<pre>recommendations finished on 597000/2088478 queries. users per second: 5937.49</pre>"
      ],
      "text/plain": [
       "recommendations finished on 597000/2088478 queries. users per second: 5937.49"
      ]
     },
     "metadata": {},
     "output_type": "display_data"
    },
    {
     "data": {
      "text/html": [
       "<pre>recommendations finished on 598000/2088478 queries. users per second: 5938.59</pre>"
      ],
      "text/plain": [
       "recommendations finished on 598000/2088478 queries. users per second: 5938.59"
      ]
     },
     "metadata": {},
     "output_type": "display_data"
    },
    {
     "data": {
      "text/html": [
       "<pre>recommendations finished on 599000/2088478 queries. users per second: 5940.21</pre>"
      ],
      "text/plain": [
       "recommendations finished on 599000/2088478 queries. users per second: 5940.21"
      ]
     },
     "metadata": {},
     "output_type": "display_data"
    },
    {
     "data": {
      "text/html": [
       "<pre>recommendations finished on 600000/2088478 queries. users per second: 5940.21</pre>"
      ],
      "text/plain": [
       "recommendations finished on 600000/2088478 queries. users per second: 5940.21"
      ]
     },
     "metadata": {},
     "output_type": "display_data"
    },
    {
     "data": {
      "text/html": [
       "<pre>recommendations finished on 601000/2088478 queries. users per second: 5933.72</pre>"
      ],
      "text/plain": [
       "recommendations finished on 601000/2088478 queries. users per second: 5933.72"
      ]
     },
     "metadata": {},
     "output_type": "display_data"
    },
    {
     "data": {
      "text/html": [
       "<pre>recommendations finished on 602000/2088478 queries. users per second: 5932.45</pre>"
      ],
      "text/plain": [
       "recommendations finished on 602000/2088478 queries. users per second: 5932.45"
      ]
     },
     "metadata": {},
     "output_type": "display_data"
    },
    {
     "data": {
      "text/html": [
       "<pre>recommendations finished on 603000/2088478 queries. users per second: 5931.77</pre>"
      ],
      "text/plain": [
       "recommendations finished on 603000/2088478 queries. users per second: 5931.77"
      ]
     },
     "metadata": {},
     "output_type": "display_data"
    },
    {
     "data": {
      "text/html": [
       "<pre>recommendations finished on 604000/2088478 queries. users per second: 5927.75</pre>"
      ],
      "text/plain": [
       "recommendations finished on 604000/2088478 queries. users per second: 5927.75"
      ]
     },
     "metadata": {},
     "output_type": "display_data"
    },
    {
     "data": {
      "text/html": [
       "<pre>recommendations finished on 605000/2088478 queries. users per second: 5925.02</pre>"
      ],
      "text/plain": [
       "recommendations finished on 605000/2088478 queries. users per second: 5925.02"
      ]
     },
     "metadata": {},
     "output_type": "display_data"
    },
    {
     "data": {
      "text/html": [
       "<pre>recommendations finished on 606000/2088478 queries. users per second: 5923.71</pre>"
      ],
      "text/plain": [
       "recommendations finished on 606000/2088478 queries. users per second: 5923.71"
      ]
     },
     "metadata": {},
     "output_type": "display_data"
    },
    {
     "data": {
      "text/html": [
       "<pre>recommendations finished on 607000/2088478 queries. users per second: 5921.26</pre>"
      ],
      "text/plain": [
       "recommendations finished on 607000/2088478 queries. users per second: 5921.26"
      ]
     },
     "metadata": {},
     "output_type": "display_data"
    },
    {
     "data": {
      "text/html": [
       "<pre>recommendations finished on 608000/2088478 queries. users per second: 5921.53</pre>"
      ],
      "text/plain": [
       "recommendations finished on 608000/2088478 queries. users per second: 5921.53"
      ]
     },
     "metadata": {},
     "output_type": "display_data"
    },
    {
     "data": {
      "text/html": [
       "<pre>recommendations finished on 609000/2088478 queries. users per second: 5921.37</pre>"
      ],
      "text/plain": [
       "recommendations finished on 609000/2088478 queries. users per second: 5921.37"
      ]
     },
     "metadata": {},
     "output_type": "display_data"
    },
    {
     "data": {
      "text/html": [
       "<pre>recommendations finished on 610000/2088478 queries. users per second: 5921.61</pre>"
      ],
      "text/plain": [
       "recommendations finished on 610000/2088478 queries. users per second: 5921.61"
      ]
     },
     "metadata": {},
     "output_type": "display_data"
    },
    {
     "data": {
      "text/html": [
       "<pre>recommendations finished on 611000/2088478 queries. users per second: 5921.21</pre>"
      ],
      "text/plain": [
       "recommendations finished on 611000/2088478 queries. users per second: 5921.21"
      ]
     },
     "metadata": {},
     "output_type": "display_data"
    },
    {
     "data": {
      "text/html": [
       "<pre>recommendations finished on 612000/2088478 queries. users per second: 5921.87</pre>"
      ],
      "text/plain": [
       "recommendations finished on 612000/2088478 queries. users per second: 5921.87"
      ]
     },
     "metadata": {},
     "output_type": "display_data"
    },
    {
     "data": {
      "text/html": [
       "<pre>recommendations finished on 613000/2088478 queries. users per second: 5921.25</pre>"
      ],
      "text/plain": [
       "recommendations finished on 613000/2088478 queries. users per second: 5921.25"
      ]
     },
     "metadata": {},
     "output_type": "display_data"
    },
    {
     "data": {
      "text/html": [
       "<pre>recommendations finished on 614000/2088478 queries. users per second: 5918.74</pre>"
      ],
      "text/plain": [
       "recommendations finished on 614000/2088478 queries. users per second: 5918.74"
      ]
     },
     "metadata": {},
     "output_type": "display_data"
    },
    {
     "data": {
      "text/html": [
       "<pre>recommendations finished on 615000/2088478 queries. users per second: 5918.98</pre>"
      ],
      "text/plain": [
       "recommendations finished on 615000/2088478 queries. users per second: 5918.98"
      ]
     },
     "metadata": {},
     "output_type": "display_data"
    },
    {
     "data": {
      "text/html": [
       "<pre>recommendations finished on 616000/2088478 queries. users per second: 5919.04</pre>"
      ],
      "text/plain": [
       "recommendations finished on 616000/2088478 queries. users per second: 5919.04"
      ]
     },
     "metadata": {},
     "output_type": "display_data"
    },
    {
     "data": {
      "text/html": [
       "<pre>recommendations finished on 617000/2088478 queries. users per second: 5917.14</pre>"
      ],
      "text/plain": [
       "recommendations finished on 617000/2088478 queries. users per second: 5917.14"
      ]
     },
     "metadata": {},
     "output_type": "display_data"
    },
    {
     "data": {
      "text/html": [
       "<pre>recommendations finished on 618000/2088478 queries. users per second: 5914.4</pre>"
      ],
      "text/plain": [
       "recommendations finished on 618000/2088478 queries. users per second: 5914.4"
      ]
     },
     "metadata": {},
     "output_type": "display_data"
    },
    {
     "data": {
      "text/html": [
       "<pre>recommendations finished on 619000/2088478 queries. users per second: 5913.48</pre>"
      ],
      "text/plain": [
       "recommendations finished on 619000/2088478 queries. users per second: 5913.48"
      ]
     },
     "metadata": {},
     "output_type": "display_data"
    },
    {
     "data": {
      "text/html": [
       "<pre>recommendations finished on 620000/2088478 queries. users per second: 5912.23</pre>"
      ],
      "text/plain": [
       "recommendations finished on 620000/2088478 queries. users per second: 5912.23"
      ]
     },
     "metadata": {},
     "output_type": "display_data"
    },
    {
     "data": {
      "text/html": [
       "<pre>recommendations finished on 621000/2088478 queries. users per second: 5911.36</pre>"
      ],
      "text/plain": [
       "recommendations finished on 621000/2088478 queries. users per second: 5911.36"
      ]
     },
     "metadata": {},
     "output_type": "display_data"
    },
    {
     "data": {
      "text/html": [
       "<pre>recommendations finished on 622000/2088478 queries. users per second: 5910.61</pre>"
      ],
      "text/plain": [
       "recommendations finished on 622000/2088478 queries. users per second: 5910.61"
      ]
     },
     "metadata": {},
     "output_type": "display_data"
    },
    {
     "data": {
      "text/html": [
       "<pre>recommendations finished on 623000/2088478 queries. users per second: 5911.66</pre>"
      ],
      "text/plain": [
       "recommendations finished on 623000/2088478 queries. users per second: 5911.66"
      ]
     },
     "metadata": {},
     "output_type": "display_data"
    },
    {
     "data": {
      "text/html": [
       "<pre>recommendations finished on 624000/2088478 queries. users per second: 5912.69</pre>"
      ],
      "text/plain": [
       "recommendations finished on 624000/2088478 queries. users per second: 5912.69"
      ]
     },
     "metadata": {},
     "output_type": "display_data"
    },
    {
     "data": {
      "text/html": [
       "<pre>recommendations finished on 625000/2088478 queries. users per second: 5914.1</pre>"
      ],
      "text/plain": [
       "recommendations finished on 625000/2088478 queries. users per second: 5914.1"
      ]
     },
     "metadata": {},
     "output_type": "display_data"
    },
    {
     "data": {
      "text/html": [
       "<pre>recommendations finished on 626000/2088478 queries. users per second: 5914.68</pre>"
      ],
      "text/plain": [
       "recommendations finished on 626000/2088478 queries. users per second: 5914.68"
      ]
     },
     "metadata": {},
     "output_type": "display_data"
    },
    {
     "data": {
      "text/html": [
       "<pre>recommendations finished on 627000/2088478 queries. users per second: 5914.96</pre>"
      ],
      "text/plain": [
       "recommendations finished on 627000/2088478 queries. users per second: 5914.96"
      ]
     },
     "metadata": {},
     "output_type": "display_data"
    },
    {
     "data": {
      "text/html": [
       "<pre>recommendations finished on 628000/2088478 queries. users per second: 5914.28</pre>"
      ],
      "text/plain": [
       "recommendations finished on 628000/2088478 queries. users per second: 5914.28"
      ]
     },
     "metadata": {},
     "output_type": "display_data"
    },
    {
     "data": {
      "text/html": [
       "<pre>recommendations finished on 629000/2088478 queries. users per second: 5915.18</pre>"
      ],
      "text/plain": [
       "recommendations finished on 629000/2088478 queries. users per second: 5915.18"
      ]
     },
     "metadata": {},
     "output_type": "display_data"
    },
    {
     "data": {
      "text/html": [
       "<pre>recommendations finished on 630000/2088478 queries. users per second: 5916.04</pre>"
      ],
      "text/plain": [
       "recommendations finished on 630000/2088478 queries. users per second: 5916.04"
      ]
     },
     "metadata": {},
     "output_type": "display_data"
    },
    {
     "data": {
      "text/html": [
       "<pre>recommendations finished on 631000/2088478 queries. users per second: 5916.02</pre>"
      ],
      "text/plain": [
       "recommendations finished on 631000/2088478 queries. users per second: 5916.02"
      ]
     },
     "metadata": {},
     "output_type": "display_data"
    },
    {
     "data": {
      "text/html": [
       "<pre>recommendations finished on 632000/2088478 queries. users per second: 5915.54</pre>"
      ],
      "text/plain": [
       "recommendations finished on 632000/2088478 queries. users per second: 5915.54"
      ]
     },
     "metadata": {},
     "output_type": "display_data"
    },
    {
     "data": {
      "text/html": [
       "<pre>recommendations finished on 633000/2088478 queries. users per second: 5916.59</pre>"
      ],
      "text/plain": [
       "recommendations finished on 633000/2088478 queries. users per second: 5916.59"
      ]
     },
     "metadata": {},
     "output_type": "display_data"
    },
    {
     "data": {
      "text/html": [
       "<pre>recommendations finished on 634000/2088478 queries. users per second: 5916.22</pre>"
      ],
      "text/plain": [
       "recommendations finished on 634000/2088478 queries. users per second: 5916.22"
      ]
     },
     "metadata": {},
     "output_type": "display_data"
    },
    {
     "data": {
      "text/html": [
       "<pre>recommendations finished on 635000/2088478 queries. users per second: 5914.98</pre>"
      ],
      "text/plain": [
       "recommendations finished on 635000/2088478 queries. users per second: 5914.98"
      ]
     },
     "metadata": {},
     "output_type": "display_data"
    },
    {
     "data": {
      "text/html": [
       "<pre>recommendations finished on 636000/2088478 queries. users per second: 5913.75</pre>"
      ],
      "text/plain": [
       "recommendations finished on 636000/2088478 queries. users per second: 5913.75"
      ]
     },
     "metadata": {},
     "output_type": "display_data"
    },
    {
     "data": {
      "text/html": [
       "<pre>recommendations finished on 637000/2088478 queries. users per second: 5913.19</pre>"
      ],
      "text/plain": [
       "recommendations finished on 637000/2088478 queries. users per second: 5913.19"
      ]
     },
     "metadata": {},
     "output_type": "display_data"
    },
    {
     "data": {
      "text/html": [
       "<pre>recommendations finished on 638000/2088478 queries. users per second: 5912.43</pre>"
      ],
      "text/plain": [
       "recommendations finished on 638000/2088478 queries. users per second: 5912.43"
      ]
     },
     "metadata": {},
     "output_type": "display_data"
    },
    {
     "data": {
      "text/html": [
       "<pre>recommendations finished on 639000/2088478 queries. users per second: 5912.89</pre>"
      ],
      "text/plain": [
       "recommendations finished on 639000/2088478 queries. users per second: 5912.89"
      ]
     },
     "metadata": {},
     "output_type": "display_data"
    },
    {
     "data": {
      "text/html": [
       "<pre>recommendations finished on 640000/2088478 queries. users per second: 5914.03</pre>"
      ],
      "text/plain": [
       "recommendations finished on 640000/2088478 queries. users per second: 5914.03"
      ]
     },
     "metadata": {},
     "output_type": "display_data"
    },
    {
     "data": {
      "text/html": [
       "<pre>recommendations finished on 641000/2088478 queries. users per second: 5915.27</pre>"
      ],
      "text/plain": [
       "recommendations finished on 641000/2088478 queries. users per second: 5915.27"
      ]
     },
     "metadata": {},
     "output_type": "display_data"
    },
    {
     "data": {
      "text/html": [
       "<pre>recommendations finished on 642000/2088478 queries. users per second: 5916.02</pre>"
      ],
      "text/plain": [
       "recommendations finished on 642000/2088478 queries. users per second: 5916.02"
      ]
     },
     "metadata": {},
     "output_type": "display_data"
    },
    {
     "data": {
      "text/html": [
       "<pre>recommendations finished on 643000/2088478 queries. users per second: 5916.74</pre>"
      ],
      "text/plain": [
       "recommendations finished on 643000/2088478 queries. users per second: 5916.74"
      ]
     },
     "metadata": {},
     "output_type": "display_data"
    },
    {
     "data": {
      "text/html": [
       "<pre>recommendations finished on 644000/2088478 queries. users per second: 5916.17</pre>"
      ],
      "text/plain": [
       "recommendations finished on 644000/2088478 queries. users per second: 5916.17"
      ]
     },
     "metadata": {},
     "output_type": "display_data"
    },
    {
     "data": {
      "text/html": [
       "<pre>recommendations finished on 645000/2088478 queries. users per second: 5917.45</pre>"
      ],
      "text/plain": [
       "recommendations finished on 645000/2088478 queries. users per second: 5917.45"
      ]
     },
     "metadata": {},
     "output_type": "display_data"
    },
    {
     "data": {
      "text/html": [
       "<pre>recommendations finished on 646000/2088478 queries. users per second: 5918.78</pre>"
      ],
      "text/plain": [
       "recommendations finished on 646000/2088478 queries. users per second: 5918.78"
      ]
     },
     "metadata": {},
     "output_type": "display_data"
    },
    {
     "data": {
      "text/html": [
       "<pre>recommendations finished on 647000/2088478 queries. users per second: 5918.25</pre>"
      ],
      "text/plain": [
       "recommendations finished on 647000/2088478 queries. users per second: 5918.25"
      ]
     },
     "metadata": {},
     "output_type": "display_data"
    },
    {
     "data": {
      "text/html": [
       "<pre>recommendations finished on 648000/2088478 queries. users per second: 5918.96</pre>"
      ],
      "text/plain": [
       "recommendations finished on 648000/2088478 queries. users per second: 5918.96"
      ]
     },
     "metadata": {},
     "output_type": "display_data"
    },
    {
     "data": {
      "text/html": [
       "<pre>recommendations finished on 649000/2088478 queries. users per second: 5918.98</pre>"
      ],
      "text/plain": [
       "recommendations finished on 649000/2088478 queries. users per second: 5918.98"
      ]
     },
     "metadata": {},
     "output_type": "display_data"
    },
    {
     "data": {
      "text/html": [
       "<pre>recommendations finished on 650000/2088478 queries. users per second: 5919.23</pre>"
      ],
      "text/plain": [
       "recommendations finished on 650000/2088478 queries. users per second: 5919.23"
      ]
     },
     "metadata": {},
     "output_type": "display_data"
    },
=======
   "execution_count": 10,
   "metadata": {},
   "outputs": [
>>>>>>> 349c7e554242b2e6569c156ec2b1ad4089a0b5ba
    {
     "data": {
      "text/html": [
       "<pre>Recsys training: model = popularity</pre>"
      ],
      "text/plain": [
       "Recsys training: model = popularity"
      ]
     },
     "metadata": {},
     "output_type": "display_data"
    },
    {
     "data": {
      "text/html": [
       "<pre>Preparing data set.</pre>"
      ],
      "text/plain": [
       "Preparing data set."
      ]
     },
     "metadata": {},
     "output_type": "display_data"
    },
    {
     "data": {
      "text/html": [
       "<pre>    Data has 4606615 observations with 2088467 users and 200936 items.</pre>"
      ],
      "text/plain": [
       "    Data has 4606615 observations with 2088467 users and 200936 items."
      ]
     },
     "metadata": {},
     "output_type": "display_data"
    },
    {
     "data": {
      "text/html": [
       "<pre>    Data prepared in: 48.5515s</pre>"
      ],
      "text/plain": [
       "    Data prepared in: 48.5515s"
      ]
     },
     "metadata": {},
     "output_type": "display_data"
    },
    {
     "data": {
      "text/html": [
       "<pre>4606615 observations to process; with 200936 unique items.</pre>"
      ],
      "text/plain": [
       "4606615 observations to process; with 200936 unique items."
      ]
     },
     "metadata": {},
     "output_type": "display_data"
    }
   ],
   "source": [
    "popularity_model = gl.popularity_recommender.create(training_data, user_id='user_id', item_id='item_id', target='rating')"
   ]
  },
  {
   "cell_type": "markdown",
   "metadata": {},
   "source": [
    "#### using popularity based recommender to recommend items for users in validation data"
   ]
  },
  {
   "cell_type": "code",
   "execution_count": 11,
   "metadata": {},
   "outputs": [
    {
     "data": {
      "text/html": [
       "<div style=\"max-height:1000px;max-width:1500px;overflow:auto;\"><table frame=\"box\" rules=\"cols\">\n",
       "    <tr>\n",
       "        <th style=\"padding-left: 1em; padding-right: 1em; text-align: center\">user_id</th>\n",
       "        <th style=\"padding-left: 1em; padding-right: 1em; text-align: center\">item_id</th>\n",
       "        <th style=\"padding-left: 1em; padding-right: 1em; text-align: center\">score</th>\n",
       "        <th style=\"padding-left: 1em; padding-right: 1em; text-align: center\">rank</th>\n",
       "    </tr>\n",
       "    <tr>\n",
       "        <td style=\"padding-left: 1em; padding-right: 1em; text-align: center; vertical-align: top\">A13AZVPEWEK1YC</td>\n",
       "        <td style=\"padding-left: 1em; padding-right: 1em; text-align: center; vertical-align: top\">000107461X</td>\n",
       "        <td style=\"padding-left: 1em; padding-right: 1em; text-align: center; vertical-align: top\">5.0</td>\n",
       "        <td style=\"padding-left: 1em; padding-right: 1em; text-align: center; vertical-align: top\">1</td>\n",
       "    </tr>\n",
       "    <tr>\n",
       "        <td style=\"padding-left: 1em; padding-right: 1em; text-align: center; vertical-align: top\">A13AZVPEWEK1YC</td>\n",
       "        <td style=\"padding-left: 1em; padding-right: 1em; text-align: center; vertical-align: top\">0000791156</td>\n",
       "        <td style=\"padding-left: 1em; padding-right: 1em; text-align: center; vertical-align: top\">5.0</td>\n",
       "        <td style=\"padding-left: 1em; padding-right: 1em; text-align: center; vertical-align: top\">2</td>\n",
       "    </tr>\n",
       "    <tr>\n",
       "        <td style=\"padding-left: 1em; padding-right: 1em; text-align: center; vertical-align: top\">A13AZVPEWEK1YC</td>\n",
       "        <td style=\"padding-left: 1em; padding-right: 1em; text-align: center; vertical-align: top\">0000143588</td>\n",
       "        <td style=\"padding-left: 1em; padding-right: 1em; text-align: center; vertical-align: top\">5.0</td>\n",
       "        <td style=\"padding-left: 1em; padding-right: 1em; text-align: center; vertical-align: top\">3</td>\n",
       "    </tr>\n",
       "    <tr>\n",
       "        <td style=\"padding-left: 1em; padding-right: 1em; text-align: center; vertical-align: top\">A13AZVPEWEK1YC</td>\n",
       "        <td style=\"padding-left: 1em; padding-right: 1em; text-align: center; vertical-align: top\">0000143529</td>\n",
       "        <td style=\"padding-left: 1em; padding-right: 1em; text-align: center; vertical-align: top\">5.0</td>\n",
       "        <td style=\"padding-left: 1em; padding-right: 1em; text-align: center; vertical-align: top\">4</td>\n",
       "    </tr>\n",
       "    <tr>\n",
       "        <td style=\"padding-left: 1em; padding-right: 1em; text-align: center; vertical-align: top\">A13AZVPEWEK1YC</td>\n",
       "        <td style=\"padding-left: 1em; padding-right: 1em; text-align: center; vertical-align: top\">0000143502</td>\n",
       "        <td style=\"padding-left: 1em; padding-right: 1em; text-align: center; vertical-align: top\">5.0</td>\n",
       "        <td style=\"padding-left: 1em; padding-right: 1em; text-align: center; vertical-align: top\">5</td>\n",
       "    </tr>\n",
       "    <tr>\n",
       "        <td style=\"padding-left: 1em; padding-right: 1em; text-align: center; vertical-align: top\">A1EQZH1RGLW6T3</td>\n",
       "        <td style=\"padding-left: 1em; padding-right: 1em; text-align: center; vertical-align: top\">000107461X</td>\n",
       "        <td style=\"padding-left: 1em; padding-right: 1em; text-align: center; vertical-align: top\">5.0</td>\n",
       "        <td style=\"padding-left: 1em; padding-right: 1em; text-align: center; vertical-align: top\">1</td>\n",
       "    </tr>\n",
       "    <tr>\n",
       "        <td style=\"padding-left: 1em; padding-right: 1em; text-align: center; vertical-align: top\">A1EQZH1RGLW6T3</td>\n",
       "        <td style=\"padding-left: 1em; padding-right: 1em; text-align: center; vertical-align: top\">0000791156</td>\n",
       "        <td style=\"padding-left: 1em; padding-right: 1em; text-align: center; vertical-align: top\">5.0</td>\n",
       "        <td style=\"padding-left: 1em; padding-right: 1em; text-align: center; vertical-align: top\">2</td>\n",
       "    </tr>\n",
       "    <tr>\n",
       "        <td style=\"padding-left: 1em; padding-right: 1em; text-align: center; vertical-align: top\">A1EQZH1RGLW6T3</td>\n",
       "        <td style=\"padding-left: 1em; padding-right: 1em; text-align: center; vertical-align: top\">0000143588</td>\n",
       "        <td style=\"padding-left: 1em; padding-right: 1em; text-align: center; vertical-align: top\">5.0</td>\n",
       "        <td style=\"padding-left: 1em; padding-right: 1em; text-align: center; vertical-align: top\">3</td>\n",
       "    </tr>\n",
       "    <tr>\n",
       "        <td style=\"padding-left: 1em; padding-right: 1em; text-align: center; vertical-align: top\">A1EQZH1RGLW6T3</td>\n",
       "        <td style=\"padding-left: 1em; padding-right: 1em; text-align: center; vertical-align: top\">0000143529</td>\n",
       "        <td style=\"padding-left: 1em; padding-right: 1em; text-align: center; vertical-align: top\">5.0</td>\n",
       "        <td style=\"padding-left: 1em; padding-right: 1em; text-align: center; vertical-align: top\">4</td>\n",
       "    </tr>\n",
       "    <tr>\n",
       "        <td style=\"padding-left: 1em; padding-right: 1em; text-align: center; vertical-align: top\">A1EQZH1RGLW6T3</td>\n",
       "        <td style=\"padding-left: 1em; padding-right: 1em; text-align: center; vertical-align: top\">0000143502</td>\n",
       "        <td style=\"padding-left: 1em; padding-right: 1em; text-align: center; vertical-align: top\">5.0</td>\n",
       "        <td style=\"padding-left: 1em; padding-right: 1em; text-align: center; vertical-align: top\">5</td>\n",
       "    </tr>\n",
       "</table>\n",
       "[2160 rows x 4 columns]<br/>Note: Only the head of the SFrame is printed.<br/>You can use print_rows(num_rows=m, num_columns=n) to print more rows and columns.\n",
       "</div>"
      ],
      "text/plain": [
       "Columns:\n",
       "\tuser_id\tstr\n",
       "\titem_id\tstr\n",
       "\tscore\tfloat\n",
       "\trank\tint\n",
       "\n",
       "Rows: 2160\n",
       "\n",
       "Data:\n",
       "+----------------+------------+-------+------+\n",
       "|    user_id     |  item_id   | score | rank |\n",
       "+----------------+------------+-------+------+\n",
       "| A13AZVPEWEK1YC | 000107461X |  5.0  |  1   |\n",
       "| A13AZVPEWEK1YC | 0000791156 |  5.0  |  2   |\n",
       "| A13AZVPEWEK1YC | 0000143588 |  5.0  |  3   |\n",
       "| A13AZVPEWEK1YC | 0000143529 |  5.0  |  4   |\n",
       "| A13AZVPEWEK1YC | 0000143502 |  5.0  |  5   |\n",
       "| A1EQZH1RGLW6T3 | 000107461X |  5.0  |  1   |\n",
       "| A1EQZH1RGLW6T3 | 0000791156 |  5.0  |  2   |\n",
       "| A1EQZH1RGLW6T3 | 0000143588 |  5.0  |  3   |\n",
       "| A1EQZH1RGLW6T3 | 0000143529 |  5.0  |  4   |\n",
       "| A1EQZH1RGLW6T3 | 0000143502 |  5.0  |  5   |\n",
       "+----------------+------------+-------+------+\n",
       "[2160 rows x 4 columns]\n",
       "Note: Only the head of the SFrame is printed.\n",
       "You can use print_rows(num_rows=m, num_columns=n) to print more rows and columns."
      ]
     },
     "execution_count": 11,
     "metadata": {},
     "output_type": "execute_result"
    }
   ],
   "source": [
    "popularity_model.recommend(users = validation_data['user_id'], k=5, random_seed=123)"
   ]
  },
  {
   "cell_type": "markdown",
   "metadata": {},
   "source": [
    "#### computing validation rmse"
   ]
  },
  {
   "cell_type": "code",
   "execution_count": 12,
   "metadata": {
    "scrolled": true
   },
   "outputs": [
    {
     "name": "stdout",
     "output_type": "stream",
     "text": [
      "\n",
      "Precision and recall summary statistics by cutoff\n",
      "+--------+----------------+-------------+\n",
      "| cutoff | mean_precision | mean_recall |\n",
      "+--------+----------------+-------------+\n",
      "|   1    |      0.0       |     0.0     |\n",
      "|   2    |      0.0       |     0.0     |\n",
      "|   3    |      0.0       |     0.0     |\n",
      "|   4    |      0.0       |     0.0     |\n",
      "|   5    |      0.0       |     0.0     |\n",
      "|   6    |      0.0       |     0.0     |\n",
      "|   7    |      0.0       |     0.0     |\n",
      "|   8    |      0.0       |     0.0     |\n",
      "|   9    |      0.0       |     0.0     |\n",
      "|   10   |      0.0       |     0.0     |\n",
      "+--------+----------------+-------------+\n",
      "[10 rows x 3 columns]\n",
      "\n",
      "('\\nOverall RMSE: ', 1.1178731403694457)\n",
      "\n",
      "Per User RMSE (best)\n",
      "+---------------+-------+------+\n",
      "|    user_id    | count | rmse |\n",
      "+---------------+-------+------+\n",
      "| A9WBDP1QB1EOC |   1   | 0.0  |\n",
      "+---------------+-------+------+\n",
      "[1 rows x 3 columns]\n",
      "\n",
      "\n",
      "Per User RMSE (worst)\n",
      "+--------------+-------+--------------+\n",
      "|   user_id    | count |     rmse     |\n",
      "+--------------+-------+--------------+\n",
      "| ANDIVKI6DLNJ |   1   | 3.7520661157 |\n",
      "+--------------+-------+--------------+\n",
      "[1 rows x 3 columns]\n",
      "\n",
      "\n",
      "Per Item RMSE (best)\n",
      "+------------+-------+------+\n",
      "|  item_id   | count | rmse |\n",
      "+------------+-------+------+\n",
      "| B0009J3OQ4 |   1   | 0.0  |\n",
      "+------------+-------+------+\n",
      "[1 rows x 3 columns]\n",
      "\n",
      "\n",
      "Per Item RMSE (worst)\n",
      "+------------+-------+--------------+\n",
      "|  item_id   | count |     rmse     |\n",
      "+------------+-------+--------------+\n",
      "| B001Q94TRO |   1   | 3.7520661157 |\n",
      "+------------+-------+--------------+\n",
      "[1 rows x 3 columns]\n",
      "\n"
     ]
    },
    {
     "data": {
      "text/plain": [
       "{'precision_recall_by_user': Columns:\n",
       " \tuser_id\tstr\n",
       " \tcutoff\tint\n",
       " \tprecision\tfloat\n",
       " \trecall\tfloat\n",
       " \tcount\tint\n",
       " \n",
       " Rows: 5346\n",
       " \n",
       " Data:\n",
       " +----------------+--------+-----------+--------+-------+\n",
       " |    user_id     | cutoff | precision | recall | count |\n",
       " +----------------+--------+-----------+--------+-------+\n",
       " | A10MM4TO3R2G5N |   1    |    0.0    |  0.0   |   1   |\n",
       " | A10MM4TO3R2G5N |   2    |    0.0    |  0.0   |   1   |\n",
       " | A10MM4TO3R2G5N |   3    |    0.0    |  0.0   |   1   |\n",
       " | A10MM4TO3R2G5N |   4    |    0.0    |  0.0   |   1   |\n",
       " | A10MM4TO3R2G5N |   5    |    0.0    |  0.0   |   1   |\n",
       " | A10MM4TO3R2G5N |   6    |    0.0    |  0.0   |   1   |\n",
       " | A10MM4TO3R2G5N |   7    |    0.0    |  0.0   |   1   |\n",
       " | A10MM4TO3R2G5N |   8    |    0.0    |  0.0   |   1   |\n",
       " | A10MM4TO3R2G5N |   9    |    0.0    |  0.0   |   1   |\n",
       " | A10MM4TO3R2G5N |   10   |    0.0    |  0.0   |   1   |\n",
       " +----------------+--------+-----------+--------+-------+\n",
       " [5346 rows x 5 columns]\n",
       " Note: Only the head of the SFrame is printed.\n",
       " You can use print_rows(num_rows=m, num_columns=n) to print more rows and columns.,\n",
       " 'precision_recall_overall': Columns:\n",
       " \tcutoff\tint\n",
       " \tprecision\tfloat\n",
       " \trecall\tfloat\n",
       " \n",
       " Rows: 18\n",
       " \n",
       " Data:\n",
       " +--------+-----------+--------+\n",
       " | cutoff | precision | recall |\n",
       " +--------+-----------+--------+\n",
       " |   1    |    0.0    |  0.0   |\n",
       " |   2    |    0.0    |  0.0   |\n",
       " |   3    |    0.0    |  0.0   |\n",
       " |   4    |    0.0    |  0.0   |\n",
       " |   5    |    0.0    |  0.0   |\n",
       " |   6    |    0.0    |  0.0   |\n",
       " |   7    |    0.0    |  0.0   |\n",
       " |   8    |    0.0    |  0.0   |\n",
       " |   9    |    0.0    |  0.0   |\n",
       " |   10   |    0.0    |  0.0   |\n",
       " +--------+-----------+--------+\n",
       " [18 rows x 3 columns]\n",
       " Note: Only the head of the SFrame is printed.\n",
       " You can use print_rows(num_rows=m, num_columns=n) to print more rows and columns.,\n",
       " 'rmse_by_item': Columns:\n",
       " \titem_id\tstr\n",
       " \tcount\tint\n",
       " \trmse\tfloat\n",
       " \n",
       " Rows: 421\n",
       " \n",
       " Data:\n",
       " +------------+-------+-----------------+\n",
       " |  item_id   | count |       rmse      |\n",
       " +------------+-------+-----------------+\n",
       " | 6303109950 |   1   |  0.738888888889 |\n",
       " | B00004RER0 |   1   |  2.17391304348  |\n",
       " | B00004ZEU5 |   1   |  0.277904328018 |\n",
       " | B001PTUN34 |   1   |       1.75      |\n",
       " | 0800102371 |   1   |  0.614583333333 |\n",
       " | B003WUXIYK |   1   |       0.8       |\n",
       " | 6305300887 |   1   |  0.298295454545 |\n",
       " | B000W8MMO2 |   1   |  0.230769230769 |\n",
       " | B00004WZZN |   1   | 0.0434782608696 |\n",
       " | B001BN4WLS |   1   | 0.0243902439024 |\n",
       " +------------+-------+-----------------+\n",
       " [421 rows x 3 columns]\n",
       " Note: Only the head of the SFrame is printed.\n",
       " You can use print_rows(num_rows=m, num_columns=n) to print more rows and columns.,\n",
       " 'rmse_by_user': Columns:\n",
       " \tuser_id\tstr\n",
       " \tcount\tint\n",
       " \trmse\tfloat\n",
       " \n",
       " Rows: 297\n",
       " \n",
       " Data:\n",
       " +----------------+-------+----------------+\n",
       " |    user_id     | count |      rmse      |\n",
       " +----------------+-------+----------------+\n",
       " | AGPFD6R5S8A0K  |   1   | 0.125670498084 |\n",
       " | A15EXELIYYO95J |   1   | 2.25423728814  |\n",
       " | A1XHNVXCR5BLVZ |   1   |  2.2911126662  |\n",
       " | A3W0V7MD843WF4 |   1   | 0.869894099849 |\n",
       " | A1TA4Z31MKMUGF |   1   | 0.523206751055 |\n",
       " | A3TO9PAY0M6QH2 |   1   | 0.816091954023 |\n",
       " | ADX0F5JQ5DWH4  |   1   | 1.23708206687  |\n",
       " | A3F8W7R5YJC7BV |   1   | 0.612068965517 |\n",
       " | ALI7J6VZCA3UV  |   1   | 0.306436119116 |\n",
       " |  ANDIVKI6DLNJ  |   1   |  3.7520661157  |\n",
       " +----------------+-------+----------------+\n",
       " [297 rows x 3 columns]\n",
       " Note: Only the head of the SFrame is printed.\n",
       " You can use print_rows(num_rows=m, num_columns=n) to print more rows and columns.,\n",
       " 'rmse_overall': 1.1178731403694457}"
      ]
     },
     "execution_count": 12,
     "metadata": {},
     "output_type": "execute_result"
    }
   ],
   "source": [
    "popularity_model.evaluate(validation_data, target='rating')"
   ]
  },
  {
   "cell_type": "markdown",
   "metadata": {},
   "source": [
    "#### creating user based recommender system"
   ]
  },
  {
   "cell_type": "code",
   "execution_count": 7,
   "metadata": {},
   "outputs": [
    {
     "data": {
      "text/html": [
       "<pre>Recsys training: model = ranking_factorization_recommender</pre>"
      ],
      "text/plain": [
       "Recsys training: model = ranking_factorization_recommender"
      ]
     },
     "metadata": {},
     "output_type": "display_data"
    },
    {
     "data": {
      "text/html": [
       "<pre>Preparing data set.</pre>"
      ],
      "text/plain": [
       "Preparing data set."
      ]
     },
     "metadata": {},
     "output_type": "display_data"
    },
    {
     "data": {
      "text/html": [
       "<pre>    Data has 4606615 observations with 2088467 users and 200936 items.</pre>"
      ],
      "text/plain": [
       "    Data has 4606615 observations with 2088467 users and 200936 items."
      ]
     },
     "metadata": {},
     "output_type": "display_data"
    },
    {
     "data": {
      "text/html": [
       "<pre>    Data prepared in: 33.2247s</pre>"
      ],
      "text/plain": [
       "    Data prepared in: 33.2247s"
      ]
     },
     "metadata": {},
     "output_type": "display_data"
    },
    {
     "data": {
      "text/html": [
       "<pre>Training ranking_factorization_recommender for recommendations.</pre>"
      ],
      "text/plain": [
       "Training ranking_factorization_recommender for recommendations."
      ]
     },
     "metadata": {},
     "output_type": "display_data"
    },
    {
     "data": {
      "text/html": [
       "<pre>+--------------------------------+--------------------------------------------------+----------+</pre>"
      ],
      "text/plain": [
       "+--------------------------------+--------------------------------------------------+----------+"
      ]
     },
     "metadata": {},
     "output_type": "display_data"
    },
    {
     "data": {
      "text/html": [
       "<pre>| Parameter                      | Description                                      | Value    |</pre>"
      ],
      "text/plain": [
       "| Parameter                      | Description                                      | Value    |"
      ]
     },
     "metadata": {},
     "output_type": "display_data"
    },
    {
     "data": {
      "text/html": [
       "<pre>+--------------------------------+--------------------------------------------------+----------+</pre>"
      ],
      "text/plain": [
       "+--------------------------------+--------------------------------------------------+----------+"
      ]
     },
     "metadata": {},
     "output_type": "display_data"
    },
    {
     "data": {
      "text/html": [
       "<pre>| num_factors                    | Factor Dimension                                 | 32       |</pre>"
      ],
      "text/plain": [
       "| num_factors                    | Factor Dimension                                 | 32       |"
      ]
     },
     "metadata": {},
     "output_type": "display_data"
    },
    {
     "data": {
      "text/html": [
       "<pre>| regularization                 | L2 Regularization on Factors                     | 1e-09    |</pre>"
      ],
      "text/plain": [
       "| regularization                 | L2 Regularization on Factors                     | 1e-09    |"
      ]
     },
     "metadata": {},
     "output_type": "display_data"
    },
    {
     "data": {
      "text/html": [
       "<pre>| solver                         | Solver used for training                         | sgd      |</pre>"
      ],
      "text/plain": [
       "| solver                         | Solver used for training                         | sgd      |"
      ]
     },
     "metadata": {},
     "output_type": "display_data"
    },
    {
     "data": {
      "text/html": [
       "<pre>| linear_regularization          | L2 Regularization on Linear Coefficients         | 1e-09    |</pre>"
      ],
      "text/plain": [
       "| linear_regularization          | L2 Regularization on Linear Coefficients         | 1e-09    |"
      ]
     },
     "metadata": {},
     "output_type": "display_data"
    },
    {
     "data": {
      "text/html": [
       "<pre>| ranking_regularization         | Rank-based Regularization Weight                 | 0.25     |</pre>"
      ],
      "text/plain": [
       "| ranking_regularization         | Rank-based Regularization Weight                 | 0.25     |"
      ]
     },
     "metadata": {},
     "output_type": "display_data"
    },
    {
     "data": {
      "text/html": [
       "<pre>| max_iterations                 | Maximum Number of Iterations                     | 25       |</pre>"
      ],
      "text/plain": [
       "| max_iterations                 | Maximum Number of Iterations                     | 25       |"
      ]
     },
     "metadata": {},
     "output_type": "display_data"
    },
    {
     "data": {
      "text/html": [
       "<pre>+--------------------------------+--------------------------------------------------+----------+</pre>"
      ],
      "text/plain": [
       "+--------------------------------+--------------------------------------------------+----------+"
      ]
     },
     "metadata": {},
     "output_type": "display_data"
    },
    {
     "data": {
      "text/html": [
       "<pre>  Optimizing model using SGD; tuning step size.</pre>"
      ],
      "text/plain": [
       "  Optimizing model using SGD; tuning step size."
      ]
     },
     "metadata": {},
     "output_type": "display_data"
    },
    {
     "data": {
      "text/html": [
       "<pre>  Using 575826 / 4606615 points for tuning the step size.</pre>"
      ],
      "text/plain": [
       "  Using 575826 / 4606615 points for tuning the step size."
      ]
     },
     "metadata": {},
     "output_type": "display_data"
    },
    {
     "data": {
      "text/html": [
       "<pre>+---------+-------------------+------------------------------------------+</pre>"
      ],
      "text/plain": [
       "+---------+-------------------+------------------------------------------+"
      ]
     },
     "metadata": {},
     "output_type": "display_data"
    },
    {
     "data": {
      "text/html": [
       "<pre>| Attempt | Initial Step Size | Estimated Objective Value                |</pre>"
      ],
      "text/plain": [
       "| Attempt | Initial Step Size | Estimated Objective Value                |"
      ]
     },
     "metadata": {},
     "output_type": "display_data"
    },
    {
     "data": {
      "text/html": [
       "<pre>+---------+-------------------+------------------------------------------+</pre>"
      ],
      "text/plain": [
       "+---------+-------------------+------------------------------------------+"
      ]
     },
     "metadata": {},
     "output_type": "display_data"
    },
    {
     "data": {
      "text/html": [
       "<pre>| 0       | 25                | Not Viable                               |</pre>"
      ],
      "text/plain": [
       "| 0       | 25                | Not Viable                               |"
      ]
     },
     "metadata": {},
     "output_type": "display_data"
    },
    {
     "data": {
      "text/html": [
       "<pre>| 1       | 6.25              | Not Viable                               |</pre>"
      ],
      "text/plain": [
       "| 1       | 6.25              | Not Viable                               |"
      ]
     },
     "metadata": {},
     "output_type": "display_data"
    },
    {
     "data": {
      "text/html": [
       "<pre>| 2       | 1.5625            | Not Viable                               |</pre>"
      ],
      "text/plain": [
       "| 2       | 1.5625            | Not Viable                               |"
      ]
     },
     "metadata": {},
     "output_type": "display_data"
    },
    {
     "data": {
      "text/html": [
       "<pre>| 3       | 0.390625          | Not Viable                               |</pre>"
      ],
      "text/plain": [
       "| 3       | 0.390625          | Not Viable                               |"
      ]
     },
     "metadata": {},
     "output_type": "display_data"
    },
    {
     "data": {
      "text/html": [
       "<pre>| 4       | 0.0976562         | 1.59052                                  |</pre>"
      ],
      "text/plain": [
       "| 4       | 0.0976562         | 1.59052                                  |"
      ]
     },
     "metadata": {},
     "output_type": "display_data"
    },
    {
     "data": {
      "text/html": [
       "<pre>| 5       | 0.0488281         | 1.91258                                  |</pre>"
      ],
      "text/plain": [
       "| 5       | 0.0488281         | 1.91258                                  |"
      ]
     },
     "metadata": {},
     "output_type": "display_data"
    },
    {
     "data": {
      "text/html": [
       "<pre>| 6       | 0.0244141         | 2.20951                                  |</pre>"
      ],
      "text/plain": [
       "| 6       | 0.0244141         | 2.20951                                  |"
      ]
     },
     "metadata": {},
     "output_type": "display_data"
    },
    {
     "data": {
      "text/html": [
       "<pre>| 7       | 0.012207          | 2.43665                                  |</pre>"
      ],
      "text/plain": [
       "| 7       | 0.012207          | 2.43665                                  |"
      ]
     },
     "metadata": {},
     "output_type": "display_data"
    },
    {
     "data": {
      "text/html": [
       "<pre>+---------+-------------------+------------------------------------------+</pre>"
      ],
      "text/plain": [
       "+---------+-------------------+------------------------------------------+"
      ]
     },
     "metadata": {},
     "output_type": "display_data"
    },
    {
     "data": {
      "text/html": [
       "<pre>| Final   | 0.0976562         | 1.59052                                  |</pre>"
      ],
      "text/plain": [
       "| Final   | 0.0976562         | 1.59052                                  |"
      ]
     },
     "metadata": {},
     "output_type": "display_data"
    },
    {
     "data": {
      "text/html": [
       "<pre>+---------+-------------------+------------------------------------------+</pre>"
      ],
      "text/plain": [
       "+---------+-------------------+------------------------------------------+"
      ]
     },
     "metadata": {},
     "output_type": "display_data"
    },
    {
     "data": {
      "text/html": [
       "<pre>Starting Optimization.</pre>"
      ],
      "text/plain": [
       "Starting Optimization."
      ]
     },
     "metadata": {},
     "output_type": "display_data"
    },
    {
     "data": {
      "text/html": [
       "<pre>+---------+--------------+-------------------+-----------------------+-------------+</pre>"
      ],
      "text/plain": [
       "+---------+--------------+-------------------+-----------------------+-------------+"
      ]
     },
     "metadata": {},
     "output_type": "display_data"
    },
    {
     "data": {
      "text/html": [
       "<pre>| Iter.   | Elapsed Time | Approx. Objective | Approx. Training RMSE | Step Size   |</pre>"
      ],
      "text/plain": [
       "| Iter.   | Elapsed Time | Approx. Objective | Approx. Training RMSE | Step Size   |"
      ]
     },
     "metadata": {},
     "output_type": "display_data"
    },
    {
     "data": {
      "text/html": [
       "<pre>+---------+--------------+-------------------+-----------------------+-------------+</pre>"
      ],
      "text/plain": [
       "+---------+--------------+-------------------+-----------------------+-------------+"
      ]
     },
     "metadata": {},
     "output_type": "display_data"
    },
    {
     "data": {
      "text/html": [
       "<pre>| Initial | 594us        | 2.98099           | 1.23305               |             |</pre>"
      ],
      "text/plain": [
       "| Initial | 594us        | 2.98099           | 1.23305               |             |"
      ]
     },
     "metadata": {},
     "output_type": "display_data"
    },
    {
     "data": {
      "text/html": [
       "<pre>+---------+--------------+-------------------+-----------------------+-------------+</pre>"
      ],
      "text/plain": [
       "+---------+--------------+-------------------+-----------------------+-------------+"
      ]
     },
     "metadata": {},
     "output_type": "display_data"
    },
    {
     "data": {
      "text/html": [
       "<pre>| 1       | 20.86s       | 2.44833           | 1.21711               | 0.0976562   |</pre>"
      ],
      "text/plain": [
       "| 1       | 20.86s       | 2.44833           | 1.21711               | 0.0976562   |"
      ]
     },
     "metadata": {},
     "output_type": "display_data"
    },
    {
     "data": {
      "text/html": [
       "<pre>| 2       | 42.37s       | 1.86768           | 1.08406               | 0.0580668   |</pre>"
      ],
      "text/plain": [
       "| 2       | 42.37s       | 1.86768           | 1.08406               | 0.0580668   |"
      ]
     },
     "metadata": {},
     "output_type": "display_data"
    },
    {
     "data": {
      "text/html": [
       "<pre>| 3       | 1m 5s        | 1.42975           | 0.88938               | 0.042841    |</pre>"
      ],
      "text/plain": [
       "| 3       | 1m 5s        | 1.42975           | 0.88938               | 0.042841    |"
      ]
     },
     "metadata": {},
     "output_type": "display_data"
    },
    {
     "data": {
      "text/html": [
       "<pre>| 4       | 1m 25s       | 1.15561           | 0.752125              | 0.0345267   |</pre>"
      ],
      "text/plain": [
       "| 4       | 1m 25s       | 1.15561           | 0.752125              | 0.0345267   |"
      ]
     },
     "metadata": {},
     "output_type": "display_data"
    },
    {
     "data": {
      "text/html": [
       "<pre>| 5       | 1m 46s       | 0.993071          | 0.665866              | 0.029206    |</pre>"
      ],
      "text/plain": [
       "| 5       | 1m 46s       | 0.993071          | 0.665866              | 0.029206    |"
      ]
     },
     "metadata": {},
     "output_type": "display_data"
    },
    {
     "data": {
      "text/html": [
       "<pre>| 6       | 2m 7s        | 0.881095          | 0.606258              | 0.0254734   |</pre>"
      ],
      "text/plain": [
       "| 6       | 2m 7s        | 0.881095          | 0.606258              | 0.0254734   |"
      ]
     },
     "metadata": {},
     "output_type": "display_data"
    },
    {
     "data": {
      "text/html": [
       "<pre>| 7       | 2m 27s       | 0.795873          | 0.561453              | 0.0226922   |</pre>"
      ],
      "text/plain": [
       "| 7       | 2m 27s       | 0.795873          | 0.561453              | 0.0226922   |"
      ]
     },
     "metadata": {},
     "output_type": "display_data"
    },
    {
     "data": {
      "text/html": [
       "<pre>| 8       | 2m 51s       | 0.728302          | 0.524575              | 0.0205297   |</pre>"
      ],
      "text/plain": [
       "| 8       | 2m 51s       | 0.728302          | 0.524575              | 0.0205297   |"
      ]
     },
     "metadata": {},
     "output_type": "display_data"
    },
    {
     "data": {
      "text/html": [
       "<pre>| 9       | 3m 13s       | 0.674115          | 0.49574               | 0.018794    |</pre>"
      ],
      "text/plain": [
       "| 9       | 3m 13s       | 0.674115          | 0.49574               | 0.018794    |"
      ]
     },
     "metadata": {},
     "output_type": "display_data"
    },
    {
     "data": {
      "text/html": [
       "<pre>| 10      | 3m 38s       | 0.627895          | 0.471171              | 0.017366    |</pre>"
      ],
      "text/plain": [
       "| 10      | 3m 38s       | 0.627895          | 0.471171              | 0.017366    |"
      ]
     },
     "metadata": {},
     "output_type": "display_data"
    },
    {
     "data": {
      "text/html": [
       "<pre>| 11      | 3m 59s       | 0.589051          | 0.449984              | 0.016168    |</pre>"
      ],
      "text/plain": [
       "| 11      | 3m 59s       | 0.589051          | 0.449984              | 0.016168    |"
      ]
     },
     "metadata": {},
     "output_type": "display_data"
    },
    {
     "data": {
      "text/html": [
       "<pre>| 12      | 4m 19s       | 0.556281          | 0.431652              | 0.0151466   |</pre>"
      ],
      "text/plain": [
       "| 12      | 4m 19s       | 0.556281          | 0.431652              | 0.0151466   |"
      ]
     },
     "metadata": {},
     "output_type": "display_data"
    },
    {
     "data": {
      "text/html": [
       "<pre>| 13      | 4m 39s       | 0.526844          | 0.415917              | 0.014264    |</pre>"
      ],
      "text/plain": [
       "| 13      | 4m 39s       | 0.526844          | 0.415917              | 0.014264    |"
      ]
     },
     "metadata": {},
     "output_type": "display_data"
    },
    {
     "data": {
      "text/html": [
       "<pre>| 14      | 4m 59s       | 0.501541          | 0.402269              | 0.0134929   |</pre>"
      ],
      "text/plain": [
       "| 14      | 4m 59s       | 0.501541          | 0.402269              | 0.0134929   |"
      ]
     },
     "metadata": {},
     "output_type": "display_data"
    },
    {
     "data": {
      "text/html": [
       "<pre>| 15      | 5m 19s       | 0.478213          | 0.388983              | 0.0128124   |</pre>"
      ],
      "text/plain": [
       "| 15      | 5m 19s       | 0.478213          | 0.388983              | 0.0128124   |"
      ]
     },
     "metadata": {},
     "output_type": "display_data"
    },
    {
     "data": {
      "text/html": [
       "<pre>| 16      | 5m 43s       | 0.45882           | 0.378635              | 0.012207    |</pre>"
      ],
      "text/plain": [
       "| 16      | 5m 43s       | 0.45882           | 0.378635              | 0.012207    |"
      ]
     },
     "metadata": {},
     "output_type": "display_data"
    },
    {
     "data": {
      "text/html": [
       "<pre>| 17      | 6m 3s        | 0.440612          | 0.36807               | 0.0116644   |</pre>"
      ],
      "text/plain": [
       "| 17      | 6m 3s        | 0.440612          | 0.36807               | 0.0116644   |"
      ]
     },
     "metadata": {},
     "output_type": "display_data"
    },
    {
     "data": {
      "text/html": [
       "<pre>| 18      | 6m 25s       | 0.425131          | 0.359615              | 0.011175    |</pre>"
      ],
      "text/plain": [
       "| 18      | 6m 25s       | 0.425131          | 0.359615              | 0.011175    |"
      ]
     },
     "metadata": {},
     "output_type": "display_data"
    },
    {
     "data": {
      "text/html": [
       "<pre>| 19      | 6m 45s       | 0.410158          | 0.350564              | 0.0107309   |</pre>"
      ],
      "text/plain": [
       "| 19      | 6m 45s       | 0.410158          | 0.350564              | 0.0107309   |"
      ]
     },
     "metadata": {},
     "output_type": "display_data"
    },
    {
     "data": {
      "text/html": [
       "<pre>| 20      | 7m 10s       | 0.397283          | 0.343755              | 0.0103259   |</pre>"
      ],
      "text/plain": [
       "| 20      | 7m 10s       | 0.397283          | 0.343755              | 0.0103259   |"
      ]
     },
     "metadata": {},
     "output_type": "display_data"
    },
    {
     "data": {
      "text/html": [
       "<pre>| 21      | 7m 31s       | 0.385262          | 0.336701              | 0.00995487  |</pre>"
      ],
      "text/plain": [
       "| 21      | 7m 31s       | 0.385262          | 0.336701              | 0.00995487  |"
      ]
     },
     "metadata": {},
     "output_type": "display_data"
    },
    {
     "data": {
      "text/html": [
       "<pre>| 22      | 7m 57s       | 0.373703          | 0.330095              | 0.00961353  |</pre>"
      ],
      "text/plain": [
       "| 22      | 7m 57s       | 0.373703          | 0.330095              | 0.00961353  |"
      ]
     },
     "metadata": {},
     "output_type": "display_data"
    },
    {
     "data": {
      "text/html": [
       "<pre>| 23      | 8m 21s       | 0.363824          | 0.324497              | 0.00929831  |</pre>"
      ],
      "text/plain": [
       "| 23      | 8m 21s       | 0.363824          | 0.324497              | 0.00929831  |"
      ]
     },
     "metadata": {},
     "output_type": "display_data"
    },
    {
     "data": {
      "text/html": [
       "<pre>| 24      | 8m 45s       | 0.354169          | 0.318765              | 0.0090062   |</pre>"
      ],
      "text/plain": [
       "| 24      | 8m 45s       | 0.354169          | 0.318765              | 0.0090062   |"
      ]
     },
     "metadata": {},
     "output_type": "display_data"
    },
    {
     "data": {
      "text/html": [
       "<pre>| 25      | 9m 7s        | 0.345891          | 0.314056              | 0.00873464  |</pre>"
      ],
      "text/plain": [
       "| 25      | 9m 7s        | 0.345891          | 0.314056              | 0.00873464  |"
      ]
     },
     "metadata": {},
     "output_type": "display_data"
    },
    {
     "data": {
      "text/html": [
       "<pre>+---------+--------------+-------------------+-----------------------+-------------+</pre>"
      ],
      "text/plain": [
       "+---------+--------------+-------------------+-----------------------+-------------+"
      ]
     },
     "metadata": {},
     "output_type": "display_data"
    },
    {
     "data": {
      "text/html": [
       "<pre>Optimization Complete: Maximum number of passes through the data reached.</pre>"
      ],
      "text/plain": [
       "Optimization Complete: Maximum number of passes through the data reached."
      ]
     },
     "metadata": {},
     "output_type": "display_data"
    },
    {
     "data": {
      "text/html": [
       "<pre>Computing final objective value and training RMSE.</pre>"
      ],
      "text/plain": [
       "Computing final objective value and training RMSE."
      ]
     },
     "metadata": {},
     "output_type": "display_data"
    },
    {
     "data": {
      "text/html": [
       "<pre>       Final objective value: 0.347189</pre>"
      ],
      "text/plain": [
       "       Final objective value: 0.347189"
      ]
     },
     "metadata": {},
     "output_type": "display_data"
    },
    {
     "data": {
      "text/html": [
       "<pre>       Final training RMSE: 0.320577</pre>"
      ],
      "text/plain": [
       "       Final training RMSE: 0.320577"
      ]
     },
     "metadata": {},
     "output_type": "display_data"
    }
   ],
   "source": [
    "user_model = gl.recommender.create(training_data, 'user_id', 'item_id', target='rating')"
   ]
  },
  {
   "cell_type": "code",
   "execution_count": 8,
   "metadata": {},
   "outputs": [
    {
     "data": {
      "text/html": [
       "<div style=\"max-height:1000px;max-width:1500px;overflow:auto;\"><table frame=\"box\" rules=\"cols\">\n",
       "    <tr>\n",
       "        <th style=\"padding-left: 1em; padding-right: 1em; text-align: center\">user_id</th>\n",
       "        <th style=\"padding-left: 1em; padding-right: 1em; text-align: center\">item_id</th>\n",
       "        <th style=\"padding-left: 1em; padding-right: 1em; text-align: center\">score</th>\n",
       "        <th style=\"padding-left: 1em; padding-right: 1em; text-align: center\">rank</th>\n",
       "    </tr>\n",
       "    <tr>\n",
       "        <td style=\"padding-left: 1em; padding-right: 1em; text-align: center; vertical-align: top\">A13AZVPEWEK1YC</td>\n",
       "        <td style=\"padding-left: 1em; padding-right: 1em; text-align: center; vertical-align: top\">B004NSUXHU</td>\n",
       "        <td style=\"padding-left: 1em; padding-right: 1em; text-align: center; vertical-align: top\">5.24458830291</td>\n",
       "        <td style=\"padding-left: 1em; padding-right: 1em; text-align: center; vertical-align: top\">1</td>\n",
       "    </tr>\n",
       "    <tr>\n",
       "        <td style=\"padding-left: 1em; padding-right: 1em; text-align: center; vertical-align: top\">A13AZVPEWEK1YC</td>\n",
       "        <td style=\"padding-left: 1em; padding-right: 1em; text-align: center; vertical-align: top\">B006W9KNXC</td>\n",
       "        <td style=\"padding-left: 1em; padding-right: 1em; text-align: center; vertical-align: top\">5.23462693625</td>\n",
       "        <td style=\"padding-left: 1em; padding-right: 1em; text-align: center; vertical-align: top\">2</td>\n",
       "    </tr>\n",
       "    <tr>\n",
       "        <td style=\"padding-left: 1em; padding-right: 1em; text-align: center; vertical-align: top\">A13AZVPEWEK1YC</td>\n",
       "        <td style=\"padding-left: 1em; padding-right: 1em; text-align: center; vertical-align: top\">1608838137</td>\n",
       "        <td style=\"padding-left: 1em; padding-right: 1em; text-align: center; vertical-align: top\">5.213745045</td>\n",
       "        <td style=\"padding-left: 1em; padding-right: 1em; text-align: center; vertical-align: top\">3</td>\n",
       "    </tr>\n",
       "    <tr>\n",
       "        <td style=\"padding-left: 1em; padding-right: 1em; text-align: center; vertical-align: top\">A13AZVPEWEK1YC</td>\n",
       "        <td style=\"padding-left: 1em; padding-right: 1em; text-align: center; vertical-align: top\">B0000AQS0F</td>\n",
       "        <td style=\"padding-left: 1em; padding-right: 1em; text-align: center; vertical-align: top\">5.11993275815</td>\n",
       "        <td style=\"padding-left: 1em; padding-right: 1em; text-align: center; vertical-align: top\">4</td>\n",
       "    </tr>\n",
       "    <tr>\n",
       "        <td style=\"padding-left: 1em; padding-right: 1em; text-align: center; vertical-align: top\">A13AZVPEWEK1YC</td>\n",
       "        <td style=\"padding-left: 1em; padding-right: 1em; text-align: center; vertical-align: top\">B00006C7G9</td>\n",
       "        <td style=\"padding-left: 1em; padding-right: 1em; text-align: center; vertical-align: top\">5.09393613273</td>\n",
       "        <td style=\"padding-left: 1em; padding-right: 1em; text-align: center; vertical-align: top\">5</td>\n",
       "    </tr>\n",
       "    <tr>\n",
       "        <td style=\"padding-left: 1em; padding-right: 1em; text-align: center; vertical-align: top\">A1EQZH1RGLW6T3</td>\n",
       "        <td style=\"padding-left: 1em; padding-right: 1em; text-align: center; vertical-align: top\">B004NSUXHU</td>\n",
       "        <td style=\"padding-left: 1em; padding-right: 1em; text-align: center; vertical-align: top\">5.24458830291</td>\n",
       "        <td style=\"padding-left: 1em; padding-right: 1em; text-align: center; vertical-align: top\">1</td>\n",
       "    </tr>\n",
       "    <tr>\n",
       "        <td style=\"padding-left: 1em; padding-right: 1em; text-align: center; vertical-align: top\">A1EQZH1RGLW6T3</td>\n",
       "        <td style=\"padding-left: 1em; padding-right: 1em; text-align: center; vertical-align: top\">B006W9KNXC</td>\n",
       "        <td style=\"padding-left: 1em; padding-right: 1em; text-align: center; vertical-align: top\">5.23462693625</td>\n",
       "        <td style=\"padding-left: 1em; padding-right: 1em; text-align: center; vertical-align: top\">2</td>\n",
       "    </tr>\n",
       "    <tr>\n",
       "        <td style=\"padding-left: 1em; padding-right: 1em; text-align: center; vertical-align: top\">A1EQZH1RGLW6T3</td>\n",
       "        <td style=\"padding-left: 1em; padding-right: 1em; text-align: center; vertical-align: top\">1608838137</td>\n",
       "        <td style=\"padding-left: 1em; padding-right: 1em; text-align: center; vertical-align: top\">5.213745045</td>\n",
       "        <td style=\"padding-left: 1em; padding-right: 1em; text-align: center; vertical-align: top\">3</td>\n",
       "    </tr>\n",
       "    <tr>\n",
       "        <td style=\"padding-left: 1em; padding-right: 1em; text-align: center; vertical-align: top\">A1EQZH1RGLW6T3</td>\n",
       "        <td style=\"padding-left: 1em; padding-right: 1em; text-align: center; vertical-align: top\">B0000AQS0F</td>\n",
       "        <td style=\"padding-left: 1em; padding-right: 1em; text-align: center; vertical-align: top\">5.11993275815</td>\n",
       "        <td style=\"padding-left: 1em; padding-right: 1em; text-align: center; vertical-align: top\">4</td>\n",
       "    </tr>\n",
       "    <tr>\n",
       "        <td style=\"padding-left: 1em; padding-right: 1em; text-align: center; vertical-align: top\">A1EQZH1RGLW6T3</td>\n",
       "        <td style=\"padding-left: 1em; padding-right: 1em; text-align: center; vertical-align: top\">B00006C7G9</td>\n",
       "        <td style=\"padding-left: 1em; padding-right: 1em; text-align: center; vertical-align: top\">5.09393613273</td>\n",
       "        <td style=\"padding-left: 1em; padding-right: 1em; text-align: center; vertical-align: top\">5</td>\n",
       "    </tr>\n",
       "</table>\n",
       "[2160 rows x 4 columns]<br/>Note: Only the head of the SFrame is printed.<br/>You can use print_rows(num_rows=m, num_columns=n) to print more rows and columns.\n",
       "</div>"
      ],
      "text/plain": [
       "Columns:\n",
       "\tuser_id\tstr\n",
       "\titem_id\tstr\n",
       "\tscore\tfloat\n",
       "\trank\tint\n",
       "\n",
       "Rows: 2160\n",
       "\n",
       "Data:\n",
       "+----------------+------------+---------------+------+\n",
       "|    user_id     |  item_id   |     score     | rank |\n",
       "+----------------+------------+---------------+------+\n",
       "| A13AZVPEWEK1YC | B004NSUXHU | 5.24458830291 |  1   |\n",
       "| A13AZVPEWEK1YC | B006W9KNXC | 5.23462693625 |  2   |\n",
       "| A13AZVPEWEK1YC | 1608838137 |  5.213745045  |  3   |\n",
       "| A13AZVPEWEK1YC | B0000AQS0F | 5.11993275815 |  4   |\n",
       "| A13AZVPEWEK1YC | B00006C7G9 | 5.09393613273 |  5   |\n",
       "| A1EQZH1RGLW6T3 | B004NSUXHU | 5.24458830291 |  1   |\n",
       "| A1EQZH1RGLW6T3 | B006W9KNXC | 5.23462693625 |  2   |\n",
       "| A1EQZH1RGLW6T3 | 1608838137 |  5.213745045  |  3   |\n",
       "| A1EQZH1RGLW6T3 | B0000AQS0F | 5.11993275815 |  4   |\n",
       "| A1EQZH1RGLW6T3 | B00006C7G9 | 5.09393613273 |  5   |\n",
       "+----------------+------------+---------------+------+\n",
       "[2160 rows x 4 columns]\n",
       "Note: Only the head of the SFrame is printed.\n",
       "You can use print_rows(num_rows=m, num_columns=n) to print more rows and columns."
      ]
     },
     "execution_count": 8,
     "metadata": {},
     "output_type": "execute_result"
    }
   ],
   "source": [
    "user_model.recommend(users = validation_data['user_id'], k=5, random_seed=123)"
   ]
  },
  {
   "cell_type": "code",
   "execution_count": 9,
   "metadata": {},
   "outputs": [
    {
     "name": "stdout",
     "output_type": "stream",
     "text": [
      "\n",
      "Precision and recall summary statistics by cutoff\n",
      "+--------+------------------+------------------+\n",
      "| cutoff |  mean_precision  |   mean_recall    |\n",
      "+--------+------------------+------------------+\n",
      "|   1    |       0.0        |       0.0        |\n",
      "|   2    |       0.0        |       0.0        |\n",
      "|   3    | 0.00224466891134 | 0.00673400673401 |\n",
      "|   4    | 0.00252525252525 |  0.010101010101  |\n",
      "|   5    | 0.0020202020202  |  0.010101010101  |\n",
      "|   6    | 0.00280583613917 |  0.016835016835  |\n",
      "|   7    |  0.002405002405  |  0.016835016835  |\n",
      "|   8    | 0.00210437710438 |  0.016835016835  |\n",
      "|   9    | 0.00187055742611 |  0.016835016835  |\n",
      "|   10   | 0.0016835016835  |  0.016835016835  |\n",
      "+--------+------------------+------------------+\n",
      "[10 rows x 3 columns]\n",
      "\n",
      "('\\nOverall RMSE: ', 1.7812891190620168)\n",
      "\n",
      "Per User RMSE (best)\n",
      "+---------------+-------+-----------------+\n",
      "|    user_id    | count |       rmse      |\n",
      "+---------------+-------+-----------------+\n",
      "| AJ6G5S4MK6MYU |   1   | 0.0365571104859 |\n",
      "+---------------+-------+-----------------+\n",
      "[1 rows x 3 columns]\n",
      "\n",
      "\n",
      "Per User RMSE (worst)\n",
      "+---------------+-------+---------------+\n",
      "|    user_id    | count |      rmse     |\n",
      "+---------------+-------+---------------+\n",
      "| AMN9FHL5CA2SM |   1   | 4.38073362178 |\n",
      "+---------------+-------+---------------+\n",
      "[1 rows x 3 columns]\n",
      "\n",
      "\n",
      "Per Item RMSE (best)\n",
      "+------------+-------+------------------+\n",
      "|  item_id   | count |       rmse       |\n",
      "+------------+-------+------------------+\n",
      "| B000ARTN3I |   1   | 0.00253111356242 |\n",
      "+------------+-------+------------------+\n",
      "[1 rows x 3 columns]\n",
      "\n",
      "\n",
      "Per Item RMSE (worst)\n",
      "+------------+-------+---------------+\n",
      "|  item_id   | count |      rmse     |\n",
      "+------------+-------+---------------+\n",
      "| B0035IB0TE |   1   | 5.46636224865 |\n",
      "+------------+-------+---------------+\n",
      "[1 rows x 3 columns]\n",
      "\n"
     ]
    },
    {
     "data": {
      "text/plain": [
       "{'precision_recall_by_user': Columns:\n",
       " \tuser_id\tstr\n",
       " \tcutoff\tint\n",
       " \tprecision\tfloat\n",
       " \trecall\tfloat\n",
       " \tcount\tint\n",
       " \n",
       " Rows: 5346\n",
       " \n",
       " Data:\n",
       " +----------------+--------+-----------+--------+-------+\n",
       " |    user_id     | cutoff | precision | recall | count |\n",
       " +----------------+--------+-----------+--------+-------+\n",
       " | A10MM4TO3R2G5N |   1    |    0.0    |  0.0   |   1   |\n",
       " | A10MM4TO3R2G5N |   2    |    0.0    |  0.0   |   1   |\n",
       " | A10MM4TO3R2G5N |   3    |    0.0    |  0.0   |   1   |\n",
       " | A10MM4TO3R2G5N |   4    |    0.0    |  0.0   |   1   |\n",
       " | A10MM4TO3R2G5N |   5    |    0.0    |  0.0   |   1   |\n",
       " | A10MM4TO3R2G5N |   6    |    0.0    |  0.0   |   1   |\n",
       " | A10MM4TO3R2G5N |   7    |    0.0    |  0.0   |   1   |\n",
       " | A10MM4TO3R2G5N |   8    |    0.0    |  0.0   |   1   |\n",
       " | A10MM4TO3R2G5N |   9    |    0.0    |  0.0   |   1   |\n",
       " | A10MM4TO3R2G5N |   10   |    0.0    |  0.0   |   1   |\n",
       " +----------------+--------+-----------+--------+-------+\n",
       " [5346 rows x 5 columns]\n",
       " Note: Only the head of the SFrame is printed.\n",
       " You can use print_rows(num_rows=m, num_columns=n) to print more rows and columns.,\n",
       " 'precision_recall_overall': Columns:\n",
       " \tcutoff\tint\n",
       " \tprecision\tfloat\n",
       " \trecall\tfloat\n",
       " \n",
       " Rows: 18\n",
       " \n",
       " Data:\n",
       " +--------+------------------+------------------+\n",
       " | cutoff |    precision     |      recall      |\n",
       " +--------+------------------+------------------+\n",
       " |   1    |       0.0        |       0.0        |\n",
       " |   2    |       0.0        |       0.0        |\n",
       " |   3    | 0.00224466891134 | 0.00673400673401 |\n",
       " |   4    | 0.00252525252525 |  0.010101010101  |\n",
       " |   5    | 0.0020202020202  |  0.010101010101  |\n",
       " |   6    | 0.00280583613917 |  0.016835016835  |\n",
       " |   7    |  0.002405002405  |  0.016835016835  |\n",
       " |   8    | 0.00210437710438 |  0.016835016835  |\n",
       " |   9    | 0.00187055742611 |  0.016835016835  |\n",
       " |   10   | 0.0016835016835  |  0.016835016835  |\n",
       " +--------+------------------+------------------+\n",
       " [18 rows x 3 columns]\n",
       " Note: Only the head of the SFrame is printed.\n",
       " You can use print_rows(num_rows=m, num_columns=n) to print more rows and columns.,\n",
       " 'rmse_by_item': Columns:\n",
       " \titem_id\tstr\n",
       " \tcount\tint\n",
       " \trmse\tfloat\n",
       " \n",
       " Rows: 421\n",
       " \n",
       " Data:\n",
       " +------------+-------+-----------------+\n",
       " |  item_id   | count |       rmse      |\n",
       " +------------+-------+-----------------+\n",
       " | 6303109950 |   1   |  0.349191410008 |\n",
       " | B00004RER0 |   1   | 0.0316919363167 |\n",
       " | B00004ZEU5 |   1   |  0.989918095532 |\n",
       " | B001PTUN34 |   1   |  1.31182761258  |\n",
       " | 0800102371 |   1   |  2.35296745366  |\n",
       " | B003WUXIYK |   1   |  2.61232872075  |\n",
       " | 6305300887 |   1   | 0.0835413210963 |\n",
       " | B000W8MMO2 |   1   |  2.53739042348  |\n",
       " | B00004WZZN |   1   |  1.74736626214  |\n",
       " | B001BN4WLS |   1   |  2.10506333179  |\n",
       " +------------+-------+-----------------+\n",
       " [421 rows x 3 columns]\n",
       " Note: Only the head of the SFrame is printed.\n",
       " You can use print_rows(num_rows=m, num_columns=n) to print more rows and columns.,\n",
       " 'rmse_by_user': Columns:\n",
       " \tuser_id\tstr\n",
       " \tcount\tint\n",
       " \trmse\tfloat\n",
       " \n",
       " Rows: 297\n",
       " \n",
       " Data:\n",
       " +----------------+-------+-----------------+\n",
       " |    user_id     | count |       rmse      |\n",
       " +----------------+-------+-----------------+\n",
       " | AGPFD6R5S8A0K  |   1   |  0.264629257384 |\n",
       " | A15EXELIYYO95J |   1   |  2.34264372521  |\n",
       " | A1XHNVXCR5BLVZ |   1   |  2.46651540929  |\n",
       " | A3W0V7MD843WF4 |   1   |  1.17111395067  |\n",
       " | A1TA4Z31MKMUGF |   1   | 0.0787453525637 |\n",
       " | A3TO9PAY0M6QH2 |   1   |  2.04305155343  |\n",
       " | ADX0F5JQ5DWH4  |   1   |   2.0359829194  |\n",
       " | A3F8W7R5YJC7BV |   1   |   2.5049279458  |\n",
       " | ALI7J6VZCA3UV  |   1   |  0.436917317572 |\n",
       " |  ANDIVKI6DLNJ  |   1   |  1.80914740497  |\n",
       " +----------------+-------+-----------------+\n",
       " [297 rows x 3 columns]\n",
       " Note: Only the head of the SFrame is printed.\n",
       " You can use print_rows(num_rows=m, num_columns=n) to print more rows and columns.,\n",
       " 'rmse_overall': 1.7812891190620168}"
      ]
     },
     "execution_count": 9,
     "metadata": {},
     "output_type": "execute_result"
    }
   ],
   "source": [
    "user_model.evaluate(validation_data, target='rating')"
   ]
  },
  {
   "cell_type": "markdown",
   "metadata": {},
   "source": [
    "#### create item based similarity recommender"
   ]
  },
  {
   "cell_type": "markdown",
   "metadata": {},
   "source": [
    "#### using jacard's similarity"
   ]
  },
  {
   "cell_type": "code",
   "execution_count": 40,
   "metadata": {},
   "outputs": [
    {
     "data": {
      "text/html": [
       "<pre>Recsys training: model = item_similarity</pre>"
      ],
      "text/plain": [
       "Recsys training: model = item_similarity"
      ]
     },
     "metadata": {},
     "output_type": "display_data"
    },
    {
     "data": {
      "text/html": [
       "<pre>Preparing data set.</pre>"
      ],
      "text/plain": [
       "Preparing data set."
      ]
     },
     "metadata": {},
     "output_type": "display_data"
    },
    {
     "data": {
      "text/html": [
       "<pre>    Data has 4606615 observations with 2088467 users and 200936 items.</pre>"
      ],
      "text/plain": [
       "    Data has 4606615 observations with 2088467 users and 200936 items."
      ]
     },
     "metadata": {},
     "output_type": "display_data"
    },
    {
     "data": {
      "text/html": [
       "<pre>    Data prepared in: 30.9624s</pre>"
      ],
      "text/plain": [
       "    Data prepared in: 30.9624s"
      ]
     },
     "metadata": {},
     "output_type": "display_data"
    },
    {
     "data": {
      "text/html": [
       "<pre>Training model from provided data.</pre>"
      ],
      "text/plain": [
       "Training model from provided data."
      ]
     },
     "metadata": {},
     "output_type": "display_data"
    },
    {
     "data": {
      "text/html": [
       "<pre>Gathering per-item and per-user statistics.</pre>"
      ],
      "text/plain": [
       "Gathering per-item and per-user statistics."
      ]
     },
     "metadata": {},
     "output_type": "display_data"
    },
    {
     "data": {
      "text/html": [
       "<pre>+--------------------------------+------------+</pre>"
      ],
      "text/plain": [
       "+--------------------------------+------------+"
      ]
     },
     "metadata": {},
     "output_type": "display_data"
    },
    {
     "data": {
      "text/html": [
       "<pre>| Elapsed Time (Item Statistics) | % Complete |</pre>"
      ],
      "text/plain": [
       "| Elapsed Time (Item Statistics) | % Complete |"
      ]
     },
     "metadata": {},
     "output_type": "display_data"
    },
    {
     "data": {
      "text/html": [
       "<pre>+--------------------------------+------------+</pre>"
      ],
      "text/plain": [
       "+--------------------------------+------------+"
      ]
     },
     "metadata": {},
     "output_type": "display_data"
    },
    {
     "data": {
      "text/html": [
       "<pre>| 8.228ms                        | 0          |</pre>"
      ],
      "text/plain": [
       "| 8.228ms                        | 0          |"
      ]
     },
     "metadata": {},
     "output_type": "display_data"
    },
    {
     "data": {
      "text/html": [
       "<pre>| 1.01s                          | 53.75      |</pre>"
      ],
      "text/plain": [
       "| 1.01s                          | 53.75      |"
      ]
     },
     "metadata": {},
     "output_type": "display_data"
    },
    {
     "data": {
      "text/html": [
       "<pre>| 1.66s                          | 100        |</pre>"
      ],
      "text/plain": [
       "| 1.66s                          | 100        |"
      ]
     },
     "metadata": {},
     "output_type": "display_data"
    },
    {
     "data": {
      "text/html": [
       "<pre>+--------------------------------+------------+</pre>"
      ],
      "text/plain": [
       "+--------------------------------+------------+"
      ]
     },
     "metadata": {},
     "output_type": "display_data"
    },
    {
     "data": {
      "text/html": [
       "<pre>Setting up lookup tables.</pre>"
      ],
      "text/plain": [
       "Setting up lookup tables."
      ]
     },
     "metadata": {},
     "output_type": "display_data"
    },
    {
     "data": {
      "text/html": [
       "<pre>Processing data in one pass using sparse lookup tables.</pre>"
      ],
      "text/plain": [
       "Processing data in one pass using sparse lookup tables."
      ]
     },
     "metadata": {},
     "output_type": "display_data"
    },
    {
     "data": {
      "text/html": [
       "<pre>+-------------------------------------+------------------+-----------------+</pre>"
      ],
      "text/plain": [
       "+-------------------------------------+------------------+-----------------+"
      ]
     },
     "metadata": {},
     "output_type": "display_data"
    },
    {
     "data": {
      "text/html": [
       "<pre>| Elapsed Time (Constructing Lookups) | Total % Complete | Items Processed |</pre>"
      ],
      "text/plain": [
       "| Elapsed Time (Constructing Lookups) | Total % Complete | Items Processed |"
      ]
     },
     "metadata": {},
     "output_type": "display_data"
    },
    {
     "data": {
      "text/html": [
       "<pre>+-------------------------------------+------------------+-----------------+</pre>"
      ],
      "text/plain": [
       "+-------------------------------------+------------------+-----------------+"
      ]
     },
     "metadata": {},
     "output_type": "display_data"
    },
    {
     "data": {
      "text/html": [
       "<pre>| 4.56s                               | 0                | 0               |</pre>"
      ],
      "text/plain": [
       "| 4.56s                               | 0                | 0               |"
      ]
     },
     "metadata": {},
     "output_type": "display_data"
    },
    {
     "data": {
      "text/html": [
       "<pre>| 5.97s                               | 3.25             | 6608            |</pre>"
      ],
      "text/plain": [
       "| 5.97s                               | 3.25             | 6608            |"
      ]
     },
     "metadata": {},
     "output_type": "display_data"
    },
    {
     "data": {
      "text/html": [
       "<pre>| 6.63s                               | 4.25             | 8982            |</pre>"
      ],
      "text/plain": [
       "| 6.63s                               | 4.25             | 8982            |"
      ]
     },
     "metadata": {},
     "output_type": "display_data"
    },
    {
     "data": {
      "text/html": [
       "<pre>| 7.88s                               | 4.75             | 9796            |</pre>"
      ],
      "text/plain": [
       "| 7.88s                               | 4.75             | 9796            |"
      ]
     },
     "metadata": {},
     "output_type": "display_data"
    },
    {
     "data": {
      "text/html": [
       "<pre>| 8.61s                               | 5.75             | 11600           |</pre>"
      ],
      "text/plain": [
       "| 8.61s                               | 5.75             | 11600           |"
      ]
     },
     "metadata": {},
     "output_type": "display_data"
    },
    {
     "data": {
      "text/html": [
       "<pre>| 9.58s                               | 6                | 12269           |</pre>"
      ],
      "text/plain": [
       "| 9.58s                               | 6                | 12269           |"
      ]
     },
     "metadata": {},
     "output_type": "display_data"
    },
    {
     "data": {
      "text/html": [
       "<pre>| 10.58s                              | 6.5              | 13481           |</pre>"
      ],
      "text/plain": [
       "| 10.58s                              | 6.5              | 13481           |"
      ]
     },
     "metadata": {},
     "output_type": "display_data"
    },
    {
     "data": {
      "text/html": [
       "<pre>| 11.63s                              | 7.25             | 14877           |</pre>"
      ],
      "text/plain": [
       "| 11.63s                              | 7.25             | 14877           |"
      ]
     },
     "metadata": {},
     "output_type": "display_data"
    },
    {
     "data": {
      "text/html": [
       "<pre>| 12.64s                              | 8.75             | 17778           |</pre>"
      ],
      "text/plain": [
       "| 12.64s                              | 8.75             | 17778           |"
      ]
     },
     "metadata": {},
     "output_type": "display_data"
    },
    {
     "data": {
      "text/html": [
       "<pre>| 13.57s                              | 9.5              | 19396           |</pre>"
      ],
      "text/plain": [
       "| 13.57s                              | 9.5              | 19396           |"
      ]
     },
     "metadata": {},
     "output_type": "display_data"
    },
    {
     "data": {
      "text/html": [
       "<pre>| 14.58s                              | 13               | 26255           |</pre>"
      ],
      "text/plain": [
       "| 14.58s                              | 13               | 26255           |"
      ]
     },
     "metadata": {},
     "output_type": "display_data"
    },
    {
     "data": {
      "text/html": [
       "<pre>| 15.58s                              | 13.25            | 26831           |</pre>"
      ],
      "text/plain": [
       "| 15.58s                              | 13.25            | 26831           |"
      ]
     },
     "metadata": {},
     "output_type": "display_data"
    },
    {
     "data": {
      "text/html": [
       "<pre>| 16.66s                              | 14               | 28501           |</pre>"
      ],
      "text/plain": [
       "| 16.66s                              | 14               | 28501           |"
      ]
     },
     "metadata": {},
     "output_type": "display_data"
    },
    {
     "data": {
      "text/html": [
       "<pre>| 17.60s                              | 14.25            | 28753           |</pre>"
      ],
      "text/plain": [
       "| 17.60s                              | 14.25            | 28753           |"
      ]
     },
     "metadata": {},
     "output_type": "display_data"
    },
    {
     "data": {
      "text/html": [
       "<pre>| 18.72s                              | 14.5             | 29219           |</pre>"
      ],
      "text/plain": [
       "| 18.72s                              | 14.5             | 29219           |"
      ]
     },
     "metadata": {},
     "output_type": "display_data"
    },
    {
     "data": {
      "text/html": [
       "<pre>| 19.66s                              | 14.75            | 29704           |</pre>"
      ],
      "text/plain": [
       "| 19.66s                              | 14.75            | 29704           |"
      ]
     },
     "metadata": {},
     "output_type": "display_data"
    },
    {
     "data": {
      "text/html": [
       "<pre>| 20.67s                              | 15.5             | 31228           |</pre>"
      ],
      "text/plain": [
       "| 20.67s                              | 15.5             | 31228           |"
      ]
     },
     "metadata": {},
     "output_type": "display_data"
    },
    {
     "data": {
      "text/html": [
       "<pre>| 21.59s                              | 18               | 36175           |</pre>"
      ],
      "text/plain": [
       "| 21.59s                              | 18               | 36175           |"
      ]
     },
     "metadata": {},
     "output_type": "display_data"
    },
    {
     "data": {
      "text/html": [
       "<pre>| 22.79s                              | 18.5             | 37219           |</pre>"
      ],
      "text/plain": [
       "| 22.79s                              | 18.5             | 37219           |"
      ]
     },
     "metadata": {},
     "output_type": "display_data"
    },
    {
     "data": {
      "text/html": [
       "<pre>| 23.62s                              | 19.25            | 39018           |</pre>"
      ],
      "text/plain": [
       "| 23.62s                              | 19.25            | 39018           |"
      ]
     },
     "metadata": {},
     "output_type": "display_data"
    },
    {
     "data": {
      "text/html": [
       "<pre>| 24.57s                              | 20.5             | 41461           |</pre>"
      ],
      "text/plain": [
       "| 24.57s                              | 20.5             | 41461           |"
      ]
     },
     "metadata": {},
     "output_type": "display_data"
    },
    {
     "data": {
      "text/html": [
       "<pre>| 25.59s                              | 22.5             | 45522           |</pre>"
      ],
      "text/plain": [
       "| 25.59s                              | 22.5             | 45522           |"
      ]
     },
     "metadata": {},
     "output_type": "display_data"
    },
    {
     "data": {
      "text/html": [
       "<pre>| 26.57s                              | 24               | 48655           |</pre>"
      ],
      "text/plain": [
       "| 26.57s                              | 24               | 48655           |"
      ]
     },
     "metadata": {},
     "output_type": "display_data"
    },
    {
     "data": {
      "text/html": [
       "<pre>| 27.67s                              | 24.5             | 49479           |</pre>"
      ],
      "text/plain": [
       "| 27.67s                              | 24.5             | 49479           |"
      ]
     },
     "metadata": {},
     "output_type": "display_data"
    },
    {
     "data": {
      "text/html": [
       "<pre>| 28.57s                              | 25.5             | 51564           |</pre>"
      ],
      "text/plain": [
       "| 28.57s                              | 25.5             | 51564           |"
      ]
     },
     "metadata": {},
     "output_type": "display_data"
    },
    {
     "data": {
      "text/html": [
       "<pre>| 29.70s                              | 25.75            | 52223           |</pre>"
      ],
      "text/plain": [
       "| 29.70s                              | 25.75            | 52223           |"
      ]
     },
     "metadata": {},
     "output_type": "display_data"
    },
    {
     "data": {
      "text/html": [
       "<pre>| 32.19s                              | 27               | 54737           |</pre>"
      ],
      "text/plain": [
       "| 32.19s                              | 27               | 54737           |"
      ]
     },
     "metadata": {},
     "output_type": "display_data"
    },
    {
     "data": {
      "text/html": [
       "<pre>| 33.32s                              | 27.25            | 54769           |</pre>"
      ],
      "text/plain": [
       "| 33.32s                              | 27.25            | 54769           |"
      ]
     },
     "metadata": {},
     "output_type": "display_data"
    },
    {
     "data": {
      "text/html": [
       "<pre>| 34.25s                              | 27.5             | 55544           |</pre>"
      ],
      "text/plain": [
       "| 34.25s                              | 27.5             | 55544           |"
      ]
     },
     "metadata": {},
     "output_type": "display_data"
    },
    {
     "data": {
      "text/html": [
       "<pre>| 35.28s                              | 28               | 56600           |</pre>"
      ],
      "text/plain": [
       "| 35.28s                              | 28               | 56600           |"
      ]
     },
     "metadata": {},
     "output_type": "display_data"
    },
    {
     "data": {
      "text/html": [
       "<pre>| 36.39s                              | 28.25            | 57007           |</pre>"
      ],
      "text/plain": [
       "| 36.39s                              | 28.25            | 57007           |"
      ]
     },
     "metadata": {},
     "output_type": "display_data"
    },
    {
     "data": {
      "text/html": [
       "<pre>| 37.27s                              | 28.5             | 57502           |</pre>"
      ],
      "text/plain": [
       "| 37.27s                              | 28.5             | 57502           |"
      ]
     },
     "metadata": {},
     "output_type": "display_data"
    },
    {
     "data": {
      "text/html": [
       "<pre>| 38.26s                              | 28.75            | 58234           |</pre>"
      ],
      "text/plain": [
       "| 38.26s                              | 28.75            | 58234           |"
      ]
     },
     "metadata": {},
     "output_type": "display_data"
    },
    {
     "data": {
      "text/html": [
       "<pre>| 39.19s                              | 29               | 58435           |</pre>"
      ],
      "text/plain": [
       "| 39.19s                              | 29               | 58435           |"
      ]
     },
     "metadata": {},
     "output_type": "display_data"
    },
    {
     "data": {
      "text/html": [
       "<pre>| 40.24s                              | 29.25            | 58937           |</pre>"
      ],
      "text/plain": [
       "| 40.24s                              | 29.25            | 58937           |"
      ]
     },
     "metadata": {},
     "output_type": "display_data"
    },
    {
     "data": {
      "text/html": [
       "<pre>| 41.26s                              | 30.25            | 61227           |</pre>"
      ],
      "text/plain": [
       "| 41.26s                              | 30.25            | 61227           |"
      ]
     },
     "metadata": {},
     "output_type": "display_data"
    },
    {
     "data": {
      "text/html": [
       "<pre>| 42.39s                              | 30.5             | 61347           |</pre>"
      ],
      "text/plain": [
       "| 42.39s                              | 30.5             | 61347           |"
      ]
     },
     "metadata": {},
     "output_type": "display_data"
    },
    {
     "data": {
      "text/html": [
       "<pre>| 43.23s                              | 30.5             | 61772           |</pre>"
      ],
      "text/plain": [
       "| 43.23s                              | 30.5             | 61772           |"
      ]
     },
     "metadata": {},
     "output_type": "display_data"
    },
    {
     "data": {
      "text/html": [
       "<pre>| 44.19s                              | 30.75            | 62283           |</pre>"
      ],
      "text/plain": [
       "| 44.19s                              | 30.75            | 62283           |"
      ]
     },
     "metadata": {},
     "output_type": "display_data"
    },
    {
     "data": {
      "text/html": [
       "<pre>| 45.19s                              | 31.75            | 64224           |</pre>"
      ],
      "text/plain": [
       "| 45.19s                              | 31.75            | 64224           |"
      ]
     },
     "metadata": {},
     "output_type": "display_data"
    },
    {
     "data": {
      "text/html": [
       "<pre>| 46.35s                              | 32.25            | 65204           |</pre>"
      ],
      "text/plain": [
       "| 46.35s                              | 32.25            | 65204           |"
      ]
     },
     "metadata": {},
     "output_type": "display_data"
    },
    {
     "data": {
      "text/html": [
       "<pre>| 47.25s                              | 32.5             | 65362           |</pre>"
      ],
      "text/plain": [
       "| 47.25s                              | 32.5             | 65362           |"
      ]
     },
     "metadata": {},
     "output_type": "display_data"
    },
    {
     "data": {
      "text/html": [
       "<pre>| 48.22s                              | 33               | 66320           |</pre>"
      ],
      "text/plain": [
       "| 48.22s                              | 33               | 66320           |"
      ]
     },
     "metadata": {},
     "output_type": "display_data"
    },
    {
     "data": {
      "text/html": [
       "<pre>| 49.20s                              | 33.25            | 66887           |</pre>"
      ],
      "text/plain": [
       "| 49.20s                              | 33.25            | 66887           |"
      ]
     },
     "metadata": {},
     "output_type": "display_data"
    },
    {
     "data": {
      "text/html": [
       "<pre>| 50.23s                              | 33.75            | 67883           |</pre>"
      ],
      "text/plain": [
       "| 50.23s                              | 33.75            | 67883           |"
      ]
     },
     "metadata": {},
     "output_type": "display_data"
    },
    {
     "data": {
      "text/html": [
       "<pre>| 51.21s                              | 35               | 70452           |</pre>"
      ],
      "text/plain": [
       "| 51.21s                              | 35               | 70452           |"
      ]
     },
     "metadata": {},
     "output_type": "display_data"
    },
    {
     "data": {
      "text/html": [
       "<pre>| 52.27s                              | 35.5             | 71425           |</pre>"
      ],
      "text/plain": [
       "| 52.27s                              | 35.5             | 71425           |"
      ]
     },
     "metadata": {},
     "output_type": "display_data"
    },
    {
     "data": {
      "text/html": [
       "<pre>| 53.19s                              | 35.75            | 72310           |</pre>"
      ],
      "text/plain": [
       "| 53.19s                              | 35.75            | 72310           |"
      ]
     },
     "metadata": {},
     "output_type": "display_data"
    },
    {
     "data": {
      "text/html": [
       "<pre>| 55.08s                              | 38.25            | 77234           |</pre>"
      ],
      "text/plain": [
       "| 55.08s                              | 38.25            | 77234           |"
      ]
     },
     "metadata": {},
     "output_type": "display_data"
    },
    {
     "data": {
      "text/html": [
       "<pre>| 55.61s                              | 38.25            | 77234           |</pre>"
      ],
      "text/plain": [
       "| 55.61s                              | 38.25            | 77234           |"
      ]
     },
     "metadata": {},
     "output_type": "display_data"
    },
    {
     "data": {
      "text/html": [
       "<pre>| 56.22s                              | 38.5             | 77423           |</pre>"
      ],
      "text/plain": [
       "| 56.22s                              | 38.5             | 77423           |"
      ]
     },
     "metadata": {},
     "output_type": "display_data"
    },
    {
     "data": {
      "text/html": [
       "<pre>| 57.23s                              | 38.75            | 78278           |</pre>"
      ],
      "text/plain": [
       "| 57.23s                              | 38.75            | 78278           |"
      ]
     },
     "metadata": {},
     "output_type": "display_data"
    },
    {
     "data": {
      "text/html": [
       "<pre>| 58.21s                              | 39.75            | 80249           |</pre>"
      ],
      "text/plain": [
       "| 58.21s                              | 39.75            | 80249           |"
      ]
     },
     "metadata": {},
     "output_type": "display_data"
    },
    {
     "data": {
      "text/html": [
       "<pre>| 59.24s                              | 40               | 80630           |</pre>"
      ],
      "text/plain": [
       "| 59.24s                              | 40               | 80630           |"
      ]
     },
     "metadata": {},
     "output_type": "display_data"
    },
    {
     "data": {
      "text/html": [
       "<pre>| 1m 0s                               | 40.25            | 81254           |</pre>"
      ],
      "text/plain": [
       "| 1m 0s                               | 40.25            | 81254           |"
      ]
     },
     "metadata": {},
     "output_type": "display_data"
    },
    {
     "data": {
      "text/html": [
       "<pre>| 1m 1s                               | 40.75            | 81945           |</pre>"
      ],
      "text/plain": [
       "| 1m 1s                               | 40.75            | 81945           |"
      ]
     },
     "metadata": {},
     "output_type": "display_data"
    },
    {
     "data": {
      "text/html": [
       "<pre>| 1m 2s                               | 40.75            | 82364           |</pre>"
      ],
      "text/plain": [
       "| 1m 2s                               | 40.75            | 82364           |"
      ]
     },
     "metadata": {},
     "output_type": "display_data"
    },
    {
     "data": {
      "text/html": [
       "<pre>| 1m 3s                               | 41.25            | 83315           |</pre>"
      ],
      "text/plain": [
       "| 1m 3s                               | 41.25            | 83315           |"
      ]
     },
     "metadata": {},
     "output_type": "display_data"
    },
    {
     "data": {
      "text/html": [
       "<pre>| 1m 4s                               | 44.25            | 89077           |</pre>"
      ],
      "text/plain": [
       "| 1m 4s                               | 44.25            | 89077           |"
      ]
     },
     "metadata": {},
     "output_type": "display_data"
    },
    {
     "data": {
      "text/html": [
       "<pre>| 1m 5s                               | 44.25            | 89289           |</pre>"
      ],
      "text/plain": [
       "| 1m 5s                               | 44.25            | 89289           |"
      ]
     },
     "metadata": {},
     "output_type": "display_data"
    },
    {
     "data": {
      "text/html": [
       "<pre>| 1m 6s                               | 44.5             | 89512           |</pre>"
      ],
      "text/plain": [
       "| 1m 6s                               | 44.5             | 89512           |"
      ]
     },
     "metadata": {},
     "output_type": "display_data"
    },
    {
     "data": {
      "text/html": [
       "<pre>| 1m 7s                               | 44.75            | 90022           |</pre>"
      ],
      "text/plain": [
       "| 1m 7s                               | 44.75            | 90022           |"
      ]
     },
     "metadata": {},
     "output_type": "display_data"
    },
    {
     "data": {
      "text/html": [
       "<pre>| 1m 8s                               | 45.5             | 91439           |</pre>"
      ],
      "text/plain": [
       "| 1m 8s                               | 45.5             | 91439           |"
      ]
     },
     "metadata": {},
     "output_type": "display_data"
    },
    {
     "data": {
      "text/html": [
       "<pre>| 1m 9s                               | 45.5             | 91682           |</pre>"
      ],
      "text/plain": [
       "| 1m 9s                               | 45.5             | 91682           |"
      ]
     },
     "metadata": {},
     "output_type": "display_data"
    },
    {
     "data": {
      "text/html": [
       "<pre>| 1m 10s                              | 45.75            | 92408           |</pre>"
      ],
      "text/plain": [
       "| 1m 10s                              | 45.75            | 92408           |"
      ]
     },
     "metadata": {},
     "output_type": "display_data"
    },
    {
     "data": {
      "text/html": [
       "<pre>| 1m 11s                              | 46               | 92563           |</pre>"
      ],
      "text/plain": [
       "| 1m 11s                              | 46               | 92563           |"
      ]
     },
     "metadata": {},
     "output_type": "display_data"
    },
    {
     "data": {
      "text/html": [
       "<pre>| 1m 13s                              | 47.75            | 96072           |</pre>"
      ],
      "text/plain": [
       "| 1m 13s                              | 47.75            | 96072           |"
      ]
     },
     "metadata": {},
     "output_type": "display_data"
    },
    {
     "data": {
      "text/html": [
       "<pre>| 1m 14s                              | 47.75            | 96176           |</pre>"
      ],
      "text/plain": [
       "| 1m 14s                              | 47.75            | 96176           |"
      ]
     },
     "metadata": {},
     "output_type": "display_data"
    },
    {
     "data": {
      "text/html": [
       "<pre>| 1m 17s                              | 48.25            | 97353           |</pre>"
      ],
      "text/plain": [
       "| 1m 17s                              | 48.25            | 97353           |"
      ]
     },
     "metadata": {},
     "output_type": "display_data"
    },
    {
     "data": {
      "text/html": [
       "<pre>| 1m 18s                              | 48.5             | 97510           |</pre>"
      ],
      "text/plain": [
       "| 1m 18s                              | 48.5             | 97510           |"
      ]
     },
     "metadata": {},
     "output_type": "display_data"
    },
    {
     "data": {
      "text/html": [
       "<pre>| 1m 19s                              | 48.5             | 97615           |</pre>"
      ],
      "text/plain": [
       "| 1m 19s                              | 48.5             | 97615           |"
      ]
     },
     "metadata": {},
     "output_type": "display_data"
    },
    {
     "data": {
      "text/html": [
       "<pre>| 1m 20s                              | 48.5             | 97774           |</pre>"
      ],
      "text/plain": [
       "| 1m 20s                              | 48.5             | 97774           |"
      ]
     },
     "metadata": {},
     "output_type": "display_data"
    },
    {
     "data": {
      "text/html": [
       "<pre>| 1m 21s                              | 48.75            | 98084           |</pre>"
      ],
      "text/plain": [
       "| 1m 21s                              | 48.75            | 98084           |"
      ]
     },
     "metadata": {},
     "output_type": "display_data"
    },
    {
     "data": {
      "text/html": [
       "<pre>| 1m 22s                              | 48.75            | 98429           |</pre>"
      ],
      "text/plain": [
       "| 1m 22s                              | 48.75            | 98429           |"
      ]
     },
     "metadata": {},
     "output_type": "display_data"
    },
    {
     "data": {
      "text/html": [
       "<pre>| 1m 23s                              | 49.75            | 100402          |</pre>"
      ],
      "text/plain": [
       "| 1m 23s                              | 49.75            | 100402          |"
      ]
     },
     "metadata": {},
     "output_type": "display_data"
    },
    {
     "data": {
      "text/html": [
       "<pre>| 1m 24s                              | 50               | 100728          |</pre>"
      ],
      "text/plain": [
       "| 1m 24s                              | 50               | 100728          |"
      ]
     },
     "metadata": {},
     "output_type": "display_data"
    },
    {
     "data": {
      "text/html": [
       "<pre>| 1m 25s                              | 52.75            | 106069          |</pre>"
      ],
      "text/plain": [
       "| 1m 25s                              | 52.75            | 106069          |"
      ]
     },
     "metadata": {},
     "output_type": "display_data"
    },
    {
     "data": {
      "text/html": [
       "<pre>| 1m 26s                              | 53               | 106585          |</pre>"
      ],
      "text/plain": [
       "| 1m 26s                              | 53               | 106585          |"
      ]
     },
     "metadata": {},
     "output_type": "display_data"
    },
    {
     "data": {
      "text/html": [
       "<pre>| 1m 27s                              | 53.25            | 107259          |</pre>"
      ],
      "text/plain": [
       "| 1m 27s                              | 53.25            | 107259          |"
      ]
     },
     "metadata": {},
     "output_type": "display_data"
    },
    {
     "data": {
      "text/html": [
       "<pre>| 1m 28s                              | 53.75            | 108038          |</pre>"
      ],
      "text/plain": [
       "| 1m 28s                              | 53.75            | 108038          |"
      ]
     },
     "metadata": {},
     "output_type": "display_data"
    },
    {
     "data": {
      "text/html": [
       "<pre>| 1m 29s                              | 55               | 110581          |</pre>"
      ],
      "text/plain": [
       "| 1m 29s                              | 55               | 110581          |"
      ]
     },
     "metadata": {},
     "output_type": "display_data"
    },
    {
     "data": {
      "text/html": [
       "<pre>| 1m 30s                              | 55               | 111015          |</pre>"
      ],
      "text/plain": [
       "| 1m 30s                              | 55               | 111015          |"
      ]
     },
     "metadata": {},
     "output_type": "display_data"
    },
    {
     "data": {
      "text/html": [
       "<pre>| 1m 31s                              | 55.25            | 111124          |</pre>"
      ],
      "text/plain": [
       "| 1m 31s                              | 55.25            | 111124          |"
      ]
     },
     "metadata": {},
     "output_type": "display_data"
    },
    {
     "data": {
      "text/html": [
       "<pre>| 1m 32s                              | 55.5             | 111548          |</pre>"
      ],
      "text/plain": [
       "| 1m 32s                              | 55.5             | 111548          |"
      ]
     },
     "metadata": {},
     "output_type": "display_data"
    },
    {
     "data": {
      "text/html": [
       "<pre>| 1m 33s                              | 55.5             | 111633          |</pre>"
      ],
      "text/plain": [
       "| 1m 33s                              | 55.5             | 111633          |"
      ]
     },
     "metadata": {},
     "output_type": "display_data"
    },
    {
     "data": {
      "text/html": [
       "<pre>| 1m 34s                              | 55.5             | 111966          |</pre>"
      ],
      "text/plain": [
       "| 1m 34s                              | 55.5             | 111966          |"
      ]
     },
     "metadata": {},
     "output_type": "display_data"
    },
    {
     "data": {
      "text/html": [
       "<pre>| 1m 35s                              | 55.5             | 112017          |</pre>"
      ],
      "text/plain": [
       "| 1m 35s                              | 55.5             | 112017          |"
      ]
     },
     "metadata": {},
     "output_type": "display_data"
    },
    {
     "data": {
      "text/html": [
       "<pre>| 1m 37s                              | 55.75            | 112215          |</pre>"
      ],
      "text/plain": [
       "| 1m 37s                              | 55.75            | 112215          |"
      ]
     },
     "metadata": {},
     "output_type": "display_data"
    },
    {
     "data": {
      "text/html": [
       "<pre>| 1m 37s                              | 55.75            | 112237          |</pre>"
      ],
      "text/plain": [
       "| 1m 37s                              | 55.75            | 112237          |"
      ]
     },
     "metadata": {},
     "output_type": "display_data"
    },
    {
     "data": {
      "text/html": [
       "<pre>| 1m 38s                              | 55.75            | 112500          |</pre>"
      ],
      "text/plain": [
       "| 1m 38s                              | 55.75            | 112500          |"
      ]
     },
     "metadata": {},
     "output_type": "display_data"
    },
    {
     "data": {
      "text/html": [
       "<pre>| 1m 39s                              | 56               | 112649          |</pre>"
      ],
      "text/plain": [
       "| 1m 39s                              | 56               | 112649          |"
      ]
     },
     "metadata": {},
     "output_type": "display_data"
    },
    {
     "data": {
      "text/html": [
       "<pre>| 1m 40s                              | 56               | 112918          |</pre>"
      ],
      "text/plain": [
       "| 1m 40s                              | 56               | 112918          |"
      ]
     },
     "metadata": {},
     "output_type": "display_data"
    },
    {
     "data": {
      "text/html": [
       "<pre>| 1m 41s                              | 56.25            | 113297          |</pre>"
      ],
      "text/plain": [
       "| 1m 41s                              | 56.25            | 113297          |"
      ]
     },
     "metadata": {},
     "output_type": "display_data"
    },
    {
     "data": {
      "text/html": [
       "<pre>| 1m 42s                              | 56.25            | 113409          |</pre>"
      ],
      "text/plain": [
       "| 1m 42s                              | 56.25            | 113409          |"
      ]
     },
     "metadata": {},
     "output_type": "display_data"
    },
    {
     "data": {
      "text/html": [
       "<pre>| 1m 43s                              | 56.5             | 113985          |</pre>"
      ],
      "text/plain": [
       "| 1m 43s                              | 56.5             | 113985          |"
      ]
     },
     "metadata": {},
     "output_type": "display_data"
    },
    {
     "data": {
      "text/html": [
       "<pre>| 1m 45s                              | 56.75            | 114529          |</pre>"
      ],
      "text/plain": [
       "| 1m 45s                              | 56.75            | 114529          |"
      ]
     },
     "metadata": {},
     "output_type": "display_data"
    },
    {
     "data": {
      "text/html": [
       "<pre>| 1m 45s                              | 57               | 114542          |</pre>"
      ],
      "text/plain": [
       "| 1m 45s                              | 57               | 114542          |"
      ]
     },
     "metadata": {},
     "output_type": "display_data"
    },
    {
     "data": {
      "text/html": [
       "<pre>| 1m 46s                              | 57               | 114811          |</pre>"
      ],
      "text/plain": [
       "| 1m 46s                              | 57               | 114811          |"
      ]
     },
     "metadata": {},
     "output_type": "display_data"
    },
    {
     "data": {
      "text/html": [
       "<pre>| 1m 47s                              | 57.5             | 115844          |</pre>"
      ],
      "text/plain": [
       "| 1m 47s                              | 57.5             | 115844          |"
      ]
     },
     "metadata": {},
     "output_type": "display_data"
    },
    {
     "data": {
      "text/html": [
       "<pre>| 1m 48s                              | 57.5             | 115919          |</pre>"
      ],
      "text/plain": [
       "| 1m 48s                              | 57.5             | 115919          |"
      ]
     },
     "metadata": {},
     "output_type": "display_data"
    },
    {
     "data": {
      "text/html": [
       "<pre>| 1m 49s                              | 57.75            | 116056          |</pre>"
      ],
      "text/plain": [
       "| 1m 49s                              | 57.75            | 116056          |"
      ]
     },
     "metadata": {},
     "output_type": "display_data"
    },
    {
     "data": {
      "text/html": [
       "<pre>| 1m 50s                              | 57.75            | 116269          |</pre>"
      ],
      "text/plain": [
       "| 1m 50s                              | 57.75            | 116269          |"
      ]
     },
     "metadata": {},
     "output_type": "display_data"
    },
    {
     "data": {
      "text/html": [
       "<pre>| 1m 51s                              | 58               | 116627          |</pre>"
      ],
      "text/plain": [
       "| 1m 51s                              | 58               | 116627          |"
      ]
     },
     "metadata": {},
     "output_type": "display_data"
    },
    {
     "data": {
      "text/html": [
       "<pre>| 1m 52s                              | 58               | 116760          |</pre>"
      ],
      "text/plain": [
       "| 1m 52s                              | 58               | 116760          |"
      ]
     },
     "metadata": {},
     "output_type": "display_data"
    },
    {
     "data": {
      "text/html": [
       "<pre>| 1m 54s                              | 58.25            | 117124          |</pre>"
      ],
      "text/plain": [
       "| 1m 54s                              | 58.25            | 117124          |"
      ]
     },
     "metadata": {},
     "output_type": "display_data"
    },
    {
     "data": {
      "text/html": [
       "<pre>| 1m 55s                              | 58.25            | 117415          |</pre>"
      ],
      "text/plain": [
       "| 1m 55s                              | 58.25            | 117415          |"
      ]
     },
     "metadata": {},
     "output_type": "display_data"
    },
    {
     "data": {
      "text/html": [
       "<pre>| 1m 56s                              | 58.75            | 118433          |</pre>"
      ],
      "text/plain": [
       "| 1m 56s                              | 58.75            | 118433          |"
      ]
     },
     "metadata": {},
     "output_type": "display_data"
    },
    {
     "data": {
      "text/html": [
       "<pre>| 1m 57s                              | 58.75            | 118509          |</pre>"
      ],
      "text/plain": [
       "| 1m 57s                              | 58.75            | 118509          |"
      ]
     },
     "metadata": {},
     "output_type": "display_data"
    },
    {
     "data": {
      "text/html": [
       "<pre>| 1m 58s                              | 59               | 118605          |</pre>"
      ],
      "text/plain": [
       "| 1m 58s                              | 59               | 118605          |"
      ]
     },
     "metadata": {},
     "output_type": "display_data"
    },
    {
     "data": {
      "text/html": [
       "<pre>| 1m 59s                              | 59.25            | 119467          |</pre>"
      ],
      "text/plain": [
       "| 1m 59s                              | 59.25            | 119467          |"
      ]
     },
     "metadata": {},
     "output_type": "display_data"
    },
    {
     "data": {
      "text/html": [
       "<pre>| 2m 0s                               | 59.25            | 119539          |</pre>"
      ],
      "text/plain": [
       "| 2m 0s                               | 59.25            | 119539          |"
      ]
     },
     "metadata": {},
     "output_type": "display_data"
    },
    {
     "data": {
      "text/html": [
       "<pre>| 2m 1s                               | 59.5             | 119675          |</pre>"
      ],
      "text/plain": [
       "| 2m 1s                               | 59.5             | 119675          |"
      ]
     },
     "metadata": {},
     "output_type": "display_data"
    },
    {
     "data": {
      "text/html": [
       "<pre>| 2m 2s                               | 59.5             | 119768          |</pre>"
      ],
      "text/plain": [
       "| 2m 2s                               | 59.5             | 119768          |"
      ]
     },
     "metadata": {},
     "output_type": "display_data"
    },
    {
     "data": {
      "text/html": [
       "<pre>| 2m 3s                               | 59.75            | 120109          |</pre>"
      ],
      "text/plain": [
       "| 2m 3s                               | 59.75            | 120109          |"
      ]
     },
     "metadata": {},
     "output_type": "display_data"
    },
    {
     "data": {
      "text/html": [
       "<pre>| 2m 4s                               | 59.75            | 120137          |</pre>"
      ],
      "text/plain": [
       "| 2m 4s                               | 59.75            | 120137          |"
      ]
     },
     "metadata": {},
     "output_type": "display_data"
    },
    {
     "data": {
      "text/html": [
       "<pre>| 2m 5s                               | 59.75            | 120219          |</pre>"
      ],
      "text/plain": [
       "| 2m 5s                               | 59.75            | 120219          |"
      ]
     },
     "metadata": {},
     "output_type": "display_data"
    },
    {
     "data": {
      "text/html": [
       "<pre>| 2m 6s                               | 59.75            | 120279          |</pre>"
      ],
      "text/plain": [
       "| 2m 6s                               | 59.75            | 120279          |"
      ]
     },
     "metadata": {},
     "output_type": "display_data"
    },
    {
     "data": {
      "text/html": [
       "<pre>| 2m 7s                               | 60               | 120733          |</pre>"
      ],
      "text/plain": [
       "| 2m 7s                               | 60               | 120733          |"
      ]
     },
     "metadata": {},
     "output_type": "display_data"
    },
    {
     "data": {
      "text/html": [
       "<pre>| 2m 8s                               | 60               | 120766          |</pre>"
      ],
      "text/plain": [
       "| 2m 8s                               | 60               | 120766          |"
      ]
     },
     "metadata": {},
     "output_type": "display_data"
    },
    {
     "data": {
      "text/html": [
       "<pre>| 2m 9s                               | 60               | 120822          |</pre>"
      ],
      "text/plain": [
       "| 2m 9s                               | 60               | 120822          |"
      ]
     },
     "metadata": {},
     "output_type": "display_data"
    },
    {
     "data": {
      "text/html": [
       "<pre>| 2m 10s                              | 60               | 120995          |</pre>"
      ],
      "text/plain": [
       "| 2m 10s                              | 60               | 120995          |"
      ]
     },
     "metadata": {},
     "output_type": "display_data"
    },
    {
     "data": {
      "text/html": [
       "<pre>| 2m 11s                              | 60.25            | 121283          |</pre>"
      ],
      "text/plain": [
       "| 2m 11s                              | 60.25            | 121283          |"
      ]
     },
     "metadata": {},
     "output_type": "display_data"
    },
    {
     "data": {
      "text/html": [
       "<pre>| 2m 12s                              | 60.25            | 121299          |</pre>"
      ],
      "text/plain": [
       "| 2m 12s                              | 60.25            | 121299          |"
      ]
     },
     "metadata": {},
     "output_type": "display_data"
    },
    {
     "data": {
      "text/html": [
       "<pre>| 2m 13s                              | 60.5             | 121853          |</pre>"
      ],
      "text/plain": [
       "| 2m 13s                              | 60.5             | 121853          |"
      ]
     },
     "metadata": {},
     "output_type": "display_data"
    },
    {
     "data": {
      "text/html": [
       "<pre>| 2m 14s                              | 60.5             | 121934          |</pre>"
      ],
      "text/plain": [
       "| 2m 14s                              | 60.5             | 121934          |"
      ]
     },
     "metadata": {},
     "output_type": "display_data"
    },
    {
     "data": {
      "text/html": [
       "<pre>| 2m 15s                              | 60.75            | 122281          |</pre>"
      ],
      "text/plain": [
       "| 2m 15s                              | 60.75            | 122281          |"
      ]
     },
     "metadata": {},
     "output_type": "display_data"
    },
    {
     "data": {
      "text/html": [
       "<pre>| 2m 16s                              | 60.75            | 122301          |</pre>"
      ],
      "text/plain": [
       "| 2m 16s                              | 60.75            | 122301          |"
      ]
     },
     "metadata": {},
     "output_type": "display_data"
    },
    {
     "data": {
      "text/html": [
       "<pre>| 2m 17s                              | 60.75            | 122394          |</pre>"
      ],
      "text/plain": [
       "| 2m 17s                              | 60.75            | 122394          |"
      ]
     },
     "metadata": {},
     "output_type": "display_data"
    },
    {
     "data": {
      "text/html": [
       "<pre>| 2m 18s                              | 61               | 122756          |</pre>"
      ],
      "text/plain": [
       "| 2m 18s                              | 61               | 122756          |"
      ]
     },
     "metadata": {},
     "output_type": "display_data"
    },
    {
     "data": {
      "text/html": [
       "<pre>| 2m 19s                              | 61               | 122818          |</pre>"
      ],
      "text/plain": [
       "| 2m 19s                              | 61               | 122818          |"
      ]
     },
     "metadata": {},
     "output_type": "display_data"
    },
    {
     "data": {
      "text/html": [
       "<pre>| 2m 20s                              | 61               | 122876          |</pre>"
      ],
      "text/plain": [
       "| 2m 20s                              | 61               | 122876          |"
      ]
     },
     "metadata": {},
     "output_type": "display_data"
    },
    {
     "data": {
      "text/html": [
       "<pre>| 2m 22s                              | 61.25            | 123160          |</pre>"
      ],
      "text/plain": [
       "| 2m 22s                              | 61.25            | 123160          |"
      ]
     },
     "metadata": {},
     "output_type": "display_data"
    },
    {
     "data": {
      "text/html": [
       "<pre>| 2m 25s                              | 61.5             | 123947          |</pre>"
      ],
      "text/plain": [
       "| 2m 25s                              | 61.5             | 123947          |"
      ]
     },
     "metadata": {},
     "output_type": "display_data"
    },
    {
     "data": {
      "text/html": [
       "<pre>| 2m 26s                              | 61.75            | 124109          |</pre>"
      ],
      "text/plain": [
       "| 2m 26s                              | 61.75            | 124109          |"
      ]
     },
     "metadata": {},
     "output_type": "display_data"
    },
    {
     "data": {
      "text/html": [
       "<pre>| 2m 27s                              | 61.75            | 124134          |</pre>"
      ],
      "text/plain": [
       "| 2m 27s                              | 61.75            | 124134          |"
      ]
     },
     "metadata": {},
     "output_type": "display_data"
    },
    {
     "data": {
      "text/html": [
       "<pre>| 2m 28s                              | 61.75            | 124210          |</pre>"
      ],
      "text/plain": [
       "| 2m 28s                              | 61.75            | 124210          |"
      ]
     },
     "metadata": {},
     "output_type": "display_data"
    },
    {
     "data": {
      "text/html": [
       "<pre>| 2m 29s                              | 61.75            | 124231          |</pre>"
      ],
      "text/plain": [
       "| 2m 29s                              | 61.75            | 124231          |"
      ]
     },
     "metadata": {},
     "output_type": "display_data"
    },
    {
     "data": {
      "text/html": [
       "<pre>| 2m 30s                              | 61.75            | 124320          |</pre>"
      ],
      "text/plain": [
       "| 2m 30s                              | 61.75            | 124320          |"
      ]
     },
     "metadata": {},
     "output_type": "display_data"
    },
    {
     "data": {
      "text/html": [
       "<pre>| 2m 31s                              | 61.75            | 124361          |</pre>"
      ],
      "text/plain": [
       "| 2m 31s                              | 61.75            | 124361          |"
      ]
     },
     "metadata": {},
     "output_type": "display_data"
    },
    {
     "data": {
      "text/html": [
       "<pre>| 2m 32s                              | 62               | 124723          |</pre>"
      ],
      "text/plain": [
       "| 2m 32s                              | 62               | 124723          |"
      ]
     },
     "metadata": {},
     "output_type": "display_data"
    },
    {
     "data": {
      "text/html": [
       "<pre>| 2m 33s                              | 62.25            | 125116          |</pre>"
      ],
      "text/plain": [
       "| 2m 33s                              | 62.25            | 125116          |"
      ]
     },
     "metadata": {},
     "output_type": "display_data"
    },
    {
     "data": {
      "text/html": [
       "<pre>| 2m 34s                              | 62.25            | 125204          |</pre>"
      ],
      "text/plain": [
       "| 2m 34s                              | 62.25            | 125204          |"
      ]
     },
     "metadata": {},
     "output_type": "display_data"
    },
    {
     "data": {
      "text/html": [
       "<pre>| 2m 35s                              | 62.25            | 125464          |</pre>"
      ],
      "text/plain": [
       "| 2m 35s                              | 62.25            | 125464          |"
      ]
     },
     "metadata": {},
     "output_type": "display_data"
    },
    {
     "data": {
      "text/html": [
       "<pre>| 2m 36s                              | 62.5             | 125595          |</pre>"
      ],
      "text/plain": [
       "| 2m 36s                              | 62.5             | 125595          |"
      ]
     },
     "metadata": {},
     "output_type": "display_data"
    },
    {
     "data": {
      "text/html": [
       "<pre>| 2m 37s                              | 62.5             | 125614          |</pre>"
      ],
      "text/plain": [
       "| 2m 37s                              | 62.5             | 125614          |"
      ]
     },
     "metadata": {},
     "output_type": "display_data"
    },
    {
     "data": {
      "text/html": [
       "<pre>| 2m 38s                              | 62.5             | 125666          |</pre>"
      ],
      "text/plain": [
       "| 2m 38s                              | 62.5             | 125666          |"
      ]
     },
     "metadata": {},
     "output_type": "display_data"
    },
    {
     "data": {
      "text/html": [
       "<pre>| 2m 39s                              | 62.5             | 125763          |</pre>"
      ],
      "text/plain": [
       "| 2m 39s                              | 62.5             | 125763          |"
      ]
     },
     "metadata": {},
     "output_type": "display_data"
    },
    {
     "data": {
      "text/html": [
       "<pre>| 2m 40s                              | 62.5             | 126000          |</pre>"
      ],
      "text/plain": [
       "| 2m 40s                              | 62.5             | 126000          |"
      ]
     },
     "metadata": {},
     "output_type": "display_data"
    },
    {
     "data": {
      "text/html": [
       "<pre>| 2m 41s                              | 63               | 126745          |</pre>"
      ],
      "text/plain": [
       "| 2m 41s                              | 63               | 126745          |"
      ]
     },
     "metadata": {},
     "output_type": "display_data"
    },
    {
     "data": {
      "text/html": [
       "<pre>| 2m 42s                              | 63               | 126843          |</pre>"
      ],
      "text/plain": [
       "| 2m 42s                              | 63               | 126843          |"
      ]
     },
     "metadata": {},
     "output_type": "display_data"
    },
    {
     "data": {
      "text/html": [
       "<pre>| 2m 43s                              | 63               | 126864          |</pre>"
      ],
      "text/plain": [
       "| 2m 43s                              | 63               | 126864          |"
      ]
     },
     "metadata": {},
     "output_type": "display_data"
    },
    {
     "data": {
      "text/html": [
       "<pre>| 2m 44s                              | 63               | 127002          |</pre>"
      ],
      "text/plain": [
       "| 2m 44s                              | 63               | 127002          |"
      ]
     },
     "metadata": {},
     "output_type": "display_data"
    },
    {
     "data": {
      "text/html": [
       "<pre>| 2m 45s                              | 63               | 127047          |</pre>"
      ],
      "text/plain": [
       "| 2m 45s                              | 63               | 127047          |"
      ]
     },
     "metadata": {},
     "output_type": "display_data"
    },
    {
     "data": {
      "text/html": [
       "<pre>| 2m 46s                              | 63.25            | 127364          |</pre>"
      ],
      "text/plain": [
       "| 2m 46s                              | 63.25            | 127364          |"
      ]
     },
     "metadata": {},
     "output_type": "display_data"
    },
    {
     "data": {
      "text/html": [
       "<pre>| 2m 47s                              | 63.25            | 127451          |</pre>"
      ],
      "text/plain": [
       "| 2m 47s                              | 63.25            | 127451          |"
      ]
     },
     "metadata": {},
     "output_type": "display_data"
    },
    {
     "data": {
      "text/html": [
       "<pre>| 2m 48s                              | 63.25            | 127462          |</pre>"
      ],
      "text/plain": [
       "| 2m 48s                              | 63.25            | 127462          |"
      ]
     },
     "metadata": {},
     "output_type": "display_data"
    },
    {
     "data": {
      "text/html": [
       "<pre>| 2m 49s                              | 63.25            | 127528          |</pre>"
      ],
      "text/plain": [
       "| 2m 49s                              | 63.25            | 127528          |"
      ]
     },
     "metadata": {},
     "output_type": "display_data"
    },
    {
     "data": {
      "text/html": [
       "<pre>| 2m 50s                              | 63.5             | 127735          |</pre>"
      ],
      "text/plain": [
       "| 2m 50s                              | 63.5             | 127735          |"
      ]
     },
     "metadata": {},
     "output_type": "display_data"
    },
    {
     "data": {
      "text/html": [
       "<pre>| 2m 51s                              | 63.5             | 127953          |</pre>"
      ],
      "text/plain": [
       "| 2m 51s                              | 63.5             | 127953          |"
      ]
     },
     "metadata": {},
     "output_type": "display_data"
    },
    {
     "data": {
      "text/html": [
       "<pre>| 2m 52s                              | 63.5             | 127953          |</pre>"
      ],
      "text/plain": [
       "| 2m 52s                              | 63.5             | 127953          |"
      ]
     },
     "metadata": {},
     "output_type": "display_data"
    },
    {
     "data": {
      "text/html": [
       "<pre>| 2m 53s                              | 63.5             | 127970          |</pre>"
      ],
      "text/plain": [
       "| 2m 53s                              | 63.5             | 127970          |"
      ]
     },
     "metadata": {},
     "output_type": "display_data"
    },
    {
     "data": {
      "text/html": [
       "<pre>| 2m 54s                              | 63.5             | 128070          |</pre>"
      ],
      "text/plain": [
       "| 2m 54s                              | 63.5             | 128070          |"
      ]
     },
     "metadata": {},
     "output_type": "display_data"
    },
    {
     "data": {
      "text/html": [
       "<pre>| 2m 55s                              | 63.75            | 128205          |</pre>"
      ],
      "text/plain": [
       "| 2m 55s                              | 63.75            | 128205          |"
      ]
     },
     "metadata": {},
     "output_type": "display_data"
    },
    {
     "data": {
      "text/html": [
       "<pre>| 2m 56s                              | 63.75            | 128287          |</pre>"
      ],
      "text/plain": [
       "| 2m 56s                              | 63.75            | 128287          |"
      ]
     },
     "metadata": {},
     "output_type": "display_data"
    },
    {
     "data": {
      "text/html": [
       "<pre>| 2m 57s                              | 63.75            | 128488          |</pre>"
      ],
      "text/plain": [
       "| 2m 57s                              | 63.75            | 128488          |"
      ]
     },
     "metadata": {},
     "output_type": "display_data"
    },
    {
     "data": {
      "text/html": [
       "<pre>| 2m 58s                              | 64               | 128736          |</pre>"
      ],
      "text/plain": [
       "| 2m 58s                              | 64               | 128736          |"
      ]
     },
     "metadata": {},
     "output_type": "display_data"
    },
    {
     "data": {
      "text/html": [
       "<pre>| 2m 59s                              | 64               | 128881          |</pre>"
      ],
      "text/plain": [
       "| 2m 59s                              | 64               | 128881          |"
      ]
     },
     "metadata": {},
     "output_type": "display_data"
    },
    {
     "data": {
      "text/html": [
       "<pre>| 3m 0s                               | 64               | 128942          |</pre>"
      ],
      "text/plain": [
       "| 3m 0s                               | 64               | 128942          |"
      ]
     },
     "metadata": {},
     "output_type": "display_data"
    },
    {
     "data": {
      "text/html": [
       "<pre>| 3m 1s                               | 64               | 129021          |</pre>"
      ],
      "text/plain": [
       "| 3m 1s                               | 64               | 129021          |"
      ]
     },
     "metadata": {},
     "output_type": "display_data"
    },
    {
     "data": {
      "text/html": [
       "<pre>| 3m 2s                               | 64.25            | 129146          |</pre>"
      ],
      "text/plain": [
       "| 3m 2s                               | 64.25            | 129146          |"
      ]
     },
     "metadata": {},
     "output_type": "display_data"
    },
    {
     "data": {
      "text/html": [
       "<pre>| 3m 3s                               | 64.25            | 129370          |</pre>"
      ],
      "text/plain": [
       "| 3m 3s                               | 64.25            | 129370          |"
      ]
     },
     "metadata": {},
     "output_type": "display_data"
    },
    {
     "data": {
      "text/html": [
       "<pre>| 3m 4s                               | 64.25            | 129458          |</pre>"
      ],
      "text/plain": [
       "| 3m 4s                               | 64.25            | 129458          |"
      ]
     },
     "metadata": {},
     "output_type": "display_data"
    },
    {
     "data": {
      "text/html": [
       "<pre>| 3m 5s                               | 66.75            | 134530          |</pre>"
      ],
      "text/plain": [
       "| 3m 5s                               | 66.75            | 134530          |"
      ]
     },
     "metadata": {},
     "output_type": "display_data"
    },
    {
     "data": {
      "text/html": [
       "<pre>| 3m 6s                               | 66.75            | 134626          |</pre>"
      ],
      "text/plain": [
       "| 3m 6s                               | 66.75            | 134626          |"
      ]
     },
     "metadata": {},
     "output_type": "display_data"
    },
    {
     "data": {
      "text/html": [
       "<pre>| 3m 7s                               | 67.25            | 135384          |</pre>"
      ],
      "text/plain": [
       "| 3m 7s                               | 67.25            | 135384          |"
      ]
     },
     "metadata": {},
     "output_type": "display_data"
    },
    {
     "data": {
      "text/html": [
       "<pre>| 3m 8s                               | 67.25            | 135430          |</pre>"
      ],
      "text/plain": [
       "| 3m 8s                               | 67.25            | 135430          |"
      ]
     },
     "metadata": {},
     "output_type": "display_data"
    },
    {
     "data": {
      "text/html": [
       "<pre>| 3m 9s                               | 67.25            | 135450          |</pre>"
      ],
      "text/plain": [
       "| 3m 9s                               | 67.25            | 135450          |"
      ]
     },
     "metadata": {},
     "output_type": "display_data"
    },
    {
     "data": {
      "text/html": [
       "<pre>| 3m 10s                              | 67.25            | 135500          |</pre>"
      ],
      "text/plain": [
       "| 3m 10s                              | 67.25            | 135500          |"
      ]
     },
     "metadata": {},
     "output_type": "display_data"
    },
    {
     "data": {
      "text/html": [
       "<pre>| 3m 11s                              | 67.5             | 135670          |</pre>"
      ],
      "text/plain": [
       "| 3m 11s                              | 67.5             | 135670          |"
      ]
     },
     "metadata": {},
     "output_type": "display_data"
    },
    {
     "data": {
      "text/html": [
       "<pre>| 3m 13s                              | 67.5             | 135758          |</pre>"
      ],
      "text/plain": [
       "| 3m 13s                              | 67.5             | 135758          |"
      ]
     },
     "metadata": {},
     "output_type": "display_data"
    },
    {
     "data": {
      "text/html": [
       "<pre>| 3m 15s                              | 67.5             | 135887          |</pre>"
      ],
      "text/plain": [
       "| 3m 15s                              | 67.5             | 135887          |"
      ]
     },
     "metadata": {},
     "output_type": "display_data"
    },
    {
     "data": {
      "text/html": [
       "<pre>| 3m 15s                              | 67.5             | 135901          |</pre>"
      ],
      "text/plain": [
       "| 3m 15s                              | 67.5             | 135901          |"
      ]
     },
     "metadata": {},
     "output_type": "display_data"
    },
    {
     "data": {
      "text/html": [
       "<pre>| 3m 16s                              | 67.5             | 135935          |</pre>"
      ],
      "text/plain": [
       "| 3m 16s                              | 67.5             | 135935          |"
      ]
     },
     "metadata": {},
     "output_type": "display_data"
    },
    {
     "data": {
      "text/html": [
       "<pre>| 3m 18s                              | 67.5             | 136010          |</pre>"
      ],
      "text/plain": [
       "| 3m 18s                              | 67.5             | 136010          |"
      ]
     },
     "metadata": {},
     "output_type": "display_data"
    },
    {
     "data": {
      "text/html": [
       "<pre>| 3m 18s                              | 67.75            | 136192          |</pre>"
      ],
      "text/plain": [
       "| 3m 18s                              | 67.75            | 136192          |"
      ]
     },
     "metadata": {},
     "output_type": "display_data"
    },
    {
     "data": {
      "text/html": [
       "<pre>| 3m 19s                              | 67.75            | 136219          |</pre>"
      ],
      "text/plain": [
       "| 3m 19s                              | 67.75            | 136219          |"
      ]
     },
     "metadata": {},
     "output_type": "display_data"
    },
    {
     "data": {
      "text/html": [
       "<pre>| 3m 21s                              | 67.75            | 136259          |</pre>"
      ],
      "text/plain": [
       "| 3m 21s                              | 67.75            | 136259          |"
      ]
     },
     "metadata": {},
     "output_type": "display_data"
    },
    {
     "data": {
      "text/html": [
       "<pre>| 3m 22s                              | 67.75            | 136281          |</pre>"
      ],
      "text/plain": [
       "| 3m 22s                              | 67.75            | 136281          |"
      ]
     },
     "metadata": {},
     "output_type": "display_data"
    },
    {
     "data": {
      "text/html": [
       "<pre>| 3m 22s                              | 67.75            | 136337          |</pre>"
      ],
      "text/plain": [
       "| 3m 22s                              | 67.75            | 136337          |"
      ]
     },
     "metadata": {},
     "output_type": "display_data"
    },
    {
     "data": {
      "text/html": [
       "<pre>| 3m 23s                              | 67.75            | 136366          |</pre>"
      ],
      "text/plain": [
       "| 3m 23s                              | 67.75            | 136366          |"
      ]
     },
     "metadata": {},
     "output_type": "display_data"
    },
    {
     "data": {
      "text/html": [
       "<pre>| 3m 24s                              | 67.75            | 136441          |</pre>"
      ],
      "text/plain": [
       "| 3m 24s                              | 67.75            | 136441          |"
      ]
     },
     "metadata": {},
     "output_type": "display_data"
    },
    {
     "data": {
      "text/html": [
       "<pre>| 3m 25s                              | 67.75            | 136563          |</pre>"
      ],
      "text/plain": [
       "| 3m 25s                              | 67.75            | 136563          |"
      ]
     },
     "metadata": {},
     "output_type": "display_data"
    },
    {
     "data": {
      "text/html": [
       "<pre>| 3m 26s                              | 68               | 136746          |</pre>"
      ],
      "text/plain": [
       "| 3m 26s                              | 68               | 136746          |"
      ]
     },
     "metadata": {},
     "output_type": "display_data"
    },
    {
     "data": {
      "text/html": [
       "<pre>| 3m 27s                              | 68               | 136802          |</pre>"
      ],
      "text/plain": [
       "| 3m 27s                              | 68               | 136802          |"
      ]
     },
     "metadata": {},
     "output_type": "display_data"
    },
    {
     "data": {
      "text/html": [
       "<pre>| 3m 28s                              | 68               | 136852          |</pre>"
      ],
      "text/plain": [
       "| 3m 28s                              | 68               | 136852          |"
      ]
     },
     "metadata": {},
     "output_type": "display_data"
    },
    {
     "data": {
      "text/html": [
       "<pre>| 3m 29s                              | 68               | 136933          |</pre>"
      ],
      "text/plain": [
       "| 3m 29s                              | 68               | 136933          |"
      ]
     },
     "metadata": {},
     "output_type": "display_data"
    },
    {
     "data": {
      "text/html": [
       "<pre>| 3m 30s                              | 68.25            | 137567          |</pre>"
      ],
      "text/plain": [
       "| 3m 30s                              | 68.25            | 137567          |"
      ]
     },
     "metadata": {},
     "output_type": "display_data"
    },
    {
     "data": {
      "text/html": [
       "<pre>| 3m 32s                              | 68.5             | 137732          |</pre>"
      ],
      "text/plain": [
       "| 3m 32s                              | 68.5             | 137732          |"
      ]
     },
     "metadata": {},
     "output_type": "display_data"
    },
    {
     "data": {
      "text/html": [
       "<pre>| 3m 33s                              | 68.5             | 137802          |</pre>"
      ],
      "text/plain": [
       "| 3m 33s                              | 68.5             | 137802          |"
      ]
     },
     "metadata": {},
     "output_type": "display_data"
    },
    {
     "data": {
      "text/html": [
       "<pre>| 3m 34s                              | 68.5             | 137837          |</pre>"
      ],
      "text/plain": [
       "| 3m 34s                              | 68.5             | 137837          |"
      ]
     },
     "metadata": {},
     "output_type": "display_data"
    },
    {
     "data": {
      "text/html": [
       "<pre>| 3m 35s                              | 68.5             | 137987          |</pre>"
      ],
      "text/plain": [
       "| 3m 35s                              | 68.5             | 137987          |"
      ]
     },
     "metadata": {},
     "output_type": "display_data"
    },
    {
     "data": {
      "text/html": [
       "<pre>| 3m 37s                              | 68.5             | 138026          |</pre>"
      ],
      "text/plain": [
       "| 3m 37s                              | 68.5             | 138026          |"
      ]
     },
     "metadata": {},
     "output_type": "display_data"
    },
    {
     "data": {
      "text/html": [
       "<pre>| 3m 37s                              | 68.5             | 138041          |</pre>"
      ],
      "text/plain": [
       "| 3m 37s                              | 68.5             | 138041          |"
      ]
     },
     "metadata": {},
     "output_type": "display_data"
    },
    {
     "data": {
      "text/html": [
       "<pre>| 3m 39s                              | 68.5             | 138081          |</pre>"
      ],
      "text/plain": [
       "| 3m 39s                              | 68.5             | 138081          |"
      ]
     },
     "metadata": {},
     "output_type": "display_data"
    },
    {
     "data": {
      "text/html": [
       "<pre>| 3m 39s                              | 68.5             | 138131          |</pre>"
      ],
      "text/plain": [
       "| 3m 39s                              | 68.5             | 138131          |"
      ]
     },
     "metadata": {},
     "output_type": "display_data"
    },
    {
     "data": {
      "text/html": [
       "<pre>| 3m 40s                              | 68.75            | 138192          |</pre>"
      ],
      "text/plain": [
       "| 3m 40s                              | 68.75            | 138192          |"
      ]
     },
     "metadata": {},
     "output_type": "display_data"
    },
    {
     "data": {
      "text/html": [
       "<pre>| 3m 41s                              | 68.75            | 138279          |</pre>"
      ],
      "text/plain": [
       "| 3m 41s                              | 68.75            | 138279          |"
      ]
     },
     "metadata": {},
     "output_type": "display_data"
    },
    {
     "data": {
      "text/html": [
       "<pre>| 3m 43s                              | 68.75            | 138360          |</pre>"
      ],
      "text/plain": [
       "| 3m 43s                              | 68.75            | 138360          |"
      ]
     },
     "metadata": {},
     "output_type": "display_data"
    },
    {
     "data": {
      "text/html": [
       "<pre>| 3m 44s                              | 68.75            | 138386          |</pre>"
      ],
      "text/plain": [
       "| 3m 44s                              | 68.75            | 138386          |"
      ]
     },
     "metadata": {},
     "output_type": "display_data"
    },
    {
     "data": {
      "text/html": [
       "<pre>| 3m 44s                              | 68.75            | 138531          |</pre>"
      ],
      "text/plain": [
       "| 3m 44s                              | 68.75            | 138531          |"
      ]
     },
     "metadata": {},
     "output_type": "display_data"
    },
    {
     "data": {
      "text/html": [
       "<pre>| 3m 46s                              | 69               | 138896          |</pre>"
      ],
      "text/plain": [
       "| 3m 46s                              | 69               | 138896          |"
      ]
     },
     "metadata": {},
     "output_type": "display_data"
    },
    {
     "data": {
      "text/html": [
       "<pre>| 3m 46s                              | 69               | 138920          |</pre>"
      ],
      "text/plain": [
       "| 3m 46s                              | 69               | 138920          |"
      ]
     },
     "metadata": {},
     "output_type": "display_data"
    },
    {
     "data": {
      "text/html": [
       "<pre>| 3m 47s                              | 69               | 139025          |</pre>"
      ],
      "text/plain": [
       "| 3m 47s                              | 69               | 139025          |"
      ]
     },
     "metadata": {},
     "output_type": "display_data"
    },
    {
     "data": {
      "text/html": [
       "<pre>| 3m 49s                              | 69               | 139088          |</pre>"
      ],
      "text/plain": [
       "| 3m 49s                              | 69               | 139088          |"
      ]
     },
     "metadata": {},
     "output_type": "display_data"
    },
    {
     "data": {
      "text/html": [
       "<pre>| 3m 49s                              | 69               | 139115          |</pre>"
      ],
      "text/plain": [
       "| 3m 49s                              | 69               | 139115          |"
      ]
     },
     "metadata": {},
     "output_type": "display_data"
    },
    {
     "data": {
      "text/html": [
       "<pre>| 3m 52s                              | 69.25            | 139316          |</pre>"
      ],
      "text/plain": [
       "| 3m 52s                              | 69.25            | 139316          |"
      ]
     },
     "metadata": {},
     "output_type": "display_data"
    },
    {
     "data": {
      "text/html": [
       "<pre>| 3m 53s                              | 69.25            | 139357          |</pre>"
      ],
      "text/plain": [
       "| 3m 53s                              | 69.25            | 139357          |"
      ]
     },
     "metadata": {},
     "output_type": "display_data"
    },
    {
     "data": {
      "text/html": [
       "<pre>| 3m 54s                              | 69.25            | 139533          |</pre>"
      ],
      "text/plain": [
       "| 3m 54s                              | 69.25            | 139533          |"
      ]
     },
     "metadata": {},
     "output_type": "display_data"
    },
    {
     "data": {
      "text/html": [
       "<pre>| 3m 55s                              | 69.5             | 139700          |</pre>"
      ],
      "text/plain": [
       "| 3m 55s                              | 69.5             | 139700          |"
      ]
     },
     "metadata": {},
     "output_type": "display_data"
    },
    {
     "data": {
      "text/html": [
       "<pre>| 3m 56s                              | 69.5             | 139726          |</pre>"
      ],
      "text/plain": [
       "| 3m 56s                              | 69.5             | 139726          |"
      ]
     },
     "metadata": {},
     "output_type": "display_data"
    },
    {
     "data": {
      "text/html": [
       "<pre>| 3m 57s                              | 69.5             | 139784          |</pre>"
      ],
      "text/plain": [
       "| 3m 57s                              | 69.5             | 139784          |"
      ]
     },
     "metadata": {},
     "output_type": "display_data"
    },
    {
     "data": {
      "text/html": [
       "<pre>| 3m 58s                              | 69.5             | 139792          |</pre>"
      ],
      "text/plain": [
       "| 3m 58s                              | 69.5             | 139792          |"
      ]
     },
     "metadata": {},
     "output_type": "display_data"
    },
    {
     "data": {
      "text/html": [
       "<pre>| 3m 59s                              | 69.5             | 139853          |</pre>"
      ],
      "text/plain": [
       "| 3m 59s                              | 69.5             | 139853          |"
      ]
     },
     "metadata": {},
     "output_type": "display_data"
    },
    {
     "data": {
      "text/html": [
       "<pre>| 4m 0s                               | 69.5             | 139970          |</pre>"
      ],
      "text/plain": [
       "| 4m 0s                               | 69.5             | 139970          |"
      ]
     },
     "metadata": {},
     "output_type": "display_data"
    },
    {
     "data": {
      "text/html": [
       "<pre>| 4m 1s                               | 69.5             | 140028          |</pre>"
      ],
      "text/plain": [
       "| 4m 1s                               | 69.5             | 140028          |"
      ]
     },
     "metadata": {},
     "output_type": "display_data"
    },
    {
     "data": {
      "text/html": [
       "<pre>| 4m 2s                               | 69.75            | 140594          |</pre>"
      ],
      "text/plain": [
       "| 4m 2s                               | 69.75            | 140594          |"
      ]
     },
     "metadata": {},
     "output_type": "display_data"
    },
    {
     "data": {
      "text/html": [
       "<pre>| 4m 3s                               | 69.75            | 140644          |</pre>"
      ],
      "text/plain": [
       "| 4m 3s                               | 69.75            | 140644          |"
      ]
     },
     "metadata": {},
     "output_type": "display_data"
    },
    {
     "data": {
      "text/html": [
       "<pre>| 4m 4s                               | 70               | 140714          |</pre>"
      ],
      "text/plain": [
       "| 4m 4s                               | 70               | 140714          |"
      ]
     },
     "metadata": {},
     "output_type": "display_data"
    },
    {
     "data": {
      "text/html": [
       "<pre>| 4m 5s                               | 70               | 140742          |</pre>"
      ],
      "text/plain": [
       "| 4m 5s                               | 70               | 140742          |"
      ]
     },
     "metadata": {},
     "output_type": "display_data"
    },
    {
     "data": {
      "text/html": [
       "<pre>| 4m 6s                               | 70               | 140797          |</pre>"
      ],
      "text/plain": [
       "| 4m 6s                               | 70               | 140797          |"
      ]
     },
     "metadata": {},
     "output_type": "display_data"
    },
    {
     "data": {
      "text/html": [
       "<pre>| 4m 7s                               | 70               | 140881          |</pre>"
      ],
      "text/plain": [
       "| 4m 7s                               | 70               | 140881          |"
      ]
     },
     "metadata": {},
     "output_type": "display_data"
    },
    {
     "data": {
      "text/html": [
       "<pre>| 4m 8s                               | 70               | 140939          |</pre>"
      ],
      "text/plain": [
       "| 4m 8s                               | 70               | 140939          |"
      ]
     },
     "metadata": {},
     "output_type": "display_data"
    },
    {
     "data": {
      "text/html": [
       "<pre>| 4m 9s                               | 70               | 140973          |</pre>"
      ],
      "text/plain": [
       "| 4m 9s                               | 70               | 140973          |"
      ]
     },
     "metadata": {},
     "output_type": "display_data"
    },
    {
     "data": {
      "text/html": [
       "<pre>| 4m 10s                              | 70               | 141019          |</pre>"
      ],
      "text/plain": [
       "| 4m 10s                              | 70               | 141019          |"
      ]
     },
     "metadata": {},
     "output_type": "display_data"
    },
    {
     "data": {
      "text/html": [
       "<pre>| 4m 11s                              | 70               | 141087          |</pre>"
      ],
      "text/plain": [
       "| 4m 11s                              | 70               | 141087          |"
      ]
     },
     "metadata": {},
     "output_type": "display_data"
    },
    {
     "data": {
      "text/html": [
       "<pre>| 4m 12s                              | 70               | 141148          |</pre>"
      ],
      "text/plain": [
       "| 4m 12s                              | 70               | 141148          |"
      ]
     },
     "metadata": {},
     "output_type": "display_data"
    },
    {
     "data": {
      "text/html": [
       "<pre>| 4m 13s                              | 70.25            | 141207          |</pre>"
      ],
      "text/plain": [
       "| 4m 13s                              | 70.25            | 141207          |"
      ]
     },
     "metadata": {},
     "output_type": "display_data"
    },
    {
     "data": {
      "text/html": [
       "<pre>| 4m 14s                              | 70.25            | 141323          |</pre>"
      ],
      "text/plain": [
       "| 4m 14s                              | 70.25            | 141323          |"
      ]
     },
     "metadata": {},
     "output_type": "display_data"
    },
    {
     "data": {
      "text/html": [
       "<pre>| 4m 15s                              | 70.25            | 141408          |</pre>"
      ],
      "text/plain": [
       "| 4m 15s                              | 70.25            | 141408          |"
      ]
     },
     "metadata": {},
     "output_type": "display_data"
    },
    {
     "data": {
      "text/html": [
       "<pre>| 4m 16s                              | 70.25            | 141445          |</pre>"
      ],
      "text/plain": [
       "| 4m 16s                              | 70.25            | 141445          |"
      ]
     },
     "metadata": {},
     "output_type": "display_data"
    },
    {
     "data": {
      "text/html": [
       "<pre>| 4m 17s                              | 70.25            | 141584          |</pre>"
      ],
      "text/plain": [
       "| 4m 17s                              | 70.25            | 141584          |"
      ]
     },
     "metadata": {},
     "output_type": "display_data"
    },
    {
     "data": {
      "text/html": [
       "<pre>| 4m 18s                              | 70.25            | 141619          |</pre>"
      ],
      "text/plain": [
       "| 4m 18s                              | 70.25            | 141619          |"
      ]
     },
     "metadata": {},
     "output_type": "display_data"
    },
    {
     "data": {
      "text/html": [
       "<pre>| 4m 19s                              | 70.5             | 141681          |</pre>"
      ],
      "text/plain": [
       "| 4m 19s                              | 70.5             | 141681          |"
      ]
     },
     "metadata": {},
     "output_type": "display_data"
    },
    {
     "data": {
      "text/html": [
       "<pre>| 4m 20s                              | 70.5             | 141713          |</pre>"
      ],
      "text/plain": [
       "| 4m 20s                              | 70.5             | 141713          |"
      ]
     },
     "metadata": {},
     "output_type": "display_data"
    },
    {
     "data": {
      "text/html": [
       "<pre>| 4m 21s                              | 70.5             | 141802          |</pre>"
      ],
      "text/plain": [
       "| 4m 21s                              | 70.5             | 141802          |"
      ]
     },
     "metadata": {},
     "output_type": "display_data"
    },
    {
     "data": {
      "text/html": [
       "<pre>| 4m 22s                              | 70.5             | 141856          |</pre>"
      ],
      "text/plain": [
       "| 4m 22s                              | 70.5             | 141856          |"
      ]
     },
     "metadata": {},
     "output_type": "display_data"
    },
    {
     "data": {
      "text/html": [
       "<pre>| 4m 23s                              | 70.5             | 141907          |</pre>"
      ],
      "text/plain": [
       "| 4m 23s                              | 70.5             | 141907          |"
      ]
     },
     "metadata": {},
     "output_type": "display_data"
    },
    {
     "data": {
      "text/html": [
       "<pre>| 4m 24s                              | 70.5             | 142091          |</pre>"
      ],
      "text/plain": [
       "| 4m 24s                              | 70.5             | 142091          |"
      ]
     },
     "metadata": {},
     "output_type": "display_data"
    },
    {
     "data": {
      "text/html": [
       "<pre>| 4m 25s                              | 70.5             | 142139          |</pre>"
      ],
      "text/plain": [
       "| 4m 25s                              | 70.5             | 142139          |"
      ]
     },
     "metadata": {},
     "output_type": "display_data"
    },
    {
     "data": {
      "text/html": [
       "<pre>| 4m 26s                              | 70.75            | 142185          |</pre>"
      ],
      "text/plain": [
       "| 4m 26s                              | 70.75            | 142185          |"
      ]
     },
     "metadata": {},
     "output_type": "display_data"
    },
    {
     "data": {
      "text/html": [
       "<pre>| 4m 27s                              | 70.75            | 142240          |</pre>"
      ],
      "text/plain": [
       "| 4m 27s                              | 70.75            | 142240          |"
      ]
     },
     "metadata": {},
     "output_type": "display_data"
    },
    {
     "data": {
      "text/html": [
       "<pre>| 4m 28s                              | 70.75            | 142485          |</pre>"
      ],
      "text/plain": [
       "| 4m 28s                              | 70.75            | 142485          |"
      ]
     },
     "metadata": {},
     "output_type": "display_data"
    },
    {
     "data": {
      "text/html": [
       "<pre>| 4m 29s                              | 70.75            | 142512          |</pre>"
      ],
      "text/plain": [
       "| 4m 29s                              | 70.75            | 142512          |"
      ]
     },
     "metadata": {},
     "output_type": "display_data"
    },
    {
     "data": {
      "text/html": [
       "<pre>| 4m 30s                              | 70.75            | 142555          |</pre>"
      ],
      "text/plain": [
       "| 4m 30s                              | 70.75            | 142555          |"
      ]
     },
     "metadata": {},
     "output_type": "display_data"
    },
    {
     "data": {
      "text/html": [
       "<pre>| 4m 31s                              | 70.75            | 142622          |</pre>"
      ],
      "text/plain": [
       "| 4m 31s                              | 70.75            | 142622          |"
      ]
     },
     "metadata": {},
     "output_type": "display_data"
    },
    {
     "data": {
      "text/html": [
       "<pre>| 4m 32s                              | 71               | 142676          |</pre>"
      ],
      "text/plain": [
       "| 4m 32s                              | 71               | 142676          |"
      ]
     },
     "metadata": {},
     "output_type": "display_data"
    },
    {
     "data": {
      "text/html": [
       "<pre>| 4m 33s                              | 71               | 142784          |</pre>"
      ],
      "text/plain": [
       "| 4m 33s                              | 71               | 142784          |"
      ]
     },
     "metadata": {},
     "output_type": "display_data"
    },
    {
     "data": {
      "text/html": [
       "<pre>| 4m 34s                              | 71               | 142868          |</pre>"
      ],
      "text/plain": [
       "| 4m 34s                              | 71               | 142868          |"
      ]
     },
     "metadata": {},
     "output_type": "display_data"
    },
    {
     "data": {
      "text/html": [
       "<pre>| 4m 35s                              | 71.25            | 143247          |</pre>"
      ],
      "text/plain": [
       "| 4m 35s                              | 71.25            | 143247          |"
      ]
     },
     "metadata": {},
     "output_type": "display_data"
    },
    {
     "data": {
      "text/html": [
       "<pre>| 4m 36s                              | 71.25            | 143344          |</pre>"
      ],
      "text/plain": [
       "| 4m 36s                              | 71.25            | 143344          |"
      ]
     },
     "metadata": {},
     "output_type": "display_data"
    },
    {
     "data": {
      "text/html": [
       "<pre>| 4m 37s                              | 71.25            | 143370          |</pre>"
      ],
      "text/plain": [
       "| 4m 37s                              | 71.25            | 143370          |"
      ]
     },
     "metadata": {},
     "output_type": "display_data"
    },
    {
     "data": {
      "text/html": [
       "<pre>| 4m 38s                              | 71.25            | 143398          |</pre>"
      ],
      "text/plain": [
       "| 4m 38s                              | 71.25            | 143398          |"
      ]
     },
     "metadata": {},
     "output_type": "display_data"
    },
    {
     "data": {
      "text/html": [
       "<pre>| 4m 39s                              | 71.25            | 143441          |</pre>"
      ],
      "text/plain": [
       "| 4m 39s                              | 71.25            | 143441          |"
      ]
     },
     "metadata": {},
     "output_type": "display_data"
    },
    {
     "data": {
      "text/html": [
       "<pre>| 4m 40s                              | 71.25            | 143496          |</pre>"
      ],
      "text/plain": [
       "| 4m 40s                              | 71.25            | 143496          |"
      ]
     },
     "metadata": {},
     "output_type": "display_data"
    },
    {
     "data": {
      "text/html": [
       "<pre>| 4m 41s                              | 71.25            | 143539          |</pre>"
      ],
      "text/plain": [
       "| 4m 41s                              | 71.25            | 143539          |"
      ]
     },
     "metadata": {},
     "output_type": "display_data"
    },
    {
     "data": {
      "text/html": [
       "<pre>| 4m 42s                              | 71.25            | 143618          |</pre>"
      ],
      "text/plain": [
       "| 4m 42s                              | 71.25            | 143618          |"
      ]
     },
     "metadata": {},
     "output_type": "display_data"
    },
    {
     "data": {
      "text/html": [
       "<pre>| 4m 43s                              | 71.25            | 143635          |</pre>"
      ],
      "text/plain": [
       "| 4m 43s                              | 71.25            | 143635          |"
      ]
     },
     "metadata": {},
     "output_type": "display_data"
    },
    {
     "data": {
      "text/html": [
       "<pre>| 4m 44s                              | 71.5             | 143669          |</pre>"
      ],
      "text/plain": [
       "| 4m 44s                              | 71.5             | 143669          |"
      ]
     },
     "metadata": {},
     "output_type": "display_data"
    },
    {
     "data": {
      "text/html": [
       "<pre>| 4m 45s                              | 71.5             | 143747          |</pre>"
      ],
      "text/plain": [
       "| 4m 45s                              | 71.5             | 143747          |"
      ]
     },
     "metadata": {},
     "output_type": "display_data"
    },
    {
     "data": {
      "text/html": [
       "<pre>| 4m 46s                              | 71.5             | 143751          |</pre>"
      ],
      "text/plain": [
       "| 4m 46s                              | 71.5             | 143751          |"
      ]
     },
     "metadata": {},
     "output_type": "display_data"
    },
    {
     "data": {
      "text/html": [
       "<pre>| 4m 47s                              | 71.5             | 143875          |</pre>"
      ],
      "text/plain": [
       "| 4m 47s                              | 71.5             | 143875          |"
      ]
     },
     "metadata": {},
     "output_type": "display_data"
    },
    {
     "data": {
      "text/html": [
       "<pre>| 4m 48s                              | 71.5             | 143946          |</pre>"
      ],
      "text/plain": [
       "| 4m 48s                              | 71.5             | 143946          |"
      ]
     },
     "metadata": {},
     "output_type": "display_data"
    },
    {
     "data": {
      "text/html": [
       "<pre>| 4m 49s                              | 71.5             | 143974          |</pre>"
      ],
      "text/plain": [
       "| 4m 49s                              | 71.5             | 143974          |"
      ]
     },
     "metadata": {},
     "output_type": "display_data"
    },
    {
     "data": {
      "text/html": [
       "<pre>| 4m 50s                              | 71.5             | 144159          |</pre>"
      ],
      "text/plain": [
       "| 4m 50s                              | 71.5             | 144159          |"
      ]
     },
     "metadata": {},
     "output_type": "display_data"
    },
    {
     "data": {
      "text/html": [
       "<pre>| 4m 51s                              | 71.75            | 144251          |</pre>"
      ],
      "text/plain": [
       "| 4m 51s                              | 71.75            | 144251          |"
      ]
     },
     "metadata": {},
     "output_type": "display_data"
    },
    {
     "data": {
      "text/html": [
       "<pre>| 4m 52s                              | 71.75            | 144646          |</pre>"
      ],
      "text/plain": [
       "| 4m 52s                              | 71.75            | 144646          |"
      ]
     },
     "metadata": {},
     "output_type": "display_data"
    },
    {
     "data": {
      "text/html": [
       "<pre>| 4m 53s                              | 71.75            | 144669          |</pre>"
      ],
      "text/plain": [
       "| 4m 53s                              | 71.75            | 144669          |"
      ]
     },
     "metadata": {},
     "output_type": "display_data"
    },
    {
     "data": {
      "text/html": [
       "<pre>| 4m 54s                              | 72               | 144689          |</pre>"
      ],
      "text/plain": [
       "| 4m 54s                              | 72               | 144689          |"
      ]
     },
     "metadata": {},
     "output_type": "display_data"
    },
    {
     "data": {
      "text/html": [
       "<pre>| 4m 55s                              | 72               | 144909          |</pre>"
      ],
      "text/plain": [
       "| 4m 55s                              | 72               | 144909          |"
      ]
     },
     "metadata": {},
     "output_type": "display_data"
    },
    {
     "data": {
      "text/html": [
       "<pre>| 4m 56s                              | 72               | 144929          |</pre>"
      ],
      "text/plain": [
       "| 4m 56s                              | 72               | 144929          |"
      ]
     },
     "metadata": {},
     "output_type": "display_data"
    },
    {
     "data": {
      "text/html": [
       "<pre>| 4m 57s                              | 72               | 144954          |</pre>"
      ],
      "text/plain": [
       "| 4m 57s                              | 72               | 144954          |"
      ]
     },
     "metadata": {},
     "output_type": "display_data"
    },
    {
     "data": {
      "text/html": [
       "<pre>| 4m 58s                              | 72               | 144980          |</pre>"
      ],
      "text/plain": [
       "| 4m 58s                              | 72               | 144980          |"
      ]
     },
     "metadata": {},
     "output_type": "display_data"
    },
    {
     "data": {
      "text/html": [
       "<pre>| 4m 59s                              | 72               | 145004          |</pre>"
      ],
      "text/plain": [
       "| 4m 59s                              | 72               | 145004          |"
      ]
     },
     "metadata": {},
     "output_type": "display_data"
    },
    {
     "data": {
      "text/html": [
       "<pre>| 5m 0s                               | 72               | 145014          |</pre>"
      ],
      "text/plain": [
       "| 5m 0s                               | 72               | 145014          |"
      ]
     },
     "metadata": {},
     "output_type": "display_data"
    },
    {
     "data": {
      "text/html": [
       "<pre>| 5m 1s                               | 72               | 145039          |</pre>"
      ],
      "text/plain": [
       "| 5m 1s                               | 72               | 145039          |"
      ]
     },
     "metadata": {},
     "output_type": "display_data"
    },
    {
     "data": {
      "text/html": [
       "<pre>| 5m 2s                               | 72               | 145062          |</pre>"
      ],
      "text/plain": [
       "| 5m 2s                               | 72               | 145062          |"
      ]
     },
     "metadata": {},
     "output_type": "display_data"
    },
    {
     "data": {
      "text/html": [
       "<pre>| 5m 3s                               | 72               | 145109          |</pre>"
      ],
      "text/plain": [
       "| 5m 3s                               | 72               | 145109          |"
      ]
     },
     "metadata": {},
     "output_type": "display_data"
    },
    {
     "data": {
      "text/html": [
       "<pre>| 5m 4s                               | 72               | 145137          |</pre>"
      ],
      "text/plain": [
       "| 5m 4s                               | 72               | 145137          |"
      ]
     },
     "metadata": {},
     "output_type": "display_data"
    },
    {
     "data": {
      "text/html": [
       "<pre>| 5m 5s                               | 72.25            | 145272          |</pre>"
      ],
      "text/plain": [
       "| 5m 5s                               | 72.25            | 145272          |"
      ]
     },
     "metadata": {},
     "output_type": "display_data"
    },
    {
     "data": {
      "text/html": [
       "<pre>| 5m 6s                               | 72.25            | 145339          |</pre>"
      ],
      "text/plain": [
       "| 5m 6s                               | 72.25            | 145339          |"
      ]
     },
     "metadata": {},
     "output_type": "display_data"
    },
    {
     "data": {
      "text/html": [
       "<pre>| 5m 7s                               | 72.25            | 145421          |</pre>"
      ],
      "text/plain": [
       "| 5m 7s                               | 72.25            | 145421          |"
      ]
     },
     "metadata": {},
     "output_type": "display_data"
    },
    {
     "data": {
      "text/html": [
       "<pre>| 5m 8s                               | 72.25            | 145482          |</pre>"
      ],
      "text/plain": [
       "| 5m 8s                               | 72.25            | 145482          |"
      ]
     },
     "metadata": {},
     "output_type": "display_data"
    },
    {
     "data": {
      "text/html": [
       "<pre>| 5m 9s                               | 72.5             | 145682          |</pre>"
      ],
      "text/plain": [
       "| 5m 9s                               | 72.5             | 145682          |"
      ]
     },
     "metadata": {},
     "output_type": "display_data"
    },
    {
     "data": {
      "text/html": [
       "<pre>| 5m 10s                              | 72.5             | 145753          |</pre>"
      ],
      "text/plain": [
       "| 5m 10s                              | 72.5             | 145753          |"
      ]
     },
     "metadata": {},
     "output_type": "display_data"
    },
    {
     "data": {
      "text/html": [
       "<pre>| 5m 11s                              | 72.5             | 145812          |</pre>"
      ],
      "text/plain": [
       "| 5m 11s                              | 72.5             | 145812          |"
      ]
     },
     "metadata": {},
     "output_type": "display_data"
    },
    {
     "data": {
      "text/html": [
       "<pre>| 5m 12s                              | 72.5             | 145973          |</pre>"
      ],
      "text/plain": [
       "| 5m 12s                              | 72.5             | 145973          |"
      ]
     },
     "metadata": {},
     "output_type": "display_data"
    },
    {
     "data": {
      "text/html": [
       "<pre>| 5m 13s                              | 72.5             | 146008          |</pre>"
      ],
      "text/plain": [
       "| 5m 13s                              | 72.5             | 146008          |"
      ]
     },
     "metadata": {},
     "output_type": "display_data"
    },
    {
     "data": {
      "text/html": [
       "<pre>| 5m 14s                              | 72.75            | 146213          |</pre>"
      ],
      "text/plain": [
       "| 5m 14s                              | 72.75            | 146213          |"
      ]
     },
     "metadata": {},
     "output_type": "display_data"
    },
    {
     "data": {
      "text/html": [
       "<pre>| 5m 15s                              | 75.25            | 151303          |</pre>"
      ],
      "text/plain": [
       "| 5m 15s                              | 75.25            | 151303          |"
      ]
     },
     "metadata": {},
     "output_type": "display_data"
    },
    {
     "data": {
      "text/html": [
       "<pre>| 5m 16s                              | 75.25            | 151364          |</pre>"
      ],
      "text/plain": [
       "| 5m 16s                              | 75.25            | 151364          |"
      ]
     },
     "metadata": {},
     "output_type": "display_data"
    },
    {
     "data": {
      "text/html": [
       "<pre>| 5m 17s                              | 75.25            | 151477          |</pre>"
      ],
      "text/plain": [
       "| 5m 17s                              | 75.25            | 151477          |"
      ]
     },
     "metadata": {},
     "output_type": "display_data"
    },
    {
     "data": {
      "text/html": [
       "<pre>| 5m 18s                              | 75.25            | 151543          |</pre>"
      ],
      "text/plain": [
       "| 5m 18s                              | 75.25            | 151543          |"
      ]
     },
     "metadata": {},
     "output_type": "display_data"
    },
    {
     "data": {
      "text/html": [
       "<pre>| 5m 19s                              | 75.25            | 151678          |</pre>"
      ],
      "text/plain": [
       "| 5m 19s                              | 75.25            | 151678          |"
      ]
     },
     "metadata": {},
     "output_type": "display_data"
    },
    {
     "data": {
      "text/html": [
       "<pre>| 5m 20s                              | 75.5             | 151760          |</pre>"
      ],
      "text/plain": [
       "| 5m 20s                              | 75.5             | 151760          |"
      ]
     },
     "metadata": {},
     "output_type": "display_data"
    },
    {
     "data": {
      "text/html": [
       "<pre>| 5m 21s                              | 75.5             | 151787          |</pre>"
      ],
      "text/plain": [
       "| 5m 21s                              | 75.5             | 151787          |"
      ]
     },
     "metadata": {},
     "output_type": "display_data"
    },
    {
     "data": {
      "text/html": [
       "<pre>| 5m 22s                              | 75.5             | 151977          |</pre>"
      ],
      "text/plain": [
       "| 5m 22s                              | 75.5             | 151977          |"
      ]
     },
     "metadata": {},
     "output_type": "display_data"
    },
    {
     "data": {
      "text/html": [
       "<pre>| 5m 23s                              | 75.5             | 151999          |</pre>"
      ],
      "text/plain": [
       "| 5m 23s                              | 75.5             | 151999          |"
      ]
     },
     "metadata": {},
     "output_type": "display_data"
    },
    {
     "data": {
      "text/html": [
       "<pre>| 5m 24s                              | 75.5             | 152074          |</pre>"
      ],
      "text/plain": [
       "| 5m 24s                              | 75.5             | 152074          |"
      ]
     },
     "metadata": {},
     "output_type": "display_data"
    },
    {
     "data": {
      "text/html": [
       "<pre>| 5m 25s                              | 75.75            | 152332          |</pre>"
      ],
      "text/plain": [
       "| 5m 25s                              | 75.75            | 152332          |"
      ]
     },
     "metadata": {},
     "output_type": "display_data"
    },
    {
     "data": {
      "text/html": [
       "<pre>| 5m 26s                              | 75.75            | 152390          |</pre>"
      ],
      "text/plain": [
       "| 5m 26s                              | 75.75            | 152390          |"
      ]
     },
     "metadata": {},
     "output_type": "display_data"
    },
    {
     "data": {
      "text/html": [
       "<pre>| 5m 27s                              | 75.75            | 152449          |</pre>"
      ],
      "text/plain": [
       "| 5m 27s                              | 75.75            | 152449          |"
      ]
     },
     "metadata": {},
     "output_type": "display_data"
    },
    {
     "data": {
      "text/html": [
       "<pre>| 5m 28s                              | 75.75            | 152520          |</pre>"
      ],
      "text/plain": [
       "| 5m 28s                              | 75.75            | 152520          |"
      ]
     },
     "metadata": {},
     "output_type": "display_data"
    },
    {
     "data": {
      "text/html": [
       "<pre>| 5m 29s                              | 75.75            | 152655          |</pre>"
      ],
      "text/plain": [
       "| 5m 29s                              | 75.75            | 152655          |"
      ]
     },
     "metadata": {},
     "output_type": "display_data"
    },
    {
     "data": {
      "text/html": [
       "<pre>| 5m 30s                              | 75.75            | 152692          |</pre>"
      ],
      "text/plain": [
       "| 5m 30s                              | 75.75            | 152692          |"
      ]
     },
     "metadata": {},
     "output_type": "display_data"
    },
    {
     "data": {
      "text/html": [
       "<pre>| 5m 31s                              | 76               | 152791          |</pre>"
      ],
      "text/plain": [
       "| 5m 31s                              | 76               | 152791          |"
      ]
     },
     "metadata": {},
     "output_type": "display_data"
    },
    {
     "data": {
      "text/html": [
       "<pre>| 5m 32s                              | 76               | 152973          |</pre>"
      ],
      "text/plain": [
       "| 5m 32s                              | 76               | 152973          |"
      ]
     },
     "metadata": {},
     "output_type": "display_data"
    },
    {
     "data": {
      "text/html": [
       "<pre>| 5m 33s                              | 76               | 152986          |</pre>"
      ],
      "text/plain": [
       "| 5m 33s                              | 76               | 152986          |"
      ]
     },
     "metadata": {},
     "output_type": "display_data"
    },
    {
     "data": {
      "text/html": [
       "<pre>| 5m 34s                              | 76               | 153052          |</pre>"
      ],
      "text/plain": [
       "| 5m 34s                              | 76               | 153052          |"
      ]
     },
     "metadata": {},
     "output_type": "display_data"
    },
    {
     "data": {
      "text/html": [
       "<pre>| 5m 35s                              | 76               | 153084          |</pre>"
      ],
      "text/plain": [
       "| 5m 35s                              | 76               | 153084          |"
      ]
     },
     "metadata": {},
     "output_type": "display_data"
    },
    {
     "data": {
      "text/html": [
       "<pre>| 5m 36s                              | 77               | 154808          |</pre>"
      ],
      "text/plain": [
       "| 5m 36s                              | 77               | 154808          |"
      ]
     },
     "metadata": {},
     "output_type": "display_data"
    },
    {
     "data": {
      "text/html": [
       "<pre>| 5m 37s                              | 77               | 154855          |</pre>"
      ],
      "text/plain": [
       "| 5m 37s                              | 77               | 154855          |"
      ]
     },
     "metadata": {},
     "output_type": "display_data"
    },
    {
     "data": {
      "text/html": [
       "<pre>| 5m 38s                              | 77               | 154895          |</pre>"
      ],
      "text/plain": [
       "| 5m 38s                              | 77               | 154895          |"
      ]
     },
     "metadata": {},
     "output_type": "display_data"
    },
    {
     "data": {
      "text/html": [
       "<pre>| 5m 39s                              | 77               | 154953          |</pre>"
      ],
      "text/plain": [
       "| 5m 39s                              | 77               | 154953          |"
      ]
     },
     "metadata": {},
     "output_type": "display_data"
    },
    {
     "data": {
      "text/html": [
       "<pre>| 5m 40s                              | 77               | 155009          |</pre>"
      ],
      "text/plain": [
       "| 5m 40s                              | 77               | 155009          |"
      ]
     },
     "metadata": {},
     "output_type": "display_data"
    },
    {
     "data": {
      "text/html": [
       "<pre>| 5m 41s                              | 77               | 155066          |</pre>"
      ],
      "text/plain": [
       "| 5m 41s                              | 77               | 155066          |"
      ]
     },
     "metadata": {},
     "output_type": "display_data"
    },
    {
     "data": {
      "text/html": [
       "<pre>| 5m 42s                              | 77               | 155204          |</pre>"
      ],
      "text/plain": [
       "| 5m 42s                              | 77               | 155204          |"
      ]
     },
     "metadata": {},
     "output_type": "display_data"
    },
    {
     "data": {
      "text/html": [
       "<pre>| 5m 43s                              | 77.25            | 155248          |</pre>"
      ],
      "text/plain": [
       "| 5m 43s                              | 77.25            | 155248          |"
      ]
     },
     "metadata": {},
     "output_type": "display_data"
    },
    {
     "data": {
      "text/html": [
       "<pre>| 5m 44s                              | 77.25            | 155262          |</pre>"
      ],
      "text/plain": [
       "| 5m 44s                              | 77.25            | 155262          |"
      ]
     },
     "metadata": {},
     "output_type": "display_data"
    },
    {
     "data": {
      "text/html": [
       "<pre>| 5m 45s                              | 77.25            | 155305          |</pre>"
      ],
      "text/plain": [
       "| 5m 45s                              | 77.25            | 155305          |"
      ]
     },
     "metadata": {},
     "output_type": "display_data"
    },
    {
     "data": {
      "text/html": [
       "<pre>| 5m 46s                              | 77.25            | 155366          |</pre>"
      ],
      "text/plain": [
       "| 5m 46s                              | 77.25            | 155366          |"
      ]
     },
     "metadata": {},
     "output_type": "display_data"
    },
    {
     "data": {
      "text/html": [
       "<pre>| 5m 47s                              | 77.25            | 155479          |</pre>"
      ],
      "text/plain": [
       "| 5m 47s                              | 77.25            | 155479          |"
      ]
     },
     "metadata": {},
     "output_type": "display_data"
    },
    {
     "data": {
      "text/html": [
       "<pre>| 5m 48s                              | 77.25            | 155511          |</pre>"
      ],
      "text/plain": [
       "| 5m 48s                              | 77.25            | 155511          |"
      ]
     },
     "metadata": {},
     "output_type": "display_data"
    },
    {
     "data": {
      "text/html": [
       "<pre>| 5m 49s                              | 77.25            | 155562          |</pre>"
      ],
      "text/plain": [
       "| 5m 49s                              | 77.25            | 155562          |"
      ]
     },
     "metadata": {},
     "output_type": "display_data"
    },
    {
     "data": {
      "text/html": [
       "<pre>| 5m 50s                              | 77.25            | 155632          |</pre>"
      ],
      "text/plain": [
       "| 5m 50s                              | 77.25            | 155632          |"
      ]
     },
     "metadata": {},
     "output_type": "display_data"
    },
    {
     "data": {
      "text/html": [
       "<pre>| 5m 51s                              | 77.25            | 155694          |</pre>"
      ],
      "text/plain": [
       "| 5m 51s                              | 77.25            | 155694          |"
      ]
     },
     "metadata": {},
     "output_type": "display_data"
    },
    {
     "data": {
      "text/html": [
       "<pre>| 5m 52s                              | 77.5             | 155788          |</pre>"
      ],
      "text/plain": [
       "| 5m 52s                              | 77.5             | 155788          |"
      ]
     },
     "metadata": {},
     "output_type": "display_data"
    },
    {
     "data": {
      "text/html": [
       "<pre>| 5m 53s                              | 77.5             | 155816          |</pre>"
      ],
      "text/plain": [
       "| 5m 53s                              | 77.5             | 155816          |"
      ]
     },
     "metadata": {},
     "output_type": "display_data"
    },
    {
     "data": {
      "text/html": [
       "<pre>| 5m 54s                              | 77.5             | 155850          |</pre>"
      ],
      "text/plain": [
       "| 5m 54s                              | 77.5             | 155850          |"
      ]
     },
     "metadata": {},
     "output_type": "display_data"
    },
    {
     "data": {
      "text/html": [
       "<pre>| 5m 55s                              | 77.5             | 155916          |</pre>"
      ],
      "text/plain": [
       "| 5m 55s                              | 77.5             | 155916          |"
      ]
     },
     "metadata": {},
     "output_type": "display_data"
    },
    {
     "data": {
      "text/html": [
       "<pre>| 5m 56s                              | 77.5             | 155960          |</pre>"
      ],
      "text/plain": [
       "| 5m 56s                              | 77.5             | 155960          |"
      ]
     },
     "metadata": {},
     "output_type": "display_data"
    },
    {
     "data": {
      "text/html": [
       "<pre>| 5m 57s                              | 77.5             | 156051          |</pre>"
      ],
      "text/plain": [
       "| 5m 57s                              | 77.5             | 156051          |"
      ]
     },
     "metadata": {},
     "output_type": "display_data"
    },
    {
     "data": {
      "text/html": [
       "<pre>| 5m 58s                              | 77.5             | 156090          |</pre>"
      ],
      "text/plain": [
       "| 5m 58s                              | 77.5             | 156090          |"
      ]
     },
     "metadata": {},
     "output_type": "display_data"
    },
    {
     "data": {
      "text/html": [
       "<pre>| 5m 59s                              | 77.5             | 156148          |</pre>"
      ],
      "text/plain": [
       "| 5m 59s                              | 77.5             | 156148          |"
      ]
     },
     "metadata": {},
     "output_type": "display_data"
    },
    {
     "data": {
      "text/html": [
       "<pre>| 6m 0s                               | 77.75            | 156234          |</pre>"
      ],
      "text/plain": [
       "| 6m 0s                               | 77.75            | 156234          |"
      ]
     },
     "metadata": {},
     "output_type": "display_data"
    },
    {
     "data": {
      "text/html": [
       "<pre>| 6m 1s                               | 77.75            | 156274          |</pre>"
      ],
      "text/plain": [
       "| 6m 1s                               | 77.75            | 156274          |"
      ]
     },
     "metadata": {},
     "output_type": "display_data"
    },
    {
     "data": {
      "text/html": [
       "<pre>| 6m 2s                               | 77.75            | 156354          |</pre>"
      ],
      "text/plain": [
       "| 6m 2s                               | 77.75            | 156354          |"
      ]
     },
     "metadata": {},
     "output_type": "display_data"
    },
    {
     "data": {
      "text/html": [
       "<pre>| 6m 3s                               | 77.75            | 156394          |</pre>"
      ],
      "text/plain": [
       "| 6m 3s                               | 77.75            | 156394          |"
      ]
     },
     "metadata": {},
     "output_type": "display_data"
    },
    {
     "data": {
      "text/html": [
       "<pre>| 6m 4s                               | 77.75            | 156458          |</pre>"
      ],
      "text/plain": [
       "| 6m 4s                               | 77.75            | 156458          |"
      ]
     },
     "metadata": {},
     "output_type": "display_data"
    },
    {
     "data": {
      "text/html": [
       "<pre>| 6m 5s                               | 77.75            | 156522          |</pre>"
      ],
      "text/plain": [
       "| 6m 5s                               | 77.75            | 156522          |"
      ]
     },
     "metadata": {},
     "output_type": "display_data"
    },
    {
     "data": {
      "text/html": [
       "<pre>| 6m 6s                               | 77.75            | 156583          |</pre>"
      ],
      "text/plain": [
       "| 6m 6s                               | 77.75            | 156583          |"
      ]
     },
     "metadata": {},
     "output_type": "display_data"
    },
    {
     "data": {
      "text/html": [
       "<pre>| 6m 7s                               | 77.75            | 156643          |</pre>"
      ],
      "text/plain": [
       "| 6m 7s                               | 77.75            | 156643          |"
      ]
     },
     "metadata": {},
     "output_type": "display_data"
    },
    {
     "data": {
      "text/html": [
       "<pre>| 6m 8s                               | 77.75            | 156696          |</pre>"
      ],
      "text/plain": [
       "| 6m 8s                               | 77.75            | 156696          |"
      ]
     },
     "metadata": {},
     "output_type": "display_data"
    },
    {
     "data": {
      "text/html": [
       "<pre>| 6m 9s                               | 78               | 156759          |</pre>"
      ],
      "text/plain": [
       "| 6m 9s                               | 78               | 156759          |"
      ]
     },
     "metadata": {},
     "output_type": "display_data"
    },
    {
     "data": {
      "text/html": [
       "<pre>| 6m 10s                              | 78               | 156821          |</pre>"
      ],
      "text/plain": [
       "| 6m 10s                              | 78               | 156821          |"
      ]
     },
     "metadata": {},
     "output_type": "display_data"
    },
    {
     "data": {
      "text/html": [
       "<pre>| 6m 11s                              | 78               | 156887          |</pre>"
      ],
      "text/plain": [
       "| 6m 11s                              | 78               | 156887          |"
      ]
     },
     "metadata": {},
     "output_type": "display_data"
    },
    {
     "data": {
      "text/html": [
       "<pre>| 6m 12s                              | 78               | 157000          |</pre>"
      ],
      "text/plain": [
       "| 6m 12s                              | 78               | 157000          |"
      ]
     },
     "metadata": {},
     "output_type": "display_data"
    },
    {
     "data": {
      "text/html": [
       "<pre>| 6m 13s                              | 78               | 157012          |</pre>"
      ],
      "text/plain": [
       "| 6m 13s                              | 78               | 157012          |"
      ]
     },
     "metadata": {},
     "output_type": "display_data"
    },
    {
     "data": {
      "text/html": [
       "<pre>| 6m 14s                              | 78               | 157073          |</pre>"
      ],
      "text/plain": [
       "| 6m 14s                              | 78               | 157073          |"
      ]
     },
     "metadata": {},
     "output_type": "display_data"
    },
    {
     "data": {
      "text/html": [
       "<pre>| 6m 15s                              | 78               | 157141          |</pre>"
      ],
      "text/plain": [
       "| 6m 15s                              | 78               | 157141          |"
      ]
     },
     "metadata": {},
     "output_type": "display_data"
    },
    {
     "data": {
      "text/html": [
       "<pre>| 6m 16s                              | 78               | 157219          |</pre>"
      ],
      "text/plain": [
       "| 6m 16s                              | 78               | 157219          |"
      ]
     },
     "metadata": {},
     "output_type": "display_data"
    },
    {
     "data": {
      "text/html": [
       "<pre>| 6m 17s                              | 78.25            | 157298          |</pre>"
      ],
      "text/plain": [
       "| 6m 17s                              | 78.25            | 157298          |"
      ]
     },
     "metadata": {},
     "output_type": "display_data"
    },
    {
     "data": {
      "text/html": [
       "<pre>| 6m 18s                              | 78.25            | 157450          |</pre>"
      ],
      "text/plain": [
       "| 6m 18s                              | 78.25            | 157450          |"
      ]
     },
     "metadata": {},
     "output_type": "display_data"
    },
    {
     "data": {
      "text/html": [
       "<pre>| 6m 19s                              | 78.25            | 157523          |</pre>"
      ],
      "text/plain": [
       "| 6m 19s                              | 78.25            | 157523          |"
      ]
     },
     "metadata": {},
     "output_type": "display_data"
    },
    {
     "data": {
      "text/html": [
       "<pre>| 6m 20s                              | 78.25            | 157597          |</pre>"
      ],
      "text/plain": [
       "| 6m 20s                              | 78.25            | 157597          |"
      ]
     },
     "metadata": {},
     "output_type": "display_data"
    },
    {
     "data": {
      "text/html": [
       "<pre>| 6m 21s                              | 78.5             | 157906          |</pre>"
      ],
      "text/plain": [
       "| 6m 21s                              | 78.5             | 157906          |"
      ]
     },
     "metadata": {},
     "output_type": "display_data"
    },
    {
     "data": {
      "text/html": [
       "<pre>| 6m 22s                              | 78.5             | 157981          |</pre>"
      ],
      "text/plain": [
       "| 6m 22s                              | 78.5             | 157981          |"
      ]
     },
     "metadata": {},
     "output_type": "display_data"
    },
    {
     "data": {
      "text/html": [
       "<pre>| 6m 23s                              | 78.5             | 158031          |</pre>"
      ],
      "text/plain": [
       "| 6m 23s                              | 78.5             | 158031          |"
      ]
     },
     "metadata": {},
     "output_type": "display_data"
    },
    {
     "data": {
      "text/html": [
       "<pre>| 6m 24s                              | 78.5             | 158096          |</pre>"
      ],
      "text/plain": [
       "| 6m 24s                              | 78.5             | 158096          |"
      ]
     },
     "metadata": {},
     "output_type": "display_data"
    },
    {
     "data": {
      "text/html": [
       "<pre>| 6m 25s                              | 78.5             | 158171          |</pre>"
      ],
      "text/plain": [
       "| 6m 25s                              | 78.5             | 158171          |"
      ]
     },
     "metadata": {},
     "output_type": "display_data"
    },
    {
     "data": {
      "text/html": [
       "<pre>| 6m 26s                              | 78.75            | 158244          |</pre>"
      ],
      "text/plain": [
       "| 6m 26s                              | 78.75            | 158244          |"
      ]
     },
     "metadata": {},
     "output_type": "display_data"
    },
    {
     "data": {
      "text/html": [
       "<pre>| 6m 27s                              | 78.75            | 158291          |</pre>"
      ],
      "text/plain": [
       "| 6m 27s                              | 78.75            | 158291          |"
      ]
     },
     "metadata": {},
     "output_type": "display_data"
    },
    {
     "data": {
      "text/html": [
       "<pre>| 6m 28s                              | 78.75            | 158421          |</pre>"
      ],
      "text/plain": [
       "| 6m 28s                              | 78.75            | 158421          |"
      ]
     },
     "metadata": {},
     "output_type": "display_data"
    },
    {
     "data": {
      "text/html": [
       "<pre>| 6m 29s                              | 78.75            | 158477          |</pre>"
      ],
      "text/plain": [
       "| 6m 29s                              | 78.75            | 158477          |"
      ]
     },
     "metadata": {},
     "output_type": "display_data"
    },
    {
     "data": {
      "text/html": [
       "<pre>| 6m 30s                              | 79               | 158740          |</pre>"
      ],
      "text/plain": [
       "| 6m 30s                              | 79               | 158740          |"
      ]
     },
     "metadata": {},
     "output_type": "display_data"
    },
    {
     "data": {
      "text/html": [
       "<pre>| 6m 31s                              | 79               | 158801          |</pre>"
      ],
      "text/plain": [
       "| 6m 31s                              | 79               | 158801          |"
      ]
     },
     "metadata": {},
     "output_type": "display_data"
    },
    {
     "data": {
      "text/html": [
       "<pre>| 6m 32s                              | 79               | 158853          |</pre>"
      ],
      "text/plain": [
       "| 6m 32s                              | 79               | 158853          |"
      ]
     },
     "metadata": {},
     "output_type": "display_data"
    },
    {
     "data": {
      "text/html": [
       "<pre>| 6m 33s                              | 79               | 158944          |</pre>"
      ],
      "text/plain": [
       "| 6m 33s                              | 79               | 158944          |"
      ]
     },
     "metadata": {},
     "output_type": "display_data"
    },
    {
     "data": {
      "text/html": [
       "<pre>| 6m 34s                              | 79               | 158979          |</pre>"
      ],
      "text/plain": [
       "| 6m 34s                              | 79               | 158979          |"
      ]
     },
     "metadata": {},
     "output_type": "display_data"
    },
    {
     "data": {
      "text/html": [
       "<pre>| 6m 35s                              | 79               | 159085          |</pre>"
      ],
      "text/plain": [
       "| 6m 35s                              | 79               | 159085          |"
      ]
     },
     "metadata": {},
     "output_type": "display_data"
    },
    {
     "data": {
      "text/html": [
       "<pre>| 6m 36s                              | 79.25            | 159488          |</pre>"
      ],
      "text/plain": [
       "| 6m 36s                              | 79.25            | 159488          |"
      ]
     },
     "metadata": {},
     "output_type": "display_data"
    },
    {
     "data": {
      "text/html": [
       "<pre>| 6m 37s                              | 79.25            | 159546          |</pre>"
      ],
      "text/plain": [
       "| 6m 37s                              | 79.25            | 159546          |"
      ]
     },
     "metadata": {},
     "output_type": "display_data"
    },
    {
     "data": {
      "text/html": [
       "<pre>| 6m 38s                              | 79.25            | 159607          |</pre>"
      ],
      "text/plain": [
       "| 6m 38s                              | 79.25            | 159607          |"
      ]
     },
     "metadata": {},
     "output_type": "display_data"
    },
    {
     "data": {
      "text/html": [
       "<pre>| 6m 39s                              | 79.25            | 159671          |</pre>"
      ],
      "text/plain": [
       "| 6m 39s                              | 79.25            | 159671          |"
      ]
     },
     "metadata": {},
     "output_type": "display_data"
    },
    {
     "data": {
      "text/html": [
       "<pre>| 6m 40s                              | 79.25            | 159743          |</pre>"
      ],
      "text/plain": [
       "| 6m 40s                              | 79.25            | 159743          |"
      ]
     },
     "metadata": {},
     "output_type": "display_data"
    },
    {
     "data": {
      "text/html": [
       "<pre>| 6m 41s                              | 79.5             | 159786          |</pre>"
      ],
      "text/plain": [
       "| 6m 41s                              | 79.5             | 159786          |"
      ]
     },
     "metadata": {},
     "output_type": "display_data"
    },
    {
     "data": {
      "text/html": [
       "<pre>| 6m 42s                              | 79.5             | 159835          |</pre>"
      ],
      "text/plain": [
       "| 6m 42s                              | 79.5             | 159835          |"
      ]
     },
     "metadata": {},
     "output_type": "display_data"
    },
    {
     "data": {
      "text/html": [
       "<pre>| 6m 43s                              | 79.5             | 159896          |</pre>"
      ],
      "text/plain": [
       "| 6m 43s                              | 79.5             | 159896          |"
      ]
     },
     "metadata": {},
     "output_type": "display_data"
    },
    {
     "data": {
      "text/html": [
       "<pre>| 6m 44s                              | 79.5             | 159941          |</pre>"
      ],
      "text/plain": [
       "| 6m 44s                              | 79.5             | 159941          |"
      ]
     },
     "metadata": {},
     "output_type": "display_data"
    },
    {
     "data": {
      "text/html": [
       "<pre>| 6m 45s                              | 79.5             | 160085          |</pre>"
      ],
      "text/plain": [
       "| 6m 45s                              | 79.5             | 160085          |"
      ]
     },
     "metadata": {},
     "output_type": "display_data"
    },
    {
     "data": {
      "text/html": [
       "<pre>| 6m 46s                              | 79.5             | 160149          |</pre>"
      ],
      "text/plain": [
       "| 6m 46s                              | 79.5             | 160149          |"
      ]
     },
     "metadata": {},
     "output_type": "display_data"
    },
    {
     "data": {
      "text/html": [
       "<pre>| 6m 47s                              | 79.75            | 160338          |</pre>"
      ],
      "text/plain": [
       "| 6m 47s                              | 79.75            | 160338          |"
      ]
     },
     "metadata": {},
     "output_type": "display_data"
    },
    {
     "data": {
      "text/html": [
       "<pre>| 6m 48s                              | 79.75            | 160367          |</pre>"
      ],
      "text/plain": [
       "| 6m 48s                              | 79.75            | 160367          |"
      ]
     },
     "metadata": {},
     "output_type": "display_data"
    },
    {
     "data": {
      "text/html": [
       "<pre>| 6m 49s                              | 79.75            | 160423          |</pre>"
      ],
      "text/plain": [
       "| 6m 49s                              | 79.75            | 160423          |"
      ]
     },
     "metadata": {},
     "output_type": "display_data"
    },
    {
     "data": {
      "text/html": [
       "<pre>| 6m 50s                              | 79.75            | 160531          |</pre>"
      ],
      "text/plain": [
       "| 6m 50s                              | 79.75            | 160531          |"
      ]
     },
     "metadata": {},
     "output_type": "display_data"
    },
    {
     "data": {
      "text/html": [
       "<pre>| 6m 51s                              | 80.5             | 161871          |</pre>"
      ],
      "text/plain": [
       "| 6m 51s                              | 80.5             | 161871          |"
      ]
     },
     "metadata": {},
     "output_type": "display_data"
    },
    {
     "data": {
      "text/html": [
       "<pre>| 6m 52s                              | 80.5             | 161922          |</pre>"
      ],
      "text/plain": [
       "| 6m 52s                              | 80.5             | 161922          |"
      ]
     },
     "metadata": {},
     "output_type": "display_data"
    },
    {
     "data": {
      "text/html": [
       "<pre>| 6m 53s                              | 80.5             | 161996          |</pre>"
      ],
      "text/plain": [
       "| 6m 53s                              | 80.5             | 161996          |"
      ]
     },
     "metadata": {},
     "output_type": "display_data"
    },
    {
     "data": {
      "text/html": [
       "<pre>| 6m 54s                              | 80.5             | 162048          |</pre>"
      ],
      "text/plain": [
       "| 6m 54s                              | 80.5             | 162048          |"
      ]
     },
     "metadata": {},
     "output_type": "display_data"
    },
    {
     "data": {
      "text/html": [
       "<pre>| 6m 55s                              | 80.5             | 162091          |</pre>"
      ],
      "text/plain": [
       "| 6m 55s                              | 80.5             | 162091          |"
      ]
     },
     "metadata": {},
     "output_type": "display_data"
    },
    {
     "data": {
      "text/html": [
       "<pre>| 6m 56s                              | 80.5             | 162169          |</pre>"
      ],
      "text/plain": [
       "| 6m 56s                              | 80.5             | 162169          |"
      ]
     },
     "metadata": {},
     "output_type": "display_data"
    },
    {
     "data": {
      "text/html": [
       "<pre>| 6m 57s                              | 80.5             | 162224          |</pre>"
      ],
      "text/plain": [
       "| 6m 57s                              | 80.5             | 162224          |"
      ]
     },
     "metadata": {},
     "output_type": "display_data"
    },
    {
     "data": {
      "text/html": [
       "<pre>| 6m 58s                              | 80.75            | 162282          |</pre>"
      ],
      "text/plain": [
       "| 6m 58s                              | 80.75            | 162282          |"
      ]
     },
     "metadata": {},
     "output_type": "display_data"
    },
    {
     "data": {
      "text/html": [
       "<pre>| 6m 59s                              | 80.75            | 162331          |</pre>"
      ],
      "text/plain": [
       "| 6m 59s                              | 80.75            | 162331          |"
      ]
     },
     "metadata": {},
     "output_type": "display_data"
    },
    {
     "data": {
      "text/html": [
       "<pre>| 7m 0s                               | 80.75            | 162381          |</pre>"
      ],
      "text/plain": [
       "| 7m 0s                               | 80.75            | 162381          |"
      ]
     },
     "metadata": {},
     "output_type": "display_data"
    },
    {
     "data": {
      "text/html": [
       "<pre>| 7m 1s                               | 80.75            | 162451          |</pre>"
      ],
      "text/plain": [
       "| 7m 1s                               | 80.75            | 162451          |"
      ]
     },
     "metadata": {},
     "output_type": "display_data"
    },
    {
     "data": {
      "text/html": [
       "<pre>| 7m 2s                               | 80.75            | 162508          |</pre>"
      ],
      "text/plain": [
       "| 7m 2s                               | 80.75            | 162508          |"
      ]
     },
     "metadata": {},
     "output_type": "display_data"
    },
    {
     "data": {
      "text/html": [
       "<pre>| 7m 3s                               | 80.75            | 162571          |</pre>"
      ],
      "text/plain": [
       "| 7m 3s                               | 80.75            | 162571          |"
      ]
     },
     "metadata": {},
     "output_type": "display_data"
    },
    {
     "data": {
      "text/html": [
       "<pre>| 7m 4s                               | 80.75            | 162621          |</pre>"
      ],
      "text/plain": [
       "| 7m 4s                               | 80.75            | 162621          |"
      ]
     },
     "metadata": {},
     "output_type": "display_data"
    },
    {
     "data": {
      "text/html": [
       "<pre>| 7m 5s                               | 80.75            | 162678          |</pre>"
      ],
      "text/plain": [
       "| 7m 5s                               | 80.75            | 162678          |"
      ]
     },
     "metadata": {},
     "output_type": "display_data"
    },
    {
     "data": {
      "text/html": [
       "<pre>| 7m 6s                               | 80.75            | 162746          |</pre>"
      ],
      "text/plain": [
       "| 7m 6s                               | 80.75            | 162746          |"
      ]
     },
     "metadata": {},
     "output_type": "display_data"
    },
    {
     "data": {
      "text/html": [
       "<pre>| 7m 7s                               | 81               | 162799          |</pre>"
      ],
      "text/plain": [
       "| 7m 7s                               | 81               | 162799          |"
      ]
     },
     "metadata": {},
     "output_type": "display_data"
    },
    {
     "data": {
      "text/html": [
       "<pre>| 7m 8s                               | 81               | 162885          |</pre>"
      ],
      "text/plain": [
       "| 7m 8s                               | 81               | 162885          |"
      ]
     },
     "metadata": {},
     "output_type": "display_data"
    },
    {
     "data": {
      "text/html": [
       "<pre>| 7m 9s                               | 81               | 162915          |</pre>"
      ],
      "text/plain": [
       "| 7m 9s                               | 81               | 162915          |"
      ]
     },
     "metadata": {},
     "output_type": "display_data"
    },
    {
     "data": {
      "text/html": [
       "<pre>| 7m 10s                              | 81               | 162995          |</pre>"
      ],
      "text/plain": [
       "| 7m 10s                              | 81               | 162995          |"
      ]
     },
     "metadata": {},
     "output_type": "display_data"
    },
    {
     "data": {
      "text/html": [
       "<pre>| 7m 11s                              | 81               | 163025          |</pre>"
      ],
      "text/plain": [
       "| 7m 11s                              | 81               | 163025          |"
      ]
     },
     "metadata": {},
     "output_type": "display_data"
    },
    {
     "data": {
      "text/html": [
       "<pre>| 7m 12s                              | 81               | 163157          |</pre>"
      ],
      "text/plain": [
       "| 7m 12s                              | 81               | 163157          |"
      ]
     },
     "metadata": {},
     "output_type": "display_data"
    },
    {
     "data": {
      "text/html": [
       "<pre>| 7m 13s                              | 81               | 163170          |</pre>"
      ],
      "text/plain": [
       "| 7m 13s                              | 81               | 163170          |"
      ]
     },
     "metadata": {},
     "output_type": "display_data"
    },
    {
     "data": {
      "text/html": [
       "<pre>| 7m 14s                              | 81               | 163190          |</pre>"
      ],
      "text/plain": [
       "| 7m 14s                              | 81               | 163190          |"
      ]
     },
     "metadata": {},
     "output_type": "display_data"
    },
    {
     "data": {
      "text/html": [
       "<pre>| 7m 15s                              | 81               | 163225          |</pre>"
      ],
      "text/plain": [
       "| 7m 15s                              | 81               | 163225          |"
      ]
     },
     "metadata": {},
     "output_type": "display_data"
    },
    {
     "data": {
      "text/html": [
       "<pre>| 7m 16s                              | 81.25            | 163268          |</pre>"
      ],
      "text/plain": [
       "| 7m 16s                              | 81.25            | 163268          |"
      ]
     },
     "metadata": {},
     "output_type": "display_data"
    },
    {
     "data": {
      "text/html": [
       "<pre>| 7m 17s                              | 81.25            | 163325          |</pre>"
      ],
      "text/plain": [
       "| 7m 17s                              | 81.25            | 163325          |"
      ]
     },
     "metadata": {},
     "output_type": "display_data"
    },
    {
     "data": {
      "text/html": [
       "<pre>| 7m 18s                              | 81.25            | 163356          |</pre>"
      ],
      "text/plain": [
       "| 7m 18s                              | 81.25            | 163356          |"
      ]
     },
     "metadata": {},
     "output_type": "display_data"
    },
    {
     "data": {
      "text/html": [
       "<pre>| 7m 19s                              | 81.25            | 163403          |</pre>"
      ],
      "text/plain": [
       "| 7m 19s                              | 81.25            | 163403          |"
      ]
     },
     "metadata": {},
     "output_type": "display_data"
    },
    {
     "data": {
      "text/html": [
       "<pre>| 7m 20s                              | 81.25            | 163458          |</pre>"
      ],
      "text/plain": [
       "| 7m 20s                              | 81.25            | 163458          |"
      ]
     },
     "metadata": {},
     "output_type": "display_data"
    },
    {
     "data": {
      "text/html": [
       "<pre>| 7m 21s                              | 81.25            | 163505          |</pre>"
      ],
      "text/plain": [
       "| 7m 21s                              | 81.25            | 163505          |"
      ]
     },
     "metadata": {},
     "output_type": "display_data"
    },
    {
     "data": {
      "text/html": [
       "<pre>| 7m 22s                              | 81.25            | 163562          |</pre>"
      ],
      "text/plain": [
       "| 7m 22s                              | 81.25            | 163562          |"
      ]
     },
     "metadata": {},
     "output_type": "display_data"
    },
    {
     "data": {
      "text/html": [
       "<pre>| 7m 23s                              | 81.25            | 163611          |</pre>"
      ],
      "text/plain": [
       "| 7m 23s                              | 81.25            | 163611          |"
      ]
     },
     "metadata": {},
     "output_type": "display_data"
    },
    {
     "data": {
      "text/html": [
       "<pre>| 7m 24s                              | 81.25            | 163648          |</pre>"
      ],
      "text/plain": [
       "| 7m 24s                              | 81.25            | 163648          |"
      ]
     },
     "metadata": {},
     "output_type": "display_data"
    },
    {
     "data": {
      "text/html": [
       "<pre>| 7m 25s                              | 81.25            | 163698          |</pre>"
      ],
      "text/plain": [
       "| 7m 25s                              | 81.25            | 163698          |"
      ]
     },
     "metadata": {},
     "output_type": "display_data"
    },
    {
     "data": {
      "text/html": [
       "<pre>| 7m 26s                              | 81.5             | 163784          |</pre>"
      ],
      "text/plain": [
       "| 7m 26s                              | 81.5             | 163784          |"
      ]
     },
     "metadata": {},
     "output_type": "display_data"
    },
    {
     "data": {
      "text/html": [
       "<pre>| 7m 27s                              | 81.5             | 164265          |</pre>"
      ],
      "text/plain": [
       "| 7m 27s                              | 81.5             | 164265          |"
      ]
     },
     "metadata": {},
     "output_type": "display_data"
    },
    {
     "data": {
      "text/html": [
       "<pre>| 7m 28s                              | 81.75            | 164324          |</pre>"
      ],
      "text/plain": [
       "| 7m 28s                              | 81.75            | 164324          |"
      ]
     },
     "metadata": {},
     "output_type": "display_data"
    },
    {
     "data": {
      "text/html": [
       "<pre>| 7m 29s                              | 82               | 165010          |</pre>"
      ],
      "text/plain": [
       "| 7m 29s                              | 82               | 165010          |"
      ]
     },
     "metadata": {},
     "output_type": "display_data"
    },
    {
     "data": {
      "text/html": [
       "<pre>| 7m 30s                              | 82               | 165120          |</pre>"
      ],
      "text/plain": [
       "| 7m 30s                              | 82               | 165120          |"
      ]
     },
     "metadata": {},
     "output_type": "display_data"
    },
    {
     "data": {
      "text/html": [
       "<pre>| 7m 31s                              | 82               | 165137          |</pre>"
      ],
      "text/plain": [
       "| 7m 31s                              | 82               | 165137          |"
      ]
     },
     "metadata": {},
     "output_type": "display_data"
    },
    {
     "data": {
      "text/html": [
       "<pre>| 7m 32s                              | 82               | 165187          |</pre>"
      ],
      "text/plain": [
       "| 7m 32s                              | 82               | 165187          |"
      ]
     },
     "metadata": {},
     "output_type": "display_data"
    },
    {
     "data": {
      "text/html": [
       "<pre>| 7m 33s                              | 82               | 165260          |</pre>"
      ],
      "text/plain": [
       "| 7m 33s                              | 82               | 165260          |"
      ]
     },
     "metadata": {},
     "output_type": "display_data"
    },
    {
     "data": {
      "text/html": [
       "<pre>| 7m 34s                              | 82.25            | 165309          |</pre>"
      ],
      "text/plain": [
       "| 7m 34s                              | 82.25            | 165309          |"
      ]
     },
     "metadata": {},
     "output_type": "display_data"
    },
    {
     "data": {
      "text/html": [
       "<pre>| 7m 35s                              | 82.25            | 165384          |</pre>"
      ],
      "text/plain": [
       "| 7m 35s                              | 82.25            | 165384          |"
      ]
     },
     "metadata": {},
     "output_type": "display_data"
    },
    {
     "data": {
      "text/html": [
       "<pre>| 7m 36s                              | 82.25            | 165524          |</pre>"
      ],
      "text/plain": [
       "| 7m 36s                              | 82.25            | 165524          |"
      ]
     },
     "metadata": {},
     "output_type": "display_data"
    },
    {
     "data": {
      "text/html": [
       "<pre>| 7m 37s                              | 82.25            | 165588          |</pre>"
      ],
      "text/plain": [
       "| 7m 37s                              | 82.25            | 165588          |"
      ]
     },
     "metadata": {},
     "output_type": "display_data"
    },
    {
     "data": {
      "text/html": [
       "<pre>| 7m 38s                              | 82.25            | 165722          |</pre>"
      ],
      "text/plain": [
       "| 7m 38s                              | 82.25            | 165722          |"
      ]
     },
     "metadata": {},
     "output_type": "display_data"
    },
    {
     "data": {
      "text/html": [
       "<pre>| 7m 39s                              | 82.5             | 165820          |</pre>"
      ],
      "text/plain": [
       "| 7m 39s                              | 82.5             | 165820          |"
      ]
     },
     "metadata": {},
     "output_type": "display_data"
    },
    {
     "data": {
      "text/html": [
       "<pre>| 7m 40s                              | 82.5             | 165862          |</pre>"
      ],
      "text/plain": [
       "| 7m 40s                              | 82.5             | 165862          |"
      ]
     },
     "metadata": {},
     "output_type": "display_data"
    },
    {
     "data": {
      "text/html": [
       "<pre>| 7m 41s                              | 82.5             | 166099          |</pre>"
      ],
      "text/plain": [
       "| 7m 41s                              | 82.5             | 166099          |"
      ]
     },
     "metadata": {},
     "output_type": "display_data"
    },
    {
     "data": {
      "text/html": [
       "<pre>| 7m 42s                              | 82.5             | 166162          |</pre>"
      ],
      "text/plain": [
       "| 7m 42s                              | 82.5             | 166162          |"
      ]
     },
     "metadata": {},
     "output_type": "display_data"
    },
    {
     "data": {
      "text/html": [
       "<pre>| 7m 43s                              | 82.5             | 166229          |</pre>"
      ],
      "text/plain": [
       "| 7m 43s                              | 82.5             | 166229          |"
      ]
     },
     "metadata": {},
     "output_type": "display_data"
    },
    {
     "data": {
      "text/html": [
       "<pre>| 7m 44s                              | 82.75            | 166281          |</pre>"
      ],
      "text/plain": [
       "| 7m 44s                              | 82.75            | 166281          |"
      ]
     },
     "metadata": {},
     "output_type": "display_data"
    },
    {
     "data": {
      "text/html": [
       "<pre>| 7m 45s                              | 82.75            | 166365          |</pre>"
      ],
      "text/plain": [
       "| 7m 45s                              | 82.75            | 166365          |"
      ]
     },
     "metadata": {},
     "output_type": "display_data"
    },
    {
     "data": {
      "text/html": [
       "<pre>| 7m 46s                              | 82.75            | 166680          |</pre>"
      ],
      "text/plain": [
       "| 7m 46s                              | 82.75            | 166680          |"
      ]
     },
     "metadata": {},
     "output_type": "display_data"
    },
    {
     "data": {
      "text/html": [
       "<pre>| 7m 47s                              | 82.75            | 166766          |</pre>"
      ],
      "text/plain": [
       "| 7m 47s                              | 82.75            | 166766          |"
      ]
     },
     "metadata": {},
     "output_type": "display_data"
    },
    {
     "data": {
      "text/html": [
       "<pre>| 7m 48s                              | 83               | 166847          |</pre>"
      ],
      "text/plain": [
       "| 7m 48s                              | 83               | 166847          |"
      ]
     },
     "metadata": {},
     "output_type": "display_data"
    },
    {
     "data": {
      "text/html": [
       "<pre>| 7m 49s                              | 83               | 166944          |</pre>"
      ],
      "text/plain": [
       "| 7m 49s                              | 83               | 166944          |"
      ]
     },
     "metadata": {},
     "output_type": "display_data"
    },
    {
     "data": {
      "text/html": [
       "<pre>| 7m 50s                              | 83               | 167040          |</pre>"
      ],
      "text/plain": [
       "| 7m 50s                              | 83               | 167040          |"
      ]
     },
     "metadata": {},
     "output_type": "display_data"
    },
    {
     "data": {
      "text/html": [
       "<pre>| 7m 51s                              | 83               | 167127          |</pre>"
      ],
      "text/plain": [
       "| 7m 51s                              | 83               | 167127          |"
      ]
     },
     "metadata": {},
     "output_type": "display_data"
    },
    {
     "data": {
      "text/html": [
       "<pre>| 7m 52s                              | 83               | 167275          |</pre>"
      ],
      "text/plain": [
       "| 7m 52s                              | 83               | 167275          |"
      ]
     },
     "metadata": {},
     "output_type": "display_data"
    },
    {
     "data": {
      "text/html": [
       "<pre>| 7m 53s                              | 83.25            | 167377          |</pre>"
      ],
      "text/plain": [
       "| 7m 53s                              | 83.25            | 167377          |"
      ]
     },
     "metadata": {},
     "output_type": "display_data"
    },
    {
     "data": {
      "text/html": [
       "<pre>| 7m 54s                              | 83.25            | 167494          |</pre>"
      ],
      "text/plain": [
       "| 7m 54s                              | 83.25            | 167494          |"
      ]
     },
     "metadata": {},
     "output_type": "display_data"
    },
    {
     "data": {
      "text/html": [
       "<pre>| 7m 55s                              | 83.25            | 167671          |</pre>"
      ],
      "text/plain": [
       "| 7m 55s                              | 83.25            | 167671          |"
      ]
     },
     "metadata": {},
     "output_type": "display_data"
    },
    {
     "data": {
      "text/html": [
       "<pre>| 7m 56s                              | 83.25            | 167764          |</pre>"
      ],
      "text/plain": [
       "| 7m 56s                              | 83.25            | 167764          |"
      ]
     },
     "metadata": {},
     "output_type": "display_data"
    },
    {
     "data": {
      "text/html": [
       "<pre>| 7m 57s                              | 83.5             | 167926          |</pre>"
      ],
      "text/plain": [
       "| 7m 57s                              | 83.5             | 167926          |"
      ]
     },
     "metadata": {},
     "output_type": "display_data"
    },
    {
     "data": {
      "text/html": [
       "<pre>| 7m 58s                              | 83.5             | 168007          |</pre>"
      ],
      "text/plain": [
       "| 7m 58s                              | 83.5             | 168007          |"
      ]
     },
     "metadata": {},
     "output_type": "display_data"
    },
    {
     "data": {
      "text/html": [
       "<pre>| 7m 59s                              | 84               | 169163          |</pre>"
      ],
      "text/plain": [
       "| 7m 59s                              | 84               | 169163          |"
      ]
     },
     "metadata": {},
     "output_type": "display_data"
    },
    {
     "data": {
      "text/html": [
       "<pre>| 8m 0s                               | 84               | 169251          |</pre>"
      ],
      "text/plain": [
       "| 8m 0s                               | 84               | 169251          |"
      ]
     },
     "metadata": {},
     "output_type": "display_data"
    },
    {
     "data": {
      "text/html": [
       "<pre>| 8m 1s                               | 84.25            | 169342          |</pre>"
      ],
      "text/plain": [
       "| 8m 1s                               | 84.25            | 169342          |"
      ]
     },
     "metadata": {},
     "output_type": "display_data"
    },
    {
     "data": {
      "text/html": [
       "<pre>| 8m 2s                               | 84.25            | 169429          |</pre>"
      ],
      "text/plain": [
       "| 8m 2s                               | 84.25            | 169429          |"
      ]
     },
     "metadata": {},
     "output_type": "display_data"
    },
    {
     "data": {
      "text/html": [
       "<pre>| 8m 3s                               | 84.25            | 169512          |</pre>"
      ],
      "text/plain": [
       "| 8m 3s                               | 84.25            | 169512          |"
      ]
     },
     "metadata": {},
     "output_type": "display_data"
    },
    {
     "data": {
      "text/html": [
       "<pre>| 8m 4s                               | 84.25            | 169615          |</pre>"
      ],
      "text/plain": [
       "| 8m 4s                               | 84.25            | 169615          |"
      ]
     },
     "metadata": {},
     "output_type": "display_data"
    },
    {
     "data": {
      "text/html": [
       "<pre>| 8m 5s                               | 84.25            | 169687          |</pre>"
      ],
      "text/plain": [
       "| 8m 5s                               | 84.25            | 169687          |"
      ]
     },
     "metadata": {},
     "output_type": "display_data"
    },
    {
     "data": {
      "text/html": [
       "<pre>| 8m 6s                               | 84.25            | 169775          |</pre>"
      ],
      "text/plain": [
       "| 8m 6s                               | 84.25            | 169775          |"
      ]
     },
     "metadata": {},
     "output_type": "display_data"
    },
    {
     "data": {
      "text/html": [
       "<pre>| 8m 7s                               | 84.5             | 169879          |</pre>"
      ],
      "text/plain": [
       "| 8m 7s                               | 84.5             | 169879          |"
      ]
     },
     "metadata": {},
     "output_type": "display_data"
    },
    {
     "data": {
      "text/html": [
       "<pre>| 8m 8s                               | 84.5             | 169950          |</pre>"
      ],
      "text/plain": [
       "| 8m 8s                               | 84.5             | 169950          |"
      ]
     },
     "metadata": {},
     "output_type": "display_data"
    },
    {
     "data": {
      "text/html": [
       "<pre>| 8m 9s                               | 84.5             | 170040          |</pre>"
      ],
      "text/plain": [
       "| 8m 9s                               | 84.5             | 170040          |"
      ]
     },
     "metadata": {},
     "output_type": "display_data"
    },
    {
     "data": {
      "text/html": [
       "<pre>| 8m 10s                              | 84.5             | 170115          |</pre>"
      ],
      "text/plain": [
       "| 8m 10s                              | 84.5             | 170115          |"
      ]
     },
     "metadata": {},
     "output_type": "display_data"
    },
    {
     "data": {
      "text/html": [
       "<pre>| 8m 11s                              | 84.5             | 170205          |</pre>"
      ],
      "text/plain": [
       "| 8m 11s                              | 84.5             | 170205          |"
      ]
     },
     "metadata": {},
     "output_type": "display_data"
    },
    {
     "data": {
      "text/html": [
       "<pre>| 8m 12s                              | 84.5             | 170291          |</pre>"
      ],
      "text/plain": [
       "| 8m 12s                              | 84.5             | 170291          |"
      ]
     },
     "metadata": {},
     "output_type": "display_data"
    },
    {
     "data": {
      "text/html": [
       "<pre>| 8m 13s                              | 84.75            | 170390          |</pre>"
      ],
      "text/plain": [
       "| 8m 13s                              | 84.75            | 170390          |"
      ]
     },
     "metadata": {},
     "output_type": "display_data"
    },
    {
     "data": {
      "text/html": [
       "<pre>| 8m 14s                              | 84.75            | 170472          |</pre>"
      ],
      "text/plain": [
       "| 8m 14s                              | 84.75            | 170472          |"
      ]
     },
     "metadata": {},
     "output_type": "display_data"
    },
    {
     "data": {
      "text/html": [
       "<pre>| 8m 15s                              | 84.75            | 170569          |</pre>"
      ],
      "text/plain": [
       "| 8m 15s                              | 84.75            | 170569          |"
      ]
     },
     "metadata": {},
     "output_type": "display_data"
    },
    {
     "data": {
      "text/html": [
       "<pre>| 8m 16s                              | 84.75            | 170656          |</pre>"
      ],
      "text/plain": [
       "| 8m 16s                              | 84.75            | 170656          |"
      ]
     },
     "metadata": {},
     "output_type": "display_data"
    },
    {
     "data": {
      "text/html": [
       "<pre>| 8m 17s                              | 84.75            | 170756          |</pre>"
      ],
      "text/plain": [
       "| 8m 17s                              | 84.75            | 170756          |"
      ]
     },
     "metadata": {},
     "output_type": "display_data"
    },
    {
     "data": {
      "text/html": [
       "<pre>| 8m 18s                              | 85               | 170857          |</pre>"
      ],
      "text/plain": [
       "| 8m 18s                              | 85               | 170857          |"
      ]
     },
     "metadata": {},
     "output_type": "display_data"
    },
    {
     "data": {
      "text/html": [
       "<pre>| 8m 19s                              | 85               | 170924          |</pre>"
      ],
      "text/plain": [
       "| 8m 19s                              | 85               | 170924          |"
      ]
     },
     "metadata": {},
     "output_type": "display_data"
    },
    {
     "data": {
      "text/html": [
       "<pre>| 8m 20s                              | 85               | 171024          |</pre>"
      ],
      "text/plain": [
       "| 8m 20s                              | 85               | 171024          |"
      ]
     },
     "metadata": {},
     "output_type": "display_data"
    },
    {
     "data": {
      "text/html": [
       "<pre>| 8m 21s                              | 85               | 171128          |</pre>"
      ],
      "text/plain": [
       "| 8m 21s                              | 85               | 171128          |"
      ]
     },
     "metadata": {},
     "output_type": "display_data"
    },
    {
     "data": {
      "text/html": [
       "<pre>| 8m 22s                              | 85               | 171224          |</pre>"
      ],
      "text/plain": [
       "| 8m 22s                              | 85               | 171224          |"
      ]
     },
     "metadata": {},
     "output_type": "display_data"
    },
    {
     "data": {
      "text/html": [
       "<pre>| 8m 23s                              | 85.25            | 171310          |</pre>"
      ],
      "text/plain": [
       "| 8m 23s                              | 85.25            | 171310          |"
      ]
     },
     "metadata": {},
     "output_type": "display_data"
    },
    {
     "data": {
      "text/html": [
       "<pre>| 8m 24s                              | 85.25            | 171405          |</pre>"
      ],
      "text/plain": [
       "| 8m 24s                              | 85.25            | 171405          |"
      ]
     },
     "metadata": {},
     "output_type": "display_data"
    },
    {
     "data": {
      "text/html": [
       "<pre>| 8m 25s                              | 85.25            | 171499          |</pre>"
      ],
      "text/plain": [
       "| 8m 25s                              | 85.25            | 171499          |"
      ]
     },
     "metadata": {},
     "output_type": "display_data"
    },
    {
     "data": {
      "text/html": [
       "<pre>| 8m 26s                              | 85.25            | 171727          |</pre>"
      ],
      "text/plain": [
       "| 8m 26s                              | 85.25            | 171727          |"
      ]
     },
     "metadata": {},
     "output_type": "display_data"
    },
    {
     "data": {
      "text/html": [
       "<pre>| 8m 27s                              | 85.5             | 171823          |</pre>"
      ],
      "text/plain": [
       "| 8m 27s                              | 85.5             | 171823          |"
      ]
     },
     "metadata": {},
     "output_type": "display_data"
    },
    {
     "data": {
      "text/html": [
       "<pre>| 8m 28s                              | 85.5             | 171905          |</pre>"
      ],
      "text/plain": [
       "| 8m 28s                              | 85.5             | 171905          |"
      ]
     },
     "metadata": {},
     "output_type": "display_data"
    },
    {
     "data": {
      "text/html": [
       "<pre>| 8m 29s                              | 85.5             | 171996          |</pre>"
      ],
      "text/plain": [
       "| 8m 29s                              | 85.5             | 171996          |"
      ]
     },
     "metadata": {},
     "output_type": "display_data"
    },
    {
     "data": {
      "text/html": [
       "<pre>| 8m 30s                              | 85.5             | 172130          |</pre>"
      ],
      "text/plain": [
       "| 8m 30s                              | 85.5             | 172130          |"
      ]
     },
     "metadata": {},
     "output_type": "display_data"
    },
    {
     "data": {
      "text/html": [
       "<pre>| 8m 31s                              | 85.5             | 172252          |</pre>"
      ],
      "text/plain": [
       "| 8m 31s                              | 85.5             | 172252          |"
      ]
     },
     "metadata": {},
     "output_type": "display_data"
    },
    {
     "data": {
      "text/html": [
       "<pre>| 8m 32s                              | 85.75            | 172450          |</pre>"
      ],
      "text/plain": [
       "| 8m 32s                              | 85.75            | 172450          |"
      ]
     },
     "metadata": {},
     "output_type": "display_data"
    },
    {
     "data": {
      "text/html": [
       "<pre>| 8m 33s                              | 85.75            | 172569          |</pre>"
      ],
      "text/plain": [
       "| 8m 33s                              | 85.75            | 172569          |"
      ]
     },
     "metadata": {},
     "output_type": "display_data"
    },
    {
     "data": {
      "text/html": [
       "<pre>| 8m 34s                              | 85.75            | 172666          |</pre>"
      ],
      "text/plain": [
       "| 8m 34s                              | 85.75            | 172666          |"
      ]
     },
     "metadata": {},
     "output_type": "display_data"
    },
    {
     "data": {
      "text/html": [
       "<pre>| 8m 35s                              | 86.25            | 173482          |</pre>"
      ],
      "text/plain": [
       "| 8m 35s                              | 86.25            | 173482          |"
      ]
     },
     "metadata": {},
     "output_type": "display_data"
    },
    {
     "data": {
      "text/html": [
       "<pre>| 8m 36s                              | 86.25            | 173583          |</pre>"
      ],
      "text/plain": [
       "| 8m 36s                              | 86.25            | 173583          |"
      ]
     },
     "metadata": {},
     "output_type": "display_data"
    },
    {
     "data": {
      "text/html": [
       "<pre>| 8m 37s                              | 86.25            | 173663          |</pre>"
      ],
      "text/plain": [
       "| 8m 37s                              | 86.25            | 173663          |"
      ]
     },
     "metadata": {},
     "output_type": "display_data"
    },
    {
     "data": {
      "text/html": [
       "<pre>| 8m 38s                              | 86.25            | 173759          |</pre>"
      ],
      "text/plain": [
       "| 8m 38s                              | 86.25            | 173759          |"
      ]
     },
     "metadata": {},
     "output_type": "display_data"
    },
    {
     "data": {
      "text/html": [
       "<pre>| 8m 39s                              | 86.5             | 173861          |</pre>"
      ],
      "text/plain": [
       "| 8m 39s                              | 86.5             | 173861          |"
      ]
     },
     "metadata": {},
     "output_type": "display_data"
    },
    {
     "data": {
      "text/html": [
       "<pre>| 8m 40s                              | 86.5             | 173967          |</pre>"
      ],
      "text/plain": [
       "| 8m 40s                              | 86.5             | 173967          |"
      ]
     },
     "metadata": {},
     "output_type": "display_data"
    },
    {
     "data": {
      "text/html": [
       "<pre>| 8m 41s                              | 86.5             | 174058          |</pre>"
      ],
      "text/plain": [
       "| 8m 41s                              | 86.5             | 174058          |"
      ]
     },
     "metadata": {},
     "output_type": "display_data"
    },
    {
     "data": {
      "text/html": [
       "<pre>| 8m 42s                              | 86.5             | 174154          |</pre>"
      ],
      "text/plain": [
       "| 8m 42s                              | 86.5             | 174154          |"
      ]
     },
     "metadata": {},
     "output_type": "display_data"
    },
    {
     "data": {
      "text/html": [
       "<pre>| 8m 43s                              | 86.5             | 174243          |</pre>"
      ],
      "text/plain": [
       "| 8m 43s                              | 86.5             | 174243          |"
      ]
     },
     "metadata": {},
     "output_type": "display_data"
    },
    {
     "data": {
      "text/html": [
       "<pre>| 8m 44s                              | 86.75            | 174339          |</pre>"
      ],
      "text/plain": [
       "| 8m 44s                              | 86.75            | 174339          |"
      ]
     },
     "metadata": {},
     "output_type": "display_data"
    },
    {
     "data": {
      "text/html": [
       "<pre>| 8m 45s                              | 86.75            | 174445          |</pre>"
      ],
      "text/plain": [
       "| 8m 45s                              | 86.75            | 174445          |"
      ]
     },
     "metadata": {},
     "output_type": "display_data"
    },
    {
     "data": {
      "text/html": [
       "<pre>| 8m 46s                              | 86.75            | 174535          |</pre>"
      ],
      "text/plain": [
       "| 8m 46s                              | 86.75            | 174535          |"
      ]
     },
     "metadata": {},
     "output_type": "display_data"
    },
    {
     "data": {
      "text/html": [
       "<pre>| 8m 47s                              | 86.75            | 174627          |</pre>"
      ],
      "text/plain": [
       "| 8m 47s                              | 86.75            | 174627          |"
      ]
     },
     "metadata": {},
     "output_type": "display_data"
    },
    {
     "data": {
      "text/html": [
       "<pre>| 8m 48s                              | 86.75            | 174729          |</pre>"
      ],
      "text/plain": [
       "| 8m 48s                              | 86.75            | 174729          |"
      ]
     },
     "metadata": {},
     "output_type": "display_data"
    },
    {
     "data": {
      "text/html": [
       "<pre>| 8m 49s                              | 87               | 174837          |</pre>"
      ],
      "text/plain": [
       "| 8m 49s                              | 87               | 174837          |"
      ]
     },
     "metadata": {},
     "output_type": "display_data"
    },
    {
     "data": {
      "text/html": [
       "<pre>| 8m 50s                              | 87               | 174926          |</pre>"
      ],
      "text/plain": [
       "| 8m 50s                              | 87               | 174926          |"
      ]
     },
     "metadata": {},
     "output_type": "display_data"
    },
    {
     "data": {
      "text/html": [
       "<pre>| 8m 51s                              | 87               | 175023          |</pre>"
      ],
      "text/plain": [
       "| 8m 51s                              | 87               | 175023          |"
      ]
     },
     "metadata": {},
     "output_type": "display_data"
    },
    {
     "data": {
      "text/html": [
       "<pre>| 8m 52s                              | 87               | 175118          |</pre>"
      ],
      "text/plain": [
       "| 8m 52s                              | 87               | 175118          |"
      ]
     },
     "metadata": {},
     "output_type": "display_data"
    },
    {
     "data": {
      "text/html": [
       "<pre>| 8m 53s                              | 87               | 175251          |</pre>"
      ],
      "text/plain": [
       "| 8m 53s                              | 87               | 175251          |"
      ]
     },
     "metadata": {},
     "output_type": "display_data"
    },
    {
     "data": {
      "text/html": [
       "<pre>| 8m 54s                              | 87.25            | 175364          |</pre>"
      ],
      "text/plain": [
       "| 8m 54s                              | 87.25            | 175364          |"
      ]
     },
     "metadata": {},
     "output_type": "display_data"
    },
    {
     "data": {
      "text/html": [
       "<pre>| 8m 55s                              | 87.25            | 175619          |</pre>"
      ],
      "text/plain": [
       "| 8m 55s                              | 87.25            | 175619          |"
      ]
     },
     "metadata": {},
     "output_type": "display_data"
    },
    {
     "data": {
      "text/html": [
       "<pre>| 8m 56s                              | 87.25            | 175704          |</pre>"
      ],
      "text/plain": [
       "| 8m 56s                              | 87.25            | 175704          |"
      ]
     },
     "metadata": {},
     "output_type": "display_data"
    },
    {
     "data": {
      "text/html": [
       "<pre>| 8m 57s                              | 87.25            | 175796          |</pre>"
      ],
      "text/plain": [
       "| 8m 57s                              | 87.25            | 175796          |"
      ]
     },
     "metadata": {},
     "output_type": "display_data"
    },
    {
     "data": {
      "text/html": [
       "<pre>| 8m 58s                              | 87.5             | 175899          |</pre>"
      ],
      "text/plain": [
       "| 8m 58s                              | 87.5             | 175899          |"
      ]
     },
     "metadata": {},
     "output_type": "display_data"
    },
    {
     "data": {
      "text/html": [
       "<pre>| 8m 59s                              | 87.5             | 176297          |</pre>"
      ],
      "text/plain": [
       "| 8m 59s                              | 87.5             | 176297          |"
      ]
     },
     "metadata": {},
     "output_type": "display_data"
    },
    {
     "data": {
      "text/html": [
       "<pre>| 9m 0s                               | 87.75            | 176397          |</pre>"
      ],
      "text/plain": [
       "| 9m 0s                               | 87.75            | 176397          |"
      ]
     },
     "metadata": {},
     "output_type": "display_data"
    },
    {
     "data": {
      "text/html": [
       "<pre>| 9m 1s                               | 87.75            | 176481          |</pre>"
      ],
      "text/plain": [
       "| 9m 1s                               | 87.75            | 176481          |"
      ]
     },
     "metadata": {},
     "output_type": "display_data"
    },
    {
     "data": {
      "text/html": [
       "<pre>| 9m 2s                               | 87.75            | 176579          |</pre>"
      ],
      "text/plain": [
       "| 9m 2s                               | 87.75            | 176579          |"
      ]
     },
     "metadata": {},
     "output_type": "display_data"
    },
    {
     "data": {
      "text/html": [
       "<pre>| 9m 3s                               | 87.75            | 176673          |</pre>"
      ],
      "text/plain": [
       "| 9m 3s                               | 87.75            | 176673          |"
      ]
     },
     "metadata": {},
     "output_type": "display_data"
    },
    {
     "data": {
      "text/html": [
       "<pre>| 9m 4s                               | 87.75            | 176772          |</pre>"
      ],
      "text/plain": [
       "| 9m 4s                               | 87.75            | 176772          |"
      ]
     },
     "metadata": {},
     "output_type": "display_data"
    },
    {
     "data": {
      "text/html": [
       "<pre>| 9m 5s                               | 88               | 176867          |</pre>"
      ],
      "text/plain": [
       "| 9m 5s                               | 88               | 176867          |"
      ]
     },
     "metadata": {},
     "output_type": "display_data"
    },
    {
     "data": {
      "text/html": [
       "<pre>| 9m 6s                               | 88               | 176992          |</pre>"
      ],
      "text/plain": [
       "| 9m 6s                               | 88               | 176992          |"
      ]
     },
     "metadata": {},
     "output_type": "display_data"
    },
    {
     "data": {
      "text/html": [
       "<pre>| 9m 7s                               | 88.25            | 177414          |</pre>"
      ],
      "text/plain": [
       "| 9m 7s                               | 88.25            | 177414          |"
      ]
     },
     "metadata": {},
     "output_type": "display_data"
    },
    {
     "data": {
      "text/html": [
       "<pre>| 9m 8s                               | 88.25            | 177506          |</pre>"
      ],
      "text/plain": [
       "| 9m 8s                               | 88.25            | 177506          |"
      ]
     },
     "metadata": {},
     "output_type": "display_data"
    },
    {
     "data": {
      "text/html": [
       "<pre>| 9m 9s                               | 88.25            | 177607          |</pre>"
      ],
      "text/plain": [
       "| 9m 9s                               | 88.25            | 177607          |"
      ]
     },
     "metadata": {},
     "output_type": "display_data"
    },
    {
     "data": {
      "text/html": [
       "<pre>| 9m 10s                              | 88.25            | 177688          |</pre>"
      ],
      "text/plain": [
       "| 9m 10s                              | 88.25            | 177688          |"
      ]
     },
     "metadata": {},
     "output_type": "display_data"
    },
    {
     "data": {
      "text/html": [
       "<pre>| 9m 11s                              | 88.25            | 177792          |</pre>"
      ],
      "text/plain": [
       "| 9m 11s                              | 88.25            | 177792          |"
      ]
     },
     "metadata": {},
     "output_type": "display_data"
    },
    {
     "data": {
      "text/html": [
       "<pre>| 9m 12s                              | 88.5             | 177891          |</pre>"
      ],
      "text/plain": [
       "| 9m 12s                              | 88.5             | 177891          |"
      ]
     },
     "metadata": {},
     "output_type": "display_data"
    },
    {
     "data": {
      "text/html": [
       "<pre>| 9m 13s                              | 88.5             | 177984          |</pre>"
      ],
      "text/plain": [
       "| 9m 13s                              | 88.5             | 177984          |"
      ]
     },
     "metadata": {},
     "output_type": "display_data"
    },
    {
     "data": {
      "text/html": [
       "<pre>| 9m 14s                              | 90.75            | 182545          |</pre>"
      ],
      "text/plain": [
       "| 9m 14s                              | 90.75            | 182545          |"
      ]
     },
     "metadata": {},
     "output_type": "display_data"
    },
    {
     "data": {
      "text/html": [
       "<pre>| 9m 15s                              | 90.75            | 182659          |</pre>"
      ],
      "text/plain": [
       "| 9m 15s                              | 90.75            | 182659          |"
      ]
     },
     "metadata": {},
     "output_type": "display_data"
    },
    {
     "data": {
      "text/html": [
       "<pre>| 9m 16s                              | 90.75            | 182753          |</pre>"
      ],
      "text/plain": [
       "| 9m 16s                              | 90.75            | 182753          |"
      ]
     },
     "metadata": {},
     "output_type": "display_data"
    },
    {
     "data": {
      "text/html": [
       "<pre>| 9m 17s                              | 90.75            | 182846          |</pre>"
      ],
      "text/plain": [
       "| 9m 17s                              | 90.75            | 182846          |"
      ]
     },
     "metadata": {},
     "output_type": "display_data"
    },
    {
     "data": {
      "text/html": [
       "<pre>| 9m 18s                              | 91               | 182936          |</pre>"
      ],
      "text/plain": [
       "| 9m 18s                              | 91               | 182936          |"
      ]
     },
     "metadata": {},
     "output_type": "display_data"
    },
    {
     "data": {
      "text/html": [
       "<pre>| 9m 19s                              | 91               | 183041          |</pre>"
      ],
      "text/plain": [
       "| 9m 19s                              | 91               | 183041          |"
      ]
     },
     "metadata": {},
     "output_type": "display_data"
    },
    {
     "data": {
      "text/html": [
       "<pre>| 9m 20s                              | 91               | 183148          |</pre>"
      ],
      "text/plain": [
       "| 9m 20s                              | 91               | 183148          |"
      ]
     },
     "metadata": {},
     "output_type": "display_data"
    },
    {
     "data": {
      "text/html": [
       "<pre>| 9m 21s                              | 91               | 183243          |</pre>"
      ],
      "text/plain": [
       "| 9m 21s                              | 91               | 183243          |"
      ]
     },
     "metadata": {},
     "output_type": "display_data"
    },
    {
     "data": {
      "text/html": [
       "<pre>| 9m 22s                              | 91.25            | 183361          |</pre>"
      ],
      "text/plain": [
       "| 9m 22s                              | 91.25            | 183361          |"
      ]
     },
     "metadata": {},
     "output_type": "display_data"
    },
    {
     "data": {
      "text/html": [
       "<pre>| 9m 23s                              | 91.25            | 183439          |</pre>"
      ],
      "text/plain": [
       "| 9m 23s                              | 91.25            | 183439          |"
      ]
     },
     "metadata": {},
     "output_type": "display_data"
    },
    {
     "data": {
      "text/html": [
       "<pre>| 9m 24s                              | 91.25            | 183536          |</pre>"
      ],
      "text/plain": [
       "| 9m 24s                              | 91.25            | 183536          |"
      ]
     },
     "metadata": {},
     "output_type": "display_data"
    },
    {
     "data": {
      "text/html": [
       "<pre>| 9m 25s                              | 91.25            | 183619          |</pre>"
      ],
      "text/plain": [
       "| 9m 25s                              | 91.25            | 183619          |"
      ]
     },
     "metadata": {},
     "output_type": "display_data"
    },
    {
     "data": {
      "text/html": [
       "<pre>| 9m 26s                              | 91.25            | 183732          |</pre>"
      ],
      "text/plain": [
       "| 9m 26s                              | 91.25            | 183732          |"
      ]
     },
     "metadata": {},
     "output_type": "display_data"
    },
    {
     "data": {
      "text/html": [
       "<pre>| 9m 27s                              | 91.25            | 183836          |</pre>"
      ],
      "text/plain": [
       "| 9m 27s                              | 91.25            | 183836          |"
      ]
     },
     "metadata": {},
     "output_type": "display_data"
    },
    {
     "data": {
      "text/html": [
       "<pre>| 9m 28s                              | 91.5             | 183955          |</pre>"
      ],
      "text/plain": [
       "| 9m 28s                              | 91.5             | 183955          |"
      ]
     },
     "metadata": {},
     "output_type": "display_data"
    },
    {
     "data": {
      "text/html": [
       "<pre>| 9m 29s                              | 91.5             | 184060          |</pre>"
      ],
      "text/plain": [
       "| 9m 29s                              | 91.5             | 184060          |"
      ]
     },
     "metadata": {},
     "output_type": "display_data"
    },
    {
     "data": {
      "text/html": [
       "<pre>| 9m 30s                              | 91.5             | 184150          |</pre>"
      ],
      "text/plain": [
       "| 9m 30s                              | 91.5             | 184150          |"
      ]
     },
     "metadata": {},
     "output_type": "display_data"
    },
    {
     "data": {
      "text/html": [
       "<pre>| 9m 31s                              | 91.5             | 184245          |</pre>"
      ],
      "text/plain": [
       "| 9m 31s                              | 91.5             | 184245          |"
      ]
     },
     "metadata": {},
     "output_type": "display_data"
    },
    {
     "data": {
      "text/html": [
       "<pre>| 9m 32s                              | 91.5             | 184326          |</pre>"
      ],
      "text/plain": [
       "| 9m 32s                              | 91.5             | 184326          |"
      ]
     },
     "metadata": {},
     "output_type": "display_data"
    },
    {
     "data": {
      "text/html": [
       "<pre>| 9m 33s                              | 91.75            | 184401          |</pre>"
      ],
      "text/plain": [
       "| 9m 33s                              | 91.75            | 184401          |"
      ]
     },
     "metadata": {},
     "output_type": "display_data"
    },
    {
     "data": {
      "text/html": [
       "<pre>| 9m 34s                              | 91.75            | 184467          |</pre>"
      ],
      "text/plain": [
       "| 9m 34s                              | 91.75            | 184467          |"
      ]
     },
     "metadata": {},
     "output_type": "display_data"
    },
    {
     "data": {
      "text/html": [
       "<pre>| 9m 35s                              | 91.75            | 184561          |</pre>"
      ],
      "text/plain": [
       "| 9m 35s                              | 91.75            | 184561          |"
      ]
     },
     "metadata": {},
     "output_type": "display_data"
    },
    {
     "data": {
      "text/html": [
       "<pre>| 9m 36s                              | 91.75            | 184643          |</pre>"
      ],
      "text/plain": [
       "| 9m 36s                              | 91.75            | 184643          |"
      ]
     },
     "metadata": {},
     "output_type": "display_data"
    },
    {
     "data": {
      "text/html": [
       "<pre>| 9m 37s                              | 91.75            | 184717          |</pre>"
      ],
      "text/plain": [
       "| 9m 37s                              | 91.75            | 184717          |"
      ]
     },
     "metadata": {},
     "output_type": "display_data"
    },
    {
     "data": {
      "text/html": [
       "<pre>| 9m 38s                              | 91.75            | 184820          |</pre>"
      ],
      "text/plain": [
       "| 9m 38s                              | 91.75            | 184820          |"
      ]
     },
     "metadata": {},
     "output_type": "display_data"
    },
    {
     "data": {
      "text/html": [
       "<pre>| 9m 39s                              | 92               | 184915          |</pre>"
      ],
      "text/plain": [
       "| 9m 39s                              | 92               | 184915          |"
      ]
     },
     "metadata": {},
     "output_type": "display_data"
    },
    {
     "data": {
      "text/html": [
       "<pre>| 9m 40s                              | 92               | 185013          |</pre>"
      ],
      "text/plain": [
       "| 9m 40s                              | 92               | 185013          |"
      ]
     },
     "metadata": {},
     "output_type": "display_data"
    },
    {
     "data": {
      "text/html": [
       "<pre>| 9m 41s                              | 92               | 185096          |</pre>"
      ],
      "text/plain": [
       "| 9m 41s                              | 92               | 185096          |"
      ]
     },
     "metadata": {},
     "output_type": "display_data"
    },
    {
     "data": {
      "text/html": [
       "<pre>| 9m 42s                              | 92               | 185190          |</pre>"
      ],
      "text/plain": [
       "| 9m 42s                              | 92               | 185190          |"
      ]
     },
     "metadata": {},
     "output_type": "display_data"
    },
    {
     "data": {
      "text/html": [
       "<pre>| 9m 43s                              | 92               | 185297          |</pre>"
      ],
      "text/plain": [
       "| 9m 43s                              | 92               | 185297          |"
      ]
     },
     "metadata": {},
     "output_type": "display_data"
    },
    {
     "data": {
      "text/html": [
       "<pre>| 9m 44s                              | 92.25            | 185402          |</pre>"
      ],
      "text/plain": [
       "| 9m 44s                              | 92.25            | 185402          |"
      ]
     },
     "metadata": {},
     "output_type": "display_data"
    },
    {
     "data": {
      "text/html": [
       "<pre>| 9m 45s                              | 92.25            | 185495          |</pre>"
      ],
      "text/plain": [
       "| 9m 45s                              | 92.25            | 185495          |"
      ]
     },
     "metadata": {},
     "output_type": "display_data"
    },
    {
     "data": {
      "text/html": [
       "<pre>| 9m 46s                              | 92.25            | 185604          |</pre>"
      ],
      "text/plain": [
       "| 9m 46s                              | 92.25            | 185604          |"
      ]
     },
     "metadata": {},
     "output_type": "display_data"
    },
    {
     "data": {
      "text/html": [
       "<pre>| 9m 47s                              | 92.25            | 185725          |</pre>"
      ],
      "text/plain": [
       "| 9m 47s                              | 92.25            | 185725          |"
      ]
     },
     "metadata": {},
     "output_type": "display_data"
    },
    {
     "data": {
      "text/html": [
       "<pre>| 9m 48s                              | 92.25            | 185856          |</pre>"
      ],
      "text/plain": [
       "| 9m 48s                              | 92.25            | 185856          |"
      ]
     },
     "metadata": {},
     "output_type": "display_data"
    },
    {
     "data": {
      "text/html": [
       "<pre>| 9m 49s                              | 92.5             | 185964          |</pre>"
      ],
      "text/plain": [
       "| 9m 49s                              | 92.5             | 185964          |"
      ]
     },
     "metadata": {},
     "output_type": "display_data"
    },
    {
     "data": {
      "text/html": [
       "<pre>| 9m 50s                              | 92.5             | 186071          |</pre>"
      ],
      "text/plain": [
       "| 9m 50s                              | 92.5             | 186071          |"
      ]
     },
     "metadata": {},
     "output_type": "display_data"
    },
    {
     "data": {
      "text/html": [
       "<pre>| 9m 51s                              | 92.5             | 186177          |</pre>"
      ],
      "text/plain": [
       "| 9m 51s                              | 92.5             | 186177          |"
      ]
     },
     "metadata": {},
     "output_type": "display_data"
    },
    {
     "data": {
      "text/html": [
       "<pre>| 9m 52s                              | 92.5             | 186278          |</pre>"
      ],
      "text/plain": [
       "| 9m 52s                              | 92.5             | 186278          |"
      ]
     },
     "metadata": {},
     "output_type": "display_data"
    },
    {
     "data": {
      "text/html": [
       "<pre>| 9m 53s                              | 92.75            | 186410          |</pre>"
      ],
      "text/plain": [
       "| 9m 53s                              | 92.75            | 186410          |"
      ]
     },
     "metadata": {},
     "output_type": "display_data"
    },
    {
     "data": {
      "text/html": [
       "<pre>| 9m 54s                              | 92.75            | 186540          |</pre>"
      ],
      "text/plain": [
       "| 9m 54s                              | 92.75            | 186540          |"
      ]
     },
     "metadata": {},
     "output_type": "display_data"
    },
    {
     "data": {
      "text/html": [
       "<pre>| 9m 55s                              | 92.75            | 186657          |</pre>"
      ],
      "text/plain": [
       "| 9m 55s                              | 92.75            | 186657          |"
      ]
     },
     "metadata": {},
     "output_type": "display_data"
    },
    {
     "data": {
      "text/html": [
       "<pre>| 9m 56s                              | 92.75            | 186792          |</pre>"
      ],
      "text/plain": [
       "| 9m 56s                              | 92.75            | 186792          |"
      ]
     },
     "metadata": {},
     "output_type": "display_data"
    },
    {
     "data": {
      "text/html": [
       "<pre>| 9m 57s                              | 93               | 186946          |</pre>"
      ],
      "text/plain": [
       "| 9m 57s                              | 93               | 186946          |"
      ]
     },
     "metadata": {},
     "output_type": "display_data"
    },
    {
     "data": {
      "text/html": [
       "<pre>| 9m 58s                              | 93               | 187116          |</pre>"
      ],
      "text/plain": [
       "| 9m 58s                              | 93               | 187116          |"
      ]
     },
     "metadata": {},
     "output_type": "display_data"
    },
    {
     "data": {
      "text/html": [
       "<pre>| 9m 59s                              | 93               | 187300          |</pre>"
      ],
      "text/plain": [
       "| 9m 59s                              | 93               | 187300          |"
      ]
     },
     "metadata": {},
     "output_type": "display_data"
    },
    {
     "data": {
      "text/html": [
       "<pre>| 10m 0s                              | 93.25            | 187442          |</pre>"
      ],
      "text/plain": [
       "| 10m 0s                              | 93.25            | 187442          |"
      ]
     },
     "metadata": {},
     "output_type": "display_data"
    },
    {
     "data": {
      "text/html": [
       "<pre>| 10m 1s                              | 93.25            | 187639          |</pre>"
      ],
      "text/plain": [
       "| 10m 1s                              | 93.25            | 187639          |"
      ]
     },
     "metadata": {},
     "output_type": "display_data"
    },
    {
     "data": {
      "text/html": [
       "<pre>| 10m 2s                              | 93.25            | 187835          |</pre>"
      ],
      "text/plain": [
       "| 10m 2s                              | 93.25            | 187835          |"
      ]
     },
     "metadata": {},
     "output_type": "display_data"
    },
    {
     "data": {
      "text/html": [
       "<pre>| 10m 3s                              | 93.5             | 188063          |</pre>"
      ],
      "text/plain": [
       "| 10m 3s                              | 93.5             | 188063          |"
      ]
     },
     "metadata": {},
     "output_type": "display_data"
    },
    {
     "data": {
      "text/html": [
       "<pre>| 10m 4s                              | 93.75            | 188382          |</pre>"
      ],
      "text/plain": [
       "| 10m 4s                              | 93.75            | 188382          |"
      ]
     },
     "metadata": {},
     "output_type": "display_data"
    },
    {
     "data": {
      "text/html": [
       "<pre>| 10m 42s                             | 93.75            | 188514          |</pre>"
      ],
      "text/plain": [
       "| 10m 42s                             | 93.75            | 188514          |"
      ]
     },
     "metadata": {},
     "output_type": "display_data"
    },
    {
     "data": {
      "text/html": [
       "<pre>| 11m 12s                             | 94.75            | 190412          |</pre>"
      ],
      "text/plain": [
       "| 11m 12s                             | 94.75            | 190412          |"
      ]
     },
     "metadata": {},
     "output_type": "display_data"
    },
    {
     "data": {
      "text/html": [
       "<pre>| 11m 23s                             | 95               | 191105          |</pre>"
      ],
      "text/plain": [
       "| 11m 23s                             | 95               | 191105          |"
      ]
     },
     "metadata": {},
     "output_type": "display_data"
    },
    {
     "data": {
      "text/html": [
       "<pre>| 11m 24s                             | 95               | 191181          |</pre>"
      ],
      "text/plain": [
       "| 11m 24s                             | 95               | 191181          |"
      ]
     },
     "metadata": {},
     "output_type": "display_data"
    },
    {
     "data": {
      "text/html": [
       "<pre>| 11m 25s                             | 95               | 191269          |</pre>"
      ],
      "text/plain": [
       "| 11m 25s                             | 95               | 191269          |"
      ]
     },
     "metadata": {},
     "output_type": "display_data"
    },
    {
     "data": {
      "text/html": [
       "<pre>| 11m 29s                             | 95.25            | 191528          |</pre>"
      ],
      "text/plain": [
       "| 11m 29s                             | 95.25            | 191528          |"
      ]
     },
     "metadata": {},
     "output_type": "display_data"
    },
    {
     "data": {
      "text/html": [
       "<pre>| 11m 33s                             | 95.25            | 191726          |</pre>"
      ],
      "text/plain": [
       "| 11m 33s                             | 95.25            | 191726          |"
      ]
     },
     "metadata": {},
     "output_type": "display_data"
    },
    {
     "data": {
      "text/html": [
       "<pre>| 11m 34s                             | 95.25            | 191795          |</pre>"
      ],
      "text/plain": [
       "| 11m 34s                             | 95.25            | 191795          |"
      ]
     },
     "metadata": {},
     "output_type": "display_data"
    },
    {
     "data": {
      "text/html": [
       "<pre>| 11m 39s                             | 95.5             | 192127          |</pre>"
      ],
      "text/plain": [
       "| 11m 39s                             | 95.5             | 192127          |"
      ]
     },
     "metadata": {},
     "output_type": "display_data"
    },
    {
     "data": {
      "text/html": [
       "<pre>| 11m 41s                             | 95.5             | 192204          |</pre>"
      ],
      "text/plain": [
       "| 11m 41s                             | 95.5             | 192204          |"
      ]
     },
     "metadata": {},
     "output_type": "display_data"
    },
    {
     "data": {
      "text/html": [
       "<pre>| 11m 41s                             | 95.5             | 192355          |</pre>"
      ],
      "text/plain": [
       "| 11m 41s                             | 95.5             | 192355          |"
      ]
     },
     "metadata": {},
     "output_type": "display_data"
    },
    {
     "data": {
      "text/html": [
       "<pre>| 11m 43s                             | 95.5             | 192363          |</pre>"
      ],
      "text/plain": [
       "| 11m 43s                             | 95.5             | 192363          |"
      ]
     },
     "metadata": {},
     "output_type": "display_data"
    },
    {
     "data": {
      "text/html": [
       "<pre>| 11m 44s                             | 95.5             | 192390          |</pre>"
      ],
      "text/plain": [
       "| 11m 44s                             | 95.5             | 192390          |"
      ]
     },
     "metadata": {},
     "output_type": "display_data"
    },
    {
     "data": {
      "text/html": [
       "<pre>| 11m 45s                             | 95.75            | 192451          |</pre>"
      ],
      "text/plain": [
       "| 11m 45s                             | 95.75            | 192451          |"
      ]
     },
     "metadata": {},
     "output_type": "display_data"
    },
    {
     "data": {
      "text/html": [
       "<pre>| 11m 48s                             | 95.75            | 192656          |</pre>"
      ],
      "text/plain": [
       "| 11m 48s                             | 95.75            | 192656          |"
      ]
     },
     "metadata": {},
     "output_type": "display_data"
    },
    {
     "data": {
      "text/html": [
       "<pre>| 11m 50s                             | 95.75            | 192739          |</pre>"
      ],
      "text/plain": [
       "| 11m 50s                             | 95.75            | 192739          |"
      ]
     },
     "metadata": {},
     "output_type": "display_data"
    },
    {
     "data": {
      "text/html": [
       "<pre>| 11m 50s                             | 95.75            | 192779          |</pre>"
      ],
      "text/plain": [
       "| 11m 50s                             | 95.75            | 192779          |"
      ]
     },
     "metadata": {},
     "output_type": "display_data"
    },
    {
     "data": {
      "text/html": [
       "<pre>| 11m 51s                             | 95.75            | 192852          |</pre>"
      ],
      "text/plain": [
       "| 11m 51s                             | 95.75            | 192852          |"
      ]
     },
     "metadata": {},
     "output_type": "display_data"
    },
    {
     "data": {
      "text/html": [
       "<pre>| 12m 8s                              | 96.5             | 193959          |</pre>"
      ],
      "text/plain": [
       "| 12m 8s                              | 96.5             | 193959          |"
      ]
     },
     "metadata": {},
     "output_type": "display_data"
    },
    {
     "data": {
      "text/html": [
       "<pre>| 13m 21s                             | 98.75            | 198616          |</pre>"
      ],
      "text/plain": [
       "| 13m 21s                             | 98.75            | 198616          |"
      ]
     },
     "metadata": {},
     "output_type": "display_data"
    },
    {
     "data": {
      "text/html": [
       "<pre>| 13m 31s                             | 99               | 199239          |</pre>"
      ],
      "text/plain": [
       "| 13m 31s                             | 99               | 199239          |"
      ]
     },
     "metadata": {},
     "output_type": "display_data"
    },
    {
     "data": {
      "text/html": [
       "<pre>| 13m 32s                             | 99               | 199298          |</pre>"
      ],
      "text/plain": [
       "| 13m 32s                             | 99               | 199298          |"
      ]
     },
     "metadata": {},
     "output_type": "display_data"
    },
    {
     "data": {
      "text/html": [
       "<pre>| 13m 34s                             | 99               | 199407          |</pre>"
      ],
      "text/plain": [
       "| 13m 34s                             | 99               | 199407          |"
      ]
     },
     "metadata": {},
     "output_type": "display_data"
    },
    {
     "data": {
      "text/html": [
       "<pre>| 13m 34s                             | 99               | 199424          |</pre>"
      ],
      "text/plain": [
       "| 13m 34s                             | 99               | 199424          |"
      ]
     },
     "metadata": {},
     "output_type": "display_data"
    },
    {
     "data": {
      "text/html": [
       "<pre>| 13m 36s                             | 99.25            | 199521          |</pre>"
      ],
      "text/plain": [
       "| 13m 36s                             | 99.25            | 199521          |"
      ]
     },
     "metadata": {},
     "output_type": "display_data"
    },
    {
     "data": {
      "text/html": [
       "<pre>| 13m 38s                             | 99.25            | 199667          |</pre>"
      ],
      "text/plain": [
       "| 13m 38s                             | 99.25            | 199667          |"
      ]
     },
     "metadata": {},
     "output_type": "display_data"
    },
    {
     "data": {
      "text/html": [
       "<pre>| 13m 41s                             | 99.25            | 199867          |</pre>"
      ],
      "text/plain": [
       "| 13m 41s                             | 99.25            | 199867          |"
      ]
     },
     "metadata": {},
     "output_type": "display_data"
    },
    {
     "data": {
      "text/html": [
       "<pre>| 13m 50s                             | 99.5             | 200432          |</pre>"
      ],
      "text/plain": [
       "| 13m 50s                             | 99.5             | 200432          |"
      ]
     },
     "metadata": {},
     "output_type": "display_data"
    },
    {
     "data": {
      "text/html": [
       "<pre>| 13m 58s                             | 99.75            | 200921          |</pre>"
      ],
      "text/plain": [
       "| 13m 58s                             | 99.75            | 200921          |"
      ]
     },
     "metadata": {},
     "output_type": "display_data"
    },
    {
     "data": {
      "text/html": [
       "<pre>| 14m 43s                             | 100              | 200936          |</pre>"
      ],
      "text/plain": [
       "| 14m 43s                             | 100              | 200936          |"
      ]
     },
     "metadata": {},
     "output_type": "display_data"
    },
    {
     "data": {
      "text/html": [
       "<pre>+-------------------------------------+------------------+-----------------+</pre>"
      ],
      "text/plain": [
       "+-------------------------------------+------------------+-----------------+"
      ]
     },
     "metadata": {},
     "output_type": "display_data"
    },
    {
     "data": {
      "text/html": [
       "<pre>Finalizing lookup tables.</pre>"
      ],
      "text/plain": [
       "Finalizing lookup tables."
      ]
     },
     "metadata": {},
     "output_type": "display_data"
    },
    {
     "data": {
      "text/html": [
       "<pre>Generating candidate set for working with new users.</pre>"
      ],
      "text/plain": [
       "Generating candidate set for working with new users."
      ]
     },
     "metadata": {},
     "output_type": "display_data"
    },
    {
     "data": {
      "text/html": [
       "<pre>Finished training in 887.745s</pre>"
      ],
      "text/plain": [
       "Finished training in 887.745s"
      ]
     },
     "metadata": {},
     "output_type": "display_data"
    }
   ],
   "source": [
    "item_model_jaccard = gl.recommender.item_similarity_recommender.create(training_data, 'user_id', 'item_id',\n",
    "                                                       target = 'rating', similarity_type = 'jaccard')"
   ]
  },
  {
   "cell_type": "code",
   "execution_count": 44,
   "metadata": {},
   "outputs": [
    {
     "data": {
      "text/html": [
       "<div style=\"max-height:1000px;max-width:1500px;overflow:auto;\"><table frame=\"box\" rules=\"cols\">\n",
       "    <tr>\n",
       "        <th style=\"padding-left: 1em; padding-right: 1em; text-align: center\">user_id</th>\n",
       "        <th style=\"padding-left: 1em; padding-right: 1em; text-align: center\">item_id</th>\n",
       "        <th style=\"padding-left: 1em; padding-right: 1em; text-align: center\">score</th>\n",
       "        <th style=\"padding-left: 1em; padding-right: 1em; text-align: center\">rank</th>\n",
       "    </tr>\n",
       "    <tr>\n",
       "        <td style=\"padding-left: 1em; padding-right: 1em; text-align: center; vertical-align: top\">A13AZVPEWEK1YC</td>\n",
       "        <td style=\"padding-left: 1em; padding-right: 1em; text-align: center; vertical-align: top\">B008JFUO36</td>\n",
       "        <td style=\"padding-left: 1em; padding-right: 1em; text-align: center; vertical-align: top\">0.00728140592575</td>\n",
       "        <td style=\"padding-left: 1em; padding-right: 1em; text-align: center; vertical-align: top\">1</td>\n",
       "    </tr>\n",
       "    <tr>\n",
       "        <td style=\"padding-left: 1em; padding-right: 1em; text-align: center; vertical-align: top\">A13AZVPEWEK1YC</td>\n",
       "        <td style=\"padding-left: 1em; padding-right: 1em; text-align: center; vertical-align: top\">B0059XTU1S</td>\n",
       "        <td style=\"padding-left: 1em; padding-right: 1em; text-align: center; vertical-align: top\">0.00692788362503</td>\n",
       "        <td style=\"padding-left: 1em; padding-right: 1em; text-align: center; vertical-align: top\">2</td>\n",
       "    </tr>\n",
       "    <tr>\n",
       "        <td style=\"padding-left: 1em; padding-right: 1em; text-align: center; vertical-align: top\">A13AZVPEWEK1YC</td>\n",
       "        <td style=\"padding-left: 1em; padding-right: 1em; text-align: center; vertical-align: top\">B008JFUO72</td>\n",
       "        <td style=\"padding-left: 1em; padding-right: 1em; text-align: center; vertical-align: top\">0.00692083239555</td>\n",
       "        <td style=\"padding-left: 1em; padding-right: 1em; text-align: center; vertical-align: top\">3</td>\n",
       "    </tr>\n",
       "    <tr>\n",
       "        <td style=\"padding-left: 1em; padding-right: 1em; text-align: center; vertical-align: top\">A13AZVPEWEK1YC</td>\n",
       "        <td style=\"padding-left: 1em; padding-right: 1em; text-align: center; vertical-align: top\">B009934S5M</td>\n",
       "        <td style=\"padding-left: 1em; padding-right: 1em; text-align: center; vertical-align: top\">0.0066908967495</td>\n",
       "        <td style=\"padding-left: 1em; padding-right: 1em; text-align: center; vertical-align: top\">4</td>\n",
       "    </tr>\n",
       "    <tr>\n",
       "        <td style=\"padding-left: 1em; padding-right: 1em; text-align: center; vertical-align: top\">A13AZVPEWEK1YC</td>\n",
       "        <td style=\"padding-left: 1em; padding-right: 1em; text-align: center; vertical-align: top\">B005LAIIHG</td>\n",
       "        <td style=\"padding-left: 1em; padding-right: 1em; text-align: center; vertical-align: top\">0.00668980121613</td>\n",
       "        <td style=\"padding-left: 1em; padding-right: 1em; text-align: center; vertical-align: top\">5</td>\n",
       "    </tr>\n",
       "    <tr>\n",
       "        <td style=\"padding-left: 1em; padding-right: 1em; text-align: center; vertical-align: top\">A1EQZH1RGLW6T3</td>\n",
       "        <td style=\"padding-left: 1em; padding-right: 1em; text-align: center; vertical-align: top\">B008JFUO36</td>\n",
       "        <td style=\"padding-left: 1em; padding-right: 1em; text-align: center; vertical-align: top\">0.00728140592575</td>\n",
       "        <td style=\"padding-left: 1em; padding-right: 1em; text-align: center; vertical-align: top\">1</td>\n",
       "    </tr>\n",
       "    <tr>\n",
       "        <td style=\"padding-left: 1em; padding-right: 1em; text-align: center; vertical-align: top\">A1EQZH1RGLW6T3</td>\n",
       "        <td style=\"padding-left: 1em; padding-right: 1em; text-align: center; vertical-align: top\">B0059XTU1S</td>\n",
       "        <td style=\"padding-left: 1em; padding-right: 1em; text-align: center; vertical-align: top\">0.00692788362503</td>\n",
       "        <td style=\"padding-left: 1em; padding-right: 1em; text-align: center; vertical-align: top\">2</td>\n",
       "    </tr>\n",
       "    <tr>\n",
       "        <td style=\"padding-left: 1em; padding-right: 1em; text-align: center; vertical-align: top\">A1EQZH1RGLW6T3</td>\n",
       "        <td style=\"padding-left: 1em; padding-right: 1em; text-align: center; vertical-align: top\">B008JFUO72</td>\n",
       "        <td style=\"padding-left: 1em; padding-right: 1em; text-align: center; vertical-align: top\">0.00692083239555</td>\n",
       "        <td style=\"padding-left: 1em; padding-right: 1em; text-align: center; vertical-align: top\">3</td>\n",
       "    </tr>\n",
       "    <tr>\n",
       "        <td style=\"padding-left: 1em; padding-right: 1em; text-align: center; vertical-align: top\">A1EQZH1RGLW6T3</td>\n",
       "        <td style=\"padding-left: 1em; padding-right: 1em; text-align: center; vertical-align: top\">B009934S5M</td>\n",
       "        <td style=\"padding-left: 1em; padding-right: 1em; text-align: center; vertical-align: top\">0.0066908967495</td>\n",
       "        <td style=\"padding-left: 1em; padding-right: 1em; text-align: center; vertical-align: top\">4</td>\n",
       "    </tr>\n",
       "    <tr>\n",
       "        <td style=\"padding-left: 1em; padding-right: 1em; text-align: center; vertical-align: top\">A1EQZH1RGLW6T3</td>\n",
       "        <td style=\"padding-left: 1em; padding-right: 1em; text-align: center; vertical-align: top\">B005LAIIHG</td>\n",
       "        <td style=\"padding-left: 1em; padding-right: 1em; text-align: center; vertical-align: top\">0.00668980121613</td>\n",
       "        <td style=\"padding-left: 1em; padding-right: 1em; text-align: center; vertical-align: top\">5</td>\n",
       "    </tr>\n",
       "</table>\n",
       "[2160 rows x 4 columns]<br/>Note: Only the head of the SFrame is printed.<br/>You can use print_rows(num_rows=m, num_columns=n) to print more rows and columns.\n",
       "</div>"
      ],
      "text/plain": [
       "Columns:\n",
       "\tuser_id\tstr\n",
       "\titem_id\tstr\n",
       "\tscore\tfloat\n",
       "\trank\tint\n",
       "\n",
       "Rows: 2160\n",
       "\n",
       "Data:\n",
       "+----------------+------------+------------------+------+\n",
       "|    user_id     |  item_id   |      score       | rank |\n",
       "+----------------+------------+------------------+------+\n",
       "| A13AZVPEWEK1YC | B008JFUO36 | 0.00728140592575 |  1   |\n",
       "| A13AZVPEWEK1YC | B0059XTU1S | 0.00692788362503 |  2   |\n",
       "| A13AZVPEWEK1YC | B008JFUO72 | 0.00692083239555 |  3   |\n",
       "| A13AZVPEWEK1YC | B009934S5M | 0.0066908967495  |  4   |\n",
       "| A13AZVPEWEK1YC | B005LAIIHG | 0.00668980121613 |  5   |\n",
       "| A1EQZH1RGLW6T3 | B008JFUO36 | 0.00728140592575 |  1   |\n",
       "| A1EQZH1RGLW6T3 | B0059XTU1S | 0.00692788362503 |  2   |\n",
       "| A1EQZH1RGLW6T3 | B008JFUO72 | 0.00692083239555 |  3   |\n",
       "| A1EQZH1RGLW6T3 | B009934S5M | 0.0066908967495  |  4   |\n",
       "| A1EQZH1RGLW6T3 | B005LAIIHG | 0.00668980121613 |  5   |\n",
       "+----------------+------------+------------------+------+\n",
       "[2160 rows x 4 columns]\n",
       "Note: Only the head of the SFrame is printed.\n",
       "You can use print_rows(num_rows=m, num_columns=n) to print more rows and columns."
      ]
     },
     "execution_count": 44,
     "metadata": {},
     "output_type": "execute_result"
    }
   ],
   "source": [
    "item_model_jaccard.recommend(users = validation_data['user_id'], k=5, random_seed=123)"
   ]
  },
  {
   "cell_type": "code",
   "execution_count": 43,
   "metadata": {},
   "outputs": [
    {
     "name": "stdout",
     "output_type": "stream",
     "text": [
      "\n",
      "Precision and recall summary statistics by cutoff\n",
      "+--------+------------------+------------------+\n",
      "| cutoff |  mean_precision  |   mean_recall    |\n",
      "+--------+------------------+------------------+\n",
      "|   1    |  0.013468013468  | 0.00757575757576 |\n",
      "|   2    | 0.0185185185185  | 0.0218294051627  |\n",
      "|   3    | 0.0179573512907  | 0.0327721661055  |\n",
      "|   4    |  0.016835016835  | 0.0378170594837  |\n",
      "|   5    |  0.013468013468  | 0.0378170594837  |\n",
      "|   6    | 0.0112233445567  | 0.0378170594837  |\n",
      "|   7    |  0.010101010101  | 0.0411840628507  |\n",
      "|   8    | 0.00925925925926 | 0.0445510662177  |\n",
      "|   9    | 0.0082304526749  | 0.0445510662177  |\n",
      "|   10   | 0.00740740740741 | 0.0445510662177  |\n",
      "+--------+------------------+------------------+\n",
      "[10 rows x 3 columns]\n",
      "\n",
      "('\\nOverall RMSE: ', 4.378028167055579)\n",
      "\n",
      "Per User RMSE (best)\n",
      "+----------------+-------+----------------+\n",
      "|    user_id     | count |      rmse      |\n",
      "+----------------+-------+----------------+\n",
      "| A2ZRBYUFC39V5K |   1   | 0.997162960768 |\n",
      "+----------------+-------+----------------+\n",
      "[1 rows x 3 columns]\n",
      "\n",
      "\n",
      "Per User RMSE (worst)\n",
      "+----------------+-------+------+\n",
      "|    user_id     | count | rmse |\n",
      "+----------------+-------+------+\n",
      "| A3TO9PAY0M6QH2 |   1   | 5.0  |\n",
      "+----------------+-------+------+\n",
      "[1 rows x 3 columns]\n",
      "\n",
      "\n",
      "Per Item RMSE (best)\n",
      "+------------+-------+----------------+\n",
      "|  item_id   | count |      rmse      |\n",
      "+------------+-------+----------------+\n",
      "| B004LWZWGK |   1   | 0.997162960768 |\n",
      "+------------+-------+----------------+\n",
      "[1 rows x 3 columns]\n",
      "\n",
      "\n",
      "Per Item RMSE (worst)\n",
      "+------------+-------+------+\n",
      "|  item_id   | count | rmse |\n",
      "+------------+-------+------+\n",
      "| B00004ZEU5 |   1   | 5.0  |\n",
      "+------------+-------+------+\n",
      "[1 rows x 3 columns]\n",
      "\n"
     ]
    },
    {
     "data": {
      "text/plain": [
       "{'precision_recall_by_user': Columns:\n",
       " \tuser_id\tstr\n",
       " \tcutoff\tint\n",
       " \tprecision\tfloat\n",
       " \trecall\tfloat\n",
       " \tcount\tint\n",
       " \n",
       " Rows: 5346\n",
       " \n",
       " Data:\n",
       " +----------------+--------+-----------+--------+-------+\n",
       " |    user_id     | cutoff | precision | recall | count |\n",
       " +----------------+--------+-----------+--------+-------+\n",
       " | A10MM4TO3R2G5N |   1    |    0.0    |  0.0   |   1   |\n",
       " | A10MM4TO3R2G5N |   2    |    0.0    |  0.0   |   1   |\n",
       " | A10MM4TO3R2G5N |   3    |    0.0    |  0.0   |   1   |\n",
       " | A10MM4TO3R2G5N |   4    |    0.0    |  0.0   |   1   |\n",
       " | A10MM4TO3R2G5N |   5    |    0.0    |  0.0   |   1   |\n",
       " | A10MM4TO3R2G5N |   6    |    0.0    |  0.0   |   1   |\n",
       " | A10MM4TO3R2G5N |   7    |    0.0    |  0.0   |   1   |\n",
       " | A10MM4TO3R2G5N |   8    |    0.0    |  0.0   |   1   |\n",
       " | A10MM4TO3R2G5N |   9    |    0.0    |  0.0   |   1   |\n",
       " | A10MM4TO3R2G5N |   10   |    0.0    |  0.0   |   1   |\n",
       " +----------------+--------+-----------+--------+-------+\n",
       " [5346 rows x 5 columns]\n",
       " Note: Only the head of the SFrame is printed.\n",
       " You can use print_rows(num_rows=m, num_columns=n) to print more rows and columns.,\n",
       " 'precision_recall_overall': Columns:\n",
       " \tcutoff\tint\n",
       " \tprecision\tfloat\n",
       " \trecall\tfloat\n",
       " \n",
       " Rows: 18\n",
       " \n",
       " Data:\n",
       " +--------+------------------+------------------+\n",
       " | cutoff |    precision     |      recall      |\n",
       " +--------+------------------+------------------+\n",
       " |   1    |  0.013468013468  | 0.00757575757576 |\n",
       " |   2    | 0.0185185185185  | 0.0218294051627  |\n",
       " |   3    | 0.0179573512907  | 0.0327721661055  |\n",
       " |   4    |  0.016835016835  | 0.0378170594837  |\n",
       " |   5    |  0.013468013468  | 0.0378170594837  |\n",
       " |   6    | 0.0112233445567  | 0.0378170594837  |\n",
       " |   7    |  0.010101010101  | 0.0411840628507  |\n",
       " |   8    | 0.00925925925926 | 0.0445510662177  |\n",
       " |   9    | 0.0082304526749  | 0.0445510662177  |\n",
       " |   10   | 0.00740740740741 | 0.0445510662177  |\n",
       " +--------+------------------+------------------+\n",
       " [18 rows x 3 columns]\n",
       " Note: Only the head of the SFrame is printed.\n",
       " You can use print_rows(num_rows=m, num_columns=n) to print more rows and columns.,\n",
       " 'rmse_by_item': Columns:\n",
       " \titem_id\tstr\n",
       " \tcount\tint\n",
       " \trmse\tfloat\n",
       " \n",
       " Rows: 421\n",
       " \n",
       " Data:\n",
       " +------------+-------+---------------+\n",
       " |  item_id   | count |      rmse     |\n",
       " +------------+-------+---------------+\n",
       " | 6303109950 |   1   |      4.0      |\n",
       " | B00004RER0 |   1   |      2.0      |\n",
       " | B00004ZEU5 |   1   |      5.0      |\n",
       " | B001PTUN34 |   1   | 4.96288514137 |\n",
       " | 0800102371 |   1   |      5.0      |\n",
       " | B003WUXIYK |   1   |      5.0      |\n",
       " | 6305300887 |   1   |      5.0      |\n",
       " | B000W8MMO2 |   1   |      5.0      |\n",
       " | B00004WZZN |   1   |      4.0      |\n",
       " | B001BN4WLS |   1   | 3.99696969986 |\n",
       " +------------+-------+---------------+\n",
       " [421 rows x 3 columns]\n",
       " Note: Only the head of the SFrame is printed.\n",
       " You can use print_rows(num_rows=m, num_columns=n) to print more rows and columns.,\n",
       " 'rmse_by_user': Columns:\n",
       " \tuser_id\tstr\n",
       " \tcount\tint\n",
       " \trmse\tfloat\n",
       " \n",
       " Rows: 297\n",
       " \n",
       " Data:\n",
       " +----------------+-------+----------------+\n",
       " |    user_id     | count |      rmse      |\n",
       " +----------------+-------+----------------+\n",
       " | AGPFD6R5S8A0K  |   1   | 4.99755636215  |\n",
       " | A15EXELIYYO95J |   1   |      2.0       |\n",
       " | A1XHNVXCR5BLVZ |   1   | 0.999198510647 |\n",
       " | A3W0V7MD843WF4 |   1   |  4.9996487546  |\n",
       " | A1TA4Z31MKMUGF |   1   | 2.99251430375  |\n",
       " | A3TO9PAY0M6QH2 |   1   |      5.0       |\n",
       " | ADX0F5JQ5DWH4  |   1   |      5.0       |\n",
       " | A3F8W7R5YJC7BV |   1   |      5.0       |\n",
       " | ALI7J6VZCA3UV  |   1   |      5.0       |\n",
       " |  ANDIVKI6DLNJ  |   1   |      1.0       |\n",
       " +----------------+-------+----------------+\n",
       " [297 rows x 3 columns]\n",
       " Note: Only the head of the SFrame is printed.\n",
       " You can use print_rows(num_rows=m, num_columns=n) to print more rows and columns.,\n",
       " 'rmse_overall': 4.378028167055579}"
      ]
     },
     "execution_count": 43,
     "metadata": {},
     "output_type": "execute_result"
    }
   ],
   "source": [
    "item_model_jaccard.evaluate(validation_data, target='rating')"
   ]
  },
  {
   "cell_type": "markdown",
   "metadata": {},
   "source": [
    "#### using pearson similarity"
   ]
  },
  {
   "cell_type": "code",
   "execution_count": 7,
   "metadata": {},
   "outputs": [
    {
     "data": {
      "text/html": [
       "<pre>Recsys training: model = item_similarity</pre>"
      ],
      "text/plain": [
       "Recsys training: model = item_similarity"
      ]
     },
     "metadata": {},
     "output_type": "display_data"
    },
    {
     "data": {
      "text/html": [
       "<pre>Preparing data set.</pre>"
      ],
      "text/plain": [
       "Preparing data set."
      ]
     },
     "metadata": {},
     "output_type": "display_data"
    },
    {
     "data": {
      "text/html": [
       "<pre>    Data has 4606615 observations with 2088467 users and 200936 items.</pre>"
      ],
      "text/plain": [
       "    Data has 4606615 observations with 2088467 users and 200936 items."
      ]
     },
     "metadata": {},
     "output_type": "display_data"
    },
    {
     "data": {
      "text/html": [
       "<pre>    Data prepared in: 8.13305s</pre>"
      ],
      "text/plain": [
       "    Data prepared in: 8.13305s"
      ]
     },
     "metadata": {},
     "output_type": "display_data"
    },
    {
     "data": {
      "text/html": [
       "<pre>Training model from provided data.</pre>"
      ],
      "text/plain": [
       "Training model from provided data."
      ]
     },
     "metadata": {},
     "output_type": "display_data"
    },
    {
     "data": {
      "text/html": [
       "<pre>Gathering per-item and per-user statistics.</pre>"
      ],
      "text/plain": [
       "Gathering per-item and per-user statistics."
      ]
     },
     "metadata": {},
     "output_type": "display_data"
    },
    {
     "data": {
      "text/html": [
       "<pre>+--------------------------------+------------+</pre>"
      ],
      "text/plain": [
       "+--------------------------------+------------+"
      ]
     },
     "metadata": {},
     "output_type": "display_data"
    },
    {
     "data": {
      "text/html": [
       "<pre>| Elapsed Time (Item Statistics) | % Complete |</pre>"
      ],
      "text/plain": [
       "| Elapsed Time (Item Statistics) | % Complete |"
      ]
     },
     "metadata": {},
     "output_type": "display_data"
    },
    {
     "data": {
      "text/html": [
       "<pre>+--------------------------------+------------+</pre>"
      ],
      "text/plain": [
       "+--------------------------------+------------+"
      ]
     },
     "metadata": {},
     "output_type": "display_data"
    },
    {
     "data": {
      "text/html": [
       "<pre>| 11.78ms                        | 0.25       |</pre>"
      ],
      "text/plain": [
       "| 11.78ms                        | 0.25       |"
      ]
     },
     "metadata": {},
     "output_type": "display_data"
    },
    {
     "data": {
      "text/html": [
       "<pre>| 581.665ms                      | 100        |</pre>"
      ],
      "text/plain": [
       "| 581.665ms                      | 100        |"
      ]
     },
     "metadata": {},
     "output_type": "display_data"
    },
    {
     "data": {
      "text/html": [
       "<pre>+--------------------------------+------------+</pre>"
      ],
      "text/plain": [
       "+--------------------------------+------------+"
      ]
     },
     "metadata": {},
     "output_type": "display_data"
    },
    {
     "data": {
      "text/html": [
       "<pre>Setting up lookup tables.</pre>"
      ],
      "text/plain": [
       "Setting up lookup tables."
      ]
     },
     "metadata": {},
     "output_type": "display_data"
    },
    {
     "data": {
      "text/html": [
       "<pre>Processing data in one pass using sparse lookup tables.</pre>"
      ],
      "text/plain": [
       "Processing data in one pass using sparse lookup tables."
      ]
     },
     "metadata": {},
     "output_type": "display_data"
    },
    {
     "data": {
      "text/html": [
       "<pre>+-------------------------------------+------------------+-----------------+</pre>"
      ],
      "text/plain": [
       "+-------------------------------------+------------------+-----------------+"
      ]
     },
     "metadata": {},
     "output_type": "display_data"
    },
    {
     "data": {
      "text/html": [
       "<pre>| Elapsed Time (Constructing Lookups) | Total % Complete | Items Processed |</pre>"
      ],
      "text/plain": [
       "| Elapsed Time (Constructing Lookups) | Total % Complete | Items Processed |"
      ]
     },
     "metadata": {},
     "output_type": "display_data"
    },
    {
     "data": {
      "text/html": [
       "<pre>+-------------------------------------+------------------+-----------------+</pre>"
      ],
      "text/plain": [
       "+-------------------------------------+------------------+-----------------+"
      ]
     },
     "metadata": {},
     "output_type": "display_data"
    },
    {
     "data": {
      "text/html": [
       "<pre>| 2.16s                               | 0                | 0               |</pre>"
      ],
      "text/plain": [
       "| 2.16s                               | 0                | 0               |"
      ]
     },
     "metadata": {},
     "output_type": "display_data"
    },
    {
     "data": {
      "text/html": [
       "<pre>| 3.17s                               | 5.75             | 11780           |</pre>"
      ],
      "text/plain": [
       "| 3.17s                               | 5.75             | 11780           |"
      ]
     },
     "metadata": {},
     "output_type": "display_data"
    },
    {
     "data": {
      "text/html": [
       "<pre>| 4.36s                               | 13.25            | 26635           |</pre>"
      ],
      "text/plain": [
       "| 4.36s                               | 13.25            | 26635           |"
      ]
     },
     "metadata": {},
     "output_type": "display_data"
    },
    {
     "data": {
      "text/html": [
       "<pre>| 5.47s                               | 14.75            | 29858           |</pre>"
      ],
      "text/plain": [
       "| 5.47s                               | 14.75            | 29858           |"
      ]
     },
     "metadata": {},
     "output_type": "display_data"
    },
    {
     "data": {
      "text/html": [
       "<pre>| 6.17s                               | 16               | 32342           |</pre>"
      ],
      "text/plain": [
       "| 6.17s                               | 16               | 32342           |"
      ]
     },
     "metadata": {},
     "output_type": "display_data"
    },
    {
     "data": {
      "text/html": [
       "<pre>| 7.18s                               | 23               | 46689           |</pre>"
      ],
      "text/plain": [
       "| 7.18s                               | 23               | 46689           |"
      ]
     },
     "metadata": {},
     "output_type": "display_data"
    },
    {
     "data": {
      "text/html": [
       "<pre>| 8.17s                               | 26.25            | 53047           |</pre>"
      ],
      "text/plain": [
       "| 8.17s                               | 26.25            | 53047           |"
      ]
     },
     "metadata": {},
     "output_type": "display_data"
    },
    {
     "data": {
      "text/html": [
       "<pre>| 9.18s                               | 27.25            | 54795           |</pre>"
      ],
      "text/plain": [
       "| 9.18s                               | 27.25            | 54795           |"
      ]
     },
     "metadata": {},
     "output_type": "display_data"
    },
    {
     "data": {
      "text/html": [
       "<pre>| 10.23s                              | 27.5             | 55603           |</pre>"
      ],
      "text/plain": [
       "| 10.23s                              | 27.5             | 55603           |"
      ]
     },
     "metadata": {},
     "output_type": "display_data"
    },
    {
     "data": {
      "text/html": [
       "<pre>| 11.18s                              | 28               | 56618           |</pre>"
      ],
      "text/plain": [
       "| 11.18s                              | 28               | 56618           |"
      ]
     },
     "metadata": {},
     "output_type": "display_data"
    },
    {
     "data": {
      "text/html": [
       "<pre>| 12.35s                              | 29               | 58439           |</pre>"
      ],
      "text/plain": [
       "| 12.35s                              | 29               | 58439           |"
      ]
     },
     "metadata": {},
     "output_type": "display_data"
    },
    {
     "data": {
      "text/html": [
       "<pre>| 14.28s                              | 30.75            | 62251           |</pre>"
      ],
      "text/plain": [
       "| 14.28s                              | 30.75            | 62251           |"
      ]
     },
     "metadata": {},
     "output_type": "display_data"
    },
    {
     "data": {
      "text/html": [
       "<pre>| 15.88s                              | 31.75            | 64056           |</pre>"
      ],
      "text/plain": [
       "| 15.88s                              | 31.75            | 64056           |"
      ]
     },
     "metadata": {},
     "output_type": "display_data"
    },
    {
     "data": {
      "text/html": [
       "<pre>| 16.35s                              | 32               | 64567           |</pre>"
      ],
      "text/plain": [
       "| 16.35s                              | 32               | 64567           |"
      ]
     },
     "metadata": {},
     "output_type": "display_data"
    },
    {
     "data": {
      "text/html": [
       "<pre>| 17.35s                              | 33.5             | 67798           |</pre>"
      ],
      "text/plain": [
       "| 17.35s                              | 33.5             | 67798           |"
      ]
     },
     "metadata": {},
     "output_type": "display_data"
    },
    {
     "data": {
      "text/html": [
       "<pre>| 18.29s                              | 37.25            | 75079           |</pre>"
      ],
      "text/plain": [
       "| 18.29s                              | 37.25            | 75079           |"
      ]
     },
     "metadata": {},
     "output_type": "display_data"
    },
    {
     "data": {
      "text/html": [
       "<pre>| 19.29s                              | 40.25            | 81125           |</pre>"
      ],
      "text/plain": [
       "| 19.29s                              | 40.25            | 81125           |"
      ]
     },
     "metadata": {},
     "output_type": "display_data"
    },
    {
     "data": {
      "text/html": [
       "<pre>| 20.28s                              | 43.5             | 87444           |</pre>"
      ],
      "text/plain": [
       "| 20.28s                              | 43.5             | 87444           |"
      ]
     },
     "metadata": {},
     "output_type": "display_data"
    },
    {
     "data": {
      "text/html": [
       "<pre>| 21.29s                              | 48.25            | 97315           |</pre>"
      ],
      "text/plain": [
       "| 21.29s                              | 48.25            | 97315           |"
      ]
     },
     "metadata": {},
     "output_type": "display_data"
    },
    {
     "data": {
      "text/html": [
       "<pre>| 22.29s                              | 49.75            | 100039          |</pre>"
      ],
      "text/plain": [
       "| 22.29s                              | 49.75            | 100039          |"
      ]
     },
     "metadata": {},
     "output_type": "display_data"
    },
    {
     "data": {
      "text/html": [
       "<pre>| 23.29s                              | 50.5             | 101640          |</pre>"
      ],
      "text/plain": [
       "| 23.29s                              | 50.5             | 101640          |"
      ]
     },
     "metadata": {},
     "output_type": "display_data"
    },
    {
     "data": {
      "text/html": [
       "<pre>| 24.29s                              | 58.75            | 118427          |</pre>"
      ],
      "text/plain": [
       "| 24.29s                              | 58.75            | 118427          |"
      ]
     },
     "metadata": {},
     "output_type": "display_data"
    },
    {
     "data": {
      "text/html": [
       "<pre>| 25.30s                              | 59.25            | 119307          |</pre>"
      ],
      "text/plain": [
       "| 25.30s                              | 59.25            | 119307          |"
      ]
     },
     "metadata": {},
     "output_type": "display_data"
    },
    {
     "data": {
      "text/html": [
       "<pre>| 26.30s                              | 59.5             | 119656          |</pre>"
      ],
      "text/plain": [
       "| 26.30s                              | 59.5             | 119656          |"
      ]
     },
     "metadata": {},
     "output_type": "display_data"
    },
    {
     "data": {
      "text/html": [
       "<pre>| 27.32s                              | 59.5             | 119929          |</pre>"
      ],
      "text/plain": [
       "| 27.32s                              | 59.5             | 119929          |"
      ]
     },
     "metadata": {},
     "output_type": "display_data"
    },
    {
     "data": {
      "text/html": [
       "<pre>| 28.30s                              | 59.75            | 120123          |</pre>"
      ],
      "text/plain": [
       "| 28.30s                              | 59.75            | 120123          |"
      ]
     },
     "metadata": {},
     "output_type": "display_data"
    },
    {
     "data": {
      "text/html": [
       "<pre>| 29.29s                              | 59.75            | 120471          |</pre>"
      ],
      "text/plain": [
       "| 29.29s                              | 59.75            | 120471          |"
      ]
     },
     "metadata": {},
     "output_type": "display_data"
    },
    {
     "data": {
      "text/html": [
       "<pre>| 30.32s                              | 60               | 120798          |</pre>"
      ],
      "text/plain": [
       "| 30.32s                              | 60               | 120798          |"
      ]
     },
     "metadata": {},
     "output_type": "display_data"
    },
    {
     "data": {
      "text/html": [
       "<pre>| 31.30s                              | 60.25            | 121213          |</pre>"
      ],
      "text/plain": [
       "| 31.30s                              | 60.25            | 121213          |"
      ]
     },
     "metadata": {},
     "output_type": "display_data"
    },
    {
     "data": {
      "text/html": [
       "<pre>| 32.35s                              | 60.25            | 121421          |</pre>"
      ],
      "text/plain": [
       "| 32.35s                              | 60.25            | 121421          |"
      ]
     },
     "metadata": {},
     "output_type": "display_data"
    },
    {
     "data": {
      "text/html": [
       "<pre>| 33.29s                              | 60.5             | 121692          |</pre>"
      ],
      "text/plain": [
       "| 33.29s                              | 60.5             | 121692          |"
      ]
     },
     "metadata": {},
     "output_type": "display_data"
    },
    {
     "data": {
      "text/html": [
       "<pre>| 34.29s                              | 60.5             | 121991          |</pre>"
      ],
      "text/plain": [
       "| 34.29s                              | 60.5             | 121991          |"
      ]
     },
     "metadata": {},
     "output_type": "display_data"
    },
    {
     "data": {
      "text/html": [
       "<pre>| 35.33s                              | 60.75            | 122298          |</pre>"
      ],
      "text/plain": [
       "| 35.33s                              | 60.75            | 122298          |"
      ]
     },
     "metadata": {},
     "output_type": "display_data"
    },
    {
     "data": {
      "text/html": [
       "<pre>| 36.37s                              | 61               | 122609          |</pre>"
      ],
      "text/plain": [
       "| 36.37s                              | 61               | 122609          |"
      ]
     },
     "metadata": {},
     "output_type": "display_data"
    },
    {
     "data": {
      "text/html": [
       "<pre>| 37.34s                              | 61               | 122918          |</pre>"
      ],
      "text/plain": [
       "| 37.34s                              | 61               | 122918          |"
      ]
     },
     "metadata": {},
     "output_type": "display_data"
    },
    {
     "data": {
      "text/html": [
       "<pre>| 38.30s                              | 61.25            | 123190          |</pre>"
      ],
      "text/plain": [
       "| 38.30s                              | 61.25            | 123190          |"
      ]
     },
     "metadata": {},
     "output_type": "display_data"
    },
    {
     "data": {
      "text/html": [
       "<pre>| 39.31s                              | 61.25            | 123447          |</pre>"
      ],
      "text/plain": [
       "| 39.31s                              | 61.25            | 123447          |"
      ]
     },
     "metadata": {},
     "output_type": "display_data"
    },
    {
     "data": {
      "text/html": [
       "<pre>| 40.29s                              | 61.5             | 123672          |</pre>"
      ],
      "text/plain": [
       "| 40.29s                              | 61.5             | 123672          |"
      ]
     },
     "metadata": {},
     "output_type": "display_data"
    },
    {
     "data": {
      "text/html": [
       "<pre>| 41.30s                              | 61.5             | 123960          |</pre>"
      ],
      "text/plain": [
       "| 41.30s                              | 61.5             | 123960          |"
      ]
     },
     "metadata": {},
     "output_type": "display_data"
    },
    {
     "data": {
      "text/html": [
       "<pre>| 42.30s                              | 61.5             | 124060          |</pre>"
      ],
      "text/plain": [
       "| 42.30s                              | 61.5             | 124060          |"
      ]
     },
     "metadata": {},
     "output_type": "display_data"
    },
    {
     "data": {
      "text/html": [
       "<pre>| 43.31s                              | 61.75            | 124283          |</pre>"
      ],
      "text/plain": [
       "| 43.31s                              | 61.75            | 124283          |"
      ]
     },
     "metadata": {},
     "output_type": "display_data"
    },
    {
     "data": {
      "text/html": [
       "<pre>| 44.30s                              | 61.75            | 124464          |</pre>"
      ],
      "text/plain": [
       "| 44.30s                              | 61.75            | 124464          |"
      ]
     },
     "metadata": {},
     "output_type": "display_data"
    },
    {
     "data": {
      "text/html": [
       "<pre>| 45.37s                              | 62               | 124693          |</pre>"
      ],
      "text/plain": [
       "| 45.37s                              | 62               | 124693          |"
      ]
     },
     "metadata": {},
     "output_type": "display_data"
    },
    {
     "data": {
      "text/html": [
       "<pre>| 46.31s                              | 62.5             | 125865          |</pre>"
      ],
      "text/plain": [
       "| 46.31s                              | 62.5             | 125865          |"
      ]
     },
     "metadata": {},
     "output_type": "display_data"
    },
    {
     "data": {
      "text/html": [
       "<pre>| 47.30s                              | 62.5             | 126018          |</pre>"
      ],
      "text/plain": [
       "| 47.30s                              | 62.5             | 126018          |"
      ]
     },
     "metadata": {},
     "output_type": "display_data"
    },
    {
     "data": {
      "text/html": [
       "<pre>| 48.34s                              | 62.75            | 126182          |</pre>"
      ],
      "text/plain": [
       "| 48.34s                              | 62.75            | 126182          |"
      ]
     },
     "metadata": {},
     "output_type": "display_data"
    },
    {
     "data": {
      "text/html": [
       "<pre>| 49.32s                              | 62.75            | 126429          |</pre>"
      ],
      "text/plain": [
       "| 49.32s                              | 62.75            | 126429          |"
      ]
     },
     "metadata": {},
     "output_type": "display_data"
    },
    {
     "data": {
      "text/html": [
       "<pre>| 50.31s                              | 62.75            | 126519          |</pre>"
      ],
      "text/plain": [
       "| 50.31s                              | 62.75            | 126519          |"
      ]
     },
     "metadata": {},
     "output_type": "display_data"
    },
    {
     "data": {
      "text/html": [
       "<pre>| 51.31s                              | 63               | 126744          |</pre>"
      ],
      "text/plain": [
       "| 51.31s                              | 63               | 126744          |"
      ]
     },
     "metadata": {},
     "output_type": "display_data"
    },
    {
     "data": {
      "text/html": [
       "<pre>| 52.37s                              | 63               | 126900          |</pre>"
      ],
      "text/plain": [
       "| 52.37s                              | 63               | 126900          |"
      ]
     },
     "metadata": {},
     "output_type": "display_data"
    },
    {
     "data": {
      "text/html": [
       "<pre>| 53.32s                              | 63               | 127041          |</pre>"
      ],
      "text/plain": [
       "| 53.32s                              | 63               | 127041          |"
      ]
     },
     "metadata": {},
     "output_type": "display_data"
    },
    {
     "data": {
      "text/html": [
       "<pre>| 54.30s                              | 63.25            | 127169          |</pre>"
      ],
      "text/plain": [
       "| 54.30s                              | 63.25            | 127169          |"
      ]
     },
     "metadata": {},
     "output_type": "display_data"
    },
    {
     "data": {
      "text/html": [
       "<pre>| 55.33s                              | 63.25            | 127334          |</pre>"
      ],
      "text/plain": [
       "| 55.33s                              | 63.25            | 127334          |"
      ]
     },
     "metadata": {},
     "output_type": "display_data"
    },
    {
     "data": {
      "text/html": [
       "<pre>| 56.32s                              | 63.25            | 127587          |</pre>"
      ],
      "text/plain": [
       "| 56.32s                              | 63.25            | 127587          |"
      ]
     },
     "metadata": {},
     "output_type": "display_data"
    },
    {
     "data": {
      "text/html": [
       "<pre>| 57.31s                              | 63.75            | 128527          |</pre>"
      ],
      "text/plain": [
       "| 57.31s                              | 63.75            | 128527          |"
      ]
     },
     "metadata": {},
     "output_type": "display_data"
    },
    {
     "data": {
      "text/html": [
       "<pre>| 58.33s                              | 64               | 128787          |</pre>"
      ],
      "text/plain": [
       "| 58.33s                              | 64               | 128787          |"
      ]
     },
     "metadata": {},
     "output_type": "display_data"
    },
    {
     "data": {
      "text/html": [
       "<pre>| 59.31s                              | 64               | 129009          |</pre>"
      ],
      "text/plain": [
       "| 59.31s                              | 64               | 129009          |"
      ]
     },
     "metadata": {},
     "output_type": "display_data"
    },
    {
     "data": {
      "text/html": [
       "<pre>| 1m 0s                               | 64.25            | 129139          |</pre>"
      ],
      "text/plain": [
       "| 1m 0s                               | 64.25            | 129139          |"
      ]
     },
     "metadata": {},
     "output_type": "display_data"
    },
    {
     "data": {
      "text/html": [
       "<pre>| 1m 1s                               | 64.25            | 129502          |</pre>"
      ],
      "text/plain": [
       "| 1m 1s                               | 64.25            | 129502          |"
      ]
     },
     "metadata": {},
     "output_type": "display_data"
    },
    {
     "data": {
      "text/html": [
       "<pre>| 1m 2s                               | 64.5             | 129642          |</pre>"
      ],
      "text/plain": [
       "| 1m 2s                               | 64.5             | 129642          |"
      ]
     },
     "metadata": {},
     "output_type": "display_data"
    },
    {
     "data": {
      "text/html": [
       "<pre>| 1m 3s                               | 64.5             | 129788          |</pre>"
      ],
      "text/plain": [
       "| 1m 3s                               | 64.5             | 129788          |"
      ]
     },
     "metadata": {},
     "output_type": "display_data"
    },
    {
     "data": {
      "text/html": [
       "<pre>| 1m 4s                               | 64.5             | 129936          |</pre>"
      ],
      "text/plain": [
       "| 1m 4s                               | 64.5             | 129936          |"
      ]
     },
     "metadata": {},
     "output_type": "display_data"
    },
    {
     "data": {
      "text/html": [
       "<pre>| 1m 5s                               | 64.75            | 130176          |</pre>"
      ],
      "text/plain": [
       "| 1m 5s                               | 64.75            | 130176          |"
      ]
     },
     "metadata": {},
     "output_type": "display_data"
    },
    {
     "data": {
      "text/html": [
       "<pre>| 1m 6s                               | 64.75            | 130401          |</pre>"
      ],
      "text/plain": [
       "| 1m 6s                               | 64.75            | 130401          |"
      ]
     },
     "metadata": {},
     "output_type": "display_data"
    },
    {
     "data": {
      "text/html": [
       "<pre>| 1m 7s                               | 65.75            | 132306          |</pre>"
      ],
      "text/plain": [
       "| 1m 7s                               | 65.75            | 132306          |"
      ]
     },
     "metadata": {},
     "output_type": "display_data"
    },
    {
     "data": {
      "text/html": [
       "<pre>| 1m 8s                               | 66               | 132989          |</pre>"
      ],
      "text/plain": [
       "| 1m 8s                               | 66               | 132989          |"
      ]
     },
     "metadata": {},
     "output_type": "display_data"
    },
    {
     "data": {
      "text/html": [
       "<pre>| 1m 9s                               | 66               | 133102          |</pre>"
      ],
      "text/plain": [
       "| 1m 9s                               | 66               | 133102          |"
      ]
     },
     "metadata": {},
     "output_type": "display_data"
    },
    {
     "data": {
      "text/html": [
       "<pre>| 1m 10s                              | 66.25            | 133223          |</pre>"
      ],
      "text/plain": [
       "| 1m 10s                              | 66.25            | 133223          |"
      ]
     },
     "metadata": {},
     "output_type": "display_data"
    },
    {
     "data": {
      "text/html": [
       "<pre>| 1m 11s                              | 66.25            | 133355          |</pre>"
      ],
      "text/plain": [
       "| 1m 11s                              | 66.25            | 133355          |"
      ]
     },
     "metadata": {},
     "output_type": "display_data"
    },
    {
     "data": {
      "text/html": [
       "<pre>| 1m 12s                              | 66.25            | 133451          |</pre>"
      ],
      "text/plain": [
       "| 1m 12s                              | 66.25            | 133451          |"
      ]
     },
     "metadata": {},
     "output_type": "display_data"
    },
    {
     "data": {
      "text/html": [
       "<pre>| 1m 13s                              | 66.25            | 133560          |</pre>"
      ],
      "text/plain": [
       "| 1m 13s                              | 66.25            | 133560          |"
      ]
     },
     "metadata": {},
     "output_type": "display_data"
    },
    {
     "data": {
      "text/html": [
       "<pre>| 1m 14s                              | 66.5             | 133663          |</pre>"
      ],
      "text/plain": [
       "| 1m 14s                              | 66.5             | 133663          |"
      ]
     },
     "metadata": {},
     "output_type": "display_data"
    },
    {
     "data": {
      "text/html": [
       "<pre>| 1m 15s                              | 66.75            | 134182          |</pre>"
      ],
      "text/plain": [
       "| 1m 15s                              | 66.75            | 134182          |"
      ]
     },
     "metadata": {},
     "output_type": "display_data"
    },
    {
     "data": {
      "text/html": [
       "<pre>| 1m 16s                              | 66.75            | 134321          |</pre>"
      ],
      "text/plain": [
       "| 1m 16s                              | 66.75            | 134321          |"
      ]
     },
     "metadata": {},
     "output_type": "display_data"
    },
    {
     "data": {
      "text/html": [
       "<pre>| 1m 17s                              | 66.75            | 134446          |</pre>"
      ],
      "text/plain": [
       "| 1m 17s                              | 66.75            | 134446          |"
      ]
     },
     "metadata": {},
     "output_type": "display_data"
    },
    {
     "data": {
      "text/html": [
       "<pre>| 1m 18s                              | 66.75            | 134578          |</pre>"
      ],
      "text/plain": [
       "| 1m 18s                              | 66.75            | 134578          |"
      ]
     },
     "metadata": {},
     "output_type": "display_data"
    },
    {
     "data": {
      "text/html": [
       "<pre>| 1m 19s                              | 67               | 134736          |</pre>"
      ],
      "text/plain": [
       "| 1m 19s                              | 67               | 134736          |"
      ]
     },
     "metadata": {},
     "output_type": "display_data"
    },
    {
     "data": {
      "text/html": [
       "<pre>| 1m 20s                              | 67               | 134838          |</pre>"
      ],
      "text/plain": [
       "| 1m 20s                              | 67               | 134838          |"
      ]
     },
     "metadata": {},
     "output_type": "display_data"
    },
    {
     "data": {
      "text/html": [
       "<pre>| 1m 21s                              | 67               | 135068          |</pre>"
      ],
      "text/plain": [
       "| 1m 21s                              | 67               | 135068          |"
      ]
     },
     "metadata": {},
     "output_type": "display_data"
    },
    {
     "data": {
      "text/html": [
       "<pre>| 1m 22s                              | 67.25            | 135271          |</pre>"
      ],
      "text/plain": [
       "| 1m 22s                              | 67.25            | 135271          |"
      ]
     },
     "metadata": {},
     "output_type": "display_data"
    },
    {
     "data": {
      "text/html": [
       "<pre>| 1m 23s                              | 67.25            | 135473          |</pre>"
      ],
      "text/plain": [
       "| 1m 23s                              | 67.25            | 135473          |"
      ]
     },
     "metadata": {},
     "output_type": "display_data"
    },
    {
     "data": {
      "text/html": [
       "<pre>| 1m 24s                              | 67.25            | 135577          |</pre>"
      ],
      "text/plain": [
       "| 1m 24s                              | 67.25            | 135577          |"
      ]
     },
     "metadata": {},
     "output_type": "display_data"
    },
    {
     "data": {
      "text/html": [
       "<pre>| 1m 25s                              | 67.5             | 135757          |</pre>"
      ],
      "text/plain": [
       "| 1m 25s                              | 67.5             | 135757          |"
      ]
     },
     "metadata": {},
     "output_type": "display_data"
    },
    {
     "data": {
      "text/html": [
       "<pre>| 1m 26s                              | 67.5             | 135828          |</pre>"
      ],
      "text/plain": [
       "| 1m 26s                              | 67.5             | 135828          |"
      ]
     },
     "metadata": {},
     "output_type": "display_data"
    },
    {
     "data": {
      "text/html": [
       "<pre>| 1m 27s                              | 67.75            | 136604          |</pre>"
      ],
      "text/plain": [
       "| 1m 27s                              | 67.75            | 136604          |"
      ]
     },
     "metadata": {},
     "output_type": "display_data"
    },
    {
     "data": {
      "text/html": [
       "<pre>| 1m 28s                              | 68               | 136715          |</pre>"
      ],
      "text/plain": [
       "| 1m 28s                              | 68               | 136715          |"
      ]
     },
     "metadata": {},
     "output_type": "display_data"
    },
    {
     "data": {
      "text/html": [
       "<pre>| 1m 29s                              | 68               | 136856          |</pre>"
      ],
      "text/plain": [
       "| 1m 29s                              | 68               | 136856          |"
      ]
     },
     "metadata": {},
     "output_type": "display_data"
    },
    {
     "data": {
      "text/html": [
       "<pre>| 1m 30s                              | 68               | 137002          |</pre>"
      ],
      "text/plain": [
       "| 1m 30s                              | 68               | 137002          |"
      ]
     },
     "metadata": {},
     "output_type": "display_data"
    },
    {
     "data": {
      "text/html": [
       "<pre>| 1m 31s                              | 68.25            | 137231          |</pre>"
      ],
      "text/plain": [
       "| 1m 31s                              | 68.25            | 137231          |"
      ]
     },
     "metadata": {},
     "output_type": "display_data"
    },
    {
     "data": {
      "text/html": [
       "<pre>| 1m 32s                              | 68.25            | 137337          |</pre>"
      ],
      "text/plain": [
       "| 1m 32s                              | 68.25            | 137337          |"
      ]
     },
     "metadata": {},
     "output_type": "display_data"
    },
    {
     "data": {
      "text/html": [
       "<pre>| 1m 33s                              | 68.5             | 137696          |</pre>"
      ],
      "text/plain": [
       "| 1m 33s                              | 68.5             | 137696          |"
      ]
     },
     "metadata": {},
     "output_type": "display_data"
    },
    {
     "data": {
      "text/html": [
       "<pre>| 1m 34s                              | 68.5             | 137788          |</pre>"
      ],
      "text/plain": [
       "| 1m 34s                              | 68.5             | 137788          |"
      ]
     },
     "metadata": {},
     "output_type": "display_data"
    },
    {
     "data": {
      "text/html": [
       "<pre>| 1m 35s                              | 68.5             | 137897          |</pre>"
      ],
      "text/plain": [
       "| 1m 35s                              | 68.5             | 137897          |"
      ]
     },
     "metadata": {},
     "output_type": "display_data"
    },
    {
     "data": {
      "text/html": [
       "<pre>| 1m 36s                              | 68.5             | 138027          |</pre>"
      ],
      "text/plain": [
       "| 1m 36s                              | 68.5             | 138027          |"
      ]
     },
     "metadata": {},
     "output_type": "display_data"
    },
    {
     "data": {
      "text/html": [
       "<pre>| 1m 37s                              | 68.75            | 138175          |</pre>"
      ],
      "text/plain": [
       "| 1m 37s                              | 68.75            | 138175          |"
      ]
     },
     "metadata": {},
     "output_type": "display_data"
    },
    {
     "data": {
      "text/html": [
       "<pre>| 1m 38s                              | 68.75            | 138298          |</pre>"
      ],
      "text/plain": [
       "| 1m 38s                              | 68.75            | 138298          |"
      ]
     },
     "metadata": {},
     "output_type": "display_data"
    },
    {
     "data": {
      "text/html": [
       "<pre>| 1m 39s                              | 68.75            | 138466          |</pre>"
      ],
      "text/plain": [
       "| 1m 39s                              | 68.75            | 138466          |"
      ]
     },
     "metadata": {},
     "output_type": "display_data"
    },
    {
     "data": {
      "text/html": [
       "<pre>| 1m 40s                              | 69               | 138859          |</pre>"
      ],
      "text/plain": [
       "| 1m 40s                              | 69               | 138859          |"
      ]
     },
     "metadata": {},
     "output_type": "display_data"
    },
    {
     "data": {
      "text/html": [
       "<pre>| 1m 41s                              | 69               | 138925          |</pre>"
      ],
      "text/plain": [
       "| 1m 41s                              | 69               | 138925          |"
      ]
     },
     "metadata": {},
     "output_type": "display_data"
    },
    {
     "data": {
      "text/html": [
       "<pre>| 1m 42s                              | 69               | 139005          |</pre>"
      ],
      "text/plain": [
       "| 1m 42s                              | 69               | 139005          |"
      ]
     },
     "metadata": {},
     "output_type": "display_data"
    },
    {
     "data": {
      "text/html": [
       "<pre>| 1m 43s                              | 69               | 139098          |</pre>"
      ],
      "text/plain": [
       "| 1m 43s                              | 69               | 139098          |"
      ]
     },
     "metadata": {},
     "output_type": "display_data"
    },
    {
     "data": {
      "text/html": [
       "<pre>| 1m 44s                              | 69.25            | 139282          |</pre>"
      ],
      "text/plain": [
       "| 1m 44s                              | 69.25            | 139282          |"
      ]
     },
     "metadata": {},
     "output_type": "display_data"
    },
    {
     "data": {
      "text/html": [
       "<pre>| 1m 45s                              | 69.25            | 139374          |</pre>"
      ],
      "text/plain": [
       "| 1m 45s                              | 69.25            | 139374          |"
      ]
     },
     "metadata": {},
     "output_type": "display_data"
    },
    {
     "data": {
      "text/html": [
       "<pre>| 1m 46s                              | 69.5             | 139809          |</pre>"
      ],
      "text/plain": [
       "| 1m 46s                              | 69.5             | 139809          |"
      ]
     },
     "metadata": {},
     "output_type": "display_data"
    },
    {
     "data": {
      "text/html": [
       "<pre>| 1m 47s                              | 70               | 140677          |</pre>"
      ],
      "text/plain": [
       "| 1m 47s                              | 70               | 140677          |"
      ]
     },
     "metadata": {},
     "output_type": "display_data"
    },
    {
     "data": {
      "text/html": [
       "<pre>| 1m 48s                              | 70               | 140769          |</pre>"
      ],
      "text/plain": [
       "| 1m 48s                              | 70               | 140769          |"
      ]
     },
     "metadata": {},
     "output_type": "display_data"
    },
    {
     "data": {
      "text/html": [
       "<pre>| 1m 49s                              | 70               | 140878          |</pre>"
      ],
      "text/plain": [
       "| 1m 49s                              | 70               | 140878          |"
      ]
     },
     "metadata": {},
     "output_type": "display_data"
    },
    {
     "data": {
      "text/html": [
       "<pre>| 1m 50s                              | 70               | 141022          |</pre>"
      ],
      "text/plain": [
       "| 1m 50s                              | 70               | 141022          |"
      ]
     },
     "metadata": {},
     "output_type": "display_data"
    },
    {
     "data": {
      "text/html": [
       "<pre>| 1m 51s                              | 70               | 141056          |</pre>"
      ],
      "text/plain": [
       "| 1m 51s                              | 70               | 141056          |"
      ]
     },
     "metadata": {},
     "output_type": "display_data"
    },
    {
     "data": {
      "text/html": [
       "<pre>| 1m 52s                              | 70               | 141116          |</pre>"
      ],
      "text/plain": [
       "| 1m 52s                              | 70               | 141116          |"
      ]
     },
     "metadata": {},
     "output_type": "display_data"
    },
    {
     "data": {
      "text/html": [
       "<pre>| 1m 53s                              | 70.25            | 141190          |</pre>"
      ],
      "text/plain": [
       "| 1m 53s                              | 70.25            | 141190          |"
      ]
     },
     "metadata": {},
     "output_type": "display_data"
    },
    {
     "data": {
      "text/html": [
       "<pre>| 1m 54s                              | 70.25            | 141330          |</pre>"
      ],
      "text/plain": [
       "| 1m 54s                              | 70.25            | 141330          |"
      ]
     },
     "metadata": {},
     "output_type": "display_data"
    },
    {
     "data": {
      "text/html": [
       "<pre>| 1m 55s                              | 70.25            | 141530          |</pre>"
      ],
      "text/plain": [
       "| 1m 55s                              | 70.25            | 141530          |"
      ]
     },
     "metadata": {},
     "output_type": "display_data"
    },
    {
     "data": {
      "text/html": [
       "<pre>| 1m 56s                              | 70.25            | 141630          |</pre>"
      ],
      "text/plain": [
       "| 1m 56s                              | 70.25            | 141630          |"
      ]
     },
     "metadata": {},
     "output_type": "display_data"
    },
    {
     "data": {
      "text/html": [
       "<pre>| 1m 57s                              | 70.5             | 141775          |</pre>"
      ],
      "text/plain": [
       "| 1m 57s                              | 70.5             | 141775          |"
      ]
     },
     "metadata": {},
     "output_type": "display_data"
    },
    {
     "data": {
      "text/html": [
       "<pre>| 1m 58s                              | 71               | 143156          |</pre>"
      ],
      "text/plain": [
       "| 1m 58s                              | 71               | 143156          |"
      ]
     },
     "metadata": {},
     "output_type": "display_data"
    },
    {
     "data": {
      "text/html": [
       "<pre>| 1m 59s                              | 71.25            | 143280          |</pre>"
      ],
      "text/plain": [
       "| 1m 59s                              | 71.25            | 143280          |"
      ]
     },
     "metadata": {},
     "output_type": "display_data"
    },
    {
     "data": {
      "text/html": [
       "<pre>| 2m 0s                               | 71.25            | 143343          |</pre>"
      ],
      "text/plain": [
       "| 2m 0s                               | 71.25            | 143343          |"
      ]
     },
     "metadata": {},
     "output_type": "display_data"
    },
    {
     "data": {
      "text/html": [
       "<pre>| 2m 1s                               | 71.25            | 143443          |</pre>"
      ],
      "text/plain": [
       "| 2m 1s                               | 71.25            | 143443          |"
      ]
     },
     "metadata": {},
     "output_type": "display_data"
    },
    {
     "data": {
      "text/html": [
       "<pre>| 2m 2s                               | 71.25            | 143669          |</pre>"
      ],
      "text/plain": [
       "| 2m 2s                               | 71.25            | 143669          |"
      ]
     },
     "metadata": {},
     "output_type": "display_data"
    },
    {
     "data": {
      "text/html": [
       "<pre>| 2m 3s                               | 71.5             | 143751          |</pre>"
      ],
      "text/plain": [
       "| 2m 3s                               | 71.5             | 143751          |"
      ]
     },
     "metadata": {},
     "output_type": "display_data"
    },
    {
     "data": {
      "text/html": [
       "<pre>| 2m 4s                               | 71.5             | 143831          |</pre>"
      ],
      "text/plain": [
       "| 2m 4s                               | 71.5             | 143831          |"
      ]
     },
     "metadata": {},
     "output_type": "display_data"
    },
    {
     "data": {
      "text/html": [
       "<pre>| 2m 5s                               | 71.5             | 143913          |</pre>"
      ],
      "text/plain": [
       "| 2m 5s                               | 71.5             | 143913          |"
      ]
     },
     "metadata": {},
     "output_type": "display_data"
    },
    {
     "data": {
      "text/html": [
       "<pre>| 2m 6s                               | 71.75            | 144597          |</pre>"
      ],
      "text/plain": [
       "| 2m 6s                               | 71.75            | 144597          |"
      ]
     },
     "metadata": {},
     "output_type": "display_data"
    },
    {
     "data": {
      "text/html": [
       "<pre>| 2m 7s                               | 72               | 144690          |</pre>"
      ],
      "text/plain": [
       "| 2m 7s                               | 72               | 144690          |"
      ]
     },
     "metadata": {},
     "output_type": "display_data"
    },
    {
     "data": {
      "text/html": [
       "<pre>| 2m 8s                               | 72               | 144770          |</pre>"
      ],
      "text/plain": [
       "| 2m 8s                               | 72               | 144770          |"
      ]
     },
     "metadata": {},
     "output_type": "display_data"
    },
    {
     "data": {
      "text/html": [
       "<pre>| 2m 9s                               | 72               | 144850          |</pre>"
      ],
      "text/plain": [
       "| 2m 9s                               | 72               | 144850          |"
      ]
     },
     "metadata": {},
     "output_type": "display_data"
    },
    {
     "data": {
      "text/html": [
       "<pre>| 2m 10s                              | 72               | 144934          |</pre>"
      ],
      "text/plain": [
       "| 2m 10s                              | 72               | 144934          |"
      ]
     },
     "metadata": {},
     "output_type": "display_data"
    },
    {
     "data": {
      "text/html": [
       "<pre>| 2m 11s                              | 72               | 145018          |</pre>"
      ],
      "text/plain": [
       "| 2m 11s                              | 72               | 145018          |"
      ]
     },
     "metadata": {},
     "output_type": "display_data"
    },
    {
     "data": {
      "text/html": [
       "<pre>| 2m 12s                              | 72               | 145100          |</pre>"
      ],
      "text/plain": [
       "| 2m 12s                              | 72               | 145100          |"
      ]
     },
     "metadata": {},
     "output_type": "display_data"
    },
    {
     "data": {
      "text/html": [
       "<pre>| 2m 13s                              | 72.25            | 145191          |</pre>"
      ],
      "text/plain": [
       "| 2m 13s                              | 72.25            | 145191          |"
      ]
     },
     "metadata": {},
     "output_type": "display_data"
    },
    {
     "data": {
      "text/html": [
       "<pre>| 2m 14s                              | 72.25            | 145264          |</pre>"
      ],
      "text/plain": [
       "| 2m 14s                              | 72.25            | 145264          |"
      ]
     },
     "metadata": {},
     "output_type": "display_data"
    },
    {
     "data": {
      "text/html": [
       "<pre>| 2m 15s                              | 72.25            | 145360          |</pre>"
      ],
      "text/plain": [
       "| 2m 15s                              | 72.25            | 145360          |"
      ]
     },
     "metadata": {},
     "output_type": "display_data"
    },
    {
     "data": {
      "text/html": [
       "<pre>| 2m 16s                              | 72.25            | 145462          |</pre>"
      ],
      "text/plain": [
       "| 2m 16s                              | 72.25            | 145462          |"
      ]
     },
     "metadata": {},
     "output_type": "display_data"
    },
    {
     "data": {
      "text/html": [
       "<pre>| 2m 17s                              | 72.25            | 145568          |</pre>"
      ],
      "text/plain": [
       "| 2m 17s                              | 72.25            | 145568          |"
      ]
     },
     "metadata": {},
     "output_type": "display_data"
    },
    {
     "data": {
      "text/html": [
       "<pre>| 2m 18s                              | 72.5             | 146007          |</pre>"
      ],
      "text/plain": [
       "| 2m 18s                              | 72.5             | 146007          |"
      ]
     },
     "metadata": {},
     "output_type": "display_data"
    },
    {
     "data": {
      "text/html": [
       "<pre>| 2m 19s                              | 72.5             | 146128          |</pre>"
      ],
      "text/plain": [
       "| 2m 19s                              | 72.5             | 146128          |"
      ]
     },
     "metadata": {},
     "output_type": "display_data"
    },
    {
     "data": {
      "text/html": [
       "<pre>| 2m 20s                              | 72.75            | 146216          |</pre>"
      ],
      "text/plain": [
       "| 2m 20s                              | 72.75            | 146216          |"
      ]
     },
     "metadata": {},
     "output_type": "display_data"
    },
    {
     "data": {
      "text/html": [
       "<pre>| 2m 21s                              | 72.75            | 146335          |</pre>"
      ],
      "text/plain": [
       "| 2m 21s                              | 72.75            | 146335          |"
      ]
     },
     "metadata": {},
     "output_type": "display_data"
    },
    {
     "data": {
      "text/html": [
       "<pre>| 2m 22s                              | 72.75            | 146444          |</pre>"
      ],
      "text/plain": [
       "| 2m 22s                              | 72.75            | 146444          |"
      ]
     },
     "metadata": {},
     "output_type": "display_data"
    },
    {
     "data": {
      "text/html": [
       "<pre>| 2m 23s                              | 73               | 146894          |</pre>"
      ],
      "text/plain": [
       "| 2m 23s                              | 73               | 146894          |"
      ]
     },
     "metadata": {},
     "output_type": "display_data"
    },
    {
     "data": {
      "text/html": [
       "<pre>| 2m 24s                              | 73               | 147138          |</pre>"
      ],
      "text/plain": [
       "| 2m 24s                              | 73               | 147138          |"
      ]
     },
     "metadata": {},
     "output_type": "display_data"
    },
    {
     "data": {
      "text/html": [
       "<pre>| 2m 25s                              | 73.25            | 147237          |</pre>"
      ],
      "text/plain": [
       "| 2m 25s                              | 73.25            | 147237          |"
      ]
     },
     "metadata": {},
     "output_type": "display_data"
    },
    {
     "data": {
      "text/html": [
       "<pre>| 2m 26s                              | 73.25            | 147356          |</pre>"
      ],
      "text/plain": [
       "| 2m 26s                              | 73.25            | 147356          |"
      ]
     },
     "metadata": {},
     "output_type": "display_data"
    },
    {
     "data": {
      "text/html": [
       "<pre>| 2m 27s                              | 73.25            | 147521          |</pre>"
      ],
      "text/plain": [
       "| 2m 27s                              | 73.25            | 147521          |"
      ]
     },
     "metadata": {},
     "output_type": "display_data"
    },
    {
     "data": {
      "text/html": [
       "<pre>| 2m 28s                              | 73.5             | 148113          |</pre>"
      ],
      "text/plain": [
       "| 2m 28s                              | 73.5             | 148113          |"
      ]
     },
     "metadata": {},
     "output_type": "display_data"
    },
    {
     "data": {
      "text/html": [
       "<pre>| 2m 29s                              | 73.75            | 148314          |</pre>"
      ],
      "text/plain": [
       "| 2m 29s                              | 73.75            | 148314          |"
      ]
     },
     "metadata": {},
     "output_type": "display_data"
    },
    {
     "data": {
      "text/html": [
       "<pre>| 2m 30s                              | 73.75            | 148428          |</pre>"
      ],
      "text/plain": [
       "| 2m 30s                              | 73.75            | 148428          |"
      ]
     },
     "metadata": {},
     "output_type": "display_data"
    },
    {
     "data": {
      "text/html": [
       "<pre>| 2m 31s                              | 73.75            | 148613          |</pre>"
      ],
      "text/plain": [
       "| 2m 31s                              | 73.75            | 148613          |"
      ]
     },
     "metadata": {},
     "output_type": "display_data"
    },
    {
     "data": {
      "text/html": [
       "<pre>| 2m 32s                              | 74               | 148955          |</pre>"
      ],
      "text/plain": [
       "| 2m 32s                              | 74               | 148955          |"
      ]
     },
     "metadata": {},
     "output_type": "display_data"
    },
    {
     "data": {
      "text/html": [
       "<pre>| 2m 33s                              | 74               | 149090          |</pre>"
      ],
      "text/plain": [
       "| 2m 33s                              | 74               | 149090          |"
      ]
     },
     "metadata": {},
     "output_type": "display_data"
    },
    {
     "data": {
      "text/html": [
       "<pre>| 2m 34s                              | 74               | 149193          |</pre>"
      ],
      "text/plain": [
       "| 2m 34s                              | 74               | 149193          |"
      ]
     },
     "metadata": {},
     "output_type": "display_data"
    },
    {
     "data": {
      "text/html": [
       "<pre>| 2m 35s                              | 74.25            | 149272          |</pre>"
      ],
      "text/plain": [
       "| 2m 35s                              | 74.25            | 149272          |"
      ]
     },
     "metadata": {},
     "output_type": "display_data"
    },
    {
     "data": {
      "text/html": [
       "<pre>| 2m 36s                              | 74.25            | 149514          |</pre>"
      ],
      "text/plain": [
       "| 2m 36s                              | 74.25            | 149514          |"
      ]
     },
     "metadata": {},
     "output_type": "display_data"
    },
    {
     "data": {
      "text/html": [
       "<pre>| 2m 37s                              | 74.25            | 149594          |</pre>"
      ],
      "text/plain": [
       "| 2m 37s                              | 74.25            | 149594          |"
      ]
     },
     "metadata": {},
     "output_type": "display_data"
    },
    {
     "data": {
      "text/html": [
       "<pre>| 2m 38s                              | 76.5             | 153790          |</pre>"
      ],
      "text/plain": [
       "| 2m 38s                              | 76.5             | 153790          |"
      ]
     },
     "metadata": {},
     "output_type": "display_data"
    },
    {
     "data": {
      "text/html": [
       "<pre>| 2m 39s                              | 76.5             | 153884          |</pre>"
      ],
      "text/plain": [
       "| 2m 39s                              | 76.5             | 153884          |"
      ]
     },
     "metadata": {},
     "output_type": "display_data"
    },
    {
     "data": {
      "text/html": [
       "<pre>| 2m 40s                              | 76.5             | 154016          |</pre>"
      ],
      "text/plain": [
       "| 2m 40s                              | 76.5             | 154016          |"
      ]
     },
     "metadata": {},
     "output_type": "display_data"
    },
    {
     "data": {
      "text/html": [
       "<pre>| 2m 41s                              | 76.75            | 154295          |</pre>"
      ],
      "text/plain": [
       "| 2m 41s                              | 76.75            | 154295          |"
      ]
     },
     "metadata": {},
     "output_type": "display_data"
    },
    {
     "data": {
      "text/html": [
       "<pre>| 2m 42s                              | 76.75            | 154392          |</pre>"
      ],
      "text/plain": [
       "| 2m 42s                              | 76.75            | 154392          |"
      ]
     },
     "metadata": {},
     "output_type": "display_data"
    },
    {
     "data": {
      "text/html": [
       "<pre>| 2m 43s                              | 76.75            | 154485          |</pre>"
      ],
      "text/plain": [
       "| 2m 43s                              | 76.75            | 154485          |"
      ]
     },
     "metadata": {},
     "output_type": "display_data"
    },
    {
     "data": {
      "text/html": [
       "<pre>| 2m 44s                              | 77               | 154759          |</pre>"
      ],
      "text/plain": [
       "| 2m 44s                              | 77               | 154759          |"
      ]
     },
     "metadata": {},
     "output_type": "display_data"
    },
    {
     "data": {
      "text/html": [
       "<pre>| 2m 45s                              | 77               | 154861          |</pre>"
      ],
      "text/plain": [
       "| 2m 45s                              | 77               | 154861          |"
      ]
     },
     "metadata": {},
     "output_type": "display_data"
    },
    {
     "data": {
      "text/html": [
       "<pre>| 2m 46s                              | 77               | 154959          |</pre>"
      ],
      "text/plain": [
       "| 2m 46s                              | 77               | 154959          |"
      ]
     },
     "metadata": {},
     "output_type": "display_data"
    },
    {
     "data": {
      "text/html": [
       "<pre>| 2m 47s                              | 77               | 155091          |</pre>"
      ],
      "text/plain": [
       "| 2m 47s                              | 77               | 155091          |"
      ]
     },
     "metadata": {},
     "output_type": "display_data"
    },
    {
     "data": {
      "text/html": [
       "<pre>| 2m 48s                              | 77.25            | 155559          |</pre>"
      ],
      "text/plain": [
       "| 2m 48s                              | 77.25            | 155559          |"
      ]
     },
     "metadata": {},
     "output_type": "display_data"
    },
    {
     "data": {
      "text/html": [
       "<pre>| 2m 49s                              | 77.25            | 155671          |</pre>"
      ],
      "text/plain": [
       "| 2m 49s                              | 77.25            | 155671          |"
      ]
     },
     "metadata": {},
     "output_type": "display_data"
    },
    {
     "data": {
      "text/html": [
       "<pre>| 2m 50s                              | 77.5             | 155769          |</pre>"
      ],
      "text/plain": [
       "| 2m 50s                              | 77.5             | 155769          |"
      ]
     },
     "metadata": {},
     "output_type": "display_data"
    },
    {
     "data": {
      "text/html": [
       "<pre>| 2m 51s                              | 77.5             | 155857          |</pre>"
      ],
      "text/plain": [
       "| 2m 51s                              | 77.5             | 155857          |"
      ]
     },
     "metadata": {},
     "output_type": "display_data"
    },
    {
     "data": {
      "text/html": [
       "<pre>| 2m 52s                              | 77.5             | 155940          |</pre>"
      ],
      "text/plain": [
       "| 2m 52s                              | 77.5             | 155940          |"
      ]
     },
     "metadata": {},
     "output_type": "display_data"
    },
    {
     "data": {
      "text/html": [
       "<pre>| 2m 53s                              | 77.5             | 156040          |</pre>"
      ],
      "text/plain": [
       "| 2m 53s                              | 77.5             | 156040          |"
      ]
     },
     "metadata": {},
     "output_type": "display_data"
    },
    {
     "data": {
      "text/html": [
       "<pre>| 2m 54s                              | 77.5             | 156145          |</pre>"
      ],
      "text/plain": [
       "| 2m 54s                              | 77.5             | 156145          |"
      ]
     },
     "metadata": {},
     "output_type": "display_data"
    },
    {
     "data": {
      "text/html": [
       "<pre>| 2m 55s                              | 77.75            | 156347          |</pre>"
      ],
      "text/plain": [
       "| 2m 55s                              | 77.75            | 156347          |"
      ]
     },
     "metadata": {},
     "output_type": "display_data"
    },
    {
     "data": {
      "text/html": [
       "<pre>| 2m 56s                              | 77.75            | 156437          |</pre>"
      ],
      "text/plain": [
       "| 2m 56s                              | 77.75            | 156437          |"
      ]
     },
     "metadata": {},
     "output_type": "display_data"
    },
    {
     "data": {
      "text/html": [
       "<pre>| 2m 57s                              | 77.75            | 156615          |</pre>"
      ],
      "text/plain": [
       "| 2m 57s                              | 77.75            | 156615          |"
      ]
     },
     "metadata": {},
     "output_type": "display_data"
    },
    {
     "data": {
      "text/html": [
       "<pre>| 2m 58s                              | 77.75            | 156729          |</pre>"
      ],
      "text/plain": [
       "| 2m 58s                              | 77.75            | 156729          |"
      ]
     },
     "metadata": {},
     "output_type": "display_data"
    },
    {
     "data": {
      "text/html": [
       "<pre>| 2m 59s                              | 78               | 157203          |</pre>"
      ],
      "text/plain": [
       "| 2m 59s                              | 78               | 157203          |"
      ]
     },
     "metadata": {},
     "output_type": "display_data"
    },
    {
     "data": {
      "text/html": [
       "<pre>| 3m 0s                               | 78.25            | 157306          |</pre>"
      ],
      "text/plain": [
       "| 3m 0s                               | 78.25            | 157306          |"
      ]
     },
     "metadata": {},
     "output_type": "display_data"
    },
    {
     "data": {
      "text/html": [
       "<pre>| 3m 1s                               | 78.25            | 157411          |</pre>"
      ],
      "text/plain": [
       "| 3m 1s                               | 78.25            | 157411          |"
      ]
     },
     "metadata": {},
     "output_type": "display_data"
    },
    {
     "data": {
      "text/html": [
       "<pre>| 3m 2s                               | 78.25            | 157495          |</pre>"
      ],
      "text/plain": [
       "| 3m 2s                               | 78.25            | 157495          |"
      ]
     },
     "metadata": {},
     "output_type": "display_data"
    },
    {
     "data": {
      "text/html": [
       "<pre>| 3m 3s                               | 78.25            | 157584          |</pre>"
      ],
      "text/plain": [
       "| 3m 3s                               | 78.25            | 157584          |"
      ]
     },
     "metadata": {},
     "output_type": "display_data"
    },
    {
     "data": {
      "text/html": [
       "<pre>| 3m 4s                               | 78.25            | 157671          |</pre>"
      ],
      "text/plain": [
       "| 3m 4s                               | 78.25            | 157671          |"
      ]
     },
     "metadata": {},
     "output_type": "display_data"
    },
    {
     "data": {
      "text/html": [
       "<pre>| 3m 5s                               | 78.5             | 157787          |</pre>"
      ],
      "text/plain": [
       "| 3m 5s                               | 78.5             | 157787          |"
      ]
     },
     "metadata": {},
     "output_type": "display_data"
    },
    {
     "data": {
      "text/html": [
       "<pre>| 3m 6s                               | 78.5             | 157980          |</pre>"
      ],
      "text/plain": [
       "| 3m 6s                               | 78.5             | 157980          |"
      ]
     },
     "metadata": {},
     "output_type": "display_data"
    },
    {
     "data": {
      "text/html": [
       "<pre>| 3m 7s                               | 78.5             | 158115          |</pre>"
      ],
      "text/plain": [
       "| 3m 7s                               | 78.5             | 158115          |"
      ]
     },
     "metadata": {},
     "output_type": "display_data"
    },
    {
     "data": {
      "text/html": [
       "<pre>| 3m 8s                               | 78.75            | 158374          |</pre>"
      ],
      "text/plain": [
       "| 3m 8s                               | 78.75            | 158374          |"
      ]
     },
     "metadata": {},
     "output_type": "display_data"
    },
    {
     "data": {
      "text/html": [
       "<pre>| 3m 9s                               | 78.75            | 158482          |</pre>"
      ],
      "text/plain": [
       "| 3m 9s                               | 78.75            | 158482          |"
      ]
     },
     "metadata": {},
     "output_type": "display_data"
    },
    {
     "data": {
      "text/html": [
       "<pre>| 3m 10s                              | 78.75            | 158663          |</pre>"
      ],
      "text/plain": [
       "| 3m 10s                              | 78.75            | 158663          |"
      ]
     },
     "metadata": {},
     "output_type": "display_data"
    },
    {
     "data": {
      "text/html": [
       "<pre>| 3m 11s                              | 79               | 158782          |</pre>"
      ],
      "text/plain": [
       "| 3m 11s                              | 79               | 158782          |"
      ]
     },
     "metadata": {},
     "output_type": "display_data"
    },
    {
     "data": {
      "text/html": [
       "<pre>| 3m 12s                              | 81.5             | 163930          |</pre>"
      ],
      "text/plain": [
       "| 3m 12s                              | 81.5             | 163930          |"
      ]
     },
     "metadata": {},
     "output_type": "display_data"
    },
    {
     "data": {
      "text/html": [
       "<pre>| 3m 13s                              | 81.5             | 164076          |</pre>"
      ],
      "text/plain": [
       "| 3m 13s                              | 81.5             | 164076          |"
      ]
     },
     "metadata": {},
     "output_type": "display_data"
    },
    {
     "data": {
      "text/html": [
       "<pre>| 3m 14s                              | 81.5             | 164197          |</pre>"
      ],
      "text/plain": [
       "| 3m 14s                              | 81.5             | 164197          |"
      ]
     },
     "metadata": {},
     "output_type": "display_data"
    },
    {
     "data": {
      "text/html": [
       "<pre>| 3m 15s                              | 81.75            | 164306          |</pre>"
      ],
      "text/plain": [
       "| 3m 15s                              | 81.75            | 164306          |"
      ]
     },
     "metadata": {},
     "output_type": "display_data"
    },
    {
     "data": {
      "text/html": [
       "<pre>| 3m 16s                              | 81.75            | 164387          |</pre>"
      ],
      "text/plain": [
       "| 3m 16s                              | 81.75            | 164387          |"
      ]
     },
     "metadata": {},
     "output_type": "display_data"
    },
    {
     "data": {
      "text/html": [
       "<pre>| 3m 17s                              | 81.75            | 164510          |</pre>"
      ],
      "text/plain": [
       "| 3m 17s                              | 81.75            | 164510          |"
      ]
     },
     "metadata": {},
     "output_type": "display_data"
    },
    {
     "data": {
      "text/html": [
       "<pre>| 3m 18s                              | 81.75            | 164610          |</pre>"
      ],
      "text/plain": [
       "| 3m 18s                              | 81.75            | 164610          |"
      ]
     },
     "metadata": {},
     "output_type": "display_data"
    },
    {
     "data": {
      "text/html": [
       "<pre>| 3m 19s                              | 81.75            | 164728          |</pre>"
      ],
      "text/plain": [
       "| 3m 19s                              | 81.75            | 164728          |"
      ]
     },
     "metadata": {},
     "output_type": "display_data"
    },
    {
     "data": {
      "text/html": [
       "<pre>| 3m 20s                              | 82               | 164845          |</pre>"
      ],
      "text/plain": [
       "| 3m 20s                              | 82               | 164845          |"
      ]
     },
     "metadata": {},
     "output_type": "display_data"
    },
    {
     "data": {
      "text/html": [
       "<pre>| 3m 21s                              | 82               | 164976          |</pre>"
      ],
      "text/plain": [
       "| 3m 21s                              | 82               | 164976          |"
      ]
     },
     "metadata": {},
     "output_type": "display_data"
    },
    {
     "data": {
      "text/html": [
       "<pre>| 3m 22s                              | 82               | 165085          |</pre>"
      ],
      "text/plain": [
       "| 3m 22s                              | 82               | 165085          |"
      ]
     },
     "metadata": {},
     "output_type": "display_data"
    },
    {
     "data": {
      "text/html": [
       "<pre>| 3m 23s                              | 82               | 165185          |</pre>"
      ],
      "text/plain": [
       "| 3m 23s                              | 82               | 165185          |"
      ]
     },
     "metadata": {},
     "output_type": "display_data"
    },
    {
     "data": {
      "text/html": [
       "<pre>| 3m 24s                              | 82.25            | 165300          |</pre>"
      ],
      "text/plain": [
       "| 3m 24s                              | 82.25            | 165300          |"
      ]
     },
     "metadata": {},
     "output_type": "display_data"
    },
    {
     "data": {
      "text/html": [
       "<pre>| 3m 25s                              | 82.25            | 165390          |</pre>"
      ],
      "text/plain": [
       "| 3m 25s                              | 82.25            | 165390          |"
      ]
     },
     "metadata": {},
     "output_type": "display_data"
    },
    {
     "data": {
      "text/html": [
       "<pre>| 3m 26s                              | 82.25            | 165478          |</pre>"
      ],
      "text/plain": [
       "| 3m 26s                              | 82.25            | 165478          |"
      ]
     },
     "metadata": {},
     "output_type": "display_data"
    },
    {
     "data": {
      "text/html": [
       "<pre>| 3m 27s                              | 82.25            | 165567          |</pre>"
      ],
      "text/plain": [
       "| 3m 27s                              | 82.25            | 165567          |"
      ]
     },
     "metadata": {},
     "output_type": "display_data"
    },
    {
     "data": {
      "text/html": [
       "<pre>| 3m 28s                              | 82.25            | 165654          |</pre>"
      ],
      "text/plain": [
       "| 3m 28s                              | 82.25            | 165654          |"
      ]
     },
     "metadata": {},
     "output_type": "display_data"
    },
    {
     "data": {
      "text/html": [
       "<pre>| 3m 29s                              | 82.25            | 165755          |</pre>"
      ],
      "text/plain": [
       "| 3m 29s                              | 82.25            | 165755          |"
      ]
     },
     "metadata": {},
     "output_type": "display_data"
    },
    {
     "data": {
      "text/html": [
       "<pre>| 3m 30s                              | 82.5             | 165845          |</pre>"
      ],
      "text/plain": [
       "| 3m 30s                              | 82.5             | 165845          |"
      ]
     },
     "metadata": {},
     "output_type": "display_data"
    },
    {
     "data": {
      "text/html": [
       "<pre>| 3m 31s                              | 82.5             | 165928          |</pre>"
      ],
      "text/plain": [
       "| 3m 31s                              | 82.5             | 165928          |"
      ]
     },
     "metadata": {},
     "output_type": "display_data"
    },
    {
     "data": {
      "text/html": [
       "<pre>| 3m 32s                              | 82.5             | 166064          |</pre>"
      ],
      "text/plain": [
       "| 3m 32s                              | 82.5             | 166064          |"
      ]
     },
     "metadata": {},
     "output_type": "display_data"
    },
    {
     "data": {
      "text/html": [
       "<pre>| 3m 33s                              | 82.5             | 166157          |</pre>"
      ],
      "text/plain": [
       "| 3m 33s                              | 82.5             | 166157          |"
      ]
     },
     "metadata": {},
     "output_type": "display_data"
    },
    {
     "data": {
      "text/html": [
       "<pre>| 3m 34s                              | 82.5             | 166241          |</pre>"
      ],
      "text/plain": [
       "| 3m 34s                              | 82.5             | 166241          |"
      ]
     },
     "metadata": {},
     "output_type": "display_data"
    },
    {
     "data": {
      "text/html": [
       "<pre>| 3m 35s                              | 82.75            | 166386          |</pre>"
      ],
      "text/plain": [
       "| 3m 35s                              | 82.75            | 166386          |"
      ]
     },
     "metadata": {},
     "output_type": "display_data"
    },
    {
     "data": {
      "text/html": [
       "<pre>| 3m 36s                              | 82.75            | 166517          |</pre>"
      ],
      "text/plain": [
       "| 3m 36s                              | 82.75            | 166517          |"
      ]
     },
     "metadata": {},
     "output_type": "display_data"
    },
    {
     "data": {
      "text/html": [
       "<pre>| 3m 37s                              | 82.75            | 166671          |</pre>"
      ],
      "text/plain": [
       "| 3m 37s                              | 82.75            | 166671          |"
      ]
     },
     "metadata": {},
     "output_type": "display_data"
    },
    {
     "data": {
      "text/html": [
       "<pre>| 3m 38s                              | 83               | 166791          |</pre>"
      ],
      "text/plain": [
       "| 3m 38s                              | 83               | 166791          |"
      ]
     },
     "metadata": {},
     "output_type": "display_data"
    },
    {
     "data": {
      "text/html": [
       "<pre>| 3m 39s                              | 83               | 166954          |</pre>"
      ],
      "text/plain": [
       "| 3m 39s                              | 83               | 166954          |"
      ]
     },
     "metadata": {},
     "output_type": "display_data"
    },
    {
     "data": {
      "text/html": [
       "<pre>| 3m 40s                              | 83               | 167067          |</pre>"
      ],
      "text/plain": [
       "| 3m 40s                              | 83               | 167067          |"
      ]
     },
     "metadata": {},
     "output_type": "display_data"
    },
    {
     "data": {
      "text/html": [
       "<pre>| 3m 41s                              | 83               | 167218          |</pre>"
      ],
      "text/plain": [
       "| 3m 41s                              | 83               | 167218          |"
      ]
     },
     "metadata": {},
     "output_type": "display_data"
    },
    {
     "data": {
      "text/html": [
       "<pre>| 3m 42s                              | 83.25            | 167361          |</pre>"
      ],
      "text/plain": [
       "| 3m 42s                              | 83.25            | 167361          |"
      ]
     },
     "metadata": {},
     "output_type": "display_data"
    },
    {
     "data": {
      "text/html": [
       "<pre>| 3m 43s                              | 83.25            | 167510          |</pre>"
      ],
      "text/plain": [
       "| 3m 43s                              | 83.25            | 167510          |"
      ]
     },
     "metadata": {},
     "output_type": "display_data"
    },
    {
     "data": {
      "text/html": [
       "<pre>| 3m 44s                              | 83.25            | 167684          |</pre>"
      ],
      "text/plain": [
       "| 3m 44s                              | 83.25            | 167684          |"
      ]
     },
     "metadata": {},
     "output_type": "display_data"
    },
    {
     "data": {
      "text/html": [
       "<pre>| 3m 45s                              | 83.5             | 167820          |</pre>"
      ],
      "text/plain": [
       "| 3m 45s                              | 83.5             | 167820          |"
      ]
     },
     "metadata": {},
     "output_type": "display_data"
    },
    {
     "data": {
      "text/html": [
       "<pre>| 3m 46s                              | 83.5             | 167931          |</pre>"
      ],
      "text/plain": [
       "| 3m 46s                              | 83.5             | 167931          |"
      ]
     },
     "metadata": {},
     "output_type": "display_data"
    },
    {
     "data": {
      "text/html": [
       "<pre>| 3m 47s                              | 83.5             | 168106          |</pre>"
      ],
      "text/plain": [
       "| 3m 47s                              | 83.5             | 168106          |"
      ]
     },
     "metadata": {},
     "output_type": "display_data"
    },
    {
     "data": {
      "text/html": [
       "<pre>| 3m 48s                              | 83.5             | 168250          |</pre>"
      ],
      "text/plain": [
       "| 3m 48s                              | 83.5             | 168250          |"
      ]
     },
     "metadata": {},
     "output_type": "display_data"
    },
    {
     "data": {
      "text/html": [
       "<pre>| 3m 49s                              | 83.75            | 168403          |</pre>"
      ],
      "text/plain": [
       "| 3m 49s                              | 83.75            | 168403          |"
      ]
     },
     "metadata": {},
     "output_type": "display_data"
    },
    {
     "data": {
      "text/html": [
       "<pre>| 3m 50s                              | 83.75            | 168586          |</pre>"
      ],
      "text/plain": [
       "| 3m 50s                              | 83.75            | 168586          |"
      ]
     },
     "metadata": {},
     "output_type": "display_data"
    },
    {
     "data": {
      "text/html": [
       "<pre>| 3m 51s                              | 83.75            | 168753          |</pre>"
      ],
      "text/plain": [
       "| 3m 51s                              | 83.75            | 168753          |"
      ]
     },
     "metadata": {},
     "output_type": "display_data"
    },
    {
     "data": {
      "text/html": [
       "<pre>| 3m 52s                              | 84               | 168968          |</pre>"
      ],
      "text/plain": [
       "| 3m 52s                              | 84               | 168968          |"
      ]
     },
     "metadata": {},
     "output_type": "display_data"
    },
    {
     "data": {
      "text/html": [
       "<pre>| 3m 53s                              | 84               | 169252          |</pre>"
      ],
      "text/plain": [
       "| 3m 53s                              | 84               | 169252          |"
      ]
     },
     "metadata": {},
     "output_type": "display_data"
    },
    {
     "data": {
      "text/html": [
       "<pre>| 3m 54s                              | 84.25            | 169600          |</pre>"
      ],
      "text/plain": [
       "| 3m 54s                              | 84.25            | 169600          |"
      ]
     },
     "metadata": {},
     "output_type": "display_data"
    },
    {
     "data": {
      "text/html": [
       "<pre>| 3m 55s                              | 84.5             | 169914          |</pre>"
      ],
      "text/plain": [
       "| 3m 55s                              | 84.5             | 169914          |"
      ]
     },
     "metadata": {},
     "output_type": "display_data"
    },
    {
     "data": {
      "text/html": [
       "<pre>| 3m 58s                              | 84.75            | 170670          |</pre>"
      ],
      "text/plain": [
       "| 3m 58s                              | 84.75            | 170670          |"
      ]
     },
     "metadata": {},
     "output_type": "display_data"
    },
    {
     "data": {
      "text/html": [
       "<pre>| 3m 59s                              | 84.75            | 170736          |</pre>"
      ],
      "text/plain": [
       "| 3m 59s                              | 84.75            | 170736          |"
      ]
     },
     "metadata": {},
     "output_type": "display_data"
    },
    {
     "data": {
      "text/html": [
       "<pre>| 4m 0s                               | 84.75            | 170742          |</pre>"
      ],
      "text/plain": [
       "| 4m 0s                               | 84.75            | 170742          |"
      ]
     },
     "metadata": {},
     "output_type": "display_data"
    },
    {
     "data": {
      "text/html": [
       "<pre>| 4m 2s                               | 85               | 170944          |</pre>"
      ],
      "text/plain": [
       "| 4m 2s                               | 85               | 170944          |"
      ]
     },
     "metadata": {},
     "output_type": "display_data"
    },
    {
     "data": {
      "text/html": [
       "<pre>| 4m 6s                               | 85               | 171254          |</pre>"
      ],
      "text/plain": [
       "| 4m 6s                               | 85               | 171254          |"
      ]
     },
     "metadata": {},
     "output_type": "display_data"
    },
    {
     "data": {
      "text/html": [
       "<pre>| 4m 10s                              | 85.25            | 171605          |</pre>"
      ],
      "text/plain": [
       "| 4m 10s                              | 85.25            | 171605          |"
      ]
     },
     "metadata": {},
     "output_type": "display_data"
    },
    {
     "data": {
      "text/html": [
       "<pre>| 4m 18s                              | 85.5             | 172283          |</pre>"
      ],
      "text/plain": [
       "| 4m 18s                              | 85.5             | 172283          |"
      ]
     },
     "metadata": {},
     "output_type": "display_data"
    },
    {
     "data": {
      "text/html": [
       "<pre>| 4m 19s                              | 85.75            | 172375          |</pre>"
      ],
      "text/plain": [
       "| 4m 19s                              | 85.75            | 172375          |"
      ]
     },
     "metadata": {},
     "output_type": "display_data"
    },
    {
     "data": {
      "text/html": [
       "<pre>| 4m 20s                              | 85.75            | 172455          |</pre>"
      ],
      "text/plain": [
       "| 4m 20s                              | 85.75            | 172455          |"
      ]
     },
     "metadata": {},
     "output_type": "display_data"
    },
    {
     "data": {
      "text/html": [
       "<pre>| 4m 21s                              | 85.75            | 172569          |</pre>"
      ],
      "text/plain": [
       "| 4m 21s                              | 85.75            | 172569          |"
      ]
     },
     "metadata": {},
     "output_type": "display_data"
    },
    {
     "data": {
      "text/html": [
       "<pre>| 4m 25s                              | 86               | 172983          |</pre>"
      ],
      "text/plain": [
       "| 4m 25s                              | 86               | 172983          |"
      ]
     },
     "metadata": {},
     "output_type": "display_data"
    },
    {
     "data": {
      "text/html": [
       "<pre>| 4m 26s                              | 86               | 173132          |</pre>"
      ],
      "text/plain": [
       "| 4m 26s                              | 86               | 173132          |"
      ]
     },
     "metadata": {},
     "output_type": "display_data"
    },
    {
     "data": {
      "text/html": [
       "<pre>| 4m 27s                              | 86.5             | 173875          |</pre>"
      ],
      "text/plain": [
       "| 4m 27s                              | 86.5             | 173875          |"
      ]
     },
     "metadata": {},
     "output_type": "display_data"
    },
    {
     "data": {
      "text/html": [
       "<pre>| 4m 28s                              | 86.5             | 173993          |</pre>"
      ],
      "text/plain": [
       "| 4m 28s                              | 86.5             | 173993          |"
      ]
     },
     "metadata": {},
     "output_type": "display_data"
    },
    {
     "data": {
      "text/html": [
       "<pre>| 4m 32s                              | 86.75            | 174465          |</pre>"
      ],
      "text/plain": [
       "| 4m 32s                              | 86.75            | 174465          |"
      ]
     },
     "metadata": {},
     "output_type": "display_data"
    },
    {
     "data": {
      "text/html": [
       "<pre>| 4m 34s                              | 87               | 175291          |</pre>"
      ],
      "text/plain": [
       "| 4m 34s                              | 87               | 175291          |"
      ]
     },
     "metadata": {},
     "output_type": "display_data"
    },
    {
     "data": {
      "text/html": [
       "<pre>| 4m 35s                              | 87.25            | 175375          |</pre>"
      ],
      "text/plain": [
       "| 4m 35s                              | 87.25            | 175375          |"
      ]
     },
     "metadata": {},
     "output_type": "display_data"
    },
    {
     "data": {
      "text/html": [
       "<pre>| 4m 37s                              | 87.25            | 175481          |</pre>"
      ],
      "text/plain": [
       "| 4m 37s                              | 87.25            | 175481          |"
      ]
     },
     "metadata": {},
     "output_type": "display_data"
    },
    {
     "data": {
      "text/html": [
       "<pre>| 4m 38s                              | 87.75            | 176588          |</pre>"
      ],
      "text/plain": [
       "| 4m 38s                              | 87.75            | 176588          |"
      ]
     },
     "metadata": {},
     "output_type": "display_data"
    },
    {
     "data": {
      "text/html": [
       "<pre>| 4m 40s                              | 87.75            | 176736          |</pre>"
      ],
      "text/plain": [
       "| 4m 40s                              | 87.75            | 176736          |"
      ]
     },
     "metadata": {},
     "output_type": "display_data"
    },
    {
     "data": {
      "text/html": [
       "<pre>| 4m 42s                              | 88               | 176905          |</pre>"
      ],
      "text/plain": [
       "| 4m 42s                              | 88               | 176905          |"
      ]
     },
     "metadata": {},
     "output_type": "display_data"
    },
    {
     "data": {
      "text/html": [
       "<pre>| 4m 42s                              | 88               | 176914          |</pre>"
      ],
      "text/plain": [
       "| 4m 42s                              | 88               | 176914          |"
      ]
     },
     "metadata": {},
     "output_type": "display_data"
    },
    {
     "data": {
      "text/html": [
       "<pre>| 4m 43s                              | 88               | 177032          |</pre>"
      ],
      "text/plain": [
       "| 4m 43s                              | 88               | 177032          |"
      ]
     },
     "metadata": {},
     "output_type": "display_data"
    },
    {
     "data": {
      "text/html": [
       "<pre>| 4m 44s                              | 88               | 177095          |</pre>"
      ],
      "text/plain": [
       "| 4m 44s                              | 88               | 177095          |"
      ]
     },
     "metadata": {},
     "output_type": "display_data"
    },
    {
     "data": {
      "text/html": [
       "<pre>| 4m 46s                              | 88               | 177278          |</pre>"
      ],
      "text/plain": [
       "| 4m 46s                              | 88               | 177278          |"
      ]
     },
     "metadata": {},
     "output_type": "display_data"
    },
    {
     "data": {
      "text/html": [
       "<pre>| 4m 46s                              | 88.25            | 177333          |</pre>"
      ],
      "text/plain": [
       "| 4m 46s                              | 88.25            | 177333          |"
      ]
     },
     "metadata": {},
     "output_type": "display_data"
    },
    {
     "data": {
      "text/html": [
       "<pre>| 4m 47s                              | 88.25            | 177433          |</pre>"
      ],
      "text/plain": [
       "| 4m 47s                              | 88.25            | 177433          |"
      ]
     },
     "metadata": {},
     "output_type": "display_data"
    },
    {
     "data": {
      "text/html": [
       "<pre>| 4m 48s                              | 88.25            | 177645          |</pre>"
      ],
      "text/plain": [
       "| 4m 48s                              | 88.25            | 177645          |"
      ]
     },
     "metadata": {},
     "output_type": "display_data"
    },
    {
     "data": {
      "text/html": [
       "<pre>| 4m 49s                              | 88.25            | 177742          |</pre>"
      ],
      "text/plain": [
       "| 4m 49s                              | 88.25            | 177742          |"
      ]
     },
     "metadata": {},
     "output_type": "display_data"
    },
    {
     "data": {
      "text/html": [
       "<pre>| 4m 51s                              | 88.5             | 178114          |</pre>"
      ],
      "text/plain": [
       "| 4m 51s                              | 88.5             | 178114          |"
      ]
     },
     "metadata": {},
     "output_type": "display_data"
    },
    {
     "data": {
      "text/html": [
       "<pre>| 4m 51s                              | 88.5             | 178194          |</pre>"
      ],
      "text/plain": [
       "| 4m 51s                              | 88.5             | 178194          |"
      ]
     },
     "metadata": {},
     "output_type": "display_data"
    },
    {
     "data": {
      "text/html": [
       "<pre>| 4m 52s                              | 89               | 178990          |</pre>"
      ],
      "text/plain": [
       "| 4m 52s                              | 89               | 178990          |"
      ]
     },
     "metadata": {},
     "output_type": "display_data"
    },
    {
     "data": {
      "text/html": [
       "<pre>| 4m 53s                              | 89               | 179034          |</pre>"
      ],
      "text/plain": [
       "| 4m 53s                              | 89               | 179034          |"
      ]
     },
     "metadata": {},
     "output_type": "display_data"
    },
    {
     "data": {
      "text/html": [
       "<pre>| 4m 54s                              | 89               | 179172          |</pre>"
      ],
      "text/plain": [
       "| 4m 54s                              | 89               | 179172          |"
      ]
     },
     "metadata": {},
     "output_type": "display_data"
    },
    {
     "data": {
      "text/html": [
       "<pre>| 4m 56s                              | 89               | 179332          |</pre>"
      ],
      "text/plain": [
       "| 4m 56s                              | 89               | 179332          |"
      ]
     },
     "metadata": {},
     "output_type": "display_data"
    },
    {
     "data": {
      "text/html": [
       "<pre>| 4m 56s                              | 89.25            | 179375          |</pre>"
      ],
      "text/plain": [
       "| 4m 56s                              | 89.25            | 179375          |"
      ]
     },
     "metadata": {},
     "output_type": "display_data"
    },
    {
     "data": {
      "text/html": [
       "<pre>| 4m 57s                              | 89.25            | 179453          |</pre>"
      ],
      "text/plain": [
       "| 4m 57s                              | 89.25            | 179453          |"
      ]
     },
     "metadata": {},
     "output_type": "display_data"
    },
    {
     "data": {
      "text/html": [
       "<pre>| 4m 58s                              | 89.25            | 179613          |</pre>"
      ],
      "text/plain": [
       "| 4m 58s                              | 89.25            | 179613          |"
      ]
     },
     "metadata": {},
     "output_type": "display_data"
    },
    {
     "data": {
      "text/html": [
       "<pre>| 4m 59s                              | 89.25            | 179837          |</pre>"
      ],
      "text/plain": [
       "| 4m 59s                              | 89.25            | 179837          |"
      ]
     },
     "metadata": {},
     "output_type": "display_data"
    },
    {
     "data": {
      "text/html": [
       "<pre>| 5m 0s                               | 89.5             | 180225          |</pre>"
      ],
      "text/plain": [
       "| 5m 0s                               | 89.5             | 180225          |"
      ]
     },
     "metadata": {},
     "output_type": "display_data"
    },
    {
     "data": {
      "text/html": [
       "<pre>| 5m 1s                               | 89.5             | 180306          |</pre>"
      ],
      "text/plain": [
       "| 5m 1s                               | 89.5             | 180306          |"
      ]
     },
     "metadata": {},
     "output_type": "display_data"
    },
    {
     "data": {
      "text/html": [
       "<pre>| 5m 3s                               | 90.5             | 181951          |</pre>"
      ],
      "text/plain": [
       "| 5m 3s                               | 90.5             | 181951          |"
      ]
     },
     "metadata": {},
     "output_type": "display_data"
    },
    {
     "data": {
      "text/html": [
       "<pre>| 5m 3s                               | 90.5             | 181978          |</pre>"
      ],
      "text/plain": [
       "| 5m 3s                               | 90.5             | 181978          |"
      ]
     },
     "metadata": {},
     "output_type": "display_data"
    },
    {
     "data": {
      "text/html": [
       "<pre>| 5m 6s                               | 90.5             | 182282          |</pre>"
      ],
      "text/plain": [
       "| 5m 6s                               | 90.5             | 182282          |"
      ]
     },
     "metadata": {},
     "output_type": "display_data"
    },
    {
     "data": {
      "text/html": [
       "<pre>| 5m 17s                              | 92.75            | 186756          |</pre>"
      ],
      "text/plain": [
       "| 5m 17s                              | 92.75            | 186756          |"
      ]
     },
     "metadata": {},
     "output_type": "display_data"
    },
    {
     "data": {
      "text/html": [
       "<pre>| 5m 18s                              | 93               | 186883          |</pre>"
      ],
      "text/plain": [
       "| 5m 18s                              | 93               | 186883          |"
      ]
     },
     "metadata": {},
     "output_type": "display_data"
    },
    {
     "data": {
      "text/html": [
       "<pre>| 5m 29s                              | 93.25            | 187765          |</pre>"
      ],
      "text/plain": [
       "| 5m 29s                              | 93.25            | 187765          |"
      ]
     },
     "metadata": {},
     "output_type": "display_data"
    },
    {
     "data": {
      "text/html": [
       "<pre>| 5m 36s                              | 93.75            | 188378          |</pre>"
      ],
      "text/plain": [
       "| 5m 36s                              | 93.75            | 188378          |"
      ]
     },
     "metadata": {},
     "output_type": "display_data"
    },
    {
     "data": {
      "text/html": [
       "<pre>| 5m 48s                              | 93.75            | 188404          |</pre>"
      ],
      "text/plain": [
       "| 5m 48s                              | 93.75            | 188404          |"
      ]
     },
     "metadata": {},
     "output_type": "display_data"
    },
    {
     "data": {
      "text/html": [
       "<pre>| 6m 3s                               | 94.5             | 190302          |</pre>"
      ],
      "text/plain": [
       "| 6m 3s                               | 94.5             | 190302          |"
      ]
     },
     "metadata": {},
     "output_type": "display_data"
    },
    {
     "data": {
      "text/html": [
       "<pre>| 6m 9s                               | 95               | 190995          |</pre>"
      ],
      "text/plain": [
       "| 6m 9s                               | 95               | 190995          |"
      ]
     },
     "metadata": {},
     "output_type": "display_data"
    },
    {
     "data": {
      "text/html": [
       "<pre>| 6m 10s                              | 95               | 191159          |</pre>"
      ],
      "text/plain": [
       "| 6m 10s                              | 95               | 191159          |"
      ]
     },
     "metadata": {},
     "output_type": "display_data"
    },
    {
     "data": {
      "text/html": [
       "<pre>| 6m 13s                              | 95.25            | 191418          |</pre>"
      ],
      "text/plain": [
       "| 6m 13s                              | 95.25            | 191418          |"
      ]
     },
     "metadata": {},
     "output_type": "display_data"
    },
    {
     "data": {
      "text/html": [
       "<pre>| 6m 14s                              | 95.25            | 191616          |</pre>"
      ],
      "text/plain": [
       "| 6m 14s                              | 95.25            | 191616          |"
      ]
     },
     "metadata": {},
     "output_type": "display_data"
    },
    {
     "data": {
      "text/html": [
       "<pre>| 6m 15s                              | 95.25            | 191694          |</pre>"
      ],
      "text/plain": [
       "| 6m 15s                              | 95.25            | 191694          |"
      ]
     },
     "metadata": {},
     "output_type": "display_data"
    },
    {
     "data": {
      "text/html": [
       "<pre>| 6m 17s                              | 95.5             | 192017          |</pre>"
      ],
      "text/plain": [
       "| 6m 17s                              | 95.5             | 192017          |"
      ]
     },
     "metadata": {},
     "output_type": "display_data"
    },
    {
     "data": {
      "text/html": [
       "<pre>| 6m 17s                              | 95.5             | 192059          |</pre>"
      ],
      "text/plain": [
       "| 6m 17s                              | 95.5             | 192059          |"
      ]
     },
     "metadata": {},
     "output_type": "display_data"
    },
    {
     "data": {
      "text/html": [
       "<pre>| 6m 18s                              | 95.5             | 192253          |</pre>"
      ],
      "text/plain": [
       "| 6m 18s                              | 95.5             | 192253          |"
      ]
     },
     "metadata": {},
     "output_type": "display_data"
    },
    {
     "data": {
      "text/html": [
       "<pre>| 6m 19s                              | 95.5             | 192280          |</pre>"
      ],
      "text/plain": [
       "| 6m 19s                              | 95.5             | 192280          |"
      ]
     },
     "metadata": {},
     "output_type": "display_data"
    },
    {
     "data": {
      "text/html": [
       "<pre>| 6m 21s                              | 95.75            | 192546          |</pre>"
      ],
      "text/plain": [
       "| 6m 21s                              | 95.75            | 192546          |"
      ]
     },
     "metadata": {},
     "output_type": "display_data"
    },
    {
     "data": {
      "text/html": [
       "<pre>| 6m 22s                              | 95.75            | 192742          |</pre>"
      ],
      "text/plain": [
       "| 6m 22s                              | 95.75            | 192742          |"
      ]
     },
     "metadata": {},
     "output_type": "display_data"
    },
    {
     "data": {
      "text/html": [
       "<pre>| 6m 33s                              | 96.25            | 193849          |</pre>"
      ],
      "text/plain": [
       "| 6m 33s                              | 96.25            | 193849          |"
      ]
     },
     "metadata": {},
     "output_type": "display_data"
    },
    {
     "data": {
      "text/html": [
       "<pre>| 7m 21s                              | 98.75            | 198506          |</pre>"
      ],
      "text/plain": [
       "| 7m 21s                              | 98.75            | 198506          |"
      ]
     },
     "metadata": {},
     "output_type": "display_data"
    },
    {
     "data": {
      "text/html": [
       "<pre>| 7m 27s                              | 99               | 199129          |</pre>"
      ],
      "text/plain": [
       "| 7m 27s                              | 99               | 199129          |"
      ]
     },
     "metadata": {},
     "output_type": "display_data"
    },
    {
     "data": {
      "text/html": [
       "<pre>| 7m 29s                              | 99               | 199297          |</pre>"
      ],
      "text/plain": [
       "| 7m 29s                              | 99               | 199297          |"
      ]
     },
     "metadata": {},
     "output_type": "display_data"
    },
    {
     "data": {
      "text/html": [
       "<pre>| 7m 30s                              | 99               | 199412          |</pre>"
      ],
      "text/plain": [
       "| 7m 30s                              | 99               | 199412          |"
      ]
     },
     "metadata": {},
     "output_type": "display_data"
    },
    {
     "data": {
      "text/html": [
       "<pre>| 7m 30s                              | 99               | 199424          |</pre>"
      ],
      "text/plain": [
       "| 7m 30s                              | 99               | 199424          |"
      ]
     },
     "metadata": {},
     "output_type": "display_data"
    },
    {
     "data": {
      "text/html": [
       "<pre>| 7m 32s                              | 99.25            | 199557          |</pre>"
      ],
      "text/plain": [
       "| 7m 32s                              | 99.25            | 199557          |"
      ]
     },
     "metadata": {},
     "output_type": "display_data"
    },
    {
     "data": {
      "text/html": [
       "<pre>| 7m 34s                              | 99.25            | 199757          |</pre>"
      ],
      "text/plain": [
       "| 7m 34s                              | 99.25            | 199757          |"
      ]
     },
     "metadata": {},
     "output_type": "display_data"
    },
    {
     "data": {
      "text/html": [
       "<pre>| 7m 40s                              | 99.5             | 200322          |</pre>"
      ],
      "text/plain": [
       "| 7m 40s                              | 99.5             | 200322          |"
      ]
     },
     "metadata": {},
     "output_type": "display_data"
    },
    {
     "data": {
      "text/html": [
       "<pre>| 7m 46s                              | 99.75            | 200811          |</pre>"
      ],
      "text/plain": [
       "| 7m 46s                              | 99.75            | 200811          |"
      ]
     },
     "metadata": {},
     "output_type": "display_data"
    },
    {
     "data": {
      "text/html": [
       "<pre>| 7m 47s                              | 99.75            | 200875          |</pre>"
      ],
      "text/plain": [
       "| 7m 47s                              | 99.75            | 200875          |"
      ]
     },
     "metadata": {},
     "output_type": "display_data"
    },
    {
     "data": {
      "text/html": [
       "<pre>| 8m 8s                               | 100              | 200936          |</pre>"
      ],
      "text/plain": [
       "| 8m 8s                               | 100              | 200936          |"
      ]
     },
     "metadata": {},
     "output_type": "display_data"
    },
    {
     "data": {
      "text/html": [
       "<pre>+-------------------------------------+------------------+-----------------+</pre>"
      ],
      "text/plain": [
       "+-------------------------------------+------------------+-----------------+"
      ]
     },
     "metadata": {},
     "output_type": "display_data"
    },
    {
     "data": {
      "text/html": [
       "<pre>Finalizing lookup tables.</pre>"
      ],
      "text/plain": [
       "Finalizing lookup tables."
      ]
     },
     "metadata": {},
     "output_type": "display_data"
    },
    {
     "data": {
      "text/html": [
       "<pre>Generating candidate set for working with new users.</pre>"
      ],
      "text/plain": [
       "Generating candidate set for working with new users."
      ]
     },
     "metadata": {},
     "output_type": "display_data"
    },
    {
     "data": {
      "text/html": [
       "<pre>Finished training in 490.915s</pre>"
      ],
      "text/plain": [
       "Finished training in 490.915s"
      ]
     },
     "metadata": {},
     "output_type": "display_data"
    }
   ],
   "source": [
    "item_model_pearson = gl.recommender.item_similarity_recommender.create(training_data, 'user_id', 'item_id',\n",
    "                                                       target = 'rating', similarity_type = 'pearson')"
   ]
  },
  {
   "cell_type": "code",
   "execution_count": 8,
   "metadata": {},
   "outputs": [
    {
     "data": {
      "text/html": [
       "<div style=\"max-height:1000px;max-width:1500px;overflow:auto;\"><table frame=\"box\" rules=\"cols\">\n",
       "    <tr>\n",
       "        <th style=\"padding-left: 1em; padding-right: 1em; text-align: center\">user_id</th>\n",
       "        <th style=\"padding-left: 1em; padding-right: 1em; text-align: center\">item_id</th>\n",
       "        <th style=\"padding-left: 1em; padding-right: 1em; text-align: center\">score</th>\n",
       "        <th style=\"padding-left: 1em; padding-right: 1em; text-align: center\">rank</th>\n",
       "    </tr>\n",
       "    <tr>\n",
       "        <td style=\"padding-left: 1em; padding-right: 1em; text-align: center; vertical-align: top\">A13AZVPEWEK1YC</td>\n",
       "        <td style=\"padding-left: 1em; padding-right: 1em; text-align: center; vertical-align: top\">000107461X</td>\n",
       "        <td style=\"padding-left: 1em; padding-right: 1em; text-align: center; vertical-align: top\">5.0</td>\n",
       "        <td style=\"padding-left: 1em; padding-right: 1em; text-align: center; vertical-align: top\">1</td>\n",
       "    </tr>\n",
       "    <tr>\n",
       "        <td style=\"padding-left: 1em; padding-right: 1em; text-align: center; vertical-align: top\">A13AZVPEWEK1YC</td>\n",
       "        <td style=\"padding-left: 1em; padding-right: 1em; text-align: center; vertical-align: top\">0000791156</td>\n",
       "        <td style=\"padding-left: 1em; padding-right: 1em; text-align: center; vertical-align: top\">5.0</td>\n",
       "        <td style=\"padding-left: 1em; padding-right: 1em; text-align: center; vertical-align: top\">2</td>\n",
       "    </tr>\n",
       "    <tr>\n",
       "        <td style=\"padding-left: 1em; padding-right: 1em; text-align: center; vertical-align: top\">A13AZVPEWEK1YC</td>\n",
       "        <td style=\"padding-left: 1em; padding-right: 1em; text-align: center; vertical-align: top\">0000143588</td>\n",
       "        <td style=\"padding-left: 1em; padding-right: 1em; text-align: center; vertical-align: top\">5.0</td>\n",
       "        <td style=\"padding-left: 1em; padding-right: 1em; text-align: center; vertical-align: top\">3</td>\n",
       "    </tr>\n",
       "    <tr>\n",
       "        <td style=\"padding-left: 1em; padding-right: 1em; text-align: center; vertical-align: top\">A13AZVPEWEK1YC</td>\n",
       "        <td style=\"padding-left: 1em; padding-right: 1em; text-align: center; vertical-align: top\">0000143529</td>\n",
       "        <td style=\"padding-left: 1em; padding-right: 1em; text-align: center; vertical-align: top\">5.0</td>\n",
       "        <td style=\"padding-left: 1em; padding-right: 1em; text-align: center; vertical-align: top\">4</td>\n",
       "    </tr>\n",
       "    <tr>\n",
       "        <td style=\"padding-left: 1em; padding-right: 1em; text-align: center; vertical-align: top\">A13AZVPEWEK1YC</td>\n",
       "        <td style=\"padding-left: 1em; padding-right: 1em; text-align: center; vertical-align: top\">0000143502</td>\n",
       "        <td style=\"padding-left: 1em; padding-right: 1em; text-align: center; vertical-align: top\">5.0</td>\n",
       "        <td style=\"padding-left: 1em; padding-right: 1em; text-align: center; vertical-align: top\">5</td>\n",
       "    </tr>\n",
       "    <tr>\n",
       "        <td style=\"padding-left: 1em; padding-right: 1em; text-align: center; vertical-align: top\">A1EQZH1RGLW6T3</td>\n",
       "        <td style=\"padding-left: 1em; padding-right: 1em; text-align: center; vertical-align: top\">000107461X</td>\n",
       "        <td style=\"padding-left: 1em; padding-right: 1em; text-align: center; vertical-align: top\">5.0</td>\n",
       "        <td style=\"padding-left: 1em; padding-right: 1em; text-align: center; vertical-align: top\">1</td>\n",
       "    </tr>\n",
       "    <tr>\n",
       "        <td style=\"padding-left: 1em; padding-right: 1em; text-align: center; vertical-align: top\">A1EQZH1RGLW6T3</td>\n",
       "        <td style=\"padding-left: 1em; padding-right: 1em; text-align: center; vertical-align: top\">0000791156</td>\n",
       "        <td style=\"padding-left: 1em; padding-right: 1em; text-align: center; vertical-align: top\">5.0</td>\n",
       "        <td style=\"padding-left: 1em; padding-right: 1em; text-align: center; vertical-align: top\">2</td>\n",
       "    </tr>\n",
       "    <tr>\n",
       "        <td style=\"padding-left: 1em; padding-right: 1em; text-align: center; vertical-align: top\">A1EQZH1RGLW6T3</td>\n",
       "        <td style=\"padding-left: 1em; padding-right: 1em; text-align: center; vertical-align: top\">0000143588</td>\n",
       "        <td style=\"padding-left: 1em; padding-right: 1em; text-align: center; vertical-align: top\">5.0</td>\n",
       "        <td style=\"padding-left: 1em; padding-right: 1em; text-align: center; vertical-align: top\">3</td>\n",
       "    </tr>\n",
       "    <tr>\n",
       "        <td style=\"padding-left: 1em; padding-right: 1em; text-align: center; vertical-align: top\">A1EQZH1RGLW6T3</td>\n",
       "        <td style=\"padding-left: 1em; padding-right: 1em; text-align: center; vertical-align: top\">0000143529</td>\n",
       "        <td style=\"padding-left: 1em; padding-right: 1em; text-align: center; vertical-align: top\">5.0</td>\n",
       "        <td style=\"padding-left: 1em; padding-right: 1em; text-align: center; vertical-align: top\">4</td>\n",
       "    </tr>\n",
       "    <tr>\n",
       "        <td style=\"padding-left: 1em; padding-right: 1em; text-align: center; vertical-align: top\">A1EQZH1RGLW6T3</td>\n",
       "        <td style=\"padding-left: 1em; padding-right: 1em; text-align: center; vertical-align: top\">0000143502</td>\n",
       "        <td style=\"padding-left: 1em; padding-right: 1em; text-align: center; vertical-align: top\">5.0</td>\n",
       "        <td style=\"padding-left: 1em; padding-right: 1em; text-align: center; vertical-align: top\">5</td>\n",
       "    </tr>\n",
       "</table>\n",
       "[2160 rows x 4 columns]<br/>Note: Only the head of the SFrame is printed.<br/>You can use print_rows(num_rows=m, num_columns=n) to print more rows and columns.\n",
       "</div>"
      ],
      "text/plain": [
       "Columns:\n",
       "\tuser_id\tstr\n",
       "\titem_id\tstr\n",
       "\tscore\tfloat\n",
       "\trank\tint\n",
       "\n",
       "Rows: 2160\n",
       "\n",
       "Data:\n",
       "+----------------+------------+-------+------+\n",
       "|    user_id     |  item_id   | score | rank |\n",
       "+----------------+------------+-------+------+\n",
       "| A13AZVPEWEK1YC | 000107461X |  5.0  |  1   |\n",
       "| A13AZVPEWEK1YC | 0000791156 |  5.0  |  2   |\n",
       "| A13AZVPEWEK1YC | 0000143588 |  5.0  |  3   |\n",
       "| A13AZVPEWEK1YC | 0000143529 |  5.0  |  4   |\n",
       "| A13AZVPEWEK1YC | 0000143502 |  5.0  |  5   |\n",
       "| A1EQZH1RGLW6T3 | 000107461X |  5.0  |  1   |\n",
       "| A1EQZH1RGLW6T3 | 0000791156 |  5.0  |  2   |\n",
       "| A1EQZH1RGLW6T3 | 0000143588 |  5.0  |  3   |\n",
       "| A1EQZH1RGLW6T3 | 0000143529 |  5.0  |  4   |\n",
       "| A1EQZH1RGLW6T3 | 0000143502 |  5.0  |  5   |\n",
       "+----------------+------------+-------+------+\n",
       "[2160 rows x 4 columns]\n",
       "Note: Only the head of the SFrame is printed.\n",
       "You can use print_rows(num_rows=m, num_columns=n) to print more rows and columns."
      ]
     },
     "execution_count": 8,
     "metadata": {},
     "output_type": "execute_result"
    }
   ],
   "source": [
    "item_model_pearson.recommend(users = validation_data['user_id'], k=5, random_seed=123)"
   ]
  },
  {
   "cell_type": "code",
   "execution_count": 9,
   "metadata": {},
   "outputs": [
    {
     "name": "stdout",
     "output_type": "stream",
     "text": [
      "\n",
      "Precision and recall summary statistics by cutoff\n",
      "+--------+----------------+-------------+\n",
      "| cutoff | mean_precision | mean_recall |\n",
      "+--------+----------------+-------------+\n",
      "|   1    |      0.0       |     0.0     |\n",
      "|   2    |      0.0       |     0.0     |\n",
      "|   3    |      0.0       |     0.0     |\n",
      "|   4    |      0.0       |     0.0     |\n",
      "|   5    |      0.0       |     0.0     |\n",
      "|   6    |      0.0       |     0.0     |\n",
      "|   7    |      0.0       |     0.0     |\n",
      "|   8    |      0.0       |     0.0     |\n",
      "|   9    |      0.0       |     0.0     |\n",
      "|   10   |      0.0       |     0.0     |\n",
      "+--------+----------------+-------------+\n",
      "[10 rows x 3 columns]\n",
      "\n",
      "('\\nOverall RMSE: ', 1.2132933294703905)\n",
      "\n",
      "Per User RMSE (best)\n",
      "+---------------+-------+------+\n",
      "|    user_id    | count | rmse |\n",
      "+---------------+-------+------+\n",
      "| A9WBDP1QB1EOC |   1   | 0.0  |\n",
      "+---------------+-------+------+\n",
      "[1 rows x 3 columns]\n",
      "\n",
      "\n",
      "Per User RMSE (worst)\n",
      "+----------------+-------+------+\n",
      "|    user_id     | count | rmse |\n",
      "+----------------+-------+------+\n",
      "| A1RP2U5653TPC7 |   1   | 5.0  |\n",
      "+----------------+-------+------+\n",
      "[1 rows x 3 columns]\n",
      "\n",
      "\n",
      "Per Item RMSE (best)\n",
      "+------------+-------+------+\n",
      "|  item_id   | count | rmse |\n",
      "+------------+-------+------+\n",
      "| B0009J3OQ4 |   1   | 0.0  |\n",
      "+------------+-------+------+\n",
      "[1 rows x 3 columns]\n",
      "\n",
      "\n",
      "Per Item RMSE (worst)\n",
      "+------------+-------+------+\n",
      "|  item_id   | count | rmse |\n",
      "+------------+-------+------+\n",
      "| B000EOTU3A |   1   | 5.0  |\n",
      "+------------+-------+------+\n",
      "[1 rows x 3 columns]\n",
      "\n"
     ]
    },
    {
     "data": {
      "text/plain": [
       "{'precision_recall_by_user': Columns:\n",
       " \tuser_id\tstr\n",
       " \tcutoff\tint\n",
       " \tprecision\tfloat\n",
       " \trecall\tfloat\n",
       " \tcount\tint\n",
       " \n",
       " Rows: 5346\n",
       " \n",
       " Data:\n",
       " +----------------+--------+-----------+--------+-------+\n",
       " |    user_id     | cutoff | precision | recall | count |\n",
       " +----------------+--------+-----------+--------+-------+\n",
       " | A10MM4TO3R2G5N |   1    |    0.0    |  0.0   |   1   |\n",
       " | A10MM4TO3R2G5N |   2    |    0.0    |  0.0   |   1   |\n",
       " | A10MM4TO3R2G5N |   3    |    0.0    |  0.0   |   1   |\n",
       " | A10MM4TO3R2G5N |   4    |    0.0    |  0.0   |   1   |\n",
       " | A10MM4TO3R2G5N |   5    |    0.0    |  0.0   |   1   |\n",
       " | A10MM4TO3R2G5N |   6    |    0.0    |  0.0   |   1   |\n",
       " | A10MM4TO3R2G5N |   7    |    0.0    |  0.0   |   1   |\n",
       " | A10MM4TO3R2G5N |   8    |    0.0    |  0.0   |   1   |\n",
       " | A10MM4TO3R2G5N |   9    |    0.0    |  0.0   |   1   |\n",
       " | A10MM4TO3R2G5N |   10   |    0.0    |  0.0   |   1   |\n",
       " +----------------+--------+-----------+--------+-------+\n",
       " [5346 rows x 5 columns]\n",
       " Note: Only the head of the SFrame is printed.\n",
       " You can use print_rows(num_rows=m, num_columns=n) to print more rows and columns.,\n",
       " 'precision_recall_overall': Columns:\n",
       " \tcutoff\tint\n",
       " \tprecision\tfloat\n",
       " \trecall\tfloat\n",
       " \n",
       " Rows: 18\n",
       " \n",
       " Data:\n",
       " +--------+-----------+--------+\n",
       " | cutoff | precision | recall |\n",
       " +--------+-----------+--------+\n",
       " |   1    |    0.0    |  0.0   |\n",
       " |   2    |    0.0    |  0.0   |\n",
       " |   3    |    0.0    |  0.0   |\n",
       " |   4    |    0.0    |  0.0   |\n",
       " |   5    |    0.0    |  0.0   |\n",
       " |   6    |    0.0    |  0.0   |\n",
       " |   7    |    0.0    |  0.0   |\n",
       " |   8    |    0.0    |  0.0   |\n",
       " |   9    |    0.0    |  0.0   |\n",
       " |   10   |    0.0    |  0.0   |\n",
       " +--------+-----------+--------+\n",
       " [18 rows x 3 columns]\n",
       " Note: Only the head of the SFrame is printed.\n",
       " You can use print_rows(num_rows=m, num_columns=n) to print more rows and columns.,\n",
       " 'rmse_by_item': Columns:\n",
       " \titem_id\tstr\n",
       " \tcount\tint\n",
       " \trmse\tfloat\n",
       " \n",
       " Rows: 421\n",
       " \n",
       " Data:\n",
       " +------------+-------+-----------------+\n",
       " |  item_id   | count |       rmse      |\n",
       " +------------+-------+-----------------+\n",
       " | 6303109950 |   1   |  0.738888888889 |\n",
       " | B00004RER0 |   1   |  2.17391304348  |\n",
       " | B00004ZEU5 |   1   |  0.277904328018 |\n",
       " | B001PTUN34 |   1   |  1.67713287473  |\n",
       " | 0800102371 |   1   |  0.614583333333 |\n",
       " | B003WUXIYK |   1   |       0.8       |\n",
       " | 6305300887 |   1   |  0.298295454545 |\n",
       " | B000W8MMO2 |   1   |  0.230769230769 |\n",
       " | B00004WZZN |   1   | 0.0463863369175 |\n",
       " | B001BN4WLS |   1   | 0.0243902439024 |\n",
       " +------------+-------+-----------------+\n",
       " [421 rows x 3 columns]\n",
       " Note: Only the head of the SFrame is printed.\n",
       " You can use print_rows(num_rows=m, num_columns=n) to print more rows and columns.,\n",
       " 'rmse_by_user': Columns:\n",
       " \tuser_id\tstr\n",
       " \tcount\tint\n",
       " \trmse\tfloat\n",
       " \n",
       " Rows: 297\n",
       " \n",
       " Data:\n",
       " +----------------+-------+----------------+\n",
       " |    user_id     | count |      rmse      |\n",
       " +----------------+-------+----------------+\n",
       " | AGPFD6R5S8A0K  |   1   | 0.125670498084 |\n",
       " | A15EXELIYYO95J |   1   | 2.25423728814  |\n",
       " | A1XHNVXCR5BLVZ |   1   | 2.28724120147  |\n",
       " | A3W0V7MD843WF4 |   1   | 0.869894099849 |\n",
       " | A1TA4Z31MKMUGF |   1   | 0.523206751055 |\n",
       " | A3TO9PAY0M6QH2 |   1   | 0.816091954023 |\n",
       " | ADX0F5JQ5DWH4  |   1   | 1.23708206687  |\n",
       " | A3F8W7R5YJC7BV |   1   | 0.612068965517 |\n",
       " | ALI7J6VZCA3UV  |   1   | 0.306436119116 |\n",
       " |  ANDIVKI6DLNJ  |   1   |  3.7520661157  |\n",
       " +----------------+-------+----------------+\n",
       " [297 rows x 3 columns]\n",
       " Note: Only the head of the SFrame is printed.\n",
       " You can use print_rows(num_rows=m, num_columns=n) to print more rows and columns.,\n",
       " 'rmse_overall': 1.2132933294703905}"
      ]
     },
     "execution_count": 9,
     "metadata": {},
     "output_type": "execute_result"
    }
   ],
   "source": [
    "item_model_pearson.evaluate(validation_data, target='rating')"
   ]
  },
  {
   "cell_type": "markdown",
   "metadata": {},
   "source": [
    "#### using cosine similarity"
   ]
  },
  {
   "cell_type": "code",
   "execution_count": 10,
   "metadata": {},
   "outputs": [
    {
     "data": {
      "text/html": [
       "<pre>Recsys training: model = item_similarity</pre>"
      ],
      "text/plain": [
       "Recsys training: model = item_similarity"
      ]
     },
     "metadata": {},
     "output_type": "display_data"
    },
    {
     "data": {
      "text/html": [
       "<pre>Preparing data set.</pre>"
      ],
      "text/plain": [
       "Preparing data set."
      ]
     },
     "metadata": {},
     "output_type": "display_data"
    },
    {
     "data": {
      "text/html": [
       "<pre>    Data has 4606615 observations with 2088467 users and 200936 items.</pre>"
      ],
      "text/plain": [
       "    Data has 4606615 observations with 2088467 users and 200936 items."
      ]
     },
     "metadata": {},
     "output_type": "display_data"
    },
    {
     "data": {
      "text/html": [
       "<pre>    Data prepared in: 9.78246s</pre>"
      ],
      "text/plain": [
       "    Data prepared in: 9.78246s"
      ]
     },
     "metadata": {},
     "output_type": "display_data"
    },
    {
     "data": {
      "text/html": [
       "<pre>Training model from provided data.</pre>"
      ],
      "text/plain": [
       "Training model from provided data."
      ]
     },
     "metadata": {},
     "output_type": "display_data"
    },
    {
     "data": {
      "text/html": [
       "<pre>Gathering per-item and per-user statistics.</pre>"
      ],
      "text/plain": [
       "Gathering per-item and per-user statistics."
      ]
     },
     "metadata": {},
     "output_type": "display_data"
    },
    {
     "data": {
      "text/html": [
       "<pre>+--------------------------------+------------+</pre>"
      ],
      "text/plain": [
       "+--------------------------------+------------+"
      ]
     },
     "metadata": {},
     "output_type": "display_data"
    },
    {
     "data": {
      "text/html": [
       "<pre>| Elapsed Time (Item Statistics) | % Complete |</pre>"
      ],
      "text/plain": [
       "| Elapsed Time (Item Statistics) | % Complete |"
      ]
     },
     "metadata": {},
     "output_type": "display_data"
    },
    {
     "data": {
      "text/html": [
       "<pre>+--------------------------------+------------+</pre>"
      ],
      "text/plain": [
       "+--------------------------------+------------+"
      ]
     },
     "metadata": {},
     "output_type": "display_data"
    },
    {
     "data": {
      "text/html": [
       "<pre>| 25.24ms                        | 0          |</pre>"
      ],
      "text/plain": [
       "| 25.24ms                        | 0          |"
      ]
     },
     "metadata": {},
     "output_type": "display_data"
    },
    {
     "data": {
      "text/html": [
       "<pre>| 849.452ms                      | 100        |</pre>"
      ],
      "text/plain": [
       "| 849.452ms                      | 100        |"
      ]
     },
     "metadata": {},
     "output_type": "display_data"
    },
    {
     "data": {
      "text/html": [
       "<pre>+--------------------------------+------------+</pre>"
      ],
      "text/plain": [
       "+--------------------------------+------------+"
      ]
     },
     "metadata": {},
     "output_type": "display_data"
    },
    {
     "data": {
      "text/html": [
       "<pre>Setting up lookup tables.</pre>"
      ],
      "text/plain": [
       "Setting up lookup tables."
      ]
     },
     "metadata": {},
     "output_type": "display_data"
    },
    {
     "data": {
      "text/html": [
       "<pre>Processing data in one pass using sparse lookup tables.</pre>"
      ],
      "text/plain": [
       "Processing data in one pass using sparse lookup tables."
      ]
     },
     "metadata": {},
     "output_type": "display_data"
    },
    {
     "data": {
      "text/html": [
       "<pre>+-------------------------------------+------------------+-----------------+</pre>"
      ],
      "text/plain": [
       "+-------------------------------------+------------------+-----------------+"
      ]
     },
     "metadata": {},
     "output_type": "display_data"
    },
    {
     "data": {
      "text/html": [
       "<pre>| Elapsed Time (Constructing Lookups) | Total % Complete | Items Processed |</pre>"
      ],
      "text/plain": [
       "| Elapsed Time (Constructing Lookups) | Total % Complete | Items Processed |"
      ]
     },
     "metadata": {},
     "output_type": "display_data"
    },
    {
     "data": {
      "text/html": [
       "<pre>+-------------------------------------+------------------+-----------------+</pre>"
      ],
      "text/plain": [
       "+-------------------------------------+------------------+-----------------+"
      ]
     },
     "metadata": {},
     "output_type": "display_data"
    },
    {
     "data": {
      "text/html": [
       "<pre>| 1.89s                               | 0                | 0               |</pre>"
      ],
      "text/plain": [
       "| 1.89s                               | 0                | 0               |"
      ]
     },
     "metadata": {},
     "output_type": "display_data"
    },
    {
     "data": {
      "text/html": [
       "<pre>| 2.92s                               | 5.5              | 11167           |</pre>"
      ],
      "text/plain": [
       "| 2.92s                               | 5.5              | 11167           |"
      ]
     },
     "metadata": {},
     "output_type": "display_data"
    },
    {
     "data": {
      "text/html": [
       "<pre>| 3.94s                               | 13.25            | 26888           |</pre>"
      ],
      "text/plain": [
       "| 3.94s                               | 13.25            | 26888           |"
      ]
     },
     "metadata": {},
     "output_type": "display_data"
    },
    {
     "data": {
      "text/html": [
       "<pre>| 5.03s                               | 14.25            | 28917           |</pre>"
      ],
      "text/plain": [
       "| 5.03s                               | 14.25            | 28917           |"
      ]
     },
     "metadata": {},
     "output_type": "display_data"
    },
    {
     "data": {
      "text/html": [
       "<pre>| 5.90s                               | 19.75            | 39696           |</pre>"
      ],
      "text/plain": [
       "| 5.90s                               | 19.75            | 39696           |"
      ]
     },
     "metadata": {},
     "output_type": "display_data"
    },
    {
     "data": {
      "text/html": [
       "<pre>| 6.90s                               | 26               | 52375           |</pre>"
      ],
      "text/plain": [
       "| 6.90s                               | 26               | 52375           |"
      ]
     },
     "metadata": {},
     "output_type": "display_data"
    },
    {
     "data": {
      "text/html": [
       "<pre>| 7.90s                               | 27.5             | 55493           |</pre>"
      ],
      "text/plain": [
       "| 7.90s                               | 27.5             | 55493           |"
      ]
     },
     "metadata": {},
     "output_type": "display_data"
    },
    {
     "data": {
      "text/html": [
       "<pre>| 9.04s                               | 29               | 58652           |</pre>"
      ],
      "text/plain": [
       "| 9.04s                               | 29               | 58652           |"
      ]
     },
     "metadata": {},
     "output_type": "display_data"
    },
    {
     "data": {
      "text/html": [
       "<pre>| 10.25s                              | 29.25            | 58907           |</pre>"
      ],
      "text/plain": [
       "| 10.25s                              | 29.25            | 58907           |"
      ]
     },
     "metadata": {},
     "output_type": "display_data"
    },
    {
     "data": {
      "text/html": [
       "<pre>| 10.92s                              | 31.5             | 63681           |</pre>"
      ],
      "text/plain": [
       "| 10.92s                              | 31.5             | 63681           |"
      ]
     },
     "metadata": {},
     "output_type": "display_data"
    },
    {
     "data": {
      "text/html": [
       "<pre>| 11.97s                              | 31.75            | 63932           |</pre>"
      ],
      "text/plain": [
       "| 11.97s                              | 31.75            | 63932           |"
      ]
     },
     "metadata": {},
     "output_type": "display_data"
    },
    {
     "data": {
      "text/html": [
       "<pre>| 13.90s                              | 32.25            | 64884           |</pre>"
      ],
      "text/plain": [
       "| 13.90s                              | 32.25            | 64884           |"
      ]
     },
     "metadata": {},
     "output_type": "display_data"
    },
    {
     "data": {
      "text/html": [
       "<pre>| 13.90s                              | 32.25            | 64885           |</pre>"
      ],
      "text/plain": [
       "| 13.90s                              | 32.25            | 64885           |"
      ]
     },
     "metadata": {},
     "output_type": "display_data"
    },
    {
     "data": {
      "text/html": [
       "<pre>| 14.90s                              | 33.5             | 67511           |</pre>"
      ],
      "text/plain": [
       "| 14.90s                              | 33.5             | 67511           |"
      ]
     },
     "metadata": {},
     "output_type": "display_data"
    },
    {
     "data": {
      "text/html": [
       "<pre>| 15.90s                              | 42               | 84715           |</pre>"
      ],
      "text/plain": [
       "| 15.90s                              | 42               | 84715           |"
      ]
     },
     "metadata": {},
     "output_type": "display_data"
    },
    {
     "data": {
      "text/html": [
       "<pre>| 16.90s                              | 50               | 100819          |</pre>"
      ],
      "text/plain": [
       "| 16.90s                              | 50               | 100819          |"
      ]
     },
     "metadata": {},
     "output_type": "display_data"
    },
    {
     "data": {
      "text/html": [
       "<pre>| 17.93s                              | 52.25            | 105344          |</pre>"
      ],
      "text/plain": [
       "| 17.93s                              | 52.25            | 105344          |"
      ]
     },
     "metadata": {},
     "output_type": "display_data"
    },
    {
     "data": {
      "text/html": [
       "<pre>| 18.91s                              | 52.5             | 105771          |</pre>"
      ],
      "text/plain": [
       "| 18.91s                              | 52.5             | 105771          |"
      ]
     },
     "metadata": {},
     "output_type": "display_data"
    },
    {
     "data": {
      "text/html": [
       "<pre>| 19.91s                              | 53               | 106903          |</pre>"
      ],
      "text/plain": [
       "| 19.91s                              | 53               | 106903          |"
      ]
     },
     "metadata": {},
     "output_type": "display_data"
    },
    {
     "data": {
      "text/html": [
       "<pre>| 21.03s                              | 53.5             | 107617          |</pre>"
      ],
      "text/plain": [
       "| 21.03s                              | 53.5             | 107617          |"
      ]
     },
     "metadata": {},
     "output_type": "display_data"
    },
    {
     "data": {
      "text/html": [
       "<pre>| 21.93s                              | 56.25            | 113369          |</pre>"
      ],
      "text/plain": [
       "| 21.93s                              | 56.25            | 113369          |"
      ]
     },
     "metadata": {},
     "output_type": "display_data"
    },
    {
     "data": {
      "text/html": [
       "<pre>| 23.05s                              | 56.5             | 113852          |</pre>"
      ],
      "text/plain": [
       "| 23.05s                              | 56.5             | 113852          |"
      ]
     },
     "metadata": {},
     "output_type": "display_data"
    },
    {
     "data": {
      "text/html": [
       "<pre>| 23.93s                              | 57.5             | 115790          |</pre>"
      ],
      "text/plain": [
       "| 23.93s                              | 57.5             | 115790          |"
      ]
     },
     "metadata": {},
     "output_type": "display_data"
    },
    {
     "data": {
      "text/html": [
       "<pre>| 25.09s                              | 57.75            | 116288          |</pre>"
      ],
      "text/plain": [
       "| 25.09s                              | 57.75            | 116288          |"
      ]
     },
     "metadata": {},
     "output_type": "display_data"
    },
    {
     "data": {
      "text/html": [
       "<pre>| 26.14s                              | 58.25            | 117062          |</pre>"
      ],
      "text/plain": [
       "| 26.14s                              | 58.25            | 117062          |"
      ]
     },
     "metadata": {},
     "output_type": "display_data"
    },
    {
     "data": {
      "text/html": [
       "<pre>| 26.92s                              | 58.25            | 117440          |</pre>"
      ],
      "text/plain": [
       "| 26.92s                              | 58.25            | 117440          |"
      ]
     },
     "metadata": {},
     "output_type": "display_data"
    },
    {
     "data": {
      "text/html": [
       "<pre>| 27.93s                              | 58.5             | 118005          |</pre>"
      ],
      "text/plain": [
       "| 27.93s                              | 58.5             | 118005          |"
      ]
     },
     "metadata": {},
     "output_type": "display_data"
    },
    {
     "data": {
      "text/html": [
       "<pre>| 29.11s                              | 59.25            | 119509          |</pre>"
      ],
      "text/plain": [
       "| 29.11s                              | 59.25            | 119509          |"
      ]
     },
     "metadata": {},
     "output_type": "display_data"
    },
    {
     "data": {
      "text/html": [
       "<pre>| 30.12s                              | 59.5             | 119739          |</pre>"
      ],
      "text/plain": [
       "| 30.12s                              | 59.5             | 119739          |"
      ]
     },
     "metadata": {},
     "output_type": "display_data"
    },
    {
     "data": {
      "text/html": [
       "<pre>| 31.08s                              | 59.5             | 120048          |</pre>"
      ],
      "text/plain": [
       "| 31.08s                              | 59.5             | 120048          |"
      ]
     },
     "metadata": {},
     "output_type": "display_data"
    },
    {
     "data": {
      "text/html": [
       "<pre>| 31.97s                              | 59.75            | 120208          |</pre>"
      ],
      "text/plain": [
       "| 31.97s                              | 59.75            | 120208          |"
      ]
     },
     "metadata": {},
     "output_type": "display_data"
    },
    {
     "data": {
      "text/html": [
       "<pre>| 32.91s                              | 60               | 120872          |</pre>"
      ],
      "text/plain": [
       "| 32.91s                              | 60               | 120872          |"
      ]
     },
     "metadata": {},
     "output_type": "display_data"
    },
    {
     "data": {
      "text/html": [
       "<pre>| 33.93s                              | 60.25            | 121220          |</pre>"
      ],
      "text/plain": [
       "| 33.93s                              | 60.25            | 121220          |"
      ]
     },
     "metadata": {},
     "output_type": "display_data"
    },
    {
     "data": {
      "text/html": [
       "<pre>| 35.06s                              | 60.25            | 121531          |</pre>"
      ],
      "text/plain": [
       "| 35.06s                              | 60.25            | 121531          |"
      ]
     },
     "metadata": {},
     "output_type": "display_data"
    },
    {
     "data": {
      "text/html": [
       "<pre>| 35.98s                              | 60.5             | 121695          |</pre>"
      ],
      "text/plain": [
       "| 35.98s                              | 60.5             | 121695          |"
      ]
     },
     "metadata": {},
     "output_type": "display_data"
    },
    {
     "data": {
      "text/html": [
       "<pre>| 37.11s                              | 60.75            | 122085          |</pre>"
      ],
      "text/plain": [
       "| 37.11s                              | 60.75            | 122085          |"
      ]
     },
     "metadata": {},
     "output_type": "display_data"
    },
    {
     "data": {
      "text/html": [
       "<pre>| 37.91s                              | 60.75            | 122226          |</pre>"
      ],
      "text/plain": [
       "| 37.91s                              | 60.75            | 122226          |"
      ]
     },
     "metadata": {},
     "output_type": "display_data"
    },
    {
     "data": {
      "text/html": [
       "<pre>| 39.03s                              | 61               | 122620          |</pre>"
      ],
      "text/plain": [
       "| 39.03s                              | 61               | 122620          |"
      ]
     },
     "metadata": {},
     "output_type": "display_data"
    },
    {
     "data": {
      "text/html": [
       "<pre>| 39.92s                              | 61.25            | 123100          |</pre>"
      ],
      "text/plain": [
       "| 39.92s                              | 61.25            | 123100          |"
      ]
     },
     "metadata": {},
     "output_type": "display_data"
    },
    {
     "data": {
      "text/html": [
       "<pre>| 41.26s                              | 61.25            | 123379          |</pre>"
      ],
      "text/plain": [
       "| 41.26s                              | 61.25            | 123379          |"
      ]
     },
     "metadata": {},
     "output_type": "display_data"
    },
    {
     "data": {
      "text/html": [
       "<pre>| 41.92s                              | 61.25            | 123527          |</pre>"
      ],
      "text/plain": [
       "| 41.92s                              | 61.25            | 123527          |"
      ]
     },
     "metadata": {},
     "output_type": "display_data"
    },
    {
     "data": {
      "text/html": [
       "<pre>| 43.34s                              | 61.75            | 124191          |</pre>"
      ],
      "text/plain": [
       "| 43.34s                              | 61.75            | 124191          |"
      ]
     },
     "metadata": {},
     "output_type": "display_data"
    },
    {
     "data": {
      "text/html": [
       "<pre>| 44.17s                              | 61.75            | 124407          |</pre>"
      ],
      "text/plain": [
       "| 44.17s                              | 61.75            | 124407          |"
      ]
     },
     "metadata": {},
     "output_type": "display_data"
    },
    {
     "data": {
      "text/html": [
       "<pre>| 44.94s                              | 62               | 124655          |</pre>"
      ],
      "text/plain": [
       "| 44.94s                              | 62               | 124655          |"
      ]
     },
     "metadata": {},
     "output_type": "display_data"
    },
    {
     "data": {
      "text/html": [
       "<pre>| 46.02s                              | 62               | 125017          |</pre>"
      ],
      "text/plain": [
       "| 46.02s                              | 62               | 125017          |"
      ]
     },
     "metadata": {},
     "output_type": "display_data"
    },
    {
     "data": {
      "text/html": [
       "<pre>| 47.05s                              | 62.25            | 125428          |</pre>"
      ],
      "text/plain": [
       "| 47.05s                              | 62.25            | 125428          |"
      ]
     },
     "metadata": {},
     "output_type": "display_data"
    },
    {
     "data": {
      "text/html": [
       "<pre>| 47.97s                              | 62.75            | 126575          |</pre>"
      ],
      "text/plain": [
       "| 47.97s                              | 62.75            | 126575          |"
      ]
     },
     "metadata": {},
     "output_type": "display_data"
    },
    {
     "data": {
      "text/html": [
       "<pre>| 49.07s                              | 63               | 126947          |</pre>"
      ],
      "text/plain": [
       "| 49.07s                              | 63               | 126947          |"
      ]
     },
     "metadata": {},
     "output_type": "display_data"
    },
    {
     "data": {
      "text/html": [
       "<pre>| 50.05s                              | 63.25            | 127193          |</pre>"
      ],
      "text/plain": [
       "| 50.05s                              | 63.25            | 127193          |"
      ]
     },
     "metadata": {},
     "output_type": "display_data"
    },
    {
     "data": {
      "text/html": [
       "<pre>| 51.19s                              | 63.25            | 127463          |</pre>"
      ],
      "text/plain": [
       "| 51.19s                              | 63.25            | 127463          |"
      ]
     },
     "metadata": {},
     "output_type": "display_data"
    },
    {
     "data": {
      "text/html": [
       "<pre>| 52.12s                              | 63.5             | 127627          |</pre>"
      ],
      "text/plain": [
       "| 52.12s                              | 63.5             | 127627          |"
      ]
     },
     "metadata": {},
     "output_type": "display_data"
    },
    {
     "data": {
      "text/html": [
       "<pre>| 52.97s                              | 63.5             | 127819          |</pre>"
      ],
      "text/plain": [
       "| 52.97s                              | 63.5             | 127819          |"
      ]
     },
     "metadata": {},
     "output_type": "display_data"
    },
    {
     "data": {
      "text/html": [
       "<pre>| 54.21s                              | 63.75            | 128184          |</pre>"
      ],
      "text/plain": [
       "| 54.21s                              | 63.75            | 128184          |"
      ]
     },
     "metadata": {},
     "output_type": "display_data"
    },
    {
     "data": {
      "text/html": [
       "<pre>| 54.97s                              | 63.75            | 128493          |</pre>"
      ],
      "text/plain": [
       "| 54.97s                              | 63.75            | 128493          |"
      ]
     },
     "metadata": {},
     "output_type": "display_data"
    },
    {
     "data": {
      "text/html": [
       "<pre>| 56.00s                              | 64               | 128627          |</pre>"
      ],
      "text/plain": [
       "| 56.00s                              | 64               | 128627          |"
      ]
     },
     "metadata": {},
     "output_type": "display_data"
    },
    {
     "data": {
      "text/html": [
       "<pre>| 56.92s                              | 64               | 128729          |</pre>"
      ],
      "text/plain": [
       "| 56.92s                              | 64               | 128729          |"
      ]
     },
     "metadata": {},
     "output_type": "display_data"
    },
    {
     "data": {
      "text/html": [
       "<pre>| 58.02s                              | 64               | 128915          |</pre>"
      ],
      "text/plain": [
       "| 58.02s                              | 64               | 128915          |"
      ]
     },
     "metadata": {},
     "output_type": "display_data"
    },
    {
     "data": {
      "text/html": [
       "<pre>| 58.94s                              | 64.25            | 129252          |</pre>"
      ],
      "text/plain": [
       "| 58.94s                              | 64.25            | 129252          |"
      ]
     },
     "metadata": {},
     "output_type": "display_data"
    },
    {
     "data": {
      "text/html": [
       "<pre>| 59.94s                              | 64.25            | 129411          |</pre>"
      ],
      "text/plain": [
       "| 59.94s                              | 64.25            | 129411          |"
      ]
     },
     "metadata": {},
     "output_type": "display_data"
    },
    {
     "data": {
      "text/html": [
       "<pre>| 1m 1s                               | 64.75            | 130349          |</pre>"
      ],
      "text/plain": [
       "| 1m 1s                               | 64.75            | 130349          |"
      ]
     },
     "metadata": {},
     "output_type": "display_data"
    },
    {
     "data": {
      "text/html": [
       "<pre>| 1m 2s                               | 64.75            | 130396          |</pre>"
      ],
      "text/plain": [
       "| 1m 2s                               | 64.75            | 130396          |"
      ]
     },
     "metadata": {},
     "output_type": "display_data"
    },
    {
     "data": {
      "text/html": [
       "<pre>| 1m 3s                               | 64.75            | 130554          |</pre>"
      ],
      "text/plain": [
       "| 1m 3s                               | 64.75            | 130554          |"
      ]
     },
     "metadata": {},
     "output_type": "display_data"
    },
    {
     "data": {
      "text/html": [
       "<pre>| 1m 4s                               | 65               | 131080          |</pre>"
      ],
      "text/plain": [
       "| 1m 4s                               | 65               | 131080          |"
      ]
     },
     "metadata": {},
     "output_type": "display_data"
    },
    {
     "data": {
      "text/html": [
       "<pre>| 1m 5s                               | 65.25            | 131251          |</pre>"
      ],
      "text/plain": [
       "| 1m 5s                               | 65.25            | 131251          |"
      ]
     },
     "metadata": {},
     "output_type": "display_data"
    },
    {
     "data": {
      "text/html": [
       "<pre>| 1m 6s                               | 65.5             | 131659          |</pre>"
      ],
      "text/plain": [
       "| 1m 6s                               | 65.5             | 131659          |"
      ]
     },
     "metadata": {},
     "output_type": "display_data"
    },
    {
     "data": {
      "text/html": [
       "<pre>| 1m 6s                               | 65.5             | 131709          |</pre>"
      ],
      "text/plain": [
       "| 1m 6s                               | 65.5             | 131709          |"
      ]
     },
     "metadata": {},
     "output_type": "display_data"
    },
    {
     "data": {
      "text/html": [
       "<pre>| 1m 8s                               | 65.5             | 131821          |</pre>"
      ],
      "text/plain": [
       "| 1m 8s                               | 65.5             | 131821          |"
      ]
     },
     "metadata": {},
     "output_type": "display_data"
    },
    {
     "data": {
      "text/html": [
       "<pre>| 1m 8s                               | 65.5             | 131837          |</pre>"
      ],
      "text/plain": [
       "| 1m 8s                               | 65.5             | 131837          |"
      ]
     },
     "metadata": {},
     "output_type": "display_data"
    },
    {
     "data": {
      "text/html": [
       "<pre>| 1m 10s                              | 65.75            | 132129          |</pre>"
      ],
      "text/plain": [
       "| 1m 10s                              | 65.75            | 132129          |"
      ]
     },
     "metadata": {},
     "output_type": "display_data"
    },
    {
     "data": {
      "text/html": [
       "<pre>| 1m 10s                              | 65.75            | 132215          |</pre>"
      ],
      "text/plain": [
       "| 1m 10s                              | 65.75            | 132215          |"
      ]
     },
     "metadata": {},
     "output_type": "display_data"
    },
    {
     "data": {
      "text/html": [
       "<pre>| 1m 11s                              | 66               | 132805          |</pre>"
      ],
      "text/plain": [
       "| 1m 11s                              | 66               | 132805          |"
      ]
     },
     "metadata": {},
     "output_type": "display_data"
    },
    {
     "data": {
      "text/html": [
       "<pre>| 1m 13s                              | 66.25            | 133446          |</pre>"
      ],
      "text/plain": [
       "| 1m 13s                              | 66.25            | 133446          |"
      ]
     },
     "metadata": {},
     "output_type": "display_data"
    },
    {
     "data": {
      "text/html": [
       "<pre>| 1m 13s                              | 66.5             | 133623          |</pre>"
      ],
      "text/plain": [
       "| 1m 13s                              | 66.5             | 133623          |"
      ]
     },
     "metadata": {},
     "output_type": "display_data"
    },
    {
     "data": {
      "text/html": [
       "<pre>| 1m 15s                              | 66.5             | 133803          |</pre>"
      ],
      "text/plain": [
       "| 1m 15s                              | 66.5             | 133803          |"
      ]
     },
     "metadata": {},
     "output_type": "display_data"
    },
    {
     "data": {
      "text/html": [
       "<pre>| 1m 15s                              | 66.75            | 134413          |</pre>"
      ],
      "text/plain": [
       "| 1m 15s                              | 66.75            | 134413          |"
      ]
     },
     "metadata": {},
     "output_type": "display_data"
    },
    {
     "data": {
      "text/html": [
       "<pre>| 1m 17s                              | 66.75            | 134506          |</pre>"
      ],
      "text/plain": [
       "| 1m 17s                              | 66.75            | 134506          |"
      ]
     },
     "metadata": {},
     "output_type": "display_data"
    },
    {
     "data": {
      "text/html": [
       "<pre>| 1m 18s                              | 66.75            | 134609          |</pre>"
      ],
      "text/plain": [
       "| 1m 18s                              | 66.75            | 134609          |"
      ]
     },
     "metadata": {},
     "output_type": "display_data"
    },
    {
     "data": {
      "text/html": [
       "<pre>| 1m 18s                              | 67.25            | 135263          |</pre>"
      ],
      "text/plain": [
       "| 1m 18s                              | 67.25            | 135263          |"
      ]
     },
     "metadata": {},
     "output_type": "display_data"
    },
    {
     "data": {
      "text/html": [
       "<pre>| 1m 20s                              | 67.25            | 135335          |</pre>"
      ],
      "text/plain": [
       "| 1m 20s                              | 67.25            | 135335          |"
      ]
     },
     "metadata": {},
     "output_type": "display_data"
    },
    {
     "data": {
      "text/html": [
       "<pre>| 1m 21s                              | 67.25            | 135472          |</pre>"
      ],
      "text/plain": [
       "| 1m 21s                              | 67.25            | 135472          |"
      ]
     },
     "metadata": {},
     "output_type": "display_data"
    },
    {
     "data": {
      "text/html": [
       "<pre>| 1m 21s                              | 67.5             | 135635          |</pre>"
      ],
      "text/plain": [
       "| 1m 21s                              | 67.5             | 135635          |"
      ]
     },
     "metadata": {},
     "output_type": "display_data"
    },
    {
     "data": {
      "text/html": [
       "<pre>| 1m 22s                              | 67.5             | 135874          |</pre>"
      ],
      "text/plain": [
       "| 1m 22s                              | 67.5             | 135874          |"
      ]
     },
     "metadata": {},
     "output_type": "display_data"
    },
    {
     "data": {
      "text/html": [
       "<pre>| 1m 23s                              | 67.5             | 136107          |</pre>"
      ],
      "text/plain": [
       "| 1m 23s                              | 67.5             | 136107          |"
      ]
     },
     "metadata": {},
     "output_type": "display_data"
    },
    {
     "data": {
      "text/html": [
       "<pre>| 1m 25s                              | 67.75            | 136610          |</pre>"
      ],
      "text/plain": [
       "| 1m 25s                              | 67.75            | 136610          |"
      ]
     },
     "metadata": {},
     "output_type": "display_data"
    },
    {
     "data": {
      "text/html": [
       "<pre>| 1m 26s                              | 68               | 136805          |</pre>"
      ],
      "text/plain": [
       "| 1m 26s                              | 68               | 136805          |"
      ]
     },
     "metadata": {},
     "output_type": "display_data"
    },
    {
     "data": {
      "text/html": [
       "<pre>| 1m 26s                              | 68               | 137050          |</pre>"
      ],
      "text/plain": [
       "| 1m 26s                              | 68               | 137050          |"
      ]
     },
     "metadata": {},
     "output_type": "display_data"
    },
    {
     "data": {
      "text/html": [
       "<pre>| 1m 27s                              | 68.25            | 137253          |</pre>"
      ],
      "text/plain": [
       "| 1m 27s                              | 68.25            | 137253          |"
      ]
     },
     "metadata": {},
     "output_type": "display_data"
    },
    {
     "data": {
      "text/html": [
       "<pre>| 1m 29s                              | 68.5             | 138139          |</pre>"
      ],
      "text/plain": [
       "| 1m 29s                              | 68.5             | 138139          |"
      ]
     },
     "metadata": {},
     "output_type": "display_data"
    },
    {
     "data": {
      "text/html": [
       "<pre>| 1m 30s                              | 68.75            | 138358          |</pre>"
      ],
      "text/plain": [
       "| 1m 30s                              | 68.75            | 138358          |"
      ]
     },
     "metadata": {},
     "output_type": "display_data"
    },
    {
     "data": {
      "text/html": [
       "<pre>| 1m 30s                              | 68.75            | 138568          |</pre>"
      ],
      "text/plain": [
       "| 1m 30s                              | 68.75            | 138568          |"
      ]
     },
     "metadata": {},
     "output_type": "display_data"
    },
    {
     "data": {
      "text/html": [
       "<pre>| 1m 31s                              | 69               | 138809          |</pre>"
      ],
      "text/plain": [
       "| 1m 31s                              | 69               | 138809          |"
      ]
     },
     "metadata": {},
     "output_type": "display_data"
    },
    {
     "data": {
      "text/html": [
       "<pre>| 1m 32s                              | 69               | 138916          |</pre>"
      ],
      "text/plain": [
       "| 1m 32s                              | 69               | 138916          |"
      ]
     },
     "metadata": {},
     "output_type": "display_data"
    },
    {
     "data": {
      "text/html": [
       "<pre>| 1m 33s                              | 69.25            | 139299          |</pre>"
      ],
      "text/plain": [
       "| 1m 33s                              | 69.25            | 139299          |"
      ]
     },
     "metadata": {},
     "output_type": "display_data"
    },
    {
     "data": {
      "text/html": [
       "<pre>| 1m 34s                              | 69.25            | 139422          |</pre>"
      ],
      "text/plain": [
       "| 1m 34s                              | 69.25            | 139422          |"
      ]
     },
     "metadata": {},
     "output_type": "display_data"
    },
    {
     "data": {
      "text/html": [
       "<pre>| 1m 36s                              | 69.25            | 139577          |</pre>"
      ],
      "text/plain": [
       "| 1m 36s                              | 69.25            | 139577          |"
      ]
     },
     "metadata": {},
     "output_type": "display_data"
    },
    {
     "data": {
      "text/html": [
       "<pre>| 1m 36s                              | 69.5             | 139703          |</pre>"
      ],
      "text/plain": [
       "| 1m 36s                              | 69.5             | 139703          |"
      ]
     },
     "metadata": {},
     "output_type": "display_data"
    },
    {
     "data": {
      "text/html": [
       "<pre>| 1m 37s                              | 69.5             | 139857          |</pre>"
      ],
      "text/plain": [
       "| 1m 37s                              | 69.5             | 139857          |"
      ]
     },
     "metadata": {},
     "output_type": "display_data"
    },
    {
     "data": {
      "text/html": [
       "<pre>| 1m 38s                              | 69.5             | 140073          |</pre>"
      ],
      "text/plain": [
       "| 1m 38s                              | 69.5             | 140073          |"
      ]
     },
     "metadata": {},
     "output_type": "display_data"
    },
    {
     "data": {
      "text/html": [
       "<pre>| 1m 39s                              | 69.75            | 140496          |</pre>"
      ],
      "text/plain": [
       "| 1m 39s                              | 69.75            | 140496          |"
      ]
     },
     "metadata": {},
     "output_type": "display_data"
    },
    {
     "data": {
      "text/html": [
       "<pre>| 1m 40s                              | 69.75            | 140618          |</pre>"
      ],
      "text/plain": [
       "| 1m 40s                              | 69.75            | 140618          |"
      ]
     },
     "metadata": {},
     "output_type": "display_data"
    },
    {
     "data": {
      "text/html": [
       "<pre>| 1m 41s                              | 70               | 140809          |</pre>"
      ],
      "text/plain": [
       "| 1m 41s                              | 70               | 140809          |"
      ]
     },
     "metadata": {},
     "output_type": "display_data"
    },
    {
     "data": {
      "text/html": [
       "<pre>| 1m 42s                              | 70               | 141053          |</pre>"
      ],
      "text/plain": [
       "| 1m 42s                              | 70               | 141053          |"
      ]
     },
     "metadata": {},
     "output_type": "display_data"
    },
    {
     "data": {
      "text/html": [
       "<pre>| 1m 43s                              | 70.25            | 141259          |</pre>"
      ],
      "text/plain": [
       "| 1m 43s                              | 70.25            | 141259          |"
      ]
     },
     "metadata": {},
     "output_type": "display_data"
    },
    {
     "data": {
      "text/html": [
       "<pre>| 1m 44s                              | 70.75            | 142277          |</pre>"
      ],
      "text/plain": [
       "| 1m 44s                              | 70.75            | 142277          |"
      ]
     },
     "metadata": {},
     "output_type": "display_data"
    },
    {
     "data": {
      "text/html": [
       "<pre>| 1m 45s                              | 70.75            | 142620          |</pre>"
      ],
      "text/plain": [
       "| 1m 45s                              | 70.75            | 142620          |"
      ]
     },
     "metadata": {},
     "output_type": "display_data"
    },
    {
     "data": {
      "text/html": [
       "<pre>| 1m 47s                              | 71               | 142790          |</pre>"
      ],
      "text/plain": [
       "| 1m 47s                              | 71               | 142790          |"
      ]
     },
     "metadata": {},
     "output_type": "display_data"
    },
    {
     "data": {
      "text/html": [
       "<pre>| 1m 47s                              | 71               | 142949          |</pre>"
      ],
      "text/plain": [
       "| 1m 47s                              | 71               | 142949          |"
      ]
     },
     "metadata": {},
     "output_type": "display_data"
    },
    {
     "data": {
      "text/html": [
       "<pre>| 1m 48s                              | 71.25            | 143237          |</pre>"
      ],
      "text/plain": [
       "| 1m 48s                              | 71.25            | 143237          |"
      ]
     },
     "metadata": {},
     "output_type": "display_data"
    },
    {
     "data": {
      "text/html": [
       "<pre>| 1m 49s                              | 71.25            | 143554          |</pre>"
      ],
      "text/plain": [
       "| 1m 49s                              | 71.25            | 143554          |"
      ]
     },
     "metadata": {},
     "output_type": "display_data"
    },
    {
     "data": {
      "text/html": [
       "<pre>| 1m 51s                              | 71.5             | 143759          |</pre>"
      ],
      "text/plain": [
       "| 1m 51s                              | 71.5             | 143759          |"
      ]
     },
     "metadata": {},
     "output_type": "display_data"
    },
    {
     "data": {
      "text/html": [
       "<pre>| 1m 51s                              | 71.5             | 143807          |</pre>"
      ],
      "text/plain": [
       "| 1m 51s                              | 71.5             | 143807          |"
      ]
     },
     "metadata": {},
     "output_type": "display_data"
    },
    {
     "data": {
      "text/html": [
       "<pre>| 1m 52s                              | 71.5             | 144069          |</pre>"
      ],
      "text/plain": [
       "| 1m 52s                              | 71.5             | 144069          |"
      ]
     },
     "metadata": {},
     "output_type": "display_data"
    },
    {
     "data": {
      "text/html": [
       "<pre>| 1m 53s                              | 71.75            | 144203          |</pre>"
      ],
      "text/plain": [
       "| 1m 53s                              | 71.75            | 144203          |"
      ]
     },
     "metadata": {},
     "output_type": "display_data"
    },
    {
     "data": {
      "text/html": [
       "<pre>| 1m 55s                              | 71.75            | 144510          |</pre>"
      ],
      "text/plain": [
       "| 1m 55s                              | 71.75            | 144510          |"
      ]
     },
     "metadata": {},
     "output_type": "display_data"
    },
    {
     "data": {
      "text/html": [
       "<pre>| 1m 55s                              | 72               | 144689          |</pre>"
      ],
      "text/plain": [
       "| 1m 55s                              | 72               | 144689          |"
      ]
     },
     "metadata": {},
     "output_type": "display_data"
    },
    {
     "data": {
      "text/html": [
       "<pre>| 1m 56s                              | 72               | 144845          |</pre>"
      ],
      "text/plain": [
       "| 1m 56s                              | 72               | 144845          |"
      ]
     },
     "metadata": {},
     "output_type": "display_data"
    },
    {
     "data": {
      "text/html": [
       "<pre>| 1m 57s                              | 72.25            | 145625          |</pre>"
      ],
      "text/plain": [
       "| 1m 57s                              | 72.25            | 145625          |"
      ]
     },
     "metadata": {},
     "output_type": "display_data"
    },
    {
     "data": {
      "text/html": [
       "<pre>| 1m 58s                              | 72.5             | 145800          |</pre>"
      ],
      "text/plain": [
       "| 1m 58s                              | 72.5             | 145800          |"
      ]
     },
     "metadata": {},
     "output_type": "display_data"
    },
    {
     "data": {
      "text/html": [
       "<pre>| 1m 59s                              | 72.5             | 145948          |</pre>"
      ],
      "text/plain": [
       "| 1m 59s                              | 72.5             | 145948          |"
      ]
     },
     "metadata": {},
     "output_type": "display_data"
    },
    {
     "data": {
      "text/html": [
       "<pre>| 2m 1s                               | 72.5             | 146123          |</pre>"
      ],
      "text/plain": [
       "| 2m 1s                               | 72.5             | 146123          |"
      ]
     },
     "metadata": {},
     "output_type": "display_data"
    },
    {
     "data": {
      "text/html": [
       "<pre>| 2m 1s                               | 72.75            | 146335          |</pre>"
      ],
      "text/plain": [
       "| 2m 1s                               | 72.75            | 146335          |"
      ]
     },
     "metadata": {},
     "output_type": "display_data"
    },
    {
     "data": {
      "text/html": [
       "<pre>| 2m 2s                               | 72.75            | 146563          |</pre>"
      ],
      "text/plain": [
       "| 2m 2s                               | 72.75            | 146563          |"
      ]
     },
     "metadata": {},
     "output_type": "display_data"
    },
    {
     "data": {
      "text/html": [
       "<pre>| 2m 3s                               | 73               | 146741          |</pre>"
      ],
      "text/plain": [
       "| 2m 3s                               | 73               | 146741          |"
      ]
     },
     "metadata": {},
     "output_type": "display_data"
    },
    {
     "data": {
      "text/html": [
       "<pre>| 2m 4s                               | 73               | 147006          |</pre>"
      ],
      "text/plain": [
       "| 2m 4s                               | 73               | 147006          |"
      ]
     },
     "metadata": {},
     "output_type": "display_data"
    },
    {
     "data": {
      "text/html": [
       "<pre>| 2m 5s                               | 73.5             | 147734          |</pre>"
      ],
      "text/plain": [
       "| 2m 5s                               | 73.5             | 147734          |"
      ]
     },
     "metadata": {},
     "output_type": "display_data"
    },
    {
     "data": {
      "text/html": [
       "<pre>| 2m 7s                               | 73.5             | 147884          |</pre>"
      ],
      "text/plain": [
       "| 2m 7s                               | 73.5             | 147884          |"
      ]
     },
     "metadata": {},
     "output_type": "display_data"
    },
    {
     "data": {
      "text/html": [
       "<pre>| 2m 7s                               | 73.5             | 147974          |</pre>"
      ],
      "text/plain": [
       "| 2m 7s                               | 73.5             | 147974          |"
      ]
     },
     "metadata": {},
     "output_type": "display_data"
    },
    {
     "data": {
      "text/html": [
       "<pre>| 2m 9s                               | 73.5             | 148121          |</pre>"
      ],
      "text/plain": [
       "| 2m 9s                               | 73.5             | 148121          |"
      ]
     },
     "metadata": {},
     "output_type": "display_data"
    },
    {
     "data": {
      "text/html": [
       "<pre>| 2m 10s                              | 73.75            | 148322          |</pre>"
      ],
      "text/plain": [
       "| 2m 10s                              | 73.75            | 148322          |"
      ]
     },
     "metadata": {},
     "output_type": "display_data"
    },
    {
     "data": {
      "text/html": [
       "<pre>| 2m 10s                              | 73.75            | 148565          |</pre>"
      ],
      "text/plain": [
       "| 2m 10s                              | 73.75            | 148565          |"
      ]
     },
     "metadata": {},
     "output_type": "display_data"
    },
    {
     "data": {
      "text/html": [
       "<pre>| 2m 11s                              | 74               | 148731          |</pre>"
      ],
      "text/plain": [
       "| 2m 11s                              | 74               | 148731          |"
      ]
     },
     "metadata": {},
     "output_type": "display_data"
    },
    {
     "data": {
      "text/html": [
       "<pre>| 2m 13s                              | 74               | 148885          |</pre>"
      ],
      "text/plain": [
       "| 2m 13s                              | 74               | 148885          |"
      ]
     },
     "metadata": {},
     "output_type": "display_data"
    },
    {
     "data": {
      "text/html": [
       "<pre>| 2m 13s                              | 74               | 149059          |</pre>"
      ],
      "text/plain": [
       "| 2m 13s                              | 74               | 149059          |"
      ]
     },
     "metadata": {},
     "output_type": "display_data"
    },
    {
     "data": {
      "text/html": [
       "<pre>| 2m 14s                              | 74.5             | 149723          |</pre>"
      ],
      "text/plain": [
       "| 2m 14s                              | 74.5             | 149723          |"
      ]
     },
     "metadata": {},
     "output_type": "display_data"
    },
    {
     "data": {
      "text/html": [
       "<pre>| 2m 16s                              | 74.5             | 150034          |</pre>"
      ],
      "text/plain": [
       "| 2m 16s                              | 74.5             | 150034          |"
      ]
     },
     "metadata": {},
     "output_type": "display_data"
    },
    {
     "data": {
      "text/html": [
       "<pre>| 2m 16s                              | 74.5             | 150147          |</pre>"
      ],
      "text/plain": [
       "| 2m 16s                              | 74.5             | 150147          |"
      ]
     },
     "metadata": {},
     "output_type": "display_data"
    },
    {
     "data": {
      "text/html": [
       "<pre>| 2m 17s                              | 74.75            | 150319          |</pre>"
      ],
      "text/plain": [
       "| 2m 17s                              | 74.75            | 150319          |"
      ]
     },
     "metadata": {},
     "output_type": "display_data"
    },
    {
     "data": {
      "text/html": [
       "<pre>| 2m 18s                              | 74.75            | 150636          |</pre>"
      ],
      "text/plain": [
       "| 2m 18s                              | 74.75            | 150636          |"
      ]
     },
     "metadata": {},
     "output_type": "display_data"
    },
    {
     "data": {
      "text/html": [
       "<pre>| 2m 19s                              | 75               | 150739          |</pre>"
      ],
      "text/plain": [
       "| 2m 19s                              | 75               | 150739          |"
      ]
     },
     "metadata": {},
     "output_type": "display_data"
    },
    {
     "data": {
      "text/html": [
       "<pre>| 2m 20s                              | 75               | 150968          |</pre>"
      ],
      "text/plain": [
       "| 2m 20s                              | 75               | 150968          |"
      ]
     },
     "metadata": {},
     "output_type": "display_data"
    },
    {
     "data": {
      "text/html": [
       "<pre>| 2m 21s                              | 75               | 151162          |</pre>"
      ],
      "text/plain": [
       "| 2m 21s                              | 75               | 151162          |"
      ]
     },
     "metadata": {},
     "output_type": "display_data"
    },
    {
     "data": {
      "text/html": [
       "<pre>| 2m 22s                              | 75.25            | 151352          |</pre>"
      ],
      "text/plain": [
       "| 2m 22s                              | 75.25            | 151352          |"
      ]
     },
     "metadata": {},
     "output_type": "display_data"
    },
    {
     "data": {
      "text/html": [
       "<pre>| 2m 23s                              | 75.25            | 151555          |</pre>"
      ],
      "text/plain": [
       "| 2m 23s                              | 75.25            | 151555          |"
      ]
     },
     "metadata": {},
     "output_type": "display_data"
    },
    {
     "data": {
      "text/html": [
       "<pre>| 2m 24s                              | 75.5             | 151756          |</pre>"
      ],
      "text/plain": [
       "| 2m 24s                              | 75.5             | 151756          |"
      ]
     },
     "metadata": {},
     "output_type": "display_data"
    },
    {
     "data": {
      "text/html": [
       "<pre>| 2m 26s                              | 75.5             | 151918          |</pre>"
      ],
      "text/plain": [
       "| 2m 26s                              | 75.5             | 151918          |"
      ]
     },
     "metadata": {},
     "output_type": "display_data"
    },
    {
     "data": {
      "text/html": [
       "<pre>| 2m 26s                              | 75.5             | 152171          |</pre>"
      ],
      "text/plain": [
       "| 2m 26s                              | 75.5             | 152171          |"
      ]
     },
     "metadata": {},
     "output_type": "display_data"
    },
    {
     "data": {
      "text/html": [
       "<pre>| 2m 28s                              | 75.75            | 152421          |</pre>"
      ],
      "text/plain": [
       "| 2m 28s                              | 75.75            | 152421          |"
      ]
     },
     "metadata": {},
     "output_type": "display_data"
    },
    {
     "data": {
      "text/html": [
       "<pre>| 2m 28s                              | 76               | 152791          |</pre>"
      ],
      "text/plain": [
       "| 2m 28s                              | 76               | 152791          |"
      ]
     },
     "metadata": {},
     "output_type": "display_data"
    },
    {
     "data": {
      "text/html": [
       "<pre>| 2m 29s                              | 76               | 152917          |</pre>"
      ],
      "text/plain": [
       "| 2m 29s                              | 76               | 152917          |"
      ]
     },
     "metadata": {},
     "output_type": "display_data"
    },
    {
     "data": {
      "text/html": [
       "<pre>| 2m 31s                              | 76               | 153190          |</pre>"
      ],
      "text/plain": [
       "| 2m 31s                              | 76               | 153190          |"
      ]
     },
     "metadata": {},
     "output_type": "display_data"
    },
    {
     "data": {
      "text/html": [
       "<pre>| 2m 31s                              | 76.5             | 153716          |</pre>"
      ],
      "text/plain": [
       "| 2m 31s                              | 76.5             | 153716          |"
      ]
     },
     "metadata": {},
     "output_type": "display_data"
    },
    {
     "data": {
      "text/html": [
       "<pre>| 2m 33s                              | 76.5             | 153940          |</pre>"
      ],
      "text/plain": [
       "| 2m 33s                              | 76.5             | 153940          |"
      ]
     },
     "metadata": {},
     "output_type": "display_data"
    },
    {
     "data": {
      "text/html": [
       "<pre>| 2m 33s                              | 76.5             | 154138          |</pre>"
      ],
      "text/plain": [
       "| 2m 33s                              | 76.5             | 154138          |"
      ]
     },
     "metadata": {},
     "output_type": "display_data"
    },
    {
     "data": {
      "text/html": [
       "<pre>| 2m 35s                              | 76.75            | 154418          |</pre>"
      ],
      "text/plain": [
       "| 2m 35s                              | 76.75            | 154418          |"
      ]
     },
     "metadata": {},
     "output_type": "display_data"
    },
    {
     "data": {
      "text/html": [
       "<pre>| 2m 35s                              | 76.75            | 154608          |</pre>"
      ],
      "text/plain": [
       "| 2m 35s                              | 76.75            | 154608          |"
      ]
     },
     "metadata": {},
     "output_type": "display_data"
    },
    {
     "data": {
      "text/html": [
       "<pre>| 2m 36s                              | 77               | 154915          |</pre>"
      ],
      "text/plain": [
       "| 2m 36s                              | 77               | 154915          |"
      ]
     },
     "metadata": {},
     "output_type": "display_data"
    },
    {
     "data": {
      "text/html": [
       "<pre>| 2m 37s                              | 77               | 155158          |</pre>"
      ],
      "text/plain": [
       "| 2m 37s                              | 77               | 155158          |"
      ]
     },
     "metadata": {},
     "output_type": "display_data"
    },
    {
     "data": {
      "text/html": [
       "<pre>| 2m 38s                              | 77.25            | 155496          |</pre>"
      ],
      "text/plain": [
       "| 2m 38s                              | 77.25            | 155496          |"
      ]
     },
     "metadata": {},
     "output_type": "display_data"
    },
    {
     "data": {
      "text/html": [
       "<pre>| 2m 39s                              | 77.5             | 156061          |</pre>"
      ],
      "text/plain": [
       "| 2m 39s                              | 77.5             | 156061          |"
      ]
     },
     "metadata": {},
     "output_type": "display_data"
    },
    {
     "data": {
      "text/html": [
       "<pre>| 2m 40s                              | 77.75            | 156313          |</pre>"
      ],
      "text/plain": [
       "| 2m 40s                              | 77.75            | 156313          |"
      ]
     },
     "metadata": {},
     "output_type": "display_data"
    },
    {
     "data": {
      "text/html": [
       "<pre>| 2m 41s                              | 77.75            | 156464          |</pre>"
      ],
      "text/plain": [
       "| 2m 41s                              | 77.75            | 156464          |"
      ]
     },
     "metadata": {},
     "output_type": "display_data"
    },
    {
     "data": {
      "text/html": [
       "<pre>| 2m 43s                              | 77.75            | 156724          |</pre>"
      ],
      "text/plain": [
       "| 2m 43s                              | 77.75            | 156724          |"
      ]
     },
     "metadata": {},
     "output_type": "display_data"
    },
    {
     "data": {
      "text/html": [
       "<pre>| 2m 43s                              | 78               | 156986          |</pre>"
      ],
      "text/plain": [
       "| 2m 43s                              | 78               | 156986          |"
      ]
     },
     "metadata": {},
     "output_type": "display_data"
    },
    {
     "data": {
      "text/html": [
       "<pre>| 2m 44s                              | 78               | 157215          |</pre>"
      ],
      "text/plain": [
       "| 2m 44s                              | 78               | 157215          |"
      ]
     },
     "metadata": {},
     "output_type": "display_data"
    },
    {
     "data": {
      "text/html": [
       "<pre>| 2m 45s                              | 78.25            | 157599          |</pre>"
      ],
      "text/plain": [
       "| 2m 45s                              | 78.25            | 157599          |"
      ]
     },
     "metadata": {},
     "output_type": "display_data"
    },
    {
     "data": {
      "text/html": [
       "<pre>| 2m 46s                              | 78.5             | 157822          |</pre>"
      ],
      "text/plain": [
       "| 2m 46s                              | 78.5             | 157822          |"
      ]
     },
     "metadata": {},
     "output_type": "display_data"
    },
    {
     "data": {
      "text/html": [
       "<pre>| 2m 47s                              | 78.5             | 158132          |</pre>"
      ],
      "text/plain": [
       "| 2m 47s                              | 78.5             | 158132          |"
      ]
     },
     "metadata": {},
     "output_type": "display_data"
    },
    {
     "data": {
      "text/html": [
       "<pre>| 2m 48s                              | 81.25            | 163382          |</pre>"
      ],
      "text/plain": [
       "| 2m 48s                              | 81.25            | 163382          |"
      ]
     },
     "metadata": {},
     "output_type": "display_data"
    },
    {
     "data": {
      "text/html": [
       "<pre>| 2m 49s                              | 81.25            | 163597          |</pre>"
      ],
      "text/plain": [
       "| 2m 49s                              | 81.25            | 163597          |"
      ]
     },
     "metadata": {},
     "output_type": "display_data"
    },
    {
     "data": {
      "text/html": [
       "<pre>| 2m 50s                              | 81.5             | 163803          |</pre>"
      ],
      "text/plain": [
       "| 2m 50s                              | 81.5             | 163803          |"
      ]
     },
     "metadata": {},
     "output_type": "display_data"
    },
    {
     "data": {
      "text/html": [
       "<pre>| 2m 51s                              | 81.5             | 164031          |</pre>"
      ],
      "text/plain": [
       "| 2m 51s                              | 81.5             | 164031          |"
      ]
     },
     "metadata": {},
     "output_type": "display_data"
    },
    {
     "data": {
      "text/html": [
       "<pre>| 2m 52s                              | 81.75            | 164301          |</pre>"
      ],
      "text/plain": [
       "| 2m 52s                              | 81.75            | 164301          |"
      ]
     },
     "metadata": {},
     "output_type": "display_data"
    },
    {
     "data": {
      "text/html": [
       "<pre>| 2m 54s                              | 81.75            | 164429          |</pre>"
      ],
      "text/plain": [
       "| 2m 54s                              | 81.75            | 164429          |"
      ]
     },
     "metadata": {},
     "output_type": "display_data"
    },
    {
     "data": {
      "text/html": [
       "<pre>| 2m 54s                              | 81.75            | 164527          |</pre>"
      ],
      "text/plain": [
       "| 2m 54s                              | 81.75            | 164527          |"
      ]
     },
     "metadata": {},
     "output_type": "display_data"
    },
    {
     "data": {
      "text/html": [
       "<pre>| 2m 56s                              | 81.75            | 164667          |</pre>"
      ],
      "text/plain": [
       "| 2m 56s                              | 81.75            | 164667          |"
      ]
     },
     "metadata": {},
     "output_type": "display_data"
    },
    {
     "data": {
      "text/html": [
       "<pre>| 2m 56s                              | 82               | 164807          |</pre>"
      ],
      "text/plain": [
       "| 2m 56s                              | 82               | 164807          |"
      ]
     },
     "metadata": {},
     "output_type": "display_data"
    },
    {
     "data": {
      "text/html": [
       "<pre>| 2m 57s                              | 82               | 165000          |</pre>"
      ],
      "text/plain": [
       "| 2m 57s                              | 82               | 165000          |"
      ]
     },
     "metadata": {},
     "output_type": "display_data"
    },
    {
     "data": {
      "text/html": [
       "<pre>| 2m 59s                              | 82               | 165235          |</pre>"
      ],
      "text/plain": [
       "| 2m 59s                              | 82               | 165235          |"
      ]
     },
     "metadata": {},
     "output_type": "display_data"
    },
    {
     "data": {
      "text/html": [
       "<pre>| 2m 59s                              | 82.25            | 165449          |</pre>"
      ],
      "text/plain": [
       "| 2m 59s                              | 82.25            | 165449          |"
      ]
     },
     "metadata": {},
     "output_type": "display_data"
    },
    {
     "data": {
      "text/html": [
       "<pre>| 3m 1s                               | 82.25            | 165651          |</pre>"
      ],
      "text/plain": [
       "| 3m 1s                               | 82.25            | 165651          |"
      ]
     },
     "metadata": {},
     "output_type": "display_data"
    },
    {
     "data": {
      "text/html": [
       "<pre>| 3m 1s                               | 82.5             | 165867          |</pre>"
      ],
      "text/plain": [
       "| 3m 1s                               | 82.5             | 165867          |"
      ]
     },
     "metadata": {},
     "output_type": "display_data"
    },
    {
     "data": {
      "text/html": [
       "<pre>| 3m 2s                               | 82.5             | 166101          |</pre>"
      ],
      "text/plain": [
       "| 3m 2s                               | 82.5             | 166101          |"
      ]
     },
     "metadata": {},
     "output_type": "display_data"
    },
    {
     "data": {
      "text/html": [
       "<pre>| 3m 3s                               | 82.75            | 166374          |</pre>"
      ],
      "text/plain": [
       "| 3m 3s                               | 82.75            | 166374          |"
      ]
     },
     "metadata": {},
     "output_type": "display_data"
    },
    {
     "data": {
      "text/html": [
       "<pre>| 3m 4s                               | 82.75            | 166502          |</pre>"
      ],
      "text/plain": [
       "| 3m 4s                               | 82.75            | 166502          |"
      ]
     },
     "metadata": {},
     "output_type": "display_data"
    },
    {
     "data": {
      "text/html": [
       "<pre>| 3m 5s                               | 82.75            | 166721          |</pre>"
      ],
      "text/plain": [
       "| 3m 5s                               | 82.75            | 166721          |"
      ]
     },
     "metadata": {},
     "output_type": "display_data"
    },
    {
     "data": {
      "text/html": [
       "<pre>| 3m 6s                               | 83               | 166950          |</pre>"
      ],
      "text/plain": [
       "| 3m 6s                               | 83               | 166950          |"
      ]
     },
     "metadata": {},
     "output_type": "display_data"
    },
    {
     "data": {
      "text/html": [
       "<pre>| 3m 8s                               | 83               | 167149          |</pre>"
      ],
      "text/plain": [
       "| 3m 8s                               | 83               | 167149          |"
      ]
     },
     "metadata": {},
     "output_type": "display_data"
    },
    {
     "data": {
      "text/html": [
       "<pre>| 3m 9s                               | 83.25            | 167365          |</pre>"
      ],
      "text/plain": [
       "| 3m 9s                               | 83.25            | 167365          |"
      ]
     },
     "metadata": {},
     "output_type": "display_data"
    },
    {
     "data": {
      "text/html": [
       "<pre>| 3m 9s                               | 83.25            | 167570          |</pre>"
      ],
      "text/plain": [
       "| 3m 9s                               | 83.25            | 167570          |"
      ]
     },
     "metadata": {},
     "output_type": "display_data"
    },
    {
     "data": {
      "text/html": [
       "<pre>| 3m 11s                              | 83.25            | 167775          |</pre>"
      ],
      "text/plain": [
       "| 3m 11s                              | 83.25            | 167775          |"
      ]
     },
     "metadata": {},
     "output_type": "display_data"
    },
    {
     "data": {
      "text/html": [
       "<pre>| 3m 11s                              | 83.5             | 168009          |</pre>"
      ],
      "text/plain": [
       "| 3m 11s                              | 83.5             | 168009          |"
      ]
     },
     "metadata": {},
     "output_type": "display_data"
    },
    {
     "data": {
      "text/html": [
       "<pre>| 3m 13s                              | 83.5             | 168213          |</pre>"
      ],
      "text/plain": [
       "| 3m 13s                              | 83.5             | 168213          |"
      ]
     },
     "metadata": {},
     "output_type": "display_data"
    },
    {
     "data": {
      "text/html": [
       "<pre>| 3m 13s                              | 83.75            | 168399          |</pre>"
      ],
      "text/plain": [
       "| 3m 13s                              | 83.75            | 168399          |"
      ]
     },
     "metadata": {},
     "output_type": "display_data"
    },
    {
     "data": {
      "text/html": [
       "<pre>| 3m 14s                              | 83.75            | 168583          |</pre>"
      ],
      "text/plain": [
       "| 3m 14s                              | 83.75            | 168583          |"
      ]
     },
     "metadata": {},
     "output_type": "display_data"
    },
    {
     "data": {
      "text/html": [
       "<pre>| 3m 15s                              | 83.75            | 168772          |</pre>"
      ],
      "text/plain": [
       "| 3m 15s                              | 83.75            | 168772          |"
      ]
     },
     "metadata": {},
     "output_type": "display_data"
    },
    {
     "data": {
      "text/html": [
       "<pre>| 3m 16s                              | 84               | 168946          |</pre>"
      ],
      "text/plain": [
       "| 3m 16s                              | 84               | 168946          |"
      ]
     },
     "metadata": {},
     "output_type": "display_data"
    },
    {
     "data": {
      "text/html": [
       "<pre>| 3m 17s                              | 84               | 169157          |</pre>"
      ],
      "text/plain": [
       "| 3m 17s                              | 84               | 169157          |"
      ]
     },
     "metadata": {},
     "output_type": "display_data"
    },
    {
     "data": {
      "text/html": [
       "<pre>| 3m 18s                              | 84.25            | 169360          |</pre>"
      ],
      "text/plain": [
       "| 3m 18s                              | 84.25            | 169360          |"
      ]
     },
     "metadata": {},
     "output_type": "display_data"
    },
    {
     "data": {
      "text/html": [
       "<pre>| 3m 19s                              | 84.25            | 169532          |</pre>"
      ],
      "text/plain": [
       "| 3m 19s                              | 84.25            | 169532          |"
      ]
     },
     "metadata": {},
     "output_type": "display_data"
    },
    {
     "data": {
      "text/html": [
       "<pre>| 3m 20s                              | 84.25            | 169723          |</pre>"
      ],
      "text/plain": [
       "| 3m 20s                              | 84.25            | 169723          |"
      ]
     },
     "metadata": {},
     "output_type": "display_data"
    },
    {
     "data": {
      "text/html": [
       "<pre>| 3m 21s                              | 84.5             | 169903          |</pre>"
      ],
      "text/plain": [
       "| 3m 21s                              | 84.5             | 169903          |"
      ]
     },
     "metadata": {},
     "output_type": "display_data"
    },
    {
     "data": {
      "text/html": [
       "<pre>| 3m 23s                              | 84.5             | 170123          |</pre>"
      ],
      "text/plain": [
       "| 3m 23s                              | 84.5             | 170123          |"
      ]
     },
     "metadata": {},
     "output_type": "display_data"
    },
    {
     "data": {
      "text/html": [
       "<pre>| 3m 23s                              | 84.75            | 170348          |</pre>"
      ],
      "text/plain": [
       "| 3m 23s                              | 84.75            | 170348          |"
      ]
     },
     "metadata": {},
     "output_type": "display_data"
    },
    {
     "data": {
      "text/html": [
       "<pre>| 3m 24s                              | 84.75            | 170559          |</pre>"
      ],
      "text/plain": [
       "| 3m 24s                              | 84.75            | 170559          |"
      ]
     },
     "metadata": {},
     "output_type": "display_data"
    },
    {
     "data": {
      "text/html": [
       "<pre>| 3m 25s                              | 84.75            | 170720          |</pre>"
      ],
      "text/plain": [
       "| 3m 25s                              | 84.75            | 170720          |"
      ]
     },
     "metadata": {},
     "output_type": "display_data"
    },
    {
     "data": {
      "text/html": [
       "<pre>| 3m 27s                              | 85               | 170898          |</pre>"
      ],
      "text/plain": [
       "| 3m 27s                              | 85               | 170898          |"
      ]
     },
     "metadata": {},
     "output_type": "display_data"
    },
    {
     "data": {
      "text/html": [
       "<pre>| 3m 28s                              | 85               | 171097          |</pre>"
      ],
      "text/plain": [
       "| 3m 28s                              | 85               | 171097          |"
      ]
     },
     "metadata": {},
     "output_type": "display_data"
    },
    {
     "data": {
      "text/html": [
       "<pre>| 3m 29s                              | 85               | 171283          |</pre>"
      ],
      "text/plain": [
       "| 3m 29s                              | 85               | 171283          |"
      ]
     },
     "metadata": {},
     "output_type": "display_data"
    },
    {
     "data": {
      "text/html": [
       "<pre>| 3m 30s                              | 85.25            | 171490          |</pre>"
      ],
      "text/plain": [
       "| 3m 30s                              | 85.25            | 171490          |"
      ]
     },
     "metadata": {},
     "output_type": "display_data"
    },
    {
     "data": {
      "text/html": [
       "<pre>| 3m 31s                              | 85.25            | 171707          |</pre>"
      ],
      "text/plain": [
       "| 3m 31s                              | 85.25            | 171707          |"
      ]
     },
     "metadata": {},
     "output_type": "display_data"
    },
    {
     "data": {
      "text/html": [
       "<pre>| 3m 32s                              | 85.5             | 171922          |</pre>"
      ],
      "text/plain": [
       "| 3m 32s                              | 85.5             | 171922          |"
      ]
     },
     "metadata": {},
     "output_type": "display_data"
    },
    {
     "data": {
      "text/html": [
       "<pre>| 3m 33s                              | 85.5             | 172158          |</pre>"
      ],
      "text/plain": [
       "| 3m 33s                              | 85.5             | 172158          |"
      ]
     },
     "metadata": {},
     "output_type": "display_data"
    },
    {
     "data": {
      "text/html": [
       "<pre>| 3m 34s                              | 85.75            | 172337          |</pre>"
      ],
      "text/plain": [
       "| 3m 34s                              | 85.75            | 172337          |"
      ]
     },
     "metadata": {},
     "output_type": "display_data"
    },
    {
     "data": {
      "text/html": [
       "<pre>| 3m 35s                              | 85.75            | 172550          |</pre>"
      ],
      "text/plain": [
       "| 3m 35s                              | 85.75            | 172550          |"
      ]
     },
     "metadata": {},
     "output_type": "display_data"
    },
    {
     "data": {
      "text/html": [
       "<pre>| 3m 36s                              | 85.75            | 172792          |</pre>"
      ],
      "text/plain": [
       "| 3m 36s                              | 85.75            | 172792          |"
      ]
     },
     "metadata": {},
     "output_type": "display_data"
    },
    {
     "data": {
      "text/html": [
       "<pre>| 3m 37s                              | 86               | 173034          |</pre>"
      ],
      "text/plain": [
       "| 3m 37s                              | 86               | 173034          |"
      ]
     },
     "metadata": {},
     "output_type": "display_data"
    },
    {
     "data": {
      "text/html": [
       "<pre>| 3m 38s                              | 86               | 173199          |</pre>"
      ],
      "text/plain": [
       "| 3m 38s                              | 86               | 173199          |"
      ]
     },
     "metadata": {},
     "output_type": "display_data"
    },
    {
     "data": {
      "text/html": [
       "<pre>| 3m 39s                              | 86.25            | 173358          |</pre>"
      ],
      "text/plain": [
       "| 3m 39s                              | 86.25            | 173358          |"
      ]
     },
     "metadata": {},
     "output_type": "display_data"
    },
    {
     "data": {
      "text/html": [
       "<pre>| 3m 40s                              | 86.25            | 173574          |</pre>"
      ],
      "text/plain": [
       "| 3m 40s                              | 86.25            | 173574          |"
      ]
     },
     "metadata": {},
     "output_type": "display_data"
    },
    {
     "data": {
      "text/html": [
       "<pre>| 3m 41s                              | 86.25            | 173795          |</pre>"
      ],
      "text/plain": [
       "| 3m 41s                              | 86.25            | 173795          |"
      ]
     },
     "metadata": {},
     "output_type": "display_data"
    },
    {
     "data": {
      "text/html": [
       "<pre>| 3m 42s                              | 86.5             | 174014          |</pre>"
      ],
      "text/plain": [
       "| 3m 42s                              | 86.5             | 174014          |"
      ]
     },
     "metadata": {},
     "output_type": "display_data"
    },
    {
     "data": {
      "text/html": [
       "<pre>| 3m 43s                              | 86.5             | 174264          |</pre>"
      ],
      "text/plain": [
       "| 3m 43s                              | 86.5             | 174264          |"
      ]
     },
     "metadata": {},
     "output_type": "display_data"
    },
    {
     "data": {
      "text/html": [
       "<pre>| 3m 44s                              | 86.75            | 174481          |</pre>"
      ],
      "text/plain": [
       "| 3m 44s                              | 86.75            | 174481          |"
      ]
     },
     "metadata": {},
     "output_type": "display_data"
    },
    {
     "data": {
      "text/html": [
       "<pre>| 3m 45s                              | 86.75            | 174743          |</pre>"
      ],
      "text/plain": [
       "| 3m 45s                              | 86.75            | 174743          |"
      ]
     },
     "metadata": {},
     "output_type": "display_data"
    },
    {
     "data": {
      "text/html": [
       "<pre>| 3m 46s                              | 87               | 174992          |</pre>"
      ],
      "text/plain": [
       "| 3m 46s                              | 87               | 174992          |"
      ]
     },
     "metadata": {},
     "output_type": "display_data"
    },
    {
     "data": {
      "text/html": [
       "<pre>| 3m 47s                              | 87               | 175211          |</pre>"
      ],
      "text/plain": [
       "| 3m 47s                              | 87               | 175211          |"
      ]
     },
     "metadata": {},
     "output_type": "display_data"
    },
    {
     "data": {
      "text/html": [
       "<pre>| 3m 48s                              | 87.25            | 175448          |</pre>"
      ],
      "text/plain": [
       "| 3m 48s                              | 87.25            | 175448          |"
      ]
     },
     "metadata": {},
     "output_type": "display_data"
    },
    {
     "data": {
      "text/html": [
       "<pre>| 3m 49s                              | 87.25            | 175675          |</pre>"
      ],
      "text/plain": [
       "| 3m 49s                              | 87.25            | 175675          |"
      ]
     },
     "metadata": {},
     "output_type": "display_data"
    },
    {
     "data": {
      "text/html": [
       "<pre>| 3m 50s                              | 87.5             | 175820          |</pre>"
      ],
      "text/plain": [
       "| 3m 50s                              | 87.5             | 175820          |"
      ]
     },
     "metadata": {},
     "output_type": "display_data"
    },
    {
     "data": {
      "text/html": [
       "<pre>| 3m 51s                              | 87.5             | 176041          |</pre>"
      ],
      "text/plain": [
       "| 3m 51s                              | 87.5             | 176041          |"
      ]
     },
     "metadata": {},
     "output_type": "display_data"
    },
    {
     "data": {
      "text/html": [
       "<pre>| 3m 52s                              | 87.5             | 176270          |</pre>"
      ],
      "text/plain": [
       "| 3m 52s                              | 87.5             | 176270          |"
      ]
     },
     "metadata": {},
     "output_type": "display_data"
    },
    {
     "data": {
      "text/html": [
       "<pre>| 3m 53s                              | 87.75            | 176510          |</pre>"
      ],
      "text/plain": [
       "| 3m 53s                              | 87.75            | 176510          |"
      ]
     },
     "metadata": {},
     "output_type": "display_data"
    },
    {
     "data": {
      "text/html": [
       "<pre>| 3m 54s                              | 87.75            | 176768          |</pre>"
      ],
      "text/plain": [
       "| 3m 54s                              | 87.75            | 176768          |"
      ]
     },
     "metadata": {},
     "output_type": "display_data"
    },
    {
     "data": {
      "text/html": [
       "<pre>| 3m 55s                              | 88               | 177014          |</pre>"
      ],
      "text/plain": [
       "| 3m 55s                              | 88               | 177014          |"
      ]
     },
     "metadata": {},
     "output_type": "display_data"
    },
    {
     "data": {
      "text/html": [
       "<pre>| 3m 56s                              | 88.25            | 177330          |</pre>"
      ],
      "text/plain": [
       "| 3m 56s                              | 88.25            | 177330          |"
      ]
     },
     "metadata": {},
     "output_type": "display_data"
    },
    {
     "data": {
      "text/html": [
       "<pre>| 3m 57s                              | 88.25            | 177552          |</pre>"
      ],
      "text/plain": [
       "| 3m 57s                              | 88.25            | 177552          |"
      ]
     },
     "metadata": {},
     "output_type": "display_data"
    },
    {
     "data": {
      "text/html": [
       "<pre>| 3m 58s                              | 88.25            | 177825          |</pre>"
      ],
      "text/plain": [
       "| 3m 58s                              | 88.25            | 177825          |"
      ]
     },
     "metadata": {},
     "output_type": "display_data"
    },
    {
     "data": {
      "text/html": [
       "<pre>| 3m 59s                              | 88.5             | 178108          |</pre>"
      ],
      "text/plain": [
       "| 3m 59s                              | 88.5             | 178108          |"
      ]
     },
     "metadata": {},
     "output_type": "display_data"
    },
    {
     "data": {
      "text/html": [
       "<pre>| 4m 0s                               | 88.75            | 178554          |</pre>"
      ],
      "text/plain": [
       "| 4m 0s                               | 88.75            | 178554          |"
      ]
     },
     "metadata": {},
     "output_type": "display_data"
    },
    {
     "data": {
      "text/html": [
       "<pre>| 4m 1s                               | 89               | 178837          |</pre>"
      ],
      "text/plain": [
       "| 4m 1s                               | 89               | 178837          |"
      ]
     },
     "metadata": {},
     "output_type": "display_data"
    },
    {
     "data": {
      "text/html": [
       "<pre>| 4m 2s                               | 89.25            | 179708          |</pre>"
      ],
      "text/plain": [
       "| 4m 2s                               | 89.25            | 179708          |"
      ]
     },
     "metadata": {},
     "output_type": "display_data"
    },
    {
     "data": {
      "text/html": [
       "<pre>| 4m 3s                               | 89.5             | 180127          |</pre>"
      ],
      "text/plain": [
       "| 4m 3s                               | 89.5             | 180127          |"
      ]
     },
     "metadata": {},
     "output_type": "display_data"
    },
    {
     "data": {
      "text/html": [
       "<pre>| 4m 7s                               | 89.75            | 180558          |</pre>"
      ],
      "text/plain": [
       "| 4m 7s                               | 89.75            | 180558          |"
      ]
     },
     "metadata": {},
     "output_type": "display_data"
    },
    {
     "data": {
      "text/html": [
       "<pre>| 4m 9s                               | 89.75            | 180841          |</pre>"
      ],
      "text/plain": [
       "| 4m 9s                               | 89.75            | 180841          |"
      ]
     },
     "metadata": {},
     "output_type": "display_data"
    },
    {
     "data": {
      "text/html": [
       "<pre>| 4m 9s                               | 90               | 180899          |</pre>"
      ],
      "text/plain": [
       "| 4m 9s                               | 90               | 180899          |"
      ]
     },
     "metadata": {},
     "output_type": "display_data"
    },
    {
     "data": {
      "text/html": [
       "<pre>| 4m 10s                              | 90               | 181005          |</pre>"
      ],
      "text/plain": [
       "| 4m 10s                              | 90               | 181005          |"
      ]
     },
     "metadata": {},
     "output_type": "display_data"
    },
    {
     "data": {
      "text/html": [
       "<pre>| 4m 17s                              | 90.5             | 182138          |</pre>"
      ],
      "text/plain": [
       "| 4m 17s                              | 90.5             | 182138          |"
      ]
     },
     "metadata": {},
     "output_type": "display_data"
    },
    {
     "data": {
      "text/html": [
       "<pre>| 4m 18s                              | 90.5             | 182300          |</pre>"
      ],
      "text/plain": [
       "| 4m 18s                              | 90.5             | 182300          |"
      ]
     },
     "metadata": {},
     "output_type": "display_data"
    },
    {
     "data": {
      "text/html": [
       "<pre>| 4m 19s                              | 90.75            | 182438          |</pre>"
      ],
      "text/plain": [
       "| 4m 19s                              | 90.75            | 182438          |"
      ]
     },
     "metadata": {},
     "output_type": "display_data"
    },
    {
     "data": {
      "text/html": [
       "<pre>| 4m 23s                              | 91               | 183168          |</pre>"
      ],
      "text/plain": [
       "| 4m 23s                              | 91               | 183168          |"
      ]
     },
     "metadata": {},
     "output_type": "display_data"
    },
    {
     "data": {
      "text/html": [
       "<pre>| 4m 24s                              | 91.25            | 183370          |</pre>"
      ],
      "text/plain": [
       "| 4m 24s                              | 91.25            | 183370          |"
      ]
     },
     "metadata": {},
     "output_type": "display_data"
    },
    {
     "data": {
      "text/html": [
       "<pre>| 4m 26s                              | 91.25            | 183668          |</pre>"
      ],
      "text/plain": [
       "| 4m 26s                              | 91.25            | 183668          |"
      ]
     },
     "metadata": {},
     "output_type": "display_data"
    },
    {
     "data": {
      "text/html": [
       "<pre>| 4m 30s                              | 91.5             | 184000          |</pre>"
      ],
      "text/plain": [
       "| 4m 30s                              | 91.5             | 184000          |"
      ]
     },
     "metadata": {},
     "output_type": "display_data"
    },
    {
     "data": {
      "text/html": [
       "<pre>| 5m 1s                               | 93.75            | 188473          |</pre>"
      ],
      "text/plain": [
       "| 5m 1s                               | 93.75            | 188473          |"
      ]
     },
     "metadata": {},
     "output_type": "display_data"
    },
    {
     "data": {
      "text/html": [
       "<pre>| 5m 13s                              | 94.5             | 190372          |</pre>"
      ],
      "text/plain": [
       "| 5m 13s                              | 94.5             | 190372          |"
      ]
     },
     "metadata": {},
     "output_type": "display_data"
    },
    {
     "data": {
      "text/html": [
       "<pre>| 5m 18s                              | 95               | 191065          |</pre>"
      ],
      "text/plain": [
       "| 5m 18s                              | 95               | 191065          |"
      ]
     },
     "metadata": {},
     "output_type": "display_data"
    },
    {
     "data": {
      "text/html": [
       "<pre>| 5m 19s                              | 95               | 191229          |</pre>"
      ],
      "text/plain": [
       "| 5m 19s                              | 95               | 191229          |"
      ]
     },
     "metadata": {},
     "output_type": "display_data"
    },
    {
     "data": {
      "text/html": [
       "<pre>| 5m 21s                              | 95.25            | 191488          |</pre>"
      ],
      "text/plain": [
       "| 5m 21s                              | 95.25            | 191488          |"
      ]
     },
     "metadata": {},
     "output_type": "display_data"
    },
    {
     "data": {
      "text/html": [
       "<pre>| 5m 22s                              | 95.25            | 191685          |</pre>"
      ],
      "text/plain": [
       "| 5m 22s                              | 95.25            | 191685          |"
      ]
     },
     "metadata": {},
     "output_type": "display_data"
    },
    {
     "data": {
      "text/html": [
       "<pre>| 5m 22s                              | 95.25            | 191755          |</pre>"
      ],
      "text/plain": [
       "| 5m 22s                              | 95.25            | 191755          |"
      ]
     },
     "metadata": {},
     "output_type": "display_data"
    },
    {
     "data": {
      "text/html": [
       "<pre>| 5m 24s                              | 95.5             | 192087          |</pre>"
      ],
      "text/plain": [
       "| 5m 24s                              | 95.5             | 192087          |"
      ]
     },
     "metadata": {},
     "output_type": "display_data"
    },
    {
     "data": {
      "text/html": [
       "<pre>| 5m 26s                              | 95.5             | 192323          |</pre>"
      ],
      "text/plain": [
       "| 5m 26s                              | 95.5             | 192323          |"
      ]
     },
     "metadata": {},
     "output_type": "display_data"
    },
    {
     "data": {
      "text/html": [
       "<pre>| 5m 26s                              | 95.5             | 192384          |</pre>"
      ],
      "text/plain": [
       "| 5m 26s                              | 95.5             | 192384          |"
      ]
     },
     "metadata": {},
     "output_type": "display_data"
    },
    {
     "data": {
      "text/html": [
       "<pre>| 5m 28s                              | 95.75            | 192616          |</pre>"
      ],
      "text/plain": [
       "| 5m 28s                              | 95.75            | 192616          |"
      ]
     },
     "metadata": {},
     "output_type": "display_data"
    },
    {
     "data": {
      "text/html": [
       "<pre>| 5m 29s                              | 95.75            | 192699          |</pre>"
      ],
      "text/plain": [
       "| 5m 29s                              | 95.75            | 192699          |"
      ]
     },
     "metadata": {},
     "output_type": "display_data"
    },
    {
     "data": {
      "text/html": [
       "<pre>| 5m 29s                              | 95.75            | 192812          |</pre>"
      ],
      "text/plain": [
       "| 5m 29s                              | 95.75            | 192812          |"
      ]
     },
     "metadata": {},
     "output_type": "display_data"
    },
    {
     "data": {
      "text/html": [
       "<pre>| 5m 37s                              | 96.5             | 193918          |</pre>"
      ],
      "text/plain": [
       "| 5m 37s                              | 96.5             | 193918          |"
      ]
     },
     "metadata": {},
     "output_type": "display_data"
    },
    {
     "data": {
      "text/html": [
       "<pre>| 6m 7s                               | 98.75            | 198576          |</pre>"
      ],
      "text/plain": [
       "| 6m 7s                               | 98.75            | 198576          |"
      ]
     },
     "metadata": {},
     "output_type": "display_data"
    },
    {
     "data": {
      "text/html": [
       "<pre>| 6m 13s                              | 99               | 199199          |</pre>"
      ],
      "text/plain": [
       "| 6m 13s                              | 99               | 199199          |"
      ]
     },
     "metadata": {},
     "output_type": "display_data"
    },
    {
     "data": {
      "text/html": [
       "<pre>| 6m 15s                              | 99               | 199367          |</pre>"
      ],
      "text/plain": [
       "| 6m 15s                              | 99               | 199367          |"
      ]
     },
     "metadata": {},
     "output_type": "display_data"
    },
    {
     "data": {
      "text/html": [
       "<pre>| 6m 16s                              | 99.25            | 199481          |</pre>"
      ],
      "text/plain": [
       "| 6m 16s                              | 99.25            | 199481          |"
      ]
     },
     "metadata": {},
     "output_type": "display_data"
    },
    {
     "data": {
      "text/html": [
       "<pre>| 6m 17s                              | 99.25            | 199626          |</pre>"
      ],
      "text/plain": [
       "| 6m 17s                              | 99.25            | 199626          |"
      ]
     },
     "metadata": {},
     "output_type": "display_data"
    },
    {
     "data": {
      "text/html": [
       "<pre>| 6m 19s                              | 99.25            | 199827          |</pre>"
      ],
      "text/plain": [
       "| 6m 19s                              | 99.25            | 199827          |"
      ]
     },
     "metadata": {},
     "output_type": "display_data"
    },
    {
     "data": {
      "text/html": [
       "<pre>| 6m 19s                              | 99.25            | 199833          |</pre>"
      ],
      "text/plain": [
       "| 6m 19s                              | 99.25            | 199833          |"
      ]
     },
     "metadata": {},
     "output_type": "display_data"
    },
    {
     "data": {
      "text/html": [
       "<pre>| 6m 23s                              | 99.5             | 200392          |</pre>"
      ],
      "text/plain": [
       "| 6m 23s                              | 99.5             | 200392          |"
      ]
     },
     "metadata": {},
     "output_type": "display_data"
    },
    {
     "data": {
      "text/html": [
       "<pre>| 6m 27s                              | 99.75            | 200881          |</pre>"
      ],
      "text/plain": [
       "| 6m 27s                              | 99.75            | 200881          |"
      ]
     },
     "metadata": {},
     "output_type": "display_data"
    },
    {
     "data": {
      "text/html": [
       "<pre>| 6m 47s                              | 100              | 200936          |</pre>"
      ],
      "text/plain": [
       "| 6m 47s                              | 100              | 200936          |"
      ]
     },
     "metadata": {},
     "output_type": "display_data"
    },
    {
     "data": {
      "text/html": [
       "<pre>+-------------------------------------+------------------+-----------------+</pre>"
      ],
      "text/plain": [
       "+-------------------------------------+------------------+-----------------+"
      ]
     },
     "metadata": {},
     "output_type": "display_data"
    },
    {
     "data": {
      "text/html": [
       "<pre>Finalizing lookup tables.</pre>"
      ],
      "text/plain": [
       "Finalizing lookup tables."
      ]
     },
     "metadata": {},
     "output_type": "display_data"
    },
    {
     "data": {
      "text/html": [
       "<pre>Generating candidate set for working with new users.</pre>"
      ],
      "text/plain": [
       "Generating candidate set for working with new users."
      ]
     },
     "metadata": {},
     "output_type": "display_data"
    },
    {
     "data": {
      "text/html": [
       "<pre>Finished training in 408.417s</pre>"
      ],
      "text/plain": [
       "Finished training in 408.417s"
      ]
     },
     "metadata": {},
     "output_type": "display_data"
    }
   ],
   "source": [
    "item_model_cosine = gl.recommender.item_similarity_recommender.create(training_data, 'user_id', 'item_id',\n",
    "                                                       target = 'rating', similarity_type = 'cosine')"
   ]
  },
  {
   "cell_type": "code",
   "execution_count": 11,
   "metadata": {},
   "outputs": [
    {
     "data": {
      "text/html": [
       "<div style=\"max-height:1000px;max-width:1500px;overflow:auto;\"><table frame=\"box\" rules=\"cols\">\n",
       "    <tr>\n",
       "        <th style=\"padding-left: 1em; padding-right: 1em; text-align: center\">user_id</th>\n",
       "        <th style=\"padding-left: 1em; padding-right: 1em; text-align: center\">item_id</th>\n",
       "        <th style=\"padding-left: 1em; padding-right: 1em; text-align: center\">score</th>\n",
       "        <th style=\"padding-left: 1em; padding-right: 1em; text-align: center\">rank</th>\n",
       "    </tr>\n",
       "    <tr>\n",
       "        <td style=\"padding-left: 1em; padding-right: 1em; text-align: center; vertical-align: top\">A13AZVPEWEK1YC</td>\n",
       "        <td style=\"padding-left: 1em; padding-right: 1em; text-align: center; vertical-align: top\">B008JFUO72</td>\n",
       "        <td style=\"padding-left: 1em; padding-right: 1em; text-align: center; vertical-align: top\">0.00788052678108</td>\n",
       "        <td style=\"padding-left: 1em; padding-right: 1em; text-align: center; vertical-align: top\">1</td>\n",
       "    </tr>\n",
       "    <tr>\n",
       "        <td style=\"padding-left: 1em; padding-right: 1em; text-align: center; vertical-align: top\">A13AZVPEWEK1YC</td>\n",
       "        <td style=\"padding-left: 1em; padding-right: 1em; text-align: center; vertical-align: top\">B0059XTU1S</td>\n",
       "        <td style=\"padding-left: 1em; padding-right: 1em; text-align: center; vertical-align: top\">0.00701835155487</td>\n",
       "        <td style=\"padding-left: 1em; padding-right: 1em; text-align: center; vertical-align: top\">2</td>\n",
       "    </tr>\n",
       "    <tr>\n",
       "        <td style=\"padding-left: 1em; padding-right: 1em; text-align: center; vertical-align: top\">A13AZVPEWEK1YC</td>\n",
       "        <td style=\"padding-left: 1em; padding-right: 1em; text-align: center; vertical-align: top\">B008JFUO36</td>\n",
       "        <td style=\"padding-left: 1em; padding-right: 1em; text-align: center; vertical-align: top\">0.00666397094727</td>\n",
       "        <td style=\"padding-left: 1em; padding-right: 1em; text-align: center; vertical-align: top\">3</td>\n",
       "    </tr>\n",
       "    <tr>\n",
       "        <td style=\"padding-left: 1em; padding-right: 1em; text-align: center; vertical-align: top\">A13AZVPEWEK1YC</td>\n",
       "        <td style=\"padding-left: 1em; padding-right: 1em; text-align: center; vertical-align: top\">B004NSUXHU</td>\n",
       "        <td style=\"padding-left: 1em; padding-right: 1em; text-align: center; vertical-align: top\">0.00649637937546</td>\n",
       "        <td style=\"padding-left: 1em; padding-right: 1em; text-align: center; vertical-align: top\">4</td>\n",
       "    </tr>\n",
       "    <tr>\n",
       "        <td style=\"padding-left: 1em; padding-right: 1em; text-align: center; vertical-align: top\">A13AZVPEWEK1YC</td>\n",
       "        <td style=\"padding-left: 1em; padding-right: 1em; text-align: center; vertical-align: top\">B008JFUQZ2</td>\n",
       "        <td style=\"padding-left: 1em; padding-right: 1em; text-align: center; vertical-align: top\">0.00639806866646</td>\n",
       "        <td style=\"padding-left: 1em; padding-right: 1em; text-align: center; vertical-align: top\">5</td>\n",
       "    </tr>\n",
       "    <tr>\n",
       "        <td style=\"padding-left: 1em; padding-right: 1em; text-align: center; vertical-align: top\">A1EQZH1RGLW6T3</td>\n",
       "        <td style=\"padding-left: 1em; padding-right: 1em; text-align: center; vertical-align: top\">B008JFUO72</td>\n",
       "        <td style=\"padding-left: 1em; padding-right: 1em; text-align: center; vertical-align: top\">0.00788052678108</td>\n",
       "        <td style=\"padding-left: 1em; padding-right: 1em; text-align: center; vertical-align: top\">1</td>\n",
       "    </tr>\n",
       "    <tr>\n",
       "        <td style=\"padding-left: 1em; padding-right: 1em; text-align: center; vertical-align: top\">A1EQZH1RGLW6T3</td>\n",
       "        <td style=\"padding-left: 1em; padding-right: 1em; text-align: center; vertical-align: top\">B0059XTU1S</td>\n",
       "        <td style=\"padding-left: 1em; padding-right: 1em; text-align: center; vertical-align: top\">0.00701835155487</td>\n",
       "        <td style=\"padding-left: 1em; padding-right: 1em; text-align: center; vertical-align: top\">2</td>\n",
       "    </tr>\n",
       "    <tr>\n",
       "        <td style=\"padding-left: 1em; padding-right: 1em; text-align: center; vertical-align: top\">A1EQZH1RGLW6T3</td>\n",
       "        <td style=\"padding-left: 1em; padding-right: 1em; text-align: center; vertical-align: top\">B008JFUO36</td>\n",
       "        <td style=\"padding-left: 1em; padding-right: 1em; text-align: center; vertical-align: top\">0.00666397094727</td>\n",
       "        <td style=\"padding-left: 1em; padding-right: 1em; text-align: center; vertical-align: top\">3</td>\n",
       "    </tr>\n",
       "    <tr>\n",
       "        <td style=\"padding-left: 1em; padding-right: 1em; text-align: center; vertical-align: top\">A1EQZH1RGLW6T3</td>\n",
       "        <td style=\"padding-left: 1em; padding-right: 1em; text-align: center; vertical-align: top\">B004NSUXHU</td>\n",
       "        <td style=\"padding-left: 1em; padding-right: 1em; text-align: center; vertical-align: top\">0.00649637937546</td>\n",
       "        <td style=\"padding-left: 1em; padding-right: 1em; text-align: center; vertical-align: top\">4</td>\n",
       "    </tr>\n",
       "    <tr>\n",
       "        <td style=\"padding-left: 1em; padding-right: 1em; text-align: center; vertical-align: top\">A1EQZH1RGLW6T3</td>\n",
       "        <td style=\"padding-left: 1em; padding-right: 1em; text-align: center; vertical-align: top\">B008JFUQZ2</td>\n",
       "        <td style=\"padding-left: 1em; padding-right: 1em; text-align: center; vertical-align: top\">0.00639806866646</td>\n",
       "        <td style=\"padding-left: 1em; padding-right: 1em; text-align: center; vertical-align: top\">5</td>\n",
       "    </tr>\n",
       "</table>\n",
       "[2160 rows x 4 columns]<br/>Note: Only the head of the SFrame is printed.<br/>You can use print_rows(num_rows=m, num_columns=n) to print more rows and columns.\n",
       "</div>"
      ],
      "text/plain": [
       "Columns:\n",
       "\tuser_id\tstr\n",
       "\titem_id\tstr\n",
       "\tscore\tfloat\n",
       "\trank\tint\n",
       "\n",
       "Rows: 2160\n",
       "\n",
       "Data:\n",
       "+----------------+------------+------------------+------+\n",
       "|    user_id     |  item_id   |      score       | rank |\n",
       "+----------------+------------+------------------+------+\n",
       "| A13AZVPEWEK1YC | B008JFUO72 | 0.00788052678108 |  1   |\n",
       "| A13AZVPEWEK1YC | B0059XTU1S | 0.00701835155487 |  2   |\n",
       "| A13AZVPEWEK1YC | B008JFUO36 | 0.00666397094727 |  3   |\n",
       "| A13AZVPEWEK1YC | B004NSUXHU | 0.00649637937546 |  4   |\n",
       "| A13AZVPEWEK1YC | B008JFUQZ2 | 0.00639806866646 |  5   |\n",
       "| A1EQZH1RGLW6T3 | B008JFUO72 | 0.00788052678108 |  1   |\n",
       "| A1EQZH1RGLW6T3 | B0059XTU1S | 0.00701835155487 |  2   |\n",
       "| A1EQZH1RGLW6T3 | B008JFUO36 | 0.00666397094727 |  3   |\n",
       "| A1EQZH1RGLW6T3 | B004NSUXHU | 0.00649637937546 |  4   |\n",
       "| A1EQZH1RGLW6T3 | B008JFUQZ2 | 0.00639806866646 |  5   |\n",
       "+----------------+------------+------------------+------+\n",
       "[2160 rows x 4 columns]\n",
       "Note: Only the head of the SFrame is printed.\n",
       "You can use print_rows(num_rows=m, num_columns=n) to print more rows and columns."
      ]
     },
     "execution_count": 11,
     "metadata": {},
     "output_type": "execute_result"
    }
   ],
   "source": [
    "item_model_cosine.recommend(users = validation_data['user_id'], k=5, random_seed=123)"
   ]
  },
  {
   "cell_type": "code",
   "execution_count": 12,
   "metadata": {},
   "outputs": [
    {
     "name": "stdout",
     "output_type": "stream",
     "text": [
      "\n",
      "Precision and recall summary statistics by cutoff\n",
      "+--------+------------------+------------------+\n",
      "| cutoff |  mean_precision  |   mean_recall    |\n",
      "+--------+------------------+------------------+\n",
      "|   1    |  0.010101010101  | 0.00673400673401 |\n",
      "|   2    |  0.010101010101  | 0.0120089786756  |\n",
      "|   3    | 0.0112233445567  | 0.0184624017957  |\n",
      "|   4    | 0.00925925925926 | 0.0218294051627  |\n",
      "|   5    | 0.00875420875421 | 0.0228058361392  |\n",
      "|   6    | 0.00785634118967 | 0.0261728395062  |\n",
      "|   7    | 0.00673400673401 | 0.0261728395062  |\n",
      "|   8    | 0.00589225589226 | 0.0261728395062  |\n",
      "|   9    | 0.00561167227834 | 0.0295398428732  |\n",
      "|   10   | 0.00538720538721 | 0.0329068462402  |\n",
      "+--------+------------------+------------------+\n",
      "[10 rows x 3 columns]\n",
      "\n",
      "('\\nOverall RMSE: ', 4.359219707623582)\n",
      "\n",
      "Per User RMSE (best)\n",
      "+----------------+-------+----------------+\n",
      "|    user_id     | count |      rmse      |\n",
      "+----------------+-------+----------------+\n",
      "| A2ZRBYUFC39V5K |   1   | 0.997215862274 |\n",
      "+----------------+-------+----------------+\n",
      "[1 rows x 3 columns]\n",
      "\n",
      "\n",
      "Per User RMSE (worst)\n",
      "+----------------+-------+------+\n",
      "|    user_id     | count | rmse |\n",
      "+----------------+-------+------+\n",
      "| A3TO9PAY0M6QH2 |   1   | 5.0  |\n",
      "+----------------+-------+------+\n",
      "[1 rows x 3 columns]\n",
      "\n",
      "\n",
      "Per Item RMSE (best)\n",
      "+------------+-------+----------------+\n",
      "|  item_id   | count |      rmse      |\n",
      "+------------+-------+----------------+\n",
      "| B0002PYSUQ |   1   | 0.995869353636 |\n",
      "+------------+-------+----------------+\n",
      "[1 rows x 3 columns]\n",
      "\n",
      "\n",
      "Per Item RMSE (worst)\n",
      "+------------+-------+------+\n",
      "|  item_id   | count | rmse |\n",
      "+------------+-------+------+\n",
      "| B00004ZEU5 |   1   | 5.0  |\n",
      "+------------+-------+------+\n",
      "[1 rows x 3 columns]\n",
      "\n"
     ]
    },
    {
     "data": {
      "text/plain": [
       "{'precision_recall_by_user': Columns:\n",
       " \tuser_id\tstr\n",
       " \tcutoff\tint\n",
       " \tprecision\tfloat\n",
       " \trecall\tfloat\n",
       " \tcount\tint\n",
       " \n",
       " Rows: 5346\n",
       " \n",
       " Data:\n",
       " +----------------+--------+-----------+--------+-------+\n",
       " |    user_id     | cutoff | precision | recall | count |\n",
       " +----------------+--------+-----------+--------+-------+\n",
       " | A10MM4TO3R2G5N |   1    |    0.0    |  0.0   |   1   |\n",
       " | A10MM4TO3R2G5N |   2    |    0.0    |  0.0   |   1   |\n",
       " | A10MM4TO3R2G5N |   3    |    0.0    |  0.0   |   1   |\n",
       " | A10MM4TO3R2G5N |   4    |    0.0    |  0.0   |   1   |\n",
       " | A10MM4TO3R2G5N |   5    |    0.0    |  0.0   |   1   |\n",
       " | A10MM4TO3R2G5N |   6    |    0.0    |  0.0   |   1   |\n",
       " | A10MM4TO3R2G5N |   7    |    0.0    |  0.0   |   1   |\n",
       " | A10MM4TO3R2G5N |   8    |    0.0    |  0.0   |   1   |\n",
       " | A10MM4TO3R2G5N |   9    |    0.0    |  0.0   |   1   |\n",
       " | A10MM4TO3R2G5N |   10   |    0.0    |  0.0   |   1   |\n",
       " +----------------+--------+-----------+--------+-------+\n",
       " [5346 rows x 5 columns]\n",
       " Note: Only the head of the SFrame is printed.\n",
       " You can use print_rows(num_rows=m, num_columns=n) to print more rows and columns.,\n",
       " 'precision_recall_overall': Columns:\n",
       " \tcutoff\tint\n",
       " \tprecision\tfloat\n",
       " \trecall\tfloat\n",
       " \n",
       " Rows: 18\n",
       " \n",
       " Data:\n",
       " +--------+------------------+------------------+\n",
       " | cutoff |    precision     |      recall      |\n",
       " +--------+------------------+------------------+\n",
       " |   1    |  0.010101010101  | 0.00673400673401 |\n",
       " |   2    |  0.010101010101  | 0.0120089786756  |\n",
       " |   3    | 0.0112233445567  | 0.0184624017957  |\n",
       " |   4    | 0.00925925925926 | 0.0218294051627  |\n",
       " |   5    | 0.00875420875421 | 0.0228058361392  |\n",
       " |   6    | 0.00785634118967 | 0.0261728395062  |\n",
       " |   7    | 0.00673400673401 | 0.0261728395062  |\n",
       " |   8    | 0.00589225589226 | 0.0261728395062  |\n",
       " |   9    | 0.00561167227834 | 0.0295398428732  |\n",
       " |   10   | 0.00538720538721 | 0.0329068462402  |\n",
       " +--------+------------------+------------------+\n",
       " [18 rows x 3 columns]\n",
       " Note: Only the head of the SFrame is printed.\n",
       " You can use print_rows(num_rows=m, num_columns=n) to print more rows and columns.,\n",
       " 'rmse_by_item': Columns:\n",
       " \titem_id\tstr\n",
       " \tcount\tint\n",
       " \trmse\tfloat\n",
       " \n",
       " Rows: 421\n",
       " \n",
       " Data:\n",
       " +------------+-------+---------------+\n",
       " |  item_id   | count |      rmse     |\n",
       " +------------+-------+---------------+\n",
       " | 6303109950 |   1   |      4.0      |\n",
       " | B00004RER0 |   1   |      2.0      |\n",
       " | B00004ZEU5 |   1   |      5.0      |\n",
       " | B001PTUN34 |   1   | 4.42151203752 |\n",
       " | 0800102371 |   1   |      5.0      |\n",
       " | B003WUXIYK |   1   |      5.0      |\n",
       " | 6305300887 |   1   |      5.0      |\n",
       " | B000W8MMO2 |   1   |      5.0      |\n",
       " | B00004WZZN |   1   |      4.0      |\n",
       " | B001BN4WLS |   1   |      4.0      |\n",
       " +------------+-------+---------------+\n",
       " [421 rows x 3 columns]\n",
       " Note: Only the head of the SFrame is printed.\n",
       " You can use print_rows(num_rows=m, num_columns=n) to print more rows and columns.,\n",
       " 'rmse_by_user': Columns:\n",
       " \tuser_id\tstr\n",
       " \tcount\tint\n",
       " \trmse\tfloat\n",
       " \n",
       " Rows: 297\n",
       " \n",
       " Data:\n",
       " +----------------+-------+----------------+\n",
       " |    user_id     | count |      rmse      |\n",
       " +----------------+-------+----------------+\n",
       " | AGPFD6R5S8A0K  |   1   | 4.99677909851  |\n",
       " | A15EXELIYYO95J |   1   |      2.0       |\n",
       " | A1XHNVXCR5BLVZ |   1   | 0.999678800106 |\n",
       " | A3W0V7MD843WF4 |   1   |  4.9991642046  |\n",
       " | A1TA4Z31MKMUGF |   1   | 2.98735363994  |\n",
       " | A3TO9PAY0M6QH2 |   1   |      5.0       |\n",
       " | ADX0F5JQ5DWH4  |   1   |      5.0       |\n",
       " | A3F8W7R5YJC7BV |   1   |      5.0       |\n",
       " | ALI7J6VZCA3UV  |   1   |      5.0       |\n",
       " |  ANDIVKI6DLNJ  |   1   |      1.0       |\n",
       " +----------------+-------+----------------+\n",
       " [297 rows x 3 columns]\n",
       " Note: Only the head of the SFrame is printed.\n",
       " You can use print_rows(num_rows=m, num_columns=n) to print more rows and columns.,\n",
       " 'rmse_overall': 4.359219707623582}"
      ]
     },
     "execution_count": 12,
     "metadata": {},
     "output_type": "execute_result"
    }
   ],
   "source": [
    "item_model_cosine.evaluate(validation_data, target='rating')"
   ]
  },
  {
   "cell_type": "markdown",
   "metadata": {},
   "source": [
    "#### create matrix factorization recommender"
   ]
  },
  {
   "cell_type": "code",
   "execution_count": 10,
   "metadata": {},
   "outputs": [
    {
     "data": {
      "text/html": [
       "<pre>Recsys training: model = factorization_recommender</pre>"
      ],
      "text/plain": [
       "Recsys training: model = factorization_recommender"
      ]
     },
     "metadata": {},
     "output_type": "display_data"
    },
    {
     "data": {
      "text/html": [
       "<pre>Preparing data set.</pre>"
      ],
      "text/plain": [
       "Preparing data set."
      ]
     },
     "metadata": {},
     "output_type": "display_data"
    },
    {
     "data": {
      "text/html": [
       "<pre>    Data has 4606615 observations with 2088467 users and 200936 items.</pre>"
      ],
      "text/plain": [
       "    Data has 4606615 observations with 2088467 users and 200936 items."
      ]
     },
     "metadata": {},
     "output_type": "display_data"
    },
    {
     "data": {
      "text/html": [
       "<pre>    Data prepared in: 8.94763s</pre>"
      ],
      "text/plain": [
       "    Data prepared in: 8.94763s"
      ]
     },
     "metadata": {},
     "output_type": "display_data"
    },
    {
     "data": {
      "text/html": [
       "<pre>Training factorization_recommender for recommendations.</pre>"
      ],
      "text/plain": [
       "Training factorization_recommender for recommendations."
      ]
     },
     "metadata": {},
     "output_type": "display_data"
    },
    {
     "data": {
      "text/html": [
       "<pre>+--------------------------------+--------------------------------------------------+----------+</pre>"
      ],
      "text/plain": [
       "+--------------------------------+--------------------------------------------------+----------+"
      ]
     },
     "metadata": {},
     "output_type": "display_data"
    },
    {
     "data": {
      "text/html": [
       "<pre>| Parameter                      | Description                                      | Value    |</pre>"
      ],
      "text/plain": [
       "| Parameter                      | Description                                      | Value    |"
      ]
     },
     "metadata": {},
     "output_type": "display_data"
    },
    {
     "data": {
      "text/html": [
       "<pre>+--------------------------------+--------------------------------------------------+----------+</pre>"
      ],
      "text/plain": [
       "+--------------------------------+--------------------------------------------------+----------+"
      ]
     },
     "metadata": {},
     "output_type": "display_data"
    },
    {
     "data": {
      "text/html": [
       "<pre>| num_factors                    | Factor Dimension                                 | 8        |</pre>"
      ],
      "text/plain": [
       "| num_factors                    | Factor Dimension                                 | 8        |"
      ]
     },
     "metadata": {},
     "output_type": "display_data"
    },
    {
     "data": {
      "text/html": [
       "<pre>| regularization                 | L2 Regularization on Factors                     | 1e-08    |</pre>"
      ],
      "text/plain": [
       "| regularization                 | L2 Regularization on Factors                     | 1e-08    |"
      ]
     },
     "metadata": {},
     "output_type": "display_data"
    },
    {
     "data": {
      "text/html": [
       "<pre>| solver                         | Solver used for training                         | sgd      |</pre>"
      ],
      "text/plain": [
       "| solver                         | Solver used for training                         | sgd      |"
      ]
     },
     "metadata": {},
     "output_type": "display_data"
    },
    {
     "data": {
      "text/html": [
       "<pre>| linear_regularization          | L2 Regularization on Linear Coefficients         | 1e-10    |</pre>"
      ],
      "text/plain": [
       "| linear_regularization          | L2 Regularization on Linear Coefficients         | 1e-10    |"
      ]
     },
     "metadata": {},
     "output_type": "display_data"
    },
    {
     "data": {
      "text/html": [
       "<pre>| max_iterations                 | Maximum Number of Iterations                     | 50       |</pre>"
      ],
      "text/plain": [
       "| max_iterations                 | Maximum Number of Iterations                     | 50       |"
      ]
     },
     "metadata": {},
     "output_type": "display_data"
    },
    {
     "data": {
      "text/html": [
       "<pre>+--------------------------------+--------------------------------------------------+----------+</pre>"
      ],
      "text/plain": [
       "+--------------------------------+--------------------------------------------------+----------+"
      ]
     },
     "metadata": {},
     "output_type": "display_data"
    },
    {
     "data": {
      "text/html": [
       "<pre>  Optimizing model using SGD; tuning step size.</pre>"
      ],
      "text/plain": [
       "  Optimizing model using SGD; tuning step size."
      ]
     },
     "metadata": {},
     "output_type": "display_data"
    },
    {
     "data": {
      "text/html": [
       "<pre>  Using 575826 / 4606615 points for tuning the step size.</pre>"
      ],
      "text/plain": [
       "  Using 575826 / 4606615 points for tuning the step size."
      ]
     },
     "metadata": {},
     "output_type": "display_data"
    },
    {
     "data": {
      "text/html": [
       "<pre>+---------+-------------------+------------------------------------------+</pre>"
      ],
      "text/plain": [
       "+---------+-------------------+------------------------------------------+"
      ]
     },
     "metadata": {},
     "output_type": "display_data"
    },
    {
     "data": {
      "text/html": [
       "<pre>| Attempt | Initial Step Size | Estimated Objective Value                |</pre>"
      ],
      "text/plain": [
       "| Attempt | Initial Step Size | Estimated Objective Value                |"
      ]
     },
     "metadata": {},
     "output_type": "display_data"
    },
    {
     "data": {
      "text/html": [
       "<pre>+---------+-------------------+------------------------------------------+</pre>"
      ],
      "text/plain": [
       "+---------+-------------------+------------------------------------------+"
      ]
     },
     "metadata": {},
     "output_type": "display_data"
    },
    {
     "data": {
      "text/html": [
       "<pre>| 0       | 25                | Not Viable                               |</pre>"
      ],
      "text/plain": [
       "| 0       | 25                | Not Viable                               |"
      ]
     },
     "metadata": {},
     "output_type": "display_data"
    },
    {
     "data": {
      "text/html": [
       "<pre>| 1       | 6.25              | Not Viable                               |</pre>"
      ],
      "text/plain": [
       "| 1       | 6.25              | Not Viable                               |"
      ]
     },
     "metadata": {},
     "output_type": "display_data"
    },
    {
     "data": {
      "text/html": [
       "<pre>| 2       | 1.5625            | Not Viable                               |</pre>"
      ],
      "text/plain": [
       "| 2       | 1.5625            | Not Viable                               |"
      ]
     },
     "metadata": {},
     "output_type": "display_data"
    },
    {
     "data": {
      "text/html": [
       "<pre>| 3       | 0.390625          | No Decrease (2.99656 >= 1.52334)         |</pre>"
      ],
      "text/plain": [
       "| 3       | 0.390625          | No Decrease (2.99656 >= 1.52334)         |"
      ]
     },
     "metadata": {},
     "output_type": "display_data"
    },
    {
     "data": {
      "text/html": [
       "<pre>| 4       | 0.0976562         | 0.442169                                 |</pre>"
      ],
      "text/plain": [
       "| 4       | 0.0976562         | 0.442169                                 |"
      ]
     },
     "metadata": {},
     "output_type": "display_data"
    },
    {
     "data": {
      "text/html": [
       "<pre>| 5       | 0.0488281         | 0.685828                                 |</pre>"
      ],
      "text/plain": [
       "| 5       | 0.0488281         | 0.685828                                 |"
      ]
     },
     "metadata": {},
     "output_type": "display_data"
    },
    {
     "data": {
      "text/html": [
       "<pre>| 6       | 0.0244141         | 0.904606                                 |</pre>"
      ],
      "text/plain": [
       "| 6       | 0.0244141         | 0.904606                                 |"
      ]
     },
     "metadata": {},
     "output_type": "display_data"
    },
    {
     "data": {
      "text/html": [
       "<pre>+---------+-------------------+------------------------------------------+</pre>"
      ],
      "text/plain": [
       "+---------+-------------------+------------------------------------------+"
      ]
     },
     "metadata": {},
     "output_type": "display_data"
    },
    {
     "data": {
      "text/html": [
       "<pre>| Final   | 0.0976562         | 0.442169                                 |</pre>"
      ],
      "text/plain": [
       "| Final   | 0.0976562         | 0.442169                                 |"
      ]
     },
     "metadata": {},
     "output_type": "display_data"
    },
    {
     "data": {
      "text/html": [
       "<pre>+---------+-------------------+------------------------------------------+</pre>"
      ],
      "text/plain": [
       "+---------+-------------------+------------------------------------------+"
      ]
     },
     "metadata": {},
     "output_type": "display_data"
    },
    {
     "data": {
      "text/html": [
       "<pre>Starting Optimization.</pre>"
      ],
      "text/plain": [
       "Starting Optimization."
      ]
     },
     "metadata": {},
     "output_type": "display_data"
    },
    {
     "data": {
      "text/html": [
       "<pre>+---------+--------------+-------------------+-----------------------+-------------+</pre>"
      ],
      "text/plain": [
       "+---------+--------------+-------------------+-----------------------+-------------+"
      ]
     },
     "metadata": {},
     "output_type": "display_data"
    },
    {
     "data": {
      "text/html": [
       "<pre>| Iter.   | Elapsed Time | Approx. Objective | Approx. Training RMSE | Step Size   |</pre>"
      ],
      "text/plain": [
       "| Iter.   | Elapsed Time | Approx. Objective | Approx. Training RMSE | Step Size   |"
      ]
     },
     "metadata": {},
     "output_type": "display_data"
    },
    {
     "data": {
      "text/html": [
       "<pre>+---------+--------------+-------------------+-----------------------+-------------+</pre>"
      ],
      "text/plain": [
       "+---------+--------------+-------------------+-----------------------+-------------+"
      ]
     },
     "metadata": {},
     "output_type": "display_data"
    },
    {
     "data": {
      "text/html": [
       "<pre>| Initial | 157us        | 1.52042           | 1.23305               |             |</pre>"
      ],
      "text/plain": [
       "| Initial | 157us        | 1.52042           | 1.23305               |             |"
      ]
     },
     "metadata": {},
     "output_type": "display_data"
    },
    {
     "data": {
      "text/html": [
       "<pre>+---------+--------------+-------------------+-----------------------+-------------+</pre>"
      ],
      "text/plain": [
       "+---------+--------------+-------------------+-----------------------+-------------+"
      ]
     },
     "metadata": {},
     "output_type": "display_data"
    },
    {
     "data": {
      "text/html": [
       "<pre>| 1       | 1.08s        | 1.32782           | 1.15127               | 0.0976562   |</pre>"
      ],
      "text/plain": [
       "| 1       | 1.08s        | 1.32782           | 1.15127               | 0.0976562   |"
      ]
     },
     "metadata": {},
     "output_type": "display_data"
    },
    {
     "data": {
      "text/html": [
       "<pre>| 2       | 2.21s        | 0.906481          | 0.951037              | 0.0580668   |</pre>"
      ],
      "text/plain": [
       "| 2       | 2.21s        | 0.906481          | 0.951037              | 0.0580668   |"
      ]
     },
     "metadata": {},
     "output_type": "display_data"
    },
    {
     "data": {
      "text/html": [
       "<pre>| 3       | 3.59s        | 0.651804          | 0.806091              | 0.042841    |</pre>"
      ],
      "text/plain": [
       "| 3       | 3.59s        | 0.651804          | 0.806091              | 0.042841    |"
      ]
     },
     "metadata": {},
     "output_type": "display_data"
    },
    {
     "data": {
      "text/html": [
       "<pre>| 4       | 5.33s        | 0.485448          | 0.695096              | 0.0345267   |</pre>"
      ],
      "text/plain": [
       "| 4       | 5.33s        | 0.485448          | 0.695096              | 0.0345267   |"
      ]
     },
     "metadata": {},
     "output_type": "display_data"
    },
    {
     "data": {
      "text/html": [
       "<pre>| 5       | 6.77s        | 0.385394          | 0.618666              | 0.029206    |</pre>"
      ],
      "text/plain": [
       "| 5       | 6.77s        | 0.385394          | 0.618666              | 0.029206    |"
      ]
     },
     "metadata": {},
     "output_type": "display_data"
    },
    {
     "data": {
      "text/html": [
       "<pre>| 6       | 7.70s        | 0.323738          | 0.566336              | 0.0254734   |</pre>"
      ],
      "text/plain": [
       "| 6       | 7.70s        | 0.323738          | 0.566336              | 0.0254734   |"
      ]
     },
     "metadata": {},
     "output_type": "display_data"
    },
    {
     "data": {
      "text/html": [
       "<pre>| 7       | 8.66s        | 0.282046          | 0.527945              | 0.0226922   |</pre>"
      ],
      "text/plain": [
       "| 7       | 8.66s        | 0.282046          | 0.527945              | 0.0226922   |"
      ]
     },
     "metadata": {},
     "output_type": "display_data"
    },
    {
     "data": {
      "text/html": [
       "<pre>| 8       | 9.65s        | 0.25199           | 0.498415              | 0.0205297   |</pre>"
      ],
      "text/plain": [
       "| 8       | 9.65s        | 0.25199           | 0.498415              | 0.0205297   |"
      ]
     },
     "metadata": {},
     "output_type": "display_data"
    },
    {
     "data": {
      "text/html": [
       "<pre>| 9       | 10.57s       | 0.229668          | 0.47525               | 0.018794    |</pre>"
      ],
      "text/plain": [
       "| 9       | 10.57s       | 0.229668          | 0.47525               | 0.018794    |"
      ]
     },
     "metadata": {},
     "output_type": "display_data"
    },
    {
     "data": {
      "text/html": [
       "<pre>| 10      | 11.63s       | 0.211983          | 0.456044              | 0.017366    |</pre>"
      ],
      "text/plain": [
       "| 10      | 11.63s       | 0.211983          | 0.456044              | 0.017366    |"
      ]
     },
     "metadata": {},
     "output_type": "display_data"
    },
    {
     "data": {
      "text/html": [
       "<pre>| 11      | 12.62s       | 0.1982            | 0.440481              | 0.016168    |</pre>"
      ],
      "text/plain": [
       "| 11      | 12.62s       | 0.1982            | 0.440481              | 0.016168    |"
      ]
     },
     "metadata": {},
     "output_type": "display_data"
    },
    {
     "data": {
      "text/html": [
       "<pre>| 12      | 13.66s       | 0.186966          | 0.427354              | 0.0151466   |</pre>"
      ],
      "text/plain": [
       "| 12      | 13.66s       | 0.186966          | 0.427354              | 0.0151466   |"
      ]
     },
     "metadata": {},
     "output_type": "display_data"
    },
    {
     "data": {
      "text/html": [
       "<pre>| 13      | 14.75s       | 0.177628          | 0.416124              | 0.014264    |</pre>"
      ],
      "text/plain": [
       "| 13      | 14.75s       | 0.177628          | 0.416124              | 0.014264    |"
      ]
     },
     "metadata": {},
     "output_type": "display_data"
    },
    {
     "data": {
      "text/html": [
       "<pre>| 14      | 15.75s       | 0.16991           | 0.406597              | 0.0134929   |</pre>"
      ],
      "text/plain": [
       "| 14      | 15.75s       | 0.16991           | 0.406597              | 0.0134929   |"
      ]
     },
     "metadata": {},
     "output_type": "display_data"
    },
    {
     "data": {
      "text/html": [
       "<pre>| 15      | 16.83s       | 0.163331          | 0.398282              | 0.0128124   |</pre>"
      ],
      "text/plain": [
       "| 15      | 16.83s       | 0.163331          | 0.398282              | 0.0128124   |"
      ]
     },
     "metadata": {},
     "output_type": "display_data"
    },
    {
     "data": {
      "text/html": [
       "<pre>| 16      | 17.86s       | 0.157596          | 0.390887              | 0.012207    |</pre>"
      ],
      "text/plain": [
       "| 16      | 17.86s       | 0.157596          | 0.390887              | 0.012207    |"
      ]
     },
     "metadata": {},
     "output_type": "display_data"
    },
    {
     "data": {
      "text/html": [
       "<pre>| 17      | 18.83s       | 0.152592          | 0.384312              | 0.0116644   |</pre>"
      ],
      "text/plain": [
       "| 17      | 18.83s       | 0.152592          | 0.384312              | 0.0116644   |"
      ]
     },
     "metadata": {},
     "output_type": "display_data"
    },
    {
     "data": {
      "text/html": [
       "<pre>| 18      | 19.76s       | 0.148389          | 0.378693              | 0.011175    |</pre>"
      ],
      "text/plain": [
       "| 18      | 19.76s       | 0.148389          | 0.378693              | 0.011175    |"
      ]
     },
     "metadata": {},
     "output_type": "display_data"
    },
    {
     "data": {
      "text/html": [
       "<pre>| 19      | 20.67s       | 0.144476          | 0.373383              | 0.0107309   |</pre>"
      ],
      "text/plain": [
       "| 19      | 20.67s       | 0.144476          | 0.373383              | 0.0107309   |"
      ]
     },
     "metadata": {},
     "output_type": "display_data"
    },
    {
     "data": {
      "text/html": [
       "<pre>| 20      | 21.62s       | 0.1411            | 0.368734              | 0.0103259   |</pre>"
      ],
      "text/plain": [
       "| 20      | 21.62s       | 0.1411            | 0.368734              | 0.0103259   |"
      ]
     },
     "metadata": {},
     "output_type": "display_data"
    },
    {
     "data": {
      "text/html": [
       "<pre>| 21      | 22.50s       | 0.137946          | 0.36434               | 0.00995487  |</pre>"
      ],
      "text/plain": [
       "| 21      | 22.50s       | 0.137946          | 0.36434               | 0.00995487  |"
      ]
     },
     "metadata": {},
     "output_type": "display_data"
    },
    {
     "data": {
      "text/html": [
       "<pre>| 22      | 23.40s       | 0.135345          | 0.360662              | 0.00961353  |</pre>"
      ],
      "text/plain": [
       "| 22      | 23.40s       | 0.135345          | 0.360662              | 0.00961353  |"
      ]
     },
     "metadata": {},
     "output_type": "display_data"
    },
    {
     "data": {
      "text/html": [
       "<pre>| 23      | 24.30s       | 0.132681          | 0.35687               | 0.00929831  |</pre>"
      ],
      "text/plain": [
       "| 23      | 24.30s       | 0.132681          | 0.35687               | 0.00929831  |"
      ]
     },
     "metadata": {},
     "output_type": "display_data"
    },
    {
     "data": {
      "text/html": [
       "<pre>| 24      | 25.22s       | 0.130545          | 0.353781              | 0.0090062   |</pre>"
      ],
      "text/plain": [
       "| 24      | 25.22s       | 0.130545          | 0.353781              | 0.0090062   |"
      ]
     },
     "metadata": {},
     "output_type": "display_data"
    },
    {
     "data": {
      "text/html": [
       "<pre>| 25      | 26.11s       | 0.128403          | 0.350665              | 0.00873464  |</pre>"
      ],
      "text/plain": [
       "| 25      | 26.11s       | 0.128403          | 0.350665              | 0.00873464  |"
      ]
     },
     "metadata": {},
     "output_type": "display_data"
    },
    {
     "data": {
      "text/html": [
       "<pre>| 26      | 27.00s       | 0.126507          | 0.34788               | 0.00848145  |</pre>"
      ],
      "text/plain": [
       "| 26      | 27.00s       | 0.126507          | 0.34788               | 0.00848145  |"
      ]
     },
     "metadata": {},
     "output_type": "display_data"
    },
    {
     "data": {
      "text/html": [
       "<pre>| 27      | 27.97s       | 0.124769          | 0.345305              | 0.00824474  |</pre>"
      ],
      "text/plain": [
       "| 27      | 27.97s       | 0.124769          | 0.345305              | 0.00824474  |"
      ]
     },
     "metadata": {},
     "output_type": "display_data"
    },
    {
     "data": {
      "text/html": [
       "<pre>| 28      | 28.88s       | 0.123062          | 0.342759              | 0.0080229   |</pre>"
      ],
      "text/plain": [
       "| 28      | 28.88s       | 0.123062          | 0.342759              | 0.0080229   |"
      ]
     },
     "metadata": {},
     "output_type": "display_data"
    },
    {
     "data": {
      "text/html": [
       "<pre>| 29      | 29.89s       | 0.121586          | 0.340535              | 0.00781451  |</pre>"
      ],
      "text/plain": [
       "| 29      | 29.89s       | 0.121586          | 0.340535              | 0.00781451  |"
      ]
     },
     "metadata": {},
     "output_type": "display_data"
    },
    {
     "data": {
      "text/html": [
       "<pre>| 30      | 30.91s       | 0.120199          | 0.338433              | 0.00761832  |</pre>"
      ],
      "text/plain": [
       "| 30      | 30.91s       | 0.120199          | 0.338433              | 0.00761832  |"
      ]
     },
     "metadata": {},
     "output_type": "display_data"
    },
    {
     "data": {
      "text/html": [
       "<pre>| 31      | 31.88s       | 0.118935          | 0.336502              | 0.00743325  |</pre>"
      ],
      "text/plain": [
       "| 31      | 31.88s       | 0.118935          | 0.336502              | 0.00743325  |"
      ]
     },
     "metadata": {},
     "output_type": "display_data"
    },
    {
     "data": {
      "text/html": [
       "<pre>| 32      | 32.86s       | 0.117738          | 0.334663              | 0.00725834  |</pre>"
      ],
      "text/plain": [
       "| 32      | 32.86s       | 0.117738          | 0.334663              | 0.00725834  |"
      ]
     },
     "metadata": {},
     "output_type": "display_data"
    },
    {
     "data": {
      "text/html": [
       "<pre>| 33      | 33.77s       | 0.116526          | 0.332796              | 0.00709275  |</pre>"
      ],
      "text/plain": [
       "| 33      | 33.77s       | 0.116526          | 0.332796              | 0.00709275  |"
      ]
     },
     "metadata": {},
     "output_type": "display_data"
    },
    {
     "data": {
      "text/html": [
       "<pre>| 34      | 34.66s       | 0.115483          | 0.331173              | 0.00693571  |</pre>"
      ],
      "text/plain": [
       "| 34      | 34.66s       | 0.115483          | 0.331173              | 0.00693571  |"
      ]
     },
     "metadata": {},
     "output_type": "display_data"
    },
    {
     "data": {
      "text/html": [
       "<pre>| 35      | 35.55s       | 0.11449           | 0.32962               | 0.00678655  |</pre>"
      ],
      "text/plain": [
       "| 35      | 35.55s       | 0.11449           | 0.32962               | 0.00678655  |"
      ]
     },
     "metadata": {},
     "output_type": "display_data"
    },
    {
     "data": {
      "text/html": [
       "<pre>| 36      | 36.44s       | 0.113475          | 0.32803               | 0.00664467  |</pre>"
      ],
      "text/plain": [
       "| 36      | 36.44s       | 0.113475          | 0.32803               | 0.00664467  |"
      ]
     },
     "metadata": {},
     "output_type": "display_data"
    },
    {
     "data": {
      "text/html": [
       "<pre>| 37      | 37.32s       | 0.112645          | 0.326716              | 0.00650952  |</pre>"
      ],
      "text/plain": [
       "| 37      | 37.32s       | 0.112645          | 0.326716              | 0.00650952  |"
      ]
     },
     "metadata": {},
     "output_type": "display_data"
    },
    {
     "data": {
      "text/html": [
       "<pre>| 38      | 38.21s       | 0.111774          | 0.325337              | 0.00638061  |</pre>"
      ],
      "text/plain": [
       "| 38      | 38.21s       | 0.111774          | 0.325337              | 0.00638061  |"
      ]
     },
     "metadata": {},
     "output_type": "display_data"
    },
    {
     "data": {
      "text/html": [
       "<pre>| 39      | 39.18s       | 0.110949          | 0.324024              | 0.00625751  |</pre>"
      ],
      "text/plain": [
       "| 39      | 39.18s       | 0.110949          | 0.324024              | 0.00625751  |"
      ]
     },
     "metadata": {},
     "output_type": "display_data"
    },
    {
     "data": {
      "text/html": [
       "<pre>| 40      | 40.33s       | 0.110213          | 0.322844              | 0.00613981  |</pre>"
      ],
      "text/plain": [
       "| 40      | 40.33s       | 0.110213          | 0.322844              | 0.00613981  |"
      ]
     },
     "metadata": {},
     "output_type": "display_data"
    },
    {
     "data": {
      "text/html": [
       "<pre>| 41      | 41.27s       | 0.109499          | 0.321696              | 0.00602715  |</pre>"
      ],
      "text/plain": [
       "| 41      | 41.27s       | 0.109499          | 0.321696              | 0.00602715  |"
      ]
     },
     "metadata": {},
     "output_type": "display_data"
    },
    {
     "data": {
      "text/html": [
       "<pre>| 42      | 42.16s       | 0.108797          | 0.320563              | 0.0059192   |</pre>"
      ],
      "text/plain": [
       "| 42      | 42.16s       | 0.108797          | 0.320563              | 0.0059192   |"
      ]
     },
     "metadata": {},
     "output_type": "display_data"
    },
    {
     "data": {
      "text/html": [
       "<pre>| 43      | 43.05s       | 0.108137          | 0.319495              | 0.00581566  |</pre>"
      ],
      "text/plain": [
       "| 43      | 43.05s       | 0.108137          | 0.319495              | 0.00581566  |"
      ]
     },
     "metadata": {},
     "output_type": "display_data"
    },
    {
     "data": {
      "text/html": [
       "<pre>| 44      | 43.93s       | 0.107534          | 0.318514              | 0.00571624  |</pre>"
      ],
      "text/plain": [
       "| 44      | 43.93s       | 0.107534          | 0.318514              | 0.00571624  |"
      ]
     },
     "metadata": {},
     "output_type": "display_data"
    },
    {
     "data": {
      "text/html": [
       "<pre>| 45      | 44.80s       | 0.106952          | 0.317562              | 0.0056207   |</pre>"
      ],
      "text/plain": [
       "| 45      | 44.80s       | 0.106952          | 0.317562              | 0.0056207   |"
      ]
     },
     "metadata": {},
     "output_type": "display_data"
    },
    {
     "data": {
      "text/html": [
       "<pre>| 46      | 45.70s       | 0.106352          | 0.31658               | 0.00552881  |</pre>"
      ],
      "text/plain": [
       "| 46      | 45.70s       | 0.106352          | 0.31658               | 0.00552881  |"
      ]
     },
     "metadata": {},
     "output_type": "display_data"
    },
    {
     "data": {
      "text/html": [
       "<pre>| 47      | 46.58s       | 0.105785          | 0.315651              | 0.00544035  |</pre>"
      ],
      "text/plain": [
       "| 47      | 46.58s       | 0.105785          | 0.315651              | 0.00544035  |"
      ]
     },
     "metadata": {},
     "output_type": "display_data"
    },
    {
     "data": {
      "text/html": [
       "<pre>| 48      | 47.46s       | 0.105272          | 0.314803              | 0.00535512  |</pre>"
      ],
      "text/plain": [
       "| 48      | 47.46s       | 0.105272          | 0.314803              | 0.00535512  |"
      ]
     },
     "metadata": {},
     "output_type": "display_data"
    },
    {
     "data": {
      "text/html": [
       "<pre>| 49      | 48.49s       | 0.104722          | 0.313896              | 0.00527294  |</pre>"
      ],
      "text/plain": [
       "| 49      | 48.49s       | 0.104722          | 0.313896              | 0.00527294  |"
      ]
     },
     "metadata": {},
     "output_type": "display_data"
    },
    {
     "data": {
      "text/html": [
       "<pre>| 50      | 49.58s       | 0.104255          | 0.31312               | 0.00519365  |</pre>"
      ],
      "text/plain": [
       "| 50      | 49.58s       | 0.104255          | 0.31312               | 0.00519365  |"
      ]
     },
     "metadata": {},
     "output_type": "display_data"
    },
    {
     "data": {
      "text/html": [
       "<pre>+---------+--------------+-------------------+-----------------------+-------------+</pre>"
      ],
      "text/plain": [
       "+---------+--------------+-------------------+-----------------------+-------------+"
      ]
     },
     "metadata": {},
     "output_type": "display_data"
    },
    {
     "data": {
      "text/html": [
       "<pre>Optimization Complete: Maximum number of passes through the data reached.</pre>"
      ],
      "text/plain": [
       "Optimization Complete: Maximum number of passes through the data reached."
      ]
     },
     "metadata": {},
     "output_type": "display_data"
    },
    {
     "data": {
      "text/html": [
       "<pre>Computing final objective value and training RMSE.</pre>"
      ],
      "text/plain": [
       "Computing final objective value and training RMSE."
      ]
     },
     "metadata": {},
     "output_type": "display_data"
    },
    {
     "data": {
      "text/html": [
       "<pre>       Final objective value: 0.0984401</pre>"
      ],
      "text/plain": [
       "       Final objective value: 0.0984401"
      ]
     },
     "metadata": {},
     "output_type": "display_data"
    },
    {
     "data": {
      "text/html": [
       "<pre>       Final training RMSE: 0.303693</pre>"
      ],
      "text/plain": [
       "       Final training RMSE: 0.303693"
      ]
     },
     "metadata": {},
     "output_type": "display_data"
    }
   ],
   "source": [
    "mat_factor_model = gl.recommender.factorization_recommender.create(training_data, 'user_id', 'item_id',\n",
    "                                                       target = 'rating')"
   ]
  },
  {
   "cell_type": "code",
   "execution_count": 11,
   "metadata": {},
   "outputs": [
    {
     "data": {
      "text/html": [
       "<div style=\"max-height:1000px;max-width:1500px;overflow:auto;\"><table frame=\"box\" rules=\"cols\">\n",
       "    <tr>\n",
       "        <th style=\"padding-left: 1em; padding-right: 1em; text-align: center\">user_id</th>\n",
       "        <th style=\"padding-left: 1em; padding-right: 1em; text-align: center\">item_id</th>\n",
       "        <th style=\"padding-left: 1em; padding-right: 1em; text-align: center\">score</th>\n",
       "        <th style=\"padding-left: 1em; padding-right: 1em; text-align: center\">rank</th>\n",
       "    </tr>\n",
       "    <tr>\n",
       "        <td style=\"padding-left: 1em; padding-right: 1em; text-align: center; vertical-align: top\">A13AZVPEWEK1YC</td>\n",
       "        <td style=\"padding-left: 1em; padding-right: 1em; text-align: center; vertical-align: top\">B000OIP1AM</td>\n",
       "        <td style=\"padding-left: 1em; padding-right: 1em; text-align: center; vertical-align: top\">6.70231311255</td>\n",
       "        <td style=\"padding-left: 1em; padding-right: 1em; text-align: center; vertical-align: top\">1</td>\n",
       "    </tr>\n",
       "    <tr>\n",
       "        <td style=\"padding-left: 1em; padding-right: 1em; text-align: center; vertical-align: top\">A13AZVPEWEK1YC</td>\n",
       "        <td style=\"padding-left: 1em; padding-right: 1em; text-align: center; vertical-align: top\">0756030870</td>\n",
       "        <td style=\"padding-left: 1em; padding-right: 1em; text-align: center; vertical-align: top\">6.69167702132</td>\n",
       "        <td style=\"padding-left: 1em; padding-right: 1em; text-align: center; vertical-align: top\">2</td>\n",
       "    </tr>\n",
       "    <tr>\n",
       "        <td style=\"padding-left: 1em; padding-right: 1em; text-align: center; vertical-align: top\">A13AZVPEWEK1YC</td>\n",
       "        <td style=\"padding-left: 1em; padding-right: 1em; text-align: center; vertical-align: top\">B002B2FGBS</td>\n",
       "        <td style=\"padding-left: 1em; padding-right: 1em; text-align: center; vertical-align: top\">6.69134299689</td>\n",
       "        <td style=\"padding-left: 1em; padding-right: 1em; text-align: center; vertical-align: top\">3</td>\n",
       "    </tr>\n",
       "    <tr>\n",
       "        <td style=\"padding-left: 1em; padding-right: 1em; text-align: center; vertical-align: top\">A13AZVPEWEK1YC</td>\n",
       "        <td style=\"padding-left: 1em; padding-right: 1em; text-align: center; vertical-align: top\">B000A2EL3K</td>\n",
       "        <td style=\"padding-left: 1em; padding-right: 1em; text-align: center; vertical-align: top\">6.64326016837</td>\n",
       "        <td style=\"padding-left: 1em; padding-right: 1em; text-align: center; vertical-align: top\">4</td>\n",
       "    </tr>\n",
       "    <tr>\n",
       "        <td style=\"padding-left: 1em; padding-right: 1em; text-align: center; vertical-align: top\">A13AZVPEWEK1YC</td>\n",
       "        <td style=\"padding-left: 1em; padding-right: 1em; text-align: center; vertical-align: top\">B000OIP454</td>\n",
       "        <td style=\"padding-left: 1em; padding-right: 1em; text-align: center; vertical-align: top\">6.6410097354</td>\n",
       "        <td style=\"padding-left: 1em; padding-right: 1em; text-align: center; vertical-align: top\">5</td>\n",
       "    </tr>\n",
       "    <tr>\n",
       "        <td style=\"padding-left: 1em; padding-right: 1em; text-align: center; vertical-align: top\">A1EQZH1RGLW6T3</td>\n",
       "        <td style=\"padding-left: 1em; padding-right: 1em; text-align: center; vertical-align: top\">B000OIP1AM</td>\n",
       "        <td style=\"padding-left: 1em; padding-right: 1em; text-align: center; vertical-align: top\">6.70231311255</td>\n",
       "        <td style=\"padding-left: 1em; padding-right: 1em; text-align: center; vertical-align: top\">1</td>\n",
       "    </tr>\n",
       "    <tr>\n",
       "        <td style=\"padding-left: 1em; padding-right: 1em; text-align: center; vertical-align: top\">A1EQZH1RGLW6T3</td>\n",
       "        <td style=\"padding-left: 1em; padding-right: 1em; text-align: center; vertical-align: top\">0756030870</td>\n",
       "        <td style=\"padding-left: 1em; padding-right: 1em; text-align: center; vertical-align: top\">6.69167702132</td>\n",
       "        <td style=\"padding-left: 1em; padding-right: 1em; text-align: center; vertical-align: top\">2</td>\n",
       "    </tr>\n",
       "    <tr>\n",
       "        <td style=\"padding-left: 1em; padding-right: 1em; text-align: center; vertical-align: top\">A1EQZH1RGLW6T3</td>\n",
       "        <td style=\"padding-left: 1em; padding-right: 1em; text-align: center; vertical-align: top\">B002B2FGBS</td>\n",
       "        <td style=\"padding-left: 1em; padding-right: 1em; text-align: center; vertical-align: top\">6.69134299689</td>\n",
       "        <td style=\"padding-left: 1em; padding-right: 1em; text-align: center; vertical-align: top\">3</td>\n",
       "    </tr>\n",
       "    <tr>\n",
       "        <td style=\"padding-left: 1em; padding-right: 1em; text-align: center; vertical-align: top\">A1EQZH1RGLW6T3</td>\n",
       "        <td style=\"padding-left: 1em; padding-right: 1em; text-align: center; vertical-align: top\">B000A2EL3K</td>\n",
       "        <td style=\"padding-left: 1em; padding-right: 1em; text-align: center; vertical-align: top\">6.64326016837</td>\n",
       "        <td style=\"padding-left: 1em; padding-right: 1em; text-align: center; vertical-align: top\">4</td>\n",
       "    </tr>\n",
       "    <tr>\n",
       "        <td style=\"padding-left: 1em; padding-right: 1em; text-align: center; vertical-align: top\">A1EQZH1RGLW6T3</td>\n",
       "        <td style=\"padding-left: 1em; padding-right: 1em; text-align: center; vertical-align: top\">B000OIP454</td>\n",
       "        <td style=\"padding-left: 1em; padding-right: 1em; text-align: center; vertical-align: top\">6.6410097354</td>\n",
       "        <td style=\"padding-left: 1em; padding-right: 1em; text-align: center; vertical-align: top\">5</td>\n",
       "    </tr>\n",
       "</table>\n",
       "[2160 rows x 4 columns]<br/>Note: Only the head of the SFrame is printed.<br/>You can use print_rows(num_rows=m, num_columns=n) to print more rows and columns.\n",
       "</div>"
      ],
      "text/plain": [
       "Columns:\n",
       "\tuser_id\tstr\n",
       "\titem_id\tstr\n",
       "\tscore\tfloat\n",
       "\trank\tint\n",
       "\n",
       "Rows: 2160\n",
       "\n",
       "Data:\n",
       "+----------------+------------+---------------+------+\n",
       "|    user_id     |  item_id   |     score     | rank |\n",
       "+----------------+------------+---------------+------+\n",
       "| A13AZVPEWEK1YC | B000OIP1AM | 6.70231311255 |  1   |\n",
       "| A13AZVPEWEK1YC | 0756030870 | 6.69167702132 |  2   |\n",
       "| A13AZVPEWEK1YC | B002B2FGBS | 6.69134299689 |  3   |\n",
       "| A13AZVPEWEK1YC | B000A2EL3K | 6.64326016837 |  4   |\n",
       "| A13AZVPEWEK1YC | B000OIP454 |  6.6410097354 |  5   |\n",
       "| A1EQZH1RGLW6T3 | B000OIP1AM | 6.70231311255 |  1   |\n",
       "| A1EQZH1RGLW6T3 | 0756030870 | 6.69167702132 |  2   |\n",
       "| A1EQZH1RGLW6T3 | B002B2FGBS | 6.69134299689 |  3   |\n",
       "| A1EQZH1RGLW6T3 | B000A2EL3K | 6.64326016837 |  4   |\n",
       "| A1EQZH1RGLW6T3 | B000OIP454 |  6.6410097354 |  5   |\n",
       "+----------------+------------+---------------+------+\n",
       "[2160 rows x 4 columns]\n",
       "Note: Only the head of the SFrame is printed.\n",
       "You can use print_rows(num_rows=m, num_columns=n) to print more rows and columns."
      ]
     },
     "execution_count": 11,
     "metadata": {},
     "output_type": "execute_result"
    }
   ],
   "source": [
    "mat_factor_model.recommend(users = validation_data['user_id'], k=5, random_seed=123)"
   ]
  },
  {
   "cell_type": "code",
   "execution_count": 12,
   "metadata": {},
   "outputs": [
    {
     "data": {
      "text/plain": [
       "{'rmse_by_item': Columns:\n",
       " \titem_id\tstr\n",
       " \tcount\tint\n",
       " \trmse\tfloat\n",
       " \n",
       " Rows: 421\n",
       " \n",
       " Data:\n",
       " +------------+-------+-----------------+\n",
       " |  item_id   | count |       rmse      |\n",
       " +------------+-------+-----------------+\n",
       " | 6303109950 |   1   |  0.930547314224 |\n",
       " | B00004RER0 |   1   |  2.75992518151  |\n",
       " | B00004ZEU5 |   1   |  0.416143638554 |\n",
       " | B001PTUN34 |   1   |  0.762971860828 |\n",
       " | 0800102371 |   1   |  0.528411430779 |\n",
       " | B003WUXIYK |   1   |  1.01280157036  |\n",
       " | 6305300887 |   1   | 0.0555091821527 |\n",
       " | B000W8MMO2 |   1   |  0.341998768511 |\n",
       " | B00004WZZN |   1   | 0.0539973401403 |\n",
       " | B001BN4WLS |   1   |  1.22300442821  |\n",
       " +------------+-------+-----------------+\n",
       " [421 rows x 3 columns]\n",
       " Note: Only the head of the SFrame is printed.\n",
       " You can use print_rows(num_rows=m, num_columns=n) to print more rows and columns.,\n",
       " 'rmse_by_user': Columns:\n",
       " \tuser_id\tstr\n",
       " \tcount\tint\n",
       " \trmse\tfloat\n",
       " \n",
       " Rows: 297\n",
       " \n",
       " Data:\n",
       " +----------------+-------+----------------+\n",
       " |    user_id     | count |      rmse      |\n",
       " +----------------+-------+----------------+\n",
       " | AGPFD6R5S8A0K  |   1   | 0.100356949034 |\n",
       " | A15EXELIYYO95J |   1   |  2.5619441145  |\n",
       " | A1XHNVXCR5BLVZ |   1   | 2.75665571028  |\n",
       " | A3W0V7MD843WF4 |   1   | 0.787794280338 |\n",
       " | A1TA4Z31MKMUGF |   1   | 0.038179588976 |\n",
       " | A3TO9PAY0M6QH2 |   1   | 0.881818672183 |\n",
       " | ADX0F5JQ5DWH4  |   1   | 0.846887019935 |\n",
       " | A3F8W7R5YJC7BV |   1   | 3.70948879189  |\n",
       " | ALI7J6VZCA3UV  |   1   | 0.297317577067 |\n",
       " |  ANDIVKI6DLNJ  |   1   | 3.80909495288  |\n",
       " +----------------+-------+----------------+\n",
       " [297 rows x 3 columns]\n",
       " Note: Only the head of the SFrame is printed.\n",
       " You can use print_rows(num_rows=m, num_columns=n) to print more rows and columns.,\n",
       " 'rmse_overall': 1.2117758880880507}"
      ]
     },
     "execution_count": 12,
     "metadata": {},
     "output_type": "execute_result"
    }
   ],
   "source": [
    "mat_factor_model.evaluate_rmse(validation_data, target='rating')"
   ]
  },
  {
   "cell_type": "markdown",
   "metadata": {},
   "source": [
    "#### factorization recommender to get the best parameters"
   ]
  },
  {
   "cell_type": "code",
   "execution_count": 15,
   "metadata": {
    "collapsed": true
   },
   "outputs": [],
   "source": [
    "sf2 = gl.SFrame({'user_id': data['userid'],\n",
    "                      'item_id': data['productid'],\n",
    "                      'rating': data['rating'],\n",
    "                      'time': data['timestamp']})"
   ]
  },
  {
   "cell_type": "code",
   "execution_count": 16,
   "metadata": {
    "collapsed": true
   },
   "outputs": [],
   "source": [
    "folds = gl.cross_validation.KFold(sf2, 5)"
   ]
  },
  {
   "cell_type": "code",
   "execution_count": 24,
   "metadata": {
    "collapsed": true
   },
   "outputs": [],
   "source": [
    "params1 = {'num_factors': 4, 'side_data_factorization': True, 'regularization': 1e-6,\n",
    "         'solver': 'sgd', 'sgd_step_size': 0.0001, 'target': 'rating'}"
   ]
  },
  {
   "cell_type": "code",
   "execution_count": 26,
   "metadata": {},
   "outputs": [
    {
     "name": "stderr",
     "output_type": "stream",
     "text": [
      "[INFO] graphlab.deploy.job: Validating job.\n",
      "[INFO] graphlab.deploy.map_job: Validation complete. Job: 'Cross-Validation-Apr-30-2018-18-50-23-844674-43131518' ready for execution\n",
      "[INFO] graphlab.deploy.map_job: Job: 'Cross-Validation-Apr-30-2018-18-50-23-844674-43131518' scheduled.\n",
      "[INFO] graphlab.deploy._job: Waiting for job to finish, this may take quite a while.\n",
      "[INFO] graphlab.deploy._job: You may CTRL-C to stop this command and it will not cancel your job.\n"
     ]
    },
    {
     "ename": "KeyboardInterrupt",
     "evalue": "",
     "output_type": "error",
     "traceback": [
      "\u001b[0;31m---------------------------------------------------------------------------\u001b[0m",
      "\u001b[0;31mKeyboardInterrupt\u001b[0m                         Traceback (most recent call last)",
      "\u001b[0;32m<ipython-input-26-03e9395be1f2>\u001b[0m in \u001b[0;36m<module>\u001b[0;34m()\u001b[0m\n\u001b[1;32m      1\u001b[0m \u001b[0mjob1\u001b[0m \u001b[0;34m=\u001b[0m \u001b[0mgl\u001b[0m\u001b[0;34m.\u001b[0m\u001b[0mcross_validation\u001b[0m\u001b[0;34m.\u001b[0m\u001b[0mcross_val_score\u001b[0m\u001b[0;34m(\u001b[0m\u001b[0mfolds\u001b[0m\u001b[0;34m,\u001b[0m \u001b[0mgl\u001b[0m\u001b[0;34m.\u001b[0m\u001b[0mrecommender\u001b[0m\u001b[0;34m.\u001b[0m\u001b[0mfactorization_recommender\u001b[0m\u001b[0;34m.\u001b[0m\u001b[0mcreate\u001b[0m\u001b[0;34m,\u001b[0m \u001b[0mparams1\u001b[0m\u001b[0;34m)\u001b[0m\u001b[0;34m\u001b[0m\u001b[0m\n\u001b[0;32m----> 2\u001b[0;31m \u001b[0;32mprint\u001b[0m\u001b[0;34m(\u001b[0m\u001b[0mjob1\u001b[0m\u001b[0;34m.\u001b[0m\u001b[0mget_results\u001b[0m\u001b[0;34m(\u001b[0m\u001b[0;34m)\u001b[0m\u001b[0;34m)\u001b[0m\u001b[0;34m\u001b[0m\u001b[0m\n\u001b[0m",
      "\u001b[0;32m/Users/ravitejachikkam/Anaconda/anaconda/envs/gl-env/lib/python2.7/site-packages/graphlab/deploy/_job.pyc\u001b[0m in \u001b[0;36mget_results\u001b[0;34m(self)\u001b[0m\n\u001b[1;32m    571\u001b[0m             \u001b[0;32mif\u001b[0m \u001b[0mis_map_job\u001b[0m\u001b[0;34m:\u001b[0m\u001b[0;34m\u001b[0m\u001b[0m\n\u001b[1;32m    572\u001b[0m                 \u001b[0m__LOGGER__\u001b[0m\u001b[0;34m.\u001b[0m\u001b[0minfo\u001b[0m\u001b[0;34m(\u001b[0m\u001b[0;34m\"To retrieve partial results from the map job while it is running, please use get_map_results()\"\u001b[0m\u001b[0;34m)\u001b[0m\u001b[0;34m\u001b[0m\u001b[0m\n\u001b[0;32m--> 573\u001b[0;31m             \u001b[0mself\u001b[0m\u001b[0;34m.\u001b[0m\u001b[0m_wait_for_job_finish\u001b[0m\u001b[0;34m(\u001b[0m\u001b[0;34m)\u001b[0m\u001b[0;34m\u001b[0m\u001b[0m\n\u001b[0m\u001b[1;32m    574\u001b[0m \u001b[0;34m\u001b[0m\u001b[0m\n\u001b[1;32m    575\u001b[0m         \u001b[0mstatus\u001b[0m \u001b[0;34m=\u001b[0m \u001b[0mself\u001b[0m\u001b[0;34m.\u001b[0m\u001b[0mget_status\u001b[0m\u001b[0;34m(\u001b[0m\u001b[0m_silent\u001b[0m\u001b[0;34m=\u001b[0m\u001b[0mTrue\u001b[0m\u001b[0;34m)\u001b[0m\u001b[0;34m\u001b[0m\u001b[0m\n",
      "\u001b[0;32m/Users/ravitejachikkam/Anaconda/anaconda/envs/gl-env/lib/python2.7/site-packages/graphlab/deploy/_job.pyc\u001b[0m in \u001b[0;36m_wait_for_job_finish\u001b[0;34m(self)\u001b[0m\n\u001b[1;32m    699\u001b[0m         '''\n\u001b[1;32m    700\u001b[0m         \u001b[0;32mwhile\u001b[0m \u001b[0;32mnot\u001b[0m \u001b[0mself\u001b[0m\u001b[0;34m.\u001b[0m\u001b[0m_job_finished\u001b[0m\u001b[0;34m(\u001b[0m\u001b[0;34m)\u001b[0m\u001b[0;34m:\u001b[0m\u001b[0;34m\u001b[0m\u001b[0m\n\u001b[0;32m--> 701\u001b[0;31m             \u001b[0m_time\u001b[0m\u001b[0;34m.\u001b[0m\u001b[0msleep\u001b[0m\u001b[0;34m(\u001b[0m\u001b[0;36m1\u001b[0m\u001b[0;34m)\u001b[0m\u001b[0;34m\u001b[0m\u001b[0m\n\u001b[0m\u001b[1;32m    702\u001b[0m \u001b[0;34m\u001b[0m\u001b[0m\n\u001b[1;32m    703\u001b[0m     \u001b[0;32mdef\u001b[0m \u001b[0mget_start_time\u001b[0m\u001b[0;34m(\u001b[0m\u001b[0mself\u001b[0m\u001b[0;34m)\u001b[0m\u001b[0;34m:\u001b[0m\u001b[0;34m\u001b[0m\u001b[0m\n",
      "\u001b[0;31mKeyboardInterrupt\u001b[0m: "
     ]
    }
   ],
   "source": [
    "job1 = gl.cross_validation.cross_val_score(folds, gl.recommender.factorization_recommender.create, params1)\n",
    "print(job1.get_results())"
   ]
  },
  {
   "cell_type": "code",
   "execution_count": 23,
   "metadata": {},
   "outputs": [
    {
     "data": {
      "text/plain": [
       "<bound method LocalAsynchronousJob.get_log_file_path of Info\n",
       "------\n",
       "Job                : Cross-Validation-Apr-30-2018-18-48-48-853809-30421841\n",
       "Function(s)        : _train_test_model-0-0, _train_test_model-0-1, _train_test_model-0-2 ... (total 6 functions).\n",
       "Status             : Completed\n",
       "\n",
       "Help\n",
       "------\n",
       "Visualize progress : self.show()\n",
       "Query status       : self.get_status()\n",
       "Get results        : self.get_results()\n",
       "\n",
       "Environment\n",
       "----------\n",
       "LocalAsync: [\"name\": async]\n",
       "\n",
       "Metrics\n",
       "-------\n",
       "Start time         : 2018-04-30 18:49:00\n",
       "End time           : 2018-04-30 18:49:02\n",
       "+-----------------------+-----------+---------------------+-----------------+\n",
       "|       task_name       |   status  |      start_time     |     run_time    |\n",
       "+-----------------------+-----------+---------------------+-----------------+\n",
       "| _train_test_model-0-0 |   Failed  | 2018-04-30 18:49:02 |       None      |\n",
       "| _train_test_model-0-1 |   Failed  | 2018-04-30 18:49:02 |       None      |\n",
       "| _train_test_model-0-2 |   Failed  | 2018-04-30 18:49:02 |       None      |\n",
       "| _train_test_model-0-3 |   Failed  | 2018-04-30 18:49:02 |       None      |\n",
       "| _train_test_model-0-4 |   Failed  | 2018-04-30 18:49:02 |       None      |\n",
       "|       _combiner       | Completed | 2018-04-30 18:49:02 | 0.0105309486389 |\n",
       "+-----------------------+-----------+---------------------+-----------------+\n",
       "+--------------+-------------------------------+-------------------------------+\n",
       "|  exception   |       exception_message       |      exception_traceback      |\n",
       "+--------------+-------------------------------+-------------------------------+\n",
       "| ToolkitError | Method factorization_recom... | Traceback (most recent cal... |\n",
       "| ToolkitError | Method factorization_recom... | Traceback (most recent cal... |\n",
       "| ToolkitError | Method factorization_recom... | Traceback (most recent cal... |\n",
       "| ToolkitError | Method factorization_recom... | Traceback (most recent cal... |\n",
       "| ToolkitError | Method factorization_recom... | Traceback (most recent cal... |\n",
       "|     None     |              None             |              None             |\n",
       "+--------------+-------------------------------+-------------------------------+\n",
       "[6 rows x 7 columns]\n",
       "\n",
       "\n",
       "Execution Information\n",
       "---------------------\n",
       "Execution Directory  : /Users/ravitejachikkam/.graphlab/artifacts/results/job-results-ecac48d2-4289-45d6-8015-d5497b35f145\n",
       "Log file             : /Users/ravitejachikkam/.graphlab/artifacts/results/job-results-ecac48d2-4289-45d6-8015-d5497b35f145/execution.log\n",
       ">"
      ]
     },
     "execution_count": 23,
     "metadata": {},
     "output_type": "execute_result"
    }
   ],
   "source": [
    "def gridsearch(num_factors, regularization, step_size):\n",
    "    for i in num_factors:\n",
    "        for j in regularization:\n",
    "            for k in step_size:\n",
    "                params = {'num_factors': i, 'side_data_factorization': True, 'regularization': j,\n",
    "                        'solver': 'sgd', 'sgd_step_size': k, 'target': 'rating'}\n",
    "                job = gl.cross_validation.cross_val_score(folds, gl.recommender.factorization_recommender.create, params)\n",
    "                print(job.get_results(), job.get_log_file_path())\n"
   ]
  },
  {
   "cell_type": "code",
   "execution_count": null,
   "metadata": {
    "collapsed": true
   },
   "outputs": [],
   "source": []
  }
 ],
 "metadata": {
  "kernelspec": {
   "display_name": "Python 3",
   "language": "python",
   "name": "python3"
  },
  "language_info": {
   "codemirror_mode": {
    "name": "ipython",
    "version": 3
   },
   "file_extension": ".py",
   "mimetype": "text/x-python",
   "name": "python",
   "nbconvert_exporter": "python",
   "pygments_lexer": "ipython3",
   "version": "3.6.1"
  }
 },
 "nbformat": 4,
 "nbformat_minor": 2
}
