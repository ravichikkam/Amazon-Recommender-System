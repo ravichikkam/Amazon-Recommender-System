{
 "cells": [
  {
   "cell_type": "code",
   "execution_count": 1,
   "metadata": {
    "collapsed": true
   },
   "outputs": [],
   "source": [
    "import graphlab as gl"
   ]
  },
  {
   "cell_type": "code",
   "execution_count": 10,
   "metadata": {},
   "outputs": [
    {
     "data": {
      "text/html": [
       "<pre>Unable to parse line \"review/text: This is only for Julie Strain fans. It's a collection of her photos -- about 80 pages worth with a nice section of paintings by Olivia.If you're looking for heavy literary content, this isn't the place to find it -- there's only about 2 pages ...\"</pre>"
      ],
      "text/plain": [
       "Unable to parse line \"review/text: This is only for Julie Strain fans. It's a collection of her photos -- about 80 pages worth with a nice section of paintings by Olivia.If you're looking for heavy literary content, this isn't the place to find it -- there's only about 2 pages ...\""
      ]
     },
     "metadata": {},
     "output_type": "display_data"
    },
    {
     "data": {
      "text/html": [
       "<pre>Unable to parse line \"review/text: Orwell's tale of a society where not only behaviour, but also thought is controlled, seems to grow ever more relevant as the years pass and new technologies of surveillance emerge. 1984's concept of `Big Brother' has passed into everyday use, ...\"</pre>"
      ],
      "text/plain": [
       "Unable to parse line \"review/text: Orwell's tale of a society where not only behaviour, but also thought is controlled, seems to grow ever more relevant as the years pass and new technologies of surveillance emerge. 1984's concept of `Big Brother' has passed into everyday use, ...\""
      ]
     },
     "metadata": {},
     "output_type": "display_data"
    },
    {
     "data": {
      "text/html": [
       "<pre>Unable to parse line \"review/text: In my opinion, this is simply the best SF book ever written. Complex but well worth it. Read it twice for the full effect.\"</pre>"
      ],
      "text/plain": [
       "Unable to parse line \"review/text: In my opinion, this is simply the best SF book ever written. Complex but well worth it. Read it twice for the full effect.\""
      ]
     },
     "metadata": {},
     "output_type": "display_data"
    },
    {
     "data": {
      "text/html": [
       "<pre>Unable to parse line \"review/text: I don't care much for Dr. Seuss but after reading Philip Nel's book I changed my mind--that's a good testimonial to the power of Rel's writing and thinking. Rel plays Dr. Seuss the ultimate compliment of treating him as a serious poet as well ...\"</pre>"
      ],
      "text/plain": [
       "Unable to parse line \"review/text: I don't care much for Dr. Seuss but after reading Philip Nel's book I changed my mind--that's a good testimonial to the power of Rel's writing and thinking. Rel plays Dr. Seuss the ultimate compliment of treating him as a serious poet as well ...\""
      ]
     },
     "metadata": {},
     "output_type": "display_data"
    },
    {
     "data": {
      "text/html": [
       "<pre>Unable to parse line \"review/text: This is Roger Zelazny's masterpiece; a highly imaginative thing of beauty, Lord of Light tells its story at break-neck pace which will appease even the most easily bored reader. The language is fluid, often times poetic, and ultimately a feast...\"</pre>"
      ],
      "text/plain": [
       "Unable to parse line \"review/text: This is Roger Zelazny's masterpiece; a highly imaginative thing of beauty, Lord of Light tells its story at break-neck pace which will appease even the most easily bored reader. The language is fluid, often times poetic, and ultimately a feast...\""
      ]
     },
     "metadata": {},
     "output_type": "display_data"
    },
    {
     "data": {
      "text/html": [
       "<pre>Unable to parse line \"review/text: Written in 1948, George Orwell saw the trends in society that he felt would lead to an over-bearing government who traps the minds and lives of all of its citizens in the near future of 1984. Orwell switched 1948 to 1984, but his future societ...\"</pre>"
      ],
      "text/plain": [
       "Unable to parse line \"review/text: Written in 1948, George Orwell saw the trends in society that he felt would lead to an over-bearing government who traps the minds and lives of all of its citizens in the near future of 1984. Orwell switched 1948 to 1984, but his future societ...\""
      ]
     },
     "metadata": {},
     "output_type": "display_data"
    },
    {
     "data": {
      "text/html": [
       "<pre>Unable to parse line \"review/text: If people become the books they read and if \"the child is father to the man,\" then Dr. Seuss (Theodor Seuss Geisel) is the most influential author, poet, and artist of modern times. For me, a daddy to a large family who learned to read with Dr...\"</pre>"
      ],
      "text/plain": [
       "Unable to parse line \"review/text: If people become the books they read and if \"the child is father to the man,\" then Dr. Seuss (Theodor Seuss Geisel) is the most influential author, poet, and artist of modern times. For me, a daddy to a large family who learned to read with Dr...\""
      ]
     },
     "metadata": {},
     "output_type": "display_data"
    },
    {
     "data": {
      "text/html": [
       "<pre>Unable to parse line \"review/text: Not a single word or moment is wasted in this book. The characters are real and interesting, the setting fascinating, and the plot compelling. Nothing could improve this.\"</pre>"
      ],
      "text/plain": [
       "Unable to parse line \"review/text: Not a single word or moment is wasted in this book. The characters are real and interesting, the setting fascinating, and the plot compelling. Nothing could improve this.\""
      ]
     },
     "metadata": {},
     "output_type": "display_data"
    },
    {
     "data": {
      "text/html": [
       "<pre>Unable to parse line \"review/text: Many readers will love the way that Orwell is able to paint a vivid if bleak picture of the futre of London. In this masterpiece of dystopian literature, you will find yourself questioning everything that happens in the book. From the perceive...\"</pre>"
      ],
      "text/plain": [
       "Unable to parse line \"review/text: Many readers will love the way that Orwell is able to paint a vivid if bleak picture of the futre of London. In this masterpiece of dystopian literature, you will find yourself questioning everything that happens in the book. From the perceive...\""
      ]
     },
     "metadata": {},
     "output_type": "display_data"
    },
    {
     "data": {
      "text/html": [
       "<pre>Unable to parse line \"review/text: Theodore Seuss Geisel (1904-1991), aka &quot;Dr. Seuss,&quot; was one of the most influential writers and artists of the 20th century.In 1959, Rudolf Flesch wrote, &quot;A hundred years from now, children and their parents will still eagerly r...\"</pre>"
      ],
      "text/plain": [
       "Unable to parse line \"review/text: Theodore Seuss Geisel (1904-1991), aka &quot;Dr. Seuss,&quot; was one of the most influential writers and artists of the 20th century.In 1959, Rudolf Flesch wrote, &quot;A hundred years from now, children and their parents will still eagerly r...\""
      ]
     },
     "metadata": {},
     "output_type": "display_data"
    },
    {
     "data": {
      "text/html": [
       "<pre>Unable to parse line \"review/text: This book is not only one of the best Sci-Fi/ fantasy books, but a work which compares well with those considered contemporary classics. It is as if Terry Gilliam and Kurt Vonnegut got together to combine the story of Buddha and the rise of or...\"</pre>"
      ],
      "text/plain": [
       "Unable to parse line \"review/text: This book is not only one of the best Sci-Fi/ fantasy books, but a work which compares well with those considered contemporary classics. It is as if Terry Gilliam and Kurt Vonnegut got together to combine the story of Buddha and the rise of or...\""
      ]
     },
     "metadata": {},
     "output_type": "display_data"
    },
    {
     "data": {
      "text/html": [
       "<pre>Unable to parse line \"review/text: There is nothing that I can add to the cacaphony of praise and reverance for this book. I won't really try, other than to say that it seems to me that the story in 1984 is so compelling and the scenary and mood are so masterfully described tha...\"</pre>"
      ],
      "text/plain": [
       "Unable to parse line \"review/text: There is nothing that I can add to the cacaphony of praise and reverance for this book. I won't really try, other than to say that it seems to me that the story in 1984 is so compelling and the scenary and mood are so masterfully described tha...\""
      ]
     },
     "metadata": {},
     "output_type": "display_data"
    },
    {
     "data": {
      "text/html": [
       "<pre>48261 lines failed to parse correctly</pre>"
      ],
      "text/plain": [
       "48261 lines failed to parse correctly"
      ]
     },
     "metadata": {},
     "output_type": "display_data"
    },
    {
     "data": {
      "text/html": [
       "<pre>Finished parsing file /Users/ravitejachikkam/Books.txt.gz</pre>"
      ],
      "text/plain": [
       "Finished parsing file /Users/ravitejachikkam/Books.txt.gz"
      ]
     },
     "metadata": {},
     "output_type": "display_data"
    },
    {
     "data": {
      "text/html": [
       "<pre>Parsing completed. Parsed 100 lines in 1.55077 secs.</pre>"
      ],
      "text/plain": [
       "Parsing completed. Parsed 100 lines in 1.55077 secs."
      ]
     },
     "metadata": {},
     "output_type": "display_data"
    },
    {
     "name": "stdout",
     "output_type": "stream",
     "text": [
      "------------------------------------------------------\n",
      "Inferred types from first 100 line(s) of file as \n",
      "column_type_hints=[str]\n",
      "If parsing fails due to incorrect types, you can correct\n",
      "the inferred type list above and pass it to read_csv in\n",
      "the column_type_hints argument\n",
      "------------------------------------------------------\n"
     ]
    },
    {
     "data": {
      "text/html": [
       "<pre>Unable to parse line \"review/text: This is only for Julie Strain fans. It's a collection of her photos -- about 80 pages worth with a nice section of paintings by Olivia.If you're looking for heavy literary content, this isn't the place to find it -- there's only about 2 pages ...\"</pre>"
      ],
      "text/plain": [
       "Unable to parse line \"review/text: This is only for Julie Strain fans. It's a collection of her photos -- about 80 pages worth with a nice section of paintings by Olivia.If you're looking for heavy literary content, this isn't the place to find it -- there's only about 2 pages ...\""
      ]
     },
     "metadata": {},
     "output_type": "display_data"
    },
    {
     "data": {
      "text/html": [
       "<pre>Unable to parse line \"review/text: Orwell's tale of a society where not only behaviour, but also thought is controlled, seems to grow ever more relevant as the years pass and new technologies of surveillance emerge. 1984's concept of `Big Brother' has passed into everyday use, ...\"</pre>"
      ],
      "text/plain": [
       "Unable to parse line \"review/text: Orwell's tale of a society where not only behaviour, but also thought is controlled, seems to grow ever more relevant as the years pass and new technologies of surveillance emerge. 1984's concept of `Big Brother' has passed into everyday use, ...\""
      ]
     },
     "metadata": {},
     "output_type": "display_data"
    },
    {
     "data": {
      "text/html": [
       "<pre>Unable to parse line \"review/text: In my opinion, this is simply the best SF book ever written. Complex but well worth it. Read it twice for the full effect.\"</pre>"
      ],
      "text/plain": [
       "Unable to parse line \"review/text: In my opinion, this is simply the best SF book ever written. Complex but well worth it. Read it twice for the full effect.\""
      ]
     },
     "metadata": {},
     "output_type": "display_data"
    },
    {
     "data": {
      "text/html": [
       "<pre>Unable to parse line \"review/text: I don't care much for Dr. Seuss but after reading Philip Nel's book I changed my mind--that's a good testimonial to the power of Rel's writing and thinking. Rel plays Dr. Seuss the ultimate compliment of treating him as a serious poet as well ...\"</pre>"
      ],
      "text/plain": [
       "Unable to parse line \"review/text: I don't care much for Dr. Seuss but after reading Philip Nel's book I changed my mind--that's a good testimonial to the power of Rel's writing and thinking. Rel plays Dr. Seuss the ultimate compliment of treating him as a serious poet as well ...\""
      ]
     },
     "metadata": {},
     "output_type": "display_data"
    },
    {
     "data": {
      "text/html": [
       "<pre>Unable to parse line \"review/text: Written in 1948, George Orwell saw the trends in society that he felt would lead to an over-bearing government who traps the minds and lives of all of its citizens in the near future of 1984. Orwell switched 1948 to 1984, but his future societ...\"</pre>"
      ],
      "text/plain": [
       "Unable to parse line \"review/text: Written in 1948, George Orwell saw the trends in society that he felt would lead to an over-bearing government who traps the minds and lives of all of its citizens in the near future of 1984. Orwell switched 1948 to 1984, but his future societ...\""
      ]
     },
     "metadata": {},
     "output_type": "display_data"
    },
    {
     "data": {
      "text/html": [
       "<pre>Unable to parse line \"review/text: This is Roger Zelazny's masterpiece; a highly imaginative thing of beauty, Lord of Light tells its story at break-neck pace which will appease even the most easily bored reader. The language is fluid, often times poetic, and ultimately a feast...\"</pre>"
      ],
      "text/plain": [
       "Unable to parse line \"review/text: This is Roger Zelazny's masterpiece; a highly imaginative thing of beauty, Lord of Light tells its story at break-neck pace which will appease even the most easily bored reader. The language is fluid, often times poetic, and ultimately a feast...\""
      ]
     },
     "metadata": {},
     "output_type": "display_data"
    },
    {
     "data": {
      "text/html": [
       "<pre>Unable to parse line \"review/text: If people become the books they read and if \"the child is father to the man,\" then Dr. Seuss (Theodor Seuss Geisel) is the most influential author, poet, and artist of modern times. For me, a daddy to a large family who learned to read with Dr...\"</pre>"
      ],
      "text/plain": [
       "Unable to parse line \"review/text: If people become the books they read and if \"the child is father to the man,\" then Dr. Seuss (Theodor Seuss Geisel) is the most influential author, poet, and artist of modern times. For me, a daddy to a large family who learned to read with Dr...\""
      ]
     },
     "metadata": {},
     "output_type": "display_data"
    },
    {
     "data": {
      "text/html": [
       "<pre>Unable to parse line \"review/text: Many readers will love the way that Orwell is able to paint a vivid if bleak picture of the futre of London. In this masterpiece of dystopian literature, you will find yourself questioning everything that happens in the book. From the perceive...\"</pre>"
      ],
      "text/plain": [
       "Unable to parse line \"review/text: Many readers will love the way that Orwell is able to paint a vivid if bleak picture of the futre of London. In this masterpiece of dystopian literature, you will find yourself questioning everything that happens in the book. From the perceive...\""
      ]
     },
     "metadata": {},
     "output_type": "display_data"
    },
    {
     "data": {
      "text/html": [
       "<pre>Unable to parse line \"review/text: Not a single word or moment is wasted in this book. The characters are real and interesting, the setting fascinating, and the plot compelling. Nothing could improve this.\"</pre>"
      ],
      "text/plain": [
       "Unable to parse line \"review/text: Not a single word or moment is wasted in this book. The characters are real and interesting, the setting fascinating, and the plot compelling. Nothing could improve this.\""
      ]
     },
     "metadata": {},
     "output_type": "display_data"
    },
    {
     "data": {
      "text/html": [
       "<pre>Unable to parse line \"review/text: Theodore Seuss Geisel (1904-1991), aka &quot;Dr. Seuss,&quot; was one of the most influential writers and artists of the 20th century.In 1959, Rudolf Flesch wrote, &quot;A hundred years from now, children and their parents will still eagerly r...\"</pre>"
      ],
      "text/plain": [
       "Unable to parse line \"review/text: Theodore Seuss Geisel (1904-1991), aka &quot;Dr. Seuss,&quot; was one of the most influential writers and artists of the 20th century.In 1959, Rudolf Flesch wrote, &quot;A hundred years from now, children and their parents will still eagerly r...\""
      ]
     },
     "metadata": {},
     "output_type": "display_data"
    },
    {
     "data": {
      "text/html": [
       "<pre>Unable to parse line \"review/text: There is nothing that I can add to the cacaphony of praise and reverance for this book. I won't really try, other than to say that it seems to me that the story in 1984 is so compelling and the scenary and mood are so masterfully described tha...\"</pre>"
      ],
      "text/plain": [
       "Unable to parse line \"review/text: There is nothing that I can add to the cacaphony of praise and reverance for this book. I won't really try, other than to say that it seems to me that the story in 1984 is so compelling and the scenary and mood are so masterfully described tha...\""
      ]
     },
     "metadata": {},
     "output_type": "display_data"
    },
    {
     "data": {
      "text/html": [
       "<pre>48261 lines failed to parse correctly</pre>"
      ],
      "text/plain": [
       "48261 lines failed to parse correctly"
      ]
     },
     "metadata": {},
     "output_type": "display_data"
    },
    {
     "data": {
      "text/html": [
       "<pre>Finished parsing file /Users/ravitejachikkam/Books.txt.gz</pre>"
      ],
      "text/plain": [
       "Finished parsing file /Users/ravitejachikkam/Books.txt.gz"
      ]
     },
     "metadata": {},
     "output_type": "display_data"
    },
    {
     "data": {
      "text/html": [
       "<pre>Parsing completed. Parsed 100000 lines in 1.23666 secs.</pre>"
      ],
      "text/plain": [
       "Parsing completed. Parsed 100000 lines in 1.23666 secs."
      ]
     },
     "metadata": {},
     "output_type": "display_data"
    }
   ],
   "source": [
    "sf = gl.SFrame.read_csv(\"/Users/ravitejachikkam/Books.txt.gz\", \n",
    "                        nrows = 100000, header = False, quote_char = \"'\")"
   ]
  },
  {
   "cell_type": "code",
   "execution_count": 11,
   "metadata": {},
   "outputs": [
    {
     "data": {
      "text/plain": [
       "(100000, 1)"
      ]
     },
     "execution_count": 11,
     "metadata": {},
     "output_type": "execute_result"
    }
   ],
   "source": [
    "sf.shape"
   ]
  },
  {
   "cell_type": "code",
   "execution_count": 12,
   "metadata": {},
   "outputs": [
    {
     "data": {
      "text/plain": [
       "<bound method SFrame.tail of Columns:\n",
       "\tX1\tstr\n",
       "\n",
       "Rows: 100000\n",
       "\n",
       "Data:\n",
       "+-------------------------------+\n",
       "|               X1              |\n",
       "+-------------------------------+\n",
       "| product/productId: 1882931173 |\n",
       "| product/title: Its Only Ar... |\n",
       "|     product/price: unknown    |\n",
       "|  review/userId: AVCGYZL8FQQTD |\n",
       "| review/profileName: Jim of... |\n",
       "|    review/helpfulness: 7/7    |\n",
       "|       review/score: 4.0       |\n",
       "|     review/time: 940636800    |\n",
       "| review/summary: Nice colle... |\n",
       "| product/productId: 0826414346 |\n",
       "+-------------------------------+\n",
       "[100000 rows x 1 columns]\n",
       "Note: Only the head of the SFrame is printed.\n",
       "You can use print_rows(num_rows=m, num_columns=n) to print more rows and columns.>"
      ]
     },
     "execution_count": 12,
     "metadata": {},
     "output_type": "execute_result"
    }
   ],
   "source": [
    "sf.tail"
   ]
  },
  {
   "cell_type": "code",
   "execution_count": 6,
   "metadata": {},
   "outputs": [
    {
     "ename": "AttributeError",
     "evalue": "'SArray' object has no attribute 'value_counts'",
     "output_type": "error",
     "traceback": [
      "\u001b[0;31m---------------------------------------------------------------------------\u001b[0m",
      "\u001b[0;31mAttributeError\u001b[0m                            Traceback (most recent call last)",
      "\u001b[0;32m<ipython-input-6-c84aead68831>\u001b[0m in \u001b[0;36m<module>\u001b[0;34m()\u001b[0m\n\u001b[0;32m----> 1\u001b[0;31m \u001b[0msf\u001b[0m\u001b[0;34m[\u001b[0m\u001b[0;34m'X1'\u001b[0m\u001b[0;34m]\u001b[0m\u001b[0;34m.\u001b[0m\u001b[0mvalue_counts\u001b[0m\u001b[0;34m(\u001b[0m\u001b[0;34m)\u001b[0m\u001b[0;34m\u001b[0m\u001b[0m\n\u001b[0m",
      "\u001b[0;31mAttributeError\u001b[0m: 'SArray' object has no attribute 'value_counts'"
     ]
    }
   ],
   "source": []
  },
  {
   "cell_type": "code",
   "execution_count": null,
   "metadata": {
    "collapsed": true
   },
   "outputs": [],
   "source": []
  }
 ],
 "metadata": {
  "kernelspec": {
   "display_name": "Python [conda env:gl-env]",
   "language": "python",
   "name": "conda-env-gl-env-py"
  },
  "language_info": {
   "codemirror_mode": {
    "name": "ipython",
    "version": 2
   },
   "file_extension": ".py",
   "mimetype": "text/x-python",
   "name": "python",
   "nbconvert_exporter": "python",
   "pygments_lexer": "ipython2",
   "version": "2.7.11"
  }
 },
 "nbformat": 4,
 "nbformat_minor": 1
}
